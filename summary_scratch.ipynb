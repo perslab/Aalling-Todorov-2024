{
 "cells": [
  {
   "cell_type": "code",
   "execution_count": 1,
   "id": "1d4355b1",
   "metadata": {},
   "outputs": [
    {
     "name": "stderr",
     "output_type": "stream",
     "text": [
      "Attaching SeuratObject\n",
      "\n",
      "── \u001b[1mAttaching packages\u001b[22m ─────────────────────────────────────── tidyverse 1.3.2 ──\n",
      "\u001b[32m✔\u001b[39m \u001b[34mggplot2\u001b[39m 3.3.6      \u001b[32m✔\u001b[39m \u001b[34mpurrr  \u001b[39m 0.3.4 \n",
      "\u001b[32m✔\u001b[39m \u001b[34mtibble \u001b[39m 3.1.8      \u001b[32m✔\u001b[39m \u001b[34mdplyr  \u001b[39m 1.0.10\n",
      "\u001b[32m✔\u001b[39m \u001b[34mtidyr  \u001b[39m 1.2.1      \u001b[32m✔\u001b[39m \u001b[34mstringr\u001b[39m 1.4.1 \n",
      "\u001b[32m✔\u001b[39m \u001b[34mreadr  \u001b[39m 2.1.2      \u001b[32m✔\u001b[39m \u001b[34mforcats\u001b[39m 0.5.2 \n",
      "── \u001b[1mConflicts\u001b[22m ────────────────────────────────────────── tidyverse_conflicts() ──\n",
      "\u001b[31m✖\u001b[39m \u001b[34mdplyr\u001b[39m::\u001b[32mfilter()\u001b[39m masks \u001b[34mstats\u001b[39m::filter()\n",
      "\u001b[31m✖\u001b[39m \u001b[34mdplyr\u001b[39m::\u001b[32mlag()\u001b[39m    masks \u001b[34mstats\u001b[39m::lag()\n"
     ]
    }
   ],
   "source": [
    "library(Seurat)\n",
    "library(tidyverse)"
   ]
  },
  {
   "cell_type": "code",
   "execution_count": 3,
   "id": "b0cb87c0",
   "metadata": {},
   "outputs": [
    {
     "data": {
      "text/plain": [
       "An object of class Seurat \n",
       "59498 features across 144643 samples within 3 assays \n",
       "Active assay: SCT (27177 features, 3000 variable features)\n",
       " 2 other assays present: RNA, integrated\n",
       " 2 dimensional reductions calculated: pca, umap"
      ]
     },
     "metadata": {},
     "output_type": "display_data"
    }
   ],
   "source": [
    "obj = qs::qread('full_obj_sct.qs')\n",
    "obj"
   ]
  },
  {
   "cell_type": "code",
   "execution_count": 12,
   "id": "dd2c6229",
   "metadata": {},
   "outputs": [
    {
     "name": "stdout",
     "output_type": "stream",
     "text": [
      "\u001b[90m# A tibble: 6 × 2\u001b[39m\n",
      "  group                 n\n",
      "  \u001b[3m\u001b[90m<chr>\u001b[39m\u001b[23m             \u001b[3m\u001b[90m<int>\u001b[39m\u001b[23m\n",
      "\u001b[90m1\u001b[39m FGF1.obob.Day14       7\n",
      "\u001b[90m2\u001b[39m FGF1.obob.Day5        7\n",
      "\u001b[90m3\u001b[39m Veh_PF.BL6.Day14      4\n",
      "\u001b[90m4\u001b[39m Veh_PF.BL6.Day5       4\n",
      "\u001b[90m5\u001b[39m Veh_PF.obob.Day14     7\n",
      "\u001b[90m6\u001b[39m Veh_PF.obob.Day5      7\n"
     ]
    }
   ],
   "source": [
    "obj %>%\n",
    "`[[` %>%\n",
    "mutate(group = paste0(treatment, '.', strain, '.', time)) %>%\n",
    "select(hash.mcl.ID, group) %>%\n",
    "distinct %>%\n",
    "group_by(group) %>%\n",
    "summarise(n = n()) %>% print"
   ]
  },
  {
   "cell_type": "code",
   "execution_count": 14,
   "id": "2c326441",
   "metadata": {},
   "outputs": [
    {
     "data": {
      "text/html": [
       "<table class=\"dataframe\">\n",
       "<caption>A tibble: 6 × 13</caption>\n",
       "<thead>\n",
       "\t<tr><th scope=col>labels</th><th scope=col>n_total</th><th scope=col>n_fgf1</th><th scope=col>n_fgf1.pos</th><th scope=col>n_fgf1.neg</th><th scope=col>prop_fgf1.pos</th><th scope=col>n_BL6</th><th scope=col>n_restored</th><th scope=col>n_restored.pos</th><th scope=col>n_restored.neg</th><th scope=col>prop_restored_BL6</th><th scope=col>prop_restored_FGF1</th><th scope=col>comparison</th></tr>\n",
       "\t<tr><th scope=col>&lt;chr&gt;</th><th scope=col>&lt;int&gt;</th><th scope=col>&lt;int&gt;</th><th scope=col>&lt;int&gt;</th><th scope=col>&lt;int&gt;</th><th scope=col>&lt;dbl&gt;</th><th scope=col>&lt;int&gt;</th><th scope=col>&lt;int&gt;</th><th scope=col>&lt;int&gt;</th><th scope=col>&lt;int&gt;</th><th scope=col>&lt;dbl&gt;</th><th scope=col>&lt;dbl&gt;</th><th scope=col>&lt;chr&gt;</th></tr>\n",
       "</thead>\n",
       "<tbody>\n",
       "\t<tr><td>b1_Tanycytes</td><td>224</td><td>18</td><td>10</td><td> 8</td><td>0.5555556</td><td> 13</td><td>0</td><td>0</td><td>0</td><td>0.000000000</td><td>0.0</td><td>all.obob14v14__v__all.obob14vBL6</td></tr>\n",
       "\t<tr><td>NG2_OPC2    </td><td>106</td><td> 6</td><td> 4</td><td> 2</td><td>0.6666667</td><td> 44</td><td>0</td><td>0</td><td>0</td><td>0.000000000</td><td>0.0</td><td>all.obob14v14__v__all.obob14vBL6</td></tr>\n",
       "\t<tr><td>b2_Tany     </td><td> 80</td><td> 3</td><td> 3</td><td>NA</td><td>1.0000000</td><td>  1</td><td>0</td><td>0</td><td>0</td><td>0.000000000</td><td>0.0</td><td>all.obob14v14__v__all.obob14vBL6</td></tr>\n",
       "\t<tr><td>Microglia   </td><td> 51</td><td> 2</td><td> 1</td><td> 1</td><td>0.5000000</td><td>  6</td><td>1</td><td>0</td><td>1</td><td>0.166666667</td><td>0.5</td><td>all.obob14v14__v__all.obob14vBL6</td></tr>\n",
       "\t<tr><td>MOL         </td><td>210</td><td> 2</td><td> 2</td><td>NA</td><td>1.0000000</td><td>134</td><td>1</td><td>1</td><td>0</td><td>0.007462687</td><td>0.5</td><td>all.obob14v14__v__all.obob14vBL6</td></tr>\n",
       "\t<tr><td>Astrocytes  </td><td>636</td><td> 1</td><td>NA</td><td> 1</td><td>       NA</td><td>397</td><td>0</td><td>0</td><td>0</td><td>0.000000000</td><td>0.0</td><td>all.obob14v14__v__all.obob14vBL6</td></tr>\n",
       "</tbody>\n",
       "</table>\n"
      ],
      "text/latex": [
       "A tibble: 6 × 13\n",
       "\\begin{tabular}{lllllllllllll}\n",
       " labels & n\\_total & n\\_fgf1 & n\\_fgf1.pos & n\\_fgf1.neg & prop\\_fgf1.pos & n\\_BL6 & n\\_restored & n\\_restored.pos & n\\_restored.neg & prop\\_restored\\_BL6 & prop\\_restored\\_FGF1 & comparison\\\\\n",
       " <chr> & <int> & <int> & <int> & <int> & <dbl> & <int> & <int> & <int> & <int> & <dbl> & <dbl> & <chr>\\\\\n",
       "\\hline\n",
       "\t b1\\_Tanycytes & 224 & 18 & 10 &  8 & 0.5555556 &  13 & 0 & 0 & 0 & 0.000000000 & 0.0 & all.obob14v14\\_\\_v\\_\\_all.obob14vBL6\\\\\n",
       "\t NG2\\_OPC2     & 106 &  6 &  4 &  2 & 0.6666667 &  44 & 0 & 0 & 0 & 0.000000000 & 0.0 & all.obob14v14\\_\\_v\\_\\_all.obob14vBL6\\\\\n",
       "\t b2\\_Tany      &  80 &  3 &  3 & NA & 1.0000000 &   1 & 0 & 0 & 0 & 0.000000000 & 0.0 & all.obob14v14\\_\\_v\\_\\_all.obob14vBL6\\\\\n",
       "\t Microglia    &  51 &  2 &  1 &  1 & 0.5000000 &   6 & 1 & 0 & 1 & 0.166666667 & 0.5 & all.obob14v14\\_\\_v\\_\\_all.obob14vBL6\\\\\n",
       "\t MOL          & 210 &  2 &  2 & NA & 1.0000000 & 134 & 1 & 1 & 0 & 0.007462687 & 0.5 & all.obob14v14\\_\\_v\\_\\_all.obob14vBL6\\\\\n",
       "\t Astrocytes   & 636 &  1 & NA &  1 &        NA & 397 & 0 & 0 & 0 & 0.000000000 & 0.0 & all.obob14v14\\_\\_v\\_\\_all.obob14vBL6\\\\\n",
       "\\end{tabular}\n"
      ],
      "text/markdown": [
       "\n",
       "A tibble: 6 × 13\n",
       "\n",
       "| labels &lt;chr&gt; | n_total &lt;int&gt; | n_fgf1 &lt;int&gt; | n_fgf1.pos &lt;int&gt; | n_fgf1.neg &lt;int&gt; | prop_fgf1.pos &lt;dbl&gt; | n_BL6 &lt;int&gt; | n_restored &lt;int&gt; | n_restored.pos &lt;int&gt; | n_restored.neg &lt;int&gt; | prop_restored_BL6 &lt;dbl&gt; | prop_restored_FGF1 &lt;dbl&gt; | comparison &lt;chr&gt; |\n",
       "|---|---|---|---|---|---|---|---|---|---|---|---|---|\n",
       "| b1_Tanycytes | 224 | 18 | 10 |  8 | 0.5555556 |  13 | 0 | 0 | 0 | 0.000000000 | 0.0 | all.obob14v14__v__all.obob14vBL6 |\n",
       "| NG2_OPC2     | 106 |  6 |  4 |  2 | 0.6666667 |  44 | 0 | 0 | 0 | 0.000000000 | 0.0 | all.obob14v14__v__all.obob14vBL6 |\n",
       "| b2_Tany      |  80 |  3 |  3 | NA | 1.0000000 |   1 | 0 | 0 | 0 | 0.000000000 | 0.0 | all.obob14v14__v__all.obob14vBL6 |\n",
       "| Microglia    |  51 |  2 |  1 |  1 | 0.5000000 |   6 | 1 | 0 | 1 | 0.166666667 | 0.5 | all.obob14v14__v__all.obob14vBL6 |\n",
       "| MOL          | 210 |  2 |  2 | NA | 1.0000000 | 134 | 1 | 1 | 0 | 0.007462687 | 0.5 | all.obob14v14__v__all.obob14vBL6 |\n",
       "| Astrocytes   | 636 |  1 | NA |  1 |        NA | 397 | 0 | 0 | 0 | 0.000000000 | 0.0 | all.obob14v14__v__all.obob14vBL6 |\n",
       "\n"
      ],
      "text/plain": [
       "  labels       n_total n_fgf1 n_fgf1.pos n_fgf1.neg prop_fgf1.pos n_BL6\n",
       "1 b1_Tanycytes 224     18     10          8         0.5555556      13  \n",
       "2 NG2_OPC2     106      6      4          2         0.6666667      44  \n",
       "3 b2_Tany       80      3      3         NA         1.0000000       1  \n",
       "4 Microglia     51      2      1          1         0.5000000       6  \n",
       "5 MOL          210      2      2         NA         1.0000000     134  \n",
       "6 Astrocytes   636      1     NA          1                NA     397  \n",
       "  n_restored n_restored.pos n_restored.neg prop_restored_BL6 prop_restored_FGF1\n",
       "1 0          0              0              0.000000000       0.0               \n",
       "2 0          0              0              0.000000000       0.0               \n",
       "3 0          0              0              0.000000000       0.0               \n",
       "4 1          0              1              0.166666667       0.5               \n",
       "5 1          1              0              0.007462687       0.5               \n",
       "6 0          0              0              0.000000000       0.0               \n",
       "  comparison                      \n",
       "1 all.obob14v14__v__all.obob14vBL6\n",
       "2 all.obob14v14__v__all.obob14vBL6\n",
       "3 all.obob14v14__v__all.obob14vBL6\n",
       "4 all.obob14v14__v__all.obob14vBL6\n",
       "5 all.obob14v14__v__all.obob14vBL6\n",
       "6 all.obob14v14__v__all.obob14vBL6"
      ]
     },
     "metadata": {},
     "output_type": "display_data"
    }
   ],
   "source": [
    "all_restored_summary = qs::qread('01_milo/_targets/objects/all_restored_summary')\n",
    "all_restored_summary %>% head"
   ]
  },
  {
   "cell_type": "code",
   "execution_count": 15,
   "id": "90708088",
   "metadata": {},
   "outputs": [
    {
     "data": {
      "text/html": [
       "<table class=\"dataframe\">\n",
       "<caption>A tibble: 12 × 1</caption>\n",
       "<thead>\n",
       "\t<tr><th scope=col>comparison</th></tr>\n",
       "\t<tr><th scope=col>&lt;chr&gt;</th></tr>\n",
       "</thead>\n",
       "<tbody>\n",
       "\t<tr><td>all.obob14v14__v__all.obob14vBL6    </td></tr>\n",
       "\t<tr><td>all.obob14v14__v__all.obob5vBL6     </td></tr>\n",
       "\t<tr><td>all.obob14v14__v__all.obobBL6       </td></tr>\n",
       "\t<tr><td>all.obob14v14__v__all.obobBL6d14    </td></tr>\n",
       "\t<tr><td>all.obob14v14__v__all.obobBL6d5     </td></tr>\n",
       "\t<tr><td>all.obob5v5__v__all.obob14vBL6      </td></tr>\n",
       "\t<tr><td>all.obob5v5__v__all.obob5vBL6       </td></tr>\n",
       "\t<tr><td>all.obob5v5__v__all.obobBL6         </td></tr>\n",
       "\t<tr><td>all.obob5v5__v__all.obobBL6d14      </td></tr>\n",
       "\t<tr><td>all.obob5v5__v__all.obobBL6d5       </td></tr>\n",
       "\t<tr><td>Day14.obob14v14__v__Day14.obobBL6d14</td></tr>\n",
       "\t<tr><td>Day5.obob5v5__v__Day5.obobBL6d5     </td></tr>\n",
       "</tbody>\n",
       "</table>\n"
      ],
      "text/latex": [
       "A tibble: 12 × 1\n",
       "\\begin{tabular}{l}\n",
       " comparison\\\\\n",
       " <chr>\\\\\n",
       "\\hline\n",
       "\t all.obob14v14\\_\\_v\\_\\_all.obob14vBL6    \\\\\n",
       "\t all.obob14v14\\_\\_v\\_\\_all.obob5vBL6     \\\\\n",
       "\t all.obob14v14\\_\\_v\\_\\_all.obobBL6       \\\\\n",
       "\t all.obob14v14\\_\\_v\\_\\_all.obobBL6d14    \\\\\n",
       "\t all.obob14v14\\_\\_v\\_\\_all.obobBL6d5     \\\\\n",
       "\t all.obob5v5\\_\\_v\\_\\_all.obob14vBL6      \\\\\n",
       "\t all.obob5v5\\_\\_v\\_\\_all.obob5vBL6       \\\\\n",
       "\t all.obob5v5\\_\\_v\\_\\_all.obobBL6         \\\\\n",
       "\t all.obob5v5\\_\\_v\\_\\_all.obobBL6d14      \\\\\n",
       "\t all.obob5v5\\_\\_v\\_\\_all.obobBL6d5       \\\\\n",
       "\t Day14.obob14v14\\_\\_v\\_\\_Day14.obobBL6d14\\\\\n",
       "\t Day5.obob5v5\\_\\_v\\_\\_Day5.obobBL6d5     \\\\\n",
       "\\end{tabular}\n"
      ],
      "text/markdown": [
       "\n",
       "A tibble: 12 × 1\n",
       "\n",
       "| comparison &lt;chr&gt; |\n",
       "|---|\n",
       "| all.obob14v14__v__all.obob14vBL6     |\n",
       "| all.obob14v14__v__all.obob5vBL6      |\n",
       "| all.obob14v14__v__all.obobBL6        |\n",
       "| all.obob14v14__v__all.obobBL6d14     |\n",
       "| all.obob14v14__v__all.obobBL6d5      |\n",
       "| all.obob5v5__v__all.obob14vBL6       |\n",
       "| all.obob5v5__v__all.obob5vBL6        |\n",
       "| all.obob5v5__v__all.obobBL6          |\n",
       "| all.obob5v5__v__all.obobBL6d14       |\n",
       "| all.obob5v5__v__all.obobBL6d5        |\n",
       "| Day14.obob14v14__v__Day14.obobBL6d14 |\n",
       "| Day5.obob5v5__v__Day5.obobBL6d5      |\n",
       "\n"
      ],
      "text/plain": [
       "   comparison                          \n",
       "1  all.obob14v14__v__all.obob14vBL6    \n",
       "2  all.obob14v14__v__all.obob5vBL6     \n",
       "3  all.obob14v14__v__all.obobBL6       \n",
       "4  all.obob14v14__v__all.obobBL6d14    \n",
       "5  all.obob14v14__v__all.obobBL6d5     \n",
       "6  all.obob5v5__v__all.obob14vBL6      \n",
       "7  all.obob5v5__v__all.obob5vBL6       \n",
       "8  all.obob5v5__v__all.obobBL6         \n",
       "9  all.obob5v5__v__all.obobBL6d14      \n",
       "10 all.obob5v5__v__all.obobBL6d5       \n",
       "11 Day14.obob14v14__v__Day14.obobBL6d14\n",
       "12 Day5.obob5v5__v__Day5.obobBL6d5     "
      ]
     },
     "metadata": {},
     "output_type": "display_data"
    }
   ],
   "source": [
    "all_restored_summary %>%\n",
    "select(comparison) %>%\n",
    "distinct"
   ]
  },
  {
   "cell_type": "code",
   "execution_count": 26,
   "id": "1d4ab3a2",
   "metadata": {},
   "outputs": [
    {
     "name": "stdout",
     "output_type": "stream",
     "text": [
      "\u001b[90m# A tibble: 29 × 3\u001b[39m\n",
      "   labels                     n_total n_fgf1\n",
      "   \u001b[3m\u001b[90m<chr>\u001b[39m\u001b[23m                        \u001b[3m\u001b[90m<int>\u001b[39m\u001b[23m  \u001b[3m\u001b[90m<int>\u001b[39m\u001b[23m\n",
      "\u001b[90m 1\u001b[39m Astrocytes                     636    230\n",
      "\u001b[90m 2\u001b[39m Htr3b                          238     77\n",
      "\u001b[90m 3\u001b[39m MOL                            210     75\n",
      "\u001b[90m 4\u001b[39m b1_Tanycytes                   224     72\n",
      "\u001b[90m 5\u001b[39m a1_Tany__Astrocytes            251     56\n",
      "\u001b[90m 6\u001b[39m Trh_Lef1                       208     53\n",
      "\u001b[90m 7\u001b[39m NG2_OPC2                       106     48\n",
      "\u001b[90m 8\u001b[39m a2_Tanycytes                   178     47\n",
      "\u001b[90m 9\u001b[39m Agrp                           318     30\n",
      "\u001b[90m10\u001b[39m Sst_Unc13c__Agrp               208     24\n",
      "\u001b[90m11\u001b[39m Sst_Pthlh.sc23                 145     20\n",
      "\u001b[90m12\u001b[39m NFOL                            21     19\n",
      "\u001b[90m13\u001b[39m Microglia                       51     17\n",
      "\u001b[90m14\u001b[39m Pomc_Glipr1__Slc17a6_Trhr      233     13\n",
      "\u001b[90m15\u001b[39m Tmem215                        281     12\n",
      "\u001b[90m16\u001b[39m a2_Tanycytes__b1_Tanycytes     108     11\n",
      "\u001b[90m17\u001b[39m Ghrh                           139      8\n",
      "\u001b[90m18\u001b[39m Kisspeptin                     189      7\n",
      "\u001b[90m19\u001b[39m Rgs16_Dlx1                      95      7\n",
      "\u001b[90m20\u001b[39m Unassigned1.sc17.sc28          275      7\n",
      "\u001b[90m21\u001b[39m b2_Tany                         80      3\n",
      "\u001b[90m22\u001b[39m Rgs16_Nmu                      292      3\n",
      "\u001b[90m23\u001b[39m Slc17a6_Trhr                   177      2\n",
      "\u001b[90m24\u001b[39m Th_Slc6a3                       48      2\n",
      "\u001b[90m25\u001b[39m Epend                           38      1\n",
      "\u001b[90m26\u001b[39m Nr5a1_Bdnf                    \u001b[4m1\u001b[24m416      1\n",
      "\u001b[90m27\u001b[39m Nr5a1_Nfib                     218      1\n",
      "\u001b[90m28\u001b[39m Pomc_Lepr                      173      1\n",
      "\u001b[90m29\u001b[39m Tbx19                          198      1\n"
     ]
    }
   ],
   "source": [
    "all_restored_summary %>%\n",
    "filter(comparison == 'all.obob5v5__v__all.obobBL6') %>%\n",
    "select(labels, n_total, n_fgf1) %>%\n",
    "filter(n_fgf1 > 0) %>%\n",
    "print(n=50)"
   ]
  },
  {
   "cell_type": "code",
   "execution_count": 27,
   "id": "b2f6aac5",
   "metadata": {},
   "outputs": [
    {
     "name": "stdout",
     "output_type": "stream",
     "text": [
      "\u001b[90m# A tibble: 6 × 3\u001b[39m\n",
      "  labels       n_total n_fgf1\n",
      "  \u001b[3m\u001b[90m<chr>\u001b[39m\u001b[23m          \u001b[3m\u001b[90m<int>\u001b[39m\u001b[23m  \u001b[3m\u001b[90m<int>\u001b[39m\u001b[23m\n",
      "\u001b[90m1\u001b[39m b1_Tanycytes     224     18\n",
      "\u001b[90m2\u001b[39m NG2_OPC2         106      6\n",
      "\u001b[90m3\u001b[39m b2_Tany           80      3\n",
      "\u001b[90m4\u001b[39m Microglia         51      2\n",
      "\u001b[90m5\u001b[39m MOL              210      2\n",
      "\u001b[90m6\u001b[39m Astrocytes       636      1\n"
     ]
    }
   ],
   "source": [
    "all_restored_summary %>%\n",
    "filter(comparison == 'all.obob14v14__v__all.obobBL6') %>%\n",
    "select(labels, n_total, n_fgf1) %>%\n",
    "filter(n_fgf1 > 0) %>%\n",
    "print(n=50)"
   ]
  },
  {
   "cell_type": "code",
   "execution_count": 31,
   "id": "2877d2f3",
   "metadata": {},
   "outputs": [
    {
     "name": "stdout",
     "output_type": "stream",
     "text": [
      "\u001b[90m# A tibble: 21 × 4\u001b[39m\n",
      "   labels                     n_total n_restored    prop\n",
      "   \u001b[3m\u001b[90m<chr>\u001b[39m\u001b[23m                        \u001b[3m\u001b[90m<int>\u001b[39m\u001b[23m      \u001b[3m\u001b[90m<int>\u001b[39m\u001b[23m   \u001b[3m\u001b[90m<dbl>\u001b[39m\u001b[23m\n",
      "\u001b[90m 1\u001b[39m MOL                            210         62 0.295  \n",
      "\u001b[90m 2\u001b[39m Astrocytes                     636        157 0.247  \n",
      "\u001b[90m 3\u001b[39m NG2_OPC2                       106         24 0.226  \n",
      "\u001b[90m 4\u001b[39m NFOL                            21          3 0.143  \n",
      "\u001b[90m 5\u001b[39m a1_Tany__Astrocytes            251         29 0.116  \n",
      "\u001b[90m 6\u001b[39m Sst_Unc13c__Agrp               208         15 0.072\u001b[4m1\u001b[24m \n",
      "\u001b[90m 7\u001b[39m Htr3b                          238         17 0.071\u001b[4m4\u001b[24m \n",
      "\u001b[90m 8\u001b[39m Agrp                           318         22 0.069\u001b[4m2\u001b[24m \n",
      "\u001b[90m 9\u001b[39m Ghrh                           139          6 0.043\u001b[4m2\u001b[24m \n",
      "\u001b[90m10\u001b[39m Pomc_Glipr1__Slc17a6_Trhr      233         10 0.042\u001b[4m9\u001b[24m \n",
      "\u001b[90m11\u001b[39m Microglia                       51          2 0.039\u001b[4m2\u001b[24m \n",
      "\u001b[90m12\u001b[39m Kisspeptin                     189          7 0.037\u001b[4m0\u001b[24m \n",
      "\u001b[90m13\u001b[39m Tmem215                        281         10 0.035\u001b[4m6\u001b[24m \n",
      "\u001b[90m14\u001b[39m b1_Tanycytes                   224          7 0.031\u001b[4m2\u001b[24m \n",
      "\u001b[90m15\u001b[39m a2_Tanycytes                   178          5 0.028\u001b[4m1\u001b[24m \n",
      "\u001b[90m16\u001b[39m Rgs16_Dlx1                      95          2 0.021\u001b[4m1\u001b[24m \n",
      "\u001b[90m17\u001b[39m a2_Tanycytes__b1_Tanycytes     108          2 0.018\u001b[4m5\u001b[24m \n",
      "\u001b[90m18\u001b[39m Pomc_Lepr                      173          1 0.005\u001b[4m7\u001b[24m\u001b[4m8\u001b[24m\n",
      "\u001b[90m19\u001b[39m Tbx19                          198          1 0.005\u001b[4m0\u001b[24m\u001b[4m5\u001b[24m\n",
      "\u001b[90m20\u001b[39m Trh_Lef1                       208          1 0.004\u001b[4m8\u001b[24m\u001b[4m1\u001b[24m\n",
      "\u001b[90m21\u001b[39m Unassigned1.sc17.sc28          275          1 0.003\u001b[4m6\u001b[24m\u001b[4m4\u001b[24m\n"
     ]
    }
   ],
   "source": [
    "all_restored_summary %>%\n",
    "filter(comparison == 'all.obob5v5__v__all.obobBL6') %>%\n",
    "select(labels, n_total, n_restored) %>%\n",
    "filter(n_restored > 0) %>%\n",
    "mutate(prop = n_restored/n_total) %>%\n",
    "arrange(desc(prop)) %>%\n",
    "print(n=50)"
   ]
  },
  {
   "cell_type": "code",
   "execution_count": 29,
   "id": "2a053d25",
   "metadata": {},
   "outputs": [
    {
     "name": "stdout",
     "output_type": "stream",
     "text": [
      "\u001b[90m# A tibble: 3 × 3\u001b[39m\n",
      "  labels       n_total n_restored\n",
      "  \u001b[3m\u001b[90m<chr>\u001b[39m\u001b[23m          \u001b[3m\u001b[90m<int>\u001b[39m\u001b[23m      \u001b[3m\u001b[90m<int>\u001b[39m\u001b[23m\n",
      "\u001b[90m1\u001b[39m b1_Tanycytes     224          1\n",
      "\u001b[90m2\u001b[39m Microglia         51          1\n",
      "\u001b[90m3\u001b[39m MOL              210          1\n"
     ]
    }
   ],
   "source": [
    "all_restored_summary %>%\n",
    "filter(comparison == 'all.obob14v14__v__all.obobBL6') %>%\n",
    "select(labels, n_total, n_restored) %>%\n",
    "filter(n_restored > 0) %>%\n",
    "print(n=50)"
   ]
  },
  {
   "cell_type": "code",
   "execution_count": null,
   "id": "f82f9f8b",
   "metadata": {},
   "outputs": [],
   "source": []
  }
 ],
 "metadata": {
  "kernelspec": {
   "display_name": "R [conda env:fgf1]",
   "language": "R",
   "name": "conda-env-fgf1-r"
  },
  "language_info": {
   "codemirror_mode": "r",
   "file_extension": ".r",
   "mimetype": "text/x-r-source",
   "name": "R",
   "pygments_lexer": "r",
   "version": "4.1.3"
  }
 },
 "nbformat": 4,
 "nbformat_minor": 5
}
