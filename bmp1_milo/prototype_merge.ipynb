{
 "cells": [
  {
   "cell_type": "code",
   "execution_count": 33,
   "id": "b8e4f863",
   "metadata": {},
   "outputs": [],
   "source": [
    "library(tidyverse)\n",
    "library(targets)"
   ]
  },
  {
   "cell_type": "code",
   "execution_count": 84,
   "id": "f60ae5f1",
   "metadata": {},
   "outputs": [],
   "source": [
    "source(\"../00_preprocessing/splitwrapper.R\")\n",
    "source(paste0(\"../00_preprocessing/preprocessing.R\"))\n",
    "source(paste0(\"../01_milo/milo.R\"))\n",
    "source(paste0(\"../01_milo/milo_plotting.R\"))\n",
    "source(paste0(\"../00_bmp_preprocessing/bmp_preprocessing.R\"))"
   ]
  },
  {
   "cell_type": "code",
   "execution_count": 2,
   "id": "beec8982",
   "metadata": {},
   "outputs": [
    {
     "data": {
      "text/plain": [
       "An object of class Seurat \n",
       "52265 features across 8443 samples within 3 assays \n",
       "Active assay: SCT (24279 features, 3000 variable features)\n",
       " 2 other assays present: RNA, prediction.score.labels\n",
       " 5 dimensional reductions calculated: hto.tsne, pca, umap, ref.pca, ref.umap"
      ]
     },
     "metadata": {},
     "output_type": "display_data"
    }
   ],
   "source": [
    "bmp1_mp_fgf1 = qs::qread('../00_bmp_preprocessing/_targets/objects/bmp1_mp_fgf1')\n",
    "bmp1_mp_fgf1"
   ]
  },
  {
   "cell_type": "code",
   "execution_count": 7,
   "id": "538e6260",
   "metadata": {},
   "outputs": [
    {
     "data": {
      "text/html": [
       "<table class=\"dataframe\">\n",
       "<caption>A matrix: 6 × 50 of type dbl</caption>\n",
       "<thead>\n",
       "\t<tr><th></th><th scope=col>PC_1</th><th scope=col>PC_2</th><th scope=col>PC_3</th><th scope=col>PC_4</th><th scope=col>PC_5</th><th scope=col>PC_6</th><th scope=col>PC_7</th><th scope=col>PC_8</th><th scope=col>PC_9</th><th scope=col>PC_10</th><th scope=col>⋯</th><th scope=col>PC_41</th><th scope=col>PC_42</th><th scope=col>PC_43</th><th scope=col>PC_44</th><th scope=col>PC_45</th><th scope=col>PC_46</th><th scope=col>PC_47</th><th scope=col>PC_48</th><th scope=col>PC_49</th><th scope=col>PC_50</th></tr>\n",
       "</thead>\n",
       "<tbody>\n",
       "\t<tr><th scope=row>CATTCATTCTGTAACG</th><td>13.78899</td><td>103.02686</td><td>64.391000</td><td> -2.207854</td><td> -0.3748141</td><td> 1.969165</td><td>-1.68534276</td><td> -1.9665690</td><td>-1.8231640</td><td> 0.6207016</td><td>⋯</td><td>-3.08984690</td><td> 3.9649770</td><td> 1.7538999</td><td>-5.316001</td><td>-2.6433771</td><td> 1.32032823</td><td> 2.5387603</td><td>-1.2557925</td><td> 0.09456032</td><td> -5.852405</td></tr>\n",
       "\t<tr><th scope=row>TGTTGGACAACTGGTT</th><td>14.32088</td><td> 98.41071</td><td>63.093279</td><td>  1.597311</td><td> -1.3695866</td><td> 1.024478</td><td>-0.40515515</td><td>  0.9243693</td><td> 0.9662121</td><td>-0.8957020</td><td>⋯</td><td>-0.05048214</td><td> 2.2635341</td><td> 2.5423232</td><td>-2.183411</td><td>-0.5548699</td><td> 2.97073446</td><td> 4.0590145</td><td>-0.9710379</td><td> 1.34158829</td><td> -2.398269</td></tr>\n",
       "\t<tr><th scope=row>CAACCTCCACTGCATA</th><td>14.73741</td><td>108.10709</td><td>66.898351</td><td>  2.315120</td><td>  1.6449856</td><td> 5.012008</td><td>-0.58834631</td><td> -0.6274243</td><td> 0.9172770</td><td>-0.3740876</td><td>⋯</td><td>-1.41683229</td><td> 3.7780423</td><td> 4.8976889</td><td>-5.215332</td><td>-2.0039467</td><td> 0.01703142</td><td> 1.9356405</td><td>-1.9212137</td><td>-1.32612410</td><td> -4.103472</td></tr>\n",
       "\t<tr><th scope=row>GAAACCTAGAACTTCC</th><td>20.96693</td><td> -7.02041</td><td>-9.712709</td><td>-46.240008</td><td>-60.9552525</td><td>13.171881</td><td>-1.44151110</td><td>-25.5577808</td><td> 2.1639062</td><td>-4.7757504</td><td>⋯</td><td> 5.61768526</td><td> 2.5883198</td><td> 5.2946067</td><td> 1.695193</td><td>-3.3138839</td><td>-2.53768068</td><td> 7.2205788</td><td> 2.4601643</td><td> 0.28913388</td><td>  2.562607</td></tr>\n",
       "\t<tr><th scope=row>ACTATCTCACTCCGGA</th><td>14.16449</td><td>103.19789</td><td>65.602169</td><td>  1.009145</td><td> -0.2707533</td><td>-2.968023</td><td> 0.01690081</td><td>  0.9754214</td><td> 3.0757244</td><td> 0.2023836</td><td>⋯</td><td>-2.59638366</td><td>-0.3786972</td><td> 0.7104718</td><td> 2.144543</td><td>-0.6546529</td><td> 1.48624335</td><td>-0.5870869</td><td> 3.7492213</td><td>-4.57070854</td><td> -2.383301</td></tr>\n",
       "\t<tr><th scope=row>AGTTCCCGTCTTTATC</th><td>15.25739</td><td> 99.03596</td><td>62.505296</td><td>  1.283318</td><td> -0.1277576</td><td> 1.732780</td><td>-1.27699674</td><td>  1.1531936</td><td> 1.5223887</td><td> 1.1843612</td><td>⋯</td><td> 2.38271960</td><td>-1.6891703</td><td>-0.4205000</td><td>-2.268499</td><td>-4.8962295</td><td> 3.27023338</td><td>-4.9532511</td><td>-3.4496780</td><td>-1.88592649</td><td>-10.471198</td></tr>\n",
       "</tbody>\n",
       "</table>\n"
      ],
      "text/latex": [
       "A matrix: 6 × 50 of type dbl\n",
       "\\begin{tabular}{r|lllllllllllllllllllll}\n",
       "  & PC\\_1 & PC\\_2 & PC\\_3 & PC\\_4 & PC\\_5 & PC\\_6 & PC\\_7 & PC\\_8 & PC\\_9 & PC\\_10 & ⋯ & PC\\_41 & PC\\_42 & PC\\_43 & PC\\_44 & PC\\_45 & PC\\_46 & PC\\_47 & PC\\_48 & PC\\_49 & PC\\_50\\\\\n",
       "\\hline\n",
       "\tCATTCATTCTGTAACG & 13.78899 & 103.02686 & 64.391000 &  -2.207854 &  -0.3748141 &  1.969165 & -1.68534276 &  -1.9665690 & -1.8231640 &  0.6207016 & ⋯ & -3.08984690 &  3.9649770 &  1.7538999 & -5.316001 & -2.6433771 &  1.32032823 &  2.5387603 & -1.2557925 &  0.09456032 &  -5.852405\\\\\n",
       "\tTGTTGGACAACTGGTT & 14.32088 &  98.41071 & 63.093279 &   1.597311 &  -1.3695866 &  1.024478 & -0.40515515 &   0.9243693 &  0.9662121 & -0.8957020 & ⋯ & -0.05048214 &  2.2635341 &  2.5423232 & -2.183411 & -0.5548699 &  2.97073446 &  4.0590145 & -0.9710379 &  1.34158829 &  -2.398269\\\\\n",
       "\tCAACCTCCACTGCATA & 14.73741 & 108.10709 & 66.898351 &   2.315120 &   1.6449856 &  5.012008 & -0.58834631 &  -0.6274243 &  0.9172770 & -0.3740876 & ⋯ & -1.41683229 &  3.7780423 &  4.8976889 & -5.215332 & -2.0039467 &  0.01703142 &  1.9356405 & -1.9212137 & -1.32612410 &  -4.103472\\\\\n",
       "\tGAAACCTAGAACTTCC & 20.96693 &  -7.02041 & -9.712709 & -46.240008 & -60.9552525 & 13.171881 & -1.44151110 & -25.5577808 &  2.1639062 & -4.7757504 & ⋯ &  5.61768526 &  2.5883198 &  5.2946067 &  1.695193 & -3.3138839 & -2.53768068 &  7.2205788 &  2.4601643 &  0.28913388 &   2.562607\\\\\n",
       "\tACTATCTCACTCCGGA & 14.16449 & 103.19789 & 65.602169 &   1.009145 &  -0.2707533 & -2.968023 &  0.01690081 &   0.9754214 &  3.0757244 &  0.2023836 & ⋯ & -2.59638366 & -0.3786972 &  0.7104718 &  2.144543 & -0.6546529 &  1.48624335 & -0.5870869 &  3.7492213 & -4.57070854 &  -2.383301\\\\\n",
       "\tAGTTCCCGTCTTTATC & 15.25739 &  99.03596 & 62.505296 &   1.283318 &  -0.1277576 &  1.732780 & -1.27699674 &   1.1531936 &  1.5223887 &  1.1843612 & ⋯ &  2.38271960 & -1.6891703 & -0.4205000 & -2.268499 & -4.8962295 &  3.27023338 & -4.9532511 & -3.4496780 & -1.88592649 & -10.471198\\\\\n",
       "\\end{tabular}\n"
      ],
      "text/markdown": [
       "\n",
       "A matrix: 6 × 50 of type dbl\n",
       "\n",
       "| <!--/--> | PC_1 | PC_2 | PC_3 | PC_4 | PC_5 | PC_6 | PC_7 | PC_8 | PC_9 | PC_10 | ⋯ | PC_41 | PC_42 | PC_43 | PC_44 | PC_45 | PC_46 | PC_47 | PC_48 | PC_49 | PC_50 |\n",
       "|---|---|---|---|---|---|---|---|---|---|---|---|---|---|---|---|---|---|---|---|---|---|\n",
       "| CATTCATTCTGTAACG | 13.78899 | 103.02686 | 64.391000 |  -2.207854 |  -0.3748141 |  1.969165 | -1.68534276 |  -1.9665690 | -1.8231640 |  0.6207016 | ⋯ | -3.08984690 |  3.9649770 |  1.7538999 | -5.316001 | -2.6433771 |  1.32032823 |  2.5387603 | -1.2557925 |  0.09456032 |  -5.852405 |\n",
       "| TGTTGGACAACTGGTT | 14.32088 |  98.41071 | 63.093279 |   1.597311 |  -1.3695866 |  1.024478 | -0.40515515 |   0.9243693 |  0.9662121 | -0.8957020 | ⋯ | -0.05048214 |  2.2635341 |  2.5423232 | -2.183411 | -0.5548699 |  2.97073446 |  4.0590145 | -0.9710379 |  1.34158829 |  -2.398269 |\n",
       "| CAACCTCCACTGCATA | 14.73741 | 108.10709 | 66.898351 |   2.315120 |   1.6449856 |  5.012008 | -0.58834631 |  -0.6274243 |  0.9172770 | -0.3740876 | ⋯ | -1.41683229 |  3.7780423 |  4.8976889 | -5.215332 | -2.0039467 |  0.01703142 |  1.9356405 | -1.9212137 | -1.32612410 |  -4.103472 |\n",
       "| GAAACCTAGAACTTCC | 20.96693 |  -7.02041 | -9.712709 | -46.240008 | -60.9552525 | 13.171881 | -1.44151110 | -25.5577808 |  2.1639062 | -4.7757504 | ⋯ |  5.61768526 |  2.5883198 |  5.2946067 |  1.695193 | -3.3138839 | -2.53768068 |  7.2205788 |  2.4601643 |  0.28913388 |   2.562607 |\n",
       "| ACTATCTCACTCCGGA | 14.16449 | 103.19789 | 65.602169 |   1.009145 |  -0.2707533 | -2.968023 |  0.01690081 |   0.9754214 |  3.0757244 |  0.2023836 | ⋯ | -2.59638366 | -0.3786972 |  0.7104718 |  2.144543 | -0.6546529 |  1.48624335 | -0.5870869 |  3.7492213 | -4.57070854 |  -2.383301 |\n",
       "| AGTTCCCGTCTTTATC | 15.25739 |  99.03596 | 62.505296 |   1.283318 |  -0.1277576 |  1.732780 | -1.27699674 |   1.1531936 |  1.5223887 |  1.1843612 | ⋯ |  2.38271960 | -1.6891703 | -0.4205000 | -2.268499 | -4.8962295 |  3.27023338 | -4.9532511 | -3.4496780 | -1.88592649 | -10.471198 |\n",
       "\n"
      ],
      "text/plain": [
       "                 PC_1     PC_2      PC_3      PC_4       PC_5        PC_6     \n",
       "CATTCATTCTGTAACG 13.78899 103.02686 64.391000  -2.207854  -0.3748141  1.969165\n",
       "TGTTGGACAACTGGTT 14.32088  98.41071 63.093279   1.597311  -1.3695866  1.024478\n",
       "CAACCTCCACTGCATA 14.73741 108.10709 66.898351   2.315120   1.6449856  5.012008\n",
       "GAAACCTAGAACTTCC 20.96693  -7.02041 -9.712709 -46.240008 -60.9552525 13.171881\n",
       "ACTATCTCACTCCGGA 14.16449 103.19789 65.602169   1.009145  -0.2707533 -2.968023\n",
       "AGTTCCCGTCTTTATC 15.25739  99.03596 62.505296   1.283318  -0.1277576  1.732780\n",
       "                 PC_7        PC_8        PC_9       PC_10      ⋯ PC_41      \n",
       "CATTCATTCTGTAACG -1.68534276  -1.9665690 -1.8231640  0.6207016 ⋯ -3.08984690\n",
       "TGTTGGACAACTGGTT -0.40515515   0.9243693  0.9662121 -0.8957020 ⋯ -0.05048214\n",
       "CAACCTCCACTGCATA -0.58834631  -0.6274243  0.9172770 -0.3740876 ⋯ -1.41683229\n",
       "GAAACCTAGAACTTCC -1.44151110 -25.5577808  2.1639062 -4.7757504 ⋯  5.61768526\n",
       "ACTATCTCACTCCGGA  0.01690081   0.9754214  3.0757244  0.2023836 ⋯ -2.59638366\n",
       "AGTTCCCGTCTTTATC -1.27699674   1.1531936  1.5223887  1.1843612 ⋯  2.38271960\n",
       "                 PC_42      PC_43      PC_44     PC_45      PC_46      \n",
       "CATTCATTCTGTAACG  3.9649770  1.7538999 -5.316001 -2.6433771  1.32032823\n",
       "TGTTGGACAACTGGTT  2.2635341  2.5423232 -2.183411 -0.5548699  2.97073446\n",
       "CAACCTCCACTGCATA  3.7780423  4.8976889 -5.215332 -2.0039467  0.01703142\n",
       "GAAACCTAGAACTTCC  2.5883198  5.2946067  1.695193 -3.3138839 -2.53768068\n",
       "ACTATCTCACTCCGGA -0.3786972  0.7104718  2.144543 -0.6546529  1.48624335\n",
       "AGTTCCCGTCTTTATC -1.6891703 -0.4205000 -2.268499 -4.8962295  3.27023338\n",
       "                 PC_47      PC_48      PC_49       PC_50     \n",
       "CATTCATTCTGTAACG  2.5387603 -1.2557925  0.09456032  -5.852405\n",
       "TGTTGGACAACTGGTT  4.0590145 -0.9710379  1.34158829  -2.398269\n",
       "CAACCTCCACTGCATA  1.9356405 -1.9212137 -1.32612410  -4.103472\n",
       "GAAACCTAGAACTTCC  7.2205788  2.4601643  0.28913388   2.562607\n",
       "ACTATCTCACTCCGGA -0.5870869  3.7492213 -4.57070854  -2.383301\n",
       "AGTTCCCGTCTTTATC -4.9532511 -3.4496780 -1.88592649 -10.471198"
      ]
     },
     "metadata": {},
     "output_type": "display_data"
    }
   ],
   "source": [
    "bmp1_mp_fgf1[['pca']] %>% Embeddings %>% head"
   ]
  },
  {
   "cell_type": "code",
   "execution_count": 8,
   "id": "50e6e80b",
   "metadata": {},
   "outputs": [
    {
     "data": {
      "text/html": [
       "<table class=\"dataframe\">\n",
       "<caption>A matrix: 6 × 30 of type dbl</caption>\n",
       "<thead>\n",
       "\t<tr><th></th><th scope=col>refpca_1</th><th scope=col>refpca_2</th><th scope=col>refpca_3</th><th scope=col>refpca_4</th><th scope=col>refpca_5</th><th scope=col>refpca_6</th><th scope=col>refpca_7</th><th scope=col>refpca_8</th><th scope=col>refpca_9</th><th scope=col>refpca_10</th><th scope=col>⋯</th><th scope=col>refpca_21</th><th scope=col>refpca_22</th><th scope=col>refpca_23</th><th scope=col>refpca_24</th><th scope=col>refpca_25</th><th scope=col>refpca_26</th><th scope=col>refpca_27</th><th scope=col>refpca_28</th><th scope=col>refpca_29</th><th scope=col>refpca_30</th></tr>\n",
       "</thead>\n",
       "<tbody>\n",
       "\t<tr><th scope=row>CATTCATTCTGTAACG</th><td> 11.146006</td><td>102.80124</td><td> 3.789744</td><td> -8.161713</td><td>  0.5369831</td><td> 8.937819</td><td> 3.475544</td><td>-0.803884</td><td>-0.3241764</td><td> 2.050436</td><td>⋯</td><td> 1.4434281</td><td> 0.2635482</td><td> 3.0626390</td><td> 0.6574678</td><td> 1.1695019</td><td> 1.7980473</td><td>-0.8905660</td><td>-5.346840</td><td>-2.0373473</td><td>-2.5788478</td></tr>\n",
       "\t<tr><th scope=row>TGTTGGACAACTGGTT</th><td> 10.143254</td><td> 99.82575</td><td> 3.081327</td><td> -4.655394</td><td>  0.5504482</td><td> 9.731047</td><td> 0.392907</td><td>-1.331700</td><td>-3.4001669</td><td>-3.393647</td><td>⋯</td><td>-1.1186206</td><td>-1.9503713</td><td>-1.8989834</td><td>-0.8229129</td><td> 0.4649039</td><td> 1.8990193</td><td> 3.7362325</td><td>-1.617533</td><td>-0.6680390</td><td>-1.4756359</td></tr>\n",
       "\t<tr><th scope=row>CAACCTCCACTGCATA</th><td> 11.872051</td><td>106.22414</td><td> 4.422881</td><td> -5.399849</td><td>  1.9278407</td><td>13.374198</td><td> 3.807192</td><td> 3.406149</td><td>-2.6262767</td><td> 1.410812</td><td>⋯</td><td>-0.5739161</td><td>-2.0597080</td><td>-3.1149040</td><td>-0.6420105</td><td>-0.7033086</td><td> 4.6186171</td><td> 3.6748975</td><td>-3.544396</td><td> 3.8729063</td><td> 3.4092243</td></tr>\n",
       "\t<tr><th scope=row>GAAACCTAGAACTTCC</th><td>-18.664586</td><td>-13.29337</td><td>-1.268765</td><td>-46.114132</td><td>-69.3111452</td><td> 3.059865</td><td> 5.924595</td><td> 5.986885</td><td>18.9646687</td><td>15.182105</td><td>⋯</td><td>-9.0989277</td><td>-0.6974340</td><td> 0.2412050</td><td> 3.9781466</td><td>-2.7191122</td><td>-0.4735949</td><td> 8.4572671</td><td> 7.742500</td><td>-6.4269014</td><td> 2.5629793</td></tr>\n",
       "\t<tr><th scope=row>ACTATCTCACTCCGGA</th><td> 11.461046</td><td>102.61398</td><td> 2.778705</td><td> -5.904379</td><td>  2.6080980</td><td>17.927861</td><td> 3.346518</td><td>-4.967907</td><td>-0.9851319</td><td> 1.198642</td><td>⋯</td><td>-1.9217796</td><td>-1.0459883</td><td>-3.0917057</td><td> 0.3889336</td><td> 3.0399016</td><td> 2.8326612</td><td> 2.2528285</td><td>-3.199797</td><td> 0.3414275</td><td>-0.2759049</td></tr>\n",
       "\t<tr><th scope=row>AGTTCCCGTCTTTATC</th><td>  9.259105</td><td> 98.67197</td><td> 3.136475</td><td> -5.515905</td><td>  1.6945574</td><td>19.611559</td><td>-1.204251</td><td>-2.482607</td><td>-2.1412796</td><td>-2.365955</td><td>⋯</td><td> 2.2744802</td><td>-1.2700269</td><td> 0.8900672</td><td> 0.8889671</td><td> 1.3657591</td><td> 3.7615100</td><td>-0.1432239</td><td>-4.987964</td><td> 1.4919521</td><td>-4.2526432</td></tr>\n",
       "</tbody>\n",
       "</table>\n"
      ],
      "text/latex": [
       "A matrix: 6 × 30 of type dbl\n",
       "\\begin{tabular}{r|lllllllllllllllllllll}\n",
       "  & refpca\\_1 & refpca\\_2 & refpca\\_3 & refpca\\_4 & refpca\\_5 & refpca\\_6 & refpca\\_7 & refpca\\_8 & refpca\\_9 & refpca\\_10 & ⋯ & refpca\\_21 & refpca\\_22 & refpca\\_23 & refpca\\_24 & refpca\\_25 & refpca\\_26 & refpca\\_27 & refpca\\_28 & refpca\\_29 & refpca\\_30\\\\\n",
       "\\hline\n",
       "\tCATTCATTCTGTAACG &  11.146006 & 102.80124 &  3.789744 &  -8.161713 &   0.5369831 &  8.937819 &  3.475544 & -0.803884 & -0.3241764 &  2.050436 & ⋯ &  1.4434281 &  0.2635482 &  3.0626390 &  0.6574678 &  1.1695019 &  1.7980473 & -0.8905660 & -5.346840 & -2.0373473 & -2.5788478\\\\\n",
       "\tTGTTGGACAACTGGTT &  10.143254 &  99.82575 &  3.081327 &  -4.655394 &   0.5504482 &  9.731047 &  0.392907 & -1.331700 & -3.4001669 & -3.393647 & ⋯ & -1.1186206 & -1.9503713 & -1.8989834 & -0.8229129 &  0.4649039 &  1.8990193 &  3.7362325 & -1.617533 & -0.6680390 & -1.4756359\\\\\n",
       "\tCAACCTCCACTGCATA &  11.872051 & 106.22414 &  4.422881 &  -5.399849 &   1.9278407 & 13.374198 &  3.807192 &  3.406149 & -2.6262767 &  1.410812 & ⋯ & -0.5739161 & -2.0597080 & -3.1149040 & -0.6420105 & -0.7033086 &  4.6186171 &  3.6748975 & -3.544396 &  3.8729063 &  3.4092243\\\\\n",
       "\tGAAACCTAGAACTTCC & -18.664586 & -13.29337 & -1.268765 & -46.114132 & -69.3111452 &  3.059865 &  5.924595 &  5.986885 & 18.9646687 & 15.182105 & ⋯ & -9.0989277 & -0.6974340 &  0.2412050 &  3.9781466 & -2.7191122 & -0.4735949 &  8.4572671 &  7.742500 & -6.4269014 &  2.5629793\\\\\n",
       "\tACTATCTCACTCCGGA &  11.461046 & 102.61398 &  2.778705 &  -5.904379 &   2.6080980 & 17.927861 &  3.346518 & -4.967907 & -0.9851319 &  1.198642 & ⋯ & -1.9217796 & -1.0459883 & -3.0917057 &  0.3889336 &  3.0399016 &  2.8326612 &  2.2528285 & -3.199797 &  0.3414275 & -0.2759049\\\\\n",
       "\tAGTTCCCGTCTTTATC &   9.259105 &  98.67197 &  3.136475 &  -5.515905 &   1.6945574 & 19.611559 & -1.204251 & -2.482607 & -2.1412796 & -2.365955 & ⋯ &  2.2744802 & -1.2700269 &  0.8900672 &  0.8889671 &  1.3657591 &  3.7615100 & -0.1432239 & -4.987964 &  1.4919521 & -4.2526432\\\\\n",
       "\\end{tabular}\n"
      ],
      "text/markdown": [
       "\n",
       "A matrix: 6 × 30 of type dbl\n",
       "\n",
       "| <!--/--> | refpca_1 | refpca_2 | refpca_3 | refpca_4 | refpca_5 | refpca_6 | refpca_7 | refpca_8 | refpca_9 | refpca_10 | ⋯ | refpca_21 | refpca_22 | refpca_23 | refpca_24 | refpca_25 | refpca_26 | refpca_27 | refpca_28 | refpca_29 | refpca_30 |\n",
       "|---|---|---|---|---|---|---|---|---|---|---|---|---|---|---|---|---|---|---|---|---|---|\n",
       "| CATTCATTCTGTAACG |  11.146006 | 102.80124 |  3.789744 |  -8.161713 |   0.5369831 |  8.937819 |  3.475544 | -0.803884 | -0.3241764 |  2.050436 | ⋯ |  1.4434281 |  0.2635482 |  3.0626390 |  0.6574678 |  1.1695019 |  1.7980473 | -0.8905660 | -5.346840 | -2.0373473 | -2.5788478 |\n",
       "| TGTTGGACAACTGGTT |  10.143254 |  99.82575 |  3.081327 |  -4.655394 |   0.5504482 |  9.731047 |  0.392907 | -1.331700 | -3.4001669 | -3.393647 | ⋯ | -1.1186206 | -1.9503713 | -1.8989834 | -0.8229129 |  0.4649039 |  1.8990193 |  3.7362325 | -1.617533 | -0.6680390 | -1.4756359 |\n",
       "| CAACCTCCACTGCATA |  11.872051 | 106.22414 |  4.422881 |  -5.399849 |   1.9278407 | 13.374198 |  3.807192 |  3.406149 | -2.6262767 |  1.410812 | ⋯ | -0.5739161 | -2.0597080 | -3.1149040 | -0.6420105 | -0.7033086 |  4.6186171 |  3.6748975 | -3.544396 |  3.8729063 |  3.4092243 |\n",
       "| GAAACCTAGAACTTCC | -18.664586 | -13.29337 | -1.268765 | -46.114132 | -69.3111452 |  3.059865 |  5.924595 |  5.986885 | 18.9646687 | 15.182105 | ⋯ | -9.0989277 | -0.6974340 |  0.2412050 |  3.9781466 | -2.7191122 | -0.4735949 |  8.4572671 |  7.742500 | -6.4269014 |  2.5629793 |\n",
       "| ACTATCTCACTCCGGA |  11.461046 | 102.61398 |  2.778705 |  -5.904379 |   2.6080980 | 17.927861 |  3.346518 | -4.967907 | -0.9851319 |  1.198642 | ⋯ | -1.9217796 | -1.0459883 | -3.0917057 |  0.3889336 |  3.0399016 |  2.8326612 |  2.2528285 | -3.199797 |  0.3414275 | -0.2759049 |\n",
       "| AGTTCCCGTCTTTATC |   9.259105 |  98.67197 |  3.136475 |  -5.515905 |   1.6945574 | 19.611559 | -1.204251 | -2.482607 | -2.1412796 | -2.365955 | ⋯ |  2.2744802 | -1.2700269 |  0.8900672 |  0.8889671 |  1.3657591 |  3.7615100 | -0.1432239 | -4.987964 |  1.4919521 | -4.2526432 |\n",
       "\n"
      ],
      "text/plain": [
       "                 refpca_1   refpca_2  refpca_3  refpca_4   refpca_5   \n",
       "CATTCATTCTGTAACG  11.146006 102.80124  3.789744  -8.161713   0.5369831\n",
       "TGTTGGACAACTGGTT  10.143254  99.82575  3.081327  -4.655394   0.5504482\n",
       "CAACCTCCACTGCATA  11.872051 106.22414  4.422881  -5.399849   1.9278407\n",
       "GAAACCTAGAACTTCC -18.664586 -13.29337 -1.268765 -46.114132 -69.3111452\n",
       "ACTATCTCACTCCGGA  11.461046 102.61398  2.778705  -5.904379   2.6080980\n",
       "AGTTCCCGTCTTTATC   9.259105  98.67197  3.136475  -5.515905   1.6945574\n",
       "                 refpca_6  refpca_7  refpca_8  refpca_9   refpca_10 ⋯\n",
       "CATTCATTCTGTAACG  8.937819  3.475544 -0.803884 -0.3241764  2.050436 ⋯\n",
       "TGTTGGACAACTGGTT  9.731047  0.392907 -1.331700 -3.4001669 -3.393647 ⋯\n",
       "CAACCTCCACTGCATA 13.374198  3.807192  3.406149 -2.6262767  1.410812 ⋯\n",
       "GAAACCTAGAACTTCC  3.059865  5.924595  5.986885 18.9646687 15.182105 ⋯\n",
       "ACTATCTCACTCCGGA 17.927861  3.346518 -4.967907 -0.9851319  1.198642 ⋯\n",
       "AGTTCCCGTCTTTATC 19.611559 -1.204251 -2.482607 -2.1412796 -2.365955 ⋯\n",
       "                 refpca_21  refpca_22  refpca_23  refpca_24  refpca_25 \n",
       "CATTCATTCTGTAACG  1.4434281  0.2635482  3.0626390  0.6574678  1.1695019\n",
       "TGTTGGACAACTGGTT -1.1186206 -1.9503713 -1.8989834 -0.8229129  0.4649039\n",
       "CAACCTCCACTGCATA -0.5739161 -2.0597080 -3.1149040 -0.6420105 -0.7033086\n",
       "GAAACCTAGAACTTCC -9.0989277 -0.6974340  0.2412050  3.9781466 -2.7191122\n",
       "ACTATCTCACTCCGGA -1.9217796 -1.0459883 -3.0917057  0.3889336  3.0399016\n",
       "AGTTCCCGTCTTTATC  2.2744802 -1.2700269  0.8900672  0.8889671  1.3657591\n",
       "                 refpca_26  refpca_27  refpca_28 refpca_29  refpca_30 \n",
       "CATTCATTCTGTAACG  1.7980473 -0.8905660 -5.346840 -2.0373473 -2.5788478\n",
       "TGTTGGACAACTGGTT  1.8990193  3.7362325 -1.617533 -0.6680390 -1.4756359\n",
       "CAACCTCCACTGCATA  4.6186171  3.6748975 -3.544396  3.8729063  3.4092243\n",
       "GAAACCTAGAACTTCC -0.4735949  8.4572671  7.742500 -6.4269014  2.5629793\n",
       "ACTATCTCACTCCGGA  2.8326612  2.2528285 -3.199797  0.3414275 -0.2759049\n",
       "AGTTCCCGTCTTTATC  3.7615100 -0.1432239 -4.987964  1.4919521 -4.2526432"
      ]
     },
     "metadata": {},
     "output_type": "display_data"
    }
   ],
   "source": [
    "bmp1_mp_fgf1[['ref.pca']] %>% Embeddings %>% head"
   ]
  },
  {
   "cell_type": "code",
   "execution_count": 3,
   "id": "d748e8b7",
   "metadata": {},
   "outputs": [
    {
     "data": {
      "text/plain": [
       "An object of class Seurat \n",
       "56583 features across 37179 samples within 3 assays \n",
       "Active assay: SCT (24262 features, 3000 variable features)\n",
       " 2 other assays present: RNA, integrated\n",
       " 2 dimensional reductions calculated: pca, umap"
      ]
     },
     "metadata": {},
     "output_type": "display_data"
    }
   ],
   "source": [
    "exp_fgf1_other = qs::qread('../00_bmp_preprocessing/_targets/objects/exp_fgf1_other')\n",
    "exp_fgf1_other"
   ]
  },
  {
   "cell_type": "code",
   "execution_count": 9,
   "id": "e3a72b5d",
   "metadata": {},
   "outputs": [
    {
     "data": {
      "text/html": [
       "<table class=\"dataframe\">\n",
       "<caption>A matrix: 6 × 50 of type dbl</caption>\n",
       "<thead>\n",
       "\t<tr><th></th><th scope=col>PC_1</th><th scope=col>PC_2</th><th scope=col>PC_3</th><th scope=col>PC_4</th><th scope=col>PC_5</th><th scope=col>PC_6</th><th scope=col>PC_7</th><th scope=col>PC_8</th><th scope=col>PC_9</th><th scope=col>PC_10</th><th scope=col>⋯</th><th scope=col>PC_41</th><th scope=col>PC_42</th><th scope=col>PC_43</th><th scope=col>PC_44</th><th scope=col>PC_45</th><th scope=col>PC_46</th><th scope=col>PC_47</th><th scope=col>PC_48</th><th scope=col>PC_49</th><th scope=col>PC_50</th></tr>\n",
       "</thead>\n",
       "<tbody>\n",
       "\t<tr><th scope=row>CCTATCGAGCCATTCA_1_1</th><td> 9.554094</td><td>74.24599</td><td>-41.874244</td><td>-16.23005</td><td>18.032663</td><td>  51.82342</td><td>110.72343</td><td>23.530649</td><td>-21.799348</td><td>-4.922248</td><td>⋯</td><td> -7.847034</td><td>  5.783305</td><td>-2.894836</td><td> 4.661187</td><td>-14.5263503</td><td> -3.936182</td><td> 9.1318114</td><td>  4.515166</td><td>-13.873183</td><td>-7.677462</td></tr>\n",
       "\t<tr><th scope=row>GTCCTCAAGCGAGGAG_1_1</th><td>29.478461</td><td>75.30135</td><td> -3.949905</td><td>-12.03175</td><td> 3.242175</td><td> -54.77929</td><td> 87.95035</td><td>17.396256</td><td>-14.200827</td><td>-5.496860</td><td>⋯</td><td>  6.707548</td><td>-13.763505</td><td>-8.721917</td><td> 2.191133</td><td> -7.9736534</td><td>  4.583211</td><td> 0.6702424</td><td>-11.854940</td><td>-13.004386</td><td> 9.454516</td></tr>\n",
       "\t<tr><th scope=row>AAGGTAATCTGAGGCC_1_1</th><td> 6.231016</td><td>64.99476</td><td> -2.343754</td><td>-16.45995</td><td> 2.410222</td><td>  36.67302</td><td> 68.80425</td><td>14.697312</td><td>-16.478408</td><td> 3.428888</td><td>⋯</td><td>-12.190220</td><td>  9.838294</td><td> 9.443427</td><td> 5.457292</td><td> -5.4394847</td><td> -4.825122</td><td>-3.8655140</td><td>  2.875866</td><td>  6.910319</td><td> 1.228674</td></tr>\n",
       "\t<tr><th scope=row>TCCGTGTCACCTGTCT_1_1</th><td> 2.874365</td><td>42.54891</td><td>-28.872342</td><td>-13.03037</td><td>12.252612</td><td>  42.11060</td><td> 89.68916</td><td>18.874615</td><td>-16.658404</td><td>-6.600014</td><td>⋯</td><td>-19.896577</td><td>  9.024666</td><td> 4.161871</td><td> 8.930905</td><td>-21.8321703</td><td>-17.541119</td><td> 0.7903184</td><td> -5.295100</td><td>  4.780084</td><td>10.880375</td></tr>\n",
       "\t<tr><th scope=row>ATGGTTGGTCGATTCA_1_1</th><td> 9.811457</td><td>61.30076</td><td>-26.199576</td><td>-15.62067</td><td>20.085344</td><td>  48.97967</td><td>108.92226</td><td>24.792914</td><td>-19.006191</td><td>-4.195761</td><td>⋯</td><td>  5.132639</td><td> -2.902330</td><td>-7.940209</td><td>-5.501569</td><td> 15.5597020</td><td>  7.891783</td><td> 4.1286728</td><td> -2.857916</td><td> -2.132797</td><td>-4.062274</td></tr>\n",
       "\t<tr><th scope=row>CTTCGGTTCAGCTGAT_1_1</th><td>47.001396</td><td>17.42929</td><td>  3.048099</td><td>-15.45477</td><td>-7.577152</td><td>-101.69237</td><td> 31.07500</td><td>-2.530429</td><td> -9.598934</td><td>-6.849340</td><td>⋯</td><td>  7.603700</td><td>-13.778033</td><td> 5.108110</td><td>18.365243</td><td> -0.2201876</td><td> -3.775975</td><td>-5.1478358</td><td>  7.749255</td><td>  3.525075</td><td>-9.319277</td></tr>\n",
       "</tbody>\n",
       "</table>\n"
      ],
      "text/latex": [
       "A matrix: 6 × 50 of type dbl\n",
       "\\begin{tabular}{r|lllllllllllllllllllll}\n",
       "  & PC\\_1 & PC\\_2 & PC\\_3 & PC\\_4 & PC\\_5 & PC\\_6 & PC\\_7 & PC\\_8 & PC\\_9 & PC\\_10 & ⋯ & PC\\_41 & PC\\_42 & PC\\_43 & PC\\_44 & PC\\_45 & PC\\_46 & PC\\_47 & PC\\_48 & PC\\_49 & PC\\_50\\\\\n",
       "\\hline\n",
       "\tCCTATCGAGCCATTCA\\_1\\_1 &  9.554094 & 74.24599 & -41.874244 & -16.23005 & 18.032663 &   51.82342 & 110.72343 & 23.530649 & -21.799348 & -4.922248 & ⋯ &  -7.847034 &   5.783305 & -2.894836 &  4.661187 & -14.5263503 &  -3.936182 &  9.1318114 &   4.515166 & -13.873183 & -7.677462\\\\\n",
       "\tGTCCTCAAGCGAGGAG\\_1\\_1 & 29.478461 & 75.30135 &  -3.949905 & -12.03175 &  3.242175 &  -54.77929 &  87.95035 & 17.396256 & -14.200827 & -5.496860 & ⋯ &   6.707548 & -13.763505 & -8.721917 &  2.191133 &  -7.9736534 &   4.583211 &  0.6702424 & -11.854940 & -13.004386 &  9.454516\\\\\n",
       "\tAAGGTAATCTGAGGCC\\_1\\_1 &  6.231016 & 64.99476 &  -2.343754 & -16.45995 &  2.410222 &   36.67302 &  68.80425 & 14.697312 & -16.478408 &  3.428888 & ⋯ & -12.190220 &   9.838294 &  9.443427 &  5.457292 &  -5.4394847 &  -4.825122 & -3.8655140 &   2.875866 &   6.910319 &  1.228674\\\\\n",
       "\tTCCGTGTCACCTGTCT\\_1\\_1 &  2.874365 & 42.54891 & -28.872342 & -13.03037 & 12.252612 &   42.11060 &  89.68916 & 18.874615 & -16.658404 & -6.600014 & ⋯ & -19.896577 &   9.024666 &  4.161871 &  8.930905 & -21.8321703 & -17.541119 &  0.7903184 &  -5.295100 &   4.780084 & 10.880375\\\\\n",
       "\tATGGTTGGTCGATTCA\\_1\\_1 &  9.811457 & 61.30076 & -26.199576 & -15.62067 & 20.085344 &   48.97967 & 108.92226 & 24.792914 & -19.006191 & -4.195761 & ⋯ &   5.132639 &  -2.902330 & -7.940209 & -5.501569 &  15.5597020 &   7.891783 &  4.1286728 &  -2.857916 &  -2.132797 & -4.062274\\\\\n",
       "\tCTTCGGTTCAGCTGAT\\_1\\_1 & 47.001396 & 17.42929 &   3.048099 & -15.45477 & -7.577152 & -101.69237 &  31.07500 & -2.530429 &  -9.598934 & -6.849340 & ⋯ &   7.603700 & -13.778033 &  5.108110 & 18.365243 &  -0.2201876 &  -3.775975 & -5.1478358 &   7.749255 &   3.525075 & -9.319277\\\\\n",
       "\\end{tabular}\n"
      ],
      "text/markdown": [
       "\n",
       "A matrix: 6 × 50 of type dbl\n",
       "\n",
       "| <!--/--> | PC_1 | PC_2 | PC_3 | PC_4 | PC_5 | PC_6 | PC_7 | PC_8 | PC_9 | PC_10 | ⋯ | PC_41 | PC_42 | PC_43 | PC_44 | PC_45 | PC_46 | PC_47 | PC_48 | PC_49 | PC_50 |\n",
       "|---|---|---|---|---|---|---|---|---|---|---|---|---|---|---|---|---|---|---|---|---|---|\n",
       "| CCTATCGAGCCATTCA_1_1 |  9.554094 | 74.24599 | -41.874244 | -16.23005 | 18.032663 |   51.82342 | 110.72343 | 23.530649 | -21.799348 | -4.922248 | ⋯ |  -7.847034 |   5.783305 | -2.894836 |  4.661187 | -14.5263503 |  -3.936182 |  9.1318114 |   4.515166 | -13.873183 | -7.677462 |\n",
       "| GTCCTCAAGCGAGGAG_1_1 | 29.478461 | 75.30135 |  -3.949905 | -12.03175 |  3.242175 |  -54.77929 |  87.95035 | 17.396256 | -14.200827 | -5.496860 | ⋯ |   6.707548 | -13.763505 | -8.721917 |  2.191133 |  -7.9736534 |   4.583211 |  0.6702424 | -11.854940 | -13.004386 |  9.454516 |\n",
       "| AAGGTAATCTGAGGCC_1_1 |  6.231016 | 64.99476 |  -2.343754 | -16.45995 |  2.410222 |   36.67302 |  68.80425 | 14.697312 | -16.478408 |  3.428888 | ⋯ | -12.190220 |   9.838294 |  9.443427 |  5.457292 |  -5.4394847 |  -4.825122 | -3.8655140 |   2.875866 |   6.910319 |  1.228674 |\n",
       "| TCCGTGTCACCTGTCT_1_1 |  2.874365 | 42.54891 | -28.872342 | -13.03037 | 12.252612 |   42.11060 |  89.68916 | 18.874615 | -16.658404 | -6.600014 | ⋯ | -19.896577 |   9.024666 |  4.161871 |  8.930905 | -21.8321703 | -17.541119 |  0.7903184 |  -5.295100 |   4.780084 | 10.880375 |\n",
       "| ATGGTTGGTCGATTCA_1_1 |  9.811457 | 61.30076 | -26.199576 | -15.62067 | 20.085344 |   48.97967 | 108.92226 | 24.792914 | -19.006191 | -4.195761 | ⋯ |   5.132639 |  -2.902330 | -7.940209 | -5.501569 |  15.5597020 |   7.891783 |  4.1286728 |  -2.857916 |  -2.132797 | -4.062274 |\n",
       "| CTTCGGTTCAGCTGAT_1_1 | 47.001396 | 17.42929 |   3.048099 | -15.45477 | -7.577152 | -101.69237 |  31.07500 | -2.530429 |  -9.598934 | -6.849340 | ⋯ |   7.603700 | -13.778033 |  5.108110 | 18.365243 |  -0.2201876 |  -3.775975 | -5.1478358 |   7.749255 |   3.525075 | -9.319277 |\n",
       "\n"
      ],
      "text/plain": [
       "                     PC_1      PC_2     PC_3       PC_4      PC_5     \n",
       "CCTATCGAGCCATTCA_1_1  9.554094 74.24599 -41.874244 -16.23005 18.032663\n",
       "GTCCTCAAGCGAGGAG_1_1 29.478461 75.30135  -3.949905 -12.03175  3.242175\n",
       "AAGGTAATCTGAGGCC_1_1  6.231016 64.99476  -2.343754 -16.45995  2.410222\n",
       "TCCGTGTCACCTGTCT_1_1  2.874365 42.54891 -28.872342 -13.03037 12.252612\n",
       "ATGGTTGGTCGATTCA_1_1  9.811457 61.30076 -26.199576 -15.62067 20.085344\n",
       "CTTCGGTTCAGCTGAT_1_1 47.001396 17.42929   3.048099 -15.45477 -7.577152\n",
       "                     PC_6       PC_7      PC_8      PC_9       PC_10     ⋯\n",
       "CCTATCGAGCCATTCA_1_1   51.82342 110.72343 23.530649 -21.799348 -4.922248 ⋯\n",
       "GTCCTCAAGCGAGGAG_1_1  -54.77929  87.95035 17.396256 -14.200827 -5.496860 ⋯\n",
       "AAGGTAATCTGAGGCC_1_1   36.67302  68.80425 14.697312 -16.478408  3.428888 ⋯\n",
       "TCCGTGTCACCTGTCT_1_1   42.11060  89.68916 18.874615 -16.658404 -6.600014 ⋯\n",
       "ATGGTTGGTCGATTCA_1_1   48.97967 108.92226 24.792914 -19.006191 -4.195761 ⋯\n",
       "CTTCGGTTCAGCTGAT_1_1 -101.69237  31.07500 -2.530429  -9.598934 -6.849340 ⋯\n",
       "                     PC_41      PC_42      PC_43     PC_44     PC_45      \n",
       "CCTATCGAGCCATTCA_1_1  -7.847034   5.783305 -2.894836  4.661187 -14.5263503\n",
       "GTCCTCAAGCGAGGAG_1_1   6.707548 -13.763505 -8.721917  2.191133  -7.9736534\n",
       "AAGGTAATCTGAGGCC_1_1 -12.190220   9.838294  9.443427  5.457292  -5.4394847\n",
       "TCCGTGTCACCTGTCT_1_1 -19.896577   9.024666  4.161871  8.930905 -21.8321703\n",
       "ATGGTTGGTCGATTCA_1_1   5.132639  -2.902330 -7.940209 -5.501569  15.5597020\n",
       "CTTCGGTTCAGCTGAT_1_1   7.603700 -13.778033  5.108110 18.365243  -0.2201876\n",
       "                     PC_46      PC_47      PC_48      PC_49      PC_50    \n",
       "CCTATCGAGCCATTCA_1_1  -3.936182  9.1318114   4.515166 -13.873183 -7.677462\n",
       "GTCCTCAAGCGAGGAG_1_1   4.583211  0.6702424 -11.854940 -13.004386  9.454516\n",
       "AAGGTAATCTGAGGCC_1_1  -4.825122 -3.8655140   2.875866   6.910319  1.228674\n",
       "TCCGTGTCACCTGTCT_1_1 -17.541119  0.7903184  -5.295100   4.780084 10.880375\n",
       "ATGGTTGGTCGATTCA_1_1   7.891783  4.1286728  -2.857916  -2.132797 -4.062274\n",
       "CTTCGGTTCAGCTGAT_1_1  -3.775975 -5.1478358   7.749255   3.525075 -9.319277"
      ]
     },
     "metadata": {},
     "output_type": "display_data"
    }
   ],
   "source": [
    "exp_fgf1_other[['pca']] %>% Embeddings %>% head"
   ]
  },
  {
   "cell_type": "code",
   "execution_count": null,
   "id": "95c8aad6",
   "metadata": {},
   "outputs": [],
   "source": []
  },
  {
   "cell_type": "code",
   "execution_count": 11,
   "id": "c4f4c1b1",
   "metadata": {},
   "outputs": [
    {
     "data": {
      "text/plain": [
       "An object of class Seurat \n",
       "60617 features across 45622 samples within 4 assays \n",
       "Active assay: SCT (26707 features, 3000 variable features)\n",
       " 3 other assays present: RNA, prediction.score.labels, integrated\n",
       " 4 dimensional reductions calculated: pca, umap, mergedumap, mergedpca"
      ]
     },
     "metadata": {},
     "output_type": "display_data"
    }
   ],
   "source": [
    "obj = qs::qread('../00_bmp_preprocessing/_targets/objects/bmp1_fgf1_mapped')\n",
    "obj"
   ]
  },
  {
   "cell_type": "code",
   "execution_count": null,
   "id": "3560bd38",
   "metadata": {},
   "outputs": [],
   "source": []
  },
  {
   "cell_type": "code",
   "execution_count": 56,
   "id": "51d7abf3",
   "metadata": {},
   "outputs": [
    {
     "data": {
      "text/plain": [
       "An object of class Seurat \n",
       "60600 features across 5251 samples within 3 assays \n",
       "Active assay: SCT (26707 features, 3000 variable features)\n",
       " 2 other assays present: RNA, integrated\n",
       " 2 dimensional reductions calculated: pca, umap"
      ]
     },
     "metadata": {},
     "output_type": "display_data"
    }
   ],
   "source": [
    "obj_MOL = single_split(obj, \"MOL\")\n",
    "obj_MOL"
   ]
  },
  {
   "cell_type": "code",
   "execution_count": 21,
   "id": "318e541e",
   "metadata": {
    "scrolled": true
   },
   "outputs": [
    {
     "name": "stderr",
     "output_type": "stream",
     "text": [
      "vst.flavor='v2' set, setting model to use fixed slope and exclude poisson genes.\n",
      "\n",
      "Calculating cell attributes from input UMI matrix: log_umi\n",
      "\n",
      "Total Step 1 genes: 17447\n",
      "\n",
      "Total overdispersed genes: 14666\n",
      "\n",
      "Excluding 2781 genes from Step 1 because they are not overdispersed.\n",
      "\n",
      "Variance stabilizing transformation of count matrix of size 17447 by 4023\n",
      "\n",
      "Model formula is y ~ log_umi\n",
      "\n",
      "Get Negative Binomial regression parameters per gene\n",
      "\n",
      "Using 2000 genes, 4023 cells\n",
      "\n"
     ]
    },
    {
     "name": "stdout",
     "output_type": "stream",
     "text": [
      "  |======================================================================| 100%\n"
     ]
    },
    {
     "name": "stderr",
     "output_type": "stream",
     "text": [
      "Setting estimate of  2 genes to inf as theta_mm/theta_mle < 1e-3\n",
      "\n",
      "# of step1 poisson genes (variance < mean): 0\n",
      "\n",
      "# of low mean genes (mean < 0.001): 0\n",
      "\n",
      "Total # of Step1 poisson genes (theta=Inf; variance < mean): 2\n",
      "\n",
      "Total # of poisson genes (theta=Inf; variance < mean): 2781\n",
      "\n",
      "Calling offset model for all 2781 poisson genes\n",
      "\n",
      "Found 4 outliers - those will be ignored in fitting/regularization step\n",
      "\n",
      "\n",
      "Ignoring theta inf genes\n",
      "\n",
      "Replacing fit params for 2781 poisson genes by theta=Inf\n",
      "\n",
      "Setting min_variance based on median UMI:  0.04\n",
      "\n",
      "Second step: Get residuals using fitted parameters for 17447 genes\n",
      "\n"
     ]
    },
    {
     "name": "stdout",
     "output_type": "stream",
     "text": [
      "  |======================================================================| 100%\n"
     ]
    },
    {
     "name": "stderr",
     "output_type": "stream",
     "text": [
      "Computing corrected count matrix for 17447 genes\n",
      "\n"
     ]
    },
    {
     "name": "stdout",
     "output_type": "stream",
     "text": [
      "  |======================================================================| 100%\n"
     ]
    },
    {
     "name": "stderr",
     "output_type": "stream",
     "text": [
      "Calculating gene attributes\n",
      "\n",
      "Wall clock passed: Time difference of 48.46546 secs\n",
      "\n",
      "Determine variable features\n",
      "\n",
      "Place corrected count matrix in counts slot\n",
      "\n",
      "Regressing out batch\n",
      "\n",
      "Centering data matrix\n",
      "\n",
      "Set default assay to SCT\n",
      "\n",
      "Warning message:\n",
      "\"Invalid name supplied, making object name syntactically valid. New object name is Seurat..SCTransform.RNA; see ?make.names for more details on syntax validity\"\n",
      "16:48:12 UMAP embedding parameters a = 0.9922 b = 1.112\n",
      "\n",
      "16:48:12 Read 4023 rows and found 30 numeric columns\n",
      "\n",
      "16:48:12 Using Annoy for neighbor search, n_neighbors = 30\n",
      "\n",
      "16:48:12 Building Annoy index with metric = cosine, n_trees = 50\n",
      "\n",
      "0%   10   20   30   40   50   60   70   80   90   100%\n",
      "\n",
      "[----|----|----|----|----|----|----|----|----|----|\n",
      "\n",
      "*\n",
      "*\n",
      "*\n",
      "*\n",
      "*\n",
      "*\n",
      "*\n",
      "*\n",
      "*\n",
      "*\n",
      "*\n",
      "*\n",
      "*\n",
      "*\n",
      "*\n",
      "*\n",
      "*\n",
      "*\n",
      "*\n",
      "*\n",
      "*\n",
      "*\n",
      "*\n",
      "*\n",
      "*\n",
      "*\n",
      "*\n",
      "*\n",
      "*\n",
      "*\n",
      "*\n",
      "*\n",
      "*\n",
      "*\n",
      "*\n",
      "*\n",
      "*\n",
      "*\n",
      "*\n",
      "*\n",
      "*\n",
      "*\n",
      "*\n",
      "*\n",
      "*\n",
      "*\n",
      "*\n",
      "*\n",
      "*\n",
      "*\n",
      "|\n",
      "\n",
      "16:48:13 Writing NN index file to temp file /scratch/nmq407/R_tmp//RtmpBdztZY/file86cf482691de\n",
      "\n",
      "16:48:13 Searching Annoy index using 1 thread, search_k = 3000\n",
      "\n",
      "16:48:14 Annoy recall = 100%\n",
      "\n",
      "16:48:16 Commencing smooth kNN distance calibration using 1 thread\n",
      " with target n_neighbors = 30\n",
      "\n",
      "16:48:20 Initializing from normalized Laplacian + noise (using irlba)\n",
      "\n",
      "16:48:20 Commencing optimization for 500 epochs, with 158778 positive edges\n",
      "\n",
      "16:48:33 Optimization finished\n",
      "\n",
      "vst.flavor='v2' set, setting model to use fixed slope and exclude poisson genes.\n",
      "\n",
      "Calculating cell attributes from input UMI matrix: log_umi\n",
      "\n",
      "Total Step 1 genes: 17115\n",
      "\n",
      "Total overdispersed genes: 14718\n",
      "\n",
      "Excluding 2397 genes from Step 1 because they are not overdispersed.\n",
      "\n",
      "Variance stabilizing transformation of count matrix of size 17115 by 1976\n",
      "\n",
      "Model formula is y ~ log_umi\n",
      "\n",
      "Get Negative Binomial regression parameters per gene\n",
      "\n",
      "Using 2000 genes, 1976 cells\n",
      "\n"
     ]
    },
    {
     "name": "stdout",
     "output_type": "stream",
     "text": [
      "  |======================================================================| 100%\n"
     ]
    },
    {
     "name": "stderr",
     "output_type": "stream",
     "text": [
      "Setting estimate of  0 genes to inf as theta_mm/theta_mle < 1e-3\n",
      "\n",
      "# of step1 poisson genes (variance < mean): 0\n",
      "\n",
      "# of low mean genes (mean < 0.001): 0\n",
      "\n",
      "Total # of Step1 poisson genes (theta=Inf; variance < mean): 0\n",
      "\n",
      "Total # of poisson genes (theta=Inf; variance < mean): 2397\n",
      "\n",
      "Calling offset model for all 2397 poisson genes\n",
      "\n",
      "Ignoring theta inf genes\n",
      "\n",
      "Replacing fit params for 2397 poisson genes by theta=Inf\n",
      "\n",
      "Setting min_variance based on median UMI:  0.04\n",
      "\n",
      "Second step: Get residuals using fitted parameters for 17115 genes\n",
      "\n"
     ]
    },
    {
     "name": "stdout",
     "output_type": "stream",
     "text": [
      "  |======================================================================| 100%\n"
     ]
    },
    {
     "name": "stderr",
     "output_type": "stream",
     "text": [
      "Computing corrected count matrix for 17115 genes\n",
      "\n"
     ]
    },
    {
     "name": "stdout",
     "output_type": "stream",
     "text": [
      "  |======================================================================| 100%\n"
     ]
    },
    {
     "name": "stderr",
     "output_type": "stream",
     "text": [
      "Calculating gene attributes\n",
      "\n",
      "Wall clock passed: Time difference of 26.47699 secs\n",
      "\n",
      "Determine variable features\n",
      "\n",
      "Place corrected count matrix in counts slot\n",
      "\n",
      "Centering data matrix\n",
      "\n",
      "Set default assay to SCT\n",
      "\n",
      "Warning message:\n",
      "\"Invalid name supplied, making object name syntactically valid. New object name is Seurat..SCTransform.RNA; see ?make.names for more details on syntax validity\"\n",
      "16:49:05 UMAP embedding parameters a = 0.9922 b = 1.112\n",
      "\n",
      "16:49:05 Read 1976 rows and found 30 numeric columns\n",
      "\n",
      "16:49:05 Using Annoy for neighbor search, n_neighbors = 30\n",
      "\n",
      "16:49:05 Building Annoy index with metric = cosine, n_trees = 50\n",
      "\n",
      "0%   10   20   30   40   50   60   70   80   90   100%\n",
      "\n",
      "[----|----|----|----|----|----|----|----|----|----|\n",
      "\n",
      "*\n",
      "*\n",
      "*\n",
      "*\n",
      "*\n",
      "*\n",
      "*\n",
      "*\n",
      "*\n",
      "*\n",
      "*\n",
      "*\n",
      "*\n",
      "*\n",
      "*\n",
      "*\n",
      "*\n",
      "*\n",
      "*\n",
      "*\n",
      "*\n",
      "*\n",
      "*\n",
      "*\n",
      "*\n",
      "*\n",
      "*\n",
      "*\n",
      "*\n",
      "*\n",
      "*\n",
      "*\n",
      "*\n",
      "*\n",
      "*\n",
      "*\n",
      "*\n",
      "*\n",
      "*\n",
      "*\n",
      "*\n",
      "*\n",
      "*\n",
      "*\n",
      "*\n",
      "*\n",
      "*\n",
      "*\n",
      "*\n",
      "*\n",
      "|\n",
      "\n",
      "16:49:06 Writing NN index file to temp file /scratch/nmq407/R_tmp//RtmpBdztZY/file86cf11fbaef6\n",
      "\n",
      "16:49:06 Searching Annoy index using 1 thread, search_k = 3000\n",
      "\n",
      "16:49:06 Annoy recall = 100%\n",
      "\n",
      "16:49:08 Commencing smooth kNN distance calibration using 1 thread\n",
      " with target n_neighbors = 30\n",
      "\n",
      "16:49:11 Initializing from normalized Laplacian + noise (using irlba)\n",
      "\n",
      "16:49:11 Commencing optimization for 500 epochs, with 74346 positive edges\n",
      "\n",
      "16:49:17 Optimization finished\n",
      "\n",
      "UMAP will return its model\n",
      "\n",
      "16:49:18 UMAP embedding parameters a = 0.9922 b = 1.112\n",
      "\n",
      "16:49:18 Read 4023 rows and found 30 numeric columns\n",
      "\n",
      "16:49:18 Using Annoy for neighbor search, n_neighbors = 30\n",
      "\n",
      "16:49:18 Building Annoy index with metric = cosine, n_trees = 50\n",
      "\n",
      "0%   10   20   30   40   50   60   70   80   90   100%\n",
      "\n",
      "[----|----|----|----|----|----|----|----|----|----|\n",
      "\n",
      "*\n",
      "*\n",
      "*\n",
      "*\n",
      "*\n",
      "*\n",
      "*\n",
      "*\n",
      "*\n",
      "*\n",
      "*\n",
      "*\n",
      "*\n",
      "*\n",
      "*\n",
      "*\n",
      "*\n",
      "*\n",
      "*\n",
      "*\n",
      "*\n",
      "*\n",
      "*\n",
      "*\n",
      "*\n",
      "*\n",
      "*\n",
      "*\n",
      "*\n",
      "*\n",
      "*\n",
      "*\n",
      "*\n",
      "*\n",
      "*\n",
      "*\n",
      "*\n",
      "*\n",
      "*\n",
      "*\n",
      "*\n",
      "*\n",
      "*\n",
      "*\n",
      "*\n",
      "*\n",
      "*\n",
      "*\n",
      "*\n",
      "*\n",
      "|\n",
      "\n",
      "16:49:19 Writing NN index file to temp file /scratch/nmq407/R_tmp//RtmpBdztZY/file86cf7c7494d0\n",
      "\n",
      "16:49:19 Searching Annoy index using 1 thread, search_k = 3000\n",
      "\n",
      "16:49:20 Annoy recall = 100%\n",
      "\n",
      "16:49:22 Commencing smooth kNN distance calibration using 1 thread\n",
      " with target n_neighbors = 30\n",
      "\n",
      "16:49:23 Initializing from normalized Laplacian + noise (using irlba)\n",
      "\n",
      "16:49:23 Commencing optimization for 500 epochs, with 158778 positive edges\n",
      "\n",
      "16:49:36 Optimization finished\n",
      "\n",
      "Projecting cell embeddings\n",
      "\n",
      "Finding neighborhoods\n",
      "\n",
      "Finding anchors\n",
      "\n",
      "\tFound 6493 anchors\n",
      "\n",
      "Finding integration vectors\n",
      "\n",
      "Finding integration vector weights\n",
      "\n",
      "Predicting cell labels\n",
      "\n",
      "\n",
      "Integrating dataset 2 with reference dataset\n",
      "\n",
      "Finding integration vectors\n",
      "\n",
      "Integrating data\n",
      "\n",
      "Computing nearest neighbors\n",
      "\n",
      "Running UMAP projection\n",
      "\n",
      "16:49:48 Read 1976 rows\n",
      "\n",
      "16:49:48 Processing block 1 of 1\n",
      "\n",
      "16:49:48 Commencing smooth kNN distance calibration using 1 thread\n",
      " with target n_neighbors = 30\n",
      "\n",
      "16:49:48 Initializing by weighted average of neighbor coordinates using 1 thread\n",
      "\n",
      "16:49:48 Commencing optimization for 167 epochs, with 59280 positive edges\n",
      "\n",
      "16:49:49 Finished\n",
      "\n",
      "Warning message:\n",
      "\"Reductions contain differing numbers of dimensions, merging first 30\"\n",
      "vst.flavor='v2' set, setting model to use fixed slope and exclude poisson genes.\n",
      "\n",
      "Calculating cell attributes from input UMI matrix: log_umi\n",
      "\n",
      "Total Step 1 genes: 19401\n",
      "\n",
      "Total overdispersed genes: 16604\n",
      "\n",
      "Excluding 2797 genes from Step 1 because they are not overdispersed.\n",
      "\n",
      "Variance stabilizing transformation of count matrix of size 19915 by 5999\n",
      "\n",
      "Model formula is y ~ log_umi\n",
      "\n",
      "Get Negative Binomial regression parameters per gene\n",
      "\n",
      "Using 2000 genes, 5000 cells\n",
      "\n"
     ]
    },
    {
     "name": "stdout",
     "output_type": "stream",
     "text": [
      "  |======================================================================| 100%\n"
     ]
    },
    {
     "name": "stderr",
     "output_type": "stream",
     "text": [
      "Setting estimate of  41 genes to inf as theta_mm/theta_mle < 1e-3\n",
      "\n",
      "# of step1 poisson genes (variance < mean): 0\n",
      "\n",
      "# of low mean genes (mean < 0.001): 477\n",
      "\n",
      "Total # of Step1 poisson genes (theta=Inf; variance < mean): 41\n",
      "\n",
      "Total # of poisson genes (theta=Inf; variance < mean): 3214\n",
      "\n",
      "Calling offset model for all 3214 poisson genes\n",
      "\n",
      "Found 41 outliers - those will be ignored in fitting/regularization step\n",
      "\n",
      "\n",
      "Ignoring theta inf genes\n",
      "\n",
      "Replacing fit params for 3214 poisson genes by theta=Inf\n",
      "\n",
      "Setting min_variance based on median UMI:  0.04\n",
      "\n",
      "Second step: Get residuals using fitted parameters for 19915 genes\n",
      "\n"
     ]
    },
    {
     "name": "stdout",
     "output_type": "stream",
     "text": [
      "  |======================================================================| 100%\n"
     ]
    },
    {
     "name": "stderr",
     "output_type": "stream",
     "text": [
      "Computing corrected count matrix for 19915 genes\n",
      "\n"
     ]
    },
    {
     "name": "stdout",
     "output_type": "stream",
     "text": [
      "  |======================================================================| 100%\n"
     ]
    },
    {
     "name": "stderr",
     "output_type": "stream",
     "text": [
      "Calculating gene attributes\n",
      "\n",
      "Wall clock passed: Time difference of 1.301271 mins\n",
      "\n",
      "Determine variable features\n",
      "\n",
      "Place corrected count matrix in counts slot\n",
      "\n",
      "Regressing out batch\n",
      "\n",
      "Centering data matrix\n",
      "\n",
      "Set default assay to SCT\n",
      "\n",
      "Warning message:\n",
      "\"Invalid name supplied, making object name syntactically valid. New object name is Seurat..SCTransform.RNA; see ?make.names for more details on syntax validity\"\n",
      "16:51:29 UMAP embedding parameters a = 0.9922 b = 1.112\n",
      "\n",
      "16:51:29 Read 5999 rows and found 30 numeric columns\n",
      "\n",
      "16:51:29 Using Annoy for neighbor search, n_neighbors = 30\n",
      "\n",
      "16:51:29 Building Annoy index with metric = cosine, n_trees = 50\n",
      "\n",
      "0%   10   20   30   40   50   60   70   80   90   100%\n",
      "\n",
      "[----|----|----|----|----|----|----|----|----|----|\n",
      "\n",
      "*\n",
      "*\n",
      "*\n",
      "*\n",
      "*\n",
      "*\n",
      "*\n",
      "*\n",
      "*\n",
      "*\n",
      "*\n",
      "*\n",
      "*\n",
      "*\n",
      "*\n",
      "*\n",
      "*\n",
      "*\n",
      "*\n",
      "*\n",
      "*\n",
      "*\n",
      "*\n",
      "*\n",
      "*\n",
      "*\n",
      "*\n",
      "*\n",
      "*\n",
      "*\n",
      "*\n",
      "*\n",
      "*\n",
      "*\n",
      "*\n",
      "*\n",
      "*\n",
      "*\n",
      "*\n",
      "*\n",
      "*\n",
      "*\n",
      "*\n",
      "*\n",
      "*\n",
      "*\n",
      "*\n",
      "*\n",
      "*\n",
      "*\n",
      "|\n",
      "\n",
      "16:51:30 Writing NN index file to temp file /scratch/nmq407/R_tmp//RtmpBdztZY/file86cf11bbb299\n",
      "\n",
      "16:51:30 Searching Annoy index using 1 thread, search_k = 3000\n",
      "\n",
      "16:51:32 Annoy recall = 100%\n",
      "\n",
      "16:51:34 Commencing smooth kNN distance calibration using 1 thread\n",
      " with target n_neighbors = 30\n",
      "\n",
      "16:51:37 Initializing from normalized Laplacian + noise (using irlba)\n",
      "\n",
      "16:51:38 Commencing optimization for 500 epochs, with 244024 positive edges\n",
      "\n",
      "16:51:57 Optimization finished\n",
      "\n",
      "Warning message:\n",
      "\"Cannot add objects with duplicate keys (offending key: UMAP_), setting key to 'mergedumap_'\"\n",
      "Warning message:\n",
      "\"Cannot add objects with duplicate keys (offending key: PC_), setting key to 'mergedpca_'\"\n",
      "Warning message:\n",
      "\"Cannot add objects with duplicate keys (offending key: UMAP_), setting key to 'sctumap_'\"\n",
      "Warning message:\n",
      "\"Cannot add objects with duplicate keys (offending key: PC_), setting key to 'sctpca_'\"\n"
     ]
    },
    {
     "data": {
      "text/plain": [
       "An object of class Seurat \n",
       "53825 features across 5999 samples within 4 assays \n",
       "Active assay: SCT (19915 features, 3000 variable features)\n",
       " 3 other assays present: RNA, prediction.score.labels, integrated\n",
       " 6 dimensional reductions calculated: pca, umap, mergedumap, mergedpca, sctumap, sctpca"
      ]
     },
     "metadata": {},
     "output_type": "display_data"
    }
   ],
   "source": [
    "project_bmp1_into_fgf1_unimod = function(both_obj){\n",
    "    fgf1_ref = subset(x = both_obj, subset = batch != 'Batch 4') %>% sc_transform_fgf1\n",
    "    bmp1_obj = subset(x = both_obj, subset = batch == 'Batch 4') %>% sc_transform_fgf1_nobatch\n",
    "\n",
    "    fgf1_ref = add_umap_model(fgf1_ref)\n",
    "    bmp1_transfer_anchors = find_fgf1_anchors(bmp1_obj, fgf1_ref)\n",
    "    bmp1_obj = map_bmp1_to_fgf1_ref(bmp1_obj, bmp1_transfer_anchors, fgf1_ref)\n",
    "    obj = merge_bmp1_mp_fgf1_ref(bmp1_obj, fgf1_ref)\n",
    "    obj\n",
    "}\n",
    "\n",
    "\n",
    "set_unimod_embedding = function(obj){\n",
    "    unimod_umap = Embeddings(obj, reduction = \"mergedumap\") %>%\n",
    "        CreateDimReducObject(embeddings = ., key = \"UMAP_\", assay = DefaultAssay(obj))\n",
    "    sc_umap = Embeddings(obj, reduction = \"umap\") %>%\n",
    "        CreateDimReducObject(embeddings = ., key = \"UMAP_\", assay = DefaultAssay(obj))\n",
    "    obj[['umap']] = unimod_umap\n",
    "    obj[['sctumap']] = sc_umap\n",
    "    unimod_pca = Embeddings(obj, reduction = \"mergedpca\") %>%\n",
    "        CreateDimReducObject(embeddings = ., key = \"PC_\", assay = DefaultAssay(obj))\n",
    "    sc_pca = Embeddings(obj, reduction = \"pca\") %>%\n",
    "        CreateDimReducObject(embeddings = ., key = \"PC_\", assay = DefaultAssay(obj))\n",
    "    obj[['pca']] = unimod_pca\n",
    "    obj[['sctpca']] = sc_pca\n",
    "    obj\n",
    "}\n",
    "\n",
    "\n",
    "a = single_split(obj, \"MOL\") %>%\n",
    "project_bmp1_into_fgf1_unimod %>%\n",
    "set_unimod_embedding\n",
    "a"
   ]
  },
  {
   "cell_type": "code",
   "execution_count": 27,
   "id": "35c15b84",
   "metadata": {},
   "outputs": [
    {
     "data": {
      "text/html": [
       "<table class=\"dataframe\">\n",
       "<caption>A matrix: 6 × 30 of type dbl</caption>\n",
       "<thead>\n",
       "\t<tr><th></th><th scope=col>PC_1</th><th scope=col>PC_2</th><th scope=col>PC_3</th><th scope=col>PC_4</th><th scope=col>PC_5</th><th scope=col>PC_6</th><th scope=col>PC_7</th><th scope=col>PC_8</th><th scope=col>PC_9</th><th scope=col>PC_10</th><th scope=col>⋯</th><th scope=col>PC_21</th><th scope=col>PC_22</th><th scope=col>PC_23</th><th scope=col>PC_24</th><th scope=col>PC_25</th><th scope=col>PC_26</th><th scope=col>PC_27</th><th scope=col>PC_28</th><th scope=col>PC_29</th><th scope=col>PC_30</th></tr>\n",
       "</thead>\n",
       "<tbody>\n",
       "\t<tr><th scope=row>GTCATCCGTACTCCGG</th><td> 1.1077154</td><td>34.75705</td><td>-21.4385371</td><td>-0.03706679</td><td>-3.858958</td><td>0.7314219</td><td> 2.5352849</td><td>-1.76626900</td><td>-4.343021</td><td>-2.06493132</td><td>⋯</td><td>-3.152152</td><td> 0.24599252</td><td>-0.5615581</td><td> 1.7020404</td><td>-0.2106495</td><td>-3.663787955</td><td>-2.1590854</td><td>-0.8282623</td><td> 1.1466497</td><td> 1.15998524</td></tr>\n",
       "\t<tr><th scope=row>CATCCCATCCCGTTCA</th><td>-2.9772062</td><td>19.66483</td><td> -0.1243606</td><td> 4.93194836</td><td> 5.604947</td><td>5.6371811</td><td>-3.8946536</td><td> 2.72119043</td><td> 2.427457</td><td> 2.17685825</td><td>⋯</td><td>-5.225047</td><td>-0.91172489</td><td> 4.8334009</td><td> 0.7000903</td><td>-0.4176070</td><td>-0.418632074</td><td>-2.6693893</td><td> 1.2309406</td><td> 0.8415601</td><td>-2.60511288</td></tr>\n",
       "\t<tr><th scope=row>TCACTATCAGAGCCCT</th><td> 0.2991739</td><td>29.22431</td><td>-15.5205330</td><td>-2.05627587</td><td>-1.641209</td><td>1.0806180</td><td>-2.6968724</td><td>-0.54920038</td><td> 2.164732</td><td>-2.66762518</td><td>⋯</td><td>-1.919074</td><td>-1.74844777</td><td> 1.3048095</td><td> 2.2035514</td><td>-1.5074591</td><td>-1.913727274</td><td>-0.2742048</td><td>-3.6568236</td><td>-0.2781244</td><td> 3.30491935</td></tr>\n",
       "\t<tr><th scope=row>GAAGCCCAGCGTACAG</th><td>-1.3935011</td><td>14.77608</td><td> -4.5396031</td><td> 0.41625750</td><td>10.888577</td><td>3.8240736</td><td>-3.2657306</td><td> 2.74112098</td><td> 4.389812</td><td>-0.75336111</td><td>⋯</td><td>-1.187885</td><td> 0.09541041</td><td> 0.3440546</td><td> 1.7034233</td><td> 0.0477372</td><td> 0.003470121</td><td>-1.6286310</td><td>-1.7696912</td><td>-1.0208537</td><td>-0.65178023</td></tr>\n",
       "\t<tr><th scope=row>AAGTACCGTACAAGCG</th><td>-0.4021744</td><td>34.68647</td><td>-17.2759200</td><td> 0.02306961</td><td>-1.553981</td><td>1.4925368</td><td>-0.9996842</td><td>-2.70291180</td><td> 1.131343</td><td> 0.03049629</td><td>⋯</td><td>-2.096994</td><td> 1.86231805</td><td> 1.4051790</td><td>-1.8125826</td><td> 1.3115104</td><td>-2.048835883</td><td> 4.7902010</td><td>-4.1113461</td><td> 1.5552944</td><td> 3.11265850</td></tr>\n",
       "\t<tr><th scope=row>CAGATTGAGAAACTCA</th><td>-2.0189199</td><td>16.34978</td><td> -8.5425807</td><td> 4.03822022</td><td> 0.860789</td><td>1.6877635</td><td>-3.4961638</td><td> 0.01501637</td><td>-1.376048</td><td>-5.26829983</td><td>⋯</td><td> 4.458442</td><td>-1.76233463</td><td>-0.3141387</td><td> 2.1269505</td><td> 0.4794912</td><td>-0.519188056</td><td>-2.0102893</td><td> 1.3141883</td><td> 0.7554093</td><td>-0.02167699</td></tr>\n",
       "</tbody>\n",
       "</table>\n"
      ],
      "text/latex": [
       "A matrix: 6 × 30 of type dbl\n",
       "\\begin{tabular}{r|lllllllllllllllllllll}\n",
       "  & PC\\_1 & PC\\_2 & PC\\_3 & PC\\_4 & PC\\_5 & PC\\_6 & PC\\_7 & PC\\_8 & PC\\_9 & PC\\_10 & ⋯ & PC\\_21 & PC\\_22 & PC\\_23 & PC\\_24 & PC\\_25 & PC\\_26 & PC\\_27 & PC\\_28 & PC\\_29 & PC\\_30\\\\\n",
       "\\hline\n",
       "\tGTCATCCGTACTCCGG &  1.1077154 & 34.75705 & -21.4385371 & -0.03706679 & -3.858958 & 0.7314219 &  2.5352849 & -1.76626900 & -4.343021 & -2.06493132 & ⋯ & -3.152152 &  0.24599252 & -0.5615581 &  1.7020404 & -0.2106495 & -3.663787955 & -2.1590854 & -0.8282623 &  1.1466497 &  1.15998524\\\\\n",
       "\tCATCCCATCCCGTTCA & -2.9772062 & 19.66483 &  -0.1243606 &  4.93194836 &  5.604947 & 5.6371811 & -3.8946536 &  2.72119043 &  2.427457 &  2.17685825 & ⋯ & -5.225047 & -0.91172489 &  4.8334009 &  0.7000903 & -0.4176070 & -0.418632074 & -2.6693893 &  1.2309406 &  0.8415601 & -2.60511288\\\\\n",
       "\tTCACTATCAGAGCCCT &  0.2991739 & 29.22431 & -15.5205330 & -2.05627587 & -1.641209 & 1.0806180 & -2.6968724 & -0.54920038 &  2.164732 & -2.66762518 & ⋯ & -1.919074 & -1.74844777 &  1.3048095 &  2.2035514 & -1.5074591 & -1.913727274 & -0.2742048 & -3.6568236 & -0.2781244 &  3.30491935\\\\\n",
       "\tGAAGCCCAGCGTACAG & -1.3935011 & 14.77608 &  -4.5396031 &  0.41625750 & 10.888577 & 3.8240736 & -3.2657306 &  2.74112098 &  4.389812 & -0.75336111 & ⋯ & -1.187885 &  0.09541041 &  0.3440546 &  1.7034233 &  0.0477372 &  0.003470121 & -1.6286310 & -1.7696912 & -1.0208537 & -0.65178023\\\\\n",
       "\tAAGTACCGTACAAGCG & -0.4021744 & 34.68647 & -17.2759200 &  0.02306961 & -1.553981 & 1.4925368 & -0.9996842 & -2.70291180 &  1.131343 &  0.03049629 & ⋯ & -2.096994 &  1.86231805 &  1.4051790 & -1.8125826 &  1.3115104 & -2.048835883 &  4.7902010 & -4.1113461 &  1.5552944 &  3.11265850\\\\\n",
       "\tCAGATTGAGAAACTCA & -2.0189199 & 16.34978 &  -8.5425807 &  4.03822022 &  0.860789 & 1.6877635 & -3.4961638 &  0.01501637 & -1.376048 & -5.26829983 & ⋯ &  4.458442 & -1.76233463 & -0.3141387 &  2.1269505 &  0.4794912 & -0.519188056 & -2.0102893 &  1.3141883 &  0.7554093 & -0.02167699\\\\\n",
       "\\end{tabular}\n"
      ],
      "text/markdown": [
       "\n",
       "A matrix: 6 × 30 of type dbl\n",
       "\n",
       "| <!--/--> | PC_1 | PC_2 | PC_3 | PC_4 | PC_5 | PC_6 | PC_7 | PC_8 | PC_9 | PC_10 | ⋯ | PC_21 | PC_22 | PC_23 | PC_24 | PC_25 | PC_26 | PC_27 | PC_28 | PC_29 | PC_30 |\n",
       "|---|---|---|---|---|---|---|---|---|---|---|---|---|---|---|---|---|---|---|---|---|---|\n",
       "| GTCATCCGTACTCCGG |  1.1077154 | 34.75705 | -21.4385371 | -0.03706679 | -3.858958 | 0.7314219 |  2.5352849 | -1.76626900 | -4.343021 | -2.06493132 | ⋯ | -3.152152 |  0.24599252 | -0.5615581 |  1.7020404 | -0.2106495 | -3.663787955 | -2.1590854 | -0.8282623 |  1.1466497 |  1.15998524 |\n",
       "| CATCCCATCCCGTTCA | -2.9772062 | 19.66483 |  -0.1243606 |  4.93194836 |  5.604947 | 5.6371811 | -3.8946536 |  2.72119043 |  2.427457 |  2.17685825 | ⋯ | -5.225047 | -0.91172489 |  4.8334009 |  0.7000903 | -0.4176070 | -0.418632074 | -2.6693893 |  1.2309406 |  0.8415601 | -2.60511288 |\n",
       "| TCACTATCAGAGCCCT |  0.2991739 | 29.22431 | -15.5205330 | -2.05627587 | -1.641209 | 1.0806180 | -2.6968724 | -0.54920038 |  2.164732 | -2.66762518 | ⋯ | -1.919074 | -1.74844777 |  1.3048095 |  2.2035514 | -1.5074591 | -1.913727274 | -0.2742048 | -3.6568236 | -0.2781244 |  3.30491935 |\n",
       "| GAAGCCCAGCGTACAG | -1.3935011 | 14.77608 |  -4.5396031 |  0.41625750 | 10.888577 | 3.8240736 | -3.2657306 |  2.74112098 |  4.389812 | -0.75336111 | ⋯ | -1.187885 |  0.09541041 |  0.3440546 |  1.7034233 |  0.0477372 |  0.003470121 | -1.6286310 | -1.7696912 | -1.0208537 | -0.65178023 |\n",
       "| AAGTACCGTACAAGCG | -0.4021744 | 34.68647 | -17.2759200 |  0.02306961 | -1.553981 | 1.4925368 | -0.9996842 | -2.70291180 |  1.131343 |  0.03049629 | ⋯ | -2.096994 |  1.86231805 |  1.4051790 | -1.8125826 |  1.3115104 | -2.048835883 |  4.7902010 | -4.1113461 |  1.5552944 |  3.11265850 |\n",
       "| CAGATTGAGAAACTCA | -2.0189199 | 16.34978 |  -8.5425807 |  4.03822022 |  0.860789 | 1.6877635 | -3.4961638 |  0.01501637 | -1.376048 | -5.26829983 | ⋯ |  4.458442 | -1.76233463 | -0.3141387 |  2.1269505 |  0.4794912 | -0.519188056 | -2.0102893 |  1.3141883 |  0.7554093 | -0.02167699 |\n",
       "\n"
      ],
      "text/plain": [
       "                 PC_1       PC_2     PC_3        PC_4        PC_5     \n",
       "GTCATCCGTACTCCGG  1.1077154 34.75705 -21.4385371 -0.03706679 -3.858958\n",
       "CATCCCATCCCGTTCA -2.9772062 19.66483  -0.1243606  4.93194836  5.604947\n",
       "TCACTATCAGAGCCCT  0.2991739 29.22431 -15.5205330 -2.05627587 -1.641209\n",
       "GAAGCCCAGCGTACAG -1.3935011 14.77608  -4.5396031  0.41625750 10.888577\n",
       "AAGTACCGTACAAGCG -0.4021744 34.68647 -17.2759200  0.02306961 -1.553981\n",
       "CAGATTGAGAAACTCA -2.0189199 16.34978  -8.5425807  4.03822022  0.860789\n",
       "                 PC_6      PC_7       PC_8        PC_9      PC_10       ⋯\n",
       "GTCATCCGTACTCCGG 0.7314219  2.5352849 -1.76626900 -4.343021 -2.06493132 ⋯\n",
       "CATCCCATCCCGTTCA 5.6371811 -3.8946536  2.72119043  2.427457  2.17685825 ⋯\n",
       "TCACTATCAGAGCCCT 1.0806180 -2.6968724 -0.54920038  2.164732 -2.66762518 ⋯\n",
       "GAAGCCCAGCGTACAG 3.8240736 -3.2657306  2.74112098  4.389812 -0.75336111 ⋯\n",
       "AAGTACCGTACAAGCG 1.4925368 -0.9996842 -2.70291180  1.131343  0.03049629 ⋯\n",
       "CAGATTGAGAAACTCA 1.6877635 -3.4961638  0.01501637 -1.376048 -5.26829983 ⋯\n",
       "                 PC_21     PC_22       PC_23      PC_24      PC_25     \n",
       "GTCATCCGTACTCCGG -3.152152  0.24599252 -0.5615581  1.7020404 -0.2106495\n",
       "CATCCCATCCCGTTCA -5.225047 -0.91172489  4.8334009  0.7000903 -0.4176070\n",
       "TCACTATCAGAGCCCT -1.919074 -1.74844777  1.3048095  2.2035514 -1.5074591\n",
       "GAAGCCCAGCGTACAG -1.187885  0.09541041  0.3440546  1.7034233  0.0477372\n",
       "AAGTACCGTACAAGCG -2.096994  1.86231805  1.4051790 -1.8125826  1.3115104\n",
       "CAGATTGAGAAACTCA  4.458442 -1.76233463 -0.3141387  2.1269505  0.4794912\n",
       "                 PC_26        PC_27      PC_28      PC_29      PC_30      \n",
       "GTCATCCGTACTCCGG -3.663787955 -2.1590854 -0.8282623  1.1466497  1.15998524\n",
       "CATCCCATCCCGTTCA -0.418632074 -2.6693893  1.2309406  0.8415601 -2.60511288\n",
       "TCACTATCAGAGCCCT -1.913727274 -0.2742048 -3.6568236 -0.2781244  3.30491935\n",
       "GAAGCCCAGCGTACAG  0.003470121 -1.6286310 -1.7696912 -1.0208537 -0.65178023\n",
       "AAGTACCGTACAAGCG -2.048835883  4.7902010 -4.1113461  1.5552944  3.11265850\n",
       "CAGATTGAGAAACTCA -0.519188056 -2.0102893  1.3141883  0.7554093 -0.02167699"
      ]
     },
     "metadata": {},
     "output_type": "display_data"
    }
   ],
   "source": [
    "a %>% `[[`('pca') %>% Embeddings %>% head"
   ]
  },
  {
   "cell_type": "code",
   "execution_count": 28,
   "id": "7c9551e7",
   "metadata": {},
   "outputs": [
    {
     "data": {
      "text/html": [
       "<table class=\"dataframe\">\n",
       "<caption>A matrix: 6 × 30 of type dbl</caption>\n",
       "<thead>\n",
       "\t<tr><th></th><th scope=col>mergedpca_1</th><th scope=col>mergedpca_2</th><th scope=col>mergedpca_3</th><th scope=col>mergedpca_4</th><th scope=col>mergedpca_5</th><th scope=col>mergedpca_6</th><th scope=col>mergedpca_7</th><th scope=col>mergedpca_8</th><th scope=col>mergedpca_9</th><th scope=col>mergedpca_10</th><th scope=col>⋯</th><th scope=col>mergedpca_21</th><th scope=col>mergedpca_22</th><th scope=col>mergedpca_23</th><th scope=col>mergedpca_24</th><th scope=col>mergedpca_25</th><th scope=col>mergedpca_26</th><th scope=col>mergedpca_27</th><th scope=col>mergedpca_28</th><th scope=col>mergedpca_29</th><th scope=col>mergedpca_30</th></tr>\n",
       "</thead>\n",
       "<tbody>\n",
       "\t<tr><th scope=row>GTCATCCGTACTCCGG</th><td> 1.1077154</td><td>34.75705</td><td>-21.4385371</td><td>-0.03706679</td><td>-3.858958</td><td>0.7314219</td><td> 2.5352849</td><td>-1.76626900</td><td>-4.343021</td><td>-2.06493132</td><td>⋯</td><td>-3.152152</td><td> 0.24599252</td><td>-0.5615581</td><td> 1.7020404</td><td>-0.2106495</td><td>-3.663787955</td><td>-2.1590854</td><td>-0.8282623</td><td> 1.1466497</td><td> 1.15998524</td></tr>\n",
       "\t<tr><th scope=row>CATCCCATCCCGTTCA</th><td>-2.9772062</td><td>19.66483</td><td> -0.1243606</td><td> 4.93194836</td><td> 5.604947</td><td>5.6371811</td><td>-3.8946536</td><td> 2.72119043</td><td> 2.427457</td><td> 2.17685825</td><td>⋯</td><td>-5.225047</td><td>-0.91172489</td><td> 4.8334009</td><td> 0.7000903</td><td>-0.4176070</td><td>-0.418632074</td><td>-2.6693893</td><td> 1.2309406</td><td> 0.8415601</td><td>-2.60511288</td></tr>\n",
       "\t<tr><th scope=row>TCACTATCAGAGCCCT</th><td> 0.2991739</td><td>29.22431</td><td>-15.5205330</td><td>-2.05627587</td><td>-1.641209</td><td>1.0806180</td><td>-2.6968724</td><td>-0.54920038</td><td> 2.164732</td><td>-2.66762518</td><td>⋯</td><td>-1.919074</td><td>-1.74844777</td><td> 1.3048095</td><td> 2.2035514</td><td>-1.5074591</td><td>-1.913727274</td><td>-0.2742048</td><td>-3.6568236</td><td>-0.2781244</td><td> 3.30491935</td></tr>\n",
       "\t<tr><th scope=row>GAAGCCCAGCGTACAG</th><td>-1.3935011</td><td>14.77608</td><td> -4.5396031</td><td> 0.41625750</td><td>10.888577</td><td>3.8240736</td><td>-3.2657306</td><td> 2.74112098</td><td> 4.389812</td><td>-0.75336111</td><td>⋯</td><td>-1.187885</td><td> 0.09541041</td><td> 0.3440546</td><td> 1.7034233</td><td> 0.0477372</td><td> 0.003470121</td><td>-1.6286310</td><td>-1.7696912</td><td>-1.0208537</td><td>-0.65178023</td></tr>\n",
       "\t<tr><th scope=row>AAGTACCGTACAAGCG</th><td>-0.4021744</td><td>34.68647</td><td>-17.2759200</td><td> 0.02306961</td><td>-1.553981</td><td>1.4925368</td><td>-0.9996842</td><td>-2.70291180</td><td> 1.131343</td><td> 0.03049629</td><td>⋯</td><td>-2.096994</td><td> 1.86231805</td><td> 1.4051790</td><td>-1.8125826</td><td> 1.3115104</td><td>-2.048835883</td><td> 4.7902010</td><td>-4.1113461</td><td> 1.5552944</td><td> 3.11265850</td></tr>\n",
       "\t<tr><th scope=row>CAGATTGAGAAACTCA</th><td>-2.0189199</td><td>16.34978</td><td> -8.5425807</td><td> 4.03822022</td><td> 0.860789</td><td>1.6877635</td><td>-3.4961638</td><td> 0.01501637</td><td>-1.376048</td><td>-5.26829983</td><td>⋯</td><td> 4.458442</td><td>-1.76233463</td><td>-0.3141387</td><td> 2.1269505</td><td> 0.4794912</td><td>-0.519188056</td><td>-2.0102893</td><td> 1.3141883</td><td> 0.7554093</td><td>-0.02167699</td></tr>\n",
       "</tbody>\n",
       "</table>\n"
      ],
      "text/latex": [
       "A matrix: 6 × 30 of type dbl\n",
       "\\begin{tabular}{r|lllllllllllllllllllll}\n",
       "  & mergedpca\\_1 & mergedpca\\_2 & mergedpca\\_3 & mergedpca\\_4 & mergedpca\\_5 & mergedpca\\_6 & mergedpca\\_7 & mergedpca\\_8 & mergedpca\\_9 & mergedpca\\_10 & ⋯ & mergedpca\\_21 & mergedpca\\_22 & mergedpca\\_23 & mergedpca\\_24 & mergedpca\\_25 & mergedpca\\_26 & mergedpca\\_27 & mergedpca\\_28 & mergedpca\\_29 & mergedpca\\_30\\\\\n",
       "\\hline\n",
       "\tGTCATCCGTACTCCGG &  1.1077154 & 34.75705 & -21.4385371 & -0.03706679 & -3.858958 & 0.7314219 &  2.5352849 & -1.76626900 & -4.343021 & -2.06493132 & ⋯ & -3.152152 &  0.24599252 & -0.5615581 &  1.7020404 & -0.2106495 & -3.663787955 & -2.1590854 & -0.8282623 &  1.1466497 &  1.15998524\\\\\n",
       "\tCATCCCATCCCGTTCA & -2.9772062 & 19.66483 &  -0.1243606 &  4.93194836 &  5.604947 & 5.6371811 & -3.8946536 &  2.72119043 &  2.427457 &  2.17685825 & ⋯ & -5.225047 & -0.91172489 &  4.8334009 &  0.7000903 & -0.4176070 & -0.418632074 & -2.6693893 &  1.2309406 &  0.8415601 & -2.60511288\\\\\n",
       "\tTCACTATCAGAGCCCT &  0.2991739 & 29.22431 & -15.5205330 & -2.05627587 & -1.641209 & 1.0806180 & -2.6968724 & -0.54920038 &  2.164732 & -2.66762518 & ⋯ & -1.919074 & -1.74844777 &  1.3048095 &  2.2035514 & -1.5074591 & -1.913727274 & -0.2742048 & -3.6568236 & -0.2781244 &  3.30491935\\\\\n",
       "\tGAAGCCCAGCGTACAG & -1.3935011 & 14.77608 &  -4.5396031 &  0.41625750 & 10.888577 & 3.8240736 & -3.2657306 &  2.74112098 &  4.389812 & -0.75336111 & ⋯ & -1.187885 &  0.09541041 &  0.3440546 &  1.7034233 &  0.0477372 &  0.003470121 & -1.6286310 & -1.7696912 & -1.0208537 & -0.65178023\\\\\n",
       "\tAAGTACCGTACAAGCG & -0.4021744 & 34.68647 & -17.2759200 &  0.02306961 & -1.553981 & 1.4925368 & -0.9996842 & -2.70291180 &  1.131343 &  0.03049629 & ⋯ & -2.096994 &  1.86231805 &  1.4051790 & -1.8125826 &  1.3115104 & -2.048835883 &  4.7902010 & -4.1113461 &  1.5552944 &  3.11265850\\\\\n",
       "\tCAGATTGAGAAACTCA & -2.0189199 & 16.34978 &  -8.5425807 &  4.03822022 &  0.860789 & 1.6877635 & -3.4961638 &  0.01501637 & -1.376048 & -5.26829983 & ⋯ &  4.458442 & -1.76233463 & -0.3141387 &  2.1269505 &  0.4794912 & -0.519188056 & -2.0102893 &  1.3141883 &  0.7554093 & -0.02167699\\\\\n",
       "\\end{tabular}\n"
      ],
      "text/markdown": [
       "\n",
       "A matrix: 6 × 30 of type dbl\n",
       "\n",
       "| <!--/--> | mergedpca_1 | mergedpca_2 | mergedpca_3 | mergedpca_4 | mergedpca_5 | mergedpca_6 | mergedpca_7 | mergedpca_8 | mergedpca_9 | mergedpca_10 | ⋯ | mergedpca_21 | mergedpca_22 | mergedpca_23 | mergedpca_24 | mergedpca_25 | mergedpca_26 | mergedpca_27 | mergedpca_28 | mergedpca_29 | mergedpca_30 |\n",
       "|---|---|---|---|---|---|---|---|---|---|---|---|---|---|---|---|---|---|---|---|---|---|\n",
       "| GTCATCCGTACTCCGG |  1.1077154 | 34.75705 | -21.4385371 | -0.03706679 | -3.858958 | 0.7314219 |  2.5352849 | -1.76626900 | -4.343021 | -2.06493132 | ⋯ | -3.152152 |  0.24599252 | -0.5615581 |  1.7020404 | -0.2106495 | -3.663787955 | -2.1590854 | -0.8282623 |  1.1466497 |  1.15998524 |\n",
       "| CATCCCATCCCGTTCA | -2.9772062 | 19.66483 |  -0.1243606 |  4.93194836 |  5.604947 | 5.6371811 | -3.8946536 |  2.72119043 |  2.427457 |  2.17685825 | ⋯ | -5.225047 | -0.91172489 |  4.8334009 |  0.7000903 | -0.4176070 | -0.418632074 | -2.6693893 |  1.2309406 |  0.8415601 | -2.60511288 |\n",
       "| TCACTATCAGAGCCCT |  0.2991739 | 29.22431 | -15.5205330 | -2.05627587 | -1.641209 | 1.0806180 | -2.6968724 | -0.54920038 |  2.164732 | -2.66762518 | ⋯ | -1.919074 | -1.74844777 |  1.3048095 |  2.2035514 | -1.5074591 | -1.913727274 | -0.2742048 | -3.6568236 | -0.2781244 |  3.30491935 |\n",
       "| GAAGCCCAGCGTACAG | -1.3935011 | 14.77608 |  -4.5396031 |  0.41625750 | 10.888577 | 3.8240736 | -3.2657306 |  2.74112098 |  4.389812 | -0.75336111 | ⋯ | -1.187885 |  0.09541041 |  0.3440546 |  1.7034233 |  0.0477372 |  0.003470121 | -1.6286310 | -1.7696912 | -1.0208537 | -0.65178023 |\n",
       "| AAGTACCGTACAAGCG | -0.4021744 | 34.68647 | -17.2759200 |  0.02306961 | -1.553981 | 1.4925368 | -0.9996842 | -2.70291180 |  1.131343 |  0.03049629 | ⋯ | -2.096994 |  1.86231805 |  1.4051790 | -1.8125826 |  1.3115104 | -2.048835883 |  4.7902010 | -4.1113461 |  1.5552944 |  3.11265850 |\n",
       "| CAGATTGAGAAACTCA | -2.0189199 | 16.34978 |  -8.5425807 |  4.03822022 |  0.860789 | 1.6877635 | -3.4961638 |  0.01501637 | -1.376048 | -5.26829983 | ⋯ |  4.458442 | -1.76233463 | -0.3141387 |  2.1269505 |  0.4794912 | -0.519188056 | -2.0102893 |  1.3141883 |  0.7554093 | -0.02167699 |\n",
       "\n"
      ],
      "text/plain": [
       "                 mergedpca_1 mergedpca_2 mergedpca_3 mergedpca_4 mergedpca_5\n",
       "GTCATCCGTACTCCGG  1.1077154  34.75705    -21.4385371 -0.03706679 -3.858958  \n",
       "CATCCCATCCCGTTCA -2.9772062  19.66483     -0.1243606  4.93194836  5.604947  \n",
       "TCACTATCAGAGCCCT  0.2991739  29.22431    -15.5205330 -2.05627587 -1.641209  \n",
       "GAAGCCCAGCGTACAG -1.3935011  14.77608     -4.5396031  0.41625750 10.888577  \n",
       "AAGTACCGTACAAGCG -0.4021744  34.68647    -17.2759200  0.02306961 -1.553981  \n",
       "CAGATTGAGAAACTCA -2.0189199  16.34978     -8.5425807  4.03822022  0.860789  \n",
       "                 mergedpca_6 mergedpca_7 mergedpca_8 mergedpca_9 mergedpca_10 ⋯\n",
       "GTCATCCGTACTCCGG 0.7314219    2.5352849  -1.76626900 -4.343021   -2.06493132  ⋯\n",
       "CATCCCATCCCGTTCA 5.6371811   -3.8946536   2.72119043  2.427457    2.17685825  ⋯\n",
       "TCACTATCAGAGCCCT 1.0806180   -2.6968724  -0.54920038  2.164732   -2.66762518  ⋯\n",
       "GAAGCCCAGCGTACAG 3.8240736   -3.2657306   2.74112098  4.389812   -0.75336111  ⋯\n",
       "AAGTACCGTACAAGCG 1.4925368   -0.9996842  -2.70291180  1.131343    0.03049629  ⋯\n",
       "CAGATTGAGAAACTCA 1.6877635   -3.4961638   0.01501637 -1.376048   -5.26829983  ⋯\n",
       "                 mergedpca_21 mergedpca_22 mergedpca_23 mergedpca_24\n",
       "GTCATCCGTACTCCGG -3.152152     0.24599252  -0.5615581    1.7020404  \n",
       "CATCCCATCCCGTTCA -5.225047    -0.91172489   4.8334009    0.7000903  \n",
       "TCACTATCAGAGCCCT -1.919074    -1.74844777   1.3048095    2.2035514  \n",
       "GAAGCCCAGCGTACAG -1.187885     0.09541041   0.3440546    1.7034233  \n",
       "AAGTACCGTACAAGCG -2.096994     1.86231805   1.4051790   -1.8125826  \n",
       "CAGATTGAGAAACTCA  4.458442    -1.76233463  -0.3141387    2.1269505  \n",
       "                 mergedpca_25 mergedpca_26 mergedpca_27 mergedpca_28\n",
       "GTCATCCGTACTCCGG -0.2106495   -3.663787955 -2.1590854   -0.8282623  \n",
       "CATCCCATCCCGTTCA -0.4176070   -0.418632074 -2.6693893    1.2309406  \n",
       "TCACTATCAGAGCCCT -1.5074591   -1.913727274 -0.2742048   -3.6568236  \n",
       "GAAGCCCAGCGTACAG  0.0477372    0.003470121 -1.6286310   -1.7696912  \n",
       "AAGTACCGTACAAGCG  1.3115104   -2.048835883  4.7902010   -4.1113461  \n",
       "CAGATTGAGAAACTCA  0.4794912   -0.519188056 -2.0102893    1.3141883  \n",
       "                 mergedpca_29 mergedpca_30\n",
       "GTCATCCGTACTCCGG  1.1466497    1.15998524 \n",
       "CATCCCATCCCGTTCA  0.8415601   -2.60511288 \n",
       "TCACTATCAGAGCCCT -0.2781244    3.30491935 \n",
       "GAAGCCCAGCGTACAG -1.0208537   -0.65178023 \n",
       "AAGTACCGTACAAGCG  1.5552944    3.11265850 \n",
       "CAGATTGAGAAACTCA  0.7554093   -0.02167699 "
      ]
     },
     "metadata": {},
     "output_type": "display_data"
    }
   ],
   "source": [
    "a %>% `[[`('mergedpca') %>% Embeddings %>% head"
   ]
  },
  {
   "cell_type": "code",
   "execution_count": 23,
   "id": "1e1388b5",
   "metadata": {},
   "outputs": [
    {
     "data": {
      "text/html": [
       "<table class=\"dataframe\">\n",
       "<caption>A matrix: 6 × 30 of type dbl</caption>\n",
       "<thead>\n",
       "\t<tr><th></th><th scope=col>mergedpca_1</th><th scope=col>mergedpca_2</th><th scope=col>mergedpca_3</th><th scope=col>mergedpca_4</th><th scope=col>mergedpca_5</th><th scope=col>mergedpca_6</th><th scope=col>mergedpca_7</th><th scope=col>mergedpca_8</th><th scope=col>mergedpca_9</th><th scope=col>mergedpca_10</th><th scope=col>⋯</th><th scope=col>mergedpca_21</th><th scope=col>mergedpca_22</th><th scope=col>mergedpca_23</th><th scope=col>mergedpca_24</th><th scope=col>mergedpca_25</th><th scope=col>mergedpca_26</th><th scope=col>mergedpca_27</th><th scope=col>mergedpca_28</th><th scope=col>mergedpca_29</th><th scope=col>mergedpca_30</th></tr>\n",
       "</thead>\n",
       "<tbody>\n",
       "\t<tr><th scope=row>CATTCATTCTGTAACG</th><td> 11.146006</td><td>102.80124</td><td> 3.789744</td><td> -8.161713</td><td>  0.5369831</td><td> 8.937819</td><td> 3.475544</td><td>-0.803884</td><td>-0.3241764</td><td> 2.050436</td><td>⋯</td><td> 1.4434281</td><td> 0.2635482</td><td> 3.0626390</td><td> 0.6574678</td><td> 1.1695019</td><td> 1.7980473</td><td>-0.8905660</td><td>-5.346840</td><td>-2.0373473</td><td>-2.5788478</td></tr>\n",
       "\t<tr><th scope=row>TGTTGGACAACTGGTT</th><td> 10.143254</td><td> 99.82575</td><td> 3.081327</td><td> -4.655394</td><td>  0.5504482</td><td> 9.731047</td><td> 0.392907</td><td>-1.331700</td><td>-3.4001669</td><td>-3.393647</td><td>⋯</td><td>-1.1186206</td><td>-1.9503713</td><td>-1.8989834</td><td>-0.8229129</td><td> 0.4649039</td><td> 1.8990193</td><td> 3.7362325</td><td>-1.617533</td><td>-0.6680390</td><td>-1.4756359</td></tr>\n",
       "\t<tr><th scope=row>CAACCTCCACTGCATA</th><td> 11.872051</td><td>106.22414</td><td> 4.422881</td><td> -5.399849</td><td>  1.9278407</td><td>13.374198</td><td> 3.807192</td><td> 3.406149</td><td>-2.6262767</td><td> 1.410812</td><td>⋯</td><td>-0.5739161</td><td>-2.0597080</td><td>-3.1149040</td><td>-0.6420105</td><td>-0.7033086</td><td> 4.6186171</td><td> 3.6748975</td><td>-3.544396</td><td> 3.8729063</td><td> 3.4092243</td></tr>\n",
       "\t<tr><th scope=row>GAAACCTAGAACTTCC</th><td>-18.664586</td><td>-13.29337</td><td>-1.268765</td><td>-46.114132</td><td>-69.3111452</td><td> 3.059865</td><td> 5.924595</td><td> 5.986885</td><td>18.9646687</td><td>15.182105</td><td>⋯</td><td>-9.0989277</td><td>-0.6974340</td><td> 0.2412050</td><td> 3.9781466</td><td>-2.7191122</td><td>-0.4735949</td><td> 8.4572671</td><td> 7.742500</td><td>-6.4269014</td><td> 2.5629793</td></tr>\n",
       "\t<tr><th scope=row>ACTATCTCACTCCGGA</th><td> 11.461046</td><td>102.61398</td><td> 2.778705</td><td> -5.904379</td><td>  2.6080980</td><td>17.927861</td><td> 3.346518</td><td>-4.967907</td><td>-0.9851319</td><td> 1.198642</td><td>⋯</td><td>-1.9217796</td><td>-1.0459883</td><td>-3.0917057</td><td> 0.3889336</td><td> 3.0399016</td><td> 2.8326612</td><td> 2.2528285</td><td>-3.199797</td><td> 0.3414275</td><td>-0.2759049</td></tr>\n",
       "\t<tr><th scope=row>AGTTCCCGTCTTTATC</th><td>  9.259105</td><td> 98.67197</td><td> 3.136475</td><td> -5.515905</td><td>  1.6945574</td><td>19.611559</td><td>-1.204251</td><td>-2.482607</td><td>-2.1412796</td><td>-2.365955</td><td>⋯</td><td> 2.2744802</td><td>-1.2700269</td><td> 0.8900672</td><td> 0.8889671</td><td> 1.3657591</td><td> 3.7615100</td><td>-0.1432239</td><td>-4.987964</td><td> 1.4919521</td><td>-4.2526432</td></tr>\n",
       "</tbody>\n",
       "</table>\n"
      ],
      "text/latex": [
       "A matrix: 6 × 30 of type dbl\n",
       "\\begin{tabular}{r|lllllllllllllllllllll}\n",
       "  & mergedpca\\_1 & mergedpca\\_2 & mergedpca\\_3 & mergedpca\\_4 & mergedpca\\_5 & mergedpca\\_6 & mergedpca\\_7 & mergedpca\\_8 & mergedpca\\_9 & mergedpca\\_10 & ⋯ & mergedpca\\_21 & mergedpca\\_22 & mergedpca\\_23 & mergedpca\\_24 & mergedpca\\_25 & mergedpca\\_26 & mergedpca\\_27 & mergedpca\\_28 & mergedpca\\_29 & mergedpca\\_30\\\\\n",
       "\\hline\n",
       "\tCATTCATTCTGTAACG &  11.146006 & 102.80124 &  3.789744 &  -8.161713 &   0.5369831 &  8.937819 &  3.475544 & -0.803884 & -0.3241764 &  2.050436 & ⋯ &  1.4434281 &  0.2635482 &  3.0626390 &  0.6574678 &  1.1695019 &  1.7980473 & -0.8905660 & -5.346840 & -2.0373473 & -2.5788478\\\\\n",
       "\tTGTTGGACAACTGGTT &  10.143254 &  99.82575 &  3.081327 &  -4.655394 &   0.5504482 &  9.731047 &  0.392907 & -1.331700 & -3.4001669 & -3.393647 & ⋯ & -1.1186206 & -1.9503713 & -1.8989834 & -0.8229129 &  0.4649039 &  1.8990193 &  3.7362325 & -1.617533 & -0.6680390 & -1.4756359\\\\\n",
       "\tCAACCTCCACTGCATA &  11.872051 & 106.22414 &  4.422881 &  -5.399849 &   1.9278407 & 13.374198 &  3.807192 &  3.406149 & -2.6262767 &  1.410812 & ⋯ & -0.5739161 & -2.0597080 & -3.1149040 & -0.6420105 & -0.7033086 &  4.6186171 &  3.6748975 & -3.544396 &  3.8729063 &  3.4092243\\\\\n",
       "\tGAAACCTAGAACTTCC & -18.664586 & -13.29337 & -1.268765 & -46.114132 & -69.3111452 &  3.059865 &  5.924595 &  5.986885 & 18.9646687 & 15.182105 & ⋯ & -9.0989277 & -0.6974340 &  0.2412050 &  3.9781466 & -2.7191122 & -0.4735949 &  8.4572671 &  7.742500 & -6.4269014 &  2.5629793\\\\\n",
       "\tACTATCTCACTCCGGA &  11.461046 & 102.61398 &  2.778705 &  -5.904379 &   2.6080980 & 17.927861 &  3.346518 & -4.967907 & -0.9851319 &  1.198642 & ⋯ & -1.9217796 & -1.0459883 & -3.0917057 &  0.3889336 &  3.0399016 &  2.8326612 &  2.2528285 & -3.199797 &  0.3414275 & -0.2759049\\\\\n",
       "\tAGTTCCCGTCTTTATC &   9.259105 &  98.67197 &  3.136475 &  -5.515905 &   1.6945574 & 19.611559 & -1.204251 & -2.482607 & -2.1412796 & -2.365955 & ⋯ &  2.2744802 & -1.2700269 &  0.8900672 &  0.8889671 &  1.3657591 &  3.7615100 & -0.1432239 & -4.987964 &  1.4919521 & -4.2526432\\\\\n",
       "\\end{tabular}\n"
      ],
      "text/markdown": [
       "\n",
       "A matrix: 6 × 30 of type dbl\n",
       "\n",
       "| <!--/--> | mergedpca_1 | mergedpca_2 | mergedpca_3 | mergedpca_4 | mergedpca_5 | mergedpca_6 | mergedpca_7 | mergedpca_8 | mergedpca_9 | mergedpca_10 | ⋯ | mergedpca_21 | mergedpca_22 | mergedpca_23 | mergedpca_24 | mergedpca_25 | mergedpca_26 | mergedpca_27 | mergedpca_28 | mergedpca_29 | mergedpca_30 |\n",
       "|---|---|---|---|---|---|---|---|---|---|---|---|---|---|---|---|---|---|---|---|---|---|\n",
       "| CATTCATTCTGTAACG |  11.146006 | 102.80124 |  3.789744 |  -8.161713 |   0.5369831 |  8.937819 |  3.475544 | -0.803884 | -0.3241764 |  2.050436 | ⋯ |  1.4434281 |  0.2635482 |  3.0626390 |  0.6574678 |  1.1695019 |  1.7980473 | -0.8905660 | -5.346840 | -2.0373473 | -2.5788478 |\n",
       "| TGTTGGACAACTGGTT |  10.143254 |  99.82575 |  3.081327 |  -4.655394 |   0.5504482 |  9.731047 |  0.392907 | -1.331700 | -3.4001669 | -3.393647 | ⋯ | -1.1186206 | -1.9503713 | -1.8989834 | -0.8229129 |  0.4649039 |  1.8990193 |  3.7362325 | -1.617533 | -0.6680390 | -1.4756359 |\n",
       "| CAACCTCCACTGCATA |  11.872051 | 106.22414 |  4.422881 |  -5.399849 |   1.9278407 | 13.374198 |  3.807192 |  3.406149 | -2.6262767 |  1.410812 | ⋯ | -0.5739161 | -2.0597080 | -3.1149040 | -0.6420105 | -0.7033086 |  4.6186171 |  3.6748975 | -3.544396 |  3.8729063 |  3.4092243 |\n",
       "| GAAACCTAGAACTTCC | -18.664586 | -13.29337 | -1.268765 | -46.114132 | -69.3111452 |  3.059865 |  5.924595 |  5.986885 | 18.9646687 | 15.182105 | ⋯ | -9.0989277 | -0.6974340 |  0.2412050 |  3.9781466 | -2.7191122 | -0.4735949 |  8.4572671 |  7.742500 | -6.4269014 |  2.5629793 |\n",
       "| ACTATCTCACTCCGGA |  11.461046 | 102.61398 |  2.778705 |  -5.904379 |   2.6080980 | 17.927861 |  3.346518 | -4.967907 | -0.9851319 |  1.198642 | ⋯ | -1.9217796 | -1.0459883 | -3.0917057 |  0.3889336 |  3.0399016 |  2.8326612 |  2.2528285 | -3.199797 |  0.3414275 | -0.2759049 |\n",
       "| AGTTCCCGTCTTTATC |   9.259105 |  98.67197 |  3.136475 |  -5.515905 |   1.6945574 | 19.611559 | -1.204251 | -2.482607 | -2.1412796 | -2.365955 | ⋯ |  2.2744802 | -1.2700269 |  0.8900672 |  0.8889671 |  1.3657591 |  3.7615100 | -0.1432239 | -4.987964 |  1.4919521 | -4.2526432 |\n",
       "\n"
      ],
      "text/plain": [
       "                 mergedpca_1 mergedpca_2 mergedpca_3 mergedpca_4 mergedpca_5\n",
       "CATTCATTCTGTAACG  11.146006  102.80124    3.789744    -8.161713    0.5369831\n",
       "TGTTGGACAACTGGTT  10.143254   99.82575    3.081327    -4.655394    0.5504482\n",
       "CAACCTCCACTGCATA  11.872051  106.22414    4.422881    -5.399849    1.9278407\n",
       "GAAACCTAGAACTTCC -18.664586  -13.29337   -1.268765   -46.114132  -69.3111452\n",
       "ACTATCTCACTCCGGA  11.461046  102.61398    2.778705    -5.904379    2.6080980\n",
       "AGTTCCCGTCTTTATC   9.259105   98.67197    3.136475    -5.515905    1.6945574\n",
       "                 mergedpca_6 mergedpca_7 mergedpca_8 mergedpca_9 mergedpca_10 ⋯\n",
       "CATTCATTCTGTAACG  8.937819    3.475544   -0.803884   -0.3241764   2.050436    ⋯\n",
       "TGTTGGACAACTGGTT  9.731047    0.392907   -1.331700   -3.4001669  -3.393647    ⋯\n",
       "CAACCTCCACTGCATA 13.374198    3.807192    3.406149   -2.6262767   1.410812    ⋯\n",
       "GAAACCTAGAACTTCC  3.059865    5.924595    5.986885   18.9646687  15.182105    ⋯\n",
       "ACTATCTCACTCCGGA 17.927861    3.346518   -4.967907   -0.9851319   1.198642    ⋯\n",
       "AGTTCCCGTCTTTATC 19.611559   -1.204251   -2.482607   -2.1412796  -2.365955    ⋯\n",
       "                 mergedpca_21 mergedpca_22 mergedpca_23 mergedpca_24\n",
       "CATTCATTCTGTAACG  1.4434281    0.2635482    3.0626390    0.6574678  \n",
       "TGTTGGACAACTGGTT -1.1186206   -1.9503713   -1.8989834   -0.8229129  \n",
       "CAACCTCCACTGCATA -0.5739161   -2.0597080   -3.1149040   -0.6420105  \n",
       "GAAACCTAGAACTTCC -9.0989277   -0.6974340    0.2412050    3.9781466  \n",
       "ACTATCTCACTCCGGA -1.9217796   -1.0459883   -3.0917057    0.3889336  \n",
       "AGTTCCCGTCTTTATC  2.2744802   -1.2700269    0.8900672    0.8889671  \n",
       "                 mergedpca_25 mergedpca_26 mergedpca_27 mergedpca_28\n",
       "CATTCATTCTGTAACG  1.1695019    1.7980473   -0.8905660   -5.346840   \n",
       "TGTTGGACAACTGGTT  0.4649039    1.8990193    3.7362325   -1.617533   \n",
       "CAACCTCCACTGCATA -0.7033086    4.6186171    3.6748975   -3.544396   \n",
       "GAAACCTAGAACTTCC -2.7191122   -0.4735949    8.4572671    7.742500   \n",
       "ACTATCTCACTCCGGA  3.0399016    2.8326612    2.2528285   -3.199797   \n",
       "AGTTCCCGTCTTTATC  1.3657591    3.7615100   -0.1432239   -4.987964   \n",
       "                 mergedpca_29 mergedpca_30\n",
       "CATTCATTCTGTAACG -2.0373473   -2.5788478  \n",
       "TGTTGGACAACTGGTT -0.6680390   -1.4756359  \n",
       "CAACCTCCACTGCATA  3.8729063    3.4092243  \n",
       "GAAACCTAGAACTTCC -6.4269014    2.5629793  \n",
       "ACTATCTCACTCCGGA  0.3414275   -0.2759049  \n",
       "AGTTCCCGTCTTTATC  1.4919521   -4.2526432  "
      ]
     },
     "metadata": {},
     "output_type": "display_data"
    }
   ],
   "source": [
    "obj %>% `[[`('mergedpca') %>% Embeddings %>% head"
   ]
  },
  {
   "cell_type": "code",
   "execution_count": 85,
   "id": "e570605c",
   "metadata": {},
   "outputs": [],
   "source": [
    "obj = qs::qread('../00_bmp_preprocessing/_targets/objects/bmp1_fgf1_mapped')"
   ]
  },
  {
   "cell_type": "code",
   "execution_count": 86,
   "id": "6d019307",
   "metadata": {},
   "outputs": [
    {
     "data": {
      "text/plain": [
       "An object of class Seurat \n",
       "60617 features across 45622 samples within 4 assays \n",
       "Active assay: SCT (26707 features, 3000 variable features)\n",
       " 3 other assays present: RNA, integrated, prediction.score.labels\n",
       " 6 dimensional reductions calculated: pca, umap, mergedumap, mergedpca, sctumap, sctpca"
      ]
     },
     "metadata": {},
     "output_type": "display_data"
    }
   ],
   "source": [
    "obj"
   ]
  },
  {
   "cell_type": "code",
   "execution_count": 87,
   "id": "30ddaca8",
   "metadata": {},
   "outputs": [
    {
     "data": {
      "text/html": [
       "<style>\n",
       ".list-inline {list-style: none; margin:0; padding: 0}\n",
       ".list-inline>li {display: inline-block}\n",
       ".list-inline>li:not(:last-child)::after {content: \"\\00b7\"; padding: 0 .5ex}\n",
       "</style>\n",
       "<ol class=list-inline><li>'NG2_OPC2'</li><li>'b2_Tany'</li><li>'Endothelial'</li><li>'NG2_OPC2-Microglia'</li><li>'b1_Tanycytes'</li><li>'a1_Tany-Astrocytes'</li><li>'NFOL'</li><li>'MOL'</li><li>'Astrocytes'</li><li>'Parstuber2A-ParsTuber1'</li><li>'Epend'</li><li>'a2_Tanycytes'</li><li>'Fibroblasts2-Fibroblasts3'</li><li>'a2_Tanycytes-b1_Tanycytes'</li><li>'Microglia'</li><li>'Mural_Cells2'</li><li>'MOL-a2_Tanycytes'</li></ol>\n"
      ],
      "text/latex": [
       "\\begin{enumerate*}\n",
       "\\item 'NG2\\_OPC2'\n",
       "\\item 'b2\\_Tany'\n",
       "\\item 'Endothelial'\n",
       "\\item 'NG2\\_OPC2-Microglia'\n",
       "\\item 'b1\\_Tanycytes'\n",
       "\\item 'a1\\_Tany-Astrocytes'\n",
       "\\item 'NFOL'\n",
       "\\item 'MOL'\n",
       "\\item 'Astrocytes'\n",
       "\\item 'Parstuber2A-ParsTuber1'\n",
       "\\item 'Epend'\n",
       "\\item 'a2\\_Tanycytes'\n",
       "\\item 'Fibroblasts2-Fibroblasts3'\n",
       "\\item 'a2\\_Tanycytes-b1\\_Tanycytes'\n",
       "\\item 'Microglia'\n",
       "\\item 'Mural\\_Cells2'\n",
       "\\item 'MOL-a2\\_Tanycytes'\n",
       "\\end{enumerate*}\n"
      ],
      "text/markdown": [
       "1. 'NG2_OPC2'\n",
       "2. 'b2_Tany'\n",
       "3. 'Endothelial'\n",
       "4. 'NG2_OPC2-Microglia'\n",
       "5. 'b1_Tanycytes'\n",
       "6. 'a1_Tany-Astrocytes'\n",
       "7. 'NFOL'\n",
       "8. 'MOL'\n",
       "9. 'Astrocytes'\n",
       "10. 'Parstuber2A-ParsTuber1'\n",
       "11. 'Epend'\n",
       "12. 'a2_Tanycytes'\n",
       "13. 'Fibroblasts2-Fibroblasts3'\n",
       "14. 'a2_Tanycytes-b1_Tanycytes'\n",
       "15. 'Microglia'\n",
       "16. 'Mural_Cells2'\n",
       "17. 'MOL-a2_Tanycytes'\n",
       "\n",
       "\n"
      ],
      "text/plain": [
       " [1] \"NG2_OPC2\"                  \"b2_Tany\"                  \n",
       " [3] \"Endothelial\"               \"NG2_OPC2-Microglia\"       \n",
       " [5] \"b1_Tanycytes\"              \"a1_Tany-Astrocytes\"       \n",
       " [7] \"NFOL\"                      \"MOL\"                      \n",
       " [9] \"Astrocytes\"                \"Parstuber2A-ParsTuber1\"   \n",
       "[11] \"Epend\"                     \"a2_Tanycytes\"             \n",
       "[13] \"Fibroblasts2-Fibroblasts3\" \"a2_Tanycytes-b1_Tanycytes\"\n",
       "[15] \"Microglia\"                 \"Mural_Cells2\"             \n",
       "[17] \"MOL-a2_Tanycytes\"         "
      ]
     },
     "metadata": {},
     "output_type": "display_data"
    }
   ],
   "source": [
    "obj@meta.data %>% pull(labels) %>% unique"
   ]
  },
  {
   "cell_type": "code",
   "execution_count": 88,
   "id": "d571ac89",
   "metadata": {},
   "outputs": [
    {
     "data": {
      "text/plain": [
       "An object of class Seurat \n",
       "60617 features across 45622 samples within 4 assays \n",
       "Active assay: SCT (26707 features, 3000 variable features)\n",
       " 3 other assays present: RNA, integrated, prediction.score.labels\n",
       " 6 dimensional reductions calculated: pca, umap, mergedumap, mergedpca, sctumap, sctpca"
      ]
     },
     "metadata": {},
     "output_type": "display_data"
    }
   ],
   "source": [
    "obj = obj %>%\n",
    "subset_exp_by_time('all')\n",
    "obj"
   ]
  },
  {
   "cell_type": "code",
   "execution_count": 89,
   "id": "ff7ff622",
   "metadata": {},
   "outputs": [
    {
     "data": {
      "text/plain": [
       "An object of class Seurat \n",
       "60617 features across 45622 samples within 4 assays \n",
       "Active assay: SCT (26707 features, 3000 variable features)\n",
       " 3 other assays present: RNA, integrated, prediction.score.labels\n",
       " 6 dimensional reductions calculated: pca, umap, mergedumap, mergedpca, sctumap, sctpca"
      ]
     },
     "metadata": {},
     "output_type": "display_data"
    }
   ],
   "source": [
    "obj = obj %>%\n",
    "prep_obj_for_milo\n",
    "\n",
    "obj"
   ]
  },
  {
   "cell_type": "code",
   "execution_count": null,
   "id": "9ba6188e",
   "metadata": {},
   "outputs": [],
   "source": [
    "obj = obj %>%\n",
    "single_split('Astrocytes') \n",
    "\n",
    "obj"
   ]
  },
  {
   "cell_type": "code",
   "execution_count": null,
   "id": "69f7a6ed",
   "metadata": {},
   "outputs": [],
   "source": [
    "obj = obj %>%\n",
    "sc_transform_fgf1_nobatch\n",
    "obj"
   ]
  },
  {
   "cell_type": "code",
   "execution_count": null,
   "id": "2ca2f17f",
   "metadata": {},
   "outputs": [],
   "source": []
  },
  {
   "cell_type": "code",
   "execution_count": null,
   "id": "1f39eb98",
   "metadata": {},
   "outputs": [],
   "source": []
  },
  {
   "cell_type": "code",
   "execution_count": null,
   "id": "2396c3a3",
   "metadata": {},
   "outputs": [],
   "source": [
    "obj = obj %>%\n",
    "set_unimod_embedding\n",
    "\n",
    "obj"
   ]
  },
  {
   "cell_type": "code",
   "execution_count": 83,
   "id": "99a286eb",
   "metadata": {},
   "outputs": [
    {
     "data": {
      "text/html": [
       "'Astrocytes'"
      ],
      "text/latex": [
       "'Astrocytes'"
      ],
      "text/markdown": [
       "'Astrocytes'"
      ],
      "text/plain": [
       "[1] \"Astrocytes\""
      ]
     },
     "metadata": {},
     "output_type": "display_data"
    }
   ],
   "source": [
    "obj@meta.data %>% pull(labels) %>% unique"
   ]
  },
  {
   "cell_type": "code",
   "execution_count": null,
   "id": "24a8f21a",
   "metadata": {},
   "outputs": [],
   "source": []
  }
 ],
 "metadata": {
  "kernelspec": {
   "display_name": "R [conda env:fgf1_ygg]",
   "language": "R",
   "name": "conda-env-fgf1_ygg-r"
  },
  "language_info": {
   "codemirror_mode": "r",
   "file_extension": ".r",
   "mimetype": "text/x-r-source",
   "name": "R",
   "pygments_lexer": "r",
   "version": "4.1.3"
  }
 },
 "nbformat": 4,
 "nbformat_minor": 5
}
