{
 "cells": [
  {
   "cell_type": "code",
   "execution_count": 1,
   "id": "b49c14f5",
   "metadata": {},
   "outputs": [
    {
     "name": "stderr",
     "output_type": "stream",
     "text": [
      "── \u001b[1mAttaching packages\u001b[22m ─────────────────────────────────────── tidyverse 1.3.2 ──\n",
      "\u001b[32m✔\u001b[39m \u001b[34mggplot2\u001b[39m 3.3.6      \u001b[32m✔\u001b[39m \u001b[34mpurrr  \u001b[39m 0.3.4 \n",
      "\u001b[32m✔\u001b[39m \u001b[34mtibble \u001b[39m 3.1.8      \u001b[32m✔\u001b[39m \u001b[34mdplyr  \u001b[39m 1.0.10\n",
      "\u001b[32m✔\u001b[39m \u001b[34mtidyr  \u001b[39m 1.2.1      \u001b[32m✔\u001b[39m \u001b[34mstringr\u001b[39m 1.4.1 \n",
      "\u001b[32m✔\u001b[39m \u001b[34mreadr  \u001b[39m 2.1.2      \u001b[32m✔\u001b[39m \u001b[34mforcats\u001b[39m 0.5.2 \n",
      "── \u001b[1mConflicts\u001b[22m ────────────────────────────────────────── tidyverse_conflicts() ──\n",
      "\u001b[31m✖\u001b[39m \u001b[34mdplyr\u001b[39m::\u001b[32mfilter()\u001b[39m masks \u001b[34mstats\u001b[39m::filter()\n",
      "\u001b[31m✖\u001b[39m \u001b[34mdplyr\u001b[39m::\u001b[32mlag()\u001b[39m    masks \u001b[34mstats\u001b[39m::lag()\n"
     ]
    }
   ],
   "source": [
    "library(tidyverse)\n",
    "library(targets)\n",
    "library(tarchetypes)"
   ]
  },
  {
   "cell_type": "code",
   "execution_count": 12,
   "id": "d8fe31b0",
   "metadata": {},
   "outputs": [],
   "source": [
    "combination_recipe = qs::qread(\"combination_recipe_bmp1.qs\")"
   ]
  },
  {
   "cell_type": "code",
   "execution_count": 13,
   "id": "1ba04007",
   "metadata": {},
   "outputs": [
    {
     "data": {
      "text/html": [
       "<table class=\"dataframe\">\n",
       "<caption>A tibble: 18 × 4</caption>\n",
       "<thead>\n",
       "\t<tr><th scope=col>output_name</th><th scope=col>output_suffix</th><th scope=col>day</th><th scope=col>contrast_name</th></tr>\n",
       "\t<tr><th scope=col>&lt;chr&gt;</th><th scope=col>&lt;chr&gt;</th><th scope=col>&lt;chr&gt;</th><th scope=col>&lt;chr&gt;</th></tr>\n",
       "</thead>\n",
       "<tbody>\n",
       "\t<tr><td>combined_da_results_all.BL6d5d14                      </td><td>all.BL6d5d14                      </td><td>all </td><td>BL6d5d14                     </td></tr>\n",
       "\t<tr><td>combined_da_results_all.BMP1_LDNvVehicle              </td><td>all.BMP1_LDNvVehicle              </td><td>all </td><td>BMP1_LDNvVehicle             </td></tr>\n",
       "\t<tr><td>combined_da_results_all.BMP1_Vehicle_vs_FGF1_Veh_PF   </td><td>all.BMP1_Vehicle_vs_FGF1_Veh_PF   </td><td>all </td><td>BMP1_Vehicle_vs_FGF1_Veh_PF  </td></tr>\n",
       "\t<tr><td>combined_da_results_all.obob14v14                     </td><td>all.obob14v14                     </td><td>all </td><td>obob14v14                    </td></tr>\n",
       "\t<tr><td>combined_da_results_all.obob14vBL6                    </td><td>all.obob14vBL6                    </td><td>all </td><td>obob14vBL6                   </td></tr>\n",
       "\t<tr><td>combined_da_results_all.obob5v5                       </td><td>all.obob5v5                       </td><td>all </td><td>obob5v5                      </td></tr>\n",
       "\t<tr><td>combined_da_results_all.obob5vBL6                     </td><td>all.obob5vBL6                     </td><td>all </td><td>obob5vBL6                    </td></tr>\n",
       "\t<tr><td>combined_da_results_all.obobBL6                       </td><td>all.obobBL6                       </td><td>all </td><td>obobBL6                      </td></tr>\n",
       "\t<tr><td>combined_da_results_all.obobBL6d14                    </td><td>all.obobBL6d14                    </td><td>all </td><td>obobBL6d14                   </td></tr>\n",
       "\t<tr><td>combined_da_results_all.obobBL6d5                     </td><td>all.obobBL6d5                     </td><td>all </td><td>obobBL6d5                    </td></tr>\n",
       "\t<tr><td>combined_da_results_all.obobFGF1BL6d14                </td><td>all.obobFGF1BL6d14                </td><td>all </td><td>obobFGF1BL6d14               </td></tr>\n",
       "\t<tr><td>combined_da_results_all.obobFGF1BL6d5                 </td><td>all.obobFGF1BL6d5                 </td><td>all </td><td>obobFGF1BL6d5                </td></tr>\n",
       "\t<tr><td>combined_da_results_all.obobVeh_PFd5d14               </td><td>all.obobVeh_PFd5d14               </td><td>all </td><td>obobVeh_PFd5d14              </td></tr>\n",
       "\t<tr><td>combined_da_results_Day5.BMP1_LDN_vs_FGF1             </td><td>Day5.BMP1_LDN_vs_FGF1             </td><td>Day5</td><td>BMP1_LDN_vs_FGF1             </td></tr>\n",
       "\t<tr><td>combined_da_results_Day5.BMP1_Vehicle_vs_FGF1_Veh_PFd5</td><td>Day5.BMP1_Vehicle_vs_FGF1_Veh_PFd5</td><td>Day5</td><td>BMP1_Vehicle_vs_FGF1_Veh_PFd5</td></tr>\n",
       "\t<tr><td>combined_da_results_Day5.obob5v5                      </td><td>Day5.obob5v5                      </td><td>Day5</td><td>obob5v5                      </td></tr>\n",
       "\t<tr><td>combined_da_results_Day5.obobBL6d5                    </td><td>Day5.obobBL6d5                    </td><td>Day5</td><td>obobBL6d5                    </td></tr>\n",
       "\t<tr><td>combined_da_results_Day5.obobFGF1BL6d5                </td><td>Day5.obobFGF1BL6d5                </td><td>Day5</td><td>obobFGF1BL6d5                </td></tr>\n",
       "</tbody>\n",
       "</table>\n"
      ],
      "text/latex": [
       "A tibble: 18 × 4\n",
       "\\begin{tabular}{llll}\n",
       " output\\_name & output\\_suffix & day & contrast\\_name\\\\\n",
       " <chr> & <chr> & <chr> & <chr>\\\\\n",
       "\\hline\n",
       "\t combined\\_da\\_results\\_all.BL6d5d14                       & all.BL6d5d14                       & all  & BL6d5d14                     \\\\\n",
       "\t combined\\_da\\_results\\_all.BMP1\\_LDNvVehicle               & all.BMP1\\_LDNvVehicle               & all  & BMP1\\_LDNvVehicle             \\\\\n",
       "\t combined\\_da\\_results\\_all.BMP1\\_Vehicle\\_vs\\_FGF1\\_Veh\\_PF    & all.BMP1\\_Vehicle\\_vs\\_FGF1\\_Veh\\_PF    & all  & BMP1\\_Vehicle\\_vs\\_FGF1\\_Veh\\_PF  \\\\\n",
       "\t combined\\_da\\_results\\_all.obob14v14                      & all.obob14v14                      & all  & obob14v14                    \\\\\n",
       "\t combined\\_da\\_results\\_all.obob14vBL6                     & all.obob14vBL6                     & all  & obob14vBL6                   \\\\\n",
       "\t combined\\_da\\_results\\_all.obob5v5                        & all.obob5v5                        & all  & obob5v5                      \\\\\n",
       "\t combined\\_da\\_results\\_all.obob5vBL6                      & all.obob5vBL6                      & all  & obob5vBL6                    \\\\\n",
       "\t combined\\_da\\_results\\_all.obobBL6                        & all.obobBL6                        & all  & obobBL6                      \\\\\n",
       "\t combined\\_da\\_results\\_all.obobBL6d14                     & all.obobBL6d14                     & all  & obobBL6d14                   \\\\\n",
       "\t combined\\_da\\_results\\_all.obobBL6d5                      & all.obobBL6d5                      & all  & obobBL6d5                    \\\\\n",
       "\t combined\\_da\\_results\\_all.obobFGF1BL6d14                 & all.obobFGF1BL6d14                 & all  & obobFGF1BL6d14               \\\\\n",
       "\t combined\\_da\\_results\\_all.obobFGF1BL6d5                  & all.obobFGF1BL6d5                  & all  & obobFGF1BL6d5                \\\\\n",
       "\t combined\\_da\\_results\\_all.obobVeh\\_PFd5d14                & all.obobVeh\\_PFd5d14                & all  & obobVeh\\_PFd5d14              \\\\\n",
       "\t combined\\_da\\_results\\_Day5.BMP1\\_LDN\\_vs\\_FGF1              & Day5.BMP1\\_LDN\\_vs\\_FGF1              & Day5 & BMP1\\_LDN\\_vs\\_FGF1             \\\\\n",
       "\t combined\\_da\\_results\\_Day5.BMP1\\_Vehicle\\_vs\\_FGF1\\_Veh\\_PFd5 & Day5.BMP1\\_Vehicle\\_vs\\_FGF1\\_Veh\\_PFd5 & Day5 & BMP1\\_Vehicle\\_vs\\_FGF1\\_Veh\\_PFd5\\\\\n",
       "\t combined\\_da\\_results\\_Day5.obob5v5                       & Day5.obob5v5                       & Day5 & obob5v5                      \\\\\n",
       "\t combined\\_da\\_results\\_Day5.obobBL6d5                     & Day5.obobBL6d5                     & Day5 & obobBL6d5                    \\\\\n",
       "\t combined\\_da\\_results\\_Day5.obobFGF1BL6d5                 & Day5.obobFGF1BL6d5                 & Day5 & obobFGF1BL6d5                \\\\\n",
       "\\end{tabular}\n"
      ],
      "text/markdown": [
       "\n",
       "A tibble: 18 × 4\n",
       "\n",
       "| output_name &lt;chr&gt; | output_suffix &lt;chr&gt; | day &lt;chr&gt; | contrast_name &lt;chr&gt; |\n",
       "|---|---|---|---|\n",
       "| combined_da_results_all.BL6d5d14                       | all.BL6d5d14                       | all  | BL6d5d14                      |\n",
       "| combined_da_results_all.BMP1_LDNvVehicle               | all.BMP1_LDNvVehicle               | all  | BMP1_LDNvVehicle              |\n",
       "| combined_da_results_all.BMP1_Vehicle_vs_FGF1_Veh_PF    | all.BMP1_Vehicle_vs_FGF1_Veh_PF    | all  | BMP1_Vehicle_vs_FGF1_Veh_PF   |\n",
       "| combined_da_results_all.obob14v14                      | all.obob14v14                      | all  | obob14v14                     |\n",
       "| combined_da_results_all.obob14vBL6                     | all.obob14vBL6                     | all  | obob14vBL6                    |\n",
       "| combined_da_results_all.obob5v5                        | all.obob5v5                        | all  | obob5v5                       |\n",
       "| combined_da_results_all.obob5vBL6                      | all.obob5vBL6                      | all  | obob5vBL6                     |\n",
       "| combined_da_results_all.obobBL6                        | all.obobBL6                        | all  | obobBL6                       |\n",
       "| combined_da_results_all.obobBL6d14                     | all.obobBL6d14                     | all  | obobBL6d14                    |\n",
       "| combined_da_results_all.obobBL6d5                      | all.obobBL6d5                      | all  | obobBL6d5                     |\n",
       "| combined_da_results_all.obobFGF1BL6d14                 | all.obobFGF1BL6d14                 | all  | obobFGF1BL6d14                |\n",
       "| combined_da_results_all.obobFGF1BL6d5                  | all.obobFGF1BL6d5                  | all  | obobFGF1BL6d5                 |\n",
       "| combined_da_results_all.obobVeh_PFd5d14                | all.obobVeh_PFd5d14                | all  | obobVeh_PFd5d14               |\n",
       "| combined_da_results_Day5.BMP1_LDN_vs_FGF1              | Day5.BMP1_LDN_vs_FGF1              | Day5 | BMP1_LDN_vs_FGF1              |\n",
       "| combined_da_results_Day5.BMP1_Vehicle_vs_FGF1_Veh_PFd5 | Day5.BMP1_Vehicle_vs_FGF1_Veh_PFd5 | Day5 | BMP1_Vehicle_vs_FGF1_Veh_PFd5 |\n",
       "| combined_da_results_Day5.obob5v5                       | Day5.obob5v5                       | Day5 | obob5v5                       |\n",
       "| combined_da_results_Day5.obobBL6d5                     | Day5.obobBL6d5                     | Day5 | obobBL6d5                     |\n",
       "| combined_da_results_Day5.obobFGF1BL6d5                 | Day5.obobFGF1BL6d5                 | Day5 | obobFGF1BL6d5                 |\n",
       "\n"
      ],
      "text/plain": [
       "   output_name                                           \n",
       "1  combined_da_results_all.BL6d5d14                      \n",
       "2  combined_da_results_all.BMP1_LDNvVehicle              \n",
       "3  combined_da_results_all.BMP1_Vehicle_vs_FGF1_Veh_PF   \n",
       "4  combined_da_results_all.obob14v14                     \n",
       "5  combined_da_results_all.obob14vBL6                    \n",
       "6  combined_da_results_all.obob5v5                       \n",
       "7  combined_da_results_all.obob5vBL6                     \n",
       "8  combined_da_results_all.obobBL6                       \n",
       "9  combined_da_results_all.obobBL6d14                    \n",
       "10 combined_da_results_all.obobBL6d5                     \n",
       "11 combined_da_results_all.obobFGF1BL6d14                \n",
       "12 combined_da_results_all.obobFGF1BL6d5                 \n",
       "13 combined_da_results_all.obobVeh_PFd5d14               \n",
       "14 combined_da_results_Day5.BMP1_LDN_vs_FGF1             \n",
       "15 combined_da_results_Day5.BMP1_Vehicle_vs_FGF1_Veh_PFd5\n",
       "16 combined_da_results_Day5.obob5v5                      \n",
       "17 combined_da_results_Day5.obobBL6d5                    \n",
       "18 combined_da_results_Day5.obobFGF1BL6d5                \n",
       "   output_suffix                      day  contrast_name                \n",
       "1  all.BL6d5d14                       all  BL6d5d14                     \n",
       "2  all.BMP1_LDNvVehicle               all  BMP1_LDNvVehicle             \n",
       "3  all.BMP1_Vehicle_vs_FGF1_Veh_PF    all  BMP1_Vehicle_vs_FGF1_Veh_PF  \n",
       "4  all.obob14v14                      all  obob14v14                    \n",
       "5  all.obob14vBL6                     all  obob14vBL6                   \n",
       "6  all.obob5v5                        all  obob5v5                      \n",
       "7  all.obob5vBL6                      all  obob5vBL6                    \n",
       "8  all.obobBL6                        all  obobBL6                      \n",
       "9  all.obobBL6d14                     all  obobBL6d14                   \n",
       "10 all.obobBL6d5                      all  obobBL6d5                    \n",
       "11 all.obobFGF1BL6d14                 all  obobFGF1BL6d14               \n",
       "12 all.obobFGF1BL6d5                  all  obobFGF1BL6d5                \n",
       "13 all.obobVeh_PFd5d14                all  obobVeh_PFd5d14              \n",
       "14 Day5.BMP1_LDN_vs_FGF1              Day5 BMP1_LDN_vs_FGF1             \n",
       "15 Day5.BMP1_Vehicle_vs_FGF1_Veh_PFd5 Day5 BMP1_Vehicle_vs_FGF1_Veh_PFd5\n",
       "16 Day5.obob5v5                       Day5 obob5v5                      \n",
       "17 Day5.obobBL6d5                     Day5 obobBL6d5                    \n",
       "18 Day5.obobFGF1BL6d5                 Day5 obobFGF1BL6d5                "
      ]
     },
     "metadata": {},
     "output_type": "display_data"
    }
   ],
   "source": [
    "combination_recipe = combination_recipe %>% select(output_name, output_suffix, day, contrast_name)\n",
    "combination_recipe"
   ]
  },
  {
   "cell_type": "code",
   "execution_count": 14,
   "id": "0f155908",
   "metadata": {},
   "outputs": [
    {
     "data": {
      "text/html": [
       "<table class=\"dataframe\">\n",
       "<caption>A tibble: 3 × 4</caption>\n",
       "<thead>\n",
       "\t<tr><th scope=col>output_name.fgf1</th><th scope=col>output_suffix.fgf1</th><th scope=col>day.fgf1</th><th scope=col>contrast_name.fgf1</th></tr>\n",
       "\t<tr><th scope=col>&lt;chr&gt;</th><th scope=col>&lt;chr&gt;</th><th scope=col>&lt;chr&gt;</th><th scope=col>&lt;chr&gt;</th></tr>\n",
       "</thead>\n",
       "<tbody>\n",
       "\t<tr><td>combined_da_results_all.obob14v14</td><td>all.obob14v14</td><td>all </td><td>obob14v14</td></tr>\n",
       "\t<tr><td>combined_da_results_all.obob5v5  </td><td>all.obob5v5  </td><td>all </td><td>obob5v5  </td></tr>\n",
       "\t<tr><td>combined_da_results_Day5.obob5v5 </td><td>Day5.obob5v5 </td><td>Day5</td><td>obob5v5  </td></tr>\n",
       "</tbody>\n",
       "</table>\n"
      ],
      "text/latex": [
       "A tibble: 3 × 4\n",
       "\\begin{tabular}{llll}\n",
       " output\\_name.fgf1 & output\\_suffix.fgf1 & day.fgf1 & contrast\\_name.fgf1\\\\\n",
       " <chr> & <chr> & <chr> & <chr>\\\\\n",
       "\\hline\n",
       "\t combined\\_da\\_results\\_all.obob14v14 & all.obob14v14 & all  & obob14v14\\\\\n",
       "\t combined\\_da\\_results\\_all.obob5v5   & all.obob5v5   & all  & obob5v5  \\\\\n",
       "\t combined\\_da\\_results\\_Day5.obob5v5  & Day5.obob5v5  & Day5 & obob5v5  \\\\\n",
       "\\end{tabular}\n"
      ],
      "text/markdown": [
       "\n",
       "A tibble: 3 × 4\n",
       "\n",
       "| output_name.fgf1 &lt;chr&gt; | output_suffix.fgf1 &lt;chr&gt; | day.fgf1 &lt;chr&gt; | contrast_name.fgf1 &lt;chr&gt; |\n",
       "|---|---|---|---|\n",
       "| combined_da_results_all.obob14v14 | all.obob14v14 | all  | obob14v14 |\n",
       "| combined_da_results_all.obob5v5   | all.obob5v5   | all  | obob5v5   |\n",
       "| combined_da_results_Day5.obob5v5  | Day5.obob5v5  | Day5 | obob5v5   |\n",
       "\n"
      ],
      "text/plain": [
       "  output_name.fgf1                  output_suffix.fgf1 day.fgf1\n",
       "1 combined_da_results_all.obob14v14 all.obob14v14      all     \n",
       "2 combined_da_results_all.obob5v5   all.obob5v5        all     \n",
       "3 combined_da_results_Day5.obob5v5  Day5.obob5v5       Day5    \n",
       "  contrast_name.fgf1\n",
       "1 obob14v14         \n",
       "2 obob5v5           \n",
       "3 obob5v5           "
      ]
     },
     "metadata": {},
     "output_type": "display_data"
    }
   ],
   "source": [
    "fgf1_contrasts = combination_recipe %>%\n",
    "    filter(contrast_name %in% c(\"obob5v5\", \"obob14v14\"))\n",
    "colnames(fgf1_contrasts) = paste0(colnames(fgf1_contrasts), '.fgf1')\n",
    "fgf1_contrasts"
   ]
  },
  {
   "cell_type": "code",
   "execution_count": 15,
   "id": "89c28218",
   "metadata": {},
   "outputs": [
    {
     "data": {
      "text/html": [
       "<table class=\"dataframe\">\n",
       "<caption>A tibble: 6 × 4</caption>\n",
       "<thead>\n",
       "\t<tr><th scope=col>output_name.BL6</th><th scope=col>output_suffix.BL6</th><th scope=col>day.BL6</th><th scope=col>contrast_name.BL6</th></tr>\n",
       "\t<tr><th scope=col>&lt;chr&gt;</th><th scope=col>&lt;chr&gt;</th><th scope=col>&lt;chr&gt;</th><th scope=col>&lt;chr&gt;</th></tr>\n",
       "</thead>\n",
       "<tbody>\n",
       "\t<tr><td>combined_da_results_all.obob14vBL6</td><td>all.obob14vBL6</td><td>all </td><td>obob14vBL6</td></tr>\n",
       "\t<tr><td>combined_da_results_all.obob5vBL6 </td><td>all.obob5vBL6 </td><td>all </td><td>obob5vBL6 </td></tr>\n",
       "\t<tr><td>combined_da_results_all.obobBL6   </td><td>all.obobBL6   </td><td>all </td><td>obobBL6   </td></tr>\n",
       "\t<tr><td>combined_da_results_all.obobBL6d14</td><td>all.obobBL6d14</td><td>all </td><td>obobBL6d14</td></tr>\n",
       "\t<tr><td>combined_da_results_all.obobBL6d5 </td><td>all.obobBL6d5 </td><td>all </td><td>obobBL6d5 </td></tr>\n",
       "\t<tr><td>combined_da_results_Day5.obobBL6d5</td><td>Day5.obobBL6d5</td><td>Day5</td><td>obobBL6d5 </td></tr>\n",
       "</tbody>\n",
       "</table>\n"
      ],
      "text/latex": [
       "A tibble: 6 × 4\n",
       "\\begin{tabular}{llll}\n",
       " output\\_name.BL6 & output\\_suffix.BL6 & day.BL6 & contrast\\_name.BL6\\\\\n",
       " <chr> & <chr> & <chr> & <chr>\\\\\n",
       "\\hline\n",
       "\t combined\\_da\\_results\\_all.obob14vBL6 & all.obob14vBL6 & all  & obob14vBL6\\\\\n",
       "\t combined\\_da\\_results\\_all.obob5vBL6  & all.obob5vBL6  & all  & obob5vBL6 \\\\\n",
       "\t combined\\_da\\_results\\_all.obobBL6    & all.obobBL6    & all  & obobBL6   \\\\\n",
       "\t combined\\_da\\_results\\_all.obobBL6d14 & all.obobBL6d14 & all  & obobBL6d14\\\\\n",
       "\t combined\\_da\\_results\\_all.obobBL6d5  & all.obobBL6d5  & all  & obobBL6d5 \\\\\n",
       "\t combined\\_da\\_results\\_Day5.obobBL6d5 & Day5.obobBL6d5 & Day5 & obobBL6d5 \\\\\n",
       "\\end{tabular}\n"
      ],
      "text/markdown": [
       "\n",
       "A tibble: 6 × 4\n",
       "\n",
       "| output_name.BL6 &lt;chr&gt; | output_suffix.BL6 &lt;chr&gt; | day.BL6 &lt;chr&gt; | contrast_name.BL6 &lt;chr&gt; |\n",
       "|---|---|---|---|\n",
       "| combined_da_results_all.obob14vBL6 | all.obob14vBL6 | all  | obob14vBL6 |\n",
       "| combined_da_results_all.obob5vBL6  | all.obob5vBL6  | all  | obob5vBL6  |\n",
       "| combined_da_results_all.obobBL6    | all.obobBL6    | all  | obobBL6    |\n",
       "| combined_da_results_all.obobBL6d14 | all.obobBL6d14 | all  | obobBL6d14 |\n",
       "| combined_da_results_all.obobBL6d5  | all.obobBL6d5  | all  | obobBL6d5  |\n",
       "| combined_da_results_Day5.obobBL6d5 | Day5.obobBL6d5 | Day5 | obobBL6d5  |\n",
       "\n"
      ],
      "text/plain": [
       "  output_name.BL6                    output_suffix.BL6 day.BL6\n",
       "1 combined_da_results_all.obob14vBL6 all.obob14vBL6    all    \n",
       "2 combined_da_results_all.obob5vBL6  all.obob5vBL6     all    \n",
       "3 combined_da_results_all.obobBL6    all.obobBL6       all    \n",
       "4 combined_da_results_all.obobBL6d14 all.obobBL6d14    all    \n",
       "5 combined_da_results_all.obobBL6d5  all.obobBL6d5     all    \n",
       "6 combined_da_results_Day5.obobBL6d5 Day5.obobBL6d5    Day5   \n",
       "  contrast_name.BL6\n",
       "1 obob14vBL6       \n",
       "2 obob5vBL6        \n",
       "3 obobBL6          \n",
       "4 obobBL6d14       \n",
       "5 obobBL6d5        \n",
       "6 obobBL6d5        "
      ]
     },
     "metadata": {},
     "output_type": "display_data"
    }
   ],
   "source": [
    "bl6_contrasts = combination_recipe %>%\n",
    "    filter(contrast_name %in% c(\"obobBL6\", \"obobBL6d5\", \"obobBL6d14\", \"obob5vBL6\", \"obob14vBL6\"))\n",
    "colnames(bl6_contrasts) = paste0(colnames(bl6_contrasts), '.BL6')\n",
    "bl6_contrasts"
   ]
  },
  {
   "cell_type": "code",
   "execution_count": null,
   "id": "f668e83f",
   "metadata": {},
   "outputs": [],
   "source": []
  },
  {
   "cell_type": "code",
   "execution_count": 16,
   "id": "d89415dd",
   "metadata": {},
   "outputs": [
    {
     "data": {
      "text/html": [
       "<table class=\"dataframe\">\n",
       "<caption>A tibble: 11 × 11</caption>\n",
       "<thead>\n",
       "\t<tr><th scope=col>restored_suffix</th><th scope=col>output_obj.fgf1</th><th scope=col>output_obj.BL6</th><th scope=col>output_name.fgf1</th><th scope=col>output_suffix.fgf1</th><th scope=col>day.fgf1</th><th scope=col>contrast_name.fgf1</th><th scope=col>output_name.BL6</th><th scope=col>output_suffix.BL6</th><th scope=col>day.BL6</th><th scope=col>contrast_name.BL6</th></tr>\n",
       "\t<tr><th scope=col>&lt;chr&gt;</th><th scope=col>&lt;list&gt;</th><th scope=col>&lt;list&gt;</th><th scope=col>&lt;chr&gt;</th><th scope=col>&lt;chr&gt;</th><th scope=col>&lt;chr&gt;</th><th scope=col>&lt;chr&gt;</th><th scope=col>&lt;chr&gt;</th><th scope=col>&lt;chr&gt;</th><th scope=col>&lt;chr&gt;</th><th scope=col>&lt;chr&gt;</th></tr>\n",
       "</thead>\n",
       "<tbody>\n",
       "\t<tr><td>all.obob14v14__v__all.obob14vBL6</td><td>combined_da_results_all.obob14v14</td><td>combined_da_results_all.obob14vBL6</td><td>combined_da_results_all.obob14v14</td><td>all.obob14v14</td><td>all </td><td>obob14v14</td><td>combined_da_results_all.obob14vBL6</td><td>all.obob14vBL6</td><td>all </td><td>obob14vBL6</td></tr>\n",
       "\t<tr><td>all.obob14v14__v__all.obob5vBL6 </td><td>combined_da_results_all.obob14v14</td><td>combined_da_results_all.obob5vBL6</td><td>combined_da_results_all.obob14v14</td><td>all.obob14v14</td><td>all </td><td>obob14v14</td><td>combined_da_results_all.obob5vBL6 </td><td>all.obob5vBL6 </td><td>all </td><td>obob5vBL6 </td></tr>\n",
       "\t<tr><td>all.obob14v14__v__all.obobBL6   </td><td>combined_da_results_all.obob14v14</td><td>combined_da_results_all.obobBL6</td><td>combined_da_results_all.obob14v14</td><td>all.obob14v14</td><td>all </td><td>obob14v14</td><td>combined_da_results_all.obobBL6   </td><td>all.obobBL6   </td><td>all </td><td>obobBL6   </td></tr>\n",
       "\t<tr><td>all.obob14v14__v__all.obobBL6d14</td><td>combined_da_results_all.obob14v14</td><td>combined_da_results_all.obobBL6d14</td><td>combined_da_results_all.obob14v14</td><td>all.obob14v14</td><td>all </td><td>obob14v14</td><td>combined_da_results_all.obobBL6d14</td><td>all.obobBL6d14</td><td>all </td><td>obobBL6d14</td></tr>\n",
       "\t<tr><td>all.obob14v14__v__all.obobBL6d5 </td><td>combined_da_results_all.obob14v14</td><td>combined_da_results_all.obobBL6d5</td><td>combined_da_results_all.obob14v14</td><td>all.obob14v14</td><td>all </td><td>obob14v14</td><td>combined_da_results_all.obobBL6d5 </td><td>all.obobBL6d5 </td><td>all </td><td>obobBL6d5 </td></tr>\n",
       "\t<tr><td>all.obob5v5__v__all.obob14vBL6  </td><td>combined_da_results_all.obob5v5</td><td>combined_da_results_all.obob14vBL6</td><td>combined_da_results_all.obob5v5  </td><td>all.obob5v5  </td><td>all </td><td>obob5v5  </td><td>combined_da_results_all.obob14vBL6</td><td>all.obob14vBL6</td><td>all </td><td>obob14vBL6</td></tr>\n",
       "\t<tr><td>all.obob5v5__v__all.obob5vBL6   </td><td>combined_da_results_all.obob5v5</td><td>combined_da_results_all.obob5vBL6</td><td>combined_da_results_all.obob5v5  </td><td>all.obob5v5  </td><td>all </td><td>obob5v5  </td><td>combined_da_results_all.obob5vBL6 </td><td>all.obob5vBL6 </td><td>all </td><td>obob5vBL6 </td></tr>\n",
       "\t<tr><td>all.obob5v5__v__all.obobBL6     </td><td>combined_da_results_all.obob5v5</td><td>combined_da_results_all.obobBL6</td><td>combined_da_results_all.obob5v5  </td><td>all.obob5v5  </td><td>all </td><td>obob5v5  </td><td>combined_da_results_all.obobBL6   </td><td>all.obobBL6   </td><td>all </td><td>obobBL6   </td></tr>\n",
       "\t<tr><td>all.obob5v5__v__all.obobBL6d14  </td><td>combined_da_results_all.obob5v5</td><td>combined_da_results_all.obobBL6d14</td><td>combined_da_results_all.obob5v5  </td><td>all.obob5v5  </td><td>all </td><td>obob5v5  </td><td>combined_da_results_all.obobBL6d14</td><td>all.obobBL6d14</td><td>all </td><td>obobBL6d14</td></tr>\n",
       "\t<tr><td>all.obob5v5__v__all.obobBL6d5   </td><td>combined_da_results_all.obob5v5</td><td>combined_da_results_all.obobBL6d5</td><td>combined_da_results_all.obob5v5  </td><td>all.obob5v5  </td><td>all </td><td>obob5v5  </td><td>combined_da_results_all.obobBL6d5 </td><td>all.obobBL6d5 </td><td>all </td><td>obobBL6d5 </td></tr>\n",
       "\t<tr><td>Day5.obob5v5__v__Day5.obobBL6d5 </td><td>combined_da_results_Day5.obob5v5</td><td>combined_da_results_Day5.obobBL6d5</td><td>combined_da_results_Day5.obob5v5 </td><td>Day5.obob5v5 </td><td>Day5</td><td>obob5v5  </td><td>combined_da_results_Day5.obobBL6d5</td><td>Day5.obobBL6d5</td><td>Day5</td><td>obobBL6d5 </td></tr>\n",
       "</tbody>\n",
       "</table>\n"
      ],
      "text/latex": [
       "A tibble: 11 × 11\n",
       "\\begin{tabular}{lllllllllll}\n",
       " restored\\_suffix & output\\_obj.fgf1 & output\\_obj.BL6 & output\\_name.fgf1 & output\\_suffix.fgf1 & day.fgf1 & contrast\\_name.fgf1 & output\\_name.BL6 & output\\_suffix.BL6 & day.BL6 & contrast\\_name.BL6\\\\\n",
       " <chr> & <list> & <list> & <chr> & <chr> & <chr> & <chr> & <chr> & <chr> & <chr> & <chr>\\\\\n",
       "\\hline\n",
       "\t all.obob14v14\\_\\_v\\_\\_all.obob14vBL6 & combined\\_da\\_results\\_all.obob14v14 & combined\\_da\\_results\\_all.obob14vBL6 & combined\\_da\\_results\\_all.obob14v14 & all.obob14v14 & all  & obob14v14 & combined\\_da\\_results\\_all.obob14vBL6 & all.obob14vBL6 & all  & obob14vBL6\\\\\n",
       "\t all.obob14v14\\_\\_v\\_\\_all.obob5vBL6  & combined\\_da\\_results\\_all.obob14v14 & combined\\_da\\_results\\_all.obob5vBL6 & combined\\_da\\_results\\_all.obob14v14 & all.obob14v14 & all  & obob14v14 & combined\\_da\\_results\\_all.obob5vBL6  & all.obob5vBL6  & all  & obob5vBL6 \\\\\n",
       "\t all.obob14v14\\_\\_v\\_\\_all.obobBL6    & combined\\_da\\_results\\_all.obob14v14 & combined\\_da\\_results\\_all.obobBL6 & combined\\_da\\_results\\_all.obob14v14 & all.obob14v14 & all  & obob14v14 & combined\\_da\\_results\\_all.obobBL6    & all.obobBL6    & all  & obobBL6   \\\\\n",
       "\t all.obob14v14\\_\\_v\\_\\_all.obobBL6d14 & combined\\_da\\_results\\_all.obob14v14 & combined\\_da\\_results\\_all.obobBL6d14 & combined\\_da\\_results\\_all.obob14v14 & all.obob14v14 & all  & obob14v14 & combined\\_da\\_results\\_all.obobBL6d14 & all.obobBL6d14 & all  & obobBL6d14\\\\\n",
       "\t all.obob14v14\\_\\_v\\_\\_all.obobBL6d5  & combined\\_da\\_results\\_all.obob14v14 & combined\\_da\\_results\\_all.obobBL6d5 & combined\\_da\\_results\\_all.obob14v14 & all.obob14v14 & all  & obob14v14 & combined\\_da\\_results\\_all.obobBL6d5  & all.obobBL6d5  & all  & obobBL6d5 \\\\\n",
       "\t all.obob5v5\\_\\_v\\_\\_all.obob14vBL6   & combined\\_da\\_results\\_all.obob5v5 & combined\\_da\\_results\\_all.obob14vBL6 & combined\\_da\\_results\\_all.obob5v5   & all.obob5v5   & all  & obob5v5   & combined\\_da\\_results\\_all.obob14vBL6 & all.obob14vBL6 & all  & obob14vBL6\\\\\n",
       "\t all.obob5v5\\_\\_v\\_\\_all.obob5vBL6    & combined\\_da\\_results\\_all.obob5v5 & combined\\_da\\_results\\_all.obob5vBL6 & combined\\_da\\_results\\_all.obob5v5   & all.obob5v5   & all  & obob5v5   & combined\\_da\\_results\\_all.obob5vBL6  & all.obob5vBL6  & all  & obob5vBL6 \\\\\n",
       "\t all.obob5v5\\_\\_v\\_\\_all.obobBL6      & combined\\_da\\_results\\_all.obob5v5 & combined\\_da\\_results\\_all.obobBL6 & combined\\_da\\_results\\_all.obob5v5   & all.obob5v5   & all  & obob5v5   & combined\\_da\\_results\\_all.obobBL6    & all.obobBL6    & all  & obobBL6   \\\\\n",
       "\t all.obob5v5\\_\\_v\\_\\_all.obobBL6d14   & combined\\_da\\_results\\_all.obob5v5 & combined\\_da\\_results\\_all.obobBL6d14 & combined\\_da\\_results\\_all.obob5v5   & all.obob5v5   & all  & obob5v5   & combined\\_da\\_results\\_all.obobBL6d14 & all.obobBL6d14 & all  & obobBL6d14\\\\\n",
       "\t all.obob5v5\\_\\_v\\_\\_all.obobBL6d5    & combined\\_da\\_results\\_all.obob5v5 & combined\\_da\\_results\\_all.obobBL6d5 & combined\\_da\\_results\\_all.obob5v5   & all.obob5v5   & all  & obob5v5   & combined\\_da\\_results\\_all.obobBL6d5  & all.obobBL6d5  & all  & obobBL6d5 \\\\\n",
       "\t Day5.obob5v5\\_\\_v\\_\\_Day5.obobBL6d5  & combined\\_da\\_results\\_Day5.obob5v5 & combined\\_da\\_results\\_Day5.obobBL6d5 & combined\\_da\\_results\\_Day5.obob5v5  & Day5.obob5v5  & Day5 & obob5v5   & combined\\_da\\_results\\_Day5.obobBL6d5 & Day5.obobBL6d5 & Day5 & obobBL6d5 \\\\\n",
       "\\end{tabular}\n"
      ],
      "text/markdown": [
       "\n",
       "A tibble: 11 × 11\n",
       "\n",
       "| restored_suffix &lt;chr&gt; | output_obj.fgf1 &lt;list&gt; | output_obj.BL6 &lt;list&gt; | output_name.fgf1 &lt;chr&gt; | output_suffix.fgf1 &lt;chr&gt; | day.fgf1 &lt;chr&gt; | contrast_name.fgf1 &lt;chr&gt; | output_name.BL6 &lt;chr&gt; | output_suffix.BL6 &lt;chr&gt; | day.BL6 &lt;chr&gt; | contrast_name.BL6 &lt;chr&gt; |\n",
       "|---|---|---|---|---|---|---|---|---|---|---|\n",
       "| all.obob14v14__v__all.obob14vBL6 | combined_da_results_all.obob14v14 | combined_da_results_all.obob14vBL6 | combined_da_results_all.obob14v14 | all.obob14v14 | all  | obob14v14 | combined_da_results_all.obob14vBL6 | all.obob14vBL6 | all  | obob14vBL6 |\n",
       "| all.obob14v14__v__all.obob5vBL6  | combined_da_results_all.obob14v14 | combined_da_results_all.obob5vBL6 | combined_da_results_all.obob14v14 | all.obob14v14 | all  | obob14v14 | combined_da_results_all.obob5vBL6  | all.obob5vBL6  | all  | obob5vBL6  |\n",
       "| all.obob14v14__v__all.obobBL6    | combined_da_results_all.obob14v14 | combined_da_results_all.obobBL6 | combined_da_results_all.obob14v14 | all.obob14v14 | all  | obob14v14 | combined_da_results_all.obobBL6    | all.obobBL6    | all  | obobBL6    |\n",
       "| all.obob14v14__v__all.obobBL6d14 | combined_da_results_all.obob14v14 | combined_da_results_all.obobBL6d14 | combined_da_results_all.obob14v14 | all.obob14v14 | all  | obob14v14 | combined_da_results_all.obobBL6d14 | all.obobBL6d14 | all  | obobBL6d14 |\n",
       "| all.obob14v14__v__all.obobBL6d5  | combined_da_results_all.obob14v14 | combined_da_results_all.obobBL6d5 | combined_da_results_all.obob14v14 | all.obob14v14 | all  | obob14v14 | combined_da_results_all.obobBL6d5  | all.obobBL6d5  | all  | obobBL6d5  |\n",
       "| all.obob5v5__v__all.obob14vBL6   | combined_da_results_all.obob5v5 | combined_da_results_all.obob14vBL6 | combined_da_results_all.obob5v5   | all.obob5v5   | all  | obob5v5   | combined_da_results_all.obob14vBL6 | all.obob14vBL6 | all  | obob14vBL6 |\n",
       "| all.obob5v5__v__all.obob5vBL6    | combined_da_results_all.obob5v5 | combined_da_results_all.obob5vBL6 | combined_da_results_all.obob5v5   | all.obob5v5   | all  | obob5v5   | combined_da_results_all.obob5vBL6  | all.obob5vBL6  | all  | obob5vBL6  |\n",
       "| all.obob5v5__v__all.obobBL6      | combined_da_results_all.obob5v5 | combined_da_results_all.obobBL6 | combined_da_results_all.obob5v5   | all.obob5v5   | all  | obob5v5   | combined_da_results_all.obobBL6    | all.obobBL6    | all  | obobBL6    |\n",
       "| all.obob5v5__v__all.obobBL6d14   | combined_da_results_all.obob5v5 | combined_da_results_all.obobBL6d14 | combined_da_results_all.obob5v5   | all.obob5v5   | all  | obob5v5   | combined_da_results_all.obobBL6d14 | all.obobBL6d14 | all  | obobBL6d14 |\n",
       "| all.obob5v5__v__all.obobBL6d5    | combined_da_results_all.obob5v5 | combined_da_results_all.obobBL6d5 | combined_da_results_all.obob5v5   | all.obob5v5   | all  | obob5v5   | combined_da_results_all.obobBL6d5  | all.obobBL6d5  | all  | obobBL6d5  |\n",
       "| Day5.obob5v5__v__Day5.obobBL6d5  | combined_da_results_Day5.obob5v5 | combined_da_results_Day5.obobBL6d5 | combined_da_results_Day5.obob5v5  | Day5.obob5v5  | Day5 | obob5v5   | combined_da_results_Day5.obobBL6d5 | Day5.obobBL6d5 | Day5 | obobBL6d5  |\n",
       "\n"
      ],
      "text/plain": [
       "   restored_suffix                  output_obj.fgf1                  \n",
       "1  all.obob14v14__v__all.obob14vBL6 combined_da_results_all.obob14v14\n",
       "2  all.obob14v14__v__all.obob5vBL6  combined_da_results_all.obob14v14\n",
       "3  all.obob14v14__v__all.obobBL6    combined_da_results_all.obob14v14\n",
       "4  all.obob14v14__v__all.obobBL6d14 combined_da_results_all.obob14v14\n",
       "5  all.obob14v14__v__all.obobBL6d5  combined_da_results_all.obob14v14\n",
       "6  all.obob5v5__v__all.obob14vBL6   combined_da_results_all.obob5v5  \n",
       "7  all.obob5v5__v__all.obob5vBL6    combined_da_results_all.obob5v5  \n",
       "8  all.obob5v5__v__all.obobBL6      combined_da_results_all.obob5v5  \n",
       "9  all.obob5v5__v__all.obobBL6d14   combined_da_results_all.obob5v5  \n",
       "10 all.obob5v5__v__all.obobBL6d5    combined_da_results_all.obob5v5  \n",
       "11 Day5.obob5v5__v__Day5.obobBL6d5  combined_da_results_Day5.obob5v5 \n",
       "   output_obj.BL6                     output_name.fgf1                 \n",
       "1  combined_da_results_all.obob14vBL6 combined_da_results_all.obob14v14\n",
       "2  combined_da_results_all.obob5vBL6  combined_da_results_all.obob14v14\n",
       "3  combined_da_results_all.obobBL6    combined_da_results_all.obob14v14\n",
       "4  combined_da_results_all.obobBL6d14 combined_da_results_all.obob14v14\n",
       "5  combined_da_results_all.obobBL6d5  combined_da_results_all.obob14v14\n",
       "6  combined_da_results_all.obob14vBL6 combined_da_results_all.obob5v5  \n",
       "7  combined_da_results_all.obob5vBL6  combined_da_results_all.obob5v5  \n",
       "8  combined_da_results_all.obobBL6    combined_da_results_all.obob5v5  \n",
       "9  combined_da_results_all.obobBL6d14 combined_da_results_all.obob5v5  \n",
       "10 combined_da_results_all.obobBL6d5  combined_da_results_all.obob5v5  \n",
       "11 combined_da_results_Day5.obobBL6d5 combined_da_results_Day5.obob5v5 \n",
       "   output_suffix.fgf1 day.fgf1 contrast_name.fgf1\n",
       "1  all.obob14v14      all      obob14v14         \n",
       "2  all.obob14v14      all      obob14v14         \n",
       "3  all.obob14v14      all      obob14v14         \n",
       "4  all.obob14v14      all      obob14v14         \n",
       "5  all.obob14v14      all      obob14v14         \n",
       "6  all.obob5v5        all      obob5v5           \n",
       "7  all.obob5v5        all      obob5v5           \n",
       "8  all.obob5v5        all      obob5v5           \n",
       "9  all.obob5v5        all      obob5v5           \n",
       "10 all.obob5v5        all      obob5v5           \n",
       "11 Day5.obob5v5       Day5     obob5v5           \n",
       "   output_name.BL6                    output_suffix.BL6 day.BL6\n",
       "1  combined_da_results_all.obob14vBL6 all.obob14vBL6    all    \n",
       "2  combined_da_results_all.obob5vBL6  all.obob5vBL6     all    \n",
       "3  combined_da_results_all.obobBL6    all.obobBL6       all    \n",
       "4  combined_da_results_all.obobBL6d14 all.obobBL6d14    all    \n",
       "5  combined_da_results_all.obobBL6d5  all.obobBL6d5     all    \n",
       "6  combined_da_results_all.obob14vBL6 all.obob14vBL6    all    \n",
       "7  combined_da_results_all.obob5vBL6  all.obob5vBL6     all    \n",
       "8  combined_da_results_all.obobBL6    all.obobBL6       all    \n",
       "9  combined_da_results_all.obobBL6d14 all.obobBL6d14    all    \n",
       "10 combined_da_results_all.obobBL6d5  all.obobBL6d5     all    \n",
       "11 combined_da_results_Day5.obobBL6d5 Day5.obobBL6d5    Day5   \n",
       "   contrast_name.BL6\n",
       "1  obob14vBL6       \n",
       "2  obob5vBL6        \n",
       "3  obobBL6          \n",
       "4  obobBL6d14       \n",
       "5  obobBL6d5        \n",
       "6  obob14vBL6       \n",
       "7  obob5vBL6        \n",
       "8  obobBL6          \n",
       "9  obobBL6d14       \n",
       "10 obobBL6d5        \n",
       "11 obobBL6d5        "
      ]
     },
     "metadata": {},
     "output_type": "display_data"
    }
   ],
   "source": [
    "restored_recipe = tidyr::crossing(fgf1_contrasts, bl6_contrasts) %>%\n",
    "filter(day.fgf1 == day.BL6) %>%\n",
    "mutate(restored_suffix= paste0(output_suffix.fgf1, '__v__', output_suffix.BL6)) %>%\n",
    "mutate(output_obj.BL6 = rlang::syms(output_name.BL6)) %>%\n",
    "mutate(output_obj.fgf1 = rlang::syms(output_name.fgf1)) %>%\n",
    "relocate(restored_suffix, output_obj.fgf1, output_obj.BL6)\n",
    "\n",
    "\n",
    "qs::qsave(restored_recipe, \"restored_recipe_bmp1.qs\")\n",
    "restored_recipe"
   ]
  },
  {
   "cell_type": "code",
   "execution_count": null,
   "id": "d2820957",
   "metadata": {},
   "outputs": [],
   "source": []
  },
  {
   "cell_type": "code",
   "execution_count": null,
   "id": "2a9c9e3f",
   "metadata": {},
   "outputs": [],
   "source": []
  }
 ],
 "metadata": {
  "kernelspec": {
   "display_name": "R [conda env:fgf1_ygg]",
   "language": "R",
   "name": "conda-env-fgf1_ygg-r"
  },
  "language_info": {
   "codemirror_mode": "r",
   "file_extension": ".r",
   "mimetype": "text/x-r-source",
   "name": "R",
   "pygments_lexer": "r",
   "version": "4.1.3"
  }
 },
 "nbformat": 4,
 "nbformat_minor": 5
}
