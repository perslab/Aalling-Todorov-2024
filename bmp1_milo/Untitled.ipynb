{
 "cells": [
  {
   "cell_type": "code",
   "execution_count": null,
   "id": "9ae295b6",
   "metadata": {},
   "outputs": [],
   "source": []
  },
  {
   "cell_type": "code",
   "execution_count": 1,
   "id": "b3a6772c",
   "metadata": {},
   "outputs": [
    {
     "name": "stderr",
     "output_type": "stream",
     "text": [
      "── \u001b[1mAttaching packages\u001b[22m ─────────────────────────────────────── tidyverse 1.3.2 ──\n",
      "\u001b[32m✔\u001b[39m \u001b[34mggplot2\u001b[39m 3.3.6      \u001b[32m✔\u001b[39m \u001b[34mpurrr  \u001b[39m 0.3.4 \n",
      "\u001b[32m✔\u001b[39m \u001b[34mtibble \u001b[39m 3.1.8      \u001b[32m✔\u001b[39m \u001b[34mdplyr  \u001b[39m 1.0.10\n",
      "\u001b[32m✔\u001b[39m \u001b[34mtidyr  \u001b[39m 1.2.1      \u001b[32m✔\u001b[39m \u001b[34mstringr\u001b[39m 1.4.1 \n",
      "\u001b[32m✔\u001b[39m \u001b[34mreadr  \u001b[39m 2.1.2      \u001b[32m✔\u001b[39m \u001b[34mforcats\u001b[39m 0.5.2 \n",
      "── \u001b[1mConflicts\u001b[22m ────────────────────────────────────────── tidyverse_conflicts() ──\n",
      "\u001b[31m✖\u001b[39m \u001b[34mdplyr\u001b[39m::\u001b[32mfilter()\u001b[39m masks \u001b[34mstats\u001b[39m::filter()\n",
      "\u001b[31m✖\u001b[39m \u001b[34mdplyr\u001b[39m::\u001b[32mlag()\u001b[39m    masks \u001b[34mstats\u001b[39m::lag()\n"
     ]
    }
   ],
   "source": [
    "library(tidyverse)\n",
    "library(targets)"
   ]
  },
  {
   "cell_type": "code",
   "execution_count": 2,
   "id": "79f473ae",
   "metadata": {},
   "outputs": [],
   "source": [
    "source(\"../00_preprocessing/splitwrapper.R\")\n",
    "source(paste0(\"../00_preprocessing/preprocessing.R\"))\n",
    "source(paste0(\"../01_milo/milo.R\"))\n",
    "source(paste0(\"../01_milo/milo_plotting.R\"))\n",
    "source(paste0(\"../00_bmp_preprocessing/bmp_preprocessing.R\"))"
   ]
  },
  {
   "cell_type": "code",
   "execution_count": 18,
   "id": "0aec1b77",
   "metadata": {},
   "outputs": [],
   "source": [
    "obj = qs::qread('../00_bmp_preprocessing/_targets/objects/bmp1_fgf1_mapped')"
   ]
  },
  {
   "cell_type": "code",
   "execution_count": 19,
   "id": "a5de2a5b",
   "metadata": {},
   "outputs": [
    {
     "data": {
      "text/plain": [
       "An object of class Seurat \n",
       "60617 features across 45622 samples within 4 assays \n",
       "Active assay: SCT (26707 features, 3000 variable features)\n",
       " 3 other assays present: RNA, integrated, prediction.score.labels\n",
       " 6 dimensional reductions calculated: pca, umap, mergedumap, mergedpca, sctumap, sctpca"
      ]
     },
     "metadata": {},
     "output_type": "display_data"
    }
   ],
   "source": [
    "obj"
   ]
  },
  {
   "cell_type": "code",
   "execution_count": 20,
   "id": "798c68d5",
   "metadata": {},
   "outputs": [
    {
     "data": {
      "text/html": [
       "<style>\n",
       ".list-inline {list-style: none; margin:0; padding: 0}\n",
       ".list-inline>li {display: inline-block}\n",
       ".list-inline>li:not(:last-child)::after {content: \"\\00b7\"; padding: 0 .5ex}\n",
       "</style>\n",
       "<ol class=list-inline><li>'NG2_OPC2'</li><li>'b2_Tany'</li><li>'Endothelial'</li><li>'NG2_OPC2-Microglia'</li><li>'b1_Tanycytes'</li><li>'a1_Tany-Astrocytes'</li><li>'NFOL'</li><li>'MOL'</li><li>'Astrocytes'</li><li>'Parstuber2A-ParsTuber1'</li><li>'Epend'</li><li>'a2_Tanycytes'</li><li>'Fibroblasts2-Fibroblasts3'</li><li>'a2_Tanycytes-b1_Tanycytes'</li><li>'Microglia'</li><li>'Mural_Cells2'</li><li>'MOL-a2_Tanycytes'</li></ol>\n"
      ],
      "text/latex": [
       "\\begin{enumerate*}\n",
       "\\item 'NG2\\_OPC2'\n",
       "\\item 'b2\\_Tany'\n",
       "\\item 'Endothelial'\n",
       "\\item 'NG2\\_OPC2-Microglia'\n",
       "\\item 'b1\\_Tanycytes'\n",
       "\\item 'a1\\_Tany-Astrocytes'\n",
       "\\item 'NFOL'\n",
       "\\item 'MOL'\n",
       "\\item 'Astrocytes'\n",
       "\\item 'Parstuber2A-ParsTuber1'\n",
       "\\item 'Epend'\n",
       "\\item 'a2\\_Tanycytes'\n",
       "\\item 'Fibroblasts2-Fibroblasts3'\n",
       "\\item 'a2\\_Tanycytes-b1\\_Tanycytes'\n",
       "\\item 'Microglia'\n",
       "\\item 'Mural\\_Cells2'\n",
       "\\item 'MOL-a2\\_Tanycytes'\n",
       "\\end{enumerate*}\n"
      ],
      "text/markdown": [
       "1. 'NG2_OPC2'\n",
       "2. 'b2_Tany'\n",
       "3. 'Endothelial'\n",
       "4. 'NG2_OPC2-Microglia'\n",
       "5. 'b1_Tanycytes'\n",
       "6. 'a1_Tany-Astrocytes'\n",
       "7. 'NFOL'\n",
       "8. 'MOL'\n",
       "9. 'Astrocytes'\n",
       "10. 'Parstuber2A-ParsTuber1'\n",
       "11. 'Epend'\n",
       "12. 'a2_Tanycytes'\n",
       "13. 'Fibroblasts2-Fibroblasts3'\n",
       "14. 'a2_Tanycytes-b1_Tanycytes'\n",
       "15. 'Microglia'\n",
       "16. 'Mural_Cells2'\n",
       "17. 'MOL-a2_Tanycytes'\n",
       "\n",
       "\n"
      ],
      "text/plain": [
       " [1] \"NG2_OPC2\"                  \"b2_Tany\"                  \n",
       " [3] \"Endothelial\"               \"NG2_OPC2-Microglia\"       \n",
       " [5] \"b1_Tanycytes\"              \"a1_Tany-Astrocytes\"       \n",
       " [7] \"NFOL\"                      \"MOL\"                      \n",
       " [9] \"Astrocytes\"                \"Parstuber2A-ParsTuber1\"   \n",
       "[11] \"Epend\"                     \"a2_Tanycytes\"             \n",
       "[13] \"Fibroblasts2-Fibroblasts3\" \"a2_Tanycytes-b1_Tanycytes\"\n",
       "[15] \"Microglia\"                 \"Mural_Cells2\"             \n",
       "[17] \"MOL-a2_Tanycytes\"         "
      ]
     },
     "metadata": {},
     "output_type": "display_data"
    }
   ],
   "source": [
    "obj@meta.data %>% pull(labels) %>% unique"
   ]
  },
  {
   "cell_type": "code",
   "execution_count": 21,
   "id": "894bb391",
   "metadata": {},
   "outputs": [
    {
     "data": {
      "text/plain": [
       "An object of class Seurat \n",
       "60617 features across 45622 samples within 4 assays \n",
       "Active assay: SCT (26707 features, 3000 variable features)\n",
       " 3 other assays present: RNA, integrated, prediction.score.labels\n",
       " 6 dimensional reductions calculated: pca, umap, mergedumap, mergedpca, sctumap, sctpca"
      ]
     },
     "metadata": {},
     "output_type": "display_data"
    }
   ],
   "source": [
    "obj = obj %>%\n",
    "subset_exp_by_time('all')\n",
    "obj"
   ]
  },
  {
   "cell_type": "code",
   "execution_count": 22,
   "id": "a52576f6",
   "metadata": {},
   "outputs": [
    {
     "data": {
      "text/plain": [
       "An object of class Seurat \n",
       "60617 features across 13269 samples within 4 assays \n",
       "Active assay: SCT (26707 features, 3000 variable features)\n",
       " 3 other assays present: RNA, integrated, prediction.score.labels\n",
       " 6 dimensional reductions calculated: pca, umap, mergedumap, mergedpca, sctumap, sctpca"
      ]
     },
     "metadata": {},
     "output_type": "display_data"
    }
   ],
   "source": [
    "obj = obj %>%\n",
    "single_split('Astrocytes') \n",
    "\n",
    "obj"
   ]
  },
  {
   "cell_type": "code",
   "execution_count": null,
   "id": "88e9d0e8",
   "metadata": {},
   "outputs": [
    {
     "name": "stderr",
     "output_type": "stream",
     "text": [
      "vst.flavor='v2' set, setting model to use fixed slope and exclude poisson genes.\n",
      "\n",
      "Calculating cell attributes from input UMI matrix: log_umi\n",
      "\n",
      "Total Step 1 genes: 19361\n",
      "\n",
      "Total overdispersed genes: 17296\n",
      "\n",
      "Excluding 2065 genes from Step 1 because they are not overdispersed.\n",
      "\n",
      "Variance stabilizing transformation of count matrix of size 21225 by 11238\n",
      "\n",
      "Model formula is y ~ log_umi\n",
      "\n",
      "Get Negative Binomial regression parameters per gene\n",
      "\n",
      "Using 2000 genes, 5000 cells\n",
      "\n"
     ]
    },
    {
     "name": "stdout",
     "output_type": "stream",
     "text": [
      "  |======================================================================| 100%\n"
     ]
    },
    {
     "name": "stderr",
     "output_type": "stream",
     "text": [
      "Setting estimate of  195 genes to inf as theta_mm/theta_mle < 1e-3\n",
      "\n",
      "# of step1 poisson genes (variance < mean): 0\n",
      "\n",
      "# of low mean genes (mean < 0.001): 2088\n",
      "\n",
      "Total # of Step1 poisson genes (theta=Inf; variance < mean): 225\n",
      "\n",
      "Total # of poisson genes (theta=Inf; variance < mean): 3894\n",
      "\n",
      "Calling offset model for all 3894 poisson genes\n",
      "\n",
      "Found 197 outliers - those will be ignored in fitting/regularization step\n",
      "\n",
      "\n",
      "Ignoring theta inf genes\n",
      "\n",
      "Replacing fit params for 3894 poisson genes by theta=Inf\n",
      "\n",
      "Setting min_variance based on median UMI:  0.04\n",
      "\n",
      "Second step: Get residuals using fitted parameters for 21225 genes\n",
      "\n"
     ]
    },
    {
     "name": "stdout",
     "output_type": "stream",
     "text": [
      "  |======================================================================| 100%\n"
     ]
    },
    {
     "name": "stderr",
     "output_type": "stream",
     "text": [
      "Computing corrected count matrix for 21225 genes\n",
      "\n"
     ]
    },
    {
     "name": "stdout",
     "output_type": "stream",
     "text": [
      "  |======================================================================| 100%\n"
     ]
    },
    {
     "name": "stderr",
     "output_type": "stream",
     "text": [
      "Calculating gene attributes\n",
      "\n",
      "Wall clock passed: Time difference of 3.075662 mins\n",
      "\n",
      "Determine variable features\n",
      "\n",
      "Place corrected count matrix in counts slot\n",
      "\n",
      "Regressing out batch\n",
      "\n",
      "Centering data matrix\n",
      "\n",
      "Set default assay to SCT\n",
      "\n",
      "Warning message:\n",
      "“Invalid name supplied, making object name syntactically valid. New object name is Seurat..SCTransform.RNA; see ?make.names for more details on syntax validity”\n",
      "02:48:59 UMAP embedding parameters a = 0.9922 b = 1.112\n",
      "\n",
      "02:48:59 Read 11238 rows and found 30 numeric columns\n",
      "\n",
      "02:48:59 Using Annoy for neighbor search, n_neighbors = 30\n",
      "\n",
      "02:48:59 Building Annoy index with metric = cosine, n_trees = 50\n",
      "\n",
      "0%   10   20   30   40   50   60   70   80   90   100%\n",
      "\n",
      "[----|----|----|----|----|----|----|----|----|----|\n",
      "\n",
      "*\n",
      "*\n",
      "*\n",
      "*\n",
      "*\n",
      "*\n",
      "*\n",
      "*\n",
      "*\n",
      "*\n",
      "*\n",
      "*\n",
      "*\n",
      "*\n",
      "*\n",
      "*\n",
      "*\n",
      "*\n",
      "*\n",
      "*\n",
      "*\n",
      "*\n",
      "*\n",
      "*\n",
      "*\n",
      "*\n",
      "*\n",
      "*\n",
      "*\n",
      "*\n",
      "*\n",
      "*\n",
      "*\n",
      "*\n",
      "*\n",
      "*\n",
      "*\n",
      "*\n",
      "*\n",
      "*\n",
      "*\n",
      "*\n",
      "*\n",
      "*\n",
      "*\n",
      "*\n",
      "*\n",
      "*\n",
      "*\n",
      "*\n",
      "|\n",
      "\n",
      "02:49:00 Writing NN index file to temp file /scratch/nmq407/R_tmp//RtmpY4xZ2Y/file388b3940edd7\n",
      "\n",
      "02:49:00 Searching Annoy index using 1 thread, search_k = 3000\n",
      "\n",
      "02:49:04 Annoy recall = 100%\n",
      "\n",
      "02:49:06 Commencing smooth kNN distance calibration using 1 thread\n",
      " with target n_neighbors = 30\n",
      "\n",
      "02:49:09 Initializing from normalized Laplacian + noise (using irlba)\n",
      "\n",
      "02:49:09 Commencing optimization for 200 epochs, with 451230 positive edges\n",
      "\n",
      "02:49:23 Optimization finished\n",
      "\n"
     ]
    }
   ],
   "source": [
    "obj = obj %>%\n",
    "project_bmp1_into_fgf1_unimod \n",
    "obj"
   ]
  },
  {
   "cell_type": "code",
   "execution_count": null,
   "id": "fcb40bc4",
   "metadata": {},
   "outputs": [],
   "source": [
    "obj = obj %>%\n",
    "prep_obj_for_milo\n",
    "\n",
    "obj"
   ]
  },
  {
   "cell_type": "code",
   "execution_count": null,
   "id": "aabeadae",
   "metadata": {},
   "outputs": [],
   "source": [
    "obj@meta.data %>% distinct(batch)"
   ]
  },
  {
   "cell_type": "code",
   "execution_count": 28,
   "id": "79fbb790",
   "metadata": {},
   "outputs": [
    {
     "data": {
      "text/plain": [
       "NULL"
      ]
     },
     "metadata": {},
     "output_type": "display_data"
    }
   ],
   "source": [
    "qs::qread('_targets/objects/da_results_00_MOL_sct___BMP1_LDNvVehicle')"
   ]
  },
  {
   "cell_type": "code",
   "execution_count": 34,
   "id": "76f3859d",
   "metadata": {},
   "outputs": [
    {
     "data": {
      "text/html": [
       "<table class=\"dataframe\">\n",
       "<caption>A matrix: 15 × 2 of type dbl</caption>\n",
       "<thead>\n",
       "\t<tr><th></th><th scope=col>groupLDN.Day5.obob</th><th scope=col>groupVehicle.Day5.obob</th></tr>\n",
       "</thead>\n",
       "<tbody>\n",
       "\t<tr><th scope=row>B18</th><td>1</td><td>0</td></tr>\n",
       "\t<tr><th scope=row>B21</th><td>1</td><td>0</td></tr>\n",
       "\t<tr><th scope=row>B12</th><td>0</td><td>1</td></tr>\n",
       "\t<tr><th scope=row>B8</th><td>0</td><td>1</td></tr>\n",
       "\t<tr><th scope=row>B6</th><td>1</td><td>0</td></tr>\n",
       "\t<tr><th scope=row>B7</th><td>1</td><td>0</td></tr>\n",
       "\t<tr><th scope=row>B22</th><td>1</td><td>0</td></tr>\n",
       "\t<tr><th scope=row>B14</th><td>1</td><td>0</td></tr>\n",
       "\t<tr><th scope=row>B3</th><td>0</td><td>1</td></tr>\n",
       "\t<tr><th scope=row>B13</th><td>1</td><td>0</td></tr>\n",
       "\t<tr><th scope=row>B4</th><td>1</td><td>0</td></tr>\n",
       "\t<tr><th scope=row>B19</th><td>0</td><td>1</td></tr>\n",
       "\t<tr><th scope=row>B2</th><td>1</td><td>0</td></tr>\n",
       "\t<tr><th scope=row>B15</th><td>0</td><td>1</td></tr>\n",
       "\t<tr><th scope=row>B23</th><td>0</td><td>1</td></tr>\n",
       "</tbody>\n",
       "</table>\n"
      ],
      "text/latex": [
       "A matrix: 15 × 2 of type dbl\n",
       "\\begin{tabular}{r|ll}\n",
       "  & groupLDN.Day5.obob & groupVehicle.Day5.obob\\\\\n",
       "\\hline\n",
       "\tB18 & 1 & 0\\\\\n",
       "\tB21 & 1 & 0\\\\\n",
       "\tB12 & 0 & 1\\\\\n",
       "\tB8 & 0 & 1\\\\\n",
       "\tB6 & 1 & 0\\\\\n",
       "\tB7 & 1 & 0\\\\\n",
       "\tB22 & 1 & 0\\\\\n",
       "\tB14 & 1 & 0\\\\\n",
       "\tB3 & 0 & 1\\\\\n",
       "\tB13 & 1 & 0\\\\\n",
       "\tB4 & 1 & 0\\\\\n",
       "\tB19 & 0 & 1\\\\\n",
       "\tB2 & 1 & 0\\\\\n",
       "\tB15 & 0 & 1\\\\\n",
       "\tB23 & 0 & 1\\\\\n",
       "\\end{tabular}\n"
      ],
      "text/markdown": [
       "\n",
       "A matrix: 15 × 2 of type dbl\n",
       "\n",
       "| <!--/--> | groupLDN.Day5.obob | groupVehicle.Day5.obob |\n",
       "|---|---|---|\n",
       "| B18 | 1 | 0 |\n",
       "| B21 | 1 | 0 |\n",
       "| B12 | 0 | 1 |\n",
       "| B8 | 0 | 1 |\n",
       "| B6 | 1 | 0 |\n",
       "| B7 | 1 | 0 |\n",
       "| B22 | 1 | 0 |\n",
       "| B14 | 1 | 0 |\n",
       "| B3 | 0 | 1 |\n",
       "| B13 | 1 | 0 |\n",
       "| B4 | 1 | 0 |\n",
       "| B19 | 0 | 1 |\n",
       "| B2 | 1 | 0 |\n",
       "| B15 | 0 | 1 |\n",
       "| B23 | 0 | 1 |\n",
       "\n"
      ],
      "text/plain": [
       "    groupLDN.Day5.obob groupVehicle.Day5.obob\n",
       "B18 1                  0                     \n",
       "B21 1                  0                     \n",
       "B12 0                  1                     \n",
       "B8  0                  1                     \n",
       "B6  1                  0                     \n",
       "B7  1                  0                     \n",
       "B22 1                  0                     \n",
       "B14 1                  0                     \n",
       "B3  0                  1                     \n",
       "B13 1                  0                     \n",
       "B4  1                  0                     \n",
       "B19 0                  1                     \n",
       "B2  1                  0                     \n",
       "B15 0                  1                     \n",
       "B23 0                  1                     "
      ]
     },
     "metadata": {},
     "output_type": "display_data"
    }
   ],
   "source": [
    "qs::qread('_targets/objects/design_df_MOL_bmp_only') %>% make_model_matrix_bmp1"
   ]
  },
  {
   "cell_type": "code",
   "execution_count": 43,
   "id": "5963327e",
   "metadata": {
    "scrolled": true
   },
   "outputs": [
    {
     "data": {
      "text/html": [
       "<table class=\"dataframe\">\n",
       "<caption>A data.frame: 38 × 7</caption>\n",
       "<thead>\n",
       "\t<tr><th></th><th scope=col>logFC</th><th scope=col>logCPM</th><th scope=col>F</th><th scope=col>PValue</th><th scope=col>FDR</th><th scope=col>Nhood</th><th scope=col>SpatialFDR</th></tr>\n",
       "\t<tr><th></th><th scope=col>&lt;dbl&gt;</th><th scope=col>&lt;dbl&gt;</th><th scope=col>&lt;dbl&gt;</th><th scope=col>&lt;dbl&gt;</th><th scope=col>&lt;dbl&gt;</th><th scope=col>&lt;dbl&gt;</th><th scope=col>&lt;dbl&gt;</th></tr>\n",
       "</thead>\n",
       "<tbody>\n",
       "\t<tr><th scope=row>72</th><td> 3.2204477</td><td>14.27249</td><td>19.544365</td><td>2.185938e-05</td><td>0.002076641</td><td>72</td><td>0.001927968</td></tr>\n",
       "\t<tr><th scope=row>23</th><td> 3.0494654</td><td>14.13509</td><td>17.188611</td><td>6.049183e-05</td><td>0.002873362</td><td>23</td><td>0.002750319</td></tr>\n",
       "\t<tr><th scope=row>30</th><td> 2.8427982</td><td>13.99561</td><td>12.638395</td><td>5.268502e-04</td><td>0.007244694</td><td>30</td><td>0.007044819</td></tr>\n",
       "\t<tr><th scope=row>31</th><td> 2.1089407</td><td>14.31137</td><td>12.997530</td><td>4.424138e-04</td><td>0.007244694</td><td>31</td><td>0.007044819</td></tr>\n",
       "\t<tr><th scope=row>34</th><td> 3.2261491</td><td>13.84941</td><td>12.795774</td><td>5.338196e-04</td><td>0.007244694</td><td>34</td><td>0.007044819</td></tr>\n",
       "\t<tr><th scope=row>38</th><td> 3.5058309</td><td>14.14197</td><td>14.449261</td><td>3.336469e-04</td><td>0.007244694</td><td>38</td><td>0.007044819</td></tr>\n",
       "\t<tr><th scope=row>44</th><td> 2.2031702</td><td>14.32906</td><td>12.971572</td><td>4.515046e-04</td><td>0.007244694</td><td>44</td><td>0.007044819</td></tr>\n",
       "\t<tr><th scope=row>71</th><td> 2.4014522</td><td>14.01472</td><td>11.875089</td><td>7.655567e-04</td><td>0.009090986</td><td>71</td><td>0.008954825</td></tr>\n",
       "\t<tr><th scope=row>66</th><td> 2.3559680</td><td>13.81804</td><td>11.357702</td><td>9.881812e-04</td><td>0.010430801</td><td>66</td><td>0.010470424</td></tr>\n",
       "\t<tr><th scope=row>82</th><td> 2.4608674</td><td>13.98261</td><td>10.172934</td><td>1.784349e-03</td><td>0.016951315</td><td>82</td><td>0.017019261</td></tr>\n",
       "\t<tr><th scope=row>85</th><td> 1.8981687</td><td>14.27233</td><td> 9.970105</td><td>1.987200e-03</td><td>0.017162178</td><td>85</td><td>0.017058959</td></tr>\n",
       "\t<tr><th scope=row>3</th><td>-1.0858273</td><td>14.48499</td><td> 9.036237</td><td>3.174675e-03</td><td>0.025132842</td><td> 3</td><td>0.024587609</td></tr>\n",
       "\t<tr><th scope=row>6</th><td>-1.4825673</td><td>13.90109</td><td> 7.762456</td><td>6.129143e-03</td><td>0.039351409</td><td> 6</td><td>0.037796580</td></tr>\n",
       "\t<tr><th scope=row>65</th><td>-1.2983826</td><td>14.12792</td><td> 7.875403</td><td>5.778524e-03</td><td>0.039351409</td><td>65</td><td>0.037796580</td></tr>\n",
       "\t<tr><th scope=row>94</th><td>-1.4145842</td><td>14.12243</td><td> 7.736316</td><td>6.213380e-03</td><td>0.039351409</td><td>94</td><td>0.037796580</td></tr>\n",
       "\t<tr><th scope=row>8</th><td> 2.1856010</td><td>13.50114</td><td> 6.675385</td><td>1.090492e-02</td><td>0.042499058</td><td> 8</td><td>0.041487379</td></tr>\n",
       "\t<tr><th scope=row>10</th><td> 1.3786626</td><td>14.33772</td><td> 6.423528</td><td>1.244210e-02</td><td>0.042499058</td><td>10</td><td>0.041487379</td></tr>\n",
       "\t<tr><th scope=row>12</th><td> 1.8824701</td><td>14.03150</td><td> 6.959782</td><td>9.348803e-03</td><td>0.042499058</td><td>12</td><td>0.041487379</td></tr>\n",
       "\t<tr><th scope=row>36</th><td> 1.8481043</td><td>14.01072</td><td> 6.410989</td><td>1.252604e-02</td><td>0.042499058</td><td>36</td><td>0.041487379</td></tr>\n",
       "\t<tr><th scope=row>39</th><td> 1.0969428</td><td>14.69117</td><td> 6.790905</td><td>1.022585e-02</td><td>0.042499058</td><td>39</td><td>0.041487379</td></tr>\n",
       "\t<tr><th scope=row>42</th><td> 1.8068640</td><td>13.90629</td><td> 6.586072</td><td>1.140559e-02</td><td>0.042499058</td><td>42</td><td>0.041487379</td></tr>\n",
       "\t<tr><th scope=row>51</th><td> 1.4606076</td><td>14.02536</td><td> 6.674960</td><td>1.087716e-02</td><td>0.042499058</td><td>51</td><td>0.041487379</td></tr>\n",
       "\t<tr><th scope=row>53</th><td> 1.9616023</td><td>13.89940</td><td> 7.121420</td><td>8.582332e-03</td><td>0.042499058</td><td>53</td><td>0.041487379</td></tr>\n",
       "\t<tr><th scope=row>54</th><td>-1.0932087</td><td>14.31081</td><td> 6.447340</td><td>1.228433e-02</td><td>0.042499058</td><td>54</td><td>0.041487379</td></tr>\n",
       "\t<tr><th scope=row>56</th><td>-1.2319821</td><td>14.08115</td><td> 6.505464</td><td>1.190789e-02</td><td>0.042499058</td><td>56</td><td>0.041487379</td></tr>\n",
       "\t<tr><th scope=row>69</th><td> 1.9490984</td><td>13.79334</td><td> 6.603575</td><td>1.129947e-02</td><td>0.042499058</td><td>69</td><td>0.041487379</td></tr>\n",
       "\t<tr><th scope=row>78</th><td> 3.9457729</td><td>13.53229</td><td> 7.639318</td><td>8.600471e-03</td><td>0.042499058</td><td>78</td><td>0.041487379</td></tr>\n",
       "\t<tr><th scope=row>84</th><td>-1.1300860</td><td>14.33980</td><td> 6.665557</td><td>1.093183e-02</td><td>0.042499058</td><td>84</td><td>0.041487379</td></tr>\n",
       "\t<tr><th scope=row>7</th><td> 1.6026114</td><td>14.02979</td><td> 5.503167</td><td>2.048712e-02</td><td>0.067112979</td><td> 7</td><td>0.065571409</td></tr>\n",
       "\t<tr><th scope=row>70</th><td>-1.0374627</td><td>14.10554</td><td> 5.224722</td><td>2.387827e-02</td><td>0.075614512</td><td>70</td><td>0.073627617</td></tr>\n",
       "\t<tr><th scope=row>22</th><td>-0.9238504</td><td>14.23053</td><td> 4.676155</td><td>3.240544e-02</td><td>0.093288379</td><td>22</td><td>0.090317643</td></tr>\n",
       "\t<tr><th scope=row>67</th><td> 1.3481206</td><td>14.19914</td><td> 4.688285</td><td>3.218559e-02</td><td>0.093288379</td><td>67</td><td>0.090317643</td></tr>\n",
       "\t<tr><th scope=row>83</th><td>-1.2429732</td><td>13.90460</td><td> 4.789957</td><td>3.040361e-02</td><td>0.093172352</td><td>83</td><td>0.090317643</td></tr>\n",
       "\t<tr><th scope=row>86</th><td> 1.4028652</td><td>13.98965</td><td> 4.607457</td><td>3.368091e-02</td><td>0.094108434</td><td>86</td><td>0.091333484</td></tr>\n",
       "\t<tr><th scope=row>27</th><td> 0.9114047</td><td>14.53750</td><td> 4.453968</td><td>3.672654e-02</td><td>0.096917259</td><td>27</td><td>0.094220306</td></tr>\n",
       "\t<tr><th scope=row>74</th><td> 1.2745122</td><td>13.78911</td><td> 4.454454</td><td>3.671643e-02</td><td>0.096917259</td><td>74</td><td>0.094220306</td></tr>\n",
       "\t<tr><th scope=row>60</th><td> 2.3478206</td><td>13.68917</td><td> 4.550859</td><td>3.886840e-02</td><td>0.099797241</td><td>60</td><td>0.097460194</td></tr>\n",
       "\t<tr><th scope=row>2</th><td>-0.8271728</td><td>14.63168</td><td> 4.259559</td><td>4.100936e-02</td><td>0.102523407</td><td> 2</td><td>0.099723398</td></tr>\n",
       "</tbody>\n",
       "</table>\n"
      ],
      "text/latex": [
       "A data.frame: 38 × 7\n",
       "\\begin{tabular}{r|lllllll}\n",
       "  & logFC & logCPM & F & PValue & FDR & Nhood & SpatialFDR\\\\\n",
       "  & <dbl> & <dbl> & <dbl> & <dbl> & <dbl> & <dbl> & <dbl>\\\\\n",
       "\\hline\n",
       "\t72 &  3.2204477 & 14.27249 & 19.544365 & 2.185938e-05 & 0.002076641 & 72 & 0.001927968\\\\\n",
       "\t23 &  3.0494654 & 14.13509 & 17.188611 & 6.049183e-05 & 0.002873362 & 23 & 0.002750319\\\\\n",
       "\t30 &  2.8427982 & 13.99561 & 12.638395 & 5.268502e-04 & 0.007244694 & 30 & 0.007044819\\\\\n",
       "\t31 &  2.1089407 & 14.31137 & 12.997530 & 4.424138e-04 & 0.007244694 & 31 & 0.007044819\\\\\n",
       "\t34 &  3.2261491 & 13.84941 & 12.795774 & 5.338196e-04 & 0.007244694 & 34 & 0.007044819\\\\\n",
       "\t38 &  3.5058309 & 14.14197 & 14.449261 & 3.336469e-04 & 0.007244694 & 38 & 0.007044819\\\\\n",
       "\t44 &  2.2031702 & 14.32906 & 12.971572 & 4.515046e-04 & 0.007244694 & 44 & 0.007044819\\\\\n",
       "\t71 &  2.4014522 & 14.01472 & 11.875089 & 7.655567e-04 & 0.009090986 & 71 & 0.008954825\\\\\n",
       "\t66 &  2.3559680 & 13.81804 & 11.357702 & 9.881812e-04 & 0.010430801 & 66 & 0.010470424\\\\\n",
       "\t82 &  2.4608674 & 13.98261 & 10.172934 & 1.784349e-03 & 0.016951315 & 82 & 0.017019261\\\\\n",
       "\t85 &  1.8981687 & 14.27233 &  9.970105 & 1.987200e-03 & 0.017162178 & 85 & 0.017058959\\\\\n",
       "\t3 & -1.0858273 & 14.48499 &  9.036237 & 3.174675e-03 & 0.025132842 &  3 & 0.024587609\\\\\n",
       "\t6 & -1.4825673 & 13.90109 &  7.762456 & 6.129143e-03 & 0.039351409 &  6 & 0.037796580\\\\\n",
       "\t65 & -1.2983826 & 14.12792 &  7.875403 & 5.778524e-03 & 0.039351409 & 65 & 0.037796580\\\\\n",
       "\t94 & -1.4145842 & 14.12243 &  7.736316 & 6.213380e-03 & 0.039351409 & 94 & 0.037796580\\\\\n",
       "\t8 &  2.1856010 & 13.50114 &  6.675385 & 1.090492e-02 & 0.042499058 &  8 & 0.041487379\\\\\n",
       "\t10 &  1.3786626 & 14.33772 &  6.423528 & 1.244210e-02 & 0.042499058 & 10 & 0.041487379\\\\\n",
       "\t12 &  1.8824701 & 14.03150 &  6.959782 & 9.348803e-03 & 0.042499058 & 12 & 0.041487379\\\\\n",
       "\t36 &  1.8481043 & 14.01072 &  6.410989 & 1.252604e-02 & 0.042499058 & 36 & 0.041487379\\\\\n",
       "\t39 &  1.0969428 & 14.69117 &  6.790905 & 1.022585e-02 & 0.042499058 & 39 & 0.041487379\\\\\n",
       "\t42 &  1.8068640 & 13.90629 &  6.586072 & 1.140559e-02 & 0.042499058 & 42 & 0.041487379\\\\\n",
       "\t51 &  1.4606076 & 14.02536 &  6.674960 & 1.087716e-02 & 0.042499058 & 51 & 0.041487379\\\\\n",
       "\t53 &  1.9616023 & 13.89940 &  7.121420 & 8.582332e-03 & 0.042499058 & 53 & 0.041487379\\\\\n",
       "\t54 & -1.0932087 & 14.31081 &  6.447340 & 1.228433e-02 & 0.042499058 & 54 & 0.041487379\\\\\n",
       "\t56 & -1.2319821 & 14.08115 &  6.505464 & 1.190789e-02 & 0.042499058 & 56 & 0.041487379\\\\\n",
       "\t69 &  1.9490984 & 13.79334 &  6.603575 & 1.129947e-02 & 0.042499058 & 69 & 0.041487379\\\\\n",
       "\t78 &  3.9457729 & 13.53229 &  7.639318 & 8.600471e-03 & 0.042499058 & 78 & 0.041487379\\\\\n",
       "\t84 & -1.1300860 & 14.33980 &  6.665557 & 1.093183e-02 & 0.042499058 & 84 & 0.041487379\\\\\n",
       "\t7 &  1.6026114 & 14.02979 &  5.503167 & 2.048712e-02 & 0.067112979 &  7 & 0.065571409\\\\\n",
       "\t70 & -1.0374627 & 14.10554 &  5.224722 & 2.387827e-02 & 0.075614512 & 70 & 0.073627617\\\\\n",
       "\t22 & -0.9238504 & 14.23053 &  4.676155 & 3.240544e-02 & 0.093288379 & 22 & 0.090317643\\\\\n",
       "\t67 &  1.3481206 & 14.19914 &  4.688285 & 3.218559e-02 & 0.093288379 & 67 & 0.090317643\\\\\n",
       "\t83 & -1.2429732 & 13.90460 &  4.789957 & 3.040361e-02 & 0.093172352 & 83 & 0.090317643\\\\\n",
       "\t86 &  1.4028652 & 13.98965 &  4.607457 & 3.368091e-02 & 0.094108434 & 86 & 0.091333484\\\\\n",
       "\t27 &  0.9114047 & 14.53750 &  4.453968 & 3.672654e-02 & 0.096917259 & 27 & 0.094220306\\\\\n",
       "\t74 &  1.2745122 & 13.78911 &  4.454454 & 3.671643e-02 & 0.096917259 & 74 & 0.094220306\\\\\n",
       "\t60 &  2.3478206 & 13.68917 &  4.550859 & 3.886840e-02 & 0.099797241 & 60 & 0.097460194\\\\\n",
       "\t2 & -0.8271728 & 14.63168 &  4.259559 & 4.100936e-02 & 0.102523407 &  2 & 0.099723398\\\\\n",
       "\\end{tabular}\n"
      ],
      "text/markdown": [
       "\n",
       "A data.frame: 38 × 7\n",
       "\n",
       "| <!--/--> | logFC &lt;dbl&gt; | logCPM &lt;dbl&gt; | F &lt;dbl&gt; | PValue &lt;dbl&gt; | FDR &lt;dbl&gt; | Nhood &lt;dbl&gt; | SpatialFDR &lt;dbl&gt; |\n",
       "|---|---|---|---|---|---|---|---|\n",
       "| 72 |  3.2204477 | 14.27249 | 19.544365 | 2.185938e-05 | 0.002076641 | 72 | 0.001927968 |\n",
       "| 23 |  3.0494654 | 14.13509 | 17.188611 | 6.049183e-05 | 0.002873362 | 23 | 0.002750319 |\n",
       "| 30 |  2.8427982 | 13.99561 | 12.638395 | 5.268502e-04 | 0.007244694 | 30 | 0.007044819 |\n",
       "| 31 |  2.1089407 | 14.31137 | 12.997530 | 4.424138e-04 | 0.007244694 | 31 | 0.007044819 |\n",
       "| 34 |  3.2261491 | 13.84941 | 12.795774 | 5.338196e-04 | 0.007244694 | 34 | 0.007044819 |\n",
       "| 38 |  3.5058309 | 14.14197 | 14.449261 | 3.336469e-04 | 0.007244694 | 38 | 0.007044819 |\n",
       "| 44 |  2.2031702 | 14.32906 | 12.971572 | 4.515046e-04 | 0.007244694 | 44 | 0.007044819 |\n",
       "| 71 |  2.4014522 | 14.01472 | 11.875089 | 7.655567e-04 | 0.009090986 | 71 | 0.008954825 |\n",
       "| 66 |  2.3559680 | 13.81804 | 11.357702 | 9.881812e-04 | 0.010430801 | 66 | 0.010470424 |\n",
       "| 82 |  2.4608674 | 13.98261 | 10.172934 | 1.784349e-03 | 0.016951315 | 82 | 0.017019261 |\n",
       "| 85 |  1.8981687 | 14.27233 |  9.970105 | 1.987200e-03 | 0.017162178 | 85 | 0.017058959 |\n",
       "| 3 | -1.0858273 | 14.48499 |  9.036237 | 3.174675e-03 | 0.025132842 |  3 | 0.024587609 |\n",
       "| 6 | -1.4825673 | 13.90109 |  7.762456 | 6.129143e-03 | 0.039351409 |  6 | 0.037796580 |\n",
       "| 65 | -1.2983826 | 14.12792 |  7.875403 | 5.778524e-03 | 0.039351409 | 65 | 0.037796580 |\n",
       "| 94 | -1.4145842 | 14.12243 |  7.736316 | 6.213380e-03 | 0.039351409 | 94 | 0.037796580 |\n",
       "| 8 |  2.1856010 | 13.50114 |  6.675385 | 1.090492e-02 | 0.042499058 |  8 | 0.041487379 |\n",
       "| 10 |  1.3786626 | 14.33772 |  6.423528 | 1.244210e-02 | 0.042499058 | 10 | 0.041487379 |\n",
       "| 12 |  1.8824701 | 14.03150 |  6.959782 | 9.348803e-03 | 0.042499058 | 12 | 0.041487379 |\n",
       "| 36 |  1.8481043 | 14.01072 |  6.410989 | 1.252604e-02 | 0.042499058 | 36 | 0.041487379 |\n",
       "| 39 |  1.0969428 | 14.69117 |  6.790905 | 1.022585e-02 | 0.042499058 | 39 | 0.041487379 |\n",
       "| 42 |  1.8068640 | 13.90629 |  6.586072 | 1.140559e-02 | 0.042499058 | 42 | 0.041487379 |\n",
       "| 51 |  1.4606076 | 14.02536 |  6.674960 | 1.087716e-02 | 0.042499058 | 51 | 0.041487379 |\n",
       "| 53 |  1.9616023 | 13.89940 |  7.121420 | 8.582332e-03 | 0.042499058 | 53 | 0.041487379 |\n",
       "| 54 | -1.0932087 | 14.31081 |  6.447340 | 1.228433e-02 | 0.042499058 | 54 | 0.041487379 |\n",
       "| 56 | -1.2319821 | 14.08115 |  6.505464 | 1.190789e-02 | 0.042499058 | 56 | 0.041487379 |\n",
       "| 69 |  1.9490984 | 13.79334 |  6.603575 | 1.129947e-02 | 0.042499058 | 69 | 0.041487379 |\n",
       "| 78 |  3.9457729 | 13.53229 |  7.639318 | 8.600471e-03 | 0.042499058 | 78 | 0.041487379 |\n",
       "| 84 | -1.1300860 | 14.33980 |  6.665557 | 1.093183e-02 | 0.042499058 | 84 | 0.041487379 |\n",
       "| 7 |  1.6026114 | 14.02979 |  5.503167 | 2.048712e-02 | 0.067112979 |  7 | 0.065571409 |\n",
       "| 70 | -1.0374627 | 14.10554 |  5.224722 | 2.387827e-02 | 0.075614512 | 70 | 0.073627617 |\n",
       "| 22 | -0.9238504 | 14.23053 |  4.676155 | 3.240544e-02 | 0.093288379 | 22 | 0.090317643 |\n",
       "| 67 |  1.3481206 | 14.19914 |  4.688285 | 3.218559e-02 | 0.093288379 | 67 | 0.090317643 |\n",
       "| 83 | -1.2429732 | 13.90460 |  4.789957 | 3.040361e-02 | 0.093172352 | 83 | 0.090317643 |\n",
       "| 86 |  1.4028652 | 13.98965 |  4.607457 | 3.368091e-02 | 0.094108434 | 86 | 0.091333484 |\n",
       "| 27 |  0.9114047 | 14.53750 |  4.453968 | 3.672654e-02 | 0.096917259 | 27 | 0.094220306 |\n",
       "| 74 |  1.2745122 | 13.78911 |  4.454454 | 3.671643e-02 | 0.096917259 | 74 | 0.094220306 |\n",
       "| 60 |  2.3478206 | 13.68917 |  4.550859 | 3.886840e-02 | 0.099797241 | 60 | 0.097460194 |\n",
       "| 2 | -0.8271728 | 14.63168 |  4.259559 | 4.100936e-02 | 0.102523407 |  2 | 0.099723398 |\n",
       "\n"
      ],
      "text/plain": [
       "   logFC      logCPM   F         PValue       FDR         Nhood SpatialFDR \n",
       "72  3.2204477 14.27249 19.544365 2.185938e-05 0.002076641 72    0.001927968\n",
       "23  3.0494654 14.13509 17.188611 6.049183e-05 0.002873362 23    0.002750319\n",
       "30  2.8427982 13.99561 12.638395 5.268502e-04 0.007244694 30    0.007044819\n",
       "31  2.1089407 14.31137 12.997530 4.424138e-04 0.007244694 31    0.007044819\n",
       "34  3.2261491 13.84941 12.795774 5.338196e-04 0.007244694 34    0.007044819\n",
       "38  3.5058309 14.14197 14.449261 3.336469e-04 0.007244694 38    0.007044819\n",
       "44  2.2031702 14.32906 12.971572 4.515046e-04 0.007244694 44    0.007044819\n",
       "71  2.4014522 14.01472 11.875089 7.655567e-04 0.009090986 71    0.008954825\n",
       "66  2.3559680 13.81804 11.357702 9.881812e-04 0.010430801 66    0.010470424\n",
       "82  2.4608674 13.98261 10.172934 1.784349e-03 0.016951315 82    0.017019261\n",
       "85  1.8981687 14.27233  9.970105 1.987200e-03 0.017162178 85    0.017058959\n",
       "3  -1.0858273 14.48499  9.036237 3.174675e-03 0.025132842  3    0.024587609\n",
       "6  -1.4825673 13.90109  7.762456 6.129143e-03 0.039351409  6    0.037796580\n",
       "65 -1.2983826 14.12792  7.875403 5.778524e-03 0.039351409 65    0.037796580\n",
       "94 -1.4145842 14.12243  7.736316 6.213380e-03 0.039351409 94    0.037796580\n",
       "8   2.1856010 13.50114  6.675385 1.090492e-02 0.042499058  8    0.041487379\n",
       "10  1.3786626 14.33772  6.423528 1.244210e-02 0.042499058 10    0.041487379\n",
       "12  1.8824701 14.03150  6.959782 9.348803e-03 0.042499058 12    0.041487379\n",
       "36  1.8481043 14.01072  6.410989 1.252604e-02 0.042499058 36    0.041487379\n",
       "39  1.0969428 14.69117  6.790905 1.022585e-02 0.042499058 39    0.041487379\n",
       "42  1.8068640 13.90629  6.586072 1.140559e-02 0.042499058 42    0.041487379\n",
       "51  1.4606076 14.02536  6.674960 1.087716e-02 0.042499058 51    0.041487379\n",
       "53  1.9616023 13.89940  7.121420 8.582332e-03 0.042499058 53    0.041487379\n",
       "54 -1.0932087 14.31081  6.447340 1.228433e-02 0.042499058 54    0.041487379\n",
       "56 -1.2319821 14.08115  6.505464 1.190789e-02 0.042499058 56    0.041487379\n",
       "69  1.9490984 13.79334  6.603575 1.129947e-02 0.042499058 69    0.041487379\n",
       "78  3.9457729 13.53229  7.639318 8.600471e-03 0.042499058 78    0.041487379\n",
       "84 -1.1300860 14.33980  6.665557 1.093183e-02 0.042499058 84    0.041487379\n",
       "7   1.6026114 14.02979  5.503167 2.048712e-02 0.067112979  7    0.065571409\n",
       "70 -1.0374627 14.10554  5.224722 2.387827e-02 0.075614512 70    0.073627617\n",
       "22 -0.9238504 14.23053  4.676155 3.240544e-02 0.093288379 22    0.090317643\n",
       "67  1.3481206 14.19914  4.688285 3.218559e-02 0.093288379 67    0.090317643\n",
       "83 -1.2429732 13.90460  4.789957 3.040361e-02 0.093172352 83    0.090317643\n",
       "86  1.4028652 13.98965  4.607457 3.368091e-02 0.094108434 86    0.091333484\n",
       "27  0.9114047 14.53750  4.453968 3.672654e-02 0.096917259 27    0.094220306\n",
       "74  1.2745122 13.78911  4.454454 3.671643e-02 0.096917259 74    0.094220306\n",
       "60  2.3478206 13.68917  4.550859 3.886840e-02 0.099797241 60    0.097460194\n",
       "2  -0.8271728 14.63168  4.259559 4.100936e-02 0.102523407  2    0.099723398"
      ]
     },
     "metadata": {},
     "output_type": "display_data"
    }
   ],
   "source": [
    "qs::qread('_targets/objects/da_results_00_Microglia_unimod___BMP1_LDNvVehicle') %>% filter(SpatialFDR < 0.1)"
   ]
  },
  {
   "cell_type": "code",
   "execution_count": 50,
   "id": "d4e70f6f",
   "metadata": {},
   "outputs": [
    {
     "data": {
      "text/html": [
       "<table class=\"dataframe\">\n",
       "<caption>A tibble: 0 × 2</caption>\n",
       "<thead>\n",
       "\t<tr><th scope=col>labels</th><th scope=col>n</th></tr>\n",
       "\t<tr><th scope=col>&lt;chr&gt;</th><th scope=col>&lt;int&gt;</th></tr>\n",
       "</thead>\n",
       "<tbody>\n",
       "</tbody>\n",
       "</table>\n"
      ],
      "text/latex": [
       "A tibble: 0 × 2\n",
       "\\begin{tabular}{ll}\n",
       " labels & n\\\\\n",
       " <chr> & <int>\\\\\n",
       "\\hline\n",
       "\\end{tabular}\n"
      ],
      "text/markdown": [
       "\n",
       "A tibble: 0 × 2\n",
       "\n",
       "| labels &lt;chr&gt; | n &lt;int&gt; |\n",
       "|---|---|\n",
       "\n"
      ],
      "text/plain": [
       "     labels n"
      ]
     },
     "metadata": {},
     "output_type": "display_data"
    }
   ],
   "source": [
    "qs::qread('_targets/objects/combined_da_results_bmp_only_all.BMP1_LDNvVehicle') %>%\n",
    "filter(polarity != 'none') %>%\n",
    "group_by(labels) %>%\n",
    "summarise(n = n())"
   ]
  },
  {
   "cell_type": "code",
   "execution_count": 51,
   "id": "ccee9401",
   "metadata": {},
   "outputs": [
    {
     "data": {
      "text/html": [
       "<table class=\"dataframe\">\n",
       "<caption>A tibble: 2 × 2</caption>\n",
       "<thead>\n",
       "\t<tr><th scope=col>labels</th><th scope=col>n</th></tr>\n",
       "\t<tr><th scope=col>&lt;chr&gt;</th><th scope=col>&lt;int&gt;</th></tr>\n",
       "</thead>\n",
       "<tbody>\n",
       "\t<tr><td>a2_Tanycytes</td><td> 8</td></tr>\n",
       "\t<tr><td>Microglia   </td><td>38</td></tr>\n",
       "</tbody>\n",
       "</table>\n"
      ],
      "text/latex": [
       "A tibble: 2 × 2\n",
       "\\begin{tabular}{ll}\n",
       " labels & n\\\\\n",
       " <chr> & <int>\\\\\n",
       "\\hline\n",
       "\t a2\\_Tanycytes &  8\\\\\n",
       "\t Microglia    & 38\\\\\n",
       "\\end{tabular}\n"
      ],
      "text/markdown": [
       "\n",
       "A tibble: 2 × 2\n",
       "\n",
       "| labels &lt;chr&gt; | n &lt;int&gt; |\n",
       "|---|---|\n",
       "| a2_Tanycytes |  8 |\n",
       "| Microglia    | 38 |\n",
       "\n"
      ],
      "text/plain": [
       "  labels       n \n",
       "1 a2_Tanycytes  8\n",
       "2 Microglia    38"
      ]
     },
     "metadata": {},
     "output_type": "display_data"
    }
   ],
   "source": [
    "qs::qread('_targets/objects/combined_da_results_unimod_all.BMP1_LDNvVehicle') %>%\n",
    "filter(polarity != 'none') %>%\n",
    "group_by(labels) %>%\n",
    "summarise(n = n())"
   ]
  },
  {
   "cell_type": "code",
   "execution_count": 63,
   "id": "0d0cad01",
   "metadata": {},
   "outputs": [
    {
     "data": {
      "text/html": [
       "<table class=\"dataframe\">\n",
       "<caption>A tibble: 7 × 2</caption>\n",
       "<thead>\n",
       "\t<tr><th scope=col>labels</th><th scope=col>n</th></tr>\n",
       "\t<tr><th scope=col>&lt;chr&gt;</th><th scope=col>&lt;int&gt;</th></tr>\n",
       "</thead>\n",
       "<tbody>\n",
       "\t<tr><td>a2_Tanycytes</td><td> 18</td></tr>\n",
       "\t<tr><td>Astrocytes  </td><td>280</td></tr>\n",
       "\t<tr><td>b1_Tanycytes</td><td> 22</td></tr>\n",
       "\t<tr><td>Epend       </td><td> 18</td></tr>\n",
       "\t<tr><td>Microglia   </td><td>  7</td></tr>\n",
       "\t<tr><td>MOL         </td><td> 74</td></tr>\n",
       "\t<tr><td>NG2_OPC2    </td><td> 93</td></tr>\n",
       "</tbody>\n",
       "</table>\n"
      ],
      "text/latex": [
       "A tibble: 7 × 2\n",
       "\\begin{tabular}{ll}\n",
       " labels & n\\\\\n",
       " <chr> & <int>\\\\\n",
       "\\hline\n",
       "\t a2\\_Tanycytes &  18\\\\\n",
       "\t Astrocytes   & 280\\\\\n",
       "\t b1\\_Tanycytes &  22\\\\\n",
       "\t Epend        &  18\\\\\n",
       "\t Microglia    &   7\\\\\n",
       "\t MOL          &  74\\\\\n",
       "\t NG2\\_OPC2     &  93\\\\\n",
       "\\end{tabular}\n"
      ],
      "text/markdown": [
       "\n",
       "A tibble: 7 × 2\n",
       "\n",
       "| labels &lt;chr&gt; | n &lt;int&gt; |\n",
       "|---|---|\n",
       "| a2_Tanycytes |  18 |\n",
       "| Astrocytes   | 280 |\n",
       "| b1_Tanycytes |  22 |\n",
       "| Epend        |  18 |\n",
       "| Microglia    |   7 |\n",
       "| MOL          |  74 |\n",
       "| NG2_OPC2     |  93 |\n",
       "\n"
      ],
      "text/plain": [
       "  labels       n  \n",
       "1 a2_Tanycytes  18\n",
       "2 Astrocytes   280\n",
       "3 b1_Tanycytes  22\n",
       "4 Epend         18\n",
       "5 Microglia      7\n",
       "6 MOL           74\n",
       "7 NG2_OPC2      93"
      ]
     },
     "metadata": {},
     "output_type": "display_data"
    }
   ],
   "source": [
    "qs::qread('_targets/objects/combined_da_results_unimod_all.obob5v5') %>%\n",
    "filter(polarity != 'none') %>%\n",
    "group_by(labels) %>%\n",
    "summarise(n = n())"
   ]
  },
  {
   "cell_type": "code",
   "execution_count": 64,
   "id": "ac75e684",
   "metadata": {},
   "outputs": [
    {
     "data": {
      "text/html": [
       "<table class=\"dataframe\">\n",
       "<caption>A tibble: 8 × 2</caption>\n",
       "<thead>\n",
       "\t<tr><th scope=col>labels</th><th scope=col>n</th></tr>\n",
       "\t<tr><th scope=col>&lt;chr&gt;</th><th scope=col>&lt;int&gt;</th></tr>\n",
       "</thead>\n",
       "<tbody>\n",
       "\t<tr><td>a2_Tanycytes</td><td>46</td></tr>\n",
       "\t<tr><td>Astrocytes  </td><td>51</td></tr>\n",
       "\t<tr><td>b1_Tanycytes</td><td>23</td></tr>\n",
       "\t<tr><td>b2_Tany     </td><td>16</td></tr>\n",
       "\t<tr><td>Epend       </td><td> 6</td></tr>\n",
       "\t<tr><td>Microglia   </td><td> 5</td></tr>\n",
       "\t<tr><td>MOL         </td><td>85</td></tr>\n",
       "\t<tr><td>NG2_OPC2    </td><td>13</td></tr>\n",
       "</tbody>\n",
       "</table>\n"
      ],
      "text/latex": [
       "A tibble: 8 × 2\n",
       "\\begin{tabular}{ll}\n",
       " labels & n\\\\\n",
       " <chr> & <int>\\\\\n",
       "\\hline\n",
       "\t a2\\_Tanycytes & 46\\\\\n",
       "\t Astrocytes   & 51\\\\\n",
       "\t b1\\_Tanycytes & 23\\\\\n",
       "\t b2\\_Tany      & 16\\\\\n",
       "\t Epend        &  6\\\\\n",
       "\t Microglia    &  5\\\\\n",
       "\t MOL          & 85\\\\\n",
       "\t NG2\\_OPC2     & 13\\\\\n",
       "\\end{tabular}\n"
      ],
      "text/markdown": [
       "\n",
       "A tibble: 8 × 2\n",
       "\n",
       "| labels &lt;chr&gt; | n &lt;int&gt; |\n",
       "|---|---|\n",
       "| a2_Tanycytes | 46 |\n",
       "| Astrocytes   | 51 |\n",
       "| b1_Tanycytes | 23 |\n",
       "| b2_Tany      | 16 |\n",
       "| Epend        |  6 |\n",
       "| Microglia    |  5 |\n",
       "| MOL          | 85 |\n",
       "| NG2_OPC2     | 13 |\n",
       "\n"
      ],
      "text/plain": [
       "  labels       n \n",
       "1 a2_Tanycytes 46\n",
       "2 Astrocytes   51\n",
       "3 b1_Tanycytes 23\n",
       "4 b2_Tany      16\n",
       "5 Epend         6\n",
       "6 Microglia     5\n",
       "7 MOL          85\n",
       "8 NG2_OPC2     13"
      ]
     },
     "metadata": {},
     "output_type": "display_data"
    }
   ],
   "source": [
    "qs::qread('_targets/objects/combined_da_results_unimod_all.BMP1_Vehicle_vs_FGF1_Veh_PF') %>%\n",
    "filter(polarity != 'none') %>%\n",
    "group_by(labels) %>%\n",
    "summarise(n = n())"
   ]
  },
  {
   "cell_type": "code",
   "execution_count": 52,
   "id": "6da29724",
   "metadata": {},
   "outputs": [
    {
     "data": {
      "text/html": [
       "<table class=\"dataframe\">\n",
       "<caption>A tibble: 2 × 2</caption>\n",
       "<thead>\n",
       "\t<tr><th scope=col>labels</th><th scope=col>n</th></tr>\n",
       "\t<tr><th scope=col>&lt;chr&gt;</th><th scope=col>&lt;int&gt;</th></tr>\n",
       "</thead>\n",
       "<tbody>\n",
       "\t<tr><td>a2_Tanycytes</td><td>17</td></tr>\n",
       "\t<tr><td>Microglia   </td><td>15</td></tr>\n",
       "</tbody>\n",
       "</table>\n"
      ],
      "text/latex": [
       "A tibble: 2 × 2\n",
       "\\begin{tabular}{ll}\n",
       " labels & n\\\\\n",
       " <chr> & <int>\\\\\n",
       "\\hline\n",
       "\t a2\\_Tanycytes & 17\\\\\n",
       "\t Microglia    & 15\\\\\n",
       "\\end{tabular}\n"
      ],
      "text/markdown": [
       "\n",
       "A tibble: 2 × 2\n",
       "\n",
       "| labels &lt;chr&gt; | n &lt;int&gt; |\n",
       "|---|---|\n",
       "| a2_Tanycytes | 17 |\n",
       "| Microglia    | 15 |\n",
       "\n"
      ],
      "text/plain": [
       "  labels       n \n",
       "1 a2_Tanycytes 17\n",
       "2 Microglia    15"
      ]
     },
     "metadata": {},
     "output_type": "display_data"
    }
   ],
   "source": [
    "qs::qread('_targets/objects/combined_da_results_sct_batchvar_forb_all.BMP1_LDNvVehicle') %>%\n",
    "filter(polarity != 'none') %>%\n",
    "group_by(labels) %>%\n",
    "summarise(n = n())"
   ]
  },
  {
   "cell_type": "code",
   "execution_count": 54,
   "id": "43303179",
   "metadata": {},
   "outputs": [
    {
     "data": {
      "text/html": [
       "<table class=\"dataframe\">\n",
       "<caption>A tibble: 1 × 2</caption>\n",
       "<thead>\n",
       "\t<tr><th scope=col>labels</th><th scope=col>n</th></tr>\n",
       "\t<tr><th scope=col>&lt;chr&gt;</th><th scope=col>&lt;int&gt;</th></tr>\n",
       "</thead>\n",
       "<tbody>\n",
       "\t<tr><td>Microglia</td><td>10</td></tr>\n",
       "</tbody>\n",
       "</table>\n"
      ],
      "text/latex": [
       "A tibble: 1 × 2\n",
       "\\begin{tabular}{ll}\n",
       " labels & n\\\\\n",
       " <chr> & <int>\\\\\n",
       "\\hline\n",
       "\t Microglia & 10\\\\\n",
       "\\end{tabular}\n"
      ],
      "text/markdown": [
       "\n",
       "A tibble: 1 × 2\n",
       "\n",
       "| labels &lt;chr&gt; | n &lt;int&gt; |\n",
       "|---|---|\n",
       "| Microglia | 10 |\n",
       "\n"
      ],
      "text/plain": [
       "  labels    n \n",
       "1 Microglia 10"
      ]
     },
     "metadata": {},
     "output_type": "display_data"
    }
   ],
   "source": [
    "qs::qread('_targets/objects/combined_da_results_sct_batchvar_all_all.BMP1_LDNvVehicle') %>%\n",
    "filter(polarity != 'none') %>%\n",
    "group_by(labels) %>%\n",
    "summarise(n = n())"
   ]
  },
  {
   "cell_type": "code",
   "execution_count": 55,
   "id": "fc34e118",
   "metadata": {},
   "outputs": [
    {
     "data": {
      "text/html": [
       "<table class=\"dataframe\">\n",
       "<caption>A tibble: 3 × 2</caption>\n",
       "<thead>\n",
       "\t<tr><th scope=col>labels</th><th scope=col>n</th></tr>\n",
       "\t<tr><th scope=col>&lt;chr&gt;</th><th scope=col>&lt;int&gt;</th></tr>\n",
       "</thead>\n",
       "<tbody>\n",
       "\t<tr><td>a2_Tanycytes</td><td> 8</td></tr>\n",
       "\t<tr><td>Astrocytes  </td><td> 1</td></tr>\n",
       "\t<tr><td>Microglia   </td><td>39</td></tr>\n",
       "</tbody>\n",
       "</table>\n"
      ],
      "text/latex": [
       "A tibble: 3 × 2\n",
       "\\begin{tabular}{ll}\n",
       " labels & n\\\\\n",
       " <chr> & <int>\\\\\n",
       "\\hline\n",
       "\t a2\\_Tanycytes &  8\\\\\n",
       "\t Astrocytes   &  1\\\\\n",
       "\t Microglia    & 39\\\\\n",
       "\\end{tabular}\n"
      ],
      "text/markdown": [
       "\n",
       "A tibble: 3 × 2\n",
       "\n",
       "| labels &lt;chr&gt; | n &lt;int&gt; |\n",
       "|---|---|\n",
       "| a2_Tanycytes |  8 |\n",
       "| Astrocytes   |  1 |\n",
       "| Microglia    | 39 |\n",
       "\n"
      ],
      "text/plain": [
       "  labels       n \n",
       "1 a2_Tanycytes  8\n",
       "2 Astrocytes    1\n",
       "3 Microglia    39"
      ]
     },
     "metadata": {},
     "output_type": "display_data"
    }
   ],
   "source": [
    "qs::qread('_targets/objects/combined_da_results_sct_forb_all.BMP1_LDNvVehicle') %>%\n",
    "filter(polarity != 'none') %>%\n",
    "group_by(labels) %>%\n",
    "summarise(n = n())"
   ]
  },
  {
   "cell_type": "code",
   "execution_count": 56,
   "id": "05d2f0e4",
   "metadata": {},
   "outputs": [
    {
     "data": {
      "text/html": [
       "<table class=\"dataframe\">\n",
       "<caption>A tibble: 3 × 2</caption>\n",
       "<thead>\n",
       "\t<tr><th scope=col>labels</th><th scope=col>n</th></tr>\n",
       "\t<tr><th scope=col>&lt;chr&gt;</th><th scope=col>&lt;int&gt;</th></tr>\n",
       "</thead>\n",
       "<tbody>\n",
       "\t<tr><td>Microglia   </td><td>39</td></tr>\n",
       "\t<tr><td>a2_Tanycytes</td><td> 8</td></tr>\n",
       "\t<tr><td>Astrocytes  </td><td> 1</td></tr>\n",
       "</tbody>\n",
       "</table>\n"
      ],
      "text/latex": [
       "A tibble: 3 × 2\n",
       "\\begin{tabular}{ll}\n",
       " labels & n\\\\\n",
       " <chr> & <int>\\\\\n",
       "\\hline\n",
       "\t Microglia    & 39\\\\\n",
       "\t a2\\_Tanycytes &  8\\\\\n",
       "\t Astrocytes   &  1\\\\\n",
       "\\end{tabular}\n"
      ],
      "text/markdown": [
       "\n",
       "A tibble: 3 × 2\n",
       "\n",
       "| labels &lt;chr&gt; | n &lt;int&gt; |\n",
       "|---|---|\n",
       "| Microglia    | 39 |\n",
       "| a2_Tanycytes |  8 |\n",
       "| Astrocytes   |  1 |\n",
       "\n"
      ],
      "text/plain": [
       "  labels       n \n",
       "1 Microglia    39\n",
       "2 a2_Tanycytes  8\n",
       "3 Astrocytes    1"
      ]
     },
     "metadata": {},
     "output_type": "display_data"
    }
   ],
   "source": [
    "qs::qread('_targets/objects/combined_da_results_sct_forb_all.BMP1_LDNvVehicle') %>%\n",
    "filter(polarity != 'none') %>%\n",
    "group_by(labels) %>%\n",
    "summarise(n = n()) %>% \n",
    "arrange(desc(n))"
   ]
  },
  {
   "cell_type": "code",
   "execution_count": 57,
   "id": "ddbdac82",
   "metadata": {},
   "outputs": [
    {
     "data": {
      "text/html": [
       "<table class=\"dataframe\">\n",
       "<caption>A tibble: 8 × 2</caption>\n",
       "<thead>\n",
       "\t<tr><th scope=col>labels</th><th scope=col>n</th></tr>\n",
       "\t<tr><th scope=col>&lt;chr&gt;</th><th scope=col>&lt;int&gt;</th></tr>\n",
       "</thead>\n",
       "<tbody>\n",
       "\t<tr><td>Astrocytes  </td><td>252</td></tr>\n",
       "\t<tr><td>b1_Tanycytes</td><td> 73</td></tr>\n",
       "\t<tr><td>NG2_OPC2    </td><td> 47</td></tr>\n",
       "\t<tr><td>MOL         </td><td> 46</td></tr>\n",
       "\t<tr><td>a2_Tanycytes</td><td> 40</td></tr>\n",
       "\t<tr><td>NFOL        </td><td> 17</td></tr>\n",
       "\t<tr><td>Microglia   </td><td>  8</td></tr>\n",
       "\t<tr><td>b2_Tany     </td><td>  4</td></tr>\n",
       "</tbody>\n",
       "</table>\n"
      ],
      "text/latex": [
       "A tibble: 8 × 2\n",
       "\\begin{tabular}{ll}\n",
       " labels & n\\\\\n",
       " <chr> & <int>\\\\\n",
       "\\hline\n",
       "\t Astrocytes   & 252\\\\\n",
       "\t b1\\_Tanycytes &  73\\\\\n",
       "\t NG2\\_OPC2     &  47\\\\\n",
       "\t MOL          &  46\\\\\n",
       "\t a2\\_Tanycytes &  40\\\\\n",
       "\t NFOL         &  17\\\\\n",
       "\t Microglia    &   8\\\\\n",
       "\t b2\\_Tany      &   4\\\\\n",
       "\\end{tabular}\n"
      ],
      "text/markdown": [
       "\n",
       "A tibble: 8 × 2\n",
       "\n",
       "| labels &lt;chr&gt; | n &lt;int&gt; |\n",
       "|---|---|\n",
       "| Astrocytes   | 252 |\n",
       "| b1_Tanycytes |  73 |\n",
       "| NG2_OPC2     |  47 |\n",
       "| MOL          |  46 |\n",
       "| a2_Tanycytes |  40 |\n",
       "| NFOL         |  17 |\n",
       "| Microglia    |   8 |\n",
       "| b2_Tany      |   4 |\n",
       "\n"
      ],
      "text/plain": [
       "  labels       n  \n",
       "1 Astrocytes   252\n",
       "2 b1_Tanycytes  73\n",
       "3 NG2_OPC2      47\n",
       "4 MOL           46\n",
       "5 a2_Tanycytes  40\n",
       "6 NFOL          17\n",
       "7 Microglia      8\n",
       "8 b2_Tany        4"
      ]
     },
     "metadata": {},
     "output_type": "display_data"
    }
   ],
   "source": [
    "qs::qread('_targets/objects/combined_da_results_sct_forb_all.obob5v5') %>%\n",
    "filter(polarity != 'none') %>%\n",
    "group_by(labels) %>%\n",
    "summarise(n = n()) %>% \n",
    "arrange(desc(n))"
   ]
  },
  {
   "cell_type": "code",
   "execution_count": 58,
   "id": "9169d4a1",
   "metadata": {},
   "outputs": [
    {
     "data": {
      "text/html": [
       "<table class=\"dataframe\">\n",
       "<caption>A tibble: 1 × 2</caption>\n",
       "<thead>\n",
       "\t<tr><th scope=col>labels</th><th scope=col>n</th></tr>\n",
       "\t<tr><th scope=col>&lt;chr&gt;</th><th scope=col>&lt;int&gt;</th></tr>\n",
       "</thead>\n",
       "<tbody>\n",
       "\t<tr><td>Microglia</td><td>23</td></tr>\n",
       "</tbody>\n",
       "</table>\n"
      ],
      "text/latex": [
       "A tibble: 1 × 2\n",
       "\\begin{tabular}{ll}\n",
       " labels & n\\\\\n",
       " <chr> & <int>\\\\\n",
       "\\hline\n",
       "\t Microglia & 23\\\\\n",
       "\\end{tabular}\n"
      ],
      "text/markdown": [
       "\n",
       "A tibble: 1 × 2\n",
       "\n",
       "| labels &lt;chr&gt; | n &lt;int&gt; |\n",
       "|---|---|\n",
       "| Microglia | 23 |\n",
       "\n"
      ],
      "text/plain": [
       "  labels    n \n",
       "1 Microglia 23"
      ]
     },
     "metadata": {},
     "output_type": "display_data"
    }
   ],
   "source": [
    "qs::qread('_targets/objects/combined_da_results_sct_all.BMP1_LDNvVehicle') %>%\n",
    "filter(polarity != 'none') %>%\n",
    "group_by(labels) %>%\n",
    "summarise(n = n()) %>% \n",
    "arrange(desc(n))"
   ]
  },
  {
   "cell_type": "code",
   "execution_count": 60,
   "id": "f4e3a508",
   "metadata": {},
   "outputs": [
    {
     "data": {
      "text/html": [
       "<table class=\"dataframe\">\n",
       "<caption>A tibble: 2 × 2</caption>\n",
       "<thead>\n",
       "\t<tr><th scope=col>labels</th><th scope=col>n</th></tr>\n",
       "\t<tr><th scope=col>&lt;chr&gt;</th><th scope=col>&lt;int&gt;</th></tr>\n",
       "</thead>\n",
       "<tbody>\n",
       "\t<tr><td>a2_Tanycytes</td><td>17</td></tr>\n",
       "\t<tr><td>Microglia   </td><td>15</td></tr>\n",
       "</tbody>\n",
       "</table>\n"
      ],
      "text/latex": [
       "A tibble: 2 × 2\n",
       "\\begin{tabular}{ll}\n",
       " labels & n\\\\\n",
       " <chr> & <int>\\\\\n",
       "\\hline\n",
       "\t a2\\_Tanycytes & 17\\\\\n",
       "\t Microglia    & 15\\\\\n",
       "\\end{tabular}\n"
      ],
      "text/markdown": [
       "\n",
       "A tibble: 2 × 2\n",
       "\n",
       "| labels &lt;chr&gt; | n &lt;int&gt; |\n",
       "|---|---|\n",
       "| a2_Tanycytes | 17 |\n",
       "| Microglia    | 15 |\n",
       "\n"
      ],
      "text/plain": [
       "  labels       n \n",
       "1 a2_Tanycytes 17\n",
       "2 Microglia    15"
      ]
     },
     "metadata": {},
     "output_type": "display_data"
    }
   ],
   "source": [
    "qs::qread('_targets/objects/combined_da_results_sct_batchvar_forb_all.BMP1_LDNvVehicle') %>%\n",
    "filter(polarity != 'none') %>%\n",
    "group_by(labels) %>%\n",
    "summarise(n = n()) %>% \n",
    "arrange(desc(n))"
   ]
  },
  {
   "cell_type": "code",
   "execution_count": 61,
   "id": "a9beb131",
   "metadata": {},
   "outputs": [
    {
     "data": {
      "text/html": [
       "<table class=\"dataframe\">\n",
       "<caption>A tibble: 9 × 2</caption>\n",
       "<thead>\n",
       "\t<tr><th scope=col>labels</th><th scope=col>n</th></tr>\n",
       "\t<tr><th scope=col>&lt;chr&gt;</th><th scope=col>&lt;int&gt;</th></tr>\n",
       "</thead>\n",
       "<tbody>\n",
       "\t<tr><td>b1_Tanycytes</td><td>62</td></tr>\n",
       "\t<tr><td>NG2_OPC2    </td><td>48</td></tr>\n",
       "\t<tr><td>MOL         </td><td>46</td></tr>\n",
       "\t<tr><td>a2_Tanycytes</td><td>35</td></tr>\n",
       "\t<tr><td>Astrocytes  </td><td>25</td></tr>\n",
       "\t<tr><td>NFOL        </td><td>22</td></tr>\n",
       "\t<tr><td>Epend       </td><td>10</td></tr>\n",
       "\t<tr><td>Microglia   </td><td> 4</td></tr>\n",
       "\t<tr><td>b2_Tany     </td><td> 3</td></tr>\n",
       "</tbody>\n",
       "</table>\n"
      ],
      "text/latex": [
       "A tibble: 9 × 2\n",
       "\\begin{tabular}{ll}\n",
       " labels & n\\\\\n",
       " <chr> & <int>\\\\\n",
       "\\hline\n",
       "\t b1\\_Tanycytes & 62\\\\\n",
       "\t NG2\\_OPC2     & 48\\\\\n",
       "\t MOL          & 46\\\\\n",
       "\t a2\\_Tanycytes & 35\\\\\n",
       "\t Astrocytes   & 25\\\\\n",
       "\t NFOL         & 22\\\\\n",
       "\t Epend        & 10\\\\\n",
       "\t Microglia    &  4\\\\\n",
       "\t b2\\_Tany      &  3\\\\\n",
       "\\end{tabular}\n"
      ],
      "text/markdown": [
       "\n",
       "A tibble: 9 × 2\n",
       "\n",
       "| labels &lt;chr&gt; | n &lt;int&gt; |\n",
       "|---|---|\n",
       "| b1_Tanycytes | 62 |\n",
       "| NG2_OPC2     | 48 |\n",
       "| MOL          | 46 |\n",
       "| a2_Tanycytes | 35 |\n",
       "| Astrocytes   | 25 |\n",
       "| NFOL         | 22 |\n",
       "| Epend        | 10 |\n",
       "| Microglia    |  4 |\n",
       "| b2_Tany      |  3 |\n",
       "\n"
      ],
      "text/plain": [
       "  labels       n \n",
       "1 b1_Tanycytes 62\n",
       "2 NG2_OPC2     48\n",
       "3 MOL          46\n",
       "4 a2_Tanycytes 35\n",
       "5 Astrocytes   25\n",
       "6 NFOL         22\n",
       "7 Epend        10\n",
       "8 Microglia     4\n",
       "9 b2_Tany       3"
      ]
     },
     "metadata": {},
     "output_type": "display_data"
    }
   ],
   "source": [
    "qs::qread('_targets/objects/combined_da_results_sct_batchvar_forb_all.obob5v5') %>%\n",
    "filter(polarity != 'none') %>%\n",
    "group_by(labels) %>%\n",
    "summarise(n = n()) %>% \n",
    "arrange(desc(n))"
   ]
  },
  {
   "cell_type": "code",
   "execution_count": 65,
   "id": "2bdf57f1",
   "metadata": {},
   "outputs": [
    {
     "data": {
      "text/plain": [
       "An object of class Seurat \n",
       "57044 features across 13269 samples within 4 assays \n",
       "Active assay: SCT (23134 features, 3000 variable features)\n",
       " 3 other assays present: RNA, integrated, prediction.score.labels\n",
       " 4 dimensional reductions calculated: pca, umap, mergedumap, mergedpca"
      ]
     },
     "metadata": {},
     "output_type": "display_data"
    }
   ],
   "source": [
    "obj"
   ]
  },
  {
   "cell_type": "code",
   "execution_count": 66,
   "id": "37cf725a",
   "metadata": {},
   "outputs": [
    {
     "data": {
      "text/plain": [
       "An object of class Seurat \n",
       "51025 features across 1976 samples within 4 assays \n",
       "Active assay: SCT (17115 features, 3000 variable features)\n",
       " 3 other assays present: RNA, integrated, prediction.score.labels\n",
       " 6 dimensional reductions calculated: pca, umap, mergedumap, mergedpca, sctumap, sctpca"
      ]
     },
     "metadata": {},
     "output_type": "display_data"
    }
   ],
   "source": [
    "qs::qread('_targets/objects/obj_MOL_bmp_only')"
   ]
  },
  {
   "cell_type": "code",
   "execution_count": 67,
   "id": "e871e8a5",
   "metadata": {},
   "outputs": [
    {
     "data": {
      "text/plain": [
       "An object of class Seurat \n",
       "53825 features across 5999 samples within 4 assays \n",
       "Active assay: SCT (19915 features, 3000 variable features)\n",
       " 3 other assays present: RNA, integrated, prediction.score.labels\n",
       " 6 dimensional reductions calculated: pca, umap, mergedumap, mergedpca, sctumap, sctpca"
      ]
     },
     "metadata": {},
     "output_type": "display_data"
    }
   ],
   "source": [
    "qs::qread('_targets/objects/obj_MOL_sct')"
   ]
  },
  {
   "cell_type": "code",
   "execution_count": 68,
   "id": "0e3b35cd",
   "metadata": {},
   "outputs": [
    {
     "data": {
      "text/plain": [
       "An object of class Seurat \n",
       "53825 features across 5999 samples within 4 assays \n",
       "Active assay: SCT (19915 features, 3000 variable features)\n",
       " 3 other assays present: RNA, integrated, prediction.score.labels\n",
       " 6 dimensional reductions calculated: pca, umap, mergedumap, mergedpca, sctumap, sctpca"
      ]
     },
     "metadata": {},
     "output_type": "display_data"
    }
   ],
   "source": [
    "qs::qread('_targets/objects/obj_MOL_sct_batchvar_all')"
   ]
  },
  {
   "cell_type": "code",
   "execution_count": 69,
   "id": "5c477964",
   "metadata": {},
   "outputs": [
    {
     "data": {
      "text/plain": [
       "An object of class Seurat \n",
       "53825 features across 5999 samples within 4 assays \n",
       "Active assay: SCT (19915 features, 3000 variable features)\n",
       " 3 other assays present: RNA, integrated, prediction.score.labels\n",
       " 6 dimensional reductions calculated: pca, umap, mergedumap, mergedpca, sctumap, sctpca"
      ]
     },
     "metadata": {},
     "output_type": "display_data"
    }
   ],
   "source": [
    "qs::qread('_targets/objects/obj_MOL_sct_batchvar_forb')"
   ]
  },
  {
   "cell_type": "code",
   "execution_count": 70,
   "id": "4e4ffc87",
   "metadata": {},
   "outputs": [
    {
     "data": {
      "text/plain": [
       "An object of class Seurat \n",
       "53825 features across 5999 samples within 4 assays \n",
       "Active assay: SCT (19915 features, 3000 variable features)\n",
       " 3 other assays present: RNA, integrated, prediction.score.labels\n",
       " 6 dimensional reductions calculated: pca, umap, mergedumap, mergedpca, sctumap, sctpca"
      ]
     },
     "metadata": {},
     "output_type": "display_data"
    }
   ],
   "source": [
    "qs::qread('_targets/objects/obj_MOL_sct_forb')"
   ]
  },
  {
   "cell_type": "code",
   "execution_count": 71,
   "id": "8b7a1ff2",
   "metadata": {},
   "outputs": [
    {
     "data": {
      "text/plain": [
       "An object of class Seurat \n",
       "53825 features across 5999 samples within 4 assays \n",
       "Active assay: SCT (19915 features, 3000 variable features)\n",
       " 3 other assays present: RNA, integrated, prediction.score.labels\n",
       " 6 dimensional reductions calculated: pca, umap, mergedumap, mergedpca, sctumap, sctpca"
      ]
     },
     "metadata": {},
     "output_type": "display_data"
    }
   ],
   "source": [
    "qs::qread('_targets/objects/obj_MOL_unimod')"
   ]
  },
  {
   "cell_type": "code",
   "execution_count": null,
   "id": "8a7c6334",
   "metadata": {},
   "outputs": [],
   "source": []
  }
 ],
 "metadata": {
  "kernelspec": {
   "display_name": "R [conda env:fgf1_ygg]",
   "language": "R",
   "name": "conda-env-fgf1_ygg-r"
  },
  "language_info": {
   "codemirror_mode": "r",
   "file_extension": ".r",
   "mimetype": "text/x-r-source",
   "name": "R",
   "pygments_lexer": "r",
   "version": "4.1.3"
  }
 },
 "nbformat": 4,
 "nbformat_minor": 5
}
