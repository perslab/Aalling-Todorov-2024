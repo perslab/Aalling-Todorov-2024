{
 "cells": [
  {
   "cell_type": "code",
   "execution_count": 20,
   "id": "89dfef34",
   "metadata": {},
   "outputs": [],
   "source": [
    "options(box.path = '/projects/petar/fgf1/code')"
   ]
  },
  {
   "cell_type": "code",
   "execution_count": 1,
   "id": "bd998f75",
   "metadata": {},
   "outputs": [],
   "source": [
    "box::use(./code/test/hello_world)"
   ]
  },
  {
   "cell_type": "code",
   "execution_count": 2,
   "id": "679163e5",
   "metadata": {},
   "outputs": [
    {
     "name": "stdout",
     "output_type": "stream",
     "text": [
      "[1] \"hello world!\"\n"
     ]
    }
   ],
   "source": [
    "hello_world$hello()"
   ]
  },
  {
   "cell_type": "code",
   "execution_count": 34,
   "id": "3d066f44",
   "metadata": {},
   "outputs": [],
   "source": [
    "box::unload(hello_world)"
   ]
  },
  {
   "cell_type": "code",
   "execution_count": 9,
   "id": "11344dc3",
   "metadata": {},
   "outputs": [
    {
     "ename": "ERROR",
     "evalue": "Error in box::use(as.name(\"code/test/hello_world\")): expected “/” in “as.name(\"code/test/hello_world\")”, got “as.name”\n",
     "output_type": "error",
     "traceback": [
      "Error in box::use(as.name(\"code/test/hello_world\")): expected “/” in “as.name(\"code/test/hello_world\")”, got “as.name”\nTraceback:\n",
      "1. box::use(as.name(\"code/test/hello_world\"))",
      "2. map(use_one, imports, aliases, list(caller), use_call = list(sys.call()))",
      "3. Map(.f, ..., USE.NAMES = FALSE)",
      "4. mapply(FUN = f, ..., SIMPLIFY = FALSE)",
      "5. (function (declaration, alias, caller, use_call) \n . {\n .     if (identical(declaration, quote(expr = )) && identical(alias, \n .         \"\")) \n .         return()\n .     rethrow_on_error({\n .         spec = parse_spec(declaration, alias)\n .         info = find_mod(spec, caller)\n .         load_and_register(spec, info, caller)\n .     }, call = use_call)\n . })(dots[[1L]][[1L]], dots[[2L]][[1L]], dots[[3L]][[1L]], use_call = dots[[4L]][[1L]])",
      "6. rethrow_on_error({\n .     spec = parse_spec(declaration, alias)\n .     info = find_mod(spec, caller)\n .     load_and_register(spec, info, caller)\n . }, call = use_call)",
      "7. tryCatch(expr, error = function(error) rethrow(error, call))",
      "8. tryCatchList(expr, classes, parentenv, handlers)",
      "9. tryCatchOne(expr, names, parentenv, handlers[[1L]])",
      "10. value[[3L]](cond)",
      "11. rethrow(error, call)"
     ]
    }
   ],
   "source": [
    "box::use(as.name(\"code/test/hello_world\"))"
   ]
  },
  {
   "cell_type": "code",
   "execution_count": 15,
   "id": "7e9b02e9",
   "metadata": {},
   "outputs": [
    {
     "ename": "ERROR",
     "evalue": "Error in eval(parse(text = \"code/test/hello_world\")): object 'code' not found\n",
     "output_type": "error",
     "traceback": [
      "Error in eval(parse(text = \"code/test/hello_world\")): object 'code' not found\nTraceback:\n",
      "1. eval(parse(text = \"code/test/hello_world\"))",
      "2. eval(parse(text = \"code/test/hello_world\"))"
     ]
    }
   ],
   "source": [
    "a = eval(parse(text =\"code/test/hello_world\"))"
   ]
  },
  {
   "cell_type": "code",
   "execution_count": 16,
   "id": "87f9ae93",
   "metadata": {},
   "outputs": [
    {
     "ename": "ERROR",
     "evalue": "Error in box::use(a): there is no package called ‘a’\n",
     "output_type": "error",
     "traceback": [
      "Error in box::use(a): there is no package called ‘a’\nTraceback:\n",
      "1. box::use(a)",
      "2. map(use_one, imports, aliases, list(caller), use_call = list(sys.call()))",
      "3. Map(.f, ..., USE.NAMES = FALSE)",
      "4. mapply(FUN = f, ..., SIMPLIFY = FALSE)",
      "5. (function (declaration, alias, caller, use_call) \n . {\n .     if (identical(declaration, quote(expr = )) && identical(alias, \n .         \"\")) \n .         return()\n .     rethrow_on_error({\n .         spec = parse_spec(declaration, alias)\n .         info = find_mod(spec, caller)\n .         load_and_register(spec, info, caller)\n .     }, call = use_call)\n . })(dots[[1L]][[1L]], dots[[2L]][[1L]], dots[[3L]][[1L]], use_call = dots[[4L]][[1L]])",
      "6. rethrow_on_error({\n .     spec = parse_spec(declaration, alias)\n .     info = find_mod(spec, caller)\n .     load_and_register(spec, info, caller)\n . }, call = use_call)",
      "7. tryCatch(expr, error = function(error) rethrow(error, call))",
      "8. tryCatchList(expr, classes, parentenv, handlers)",
      "9. tryCatchOne(expr, names, parentenv, handlers[[1L]])",
      "10. value[[3L]](cond)",
      "11. rethrow(error, call)"
     ]
    }
   ],
   "source": [
    "box::use(a)"
   ]
  },
  {
   "cell_type": "code",
   "execution_count": 4,
   "id": "b08ea128",
   "metadata": {},
   "outputs": [],
   "source": [
    "box::use(magrittr[`%>%`])"
   ]
  },
  {
   "cell_type": "code",
   "execution_count": 6,
   "id": "831d0f74",
   "metadata": {},
   "outputs": [
    {
     "data": {
      "text/html": [
       "<style>\n",
       ".list-inline {list-style: none; margin:0; padding: 0}\n",
       ".list-inline>li {display: inline-block}\n",
       ".list-inline>li:not(:last-child)::after {content: \"\\00b7\"; padding: 0 .5ex}\n",
       "</style>\n",
       "<ol class=list-inline><li>1</li><li>2</li><li>3</li><li>4</li><li>5</li><li>6</li></ol>\n"
      ],
      "text/latex": [
       "\\begin{enumerate*}\n",
       "\\item 1\n",
       "\\item 2\n",
       "\\item 3\n",
       "\\item 4\n",
       "\\item 5\n",
       "\\item 6\n",
       "\\end{enumerate*}\n"
      ],
      "text/markdown": [
       "1. 1\n",
       "2. 2\n",
       "3. 3\n",
       "4. 4\n",
       "5. 5\n",
       "6. 6\n",
       "\n",
       "\n"
      ],
      "text/plain": [
       "[1] 1 2 3 4 5 6"
      ]
     },
     "metadata": {},
     "output_type": "display_data"
    }
   ],
   "source": [
    "seq(1:10) %>% head"
   ]
  },
  {
   "cell_type": "code",
   "execution_count": 7,
   "id": "57112b61",
   "metadata": {},
   "outputs": [],
   "source": [
    "box::use(tibble[tibble])"
   ]
  },
  {
   "cell_type": "code",
   "execution_count": 4,
   "id": "37c6fd18",
   "metadata": {},
   "outputs": [
    {
     "name": "stdout",
     "output_type": "stream",
     "text": [
      "[1] \"2022-09-26 17:10:56 CEST\"\n",
      "[1] \"2022-09-26 17:10:56 CEST\"\n"
     ]
    }
   ],
   "source": [
    "start.time <- Sys.time()\n",
    "print(start.time)\n",
    "box::use(scRNAseq)\n",
    "end.time <- Sys.time()\n",
    "print(end.time)"
   ]
  },
  {
   "cell_type": "code",
   "execution_count": 2,
   "id": "ea08411c",
   "metadata": {},
   "outputs": [
    {
     "name": "stdout",
     "output_type": "stream",
     "text": [
      "[1] \"2022-09-26 17:08:09 CEST\"\n"
     ]
    },
    {
     "name": "stderr",
     "output_type": "stream",
     "text": [
      "snapshotDate(): 2021-10-19\n",
      "\n",
      "see ?scRNAseq and browseVignettes('scRNAseq') for documentation\n",
      "\n",
      "loading from cache\n",
      "\n",
      "see ?scRNAseq and browseVignettes('scRNAseq') for documentation\n",
      "\n",
      "loading from cache\n",
      "\n"
     ]
    },
    {
     "name": "stdout",
     "output_type": "stream",
     "text": [
      "[1] \"2022-09-26 17:08:24 CEST\"\n"
     ]
    }
   ],
   "source": [
    "start.time <- Sys.time()\n",
    "print(start.time)\n",
    "a = CampbellBrainData()\n",
    "end.time <- Sys.time()\n",
    "print(end.time)"
   ]
  },
  {
   "cell_type": "code",
   "execution_count": 3,
   "id": "0e48e355",
   "metadata": {},
   "outputs": [
    {
     "data": {
      "text/html": [
       "\n",
       "<table width=\"100%\" summary=\"page for scRNAseq-package {scRNAseq}\"><tr><td>scRNAseq-package {scRNAseq}</td><td style=\"text-align: right;\">R Documentation</td></tr></table>\n",
       "\n",
       "<h2>\n",
       "Collection of Public Single-Cell RNA-Seq Datasets\n",
       "</h2>\n",
       "\n",
       "<h3>Description</h3>\n",
       "\n",
       "<p>Gene-level counts for a collection of public scRNA-seq datasets,\n",
       "    provided as SingleCellExperiment objects with cell- and gene-level metadata.\n",
       "</p>\n",
       "\n",
       "\n",
       "<h3>Details</h3>\n",
       "\n",
       "<p>This package contains a collection of three publicly available single-cell RNA-seq datasets.\n",
       "</p>\n",
       "<p>The dataset <code>fluidigm</code> contains 65 cells from Pollen et al. (2014), each sequenced at high and low coverage.\n",
       "</p>\n",
       "<p>The dataset <code>th2</code> contains 96 T helper cells from Mahata et al. (2014).\n",
       "</p>\n",
       "<p>The dataset <code>allen</code> contains 379 cells from the mouse visual cortex. This is a subset of the data published in Tasic et al. (2016).\n",
       "</p>\n",
       "<p>See the package vignette for details on the pre-processing of the data.\n",
       "</p>\n",
       "\n",
       "\n",
       "<h3>Author(s)</h3>\n",
       "\n",
       "<p>NA\n",
       "</p>\n",
       "<p>Maintainer: NA\n",
       "</p>\n",
       "\n",
       "\n",
       "<h3>References</h3>\n",
       "\n",
       "<p>Pollen, Nowakowski, Shuga, Wang, Leyrat, Lui, Li, Szpankowski, Fowler, Chen, Ramalingam, Sun, Thu, Norris, Lebofsky, Toppani, Kemp II, Wong, Clerkson, Jones, Wu, Knutsson, Alvarado, Wang, Weaver, May, Jones, Unger, Kriegstein, West. Low-coverage single-cell mRNA sequencing reveals cellular heterogeneity and activated signaling pathways in developing cerebral cortex. Nature Biotechnology, 32, 1053-1058 (2014).\n",
       "</p>\n",
       "<p>Mahata, Zhang, Kolodziejczyk, Proserpio, Haim-Vilmovsky, Taylor, Hebenstreit, Dingler, Moignard, Gottgens, Arlt, McKenzie, Teichmann. Single-Cell RNA Sequencing Reveals T Helper Cells Synthesizing Steroids De Novo to Contribute to Immune Homeostasis. Cell Reports, 7(4): 1130–1142 (2014).\n",
       "</p>\n",
       "<p>Tasic, Menon, Nguyen, Kim, Jarsky, Yao, Levi, Gray, Sorensen, Dolbeare, Bertagnolli, Goldy, Shapovalova, Parry, Lee, Smith, Bernard, Madisen, Sunkin, Hawrylycz, Koch, Zeng. Adult mouse cortical cell taxonomy revealed by single cell transcriptomics. Nature Neuroscience, 19, 335–346 (2016).\n",
       "</p>\n",
       "\n",
       "<hr /><div style=\"text-align: center;\">[Package <em>scRNAseq</em> version 2.8.0 ]</div>"
      ],
      "text/latex": [
       "\\inputencoding{utf8}\n",
       "\\HeaderA{scRNAseq-package}{Collection of Public Single-Cell RNA-Seq Datasets}{scRNAseq.Rdash.package}\n",
       "\\aliasA{allen}{scRNAseq-package}{allen}\n",
       "\\aliasA{fluidigm}{scRNAseq-package}{fluidigm}\n",
       "\\aliasA{scRNAseq}{scRNAseq-package}{scRNAseq}\n",
       "\\aliasA{th2}{scRNAseq-package}{th2}\n",
       "%\n",
       "\\begin{Description}\\relax\n",
       "Gene-level counts for a collection of public scRNA-seq datasets,\n",
       "    provided as SingleCellExperiment objects with cell- and gene-level metadata.\n",
       "\\end{Description}\n",
       "%\n",
       "\\begin{Details}\\relax\n",
       "\n",
       "This package contains a collection of three publicly available single-cell RNA-seq datasets.\n",
       "\n",
       "The dataset \\code{fluidigm} contains 65 cells from Pollen et al. (2014), each sequenced at high and low coverage.\n",
       "\n",
       "The dataset \\code{th2} contains 96 T helper cells from Mahata et al. (2014).\n",
       "\n",
       "The dataset \\code{allen} contains 379 cells from the mouse visual cortex. This is a subset of the data published in Tasic et al. (2016).\n",
       "\n",
       "See the package vignette for details on the pre-processing of the data.\n",
       "\n",
       "\\end{Details}\n",
       "%\n",
       "\\begin{Author}\\relax\n",
       "NA\n",
       "\n",
       "Maintainer: NA\n",
       "\\end{Author}\n",
       "%\n",
       "\\begin{References}\\relax\n",
       "\n",
       "Pollen, Nowakowski, Shuga, Wang, Leyrat, Lui, Li, Szpankowski, Fowler, Chen, Ramalingam, Sun, Thu, Norris, Lebofsky, Toppani, Kemp II, Wong, Clerkson, Jones, Wu, Knutsson, Alvarado, Wang, Weaver, May, Jones, Unger, Kriegstein, West. Low-coverage single-cell mRNA sequencing reveals cellular heterogeneity and activated signaling pathways in developing cerebral cortex. Nature Biotechnology, 32, 1053-1058 (2014).\n",
       "\n",
       "Mahata, Zhang, Kolodziejczyk, Proserpio, Haim-Vilmovsky, Taylor, Hebenstreit, Dingler, Moignard, Gottgens, Arlt, McKenzie, Teichmann. Single-Cell RNA Sequencing Reveals T Helper Cells Synthesizing Steroids De Novo to Contribute to Immune Homeostasis. Cell Reports, 7(4): 1130–1142 (2014).\n",
       "\n",
       "Tasic, Menon, Nguyen, Kim, Jarsky, Yao, Levi, Gray, Sorensen, Dolbeare, Bertagnolli, Goldy, Shapovalova, Parry, Lee, Smith, Bernard, Madisen, Sunkin, Hawrylycz, Koch, Zeng. Adult mouse cortical cell taxonomy revealed by single cell transcriptomics. Nature Neuroscience, 19, 335–346 (2016).\n",
       "\\end{References}"
      ],
      "text/plain": [
       "scRNAseq-package           package:scRNAseq            R Documentation\n",
       "\n",
       "_\bC_\bo_\bl_\bl_\be_\bc_\bt_\bi_\bo_\bn _\bo_\bf _\bP_\bu_\bb_\bl_\bi_\bc _\bS_\bi_\bn_\bg_\bl_\be-_\bC_\be_\bl_\bl _\bR_\bN_\bA-_\bS_\be_\bq _\bD_\ba_\bt_\ba_\bs_\be_\bt_\bs\n",
       "\n",
       "_\bD_\be_\bs_\bc_\br_\bi_\bp_\bt_\bi_\bo_\bn:\n",
       "\n",
       "     Gene-level counts for a collection of public scRNA-seq datasets,\n",
       "     provided as SingleCellExperiment objects with cell- and gene-level\n",
       "     metadata.\n",
       "\n",
       "_\bD_\be_\bt_\ba_\bi_\bl_\bs:\n",
       "\n",
       "     This package contains a collection of three publicly available\n",
       "     single-cell RNA-seq datasets.\n",
       "\n",
       "     The dataset 'fluidigm' contains 65 cells from Pollen et al.\n",
       "     (2014), each sequenced at high and low coverage.\n",
       "\n",
       "     The dataset 'th2' contains 96 T helper cells from Mahata et al.\n",
       "     (2014).\n",
       "\n",
       "     The dataset 'allen' contains 379 cells from the mouse visual\n",
       "     cortex. This is a subset of the data published in Tasic et al.\n",
       "     (2016).\n",
       "\n",
       "     See the package vignette for details on the pre-processing of the\n",
       "     data.\n",
       "\n",
       "_\bA_\bu_\bt_\bh_\bo_\br(_\bs):\n",
       "\n",
       "     NA\n",
       "\n",
       "     Maintainer: NA\n",
       "\n",
       "_\bR_\be_\bf_\be_\br_\be_\bn_\bc_\be_\bs:\n",
       "\n",
       "     Pollen, Nowakowski, Shuga, Wang, Leyrat, Lui, Li, Szpankowski,\n",
       "     Fowler, Chen, Ramalingam, Sun, Thu, Norris, Lebofsky, Toppani,\n",
       "     Kemp II, Wong, Clerkson, Jones, Wu, Knutsson, Alvarado, Wang,\n",
       "     Weaver, May, Jones, Unger, Kriegstein, West. Low-coverage\n",
       "     single-cell mRNA sequencing reveals cellular heterogeneity and\n",
       "     activated signaling pathways in developing cerebral cortex. Nature\n",
       "     Biotechnology, 32, 1053-1058 (2014).\n",
       "\n",
       "     Mahata, Zhang, Kolodziejczyk, Proserpio, Haim-Vilmovsky, Taylor,\n",
       "     Hebenstreit, Dingler, Moignard, Gottgens, Arlt, McKenzie,\n",
       "     Teichmann. Single-Cell RNA Sequencing Reveals T Helper Cells\n",
       "     Synthesizing Steroids De Novo to Contribute to Immune Homeostasis.\n",
       "     Cell Reports, 7(4): 1130–1142 (2014).\n",
       "\n",
       "     Tasic, Menon, Nguyen, Kim, Jarsky, Yao, Levi, Gray, Sorensen,\n",
       "     Dolbeare, Bertagnolli, Goldy, Shapovalova, Parry, Lee, Smith,\n",
       "     Bernard, Madisen, Sunkin, Hawrylycz, Koch, Zeng. Adult mouse\n",
       "     cortical cell taxonomy revealed by single cell transcriptomics.\n",
       "     Nature Neuroscience, 19, 335–346 (2016).\n"
      ]
     },
     "metadata": {},
     "output_type": "display_data"
    }
   ],
   "source": [
    "?scRNAseq"
   ]
  },
  {
   "cell_type": "code",
   "execution_count": 10,
   "id": "c0596021",
   "metadata": {},
   "outputs": [
    {
     "ename": "ERROR",
     "evalue": "Error in box::use(Suerat[subset]): there is no package called 'Suerat'\n",
     "output_type": "error",
     "traceback": [
      "Error in box::use(Suerat[subset]): there is no package called 'Suerat'\nTraceback:\n",
      "1. box::use(Suerat[subset])",
      "2. map(use_one, imports, aliases, list(caller), use_call = list(sys.call()))",
      "3. Map(.f, ..., USE.NAMES = FALSE)",
      "4. mapply(FUN = f, ..., SIMPLIFY = FALSE)",
      "5. (function (declaration, alias, caller, use_call) \n . {\n .     if (identical(declaration, quote(expr = )) && identical(alias, \n .         \"\")) \n .         return()\n .     rethrow_on_error({\n .         spec = parse_spec(declaration, alias)\n .         info = find_mod(spec, caller)\n .         load_and_register(spec, info, caller)\n .     }, call = use_call)\n . })(dots[[1L]][[1L]], dots[[2L]][[1L]], dots[[3L]][[1L]], use_call = dots[[4L]][[1L]])",
      "6. rethrow_on_error({\n .     spec = parse_spec(declaration, alias)\n .     info = find_mod(spec, caller)\n .     load_and_register(spec, info, caller)\n . }, call = use_call)",
      "7. tryCatch(expr, error = function(error) rethrow(error, call))",
      "8. tryCatchList(expr, classes, parentenv, handlers)",
      "9. tryCatchOne(expr, names, parentenv, handlers[[1L]])",
      "10. value[[3L]](cond)",
      "11. rethrow(error, call)"
     ]
    }
   ],
   "source": [
    "box::use(Suerat[subset])"
   ]
  },
  {
   "cell_type": "code",
   "execution_count": null,
   "id": "b7fd09d0",
   "metadata": {},
   "outputs": [],
   "source": [
    "SeuratObject::"
   ]
  }
 ],
 "metadata": {
  "kernelspec": {
   "display_name": "R [conda env:fgf1_ygg]",
   "language": "R",
   "name": "conda-env-fgf1_ygg-r"
  },
  "language_info": {
   "codemirror_mode": "r",
   "file_extension": ".r",
   "mimetype": "text/x-r-source",
   "name": "R",
   "pygments_lexer": "r",
   "version": "4.1.3"
  }
 },
 "nbformat": 4,
 "nbformat_minor": 5
}
