{
 "cells": [
  {
   "cell_type": "code",
   "execution_count": 1,
   "id": "dfc1c00a",
   "metadata": {},
   "outputs": [
    {
     "name": "stderr",
     "output_type": "stream",
     "text": [
      "── \u001b[1mAttaching packages\u001b[22m ─────────────────────────────────────── tidyverse 1.3.2 ──\n",
      "\u001b[32m✔\u001b[39m \u001b[34mggplot2\u001b[39m 3.3.6      \u001b[32m✔\u001b[39m \u001b[34mpurrr  \u001b[39m 0.3.4 \n",
      "\u001b[32m✔\u001b[39m \u001b[34mtibble \u001b[39m 3.1.8      \u001b[32m✔\u001b[39m \u001b[34mdplyr  \u001b[39m 1.0.10\n",
      "\u001b[32m✔\u001b[39m \u001b[34mtidyr  \u001b[39m 1.2.1      \u001b[32m✔\u001b[39m \u001b[34mstringr\u001b[39m 1.4.1 \n",
      "\u001b[32m✔\u001b[39m \u001b[34mreadr  \u001b[39m 2.1.2      \u001b[32m✔\u001b[39m \u001b[34mforcats\u001b[39m 0.5.2 \n",
      "── \u001b[1mConflicts\u001b[22m ────────────────────────────────────────── tidyverse_conflicts() ──\n",
      "\u001b[31m✖\u001b[39m \u001b[34mdplyr\u001b[39m::\u001b[32mfilter()\u001b[39m masks \u001b[34mstats\u001b[39m::filter()\n",
      "\u001b[31m✖\u001b[39m \u001b[34mdplyr\u001b[39m::\u001b[32mlag()\u001b[39m    masks \u001b[34mstats\u001b[39m::lag()\n"
     ]
    }
   ],
   "source": [
    "library(tidyverse)"
   ]
  },
  {
   "cell_type": "code",
   "execution_count": 18,
   "id": "1bfe1c31",
   "metadata": {},
   "outputs": [],
   "source": [
    "gs85_run_name = 'gs85_litgenes_other__select_batch.none___eval.other__predict.polar_label__eval_batch.none'\n",
    "gs85_path = paste0('_targets/objects/genes_stat_100_gs85_', gs85_run_name)\n",
    "gs85_genes_stat = qs::qread(gs85_path)"
   ]
  },
  {
   "cell_type": "code",
   "execution_count": 19,
   "id": "4ec1c052",
   "metadata": {},
   "outputs": [
    {
     "data": {
      "text/html": [
       "98"
      ],
      "text/latex": [
       "98"
      ],
      "text/markdown": [
       "98"
      ],
      "text/plain": [
       "[1] 98"
      ]
     },
     "metadata": {},
     "output_type": "display_data"
    }
   ],
   "source": [
    "gs85_genes_stat %>% \n",
    "filter(gene == 'Sprr2a2') %>% \n",
    "pull(rank) "
   ]
  },
  {
   "cell_type": "code",
   "execution_count": 24,
   "id": "bbc4979d",
   "metadata": {},
   "outputs": [],
   "source": [
    "gs97_genes_stat = gs85_genes_stat %>% \n",
    "filter(rank < 98) "
   ]
  },
  {
   "cell_type": "code",
   "execution_count": 26,
   "id": "a6b8ffcc",
   "metadata": {},
   "outputs": [
    {
     "data": {
      "text/html": [
       "<table class=\"dataframe\">\n",
       "<caption>A data.frame: 97 × 2</caption>\n",
       "<thead>\n",
       "\t<tr><th scope=col>rank</th><th scope=col>gene</th></tr>\n",
       "\t<tr><th scope=col>&lt;int&gt;</th><th scope=col>&lt;chr&gt;</th></tr>\n",
       "</thead>\n",
       "<tbody>\n",
       "\t<tr><td> 1</td><td>Nrg3    </td></tr>\n",
       "\t<tr><td> 2</td><td>Plp1    </td></tr>\n",
       "\t<tr><td> 3</td><td>Aqp4    </td></tr>\n",
       "\t<tr><td> 4</td><td>Htr3b   </td></tr>\n",
       "\t<tr><td> 5</td><td>Rax     </td></tr>\n",
       "\t<tr><td> 6</td><td>Rbfox1  </td></tr>\n",
       "\t<tr><td> 7</td><td>Il1rapl2</td></tr>\n",
       "\t<tr><td> 8</td><td>Robo1   </td></tr>\n",
       "\t<tr><td> 9</td><td>Kcnip4  </td></tr>\n",
       "\t<tr><td>10</td><td>Sgcz    </td></tr>\n",
       "\t<tr><td>11</td><td>Fgf13   </td></tr>\n",
       "\t<tr><td>12</td><td>Cntn4   </td></tr>\n",
       "\t<tr><td>13</td><td>Egfem1  </td></tr>\n",
       "\t<tr><td>14</td><td>Gpc6    </td></tr>\n",
       "\t<tr><td>15</td><td>Hdac9   </td></tr>\n",
       "\t<tr><td>16</td><td>Col25a1 </td></tr>\n",
       "\t<tr><td>17</td><td>Dcc     </td></tr>\n",
       "\t<tr><td>18</td><td>Nkain2  </td></tr>\n",
       "\t<tr><td>19</td><td>Pcdh11x </td></tr>\n",
       "\t<tr><td>20</td><td>Prkg1   </td></tr>\n",
       "\t<tr><td>21</td><td>Pdgfra  </td></tr>\n",
       "\t<tr><td>22</td><td>Prr16   </td></tr>\n",
       "\t<tr><td>23</td><td>Kctd16  </td></tr>\n",
       "\t<tr><td>24</td><td>Nrxn3   </td></tr>\n",
       "\t<tr><td>25</td><td>Pde10a  </td></tr>\n",
       "\t<tr><td>26</td><td>Plcl1   </td></tr>\n",
       "\t<tr><td>27</td><td>Nrg1    </td></tr>\n",
       "\t<tr><td>28</td><td>Rtl4    </td></tr>\n",
       "\t<tr><td>29</td><td>Bmp4    </td></tr>\n",
       "\t<tr><td>30</td><td>Grm7    </td></tr>\n",
       "\t<tr><td>⋮</td><td>⋮</td></tr>\n",
       "\t<tr><td>68</td><td>Cfap299 </td></tr>\n",
       "\t<tr><td>69</td><td>Gria1   </td></tr>\n",
       "\t<tr><td>70</td><td>Arhgap6 </td></tr>\n",
       "\t<tr><td>71</td><td>Pdzrn3  </td></tr>\n",
       "\t<tr><td>72</td><td>P3h2    </td></tr>\n",
       "\t<tr><td>73</td><td>Kcnq3   </td></tr>\n",
       "\t<tr><td>74</td><td>Plcb1   </td></tr>\n",
       "\t<tr><td>75</td><td>Deptor  </td></tr>\n",
       "\t<tr><td>76</td><td>Agrp    </td></tr>\n",
       "\t<tr><td>77</td><td>Pomc    </td></tr>\n",
       "\t<tr><td>78</td><td>Lef1    </td></tr>\n",
       "\t<tr><td>79</td><td>Lmx1a   </td></tr>\n",
       "\t<tr><td>80</td><td>Cntn5   </td></tr>\n",
       "\t<tr><td>81</td><td>Lingo2  </td></tr>\n",
       "\t<tr><td>82</td><td>Zfp804b </td></tr>\n",
       "\t<tr><td>83</td><td>Galntl6 </td></tr>\n",
       "\t<tr><td>84</td><td>Grm8    </td></tr>\n",
       "\t<tr><td>85</td><td>Hs3st4  </td></tr>\n",
       "\t<tr><td>86</td><td>Fhit    </td></tr>\n",
       "\t<tr><td>87</td><td>Wwox    </td></tr>\n",
       "\t<tr><td>88</td><td>Immp2l  </td></tr>\n",
       "\t<tr><td>89</td><td>Lrmda   </td></tr>\n",
       "\t<tr><td>90</td><td>Macrod2 </td></tr>\n",
       "\t<tr><td>91</td><td>Gtdc1   </td></tr>\n",
       "\t<tr><td>92</td><td>Naaladl2</td></tr>\n",
       "\t<tr><td>93</td><td>Nalf1   </td></tr>\n",
       "\t<tr><td>94</td><td>Slc1a2  </td></tr>\n",
       "\t<tr><td>95</td><td>Ctnna2  </td></tr>\n",
       "\t<tr><td>96</td><td>Grid2   </td></tr>\n",
       "\t<tr><td>97</td><td>Slc7a11 </td></tr>\n",
       "</tbody>\n",
       "</table>\n"
      ],
      "text/latex": [
       "A data.frame: 97 × 2\n",
       "\\begin{tabular}{ll}\n",
       " rank & gene\\\\\n",
       " <int> & <chr>\\\\\n",
       "\\hline\n",
       "\t  1 & Nrg3    \\\\\n",
       "\t  2 & Plp1    \\\\\n",
       "\t  3 & Aqp4    \\\\\n",
       "\t  4 & Htr3b   \\\\\n",
       "\t  5 & Rax     \\\\\n",
       "\t  6 & Rbfox1  \\\\\n",
       "\t  7 & Il1rapl2\\\\\n",
       "\t  8 & Robo1   \\\\\n",
       "\t  9 & Kcnip4  \\\\\n",
       "\t 10 & Sgcz    \\\\\n",
       "\t 11 & Fgf13   \\\\\n",
       "\t 12 & Cntn4   \\\\\n",
       "\t 13 & Egfem1  \\\\\n",
       "\t 14 & Gpc6    \\\\\n",
       "\t 15 & Hdac9   \\\\\n",
       "\t 16 & Col25a1 \\\\\n",
       "\t 17 & Dcc     \\\\\n",
       "\t 18 & Nkain2  \\\\\n",
       "\t 19 & Pcdh11x \\\\\n",
       "\t 20 & Prkg1   \\\\\n",
       "\t 21 & Pdgfra  \\\\\n",
       "\t 22 & Prr16   \\\\\n",
       "\t 23 & Kctd16  \\\\\n",
       "\t 24 & Nrxn3   \\\\\n",
       "\t 25 & Pde10a  \\\\\n",
       "\t 26 & Plcl1   \\\\\n",
       "\t 27 & Nrg1    \\\\\n",
       "\t 28 & Rtl4    \\\\\n",
       "\t 29 & Bmp4    \\\\\n",
       "\t 30 & Grm7    \\\\\n",
       "\t ⋮ & ⋮\\\\\n",
       "\t 68 & Cfap299 \\\\\n",
       "\t 69 & Gria1   \\\\\n",
       "\t 70 & Arhgap6 \\\\\n",
       "\t 71 & Pdzrn3  \\\\\n",
       "\t 72 & P3h2    \\\\\n",
       "\t 73 & Kcnq3   \\\\\n",
       "\t 74 & Plcb1   \\\\\n",
       "\t 75 & Deptor  \\\\\n",
       "\t 76 & Agrp    \\\\\n",
       "\t 77 & Pomc    \\\\\n",
       "\t 78 & Lef1    \\\\\n",
       "\t 79 & Lmx1a   \\\\\n",
       "\t 80 & Cntn5   \\\\\n",
       "\t 81 & Lingo2  \\\\\n",
       "\t 82 & Zfp804b \\\\\n",
       "\t 83 & Galntl6 \\\\\n",
       "\t 84 & Grm8    \\\\\n",
       "\t 85 & Hs3st4  \\\\\n",
       "\t 86 & Fhit    \\\\\n",
       "\t 87 & Wwox    \\\\\n",
       "\t 88 & Immp2l  \\\\\n",
       "\t 89 & Lrmda   \\\\\n",
       "\t 90 & Macrod2 \\\\\n",
       "\t 91 & Gtdc1   \\\\\n",
       "\t 92 & Naaladl2\\\\\n",
       "\t 93 & Nalf1   \\\\\n",
       "\t 94 & Slc1a2  \\\\\n",
       "\t 95 & Ctnna2  \\\\\n",
       "\t 96 & Grid2   \\\\\n",
       "\t 97 & Slc7a11 \\\\\n",
       "\\end{tabular}\n"
      ],
      "text/markdown": [
       "\n",
       "A data.frame: 97 × 2\n",
       "\n",
       "| rank &lt;int&gt; | gene &lt;chr&gt; |\n",
       "|---|---|\n",
       "|  1 | Nrg3     |\n",
       "|  2 | Plp1     |\n",
       "|  3 | Aqp4     |\n",
       "|  4 | Htr3b    |\n",
       "|  5 | Rax      |\n",
       "|  6 | Rbfox1   |\n",
       "|  7 | Il1rapl2 |\n",
       "|  8 | Robo1    |\n",
       "|  9 | Kcnip4   |\n",
       "| 10 | Sgcz     |\n",
       "| 11 | Fgf13    |\n",
       "| 12 | Cntn4    |\n",
       "| 13 | Egfem1   |\n",
       "| 14 | Gpc6     |\n",
       "| 15 | Hdac9    |\n",
       "| 16 | Col25a1  |\n",
       "| 17 | Dcc      |\n",
       "| 18 | Nkain2   |\n",
       "| 19 | Pcdh11x  |\n",
       "| 20 | Prkg1    |\n",
       "| 21 | Pdgfra   |\n",
       "| 22 | Prr16    |\n",
       "| 23 | Kctd16   |\n",
       "| 24 | Nrxn3    |\n",
       "| 25 | Pde10a   |\n",
       "| 26 | Plcl1    |\n",
       "| 27 | Nrg1     |\n",
       "| 28 | Rtl4     |\n",
       "| 29 | Bmp4     |\n",
       "| 30 | Grm7     |\n",
       "| ⋮ | ⋮ |\n",
       "| 68 | Cfap299  |\n",
       "| 69 | Gria1    |\n",
       "| 70 | Arhgap6  |\n",
       "| 71 | Pdzrn3   |\n",
       "| 72 | P3h2     |\n",
       "| 73 | Kcnq3    |\n",
       "| 74 | Plcb1    |\n",
       "| 75 | Deptor   |\n",
       "| 76 | Agrp     |\n",
       "| 77 | Pomc     |\n",
       "| 78 | Lef1     |\n",
       "| 79 | Lmx1a    |\n",
       "| 80 | Cntn5    |\n",
       "| 81 | Lingo2   |\n",
       "| 82 | Zfp804b  |\n",
       "| 83 | Galntl6  |\n",
       "| 84 | Grm8     |\n",
       "| 85 | Hs3st4   |\n",
       "| 86 | Fhit     |\n",
       "| 87 | Wwox     |\n",
       "| 88 | Immp2l   |\n",
       "| 89 | Lrmda    |\n",
       "| 90 | Macrod2  |\n",
       "| 91 | Gtdc1    |\n",
       "| 92 | Naaladl2 |\n",
       "| 93 | Nalf1    |\n",
       "| 94 | Slc1a2   |\n",
       "| 95 | Ctnna2   |\n",
       "| 96 | Grid2    |\n",
       "| 97 | Slc7a11  |\n",
       "\n"
      ],
      "text/plain": [
       "   rank gene    \n",
       "1   1   Nrg3    \n",
       "2   2   Plp1    \n",
       "3   3   Aqp4    \n",
       "4   4   Htr3b   \n",
       "5   5   Rax     \n",
       "6   6   Rbfox1  \n",
       "7   7   Il1rapl2\n",
       "8   8   Robo1   \n",
       "9   9   Kcnip4  \n",
       "10 10   Sgcz    \n",
       "11 11   Fgf13   \n",
       "12 12   Cntn4   \n",
       "13 13   Egfem1  \n",
       "14 14   Gpc6    \n",
       "15 15   Hdac9   \n",
       "16 16   Col25a1 \n",
       "17 17   Dcc     \n",
       "18 18   Nkain2  \n",
       "19 19   Pcdh11x \n",
       "20 20   Prkg1   \n",
       "21 21   Pdgfra  \n",
       "22 22   Prr16   \n",
       "23 23   Kctd16  \n",
       "24 24   Nrxn3   \n",
       "25 25   Pde10a  \n",
       "26 26   Plcl1   \n",
       "27 27   Nrg1    \n",
       "28 28   Rtl4    \n",
       "29 29   Bmp4    \n",
       "30 30   Grm7    \n",
       "⋮  ⋮    ⋮       \n",
       "68 68   Cfap299 \n",
       "69 69   Gria1   \n",
       "70 70   Arhgap6 \n",
       "71 71   Pdzrn3  \n",
       "72 72   P3h2    \n",
       "73 73   Kcnq3   \n",
       "74 74   Plcb1   \n",
       "75 75   Deptor  \n",
       "76 76   Agrp    \n",
       "77 77   Pomc    \n",
       "78 78   Lef1    \n",
       "79 79   Lmx1a   \n",
       "80 80   Cntn5   \n",
       "81 81   Lingo2  \n",
       "82 82   Zfp804b \n",
       "83 83   Galntl6 \n",
       "84 84   Grm8    \n",
       "85 85   Hs3st4  \n",
       "86 86   Fhit    \n",
       "87 87   Wwox    \n",
       "88 88   Immp2l  \n",
       "89 89   Lrmda   \n",
       "90 90   Macrod2 \n",
       "91 91   Gtdc1   \n",
       "92 92   Naaladl2\n",
       "93 93   Nalf1   \n",
       "94 94   Slc1a2  \n",
       "95 95   Ctnna2  \n",
       "96 96   Grid2   \n",
       "97 97   Slc7a11 "
      ]
     },
     "metadata": {},
     "output_type": "display_data"
    }
   ],
   "source": [
    "qs::qsave(gs97_genes_stat, \"genes_stat_97.qs\")\n",
    "gs97_genes_stat"
   ]
  },
  {
   "cell_type": "code",
   "execution_count": 23,
   "id": "4f27c894",
   "metadata": {},
   "outputs": [
    {
     "data": {
      "text/html": [
       "691"
      ],
      "text/latex": [
       "691"
      ],
      "text/markdown": [
       "691"
      ],
      "text/plain": [
       "[1] 691"
      ]
     },
     "metadata": {},
     "output_type": "display_data"
    }
   ],
   "source": [
    "gs97_genes_stat"
   ]
  },
  {
   "cell_type": "code",
   "execution_count": null,
   "id": "7f95aa41",
   "metadata": {},
   "outputs": [],
   "source": []
  }
 ],
 "metadata": {
  "kernelspec": {
   "display_name": "R [conda env:fgf1_ygg]",
   "language": "R",
   "name": "conda-env-fgf1_ygg-r"
  },
  "language_info": {
   "codemirror_mode": "r",
   "file_extension": ".r",
   "mimetype": "text/x-r-source",
   "name": "R",
   "pygments_lexer": "r",
   "version": "4.1.3"
  }
 },
 "nbformat": 4,
 "nbformat_minor": 5
}
