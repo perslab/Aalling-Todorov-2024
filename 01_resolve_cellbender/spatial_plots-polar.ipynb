{
 "cells": [
  {
   "cell_type": "code",
   "execution_count": 19,
   "id": "fc4ab9a4",
   "metadata": {
    "scrolled": true
   },
   "outputs": [],
   "source": [
    "library(Seurat)\n",
    "library(tidyverse)\n",
    "library(ggplot2)\n",
    "library(patchwork)\n",
    "library(forcats)\n",
    "library(Polychrome)\n",
    "library(grid)"
   ]
  },
  {
   "cell_type": "code",
   "execution_count": null,
   "id": "62017c63",
   "metadata": {
    "scrolled": true
   },
   "outputs": [],
   "source": [
    "xenium.obj = qs::qread('_targets/objects/obj_merged')\n",
    "# xenium.obj = qs::qread('../01_resolve/230710_xenium_sct_unimapped_cca_polar_label.qs')\n",
    "merged_meta = qs::qread('_targets/objects/obj_rctd_merged_01') %>% `[[`\n",
    "selected_cells = merged_meta %>% rownames\n",
    "xenium.obj = xenium.obj %>% subset(cells = selected_cells) %>% AddMetaData(merged_meta)\n",
    "xenium.obj\n"
   ]
  },
  {
   "cell_type": "code",
   "execution_count": 45,
   "id": "7238f387",
   "metadata": {},
   "outputs": [],
   "source": [
    "a = qs::qread('_targets/objects/obj_rctd_merged_01_sv4')"
   ]
  },
  {
   "cell_type": "code",
   "execution_count": 47,
   "id": "eab0e8fa",
   "metadata": {},
   "outputs": [
    {
     "data": {
      "text/plain": [
       "An object of class \"Polygons\"\n",
       "Slot \"Polygons\":\n",
       "[[1]]\n",
       "An object of class \"Polygon\"\n",
       "Slot \"labpt\":\n",
       "[1] 6743.868 1600.696\n",
       "\n",
       "Slot \"area\":\n",
       "[1] 1115\n",
       "\n",
       "Slot \"hole\":\n",
       "[1] FALSE\n",
       "\n",
       "Slot \"ringDir\":\n",
       "[1] 1\n",
       "\n",
       "Slot \"coords\":\n",
       "       x    y\n",
       "457 6739 1584\n",
       "458 6734 1586\n",
       "459 6723 1600\n",
       "460 6721 1603\n",
       "461 6717 1612\n",
       "462 6730 1614\n",
       "463 6758 1613\n",
       "464 6766 1609\n",
       "465 6767 1608\n",
       "466 6769 1602\n",
       "467 6768 1599\n",
       "468 6753 1585\n",
       "469 6751 1584\n",
       "470 6739 1584\n",
       "\n",
       "\n",
       "\n",
       "Slot \"plotOrder\":\n",
       "[1] 1\n",
       "\n",
       "Slot \"labpt\":\n",
       "[1] 6743.868 1600.696\n",
       "\n",
       "Slot \"ID\":\n",
       "[1] \"Cell1003_6744_1600_1\"\n",
       "\n",
       "Slot \"area\":\n",
       "[1] 1115\n"
      ]
     },
     "metadata": {},
     "output_type": "display_data"
    }
   ],
   "source": [
    "qs::qread('_targets/objects/obj_rctd_merged_01_sv4')@images$fov@boundaries$segmentation@polygons$Cell1003_6744_1600_1"
   ]
  },
  {
   "cell_type": "code",
   "execution_count": 48,
   "id": "31a2f085",
   "metadata": {},
   "outputs": [
    {
     "data": {
      "text/plain": [
       "An object of class \"Polygons\"\n",
       "Slot \"Polygons\":\n",
       "[[1]]\n",
       "An object of class \"Polygon\"\n",
       "Slot \"labpt\":\n",
       "[1] 6743.868 1600.696\n",
       "\n",
       "Slot \"area\":\n",
       "[1] 1115\n",
       "\n",
       "Slot \"hole\":\n",
       "[1] FALSE\n",
       "\n",
       "Slot \"ringDir\":\n",
       "[1] 1\n",
       "\n",
       "Slot \"coords\":\n",
       "       x    y\n",
       "457 6739 1584\n",
       "458 6734 1586\n",
       "459 6723 1600\n",
       "460 6721 1603\n",
       "461 6717 1612\n",
       "462 6730 1614\n",
       "463 6758 1613\n",
       "464 6766 1609\n",
       "465 6767 1608\n",
       "466 6769 1602\n",
       "467 6768 1599\n",
       "468 6753 1585\n",
       "469 6751 1584\n",
       "470 6739 1584\n",
       "\n",
       "\n",
       "\n",
       "Slot \"plotOrder\":\n",
       "[1] 1\n",
       "\n",
       "Slot \"labpt\":\n",
       "[1] 6743.868 1600.696\n",
       "\n",
       "Slot \"ID\":\n",
       "[1] \"Cell1003_6744_1600_1\"\n",
       "\n",
       "Slot \"area\":\n",
       "[1] 1115\n"
      ]
     },
     "metadata": {},
     "output_type": "display_data"
    }
   ],
   "source": [
    "qs::qread('_targets/objects/obj_rctd_merged_01')@images$fov@boundaries$segmentation@polygons$Cell1003_6744_1600_1"
   ]
  },
  {
   "cell_type": "code",
   "execution_count": null,
   "id": "efc0d3a6",
   "metadata": {},
   "outputs": [],
   "source": [
    "xenium.obj@meta.data = xenium.obj@meta.data %>%\n",
    "mutate(predicted.polar_label = polar_label)"
   ]
  },
  {
   "cell_type": "code",
   "execution_count": null,
   "id": "032208fa",
   "metadata": {},
   "outputs": [],
   "source": []
  },
  {
   "cell_type": "code",
   "execution_count": null,
   "id": "d5c7ed92",
   "metadata": {},
   "outputs": [],
   "source": [
    "rownames(xenium.obj)"
   ]
  },
  {
   "cell_type": "raw",
   "id": "4cab400c",
   "metadata": {},
   "source": []
  },
  {
   "cell_type": "raw",
   "id": "a56769bd",
   "metadata": {},
   "source": []
  },
  {
   "cell_type": "raw",
   "id": "980c2351",
   "metadata": {},
   "source": [
    "obj_fgf1 = qs::qread('obj_fgf1_obob5v5.qs')\n",
    "obj_fgf1"
   ]
  },
  {
   "cell_type": "raw",
   "id": "5c70a907",
   "metadata": {},
   "source": []
  },
  {
   "cell_type": "raw",
   "id": "8c5c1c49",
   "metadata": {},
   "source": []
  },
  {
   "cell_type": "raw",
   "id": "3f83e8e3",
   "metadata": {},
   "source": []
  },
  {
   "cell_type": "raw",
   "id": "1e0ad729",
   "metadata": {},
   "source": [
    "options(repr.plot.width=20, repr.plot.height=20)\n",
    "p1 = DimPlot(xenium.obj, reduction = \"umap\", group.by = \"predicted.polar_label\", label = TRUE, repel = TRUE) + theme(legend.position = \"none\")  + labs(title = \"Spatial on spatial UMAP\")\n",
    "p2 = DimPlot(xenium.obj, reduction = \"ref.umap\", group.by = \"predicted.polar_label\", label = TRUE, repel = TRUE) + theme(legend.position = \"none\") + labs(title = \"Spatial on snRNAseq reference UMAP\")\n",
    "p3 = DimPlot(obj_fgf1, reduction = \"umap\", group.by = \"polar_label\", label = TRUE, repel = TRUE) + theme(legend.position = \"none\") + labs(title = \"snRNAseq reference\")\n",
    "options(repr.plot.width=30, repr.plot.height=10)\n",
    "p1 + p2 + p3\n",
    "\n"
   ]
  },
  {
   "cell_type": "raw",
   "id": "7e9df1d6",
   "metadata": {},
   "source": [
    "options(repr.plot.width=10, repr.plot.height=10)\n",
    "FeaturePlot(xenium.obj, c(\"cell_area\"), reduction = \"ref.umap\", order=TRUE)"
   ]
  },
  {
   "cell_type": "raw",
   "id": "1c90d63d",
   "metadata": {},
   "source": [
    "options(repr.plot.width=10, repr.plot.height=10)\n",
    "FeaturePlot(xenium.obj, c(\"cell_area\"), reduction = \"umap\", order=TRUE)"
   ]
  },
  {
   "cell_type": "raw",
   "id": "f0059bfa",
   "metadata": {},
   "source": [
    "options(repr.plot.width=20, repr.plot.height=7)\n",
    "VlnPlot(xenium.obj, features = c(\"cell_area\"), pt.size = 0, group.by='predicted.polar_label') + theme(legend.position = \"none\")"
   ]
  },
  {
   "cell_type": "raw",
   "id": "25ca2ea6",
   "metadata": {},
   "source": [
    "options(repr.plot.width=20, repr.plot.height=14)\n",
    "VlnPlot(xenium.obj, features = c(\"Plp1\", \"Pdgfra\"), pt.size = 0, group.by='predicted.polar_label', ncol=1) + theme(legend.position = \"none\", )"
   ]
  },
  {
   "cell_type": "raw",
   "id": "da56be03",
   "metadata": {},
   "source": [
    "comparison_df = xenium.obj %>% \n",
    "`[[` %>%\n",
    "group_by(treatment, predicted.polar_label) %>%\n",
    "summarise(n = n()) %>%\n",
    "pivot_wider(names_from = treatment, values_from = n) %>%\n",
    "mutate(predicted.label = predicted.polar_label %>% str_replace(fixed('.neg'), '') %>% str_replace(fixed('.none'), '') %>% str_replace(fixed('.pos'), '')) %>%\n",
    "rowwise %>%\n",
    "mutate(polarity = str_split(predicted.polar_label, fixed('.')) %>% unlist %>% `[[`(2))\n",
    "\n",
    "comparison_df"
   ]
  },
  {
   "cell_type": "raw",
   "id": "5add7516",
   "metadata": {},
   "source": [
    "comparison_df %>% filter(predicted.label == 'MOL')"
   ]
  },
  {
   "cell_type": "raw",
   "id": "9bb98ce0",
   "metadata": {},
   "source": [
    "comparison_df %>% filter(predicted.label == 'Astrocytes')"
   ]
  },
  {
   "cell_type": "raw",
   "id": "2e888b2b",
   "metadata": {},
   "source": []
  },
  {
   "cell_type": "raw",
   "id": "c78fa9ee",
   "metadata": {},
   "source": [
    "quantile(df$nucleus_area, c(0.0, 0.001, 0.005, 0.01, 0.02, 0.03, 0.04, 0.05, 0.06, 0.07, 0.08, 0.09,\n",
    "                            0.1, 0.2, 0.3, 0.4, 0.5, 0.6, 0.7, 0.8, 0.9, 0.95, 0.975, 0.99)) %>% enframe"
   ]
  },
  {
   "cell_type": "raw",
   "id": "6551bb0d",
   "metadata": {},
   "source": []
  },
  {
   "cell_type": "raw",
   "id": "b72bf313",
   "metadata": {},
   "source": [
    "options(repr.plot.width=20, repr.plot.height=10)\n",
    "ImageDimPlot(xenium.obj, group.by='predicted.polar_label', fov = \"fov\", axes = TRUE,)"
   ]
  },
  {
   "cell_type": "code",
   "execution_count": null,
   "id": "168f57af",
   "metadata": {},
   "outputs": [],
   "source": []
  },
  {
   "cell_type": "code",
   "execution_count": null,
   "id": "1a05587a",
   "metadata": {},
   "outputs": [],
   "source": [
    "create_grouping_col <- function(seurat_obj, prefix) {\n",
    "  new_metadata <- case_when(str_detect(seurat_obj@meta.data$predicted.polar_label, prefix) ~ seurat_obj@meta.data$predicted.polar_label,\n",
    "                            TRUE ~ NA_character_) %>% as.factor\n",
    "  new_metadata = new_metadata %>% fct_relevel(sort(na.omit(levels(new_metadata))), after = Inf)\n",
    "  return(new_metadata)\n",
    "}\n",
    "\n"
   ]
  },
  {
   "cell_type": "code",
   "execution_count": null,
   "id": "36d0a999",
   "metadata": {},
   "outputs": [],
   "source": [
    "plot_celltype_idp = function(seurat_obj, cell_str, fov='fov'){\n",
    "    new_grouping = seurat_obj %>%\n",
    "        create_grouping_col(cell_str)\n",
    "    seurat_obj = AddMetaData(seurat_obj, new_grouping, col.name = 'grouping_col')\n",
    "\n",
    "    # Get the levels of the lab_Pomc column, including the NA_character_ level\n",
    "    grouping_levels <- levels(seurat_obj@meta.data$grouping_col)\n",
    "    # Generate colors using the polychrome palette\n",
    "    how_many_colors = length(grouping_levels)\n",
    "    colors <- Polychrome::sky.colors(how_many_colors) %>% as.character %>% `[`(1:how_many_colors) # Excluding the NA_character_ level\n",
    "    # Add 'gray10' for the NA_character_ level\n",
    "    colors <- c(colors, \"gray10\")\n",
    "    # Create a named vector of colors, with levels as names\n",
    "    named_colors <- setNames(colors, grouping_levels)\n",
    "    # Map the lab_Pomc column values to the corresponding colors\n",
    "    # color_vector <- mapvalues(xenium.obj@meta.data$lab_Pomc, from = lab_Pomc_levels, to = named_colors)\n",
    "    \n",
    "    ggp = ImageDimPlot(seurat_obj,\n",
    "                       group.by='grouping_col',\n",
    "                       boundaries = 'segmentation',\n",
    "                       fov = fov,\n",
    "                       border.size =0.1, \n",
    "                       border.color =NA,\n",
    "                       na.value='gray20', \n",
    "                       cols=named_colors, \n",
    "                       axes = FALSE,\n",
    "                       size=0)\n",
    "    ggp\n",
    "}"
   ]
  },
  {
   "cell_type": "code",
   "execution_count": null,
   "id": "05171f43",
   "metadata": {},
   "outputs": [],
   "source": [
    "make_idp_pdf = function(seurat_obj, cell_type, prefix=\"^\", suffix=\"\\\\.(neg|none|pos)\", pdf_folder=\"\"){\n",
    "    if (!file.exists(pdf_folder)) {\n",
    "      dir.create(pdf_folder, showWarnings = F)\n",
    "    }\n",
    "    cell_type_regex = cell_type %>% paste0(prefix, ., suffix)\n",
    "    dir.create(pdf_folder, recursive = TRUE, showWarnings = FALSE)\n",
    "    a1 = plot_celltype_idp(seurat_obj, cell_type_regex, fov='fov')  + theme(legend.position = \"none\")\n",
    "    a2 = plot_celltype_idp(seurat_obj, cell_type_regex, fov='fov.2') + theme(legend.position = \"none\")\n",
    "    b1 = plot_celltype_idp(seurat_obj, cell_type_regex, fov='fov.3') + theme(legend.position = \"none\")\n",
    "    b2 = plot_celltype_idp(seurat_obj, cell_type_regex, fov='fov.4') + theme(legend.position = \"none\")\n",
    "    c1 = plot_celltype_idp(seurat_obj, cell_type_regex, fov='fov.5') + theme(legend.position = \"none\")\n",
    "    c2 = plot_celltype_idp(seurat_obj, cell_type_regex, fov='fov.6') + theme(legend.position = \"none\")\n",
    "    d1 = plot_celltype_idp(seurat_obj, cell_type_regex, fov='fov.7') + theme(legend.position = \"none\")\n",
    "    d2 = plot_celltype_idp(seurat_obj, cell_type_regex, fov='fov.8') + theme(legend.position = \"none\")\n",
    "    title_theme <- theme(plot.title = element_text(color = \"white\", size = 8, hjust = 0.5))\n",
    "    # Set black background theme for each plot\n",
    "    legend_theme <- theme(legend.position = \"bottom\",\n",
    "                          legend.direction = \"horizontal\",\n",
    "                          legend.box = \"horizontal\",\n",
    "                          legend.text = element_text(size = 4),\n",
    "                          legend.key.size = unit(2, \"mm\"))\n",
    "    # black_background_theme <- theme(plot.background = element_rect(fill = \"black\"),\n",
    "    #                                 panel.background = element_rect(fill = \"black\"))\n",
    "    black_background_theme <- theme(plot.background = element_rect(fill = \"black\", color = 'black'),\n",
    "                          panel.background = element_rect(fill = \"black\", color = 'black'),\n",
    "                          plot.margin = margin(0, 0, 0, 0),\n",
    "                          panel.grid.major = element_blank(),\n",
    "                          panel.grid.minor = element_blank(),\n",
    "                          panel.border = element_blank())\n",
    "\n",
    "    a1_with_title <- a1 + theme(legend.position = \"right\") + ggtitle(\"a1_Veh_PF\") + title_theme + legend_theme + black_background_theme\n",
    "    a2_no_legend_with_title <- a2 + guides(scale=\"none\") + ggtitle(\"a2_Veh_PF\") + title_theme + black_background_theme\n",
    "    b1_no_legend_with_title <- b1 + guides(scale=\"none\") + ggtitle(\"b1_Veh_PF\") + title_theme + black_background_theme\n",
    "    b2_no_legend_with_title <- b2 + guides(scale=\"none\") + ggtitle(\"b2_Veh_PF\") + title_theme + black_background_theme\n",
    "    c1_no_legend_with_title <- c1 + guides(scale=\"none\") + ggtitle(\"c1_FGF1\") + title_theme + black_background_theme\n",
    "    c2_no_legend_with_title <- c2 + guides(scale=\"none\") + ggtitle(\"c2_FGF1\") + title_theme + black_background_theme\n",
    "    d1_no_legend_with_title <- d1 + guides(scale=\"none\") + ggtitle(\"d1_FGF1\") + title_theme + black_background_theme\n",
    "    d2_no_legend_with_title <- d2 + guides(scale=\"none\") + ggtitle(\"d2_FGF1\") + title_theme + black_background_theme\n",
    "\n",
    "    # Combine the plots using patchwork with a black background\n",
    "    combined_plots <- a1_with_title + c1_no_legend_with_title +\n",
    "                      a2_no_legend_with_title + c2_no_legend_with_title +\n",
    "                      b1_no_legend_with_title + d1_no_legend_with_title +\n",
    "                      b2_no_legend_with_title + d2_no_legend_with_title +\n",
    "                      plot_layout(guides = \"collect\", ncol = 2, heights = c(1, 1, 1, 1), widths = c(1, 1))\n",
    "    \n",
    "    # combined_plots = combined_plots & black_background_theme & legend_theme \n",
    "    combined_plots = combined_plots + plot_annotation(title=cell_type, theme=black_background_theme) + plot_annotation(theme=legend_theme) + plot_annotation(theme=title_theme)\n",
    "    # Save the combined_plots to a PDF with a black background\n",
    "    pdf_name = paste0(pdf_folder, cell_type, '_ct_mapping.pdf')\n",
    "    pdf(pdf_name, width = 8.27, height = 11.69, bg = \"black\")\n",
    "    # grid.newpage()\n",
    "    grid.draw(combined_plots)\n",
    "    dev.off()\n",
    "}"
   ]
  },
  {
   "cell_type": "code",
   "execution_count": null,
   "id": "f17f6825",
   "metadata": {},
   "outputs": [],
   "source": [
    "cell_types = xenium.obj %>% `[[` %>% \n",
    "group_by(predicted.polar_label) %>% \n",
    "summarise(n = n()) %>% \n",
    "arrange(desc(n)) %>% \n",
    "pull(predicted.polar_label) %>% \n",
    "str_replace(fixed('.none'), '') %>%\n",
    "str_replace(fixed('.pos'), '') %>%\n",
    "str_replace(fixed('.neg'), '') %>%\n",
    "unique\n",
    "cell_types"
   ]
  },
  {
   "cell_type": "code",
   "execution_count": null,
   "id": "3f63ef37",
   "metadata": {},
   "outputs": [],
   "source": [
    "make_idp_pdf(xenium.obj, \"OPC\", prefix=\"\", suffix=\"\", pdf_folder=\"ct_mapping_rctd_polar_label/\")"
   ]
  },
  {
   "cell_type": "code",
   "execution_count": null,
   "id": "1e8772ab",
   "metadata": {
    "scrolled": true
   },
   "outputs": [],
   "source": [
    "for (cell_type in cell_types){\n",
    "    print(cell_type)\n",
    "    make_idp_pdf(xenium.obj, cell_type, pdf_folder=\"ct_mapping_rctd_polar_label/\")\n",
    "}"
   ]
  },
  {
   "cell_type": "code",
   "execution_count": 41,
   "id": "58672b2d",
   "metadata": {},
   "outputs": [
    {
     "data": {
      "text/plain": [
       "An object of class \"Polygons\"\n",
       "Slot \"Polygons\":\n",
       "[[1]]\n",
       "An object of class \"Polygon\"\n",
       "Slot \"labpt\":\n",
       "[1] 4012.76072   25.60736\n",
       "\n",
       "Slot \"area\":\n",
       "[1] 2768\n",
       "\n",
       "Slot \"hole\":\n",
       "[1] FALSE\n",
       "\n",
       "Slot \"ringDir\":\n",
       "[1] 1\n",
       "\n",
       "Slot \"coords\":\n",
       "         x  y\n",
       "85656 3994  2\n",
       "85657 3988  3\n",
       "85658 3981 11\n",
       "85659 3986 42\n",
       "85660 3988 47\n",
       "85661 3997 54\n",
       "85662 4015 57\n",
       "85663 4022 50\n",
       "85664 4048 22\n",
       "85665 4054 12\n",
       "85666 4053  9\n",
       "85667 4040  6\n",
       "85668 4023  3\n",
       "85669 3997  2\n",
       "85670 3994  2\n",
       "\n",
       "\n",
       "\n",
       "Slot \"plotOrder\":\n",
       "[1] 1\n",
       "\n",
       "Slot \"labpt\":\n",
       "[1] 4012.76072   25.60736\n",
       "\n",
       "Slot \"ID\":\n",
       "[1] \"Cell1_4012_26_1\"\n",
       "\n",
       "Slot \"area\":\n",
       "[1] 2768\n"
      ]
     },
     "metadata": {},
     "output_type": "display_data"
    }
   ],
   "source": [
    "xenium.obj@images$fov@boundaries$segmentation@polygons$Cell1_4012_26_1"
   ]
  },
  {
   "cell_type": "code",
   "execution_count": null,
   "id": "13d20fbc",
   "metadata": {},
   "outputs": [],
   "source": []
  },
  {
   "cell_type": "code",
   "execution_count": null,
   "id": "f2ff9ef3",
   "metadata": {},
   "outputs": [],
   "source": [
    "xe"
   ]
  },
  {
   "cell_type": "code",
   "execution_count": null,
   "id": "6e8fba7c",
   "metadata": {},
   "outputs": [],
   "source": []
  },
  {
   "cell_type": "code",
   "execution_count": null,
   "id": "f2eec450",
   "metadata": {},
   "outputs": [],
   "source": []
  },
  {
   "cell_type": "code",
   "execution_count": null,
   "id": "e3881ae6",
   "metadata": {},
   "outputs": [],
   "source": []
  },
  {
   "cell_type": "code",
   "execution_count": null,
   "id": "ca67cf4f",
   "metadata": {},
   "outputs": [],
   "source": []
  }
 ],
 "metadata": {
  "kernelspec": {
   "display_name": "R [conda env:fgf1]",
   "language": "R",
   "name": "conda-env-fgf1-r"
  },
  "language_info": {
   "codemirror_mode": "r",
   "file_extension": ".r",
   "mimetype": "text/x-r-source",
   "name": "R",
   "pygments_lexer": "r",
   "version": "4.1.3"
  }
 },
 "nbformat": 4,
 "nbformat_minor": 5
}
