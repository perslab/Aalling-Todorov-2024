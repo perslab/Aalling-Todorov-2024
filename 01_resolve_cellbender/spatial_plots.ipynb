{
 "cells": [
  {
   "cell_type": "code",
   "execution_count": 1,
   "id": "669aa095",
   "metadata": {
    "scrolled": true
   },
   "outputs": [
    {
     "name": "stderr",
     "output_type": "stream",
     "text": [
      "Loading required package: SeuratObject\n",
      "\n",
      "Loading required package: sp\n",
      "\n",
      "\n",
      "Attaching package: ‘SeuratObject’\n",
      "\n",
      "\n",
      "The following object is masked from ‘package:base’:\n",
      "\n",
      "    intersect\n",
      "\n",
      "\n",
      "── \u001b[1mAttaching packages\u001b[22m ─────────────────────────────────────── tidyverse 1.3.2 ──\n",
      "\u001b[32m✔\u001b[39m \u001b[34mggplot2\u001b[39m 3.4.2     \u001b[32m✔\u001b[39m \u001b[34mpurrr  \u001b[39m 0.3.4\n",
      "\u001b[32m✔\u001b[39m \u001b[34mtibble \u001b[39m 3.2.1     \u001b[32m✔\u001b[39m \u001b[34mdplyr  \u001b[39m 1.1.2\n",
      "\u001b[32m✔\u001b[39m \u001b[34mtidyr  \u001b[39m 1.2.1     \u001b[32m✔\u001b[39m \u001b[34mstringr\u001b[39m 1.4.1\n",
      "\u001b[32m✔\u001b[39m \u001b[34mreadr  \u001b[39m 2.1.2     \u001b[32m✔\u001b[39m \u001b[34mforcats\u001b[39m 0.5.2\n",
      "── \u001b[1mConflicts\u001b[22m ────────────────────────────────────────── tidyverse_conflicts() ──\n",
      "\u001b[31m✖\u001b[39m \u001b[34mdplyr\u001b[39m::\u001b[32mfilter()\u001b[39m masks \u001b[34mstats\u001b[39m::filter()\n",
      "\u001b[31m✖\u001b[39m \u001b[34mdplyr\u001b[39m::\u001b[32mlag()\u001b[39m    masks \u001b[34mstats\u001b[39m::lag()\n"
     ]
    }
   ],
   "source": [
    "library(Seurat)\n",
    "library(tidyverse)\n",
    "library(ggplot2)\n",
    "library(patchwork)\n",
    "library(forcats)\n",
    "library(Polychrome)\n",
    "library(grid)"
   ]
  },
  {
   "cell_type": "code",
   "execution_count": 2,
   "id": "9295b01b",
   "metadata": {},
   "outputs": [
    {
     "data": {
      "text/plain": [
       "An object of class Seurat \n",
       "400 features across 28082 samples within 4 assays \n",
       "Active assay: Xenium (100 features, 99 variable features)\n",
       " 3 layers present: scale.data, data, counts\n",
       " 3 other assays present: BlankCodeword, ControlCodeword, ControlProbe\n",
       " 2 dimensional reductions calculated: pca, umap\n",
       " 15 spatial fields of view present: fov fov.2 fov.3 fov.4 fov.5 fov.6 fov.7 fov.8 fov.2.2 fov.3.2 fov.4.2 fov.5.2 fov.6.2 fov.7.2 fov.8.2"
      ]
     },
     "metadata": {},
     "output_type": "display_data"
    }
   ],
   "source": [
    "xenium.obj = qs::qread('_targets/objects/obj_rctd_merged_01')\n",
    "xenium.obj"
   ]
  },
  {
   "cell_type": "code",
   "execution_count": 3,
   "id": "21c42700",
   "metadata": {},
   "outputs": [
    {
     "data": {
      "text/html": [
       "<style>\n",
       ".list-inline {list-style: none; margin:0; padding: 0}\n",
       ".list-inline>li {display: inline-block}\n",
       ".list-inline>li:not(:last-child)::after {content: \"\\00b7\"; padding: 0 .5ex}\n",
       "</style>\n",
       "<ol class=list-inline><li>'orig.ident'</li><li>'nCount_Xenium'</li><li>'nFeature_Xenium'</li><li>'nCount_BlankCodeword'</li><li>'nFeature_BlankCodeword'</li><li>'nCount_ControlCodeword'</li><li>'nFeature_ControlCodeword'</li><li>'nCount_ControlProbe'</li><li>'nFeature_ControlProbe'</li><li>'cell_area'</li><li>'density'</li><li>'elongation'</li><li>'avg_confidence'</li><li>'nucleus_area'</li><li>'sample_name'</li><li>'treatment'</li><li>'strain'</li><li>'time'</li><li>'cell_class'</li><li>'seurat_clusters'</li><li>'labels'</li><li>'labels_spot_class'</li><li>'polar_label'</li><li>'polar_label_spot_class'</li><li>'polarity'</li></ol>\n"
      ],
      "text/latex": [
       "\\begin{enumerate*}\n",
       "\\item 'orig.ident'\n",
       "\\item 'nCount\\_Xenium'\n",
       "\\item 'nFeature\\_Xenium'\n",
       "\\item 'nCount\\_BlankCodeword'\n",
       "\\item 'nFeature\\_BlankCodeword'\n",
       "\\item 'nCount\\_ControlCodeword'\n",
       "\\item 'nFeature\\_ControlCodeword'\n",
       "\\item 'nCount\\_ControlProbe'\n",
       "\\item 'nFeature\\_ControlProbe'\n",
       "\\item 'cell\\_area'\n",
       "\\item 'density'\n",
       "\\item 'elongation'\n",
       "\\item 'avg\\_confidence'\n",
       "\\item 'nucleus\\_area'\n",
       "\\item 'sample\\_name'\n",
       "\\item 'treatment'\n",
       "\\item 'strain'\n",
       "\\item 'time'\n",
       "\\item 'cell\\_class'\n",
       "\\item 'seurat\\_clusters'\n",
       "\\item 'labels'\n",
       "\\item 'labels\\_spot\\_class'\n",
       "\\item 'polar\\_label'\n",
       "\\item 'polar\\_label\\_spot\\_class'\n",
       "\\item 'polarity'\n",
       "\\end{enumerate*}\n"
      ],
      "text/markdown": [
       "1. 'orig.ident'\n",
       "2. 'nCount_Xenium'\n",
       "3. 'nFeature_Xenium'\n",
       "4. 'nCount_BlankCodeword'\n",
       "5. 'nFeature_BlankCodeword'\n",
       "6. 'nCount_ControlCodeword'\n",
       "7. 'nFeature_ControlCodeword'\n",
       "8. 'nCount_ControlProbe'\n",
       "9. 'nFeature_ControlProbe'\n",
       "10. 'cell_area'\n",
       "11. 'density'\n",
       "12. 'elongation'\n",
       "13. 'avg_confidence'\n",
       "14. 'nucleus_area'\n",
       "15. 'sample_name'\n",
       "16. 'treatment'\n",
       "17. 'strain'\n",
       "18. 'time'\n",
       "19. 'cell_class'\n",
       "20. 'seurat_clusters'\n",
       "21. 'labels'\n",
       "22. 'labels_spot_class'\n",
       "23. 'polar_label'\n",
       "24. 'polar_label_spot_class'\n",
       "25. 'polarity'\n",
       "\n",
       "\n"
      ],
      "text/plain": [
       " [1] \"orig.ident\"               \"nCount_Xenium\"           \n",
       " [3] \"nFeature_Xenium\"          \"nCount_BlankCodeword\"    \n",
       " [5] \"nFeature_BlankCodeword\"   \"nCount_ControlCodeword\"  \n",
       " [7] \"nFeature_ControlCodeword\" \"nCount_ControlProbe\"     \n",
       " [9] \"nFeature_ControlProbe\"    \"cell_area\"               \n",
       "[11] \"density\"                  \"elongation\"              \n",
       "[13] \"avg_confidence\"           \"nucleus_area\"            \n",
       "[15] \"sample_name\"              \"treatment\"               \n",
       "[17] \"strain\"                   \"time\"                    \n",
       "[19] \"cell_class\"               \"seurat_clusters\"         \n",
       "[21] \"labels\"                   \"labels_spot_class\"       \n",
       "[23] \"polar_label\"              \"polar_label_spot_class\"  \n",
       "[25] \"polarity\"                "
      ]
     },
     "metadata": {},
     "output_type": "display_data"
    }
   ],
   "source": [
    "xenium.obj %>% `[[` %>% colnames"
   ]
  },
  {
   "cell_type": "code",
   "execution_count": 4,
   "id": "91306ae8",
   "metadata": {},
   "outputs": [
    {
     "data": {
      "text/plain": [
       "An object of class Seurat \n",
       "58613 features across 58235 samples within 3 assays \n",
       "Active assay: SCT (26292 features, 3000 variable features)\n",
       " 2 other assays present: RNA, integrated\n",
       " 2 dimensional reductions calculated: pca, umap"
      ]
     },
     "metadata": {},
     "output_type": "display_data"
    }
   ],
   "source": [
    "obj_fgf1 = qs::qread('obj_fgf1_obob5v5.qs')\n",
    "obj_fgf1"
   ]
  },
  {
   "cell_type": "code",
   "execution_count": null,
   "id": "a03f5479",
   "metadata": {},
   "outputs": [],
   "source": [
    "options(repr.plot.width=20, repr.plot.height=20)\n",
    "p1 = DimPlot(xenium.obj, reduction = \"umap\", group.by = \"predicted.labels\", label = TRUE, repel = TRUE) + theme(legend.position = \"none\")  + labs(title = \"Spatial on spatial UMAP\")\n",
    "p2 = DimPlot(xenium.obj, reduction = \"ref.umap\", group.by = \"predicted.labels\", label = TRUE, repel = TRUE) + theme(legend.position = \"none\") + labs(title = \"Spatial on snRNAseq reference UMAP\")\n",
    "p3 = DimPlot(obj_fgf1, reduction = \"umap\", group.by = \"labels\", label = TRUE, repel = TRUE) + theme(legend.position = \"none\") + labs(title = \"snRNAseq reference\")\n",
    "options(repr.plot.width=30, repr.plot.height=10)\n",
    "p1 + p2 + p3\n",
    "\n"
   ]
  },
  {
   "cell_type": "code",
   "execution_count": null,
   "id": "923d7e0a",
   "metadata": {},
   "outputs": [],
   "source": []
  },
  {
   "cell_type": "code",
   "execution_count": null,
   "id": "4095914f",
   "metadata": {},
   "outputs": [],
   "source": []
  },
  {
   "cell_type": "code",
   "execution_count": null,
   "id": "ed8bf65c",
   "metadata": {},
   "outputs": [],
   "source": []
  },
  {
   "cell_type": "code",
   "execution_count": null,
   "id": "6b310d7f",
   "metadata": {},
   "outputs": [],
   "source": []
  },
  {
   "cell_type": "code",
   "execution_count": null,
   "id": "7cfa30a8",
   "metadata": {},
   "outputs": [],
   "source": []
  },
  {
   "cell_type": "code",
   "execution_count": null,
   "id": "64cbc949",
   "metadata": {},
   "outputs": [],
   "source": []
  },
  {
   "cell_type": "code",
   "execution_count": null,
   "id": "d9bc4ea0",
   "metadata": {},
   "outputs": [],
   "source": []
  },
  {
   "cell_type": "code",
   "execution_count": 10,
   "id": "9ec0d176",
   "metadata": {},
   "outputs": [],
   "source": [
    "create_grouping_col <- function(seurat_obj, prefix) {\n",
    "  new_metadata <- case_when(str_detect(seurat_obj@meta.data$labels, fixed(prefix)) ~ seurat_obj@meta.data$labels,\n",
    "                            TRUE ~ NA_character_) %>% as.factor\n",
    "  new_metadata = new_metadata %>% fct_relevel(sort(na.omit(levels(new_metadata))), after = Inf)\n",
    "  return(new_metadata)\n",
    "}\n",
    "\n"
   ]
  },
  {
   "cell_type": "code",
   "execution_count": 11,
   "id": "f87fe92f",
   "metadata": {},
   "outputs": [],
   "source": [
    "plot_celltype_idp = function(seurat_obj, cell_str, fov='fov'){\n",
    "    new_grouping = seurat_obj %>%\n",
    "        create_grouping_col(cell_str)\n",
    "    seurat_obj = AddMetaData(seurat_obj, new_grouping, col.name = 'grouping_col')\n",
    "\n",
    "    # Get the levels of the lab_Pomc column, including the NA_character_ level\n",
    "    grouping_levels <- levels(seurat_obj@meta.data$grouping_col)\n",
    "    # Generate colors using the polychrome palette\n",
    "    how_many_colors = length(grouping_levels)\n",
    "    colors <- Polychrome::sky.colors(how_many_colors) %>% as.character %>% `[`(1:how_many_colors) # Excluding the NA_character_ level\n",
    "    # Add 'gray10' for the NA_character_ level\n",
    "    colors <- c(colors, \"gray10\")\n",
    "    # Create a named vector of colors, with levels as names\n",
    "    named_colors <- setNames(colors, grouping_levels)\n",
    "    # Map the lab_Pomc column values to the corresponding colors\n",
    "    # color_vector <- mapvalues(xenium.obj@meta.data$lab_Pomc, from = lab_Pomc_levels, to = named_colors)\n",
    "    \n",
    "    ggp = ImageDimPlot(seurat_obj,\n",
    "                       group.by='grouping_col',\n",
    "                       boundaries = 'segmentation',\n",
    "                       fov = fov,\n",
    "                       border.size =0.1, \n",
    "                       border.color =NA,\n",
    "                       na.value='gray20', \n",
    "                       cols=named_colors, \n",
    "                       axes = FALSE,\n",
    "                       size=0)\n",
    "    ggp\n",
    "}"
   ]
  },
  {
   "cell_type": "code",
   "execution_count": 12,
   "id": "351cf2a2",
   "metadata": {},
   "outputs": [],
   "source": [
    "make_idp_pdf = function(seurat_obj, cell_type, pdf_folder=\"\"){\n",
    "    a1 = plot_celltype_idp(seurat_obj, cell_type, fov='fov')  + theme(legend.position = \"none\")\n",
    "    a2 = plot_celltype_idp(seurat_obj, cell_type, fov='fov.1') + theme(legend.position = \"none\")\n",
    "    b1 = plot_celltype_idp(seurat_obj, cell_type, fov='fov.2') + theme(legend.position = \"none\")\n",
    "    b2 = plot_celltype_idp(seurat_obj, cell_type, fov='fov.3') + theme(legend.position = \"none\")\n",
    "    c1 = plot_celltype_idp(seurat_obj, cell_type, fov='fov.4') + theme(legend.position = \"none\")\n",
    "    c2 = plot_celltype_idp(seurat_obj, cell_type, fov='fov.5') + theme(legend.position = \"none\")\n",
    "    d1 = plot_celltype_idp(seurat_obj, cell_type, fov='fov.6') + theme(legend.position = \"none\")\n",
    "    d2 = plot_celltype_idp(seurat_obj, cell_type, fov='fov.7') + theme(legend.position = \"none\")\n",
    "    title_theme <- theme(plot.title = element_text(color = \"white\", size = 8, hjust = 0.5))\n",
    "    # Set black background theme for each plot\n",
    "    legend_theme <- theme(legend.position = \"bottom\",\n",
    "                          legend.direction = \"horizontal\",\n",
    "                          legend.box = \"horizontal\",\n",
    "                          legend.text = element_text(size = 4),\n",
    "                          legend.key.size = unit(2, \"mm\"))\n",
    "    # black_background_theme <- theme(plot.background = element_rect(fill = \"black\"),\n",
    "    #                                 panel.background = element_rect(fill = \"black\"))\n",
    "    black_background_theme <- theme(plot.background = element_rect(fill = \"black\", color = 'black'),\n",
    "                          panel.background = element_rect(fill = \"black\", color = 'black'),\n",
    "                          plot.margin = margin(0, 0, 0, 0),\n",
    "                          panel.grid.major = element_blank(),\n",
    "                          panel.grid.minor = element_blank(),\n",
    "                          panel.border = element_blank())\n",
    "\n",
    "    a1_with_title <- a1 + theme(legend.position = \"right\") + ggtitle(\"a1_Veh_PF\") + title_theme + legend_theme + black_background_theme\n",
    "    a2_no_legend_with_title <- a2 + guides(scale=\"none\") + ggtitle(\"a2_Veh_PF\") + title_theme + black_background_theme\n",
    "    b1_no_legend_with_title <- b1 + guides(scale=\"none\") + ggtitle(\"b1_Veh_PF\") + title_theme + black_background_theme\n",
    "    b2_no_legend_with_title <- b2 + guides(scale=\"none\") + ggtitle(\"b2_Veh_PF\") + title_theme + black_background_theme\n",
    "    c1_no_legend_with_title <- c1 + guides(scale=\"none\") + ggtitle(\"c1_FGF1\") + title_theme + black_background_theme\n",
    "    c2_no_legend_with_title <- c2 + guides(scale=\"none\") + ggtitle(\"c2_FGF1\") + title_theme + black_background_theme\n",
    "    d1_no_legend_with_title <- d1 + guides(scale=\"none\") + ggtitle(\"d1_FGF1\") + title_theme + black_background_theme\n",
    "    d2_no_legend_with_title <- d2 + guides(scale=\"none\") + ggtitle(\"d2_FGF1\") + title_theme + black_background_theme\n",
    "\n",
    "    # Combine the plots using patchwork with a black background\n",
    "    combined_plots <- a1_with_title + c1_no_legend_with_title +\n",
    "                      a2_no_legend_with_title + c2_no_legend_with_title +\n",
    "                      b1_no_legend_with_title + d1_no_legend_with_title +\n",
    "                      b2_no_legend_with_title + d2_no_legend_with_title +\n",
    "                      plot_layout(guides = \"collect\", ncol = 2, heights = c(1, 1, 1, 1), widths = c(1, 1))\n",
    "\n",
    "    # combined_plots = combined_plots & black_background_theme & legend_theme \n",
    "    combined_plots = combined_plots + plot_annotation(title=cell_type, theme=black_background_theme) + plot_annotation(theme=legend_theme) + plot_annotation(theme=title_theme)\n",
    "    # Save the combined_plots to a PDF with a black background\n",
    "    pdf_name = paste0(pdf_folder, cell_type, '_ct_mapping.pdf')\n",
    "    pdf(pdf_name, width = 8.27, height = 11.69, bg = \"black\")\n",
    "    # grid.newpage()\n",
    "    grid.draw(combined_plots)\n",
    "    dev.off()\n",
    "}"
   ]
  },
  {
   "cell_type": "code",
   "execution_count": 13,
   "id": "7b257e25",
   "metadata": {},
   "outputs": [
    {
     "data": {
      "text/html": [
       "<style>\n",
       ".list-inline {list-style: none; margin:0; padding: 0}\n",
       ".list-inline>li {display: inline-block}\n",
       ".list-inline>li:not(:last-child)::after {content: \"\\00b7\"; padding: 0 .5ex}\n",
       "</style>\n",
       "<ol class=list-inline><li>'Astrocytes'</li><li>'Met__Prlh'</li><li>'Oligodendrocytes'</li><li>'OPC'</li><li>'Lepr15'</li><li>'Agrp'</li><li>'Esr1'</li><li>'b2_Tanycytes'</li><li>'Lepr89'</li><li>'a1_Tanycytes'</li><li>'Fez1'</li><li>'Dlk1'</li><li>'Nfib_1'</li><li>'Pou6f2__Prkcq__Whrn'</li><li>'Sst__Pthlh'</li><li>'Endothelial_cells'</li><li>'Gpr50__Tac2'</li><li>'Pomc__Anxa2'</li><li>'Ppp1r17__Ltbp1'</li><li>'Pomc__Ttr'</li><li>'b1_Tanycytes'</li><li>'Lepr67'</li><li>'Trh__Cxcl12'</li><li>'Sst__Unc13c'</li><li>'Ghrh'</li><li>'Th__Slc6a3'</li><li>'Htr3b'</li><li>'Microglia'</li><li>'Ppp1r17__Tafa4'</li><li>'Nfib_3'</li><li>'Kiss1__Tac2'</li><li>'a2_Tanycytes'</li><li>'Tmem215__Greb1'</li><li>'Sst__Nts'</li><li>'Lpar1_oligo'</li><li>'Nfix__Nfib'</li><li>'Reln__Lef1'</li><li>'Ependymal_cells'</li><li>'Npsr1__Epha3'</li><li>'Th__Nfib'</li><li>'Met__Pappa2'</li><li>'Arx__Nr5a2'</li><li>'Tbx19__Pirt'</li><li>'Ppp1r17'</li><li>'Nfib_2'</li><li>'Pomc__Glipr1'</li><li>'Hdc'</li><li>'Nfix__Nfib__Hgf'</li><li>'Nfix__Nfib__Lhx6'</li><li>'Slc17a6__Trhr'</li><li>'Trh__Lef1'</li><li>'Sim1'</li><li>'Irx5__Lmx1a'</li><li>'Tmem215__Dach2'</li></ol>\n"
      ],
      "text/latex": [
       "\\begin{enumerate*}\n",
       "\\item 'Astrocytes'\n",
       "\\item 'Met\\_\\_Prlh'\n",
       "\\item 'Oligodendrocytes'\n",
       "\\item 'OPC'\n",
       "\\item 'Lepr15'\n",
       "\\item 'Agrp'\n",
       "\\item 'Esr1'\n",
       "\\item 'b2\\_Tanycytes'\n",
       "\\item 'Lepr89'\n",
       "\\item 'a1\\_Tanycytes'\n",
       "\\item 'Fez1'\n",
       "\\item 'Dlk1'\n",
       "\\item 'Nfib\\_1'\n",
       "\\item 'Pou6f2\\_\\_Prkcq\\_\\_Whrn'\n",
       "\\item 'Sst\\_\\_Pthlh'\n",
       "\\item 'Endothelial\\_cells'\n",
       "\\item 'Gpr50\\_\\_Tac2'\n",
       "\\item 'Pomc\\_\\_Anxa2'\n",
       "\\item 'Ppp1r17\\_\\_Ltbp1'\n",
       "\\item 'Pomc\\_\\_Ttr'\n",
       "\\item 'b1\\_Tanycytes'\n",
       "\\item 'Lepr67'\n",
       "\\item 'Trh\\_\\_Cxcl12'\n",
       "\\item 'Sst\\_\\_Unc13c'\n",
       "\\item 'Ghrh'\n",
       "\\item 'Th\\_\\_Slc6a3'\n",
       "\\item 'Htr3b'\n",
       "\\item 'Microglia'\n",
       "\\item 'Ppp1r17\\_\\_Tafa4'\n",
       "\\item 'Nfib\\_3'\n",
       "\\item 'Kiss1\\_\\_Tac2'\n",
       "\\item 'a2\\_Tanycytes'\n",
       "\\item 'Tmem215\\_\\_Greb1'\n",
       "\\item 'Sst\\_\\_Nts'\n",
       "\\item 'Lpar1\\_oligo'\n",
       "\\item 'Nfix\\_\\_Nfib'\n",
       "\\item 'Reln\\_\\_Lef1'\n",
       "\\item 'Ependymal\\_cells'\n",
       "\\item 'Npsr1\\_\\_Epha3'\n",
       "\\item 'Th\\_\\_Nfib'\n",
       "\\item 'Met\\_\\_Pappa2'\n",
       "\\item 'Arx\\_\\_Nr5a2'\n",
       "\\item 'Tbx19\\_\\_Pirt'\n",
       "\\item 'Ppp1r17'\n",
       "\\item 'Nfib\\_2'\n",
       "\\item 'Pomc\\_\\_Glipr1'\n",
       "\\item 'Hdc'\n",
       "\\item 'Nfix\\_\\_Nfib\\_\\_Hgf'\n",
       "\\item 'Nfix\\_\\_Nfib\\_\\_Lhx6'\n",
       "\\item 'Slc17a6\\_\\_Trhr'\n",
       "\\item 'Trh\\_\\_Lef1'\n",
       "\\item 'Sim1'\n",
       "\\item 'Irx5\\_\\_Lmx1a'\n",
       "\\item 'Tmem215\\_\\_Dach2'\n",
       "\\end{enumerate*}\n"
      ],
      "text/markdown": [
       "1. 'Astrocytes'\n",
       "2. 'Met__Prlh'\n",
       "3. 'Oligodendrocytes'\n",
       "4. 'OPC'\n",
       "5. 'Lepr15'\n",
       "6. 'Agrp'\n",
       "7. 'Esr1'\n",
       "8. 'b2_Tanycytes'\n",
       "9. 'Lepr89'\n",
       "10. 'a1_Tanycytes'\n",
       "11. 'Fez1'\n",
       "12. 'Dlk1'\n",
       "13. 'Nfib_1'\n",
       "14. 'Pou6f2__Prkcq__Whrn'\n",
       "15. 'Sst__Pthlh'\n",
       "16. 'Endothelial_cells'\n",
       "17. 'Gpr50__Tac2'\n",
       "18. 'Pomc__Anxa2'\n",
       "19. 'Ppp1r17__Ltbp1'\n",
       "20. 'Pomc__Ttr'\n",
       "21. 'b1_Tanycytes'\n",
       "22. 'Lepr67'\n",
       "23. 'Trh__Cxcl12'\n",
       "24. 'Sst__Unc13c'\n",
       "25. 'Ghrh'\n",
       "26. 'Th__Slc6a3'\n",
       "27. 'Htr3b'\n",
       "28. 'Microglia'\n",
       "29. 'Ppp1r17__Tafa4'\n",
       "30. 'Nfib_3'\n",
       "31. 'Kiss1__Tac2'\n",
       "32. 'a2_Tanycytes'\n",
       "33. 'Tmem215__Greb1'\n",
       "34. 'Sst__Nts'\n",
       "35. 'Lpar1_oligo'\n",
       "36. 'Nfix__Nfib'\n",
       "37. 'Reln__Lef1'\n",
       "38. 'Ependymal_cells'\n",
       "39. 'Npsr1__Epha3'\n",
       "40. 'Th__Nfib'\n",
       "41. 'Met__Pappa2'\n",
       "42. 'Arx__Nr5a2'\n",
       "43. 'Tbx19__Pirt'\n",
       "44. 'Ppp1r17'\n",
       "45. 'Nfib_2'\n",
       "46. 'Pomc__Glipr1'\n",
       "47. 'Hdc'\n",
       "48. 'Nfix__Nfib__Hgf'\n",
       "49. 'Nfix__Nfib__Lhx6'\n",
       "50. 'Slc17a6__Trhr'\n",
       "51. 'Trh__Lef1'\n",
       "52. 'Sim1'\n",
       "53. 'Irx5__Lmx1a'\n",
       "54. 'Tmem215__Dach2'\n",
       "\n",
       "\n"
      ],
      "text/plain": [
       " [1] \"Astrocytes\"          \"Met__Prlh\"           \"Oligodendrocytes\"   \n",
       " [4] \"OPC\"                 \"Lepr15\"              \"Agrp\"               \n",
       " [7] \"Esr1\"                \"b2_Tanycytes\"        \"Lepr89\"             \n",
       "[10] \"a1_Tanycytes\"        \"Fez1\"                \"Dlk1\"               \n",
       "[13] \"Nfib_1\"              \"Pou6f2__Prkcq__Whrn\" \"Sst__Pthlh\"         \n",
       "[16] \"Endothelial_cells\"   \"Gpr50__Tac2\"         \"Pomc__Anxa2\"        \n",
       "[19] \"Ppp1r17__Ltbp1\"      \"Pomc__Ttr\"           \"b1_Tanycytes\"       \n",
       "[22] \"Lepr67\"              \"Trh__Cxcl12\"         \"Sst__Unc13c\"        \n",
       "[25] \"Ghrh\"                \"Th__Slc6a3\"          \"Htr3b\"              \n",
       "[28] \"Microglia\"           \"Ppp1r17__Tafa4\"      \"Nfib_3\"             \n",
       "[31] \"Kiss1__Tac2\"         \"a2_Tanycytes\"        \"Tmem215__Greb1\"     \n",
       "[34] \"Sst__Nts\"            \"Lpar1_oligo\"         \"Nfix__Nfib\"         \n",
       "[37] \"Reln__Lef1\"          \"Ependymal_cells\"     \"Npsr1__Epha3\"       \n",
       "[40] \"Th__Nfib\"            \"Met__Pappa2\"         \"Arx__Nr5a2\"         \n",
       "[43] \"Tbx19__Pirt\"         \"Ppp1r17\"             \"Nfib_2\"             \n",
       "[46] \"Pomc__Glipr1\"        \"Hdc\"                 \"Nfix__Nfib__Hgf\"    \n",
       "[49] \"Nfix__Nfib__Lhx6\"    \"Slc17a6__Trhr\"       \"Trh__Lef1\"          \n",
       "[52] \"Sim1\"                \"Irx5__Lmx1a\"         \"Tmem215__Dach2\"     "
      ]
     },
     "metadata": {},
     "output_type": "display_data"
    }
   ],
   "source": [
    "cell_types = xenium.obj %>% `[[` %>% group_by(labels) %>% summarise(n = n()) %>% arrange(desc(n)) %>% pull(labels) %>% unique\n",
    "cell_types"
   ]
  },
  {
   "cell_type": "code",
   "execution_count": 14,
   "id": "826437b7",
   "metadata": {
    "scrolled": true
   },
   "outputs": [
    {
     "name": "stdout",
     "output_type": "stream",
     "text": [
      "[1] \"Astrocytes\"\n"
     ]
    },
    {
     "name": "stderr",
     "output_type": "stream",
     "text": [
      "Warning message in makePalette(n, sky):\n",
      "“minimal value for n is 3, returning requested palette with 3 levels\n",
      "”\n",
      "Warning message:\n",
      "“Removing 23897 cells missing data for vars requested”\n",
      "Warning message in makePalette(n, sky):\n",
      "“minimal value for n is 3, returning requested palette with 3 levels\n",
      "”\n"
     ]
    },
    {
     "ename": "ERROR",
     "evalue": "Error in ImageDimPlot(seurat_obj, group.by = \"grouping_col\", boundaries = \"segmentation\", : No compatible spatial coordinates present\n",
     "output_type": "error",
     "traceback": [
      "Error in ImageDimPlot(seurat_obj, group.by = \"grouping_col\", boundaries = \"segmentation\", : No compatible spatial coordinates present\nTraceback:\n",
      "1. make_idp_pdf(xenium.obj, cell_type, pdf_folder = \"ct_mappings_rctd/\")",
      "2. plot_celltype_idp(seurat_obj, cell_type, fov = \"fov.1\")   # at line 3 of file <text>",
      "3. ImageDimPlot(seurat_obj, group.by = \"grouping_col\", boundaries = \"segmentation\", \n .     fov = fov, border.size = 0.1, border.color = NA, na.value = \"gray20\", \n .     cols = named_colors, axes = FALSE, size = 0)   # at line 18-27 of file <text>",
      "4. stop(\"No compatible spatial coordinates present\")"
     ]
    }
   ],
   "source": [
    "for (cell_type in cell_types){\n",
    "    print(cell_type)\n",
    "    make_idp_pdf(xenium.obj, cell_type, pdf_folder=\"ct_mappings_rctd/\")\n",
    "}"
   ]
  },
  {
   "cell_type": "code",
   "execution_count": null,
   "id": "f3d15271",
   "metadata": {},
   "outputs": [],
   "source": []
  },
  {
   "cell_type": "code",
   "execution_count": null,
   "id": "2544ec9c",
   "metadata": {},
   "outputs": [],
   "source": []
  },
  {
   "cell_type": "code",
   "execution_count": null,
   "id": "6fb46b5e",
   "metadata": {},
   "outputs": [],
   "source": []
  }
 ],
 "metadata": {
  "kernelspec": {
   "display_name": "R [conda env:fgf1]",
   "language": "R",
   "name": "conda-env-fgf1-r"
  },
  "language_info": {
   "codemirror_mode": "r",
   "file_extension": ".r",
   "mimetype": "text/x-r-source",
   "name": "R",
   "pygments_lexer": "r",
   "version": "4.1.3"
  }
 },
 "nbformat": 4,
 "nbformat_minor": 5
}
