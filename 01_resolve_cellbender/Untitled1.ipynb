{
 "cells": [
  {
   "cell_type": "code",
   "execution_count": 1,
   "id": "2d44f4e4",
   "metadata": {},
   "outputs": [
    {
     "name": "stderr",
     "output_type": "stream",
     "text": [
      "── \u001b[1mAttaching packages\u001b[22m ─────────────────────────────────────── tidyverse 1.3.2 ──\n",
      "\u001b[32m✔\u001b[39m \u001b[34mggplot2\u001b[39m 3.4.2     \u001b[32m✔\u001b[39m \u001b[34mpurrr  \u001b[39m 0.3.4\n",
      "\u001b[32m✔\u001b[39m \u001b[34mtibble \u001b[39m 3.2.1     \u001b[32m✔\u001b[39m \u001b[34mdplyr  \u001b[39m 1.1.2\n",
      "\u001b[32m✔\u001b[39m \u001b[34mtidyr  \u001b[39m 1.2.1     \u001b[32m✔\u001b[39m \u001b[34mstringr\u001b[39m 1.4.1\n",
      "\u001b[32m✔\u001b[39m \u001b[34mreadr  \u001b[39m 2.1.2     \u001b[32m✔\u001b[39m \u001b[34mforcats\u001b[39m 0.5.2\n",
      "── \u001b[1mConflicts\u001b[22m ────────────────────────────────────────── tidyverse_conflicts() ──\n",
      "\u001b[31m✖\u001b[39m \u001b[34mdplyr\u001b[39m::\u001b[32mfilter()\u001b[39m masks \u001b[34mstats\u001b[39m::filter()\n",
      "\u001b[31m✖\u001b[39m \u001b[34mdplyr\u001b[39m::\u001b[32mlag()\u001b[39m    masks \u001b[34mstats\u001b[39m::lag()\n",
      "Loading required package: SeuratObject\n",
      "\n",
      "Loading required package: sp\n",
      "\n",
      "\n",
      "Attaching package: ‘SeuratObject’\n",
      "\n",
      "\n",
      "The following object is masked from ‘package:base’:\n",
      "\n",
      "    intersect\n",
      "\n",
      "\n"
     ]
    }
   ],
   "source": [
    "library(targets)\n",
    "library(tidyverse)\n",
    "library(Seurat)"
   ]
  },
  {
   "cell_type": "code",
   "execution_count": 76,
   "id": "dadaf053",
   "metadata": {},
   "outputs": [],
   "source": [
    "source('resolve_cellbender.R')"
   ]
  },
  {
   "cell_type": "code",
   "execution_count": 83,
   "id": "1fe7eaa8",
   "metadata": {},
   "outputs": [
    {
     "data": {
      "text/plain": [
       "An object of class Seurat \n",
       "400 features across 38520 samples within 4 assays \n",
       "Active assay: Xenium (100 features, 85 variable features)\n",
       " 3 layers present: counts, data, scale.data\n",
       " 3 other assays present: BlankCodeword, ControlCodeword, ControlProbe\n",
       " 2 dimensional reductions calculated: pca, umap\n",
       " 8 spatial fields of view present: fov fov.2 fov.3 fov.4 fov.5 fov.6 fov.7 fov.8"
      ]
     },
     "metadata": {},
     "output_type": "display_data"
    }
   ],
   "source": [
    "obj = qs::qread('_targets/objects/xe_obj_01')\n",
    "obj"
   ]
  },
  {
   "cell_type": "code",
   "execution_count": 84,
   "id": "617ed037",
   "metadata": {},
   "outputs": [
    {
     "data": {
      "text/html": [
       "<table class=\"dataframe\">\n",
       "<caption>A data.frame: 2 × 1</caption>\n",
       "<thead>\n",
       "\t<tr><th></th><th scope=col>class</th></tr>\n",
       "\t<tr><th></th><th scope=col>&lt;fct&gt;</th></tr>\n",
       "</thead>\n",
       "<tbody>\n",
       "\t<tr><th scope=row>Cell10000_9129_13312_1</th><td>neuron</td></tr>\n",
       "\t<tr><th scope=row>Cell10007_5614_2509_1</th><td>other </td></tr>\n",
       "</tbody>\n",
       "</table>\n"
      ],
      "text/latex": [
       "A data.frame: 2 × 1\n",
       "\\begin{tabular}{r|l}\n",
       "  & class\\\\\n",
       "  & <fct>\\\\\n",
       "\\hline\n",
       "\tCell10000\\_9129\\_13312\\_1 & neuron\\\\\n",
       "\tCell10007\\_5614\\_2509\\_1 & other \\\\\n",
       "\\end{tabular}\n"
      ],
      "text/markdown": [
       "\n",
       "A data.frame: 2 × 1\n",
       "\n",
       "| <!--/--> | class &lt;fct&gt; |\n",
       "|---|---|\n",
       "| Cell10000_9129_13312_1 | neuron |\n",
       "| Cell10007_5614_2509_1 | other  |\n",
       "\n"
      ],
      "text/plain": [
       "                       class \n",
       "Cell10000_9129_13312_1 neuron\n",
       "Cell10007_5614_2509_1  other "
      ]
     },
     "metadata": {},
     "output_type": "display_data"
    }
   ],
   "source": [
    "obj %>% `[[` %>% distinct(class)"
   ]
  },
  {
   "cell_type": "code",
   "execution_count": null,
   "id": "83ab1c37",
   "metadata": {},
   "outputs": [],
   "source": []
  },
  {
   "cell_type": "code",
   "execution_count": null,
   "id": "edb9e9a6",
   "metadata": {},
   "outputs": [],
   "source": []
  },
  {
   "cell_type": "code",
   "execution_count": null,
   "id": "f81c17b2",
   "metadata": {},
   "outputs": [],
   "source": []
  },
  {
   "cell_type": "code",
   "execution_count": 78,
   "id": "dad4f002",
   "metadata": {},
   "outputs": [],
   "source": [
    "xenium_genes = qs::qread('_targets/objects/xenium_genes')"
   ]
  },
  {
   "cell_type": "code",
   "execution_count": 80,
   "id": "cc030d23",
   "metadata": {
    "scrolled": true
   },
   "outputs": [
    {
     "name": "stderr",
     "output_type": "stream",
     "text": [
      "Normalizing layer: counts\n",
      "\n",
      "Centering and scaling data matrix\n",
      "\n",
      "Warning message in irlba(A = t(x = object), nv = npcs, ...):\n",
      "“You're computing too large a percentage of total singular values, use a standard svd instead.”\n",
      "PC_ 1 \n",
      "Positive:  Aqp4, Slc7a11, Rax, Lrmda, Rgs6, Pdzrn3, Slc1a2, Plp1, Agrp, Sox5 \n",
      "\t   Trpm3, Bmp4, Cfap299, Gpc5, Pdgfra, Gpc6, Pcdh9, Erbb4, Ptprk, Fat3 \n",
      "\t   Pomc, Luzp2, P3h2, Htr3b, Pcdh11x, Il1rapl2, Rmst, Lef1, Ptprt, Hdac9 \n",
      "Negative:  Tenm2, Grm7, Rbfox1, Lingo2, Hs3st4, Kcnip4, Kcnq3, Grm8, Brinp3, Pde10a \n",
      "\t   Cacna2d3, Sgcz, Cntn5, Nrxn3, Car10, Gabrg3, Prkg1, Dcc, Fgf13, Cntn4 \n",
      "\t   Ncam2, Lrp1b, Nxph1, Nkain2, Galntl6, Nrg1, Col25a1, Mgat4c, Prr16, Oxr1 \n",
      "PC_ 2 \n",
      "Positive:  Luzp2, Trpm3, Slc7a11, Aqp4, Gpc5, Cadm2, Slc1a2, Erbb4, Robo1, Ptprt \n",
      "\t   Plcb1, Lrp1b, Fat3, Alcam, Rgs6, Tenm3, Sox5, Kirrel3, Gpc6, Rmst \n",
      "\t   Lef1, Sgcd, Pdgfra, Brinp3, Ptprd, Mgat4c, Dcc, Lrmda, Hdac9, Pde4b \n",
      "Negative:  Agrp, Deptor, Arhgap6, Hs3st4, Plcl1, Kcnip4, Pomc, Rbfox1, Grm8, Plp1 \n",
      "\t   Tenm2, Oxr1, Ptprk, Cntn5, Kcnq3, Col25a1, Rax, Car10, Pde10a, Pdzrn3 \n",
      "\t   Htr3b, Bmp4, Zfhx3, Nkain2, Sgcz, Prkg1, Cntn4, P3h2, Sorcs1, Il1rapl2 \n",
      "PC_ 3 \n",
      "Positive:  Hs3st4, Kcnq3, Brinp3, Gpc5, Slc7a11, Plxdc2, Rbfox1, Plcl1, Plp1, Pde4b \n",
      "\t   Luzp2, Cadm2, Slc1a2, Lrp1b, Tenm2, Grm8, Aqp4, Adarb2, Cntn4, Ncam2 \n",
      "\t   Pdgfra, Slit2, Nxph1, Sgcz, Bmp4, Cntn5, Plcb1, Sgcd, Alcam, Pcdh7 \n",
      "Negative:  Rmst, Kctd16, Agrp, Gabrg3, Hdac9, Rax, Tox, Nrxn3, Sorcs1, Il1rapl2 \n",
      "\t   Zfp804b, Pomc, Dcc, Fgf13, Ptprk, Nrg1, Lef1, Gpc6, Cacna2d3, Ptprt \n",
      "\t   Pde10a, Inpp4b, Erbb4, Egfem1, Tenm3, Oxr1, P3h2, Cfap299, Arhgap6, Pdzrn3 \n",
      "PC_ 4 \n",
      "Positive:  Nrxn3, Kirrel3, Cadm2, Fgf13, Kctd16, Lef1, Erbb4, Plp1, Mgat4c, Zfp804b \n",
      "\t   Hdac9, Pcdh7, Galntl6, Nxph1, Pde10a, Ptprk, Gpc5, Ptprd, Egfem1, Luzp2 \n",
      "\t   Htr3b, Pdgfra, Il1rapl2, Robo1, Alcam, Agrp, Dcc, Lingo2, Plxdc2, Nkain2 \n",
      "Negative:  Slit2, Rax, Deptor, Pdzrn3, P3h2, Sox5, Cfap299, Rmst, Fat3, Lrmda \n",
      "\t   Hs3st4, Prr16, Gpc6, Cacna2d3, Col25a1, Rgs6, Prkg1, Aqp4, Car10, Tenm3 \n",
      "\t   Sgcz, Grm8, Inpp4b, Sgcd, Cntn5, Plcl1, Tenm2, Plcb1, Kcnq3, Cntn4 \n",
      "PC_ 5 \n",
      "Positive:  Pcdh7, Arhgap6, Gpc6, Agrp, Cadm2, Nrxn3, Htr3b, Fat3, Pomc, Il1rapl2 \n",
      "\t   Gpc5, Pde10a, Slc1a2, Aqp4, Sox5, Nrg1, Kcnq3, Rbfox1, Slc7a11, Egfem1 \n",
      "\t   Pcdh9, Deptor, Ptprk, Hdac9, Cntn4, Rgs6, Plcl1, Ntm, Tenm3, Kirrel3 \n",
      "Negative:  Lef1, Ptprd, Adarb2, Erbb4, Plp1, Slit2, Sorcs1, Nxph1, Pdzrn3, Robo1 \n",
      "\t   Oxr1, Zfp804b, Luzp2, Rmst, Dcc, Col25a1, Bmp4, Cacna2d3, Lrp1b, Grm7 \n",
      "\t   Grm8, Pdgfra, Car10, Rax, Galntl6, Pde4b, Plxdc2, Inpp4b, Prkg1, Tox \n",
      "\n",
      "Computing nearest neighbor graph\n",
      "\n",
      "Computing SNN\n",
      "\n"
     ]
    },
    {
     "name": "stdout",
     "output_type": "stream",
     "text": [
      "Modularity Optimizer version 1.3.0 by Ludo Waltman and Nees Jan van Eck\n",
      "\n",
      "Number of nodes: 40205\n",
      "Number of edges: 1810405\n",
      "\n",
      "Running Louvain algorithm...\n",
      "Maximum modularity in 10 random starts: 0.8959\n",
      "Number of communities: 110\n",
      "Elapsed time: 14 seconds\n"
     ]
    },
    {
     "name": "stderr",
     "output_type": "stream",
     "text": [
      "46 singletons identified. 64 final clusters.\n",
      "\n"
     ]
    },
    {
     "ename": "ERROR",
     "evalue": "Error in annotate_by_level_v02(., counts_assay = \"Xenium\", graph_name = NULL, : trying to get slot \"cell.embeddings\" from an object of a basic class (\"NULL\") with no slots\n",
     "output_type": "error",
     "traceback": [
      "Error in annotate_by_level_v02(., counts_assay = \"Xenium\", graph_name = NULL, : trying to get slot \"cell.embeddings\" from an object of a basic class (\"NULL\") with no slots\nTraceback:\n",
      "1. obj %>% filter_down_cells_v02 %>% process_xenium(xenium_genes = xenium_genes) %>% \n .     annotate_by_level_v02(counts_assay = \"Xenium\", graph_name = NULL, \n .         classification_data_path = \"resolve_major_classes_markers_v2.txt\", \n .         annotation_col = \"class\")",
      "2. annotate_by_level_v02(., counts_assay = \"Xenium\", graph_name = NULL, \n .     classification_data_path = \"resolve_major_classes_markers_v2.txt\", \n .     annotation_col = \"class\")"
     ]
    }
   ],
   "source": [
    "obj = obj  %>% \n",
    "                 filter_down_cells_v02 %>% \n",
    "                 process_xenium(xenium_genes=xenium_genes) %>%\n",
    "                annotate_by_level_v02(counts_assay='Xenium', \n",
    "                                           graph_name=NULL, \n",
    "                                           classification_data_path='resolve_major_classes_markers_v2.txt', \n",
    "                                           annotation_col='class')"
   ]
  },
  {
   "cell_type": "code",
   "execution_count": 81,
   "id": "756a849d",
   "metadata": {},
   "outputs": [
    {
     "data": {
      "text/plain": [
       "An object of class Seurat \n",
       "400 features across 40205 samples within 4 assays \n",
       "Active assay: Xenium (100 features, 85 variable features)\n",
       " 3 layers present: counts, data, scale.data\n",
       " 3 other assays present: BlankCodeword, ControlCodeword, ControlProbe\n",
       " 1 dimensional reduction calculated: pca\n",
       " 8 spatial fields of view present: fov fov.2 fov.3 fov.4 fov.5 fov.6 fov.7 fov.8"
      ]
     },
     "metadata": {},
     "output_type": "display_data"
    }
   ],
   "source": [
    "obj"
   ]
  },
  {
   "cell_type": "code",
   "execution_count": 55,
   "id": "be3fb223",
   "metadata": {},
   "outputs": [
    {
     "data": {
      "text/html": [
       "40205"
      ],
      "text/latex": [
       "40205"
      ],
      "text/markdown": [
       "40205"
      ],
      "text/plain": [
       "[1] 40205"
      ]
     },
     "metadata": {},
     "output_type": "display_data"
    }
   ],
   "source": [
    "obj@active.ident %>% length"
   ]
  },
  {
   "cell_type": "code",
   "execution_count": 60,
   "id": "ba53d3c0",
   "metadata": {},
   "outputs": [
    {
     "data": {
      "text/html": [
       "40205"
      ],
      "text/latex": [
       "40205"
      ],
      "text/markdown": [
       "40205"
      ],
      "text/plain": [
       "[1] 40205"
      ]
     },
     "metadata": {},
     "output_type": "display_data"
    }
   ],
   "source": [
    "obj@reductions$pca"
   ]
  },
  {
   "cell_type": "code",
   "execution_count": 61,
   "id": "c3065d90",
   "metadata": {},
   "outputs": [],
   "source": [
    "library(CellAnnotatoR)"
   ]
  },
  {
   "cell_type": "code",
   "execution_count": 73,
   "id": "af46569a",
   "metadata": {},
   "outputs": [
    {
     "data": {
      "text/plain": [
       "An object of class Seurat \n",
       "500 features across 40205 samples within 5 assays \n",
       "Active assay: SCT (100 features, 99 variable features)\n",
       " 3 layers present: counts, data, scale.data\n",
       " 4 other assays present: Xenium, BlankCodeword, ControlCodeword, ControlProbe\n",
       " 2 dimensional reductions calculated: pca, umap\n",
       " 8 spatial fields of view present: fov fov.2 fov.3 fov.4 fov.5 fov.6 fov.7 fov.8"
      ]
     },
     "metadata": {},
     "output_type": "display_data"
    }
   ],
   "source": [
    "                             counts_assay='Xenium'\n",
    "                             graph_name=NULL\n",
    "                             classification_data_path='resolve_major_classes_markers_v2.txt'\n",
    "                             annotation_col='class'\n",
    "    #uses conos, cellannotater\n",
    "    if (is.null(counts_assay)) {\n",
    "        counts_assay = obj@active.assay\n",
    "    }\n",
    "    \n",
    "    cm <- obj@assays[[counts_assay]] %>% \n",
    "#         JoinLayers %>% \n",
    "        `$`('counts')\n",
    "    \n",
    "    if (!is.null(graph_name)){\n",
    "        if (graph_name == 'active_snn'){\n",
    "            graph_name = paste0(counts_assay, '_snn')\n",
    "            graph <- obj@graphs[[graph_name]]\n",
    "        } else {\n",
    "            graph <- obj@graphs[[graph_name]]\n",
    "        }\n",
    "    } else {\n",
    "        graph = NULL\n",
    "    }\n",
    "    emb <- obj@reductions$umap@cell.embeddings\n",
    "    clusters <- setNames(obj@meta.data$seurat_clusters, rownames(obj@meta.data))\n",
    "    clf_data <- getClassificationData(cm, classification_data_path)\n",
    "    ann_by_level <- assignCellsByScores(graph=graph, clf_data, clusters=clusters)\n",
    "    Idents(obj) <- ann_by_level$annotation$l1\n",
    "#     p2 = DimPlot(obj, reduction = \"umap\", label=T, repel = T)+NoLegend() \n",
    "    obj[[annotation_col]] <- obj@active.ident\n",
    "    obj@misc$clf_data = clf_data\n",
    "    obj@misc$ann_by_level = ann_by_level\n",
    "    obj"
   ]
  },
  {
   "cell_type": "code",
   "execution_count": 74,
   "id": "97b763ee",
   "metadata": {},
   "outputs": [
    {
     "data": {
      "text/html": [
       "<table class=\"dataframe\">\n",
       "<caption>A data.frame: 2 × 1</caption>\n",
       "<thead>\n",
       "\t<tr><th></th><th scope=col>class</th></tr>\n",
       "\t<tr><th></th><th scope=col>&lt;fct&gt;</th></tr>\n",
       "</thead>\n",
       "<tbody>\n",
       "\t<tr><th scope=row>Cell10000_9129_13312_1</th><td>neuron</td></tr>\n",
       "\t<tr><th scope=row>Cell10006_3751_1404_1</th><td>other </td></tr>\n",
       "</tbody>\n",
       "</table>\n"
      ],
      "text/latex": [
       "A data.frame: 2 × 1\n",
       "\\begin{tabular}{r|l}\n",
       "  & class\\\\\n",
       "  & <fct>\\\\\n",
       "\\hline\n",
       "\tCell10000\\_9129\\_13312\\_1 & neuron\\\\\n",
       "\tCell10006\\_3751\\_1404\\_1 & other \\\\\n",
       "\\end{tabular}\n"
      ],
      "text/markdown": [
       "\n",
       "A data.frame: 2 × 1\n",
       "\n",
       "| <!--/--> | class &lt;fct&gt; |\n",
       "|---|---|\n",
       "| Cell10000_9129_13312_1 | neuron |\n",
       "| Cell10006_3751_1404_1 | other  |\n",
       "\n"
      ],
      "text/plain": [
       "                       class \n",
       "Cell10000_9129_13312_1 neuron\n",
       "Cell10006_3751_1404_1  other "
      ]
     },
     "metadata": {},
     "output_type": "display_data"
    }
   ],
   "source": [
    "obj %>% `[[` %>% distinct(class)"
   ]
  },
  {
   "cell_type": "code",
   "execution_count": null,
   "id": "89751e09",
   "metadata": {},
   "outputs": [],
   "source": []
  },
  {
   "cell_type": "code",
   "execution_count": 8,
   "id": "ef7a590f",
   "metadata": {},
   "outputs": [],
   "source": [
    "high_conf_cells = qs::qread('_targets/objects/high_conf_cells_class')"
   ]
  },
  {
   "cell_type": "code",
   "execution_count": 33,
   "id": "19af8665",
   "metadata": {},
   "outputs": [],
   "source": [
    "cells_10k = sample(high_conf_cells,size = 10000, replace = F)"
   ]
  },
  {
   "cell_type": "code",
   "execution_count": 34,
   "id": "4181cd30",
   "metadata": {
    "scrolled": true
   },
   "outputs": [
    {
     "name": "stderr",
     "output_type": "stream",
     "text": [
      "Warning message:\n",
      "“Not validating FOV objects”\n",
      "Warning message:\n",
      "“Not validating Centroids objects”\n",
      "Warning message:\n",
      "“Not validating Centroids objects”\n",
      "Warning message:\n",
      "“Not validating FOV objects”\n",
      "Warning message:\n",
      "“Not validating Centroids objects”\n",
      "Warning message:\n",
      "“Not validating FOV objects”\n",
      "Warning message:\n",
      "“Not validating FOV objects”\n",
      "Warning message:\n",
      "“Not validating FOV objects”\n",
      "Warning message:\n",
      "“Not validating Seurat objects”\n",
      "Warning message:\n",
      "“Not validating FOV objects”\n",
      "Warning message:\n",
      "“Not validating Centroids objects”\n",
      "Warning message:\n",
      "“Not validating Centroids objects”\n",
      "Warning message:\n",
      "“Not validating FOV objects”\n",
      "Warning message:\n",
      "“Not validating Centroids objects”\n",
      "Warning message:\n",
      "“Not validating FOV objects”\n",
      "Warning message:\n",
      "“Not validating FOV objects”\n",
      "Warning message:\n",
      "“Not validating FOV objects”\n",
      "Warning message:\n",
      "“Not validating Seurat objects”\n",
      "Warning message:\n",
      "“Not validating FOV objects”\n",
      "Warning message:\n",
      "“Not validating Centroids objects”\n",
      "Warning message:\n",
      "“Not validating Centroids objects”\n",
      "Warning message:\n",
      "“Not validating FOV objects”\n",
      "Warning message:\n",
      "“Not validating Centroids objects”\n",
      "Warning message:\n",
      "“Not validating FOV objects”\n",
      "Warning message:\n",
      "“Not validating FOV objects”\n",
      "Warning message:\n",
      "“Not validating FOV objects”\n",
      "Warning message:\n",
      "“Not validating Seurat objects”\n",
      "Warning message:\n",
      "“Not validating FOV objects”\n",
      "Warning message:\n",
      "“Not validating Centroids objects”\n",
      "Warning message:\n",
      "“Not validating Centroids objects”\n",
      "Warning message:\n",
      "“Not validating FOV objects”\n",
      "Warning message:\n",
      "“Not validating Centroids objects”\n",
      "Warning message:\n",
      "“Not validating FOV objects”\n",
      "Warning message:\n",
      "“Not validating FOV objects”\n",
      "Warning message:\n",
      "“Not validating FOV objects”\n",
      "Warning message:\n",
      "“Not validating Seurat objects”\n",
      "Warning message:\n",
      "“Not validating FOV objects”\n",
      "Warning message:\n",
      "“Not validating Centroids objects”\n",
      "Warning message:\n",
      "“Not validating Centroids objects”\n",
      "Warning message:\n",
      "“Not validating FOV objects”\n",
      "Warning message:\n",
      "“Not validating Centroids objects”\n",
      "Warning message:\n",
      "“Not validating FOV objects”\n",
      "Warning message:\n",
      "“Not validating FOV objects”\n",
      "Warning message:\n",
      "“Not validating FOV objects”\n",
      "Warning message:\n",
      "“Not validating Seurat objects”\n",
      "Warning message:\n",
      "“Not validating FOV objects”\n",
      "Warning message:\n",
      "“Not validating Centroids objects”\n",
      "Warning message:\n",
      "“Not validating Centroids objects”\n",
      "Warning message:\n",
      "“Not validating FOV objects”\n",
      "Warning message:\n",
      "“Not validating Centroids objects”\n",
      "Warning message:\n",
      "“Not validating FOV objects”\n",
      "Warning message:\n",
      "“Not validating FOV objects”\n",
      "Warning message:\n",
      "“Not validating FOV objects”\n",
      "Warning message:\n",
      "“Not validating Seurat objects”\n",
      "Warning message:\n",
      "“Not validating FOV objects”\n",
      "Warning message:\n",
      "“Not validating Centroids objects”\n",
      "Warning message:\n",
      "“Not validating Centroids objects”\n",
      "Warning message:\n",
      "“Not validating FOV objects”\n",
      "Warning message:\n",
      "“Not validating Centroids objects”\n",
      "Warning message:\n",
      "“Not validating FOV objects”\n",
      "Warning message:\n",
      "“Not validating FOV objects”\n",
      "Warning message:\n",
      "“Not validating FOV objects”\n",
      "Warning message:\n",
      "“Not validating Seurat objects”\n",
      "Warning message:\n",
      "“Not validating FOV objects”\n",
      "Warning message:\n",
      "“Not validating Centroids objects”\n",
      "Warning message:\n",
      "“Not validating Centroids objects”\n",
      "Warning message:\n",
      "“Not validating FOV objects”\n",
      "Warning message:\n",
      "“Not validating Centroids objects”\n",
      "Warning message:\n",
      "“Not validating FOV objects”\n",
      "Warning message:\n",
      "“Not validating FOV objects”\n",
      "Warning message:\n",
      "“Not validating FOV objects”\n",
      "Warning message:\n",
      "“Not validating Seurat objects”\n"
     ]
    }
   ],
   "source": [
    "obj = obj %>% subset(cells = high_conf_cells) %>% subset(cells = cells_10k)"
   ]
  },
  {
   "cell_type": "code",
   "execution_count": 35,
   "id": "f826f6eb",
   "metadata": {},
   "outputs": [
    {
     "data": {
      "text/plain": [
       "An object of class Seurat \n",
       "500 features across 10000 samples within 5 assays \n",
       "Active assay: SCT (100 features, 99 variable features)\n",
       " 3 layers present: counts, data, scale.data\n",
       " 4 other assays present: Xenium, BlankCodeword, ControlCodeword, ControlProbe\n",
       " 2 dimensional reductions calculated: pca, umap\n",
       " 8 spatial fields of view present: fov fov.2 fov.3 fov.4 fov.5 fov.6 fov.7 fov.8"
      ]
     },
     "metadata": {},
     "output_type": "display_data"
    }
   ],
   "source": [
    "obj"
   ]
  },
  {
   "cell_type": "code",
   "execution_count": 43,
   "id": "5aca4b73",
   "metadata": {},
   "outputs": [],
   "source": [
    "selected_cells = obj %>% `[[` %>% filter(class == 'neuron') %>% rownames"
   ]
  },
  {
   "cell_type": "code",
   "execution_count": 45,
   "id": "414af4ff",
   "metadata": {},
   "outputs": [
    {
     "data": {
      "text/html": [
       "4880"
      ],
      "text/latex": [
       "4880"
      ],
      "text/markdown": [
       "4880"
      ],
      "text/plain": [
       "[1] 4880"
      ]
     },
     "metadata": {},
     "output_type": "display_data"
    }
   ],
   "source": [
    "selected_cells %>% length"
   ]
  },
  {
   "cell_type": "code",
   "execution_count": 28,
   "id": "2c3a965f",
   "metadata": {},
   "outputs": [
    {
     "name": "stderr",
     "output_type": "stream",
     "text": [
      "Warning message:\n",
      "“Not validating FOV objects”\n",
      "Warning message:\n",
      "“Not validating Centroids objects”\n",
      "Warning message:\n",
      "“Not validating Centroids objects”\n",
      "Warning message:\n",
      "“Not validating FOV objects”\n",
      "Warning message:\n",
      "“Not validating Centroids objects”\n",
      "Warning message:\n",
      "“Not validating FOV objects”\n",
      "Warning message:\n",
      "“Not validating FOV objects”\n",
      "Warning message:\n",
      "“Not validating FOV objects”\n",
      "Warning message:\n",
      "“Not validating Seurat objects”\n",
      "Warning message:\n",
      "“Not validating FOV objects”\n"
     ]
    },
    {
     "ename": "ERROR",
     "evalue": "Error in subset.Centroids(x = x[[i]], cells = cells): None of the requested cells found\n",
     "output_type": "error",
     "traceback": [
      "Error in subset.Centroids(x = x[[i]], cells = cells): None of the requested cells found\nTraceback:\n",
      "1. obj %>% subset(cells = selected_cells)",
      "2. subset(., cells = selected_cells)",
      "3. subset.Seurat(., cells = selected_cells)",
      "4. base::subset(x = x[[image]], cells = cells)",
      "5. subset.FOV(x = x[[image]], cells = cells)",
      "6. subset(x = x[[i]], cells = cells)",
      "7. subset.Centroids(x = x[[i]], cells = cells)",
      "8. stop(\"None of the requested cells found\")"
     ]
    }
   ],
   "source": [
    "obj = obj %>% subset(cells = selected_cells)"
   ]
  },
  {
   "cell_type": "code",
   "execution_count": 26,
   "id": "5edbda22",
   "metadata": {},
   "outputs": [
    {
     "data": {
      "text/plain": [
       "An object of class Seurat \n",
       "500 features across 39882 samples within 5 assays \n",
       "Active assay: SCT (100 features, 99 variable features)\n",
       " 3 layers present: counts, data, scale.data\n",
       " 4 other assays present: Xenium, BlankCodeword, ControlCodeword, ControlProbe\n",
       " 2 dimensional reductions calculated: pca, umap\n",
       " 8 spatial fields of view present: fov fov.2 fov.3 fov.4 fov.5 fov.6 fov.7 fov.8"
      ]
     },
     "metadata": {},
     "output_type": "display_data"
    }
   ],
   "source": [
    "obj"
   ]
  },
  {
   "cell_type": "code",
   "execution_count": 23,
   "id": "7cdcc575",
   "metadata": {},
   "outputs": [
    {
     "data": {
      "text/html": [
       "39882"
      ],
      "text/latex": [
       "39882"
      ],
      "text/markdown": [
       "39882"
      ],
      "text/plain": [
       "[1] 39882"
      ]
     },
     "metadata": {},
     "output_type": "display_data"
    }
   ],
   "source": [
    "high_conf_cells %>% length"
   ]
  },
  {
   "cell_type": "code",
   "execution_count": null,
   "id": "f4def9c5",
   "metadata": {},
   "outputs": [],
   "source": []
  }
 ],
 "metadata": {
  "kernelspec": {
   "display_name": "R [conda env:fgf1]",
   "language": "R",
   "name": "conda-env-fgf1-r"
  },
  "language_info": {
   "codemirror_mode": "r",
   "file_extension": ".r",
   "mimetype": "text/x-r-source",
   "name": "R",
   "pygments_lexer": "r",
   "version": "4.1.3"
  }
 },
 "nbformat": 4,
 "nbformat_minor": 5
}
