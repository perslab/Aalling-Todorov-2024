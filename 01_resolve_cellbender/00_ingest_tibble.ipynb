{
 "cells": [
  {
   "cell_type": "code",
   "execution_count": 1,
   "id": "15eaefa1",
   "metadata": {},
   "outputs": [
    {
     "name": "stderr",
     "output_type": "stream",
     "text": [
      "── \u001b[1mAttaching packages\u001b[22m ─────────────────────────────────────── tidyverse 1.3.2 ──\n",
      "\u001b[32m✔\u001b[39m \u001b[34mggplot2\u001b[39m 3.4.2     \u001b[32m✔\u001b[39m \u001b[34mpurrr  \u001b[39m 0.3.4\n",
      "\u001b[32m✔\u001b[39m \u001b[34mtibble \u001b[39m 3.2.1     \u001b[32m✔\u001b[39m \u001b[34mdplyr  \u001b[39m 1.1.2\n",
      "\u001b[32m✔\u001b[39m \u001b[34mtidyr  \u001b[39m 1.2.1     \u001b[32m✔\u001b[39m \u001b[34mstringr\u001b[39m 1.4.1\n",
      "\u001b[32m✔\u001b[39m \u001b[34mreadr  \u001b[39m 2.1.2     \u001b[32m✔\u001b[39m \u001b[34mforcats\u001b[39m 0.5.2\n",
      "── \u001b[1mConflicts\u001b[22m ────────────────────────────────────────── tidyverse_conflicts() ──\n",
      "\u001b[31m✖\u001b[39m \u001b[34mdplyr\u001b[39m::\u001b[32mfilter()\u001b[39m masks \u001b[34mstats\u001b[39m::filter()\n",
      "\u001b[31m✖\u001b[39m \u001b[34mdplyr\u001b[39m::\u001b[32mlag()\u001b[39m    masks \u001b[34mstats\u001b[39m::lag()\n"
     ]
    }
   ],
   "source": [
    "library(tidyverse)"
   ]
  },
  {
   "cell_type": "code",
   "execution_count": 2,
   "id": "343d26db",
   "metadata": {},
   "outputs": [],
   "source": [
    "slide_names <- c(\"32810-1377-slide3_A1-1\", \"32810-1377-slide3_A2-1\", \"32810-1377-slide3_B1-1\", \n",
    "    \"32810-1377-slide3_B2-1\", \"32810-1377-slide3_C1-1\", \"32810-1377-slide3_C2-1\", \n",
    "    \"32810-1377-slide3_D1-1\", \"32810-1377-slide3_D2-1\")"
   ]
  },
  {
   "cell_type": "code",
   "execution_count": 3,
   "id": "6c1f0b19",
   "metadata": {},
   "outputs": [
    {
     "data": {
      "text/html": [
       "<table class=\"dataframe\">\n",
       "<caption>A tibble: 8 × 2</caption>\n",
       "<thead>\n",
       "\t<tr><th scope=col>slide_names</th><th scope=col>sample_names</th></tr>\n",
       "\t<tr><th scope=col>&lt;chr&gt;</th><th scope=col>&lt;chr&gt;</th></tr>\n",
       "</thead>\n",
       "<tbody>\n",
       "\t<tr><td>32810-1377-slide3_A1-1</td><td>A1</td></tr>\n",
       "\t<tr><td>32810-1377-slide3_A2-1</td><td>A2</td></tr>\n",
       "\t<tr><td>32810-1377-slide3_B1-1</td><td>B1</td></tr>\n",
       "\t<tr><td>32810-1377-slide3_B2-1</td><td>B2</td></tr>\n",
       "\t<tr><td>32810-1377-slide3_C1-1</td><td>C1</td></tr>\n",
       "\t<tr><td>32810-1377-slide3_C2-1</td><td>C2</td></tr>\n",
       "\t<tr><td>32810-1377-slide3_D1-1</td><td>D1</td></tr>\n",
       "\t<tr><td>32810-1377-slide3_D2-1</td><td>D2</td></tr>\n",
       "</tbody>\n",
       "</table>\n"
      ],
      "text/latex": [
       "A tibble: 8 × 2\n",
       "\\begin{tabular}{ll}\n",
       " slide\\_names & sample\\_names\\\\\n",
       " <chr> & <chr>\\\\\n",
       "\\hline\n",
       "\t 32810-1377-slide3\\_A1-1 & A1\\\\\n",
       "\t 32810-1377-slide3\\_A2-1 & A2\\\\\n",
       "\t 32810-1377-slide3\\_B1-1 & B1\\\\\n",
       "\t 32810-1377-slide3\\_B2-1 & B2\\\\\n",
       "\t 32810-1377-slide3\\_C1-1 & C1\\\\\n",
       "\t 32810-1377-slide3\\_C2-1 & C2\\\\\n",
       "\t 32810-1377-slide3\\_D1-1 & D1\\\\\n",
       "\t 32810-1377-slide3\\_D2-1 & D2\\\\\n",
       "\\end{tabular}\n"
      ],
      "text/markdown": [
       "\n",
       "A tibble: 8 × 2\n",
       "\n",
       "| slide_names &lt;chr&gt; | sample_names &lt;chr&gt; |\n",
       "|---|---|\n",
       "| 32810-1377-slide3_A1-1 | A1 |\n",
       "| 32810-1377-slide3_A2-1 | A2 |\n",
       "| 32810-1377-slide3_B1-1 | B1 |\n",
       "| 32810-1377-slide3_B2-1 | B2 |\n",
       "| 32810-1377-slide3_C1-1 | C1 |\n",
       "| 32810-1377-slide3_C2-1 | C2 |\n",
       "| 32810-1377-slide3_D1-1 | D1 |\n",
       "| 32810-1377-slide3_D2-1 | D2 |\n",
       "\n"
      ],
      "text/plain": [
       "  slide_names            sample_names\n",
       "1 32810-1377-slide3_A1-1 A1          \n",
       "2 32810-1377-slide3_A2-1 A2          \n",
       "3 32810-1377-slide3_B1-1 B1          \n",
       "4 32810-1377-slide3_B2-1 B2          \n",
       "5 32810-1377-slide3_C1-1 C1          \n",
       "6 32810-1377-slide3_C2-1 C2          \n",
       "7 32810-1377-slide3_D1-1 D1          \n",
       "8 32810-1377-slide3_D2-1 D2          "
      ]
     },
     "metadata": {},
     "output_type": "display_data"
    }
   ],
   "source": [
    "tibble(slide_names = slide_names) %>%\n",
    "mutate(sample_names = slide_names %>%\n",
    "  str_extract(\"(?<=slide3_)[A-Z]\\\\d(?=-)\") %>%\n",
    "  as.vector())"
   ]
  },
  {
   "cell_type": "code",
   "execution_count": 4,
   "id": "e11538b6",
   "metadata": {},
   "outputs": [
    {
     "data": {
      "text/html": [
       "<style>\n",
       ".list-inline {list-style: none; margin:0; padding: 0}\n",
       ".list-inline>li {display: inline-block}\n",
       ".list-inline>li:not(:last-child)::after {content: \"\\00b7\"; padding: 0 .5ex}\n",
       "</style>\n",
       "<ol class=list-inline><li>'A1'</li><li>'A2'</li><li>'B1'</li><li>'B2'</li><li>'C1'</li><li>'C2'</li><li>'D1'</li><li>'D2'</li></ol>\n"
      ],
      "text/latex": [
       "\\begin{enumerate*}\n",
       "\\item 'A1'\n",
       "\\item 'A2'\n",
       "\\item 'B1'\n",
       "\\item 'B2'\n",
       "\\item 'C1'\n",
       "\\item 'C2'\n",
       "\\item 'D1'\n",
       "\\item 'D2'\n",
       "\\end{enumerate*}\n"
      ],
      "text/markdown": [
       "1. 'A1'\n",
       "2. 'A2'\n",
       "3. 'B1'\n",
       "4. 'B2'\n",
       "5. 'C1'\n",
       "6. 'C2'\n",
       "7. 'D1'\n",
       "8. 'D2'\n",
       "\n",
       "\n"
      ],
      "text/plain": [
       "[1] \"A1\" \"A2\" \"B1\" \"B2\" \"C1\" \"C2\" \"D1\" \"D2\""
      ]
     },
     "metadata": {},
     "output_type": "display_data"
    }
   ],
   "source": [
    "slide_names %>% str_extract(\"(?<=slide3_)[A-Z]\\\\d(?=-)\")"
   ]
  },
  {
   "cell_type": "code",
   "execution_count": 5,
   "id": "b6104d5f",
   "metadata": {},
   "outputs": [
    {
     "data": {
      "text/html": [
       "<table class=\"dataframe\">\n",
       "<caption>A tibble: 8 × 4</caption>\n",
       "<thead>\n",
       "\t<tr><th scope=col>sample_name</th><th scope=col>treatment</th><th scope=col>strain</th><th scope=col>time</th></tr>\n",
       "\t<tr><th scope=col>&lt;chr&gt;</th><th scope=col>&lt;chr&gt;</th><th scope=col>&lt;chr&gt;</th><th scope=col>&lt;chr&gt;</th></tr>\n",
       "</thead>\n",
       "<tbody>\n",
       "\t<tr><td>A1</td><td>Veh_PF</td><td>obob</td><td>Day5</td></tr>\n",
       "\t<tr><td>A2</td><td>Veh_PF</td><td>obob</td><td>Day5</td></tr>\n",
       "\t<tr><td>B1</td><td>Veh_PF</td><td>obob</td><td>Day5</td></tr>\n",
       "\t<tr><td>B2</td><td>Veh_PF</td><td>obob</td><td>Day5</td></tr>\n",
       "\t<tr><td>C1</td><td>FGF1  </td><td>obob</td><td>Day5</td></tr>\n",
       "\t<tr><td>C2</td><td>FGF1  </td><td>obob</td><td>Day5</td></tr>\n",
       "\t<tr><td>D1</td><td>FGF1  </td><td>obob</td><td>Day5</td></tr>\n",
       "\t<tr><td>D2</td><td>FGF1  </td><td>obob</td><td>Day5</td></tr>\n",
       "</tbody>\n",
       "</table>\n"
      ],
      "text/latex": [
       "A tibble: 8 × 4\n",
       "\\begin{tabular}{llll}\n",
       " sample\\_name & treatment & strain & time\\\\\n",
       " <chr> & <chr> & <chr> & <chr>\\\\\n",
       "\\hline\n",
       "\t A1 & Veh\\_PF & obob & Day5\\\\\n",
       "\t A2 & Veh\\_PF & obob & Day5\\\\\n",
       "\t B1 & Veh\\_PF & obob & Day5\\\\\n",
       "\t B2 & Veh\\_PF & obob & Day5\\\\\n",
       "\t C1 & FGF1   & obob & Day5\\\\\n",
       "\t C2 & FGF1   & obob & Day5\\\\\n",
       "\t D1 & FGF1   & obob & Day5\\\\\n",
       "\t D2 & FGF1   & obob & Day5\\\\\n",
       "\\end{tabular}\n"
      ],
      "text/markdown": [
       "\n",
       "A tibble: 8 × 4\n",
       "\n",
       "| sample_name &lt;chr&gt; | treatment &lt;chr&gt; | strain &lt;chr&gt; | time &lt;chr&gt; |\n",
       "|---|---|---|---|\n",
       "| A1 | Veh_PF | obob | Day5 |\n",
       "| A2 | Veh_PF | obob | Day5 |\n",
       "| B1 | Veh_PF | obob | Day5 |\n",
       "| B2 | Veh_PF | obob | Day5 |\n",
       "| C1 | FGF1   | obob | Day5 |\n",
       "| C2 | FGF1   | obob | Day5 |\n",
       "| D1 | FGF1   | obob | Day5 |\n",
       "| D2 | FGF1   | obob | Day5 |\n",
       "\n"
      ],
      "text/plain": [
       "  sample_name treatment strain time\n",
       "1 A1          Veh_PF    obob   Day5\n",
       "2 A2          Veh_PF    obob   Day5\n",
       "3 B1          Veh_PF    obob   Day5\n",
       "4 B2          Veh_PF    obob   Day5\n",
       "5 C1          FGF1      obob   Day5\n",
       "6 C2          FGF1      obob   Day5\n",
       "7 D1          FGF1      obob   Day5\n",
       "8 D2          FGF1      obob   Day5"
      ]
     },
     "metadata": {},
     "output_type": "display_data"
    }
   ],
   "source": [
    "tib = tibble(slide_name = slide_names) %>%\n",
    "  mutate(sample_name = slide_names %>%\n",
    "           str_extract(\"(?<=slide3_)[A-Z]\\\\d(?=-)\") %>%\n",
    "           as.vector(),\n",
    "         treatment = case_when(\n",
    "           str_detect(sample_name, \"^[AB]\") ~ \"Veh_PF\",\n",
    "           str_detect(sample_name, \"^[CD]\") ~ \"FGF1\",\n",
    "           TRUE ~ NA_character_),\n",
    "         strain = \"obob\",\n",
    "         time = \"Day5\") %>%\n",
    "  select(-slide_name)\n",
    "\n",
    "tib %>% qs::qsave('00_ingest_tibble.qs')\n",
    "tib"
   ]
  },
  {
   "cell_type": "code",
   "execution_count": null,
   "id": "44bf0934",
   "metadata": {},
   "outputs": [],
   "source": []
  }
 ],
 "metadata": {
  "kernelspec": {
   "display_name": "R [conda env:fgf1]",
   "language": "R",
   "name": "conda-env-fgf1-r"
  },
  "language_info": {
   "codemirror_mode": "r",
   "file_extension": ".r",
   "mimetype": "text/x-r-source",
   "name": "R",
   "pygments_lexer": "r",
   "version": "4.1.3"
  }
 },
 "nbformat": 4,
 "nbformat_minor": 5
}
