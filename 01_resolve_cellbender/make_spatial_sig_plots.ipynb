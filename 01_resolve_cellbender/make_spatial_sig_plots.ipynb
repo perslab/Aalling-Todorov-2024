{
 "cells": [
  {
   "cell_type": "code",
   "execution_count": null,
   "id": "2b85b5f0",
   "metadata": {},
   "outputs": [],
   "source": [
    "library(tidyverse)\n",
    "library(nnet)\n",
    "library(purrr)\n",
    "library(furrr)\n",
    "library(lme4)\n",
    "library(ggplot2)\n",
    "library(patchwork)\n",
    "library(ggbeeswarm)\n",
    "\n",
    "\n",
    "options(ggrepel.max.overlaps = Inf)"
   ]
  },
  {
   "cell_type": "code",
   "execution_count": null,
   "id": "8c8c5f3b",
   "metadata": {},
   "outputs": [],
   "source": [
    "# xe_obj = qs::qread('230710_xenium_sct_unimapped_cca_polar_label.qs')\n",
    "xe_obj_path = '_targets/objects/xe_obj_cca_td_2s'\n",
    "xe_obj = qs::qread(xe_obj_path)\n",
    "xe_obj@meta.data = xe_obj@meta.data %>%\n",
    "mutate(predicted.polar_label = polar_label) %>%\n",
    "filter(!is.na(predicted.polar_label))\n",
    "\n",
    "xe_obj"
   ]
  },
  {
   "cell_type": "code",
   "execution_count": null,
   "id": "6775f997",
   "metadata": {},
   "outputs": [],
   "source": [
    "# mutate(polar_label = predicted.polar_label_2s) %>% #only for manual object\n",
    "# mutate(predicted.polar_label = polar_label) %>% #only for manual object"
   ]
  },
  {
   "cell_type": "code",
   "execution_count": null,
   "id": "9a6f5847",
   "metadata": {},
   "outputs": [],
   "source": []
  },
  {
   "cell_type": "code",
   "execution_count": null,
   "id": "0bac4d96",
   "metadata": {},
   "outputs": [],
   "source": [
    "xe_obj@assays$Xenium %>% Features"
   ]
  },
  {
   "cell_type": "code",
   "execution_count": null,
   "id": "32b3789a",
   "metadata": {},
   "outputs": [],
   "source": []
  },
  {
   "cell_type": "code",
   "execution_count": null,
   "id": "d3486d43",
   "metadata": {},
   "outputs": [],
   "source": [
    "xe_obj %>% `[[` %>% pull(predicted.polar_label) %>% unique"
   ]
  },
  {
   "cell_type": "code",
   "execution_count": null,
   "id": "8baaaf48",
   "metadata": {},
   "outputs": [],
   "source": [
    "xe_obj %>%\n",
    "`[[` %>%\n",
    "rownames %>% length"
   ]
  },
  {
   "cell_type": "code",
   "execution_count": null,
   "id": "71da0569",
   "metadata": {},
   "outputs": [],
   "source": [
    "xe_obj@meta.data %>% colnames"
   ]
  },
  {
   "cell_type": "code",
   "execution_count": null,
   "id": "39dc5092",
   "metadata": {},
   "outputs": [],
   "source": [
    "meta = xe_obj@meta.data"
   ]
  },
  {
   "cell_type": "code",
   "execution_count": null,
   "id": "f0151548",
   "metadata": {
    "scrolled": true
   },
   "outputs": [],
   "source": [
    "summary_df = xe_obj %>% \n",
    "`[[` %>%\n",
    "group_by(treatment, predicted.polar_label) %>%\n",
    "summarise(n = n()) %>%\n",
    "pivot_wider(names_from = treatment, values_from = n) %>%\n",
    "mutate(predicted.label = predicted.polar_label %>% str_replace(fixed('.neg'), '') %>% str_replace(fixed('.none'), '') %>% str_replace(fixed('.pos'), '')) %>%\n",
    "rowwise %>%\n",
    "mutate(polarity = str_split(predicted.polar_label, fixed('.')) %>% unlist %>% `[[`(2)) %>%\n",
    "ungroup %>%\n",
    "group_by(predicted.label) %>%\n",
    "mutate(FGF1_label_count = sum(FGF1)) %>%\n",
    "mutate(VehPF_label_count = sum(Veh_PF)) %>%\n",
    "mutate(label_diff = FGF1_label_count-VehPF_label_count) %>%\n",
    "mutate(label_diff_frac = label_diff/VehPF_label_count) %>%\n",
    "mutate(FGF1_minus_VehPF_polar = FGF1 - Veh_PF) %>%\n",
    "relocate(FGF1_minus_VehPF_polar, .after='Veh_PF') %>%\n",
    "ungroup %>%\n",
    "mutate(sum_FGF1_all = sum(FGF1, na.rm = TRUE)) %>%\n",
    "mutate(sum_VehPF_all = sum(Veh_PF, na.rm=TRUE)) %>%\n",
    "mutate(FGF1_minus_VehPF_all = sum_FGF1_all - sum_VehPF_all) %>%\n",
    "arrange(desc(abs(label_diff)))\n",
    "\n",
    "\n",
    "summary_df"
   ]
  },
  {
   "cell_type": "code",
   "execution_count": null,
   "id": "1313cc52",
   "metadata": {},
   "outputs": [],
   "source": [
    "summary_df %>% filter(str_detect(predicted.polar_label,'Oligodendrocytes'))"
   ]
  },
  {
   "cell_type": "code",
   "execution_count": null,
   "id": "24f3e8fc",
   "metadata": {},
   "outputs": [],
   "source": [
    "summary_df %>% filter(str_detect(predicted.polar_label,'OPC'))"
   ]
  },
  {
   "cell_type": "code",
   "execution_count": null,
   "id": "3abc9767",
   "metadata": {},
   "outputs": [],
   "source": [
    "summary_df %>% filter(str_detect(predicted.polar_label,'Agrp'))"
   ]
  },
  {
   "cell_type": "code",
   "execution_count": null,
   "id": "05639a57",
   "metadata": {
    "scrolled": true
   },
   "outputs": [],
   "source": [
    "comparison_df = xe_obj %>% \n",
    "`[[` %>%\n",
    "rownames_to_column(var = 'cell') %>%\n",
    "dplyr::select(cell, sample_name, treatment, predicted.polar_label) %>%\n",
    "rowwise %>%\n",
    "mutate(label = predicted.polar_label %>% str_replace(\"\\\\.(pos|neg|none)$\", ''),\n",
    "       polarity = predicted.polar_label %>% str_split(fixed('.')) %>% unlist %>% last) %>%\n",
    "mutate(treatment = factor(treatment, levels=c('Veh_PF', 'FGF1'))) %>%\n",
    "mutate(polarity = factor(polarity, levels = c('none', 'neg', 'pos'))) %>% \n",
    "group_by(sample_name) %>%\n",
    "mutate(sample_cell_count = n()) %>%\n",
    "group_by(sample_name, label) %>%\n",
    "mutate(sample_label_cell_count = n()) %>%\n",
    "ungroup\n",
    "\n",
    "comparison_df %>% print"
   ]
  },
  {
   "cell_type": "code",
   "execution_count": null,
   "id": "950c4227",
   "metadata": {
    "scrolled": true
   },
   "outputs": [],
   "source": [
    "comparison_df %>% group_by(label) %>% summarise(polarities = list(polarity %>% droplevels %>% levels))"
   ]
  },
  {
   "cell_type": "code",
   "execution_count": null,
   "id": "21e7d582",
   "metadata": {},
   "outputs": [],
   "source": [
    "df = comparison_df %>% filter(label == 'Oligodendrocytes') %>%\n",
    "mutate(polarity = polarity %>% relevel(ref = 'none')) %>%\n",
    "mutate(polarity =  polarity %>% droplevels)\n",
    "df %>% print"
   ]
  },
  {
   "cell_type": "code",
   "execution_count": null,
   "id": "cd2e5f8c",
   "metadata": {},
   "outputs": [],
   "source": [
    "make_input_df = function(comparison_df_chunk){\n",
    "    input_df = comparison_df_chunk %>%\n",
    "        mutate(polarity = polarity %>% relevel(ref = 'none')) %>%\n",
    "        mutate(polarity =  polarity %>% droplevels)\n",
    "    input_df\n",
    "}"
   ]
  },
  {
   "cell_type": "code",
   "execution_count": null,
   "id": "7de6450b",
   "metadata": {},
   "outputs": [],
   "source": []
  },
  {
   "cell_type": "code",
   "execution_count": null,
   "id": "11cd1775",
   "metadata": {},
   "outputs": [],
   "source": [
    "fit_multinom = function(input_df){\n",
    "    # Fit the multinomial logistic regression model\n",
    "    model <- multinom(polarity ~ treatment + sample_name, data = input_df)\n",
    "#     model <- multinom(polarity ~ treatment, data = input_df)\n",
    "    model\n",
    "}"
   ]
  },
  {
   "cell_type": "code",
   "execution_count": null,
   "id": "4328f3d9",
   "metadata": {},
   "outputs": [],
   "source": [
    "get_multinom_coef = function(model){\n",
    "    coefs = summary(model)$coefficients\n",
    "    coefs\n",
    "}\n",
    "\n",
    "get_multinom_zvalues = function(model){\n",
    "    zvalues = summary(model)$coefficients / summary(model)$standard.errors\n",
    "    zvalues\n",
    "}\n",
    "\n",
    "get_multinom_pvalues = function(zvalues){\n",
    "    pvalues = 2 * (1 - pnorm(abs(zvalues)))\n",
    "    pvalues\n",
    "}\n",
    "\n"
   ]
  },
  {
   "cell_type": "code",
   "execution_count": null,
   "id": "cec1abfd",
   "metadata": {},
   "outputs": [],
   "source": [
    ".get_results_long_to_wide_df = function(results, polarity_name, value.type){\n",
    "    results_df = results %>% as.data.frame %>%\n",
    "    set_names(polarity_name) %>%\n",
    "#     set_names(input_df %>% pull(polarity) %>% levels %>% last) %>% \n",
    "    t %>% as.data.frame %>%\n",
    "    mutate(value_type = value.type) %>%\n",
    "    rownames_to_column %>%\n",
    "    relocate(value_type, .after='polarity')\n",
    "    results_df\n",
    "}"
   ]
  },
  {
   "cell_type": "code",
   "execution_count": null,
   "id": "32123475",
   "metadata": {},
   "outputs": [],
   "source": [
    ".get_results_already_wide_df = function(results, value.type){\n",
    "    results_df = results %>% \n",
    "    as.data.frame %>%\n",
    "    rownames_to_column(var = 'polarity') %>%\n",
    "    mutate(value_type = value.type) %>%\n",
    "    relocate(value_type, .after='polarity')\n",
    "    results_df\n",
    "}"
   ]
  },
  {
   "cell_type": "code",
   "execution_count": null,
   "id": "adbf3522",
   "metadata": {},
   "outputs": [],
   "source": [
    "make_multinom_results_df = function(df){\n",
    "    input_df = make_input_df(df)\n",
    "    model = fit_multinom(input_df)\n",
    "    zvalues = model %>% get_multinom_zvalues\n",
    "    pvalues = zvalues %>% get_multinom_pvalues\n",
    "    coefs = model %>% get_multinom_coef\n",
    "    polarity_levels = input_df %>% pull(polarity) %>% levels\n",
    "    if (length(polarity_levels) > 2){\n",
    "        zvalues_df = .get_results_already_wide_df(zvalues, 'zvalue')\n",
    "        pvalues_df = .get_results_already_wide_df(pvalues, 'pvalue')\n",
    "        coefs_df = .get_results_already_wide_df(coefs, 'coef')\n",
    "    } else {\n",
    "        polarity_name = polarity_levels %>% last\n",
    "        zvalues_df = .get_results_long_to_wide_df(zvalues, polarity_name, 'zvalue')\n",
    "        pvalues_df = .get_results_long_to_wide_df(pvalues, polarity_name, 'pvalue')\n",
    "        coefs_df = .get_results_long_to_wide_df(coefs, polarity_name, 'pvalue')\n",
    "    }\n",
    "    results_df = rbind(pvalues_df, zvalues_df, coefs_df) %>%\n",
    "    mutate(label = input_df %>% distinct(label) %>% pull) %>%\n",
    "    relocate(label)\n",
    "    results_df\n",
    "}"
   ]
  },
  {
   "cell_type": "code",
   "execution_count": null,
   "id": "9ed82c34",
   "metadata": {},
   "outputs": [],
   "source": [
    "make_multinom_results_df_safe = function(df){\n",
    "    results_df = tryCatch(\n",
    "        make_multinom_results_df(df),\n",
    "        error = function(e) data.frame()\n",
    "    )\n",
    "    results_df\n",
    "}"
   ]
  },
  {
   "cell_type": "code",
   "execution_count": null,
   "id": "62cbe6cb",
   "metadata": {},
   "outputs": [],
   "source": [
    "#no idea why I removed this\n",
    "# comparison_df_f = comparison_df %>%\n",
    "# filter(!(sample_name == 'D2' & label == 'Agrp'))\n",
    "\n",
    "# entire comparison_df\n",
    "comparison_df_f = comparison_df "
   ]
  },
  {
   "cell_type": "code",
   "execution_count": null,
   "id": "eef84ba0",
   "metadata": {},
   "outputs": [],
   "source": [
    "#no idea why I removed this\n",
    "# comparison_df_f = comparison_df %>%\n",
    "# filter(!(sample_name == 'C2' & label == 'Rgs16_Dlx1'))\n",
    "comparison_df_f = comparison_df \n",
    "# entire comparison_df\n"
   ]
  },
  {
   "cell_type": "code",
   "execution_count": null,
   "id": "7b83c8c0",
   "metadata": {
    "scrolled": true
   },
   "outputs": [],
   "source": [
    "# Group the dataframe by label and fit glmer model in parallel\n",
    "results_df_list <- comparison_df_f %>%\n",
    "  group_split(label) %>%\n",
    "  map(function(subset) {\n",
    "      result_list = subset %>% make_multinom_results_df_safe\n",
    "      result_list\n",
    "  })\n",
    "\n",
    "results_df = results_df_list %>% bind_rows\n"
   ]
  },
  {
   "cell_type": "code",
   "execution_count": null,
   "id": "9b2f98ce",
   "metadata": {},
   "outputs": [],
   "source": [
    "results_df %>% head # all Agrp"
   ]
  },
  {
   "cell_type": "code",
   "execution_count": null,
   "id": "b1c82f04",
   "metadata": {},
   "outputs": [],
   "source": [
    "polarity_sig_df = results_df %>% \n",
    "select(label, polarity, treatmentFGF1, value_type) %>% distinct %>%\n",
    "# group_by(label, polarity) %>%\n",
    "pivot_wider(names_from = 'value_type', values_from = 'treatmentFGF1') %>%\n",
    "rename(pval = pvalue, z = zvalue) %>%\n",
    "ungroup %>%\n",
    "mutate(pval_corrected = p.adjust(pval, method = \"BH\")) %>%\n",
    "arrange(label) %>% \n",
    "mutate(significant = case_when(pval < 0.05 ~ '**',\n",
    "                                TRUE ~ '')) %>%\n",
    "mutate(significant_adj = case_when(pval_corrected < 0.05 ~ '**',\n",
    "                               TRUE ~ '')) %>%\n",
    "relocate(pval, coef, z, significant, significant_adj, .after='polarity') %>%\n",
    "mutate(z = case_when(abs(z) > 8 ~ sign(z)*8,\n",
    "                     TRUE ~ z))\n",
    "\n",
    "polarity_sig_df"
   ]
  },
  {
   "cell_type": "code",
   "execution_count": null,
   "id": "8154120a",
   "metadata": {},
   "outputs": [],
   "source": [
    "get_glmer_pvalue = function(model){\n",
    "    model_summary = summary(model)\n",
    "    pvalue = model_summary %>% \n",
    "        `[[`('coefficients') %>%\n",
    "        as.data.frame %>%\n",
    "        dplyr::select(any_of('Pr(>|z|)')) %>%\n",
    "        rownames_to_column %>%\n",
    "        filter(rowname == 'treatmentFGF1') %>%\n",
    "        pull('Pr(>|z|)')\n",
    "    pvalue\n",
    "}\n",
    "\n",
    "get_glmer_coef = function(model){\n",
    "    model_summary = summary(model)\n",
    "    coef = model_summary %>% \n",
    "        `[[`('coefficients') %>%\n",
    "        as.data.frame %>%\n",
    "        dplyr::select(any_of('Estimate')) %>%\n",
    "        rownames_to_column %>%\n",
    "        filter(rowname == 'treatmentFGF1') %>%\n",
    "        pull('Estimate')\n",
    "    coef\n",
    "}"
   ]
  },
  {
   "cell_type": "code",
   "execution_count": null,
   "id": "06cdb275",
   "metadata": {},
   "outputs": [],
   "source": [
    "make_result = function(subset){\n",
    "    result_name = subset %>% distinct(label) %>% pull\n",
    "    model = tryCatch(\n",
    "      glmer(polarity ~ treatment + (1 | sample_name), data = subset, family = binomial),\n",
    "      error = function(e) NA\n",
    "    )\n",
    "    pval = tryCatch(\n",
    "               get_glmer_pvalue(model),\n",
    "               error = function(e) 1\n",
    "           )\n",
    "    coef = tryCatch(\n",
    "           get_glmer_coef(model),\n",
    "           error = function(e) NA\n",
    "       )\n",
    "    result_list = list(name = result_name,\n",
    "                       pval = pval,\n",
    "                       coef = coef,\n",
    "                       model = model)\n",
    "    result_list\n",
    "}"
   ]
  },
  {
   "cell_type": "code",
   "execution_count": null,
   "id": "0dfa231e",
   "metadata": {
    "scrolled": true
   },
   "outputs": [],
   "source": [
    "\n",
    "\n",
    "# Group the dataframe by label and fit glmer model in parallel\n",
    "models <- comparison_df %>%\n",
    "  group_split(label) %>%\n",
    "  map(function(subset) {\n",
    "      result_list = subset %>% make_result\n",
    "      result_list\n",
    "  })\n"
   ]
  },
  {
   "cell_type": "code",
   "execution_count": null,
   "id": "b4f97b9a",
   "metadata": {
    "scrolled": true
   },
   "outputs": [],
   "source": [
    "\n",
    "\n",
    "# Combine models into a tibble\n",
    "result <- map_dfr(models, ~ tibble(label = .x$name, pval = .x$pval, coef = .x$coef))\n",
    "\n",
    "# Print the result\n",
    "result %>% arrange(pval)\n"
   ]
  },
  {
   "cell_type": "code",
   "execution_count": null,
   "id": "3bd59173",
   "metadata": {},
   "outputs": [],
   "source": [
    "make_glmer_result_ncells = function(comparison_df, current_ct){\n",
    "    comparison_df_1vr = comparison_df %>%\n",
    "        mutate(test_label = case_when(label == current_ct ~ current_ct,\n",
    "                                      TRUE ~ 'other')) %>%\n",
    "        mutate(test_label = factor(test_label, levels=c('other', current_ct)))\n",
    "    print(dim(comparison_df_1vr))\n",
    "    model = tryCatch(\n",
    "      glmer(test_label ~ treatment + (1 | sample_name), data = comparison_df_1vr, family = binomial),\n",
    "      error = function(e) NA\n",
    "    )\n",
    "    pval = tryCatch(\n",
    "               get_glmer_pvalue(model),\n",
    "               error = function(e) 1\n",
    "           )\n",
    "    coef = tryCatch(\n",
    "           get_glmer_coef(model),\n",
    "           error = function(e) NA\n",
    "       )\n",
    "    result_list = list(name = current_ct,\n",
    "                       pval = pval,\n",
    "                       coef = coef,\n",
    "                       model = model)\n",
    "    result_list\n",
    "}"
   ]
  },
  {
   "cell_type": "code",
   "execution_count": null,
   "id": "0f72d0e3",
   "metadata": {},
   "outputs": [],
   "source": [
    "make_glmer_result_ncells = function(comparison_df, current_ct){\n",
    "    comparison_df_1vr = comparison_df %>%\n",
    "        mutate(test_label = case_when(label == current_ct ~ current_ct,\n",
    "                                      TRUE ~ 'other')) %>%\n",
    "        mutate(test_label = factor(test_label, levels=c('other', current_ct)))\n",
    "    print(dim(comparison_df_1vr))\n",
    "    model = tryCatch(\n",
    "      glmer(test_label ~ treatment + (1 | sample_name), data = comparison_df_1vr, family = binomial),\n",
    "      error = function(e) NA\n",
    "    )\n",
    "    pval = tryCatch(\n",
    "               get_glmer_pvalue(model),\n",
    "               error = function(e) 1\n",
    "           )\n",
    "    coef = tryCatch(\n",
    "           get_glmer_coef(model),\n",
    "           error = function(e) NA\n",
    "       )\n",
    "    zscores = tryCatch(\n",
    "           summary(model)$coefficients[,\"z value\"][[2]],\n",
    "           error = function(e) NA\n",
    "       )\n",
    "    result_list = list(name = current_ct,\n",
    "                       pval = pval,\n",
    "                       coef = coef,\n",
    "                       zscores = zscores,\n",
    "                       model = model)\n",
    "    result_list\n",
    "}\n"
   ]
  },
  {
   "cell_type": "code",
   "execution_count": null,
   "id": "eb0a2fef",
   "metadata": {},
   "outputs": [],
   "source": [
    "comparison_df %>% head"
   ]
  },
  {
   "cell_type": "code",
   "execution_count": null,
   "id": "a285ddfb",
   "metadata": {
    "scrolled": true
   },
   "outputs": [],
   "source": [
    "labels <- unique(comparison_df$label)\n",
    "\n",
    "# Group the dataframe by label and fit glmer model in parallel\n",
    "models = map(labels, function(current_ct) {\n",
    "  results_list = make_glmer_result_ncells(comparison_df, current_ct)\n",
    "  results_list\n",
    "})"
   ]
  },
  {
   "cell_type": "code",
   "execution_count": null,
   "id": "a5b6da95",
   "metadata": {
    "scrolled": true
   },
   "outputs": [],
   "source": [
    "comparison_df"
   ]
  },
  {
   "cell_type": "code",
   "execution_count": null,
   "id": "c9f161fb",
   "metadata": {},
   "outputs": [],
   "source": [
    "current_ct = 'OPC'\n",
    "\n",
    "comparison_df_1vr = comparison_df %>%\n",
    "        mutate(test_label = case_when(label == current_ct ~ current_ct,\n",
    "                                      TRUE ~ 'other')) %>%\n",
    "        mutate(test_label = factor(test_label, levels=c('other', current_ct)))\n",
    "comparison_df_1vr %>% head"
   ]
  },
  {
   "cell_type": "code",
   "execution_count": null,
   "id": "da6015c2",
   "metadata": {},
   "outputs": [],
   "source": [
    "glmer(test_label ~ treatment + (1 | sample_name), data = comparison_df_1vr, family = binomial)"
   ]
  },
  {
   "cell_type": "code",
   "execution_count": null,
   "id": "c7eca7e5",
   "metadata": {},
   "outputs": [],
   "source": []
  },
  {
   "cell_type": "code",
   "execution_count": null,
   "id": "33d37e1a",
   "metadata": {},
   "outputs": [],
   "source": []
  },
  {
   "cell_type": "code",
   "execution_count": null,
   "id": "b80d0647",
   "metadata": {},
   "outputs": [],
   "source": []
  },
  {
   "cell_type": "code",
   "execution_count": null,
   "id": "dba5c259",
   "metadata": {},
   "outputs": [],
   "source": []
  },
  {
   "cell_type": "code",
   "execution_count": null,
   "id": "be3d4bda",
   "metadata": {},
   "outputs": [],
   "source": [
    "sumstats_comparison = comparison_df %>% \n",
    "group_by(sample_name, treatment, label) %>% \n",
    "summarise(n=n()) %>% \n",
    "group_by(label, treatment) %>% \n",
    "summarise(median = median(n), mean=mean(n), min=min(n), max=max(n)) \n",
    "\n",
    "# sumstats_comparison %>% head"
   ]
  },
  {
   "cell_type": "raw",
   "id": "a3d25cdc",
   "metadata": {},
   "source": [
    "# effect of single slice removal on this cell type\n",
    "comparison_df_f = comparison_df %>%\n",
    "    filter(!(sample_name == 'C2' & label == 'Rgs16_Dlx1'))\n",
    "model = make_glmer_result_ncells(comparison_df_f, \"Rgs16_Dlx1\")\n",
    "model\n",
    "# $name\n",
    "# [1] \"Rgs16_Dlx1\"\n",
    "\n",
    "# $pval\n",
    "# [1] 0.0810547\n",
    "\n",
    "# $coef\n",
    "# [1] -0.9329097\n",
    "\n",
    "# $zscores\n",
    "# [1] -1.744599\n",
    "\n",
    "# $model\n",
    "# Generalized linear mixed model fit by maximum likelihood (Laplace\n",
    "#   Approximation) [glmerMod]\n",
    "#  Family: binomial  ( logit )\n",
    "# Formula: test_label ~ treatment + (1 | sample_name)\n",
    "#    Data: comparison_df_1vr\n",
    "#       AIC       BIC    logLik  deviance  df.resid \n",
    "#  5288.393  5315.423 -2641.196  5282.393     60475 \n",
    "# Random effects:\n",
    "#  Groups      Name        Std.Dev.\n",
    "#  sample_name (Intercept) 0.7436  \n",
    "# Number of obs: 60478, groups:  sample_name, 8\n",
    "# Fixed Effects:\n",
    "#   (Intercept)  treatmentFGF1  \n",
    "#       -4.6829        -0.9329  "
   ]
  },
  {
   "cell_type": "code",
   "execution_count": null,
   "id": "3b4f3401",
   "metadata": {},
   "outputs": [],
   "source": []
  },
  {
   "cell_type": "code",
   "execution_count": null,
   "id": "0dfda6b2",
   "metadata": {},
   "outputs": [],
   "source": []
  },
  {
   "cell_type": "code",
   "execution_count": null,
   "id": "1b1ae21c",
   "metadata": {},
   "outputs": [],
   "source": []
  },
  {
   "cell_type": "code",
   "execution_count": null,
   "id": "036ecbfc",
   "metadata": {
    "scrolled": true
   },
   "outputs": [],
   "source": [
    "sumstats_comparison %>% group_by(label) %>% summarise(max_group_median = max(median))"
   ]
  },
  {
   "cell_type": "code",
   "execution_count": null,
   "id": "d5a003d7",
   "metadata": {},
   "outputs": [],
   "source": []
  },
  {
   "cell_type": "code",
   "execution_count": null,
   "id": "0035ec89",
   "metadata": {},
   "outputs": [],
   "source": [
    "# Combine models into a tibble\n",
    "ncells_result <- map_dfr(models, ~ tibble(label = .x$name, pval = .x$pval, coef = .x$coef, zscore = .x$zscores))\n",
    "\n",
    "\n",
    "# Print the result\n",
    "ncells_sig_df = ncells_result %>% \n",
    "arrange(pval) %>% \n",
    "mutate(pval_corrected = p.adjust(pval, method = \"BH\")) %>%\n",
    "mutate(significant = case_when(pval < 0.05 ~ '**',\n",
    "                               TRUE ~ '')) %>%\n",
    "mutate(significant_adj = case_when(pval_corrected < 0.05 ~ '**',\n",
    "                               TRUE ~ ''))\n",
    "\n",
    "ncells_sig_df %>% head(15)"
   ]
  },
  {
   "cell_type": "code",
   "execution_count": null,
   "id": "68fbc0d2",
   "metadata": {},
   "outputs": [],
   "source": []
  },
  {
   "cell_type": "code",
   "execution_count": null,
   "id": "2a9fb425",
   "metadata": {},
   "outputs": [],
   "source": []
  },
  {
   "cell_type": "code",
   "execution_count": null,
   "id": "b9d3065e",
   "metadata": {},
   "outputs": [],
   "source": [
    "agg_data = comparison_df %>%\n",
    "group_by(sample_name, treatment, label) %>%\n",
    "summarise(cell_count = n())\n",
    "\n",
    "agg_data %>% print"
   ]
  },
  {
   "cell_type": "code",
   "execution_count": null,
   "id": "851484b1",
   "metadata": {},
   "outputs": [],
   "source": [
    "wilcox_test_result <- wilcox.test(cell_count ~ treatment, data = agg_data)\n",
    "wilcox_test_result"
   ]
  },
  {
   "cell_type": "code",
   "execution_count": null,
   "id": "4d5c97bd",
   "metadata": {},
   "outputs": [],
   "source": [
    "wilcox_test_result$p.value"
   ]
  },
  {
   "cell_type": "code",
   "execution_count": null,
   "id": "f586fbe1",
   "metadata": {},
   "outputs": [],
   "source": [
    "wilcox_test_result$statistic"
   ]
  },
  {
   "cell_type": "code",
   "execution_count": null,
   "id": "7a680590",
   "metadata": {},
   "outputs": [],
   "source": [
    "make_result_wilcox = function(subset){\n",
    "    result_name = subset %>% distinct(label) %>% pull\n",
    "    pval = tryCatch(\n",
    "      wilcox.test(cell_count ~ treatment, data = subset)$p.value, \n",
    "      error = function(e) NA\n",
    "    )\n",
    "    result_list = list(name = result_name,\n",
    "                       pval = pval)\n",
    "    result_list\n",
    "}"
   ]
  },
  {
   "cell_type": "code",
   "execution_count": null,
   "id": "b708ee7a",
   "metadata": {},
   "outputs": [],
   "source": [
    "# Set up parallel processing\n",
    "# plan(multisession, workers=40)  # Adjust according to your system capabilities\n",
    "\n",
    "# Group the dataframe by label and fit glmer model in parallel\n",
    "models_wilcox <- agg_data %>% group_by(label) %>% group_split %>%\n",
    "  map(function(subset) {\n",
    "      result_list = subset %>% make_result_wilcox\n",
    "      result_list\n",
    "  })\n"
   ]
  },
  {
   "cell_type": "code",
   "execution_count": null,
   "id": "c2da48e3",
   "metadata": {
    "scrolled": true
   },
   "outputs": [],
   "source": [
    "wilcox_tibble = tibble(\n",
    "  name = map_chr(models_wilcox, \"name\"),\n",
    "  pval = map_dbl(models_wilcox, \"pval\")\n",
    ") %>%\n",
    "arrange(pval)\n",
    "\n",
    "wilcox_tibble"
   ]
  },
  {
   "cell_type": "code",
   "execution_count": null,
   "id": "7c06ca1e",
   "metadata": {},
   "outputs": [],
   "source": [
    "xe_obj@images %>% names"
   ]
  },
  {
   "cell_type": "code",
   "execution_count": null,
   "id": "03549106",
   "metadata": {},
   "outputs": [],
   "source": [
    "xe_obj %>% `[[` %>% colnames"
   ]
  },
  {
   "cell_type": "code",
   "execution_count": null,
   "id": "eabe09f7",
   "metadata": {},
   "outputs": [],
   "source": [
    "xe_obj %>% `[[` %>% head"
   ]
  },
  {
   "cell_type": "code",
   "execution_count": null,
   "id": "d5a5a361",
   "metadata": {},
   "outputs": [],
   "source": [
    "xe_obj@images %>% names %>% dput"
   ]
  },
  {
   "cell_type": "code",
   "execution_count": null,
   "id": "1d7f06fa",
   "metadata": {},
   "outputs": [],
   "source": [
    "xe_obj_merged = qs::qread('_targets/objects/obj_merged')\n",
    "xe_obj_merged"
   ]
  },
  {
   "cell_type": "code",
   "execution_count": null,
   "id": "a03e3aad",
   "metadata": {},
   "outputs": [],
   "source": [
    "fov_names = xe_obj_merged@images %>% names\n",
    "centroids_df <- purrr::map_df(fov_names, function(x) GetTissueCoordinates(xe_obj_merged@images[[x]], which='centroids')) %>%\n",
    "rename(centroid_x = x, centroid_y = y)\n",
    "\n",
    "centroids_df %>% dim\n",
    "centroids_df %>% head"
   ]
  },
  {
   "cell_type": "code",
   "execution_count": null,
   "id": "1629b681",
   "metadata": {},
   "outputs": [],
   "source": [
    "coord_comparison_df = comparison_df %>%\n",
    "merge(centroids_df, by='cell')\n",
    "\n",
    "coord_comparison_df %>% head"
   ]
  },
  {
   "cell_type": "code",
   "execution_count": null,
   "id": "bf08b6d4",
   "metadata": {},
   "outputs": [],
   "source": [
    "coord_comparison_df %>% dim"
   ]
  },
  {
   "cell_type": "code",
   "execution_count": null,
   "id": "5741761d",
   "metadata": {},
   "outputs": [],
   "source": [
    "options(repr.plot.width=6, repr.plot.height=14, repr.plot.res=200)\n",
    "plot_single_slice_label = function(coord_comparison_df, sample, cell_type, pt_size=0.1){\n",
    "    ggp = coord_comparison_df %>%\n",
    "        filter(sample_name == sample) %>%\n",
    "        mutate(this_cell_type = case_when(label == cell_type ~ !!cell_type,\n",
    "                                          TRUE ~ 'other'),\n",
    "               polarity_factor = factor(polarity, levels = c('none', 'neg', 'pos')),\n",
    "               cell_type_factor = factor(label == cell_type, levels = c(FALSE, TRUE)),\n",
    "               cell_color = ifelse(this_cell_type == 'other', 'other', as.character(polarity))) %>%\n",
    "        arrange(cell_type_factor, polarity_factor) %>%\n",
    "        ggplot(aes(x = centroid_y, y = centroid_x, color = cell_color, alpha = this_cell_type, shape = this_cell_type)) + \n",
    "          geom_point(size=pt_size) +\n",
    "          xlim(0, 17000) +\n",
    "          ylim(900, 10900) +\n",
    "          scale_color_manual(values = c('none' =  \"#DAA520\",\n",
    "                                        'pos' = \"#2166ac\",\n",
    "                                        'neg' = \"#b2182b\",\n",
    "                                        'other' = \"#a1a1a1\")) +  # green for \"other\"\n",
    "          scale_shape_manual(values = setNames(c(\"other\" = 16, \"this\" = 16), c(\"other\", cell_type))) +\n",
    "          scale_alpha_manual(values = setNames(c(\"other\" = 0.1, \"this\" = 1), c(\"other\", cell_type))) +\n",
    "          coord_fixed() + \n",
    "          theme_light() +\n",
    "          theme(axis.title.x = element_blank(),\n",
    "                axis.title.y = element_blank()) + \n",
    "        theme(axis.text.x = element_blank(),   # Remove x-axis labels\n",
    "              axis.text.y = element_blank()    # Remove y-axis labels\n",
    "        )\n",
    "    \n",
    "    ggp\n",
    "}\n"
   ]
  },
  {
   "cell_type": "code",
   "execution_count": null,
   "id": "f16c892b",
   "metadata": {},
   "outputs": [],
   "source": [
    "comparison_df %>% filter(sample_name == 'A2') %>% distinct(label) %>% pull"
   ]
  },
  {
   "cell_type": "code",
   "execution_count": null,
   "id": "c58f6e01",
   "metadata": {},
   "outputs": [],
   "source": [
    "options(repr.plot.width=6, repr.plot.height=6, repr.plot.res=200)\n",
    "plot_single_slice_label(coord_comparison_df, 'A2', 'Agrp')"
   ]
  },
  {
   "cell_type": "code",
   "execution_count": null,
   "id": "b2f68ea8",
   "metadata": {},
   "outputs": [],
   "source": [
    "xe_obj %>% `[[` %>% distinct(labels) %>% filter(str_detect(labels, 'Pomc'))"
   ]
  },
  {
   "cell_type": "code",
   "execution_count": null,
   "id": "fcf42d9d",
   "metadata": {},
   "outputs": [],
   "source": [
    "plot_all_samples_polarity = function(coord_comparison_df, cell_type){\n",
    "    p1 = plot_single_slice_label(coord_comparison_df, 'A1', cell_type)\n",
    "    p2 = plot_single_slice_label(coord_comparison_df, 'A2', cell_type)\n",
    "    p3 = plot_single_slice_label(coord_comparison_df, 'B1', cell_type)\n",
    "    p4 = plot_single_slice_label(coord_comparison_df, 'B2', cell_type)\n",
    "    p5 = plot_single_slice_label(coord_comparison_df, 'C1', cell_type)\n",
    "    p6 = plot_single_slice_label(coord_comparison_df, 'C2', cell_type)\n",
    "    p7 = plot_single_slice_label(coord_comparison_df, 'D1', cell_type)\n",
    "    p8 = plot_single_slice_label(coord_comparison_df, 'D2', cell_type)\n",
    "    \n",
    "    layout <- '\n",
    "    AE\n",
    "    BF\n",
    "    CG\n",
    "    DH\n",
    "    '\n",
    "\n",
    "    ggp = wrap_plots(A = p1,\n",
    "               B = p2,\n",
    "               C = p3,\n",
    "               D = p4,\n",
    "               E = p5,\n",
    "               F = p6,\n",
    "               G = p7,\n",
    "               H = p8,\n",
    "        design = layout) +\n",
    "    plot_layout(guides = 'collect') \n",
    "\n",
    "    ggp\n",
    "}"
   ]
  },
  {
   "cell_type": "code",
   "execution_count": null,
   "id": "5f02d1bb",
   "metadata": {},
   "outputs": [],
   "source": [
    "options(repr.plot.width=6, repr.plot.height=6, repr.plot.res=200)\n",
    "plot_all_samples_polarity(coord_comparison_df, 'Agrp')"
   ]
  },
  {
   "cell_type": "code",
   "execution_count": null,
   "id": "48ac2372",
   "metadata": {},
   "outputs": [],
   "source": [
    "options(repr.plot.width=6, repr.plot.height=6, repr.plot.res=200)\n",
    "plot_all_samples_polarity(coord_comparison_df, 'OPC')"
   ]
  },
  {
   "cell_type": "code",
   "execution_count": null,
   "id": "a1c2d94d",
   "metadata": {},
   "outputs": [],
   "source": [
    "plot_all_samples_polarity(coord_comparison_df, 'Oligodendrocytes')"
   ]
  },
  {
   "cell_type": "code",
   "execution_count": null,
   "id": "fbdf4a87",
   "metadata": {},
   "outputs": [],
   "source": []
  },
  {
   "cell_type": "code",
   "execution_count": null,
   "id": "c4f469b9",
   "metadata": {},
   "outputs": [],
   "source": [
    "polarity_sig_df_wide = polarity_sig_df %>%\n",
    "  pivot_wider(names_from = polarity, \n",
    "              values_from = c(pval, coef, z, significant, significant_adj, pval_corrected),\n",
    "              names_sep = \".\")\n",
    "\n",
    "polarity_sig_df_wide"
   ]
  },
  {
   "cell_type": "code",
   "execution_count": null,
   "id": "14033df7",
   "metadata": {},
   "outputs": [],
   "source": [
    "sig_df = ncells_sig_df %>%\n",
    "left_join(polarity_sig_df_wide, by='label')\n",
    "\n",
    "# mutate(z.neg = ifelse(is.na(z.neg), 0, z.neg),\n",
    "#        z.pos = ifelse(is.na(z.pos), 0, z.pos),\n",
    "#        pval_corrected.neg = ifelse(is.na(pval_corrected.neg), 1, pval_corrected.neg),\n",
    "#        pval_corrected.pos = ifelse(is.na(pval_corrected.pos), 1, pval_corrected.pos)) %>%\n",
    "# mutate(sort_col = pval_corrected * pval_corrected.neg * pval_corrected.pos) %>%\n",
    "# mutate(sort_col = sign(zscore) * abs(zscore * z.pos * z.neg)) %>%\n",
    "\n",
    "counts_for_sig = summary_df %>% filter(predicted.label %in% c(sig_df %>% filter(pval_corrected < 0.05 | pval_corrected.neg < 0.05 | pval_corrected.pos < 0.05) %>% pull (label))                            \n",
    "                     ) %>%\n",
    "select(predicted.label, polarity, FGF1_minus_VehPF_polar, label_diff) %>%\n",
    "  # Use pivot_wider to spread the data\n",
    "  pivot_wider(\n",
    "    names_from = polarity, \n",
    "    values_from = c(FGF1_minus_VehPF_polar, label_diff),\n",
    "    names_sep = \"_\"\n",
    "  ) %>%\n",
    "  select(-label_diff_neg, -label_diff_pos) %>%\n",
    "  rename(label = predicted.label)\n",
    "\n",
    "sig_df = sig_df %>%\n",
    "left_join(counts_for_sig, by = 'label') %>%\n",
    "mutate(sort_col = zscore) %>%\n",
    "arrange(desc(sort_col)) %>%\n",
    "mutate(label = factor(label, levels=label))\n",
    "\n",
    "sig_df %>% head"
   ]
  },
  {
   "cell_type": "code",
   "execution_count": null,
   "id": "ac1143d1",
   "metadata": {},
   "outputs": [],
   "source": [
    "summary_df %>% filter(predicted.label %in% c(sig_df %>% filter(pval_corrected < 0.05 | pval_corrected.neg < 0.05 | pval_corrected.pos < 0.05) %>% pull (label)))"
   ]
  },
  {
   "cell_type": "code",
   "execution_count": null,
   "id": "1774c806",
   "metadata": {},
   "outputs": [],
   "source": [
    "sig_df %>% filter(label == 'Ependymal_cells')"
   ]
  },
  {
   "cell_type": "code",
   "execution_count": null,
   "id": "947af2a3",
   "metadata": {},
   "outputs": [],
   "source": [
    "options(repr.plot.width=3.5, repr.plot.height=11)\n",
    "\n",
    "# Convert 'label' column to a factor\n",
    "sig_df$label <- as.factor(sig_df$label)\n",
    "\n",
    "# Define conditions for colors\n",
    "sig_df$zscore_col <- ifelse(sig_df$zscore > 0 & sig_df$significant_adj == '**' & abs(sig_df$label_diff_none) >= 20, \"#2166ac\",\n",
    "                            ifelse(sig_df$zscore < 0 & sig_df$significant_adj == '**' & abs(sig_df$label_diff_none) >= 20, \"#b2182b\", \"#a1a1a1\"))\n",
    "sig_df$zpos_col <- ifelse(sig_df$z.pos > 0 & sig_df$significant_adj.pos == '**' & abs(sig_df$FGF1_minus_VehPF_polar_pos) >= 20, \"#2166ac\",\n",
    "                         ifelse(sig_df$z.pos < 0 & sig_df$significant_adj.pos == '**' & abs(sig_df$FGF1_minus_VehPF_polar_pos) >= 20, \"#b2182b\", \"#a1a1a1\"))\n",
    "sig_df$zneg_col <- ifelse(sig_df$z.neg > 0 & sig_df$significant_adj.neg == '**' & abs(sig_df$FGF1_minus_VehPF_polar_neg) >= 20, \"#2166ac\",\n",
    "                         ifelse(sig_df$z.neg < 0 & sig_df$significant_adj.neg == '**' & abs(sig_df$FGF1_minus_VehPF_polar_neg) >= 20, \"#b2182b\", \"#a1a1a1\"))\n",
    "\n",
    "# Create the scatter plot\n",
    "ggp_sig = ggplot(sig_df) +\n",
    "  # Add a scatter plot for 'zscore'\n",
    "  geom_point(aes(y = label, x = zscore, color = zscore_col), shape = 'o', size = 5) +\n",
    "  # Add a scatter plot for 'z.pos'\n",
    "  geom_point(aes(y = label, x = z.pos, color = zpos_col), shape = '+', size = 5) +\n",
    "  # Add a scatter plot for 'z.neg'\n",
    "  geom_point(aes(y = label, x = z.neg, color = zneg_col), shape = '|', size = 5) +\n",
    "  # Specify the colors for each condition\n",
    "  scale_color_identity() +\n",
    "  # Set the x-axis limits\n",
    "  scale_x_continuous(limits = c(-8, 8)) +\n",
    "  # Add the plot title and labels\n",
    "  labs(x = \"Z\") +\n",
    "  # Set the plot theme\n",
    "  theme_minimal()\n",
    "\n",
    "ggp_sig"
   ]
  },
  {
   "cell_type": "code",
   "execution_count": null,
   "id": "03e39487",
   "metadata": {},
   "outputs": [],
   "source": [
    "summary_df %>% filter(predicted.label %in% c(sig_df %>% filter(pval_corrected < 0.05 | pval_corrected.neg < 0.05 | pval_corrected.pos < 0.05) %>% pull (label))\n",
    "                                            \n",
    "                     ) %>%\n",
    "select(predicted.label, polarity, FGF1_minus_VehPF_polar, label_diff) %>%\n",
    "rename(label = predicted.label) %>%\n",
    "print"
   ]
  },
  {
   "cell_type": "code",
   "execution_count": null,
   "id": "98d5fb10",
   "metadata": {},
   "outputs": [],
   "source": [
    "summary_df %>% filter(predicted.label %in% c(sig_df %>% filter(pval_corrected < 0.05 | pval_corrected.neg < 0.05 | pval_corrected.pos < 0.05) %>% pull (label))\n",
    "                                            \n",
    "                     )"
   ]
  },
  {
   "cell_type": "code",
   "execution_count": null,
   "id": "806195af",
   "metadata": {},
   "outputs": [],
   "source": []
  },
  {
   "cell_type": "code",
   "execution_count": null,
   "id": "a204f868",
   "metadata": {},
   "outputs": [],
   "source": [
    "sig_df %>% filter(pval_corrected < 0.05 | pval_corrected.neg < 0.05 | pval_corrected.pos < 0.05) "
   ]
  },
  {
   "cell_type": "code",
   "execution_count": null,
   "id": "e88fe395",
   "metadata": {},
   "outputs": [],
   "source": [
    "sig_df %>% filter(label == 'Agrp') %>% select(label, zscore,  zscore_col, z.neg, zneg_col, z.pos,  zpos_col)"
   ]
  },
  {
   "cell_type": "code",
   "execution_count": null,
   "id": "42594c59",
   "metadata": {},
   "outputs": [],
   "source": [
    "plot_all_samples_polarity_2row = function(coord_comparison_df, cell_type, pt_size=0.2){\n",
    "    p1 = plot_single_slice_label(coord_comparison_df, 'A1', cell_type, pt_size=pt_size) + theme(legend.position = \"none\") + labs(y = paste0(cell_type, '\\nVehPF')) + theme(axis.title.y = element_text(size = 8, angle = 90))\n",
    "    p2 = plot_single_slice_label(coord_comparison_df, 'A2', cell_type, pt_size=pt_size) + theme(legend.position = \"none\")\n",
    "    p3 = plot_single_slice_label(coord_comparison_df, 'B1', cell_type, pt_size=pt_size) + theme(legend.position = \"none\")\n",
    "    p4 = plot_single_slice_label(coord_comparison_df, 'B2', cell_type, pt_size=pt_size) + theme(legend.position = \"none\")\n",
    "    p5 = plot_single_slice_label(coord_comparison_df, 'C1', cell_type, pt_size=pt_size) + theme(legend.position = \"none\") + labs(y = paste0(cell_type, '\\nFGF1')) + theme(axis.title.y = element_text(size = 8, angle = 90))\n",
    "    p6 = plot_single_slice_label(coord_comparison_df, 'C2', cell_type, pt_size=pt_size) + theme(legend.position = \"none\")\n",
    "    p7 = plot_single_slice_label(coord_comparison_df, 'D1', cell_type, pt_size=pt_size) + theme(legend.position = \"none\")\n",
    "    p8 = plot_single_slice_label(coord_comparison_df, 'D2', cell_type, pt_size=pt_size) + theme(legend.position = \"none\")\n",
    "    label_plot <- ggplot() +\n",
    "      labs(y = cell_type) +\n",
    "      theme_void()\n",
    "\n",
    "    \n",
    "    layout <- '\n",
    "    ABCD\n",
    "    EFGH\n",
    "    '\n",
    "\n",
    "    ggp = wrap_plots(A = p1,\n",
    "               B = p2,\n",
    "               C = p3,\n",
    "               D = p4,\n",
    "               E = p5,\n",
    "               F = p6,\n",
    "               G = p7,\n",
    "               H = p8,\n",
    "        design = layout) +\n",
    "    plot_layout(guides = 'collect') & \n",
    "      theme(plot.margin = margin(0, 0, 0, 0))\n",
    "\n",
    "    ggp\n",
    "}"
   ]
  },
  {
   "cell_type": "code",
   "execution_count": null,
   "id": "ab3f7a59",
   "metadata": {},
   "outputs": [],
   "source": [
    "p_Microglia = plot_all_samples_polarity_2row(coord_comparison_df, 'Microglia')\n",
    "p_MOL = plot_all_samples_polarity_2row(coord_comparison_df, 'Oligodendrocytes')\n",
    "p_Trh_Lef1 = plot_all_samples_polarity_2row(coord_comparison_df, 'Trh_Lef1')\n",
    "p_Astrocytes = plot_all_samples_polarity_2row(coord_comparison_df, 'Astrocytes')\n",
    "p_a1_Tany__Astrocytes = plot_all_samples_polarity_2row(coord_comparison_df, 'a1_Tany__Astrocytes')\n",
    "p_a2_Tanycytes = plot_all_samples_polarity_2row(coord_comparison_df, 'a2_Tanycytes')\n",
    "p_NFOL = plot_all_samples_polarity_2row(coord_comparison_df, 'NFOL')\n",
    "p_Agrp = plot_all_samples_polarity_2row(coord_comparison_df, 'Agrp')\n",
    "p_Rgs16_Dlx1 = plot_all_samples_polarity_2row(coord_comparison_df, 'Rgs16_Dlx1')"
   ]
  },
  {
   "cell_type": "code",
   "execution_count": null,
   "id": "2a7e1a64",
   "metadata": {},
   "outputs": [],
   "source": [
    "options(repr.plot.width=8.5, repr.plot.height=11)\n",
    "layout <- '\n",
    "ABBBBBB\n",
    "ACCCCCC\n",
    "ADDDDDD\n",
    "AEEEEEE\n",
    "AFFFFFF\n",
    "AGGGGGG\n",
    "AHHHHHH\n",
    "'\n",
    "\n",
    "ggp = wrap_plots(A = ggp_sig,\n",
    "           B = p_Microglia,\n",
    "           C = p_MOL,\n",
    "           D = p_Trh_Lef1,\n",
    "           E = p_Astrocytes,\n",
    "           F = p_a1_Tany__Astrocytes,\n",
    "           G = p_a2_Tanycytes,\n",
    "           H = p_NFOL,\n",
    "    design = layout) +\n",
    "plot_layout(guides = 'auto') "
   ]
  },
  {
   "cell_type": "code",
   "execution_count": null,
   "id": "d7e25249",
   "metadata": {},
   "outputs": [],
   "source": [
    "options(repr.plot.width=8.5, repr.plot.height=11)\n",
    "layout <- '\n",
    "ABBBBBB\n",
    "ACCCCCC\n",
    "ADDDDDD\n",
    "AEEEEEE\n",
    "AGGGGGG\n",
    "'\n",
    "\n",
    "ggp = wrap_plots(A = ggp_sig,\n",
    "           B = p_Rgs16_Dlx1 ,\n",
    "           C = p_Agrp,\n",
    "           D = p_MOL,\n",
    "           E = p_a1_Tany__Astrocytes,\n",
    "           G = p_NFOL,\n",
    "    design = layout) +\n",
    "plot_layout(guides = 'auto') "
   ]
  },
  {
   "cell_type": "code",
   "execution_count": null,
   "id": "e46669b6",
   "metadata": {
    "scrolled": true
   },
   "outputs": [],
   "source": [
    "ggp %>% ggsave(\"spatial_sig_plots.pdf\", ., width = 7, height = 9)"
   ]
  },
  {
   "cell_type": "code",
   "execution_count": null,
   "id": "4314e785",
   "metadata": {
    "scrolled": true
   },
   "outputs": [],
   "source": [
    "ggp %>% ggsave(\"spatial_sig_plots.png\", ., width = 8.5, height = 11)"
   ]
  },
  {
   "cell_type": "code",
   "execution_count": null,
   "id": "14a76840",
   "metadata": {},
   "outputs": [],
   "source": [
    "plot_single_slice_label_ct = function(coord_comparison_df, sample, cell_type, pt_size=0.1){\n",
    "    ggp = coord_comparison_df %>%\n",
    "        filter(sample_name == sample) %>%\n",
    "        mutate(this_cell_type = case_when(label == cell_type ~ !!cell_type,\n",
    "                                          TRUE ~ 'other'),\n",
    "               polarity_factor = factor(polarity, levels = c('none', 'neg', 'pos')),\n",
    "               cell_type_factor = factor(label == cell_type, levels = c(FALSE, TRUE)),\n",
    "               cell_color = ifelse(this_cell_type == 'other', 'other', as.character(polarity))) %>%\n",
    "        arrange(cell_type_factor, polarity_factor) %>%\n",
    "        ggplot(aes(x = centroid_y, y = centroid_x, color = cell_color, alpha = this_cell_type, shape = this_cell_type)) + \n",
    "          geom_point(size=pt_size) +\n",
    "          xlim(0, 17000) +\n",
    "          ylim(900, 10900) +\n",
    "          scale_color_manual(values = c('none' =  \"#000000\",\n",
    "                                        'pos' = \"#000000\",\n",
    "                                        'neg' = \"#000000\",\n",
    "                                        'other' = \"#a1a1a1\")) +  # green for \"other\"\n",
    "          scale_shape_manual(values = setNames(c(\"other\" = 16, \"this\" = 16), c(\"other\", cell_type))) +\n",
    "          scale_alpha_manual(values = setNames(c(\"other\" = 0.1, \"this\" = 1), c(\"other\", cell_type))) +\n",
    "          coord_fixed() + \n",
    "          theme_light() +\n",
    "          theme(axis.title.x = element_blank(),\n",
    "                axis.title.y = element_blank()) + \n",
    "        theme(axis.text.x = element_blank(),   # Remove x-axis labels\n",
    "              axis.text.y = element_blank()    # Remove y-axis labels\n",
    "        )\n",
    "    \n",
    "    ggp\n",
    "}\n"
   ]
  },
  {
   "cell_type": "code",
   "execution_count": null,
   "id": "c9a70259",
   "metadata": {},
   "outputs": [],
   "source": [
    "options(repr.plot.width=6, repr.plot.height=6, repr.plot.res=200)\n",
    "plot_single_slice_label_ct(coord_comparison_df, 'A1', 'Agrp')"
   ]
  },
  {
   "cell_type": "code",
   "execution_count": null,
   "id": "fad6f591",
   "metadata": {},
   "outputs": [],
   "source": [
    "plot_all_samples_ct_2col = function(coord_comparison_df, cell_type, pt_size=0.2){\n",
    "    p1 = plot_single_slice_label_ct(coord_comparison_df, 'A1', cell_type, pt_size=pt_size) + theme(legend.position = \"none\") #+ labs(y = paste0(cell_type, '\\nVehPF')) + theme(axis.title.y = element_text(size = 8, angle = 90))\n",
    "    p2 = plot_single_slice_label_ct(coord_comparison_df, 'A2', cell_type, pt_size=pt_size) + theme(legend.position = \"none\")\n",
    "    p3 = plot_single_slice_label_ct(coord_comparison_df, 'B1', cell_type, pt_size=pt_size) + theme(legend.position = \"none\")\n",
    "    p4 = plot_single_slice_label_ct(coord_comparison_df, 'B2', cell_type, pt_size=pt_size) + theme(legend.position = \"none\")\n",
    "    p5 = plot_single_slice_label_ct(coord_comparison_df, 'C1', cell_type, pt_size=pt_size) + theme(legend.position = \"none\") #+ labs(y = paste0(cell_type, '\\nFGF1')) + theme(axis.title.y = element_text(size = 8, angle = 90))\n",
    "    p6 = plot_single_slice_label_ct(coord_comparison_df, 'C2', cell_type, pt_size=pt_size) + theme(legend.position = \"none\")\n",
    "    p7 = plot_single_slice_label_ct(coord_comparison_df, 'D1', cell_type, pt_size=pt_size) + theme(legend.position = \"none\")\n",
    "    p8 = plot_single_slice_label_ct(coord_comparison_df, 'D2', cell_type, pt_size=pt_size) + theme(legend.position = \"none\")\n",
    "    label_plot <- ggplot() +\n",
    "      labs(y = cell_type) +\n",
    "      theme_void()\n",
    "\n",
    "    \n",
    "    layout <- '\n",
    "AE\n",
    "BF\n",
    "CG\n",
    "DH\n",
    "'\n",
    "\n",
    "    ggp = wrap_plots(A = p1,\n",
    "               B = p2,\n",
    "               C = p3,\n",
    "               D = p4,\n",
    "               E = p5,\n",
    "               F = p6,\n",
    "               G = p7,\n",
    "               H = p8,\n",
    "        design = layout) +\n",
    "    plot_layout(guides = 'collect') & \n",
    "      theme(plot.margin = margin(0, 0, 0, 0))\n",
    "\n",
    "    ggp\n",
    "}"
   ]
  },
  {
   "cell_type": "code",
   "execution_count": null,
   "id": "9156fe04",
   "metadata": {},
   "outputs": [],
   "source": [
    "options(repr.plot.width=6, repr.plot.height=6, repr.plot.res=200)\n",
    "plot_all_samples_ct_2col(coord_comparison_df, 'Agrp', pt_size=0.3)"
   ]
  },
  {
   "cell_type": "code",
   "execution_count": null,
   "id": "61e8c113",
   "metadata": {},
   "outputs": [],
   "source": [
    "options(repr.plot.width=6, repr.plot.height=6, repr.plot.res=200)\n",
    "plot_all_samples_ct_2col(coord_comparison_df, 'Tmem215__Dach2', pt_size=0.3)"
   ]
  },
  {
   "cell_type": "code",
   "execution_count": null,
   "id": "61746cfc",
   "metadata": {},
   "outputs": [],
   "source": [
    "options(repr.plot.width=6, repr.plot.height=6, repr.plot.res=200)\n",
    "plot_all_samples_ct_2col(coord_comparison_df, 'Astrocytes', pt_size=0.3)"
   ]
  },
  {
   "cell_type": "code",
   "execution_count": null,
   "id": "5c9eb38f",
   "metadata": {},
   "outputs": [],
   "source": [
    "plot_all_samples_ct_2col(coord_comparison_df, 'Htr3b', pt_size=0.6)"
   ]
  },
  {
   "cell_type": "code",
   "execution_count": null,
   "id": "2b284d75",
   "metadata": {},
   "outputs": [],
   "source": []
  },
  {
   "cell_type": "code",
   "execution_count": null,
   "id": "1cc7f83d",
   "metadata": {},
   "outputs": [],
   "source": []
  },
  {
   "cell_type": "code",
   "execution_count": null,
   "id": "d22512d2",
   "metadata": {},
   "outputs": [],
   "source": [
    "plot_all_samples_ct_2col(coord_comparison_df, 'a1_Tanycytes')"
   ]
  },
  {
   "cell_type": "code",
   "execution_count": null,
   "id": "aa620320",
   "metadata": {},
   "outputs": [],
   "source": [
    "plot_all_samples_ct_2col(coord_comparison_df, 'a2_Tanycytes')"
   ]
  },
  {
   "cell_type": "code",
   "execution_count": null,
   "id": "2770d0e0",
   "metadata": {},
   "outputs": [],
   "source": [
    "plot_all_samples_ct_2col(coord_comparison_df, 'b1_Tanycytes')"
   ]
  },
  {
   "cell_type": "code",
   "execution_count": null,
   "id": "61105412",
   "metadata": {},
   "outputs": [],
   "source": [
    "plot_all_samples_ct_2col(coord_comparison_df, 'b2_Tanycytes')"
   ]
  },
  {
   "cell_type": "code",
   "execution_count": null,
   "id": "9f5e2e9a",
   "metadata": {},
   "outputs": [],
   "source": [
    "plot_single_slice_label_ct_tany = function(coord_comparison_df, sample, pt_size=0.1){\n",
    "    tany_regex = \"^(a1_Tanycytes|a2_Tanycytes|b1_Tanycytes|b2_Tanycytes)$\"\n",
    "    ggp = coord_comparison_df %>%\n",
    "        filter(sample_name == sample) %>%\n",
    "        mutate(this_cell_type = case_when(str_detect(label, tany_regex) ~ label,\n",
    "                                          TRUE ~ 'other'),\n",
    "               cell_type_factor = factor(str_detect(label, tany_regex), levels = c(FALSE, TRUE)),\n",
    "               cell_color = ifelse(this_cell_type == 'other', 'other', as.character(this_cell_type))) %>%\n",
    "        arrange(cell_type_factor) %>%\n",
    "        ggplot(aes(x = centroid_y, y = centroid_x, color = cell_color, alpha = this_cell_type, shape = this_cell_type)) + \n",
    "          geom_point(size=pt_size) +\n",
    "          xlim(0, 17000) +\n",
    "          ylim(900, 10900) +\n",
    "          scale_color_manual(name = 'cell type',\n",
    "                             values = c('a2_Tanycytes' =  \"#e7d4e8\",\n",
    "                                        'a1_Tanycytes' = \"#af8dc3\",\n",
    "                                        'b1_Tanycytes' = \"#7fbf7b\",\n",
    "                                        'b2_Tanycytes' = \"#1b7837\",\n",
    "                                        'other' = \"#a1a1a1\")) +  # green for \"other\"\n",
    "          scale_shape_manual(values = c(\"other\" = 16,\n",
    "                                        'a2_Tanycytes' = 16,\n",
    "                                        'a1_Tanycytes' = 16,\n",
    "                                        'b1_Tanycytes' = 16,\n",
    "                                        'b2_Tanycytes' = 16),\n",
    "                             guide = 'none') +\n",
    "          scale_alpha_manual(values = c(\"other\" = 0.1,\n",
    "                                        'a2_Tanycytes' = 1,\n",
    "                                        'a1_Tanycytes' = 1,\n",
    "                                        'b1_Tanycytes' = 1,\n",
    "                                        'b2_Tanycytes' = 1),\n",
    "                             guide='none') +\n",
    "          coord_fixed() + \n",
    "          theme_light() +\n",
    "          theme(axis.title.x = element_blank(),\n",
    "                axis.title.y = element_blank()) + \n",
    "        theme(axis.text.x = element_blank(),   # Remove x-axis labels\n",
    "              axis.text.y = element_blank(),    # Remove y-axis labels\n",
    "              legend.position = \"right\", \n",
    "              legend.key.size = unit(0.3, \"cm\"),\n",
    "              legend.text = element_text(lineheight=0.5, size = 6)\n",
    "\n",
    "        )\n",
    "    \n",
    "    ggp\n",
    "}\n"
   ]
  },
  {
   "cell_type": "code",
   "execution_count": null,
   "id": "54a47717",
   "metadata": {},
   "outputs": [],
   "source": [
    "plot_single_slice_label_ct_tany(coord_comparison_df, 'A1')"
   ]
  },
  {
   "cell_type": "code",
   "execution_count": null,
   "id": "c40cf04e",
   "metadata": {},
   "outputs": [],
   "source": [
    "plot_all_samples_ct_tany = function(coord_comparison_df, pt_size=0.1, plot_shape='2col'){\n",
    "    p1 = plot_single_slice_label_ct_tany(coord_comparison_df, 'A1', pt_size=pt_size) #+ theme(legend.position = \"bottom\") #+ labs(y = paste0(cell_type, '\\nVehPF')) + theme(axis.title.y = element_text(size = 8, angle = 90))\n",
    "    p2 = plot_single_slice_label_ct_tany(coord_comparison_df, 'A2', pt_size=pt_size) #+ theme(legend.position = \"bottom\")\n",
    "    p3 = plot_single_slice_label_ct_tany(coord_comparison_df, 'B1', pt_size=pt_size) #+ theme(legend.position = \"bottom\")\n",
    "    p4 = plot_single_slice_label_ct_tany(coord_comparison_df, 'B2', pt_size=pt_size) #+ theme(legend.position = \"bottom\")\n",
    "    p5 = plot_single_slice_label_ct_tany(coord_comparison_df, 'C1', pt_size=pt_size) #+ theme(legend.position = \"bottom\") #+ labs(y = paste0(cell_type, '\\nFGF1')) + theme(axis.title.y = element_text(size = 8, angle = 90))\n",
    "    p6 = plot_single_slice_label_ct_tany(coord_comparison_df, 'C2', pt_size=pt_size) #+ theme(legend.position = \"bottom\")\n",
    "    p7 = plot_single_slice_label_ct_tany(coord_comparison_df, 'D1', pt_size=pt_size) #+ theme(legend.position = \"bottom\")\n",
    "    p8 = plot_single_slice_label_ct_tany(coord_comparison_df, 'D2', pt_size=pt_size) #+ theme(legend.position = \"bottom\")\n",
    "\n",
    "if (plot_shape == '2col'){\n",
    "        layout <- '\n",
    "AE\n",
    "BF\n",
    "CG\n",
    "DH\n",
    "'\n",
    "}\n",
    "if (plot_shape == '2row'){\n",
    "            layout <- '\n",
    "ABCD\n",
    "EFGH\n",
    "'\n",
    "p1 = p1 + labs(y = paste0('Tanycytes', '\\nVehPF')) + theme(axis.title.y = element_text(size = 8, angle = 90))\n",
    "p5 = p5 + labs(y = paste0('Tanycytes', '\\nFGF1')) + theme(axis.title.y = element_text(size = 8, angle = 90))\n",
    "}\n",
    "\n",
    "\n",
    "    ggp = wrap_plots(A = p1,\n",
    "               B = p2,\n",
    "               C = p3,\n",
    "               D = p4,\n",
    "               E = p5,\n",
    "               F = p6,\n",
    "               G = p7,\n",
    "               H = p8,\n",
    "        design = layout) +\n",
    "    plot_layout(guides = 'collect') & \n",
    "      theme(plot.margin = margin(0, 0, 0, 0),\n",
    "#            legend.position = \"bottom\")\n",
    "                       legend.position = \"right\")\n",
    "\n",
    "    ggp\n",
    "}"
   ]
  },
  {
   "cell_type": "code",
   "execution_count": null,
   "id": "6d0dc71c",
   "metadata": {},
   "outputs": [],
   "source": [
    "options(repr.plot.width=7, repr.plot.height=4)\n",
    "tany_plot = plot_all_samples_ct_tany(coord_comparison_df, pt_size=0.2, plot_shape='2row')\n",
    "tany_plot"
   ]
  },
  {
   "cell_type": "code",
   "execution_count": null,
   "id": "74c4950b",
   "metadata": {},
   "outputs": [],
   "source": [
    "plot_single_slice_label_ct_neurons = function(coord_comparison_df, sample, pt_size=0.1){\n",
    "    tany_regex = \"^(Agrp|Sst_Unc13c__Agrp|Pomc_Lepr|Pomc_Glipr1__Slc17a6_Trhr|Htr3b|Nr5a1_Bdnf)$\"\n",
    "    ggp = coord_comparison_df %>%\n",
    "        filter(sample_name == sample) %>%\n",
    "        mutate(this_cell_type = case_when(str_detect(label, tany_regex) ~ label,\n",
    "                                          TRUE ~ 'other'),\n",
    "               cell_type_factor = factor(str_detect(label, tany_regex), levels = c(FALSE, TRUE)),\n",
    "               cell_color = ifelse(this_cell_type == 'other', 'other', as.character(this_cell_type))) %>%\n",
    "        mutate(cell_color = factor(cell_color, levels=c(\"other\", \"Pomc_Glipr1__Slc17a6_Trhr\", \"Sst_Unc13c__Agrp\",  \"Htr3b\", \"Pomc_Lepr\", \"Agrp\", \"Nr5a1_Bdnf\"))) %>%\n",
    "        arrange(cell_color) %>%\n",
    "        ggplot(aes(x = centroid_y, y = centroid_x, color = cell_color, alpha = this_cell_type, shape = this_cell_type)) + \n",
    "          geom_point(size=pt_size) +\n",
    "          xlim(0, 17000) +\n",
    "          ylim(900, 10900) +\n",
    "          scale_color_manual(name = 'cell type',\n",
    "                             values = c('Sst_Unc13c__Agrp' =  \"#a6cee3\",\n",
    "                                        'Agrp' = \"#1f78b4\",\n",
    "#                                         'Pomc_Glipr1__Slc17a6_Trhr' = \"#33a02c\", #\"#b2df8a\",\n",
    "                                        'Pomc_Lepr' = \"#33a02c\",\n",
    "                                        'Htr3b' = '#e31a1c',\n",
    "                                        'Nr5a1_Bdnf' = '#fdbf6f',\n",
    "                                        'other' = \"#a1a1a1\")) +  # green for \"other\"\n",
    "          scale_shape_manual(values = c('Agrp' =  16,\n",
    "                                        'Sst_Unc13c__Agrp' = 16,\n",
    "                                        'Pomc_Lepr' = 16,\n",
    "#                                         'Pomc_Glipr1__Slc17a6_Trhr' = 16,\n",
    "                                        'Htr3b' = 16,\n",
    "                                        'Nr5a1_Bdnf' = 16,\n",
    "                                        'other' = 16), guide = 'none') +\n",
    "          scale_alpha_manual(values = c('Agrp' =  1,\n",
    "                                        'Sst_Unc13c__Agrp' = 1,\n",
    "                                        'Pomc_Lepr' = 1,\n",
    "#                                         'Pomc_Glipr1__Slc17a6_Trhr' = 1,\n",
    "                                        'Htr3b' = 1,\n",
    "                                        'Nr5a1_Bdnf' = 1,\n",
    "                                        'other' = 0.1), guide = 'none') +\n",
    "          coord_fixed() + \n",
    "          theme_light() +\n",
    "          theme(axis.title.x = element_blank(),\n",
    "                axis.title.y = element_blank()) + \n",
    "        theme(axis.text.x = element_blank(),   # Remove x-axis labels\n",
    "              axis.text.y = element_blank(),    # Remove y-axis labels\n",
    "              legend.position = \"right\", \n",
    "              legend.key.size = unit(0.3, \"cm\"),\n",
    "              legend.text = element_text(lineheight=0.5, size = 6)\n",
    "        )\n",
    "    \n",
    "    ggp\n",
    "}\n"
   ]
  },
  {
   "cell_type": "code",
   "execution_count": null,
   "id": "7ab40478",
   "metadata": {},
   "outputs": [],
   "source": [
    "names(c('Sst_Unc13c__Agrp' =  \"#a6cee3\",\n",
    "                                        'Agrp' = \"#1f78b4\",\n",
    "                                        'Pomc_Glipr1__Slc17a6_Trhr' = \"#33a02c\", #\"#b2df8a\",\n",
    "#                                         'Pomc_Lepr' = \"#33a02c\",\n",
    "                                        'Htr3b' = '#e31a1c',\n",
    "                                        'Nr5a1_Bdnf' = '#fdbf6f',\n",
    "                                        'other' = \"#a1a1a1\")) %>% rev %>%dput"
   ]
  },
  {
   "cell_type": "code",
   "execution_count": null,
   "id": "3328fd22",
   "metadata": {},
   "outputs": [],
   "source": [
    "plot_all_samples_ct_neurons = function(coord_comparison_df, pt_size=0.2, plot_shape='2col'){\n",
    "    p1 = plot_single_slice_label_ct_neurons(coord_comparison_df, 'A1', pt_size=pt_size) #+ theme(legend.position = \"bottom\") #+ labs(y = paste0(cell_type, '\\nVehPF')) + theme(axis.title.y = element_text(size = 8, angle = 90))\n",
    "    p2 = plot_single_slice_label_ct_neurons(coord_comparison_df, 'A2', pt_size=pt_size) #+ theme(legend.position = \"bottom\")\n",
    "    p3 = plot_single_slice_label_ct_neurons(coord_comparison_df, 'B1', pt_size=pt_size) #+ theme(legend.position = \"bottom\")\n",
    "    p4 = plot_single_slice_label_ct_neurons(coord_comparison_df, 'B2', pt_size=pt_size) #+ theme(legend.position = \"bottom\")\n",
    "    p5 = plot_single_slice_label_ct_neurons(coord_comparison_df, 'C1', pt_size=pt_size) #+ theme(legend.position = \"bottom\") #+ labs(y = paste0(cell_type, '\\nFGF1')) + theme(axis.title.y = element_text(size = 8, angle = 90))\n",
    "    p6 = plot_single_slice_label_ct_neurons(coord_comparison_df, 'C2', pt_size=pt_size) #+ theme(legend.position = \"bottom\")\n",
    "    p7 = plot_single_slice_label_ct_neurons(coord_comparison_df, 'D1', pt_size=pt_size) #+ theme(legend.position = \"bottom\")\n",
    "    p8 = plot_single_slice_label_ct_neurons(coord_comparison_df, 'D2', pt_size=pt_size) #+ theme(legend.position = \"bottom\")\n",
    "\n",
    "if (plot_shape == '2col'){\n",
    "        layout <- '\n",
    "AE\n",
    "BF\n",
    "CG\n",
    "DH\n",
    "'\n",
    "}\n",
    "if (plot_shape == '2row'){\n",
    "            layout <- '\n",
    "ABCD\n",
    "EFGH\n",
    "'\n",
    "p1 = p1 + labs(y = paste0('Neurons', '\\nVehPF')) + theme(axis.title.y = element_text(size = 8, angle = 90))\n",
    "p5 = p5 + labs(y = paste0('Neurons', '\\nFGF1')) + theme(axis.title.y = element_text(size = 8, angle = 90))\n",
    "}\n",
    "\n",
    "\n",
    "    ggp = wrap_plots(A = p1,\n",
    "               B = p2,\n",
    "               C = p3,\n",
    "               D = p4,\n",
    "               E = p5,\n",
    "               F = p6,\n",
    "               G = p7,\n",
    "               H = p8,\n",
    "        design = layout) +\n",
    "    plot_layout(guides = 'collect') & \n",
    "      theme(plot.margin = margin(0, 0, 0, 0),\n",
    "#            legend.position = \"bottom\")\n",
    "            )\n",
    "    ggp\n",
    "}"
   ]
  },
  {
   "cell_type": "code",
   "execution_count": null,
   "id": "25c53498",
   "metadata": {},
   "outputs": [],
   "source": [
    "options(repr.plot.width=7, repr.plot.height=4)\n",
    "neurons_plot = plot_all_samples_ct_neurons(coord_comparison_df, pt_size=0.2, plot_shape='2row')\n",
    "neurons_plot"
   ]
  },
  {
   "cell_type": "code",
   "execution_count": null,
   "id": "ad34fff7",
   "metadata": {},
   "outputs": [],
   "source": [
    "obj_fgf1 = qs::qread('_targets/objects/obj_d5_01')\n",
    "obj_fgf1"
   ]
  },
  {
   "cell_type": "code",
   "execution_count": null,
   "id": "7a408c60",
   "metadata": {},
   "outputs": [],
   "source": [
    "xe_obj = qs::qread(xe_obj_path)\n",
    "\n",
    "xe_obj@meta.data = xe_obj@meta.data %>%\n",
    "mutate(predicted.polar_label = polar_label)\n",
    "\n",
    "xe_obj@meta.data = xe_obj %>% `[[` %>%\n",
    "mutate(base_label = predicted.polar_label %>% str_replace(fixed('.neg'), '') %>% str_replace(fixed('.none'), '') %>% str_replace(fixed('.pos'), ''))\n",
    "\n",
    "xe_obj@meta.data = xe_obj@meta.data %>% mutate(base_label = str_replace(base_label, fixed('__'), '\\n'))"
   ]
  },
  {
   "cell_type": "code",
   "execution_count": null,
   "id": "7b9f7a67",
   "metadata": {},
   "outputs": [],
   "source": [
    "xe_obj %>% `[[` %>% distinct(base_label) %>% pull(base_label)"
   ]
  },
  {
   "cell_type": "code",
   "execution_count": null,
   "id": "2a551920",
   "metadata": {},
   "outputs": [],
   "source": [
    "obj_fgf1 %>% `[[` %>% colnames"
   ]
  },
  {
   "cell_type": "code",
   "execution_count": null,
   "id": "e08c74e6",
   "metadata": {},
   "outputs": [],
   "source": [
    "library(Seurat)\n",
    "\n",
    "xe_umap = DimPlot(xe_obj, reduction = \"umap\", group.by = \"base_label\", label = TRUE, repel = TRUE, label.size=2, raster = FALSE) + theme(legend.position = \"none\", plot.title=element_text(size=10)) + labs(title = \"Spatial on snRNAseq reference UMAP\") +\n",
    "          theme(axis.title.x = element_blank(),\n",
    "                axis.title.y = element_blank()) + \n",
    "        theme(axis.text.x = element_blank(),   # Remove x-axis labels\n",
    "              axis.text.y = element_blank())    # Remove y-axis labels\n",
    "xe_ref.umap = DimPlot(xe_obj, reduction = \"ref.umap\", group.by = \"base_label\", label = TRUE, repel = TRUE, label.size=2, raster = FALSE) + theme(legend.position = \"none\") + labs(title = \"Spatial on snRNAseq reference UMAP\") +\n",
    "          theme(axis.title.x = element_blank(),\n",
    "                axis.title.y = element_blank()) + \n",
    "        theme(axis.text.x = element_blank(),   # Remove x-axis labels\n",
    "              axis.text.y = element_blank())\n",
    "sc_ref.umap = DimPlot(obj_fgf1, reduction = \"umap\", group.by = \"labels\", label = TRUE, repel = TRUE, label.size=2, raster = FALSE) + theme(legend.position = \"none\") + labs(title = \"snRNAseq reference\") +\n",
    "          theme(axis.title.x = element_blank(),\n",
    "                axis.title.y = element_blank()) + \n",
    "        theme(axis.text.x = element_blank(),   # Remove x-axis labels\n",
    "              axis.text.y = element_blank())\n",
    "options(repr.plot.width=30, repr.plot.height=10)\n",
    "umap_plots = xe_umap + xe_ref.umap #+ sc_ref.umap\n",
    "umap_plots = umap_plots + theme(legend.position = \"none\")"
   ]
  },
  {
   "cell_type": "code",
   "execution_count": null,
   "id": "e3d595e4",
   "metadata": {},
   "outputs": [],
   "source": [
    "xe_umap"
   ]
  },
  {
   "cell_type": "raw",
   "id": "9b395d18",
   "metadata": {},
   "source": [
    "xe_other = qs::qread('xe_other_obj.qs')\n",
    "xe_other"
   ]
  },
  {
   "cell_type": "raw",
   "id": "615e06a3",
   "metadata": {},
   "source": [
    "xe_neurons = qs::qread('xe_neurons_obj.qs')\n",
    "xe_neurons"
   ]
  },
  {
   "cell_type": "raw",
   "id": "9cc695e1",
   "metadata": {},
   "source": [
    "options(repr.plot.width=7, repr.plot.height=7)\n",
    "layout <- '\n",
    "A\n",
    "A\n",
    "A\n",
    "A\n",
    "A\n",
    "A\n",
    "B\n",
    "B\n",
    "C\n",
    "C\n",
    "'\n",
    "ggp = wrap_plots(A = xe_umap + theme(plot.title = element_blank()),\n",
    "               B = neurons_plot,\n",
    "               C = tany_plot,\n",
    "        design = layout) +\n",
    "    plot_layout(guides = 'collect') & \n",
    "      theme(plot.margin = margin(0, 0, 0, 0))\n",
    "\n",
    "    ggp"
   ]
  },
  {
   "cell_type": "raw",
   "id": "5e2b7e18",
   "metadata": {},
   "source": [
    "ggp %>% ggsave(\"label_transfer.pdf\", ., width = 7, height = 7)"
   ]
  },
  {
   "cell_type": "code",
   "execution_count": null,
   "id": "e43b44fb",
   "metadata": {},
   "outputs": [],
   "source": [
    "options(repr.plot.width=7.5, repr.plot.height=3.5)\n",
    "layout <- '\n",
    "B\n",
    "B\n",
    "C\n",
    "C\n",
    "'\n",
    "ggp = wrap_plots(B = neurons_plot,\n",
    "                 C = tany_plot,\n",
    "        design = layout) +\n",
    "    plot_layout(guides = 'collect') & \n",
    "      theme(plot.margin = margin(0, 0, 0, 0))\n",
    "\n",
    "    ggp"
   ]
  },
  {
   "cell_type": "code",
   "execution_count": null,
   "id": "9bde3769",
   "metadata": {},
   "outputs": [],
   "source": [
    "ggp %>% ggsave(\"label_transfer_spatial_only.pdf\", ., width = 7.5, height = 3.5)"
   ]
  },
  {
   "cell_type": "code",
   "execution_count": null,
   "id": "da884923",
   "metadata": {},
   "outputs": [],
   "source": []
  },
  {
   "cell_type": "code",
   "execution_count": null,
   "id": "522b991d",
   "metadata": {
    "scrolled": true
   },
   "outputs": [],
   "source": [
    "markers = qs::qread('_targets/objects/polar_label_markers_2s')\n",
    "markers"
   ]
  },
  {
   "cell_type": "code",
   "execution_count": null,
   "id": "9851bc9c",
   "metadata": {},
   "outputs": [],
   "source": [
    "markers %>% filter(cluster == 'Agrp.pos')"
   ]
  },
  {
   "cell_type": "code",
   "execution_count": null,
   "id": "9dcc7817",
   "metadata": {},
   "outputs": [],
   "source": [
    "markers %>% filter(cluster == 'Agrp.neg')"
   ]
  },
  {
   "cell_type": "code",
   "execution_count": null,
   "id": "b5ff3eb4",
   "metadata": {},
   "outputs": [],
   "source": [
    "obj_fgf1_neurons = qs::qread('_targets/objects/obj_fgf1')\n",
    "obj_fgf1_neurons"
   ]
  },
  {
   "cell_type": "code",
   "execution_count": null,
   "id": "98e16aec",
   "metadata": {},
   "outputs": [],
   "source": []
  },
  {
   "cell_type": "code",
   "execution_count": null,
   "id": "1539fccf",
   "metadata": {},
   "outputs": [],
   "source": [
    "options(repr.plot.width=7.5, repr.plot.height=7.5)\n",
    "Idents(obj_fgf1_neurons) = obj_fgf1_neurons@meta.data$polar_label\n",
    "agrp_cells = obj_fgf1_neurons %>% `[[` %>% filter(labels == 'Agrp') %>% rownames\n",
    "FeaturePlot(object = obj_fgf1_neurons, features = 'Pcdh9', cells = agrp_cells, label = TRUE, order=TRUE)"
   ]
  },
  {
   "cell_type": "code",
   "execution_count": null,
   "id": "c9453c0f",
   "metadata": {},
   "outputs": [],
   "source": [
    "options(repr.plot.width=15, repr.plot.height=3)\n",
    "obj_fgf1_neurons %>%\n",
    "subset(cells = agrp_cells) %>%\n",
    "VlnPlot(features= markers %>% filter(cluster == 'Agrp.neg') %>% head(10) %>% pull(gene), ncol=10)"
   ]
  },
  {
   "cell_type": "code",
   "execution_count": null,
   "id": "3806560b",
   "metadata": {},
   "outputs": [],
   "source": [
    "options(repr.plot.width=15, repr.plot.height=3)\n",
    "obj_fgf1_neurons %>%\n",
    "subset(cells = agrp_cells) %>%\n",
    "VlnPlot(features= markers %>% filter(cluster == 'Agrp.pos') %>% head(10) %>% pull(gene), ncol=10)"
   ]
  },
  {
   "cell_type": "code",
   "execution_count": null,
   "id": "3854c701",
   "metadata": {},
   "outputs": [],
   "source": [
    "obj_fgf1_neurons %>% `[[` %>% head"
   ]
  },
  {
   "cell_type": "code",
   "execution_count": null,
   "id": "25ccd274",
   "metadata": {},
   "outputs": [],
   "source": [
    "coord_comparison_df %>%\n",
    "filter(label == 'Agrp') %>%\n",
    "group_by(sample_name, treatment, polarity) %>%\n",
    "summarise(n = n())"
   ]
  },
  {
   "cell_type": "code",
   "execution_count": null,
   "id": "0d5bd40e",
   "metadata": {},
   "outputs": [],
   "source": [
    "coord_comparison_df %>%\n",
    "filter(label == 'Agrp') %>%\n",
    "group_by(sample_name, treatment, polarity) %>%\n",
    "summarise(n = n()) %>%\n",
    "filter(polarity == 'neg')"
   ]
  },
  {
   "cell_type": "code",
   "execution_count": null,
   "id": "24fa3563",
   "metadata": {},
   "outputs": [],
   "source": [
    "coord_comparison_df %>%\n",
    "filter(label == 'MOL') %>%\n",
    "group_by(sample_name, treatment, polarity) %>%\n",
    "summarise(n = n()) %>%\n",
    "filter(polarity == 'pos')"
   ]
  },
  {
   "cell_type": "code",
   "execution_count": null,
   "id": "625cf673",
   "metadata": {},
   "outputs": [],
   "source": [
    "coord_comparison_df %>%\n",
    "# filter(label == 'Rgs16_Dlx1') %>%\n",
    "group_by(sample_name, treatment, polarity) %>%\n",
    "summarise(n = n()) %>%\n",
    "ungroup %>%\n",
    "  pivot_wider(names_from = polarity, \n",
    "              values_from = n,\n",
    "              names_prefix = \"polarity_\")"
   ]
  },
  {
   "cell_type": "code",
   "execution_count": null,
   "id": "b10a2b7a",
   "metadata": {},
   "outputs": [],
   "source": [
    "obj_merged = qs::qread('_targets/objects/obj_merged')\n",
    "obj_merged"
   ]
  },
  {
   "cell_type": "code",
   "execution_count": null,
   "id": "cefc64a9",
   "metadata": {},
   "outputs": [],
   "source": [
    "obj_merged %>% `[[` %>% group_by(sample_name) %>% summarise(n=n())"
   ]
  },
  {
   "cell_type": "code",
   "execution_count": null,
   "id": "0105fc43",
   "metadata": {},
   "outputs": [],
   "source": [
    "xe_obj_cca_td_class = qs::qread('_targets/objects/xe_obj_cca_td_class')\n",
    "xe_obj_cca_td_class"
   ]
  },
  {
   "cell_type": "code",
   "execution_count": null,
   "id": "a1e85b59",
   "metadata": {},
   "outputs": [],
   "source": [
    "xe_obj_cca_td_class %>% `[[` %>% group_by(sample_name) %>% summarise(n=n())"
   ]
  },
  {
   "cell_type": "code",
   "execution_count": null,
   "id": "bbb21fb2",
   "metadata": {},
   "outputs": [],
   "source": []
  },
  {
   "cell_type": "code",
   "execution_count": null,
   "id": "d92f857d",
   "metadata": {},
   "outputs": [],
   "source": []
  },
  {
   "cell_type": "code",
   "execution_count": null,
   "id": "3df0987a",
   "metadata": {},
   "outputs": [],
   "source": []
  },
  {
   "cell_type": "code",
   "execution_count": null,
   "id": "af122f5b",
   "metadata": {},
   "outputs": [],
   "source": []
  },
  {
   "cell_type": "code",
   "execution_count": null,
   "id": "4eb72945",
   "metadata": {},
   "outputs": [],
   "source": []
  },
  {
   "cell_type": "code",
   "execution_count": null,
   "id": "73feb068",
   "metadata": {},
   "outputs": [],
   "source": []
  },
  {
   "cell_type": "code",
   "execution_count": null,
   "id": "875ac833",
   "metadata": {},
   "outputs": [],
   "source": []
  }
 ],
 "metadata": {
  "kernelspec": {
   "display_name": "R [conda env:fgf1]",
   "language": "R",
   "name": "conda-env-fgf1-r"
  },
  "language_info": {
   "codemirror_mode": "r",
   "file_extension": ".r",
   "mimetype": "text/x-r-source",
   "name": "R",
   "pygments_lexer": "r",
   "version": "4.1.3"
  }
 },
 "nbformat": 4,
 "nbformat_minor": 5
}
