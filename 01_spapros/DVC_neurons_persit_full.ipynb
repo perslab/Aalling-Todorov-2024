{
 "cells": [
  {
   "cell_type": "code",
   "execution_count": 1,
   "id": "9e4affb2",
   "metadata": {},
   "outputs": [],
   "source": [
    "import anndata as ad\n",
    "import scanpy as sc\n",
    "\n",
    "import numpy as np\n",
    "import pandas as pd\n",
    "import sklearn as sk\n",
    "import matplotlib.pyplot as plt\n",
    "import torch\n",
    "\n",
    "from persist import PERSIST, ExpressionDataset"
   ]
  },
  {
   "cell_type": "code",
   "execution_count": null,
   "id": "47a2ad8c",
   "metadata": {},
   "outputs": [],
   "source": []
  },
  {
   "cell_type": "code",
   "execution_count": 3,
   "id": "9e2a6320",
   "metadata": {},
   "outputs": [
    {
     "data": {
      "text/plain": [
       "AnnData object with n_obs × n_vars = 121868 × 10000\n",
       "    obs: 'nCount_RNA', 'nFeature_RNA', 'percent.mt', 'pool', 'hash.ID', 'treatment', 'run', 'species', 'area', 'orig.clusters', 'zhang.predictions', 'zhang.score', 'ludwig.predictions', 'ludwig.score', 'integrated_snn_res.0.1', 'integrated_snn_res.1', 'sub.cluster', 'neurotransmitter', 'cell.type', 'major.cell.type', 'nCount_rat_RNA', 'nFeature_rat_RNA', 'nCount_SCT', 'nFeature_SCT'\n",
       "    var: 'features'\n",
       "    obsm: 'X_pca', 'X_umap'\n",
       "    varm: 'PCs'"
      ]
     },
     "execution_count": 3,
     "metadata": {},
     "output_type": "execute_result"
    }
   ],
   "source": [
    "adata = ad.read_h5ad('/scratch/nmq407/dvc_neurons.h5Seurat.h5ad')\n",
    "adata"
   ]
  },
  {
   "cell_type": "code",
   "execution_count": null,
   "id": "3cd692ef",
   "metadata": {},
   "outputs": [],
   "source": []
  },
  {
   "cell_type": "code",
   "execution_count": null,
   "id": "20cb36c2",
   "metadata": {},
   "outputs": [],
   "source": []
  },
  {
   "cell_type": "code",
   "execution_count": null,
   "id": "a944f6d2",
   "metadata": {},
   "outputs": [],
   "source": []
  },
  {
   "cell_type": "code",
   "execution_count": 4,
   "id": "c9e29109",
   "metadata": {},
   "outputs": [],
   "source": [
    "sc.pp.highly_variable_genes(adata, flavor='seurat', n_top_genes=10000, inplace=True)"
   ]
  },
  {
   "cell_type": "code",
   "execution_count": 5,
   "id": "058f2d8c",
   "metadata": {},
   "outputs": [
    {
     "data": {
      "text/plain": [
       "AnnData object with n_obs × n_vars = 121868 × 10000\n",
       "    obs: 'nCount_RNA', 'nFeature_RNA', 'percent.mt', 'pool', 'hash.ID', 'treatment', 'run', 'species', 'area', 'orig.clusters', 'zhang.predictions', 'zhang.score', 'ludwig.predictions', 'ludwig.score', 'integrated_snn_res.0.1', 'integrated_snn_res.1', 'sub.cluster', 'neurotransmitter', 'cell.type', 'major.cell.type', 'nCount_rat_RNA', 'nFeature_rat_RNA', 'nCount_SCT', 'nFeature_SCT'\n",
       "    var: 'features', 'highly_variable', 'means', 'dispersions', 'dispersions_norm'\n",
       "    uns: 'hvg'\n",
       "    obsm: 'X_pca', 'X_umap'\n",
       "    varm: 'PCs'"
      ]
     },
     "execution_count": 5,
     "metadata": {},
     "output_type": "execute_result"
    }
   ],
   "source": [
    "adata"
   ]
  },
  {
   "cell_type": "code",
   "execution_count": 6,
   "id": "6a84cfb7",
   "metadata": {},
   "outputs": [
    {
     "data": {
      "text/plain": [
       "Ccdc83      True\n",
       "Cnksr3      True\n",
       "Neurl1      True\n",
       "Gsto1       True\n",
       "Mxi1        True\n",
       "            ... \n",
       "Mmp11       True\n",
       "Ppm1n       True\n",
       "Bex4        True\n",
       "Sfxn2.1     True\n",
       "Anp32a.1    True\n",
       "Name: highly_variable, Length: 10000, dtype: bool"
      ]
     },
     "execution_count": 6,
     "metadata": {},
     "output_type": "execute_result"
    }
   ],
   "source": [
    "adata.var['highly_variable']"
   ]
  },
  {
   "cell_type": "code",
   "execution_count": 7,
   "id": "e498e83d",
   "metadata": {},
   "outputs": [],
   "source": [
    "adata = adata[:,adata.var['highly_variable']]"
   ]
  },
  {
   "cell_type": "code",
   "execution_count": 8,
   "id": "2eb04e2f",
   "metadata": {},
   "outputs": [
    {
     "data": {
      "text/plain": [
       "SI-TT-A8_CCTCACACATGGCCCA_2    GABA3\n",
       "SI-TT-A8_CTTTCGGCAGGACTTT_2    GABA3\n",
       "SI-TT-A8_CCACACTGTGGCCTCA_2    Chat2\n",
       "SI-TT-A8_GAACTGTAGGCCCACT_2    GABA3\n",
       "SI-TT-A8_TTCACCGAGGCCTTGC_2    Chat2\n",
       "                               ...  \n",
       "SI-TT-H5_TACCCGTCAATCGTCA_2    GABA1\n",
       "SI-TT-H5_AGATGAATCTAATTCC_2    GABA2\n",
       "SI-TT-H5_GTAGATCCATCGATAC_2    GABA1\n",
       "SI-TT-H5_ATTACTCAGAGCATTA_2    GABA1\n",
       "SI-TT-H5_AGCGTCGCAAGCGATG_2    GABA1\n",
       "Name: ludwig.predictions, Length: 121868, dtype: object"
      ]
     },
     "execution_count": 8,
     "metadata": {},
     "output_type": "execute_result"
    }
   ],
   "source": [
    "adata.obs['ludwig.predictions']"
   ]
  },
  {
   "cell_type": "code",
   "execution_count": 9,
   "id": "acc430b5",
   "metadata": {},
   "outputs": [
    {
     "name": "stderr",
     "output_type": "stream",
     "text": [
      "/tmp/ipykernel_3333/3334576302.py:1: ImplicitModificationWarning: Trying to modify attribute `.obs` of view, initializing view as actual.\n",
      "  adata.obs['ludwig.predictions_codes'] = pd.Categorical(adata.obs['ludwig.predictions']).codes\n",
      "/tools/anaconda/envs/nmq407/fgf1_ygg/lib/python3.8/contextlib.py:120: FutureWarning: X.dtype being converted to np.float32 from float64. In the next version of anndata (0.9) conversion will not be automatic. Pass dtype explicitly to avoid this warning. Pass `AnnData(X, dtype=X.dtype, ...)` to get the future behavour.\n",
      "  next(self.gen)\n"
     ]
    }
   ],
   "source": [
    "adata.obs['ludwig.predictions_codes'] = pd.Categorical(adata.obs['ludwig.predictions']).codes\n"
   ]
  },
  {
   "cell_type": "code",
   "execution_count": 10,
   "id": "76c5ba5e",
   "metadata": {},
   "outputs": [
    {
     "data": {
      "text/plain": [
       "AnnData object with n_obs × n_vars = 121868 × 10000\n",
       "    obs: 'nCount_RNA', 'nFeature_RNA', 'percent.mt', 'pool', 'hash.ID', 'treatment', 'run', 'species', 'area', 'orig.clusters', 'zhang.predictions', 'zhang.score', 'ludwig.predictions', 'ludwig.score', 'integrated_snn_res.0.1', 'integrated_snn_res.1', 'sub.cluster', 'neurotransmitter', 'cell.type', 'major.cell.type', 'nCount_rat_RNA', 'nFeature_rat_RNA', 'nCount_SCT', 'nFeature_SCT', 'ludwig.predictions_codes'\n",
       "    var: 'features', 'highly_variable', 'means', 'dispersions', 'dispersions_norm'\n",
       "    uns: 'hvg'\n",
       "    obsm: 'X_pca', 'X_umap'\n",
       "    varm: 'PCs'"
      ]
     },
     "execution_count": 10,
     "metadata": {},
     "output_type": "execute_result"
    }
   ],
   "source": [
    "adata"
   ]
  },
  {
   "cell_type": "code",
   "execution_count": 11,
   "id": "ea27a404",
   "metadata": {},
   "outputs": [],
   "source": [
    "adata.layers['bin'] = (adata.X>0).astype(np.float32)"
   ]
  },
  {
   "cell_type": "code",
   "execution_count": 12,
   "id": "790c96c3",
   "metadata": {},
   "outputs": [
    {
     "name": "stdout",
     "output_type": "stream",
     "text": [
      "AnnData object with n_obs × n_vars = 121868 × 10000\n",
      "    obs: 'nCount_RNA', 'nFeature_RNA', 'percent.mt', 'pool', 'hash.ID', 'treatment', 'run', 'species', 'area', 'orig.clusters', 'zhang.predictions', 'zhang.score', 'ludwig.predictions', 'ludwig.score', 'integrated_snn_res.0.1', 'integrated_snn_res.1', 'sub.cluster', 'neurotransmitter', 'cell.type', 'major.cell.type', 'nCount_rat_RNA', 'nFeature_rat_RNA', 'nCount_SCT', 'nFeature_SCT', 'ludwig.predictions_codes'\n",
      "    var: 'features', 'highly_variable', 'means', 'dispersions', 'dispersions_norm'\n",
      "    uns: 'hvg'\n",
      "    obsm: 'X_pca', 'X_umap'\n",
      "    varm: 'PCs'\n",
      "    layers: 'bin'\n"
     ]
    }
   ],
   "source": [
    "print(adata)"
   ]
  },
  {
   "cell_type": "code",
   "execution_count": 13,
   "id": "ddb2ab94",
   "metadata": {},
   "outputs": [
    {
     "name": "stdout",
     "output_type": "stream",
     "text": [
      "121868 total samples\n",
      "97494 in training set\n",
      "24374 in validation set\n"
     ]
    }
   ],
   "source": [
    "# Choose training and validation splits. \n",
    "# You may want to use a different strategy to choose these - see https://scikit-learn.org/stable/modules/classes.html#module-sklearn.model_selection\n",
    "train_ind, val_ind = sk.model_selection.train_test_split(np.arange(adata.shape[0]), train_size=0.8)\n",
    "\n",
    "print(f'{adata.shape[0]} total samples')\n",
    "print(f'{np.size(train_ind)} in training set')\n",
    "print(f'{np.size(val_ind)} in validation set')\n",
    "\n",
    "# These are views, so they do not take up memory\n",
    "adata_train = adata[train_ind,:]\n",
    "adata_val = adata[val_ind,:]"
   ]
  },
  {
   "cell_type": "code",
   "execution_count": null,
   "id": "e2c143ca",
   "metadata": {},
   "outputs": [
    {
     "name": "stdout",
     "output_type": "stream",
     "text": [
      "1682376696.1420925\n",
      "cuda:0\n",
      "Starting initial elimination...\n",
      "using CrossEntropyLoss, starting with lam = 0.0001\n"
     ]
    },
    {
     "data": {
      "application/vnd.jupyter.widget-view+json": {
       "model_id": "10fb97eeb26c4f9bb0c4c79f842811c1",
       "version_major": 2,
       "version_minor": 0
      },
      "text/plain": [
       "Training epochs:   0%|          | 0/250 [00:00<?, ?it/s]"
      ]
     },
     "metadata": {},
     "output_type": "display_data"
    }
   ],
   "source": [
    "import time\n",
    "# Get the start time\n",
    "start_time = time.time()\n",
    "print(start_time)\n",
    "\n",
    "# Initialize the dataset for PERSIST\n",
    "# Note: Here, data_train.layers['bin'] is a sparse array\n",
    "# data_train.layers['bin'].A converts it to a dense array\n",
    "train_dataset = ExpressionDataset(adata_train.layers['bin'], adata_train.obs['ludwig.predictions_codes'])\n",
    "val_dataset = ExpressionDataset(adata_val.layers['bin'], adata_val.obs['ludwig.predictions_codes'])\n",
    "\n",
    "\n",
    "# Use GPU device if available -- we highly recommend using a GPU!\n",
    "device = torch.device(torch.cuda.current_device() if torch.cuda.is_available() else 'cpu')\n",
    "\n",
    "# Number of genes to select within the current selection process.\n",
    "num_genes = (32, 64, 100)\n",
    "persist_results = {}\n",
    "\n",
    "# Set up the PERSIST selector\n",
    "selector = PERSIST(train_dataset,\n",
    "                   val_dataset,\n",
    "                   loss_fn=torch.nn.CrossEntropyLoss(),\n",
    "                   device=device)\n",
    "print(device)\n",
    "\n",
    "# Coarse removal of genes\n",
    "print('Starting initial elimination...')\n",
    "candidates, model = selector.eliminate(target=500, max_nepochs=250)\n",
    "print('Completed initial elimination.')\n",
    "\n",
    "print('Selecting specific number of genes...')\n",
    "for num in num_genes:\n",
    "    inds, model = selector.select(num_genes=num, max_nepochs=250)\n",
    "    persist_results[num] = inds\n",
    "print('Done')\n",
    "\n",
    "# Get the end time\n",
    "end_time = time.time()\n",
    "print(time.localtime(end_time))\n",
    "# Calculate the execution time\n",
    "execution_time = end_time - start_time\n",
    "\n",
    "# Format the execution time in a human-readable format\n",
    "minutes, seconds = divmod(execution_time, 60)\n",
    "hours, minutes = divmod(minutes, 60)\n",
    "formatted_time = f\"{int(hours)} hours, {int(minutes)} minutes, {int(seconds)} seconds\"\n",
    "print(\"Execution time:\", formatted_time)"
   ]
  },
  {
   "cell_type": "code",
   "execution_count": null,
   "id": "d480094d",
   "metadata": {},
   "outputs": [],
   "source": [
    "device"
   ]
  },
  {
   "cell_type": "code",
   "execution_count": null,
   "id": "23c05fc9",
   "metadata": {},
   "outputs": [],
   "source": [
    "persist_results"
   ]
  },
  {
   "cell_type": "code",
   "execution_count": null,
   "id": "f571e2b9",
   "metadata": {},
   "outputs": [],
   "source": [
    "minutes, seconds = divmod(end_time, 60)\n",
    "hours, minutes = divmod(minutes, 60)\n",
    "formatted_time = f\"{int(hours)} hours, {int(minutes)} minutes, {int(seconds)} seconds\""
   ]
  },
  {
   "cell_type": "code",
   "execution_count": null,
   "id": "cf69056d",
   "metadata": {},
   "outputs": [],
   "source": [
    "formatted_time"
   ]
  },
  {
   "cell_type": "code",
   "execution_count": null,
   "id": "6b7d71ae",
   "metadata": {},
   "outputs": [],
   "source": [
    "time.localtime(end_time)"
   ]
  },
  {
   "cell_type": "code",
   "execution_count": null,
   "id": "afeabda8",
   "metadata": {},
   "outputs": [],
   "source": [
    "# obtain a copy of features from the anndata object\n",
    "# Note: Without the .copy(), you will modify adata itself, which may be desirable in some use cases.\n",
    "df = adata.var.copy()\n",
    "\n",
    "# set a boolean = True for genes selected in any of the rounds\n",
    "for num in num_genes:\n",
    "    df[f'persist_set_{num}'] = False\n",
    "    ind = df.iloc[persist_results[num]].index\n",
    "    df.loc[ind,f'persist_set_{num}'] = True"
   ]
  },
  {
   "cell_type": "code",
   "execution_count": null,
   "id": "876a7925",
   "metadata": {},
   "outputs": [],
   "source": [
    "# only keep features (genes) that were selected in any set by PERSIST, and save for subsequent use\n",
    "df = df[df[[f'persist_set_{num}' for num in num_genes]].any(axis=1)]\n",
    "\n",
    "df.head(2)"
   ]
  },
  {
   "cell_type": "code",
   "execution_count": null,
   "id": "78975176",
   "metadata": {},
   "outputs": [],
   "source": [
    "sc.pl.dotplot(adata,\n",
    "              var_names=df[df['persist_set_100']].index.values,\n",
    "              groupby='polar_label',\n",
    "              layer='bin', )\n",
    "plt.show()"
   ]
  },
  {
   "cell_type": "code",
   "execution_count": null,
   "id": "5f07d433",
   "metadata": {},
   "outputs": [],
   "source": [
    "df[df['persist_set_100']].index.values"
   ]
  },
  {
   "cell_type": "code",
   "execution_count": null,
   "id": "49f926f8",
   "metadata": {},
   "outputs": [],
   "source": [
    "gbr_100 = ['Nrg3', 'Plp1', 'Aqp4', 'Htr3b', 'Rax', 'Rbfox1', 'Il1rapl2', 'Robo1', 'Kcnip4', 'Sgcz', 'Fgf13', 'Cntn4', 'Egfem1', 'Gpc6', 'Hdac9', 'Col25a1', 'Dcc', 'Nkain2', 'Pcdh11x', 'Prkg1', 'Pdgfra', 'Prr16', 'Kctd16', 'Nrxn3', 'Pde10a', 'Plcl1', 'Nrg1', 'Rtl4', 'Bmp4', 'Grm7', 'Ptprk', 'Sgcd', 'Ncam2', 'Zfhx3', 'Erbb4', 'Kirrel3', 'Nxph1', 'Mgat4c', 'Oxr1', 'Sorcs1', 'Pcdh7', 'Adarb2', 'Csmd1', 'Inpp4b', 'Ptprt', 'Trpm3', 'Tenm3', 'Tox', 'Alcam', 'Car10', 'Ntm', 'Slit2', 'Plxdc2', 'Tenm2', 'Luzp2', 'Ptprd', 'Lrp1b', 'Sox5', 'Brinp3', 'Pcdh9', 'Cacna2d3', 'Rmst', 'Rgs6', 'Fat3', 'Cadm2', 'Pde4b', 'Gpc5', 'Cfap299', 'Gria1', 'Arhgap6', 'Pdzrn3', 'P3h2', 'Kcnq3', 'Plcb1', 'Deptor', 'Agrp', 'Pomc', 'Lef1', 'Lmx1a', 'Cntn5', 'Lingo2', 'Zfp804b', 'Galntl6', 'Grm8', 'Hs3st4', 'Fhit', 'Immp2l', 'Lrmda', 'Macrod2', 'Gtdc1', 'Naaladl2', 'Nalf1', 'Slc1a2', 'Ctnna2', 'Slc7a11', 'Prkca', 'Dlg2', 'Gabrg3']"
   ]
  },
  {
   "cell_type": "code",
   "execution_count": null,
   "id": "6bf8ff37",
   "metadata": {},
   "outputs": [],
   "source": [
    "len(gbr_100)"
   ]
  },
  {
   "cell_type": "code",
   "execution_count": null,
   "id": "6555d115",
   "metadata": {},
   "outputs": [],
   "source": [
    "sc.pl.dotplot(adata,\n",
    "              var_names=gbr_100,\n",
    "              groupby='polar_label',\n",
    "              layer='bin')\n",
    "plt.show()"
   ]
  },
  {
   "cell_type": "code",
   "execution_count": null,
   "id": "758a6790",
   "metadata": {},
   "outputs": [],
   "source": [
    "len(selector.candidates)"
   ]
  },
  {
   "cell_type": "code",
   "execution_count": null,
   "id": "5fdc0e4a",
   "metadata": {},
   "outputs": [],
   "source": [
    "selector.loss_fn"
   ]
  },
  {
   "cell_type": "code",
   "execution_count": null,
   "id": "18f9e3f4",
   "metadata": {},
   "outputs": [],
   "source": [
    "selector.preselected"
   ]
  },
  {
   "cell_type": "code",
   "execution_count": null,
   "id": "6ed696d7",
   "metadata": {},
   "outputs": [],
   "source": [
    "selector.preselected_relative"
   ]
  },
  {
   "cell_type": "code",
   "execution_count": null,
   "id": "6af68212",
   "metadata": {},
   "outputs": [],
   "source": [
    "selector.activation"
   ]
  },
  {
   "cell_type": "code",
   "execution_count": null,
   "id": "6c18104c",
   "metadata": {},
   "outputs": [],
   "source": [
    "selector."
   ]
  }
 ],
 "metadata": {
  "kernelspec": {
   "display_name": "Python [conda env:fgf1_ygg]",
   "language": "python",
   "name": "conda-env-fgf1_ygg-py"
  },
  "language_info": {
   "codemirror_mode": {
    "name": "ipython",
    "version": 3
   },
   "file_extension": ".py",
   "mimetype": "text/x-python",
   "name": "python",
   "nbconvert_exporter": "python",
   "pygments_lexer": "ipython3",
   "version": "3.8.13"
  }
 },
 "nbformat": 4,
 "nbformat_minor": 5
}
