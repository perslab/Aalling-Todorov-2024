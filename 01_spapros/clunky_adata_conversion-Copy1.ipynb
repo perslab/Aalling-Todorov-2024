{
 "cells": [
  {
   "cell_type": "code",
   "execution_count": 1,
   "id": "e24525e7",
   "metadata": {},
   "outputs": [
    {
     "name": "stderr",
     "output_type": "stream",
     "text": [
      "Loading required package: SummarizedExperiment\n",
      "\n",
      "Loading required package: MatrixGenerics\n",
      "\n",
      "Loading required package: matrixStats\n",
      "\n",
      "\n",
      "Attaching package: ‘MatrixGenerics’\n",
      "\n",
      "\n",
      "The following objects are masked from ‘package:matrixStats’:\n",
      "\n",
      "    colAlls, colAnyNAs, colAnys, colAvgsPerRowSet, colCollapse,\n",
      "    colCounts, colCummaxs, colCummins, colCumprods, colCumsums,\n",
      "    colDiffs, colIQRDiffs, colIQRs, colLogSumExps, colMadDiffs,\n",
      "    colMads, colMaxs, colMeans2, colMedians, colMins, colOrderStats,\n",
      "    colProds, colQuantiles, colRanges, colRanks, colSdDiffs, colSds,\n",
      "    colSums2, colTabulates, colVarDiffs, colVars, colWeightedMads,\n",
      "    colWeightedMeans, colWeightedMedians, colWeightedSds,\n",
      "    colWeightedVars, rowAlls, rowAnyNAs, rowAnys, rowAvgsPerColSet,\n",
      "    rowCollapse, rowCounts, rowCummaxs, rowCummins, rowCumprods,\n",
      "    rowCumsums, rowDiffs, rowIQRDiffs, rowIQRs, rowLogSumExps,\n",
      "    rowMadDiffs, rowMads, rowMaxs, rowMeans2, rowMedians, rowMins,\n",
      "    rowOrderStats, rowProds, rowQuantiles, rowRanges, rowRanks,\n",
      "    rowSdDiffs, rowSds, rowSums2, rowTabulates, rowVarDiffs, rowVars,\n",
      "    rowWeightedMads, rowWeightedMeans, rowWeightedMedians,\n",
      "    rowWeightedSds, rowWeightedVars\n",
      "\n",
      "\n",
      "Loading required package: GenomicRanges\n",
      "\n",
      "Loading required package: stats4\n",
      "\n",
      "Loading required package: BiocGenerics\n",
      "\n",
      "\n",
      "Attaching package: ‘BiocGenerics’\n",
      "\n",
      "\n",
      "The following objects are masked from ‘package:stats’:\n",
      "\n",
      "    IQR, mad, sd, var, xtabs\n",
      "\n",
      "\n",
      "The following objects are masked from ‘package:base’:\n",
      "\n",
      "    anyDuplicated, append, as.data.frame, basename, cbind, colnames,\n",
      "    dirname, do.call, duplicated, eval, evalq, Filter, Find, get, grep,\n",
      "    grepl, intersect, is.unsorted, lapply, Map, mapply, match, mget,\n",
      "    order, paste, pmax, pmax.int, pmin, pmin.int, Position, rank,\n",
      "    rbind, Reduce, rownames, sapply, setdiff, sort, table, tapply,\n",
      "    union, unique, unsplit, which.max, which.min\n",
      "\n",
      "\n",
      "Loading required package: S4Vectors\n",
      "\n",
      "\n",
      "Attaching package: ‘S4Vectors’\n",
      "\n",
      "\n",
      "The following objects are masked from ‘package:base’:\n",
      "\n",
      "    expand.grid, I, unname\n",
      "\n",
      "\n",
      "Loading required package: IRanges\n",
      "\n",
      "Loading required package: GenomeInfoDb\n",
      "\n",
      "Loading required package: Biobase\n",
      "\n",
      "Welcome to Bioconductor\n",
      "\n",
      "    Vignettes contain introductory material; view with\n",
      "    'browseVignettes()'. To cite Bioconductor, see\n",
      "    'citation(\"Biobase\")', and for packages 'citation(\"pkgname\")'.\n",
      "\n",
      "\n",
      "\n",
      "Attaching package: ‘Biobase’\n",
      "\n",
      "\n",
      "The following object is masked from ‘package:MatrixGenerics’:\n",
      "\n",
      "    rowMedians\n",
      "\n",
      "\n",
      "The following objects are masked from ‘package:matrixStats’:\n",
      "\n",
      "    anyMissing, rowMedians\n",
      "\n",
      "\n",
      "Attaching SeuratObject\n",
      "\n",
      "Attaching sp\n",
      "\n",
      "\n",
      "Attaching package: ‘Seurat’\n",
      "\n",
      "\n",
      "The following object is masked from ‘package:SummarizedExperiment’:\n",
      "\n",
      "    Assays\n",
      "\n",
      "\n"
     ]
    }
   ],
   "source": [
    "library(SingleCellExperiment)\n",
    "library(Seurat)"
   ]
  },
  {
   "cell_type": "code",
   "execution_count": 2,
   "id": "280a328a",
   "metadata": {},
   "outputs": [
    {
     "data": {
      "text/plain": [
       "An object of class Seurat \n",
       "58800 features across 143931 samples within 3 assays \n",
       "Active assay: integrated (3434 features, 3434 variable features)\n",
       " 2 other assays present: RNA, SCT\n",
       " 2 dimensional reductions calculated: pca, umap"
      ]
     },
     "metadata": {},
     "output_type": "display_data"
    }
   ],
   "source": [
    "seurat_obj = qs::qread('/scratch/nmq407/exp_04_labelled.qs')\n",
    "seurat_obj"
   ]
  },
  {
   "cell_type": "code",
   "execution_count": 3,
   "id": "4187fc22",
   "metadata": {},
   "outputs": [
    {
     "data": {
      "text/plain": [
       "class: SingleCellExperiment \n",
       "dim: 26479 143931 \n",
       "metadata(0):\n",
       "assays(2): counts logcounts\n",
       "rownames(26479): ENSMUSG00000089699 ENSMUSG00000104238 ...\n",
       "  ENSMUSG00000094181 ENSMUSG00000094576\n",
       "rowData names(0):\n",
       "colnames(143931): GCAGCCACACAGCCAC_1_1 TGCTTGCAGTTCCGTA_1_1 ...\n",
       "  TTAATCCGTGATAGTA_5_3 TCACTCGAGGATACCG_5_3\n",
       "colData names(35): orig.ident nCount_RNA ... labels ident\n",
       "reducedDimNames(2): PCA UMAP\n",
       "mainExpName: SCT\n",
       "altExpNames(0):"
      ]
     },
     "metadata": {},
     "output_type": "display_data"
    }
   ],
   "source": [
    "sce = as.SingleCellExperiment(seurat_obj, assay = 'SCT')\n",
    "sce"
   ]
  },
  {
   "cell_type": "code",
   "execution_count": 4,
   "id": "c41a9dba",
   "metadata": {},
   "outputs": [],
   "source": [
    "# qs::qsave(sce, '/scratch/nmq407/exp_04_labelled_sce.qs')\n",
    "qs::qsave(sce, '/data/petar/exp_04_labelled_sce.qs')"
   ]
  },
  {
   "cell_type": "code",
   "execution_count": 7,
   "id": "1381ec16",
   "metadata": {},
   "outputs": [],
   "source": [
    "library(zellkonverter)\n",
    "library(basilisk)\n",
    "library(scRNAseq)"
   ]
  },
  {
   "cell_type": "code",
   "execution_count": 11,
   "id": "cc633bce",
   "metadata": {},
   "outputs": [
    {
     "name": "stderr",
     "output_type": "stream",
     "text": [
      "\u001b[36mℹ\u001b[39m Using the \u001b[32m\u001b[32m'\u001b[32mcounts\u001b[32m'\u001b[32m\u001b[39m assay as the \u001b[32m\u001b[32mX matrix\u001b[32m\u001b[39m\n",
      "\n"
     ]
    }
   ],
   "source": [
    "roundtrip <- basiliskRun(fun = function(sce) {\n",
    "     # Convert SCE to AnnData:\n",
    "#      adata <- SCE2AnnData(sce)\n",
    "\n",
    "     # Maybe do some work in Python on 'adata':\n",
    "     # BLAH BLAH BLAH\n",
    "\n",
    "     # Convert back to an SCE:\n",
    "#     writeH5AD(sce, '/scratch/nmq407/exp_04_labelled_h5ad')\n",
    "    writeH5AD(sce, '/scratch/nmq407/exp_04_labelled_h5ad')\n",
    "}, env = zellkonverterAnnDataEnv(), sce = sce)"
   ]
  },
  {
   "cell_type": "code",
   "execution_count": 9,
   "id": "0384ebef",
   "metadata": {},
   "outputs": [
    {
     "data": {
      "text/html": [
       "2"
      ],
      "text/latex": [
       "2"
      ],
      "text/markdown": [
       "2"
      ],
      "text/plain": [
       "[1] 2"
      ]
     },
     "metadata": {},
     "output_type": "display_data"
    }
   ],
   "source": [
    "2"
   ]
  },
  {
   "cell_type": "code",
   "execution_count": null,
   "id": "0697a0ee",
   "metadata": {},
   "outputs": [],
   "source": []
  }
 ],
 "metadata": {
  "kernelspec": {
   "display_name": "R [conda env:fgf1]",
   "language": "R",
   "name": "conda-env-fgf1-r"
  },
  "language_info": {
   "codemirror_mode": "r",
   "file_extension": ".r",
   "mimetype": "text/x-r-source",
   "name": "R",
   "pygments_lexer": "r",
   "version": "4.1.3"
  }
 },
 "nbformat": 4,
 "nbformat_minor": 5
}
