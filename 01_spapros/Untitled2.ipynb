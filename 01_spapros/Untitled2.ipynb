{
 "cells": [
  {
   "cell_type": "code",
   "execution_count": null,
   "id": "005ca626",
   "metadata": {},
   "outputs": [],
   "source": [
    "library(\"rhdf5\")"
   ]
  },
  {
   "cell_type": "code",
   "execution_count": null,
   "id": "f2d570ac",
   "metadata": {},
   "outputs": [],
   "source": [
    "destination_file = \"/data/petar/archs4/mouse_matrix_v10.h5\""
   ]
  },
  {
   "cell_type": "code",
   "execution_count": null,
   "id": "fd010284",
   "metadata": {},
   "outputs": [],
   "source": [
    "samples = h5read(destination_file, \"meta/samples/geo_accession\")\n",
    "genes = h5read(destination_file, \"meta/genes/genes\")"
   ]
  },
  {
   "cell_type": "code",
   "execution_count": null,
   "id": "8fb8660d",
   "metadata": {},
   "outputs": [],
   "source": [
    "2"
   ]
  },
  {
   "cell_type": "code",
   "execution_count": null,
   "id": "958d05c7",
   "metadata": {},
   "outputs": [],
   "source": [
    "genes = h5read(destination_file, \"meta/genes/genes\")"
   ]
  },
  {
   "cell_type": "code",
   "execution_count": null,
   "id": "8abb04c4",
   "metadata": {},
   "outputs": [],
   "source": [
    "length(genes)"
   ]
  }
 ],
 "metadata": {
  "kernelspec": {
   "display_name": "R [conda env:fgf1]",
   "language": "R",
   "name": "conda-env-fgf1-r"
  },
  "language_info": {
   "codemirror_mode": "r",
   "file_extension": ".r",
   "mimetype": "text/x-r-source",
   "name": "R",
   "pygments_lexer": "r",
   "version": "4.1.3"
  }
 },
 "nbformat": 4,
 "nbformat_minor": 5
}
