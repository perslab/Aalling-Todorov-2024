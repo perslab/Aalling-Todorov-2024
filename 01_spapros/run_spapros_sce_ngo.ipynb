{
 "cells": [
  {
   "cell_type": "code",
   "execution_count": 1,
   "id": "8cd1d5b3",
   "metadata": {},
   "outputs": [
    {
     "data": {
      "text/plain": [
       "<Figure size 4500x3000 with 0 Axes>"
      ]
     },
     "execution_count": 1,
     "metadata": {},
     "output_type": "execute_result"
    },
    {
     "data": {
      "text/plain": [
       "<Figure size 4500x3000 with 0 Axes>"
      ]
     },
     "metadata": {},
     "output_type": "display_data"
    }
   ],
   "source": [
    "import scanpy as sc\n",
    "import spapros as sp\n",
    "import numpy as np\n",
    "import pandas as pd\n",
    "from matplotlib.pyplot import figure\n",
    "import pickle\n",
    "import os\n",
    "import scipy\n",
    "\n",
    "figure(figsize=(15, 10), dpi=300)"
   ]
  },
  {
   "cell_type": "code",
   "execution_count": 2,
   "id": "e064e764",
   "metadata": {},
   "outputs": [
    {
     "data": {
      "text/plain": [
       "35818"
      ]
     },
     "execution_count": 2,
     "metadata": {},
     "output_type": "execute_result"
    }
   ],
   "source": [
    "os.getpid()"
   ]
  },
  {
   "cell_type": "code",
   "execution_count": 3,
   "id": "caf3954e",
   "metadata": {},
   "outputs": [
    {
     "name": "stdout",
     "output_type": "stream",
     "text": [
      "scanpy==1.9.1 anndata==0.8.0 umap==0.5.3 numpy==1.23.3 scipy==1.9.1 pandas==1.5.0 scikit-learn==1.1.2 statsmodels==0.13.2 python-igraph==0.9.11 pynndescent==0.5.7\n",
      "spapros==0.1.1\n"
     ]
    }
   ],
   "source": [
    "#sc.settings.verbosity = 0\n",
    "sc.logging.print_header()\n",
    "print(f\"spapros=={sp.__version__}\")"
   ]
  },
  {
   "cell_type": "code",
   "execution_count": 4,
   "id": "758ea0cd",
   "metadata": {},
   "outputs": [
    {
     "data": {
      "text/plain": [
       "AnnData object with n_obs × n_vars = 107464 × 18576\n",
       "    obs: 'orig.ident', 'nCount_RNA', 'nFeature_RNA', 'Index.10x', 'nCount_HTO', 'nFeature_HTO', 'Index.HTO', 'nCount_spliced', 'nFeature_spliced', 'nCount_unspliced', 'nFeature_unspliced', 'HTO_mcl_maxID', 'HTO_mcl_secondID', 'HTO_mcl_margin', 'HTO_mcl_classification', 'HTO_mcl_classification.global', 'hash.mcl.ID', 'doublet', 'predicted_dub_std', 'predicted_dub_cut', 'predicted_dub_all', 'nCount_SCT', 'nFeature_SCT', 'SCT_snn_res.0.8', 'seurat_clusters', 'strain', 'treatment', 'time', 'collection_date', 'isolation_date', 'batch', 'predicted.id', 'prediction.score.max', 'labels', 'polar_label', 'ident'\n",
       "    uns: 'X_name'\n",
       "    obsm: 'PCA', 'UMAP'\n",
       "    layers: 'logcounts'"
      ]
     },
     "execution_count": 4,
     "metadata": {},
     "output_type": "execute_result"
    }
   ],
   "source": [
    "adata = sc.read_h5ad(\"/scratch/nmq407/ds_obj_sce_neuron_h5ad_from_notebook\")\n",
    "adata"
   ]
  },
  {
   "cell_type": "code",
   "execution_count": 5,
   "id": "fdc0c30e",
   "metadata": {},
   "outputs": [
    {
     "name": "stderr",
     "output_type": "stream",
     "text": [
      "/tmp/ipykernel_35818/2089171798.py:2: ImplicitModificationWarning: Trying to modify attribute `.obs` of view, initializing view as actual.\n",
      "  adata_00.obs['celltype'] = adata.obs['polar_label']\n",
      "/tools/anaconda/envs/nmq407/fgf1_ygg/lib/python3.8/contextlib.py:120: FutureWarning: X.dtype being converted to np.float32 from float64. In the next version of anndata (0.9) conversion will not be automatic. Pass dtype explicitly to avoid this warning. Pass `AnnData(X, dtype=X.dtype, ...)` to get the future behavour.\n",
      "  next(self.gen)\n"
     ]
    },
    {
     "data": {
      "text/plain": [
       "AnnData object with n_obs × n_vars = 107464 × 15766\n",
       "    obs: 'orig.ident', 'nCount_RNA', 'nFeature_RNA', 'Index.10x', 'nCount_HTO', 'nFeature_HTO', 'Index.HTO', 'nCount_spliced', 'nFeature_spliced', 'nCount_unspliced', 'nFeature_unspliced', 'HTO_mcl_maxID', 'HTO_mcl_secondID', 'HTO_mcl_margin', 'HTO_mcl_classification', 'HTO_mcl_classification.global', 'hash.mcl.ID', 'doublet', 'predicted_dub_std', 'predicted_dub_cut', 'predicted_dub_all', 'nCount_SCT', 'nFeature_SCT', 'SCT_snn_res.0.8', 'seurat_clusters', 'strain', 'treatment', 'time', 'collection_date', 'isolation_date', 'batch', 'predicted.id', 'prediction.score.max', 'labels', 'polar_label', 'ident', 'celltype'\n",
       "    var: 'n_cells', 'highly_variable', 'highly_variable_rank', 'means', 'variances', 'variances_norm'\n",
       "    uns: 'X_name', 'hvg'\n",
       "    obsm: 'PCA', 'UMAP', 'X_umap'\n",
       "    layers: 'logcounts'"
      ]
     },
     "execution_count": 5,
     "metadata": {},
     "output_type": "execute_result"
    }
   ],
   "source": [
    "adata_00 = adata[adata.obs_names, adata.var_names]\n",
    "adata_00.obs['celltype'] = adata.obs['polar_label']\n",
    "adata_00.obsm['X_umap'] = adata.obsm['UMAP'].to_numpy()\n",
    "adata_00.X = scipy.sparse.csr_matrix(adata_00.X)\n",
    "sc.pp.filter_genes(adata_00, min_cells=1)\n",
    "sc.pp.highly_variable_genes(adata_00, flavor=\"seurat_v3\",n_top_genes=5000)\n",
    "adata_00"
   ]
  },
  {
   "cell_type": "code",
   "execution_count": 6,
   "id": "a114b87e",
   "metadata": {},
   "outputs": [
    {
     "data": {
      "text/plain": [
       "<107464x15766 sparse matrix of type '<class 'numpy.float32'>'\n",
       "\twith 494575233 stored elements in Compressed Sparse Row format>"
      ]
     },
     "execution_count": 6,
     "metadata": {},
     "output_type": "execute_result"
    }
   ],
   "source": [
    "adata_00.X"
   ]
  },
  {
   "cell_type": "code",
   "execution_count": 7,
   "id": "c97d0a5e",
   "metadata": {},
   "outputs": [
    {
     "data": {
      "text/plain": [
       "False"
      ]
     },
     "execution_count": 7,
     "metadata": {},
     "output_type": "execute_result"
    }
   ],
   "source": [
    "X = adata_00.X\n",
    "X = np.log1p(X)\n",
    "X = np.expm1(X)\n",
    "mean = X.mean(axis=0).A1\n",
    "mean[mean == 0] = 1e-12\n",
    "mean = np.log1p(mean)\n",
    "np.any(mean == np.inf)"
   ]
  },
  {
   "cell_type": "code",
   "execution_count": null,
   "id": "7be544c4",
   "metadata": {},
   "outputs": [],
   "source": [
    "X.mean(axis=0).A1"
   ]
  },
  {
   "cell_type": "code",
   "execution_count": null,
   "id": "25733738",
   "metadata": {},
   "outputs": [],
   "source": [
    "adata_00.obsm['X_umap']"
   ]
  },
  {
   "cell_type": "code",
   "execution_count": null,
   "id": "f8de83af",
   "metadata": {},
   "outputs": [],
   "source": [
    "sc.pl.umap(adata_00)"
   ]
  },
  {
   "cell_type": "code",
   "execution_count": null,
   "id": "9a8d3ec9",
   "metadata": {},
   "outputs": [],
   "source": [
    "selector = sp.se.ProbesetSelector(adata_00,\n",
    "                                  n=100,\n",
    "                                  celltype_key=\"celltype\",\n",
    "                                  verbosity=1,\n",
    "                                  save_dir='blah/',\n",
    "                                  n_jobs=40)"
   ]
  },
  {
   "cell_type": "code",
   "execution_count": null,
   "id": "7ec3d1a5",
   "metadata": {},
   "outputs": [],
   "source": [
    "selector.select_probeset()"
   ]
  },
  {
   "cell_type": "code",
   "execution_count": null,
   "id": "963848b2",
   "metadata": {},
   "outputs": [],
   "source": [
    "selector.probeset"
   ]
  },
  {
   "cell_type": "code",
   "execution_count": null,
   "id": "ca4444e7",
   "metadata": {},
   "outputs": [],
   "source": [
    "selected_set = selector.probeset.index[selector.probeset.selection].tolist()\n",
    "selected_set"
   ]
  },
  {
   "cell_type": "code",
   "execution_count": null,
   "id": "080b6563",
   "metadata": {},
   "outputs": [],
   "source": [
    "masked_dotplot = sp.pl.masked_dotplot(adata_00, selector)\n",
    "masked_dotplot.set_size_inches(18.5, 10.5)\n",
    "masked_dotplot"
   ]
  },
  {
   "cell_type": "code",
   "execution_count": null,
   "id": "dfde1e37",
   "metadata": {},
   "outputs": [],
   "source": [
    "selector.plot_gene_overlap()"
   ]
  },
  {
   "cell_type": "code",
   "execution_count": null,
   "id": "93982f62",
   "metadata": {},
   "outputs": [],
   "source": [
    "evaluator = sp.ev.ProbesetEvaluator(adata_00, verbosity=2, results_dir='evaluate_anon')"
   ]
  },
  {
   "cell_type": "code",
   "execution_count": null,
   "id": "178eb15d",
   "metadata": {},
   "outputs": [],
   "source": [
    "evaluator.evaluate_probeset(selected_set, set_id=\"Spapros\")"
   ]
  },
  {
   "cell_type": "code",
   "execution_count": null,
   "id": "2fbc5eca",
   "metadata": {},
   "outputs": [],
   "source": [
    "# Reference probesets\n",
    "reference_sets = sp.se.select_reference_probesets(adata_00, n=100)"
   ]
  },
  {
   "cell_type": "code",
   "execution_count": null,
   "id": "929eb2ee",
   "metadata": {},
   "outputs": [],
   "source": [
    "for set_id, df in reference_sets.items():\n",
    "    gene_set = df[df[\"selection\"]].index.to_list()\n",
    "    evaluator.evaluate_probeset(gene_set, set_id=set_id)\n"
   ]
  },
  {
   "cell_type": "code",
   "execution_count": null,
   "id": "4accaf25",
   "metadata": {},
   "outputs": [],
   "source": [
    "evaluator.summary_results#.index.tolist()"
   ]
  },
  {
   "cell_type": "code",
   "execution_count": null,
   "id": "706f7668",
   "metadata": {},
   "outputs": [],
   "source": [
    "import matplotlib as mpl\n",
    "mpl.rcParams['figure.dpi'] = 300"
   ]
  },
  {
   "cell_type": "code",
   "execution_count": null,
   "id": "023f8e7f",
   "metadata": {},
   "outputs": [],
   "source": [
    "# evaluator.summary_statistics(\"Spapros\")\n",
    "evaluator.plot_summary()"
   ]
  },
  {
   "cell_type": "code",
   "execution_count": null,
   "id": "cf1baad7",
   "metadata": {},
   "outputs": [],
   "source": [
    "figure(figsize=(30, 20), dpi=300)\n",
    "evaluator.plot_confusion_matrix()"
   ]
  },
  {
   "cell_type": "code",
   "execution_count": null,
   "id": "b0a79c20",
   "metadata": {},
   "outputs": [],
   "source": []
  }
 ],
 "metadata": {
  "kernelspec": {
   "display_name": "Python [conda env:fgf1_ygg]",
   "language": "python",
   "name": "conda-env-fgf1_ygg-py"
  },
  "language_info": {
   "codemirror_mode": {
    "name": "ipython",
    "version": 3
   },
   "file_extension": ".py",
   "mimetype": "text/x-python",
   "name": "python",
   "nbconvert_exporter": "python",
   "pygments_lexer": "ipython3",
   "version": "3.8.13"
  }
 },
 "nbformat": 4,
 "nbformat_minor": 5
}
