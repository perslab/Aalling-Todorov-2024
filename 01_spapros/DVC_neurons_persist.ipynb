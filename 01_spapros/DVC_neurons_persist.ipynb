{
 "cells": [
  {
   "cell_type": "code",
   "execution_count": 1,
   "id": "6d64fc64",
   "metadata": {},
   "outputs": [],
   "source": [
    "import anndata as ad\n",
    "import scanpy as sc\n",
    "\n",
    "import numpy as np\n",
    "import pandas as pd\n",
    "import sklearn as sk\n",
    "import matplotlib.pyplot as plt\n",
    "import torch\n",
    "\n",
    "from persist import PERSIST, ExpressionDataset"
   ]
  },
  {
   "cell_type": "code",
   "execution_count": null,
   "id": "00e501a0",
   "metadata": {},
   "outputs": [],
   "source": []
  },
  {
   "cell_type": "code",
   "execution_count": 2,
   "id": "aa7bb49a",
   "metadata": {},
   "outputs": [
    {
     "data": {
      "text/plain": [
       "AnnData object with n_obs × n_vars = 20000 × 3000\n",
       "    obs: 'nCount_RNA', 'nFeature_RNA', 'percent.mt', 'pool', 'hash.ID', 'treatment', 'run', 'species', 'area', 'orig.clusters', 'zhang.predictions', 'zhang.score', 'ludwig.predictions', 'ludwig.score', 'integrated_snn_res.0.1', 'integrated_snn_res.1', 'sub.cluster', 'neurotransmitter', 'cell.type', 'major.cell.type', 'nCount_rat_RNA', 'nFeature_rat_RNA', 'nCount_SCT', 'nFeature_SCT'\n",
       "    var: 'features'\n",
       "    obsm: 'X_pca', 'X_umap'\n",
       "    varm: 'PCs'"
      ]
     },
     "execution_count": 2,
     "metadata": {},
     "output_type": "execute_result"
    }
   ],
   "source": [
    "adata = ad.read_h5ad('/scratch/nmq407/dvc_neurons_rat_20kc_3kvf.h5Seurat.h5ad')\n",
    "adata"
   ]
  },
  {
   "cell_type": "code",
   "execution_count": null,
   "id": "13eeca80",
   "metadata": {},
   "outputs": [],
   "source": []
  },
  {
   "cell_type": "code",
   "execution_count": null,
   "id": "d61ad658",
   "metadata": {},
   "outputs": [],
   "source": []
  },
  {
   "cell_type": "code",
   "execution_count": null,
   "id": "2616b406",
   "metadata": {},
   "outputs": [],
   "source": []
  },
  {
   "cell_type": "code",
   "execution_count": 3,
   "id": "cf74be9f",
   "metadata": {},
   "outputs": [],
   "source": [
    "sc.pp.highly_variable_genes(adata, flavor='seurat', n_top_genes=3000, inplace=True)"
   ]
  },
  {
   "cell_type": "code",
   "execution_count": 4,
   "id": "dad52d5b",
   "metadata": {},
   "outputs": [
    {
     "data": {
      "text/plain": [
       "AnnData object with n_obs × n_vars = 20000 × 3000\n",
       "    obs: 'nCount_RNA', 'nFeature_RNA', 'percent.mt', 'pool', 'hash.ID', 'treatment', 'run', 'species', 'area', 'orig.clusters', 'zhang.predictions', 'zhang.score', 'ludwig.predictions', 'ludwig.score', 'integrated_snn_res.0.1', 'integrated_snn_res.1', 'sub.cluster', 'neurotransmitter', 'cell.type', 'major.cell.type', 'nCount_rat_RNA', 'nFeature_rat_RNA', 'nCount_SCT', 'nFeature_SCT'\n",
       "    var: 'features', 'highly_variable', 'means', 'dispersions', 'dispersions_norm'\n",
       "    uns: 'hvg'\n",
       "    obsm: 'X_pca', 'X_umap'\n",
       "    varm: 'PCs'"
      ]
     },
     "execution_count": 4,
     "metadata": {},
     "output_type": "execute_result"
    }
   ],
   "source": [
    "adata"
   ]
  },
  {
   "cell_type": "code",
   "execution_count": 5,
   "id": "75d5a6f7",
   "metadata": {},
   "outputs": [
    {
     "data": {
      "text/plain": [
       "Cnksr3        True\n",
       "Nmbr          True\n",
       "Trdn          True\n",
       "Nkain2        True\n",
       "Rps11         True\n",
       "              ... \n",
       "Mt-co3        True\n",
       "Mt-nd4        True\n",
       "Mt-cyb        True\n",
       "AY172581.8    True\n",
       "Tnks2.1       True\n",
       "Name: highly_variable, Length: 3000, dtype: bool"
      ]
     },
     "execution_count": 5,
     "metadata": {},
     "output_type": "execute_result"
    }
   ],
   "source": [
    "adata.var['highly_variable']"
   ]
  },
  {
   "cell_type": "code",
   "execution_count": 6,
   "id": "ede5b0b5",
   "metadata": {},
   "outputs": [],
   "source": [
    "adata = adata[:,adata.var['highly_variable']]"
   ]
  },
  {
   "cell_type": "code",
   "execution_count": 7,
   "id": "4a0e164c",
   "metadata": {},
   "outputs": [
    {
     "data": {
      "text/plain": [
       "SI-TT-B10_AAGCATCAGGGAGATA_2    GABA1\n",
       "SI-TT-B2_ATTCGTTCACATGGTT_2     Chat2\n",
       "SI-TT-E1_TTGAACGGTTGTGCCG_2     GABA3\n",
       "SI-TT-D2_ACAAAGACATAACGGG_2      Glu1\n",
       "SI-TT-C9_CCTGTTGCAAGTCGTT_2     GABA1\n",
       "                                ...  \n",
       "SI-TT-D5_CTAACTTGTATCGTTG_2     GABA1\n",
       "SI-TT-G1_GAAGCGAGTCCAAAGG_2     GABA1\n",
       "SI-TT-G9_GTGAGGACAAGTGCAG_2     GABA1\n",
       "SI-TT-D9_GTGATGTGTCCAAGAG_2     GABA1\n",
       "SI-TT-H9_AGGGTGATCGGTGAAG_2     GABA3\n",
       "Name: ludwig.predictions, Length: 20000, dtype: object"
      ]
     },
     "execution_count": 7,
     "metadata": {},
     "output_type": "execute_result"
    }
   ],
   "source": [
    "adata.obs['ludwig.predictions']"
   ]
  },
  {
   "cell_type": "code",
   "execution_count": 8,
   "id": "8a382f1a",
   "metadata": {},
   "outputs": [
    {
     "name": "stderr",
     "output_type": "stream",
     "text": [
      "/tmp/ipykernel_1380/3334576302.py:1: ImplicitModificationWarning: Trying to modify attribute `.obs` of view, initializing view as actual.\n",
      "  adata.obs['ludwig.predictions_codes'] = pd.Categorical(adata.obs['ludwig.predictions']).codes\n",
      "/tools/anaconda/envs/nmq407/fgf1_ygg/lib/python3.8/contextlib.py:120: FutureWarning: X.dtype being converted to np.float32 from float64. In the next version of anndata (0.9) conversion will not be automatic. Pass dtype explicitly to avoid this warning. Pass `AnnData(X, dtype=X.dtype, ...)` to get the future behavour.\n",
      "  next(self.gen)\n"
     ]
    }
   ],
   "source": [
    "adata.obs['ludwig.predictions_codes'] = pd.Categorical(adata.obs['ludwig.predictions']).codes\n"
   ]
  },
  {
   "cell_type": "code",
   "execution_count": 9,
   "id": "500aeaf9",
   "metadata": {},
   "outputs": [
    {
     "data": {
      "text/plain": [
       "AnnData object with n_obs × n_vars = 20000 × 3000\n",
       "    obs: 'nCount_RNA', 'nFeature_RNA', 'percent.mt', 'pool', 'hash.ID', 'treatment', 'run', 'species', 'area', 'orig.clusters', 'zhang.predictions', 'zhang.score', 'ludwig.predictions', 'ludwig.score', 'integrated_snn_res.0.1', 'integrated_snn_res.1', 'sub.cluster', 'neurotransmitter', 'cell.type', 'major.cell.type', 'nCount_rat_RNA', 'nFeature_rat_RNA', 'nCount_SCT', 'nFeature_SCT', 'ludwig.predictions_codes'\n",
       "    var: 'features', 'highly_variable', 'means', 'dispersions', 'dispersions_norm'\n",
       "    uns: 'hvg'\n",
       "    obsm: 'X_pca', 'X_umap'\n",
       "    varm: 'PCs'"
      ]
     },
     "execution_count": 9,
     "metadata": {},
     "output_type": "execute_result"
    }
   ],
   "source": [
    "adata"
   ]
  },
  {
   "cell_type": "code",
   "execution_count": 10,
   "id": "1d96c4ed",
   "metadata": {},
   "outputs": [],
   "source": [
    "adata.layers['bin'] = (adata.X>0).astype(np.float32)"
   ]
  },
  {
   "cell_type": "code",
   "execution_count": 11,
   "id": "68f1aacb",
   "metadata": {},
   "outputs": [
    {
     "name": "stdout",
     "output_type": "stream",
     "text": [
      "AnnData object with n_obs × n_vars = 20000 × 3000\n",
      "    obs: 'nCount_RNA', 'nFeature_RNA', 'percent.mt', 'pool', 'hash.ID', 'treatment', 'run', 'species', 'area', 'orig.clusters', 'zhang.predictions', 'zhang.score', 'ludwig.predictions', 'ludwig.score', 'integrated_snn_res.0.1', 'integrated_snn_res.1', 'sub.cluster', 'neurotransmitter', 'cell.type', 'major.cell.type', 'nCount_rat_RNA', 'nFeature_rat_RNA', 'nCount_SCT', 'nFeature_SCT', 'ludwig.predictions_codes'\n",
      "    var: 'features', 'highly_variable', 'means', 'dispersions', 'dispersions_norm'\n",
      "    uns: 'hvg'\n",
      "    obsm: 'X_pca', 'X_umap'\n",
      "    varm: 'PCs'\n",
      "    layers: 'bin'\n"
     ]
    }
   ],
   "source": [
    "print(adata)"
   ]
  },
  {
   "cell_type": "code",
   "execution_count": 12,
   "id": "75ee6ad6",
   "metadata": {},
   "outputs": [
    {
     "name": "stdout",
     "output_type": "stream",
     "text": [
      "20000 total samples\n",
      "16000 in training set\n",
      "4000 in validation set\n"
     ]
    }
   ],
   "source": [
    "# Choose training and validation splits. \n",
    "# You may want to use a different strategy to choose these - see https://scikit-learn.org/stable/modules/classes.html#module-sklearn.model_selection\n",
    "train_ind, val_ind = sk.model_selection.train_test_split(np.arange(adata.shape[0]), train_size=0.8)\n",
    "\n",
    "print(f'{adata.shape[0]} total samples')\n",
    "print(f'{np.size(train_ind)} in training set')\n",
    "print(f'{np.size(val_ind)} in validation set')\n",
    "\n",
    "# These are views, so they do not take up memory\n",
    "adata_train = adata[train_ind,:]\n",
    "adata_val = adata[val_ind,:]"
   ]
  },
  {
   "cell_type": "code",
   "execution_count": null,
   "id": "4e3f5616",
   "metadata": {},
   "outputs": [
    {
     "name": "stdout",
     "output_type": "stream",
     "text": [
      "1682376402.4261408\n",
      "cuda:0\n",
      "Starting initial elimination...\n",
      "using CrossEntropyLoss, starting with lam = 0.0001\n"
     ]
    },
    {
     "data": {
      "application/vnd.jupyter.widget-view+json": {
       "model_id": "c3d59995595546209d2ae7303fccbc24",
       "version_major": 2,
       "version_minor": 0
      },
      "text/plain": [
       "Training epochs:   0%|          | 0/250 [00:00<?, ?it/s]"
      ]
     },
     "metadata": {},
     "output_type": "display_data"
    },
    {
     "name": "stdout",
     "output_type": "stream",
     "text": [
      "lam = 0.000100 yielded 1414 genes\n",
      "Warm starting model for next iteration\n",
      "next attempt is lam = 0.000445\n"
     ]
    },
    {
     "data": {
      "application/vnd.jupyter.widget-view+json": {
       "model_id": "3bcf200dd77944aeb49a3a345e9790b1",
       "version_major": 2,
       "version_minor": 0
      },
      "text/plain": [
       "Training epochs:   0%|          | 0/250 [00:00<?, ?it/s]"
      ]
     },
     "metadata": {},
     "output_type": "display_data"
    }
   ],
   "source": [
    "import time\n",
    "# Get the start time\n",
    "start_time = time.time()\n",
    "print(start_time)\n",
    "\n",
    "# Initialize the dataset for PERSIST\n",
    "# Note: Here, data_train.layers['bin'] is a sparse array\n",
    "# data_train.layers['bin'].A converts it to a dense array\n",
    "train_dataset = ExpressionDataset(adata_train.layers['bin'], adata_train.obs['ludwig.predictions_codes'])\n",
    "val_dataset = ExpressionDataset(adata_val.layers['bin'], adata_val.obs['ludwig.predictions_codes'])\n",
    "\n",
    "\n",
    "# Use GPU device if available -- we highly recommend using a GPU!\n",
    "device = torch.device(torch.cuda.current_device() if torch.cuda.is_available() else 'cpu')\n",
    "\n",
    "# Number of genes to select within the current selection process.\n",
    "num_genes = (32, 64, 100)\n",
    "persist_results = {}\n",
    "\n",
    "# Set up the PERSIST selector\n",
    "selector = PERSIST(train_dataset,\n",
    "                   val_dataset,\n",
    "                   loss_fn=torch.nn.CrossEntropyLoss(),\n",
    "                   device=device)\n",
    "print(device)\n",
    "\n",
    "# Coarse removal of genes\n",
    "print('Starting initial elimination...')\n",
    "candidates, model = selector.eliminate(target=500, max_nepochs=250)\n",
    "print('Completed initial elimination.')\n",
    "\n",
    "print('Selecting specific number of genes...')\n",
    "for num in num_genes:\n",
    "    inds, model = selector.select(num_genes=num, max_nepochs=250)\n",
    "    persist_results[num] = inds\n",
    "print('Done')\n",
    "\n",
    "# Get the end time\n",
    "end_time = time.time()\n",
    "print(time.localtime(end_time))\n",
    "# Calculate the execution time\n",
    "execution_time = end_time - start_time\n",
    "\n",
    "# Format the execution time in a human-readable format\n",
    "minutes, seconds = divmod(execution_time, 60)\n",
    "hours, minutes = divmod(minutes, 60)\n",
    "formatted_time = f\"{int(hours)} hours, {int(minutes)} minutes, {int(seconds)} seconds\"\n",
    "print(\"Execution time:\", formatted_time)"
   ]
  },
  {
   "cell_type": "code",
   "execution_count": 19,
   "id": "e72739d4",
   "metadata": {},
   "outputs": [
    {
     "data": {
      "text/plain": [
       "{}"
      ]
     },
     "execution_count": 19,
     "metadata": {},
     "output_type": "execute_result"
    }
   ],
   "source": [
    "persist_results"
   ]
  },
  {
   "cell_type": "code",
   "execution_count": null,
   "id": "508ec96d",
   "metadata": {},
   "outputs": [],
   "source": []
  }
 ],
 "metadata": {
  "kernelspec": {
   "display_name": "Python [conda env:fgf1_ygg]",
   "language": "python",
   "name": "conda-env-fgf1_ygg-py"
  },
  "language_info": {
   "codemirror_mode": {
    "name": "ipython",
    "version": 3
   },
   "file_extension": ".py",
   "mimetype": "text/x-python",
   "name": "python",
   "nbconvert_exporter": "python",
   "pygments_lexer": "ipython3",
   "version": "3.8.13"
  }
 },
 "nbformat": 4,
 "nbformat_minor": 5
}
