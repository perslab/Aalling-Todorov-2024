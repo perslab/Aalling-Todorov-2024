{
 "cells": [
  {
   "cell_type": "code",
   "execution_count": 3,
   "id": "6244a584",
   "metadata": {
    "scrolled": true
   },
   "outputs": [
    {
     "name": "stderr",
     "output_type": "stream",
     "text": [
      "Loading required package: SummarizedExperiment\n",
      "\n",
      "Attaching SeuratObject\n",
      "\n",
      "\n",
      "Attaching package: ‘Seurat’\n",
      "\n",
      "\n",
      "The following object is masked from ‘package:SummarizedExperiment’:\n",
      "\n",
      "    Assays\n",
      "\n",
      "\n",
      "── \u001b[1mAttaching packages\u001b[22m ─────────────────────────────────────── tidyverse 1.3.2 ──\n",
      "\u001b[32m✔\u001b[39m \u001b[34mggplot2\u001b[39m 3.3.6      \u001b[32m✔\u001b[39m \u001b[34mpurrr  \u001b[39m 0.3.4 \n",
      "\u001b[32m✔\u001b[39m \u001b[34mtibble \u001b[39m 3.1.8      \u001b[32m✔\u001b[39m \u001b[34mdplyr  \u001b[39m 1.0.10\n",
      "\u001b[32m✔\u001b[39m \u001b[34mtidyr  \u001b[39m 1.2.1      \u001b[32m✔\u001b[39m \u001b[34mstringr\u001b[39m 1.4.1 \n",
      "\u001b[32m✔\u001b[39m \u001b[34mreadr  \u001b[39m 2.1.2      \u001b[32m✔\u001b[39m \u001b[34mforcats\u001b[39m 0.5.2 \n",
      "── \u001b[1mConflicts\u001b[22m ────────────────────────────────────────── tidyverse_conflicts() ──\n",
      "\u001b[31m✖\u001b[39m \u001b[34mdplyr\u001b[39m::\u001b[32mcollapse()\u001b[39m   masks \u001b[34mIRanges\u001b[39m::collapse()\n",
      "\u001b[31m✖\u001b[39m \u001b[34mdplyr\u001b[39m::\u001b[32mcombine()\u001b[39m    masks \u001b[34mBiobase\u001b[39m::combine(), \u001b[34mBiocGenerics\u001b[39m::combine()\n",
      "\u001b[31m✖\u001b[39m \u001b[34mdplyr\u001b[39m::\u001b[32mcount()\u001b[39m      masks \u001b[34mmatrixStats\u001b[39m::count()\n",
      "\u001b[31m✖\u001b[39m \u001b[34mdplyr\u001b[39m::\u001b[32mdesc()\u001b[39m       masks \u001b[34mIRanges\u001b[39m::desc()\n",
      "\u001b[31m✖\u001b[39m \u001b[34mtidyr\u001b[39m::\u001b[32mexpand()\u001b[39m     masks \u001b[34mS4Vectors\u001b[39m::expand()\n",
      "\u001b[31m✖\u001b[39m \u001b[34mdplyr\u001b[39m::\u001b[32mfilter()\u001b[39m     masks \u001b[34mstats\u001b[39m::filter()\n",
      "\u001b[31m✖\u001b[39m \u001b[34mdplyr\u001b[39m::\u001b[32mfirst()\u001b[39m      masks \u001b[34mS4Vectors\u001b[39m::first()\n",
      "\u001b[31m✖\u001b[39m \u001b[34mdplyr\u001b[39m::\u001b[32mlag()\u001b[39m        masks \u001b[34mstats\u001b[39m::lag()\n",
      "\u001b[31m✖\u001b[39m \u001b[34mggplot2\u001b[39m::\u001b[32mPosition()\u001b[39m masks \u001b[34mBiocGenerics\u001b[39m::Position(), \u001b[34mbase\u001b[39m::Position()\n",
      "\u001b[31m✖\u001b[39m \u001b[34mpurrr\u001b[39m::\u001b[32mreduce()\u001b[39m     masks \u001b[34mGenomicRanges\u001b[39m::reduce(), \u001b[34mIRanges\u001b[39m::reduce()\n",
      "\u001b[31m✖\u001b[39m \u001b[34mdplyr\u001b[39m::\u001b[32mrename()\u001b[39m     masks \u001b[34mS4Vectors\u001b[39m::rename()\n",
      "\u001b[31m✖\u001b[39m \u001b[34mdplyr\u001b[39m::\u001b[32mslice()\u001b[39m      masks \u001b[34mIRanges\u001b[39m::slice()\n",
      "Registered S3 method overwritten by 'SeuratDisk':\n",
      "  method            from  \n",
      "  as.sparse.H5Group Seurat\n",
      "\n"
     ]
    }
   ],
   "source": [
    "library(SingleCellExperiment)\n",
    "library(Seurat)\n",
    "library(tidyverse)\n",
    "library(SeuratDisk)"
   ]
  },
  {
   "cell_type": "code",
   "execution_count": 4,
   "id": "1f5b80ba",
   "metadata": {},
   "outputs": [],
   "source": [
    "source('../00_preprocessing/preprocessing.R')\n",
    "source('../01_milo/milo.R')"
   ]
  },
  {
   "cell_type": "code",
   "execution_count": 5,
   "id": "1a4c1cc7",
   "metadata": {},
   "outputs": [],
   "source": [
    "# obj_neurons = readRDS('/projects/mludwig/DVC/output/Seurat_objs/integrated/neurons_Seurat_obj_labels.rds')\n",
    "# obj_neurons\n",
    "# obj_neurons %>% qs::qsave('dvc_neurons.qs')"
   ]
  },
  {
   "cell_type": "code",
   "execution_count": 24,
   "id": "1a3551fd",
   "metadata": {},
   "outputs": [
    {
     "data": {
      "text/plain": [
       "An object of class Seurat \n",
       "32883 features across 218547 samples within 1 assay \n",
       "Active assay: rat_RNA (32883 features, 0 variable features)"
      ]
     },
     "metadata": {},
     "output_type": "display_data"
    }
   ],
   "source": [
    "obj_neurons = qs::qread('dvc_neurons.qs')\n",
    "DefaultAssay(obj_neurons) = 'rat_RNA'\n",
    "obj_neurons[['SCT']] = NULL\n",
    "obj_neurons[['RNA']] = NULL\n",
    "obj_neurons[['integrated']] = NULL\n",
    "obj_neurons[['mouse_RNA']] = NULL\n",
    "obj_neurons[['macaque_RNA']] = NULL\n",
    "obj_neurons[['pca']] = NULL\n",
    "obj_neurons[['umap']] = NULL\n",
    "obj_neurons"
   ]
  },
  {
   "cell_type": "code",
   "execution_count": 25,
   "id": "224bfa6b",
   "metadata": {},
   "outputs": [
    {
     "data": {
      "text/html": [
       "<table class=\"dataframe\">\n",
       "<caption>A tibble: 6 × 2</caption>\n",
       "<thead>\n",
       "\t<tr><th scope=col>run</th><th scope=col>n</th></tr>\n",
       "\t<tr><th scope=col>&lt;chr&gt;</th><th scope=col>&lt;int&gt;</th></tr>\n",
       "</thead>\n",
       "<tbody>\n",
       "\t<tr><td>rat1</td><td>17587</td></tr>\n",
       "\t<tr><td>rat2</td><td>21171</td></tr>\n",
       "\t<tr><td>rat3</td><td>20713</td></tr>\n",
       "\t<tr><td>rat4</td><td>21721</td></tr>\n",
       "\t<tr><td>rat5</td><td>16370</td></tr>\n",
       "\t<tr><td>rat6</td><td>24306</td></tr>\n",
       "</tbody>\n",
       "</table>\n"
      ],
      "text/latex": [
       "A tibble: 6 × 2\n",
       "\\begin{tabular}{ll}\n",
       " run & n\\\\\n",
       " <chr> & <int>\\\\\n",
       "\\hline\n",
       "\t rat1 & 17587\\\\\n",
       "\t rat2 & 21171\\\\\n",
       "\t rat3 & 20713\\\\\n",
       "\t rat4 & 21721\\\\\n",
       "\t rat5 & 16370\\\\\n",
       "\t rat6 & 24306\\\\\n",
       "\\end{tabular}\n"
      ],
      "text/markdown": [
       "\n",
       "A tibble: 6 × 2\n",
       "\n",
       "| run &lt;chr&gt; | n &lt;int&gt; |\n",
       "|---|---|\n",
       "| rat1 | 17587 |\n",
       "| rat2 | 21171 |\n",
       "| rat3 | 20713 |\n",
       "| rat4 | 21721 |\n",
       "| rat5 | 16370 |\n",
       "| rat6 | 24306 |\n",
       "\n"
      ],
      "text/plain": [
       "  run  n    \n",
       "1 rat1 17587\n",
       "2 rat2 21171\n",
       "3 rat3 20713\n",
       "4 rat4 21721\n",
       "5 rat5 16370\n",
       "6 rat6 24306"
      ]
     },
     "metadata": {},
     "output_type": "display_data"
    }
   ],
   "source": [
    "obj_neurons %>%\n",
    "`[[` %>%\n",
    "filter(species == 'rat') %>%\n",
    "group_by(run) %>%\n",
    "summarise(n = n())"
   ]
  },
  {
   "cell_type": "code",
   "execution_count": 26,
   "id": "e197b77d",
   "metadata": {},
   "outputs": [],
   "source": [
    "rat_cells = obj_neurons %>%\n",
    "`[[` %>%\n",
    "filter(species == 'rat') %>%\n",
    "rownames"
   ]
  },
  {
   "cell_type": "code",
   "execution_count": 27,
   "id": "4f7abb01",
   "metadata": {},
   "outputs": [
    {
     "data": {
      "text/html": [
       "121868"
      ],
      "text/latex": [
       "121868"
      ],
      "text/markdown": [
       "121868"
      ],
      "text/plain": [
       "[1] 121868"
      ]
     },
     "metadata": {},
     "output_type": "display_data"
    }
   ],
   "source": [
    "length(rat_cells)"
   ]
  },
  {
   "cell_type": "code",
   "execution_count": 28,
   "id": "97c5eb4d",
   "metadata": {},
   "outputs": [
    {
     "data": {
      "text/plain": [
       "An object of class Seurat \n",
       "32883 features across 121868 samples within 1 assay \n",
       "Active assay: rat_RNA (32883 features, 0 variable features)"
      ]
     },
     "metadata": {},
     "output_type": "display_data"
    }
   ],
   "source": [
    "obj = obj_neurons %>%\n",
    "      subset(cells = rat_cells) \n",
    "obj"
   ]
  },
  {
   "cell_type": "code",
   "execution_count": null,
   "id": "80ba1063",
   "metadata": {},
   "outputs": [],
   "source": []
  },
  {
   "cell_type": "code",
   "execution_count": 29,
   "id": "2721ae75",
   "metadata": {
    "scrolled": true
   },
   "outputs": [
    {
     "name": "stderr",
     "output_type": "stream",
     "text": [
      "Calculating cell attributes from input UMI matrix: log_umi\n",
      "\n",
      "Variance stabilizing transformation of count matrix of size 25537 by 121868\n",
      "\n",
      "Model formula is y ~ log_umi\n",
      "\n",
      "Get Negative Binomial regression parameters per gene\n",
      "\n",
      "Using 2000 genes, 5000 cells\n",
      "\n"
     ]
    },
    {
     "name": "stdout",
     "output_type": "stream",
     "text": [
      "  |======================================================================| 100%\n"
     ]
    },
    {
     "name": "stderr",
     "output_type": "stream",
     "text": [
      "Found 89 outliers - those will be ignored in fitting/regularization step\n",
      "\n",
      "\n",
      "Second step: Get residuals using fitted parameters for 25537 genes\n",
      "\n"
     ]
    },
    {
     "name": "stdout",
     "output_type": "stream",
     "text": [
      "  |======================================================================| 100%\n"
     ]
    },
    {
     "name": "stderr",
     "output_type": "stream",
     "text": [
      "Computing corrected count matrix for 25537 genes\n",
      "\n"
     ]
    },
    {
     "name": "stdout",
     "output_type": "stream",
     "text": [
      "  |======================================================================| 100%\n"
     ]
    },
    {
     "name": "stderr",
     "output_type": "stream",
     "text": [
      "Calculating gene attributes\n",
      "\n",
      "Wall clock passed: Time difference of 41.0571 mins\n",
      "\n",
      "Determine variable features\n",
      "\n",
      "Place corrected count matrix in counts slot\n",
      "\n",
      "Centering data matrix\n",
      "\n",
      "Set default assay to SCT\n",
      "\n",
      "Warning message:\n",
      "“Invalid name supplied, making object name syntactically valid. New object name is Seurat..SCTransform.rat_RNA; see ?make.names for more details on syntax validity”\n",
      "PC_ 1 \n",
      "Positive:  Lrrtm4, Il1rapl2, Il1rapl1, Htr2c, Hs6st3, LOC304725, Grm8, AABR07060487.1, AABR07057765.1, Rbfox1 \n",
      "\t   AC134224.1, Gpc6, Cacna2d3, Brinp3, Gria4, Adgrb3, Cadps, Kcnip1, Lrfn5, Dgkb \n",
      "\t   Mctp1, RGD1564053, Cdh12, Gria3, Cntnap5c, Ano4, Ndst4, Atp8a2, Vwc2l, AABR07033882.1 \n",
      "Negative:  Ubb, Ndufa4, Tmsb4x, Hsp90ab1, Stmn1, Resp18, Atp6v0c, Sst, Caly, Rpl19 \n",
      "\t   Pebp1, Calm1, Stmn3, Slc25a4, LOC100364435, Cox4i1, Aldoa, Fth1, LOC687780, Cox5b \n",
      "\t   Atp5if1, Tpt1, AABR07000398.1, Rpl23, Penk, Cox7b, Rps8, Tuba1a, Cox6c, Cox6a1 \n",
      "PC_ 2 \n",
      "Positive:  Il1rapl2, AABR07033570.1, LOC304725, Nefm, Grik1, Egfr, Kcnip1, Grm8, Nefh, Rbfox1 \n",
      "\t   Mctp2, Dach1, Syt2, Nefl, AABR07033249.1, Etl4, Htr2c, Arpp21, Sparcl1, Atp1b1 \n",
      "\t   Fat3, AABR07050487.1, Pvalb, Pex5l, Ano4, Scn1b, Ldhb, Atp8a2, Ptchd4, Stxbp6 \n",
      "Negative:  Slc4a4, Map2k6, Negr1, Hcn1, Zeb2, Trhde, AC142181.1, Tmem132d, Ptprt, Rbms3 \n",
      "\t   Nrxn3, Pld5, Notch2, Cntn5, Col14a1, Meis2, Trpv5, Nnat, Rftn1, Pip5k1b \n",
      "\t   Arhgap15, Kcnk2, Galnt17, Kcnd3, Plppr1, Kcnc2, Dab1, Ddc, Kalrn, Slc8a1 \n",
      "PC_ 3 \n",
      "Positive:  Nrxn3, Hcn1, Slc4a4, Trhde, Map2k6, Spon1, Tll1, Notch2, Cntn5, Pex5l \n",
      "\t   Pld5, Zeb2, Col14a1, Galnt17, Adarb2, Zfp385b, Gad2, Slc16a5, AABR07033570.1, AC142181.1 \n",
      "\t   Tcf4, Cacna2d3, Gad1, Trpv5, Egfr, Nkain3, Gipr, Sorbs2, Grik1, Plcb1 \n",
      "Negative:  Cacna2d1, Ddc, Il1rapl2, Ebf1, Nkain2, Negr1, Nell2, Cntnap5b, Cntnap5c, Pde4d \n",
      "\t   Tac1, Luzp2, Erbb4, Zfhx4, Nell1, Nts, Tox, Dpyd, Gabrg3, Sema5a \n",
      "\t   Col5a2, Lrrtm4, Cdh13, Galnt13, Tmem163, AABR07043825.1, Pcsk2, Drc1, AABR07057765.1, Gal \n",
      "PC_ 4 \n",
      "Positive:  Ddc, Egfr, Kcnip1, Vav3, Col5a2, Ebf1, Nts, Pde4d, Kitlg, Cacna2d1 \n",
      "\t   Lcp2, Etv1, Pde5a, Mctp2, Trhde, Nell2, Sctr, Rarb, Slc6a2, Olr59 \n",
      "\t   Galnt14, Slc4a4, Arpp21, Ptprt, Spon1, Mgat4a, Tph2, Chrna3, AABR07033570.1, Pcsk2 \n",
      "Negative:  Il1rapl2, Htr2c, Lrrtm4, Grik2, Il1rapl1, Nkain3, Khdrbs2, Grm8, Gabrb1, Lrrc4c \n",
      "\t   AABR07057765.1, Sst, Grid2, Bcl11a, Epha5, Gad2, Nlgn1, Nova1, Grm5, Nkain2 \n",
      "\t   Grm7, Nrxn3, Mctp1, Aff2, Plcxd3, Tac1, Fstl5, Cdh18, Gad1, Bmper \n",
      "PC_ 5 \n",
      "Positive:  Dach1, Ddc, Nfib, Zfpm2, Col5a2, Elavl4, Elavl2, Utrn, Neto1, Cadps2 \n",
      "\t   Etv1, Sptlc3, Nkain3, Slc6a2, Ube3a, Gfral, Gab2, Myo3a, Calcr, Prph \n",
      "\t   Esrrg, Lcp2, Msi2, Chd7, Gad2, Mgat4a, Nts, Sst, Casr, Sctr \n",
      "Negative:  Ebf1, Kcnip1, AABR07033570.1, Grik1, Rbfox1, Trhde, Nkain2, Egfr, Il1rapl2, LOC304725 \n",
      "\t   Lrrtm4, Cntnap5b, Ldb2, Fat3, Shisa6, Nlgn1, Spon1, Cntn5, Sorcs1, Khdrbs2 \n",
      "\t   Tac1, Edil3, Grm5, Zmat4, Il1rapl1, Hcn1, Kcnh8, Brinp3, Arpp21, Plppr1 \n",
      "\n",
      "Warning message:\n",
      "“The default method for RunUMAP has changed from calling Python UMAP via reticulate to the R-native UWOT using the cosine metric\n",
      "To use Python UMAP via reticulate, set umap.method to 'umap-learn' and metric to 'correlation'\n",
      "This message will be shown once per session”\n",
      "00:02:21 UMAP embedding parameters a = 0.9922 b = 1.112\n",
      "\n",
      "00:02:21 Read 121868 rows and found 30 numeric columns\n",
      "\n",
      "00:02:21 Using Annoy for neighbor search, n_neighbors = 30\n",
      "\n",
      "00:02:21 Building Annoy index with metric = cosine, n_trees = 50\n",
      "\n",
      "0%   10   20   30   40   50   60   70   80   90   100%\n",
      "\n",
      "[----|----|----|----|----|----|----|----|----|----|\n",
      "\n",
      "*\n",
      "*\n",
      "*\n",
      "*\n",
      "*\n",
      "*\n",
      "*\n",
      "*\n",
      "*\n",
      "*\n",
      "*\n",
      "*\n",
      "*\n",
      "*\n",
      "*\n",
      "*\n",
      "*\n",
      "*\n",
      "*\n",
      "*\n",
      "*\n",
      "*\n",
      "*\n",
      "*\n",
      "*\n",
      "*\n",
      "*\n",
      "*\n",
      "*\n",
      "*\n",
      "*\n",
      "*\n",
      "*\n",
      "*\n",
      "*\n",
      "*\n",
      "*\n",
      "*\n",
      "*\n",
      "*\n",
      "*\n",
      "*\n",
      "*\n",
      "*\n",
      "*\n",
      "*\n",
      "*\n",
      "*\n",
      "*\n",
      "*\n",
      "|\n",
      "\n",
      "00:02:43 Writing NN index file to temp file /scratch/nmq407/R_tmp//Rtmp7d4WZv/file94b72c6c404e\n",
      "\n",
      "00:02:43 Searching Annoy index using 1 thread, search_k = 3000\n",
      "\n",
      "00:03:36 Annoy recall = 100%\n",
      "\n",
      "00:03:39 Commencing smooth kNN distance calibration using 1 thread\n",
      " with target n_neighbors = 30\n",
      "\n",
      "00:03:49 Initializing from normalized Laplacian + noise (using irlba)\n",
      "\n",
      "00:04:31 Commencing optimization for 200 epochs, with 5184632 positive edges\n",
      "\n",
      "00:07:29 Optimization finished\n",
      "\n"
     ]
    },
    {
     "data": {
      "text/plain": [
       "An object of class Seurat \n",
       "58420 features across 121868 samples within 2 assays \n",
       "Active assay: SCT (25537 features, 10000 variable features)\n",
       " 1 other assay present: rat_RNA\n",
       " 2 dimensional reductions calculated: pca, umap"
      ]
     },
     "metadata": {},
     "output_type": "display_data"
    }
   ],
   "source": [
    "obj = obj %>%\n",
    "      Seurat::SCTransform(assay='rat_RNA',\n",
    "                          method=\"glmGamPoi\",\n",
    "                          verbose=TRUE,\n",
    "                          variable.features.n = 10000) %>%\n",
    "      RunPCA(npcs = 100) %>%\n",
    "      RunUMAP(dims = 1:30)\n",
    "obj"
   ]
  },
  {
   "cell_type": "code",
   "execution_count": 30,
   "id": "97c8104d",
   "metadata": {},
   "outputs": [],
   "source": [
    "obj %>% qs::qsave('dvc_neurons_rat.qs')"
   ]
  },
  {
   "cell_type": "code",
   "execution_count": null,
   "id": "1ad59215",
   "metadata": {},
   "outputs": [],
   "source": []
  },
  {
   "cell_type": "code",
   "execution_count": 31,
   "id": "09b12af8",
   "metadata": {},
   "outputs": [
    {
     "data": {
      "text/plain": [
       "An object of class Seurat \n",
       "58420 features across 121868 samples within 2 assays \n",
       "Active assay: SCT (25537 features, 10000 variable features)\n",
       " 1 other assay present: rat_RNA\n",
       " 2 dimensional reductions calculated: pca, umap"
      ]
     },
     "metadata": {},
     "output_type": "display_data"
    }
   ],
   "source": [
    "obj"
   ]
  },
  {
   "cell_type": "code",
   "execution_count": null,
   "id": "b32e4a52",
   "metadata": {},
   "outputs": [],
   "source": []
  },
  {
   "cell_type": "code",
   "execution_count": 32,
   "id": "d4941769",
   "metadata": {},
   "outputs": [
    {
     "name": "stderr",
     "output_type": "stream",
     "text": [
      "Warning message:\n",
      "“Overwriting previous file /scratch/nmq407/dvc_neurons.h5Seurat”\n",
      "Creating h5Seurat file for version 3.1.5.9900\n",
      "\n",
      "Adding counts for rat_RNA\n",
      "\n",
      "Adding data for rat_RNA\n",
      "\n",
      "No variable features found for rat_RNA\n",
      "\n",
      "No feature-level metadata found for rat_RNA\n",
      "\n",
      "Adding counts for SCT\n",
      "\n",
      "Adding data for SCT\n",
      "\n",
      "Adding scale.data for SCT\n",
      "\n",
      "Adding variable features for SCT\n",
      "\n",
      "No feature-level metadata found for SCT\n",
      "\n",
      "Writing out SCTModel.list for SCT\n",
      "\n",
      "Adding cell embeddings for pca\n",
      "\n",
      "Adding loadings for pca\n",
      "\n",
      "No projected loadings for pca\n",
      "\n",
      "Adding standard deviations for pca\n",
      "\n",
      "No JackStraw data for pca\n",
      "\n",
      "Adding cell embeddings for umap\n",
      "\n",
      "No loadings for umap\n",
      "\n",
      "No projected loadings for umap\n",
      "\n",
      "No standard deviations for umap\n",
      "\n",
      "No JackStraw data for umap\n",
      "\n"
     ]
    }
   ],
   "source": [
    "SaveH5Seurat(obj, filename = \"/scratch/nmq407/dvc_neurons.h5Seurat\", overwrite = TRUE)"
   ]
  },
  {
   "cell_type": "code",
   "execution_count": 33,
   "id": "bcf160d9",
   "metadata": {},
   "outputs": [
    {
     "name": "stderr",
     "output_type": "stream",
     "text": [
      "Validating h5Seurat file\n",
      "\n",
      "Adding scale.data from SCT as X\n",
      "\n",
      "Adding data from SCT as raw\n",
      "\n",
      "Transfering meta.data to obs\n",
      "\n",
      "Adding dimensional reduction information for pca\n",
      "\n",
      "Adding feature loadings for pca\n",
      "\n",
      "Adding dimensional reduction information for umap\n",
      "\n"
     ]
    }
   ],
   "source": [
    "Convert(\"/scratch/nmq407/dvc_neurons.h5Seurat\", dest = \"/scratch/nmq407/dvc_neurons.h5Seurat.h5ad\")"
   ]
  },
  {
   "cell_type": "code",
   "execution_count": 34,
   "id": "48930e0c",
   "metadata": {},
   "outputs": [
    {
     "data": {
      "text/html": [
       "2"
      ],
      "text/latex": [
       "2"
      ],
      "text/markdown": [
       "2"
      ],
      "text/plain": [
       "[1] 2"
      ]
     },
     "metadata": {},
     "output_type": "display_data"
    }
   ],
   "source": [
    "2"
   ]
  },
  {
   "cell_type": "code",
   "execution_count": null,
   "id": "a0f0eabe",
   "metadata": {},
   "outputs": [],
   "source": []
  }
 ],
 "metadata": {
  "kernelspec": {
   "display_name": "R [conda env:fgf1_ygg]",
   "language": "R",
   "name": "conda-env-fgf1_ygg-r"
  },
  "language_info": {
   "codemirror_mode": "r",
   "file_extension": ".r",
   "mimetype": "text/x-r-source",
   "name": "R",
   "pygments_lexer": "r",
   "version": "4.1.3"
  }
 },
 "nbformat": 4,
 "nbformat_minor": 5
}
