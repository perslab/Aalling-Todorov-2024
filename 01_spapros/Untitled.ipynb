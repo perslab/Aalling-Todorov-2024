{
 "cells": [
  {
   "cell_type": "code",
   "execution_count": 4,
   "id": "5f44b0f8",
   "metadata": {},
   "outputs": [
    {
     "name": "stderr",
     "output_type": "stream",
     "text": [
      "Attaching SeuratObject\n",
      "\n",
      "Attaching sp\n",
      "\n",
      "── \u001b[1mAttaching packages\u001b[22m ─────────────────────────────────────── tidyverse 1.3.2 ──\n",
      "\u001b[32m✔\u001b[39m \u001b[34mggplot2\u001b[39m 3.3.6      \u001b[32m✔\u001b[39m \u001b[34mpurrr  \u001b[39m 0.3.4 \n",
      "\u001b[32m✔\u001b[39m \u001b[34mtibble \u001b[39m 3.1.8      \u001b[32m✔\u001b[39m \u001b[34mdplyr  \u001b[39m 1.0.10\n",
      "\u001b[32m✔\u001b[39m \u001b[34mtidyr  \u001b[39m 1.2.1      \u001b[32m✔\u001b[39m \u001b[34mstringr\u001b[39m 1.4.1 \n",
      "\u001b[32m✔\u001b[39m \u001b[34mreadr  \u001b[39m 2.1.2      \u001b[32m✔\u001b[39m \u001b[34mforcats\u001b[39m 0.5.2 \n",
      "── \u001b[1mConflicts\u001b[22m ────────────────────────────────────────── tidyverse_conflicts() ──\n",
      "\u001b[31m✖\u001b[39m \u001b[34mdplyr\u001b[39m::\u001b[32mfilter()\u001b[39m masks \u001b[34mstats\u001b[39m::filter()\n",
      "\u001b[31m✖\u001b[39m \u001b[34mdplyr\u001b[39m::\u001b[32mlag()\u001b[39m    masks \u001b[34mstats\u001b[39m::lag()\n"
     ]
    }
   ],
   "source": [
    "library(Seurat)\n",
    "library(tidyverse)"
   ]
  },
  {
   "cell_type": "code",
   "execution_count": 2,
   "id": "ac20e4a8",
   "metadata": {},
   "outputs": [],
   "source": [
    "meta_neuron = qs::qread('../00_preprocessing/_targets/objects/exp_labelled_neuron')@meta.data"
   ]
  },
  {
   "cell_type": "code",
   "execution_count": 1,
   "id": "39f3d140",
   "metadata": {},
   "outputs": [],
   "source": [
    "meta_other = qs::qread('../00_preprocessing/_targets/objects/exp_labelled_other')@meta.data"
   ]
  },
  {
   "cell_type": "code",
   "execution_count": 4,
   "id": "b74aac5a",
   "metadata": {},
   "outputs": [],
   "source": [
    "all_cells = c(rownames(meta_neuron), rownames(meta_other)) \n",
    "exclude_barcodes = all_cells %>%\n",
    "duplicated() %>%\n",
    "which() %>%\n",
    "magrittr::extract(all_cells, .)\n"
   ]
  },
  {
   "cell_type": "code",
   "execution_count": 5,
   "id": "02176d67",
   "metadata": {},
   "outputs": [],
   "source": [
    "keep_cells = setdiff(all_cells, exclude_barcodes)"
   ]
  },
  {
   "cell_type": "code",
   "execution_count": 6,
   "id": "4b58e356",
   "metadata": {},
   "outputs": [
    {
     "data": {
      "text/html": [
       "TRUE"
      ],
      "text/latex": [
       "TRUE"
      ],
      "text/markdown": [
       "TRUE"
      ],
      "text/plain": [
       "[1] TRUE"
      ]
     },
     "metadata": {},
     "output_type": "display_data"
    }
   ],
   "source": [
    "length(keep_cells) == (length(all_cells) - 2*(length(exclude_barcodes)))"
   ]
  },
  {
   "cell_type": "code",
   "execution_count": 7,
   "id": "ac2adce5",
   "metadata": {},
   "outputs": [],
   "source": [
    "exp_04 = qs::qread('../00_preprocessing/_targets/objects/exp_04')"
   ]
  },
  {
   "cell_type": "code",
   "execution_count": 8,
   "id": "c62f0718",
   "metadata": {},
   "outputs": [
    {
     "data": {
      "text/plain": [
       "An object of class Seurat \n",
       "58800 features across 144287 samples within 3 assays \n",
       "Active assay: integrated (3434 features, 3434 variable features)\n",
       " 2 other assays present: RNA, SCT\n",
       " 2 dimensional reductions calculated: pca, umap"
      ]
     },
     "metadata": {},
     "output_type": "display_data"
    }
   ],
   "source": [
    "exp_04"
   ]
  },
  {
   "cell_type": "code",
   "execution_count": 9,
   "id": "2f541729",
   "metadata": {},
   "outputs": [
    {
     "data": {
      "text/plain": [
       "An object of class Seurat \n",
       "58800 features across 144287 samples within 3 assays \n",
       "Active assay: integrated (3434 features, 3434 variable features)\n",
       " 2 other assays present: RNA, SCT\n",
       " 2 dimensional reductions calculated: pca, umap"
      ]
     },
     "metadata": {},
     "output_type": "display_data"
    }
   ],
   "source": [
    "exp_04"
   ]
  },
  {
   "cell_type": "code",
   "execution_count": 10,
   "id": "3d87897b",
   "metadata": {},
   "outputs": [
    {
     "data": {
      "text/html": [
       "<style>\n",
       ".list-inline {list-style: none; margin:0; padding: 0}\n",
       ".list-inline>li {display: inline-block}\n",
       ".list-inline>li:not(:last-child)::after {content: \"\\00b7\"; padding: 0 .5ex}\n",
       "</style>\n",
       "<ol class=list-inline><li>'GCAGCCACACAGCCAC_1_1'</li><li>'TGCTTGCAGTTCCGTA_1_1'</li><li>'TGCGGCACAGCATGCC_1_1'</li><li>'GAGGCAAGTACCTAAC_1_1'</li><li>'TAGCACATCACTGTTT_1_1'</li><li>'GTAATGCTCTGTCCCA_1_1'</li></ol>\n"
      ],
      "text/latex": [
       "\\begin{enumerate*}\n",
       "\\item 'GCAGCCACACAGCCAC\\_1\\_1'\n",
       "\\item 'TGCTTGCAGTTCCGTA\\_1\\_1'\n",
       "\\item 'TGCGGCACAGCATGCC\\_1\\_1'\n",
       "\\item 'GAGGCAAGTACCTAAC\\_1\\_1'\n",
       "\\item 'TAGCACATCACTGTTT\\_1\\_1'\n",
       "\\item 'GTAATGCTCTGTCCCA\\_1\\_1'\n",
       "\\end{enumerate*}\n"
      ],
      "text/markdown": [
       "1. 'GCAGCCACACAGCCAC_1_1'\n",
       "2. 'TGCTTGCAGTTCCGTA_1_1'\n",
       "3. 'TGCGGCACAGCATGCC_1_1'\n",
       "4. 'GAGGCAAGTACCTAAC_1_1'\n",
       "5. 'TAGCACATCACTGTTT_1_1'\n",
       "6. 'GTAATGCTCTGTCCCA_1_1'\n",
       "\n",
       "\n"
      ],
      "text/plain": [
       "[1] \"GCAGCCACACAGCCAC_1_1\" \"TGCTTGCAGTTCCGTA_1_1\" \"TGCGGCACAGCATGCC_1_1\"\n",
       "[4] \"GAGGCAAGTACCTAAC_1_1\" \"TAGCACATCACTGTTT_1_1\" \"GTAATGCTCTGTCCCA_1_1\""
      ]
     },
     "metadata": {},
     "output_type": "display_data"
    }
   ],
   "source": [
    "head(Cells(exp_04))"
   ]
  },
  {
   "cell_type": "code",
   "execution_count": 11,
   "id": "3998e98a",
   "metadata": {},
   "outputs": [
    {
     "data": {
      "text/plain": [
       "An object of class Seurat \n",
       "58800 features across 143931 samples within 3 assays \n",
       "Active assay: integrated (3434 features, 3434 variable features)\n",
       " 2 other assays present: RNA, SCT\n",
       " 2 dimensional reductions calculated: pca, umap"
      ]
     },
     "metadata": {},
     "output_type": "display_data"
    }
   ],
   "source": [
    "exp_04 = subset(exp_04, cells = keep_cells)\n",
    "exp_04"
   ]
  },
  {
   "cell_type": "code",
   "execution_count": 12,
   "id": "4b327e1f",
   "metadata": {},
   "outputs": [
    {
     "data": {
      "text/html": [
       "<style>\n",
       ".list-inline {list-style: none; margin:0; padding: 0}\n",
       ".list-inline>li {display: inline-block}\n",
       ".list-inline>li:not(:last-child)::after {content: \"\\00b7\"; padding: 0 .5ex}\n",
       "</style>\n",
       "<ol class=list-inline><li>143931</li><li>34</li></ol>\n"
      ],
      "text/latex": [
       "\\begin{enumerate*}\n",
       "\\item 143931\n",
       "\\item 34\n",
       "\\end{enumerate*}\n"
      ],
      "text/markdown": [
       "1. 143931\n",
       "2. 34\n",
       "\n",
       "\n"
      ],
      "text/plain": [
       "[1] 143931     34"
      ]
     },
     "metadata": {},
     "output_type": "display_data"
    }
   ],
   "source": [
    "all_meta = rbind(meta_neuron, meta_other)\n",
    "all_meta =  all_meta[keep_cells,]\n",
    "dim(all_meta)\n"
   ]
  },
  {
   "cell_type": "code",
   "execution_count": 13,
   "id": "0992f7aa",
   "metadata": {},
   "outputs": [
    {
     "data": {
      "text/html": [
       "TRUE"
      ],
      "text/latex": [
       "TRUE"
      ],
      "text/markdown": [
       "TRUE"
      ],
      "text/plain": [
       "[1] TRUE"
      ]
     },
     "metadata": {},
     "output_type": "display_data"
    }
   ],
   "source": [
    "unique(rownames(all_meta) ==  Cells(exp_04))"
   ]
  },
  {
   "cell_type": "code",
   "execution_count": 14,
   "id": "28dc90cf",
   "metadata": {},
   "outputs": [
    {
     "data": {
      "text/html": [
       "<table class=\"dataframe\">\n",
       "<caption>A data.frame: 6 × 3</caption>\n",
       "<thead>\n",
       "\t<tr><th></th><th scope=col>predicted.id</th><th scope=col>prediction.score.max</th><th scope=col>labels</th></tr>\n",
       "\t<tr><th></th><th scope=col>&lt;chr&gt;</th><th scope=col>&lt;dbl&gt;</th><th scope=col>&lt;fct&gt;</th></tr>\n",
       "</thead>\n",
       "<tbody>\n",
       "\t<tr><th scope=row>GCAGCCACACAGCCAC_1_1</th><td>Nr5a1_Bdnf </td><td>1.0000000</td><td>Nr5a1_Bdnf     </td></tr>\n",
       "\t<tr><th scope=row>TGCTTGCAGTTCCGTA_1_1</th><td>Unassigned1</td><td>0.8065577</td><td>Unassigned1    </td></tr>\n",
       "\t<tr><th scope=row>TGCGGCACAGCATGCC_1_1</th><td>Nr5a1_Bdnf </td><td>1.0000000</td><td>Nr5a1_Bdnf     </td></tr>\n",
       "\t<tr><th scope=row>GAGGCAAGTACCTAAC_1_1</th><td>Unassigned1</td><td>0.8525726</td><td>Unassigned1    </td></tr>\n",
       "\t<tr><th scope=row>TAGCACATCACTGTTT_1_1</th><td>Sst_Pthlh  </td><td>0.6754849</td><td>Sst_Pthlh-Ghrh </td></tr>\n",
       "\t<tr><th scope=row>GTAATGCTCTGTCCCA_1_1</th><td>Hdc        </td><td>1.0000000</td><td>Gm8773_Tac1-Hdc</td></tr>\n",
       "</tbody>\n",
       "</table>\n"
      ],
      "text/latex": [
       "A data.frame: 6 × 3\n",
       "\\begin{tabular}{r|lll}\n",
       "  & predicted.id & prediction.score.max & labels\\\\\n",
       "  & <chr> & <dbl> & <fct>\\\\\n",
       "\\hline\n",
       "\tGCAGCCACACAGCCAC\\_1\\_1 & Nr5a1\\_Bdnf  & 1.0000000 & Nr5a1\\_Bdnf     \\\\\n",
       "\tTGCTTGCAGTTCCGTA\\_1\\_1 & Unassigned1 & 0.8065577 & Unassigned1    \\\\\n",
       "\tTGCGGCACAGCATGCC\\_1\\_1 & Nr5a1\\_Bdnf  & 1.0000000 & Nr5a1\\_Bdnf     \\\\\n",
       "\tGAGGCAAGTACCTAAC\\_1\\_1 & Unassigned1 & 0.8525726 & Unassigned1    \\\\\n",
       "\tTAGCACATCACTGTTT\\_1\\_1 & Sst\\_Pthlh   & 0.6754849 & Sst\\_Pthlh-Ghrh \\\\\n",
       "\tGTAATGCTCTGTCCCA\\_1\\_1 & Hdc         & 1.0000000 & Gm8773\\_Tac1-Hdc\\\\\n",
       "\\end{tabular}\n"
      ],
      "text/markdown": [
       "\n",
       "A data.frame: 6 × 3\n",
       "\n",
       "| <!--/--> | predicted.id &lt;chr&gt; | prediction.score.max &lt;dbl&gt; | labels &lt;fct&gt; |\n",
       "|---|---|---|---|\n",
       "| GCAGCCACACAGCCAC_1_1 | Nr5a1_Bdnf  | 1.0000000 | Nr5a1_Bdnf      |\n",
       "| TGCTTGCAGTTCCGTA_1_1 | Unassigned1 | 0.8065577 | Unassigned1     |\n",
       "| TGCGGCACAGCATGCC_1_1 | Nr5a1_Bdnf  | 1.0000000 | Nr5a1_Bdnf      |\n",
       "| GAGGCAAGTACCTAAC_1_1 | Unassigned1 | 0.8525726 | Unassigned1     |\n",
       "| TAGCACATCACTGTTT_1_1 | Sst_Pthlh   | 0.6754849 | Sst_Pthlh-Ghrh  |\n",
       "| GTAATGCTCTGTCCCA_1_1 | Hdc         | 1.0000000 | Gm8773_Tac1-Hdc |\n",
       "\n"
      ],
      "text/plain": [
       "                     predicted.id prediction.score.max labels         \n",
       "GCAGCCACACAGCCAC_1_1 Nr5a1_Bdnf   1.0000000            Nr5a1_Bdnf     \n",
       "TGCTTGCAGTTCCGTA_1_1 Unassigned1  0.8065577            Unassigned1    \n",
       "TGCGGCACAGCATGCC_1_1 Nr5a1_Bdnf   1.0000000            Nr5a1_Bdnf     \n",
       "GAGGCAAGTACCTAAC_1_1 Unassigned1  0.8525726            Unassigned1    \n",
       "TAGCACATCACTGTTT_1_1 Sst_Pthlh    0.6754849            Sst_Pthlh-Ghrh \n",
       "GTAATGCTCTGTCCCA_1_1 Hdc          1.0000000            Gm8773_Tac1-Hdc"
      ]
     },
     "metadata": {},
     "output_type": "display_data"
    }
   ],
   "source": [
    "all_meta_labels  = all_meta %>% \n",
    "select('predicted.id', 'prediction.score.max', 'labels')\n",
    "head(all_meta_labels)"
   ]
  },
  {
   "cell_type": "code",
   "execution_count": null,
   "id": "1b7ee7fa",
   "metadata": {},
   "outputs": [],
   "source": []
  },
  {
   "cell_type": "code",
   "execution_count": 15,
   "id": "8e221c8f",
   "metadata": {},
   "outputs": [],
   "source": [
    "exp_04  = AddMetaData(exp_04, all_meta_labels)"
   ]
  },
  {
   "cell_type": "code",
   "execution_count": 17,
   "id": "d3b57039",
   "metadata": {},
   "outputs": [
    {
     "name": "stderr",
     "output_type": "stream",
     "text": [
      "Registered S3 method overwritten by 'SeuratDisk':\n",
      "  method            from  \n",
      "  as.sparse.H5Group Seurat\n",
      "\n"
     ]
    }
   ],
   "source": [
    "\n",
    "library(SeuratDisk)"
   ]
  },
  {
   "cell_type": "code",
   "execution_count": null,
   "id": "55d40f3c",
   "metadata": {},
   "outputs": [
    {
     "name": "stderr",
     "output_type": "stream",
     "text": [
      "Creating h5Seurat file for version 3.1.5.9900\n",
      "\n",
      "Adding counts for RNA\n",
      "\n",
      "Adding data for RNA\n",
      "\n",
      "No variable features found for RNA\n",
      "\n",
      "No feature-level metadata found for RNA\n",
      "\n",
      "Adding counts for SCT\n",
      "\n",
      "Adding data for SCT\n",
      "\n",
      "Adding scale.data for SCT\n",
      "\n",
      "No variable features found for SCT\n",
      "\n",
      "No feature-level metadata found for SCT\n",
      "\n",
      "Writing out SCTModel.list for SCT\n",
      "\n",
      "Adding data for integrated\n",
      "\n"
     ]
    }
   ],
   "source": [
    "SaveH5Seurat(exp_04, filename = '/scratch/nmq407/exp_04_labelled')\n",
    "Convert(\"/scratch/nmq407/exp_04_labelled\", dest = \"h5ad\")"
   ]
  },
  {
   "cell_type": "code",
   "execution_count": 19,
   "id": "4a3f9058",
   "metadata": {},
   "outputs": [
    {
     "data": {
      "text/html": [
       "2"
      ],
      "text/latex": [
       "2"
      ],
      "text/markdown": [
       "2"
      ],
      "text/plain": [
       "[1] 2"
      ]
     },
     "metadata": {},
     "output_type": "display_data"
    }
   ],
   "source": [
    "2"
   ]
  },
  {
   "cell_type": "code",
   "execution_count": 20,
   "id": "b9f060fe",
   "metadata": {},
   "outputs": [],
   "source": [
    "qs::qsave(exp_04, '/scratch/nmq407/exp_04_labelled.qs')"
   ]
  },
  {
   "cell_type": "code",
   "execution_count": 21,
   "id": "9ceed90a",
   "metadata": {},
   "outputs": [
    {
     "data": {
      "text/html": [
       "2"
      ],
      "text/latex": [
       "2"
      ],
      "text/markdown": [
       "2"
      ],
      "text/plain": [
       "[1] 2"
      ]
     },
     "metadata": {},
     "output_type": "display_data"
    }
   ],
   "source": [
    "2"
   ]
  },
  {
   "cell_type": "code",
   "execution_count": null,
   "id": "db9ef339",
   "metadata": {},
   "outputs": [],
   "source": []
  }
 ],
 "metadata": {
  "kernelspec": {
   "display_name": "R [conda env:fgf1]",
   "language": "R",
   "name": "conda-env-fgf1-r"
  },
  "language_info": {
   "codemirror_mode": "r",
   "file_extension": ".r",
   "mimetype": "text/x-r-source",
   "name": "R",
   "pygments_lexer": "r",
   "version": "4.1.3"
  }
 },
 "nbformat": 4,
 "nbformat_minor": 5
}
