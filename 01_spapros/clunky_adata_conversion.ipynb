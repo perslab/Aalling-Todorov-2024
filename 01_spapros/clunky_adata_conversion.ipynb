{
 "cells": [
  {
   "cell_type": "code",
   "execution_count": 4,
   "id": "a00036a6",
   "metadata": {
    "scrolled": true
   },
   "outputs": [
    {
     "name": "stderr",
     "output_type": "stream",
     "text": [
      "── \u001b[1mAttaching packages\u001b[22m ─────────────────────────────────────── tidyverse 1.3.2 ──\n",
      "\u001b[32m✔\u001b[39m \u001b[34mggplot2\u001b[39m 3.3.6      \u001b[32m✔\u001b[39m \u001b[34mpurrr  \u001b[39m 0.3.4 \n",
      "\u001b[32m✔\u001b[39m \u001b[34mtibble \u001b[39m 3.1.8      \u001b[32m✔\u001b[39m \u001b[34mdplyr  \u001b[39m 1.0.10\n",
      "\u001b[32m✔\u001b[39m \u001b[34mtidyr  \u001b[39m 1.2.1      \u001b[32m✔\u001b[39m \u001b[34mstringr\u001b[39m 1.4.1 \n",
      "\u001b[32m✔\u001b[39m \u001b[34mreadr  \u001b[39m 2.1.2      \u001b[32m✔\u001b[39m \u001b[34mforcats\u001b[39m 0.5.2 \n",
      "── \u001b[1mConflicts\u001b[22m ────────────────────────────────────────── tidyverse_conflicts() ──\n",
      "\u001b[31m✖\u001b[39m \u001b[34mdplyr\u001b[39m::\u001b[32mcollapse()\u001b[39m   masks \u001b[34mIRanges\u001b[39m::collapse()\n",
      "\u001b[31m✖\u001b[39m \u001b[34mdplyr\u001b[39m::\u001b[32mcombine()\u001b[39m    masks \u001b[34mBiobase\u001b[39m::combine(), \u001b[34mBiocGenerics\u001b[39m::combine()\n",
      "\u001b[31m✖\u001b[39m \u001b[34mdplyr\u001b[39m::\u001b[32mcount()\u001b[39m      masks \u001b[34mmatrixStats\u001b[39m::count()\n",
      "\u001b[31m✖\u001b[39m \u001b[34mdplyr\u001b[39m::\u001b[32mdesc()\u001b[39m       masks \u001b[34mIRanges\u001b[39m::desc()\n",
      "\u001b[31m✖\u001b[39m \u001b[34mtidyr\u001b[39m::\u001b[32mexpand()\u001b[39m     masks \u001b[34mS4Vectors\u001b[39m::expand()\n",
      "\u001b[31m✖\u001b[39m \u001b[34mdplyr\u001b[39m::\u001b[32mfilter()\u001b[39m     masks \u001b[34mstats\u001b[39m::filter()\n",
      "\u001b[31m✖\u001b[39m \u001b[34mdplyr\u001b[39m::\u001b[32mfirst()\u001b[39m      masks \u001b[34mS4Vectors\u001b[39m::first()\n",
      "\u001b[31m✖\u001b[39m \u001b[34mdplyr\u001b[39m::\u001b[32mlag()\u001b[39m        masks \u001b[34mstats\u001b[39m::lag()\n",
      "\u001b[31m✖\u001b[39m \u001b[34mggplot2\u001b[39m::\u001b[32mPosition()\u001b[39m masks \u001b[34mBiocGenerics\u001b[39m::Position(), \u001b[34mbase\u001b[39m::Position()\n",
      "\u001b[31m✖\u001b[39m \u001b[34mpurrr\u001b[39m::\u001b[32mreduce()\u001b[39m     masks \u001b[34mGenomicRanges\u001b[39m::reduce(), \u001b[34mIRanges\u001b[39m::reduce()\n",
      "\u001b[31m✖\u001b[39m \u001b[34mdplyr\u001b[39m::\u001b[32mrename()\u001b[39m     masks \u001b[34mS4Vectors\u001b[39m::rename()\n",
      "\u001b[31m✖\u001b[39m \u001b[34mdplyr\u001b[39m::\u001b[32mslice()\u001b[39m      masks \u001b[34mIRanges\u001b[39m::slice()\n"
     ]
    }
   ],
   "source": [
    "library(SingleCellExperiment)\n",
    "library(Seurat)\n",
    "library(tidyverse)"
   ]
  },
  {
   "cell_type": "code",
   "execution_count": 5,
   "id": "326a03d6",
   "metadata": {},
   "outputs": [],
   "source": [
    "source('../01_milo/milo.R')"
   ]
  },
  {
   "cell_type": "code",
   "execution_count": 6,
   "id": "156b7a6e",
   "metadata": {},
   "outputs": [
    {
     "data": {
      "text/plain": [
       "class: SingleCellExperiment \n",
       "dim: 25074 27188 \n",
       "metadata(0):\n",
       "assays(2): counts logcounts\n",
       "rownames(25074): ENSMUSG00000089699 Lypla1 ... ENSMUSG00000095041\n",
       "  ENSMUSG00000100896\n",
       "rowData names(0):\n",
       "colnames(27188): TTCTAGTGTTAACCTG_3_3_1 AAGCCATCACTGGACC_1_3_1 ...\n",
       "  TTAATCCGTGATAGTA_5_3_2 TCACTCGAGGATACCG_5_3_2\n",
       "colData names(39): orig.ident nCount_RNA ... nFeature_integrated ident\n",
       "reducedDimNames(2): PCA UMAP\n",
       "mainExpName: SCT\n",
       "altExpNames(2): RNA integrated"
      ]
     },
     "metadata": {},
     "output_type": "display_data"
    }
   ],
   "source": [
    "sce = qs::qread('../genebasisr_obob5v5/_targets/objects/exp_all_n1xo') %>% convert_obj_to_sce\n",
    "sce"
   ]
  },
  {
   "cell_type": "code",
   "execution_count": 7,
   "id": "94398413",
   "metadata": {},
   "outputs": [],
   "source": [
    "# qs::qsave(sce, '/scratch/nmq407/exp_04_labelled_sce.qs')\n",
    "# qs::qsave(sce, '../data/downsampled_anon/ds_obj_sce.qs')"
   ]
  },
  {
   "cell_type": "code",
   "execution_count": 8,
   "id": "165304f7",
   "metadata": {},
   "outputs": [
    {
     "name": "stderr",
     "output_type": "stream",
     "text": [
      "Registered S3 methods overwritten by 'zellkonverter':\n",
      "  method                                             from      \n",
      "  py_to_r.numpy.ndarray                              reticulate\n",
      "  py_to_r.pandas.core.arrays.categorical.Categorical reticulate\n",
      "\n"
     ]
    }
   ],
   "source": [
    "library(zellkonverter)\n",
    "library(basilisk)\n",
    "library(scRNAseq)"
   ]
  },
  {
   "cell_type": "code",
   "execution_count": 9,
   "id": "95dc2f59",
   "metadata": {},
   "outputs": [
    {
     "data": {
      "text/html": [
       "25324"
      ],
      "text/latex": [
       "25324"
      ],
      "text/markdown": [
       "25324"
      ],
      "text/plain": [
       "[1] 25324"
      ]
     },
     "metadata": {},
     "output_type": "display_data"
    }
   ],
   "source": [
    "Sys.getpid()"
   ]
  },
  {
   "cell_type": "code",
   "execution_count": 10,
   "id": "8d36d01a",
   "metadata": {},
   "outputs": [
    {
     "name": "stderr",
     "output_type": "stream",
     "text": [
      "+ '/raid5/home/cbmr/nmq407/.cache/R/basilisk/1.6.0/0/bin/conda' 'create' '--yes' '--prefix' '/raid5/home/cbmr/nmq407/.cache/R/basilisk/1.6.0/zellkonverter/1.9.3/zellkonverterAnnDataEnv-0.8.0' 'python=3.8.13' '--quiet' '-c' 'conda-forge'\n",
      "\n",
      "+ '/raid5/home/cbmr/nmq407/.cache/R/basilisk/1.6.0/0/bin/conda' 'install' '--yes' '--prefix' '/raid5/home/cbmr/nmq407/.cache/R/basilisk/1.6.0/zellkonverter/1.9.3/zellkonverterAnnDataEnv-0.8.0' 'python=3.8.13'\n",
      "\n",
      "+ '/raid5/home/cbmr/nmq407/.cache/R/basilisk/1.6.0/0/bin/conda' 'install' '--yes' '--prefix' '/raid5/home/cbmr/nmq407/.cache/R/basilisk/1.6.0/zellkonverter/1.9.3/zellkonverterAnnDataEnv-0.8.0' '-c' 'conda-forge' 'python=3.8.13' 'anndata=0.8.0' 'h5py=3.6.0' 'hdf5=1.12.1' 'natsort=8.1.0' 'numpy=1.22.3' 'packaging=21.3' 'pandas=1.4.2' 'python=3.8.13' 'scipy=1.7.3' 'sqlite=3.38.2'\n",
      "\n",
      "\u001b[36mℹ\u001b[39m Using the \u001b[32m\u001b[32m'counts'\u001b[32m\u001b[39m assay as the \u001b[32m\u001b[32mX matrix\u001b[32m\u001b[39m\n",
      "\n"
     ]
    }
   ],
   "source": [
    "roundtrip <- basiliskRun(fun = function(sce) {\n",
    "     # Convert SCE to AnnData:\n",
    "#      adata <- SCE2AnnData(sce)\n",
    "\n",
    "     # Maybe do some work in Python on 'adata':\n",
    "     # BLAH BLAH BLAH\n",
    "\n",
    "     # Convert back to an SCE:\n",
    "#     writeH5AD(sce, '/scratch/nmq407/exp_04_labelled_h5ad')\n",
    "    writeH5AD(sce, '/scratch/nmq407/exp_all_n1xo')\n",
    "}, env = zellkonverterAnnDataEnv(), sce = sce)"
   ]
  },
  {
   "cell_type": "code",
   "execution_count": 11,
   "id": "64c0906a",
   "metadata": {},
   "outputs": [
    {
     "data": {
      "text/html": [
       "2"
      ],
      "text/latex": [
       "2"
      ],
      "text/markdown": [
       "2"
      ],
      "text/plain": [
       "[1] 2"
      ]
     },
     "metadata": {},
     "output_type": "display_data"
    }
   ],
   "source": [
    "2"
   ]
  },
  {
   "cell_type": "code",
   "execution_count": 12,
   "id": "e7c3a666",
   "metadata": {},
   "outputs": [
    {
     "data": {
      "text/html": [
       "TRUE"
      ],
      "text/latex": [
       "TRUE"
      ],
      "text/markdown": [
       "TRUE"
      ],
      "text/plain": [
       "[1] TRUE"
      ]
     },
     "metadata": {},
     "output_type": "display_data"
    }
   ],
   "source": [
    "file.copy('/scratch/nmq407/exp_all_n1xo', 'exp_all_n1xo.h5ad')"
   ]
  },
  {
   "cell_type": "code",
   "execution_count": 14,
   "id": "8f3daa5d",
   "metadata": {},
   "outputs": [
    {
     "data": {
      "text/html": [
       "\n",
       "<table width=\"100%\" summary=\"page for writeH5AD {zellkonverter}\"><tr><td>writeH5AD {zellkonverter}</td><td style=\"text-align: right;\">R Documentation</td></tr></table>\n",
       "\n",
       "<h2>Write H5AD</h2>\n",
       "\n",
       "<h3>Description</h3>\n",
       "\n",
       "<p>Write a H5AD file from a SingleCellExperiment object.\n",
       "</p>\n",
       "\n",
       "\n",
       "<h3>Usage</h3>\n",
       "\n",
       "<pre>\n",
       "writeH5AD(\n",
       "  sce,\n",
       "  file,\n",
       "  X_name = NULL,\n",
       "  skip_assays = FALSE,\n",
       "  compression = c(\"none\", \"gzip\", \"lzf\"),\n",
       "  version = NULL,\n",
       "  verbose = NULL,\n",
       "  ...\n",
       ")\n",
       "</pre>\n",
       "\n",
       "\n",
       "<h3>Arguments</h3>\n",
       "\n",
       "<table summary=\"R argblock\">\n",
       "<tr valign=\"top\"><td><code>sce</code></td>\n",
       "<td>\n",
       "<p>A SingleCellExperiment object.</p>\n",
       "</td></tr>\n",
       "<tr valign=\"top\"><td><code>file</code></td>\n",
       "<td>\n",
       "<p>String containing a path to write the new <code>.h5ad</code> file.</p>\n",
       "</td></tr>\n",
       "<tr valign=\"top\"><td><code>X_name</code></td>\n",
       "<td>\n",
       "<p>Name of the assay to use as the primary matrix (<code>X</code>) of the\n",
       "AnnData object. If <code>NULL</code>, the first assay of <code>sce</code> will be used by default.</p>\n",
       "</td></tr>\n",
       "<tr valign=\"top\"><td><code>skip_assays</code></td>\n",
       "<td>\n",
       "<p>Logical scalar indicating whether assay matrices should\n",
       "be ignored when writing to <code>file</code>.</p>\n",
       "</td></tr>\n",
       "<tr valign=\"top\"><td><code>compression</code></td>\n",
       "<td>\n",
       "<p>Type of compression when writing the new <code>.h5ad</code> file.</p>\n",
       "</td></tr>\n",
       "<tr valign=\"top\"><td><code>version</code></td>\n",
       "<td>\n",
       "<p>A string giving the version of the <strong>anndata</strong> Python library\n",
       "to use. Allowed values are available in <code>.AnnDataVersions</code>. By default the\n",
       "latest version is used.</p>\n",
       "</td></tr>\n",
       "<tr valign=\"top\"><td><code>verbose</code></td>\n",
       "<td>\n",
       "<p>Logical scalar indicating whether to print progress messages.\n",
       "If <code>NULL</code> uses <code>getOption(\"zellkonverter.verbose\")</code>.</p>\n",
       "</td></tr>\n",
       "<tr valign=\"top\"><td><code>...</code></td>\n",
       "<td>\n",
       "\n",
       "<p>Arguments passed on to <code>SCE2AnnData</code>\n",
       "</p>\n",
       "\n",
       "<dl>\n",
       "<dt><code>assays,colData,rowData,reducedDims,metadata,colPairs,rowPairs</code></dt><dd><p>Arguments specifying how these slots are converted. If <code>TRUE</code> everything in\n",
       "that slot is converted, if <code>FALSE</code> nothing is converted and if a character\n",
       "vector only those items or columns are converted.</p>\n",
       "</dd>\n",
       "</dl>\n",
       "</td></tr>\n",
       "</table>\n",
       "\n",
       "\n",
       "<h3>Details</h3>\n",
       "\n",
       "\n",
       "\n",
       "<h4>Skipping assays</h4>\n",
       "\n",
       "<p>Setting <code>skip_assays = TRUE</code> can occasionally be useful if the matrices in\n",
       "<code>sce</code> are stored in a format that is not amenable for efficient conversion\n",
       "to a <strong>numpy</strong>-compatible format. In such cases, it can be better to create\n",
       "an empty placeholder dataset in <code>file</code> and fill it in R afterwards.\n",
       "</p>\n",
       "\n",
       "\n",
       "\n",
       "<h4><strong>DelayedArray</strong> assays</h4>\n",
       "\n",
       "<p>If <code>sce</code> contains any <strong>DelayedArray</strong> matrices as assays <code>writeH5AD()</code> will\n",
       "write them to disk using the <strong>rhdf5</strong> package directly rather than via\n",
       "Python to avoid instantiating them in memory. However there is currently\n",
       "an issue which prevents this being done for sparse <strong>DelayedArray</strong> matrices.\n",
       "</p>\n",
       "\n",
       "\n",
       "\n",
       "<h4>Known conversion issues</h4>\n",
       "\n",
       "\n",
       "\n",
       "<h5>Coercion to factors</h5>\n",
       "\n",
       "<p>The <strong>anndata</strong> package automatically converts some character vectors to\n",
       "factors when saving <code>.h5ad</code> files. This can effect columns of <code>rowData(sce)</code>\n",
       "and <code>colData(sce)</code> which may change type when the <code>.h5ad</code> file is read back\n",
       "into R.\n",
       "</p>\n",
       "\n",
       "\n",
       "\n",
       "\n",
       "<h4>Environment</h4>\n",
       "\n",
       "<p>See AnnData-Environment for more details on <strong>zellkonverter</strong> Python\n",
       "environments.\n",
       "</p>\n",
       "\n",
       "\n",
       "\n",
       "<h3>Value</h3>\n",
       "\n",
       "<p>A <code>NULL</code> is invisibly returned.\n",
       "</p>\n",
       "\n",
       "\n",
       "<h3>Author(s)</h3>\n",
       "\n",
       "<p>Luke Zappia\n",
       "</p>\n",
       "<p>Aaron Lun\n",
       "</p>\n",
       "\n",
       "\n",
       "<h3>See Also</h3>\n",
       "\n",
       "<p><code>readH5AD()</code>, to read a SingleCellExperiment file from a H5AD\n",
       "file.\n",
       "</p>\n",
       "<p><code>SCE2AnnData()</code>, for developers to create an AnnData object from a\n",
       "SingleCellExperiment.\n",
       "</p>\n",
       "\n",
       "\n",
       "<h3>Examples</h3>\n",
       "\n",
       "<pre>\n",
       "# Using the Zeisel brain dataset\n",
       "if (requireNamespace(\"scRNAseq\", quietly = TRUE)) {\n",
       "    library(scRNAseq)\n",
       "    sce &lt;- ZeiselBrainData()\n",
       "\n",
       "    # Writing to a H5AD file\n",
       "    temp &lt;- tempfile(fileext = \".h5ad\")\n",
       "    writeH5AD(sce, temp)\n",
       "}\n",
       "</pre>\n",
       "\n",
       "<hr /><div style=\"text-align: center;\">[Package <em>zellkonverter</em> version 1.9.3 ]</div>"
      ],
      "text/latex": [
       "\\inputencoding{utf8}\n",
       "\\HeaderA{writeH5AD}{Write H5AD}{writeH5AD}\n",
       "%\n",
       "\\begin{Description}\\relax\n",
       "Write a H5AD file from a \\LinkA{SingleCellExperiment}{SingleCellExperiment.Rdash.class} object.\n",
       "\\end{Description}\n",
       "%\n",
       "\\begin{Usage}\n",
       "\\begin{verbatim}\n",
       "writeH5AD(\n",
       "  sce,\n",
       "  file,\n",
       "  X_name = NULL,\n",
       "  skip_assays = FALSE,\n",
       "  compression = c(\"none\", \"gzip\", \"lzf\"),\n",
       "  version = NULL,\n",
       "  verbose = NULL,\n",
       "  ...\n",
       ")\n",
       "\\end{verbatim}\n",
       "\\end{Usage}\n",
       "%\n",
       "\\begin{Arguments}\n",
       "\\begin{ldescription}\n",
       "\\item[\\code{sce}] A \\LinkA{SingleCellExperiment}{SingleCellExperiment.Rdash.class} object.\n",
       "\n",
       "\\item[\\code{file}] String containing a path to write the new \\code{.h5ad} file.\n",
       "\n",
       "\\item[\\code{X\\_name}] Name of the assay to use as the primary matrix (\\code{X}) of the\n",
       "AnnData object. If \\code{NULL}, the first assay of \\code{sce} will be used by default.\n",
       "\n",
       "\\item[\\code{skip\\_assays}] Logical scalar indicating whether assay matrices should\n",
       "be ignored when writing to \\code{file}.\n",
       "\n",
       "\\item[\\code{compression}] Type of compression when writing the new \\code{.h5ad} file.\n",
       "\n",
       "\\item[\\code{version}] A string giving the version of the \\strong{anndata} Python library\n",
       "to use. Allowed values are available in \\code{.AnnDataVersions}. By default the\n",
       "latest version is used.\n",
       "\n",
       "\\item[\\code{verbose}] Logical scalar indicating whether to print progress messages.\n",
       "If \\code{NULL} uses \\code{getOption(\"zellkonverter.verbose\")}.\n",
       "\n",
       "\\item[\\code{...}] \n",
       "Arguments passed on to \\code{\\LinkA{SCE2AnnData}{SCE2AnnData}}\n",
       "\\begin{description}\n",
       "\n",
       "\\item[\\code{assays,colData,rowData,reducedDims,metadata,colPairs,rowPairs}] Arguments specifying how these slots are converted. If \\code{TRUE} everything in\n",
       "that slot is converted, if \\code{FALSE} nothing is converted and if a character\n",
       "vector only those items or columns are converted.\n",
       "\n",
       "\\end{description}\n",
       "\n",
       "\\end{ldescription}\n",
       "\\end{Arguments}\n",
       "%\n",
       "\\begin{Details}\\relax\n",
       "%\n",
       "\\begin{SubSection}{Skipping assays}\n",
       "\n",
       "Setting \\code{skip\\_assays = TRUE} can occasionally be useful if the matrices in\n",
       "\\code{sce} are stored in a format that is not amenable for efficient conversion\n",
       "to a \\strong{numpy}-compatible format. In such cases, it can be better to create\n",
       "an empty placeholder dataset in \\code{file} and fill it in R afterwards.\n",
       "\\end{SubSection}\n",
       "\n",
       "\n",
       "%\n",
       "\\begin{SubSection}{\\strong{DelayedArray} assays}\n",
       "\n",
       "If \\code{sce} contains any \\strong{DelayedArray} matrices as assays \\code{writeH5AD()} will\n",
       "write them to disk using the \\strong{rhdf5} package directly rather than via\n",
       "Python to avoid instantiating them in memory. However there is currently\n",
       "an issue which prevents this being done for sparse \\strong{DelayedArray} matrices.\n",
       "\\end{SubSection}\n",
       "\n",
       "\n",
       "%\n",
       "\\begin{SubSection}{Known conversion issues}\n",
       "%\n",
       "\\begin{SubSubSection}{Coercion to factors}\n",
       "\n",
       "The \\strong{anndata} package automatically converts some character vectors to\n",
       "factors when saving \\code{.h5ad} files. This can effect columns of \\code{rowData(sce)}\n",
       "and \\code{colData(sce)} which may change type when the \\code{.h5ad} file is read back\n",
       "into R.\n",
       "\\end{SubSubSection}\n",
       "\n",
       "\n",
       "\\end{SubSection}\n",
       "\n",
       "\n",
       "%\n",
       "\\begin{SubSection}{Environment}\n",
       "\n",
       "See \\LinkA{AnnData-Environment}{AnnData.Rdash.Environment} for more details on \\strong{zellkonverter} Python\n",
       "environments.\n",
       "\\end{SubSection}\n",
       "\n",
       "\\end{Details}\n",
       "%\n",
       "\\begin{Value}\n",
       "A \\code{NULL} is invisibly returned.\n",
       "\\end{Value}\n",
       "%\n",
       "\\begin{Author}\\relax\n",
       "Luke Zappia\n",
       "\n",
       "Aaron Lun\n",
       "\\end{Author}\n",
       "%\n",
       "\\begin{SeeAlso}\\relax\n",
       "\\code{\\LinkA{readH5AD()}{readH5AD}}, to read a \\LinkA{SingleCellExperiment}{SingleCellExperiment.Rdash.class} file from a H5AD\n",
       "file.\n",
       "\n",
       "\\code{\\LinkA{SCE2AnnData()}{SCE2AnnData}}, for developers to create an AnnData object from a\n",
       "\\LinkA{SingleCellExperiment}{SingleCellExperiment.Rdash.class}.\n",
       "\\end{SeeAlso}\n",
       "%\n",
       "\\begin{Examples}\n",
       "\\begin{ExampleCode}\n",
       "# Using the Zeisel brain dataset\n",
       "if (requireNamespace(\"scRNAseq\", quietly = TRUE)) {\n",
       "    library(scRNAseq)\n",
       "    sce <- ZeiselBrainData()\n",
       "\n",
       "    # Writing to a H5AD file\n",
       "    temp <- tempfile(fileext = \".h5ad\")\n",
       "    writeH5AD(sce, temp)\n",
       "}\n",
       "\\end{ExampleCode}\n",
       "\\end{Examples}"
      ],
      "text/plain": [
       "writeH5AD            package:zellkonverter             R Documentation\n",
       "\n",
       "_\bW_\br_\bi_\bt_\be _\bH_\b5_\bA_\bD\n",
       "\n",
       "_\bD_\be_\bs_\bc_\br_\bi_\bp_\bt_\bi_\bo_\bn:\n",
       "\n",
       "     Write a H5AD file from a SingleCellExperiment object.\n",
       "\n",
       "_\bU_\bs_\ba_\bg_\be:\n",
       "\n",
       "     writeH5AD(\n",
       "       sce,\n",
       "       file,\n",
       "       X_name = NULL,\n",
       "       skip_assays = FALSE,\n",
       "       compression = c(\"none\", \"gzip\", \"lzf\"),\n",
       "       version = NULL,\n",
       "       verbose = NULL,\n",
       "       ...\n",
       "     )\n",
       "     \n",
       "_\bA_\br_\bg_\bu_\bm_\be_\bn_\bt_\bs:\n",
       "\n",
       "     sce: A SingleCellExperiment object.\n",
       "\n",
       "    file: String containing a path to write the new '.h5ad' file.\n",
       "\n",
       "  X_name: Name of the assay to use as the primary matrix ('X') of the\n",
       "          AnnData object. If 'NULL', the first assay of 'sce' will be\n",
       "          used by default.\n",
       "\n",
       "skip_assays: Logical scalar indicating whether assay matrices should be\n",
       "          ignored when writing to 'file'.\n",
       "\n",
       "compression: Type of compression when writing the new '.h5ad' file.\n",
       "\n",
       " version: A string giving the version of the *anndata* Python library\n",
       "          to use. Allowed values are available in '.AnnDataVersions'.\n",
       "          By default the latest version is used.\n",
       "\n",
       " verbose: Logical scalar indicating whether to print progress messages.\n",
       "          If 'NULL' uses 'getOption(\"zellkonverter.verbose\")'.\n",
       "\n",
       "     ...: Arguments passed on to 'SCE2AnnData'\n",
       "\n",
       "          'assays,colData,rowData,reducedDims,metadata,colPairs,rowPairs'\n",
       "              Arguments specifying how these slots are converted. If\n",
       "              'TRUE' everything in that slot is converted, if 'FALSE'\n",
       "              nothing is converted and if a character vector only those\n",
       "              items or columns are converted.\n",
       "\n",
       "_\bD_\be_\bt_\ba_\bi_\bl_\bs:\n",
       "\n",
       "  _\bS_\bk_\bi_\bp_\bp_\bi_\bn_\bg _\ba_\bs_\bs_\ba_\by_\bs:\n",
       "\n",
       "       Setting 'skip_assays = TRUE' can occasionally be useful if the\n",
       "       matrices in 'sce' are stored in a format that is not amenable\n",
       "       for efficient conversion to a *numpy*-compatible format. In such\n",
       "       cases, it can be better to create an empty placeholder dataset\n",
       "       in 'file' and fill it in R afterwards.\n",
       "\n",
       "  *_\bD_\be_\bl_\ba_\by_\be_\bd_\bA_\br_\br_\ba_\by* _\ba_\bs_\bs_\ba_\by_\bs:\n",
       "\n",
       "       If 'sce' contains any *DelayedArray* matrices as assays\n",
       "       'writeH5AD()' will write them to disk using the *rhdf5* package\n",
       "       directly rather than via Python to avoid instantiating them in\n",
       "       memory. However there is currently an issue which prevents this\n",
       "       being done for sparse *DelayedArray* matrices.\n",
       "\n",
       "  _\bK_\bn_\bo_\bw_\bn _\bc_\bo_\bn_\bv_\be_\br_\bs_\bi_\bo_\bn _\bi_\bs_\bs_\bu_\be_\bs:\n",
       "\n",
       "    _\bC_\bo_\be_\br_\bc_\bi_\bo_\bn _\bt_\bo _\bf_\ba_\bc_\bt_\bo_\br_\bs:\n",
       "\n",
       "         The *anndata* package automatically converts some character\n",
       "         vectors to factors when saving '.h5ad' files. This can effect\n",
       "         columns of 'rowData(sce)' and 'colData(sce)' which may change\n",
       "         type when the '.h5ad' file is read back into R.\n",
       "\n",
       "  _\bE_\bn_\bv_\bi_\br_\bo_\bn_\bm_\be_\bn_\bt:\n",
       "\n",
       "       See AnnData-Environment for more details on *zellkonverter*\n",
       "       Python environments.\n",
       "\n",
       "_\bV_\ba_\bl_\bu_\be:\n",
       "\n",
       "     A 'NULL' is invisibly returned.\n",
       "\n",
       "_\bA_\bu_\bt_\bh_\bo_\br(_\bs):\n",
       "\n",
       "     Luke Zappia\n",
       "\n",
       "     Aaron Lun\n",
       "\n",
       "_\bS_\be_\be _\bA_\bl_\bs_\bo:\n",
       "\n",
       "     'readH5AD()', to read a SingleCellExperiment file from a H5AD\n",
       "     file.\n",
       "\n",
       "     'SCE2AnnData()', for developers to create an AnnData object from a\n",
       "     SingleCellExperiment.\n",
       "\n",
       "_\bE_\bx_\ba_\bm_\bp_\bl_\be_\bs:\n",
       "\n",
       "     # Using the Zeisel brain dataset\n",
       "     if (requireNamespace(\"scRNAseq\", quietly = TRUE)) {\n",
       "         library(scRNAseq)\n",
       "         sce <- ZeiselBrainData()\n",
       "     \n",
       "         # Writing to a H5AD file\n",
       "         temp <- tempfile(fileext = \".h5ad\")\n",
       "         writeH5AD(sce, temp)\n",
       "     }\n",
       "     "
      ]
     },
     "metadata": {},
     "output_type": "display_data"
    }
   ],
   "source": [
    "?writeH5AD"
   ]
  },
  {
   "cell_type": "code",
   "execution_count": null,
   "id": "70c4444f",
   "metadata": {},
   "outputs": [],
   "source": [
    "a = zellkonverterAnnDataEnv()"
   ]
  },
  {
   "cell_type": "code",
   "execution_count": null,
   "id": "9fc5f1e2",
   "metadata": {},
   "outputs": [],
   "source": [
    "a"
   ]
  },
  {
   "cell_type": "code",
   "execution_count": null,
   "id": "e47106a8",
   "metadata": {},
   "outputs": [],
   "source": [
    "zellkonverter::zellkonverterAnnDataEnv()"
   ]
  },
  {
   "cell_type": "code",
   "execution_count": null,
   "id": "3d646b9d",
   "metadata": {},
   "outputs": [],
   "source": [
    "basilisk::configureBasiliskEnv()"
   ]
  },
  {
   "cell_type": "code",
   "execution_count": null,
   "id": "f9953393",
   "metadata": {},
   "outputs": [],
   "source": [
    "?configureBasiliskEnv"
   ]
  },
  {
   "cell_type": "code",
   "execution_count": null,
   "id": "66e2e3c2",
   "metadata": {},
   "outputs": [],
   "source": [
    "DimPlot(seurat_obj, reduction = \"umap\", group.by = \"clusters\", label = TRUE, repel = TRUE) + NoLegend()"
   ]
  },
  {
   "cell_type": "code",
   "execution_count": null,
   "id": "d59a62e0",
   "metadata": {},
   "outputs": [],
   "source": []
  }
 ],
 "metadata": {
  "kernelspec": {
   "display_name": "R [conda env:fgf1_ygg]",
   "language": "R",
   "name": "conda-env-fgf1_ygg-r"
  },
  "language_info": {
   "codemirror_mode": "r",
   "file_extension": ".r",
   "mimetype": "text/x-r-source",
   "name": "R",
   "pygments_lexer": "r",
   "version": "4.1.3"
  }
 },
 "nbformat": 4,
 "nbformat_minor": 5
}
