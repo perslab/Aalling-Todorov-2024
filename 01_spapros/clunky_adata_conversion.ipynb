{
 "cells": [
  {
   "cell_type": "code",
   "execution_count": 1,
   "id": "72043243",
   "metadata": {},
   "outputs": [
    {
     "name": "stderr",
     "output_type": "stream",
     "text": [
      "Loading required package: SummarizedExperiment\n",
      "\n",
      "Loading required package: MatrixGenerics\n",
      "\n",
      "Loading required package: matrixStats\n",
      "\n",
      "\n",
      "Attaching package: ‘MatrixGenerics’\n",
      "\n",
      "\n",
      "The following objects are masked from ‘package:matrixStats’:\n",
      "\n",
      "    colAlls, colAnyNAs, colAnys, colAvgsPerRowSet, colCollapse,\n",
      "    colCounts, colCummaxs, colCummins, colCumprods, colCumsums,\n",
      "    colDiffs, colIQRDiffs, colIQRs, colLogSumExps, colMadDiffs,\n",
      "    colMads, colMaxs, colMeans2, colMedians, colMins, colOrderStats,\n",
      "    colProds, colQuantiles, colRanges, colRanks, colSdDiffs, colSds,\n",
      "    colSums2, colTabulates, colVarDiffs, colVars, colWeightedMads,\n",
      "    colWeightedMeans, colWeightedMedians, colWeightedSds,\n",
      "    colWeightedVars, rowAlls, rowAnyNAs, rowAnys, rowAvgsPerColSet,\n",
      "    rowCollapse, rowCounts, rowCummaxs, rowCummins, rowCumprods,\n",
      "    rowCumsums, rowDiffs, rowIQRDiffs, rowIQRs, rowLogSumExps,\n",
      "    rowMadDiffs, rowMads, rowMaxs, rowMeans2, rowMedians, rowMins,\n",
      "    rowOrderStats, rowProds, rowQuantiles, rowRanges, rowRanks,\n",
      "    rowSdDiffs, rowSds, rowSums2, rowTabulates, rowVarDiffs, rowVars,\n",
      "    rowWeightedMads, rowWeightedMeans, rowWeightedMedians,\n",
      "    rowWeightedSds, rowWeightedVars\n",
      "\n",
      "\n",
      "Loading required package: GenomicRanges\n",
      "\n",
      "Loading required package: stats4\n",
      "\n",
      "Loading required package: BiocGenerics\n",
      "\n",
      "\n",
      "Attaching package: ‘BiocGenerics’\n",
      "\n",
      "\n",
      "The following objects are masked from ‘package:stats’:\n",
      "\n",
      "    IQR, mad, sd, var, xtabs\n",
      "\n",
      "\n",
      "The following objects are masked from ‘package:base’:\n",
      "\n",
      "    anyDuplicated, append, as.data.frame, basename, cbind, colnames,\n",
      "    dirname, do.call, duplicated, eval, evalq, Filter, Find, get, grep,\n",
      "    grepl, intersect, is.unsorted, lapply, Map, mapply, match, mget,\n",
      "    order, paste, pmax, pmax.int, pmin, pmin.int, Position, rank,\n",
      "    rbind, Reduce, rownames, sapply, setdiff, sort, table, tapply,\n",
      "    union, unique, unsplit, which.max, which.min\n",
      "\n",
      "\n",
      "Loading required package: S4Vectors\n",
      "\n",
      "\n",
      "Attaching package: ‘S4Vectors’\n",
      "\n",
      "\n",
      "The following objects are masked from ‘package:base’:\n",
      "\n",
      "    expand.grid, I, unname\n",
      "\n",
      "\n",
      "Loading required package: IRanges\n",
      "\n",
      "Loading required package: GenomeInfoDb\n",
      "\n",
      "Loading required package: Biobase\n",
      "\n",
      "Welcome to Bioconductor\n",
      "\n",
      "    Vignettes contain introductory material; view with\n",
      "    'browseVignettes()'. To cite Bioconductor, see\n",
      "    'citation(\"Biobase\")', and for packages 'citation(\"pkgname\")'.\n",
      "\n",
      "\n",
      "\n",
      "Attaching package: ‘Biobase’\n",
      "\n",
      "\n",
      "The following object is masked from ‘package:MatrixGenerics’:\n",
      "\n",
      "    rowMedians\n",
      "\n",
      "\n",
      "The following objects are masked from ‘package:matrixStats’:\n",
      "\n",
      "    anyMissing, rowMedians\n",
      "\n",
      "\n",
      "Attaching SeuratObject\n",
      "\n",
      "Attaching sp\n",
      "\n",
      "\n",
      "Attaching package: ‘Seurat’\n",
      "\n",
      "\n",
      "The following object is masked from ‘package:SummarizedExperiment’:\n",
      "\n",
      "    Assays\n",
      "\n",
      "\n"
     ]
    }
   ],
   "source": [
    "library(SingleCellExperiment)\n",
    "library(Seurat)"
   ]
  },
  {
   "cell_type": "code",
   "execution_count": 10,
   "id": "81a624b1",
   "metadata": {},
   "outputs": [],
   "source": [
    "source('../01_milo/milo.R')"
   ]
  },
  {
   "cell_type": "code",
   "execution_count": 13,
   "id": "bdec5cea",
   "metadata": {},
   "outputs": [
    {
     "data": {
      "text/plain": [
       "class: SingleCellExperiment \n",
       "dim: 17492 37179 \n",
       "metadata(0):\n",
       "assays(2): counts logcounts\n",
       "rownames(17492): Lypla1 Tcea1 ... Csprs Olfr187\n",
       "rowData names(0):\n",
       "colnames(37179): CCTATCGAGCCATTCA_1_1 GTCCTCAAGCGAGGAG_1_1 ...\n",
       "  TTAATCCGTGATAGTA_5_3 TCACTCGAGGATACCG_5_3\n",
       "colData names(36): orig.ident nCount_RNA ... polar_label ident\n",
       "reducedDimNames(2): PCA UMAP\n",
       "mainExpName: SCT\n",
       "altExpNames(1): RNA"
      ]
     },
     "metadata": {},
     "output_type": "display_data"
    }
   ],
   "source": [
    "sce = qs::qread('../probe_selection/_targets/objects/exp_labelled_other_ngo') %>% convert_obj_to_sce\n",
    "sce"
   ]
  },
  {
   "cell_type": "code",
   "execution_count": null,
   "id": "a5d4e05e",
   "metadata": {},
   "outputs": [],
   "source": [
    "# qs::qsave(sce, '/scratch/nmq407/exp_04_labelled_sce.qs')\n",
    "# qs::qsave(sce, '../data/downsampled_anon/ds_obj_sce.qs')"
   ]
  },
  {
   "cell_type": "code",
   "execution_count": 3,
   "id": "4693ad08",
   "metadata": {},
   "outputs": [],
   "source": [
    "library(zellkonverter)\n",
    "library(basilisk)\n",
    "library(scRNAseq)"
   ]
  },
  {
   "cell_type": "code",
   "execution_count": 4,
   "id": "1b8e8e68",
   "metadata": {},
   "outputs": [
    {
     "data": {
      "text/html": [
       "75812"
      ],
      "text/latex": [
       "75812"
      ],
      "text/markdown": [
       "75812"
      ],
      "text/plain": [
       "[1] 75812"
      ]
     },
     "metadata": {},
     "output_type": "display_data"
    }
   ],
   "source": [
    "Sys.getpid()"
   ]
  },
  {
   "cell_type": "code",
   "execution_count": 14,
   "id": "c252b6dd",
   "metadata": {},
   "outputs": [
    {
     "name": "stderr",
     "output_type": "stream",
     "text": [
      "\u001b[36mℹ\u001b[39m Using the \u001b[32m\u001b[32m'counts'\u001b[32m\u001b[39m assay as the \u001b[32m\u001b[32mX matrix\u001b[32m\u001b[39m\n",
      "\n"
     ]
    }
   ],
   "source": [
    "roundtrip <- basiliskRun(fun = function(sce) {\n",
    "     # Convert SCE to AnnData:\n",
    "#      adata <- SCE2AnnData(sce)\n",
    "\n",
    "     # Maybe do some work in Python on 'adata':\n",
    "     # BLAH BLAH BLAH\n",
    "\n",
    "     # Convert back to an SCE:\n",
    "#     writeH5AD(sce, '/scratch/nmq407/exp_04_labelled_h5ad')\n",
    "    writeH5AD(sce, '/scratch/nmq407/ds_obj_sce_other_h5ad_from_notebook')\n",
    "}, env = zellkonverterAnnDataEnv(), sce = sce)"
   ]
  },
  {
   "cell_type": "code",
   "execution_count": null,
   "id": "8d78fd13",
   "metadata": {},
   "outputs": [],
   "source": [
    "file.copy('/scratch/nmq407/ds_obj_sce_h5ad', '../data/downsampled_anon/')"
   ]
  },
  {
   "cell_type": "code",
   "execution_count": null,
   "id": "4e71f004",
   "metadata": {},
   "outputs": [],
   "source": [
    "?zellkonverterAnnDataEnv"
   ]
  },
  {
   "cell_type": "code",
   "execution_count": null,
   "id": "5680e09d",
   "metadata": {},
   "outputs": [],
   "source": [
    "a = zellkonverterAnnDataEnv()"
   ]
  },
  {
   "cell_type": "code",
   "execution_count": null,
   "id": "f277dbcd",
   "metadata": {},
   "outputs": [],
   "source": [
    "a"
   ]
  },
  {
   "cell_type": "code",
   "execution_count": null,
   "id": "43a01f03",
   "metadata": {},
   "outputs": [],
   "source": [
    "zellkonverter::zellkonverterAnnDataEnv()"
   ]
  },
  {
   "cell_type": "code",
   "execution_count": null,
   "id": "b53b7833",
   "metadata": {},
   "outputs": [],
   "source": [
    "basilisk::configureBasiliskEnv()"
   ]
  },
  {
   "cell_type": "code",
   "execution_count": null,
   "id": "0d19bffa",
   "metadata": {},
   "outputs": [],
   "source": [
    "?configureBasiliskEnv"
   ]
  },
  {
   "cell_type": "code",
   "execution_count": null,
   "id": "ba870b98",
   "metadata": {},
   "outputs": [],
   "source": [
    "DimPlot(seurat_obj, reduction = \"umap\", group.by = \"clusters\", label = TRUE, repel = TRUE) + NoLegend()"
   ]
  },
  {
   "cell_type": "code",
   "execution_count": null,
   "id": "201bbfbb",
   "metadata": {},
   "outputs": [],
   "source": []
  }
 ],
 "metadata": {
  "kernelspec": {
   "display_name": "R [conda env:fgf1_ygg]",
   "language": "R",
   "name": "conda-env-fgf1_ygg-r"
  },
  "language_info": {
   "codemirror_mode": "r",
   "file_extension": ".r",
   "mimetype": "text/x-r-source",
   "name": "R",
   "pygments_lexer": "r",
   "version": "4.1.3"
  }
 },
 "nbformat": 4,
 "nbformat_minor": 5
}
