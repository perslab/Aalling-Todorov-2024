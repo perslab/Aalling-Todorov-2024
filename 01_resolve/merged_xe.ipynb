{
 "cells": [
  {
   "cell_type": "code",
   "execution_count": 1,
   "id": "ceaf9e09",
   "metadata": {},
   "outputs": [
    {
     "name": "stderr",
     "output_type": "stream",
     "text": [
      "Attaching SeuratObject\n",
      "\n",
      "── \u001b[1mAttaching packages\u001b[22m ─────────────────────────────────────── tidyverse 1.3.2 ──\n",
      "\u001b[32m✔\u001b[39m \u001b[34mggplot2\u001b[39m 3.3.6      \u001b[32m✔\u001b[39m \u001b[34mpurrr  \u001b[39m 0.3.4 \n",
      "\u001b[32m✔\u001b[39m \u001b[34mtibble \u001b[39m 3.1.8      \u001b[32m✔\u001b[39m \u001b[34mdplyr  \u001b[39m 1.0.10\n",
      "\u001b[32m✔\u001b[39m \u001b[34mtidyr  \u001b[39m 1.2.1      \u001b[32m✔\u001b[39m \u001b[34mstringr\u001b[39m 1.4.1 \n",
      "\u001b[32m✔\u001b[39m \u001b[34mreadr  \u001b[39m 2.1.2      \u001b[32m✔\u001b[39m \u001b[34mforcats\u001b[39m 0.5.2 \n",
      "── \u001b[1mConflicts\u001b[22m ────────────────────────────────────────── tidyverse_conflicts() ──\n",
      "\u001b[31m✖\u001b[39m \u001b[34mdplyr\u001b[39m::\u001b[32mfilter()\u001b[39m masks \u001b[34mstats\u001b[39m::filter()\n",
      "\u001b[31m✖\u001b[39m \u001b[34mdplyr\u001b[39m::\u001b[32mlag()\u001b[39m    masks \u001b[34mstats\u001b[39m::lag()\n"
     ]
    }
   ],
   "source": [
    "library(Seurat)\n",
    "library(tidyverse)\n",
    "library(patchwork)\n",
    "options(tibble.print_max = 200, width=200)"
   ]
  },
  {
   "cell_type": "code",
   "execution_count": 2,
   "id": "2f77eff9",
   "metadata": {},
   "outputs": [
    {
     "data": {
      "text/plain": [
       "An object of class Seurat \n",
       "400 features across 119775 samples within 4 assays \n",
       "Active assay: Xenium (100 features, 0 variable features)\n",
       " 3 other assays present: BlankCodeword, ControlCodeword, ControlProbe\n",
       " 8 spatial fields of view present: fov fov.1 fov.2 fov.3 fov.4 fov.5 fov.6 fov.7"
      ]
     },
     "metadata": {},
     "output_type": "display_data"
    }
   ],
   "source": [
    "xenium.obj = qs::qread('_targets/objects/obj_merged')\n",
    "xenium.obj"
   ]
  },
  {
   "cell_type": "code",
   "execution_count": null,
   "id": "bf41dca1",
   "metadata": {},
   "outputs": [],
   "source": [
    "# remove cells with 0 counts\n",
    "xenium.obj <- subset(xenium.obj, subset = nCount_Xenium > 0)\n",
    "# Create a vector of cells to keep\n",
    "keep_cells = xenium.obj %>%\n",
    "`[[` %>%\n",
    "rownames_to_column %>%\n",
    "filter(rowname != \"0\") %>%\n",
    "pull(rowname)\n",
    "# Subset the Seurat object to drop the cells\n",
    "xenium.obj <- subset(xenium.obj, cells=keep_cells)\n",
    "xenium.obj"
   ]
  },
  {
   "cell_type": "code",
   "execution_count": null,
   "id": "6b3ddd5f",
   "metadata": {},
   "outputs": [],
   "source": []
  },
  {
   "cell_type": "code",
   "execution_count": null,
   "id": "e098c4bb",
   "metadata": {},
   "outputs": [],
   "source": [
    "summary_tibble <- xenium.obj %>% \n",
    "`[[` %>%\n",
    "#   group_by(seurat_clusters) %>%\n",
    "  summarise(\n",
    "    n = n(),\n",
    "    min = min(nCount_Xenium),\n",
    "    max = max(nCount_Xenium),\n",
    "    mean = mean(nCount_Xenium),\n",
    "    stdev = sd(nCount_Xenium),\n",
    "    quantiles = list(quantile(nCount_Xenium, probs = c(seq(0, 0.9, by=0.1), seq(0.91, 1, by= 0.01)), names = FALSE))\n",
    "  ) %>%\n",
    "  unnest_wider(quantiles, names_sep = \"\") %>%\n",
    "  rename_with(~paste0(\"Q\", c(seq(0, 0.9, by=0.1), seq(0.91, 1, by= 0.01))), starts_with(\"quantiles\"))\n",
    "\n",
    "summary_tibble %>% print\n"
   ]
  },
  {
   "cell_type": "code",
   "execution_count": null,
   "id": "044a82ba",
   "metadata": {},
   "outputs": [],
   "source": [
    "summary_tibble <- xenium.obj %>% \n",
    "`[[` %>%\n",
    "#   group_by(seurat_clusters) %>%\n",
    " filter(!is.na(nucleus_area)) %>%\n",
    "  summarise(\n",
    "    n = n(),\n",
    "    min = min(nucleus_area),\n",
    "    max = max(nucleus_area),\n",
    "    mean = mean(nucleus_area),\n",
    "    stdev = sd(nucleus_area),\n",
    "    quantiles = list(quantile(nucleus_area, probs = c(seq(0, 0.10, by=0.01), seq(0.2, 0.9, by=0.1), seq(0.91, 1, by= 0.01)), names = FALSE))\n",
    "  ) %>%\n",
    "  unnest_wider(quantiles, names_sep = \"\") %>%\n",
    "  rename_with(~paste0(\"Q\", c(seq(0, 0.10, by=0.01), seq(0.2, 0.9, by=0.1), seq(0.91, 1, by= 0.01))), starts_with(\"quantiles\")) %>%\n",
    "t\n",
    "\n",
    "summary_tibble \n"
   ]
  },
  {
   "cell_type": "code",
   "execution_count": null,
   "id": "26a76819",
   "metadata": {},
   "outputs": [],
   "source": [
    "summary_tibble <- xenium.obj %>% \n",
    "`[[` %>%\n",
    "#   group_by(seurat_clusters) %>%\n",
    " filter(!is.na(nFeature_Xenium)) %>%\n",
    "  summarise(\n",
    "    n = n(),\n",
    "    min = min(nFeature_Xenium),\n",
    "    max = max(nFeature_Xenium),\n",
    "    mean = mean(nFeature_Xenium),\n",
    "    stdev = sd(nFeature_Xenium),\n",
    "    quantiles = list(quantile(nFeature_Xenium, probs = c(seq(0, 0.10, by=0.01), seq(0.2, 0.9, by=0.1), seq(0.91, 1, by= 0.01)), names = FALSE))\n",
    "  ) %>%\n",
    "  unnest_wider(quantiles, names_sep = \"\") %>%\n",
    "  rename_with(~paste0(\"Q\", c(seq(0, 0.10, by=0.01), seq(0.2, 0.9, by=0.1), seq(0.91, 1, by= 0.01))), starts_with(\"quantiles\")) %>%\n",
    "t\n",
    "\n",
    "summary_tibble \n"
   ]
  },
  {
   "cell_type": "code",
   "execution_count": null,
   "id": "9618ff91",
   "metadata": {},
   "outputs": [],
   "source": [
    "summary_tibble <- xenium.obj %>% \n",
    "`[[` %>%\n",
    "#   group_by(seurat_clusters) %>%\n",
    "  summarise(\n",
    "    n = n(),\n",
    "    min = min(cell_area, na.rm = TRUE),\n",
    "    max = max(cell_area, na.rm = TRUE),\n",
    "    mean = mean(cell_area, na.rm = TRUE),\n",
    "    stdev = sd(cell_area, na.rm = TRUE),\n",
    "    quantiles = list(quantile(cell_area, probs = c(seq(0, 0.9, by=0.1), seq(0.91, 1, by= 0.01)), names = FALSE, na.rm = TRUE))\n",
    "  ) %>%\n",
    "  unnest_wider(quantiles, names_sep = \"\") %>%\n",
    "  rename_with(~paste0(\"Q\", c(seq(0, 0.9, by=0.1), seq(0.91, 1, by= 0.01))), starts_with(\"quantiles\"))\n",
    "\n",
    "\n",
    "summary_tibble %>% print\n"
   ]
  },
  {
   "cell_type": "code",
   "execution_count": null,
   "id": "7b561985",
   "metadata": {},
   "outputs": [],
   "source": [
    "xenium.obj %>% `[[` %>% colnames"
   ]
  },
  {
   "cell_type": "code",
   "execution_count": 3,
   "id": "1fddf354",
   "metadata": {},
   "outputs": [
    {
     "data": {
      "text/html": [
       "78054"
      ],
      "text/latex": [
       "78054"
      ],
      "text/markdown": [
       "78054"
      ],
      "text/plain": [
       "[1] 78054"
      ]
     },
     "metadata": {},
     "output_type": "display_data"
    }
   ],
   "source": [
    "keep_cells = xenium.obj %>% `[[` %>%\n",
    "filter(cell_area < 7000) %>%\n",
    "filter(cell_area > 360) %>%\n",
    "filter(avg_confidence >= 0.97) %>%\n",
    "filter(nCount_Xenium >= 10) %>%\n",
    "filter(nCount_Xenium <= 600) %>%\n",
    "filter(nFeature_Xenium >= 10) %>%\n",
    "filter(nFeature_Xenium <= 70) %>%\n",
    "rownames\n",
    "\n",
    "length(keep_cells)"
   ]
  },
  {
   "cell_type": "code",
   "execution_count": 4,
   "id": "a562a172",
   "metadata": {},
   "outputs": [
    {
     "data": {
      "text/plain": [
       "An object of class Seurat \n",
       "400 features across 78054 samples within 4 assays \n",
       "Active assay: Xenium (100 features, 0 variable features)\n",
       " 3 other assays present: BlankCodeword, ControlCodeword, ControlProbe\n",
       " 8 spatial fields of view present: fov fov.1 fov.2 fov.3 fov.4 fov.5 fov.6 fov.7"
      ]
     },
     "metadata": {},
     "output_type": "display_data"
    }
   ],
   "source": [
    "xenium.obj <- subset(xenium.obj, cells=keep_cells)\n",
    "xenium.obj"
   ]
  },
  {
   "cell_type": "code",
   "execution_count": 5,
   "id": "692764f1",
   "metadata": {
    "scrolled": true
   },
   "outputs": [
    {
     "name": "stderr",
     "output_type": "stream",
     "text": [
      "vst.flavor='v2' set, setting model to use fixed slope and exclude poisson genes.\n",
      "\n",
      "Calculating cell attributes from input UMI matrix: log_umi\n",
      "\n",
      "Total Step 1 genes: 99\n",
      "\n",
      "Total overdispersed genes: 99\n",
      "\n",
      "Excluding 0 genes from Step 1 because they are not overdispersed.\n",
      "\n",
      "Variance stabilizing transformation of count matrix of size 100 by 78054\n",
      "\n",
      "Model formula is y ~ log_umi\n",
      "\n",
      "Get Negative Binomial regression parameters per gene\n",
      "\n",
      "Using 99 genes, 5000 cells\n",
      "\n"
     ]
    },
    {
     "name": "stdout",
     "output_type": "stream",
     "text": [
      "  |==============================================================================================================================================================================================| 100%\n"
     ]
    },
    {
     "name": "stderr",
     "output_type": "stream",
     "text": [
      "Setting estimate of  0 genes to inf as theta_mm/theta_mle < 1e-3\n",
      "\n",
      "# of step1 poisson genes (variance < mean): 0\n",
      "\n",
      "# of low mean genes (mean < 0.001): 1\n",
      "\n",
      "Total # of Step1 poisson genes (theta=Inf; variance < mean): 0\n",
      "\n",
      "Total # of poisson genes (theta=Inf; variance < mean): 1\n",
      "\n",
      "Calling offset model for all 1 poisson genes\n",
      "\n",
      "Found 1 outliers - those will be ignored in fitting/regularization step\n",
      "\n",
      "\n",
      "Ignoring theta inf genes\n",
      "\n",
      "Replacing fit params for 1 poisson genes by theta=Inf\n",
      "\n",
      "Setting min_variance based on median UMI:  0.16\n",
      "\n",
      "Second step: Get residuals using fitted parameters for 100 genes\n",
      "\n"
     ]
    },
    {
     "name": "stdout",
     "output_type": "stream",
     "text": [
      "  |==============================================================================================================================================================================================| 100%\n"
     ]
    },
    {
     "name": "stderr",
     "output_type": "stream",
     "text": [
      "Computing corrected count matrix for 100 genes\n",
      "\n"
     ]
    },
    {
     "name": "stdout",
     "output_type": "stream",
     "text": [
      "  |==============================================================================================================================================================================================| 100%\n"
     ]
    },
    {
     "name": "stderr",
     "output_type": "stream",
     "text": [
      "Calculating gene attributes\n",
      "\n",
      "Wall clock passed: Time difference of 15.32895 secs\n",
      "\n",
      "Determine variable features\n",
      "\n",
      "Place corrected count matrix in counts slot\n",
      "\n",
      "Centering data matrix\n",
      "\n",
      "Set default assay to SCT\n",
      "\n",
      "Warning message:\n",
      "“Invalid name supplied, making object name syntactically valid. New object name is Seurat..SCTransform.Xenium; see ?make.names for more details on syntax validity”\n"
     ]
    },
    {
     "data": {
      "text/plain": [
       "An object of class Seurat \n",
       "500 features across 78054 samples within 5 assays \n",
       "Active assay: SCT (100 features, 100 variable features)\n",
       " 4 other assays present: Xenium, BlankCodeword, ControlCodeword, ControlProbe\n",
       " 8 spatial fields of view present: fov fov.1 fov.2 fov.3 fov.4 fov.5 fov.6 fov.7"
      ]
     },
     "metadata": {},
     "output_type": "display_data"
    }
   ],
   "source": [
    "xenium.obj = Seurat::SCTransform(xenium.obj,\n",
    "                        assay='Xenium',\n",
    "                        method=\"glmGamPoi\",\n",
    "                        vst.flavor=\"v2\",\n",
    "                        verbose=TRUE)\n",
    "xenium.obj"
   ]
  },
  {
   "cell_type": "code",
   "execution_count": 7,
   "id": "20475716",
   "metadata": {},
   "outputs": [],
   "source": [
    "qs::qsave(xenium.obj, 'xenium.obj.qs')"
   ]
  },
  {
   "cell_type": "code",
   "execution_count": 61,
   "id": "ea118390",
   "metadata": {},
   "outputs": [
    {
     "data": {
      "text/plain": [
       "An object of class Seurat \n",
       "59498 features across 144643 samples within 3 assays \n",
       "Active assay: SCT (27177 features, 3000 variable features)\n",
       " 2 other assays present: RNA, integrated\n",
       " 2 dimensional reductions calculated: pca, umap"
      ]
     },
     "metadata": {},
     "output_type": "display_data"
    }
   ],
   "source": [
    "obj_fgf1 = qs::qread('/projects/petar/fgf1/full_obj_sct.qs')\n",
    "obj_fgf1"
   ]
  },
  {
   "cell_type": "code",
   "execution_count": 62,
   "id": "57926581",
   "metadata": {},
   "outputs": [
    {
     "data": {
      "text/html": [
       "98"
      ],
      "text/latex": [
       "98"
      ],
      "text/markdown": [
       "98"
      ],
      "text/plain": [
       "[1] 98"
      ]
     },
     "metadata": {},
     "output_type": "display_data"
    },
    {
     "data": {
      "text/html": [
       "<style>\n",
       ".list-inline {list-style: none; margin:0; padding: 0}\n",
       ".list-inline>li {display: inline-block}\n",
       ".list-inline>li:not(:last-child)::after {content: \"\\00b7\"; padding: 0 .5ex}\n",
       "</style>\n",
       "<ol class=list-inline><li>'Sorcs1'</li><li>'Lingo2'</li><li>'Cntn4'</li><li>'Tenm2'</li><li>'Sox5'</li><li>'Ptprd'</li><li>'Robo1'</li><li>'Plcl1'</li><li>'Oxr1'</li><li>'Plxdc2'</li><li>'Plp1'</li><li>'Kirrel3'</li><li>'Mgat4c'</li><li>'Tenm3'</li><li>'Slit2'</li><li>'Nrg3'</li><li>'Hdac9'</li><li>'Col25a1'</li><li>'Ncam2'</li><li>'Rbfox1'</li><li>'Fgf13'</li><li>'Pde10a'</li><li>'Deptor'</li><li>'Alcam'</li><li>'Gria1'</li><li>'Grid2'</li><li>'Grm7'</li><li>'Agrp'</li><li>'Naaladl2'</li><li>'Ntm'</li><li>'Gpc5'</li><li>'Hs3st4'</li><li>'Lef1'</li><li>'Erbb4'</li><li>'Kctd16'</li><li>'Zfhx3'</li><li>'Gtdc1'</li><li>'Pdgfra'</li><li>'Nrg1'</li><li>'Macrod2'</li><li>'Gpc6'</li><li>'Pcdh11x'</li><li>'Kcnip4'</li><li>'Brinp3'</li><li>'Cadm2'</li><li>'Pde4b'</li><li>'Fhit'</li><li>'Rgs6'</li><li>'Prkg1'</li><li>'Dlg2'</li><li>'Ptprk'</li><li>'Luzp2'</li><li>'Ptprt'</li><li>'Nxph1'</li><li>'Kcnq3'</li><li>'Lrmda'</li><li>'Dcc'</li><li>'Cntn5'</li><li>'Adarb2'</li><li>'Gabrg3'</li><li>'Rmst'</li><li>'Lrp1b'</li><li>'Trpm3'</li><li>'P3h2'</li><li>'Prr16'</li><li>'Prkca'</li><li>'Nrxn3'</li><li>'Aqp4'</li><li>'Ctnna2'</li><li>'Inpp4b'</li><li>'Sgcz'</li><li>'Fat3'</li><li>'Plcb1'</li><li>'Cacna2d3'</li><li>'Bmp4'</li><li>'Tox'</li><li>'Car10'</li><li>'Nkain2'</li><li>'Galntl6'</li><li>'Slc7a11'</li><li>'Pcdh9'</li><li>'Slc1a2'</li><li>'Pdzrn3'</li><li>'Rax'</li><li>'Pomc'</li><li>'Zfp804b'</li><li>'Wwox'</li><li>'Pcdh7'</li><li>'Grm8'</li><li>'Rtl4'</li><li>'Il1rapl2'</li><li>'Sgcd'</li><li>'Egfem1'</li><li>'Arhgap6'</li><li>'Immp2l'</li><li>'Cfap299'</li><li>'Htr3b'</li><li>'Csmd1'</li></ol>\n"
      ],
      "text/latex": [
       "\\begin{enumerate*}\n",
       "\\item 'Sorcs1'\n",
       "\\item 'Lingo2'\n",
       "\\item 'Cntn4'\n",
       "\\item 'Tenm2'\n",
       "\\item 'Sox5'\n",
       "\\item 'Ptprd'\n",
       "\\item 'Robo1'\n",
       "\\item 'Plcl1'\n",
       "\\item 'Oxr1'\n",
       "\\item 'Plxdc2'\n",
       "\\item 'Plp1'\n",
       "\\item 'Kirrel3'\n",
       "\\item 'Mgat4c'\n",
       "\\item 'Tenm3'\n",
       "\\item 'Slit2'\n",
       "\\item 'Nrg3'\n",
       "\\item 'Hdac9'\n",
       "\\item 'Col25a1'\n",
       "\\item 'Ncam2'\n",
       "\\item 'Rbfox1'\n",
       "\\item 'Fgf13'\n",
       "\\item 'Pde10a'\n",
       "\\item 'Deptor'\n",
       "\\item 'Alcam'\n",
       "\\item 'Gria1'\n",
       "\\item 'Grid2'\n",
       "\\item 'Grm7'\n",
       "\\item 'Agrp'\n",
       "\\item 'Naaladl2'\n",
       "\\item 'Ntm'\n",
       "\\item 'Gpc5'\n",
       "\\item 'Hs3st4'\n",
       "\\item 'Lef1'\n",
       "\\item 'Erbb4'\n",
       "\\item 'Kctd16'\n",
       "\\item 'Zfhx3'\n",
       "\\item 'Gtdc1'\n",
       "\\item 'Pdgfra'\n",
       "\\item 'Nrg1'\n",
       "\\item 'Macrod2'\n",
       "\\item 'Gpc6'\n",
       "\\item 'Pcdh11x'\n",
       "\\item 'Kcnip4'\n",
       "\\item 'Brinp3'\n",
       "\\item 'Cadm2'\n",
       "\\item 'Pde4b'\n",
       "\\item 'Fhit'\n",
       "\\item 'Rgs6'\n",
       "\\item 'Prkg1'\n",
       "\\item 'Dlg2'\n",
       "\\item 'Ptprk'\n",
       "\\item 'Luzp2'\n",
       "\\item 'Ptprt'\n",
       "\\item 'Nxph1'\n",
       "\\item 'Kcnq3'\n",
       "\\item 'Lrmda'\n",
       "\\item 'Dcc'\n",
       "\\item 'Cntn5'\n",
       "\\item 'Adarb2'\n",
       "\\item 'Gabrg3'\n",
       "\\item 'Rmst'\n",
       "\\item 'Lrp1b'\n",
       "\\item 'Trpm3'\n",
       "\\item 'P3h2'\n",
       "\\item 'Prr16'\n",
       "\\item 'Prkca'\n",
       "\\item 'Nrxn3'\n",
       "\\item 'Aqp4'\n",
       "\\item 'Ctnna2'\n",
       "\\item 'Inpp4b'\n",
       "\\item 'Sgcz'\n",
       "\\item 'Fat3'\n",
       "\\item 'Plcb1'\n",
       "\\item 'Cacna2d3'\n",
       "\\item 'Bmp4'\n",
       "\\item 'Tox'\n",
       "\\item 'Car10'\n",
       "\\item 'Nkain2'\n",
       "\\item 'Galntl6'\n",
       "\\item 'Slc7a11'\n",
       "\\item 'Pcdh9'\n",
       "\\item 'Slc1a2'\n",
       "\\item 'Pdzrn3'\n",
       "\\item 'Rax'\n",
       "\\item 'Pomc'\n",
       "\\item 'Zfp804b'\n",
       "\\item 'Wwox'\n",
       "\\item 'Pcdh7'\n",
       "\\item 'Grm8'\n",
       "\\item 'Rtl4'\n",
       "\\item 'Il1rapl2'\n",
       "\\item 'Sgcd'\n",
       "\\item 'Egfem1'\n",
       "\\item 'Arhgap6'\n",
       "\\item 'Immp2l'\n",
       "\\item 'Cfap299'\n",
       "\\item 'Htr3b'\n",
       "\\item 'Csmd1'\n",
       "\\end{enumerate*}\n"
      ],
      "text/markdown": [
       "1. 'Sorcs1'\n",
       "2. 'Lingo2'\n",
       "3. 'Cntn4'\n",
       "4. 'Tenm2'\n",
       "5. 'Sox5'\n",
       "6. 'Ptprd'\n",
       "7. 'Robo1'\n",
       "8. 'Plcl1'\n",
       "9. 'Oxr1'\n",
       "10. 'Plxdc2'\n",
       "11. 'Plp1'\n",
       "12. 'Kirrel3'\n",
       "13. 'Mgat4c'\n",
       "14. 'Tenm3'\n",
       "15. 'Slit2'\n",
       "16. 'Nrg3'\n",
       "17. 'Hdac9'\n",
       "18. 'Col25a1'\n",
       "19. 'Ncam2'\n",
       "20. 'Rbfox1'\n",
       "21. 'Fgf13'\n",
       "22. 'Pde10a'\n",
       "23. 'Deptor'\n",
       "24. 'Alcam'\n",
       "25. 'Gria1'\n",
       "26. 'Grid2'\n",
       "27. 'Grm7'\n",
       "28. 'Agrp'\n",
       "29. 'Naaladl2'\n",
       "30. 'Ntm'\n",
       "31. 'Gpc5'\n",
       "32. 'Hs3st4'\n",
       "33. 'Lef1'\n",
       "34. 'Erbb4'\n",
       "35. 'Kctd16'\n",
       "36. 'Zfhx3'\n",
       "37. 'Gtdc1'\n",
       "38. 'Pdgfra'\n",
       "39. 'Nrg1'\n",
       "40. 'Macrod2'\n",
       "41. 'Gpc6'\n",
       "42. 'Pcdh11x'\n",
       "43. 'Kcnip4'\n",
       "44. 'Brinp3'\n",
       "45. 'Cadm2'\n",
       "46. 'Pde4b'\n",
       "47. 'Fhit'\n",
       "48. 'Rgs6'\n",
       "49. 'Prkg1'\n",
       "50. 'Dlg2'\n",
       "51. 'Ptprk'\n",
       "52. 'Luzp2'\n",
       "53. 'Ptprt'\n",
       "54. 'Nxph1'\n",
       "55. 'Kcnq3'\n",
       "56. 'Lrmda'\n",
       "57. 'Dcc'\n",
       "58. 'Cntn5'\n",
       "59. 'Adarb2'\n",
       "60. 'Gabrg3'\n",
       "61. 'Rmst'\n",
       "62. 'Lrp1b'\n",
       "63. 'Trpm3'\n",
       "64. 'P3h2'\n",
       "65. 'Prr16'\n",
       "66. 'Prkca'\n",
       "67. 'Nrxn3'\n",
       "68. 'Aqp4'\n",
       "69. 'Ctnna2'\n",
       "70. 'Inpp4b'\n",
       "71. 'Sgcz'\n",
       "72. 'Fat3'\n",
       "73. 'Plcb1'\n",
       "74. 'Cacna2d3'\n",
       "75. 'Bmp4'\n",
       "76. 'Tox'\n",
       "77. 'Car10'\n",
       "78. 'Nkain2'\n",
       "79. 'Galntl6'\n",
       "80. 'Slc7a11'\n",
       "81. 'Pcdh9'\n",
       "82. 'Slc1a2'\n",
       "83. 'Pdzrn3'\n",
       "84. 'Rax'\n",
       "85. 'Pomc'\n",
       "86. 'Zfp804b'\n",
       "87. 'Wwox'\n",
       "88. 'Pcdh7'\n",
       "89. 'Grm8'\n",
       "90. 'Rtl4'\n",
       "91. 'Il1rapl2'\n",
       "92. 'Sgcd'\n",
       "93. 'Egfem1'\n",
       "94. 'Arhgap6'\n",
       "95. 'Immp2l'\n",
       "96. 'Cfap299'\n",
       "97. 'Htr3b'\n",
       "98. 'Csmd1'\n",
       "\n",
       "\n"
      ],
      "text/plain": [
       " [1] \"Sorcs1\"   \"Lingo2\"   \"Cntn4\"    \"Tenm2\"    \"Sox5\"     \"Ptprd\"    \"Robo1\"    \"Plcl1\"    \"Oxr1\"     \"Plxdc2\"   \"Plp1\"     \"Kirrel3\"  \"Mgat4c\"   \"Tenm3\"    \"Slit2\"    \"Nrg3\"     \"Hdac9\"   \n",
       "[18] \"Col25a1\"  \"Ncam2\"    \"Rbfox1\"   \"Fgf13\"    \"Pde10a\"   \"Deptor\"   \"Alcam\"    \"Gria1\"    \"Grid2\"    \"Grm7\"     \"Agrp\"     \"Naaladl2\" \"Ntm\"      \"Gpc5\"     \"Hs3st4\"   \"Lef1\"     \"Erbb4\"   \n",
       "[35] \"Kctd16\"   \"Zfhx3\"    \"Gtdc1\"    \"Pdgfra\"   \"Nrg1\"     \"Macrod2\"  \"Gpc6\"     \"Pcdh11x\"  \"Kcnip4\"   \"Brinp3\"   \"Cadm2\"    \"Pde4b\"    \"Fhit\"     \"Rgs6\"     \"Prkg1\"    \"Dlg2\"     \"Ptprk\"   \n",
       "[52] \"Luzp2\"    \"Ptprt\"    \"Nxph1\"    \"Kcnq3\"    \"Lrmda\"    \"Dcc\"      \"Cntn5\"    \"Adarb2\"   \"Gabrg3\"   \"Rmst\"     \"Lrp1b\"    \"Trpm3\"    \"P3h2\"     \"Prr16\"    \"Prkca\"    \"Nrxn3\"    \"Aqp4\"    \n",
       "[69] \"Ctnna2\"   \"Inpp4b\"   \"Sgcz\"     \"Fat3\"     \"Plcb1\"    \"Cacna2d3\" \"Bmp4\"     \"Tox\"      \"Car10\"    \"Nkain2\"   \"Galntl6\"  \"Slc7a11\"  \"Pcdh9\"    \"Slc1a2\"   \"Pdzrn3\"   \"Rax\"      \"Pomc\"    \n",
       "[86] \"Zfp804b\"  \"Wwox\"     \"Pcdh7\"    \"Grm8\"     \"Rtl4\"     \"Il1rapl2\" \"Sgcd\"     \"Egfem1\"   \"Arhgap6\"  \"Immp2l\"   \"Cfap299\"  \"Htr3b\"    \"Csmd1\"   "
      ]
     },
     "metadata": {},
     "output_type": "display_data"
    }
   ],
   "source": [
    "xenium_genes = xenium.obj@assays$Xenium@meta.features %>% rownames\n",
    "ref_genes = obj_fgf1@assays$SCT@meta.features %>% rownames\n",
    "xenium_genes = xenium_genes %>% intersect(ref_genes)\n",
    "xenium_genes = xenium_genes %>% tibble %>% filter(. != 'Lmx1a') %>% pull\n",
    "\n",
    "length(xenium_genes)\n",
    "xenium_genes"
   ]
  },
  {
   "cell_type": "code",
   "execution_count": 63,
   "id": "721d10f2",
   "metadata": {},
   "outputs": [],
   "source": [
    "source('../00_preprocessing/preprocessing.R')"
   ]
  },
  {
   "cell_type": "code",
   "execution_count": 64,
   "id": "716b553e",
   "metadata": {},
   "outputs": [],
   "source": [
    "obob5_cells = obj_fgf1 %>%\n",
    "`[[` %>%\n",
    "filter(strain == 'obob') %>%\n",
    "filter(time == 'Day5') %>%\n",
    "rownames"
   ]
  },
  {
   "cell_type": "code",
   "execution_count": null,
   "id": "2a7d8efe",
   "metadata": {
    "scrolled": true
   },
   "outputs": [
    {
     "name": "stderr",
     "output_type": "stream",
     "text": [
      "vst.flavor='v2' set, setting model to use fixed slope and exclude poisson genes.\n",
      "\n",
      "Calculating cell attributes from input UMI matrix: log_umi\n",
      "\n",
      "Total Step 1 genes: 22228\n",
      "\n",
      "Total overdispersed genes: 21740\n",
      "\n",
      "Excluding 488 genes from Step 1 because they are not overdispersed.\n",
      "\n",
      "Variance stabilizing transformation of count matrix of size 26292 by 58235\n",
      "\n",
      "Model formula is y ~ log_umi\n",
      "\n",
      "Get Negative Binomial regression parameters per gene\n",
      "\n",
      "Using 2000 genes, 5000 cells\n",
      "\n"
     ]
    },
    {
     "name": "stdout",
     "output_type": "stream",
     "text": [
      "  |==============================================================================================================================================================================================| 100%\n"
     ]
    },
    {
     "name": "stderr",
     "output_type": "stream",
     "text": [
      "Setting estimate of  264 genes to inf as theta_mm/theta_mle < 1e-3\n",
      "\n",
      "# of step1 poisson genes (variance < mean): 0\n",
      "\n",
      "# of low mean genes (mean < 0.001): 4165\n",
      "\n",
      "Total # of Step1 poisson genes (theta=Inf; variance < mean): 296\n",
      "\n",
      "Total # of poisson genes (theta=Inf; variance < mean): 4535\n",
      "\n",
      "Calling offset model for all 4535 poisson genes\n",
      "\n",
      "Found 375 outliers - those will be ignored in fitting/regularization step\n",
      "\n",
      "\n",
      "Ignoring theta inf genes\n",
      "\n",
      "Replacing fit params for 4535 poisson genes by theta=Inf\n",
      "\n"
     ]
    }
   ],
   "source": [
    "obj_fgf1 = subset(obj_fgf1, cells=obob5_cells) %>%\n",
    "sc_transform_fgf1 %>%\n",
    "Seurat::RunUMAP(assay='SCT', slot='counts', features = xenium_genes, return.model = TRUE)\n",
    "obj_fgf1"
   ]
  },
  {
   "cell_type": "code",
   "execution_count": null,
   "id": "50bd088b",
   "metadata": {},
   "outputs": [],
   "source": [
    "obj_fgf1 %>% qs::qsave('obj_fgf1_obob5v5.qs')"
   ]
  },
  {
   "cell_type": "markdown",
   "id": "319a90b6",
   "metadata": {},
   "source": [
    "# All Xe genes integ"
   ]
  },
  {
   "cell_type": "code",
   "execution_count": 51,
   "id": "062fc58c",
   "metadata": {
    "scrolled": true
   },
   "outputs": [
    {
     "name": "stderr",
     "output_type": "stream",
     "text": [
      "UMAP will return its model\n",
      "\n",
      "14:11:39 UMAP embedding parameters a = 0.9922 b = 1.112\n",
      "\n",
      "14:11:39 Read 78054 rows and found 98 numeric columns\n",
      "\n",
      "14:11:39 Using Annoy for neighbor search, n_neighbors = 30\n",
      "\n",
      "14:11:39 Building Annoy index with metric = cosine, n_trees = 50\n",
      "\n",
      "0%   10   20   30   40   50   60   70   80   90   100%\n",
      "\n",
      "[----|----|----|----|----|----|----|----|----|----|\n",
      "\n",
      "*\n",
      "*\n",
      "*\n",
      "*\n",
      "*\n",
      "*\n",
      "*\n",
      "*\n",
      "*\n",
      "*\n",
      "*\n",
      "*\n",
      "*\n",
      "*\n",
      "*\n",
      "*\n",
      "*\n",
      "*\n",
      "*\n",
      "*\n",
      "*\n",
      "*\n",
      "*\n",
      "*\n",
      "*\n",
      "*\n",
      "*\n",
      "*\n",
      "*\n",
      "*\n",
      "*\n",
      "*\n",
      "*\n",
      "*\n",
      "*\n",
      "*\n",
      "*\n",
      "*\n",
      "*\n",
      "*\n",
      "*\n",
      "*\n",
      "*\n",
      "*\n",
      "*\n",
      "*\n",
      "*\n",
      "*\n",
      "*\n",
      "*\n",
      "|\n",
      "\n",
      "14:11:59 Writing NN index file to temp file /scratch/nmq407/R_tmp//Rtmp1BxZIS/file8ce73e6d9e3c\n",
      "\n",
      "14:11:59 Searching Annoy index using 1 thread, search_k = 3000\n",
      "\n",
      "14:13:02 Annoy recall = 98.96%\n",
      "\n",
      "14:13:04 Commencing smooth kNN distance calibration using 1 thread\n",
      " with target n_neighbors = 30\n",
      "\n",
      "14:13:10 Initializing from normalized Laplacian + noise (using irlba)\n",
      "\n",
      "14:13:28 Commencing optimization for 200 epochs, with 3867446 positive edges\n",
      "\n",
      "14:15:20 Optimization finished\n",
      "\n"
     ]
    },
    {
     "data": {
      "text/plain": [
       "An object of class Seurat \n",
       "500 features across 78054 samples within 5 assays \n",
       "Active assay: SCT (100 features, 100 variable features)\n",
       " 4 other assays present: Xenium, BlankCodeword, ControlCodeword, ControlProbe\n",
       " 1 dimensional reduction calculated: umap\n",
       " 8 spatial fields of view present: fov fov.1 fov.2 fov.3 fov.4 fov.5 fov.6 fov.7"
      ]
     },
     "metadata": {},
     "output_type": "display_data"
    }
   ],
   "source": [
    "xenium.obj = qs::qread('xenium.obj.qs')\n",
    "xenium.obj = RunUMAP(xenium.obj, assay='SCT', slot='counts', features = xenium_genes, return.model = TRUE)\n",
    "qs::qsave(xenium.obj, 'xenium.obj.qs')\n",
    "xenium.obj"
   ]
  },
  {
   "cell_type": "code",
   "execution_count": 68,
   "id": "e5959328",
   "metadata": {},
   "outputs": [
    {
     "data": {
      "text/plain": [
       "An object of class Seurat \n",
       "500 features across 78054 samples within 5 assays \n",
       "Active assay: SCT (100 features, 100 variable features)\n",
       " 4 other assays present: Xenium, BlankCodeword, ControlCodeword, ControlProbe\n",
       " 1 dimensional reduction calculated: umap\n",
       " 8 spatial fields of view present: fov fov.1 fov.2 fov.3 fov.4 fov.5 fov.6 fov.7"
      ]
     },
     "metadata": {},
     "output_type": "display_data"
    }
   ],
   "source": [
    "xenium.obj"
   ]
  },
  {
   "cell_type": "code",
   "execution_count": 10,
   "id": "ffa2d929",
   "metadata": {},
   "outputs": [
    {
     "data": {
      "text/plain": [
       "An object of class Seurat \n",
       "58613 features across 58235 samples within 3 assays \n",
       "Active assay: SCT (26292 features, 3000 variable features)\n",
       " 2 other assays present: RNA, integrated\n",
       " 2 dimensional reductions calculated: pca, umap"
      ]
     },
     "metadata": {},
     "output_type": "display_data"
    }
   ],
   "source": [
    "obj_fgf1 = qs::qread('obj_fgf1_obob5v5.qs')\n",
    "obj_fgf1"
   ]
  },
  {
   "cell_type": "code",
   "execution_count": 69,
   "id": "250227f6",
   "metadata": {},
   "outputs": [
    {
     "data": {
      "text/html": [
       "98"
      ],
      "text/latex": [
       "98"
      ],
      "text/markdown": [
       "98"
      ],
      "text/plain": [
       "[1] 98"
      ]
     },
     "metadata": {},
     "output_type": "display_data"
    },
    {
     "data": {
      "text/html": [
       "<style>\n",
       ".list-inline {list-style: none; margin:0; padding: 0}\n",
       ".list-inline>li {display: inline-block}\n",
       ".list-inline>li:not(:last-child)::after {content: \"\\00b7\"; padding: 0 .5ex}\n",
       "</style>\n",
       "<ol class=list-inline><li>'Sorcs1'</li><li>'Lingo2'</li><li>'Cntn4'</li><li>'Tenm2'</li><li>'Sox5'</li><li>'Ptprd'</li><li>'Robo1'</li><li>'Plcl1'</li><li>'Oxr1'</li><li>'Plxdc2'</li><li>'Plp1'</li><li>'Kirrel3'</li><li>'Mgat4c'</li><li>'Tenm3'</li><li>'Slit2'</li><li>'Nrg3'</li><li>'Hdac9'</li><li>'Col25a1'</li><li>'Ncam2'</li><li>'Rbfox1'</li><li>'Fgf13'</li><li>'Pde10a'</li><li>'Deptor'</li><li>'Alcam'</li><li>'Gria1'</li><li>'Grid2'</li><li>'Grm7'</li><li>'Agrp'</li><li>'Naaladl2'</li><li>'Ntm'</li><li>'Gpc5'</li><li>'Hs3st4'</li><li>'Lef1'</li><li>'Erbb4'</li><li>'Kctd16'</li><li>'Zfhx3'</li><li>'Gtdc1'</li><li>'Pdgfra'</li><li>'Nrg1'</li><li>'Macrod2'</li><li>'Gpc6'</li><li>'Pcdh11x'</li><li>'Kcnip4'</li><li>'Brinp3'</li><li>'Cadm2'</li><li>'Pde4b'</li><li>'Fhit'</li><li>'Rgs6'</li><li>'Prkg1'</li><li>'Dlg2'</li><li>'Ptprk'</li><li>'Luzp2'</li><li>'Ptprt'</li><li>'Nxph1'</li><li>'Kcnq3'</li><li>'Lrmda'</li><li>'Dcc'</li><li>'Cntn5'</li><li>'Adarb2'</li><li>'Gabrg3'</li><li>'Rmst'</li><li>'Lrp1b'</li><li>'Trpm3'</li><li>'P3h2'</li><li>'Prr16'</li><li>'Prkca'</li><li>'Nrxn3'</li><li>'Aqp4'</li><li>'Ctnna2'</li><li>'Inpp4b'</li><li>'Sgcz'</li><li>'Fat3'</li><li>'Plcb1'</li><li>'Cacna2d3'</li><li>'Bmp4'</li><li>'Tox'</li><li>'Car10'</li><li>'Nkain2'</li><li>'Galntl6'</li><li>'Slc7a11'</li><li>'Pcdh9'</li><li>'Slc1a2'</li><li>'Pdzrn3'</li><li>'Rax'</li><li>'Pomc'</li><li>'Zfp804b'</li><li>'Wwox'</li><li>'Pcdh7'</li><li>'Grm8'</li><li>'Rtl4'</li><li>'Il1rapl2'</li><li>'Sgcd'</li><li>'Egfem1'</li><li>'Arhgap6'</li><li>'Immp2l'</li><li>'Cfap299'</li><li>'Htr3b'</li><li>'Csmd1'</li></ol>\n"
      ],
      "text/latex": [
       "\\begin{enumerate*}\n",
       "\\item 'Sorcs1'\n",
       "\\item 'Lingo2'\n",
       "\\item 'Cntn4'\n",
       "\\item 'Tenm2'\n",
       "\\item 'Sox5'\n",
       "\\item 'Ptprd'\n",
       "\\item 'Robo1'\n",
       "\\item 'Plcl1'\n",
       "\\item 'Oxr1'\n",
       "\\item 'Plxdc2'\n",
       "\\item 'Plp1'\n",
       "\\item 'Kirrel3'\n",
       "\\item 'Mgat4c'\n",
       "\\item 'Tenm3'\n",
       "\\item 'Slit2'\n",
       "\\item 'Nrg3'\n",
       "\\item 'Hdac9'\n",
       "\\item 'Col25a1'\n",
       "\\item 'Ncam2'\n",
       "\\item 'Rbfox1'\n",
       "\\item 'Fgf13'\n",
       "\\item 'Pde10a'\n",
       "\\item 'Deptor'\n",
       "\\item 'Alcam'\n",
       "\\item 'Gria1'\n",
       "\\item 'Grid2'\n",
       "\\item 'Grm7'\n",
       "\\item 'Agrp'\n",
       "\\item 'Naaladl2'\n",
       "\\item 'Ntm'\n",
       "\\item 'Gpc5'\n",
       "\\item 'Hs3st4'\n",
       "\\item 'Lef1'\n",
       "\\item 'Erbb4'\n",
       "\\item 'Kctd16'\n",
       "\\item 'Zfhx3'\n",
       "\\item 'Gtdc1'\n",
       "\\item 'Pdgfra'\n",
       "\\item 'Nrg1'\n",
       "\\item 'Macrod2'\n",
       "\\item 'Gpc6'\n",
       "\\item 'Pcdh11x'\n",
       "\\item 'Kcnip4'\n",
       "\\item 'Brinp3'\n",
       "\\item 'Cadm2'\n",
       "\\item 'Pde4b'\n",
       "\\item 'Fhit'\n",
       "\\item 'Rgs6'\n",
       "\\item 'Prkg1'\n",
       "\\item 'Dlg2'\n",
       "\\item 'Ptprk'\n",
       "\\item 'Luzp2'\n",
       "\\item 'Ptprt'\n",
       "\\item 'Nxph1'\n",
       "\\item 'Kcnq3'\n",
       "\\item 'Lrmda'\n",
       "\\item 'Dcc'\n",
       "\\item 'Cntn5'\n",
       "\\item 'Adarb2'\n",
       "\\item 'Gabrg3'\n",
       "\\item 'Rmst'\n",
       "\\item 'Lrp1b'\n",
       "\\item 'Trpm3'\n",
       "\\item 'P3h2'\n",
       "\\item 'Prr16'\n",
       "\\item 'Prkca'\n",
       "\\item 'Nrxn3'\n",
       "\\item 'Aqp4'\n",
       "\\item 'Ctnna2'\n",
       "\\item 'Inpp4b'\n",
       "\\item 'Sgcz'\n",
       "\\item 'Fat3'\n",
       "\\item 'Plcb1'\n",
       "\\item 'Cacna2d3'\n",
       "\\item 'Bmp4'\n",
       "\\item 'Tox'\n",
       "\\item 'Car10'\n",
       "\\item 'Nkain2'\n",
       "\\item 'Galntl6'\n",
       "\\item 'Slc7a11'\n",
       "\\item 'Pcdh9'\n",
       "\\item 'Slc1a2'\n",
       "\\item 'Pdzrn3'\n",
       "\\item 'Rax'\n",
       "\\item 'Pomc'\n",
       "\\item 'Zfp804b'\n",
       "\\item 'Wwox'\n",
       "\\item 'Pcdh7'\n",
       "\\item 'Grm8'\n",
       "\\item 'Rtl4'\n",
       "\\item 'Il1rapl2'\n",
       "\\item 'Sgcd'\n",
       "\\item 'Egfem1'\n",
       "\\item 'Arhgap6'\n",
       "\\item 'Immp2l'\n",
       "\\item 'Cfap299'\n",
       "\\item 'Htr3b'\n",
       "\\item 'Csmd1'\n",
       "\\end{enumerate*}\n"
      ],
      "text/markdown": [
       "1. 'Sorcs1'\n",
       "2. 'Lingo2'\n",
       "3. 'Cntn4'\n",
       "4. 'Tenm2'\n",
       "5. 'Sox5'\n",
       "6. 'Ptprd'\n",
       "7. 'Robo1'\n",
       "8. 'Plcl1'\n",
       "9. 'Oxr1'\n",
       "10. 'Plxdc2'\n",
       "11. 'Plp1'\n",
       "12. 'Kirrel3'\n",
       "13. 'Mgat4c'\n",
       "14. 'Tenm3'\n",
       "15. 'Slit2'\n",
       "16. 'Nrg3'\n",
       "17. 'Hdac9'\n",
       "18. 'Col25a1'\n",
       "19. 'Ncam2'\n",
       "20. 'Rbfox1'\n",
       "21. 'Fgf13'\n",
       "22. 'Pde10a'\n",
       "23. 'Deptor'\n",
       "24. 'Alcam'\n",
       "25. 'Gria1'\n",
       "26. 'Grid2'\n",
       "27. 'Grm7'\n",
       "28. 'Agrp'\n",
       "29. 'Naaladl2'\n",
       "30. 'Ntm'\n",
       "31. 'Gpc5'\n",
       "32. 'Hs3st4'\n",
       "33. 'Lef1'\n",
       "34. 'Erbb4'\n",
       "35. 'Kctd16'\n",
       "36. 'Zfhx3'\n",
       "37. 'Gtdc1'\n",
       "38. 'Pdgfra'\n",
       "39. 'Nrg1'\n",
       "40. 'Macrod2'\n",
       "41. 'Gpc6'\n",
       "42. 'Pcdh11x'\n",
       "43. 'Kcnip4'\n",
       "44. 'Brinp3'\n",
       "45. 'Cadm2'\n",
       "46. 'Pde4b'\n",
       "47. 'Fhit'\n",
       "48. 'Rgs6'\n",
       "49. 'Prkg1'\n",
       "50. 'Dlg2'\n",
       "51. 'Ptprk'\n",
       "52. 'Luzp2'\n",
       "53. 'Ptprt'\n",
       "54. 'Nxph1'\n",
       "55. 'Kcnq3'\n",
       "56. 'Lrmda'\n",
       "57. 'Dcc'\n",
       "58. 'Cntn5'\n",
       "59. 'Adarb2'\n",
       "60. 'Gabrg3'\n",
       "61. 'Rmst'\n",
       "62. 'Lrp1b'\n",
       "63. 'Trpm3'\n",
       "64. 'P3h2'\n",
       "65. 'Prr16'\n",
       "66. 'Prkca'\n",
       "67. 'Nrxn3'\n",
       "68. 'Aqp4'\n",
       "69. 'Ctnna2'\n",
       "70. 'Inpp4b'\n",
       "71. 'Sgcz'\n",
       "72. 'Fat3'\n",
       "73. 'Plcb1'\n",
       "74. 'Cacna2d3'\n",
       "75. 'Bmp4'\n",
       "76. 'Tox'\n",
       "77. 'Car10'\n",
       "78. 'Nkain2'\n",
       "79. 'Galntl6'\n",
       "80. 'Slc7a11'\n",
       "81. 'Pcdh9'\n",
       "82. 'Slc1a2'\n",
       "83. 'Pdzrn3'\n",
       "84. 'Rax'\n",
       "85. 'Pomc'\n",
       "86. 'Zfp804b'\n",
       "87. 'Wwox'\n",
       "88. 'Pcdh7'\n",
       "89. 'Grm8'\n",
       "90. 'Rtl4'\n",
       "91. 'Il1rapl2'\n",
       "92. 'Sgcd'\n",
       "93. 'Egfem1'\n",
       "94. 'Arhgap6'\n",
       "95. 'Immp2l'\n",
       "96. 'Cfap299'\n",
       "97. 'Htr3b'\n",
       "98. 'Csmd1'\n",
       "\n",
       "\n"
      ],
      "text/plain": [
       " [1] \"Sorcs1\"   \"Lingo2\"   \"Cntn4\"    \"Tenm2\"    \"Sox5\"     \"Ptprd\"    \"Robo1\"    \"Plcl1\"    \"Oxr1\"     \"Plxdc2\"   \"Plp1\"     \"Kirrel3\"  \"Mgat4c\"   \"Tenm3\"    \"Slit2\"    \"Nrg3\"     \"Hdac9\"   \n",
       "[18] \"Col25a1\"  \"Ncam2\"    \"Rbfox1\"   \"Fgf13\"    \"Pde10a\"   \"Deptor\"   \"Alcam\"    \"Gria1\"    \"Grid2\"    \"Grm7\"     \"Agrp\"     \"Naaladl2\" \"Ntm\"      \"Gpc5\"     \"Hs3st4\"   \"Lef1\"     \"Erbb4\"   \n",
       "[35] \"Kctd16\"   \"Zfhx3\"    \"Gtdc1\"    \"Pdgfra\"   \"Nrg1\"     \"Macrod2\"  \"Gpc6\"     \"Pcdh11x\"  \"Kcnip4\"   \"Brinp3\"   \"Cadm2\"    \"Pde4b\"    \"Fhit\"     \"Rgs6\"     \"Prkg1\"    \"Dlg2\"     \"Ptprk\"   \n",
       "[52] \"Luzp2\"    \"Ptprt\"    \"Nxph1\"    \"Kcnq3\"    \"Lrmda\"    \"Dcc\"      \"Cntn5\"    \"Adarb2\"   \"Gabrg3\"   \"Rmst\"     \"Lrp1b\"    \"Trpm3\"    \"P3h2\"     \"Prr16\"    \"Prkca\"    \"Nrxn3\"    \"Aqp4\"    \n",
       "[69] \"Ctnna2\"   \"Inpp4b\"   \"Sgcz\"     \"Fat3\"     \"Plcb1\"    \"Cacna2d3\" \"Bmp4\"     \"Tox\"      \"Car10\"    \"Nkain2\"   \"Galntl6\"  \"Slc7a11\"  \"Pcdh9\"    \"Slc1a2\"   \"Pdzrn3\"   \"Rax\"      \"Pomc\"    \n",
       "[86] \"Zfp804b\"  \"Wwox\"     \"Pcdh7\"    \"Grm8\"     \"Rtl4\"     \"Il1rapl2\" \"Sgcd\"     \"Egfem1\"   \"Arhgap6\"  \"Immp2l\"   \"Cfap299\"  \"Htr3b\"    \"Csmd1\"   "
      ]
     },
     "metadata": {},
     "output_type": "display_data"
    }
   ],
   "source": [
    "xenium_genes = xenium.obj@assays$SCT@meta.features %>% rownames\n",
    "ref_genes = obj_fgf1@assays$SCT@meta.features %>% rownames\n",
    "xenium_genes = xenium_genes %>% intersect(ref_genes)\n",
    "xenium_genes = xenium_genes %>% tibble %>% filter(. != 'Lmx1a') %>% pull\n",
    "\n",
    "length(xenium_genes)\n",
    "xenium_genes"
   ]
  },
  {
   "cell_type": "code",
   "execution_count": 70,
   "id": "bfc984e4",
   "metadata": {},
   "outputs": [
    {
     "name": "stdout",
     "output_type": "stream",
     "text": [
      "Sorcs1 Lingo2 Cntn4 Tenm2 Sox5 Ptprd Robo1 Plcl1 Oxr1 Plxdc2 Plp1 Kirrel3 Mgat4c Tenm3 Slit2 Nrg3 Hdac9 Col25a1 Ncam2 Rbfox1 Fgf13 Pde10a Deptor Alcam Gria1 Grid2 Grm7 Agrp Naaladl2 Ntm Gpc5 Hs3st4 Lef1 Erbb4 Kctd16 Zfhx3 Gtdc1 Pdgfra Nrg1 Macrod2 Gpc6 Pcdh11x Kcnip4 Brinp3 Cadm2 Pde4b Fhit Rgs6 Prkg1 Dlg2 Ptprk Luzp2 Ptprt Nxph1 Kcnq3 Lrmda Dcc Cntn5 Adarb2 Gabrg3 Rmst Lrp1b Trpm3 P3h2 Prr16 Prkca Nrxn3 Aqp4 Ctnna2 Inpp4b Sgcz Fat3 Plcb1 Cacna2d3 Bmp4 Tox Car10 Nkain2 Galntl6 Slc7a11 Pcdh9 Slc1a2 Pdzrn3 Rax Pomc Zfp804b Wwox Pcdh7 Grm8 Rtl4 Il1rapl2 Sgcd Egfem1 Arhgap6 Immp2l Cfap299 Htr3b Csmd1"
     ]
    }
   ],
   "source": [
    "cat(xenium_genes)"
   ]
  },
  {
   "cell_type": "code",
   "execution_count": 74,
   "id": "2d0e79c2",
   "metadata": {
    "scrolled": true
   },
   "outputs": [
    {
     "name": "stderr",
     "output_type": "stream",
     "text": [
      "Warning message:\n",
      "“Adding image data that isn't associated with any assay present”\n",
      "Warning message:\n",
      "“Adding image data that isn't associated with any assay present”\n",
      "Warning message:\n",
      "“Adding image data that isn't associated with any assay present”\n",
      "Warning message:\n",
      "“Adding image data that isn't associated with any assay present”\n",
      "Warning message:\n",
      "“Adding image data that isn't associated with any assay present”\n",
      "Warning message:\n",
      "“Adding image data that isn't associated with any assay present”\n",
      "Warning message:\n",
      "“Adding image data that isn't associated with any assay present”\n",
      "Warning message:\n",
      "“Adding image data that isn't associated with any assay present”\n",
      "Projecting cell embeddings\n",
      "\n",
      "Finding neighborhoods\n",
      "\n",
      "Finding anchors\n",
      "\n",
      "\tFound 21923 anchors\n",
      "\n"
     ]
    }
   ],
   "source": [
    "# anchors = FindIntegrationAnchors(obj_list, assay=c('SCT', 'SCT'), anchor.features=xenium_genes)\n",
    "anchors <- FindTransferAnchors(reference = obj_fgf1, query = xenium.obj, features = xenium_genes,  \n",
    "                               normalization.method = 'SCT',\n",
    "                               reduction = 'pcaproject',\n",
    "                               query.assay = 'SCT',\n",
    "                               reference.assay = 'SCT',\n",
    "                               recompute.residuals = F,\n",
    "                               reference.reduction='pca',\n",
    "                               verbose=TRUE)"
   ]
  },
  {
   "cell_type": "code",
   "execution_count": 75,
   "id": "b3cade2a",
   "metadata": {
    "scrolled": true
   },
   "outputs": [
    {
     "name": "stderr",
     "output_type": "stream",
     "text": [
      "Finding integration vectors\n",
      "\n",
      "Finding integration vector weights\n",
      "\n",
      "Predicting cell labels\n",
      "\n",
      "Warning message:\n",
      "“Feature names cannot have underscores ('_'), replacing with dashes ('-')”\n",
      "\n",
      "Integrating dataset 2 with reference dataset\n",
      "\n",
      "Finding integration vectors\n",
      "\n",
      "Integrating data\n",
      "\n",
      "Computing nearest neighbors\n",
      "\n",
      "Running UMAP projection\n",
      "\n",
      "15:50:58 Read 78054 rows\n",
      "\n",
      "15:50:58 Processing block 1 of 1\n",
      "\n",
      "15:50:58 Commencing smooth kNN distance calibration using 1 thread\n",
      " with target n_neighbors = 30\n",
      "\n",
      "15:51:00 Initializing by weighted average of neighbor coordinates using 1 thread\n",
      "\n",
      "15:51:00 Commencing optimization for 67 epochs, with 2341619 positive edges\n",
      "\n",
      "15:51:24 Finished\n",
      "\n"
     ]
    }
   ],
   "source": [
    "xenium.obj_unimapped <- MapQuery(anchorset = anchors, reference = obj_fgf1, query = xenium.obj,\n",
    "                                 refdata = list(labels = \"labels\"), reduction.model = \"umap\")"
   ]
  },
  {
   "cell_type": "code",
   "execution_count": 76,
   "id": "bcfbe1f0",
   "metadata": {},
   "outputs": [],
   "source": [
    "qs::qsave(xenium.obj_unimapped, '230502_xenium_sct_unimapped.qs')"
   ]
  },
  {
   "cell_type": "code",
   "execution_count": 77,
   "id": "b130d2e2",
   "metadata": {
    "scrolled": true
   },
   "outputs": [
    {
     "name": "stderr",
     "output_type": "stream",
     "text": [
      "Warning message:\n",
      "“Adding image data that isn't associated with any assay present”\n",
      "Warning message:\n",
      "“Adding image data that isn't associated with any assay present”\n",
      "Warning message:\n",
      "“Adding image data that isn't associated with any assay present”\n",
      "Warning message:\n",
      "“Adding image data that isn't associated with any assay present”\n",
      "Warning message:\n",
      "“Adding image data that isn't associated with any assay present”\n",
      "Warning message:\n",
      "“Adding image data that isn't associated with any assay present”\n",
      "Warning message:\n",
      "“Adding image data that isn't associated with any assay present”\n",
      "Warning message:\n",
      "“Adding image data that isn't associated with any assay present”\n",
      "Running CCA\n",
      "\n",
      "Merging objects\n",
      "\n",
      "Finding neighborhoods\n",
      "\n",
      "Finding anchors\n",
      "\n",
      "\tFound 77147 anchors\n",
      "\n"
     ]
    }
   ],
   "source": [
    "# anchors = FindIntegrationAnchors(obj_list, assay=c('SCT', 'SCT'), anchor.features=xenium_genes)\n",
    "anchors_cca <- FindTransferAnchors(reference = obj_fgf1, query = xenium.obj, features = xenium_genes,  \n",
    "                               normalization.method = 'SCT',\n",
    "                               reduction = 'cca',\n",
    "                               query.assay = 'SCT',\n",
    "                               reference.assay = 'SCT',\n",
    "                               recompute.residuals = F,\n",
    "                               verbose=TRUE)"
   ]
  },
  {
   "cell_type": "code",
   "execution_count": 78,
   "id": "f3920e8e",
   "metadata": {
    "scrolled": true
   },
   "outputs": [
    {
     "name": "stderr",
     "output_type": "stream",
     "text": [
      "Finding integration vectors\n",
      "\n",
      "Finding integration vector weights\n",
      "\n",
      "Predicting cell labels\n",
      "\n",
      "Warning message:\n",
      "“Feature names cannot have underscores ('_'), replacing with dashes ('-')”\n",
      "Computing nearest neighbors\n",
      "\n",
      "Running UMAP projection\n",
      "\n",
      "16:04:27 Read 78054 rows\n",
      "\n",
      "16:04:27 Processing block 1 of 1\n",
      "\n",
      "16:04:27 Commencing smooth kNN distance calibration using 1 thread\n",
      " with target n_neighbors = 30\n",
      "\n",
      "16:04:29 Initializing by weighted average of neighbor coordinates using 1 thread\n",
      "\n",
      "16:04:29 Commencing optimization for 67 epochs, with 2341620 positive edges\n",
      "\n",
      "16:05:18 Finished\n",
      "\n"
     ]
    }
   ],
   "source": [
    "xenium.obj_unimapped_cca <- MapQuery(anchorset = anchors_cca, reference = obj_fgf1, query = xenium.obj,\n",
    "                                 refdata = list(labels = \"labels\"), reduction.model = \"umap\")"
   ]
  },
  {
   "cell_type": "code",
   "execution_count": 79,
   "id": "518353d8",
   "metadata": {},
   "outputs": [],
   "source": [
    "qs::qsave(xenium.obj_unimapped_cca, '230502_xenium_sct_unimapped_cca.qs')"
   ]
  },
  {
   "cell_type": "code",
   "execution_count": 81,
   "id": "b02b8182",
   "metadata": {},
   "outputs": [
    {
     "data": {
      "text/plain": [
       "An object of class Seurat \n",
       "500 features across 78054 samples within 5 assays \n",
       "Active assay: SCT (100 features, 100 variable features)\n",
       " 4 other assays present: Xenium, BlankCodeword, ControlCodeword, ControlProbe\n",
       " 1 dimensional reduction calculated: umap\n",
       " 8 spatial fields of view present: fov fov.1 fov.2 fov.3 fov.4 fov.5 fov.6 fov.7"
      ]
     },
     "metadata": {},
     "output_type": "display_data"
    }
   ],
   "source": [
    "xenium.obj"
   ]
  },
  {
   "cell_type": "code",
   "execution_count": 80,
   "id": "71cbe04e",
   "metadata": {
    "scrolled": true
   },
   "outputs": [
    {
     "name": "stderr",
     "output_type": "stream",
     "text": [
      "Warning message:\n",
      "“98 features of the features specified were not present in both the reference query assays. \n",
      "Continuing with remaining 0 features.”\n"
     ]
    },
    {
     "ename": "ERROR",
     "evalue": "Error: No features to use in finding transfer anchors. To troubleshoot, try explicitly providing features to the features parameter and ensure that they are present in both reference and query assays.\n",
     "output_type": "error",
     "traceback": [
      "Error: No features to use in finding transfer anchors. To troubleshoot, try explicitly providing features to the features parameter and ensure that they are present in both reference and query assays.\nTraceback:\n",
      "1. FindTransferAnchors(reference = obj_fgf1, query = xenium.obj, \n .     features = xenium_genes, normalization.method = \"SCT\", reduction = \"pcaproject\", \n .     query.assay = \"Xenium\", reference.assay = \"SCT\", reference.reduction = \"pca\", \n .     recompute.residuals = F, verbose = TRUE)",
      "2. ValidateParams_FindTransferAnchors(reference = reference, query = query, \n .     normalization.method = normalization.method, recompute.residuals = recompute.residuals, \n .     reference.assay = reference.assay, reference.neighbors = reference.neighbors, \n .     query.assay = query.assay, reduction = reduction, reference.reduction = reference.reduction, \n .     project.query = project.query, features = features, scale = scale, \n .     npcs = npcs, l2.norm = l2.norm, dims = dims, k.anchor = k.anchor, \n .     k.filter = k.filter, k.score = k.score, max.features = max.features, \n .     nn.method = nn.method, n.trees = n.trees, eps = eps, approx.pca = approx.pca, \n .     mapping.score.k = mapping.score.k, verbose = verbose)",
      "3. stop(\"No features to use in finding transfer anchors. To troubleshoot, try \", \n .     \"explicitly providing features to the features parameter and ensure that \", \n .     \"they are present in both reference and query assays.\", call. = FALSE)"
     ]
    }
   ],
   "source": [
    "# anchors = FindIntegrationAnchors(obj_list, assay=c('SCT', 'SCT'), anchor.features=xenium_genes)\n",
    "anchors <- FindTransferAnchors(reference = obj_fgf1, query = xenium.obj, features = xenium_genes,  \n",
    "                               normalization.method = 'SCT',\n",
    "                               reduction = 'pcaproject',\n",
    "                               query.assay = 'Xenium',\n",
    "                               reference.assay = 'SCT',\n",
    "                               reference.reduction = \"pca\", \n",
    "                               recompute.residuals = F,\n",
    "                               verbose=TRUE)"
   ]
  },
  {
   "cell_type": "code",
   "execution_count": null,
   "id": "306e11eb",
   "metadata": {
    "scrolled": true
   },
   "outputs": [],
   "source": [
    "xenium.obj_unimapped <- MapQuery(anchorset = anchors, reference = obj_fgf1, query = xenium.obj,\n",
    "                                 refdata = list(labels = \"labels\"), reference.reduction = \"pca\", reduction.model = \"umap\")"
   ]
  },
  {
   "cell_type": "code",
   "execution_count": null,
   "id": "ee11e0cd",
   "metadata": {},
   "outputs": [],
   "source": [
    "qs::qsave(xenium.obj_unimapped, '230502_xenium_unimapped_fgf1XEgenesUMAP.qs')"
   ]
  },
  {
   "cell_type": "code",
   "execution_count": null,
   "id": "404073fc",
   "metadata": {},
   "outputs": [],
   "source": []
  },
  {
   "cell_type": "code",
   "execution_count": null,
   "id": "365ab53a",
   "metadata": {
    "scrolled": true
   },
   "outputs": [],
   "source": [
    "# anchors = FindIntegrationAnchors(obj_list, assay=c('SCT', 'SCT'), anchor.features=xenium_genes)\n",
    "anchors_cca <- FindTransferAnchors(reference = obj_fgf1, query = xenium.obj, features = xenium_genes,  \n",
    "                               normalization.method = 'SCT',\n",
    "                               reduction = 'cca',\n",
    "                               query.assay = 'Xenium',\n",
    "                               reference.assay = 'SCT',\n",
    "                               recompute.residuals = F,\n",
    "                               verbose=TRUE)"
   ]
  },
  {
   "cell_type": "code",
   "execution_count": null,
   "id": "59677d27",
   "metadata": {
    "scrolled": true
   },
   "outputs": [],
   "source": [
    "xenium.obj_unimapped_cca <- MapQuery(anchorset = anchors_cca, reference = obj_fgf1, query = xenium.obj,\n",
    "                                 refdata = list(labels = \"labels\"), reduction.model = \"umap\")"
   ]
  },
  {
   "cell_type": "code",
   "execution_count": null,
   "id": "4ffbde13",
   "metadata": {},
   "outputs": [],
   "source": [
    "qs::qsave(xenium.obj_unimapped_cca, '230502_xenium_unimapped_cca_fgf1XEgenesUMAP.qs')"
   ]
  },
  {
   "cell_type": "code",
   "execution_count": null,
   "id": "d9d7e1f3",
   "metadata": {},
   "outputs": [],
   "source": []
  }
 ],
 "metadata": {
  "kernelspec": {
   "display_name": "R [conda env:fgf1]",
   "language": "R",
   "name": "conda-env-fgf1-r"
  },
  "language_info": {
   "codemirror_mode": "r",
   "file_extension": ".r",
   "mimetype": "text/x-r-source",
   "name": "R",
   "pygments_lexer": "r",
   "version": "4.1.3"
  }
 },
 "nbformat": 4,
 "nbformat_minor": 5
}
