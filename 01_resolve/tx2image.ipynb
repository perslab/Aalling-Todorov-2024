{
 "cells": [
  {
   "cell_type": "code",
   "execution_count": 1,
   "id": "58973e9d",
   "metadata": {},
   "outputs": [],
   "source": [
    "from tifffile import imsave"
   ]
  },
  {
   "cell_type": "code",
   "execution_count": 2,
   "id": "8c9a6ede",
   "metadata": {},
   "outputs": [
    {
     "name": "stderr",
     "output_type": "stream",
     "text": [
      "100%|██████████| 2/2 [00:00<00:00, 1832.37it/s]\n"
     ]
    },
    {
     "data": {
      "image/png": "[encoded data removed]",
      "text/plain": [
       "<Figure size 432x288 with 2 Axes>"
      ]
     },
     "metadata": {
      "needs_background": "light"
     },
     "output_type": "display_data"
    }
   ],
   "source": [
    "import numpy as np\n",
    "import matplotlib.pyplot as plt\n",
    "from tqdm import tqdm\n",
    "import pdb\n",
    "\n",
    "def gaussian_2d(xx, yy, sigma_x, sigma_y, amplitude):\n",
    "    exponent_x = (xx ** 2) / (2 * (sigma_x ** 2))\n",
    "    exponent_y = (yy ** 2) / (2 * (sigma_y ** 2))\n",
    "    return amplitude * np.exp(-(exponent_x + exponent_y))\n",
    "\n",
    "def simulate_point_sources(image_size, fluorophore_coords_list, sigma_x, sigma_y, amplitude, truncate=4):\n",
    "    image = np.zeros(image_size, dtype=np.float64)\n",
    "\n",
    "    # The number of standard deviations to consider for the Gaussian function.\n",
    "    # The default value, 4, should be enough to cover most of the intensity values.\n",
    "    half_region_x = int(truncate * sigma_x)\n",
    "    half_region_y = int(truncate * sigma_y)\n",
    "\n",
    "    x = np.arange(image_size[0])\n",
    "    y = np.arange(image_size[1])\n",
    "\n",
    "    for coords in tqdm(fluorophore_coords_list):\n",
    "        x0, y0 = coords\n",
    "        x_start, x_end = max(0, x0 - half_region_x), min(image_size[0], x0 + half_region_x + 1)\n",
    "        y_start, y_end = max(0, y0 - half_region_y), min(image_size[1], y0 + half_region_y + 1)\n",
    "\n",
    "        xx, yy = np.meshgrid(x[x_start:x_end] - x0, y[y_start:y_end] - y0, indexing='ij')\n",
    "\n",
    "        gaussian_patch = gaussian_2d(xx, yy, sigma_x, sigma_y, amplitude)\n",
    "#         breakpoint()\n",
    "        image[x_start:x_end, y_start:y_end] += gaussian_patch\n",
    "\n",
    "    return image\n",
    "\n",
    "# Set image size, fluorophore coordinates list, and Gaussian distribution parameters\n",
    "image_size = (100, 100)\n",
    "fluorophore_coords_list = [(50, 50), (70, 20)]\n",
    "sigma_x = 5\n",
    "sigma_y = 5\n",
    "amplitude = 1\n",
    "\n",
    "# Simulate the microscope image with multiple point sources of light\n",
    "image = simulate_point_sources(image_size, fluorophore_coords_list, sigma_x, sigma_y, amplitude)\n",
    "\n",
    "# Display the image using matplotlib\n",
    "plt.imshow(image, cmap='gray')\n",
    "plt.colorbar()\n",
    "plt.show()\n"
   ]
  },
  {
   "cell_type": "code",
   "execution_count": null,
   "id": "83a395b7",
   "metadata": {},
   "outputs": [],
   "source": []
  },
  {
   "cell_type": "code",
   "execution_count": null,
   "id": "e05eb9a9",
   "metadata": {},
   "outputs": [],
   "source": []
  },
  {
   "cell_type": "code",
   "execution_count": 3,
   "id": "aec8e822",
   "metadata": {},
   "outputs": [],
   "source": [
    "import pandas as pd"
   ]
  },
  {
   "cell_type": "code",
   "execution_count": 4,
   "id": "52da08ce",
   "metadata": {},
   "outputs": [],
   "source": [
    "df = pd.read_csv('/data/petar/fgf1/resolve/32810-1377-slide3_submission/32810-1377-slide3_A1-1_results.txt', sep='\\t', header=None)"
   ]
  },
  {
   "cell_type": "code",
   "execution_count": 5,
   "id": "8bf34fcf",
   "metadata": {},
   "outputs": [],
   "source": [
    "fluorophore_coords_list = [(x, y) for x, y in zip(df[0].tolist(), df[1].tolist())]"
   ]
  },
  {
   "cell_type": "code",
   "execution_count": null,
   "id": "23f80cef",
   "metadata": {},
   "outputs": [],
   "source": []
  },
  {
   "cell_type": "code",
   "execution_count": 6,
   "id": "9909e988",
   "metadata": {},
   "outputs": [
    {
     "data": {
      "text/plain": [
       "(10717, 17144)"
      ]
     },
     "execution_count": 6,
     "metadata": {},
     "output_type": "execute_result"
    }
   ],
   "source": [
    "x_max = max([x[0] for x in fluorophore_coords_list])\n",
    "y_max = max([x[1] for x in fluorophore_coords_list])\n",
    "image_size = (x_max, y_max)\n",
    "image_size"
   ]
  },
  {
   "cell_type": "code",
   "execution_count": 7,
   "id": "70ca76cc",
   "metadata": {},
   "outputs": [
    {
     "name": "stderr",
     "output_type": "stream",
     "text": [
      "100%|██████████| 3282829/3282829 [04:26<00:00, 12330.66it/s]\n"
     ]
    }
   ],
   "source": [
    "# Simulate the microscope image with multiple point sources of light\n",
    "\n",
    "image = simulate_point_sources(image_size, fluorophore_coords_list, sigma_x, sigma_y, amplitude)"
   ]
  },
  {
   "cell_type": "code",
   "execution_count": 8,
   "id": "0044537d",
   "metadata": {},
   "outputs": [
    {
     "name": "stderr",
     "output_type": "stream",
     "text": [
      "/tmp/ipykernel_20524/256086594.py:2: DeprecationWarning: <tifffile.imsave> is deprecated. Use tifffile.imwrite\n",
      "  imsave('microscope_image.tiff', image.astype(np.float32))\n"
     ]
    }
   ],
   "source": [
    "# Save the image as a TIFF file\n",
    "imsave('microscope_image.tiff', image.astype(np.float32))"
   ]
  },
  {
   "cell_type": "code",
   "execution_count": null,
   "id": "c47bbb49",
   "metadata": {},
   "outputs": [],
   "source": []
  }
 ],
 "metadata": {
  "kernelspec": {
   "display_name": "Python [conda env:fgf1]",
   "language": "python",
   "name": "conda-env-fgf1-py"
  },
  "language_info": {
   "codemirror_mode": {
    "name": "ipython",
    "version": 3
   },
   "file_extension": ".py",
   "mimetype": "text/x-python",
   "name": "python",
   "nbconvert_exporter": "python",
   "pygments_lexer": "ipython3",
   "version": "3.8.13"
  }
 },
 "nbformat": 4,
 "nbformat_minor": 5
}
