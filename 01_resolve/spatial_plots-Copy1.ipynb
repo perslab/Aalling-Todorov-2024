{
 "cells": [
  {
   "cell_type": "code",
   "execution_count": 1,
   "id": "41b0cdb5",
   "metadata": {
    "scrolled": true
   },
   "outputs": [
    {
     "name": "stderr",
     "output_type": "stream",
     "text": [
      "Attaching SeuratObject\n",
      "\n",
      "── \u001b[1mAttaching packages\u001b[22m ─────────────────────────────────────── tidyverse 1.3.2 ──\n",
      "\u001b[32m✔\u001b[39m \u001b[34mggplot2\u001b[39m 3.3.6      \u001b[32m✔\u001b[39m \u001b[34mpurrr  \u001b[39m 0.3.4 \n",
      "\u001b[32m✔\u001b[39m \u001b[34mtibble \u001b[39m 3.1.8      \u001b[32m✔\u001b[39m \u001b[34mdplyr  \u001b[39m 1.0.10\n",
      "\u001b[32m✔\u001b[39m \u001b[34mtidyr  \u001b[39m 1.2.1      \u001b[32m✔\u001b[39m \u001b[34mstringr\u001b[39m 1.4.1 \n",
      "\u001b[32m✔\u001b[39m \u001b[34mreadr  \u001b[39m 2.1.2      \u001b[32m✔\u001b[39m \u001b[34mforcats\u001b[39m 0.5.2 \n",
      "── \u001b[1mConflicts\u001b[22m ────────────────────────────────────────── tidyverse_conflicts() ──\n",
      "\u001b[31m✖\u001b[39m \u001b[34mdplyr\u001b[39m::\u001b[32mfilter()\u001b[39m masks \u001b[34mstats\u001b[39m::filter()\n",
      "\u001b[31m✖\u001b[39m \u001b[34mdplyr\u001b[39m::\u001b[32mlag()\u001b[39m    masks \u001b[34mstats\u001b[39m::lag()\n"
     ]
    }
   ],
   "source": [
    "library(Seurat)\n",
    "library(tidyverse)\n",
    "library(ggplot2)\n",
    "library(patchwork)\n",
    "library(forcats)\n",
    "library(Polychrome)\n",
    "library(grid)"
   ]
  },
  {
   "cell_type": "code",
   "execution_count": 2,
   "id": "b1ff1b42",
   "metadata": {},
   "outputs": [
    {
     "data": {
      "text/plain": [
       "An object of class Seurat \n",
       "502 features across 78054 samples within 6 assays \n",
       "Active assay: SCT (100 features, 100 variable features)\n",
       " 5 other assays present: Xenium, BlankCodeword, ControlCodeword, ControlProbe, prediction.score.cell_class\n",
       " 3 dimensional reductions calculated: umap, cca, ref.umap\n",
       " 8 spatial fields of view present: fov fov.1 fov.2 fov.3 fov.4 fov.5 fov.6 fov.7"
      ]
     },
     "metadata": {},
     "output_type": "display_data"
    }
   ],
   "source": [
    "xenium.obj = qs::qread('230710_xenium_sct_unimapped_cca_polar_label.qs')\n",
    "xenium.obj"
   ]
  },
  {
   "cell_type": "code",
   "execution_count": 4,
   "id": "c779573b",
   "metadata": {},
   "outputs": [
    {
     "data": {
      "text/html": [
       "<style>\n",
       ".list-inline {list-style: none; margin:0; padding: 0}\n",
       ".list-inline>li {display: inline-block}\n",
       ".list-inline>li:not(:last-child)::after {content: \"\\00b7\"; padding: 0 .5ex}\n",
       "</style>\n",
       "<ol class=list-inline><li>'orig.ident'</li><li>'nCount_Xenium'</li><li>'nFeature_Xenium'</li><li>'nCount_BlankCodeword'</li><li>'nFeature_BlankCodeword'</li><li>'nCount_ControlCodeword'</li><li>'nFeature_ControlCodeword'</li><li>'nCount_ControlProbe'</li><li>'nFeature_ControlProbe'</li><li>'cell_area'</li><li>'density'</li><li>'elongation'</li><li>'avg_confidence'</li><li>'nucleus_area'</li><li>'sample_name'</li><li>'treatment'</li><li>'strain'</li><li>'time'</li><li>'nCount_SCT'</li><li>'nFeature_SCT'</li><li>'predicted.cell_class.score'</li><li>'predicted.cell_class'</li><li>'predicted.cell_class.score_2s'</li><li>'predicted.cell_class_2s'</li><li>'predicted.polar_label.score_2s'</li><li>'predicted.polar_label_2s'</li></ol>\n"
      ],
      "text/latex": [
       "\\begin{enumerate*}\n",
       "\\item 'orig.ident'\n",
       "\\item 'nCount\\_Xenium'\n",
       "\\item 'nFeature\\_Xenium'\n",
       "\\item 'nCount\\_BlankCodeword'\n",
       "\\item 'nFeature\\_BlankCodeword'\n",
       "\\item 'nCount\\_ControlCodeword'\n",
       "\\item 'nFeature\\_ControlCodeword'\n",
       "\\item 'nCount\\_ControlProbe'\n",
       "\\item 'nFeature\\_ControlProbe'\n",
       "\\item 'cell\\_area'\n",
       "\\item 'density'\n",
       "\\item 'elongation'\n",
       "\\item 'avg\\_confidence'\n",
       "\\item 'nucleus\\_area'\n",
       "\\item 'sample\\_name'\n",
       "\\item 'treatment'\n",
       "\\item 'strain'\n",
       "\\item 'time'\n",
       "\\item 'nCount\\_SCT'\n",
       "\\item 'nFeature\\_SCT'\n",
       "\\item 'predicted.cell\\_class.score'\n",
       "\\item 'predicted.cell\\_class'\n",
       "\\item 'predicted.cell\\_class.score\\_2s'\n",
       "\\item 'predicted.cell\\_class\\_2s'\n",
       "\\item 'predicted.polar\\_label.score\\_2s'\n",
       "\\item 'predicted.polar\\_label\\_2s'\n",
       "\\end{enumerate*}\n"
      ],
      "text/markdown": [
       "1. 'orig.ident'\n",
       "2. 'nCount_Xenium'\n",
       "3. 'nFeature_Xenium'\n",
       "4. 'nCount_BlankCodeword'\n",
       "5. 'nFeature_BlankCodeword'\n",
       "6. 'nCount_ControlCodeword'\n",
       "7. 'nFeature_ControlCodeword'\n",
       "8. 'nCount_ControlProbe'\n",
       "9. 'nFeature_ControlProbe'\n",
       "10. 'cell_area'\n",
       "11. 'density'\n",
       "12. 'elongation'\n",
       "13. 'avg_confidence'\n",
       "14. 'nucleus_area'\n",
       "15. 'sample_name'\n",
       "16. 'treatment'\n",
       "17. 'strain'\n",
       "18. 'time'\n",
       "19. 'nCount_SCT'\n",
       "20. 'nFeature_SCT'\n",
       "21. 'predicted.cell_class.score'\n",
       "22. 'predicted.cell_class'\n",
       "23. 'predicted.cell_class.score_2s'\n",
       "24. 'predicted.cell_class_2s'\n",
       "25. 'predicted.polar_label.score_2s'\n",
       "26. 'predicted.polar_label_2s'\n",
       "\n",
       "\n"
      ],
      "text/plain": [
       " [1] \"orig.ident\"                     \"nCount_Xenium\"                 \n",
       " [3] \"nFeature_Xenium\"                \"nCount_BlankCodeword\"          \n",
       " [5] \"nFeature_BlankCodeword\"         \"nCount_ControlCodeword\"        \n",
       " [7] \"nFeature_ControlCodeword\"       \"nCount_ControlProbe\"           \n",
       " [9] \"nFeature_ControlProbe\"          \"cell_area\"                     \n",
       "[11] \"density\"                        \"elongation\"                    \n",
       "[13] \"avg_confidence\"                 \"nucleus_area\"                  \n",
       "[15] \"sample_name\"                    \"treatment\"                     \n",
       "[17] \"strain\"                         \"time\"                          \n",
       "[19] \"nCount_SCT\"                     \"nFeature_SCT\"                  \n",
       "[21] \"predicted.cell_class.score\"     \"predicted.cell_class\"          \n",
       "[23] \"predicted.cell_class.score_2s\"  \"predicted.cell_class_2s\"       \n",
       "[25] \"predicted.polar_label.score_2s\" \"predicted.polar_label_2s\"      "
      ]
     },
     "metadata": {},
     "output_type": "display_data"
    }
   ],
   "source": [
    "xenium.obj %>% `[[` %>% colnames"
   ]
  },
  {
   "cell_type": "code",
   "execution_count": 4,
   "id": "725f56f3",
   "metadata": {},
   "outputs": [
    {
     "data": {
      "text/plain": [
       "An object of class Seurat \n",
       "58613 features across 58235 samples within 3 assays \n",
       "Active assay: SCT (26292 features, 3000 variable features)\n",
       " 2 other assays present: RNA, integrated\n",
       " 2 dimensional reductions calculated: pca, umap"
      ]
     },
     "metadata": {},
     "output_type": "display_data"
    }
   ],
   "source": [
    "obj_fgf1 = qs::qread('obj_fgf1_obob5v5.qs')\n",
    "obj_fgf1"
   ]
  },
  {
   "cell_type": "code",
   "execution_count": null,
   "id": "8cfba20f",
   "metadata": {},
   "outputs": [],
   "source": [
    "options(repr.plot.width=20, repr.plot.height=20)\n",
    "p1 = DimPlot(xenium.obj, reduction = \"umap\", group.by = \"predicted.labels\", label = TRUE, repel = TRUE) + theme(legend.position = \"none\")  + labs(title = \"Spatial on spatial UMAP\")\n",
    "p2 = DimPlot(xenium.obj, reduction = \"ref.umap\", group.by = \"predicted.labels\", label = TRUE, repel = TRUE) + theme(legend.position = \"none\") + labs(title = \"Spatial on snRNAseq reference UMAP\")\n",
    "p3 = DimPlot(obj_fgf1, reduction = \"umap\", group.by = \"labels\", label = TRUE, repel = TRUE) + theme(legend.position = \"none\") + labs(title = \"snRNAseq reference\")\n",
    "options(repr.plot.width=30, repr.plot.height=10)\n",
    "p1 + p2 + p3\n",
    "\n"
   ]
  },
  {
   "cell_type": "code",
   "execution_count": null,
   "id": "4f7051ae",
   "metadata": {},
   "outputs": [],
   "source": []
  },
  {
   "cell_type": "code",
   "execution_count": null,
   "id": "c7006899",
   "metadata": {},
   "outputs": [],
   "source": []
  },
  {
   "cell_type": "code",
   "execution_count": null,
   "id": "82808f63",
   "metadata": {},
   "outputs": [],
   "source": []
  },
  {
   "cell_type": "code",
   "execution_count": null,
   "id": "e2519810",
   "metadata": {},
   "outputs": [],
   "source": []
  },
  {
   "cell_type": "code",
   "execution_count": null,
   "id": "24a496f8",
   "metadata": {},
   "outputs": [],
   "source": []
  },
  {
   "cell_type": "code",
   "execution_count": null,
   "id": "c3f6b5de",
   "metadata": {},
   "outputs": [],
   "source": []
  },
  {
   "cell_type": "code",
   "execution_count": null,
   "id": "2c2bdabf",
   "metadata": {},
   "outputs": [],
   "source": []
  },
  {
   "cell_type": "code",
   "execution_count": 5,
   "id": "5957b043",
   "metadata": {},
   "outputs": [],
   "source": [
    "create_grouping_col <- function(seurat_obj, prefix) {\n",
    "  new_metadata <- case_when(str_detect(seurat_obj@meta.data$predicted.labels, fixed(prefix)) ~ seurat_obj@meta.data$predicted.labels,\n",
    "                            TRUE ~ NA_character_) %>% as.factor\n",
    "  new_metadata = new_metadata %>% fct_relevel(sort(na.omit(levels(new_metadata))), after = Inf)\n",
    "  return(new_metadata)\n",
    "}\n",
    "\n"
   ]
  },
  {
   "cell_type": "code",
   "execution_count": 6,
   "id": "cd022df1",
   "metadata": {},
   "outputs": [],
   "source": [
    "plot_celltype_idp = function(seurat_obj, cell_str, fov='fov'){\n",
    "    new_grouping = seurat_obj %>%\n",
    "        create_grouping_col(cell_str)\n",
    "    seurat_obj = AddMetaData(seurat_obj, new_grouping, col.name = 'grouping_col')\n",
    "\n",
    "    # Get the levels of the lab_Pomc column, including the NA_character_ level\n",
    "    grouping_levels <- levels(seurat_obj@meta.data$grouping_col)\n",
    "    # Generate colors using the polychrome palette\n",
    "    how_many_colors = length(grouping_levels)\n",
    "    colors <- Polychrome::sky.colors(how_many_colors) %>% as.character %>% `[`(1:how_many_colors) # Excluding the NA_character_ level\n",
    "    # Add 'gray10' for the NA_character_ level\n",
    "    colors <- c(colors, \"gray10\")\n",
    "    # Create a named vector of colors, with levels as names\n",
    "    named_colors <- setNames(colors, grouping_levels)\n",
    "    # Map the lab_Pomc column values to the corresponding colors\n",
    "    # color_vector <- mapvalues(xenium.obj@meta.data$lab_Pomc, from = lab_Pomc_levels, to = named_colors)\n",
    "    \n",
    "    ggp = ImageDimPlot(seurat_obj,\n",
    "                       group.by='grouping_col',\n",
    "                       boundaries = 'segmentation',\n",
    "                       fov = fov,\n",
    "                       border.size =0.1, \n",
    "                       border.color =NA,\n",
    "                       na.value='gray20', \n",
    "                       cols=named_colors, \n",
    "                       axes = FALSE,\n",
    "                       size=0)\n",
    "    ggp\n",
    "}"
   ]
  },
  {
   "cell_type": "code",
   "execution_count": 7,
   "id": "9c098a8b",
   "metadata": {},
   "outputs": [],
   "source": [
    "make_idp_pdf = function(seurat_obj, cell_type, pdf_folder=\"\"){\n",
    "    a1 = plot_celltype_idp(seurat_obj, cell_type, fov='fov')  + theme(legend.position = \"none\")\n",
    "    a2 = plot_celltype_idp(seurat_obj, cell_type, fov='fov.1') + theme(legend.position = \"none\")\n",
    "    b1 = plot_celltype_idp(seurat_obj, cell_type, fov='fov.2') + theme(legend.position = \"none\")\n",
    "    b2 = plot_celltype_idp(seurat_obj, cell_type, fov='fov.3') + theme(legend.position = \"none\")\n",
    "    c1 = plot_celltype_idp(seurat_obj, cell_type, fov='fov.4') + theme(legend.position = \"none\")\n",
    "    c2 = plot_celltype_idp(seurat_obj, cell_type, fov='fov.5') + theme(legend.position = \"none\")\n",
    "    d1 = plot_celltype_idp(seurat_obj, cell_type, fov='fov.6') + theme(legend.position = \"none\")\n",
    "    d2 = plot_celltype_idp(seurat_obj, cell_type, fov='fov.7') + theme(legend.position = \"none\")\n",
    "    title_theme <- theme(plot.title = element_text(color = \"white\", size = 8, hjust = 0.5))\n",
    "    # Set black background theme for each plot\n",
    "    legend_theme <- theme(legend.position = \"bottom\",\n",
    "                          legend.direction = \"horizontal\",\n",
    "                          legend.box = \"horizontal\",\n",
    "                          legend.text = element_text(size = 4),\n",
    "                          legend.key.size = unit(2, \"mm\"))\n",
    "    # black_background_theme <- theme(plot.background = element_rect(fill = \"black\"),\n",
    "    #                                 panel.background = element_rect(fill = \"black\"))\n",
    "    black_background_theme <- theme(plot.background = element_rect(fill = \"black\", color = 'black'),\n",
    "                          panel.background = element_rect(fill = \"black\", color = 'black'),\n",
    "                          plot.margin = margin(0, 0, 0, 0),\n",
    "                          panel.grid.major = element_blank(),\n",
    "                          panel.grid.minor = element_blank(),\n",
    "                          panel.border = element_blank())\n",
    "\n",
    "    a1_with_title <- a1 + theme(legend.position = \"right\") + ggtitle(\"a1_Veh_PF\") + title_theme + legend_theme + black_background_theme\n",
    "    a2_no_legend_with_title <- a2 + guides(scale=\"none\") + ggtitle(\"a2_Veh_PF\") + title_theme + black_background_theme\n",
    "    b1_no_legend_with_title <- b1 + guides(scale=\"none\") + ggtitle(\"b1_Veh_PF\") + title_theme + black_background_theme\n",
    "    b2_no_legend_with_title <- b2 + guides(scale=\"none\") + ggtitle(\"b2_Veh_PF\") + title_theme + black_background_theme\n",
    "    c1_no_legend_with_title <- c1 + guides(scale=\"none\") + ggtitle(\"c1_FGF1\") + title_theme + black_background_theme\n",
    "    c2_no_legend_with_title <- c2 + guides(scale=\"none\") + ggtitle(\"c2_FGF1\") + title_theme + black_background_theme\n",
    "    d1_no_legend_with_title <- d1 + guides(scale=\"none\") + ggtitle(\"d1_FGF1\") + title_theme + black_background_theme\n",
    "    d2_no_legend_with_title <- d2 + guides(scale=\"none\") + ggtitle(\"d2_FGF1\") + title_theme + black_background_theme\n",
    "\n",
    "    # Combine the plots using patchwork with a black background\n",
    "    combined_plots <- a1_with_title + c1_no_legend_with_title +\n",
    "                      a2_no_legend_with_title + c2_no_legend_with_title +\n",
    "                      b1_no_legend_with_title + d1_no_legend_with_title +\n",
    "                      b2_no_legend_with_title + d2_no_legend_with_title +\n",
    "                      plot_layout(guides = \"collect\", ncol = 2, heights = c(1, 1, 1, 1), widths = c(1, 1))\n",
    "\n",
    "    # combined_plots = combined_plots & black_background_theme & legend_theme \n",
    "    combined_plots = combined_plots + plot_annotation(title=cell_type, theme=black_background_theme) + plot_annotation(theme=legend_theme) + plot_annotation(theme=title_theme)\n",
    "    # Save the combined_plots to a PDF with a black background\n",
    "    pdf_name = paste0(pdf_folder, cell_type, '_ct_mapping.pdf')\n",
    "    pdf(pdf_name, width = 8.27, height = 11.69, bg = \"black\")\n",
    "    # grid.newpage()\n",
    "    grid.draw(combined_plots)\n",
    "    dev.off()\n",
    "}"
   ]
  },
  {
   "cell_type": "code",
   "execution_count": 8,
   "id": "de4ad465",
   "metadata": {},
   "outputs": [
    {
     "data": {
      "text/html": [
       "<style>\n",
       ".list-inline {list-style: none; margin:0; padding: 0}\n",
       ".list-inline>li {display: inline-block}\n",
       ".list-inline>li:not(:last-child)::after {content: \"\\00b7\"; padding: 0 .5ex}\n",
       "</style>\n",
       "<ol class=list-inline><li>'Nr5a1_Bdnf'</li><li>'Unassigned2'</li><li>'a1_Tany-Astrocytes'</li><li>'Agrp'</li><li>'Astrocytes'</li><li>'MOL'</li><li>'Slc17a6_Fam19a2'</li><li>'NG2_OPC2'</li><li>'Htr3b'</li><li>'Rgs16_Nmu'</li><li>'Pomc_Lepr'</li><li>'Pomc_Glipr1-Slc17a6_Trhr'</li><li>'Trh_Cxcl12'</li><li>'Tmem215'</li><li>'Nr5a1_Nfib'</li><li>'Nr5a1_Bdnf-Unassigned1'</li><li>'Trh_Lef1'</li><li>'Ghrh'</li><li>'b1_Tanycytes'</li><li>'Kisspeptin'</li><li>'Unassigned1.sc17.sc28'</li><li>'Sst_Pthlh.sc21'</li><li>'Qrfp'</li><li>'Epend'</li><li>'Sst_Pthlh.sc23'</li><li>'Slc17a6_Trhr'</li><li>'Unassigned1.sc39'</li><li>'Rgs16_Dlx1-Unassigned2'</li><li>'Sst_Unc13c-Agrp'</li><li>'a2_Tanycytes'</li><li>'Fibroblasts2-Fibroblasts3'</li><li>'Nfix_Htr2c'</li><li>'Rgs16_Dlx1'</li><li>'Th_Nfib-Arx_Nr5a2'</li><li>'Tbx19'</li><li>'Nr5a1_Bdnf-Nr5a1_Nfib'</li><li>'b2_Tany'</li><li>'Gm8773_Tac1-Hdc'</li><li>'Th_Slc6a3'</li><li>'Gpr50'</li><li>'NFOL'</li><li>'Mural_Cells2'</li><li>'Sst_Nts'</li><li>'a2_Tanycytes-b1_Tanycytes'</li><li>'Microglia'</li><li>'Unassigned1.sc37'</li><li>'Sst_Pthlh-Ghrh'</li><li>'Parstuber2A-ParsTuber1'</li><li>'Oxt-Unassigned1'</li><li>'Unassigned2-Unassigned1'</li><li>'MOL-a2_Tanycytes'</li><li>'Endothelial'</li><li>'NG2_OPC2-Microglia'</li></ol>\n"
      ],
      "text/latex": [
       "\\begin{enumerate*}\n",
       "\\item 'Nr5a1\\_Bdnf'\n",
       "\\item 'Unassigned2'\n",
       "\\item 'a1\\_Tany-Astrocytes'\n",
       "\\item 'Agrp'\n",
       "\\item 'Astrocytes'\n",
       "\\item 'MOL'\n",
       "\\item 'Slc17a6\\_Fam19a2'\n",
       "\\item 'NG2\\_OPC2'\n",
       "\\item 'Htr3b'\n",
       "\\item 'Rgs16\\_Nmu'\n",
       "\\item 'Pomc\\_Lepr'\n",
       "\\item 'Pomc\\_Glipr1-Slc17a6\\_Trhr'\n",
       "\\item 'Trh\\_Cxcl12'\n",
       "\\item 'Tmem215'\n",
       "\\item 'Nr5a1\\_Nfib'\n",
       "\\item 'Nr5a1\\_Bdnf-Unassigned1'\n",
       "\\item 'Trh\\_Lef1'\n",
       "\\item 'Ghrh'\n",
       "\\item 'b1\\_Tanycytes'\n",
       "\\item 'Kisspeptin'\n",
       "\\item 'Unassigned1.sc17.sc28'\n",
       "\\item 'Sst\\_Pthlh.sc21'\n",
       "\\item 'Qrfp'\n",
       "\\item 'Epend'\n",
       "\\item 'Sst\\_Pthlh.sc23'\n",
       "\\item 'Slc17a6\\_Trhr'\n",
       "\\item 'Unassigned1.sc39'\n",
       "\\item 'Rgs16\\_Dlx1-Unassigned2'\n",
       "\\item 'Sst\\_Unc13c-Agrp'\n",
       "\\item 'a2\\_Tanycytes'\n",
       "\\item 'Fibroblasts2-Fibroblasts3'\n",
       "\\item 'Nfix\\_Htr2c'\n",
       "\\item 'Rgs16\\_Dlx1'\n",
       "\\item 'Th\\_Nfib-Arx\\_Nr5a2'\n",
       "\\item 'Tbx19'\n",
       "\\item 'Nr5a1\\_Bdnf-Nr5a1\\_Nfib'\n",
       "\\item 'b2\\_Tany'\n",
       "\\item 'Gm8773\\_Tac1-Hdc'\n",
       "\\item 'Th\\_Slc6a3'\n",
       "\\item 'Gpr50'\n",
       "\\item 'NFOL'\n",
       "\\item 'Mural\\_Cells2'\n",
       "\\item 'Sst\\_Nts'\n",
       "\\item 'a2\\_Tanycytes-b1\\_Tanycytes'\n",
       "\\item 'Microglia'\n",
       "\\item 'Unassigned1.sc37'\n",
       "\\item 'Sst\\_Pthlh-Ghrh'\n",
       "\\item 'Parstuber2A-ParsTuber1'\n",
       "\\item 'Oxt-Unassigned1'\n",
       "\\item 'Unassigned2-Unassigned1'\n",
       "\\item 'MOL-a2\\_Tanycytes'\n",
       "\\item 'Endothelial'\n",
       "\\item 'NG2\\_OPC2-Microglia'\n",
       "\\end{enumerate*}\n"
      ],
      "text/markdown": [
       "1. 'Nr5a1_Bdnf'\n",
       "2. 'Unassigned2'\n",
       "3. 'a1_Tany-Astrocytes'\n",
       "4. 'Agrp'\n",
       "5. 'Astrocytes'\n",
       "6. 'MOL'\n",
       "7. 'Slc17a6_Fam19a2'\n",
       "8. 'NG2_OPC2'\n",
       "9. 'Htr3b'\n",
       "10. 'Rgs16_Nmu'\n",
       "11. 'Pomc_Lepr'\n",
       "12. 'Pomc_Glipr1-Slc17a6_Trhr'\n",
       "13. 'Trh_Cxcl12'\n",
       "14. 'Tmem215'\n",
       "15. 'Nr5a1_Nfib'\n",
       "16. 'Nr5a1_Bdnf-Unassigned1'\n",
       "17. 'Trh_Lef1'\n",
       "18. 'Ghrh'\n",
       "19. 'b1_Tanycytes'\n",
       "20. 'Kisspeptin'\n",
       "21. 'Unassigned1.sc17.sc28'\n",
       "22. 'Sst_Pthlh.sc21'\n",
       "23. 'Qrfp'\n",
       "24. 'Epend'\n",
       "25. 'Sst_Pthlh.sc23'\n",
       "26. 'Slc17a6_Trhr'\n",
       "27. 'Unassigned1.sc39'\n",
       "28. 'Rgs16_Dlx1-Unassigned2'\n",
       "29. 'Sst_Unc13c-Agrp'\n",
       "30. 'a2_Tanycytes'\n",
       "31. 'Fibroblasts2-Fibroblasts3'\n",
       "32. 'Nfix_Htr2c'\n",
       "33. 'Rgs16_Dlx1'\n",
       "34. 'Th_Nfib-Arx_Nr5a2'\n",
       "35. 'Tbx19'\n",
       "36. 'Nr5a1_Bdnf-Nr5a1_Nfib'\n",
       "37. 'b2_Tany'\n",
       "38. 'Gm8773_Tac1-Hdc'\n",
       "39. 'Th_Slc6a3'\n",
       "40. 'Gpr50'\n",
       "41. 'NFOL'\n",
       "42. 'Mural_Cells2'\n",
       "43. 'Sst_Nts'\n",
       "44. 'a2_Tanycytes-b1_Tanycytes'\n",
       "45. 'Microglia'\n",
       "46. 'Unassigned1.sc37'\n",
       "47. 'Sst_Pthlh-Ghrh'\n",
       "48. 'Parstuber2A-ParsTuber1'\n",
       "49. 'Oxt-Unassigned1'\n",
       "50. 'Unassigned2-Unassigned1'\n",
       "51. 'MOL-a2_Tanycytes'\n",
       "52. 'Endothelial'\n",
       "53. 'NG2_OPC2-Microglia'\n",
       "\n",
       "\n"
      ],
      "text/plain": [
       " [1] \"Nr5a1_Bdnf\"                \"Unassigned2\"              \n",
       " [3] \"a1_Tany-Astrocytes\"        \"Agrp\"                     \n",
       " [5] \"Astrocytes\"                \"MOL\"                      \n",
       " [7] \"Slc17a6_Fam19a2\"           \"NG2_OPC2\"                 \n",
       " [9] \"Htr3b\"                     \"Rgs16_Nmu\"                \n",
       "[11] \"Pomc_Lepr\"                 \"Pomc_Glipr1-Slc17a6_Trhr\" \n",
       "[13] \"Trh_Cxcl12\"                \"Tmem215\"                  \n",
       "[15] \"Nr5a1_Nfib\"                \"Nr5a1_Bdnf-Unassigned1\"   \n",
       "[17] \"Trh_Lef1\"                  \"Ghrh\"                     \n",
       "[19] \"b1_Tanycytes\"              \"Kisspeptin\"               \n",
       "[21] \"Unassigned1.sc17.sc28\"     \"Sst_Pthlh.sc21\"           \n",
       "[23] \"Qrfp\"                      \"Epend\"                    \n",
       "[25] \"Sst_Pthlh.sc23\"            \"Slc17a6_Trhr\"             \n",
       "[27] \"Unassigned1.sc39\"          \"Rgs16_Dlx1-Unassigned2\"   \n",
       "[29] \"Sst_Unc13c-Agrp\"           \"a2_Tanycytes\"             \n",
       "[31] \"Fibroblasts2-Fibroblasts3\" \"Nfix_Htr2c\"               \n",
       "[33] \"Rgs16_Dlx1\"                \"Th_Nfib-Arx_Nr5a2\"        \n",
       "[35] \"Tbx19\"                     \"Nr5a1_Bdnf-Nr5a1_Nfib\"    \n",
       "[37] \"b2_Tany\"                   \"Gm8773_Tac1-Hdc\"          \n",
       "[39] \"Th_Slc6a3\"                 \"Gpr50\"                    \n",
       "[41] \"NFOL\"                      \"Mural_Cells2\"             \n",
       "[43] \"Sst_Nts\"                   \"a2_Tanycytes-b1_Tanycytes\"\n",
       "[45] \"Microglia\"                 \"Unassigned1.sc37\"         \n",
       "[47] \"Sst_Pthlh-Ghrh\"            \"Parstuber2A-ParsTuber1\"   \n",
       "[49] \"Oxt-Unassigned1\"           \"Unassigned2-Unassigned1\"  \n",
       "[51] \"MOL-a2_Tanycytes\"          \"Endothelial\"              \n",
       "[53] \"NG2_OPC2-Microglia\"       "
      ]
     },
     "metadata": {},
     "output_type": "display_data"
    }
   ],
   "source": [
    "cell_types = xenium.obj %>% `[[` %>% group_by(predicted.labels) %>% summarise(n = n()) %>% arrange(desc(n)) %>% pull(predicted.labels) %>% unique\n",
    "cell_types"
   ]
  },
  {
   "cell_type": "code",
   "execution_count": null,
   "id": "e64dee1a",
   "metadata": {
    "scrolled": true
   },
   "outputs": [
    {
     "name": "stdout",
     "output_type": "stream",
     "text": [
      "[1] \"Nr5a1_Bdnf\"\n",
      "[1] \"Unassigned2\"\n",
      "[1] \"a1_Tany-Astrocytes\"\n"
     ]
    },
    {
     "name": "stderr",
     "output_type": "stream",
     "text": [
      "Warning message in makePalette(n, sky):\n",
      "“minimal value for n is 3, returning requested palette with 3 levels\n",
      "”\n",
      "Warning message in makePalette(n, sky):\n",
      "“minimal value for n is 3, returning requested palette with 3 levels\n",
      "”\n",
      "Warning message in makePalette(n, sky):\n",
      "“minimal value for n is 3, returning requested palette with 3 levels\n",
      "”\n",
      "Warning message in makePalette(n, sky):\n",
      "“minimal value for n is 3, returning requested palette with 3 levels\n",
      "”\n",
      "Warning message in makePalette(n, sky):\n",
      "“minimal value for n is 3, returning requested palette with 3 levels\n",
      "”\n",
      "Warning message in makePalette(n, sky):\n",
      "“minimal value for n is 3, returning requested palette with 3 levels\n",
      "”\n",
      "Warning message in makePalette(n, sky):\n",
      "“minimal value for n is 3, returning requested palette with 3 levels\n",
      "”\n",
      "Warning message in makePalette(n, sky):\n",
      "“minimal value for n is 3, returning requested palette with 3 levels\n",
      "”\n"
     ]
    },
    {
     "name": "stdout",
     "output_type": "stream",
     "text": [
      "[1] \"Agrp\"\n"
     ]
    },
    {
     "name": "stderr",
     "output_type": "stream",
     "text": [
      "Warning message in makePalette(n, sky):\n",
      "“minimal value for n is 3, returning requested palette with 3 levels\n",
      "”\n",
      "Warning message in makePalette(n, sky):\n",
      "“minimal value for n is 3, returning requested palette with 3 levels\n",
      "”\n",
      "Warning message in makePalette(n, sky):\n",
      "“minimal value for n is 3, returning requested palette with 3 levels\n",
      "”\n",
      "Warning message in makePalette(n, sky):\n",
      "“minimal value for n is 3, returning requested palette with 3 levels\n",
      "”\n",
      "Warning message in makePalette(n, sky):\n",
      "“minimal value for n is 3, returning requested palette with 3 levels\n",
      "”\n",
      "Warning message in makePalette(n, sky):\n",
      "“minimal value for n is 3, returning requested palette with 3 levels\n",
      "”\n",
      "Warning message in makePalette(n, sky):\n",
      "“minimal value for n is 3, returning requested palette with 3 levels\n",
      "”\n",
      "Warning message in makePalette(n, sky):\n",
      "“minimal value for n is 3, returning requested palette with 3 levels\n",
      "”\n"
     ]
    },
    {
     "name": "stdout",
     "output_type": "stream",
     "text": [
      "[1] \"Astrocytes\"\n"
     ]
    },
    {
     "name": "stderr",
     "output_type": "stream",
     "text": [
      "Warning message in makePalette(n, sky):\n",
      "“minimal value for n is 3, returning requested palette with 3 levels\n",
      "”\n",
      "Warning message in makePalette(n, sky):\n",
      "“minimal value for n is 3, returning requested palette with 3 levels\n",
      "”\n",
      "Warning message in makePalette(n, sky):\n",
      "“minimal value for n is 3, returning requested palette with 3 levels\n",
      "”\n",
      "Warning message in makePalette(n, sky):\n",
      "“minimal value for n is 3, returning requested palette with 3 levels\n",
      "”\n",
      "Warning message in makePalette(n, sky):\n",
      "“minimal value for n is 3, returning requested palette with 3 levels\n",
      "”\n",
      "Warning message in makePalette(n, sky):\n",
      "“minimal value for n is 3, returning requested palette with 3 levels\n",
      "”\n",
      "Warning message in makePalette(n, sky):\n",
      "“minimal value for n is 3, returning requested palette with 3 levels\n",
      "”\n",
      "Warning message in makePalette(n, sky):\n",
      "“minimal value for n is 3, returning requested palette with 3 levels\n",
      "”\n"
     ]
    },
    {
     "name": "stdout",
     "output_type": "stream",
     "text": [
      "[1] \"MOL\"\n"
     ]
    },
    {
     "name": "stderr",
     "output_type": "stream",
     "text": [
      "Warning message in makePalette(n, sky):\n",
      "“minimal value for n is 3, returning requested palette with 3 levels\n",
      "”\n",
      "Warning message in makePalette(n, sky):\n",
      "“minimal value for n is 3, returning requested palette with 3 levels\n",
      "”\n",
      "Warning message in makePalette(n, sky):\n",
      "“minimal value for n is 3, returning requested palette with 3 levels\n",
      "”\n",
      "Warning message in makePalette(n, sky):\n",
      "“minimal value for n is 3, returning requested palette with 3 levels\n",
      "”\n",
      "Warning message in makePalette(n, sky):\n",
      "“minimal value for n is 3, returning requested palette with 3 levels\n",
      "”\n",
      "Warning message in makePalette(n, sky):\n",
      "“minimal value for n is 3, returning requested palette with 3 levels\n",
      "”\n",
      "Warning message in makePalette(n, sky):\n",
      "“minimal value for n is 3, returning requested palette with 3 levels\n",
      "”\n",
      "Warning message in makePalette(n, sky):\n",
      "“minimal value for n is 3, returning requested palette with 3 levels\n",
      "”\n"
     ]
    },
    {
     "name": "stdout",
     "output_type": "stream",
     "text": [
      "[1] \"Slc17a6_Fam19a2\"\n"
     ]
    },
    {
     "name": "stderr",
     "output_type": "stream",
     "text": [
      "Warning message in makePalette(n, sky):\n",
      "“minimal value for n is 3, returning requested palette with 3 levels\n",
      "”\n",
      "Warning message in makePalette(n, sky):\n",
      "“minimal value for n is 3, returning requested palette with 3 levels\n",
      "”\n",
      "Warning message in makePalette(n, sky):\n",
      "“minimal value for n is 3, returning requested palette with 3 levels\n",
      "”\n",
      "Warning message in makePalette(n, sky):\n",
      "“minimal value for n is 3, returning requested palette with 3 levels\n",
      "”\n",
      "Warning message in makePalette(n, sky):\n",
      "“minimal value for n is 3, returning requested palette with 3 levels\n",
      "”\n",
      "Warning message in makePalette(n, sky):\n",
      "“minimal value for n is 3, returning requested palette with 3 levels\n",
      "”\n",
      "Warning message in makePalette(n, sky):\n",
      "“minimal value for n is 3, returning requested palette with 3 levels\n",
      "”\n",
      "Warning message in makePalette(n, sky):\n",
      "“minimal value for n is 3, returning requested palette with 3 levels\n",
      "”\n"
     ]
    },
    {
     "name": "stdout",
     "output_type": "stream",
     "text": [
      "[1] \"NG2_OPC2\"\n"
     ]
    },
    {
     "name": "stderr",
     "output_type": "stream",
     "text": [
      "Warning message in makePalette(n, sky):\n",
      "“minimal value for n is 3, returning requested palette with 3 levels\n",
      "”\n",
      "Warning message in makePalette(n, sky):\n",
      "“minimal value for n is 3, returning requested palette with 3 levels\n",
      "”\n",
      "Warning message in makePalette(n, sky):\n",
      "“minimal value for n is 3, returning requested palette with 3 levels\n",
      "”\n",
      "Warning message in makePalette(n, sky):\n",
      "“minimal value for n is 3, returning requested palette with 3 levels\n",
      "”\n",
      "Warning message in makePalette(n, sky):\n",
      "“minimal value for n is 3, returning requested palette with 3 levels\n",
      "”\n",
      "Warning message in makePalette(n, sky):\n",
      "“minimal value for n is 3, returning requested palette with 3 levels\n",
      "”\n",
      "Warning message in makePalette(n, sky):\n",
      "“minimal value for n is 3, returning requested palette with 3 levels\n",
      "”\n",
      "Warning message in makePalette(n, sky):\n",
      "“minimal value for n is 3, returning requested palette with 3 levels\n",
      "”\n"
     ]
    },
    {
     "name": "stdout",
     "output_type": "stream",
     "text": [
      "[1] \"Htr3b\"\n"
     ]
    },
    {
     "name": "stderr",
     "output_type": "stream",
     "text": [
      "Warning message in makePalette(n, sky):\n",
      "“minimal value for n is 3, returning requested palette with 3 levels\n",
      "”\n",
      "Warning message in makePalette(n, sky):\n",
      "“minimal value for n is 3, returning requested palette with 3 levels\n",
      "”\n",
      "Warning message in makePalette(n, sky):\n",
      "“minimal value for n is 3, returning requested palette with 3 levels\n",
      "”\n",
      "Warning message in makePalette(n, sky):\n",
      "“minimal value for n is 3, returning requested palette with 3 levels\n",
      "”\n",
      "Warning message in makePalette(n, sky):\n",
      "“minimal value for n is 3, returning requested palette with 3 levels\n",
      "”\n",
      "Warning message in makePalette(n, sky):\n",
      "“minimal value for n is 3, returning requested palette with 3 levels\n",
      "”\n",
      "Warning message in makePalette(n, sky):\n",
      "“minimal value for n is 3, returning requested palette with 3 levels\n",
      "”\n",
      "Warning message in makePalette(n, sky):\n",
      "“minimal value for n is 3, returning requested palette with 3 levels\n",
      "”\n"
     ]
    },
    {
     "name": "stdout",
     "output_type": "stream",
     "text": [
      "[1] \"Rgs16_Nmu\"\n"
     ]
    },
    {
     "name": "stderr",
     "output_type": "stream",
     "text": [
      "Warning message in makePalette(n, sky):\n",
      "“minimal value for n is 3, returning requested palette with 3 levels\n",
      "”\n",
      "Warning message in makePalette(n, sky):\n",
      "“minimal value for n is 3, returning requested palette with 3 levels\n",
      "”\n",
      "Warning message in makePalette(n, sky):\n",
      "“minimal value for n is 3, returning requested palette with 3 levels\n",
      "”\n",
      "Warning message in makePalette(n, sky):\n",
      "“minimal value for n is 3, returning requested palette with 3 levels\n",
      "”\n",
      "Warning message in makePalette(n, sky):\n",
      "“minimal value for n is 3, returning requested palette with 3 levels\n",
      "”\n",
      "Warning message in makePalette(n, sky):\n",
      "“minimal value for n is 3, returning requested palette with 3 levels\n",
      "”\n"
     ]
    }
   ],
   "source": [
    "for (cell_type in cell_types){\n",
    "    print(cell_type)\n",
    "    make_idp_pdf(xenium.obj, cell_type, pdf_folder=\"ct_mappings_cca_fgf1XEgenesUMAP/\")\n",
    "}"
   ]
  },
  {
   "cell_type": "code",
   "execution_count": null,
   "id": "efee9b6e",
   "metadata": {},
   "outputs": [],
   "source": []
  },
  {
   "cell_type": "code",
   "execution_count": null,
   "id": "bfcafa24",
   "metadata": {},
   "outputs": [],
   "source": []
  },
  {
   "cell_type": "code",
   "execution_count": null,
   "id": "c1ba3f00",
   "metadata": {},
   "outputs": [],
   "source": []
  }
 ],
 "metadata": {
  "kernelspec": {
   "display_name": "R [conda env:fgf1]",
   "language": "R",
   "name": "conda-env-fgf1-r"
  },
  "language_info": {
   "codemirror_mode": "r",
   "file_extension": ".r",
   "mimetype": "text/x-r-source",
   "name": "R",
   "pygments_lexer": "r",
   "version": "4.1.3"
  }
 },
 "nbformat": 4,
 "nbformat_minor": 5
}
