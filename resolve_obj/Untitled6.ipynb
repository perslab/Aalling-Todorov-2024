{
 "cells": [
  {
   "cell_type": "code",
   "execution_count": 1,
   "id": "97e70345",
   "metadata": {},
   "outputs": [],
   "source": [
    "import argparse\n",
    "import gzip\n",
    "import requests\n",
    "import pandas as pd\n",
    "import sys\n",
    "import os\n",
    "import csv\n",
    "import glob\n",
    "from collections import defaultdict\n",
    "from scipy.sparse import coo_matrix\n",
    "from scipy.io import mmwrite\n",
    "from shapely.geometry import MultiPoint, Polygon, Point\n",
    "from rtree import index\n",
    "import read_roi\n",
    "from tqdm import tqdm"
   ]
  },
  {
   "cell_type": "code",
   "execution_count": 4,
   "id": "49fb425a",
   "metadata": {},
   "outputs": [
    {
     "data": {
      "text/html": [
       "<div>\n",
       "<style scoped>\n",
       "    .dataframe tbody tr th:only-of-type {\n",
       "        vertical-align: middle;\n",
       "    }\n",
       "\n",
       "    .dataframe tbody tr th {\n",
       "        vertical-align: top;\n",
       "    }\n",
       "\n",
       "    .dataframe thead th {\n",
       "        text-align: right;\n",
       "    }\n",
       "</style>\n",
       "<table border=\"1\" class=\"dataframe\">\n",
       "  <thead>\n",
       "    <tr style=\"text-align: right;\">\n",
       "      <th></th>\n",
       "      <th>ROI_Name</th>\n",
       "      <th>X</th>\n",
       "      <th>Y</th>\n",
       "    </tr>\n",
       "  </thead>\n",
       "  <tbody>\n",
       "    <tr>\n",
       "      <th>0</th>\n",
       "      <td>Cell1_5276_26</td>\n",
       "      <td>5278</td>\n",
       "      <td>16</td>\n",
       "    </tr>\n",
       "    <tr>\n",
       "      <th>1</th>\n",
       "      <td>Cell1_5276_26</td>\n",
       "      <td>5285</td>\n",
       "      <td>16</td>\n",
       "    </tr>\n",
       "    <tr>\n",
       "      <th>2</th>\n",
       "      <td>Cell1_5276_26</td>\n",
       "      <td>5290</td>\n",
       "      <td>20</td>\n",
       "    </tr>\n",
       "    <tr>\n",
       "      <th>3</th>\n",
       "      <td>Cell1_5276_26</td>\n",
       "      <td>5285</td>\n",
       "      <td>35</td>\n",
       "    </tr>\n",
       "    <tr>\n",
       "      <th>4</th>\n",
       "      <td>Cell1_5276_26</td>\n",
       "      <td>5275</td>\n",
       "      <td>42</td>\n",
       "    </tr>\n",
       "  </tbody>\n",
       "</table>\n",
       "</div>"
      ],
      "text/plain": [
       "        ROI_Name     X   Y\n",
       "0  Cell1_5276_26  5278  16\n",
       "1  Cell1_5276_26  5285  16\n",
       "2  Cell1_5276_26  5290  20\n",
       "3  Cell1_5276_26  5285  35\n",
       "4  Cell1_5276_26  5275  42"
      ]
     },
     "execution_count": 4,
     "metadata": {},
     "output_type": "execute_result"
    }
   ],
   "source": [
    "df = pd.read_csv('/data/petar/fgf1/resolve/rois/32810-1377-slide3_A1-1_DAPI_dapi_ROIs.csv')\n",
    "df.head()"
   ]
  },
  {
   "cell_type": "code",
   "execution_count": 35,
   "id": "0e77fadd",
   "metadata": {},
   "outputs": [],
   "source": [
    "def vertecies_to_shapely_polygon(roi_name=None, coordinates=None):\n",
    "    if len(coordinates) < 3:\n",
    "        print(f'Warning: Not enough coordinates for {roi_name} to form a valid polygon.')\n",
    "        pg = Polygon()\n",
    "    else:\n",
    "        if coordinates[0] != coordinates[-1]:\n",
    "            coordinates.append(coordinates[0])  # Add the first coordinate to the end if necessary\n",
    "        pg = Polygon(coordinates)\n",
    "    return pg"
   ]
  },
  {
   "cell_type": "code",
   "execution_count": 36,
   "id": "414fd55c",
   "metadata": {},
   "outputs": [],
   "source": [
    "dfgb = df.groupby('ROI_Name')"
   ]
  },
  {
   "cell_type": "code",
   "execution_count": 78,
   "id": "4da3d08b",
   "metadata": {},
   "outputs": [
    {
     "name": "stdout",
     "output_type": "stream",
     "text": [
      "Warning: Not enough coordinates for Cell1459_610_7949 to form a valid polygon.\n",
      "Warning: Not enough coordinates for Cell3258_10268_16926 to form a valid polygon.\n"
     ]
    }
   ],
   "source": [
    "polygons = []\n",
    "for name, group in df.groupby('ROI_Name'):\n",
    "    vertices = [(x, y) for x, y in zip(group['X'], group['Y'])]\n",
    "    # Add the last vertex identical to the first to make the polygon closed\n",
    "    polygons.append({'ROI_Name': name, 'polygon': vertecies_to_shapely_polygon(name, vertices)})\n"
   ]
  },
  {
   "cell_type": "code",
   "execution_count": 86,
   "id": "f9894a3d",
   "metadata": {},
   "outputs": [
    {
     "data": {
      "text/html": [
       "<div>\n",
       "<style scoped>\n",
       "    .dataframe tbody tr th:only-of-type {\n",
       "        vertical-align: middle;\n",
       "    }\n",
       "\n",
       "    .dataframe tbody tr th {\n",
       "        vertical-align: top;\n",
       "    }\n",
       "\n",
       "    .dataframe thead th {\n",
       "        text-align: right;\n",
       "    }\n",
       "</style>\n",
       "<table border=\"1\" class=\"dataframe\">\n",
       "  <thead>\n",
       "    <tr style=\"text-align: right;\">\n",
       "      <th></th>\n",
       "      <th>ROI_Name</th>\n",
       "      <th>polygon</th>\n",
       "      <th>Area</th>\n",
       "    </tr>\n",
       "  </thead>\n",
       "  <tbody>\n",
       "    <tr>\n",
       "      <th>0</th>\n",
       "      <td>Cell1000_3150_6151</td>\n",
       "      <td>POLYGON ((3135 6130, 3161 6132, 3176 6139, 318...</td>\n",
       "      <td>2135.5</td>\n",
       "    </tr>\n",
       "    <tr>\n",
       "      <th>1</th>\n",
       "      <td>Cell1001_9621_6163</td>\n",
       "      <td>POLYGON ((9618 6134, 9632 6135, 9646 6148, 965...</td>\n",
       "      <td>2543.5</td>\n",
       "    </tr>\n",
       "    <tr>\n",
       "      <th>2</th>\n",
       "      <td>Cell1002_7821_6150</td>\n",
       "      <td>POLYGON ((7821 6138, 7831 6142, 7835 6156, 782...</td>\n",
       "      <td>424.5</td>\n",
       "    </tr>\n",
       "    <tr>\n",
       "      <th>3</th>\n",
       "      <td>Cell1003_4839_6159</td>\n",
       "      <td>POLYGON ((4836 6139, 4854 6143, 4861 6154, 484...</td>\n",
       "      <td>1418.0</td>\n",
       "    </tr>\n",
       "    <tr>\n",
       "      <th>4</th>\n",
       "      <td>Cell1004_7177_6151</td>\n",
       "      <td>POLYGON ((7173 6143, 7179 6143, 7185 6148, 718...</td>\n",
       "      <td>317.5</td>\n",
       "    </tr>\n",
       "    <tr>\n",
       "      <th>...</th>\n",
       "      <td>...</td>\n",
       "      <td>...</td>\n",
       "      <td>...</td>\n",
       "    </tr>\n",
       "    <tr>\n",
       "      <th>3272</th>\n",
       "      <td>Cell997_4394_6133</td>\n",
       "      <td>POLYGON ((4397 6116, 4412 6118, 4423 6126, 442...</td>\n",
       "      <td>1922.0</td>\n",
       "    </tr>\n",
       "    <tr>\n",
       "      <th>3273</th>\n",
       "      <td>Cell998_9221_6146</td>\n",
       "      <td>POLYGON ((9212 6122, 9223 6122, 9232 6126, 924...</td>\n",
       "      <td>1994.5</td>\n",
       "    </tr>\n",
       "    <tr>\n",
       "      <th>3274</th>\n",
       "      <td>Cell999_10711_6137</td>\n",
       "      <td>POLYGON ((10713 6124, 10717 6125, 10718 6129, ...</td>\n",
       "      <td>513.0</td>\n",
       "    </tr>\n",
       "    <tr>\n",
       "      <th>3275</th>\n",
       "      <td>Cell99_10259_1015</td>\n",
       "      <td>POLYGON ((10259 996, 10269 997, 10277 1008, 10...</td>\n",
       "      <td>1122.5</td>\n",
       "    </tr>\n",
       "    <tr>\n",
       "      <th>3276</th>\n",
       "      <td>Cell9_10657_125</td>\n",
       "      <td>POLYGON ((10647 107, 10662 109, 10670 115, 106...</td>\n",
       "      <td>1103.5</td>\n",
       "    </tr>\n",
       "  </tbody>\n",
       "</table>\n",
       "<p>3277 rows × 3 columns</p>\n",
       "</div>"
      ],
      "text/plain": [
       "                ROI_Name                                            polygon  \\\n",
       "0     Cell1000_3150_6151  POLYGON ((3135 6130, 3161 6132, 3176 6139, 318...   \n",
       "1     Cell1001_9621_6163  POLYGON ((9618 6134, 9632 6135, 9646 6148, 965...   \n",
       "2     Cell1002_7821_6150  POLYGON ((7821 6138, 7831 6142, 7835 6156, 782...   \n",
       "3     Cell1003_4839_6159  POLYGON ((4836 6139, 4854 6143, 4861 6154, 484...   \n",
       "4     Cell1004_7177_6151  POLYGON ((7173 6143, 7179 6143, 7185 6148, 718...   \n",
       "...                  ...                                                ...   \n",
       "3272   Cell997_4394_6133  POLYGON ((4397 6116, 4412 6118, 4423 6126, 442...   \n",
       "3273   Cell998_9221_6146  POLYGON ((9212 6122, 9223 6122, 9232 6126, 924...   \n",
       "3274  Cell999_10711_6137  POLYGON ((10713 6124, 10717 6125, 10718 6129, ...   \n",
       "3275   Cell99_10259_1015  POLYGON ((10259 996, 10269 997, 10277 1008, 10...   \n",
       "3276     Cell9_10657_125  POLYGON ((10647 107, 10662 109, 10670 115, 106...   \n",
       "\n",
       "        Area  \n",
       "0     2135.5  \n",
       "1     2543.5  \n",
       "2      424.5  \n",
       "3     1418.0  \n",
       "4      317.5  \n",
       "...      ...  \n",
       "3272  1922.0  \n",
       "3273  1994.5  \n",
       "3274   513.0  \n",
       "3275  1122.5  \n",
       "3276  1103.5  \n",
       "\n",
       "[3277 rows x 3 columns]"
      ]
     },
     "execution_count": 86,
     "metadata": {},
     "output_type": "execute_result"
    }
   ],
   "source": [
    "polygon_df = pd.DataFrame(polygons)\n",
    "polygon_df['Area'] = polygon_df['polygon'].apply(lambda x: x.area)\n",
    "polygon_df"
   ]
  },
  {
   "cell_type": "code",
   "execution_count": 85,
   "id": "111f7f44",
   "metadata": {},
   "outputs": [
    {
     "data": {
      "text/plain": [
       "{shapely.geometry.polygon.Polygon}"
      ]
     },
     "execution_count": 85,
     "metadata": {},
     "output_type": "execute_result"
    }
   ],
   "source": [
    "set([type(x) for x in polygon_df['polygon']])"
   ]
  },
  {
   "cell_type": "code",
   "execution_count": null,
   "id": "a549670e",
   "metadata": {},
   "outputs": [],
   "source": [
    "[x for x in ]"
   ]
  },
  {
   "cell_type": "code",
   "execution_count": 68,
   "id": "8d98b8f2",
   "metadata": {},
   "outputs": [
    {
     "data": {
      "text/plain": [
       "array([[10647,   107],\n",
       "       [10662,   109],\n",
       "       [10670,   115],\n",
       "       [10675,   126],\n",
       "       [10671,   141],\n",
       "       [10663,   147],\n",
       "       [10655,   148],\n",
       "       [10642,   139],\n",
       "       [10638,   124],\n",
       "       [10646,   108]])"
      ]
     },
     "execution_count": 68,
     "metadata": {},
     "output_type": "execute_result"
    }
   ],
   "source": [
    "points = group[['X', 'Y']].values\n",
    "points"
   ]
  },
  {
   "cell_type": "code",
   "execution_count": 69,
   "id": "1ee5e84a",
   "metadata": {},
   "outputs": [],
   "source": [
    "convex_hull = MultiPoint(points)"
   ]
  },
  {
   "cell_type": "code",
   "execution_count": 77,
   "id": "9e8b29a3",
   "metadata": {},
   "outputs": [
    {
     "data": {
      "image/svg+xml": [
       "<svg xmlns=\"http://www.w3.org/2000/svg\" xmlns:xlink=\"http://www.w3.org/1999/xlink\" width=\"100.0\" height=\"100.0\" viewBox=\"10636.36 105.36 40.279999999998836 44.27999999999999\" preserveAspectRatio=\"xMinYMin meet\"><g transform=\"matrix(1,0,0,-1,0,255.0)\"><path fill-rule=\"evenodd\" fill=\"#66cc99\" stroke=\"#555555\" stroke-width=\"0.8855999999999997\" opacity=\"0.6\" d=\"M 10638.0,107.0 L 10675.0,107.0 L 10675.0,148.0 L 10638.0,148.0 L 10638.0,107.0 z\" /></g></svg>"
      ],
      "text/plain": [
       "<POLYGON ((10638 107, 10675 107, 10675 148, 10638 148, 10638 107))>"
      ]
     },
     "execution_count": 77,
     "metadata": {},
     "output_type": "execute_result"
    }
   ],
   "source": [
    "convex_hull."
   ]
  },
  {
   "cell_type": "code",
   "execution_count": null,
   "id": "31e2c4be",
   "metadata": {},
   "outputs": [],
   "source": []
  },
  {
   "cell_type": "code",
   "execution_count": null,
   "id": "c544e033",
   "metadata": {},
   "outputs": [],
   "source": []
  },
  {
   "cell_type": "code",
   "execution_count": null,
   "id": "be7aaecd",
   "metadata": {},
   "outputs": [],
   "source": [
    "for name, group in df.groupby('ROI_Name'):\n",
    "    df.assign(new_col=some_func(df['some_col']))"
   ]
  },
  {
   "cell_type": "code",
   "execution_count": 39,
   "id": "3acd5500",
   "metadata": {},
   "outputs": [],
   "source": [
    "a = Polygon()"
   ]
  },
  {
   "cell_type": "code",
   "execution_count": 44,
   "id": "0688f37a",
   "metadata": {},
   "outputs": [
    {
     "data": {
      "text/plain": [
       "0.0"
      ]
     },
     "execution_count": 44,
     "metadata": {},
     "output_type": "execute_result"
    }
   ],
   "source": [
    "a.area"
   ]
  },
  {
   "cell_type": "code",
   "execution_count": null,
   "id": "731cf9df",
   "metadata": {},
   "outputs": [],
   "source": []
  },
  {
   "cell_type": "code",
   "execution_count": 47,
   "id": "50bd3df6",
   "metadata": {},
   "outputs": [],
   "source": [
    "def read_roi_zip(zip_file_path):\n",
    "    rois = read_roi.read_roi_zip(zip_file_path)\n",
    "    rois_converted = []\n",
    "    for roi_name, roi in rois.items():\n",
    "        if roi['type'] == 'rectangle':\n",
    "            x, y, w, h = roi['left'], roi['top'], roi['width'], roi['height']\n",
    "            rois_converted.append({'ROI_Name': roi_name, 'X': x, 'Y': y})\n",
    "        elif roi['type'] == 'freehand':\n",
    "            x, y = roi['x'], roi['y']\n",
    "            for i in range(len(x)):\n",
    "                rois_converted.append({'ROI_Name': roi_name, 'X': x[i], 'Y': y[i]})\n",
    "        else:\n",
    "            raise ValueError(f'Unsupported ROI type: {roi[\"type\"]}')\n",
    "    rois_df = pd.DataFrame(rois_converted)\n",
    "    return rois_df"
   ]
  },
  {
   "cell_type": "code",
   "execution_count": 48,
   "id": "ed7c9225",
   "metadata": {},
   "outputs": [],
   "source": [
    "rois_df = read_roi_zip('/data/petar/fgf1/resolve/rois/32810-1377-slide3_C2-1_DAPI_dapi_ROIs.zip')"
   ]
  },
  {
   "cell_type": "code",
   "execution_count": 50,
   "id": "45b73907",
   "metadata": {},
   "outputs": [],
   "source": [
    "rois = read_roi.read_roi_zip('/data/petar/fgf1/resolve/rois/32810-1377-slide3_C2-1_DAPI_dapi_ROIs.zip')"
   ]
  },
  {
   "cell_type": "code",
   "execution_count": 59,
   "id": "4651bce4",
   "metadata": {},
   "outputs": [
    {
     "name": "stdout",
     "output_type": "stream",
     "text": [
      "{'type': 'freehand', 'x': [4619, 4619], 'y': [8747, 8748], 'n': 2, 'width': 0, 'name': 'Cell1828_4619_8748', 'position': 0}\n",
      "{'type': 'freehand', 'x': [4619, 4619], 'y': [8749, 8750], 'n': 2, 'width': 0, 'name': 'Cell1830_4619_8750', 'position': 0}\n"
     ]
    }
   ],
   "source": [
    "for roi_name, roi in rois.items():\n",
    "    if len(roi['x']) < 3:\n",
    "        print(roi)"
   ]
  },
  {
   "cell_type": "code",
   "execution_count": 55,
   "id": "c779daac",
   "metadata": {},
   "outputs": [
    {
     "data": {
      "text/plain": [
       "{'type': 'freehand',\n",
       " 'x': [4917,\n",
       "  4936,\n",
       "  4947,\n",
       "  4948,\n",
       "  4943,\n",
       "  4948,\n",
       "  4948,\n",
       "  4938,\n",
       "  4931,\n",
       "  4924,\n",
       "  4919,\n",
       "  4919,\n",
       "  4907,\n",
       "  4903,\n",
       "  4909,\n",
       "  4916],\n",
       " 'y': [5204,\n",
       "  5206,\n",
       "  5218,\n",
       "  5235,\n",
       "  5236,\n",
       "  5237,\n",
       "  5243,\n",
       "  5278,\n",
       "  5284,\n",
       "  5284,\n",
       "  5277,\n",
       "  5267,\n",
       "  5247,\n",
       "  5215,\n",
       "  5207,\n",
       "  5205],\n",
       " 'n': 16,\n",
       " 'width': 0,\n",
       " 'name': 'Cell1000_4928_5240',\n",
       " 'position': 0}"
      ]
     },
     "execution_count": 55,
     "metadata": {},
     "output_type": "execute_result"
    }
   ],
   "source": [
    "rois['Cell1000_4928_5240']"
   ]
  },
  {
   "cell_type": "code",
   "execution_count": null,
   "id": "ade74f41",
   "metadata": {},
   "outputs": [],
   "source": []
  }
 ],
 "metadata": {
  "kernelspec": {
   "display_name": "Python [conda env:fgf1_ygg]",
   "language": "python",
   "name": "conda-env-fgf1_ygg-py"
  },
  "language_info": {
   "codemirror_mode": {
    "name": "ipython",
    "version": 3
   },
   "file_extension": ".py",
   "mimetype": "text/x-python",
   "name": "python",
   "nbconvert_exporter": "python",
   "pygments_lexer": "ipython3",
   "version": "3.8.13"
  }
 },
 "nbformat": 4,
 "nbformat_minor": 5
}
