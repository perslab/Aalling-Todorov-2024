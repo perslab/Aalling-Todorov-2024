{
 "cells": [
  {
   "cell_type": "code",
   "execution_count": 7,
   "id": "fd3168c6",
   "metadata": {},
   "outputs": [
    {
     "name": "stderr",
     "output_type": "stream",
     "text": [
      "/tmp/ipykernel_35446/3646097993.py:23: FutureWarning: iteritems is deprecated and will be removed in a future version. Use .items instead.\n",
      "  for cell, count in row.iteritems():\n"
     ]
    },
    {
     "ename": "TypeError",
     "evalue": "can only concatenate str (not \"int\") to str",
     "output_type": "error",
     "traceback": [
      "\u001b[0;31m---------------------------------------------------------------------------\u001b[0m",
      "\u001b[0;31mTypeError\u001b[0m                                 Traceback (most recent call last)",
      "Cell \u001b[0;32mIn [7], line 24\u001b[0m\n\u001b[1;32m     22\u001b[0m \u001b[38;5;28;01mfor\u001b[39;00m gene, row \u001b[38;5;129;01min\u001b[39;00m counts\u001b[38;5;241m.\u001b[39miterrows():\n\u001b[1;32m     23\u001b[0m     \u001b[38;5;28;01mfor\u001b[39;00m cell, count \u001b[38;5;129;01min\u001b[39;00m row\u001b[38;5;241m.\u001b[39miteritems():\n\u001b[0;32m---> 24\u001b[0m         f\u001b[38;5;241m.\u001b[39mwrite(\u001b[38;5;124mf\u001b[39m\u001b[38;5;124m'\u001b[39m\u001b[38;5;132;01m{\u001b[39;00mgene\u001b[38;5;241m+\u001b[39m\u001b[38;5;241m1\u001b[39m\u001b[38;5;132;01m}\u001b[39;00m\u001b[38;5;124m \u001b[39m\u001b[38;5;132;01m{\u001b[39;00mcell\u001b[38;5;241m+\u001b[39m\u001b[38;5;241m1\u001b[39m\u001b[38;5;132;01m}\u001b[39;00m\u001b[38;5;124m \u001b[39m\u001b[38;5;132;01m{\u001b[39;00mcount\u001b[38;5;132;01m}\u001b[39;00m\u001b[38;5;130;01m\\n\u001b[39;00m\u001b[38;5;124m'\u001b[39m)\n",
      "\u001b[0;31mTypeError\u001b[0m: can only concatenate str (not \"int\") to str"
     ]
    }
   ],
   "source": [
    "import pandas as pd\n",
    "import gzip\n",
    "\n",
    "# Set the input and output filenames\n",
    "input_filename = '/data/petar/fgf1/resolve/baysor_segmentation/32810-1377-slide3_A1-1_results_baysor_results/baysor_results.csv'\n",
    "output_filename = 'matrix.mtx.gz'\n",
    "\n",
    "# Read the CSV file into a pandas DataFrame\n",
    "df = pd.read_csv(input_filename)\n",
    "\n",
    "# Group the DataFrame by gene and cell, and count the molecules\n",
    "counts = df.groupby(['gene', 'cell']).size().unstack(fill_value=0)\n",
    "\n",
    "# Write the counts to the Matrix Market file\n",
    "with gzip.open(output_filename, 'wt') as f:\n",
    "    # Write the header\n",
    "    f.write('%%MatrixMarket matrix coordinate integer general\\n')\n",
    "    f.write('%metadata_json: {\"software_version\": \"Python 3.9.5\"}\\n')\n",
    "    f.write(f'{len(counts)} {len(counts.columns)} {counts.values.sum()}\\n')\n",
    "\n",
    "    # Write the data\n",
    "    for gene, row in counts.iterrows():\n",
    "        for cell, count in row.iteritems():\n",
    "            f.write(f'{gene+1} {cell+1} {count}\\n')\n"
   ]
  },
  {
   "cell_type": "code",
   "execution_count": 10,
   "id": "7192c3e7",
   "metadata": {},
   "outputs": [],
   "source": [
    "## This mostly works\n",
    "\n",
    "import pandas as pd\n",
    "from collections import defaultdict\n",
    "from scipy.io import mmwrite\n",
    "\n",
    "\n",
    "# Read the input CSV file\n",
    "df = pd.read_csv('/data/petar/fgf1/resolve/baysor_segmentation/32810-1377-slide3_A1-1_results_baysor_results/baysor_results.csv')\n",
    "\n",
    "# Create a dictionary to store gene names and assign them unique indices\n",
    "genes = defaultdict(lambda: len(genes))\n",
    "\n",
    "# Assign unique indices to cell names\n",
    "df['cell_idx'] = df['cell'].astype('category').cat.codes\n",
    "\n",
    "# Assign unique indices to gene names\n",
    "df['gene_idx'] = df['gene'].apply(lambda x: genes[x])\n",
    "\n",
    "# Group the data by cell and gene, then count the molecules for each group\n",
    "grouped_data = df.groupby(['cell_idx', 'gene_idx']).size().reset_index(name='counts')\n",
    "\n",
    "# Save the matrix to a Matrix Market format file\n",
    "rows, cols, data = grouped_data['cell_idx'].values, grouped_data['gene_idx'].values, grouped_data['counts'].values\n",
    "from scipy.sparse import coo_matrix\n",
    "sparse_matrix = coo_matrix((data, (rows, cols)), dtype=int)\n",
    "mmwrite('matrix.mtx', sparse_matrix, field='integer', precision=None, symmetry='general')\n",
    "\n",
    "\n",
    "# Save the gene and cell names to separate files\n",
    "with open('genes.tsv', 'w') as f:\n",
    "    for gene, idx in sorted(genes.items(), key=lambda x: x[1]):\n",
    "        f.write(f\"{gene}\\n\")\n",
    "\n",
    "with open('cells.tsv', 'w') as f:\n",
    "    for cell in df['cell'].astype('category').cat.categories:\n",
    "        f.write(f\"{cell}\\n\")\n"
   ]
  },
  {
   "cell_type": "code",
   "execution_count": 21,
   "id": "f29cd0b2",
   "metadata": {},
   "outputs": [
    {
     "name": "stdout",
     "output_type": "stream",
     "text": [
      "Matrix dimensions: (100, 18987)\n",
      "Number of genes: 100\n",
      "Number of cells: 18987\n"
     ]
    }
   ],
   "source": [
    "import pandas as pd\n",
    "from collections import defaultdict\n",
    "from scipy.io import mmwrite\n",
    "from scipy.sparse import coo_matrix\n",
    "import gzip\n",
    "import requests\n",
    "\n",
    "# Read the input CSV file\n",
    "df = pd.read_csv('/data/petar/fgf1/resolve/baysor_segmentation/32810-1377-slide3_A1-1_results_baysor_results/baysor_results.csv')\n",
    "\n",
    "# Create a dictionary to store gene names and assign them unique indices\n",
    "genes = defaultdict(lambda: len(genes))\n",
    "\n",
    "# Assign unique indices to cell names\n",
    "df['cell_idx'] = df['cell'].astype('category').cat.codes\n",
    "\n",
    "# Assign unique indices to gene names\n",
    "df['gene_idx'] = df['gene'].apply(lambda x: genes[x])\n",
    "\n",
    "# Group the data by cell and gene, then count the molecules for each group\n",
    "grouped_data = df.groupby(['cell_idx', 'gene_idx']).size().reset_index(name='counts')\n",
    "\n",
    "# Save the matrix to a Matrix Market format file\n",
    "rows, cols, data = grouped_data['cell_idx'].values, grouped_data['gene_idx'].values, grouped_data['counts'].values\n",
    "# sparse_matrix = coo_matrix((data, (rows, cols)), dtype=int)\n",
    "sparse_matrix = coo_matrix((data, (rows, cols)), shape=(max(rows) + 1, max(cols) + 1)).T\n",
    "with gzip.open('cell_feature_matrix/matrix.mtx.gz', 'wb') as f:\n",
    "    mmwrite(f, sparse_matrix, field='integer', precision=None, symmetry='general')\n",
    "\n",
    "# Query gprofiler2 API to convert gene names to Ensembl gene IDs (ENSG)\n",
    "unique_genes = list(genes.keys())\n",
    "r = requests.post(\n",
    "    url='https://biit.cs.ut.ee/gprofiler/api/convert/convert/',\n",
    "    json={\n",
    "        'organism': 'mmusculus',\n",
    "        'target': 'ENSG',\n",
    "        'query': unique_genes,\n",
    "    }\n",
    ")\n",
    "\n",
    "converted_genes = {gene: result['converted'] for gene, result in zip(unique_genes, r.json()['result'])}\n",
    "\n",
    "# Save the gene and cell names to separate files\n",
    "with gzip.open('cell_feature_matrix/features.tsv.gz', 'wt') as f:\n",
    "    for gene, idx in sorted(genes.items(), key=lambda x: x[1]):\n",
    "        ensembl_id = converted_genes[gene]\n",
    "        f.write(f\"{ensembl_id}\\t{gene}\\tGene Expression\\n\")\n",
    "\n",
    "with gzip.open('cell_feature_matrix/barcodes.tsv.gz', 'wt') as f:\n",
    "    for cell in df['cell'].astype('category').cat.categories:\n",
    "        f.write(f\"{cell}\\n\")\n",
    "\n",
    "# Check the dimensions of the output files\n",
    "print(f\"Matrix dimensions: {sparse_matrix.shape}\")\n",
    "print(f\"Number of genes: {len(genes)}\")\n",
    "print(f\"Number of cells: {len(df['cell'].astype('category').cat.categories)}\")\n"
   ]
  },
  {
   "cell_type": "code",
   "execution_count": null,
   "id": "b0b1651c",
   "metadata": {},
   "outputs": [],
   "source": [
    "import "
   ]
  }
 ],
 "metadata": {
  "kernelspec": {
   "display_name": "Python [conda env:fgf1_ygg]",
   "language": "python",
   "name": "conda-env-fgf1_ygg-py"
  },
  "language_info": {
   "codemirror_mode": {
    "name": "ipython",
    "version": 3
   },
   "file_extension": ".py",
   "mimetype": "text/x-python",
   "name": "python",
   "nbconvert_exporter": "python",
   "pygments_lexer": "ipython3",
   "version": "3.8.13"
  }
 },
 "nbformat": 4,
 "nbformat_minor": 5
}
