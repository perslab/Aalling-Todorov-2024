{
 "cells": [
  {
   "cell_type": "code",
   "execution_count": 1,
   "id": "1230545a",
   "metadata": {},
   "outputs": [],
   "source": [
    "import argparse\n",
    "import gzip\n",
    "import requests\n",
    "import pandas as pd\n",
    "import sys\n",
    "from pathlib import Path\n",
    "import os\n",
    "import csv\n",
    "import glob\n",
    "from collections import defaultdict\n",
    "from scipy.sparse import coo_matrix\n",
    "from scipy.io import mmwrite\n",
    "from shapely.geometry import MultiPoint, Polygon, Point\n",
    "from rtree import index\n",
    "import read_roi\n",
    "from tqdm import tqdm"
   ]
  },
  {
   "cell_type": "code",
   "execution_count": 2,
   "id": "e6600f6b",
   "metadata": {},
   "outputs": [],
   "source": [
    "###  1.\n",
    "###  to 10x matrix\n",
    "###\n",
    "\n",
    "def assign_indices(df):\n",
    "    genes = defaultdict(lambda: len(genes))\n",
    "    df['cell_idx'] = df['cell'].astype('category').cat.codes\n",
    "    df['gene_idx'] = df['gene'].apply(lambda x: genes[x])\n",
    "    return df, genes\n",
    "\n",
    "\n",
    "def group_data(df):\n",
    "    grouped_data = df.groupby(['cell_idx', 'gene_idx']).size().reset_index(name='counts')\n",
    "    return grouped_data\n",
    "\n",
    "\n",
    "def write_matrix(grouped_data, output_dir):\n",
    "    rows, cols, data = grouped_data['cell_idx'].values, grouped_data['gene_idx'].values, grouped_data['counts'].values\n",
    "    sparse_matrix = coo_matrix((data, (rows, cols)), shape=(max(rows) + 1, max(cols) + 1)).T\n",
    "    with gzip.open(f\"{output_dir}/cell_feature_matrix/matrix.mtx.gz\", 'wb') as f:\n",
    "        mmwrite(f, sparse_matrix, field='integer', precision=None, symmetry='general')\n",
    "\n",
    "\n",
    "def query_api(genes):\n",
    "    unique_genes = list(genes.keys())\n",
    "    r = requests.post(\n",
    "        url='https://biit.cs.ut.ee/gprofiler/api/convert/convert/',\n",
    "        json={\n",
    "            'organism': 'mmusculus',\n",
    "            'target': 'ENSG',\n",
    "            'query': unique_genes,\n",
    "        }\n",
    "    )\n",
    "    converted_genes = {gene: result['converted'] for gene, result in zip(unique_genes, r.json()['result'])}\n",
    "    return converted_genes\n",
    "\n",
    "\n",
    "def write_features(genes, converted_genes, output_dir):\n",
    "    with gzip.open(f\"{output_dir}/cell_feature_matrix/features.tsv.gz\", 'wt') as f:\n",
    "        for gene, idx in sorted(genes.items(), key=lambda x: x[1]):\n",
    "            ensembl_id = converted_genes[gene]\n",
    "            f.write(f\"{ensembl_id}\\t{gene}\\tGene Expression\\n\")\n",
    "\n",
    "\n",
    "def write_barcodes(df, output_dir):\n",
    "    with gzip.open(f\"{output_dir}/cell_feature_matrix/barcodes.tsv.gz\", 'wt') as f:\n",
    "        for cell in df['cell'].astype('category').cat.categories:\n",
    "            f.write(f\"{cell}\\n\")"
   ]
  },
  {
   "cell_type": "code",
   "execution_count": 3,
   "id": "f25cda72",
   "metadata": {},
   "outputs": [],
   "source": [
    "#### 2.\n",
    "#### takes in baysor_results.csv and generates convex hull boundaries for each cell\n",
    "####\n",
    "\n",
    "\n",
    "def make_roi_coordinates_df(roi_coordinates):\n",
    "    print('Converting convex hulls to ROI table format.')\n",
    "    coords_list = []\n",
    "    for roi_name, coordinates in tqdm(roi_coordinates.items()):\n",
    "        for x, y in coordinates:\n",
    "            coords_list.append({'ROI_Name': roi_name, 'X': x, 'Y': y})\n",
    "    coords_df = pd.DataFrame(coords_list)\n",
    "    return coords_df\n",
    "\n",
    "\n",
    "def baysor_results_df2coords_df(baysor_results_df):\n",
    "    cell_groups = baysor_results_df.groupby('cell')\n",
    "    convex_hulls = {}\n",
    "    print('Calculating convex hulls for baysor segmentation.')\n",
    "    for cell_name, group in tqdm(cell_groups):\n",
    "        if cell_name != '0':  # Skip points not assigned to any cell\n",
    "            points = group[['x', 'y']].values\n",
    "            multi_point = MultiPoint(points)\n",
    "            convex_hull = multi_point.convex_hull\n",
    "            if convex_hull.geom_type == 'Polygon':\n",
    "                coords = list(convex_hull.exterior.coords)\n",
    "                convex_hulls[cell_name] = coords\n",
    "    coords_df = make_roi_coordinates_df(convex_hulls)\n",
    "    return coords_df"
   ]
  },
  {
   "cell_type": "code",
   "execution_count": 4,
   "id": "b3a73989",
   "metadata": {},
   "outputs": [],
   "source": [
    "###\n",
    "### 3\n",
    "### CellPose roi_to_csv.py\n",
    "\n",
    "def imagejzip2coords_df(zip_file_path):\n",
    "    rois = read_roi.read_roi_zip(zip_file_path)\n",
    "    rois_converted = []\n",
    "    for roi_name, roi in rois.items():\n",
    "        if roi['type'] == 'rectangle':\n",
    "            x, y, w, h = roi['left'], roi['top'], roi['width'], roi['height']\n",
    "            rois_converted.append({'ROI_Name': roi_name, 'X': x, 'Y': y})\n",
    "        elif roi['type'] == 'freehand':\n",
    "            x, y = roi['x'], roi['y']\n",
    "            for i in range(len(x)):\n",
    "                rois_converted.append({'ROI_Name': roi_name, 'X': x[i], 'Y': y[i]})\n",
    "        else:\n",
    "            raise ValueError(f'Unsupported ROI type: {roi[\"type\"]}')\n",
    "    coords_df = pd.DataFrame(rois_converted)\n",
    "    return coords_df\n",
    "\n",
    "\n",
    "def vertecies_to_shapely_polygon(roi_name=None, coordinates=None):\n",
    "    if len(coordinates) < 3:\n",
    "        print(f'Warning: Not enough coordinates for {roi_name} to form a valid polygon.')\n",
    "        pg = Polygon()\n",
    "    else:\n",
    "        if coordinates[0] != coordinates[-1]:\n",
    "            coordinates.append(coordinates[0])  # Add the first coordinate to the end if necessary\n",
    "        pg = Polygon(coordinates)\n",
    "    return pg\n",
    "\n",
    "\n",
    "def make_polygon_df(coords_df):\n",
    "    polygons = []\n",
    "    for name, group in coords_df.groupby('ROI_Name'):\n",
    "        vertices = [(x, y) for x, y in zip(group['X'], group['Y'])]\n",
    "        # Add the last vertex identical to the first to make the polygon closed\n",
    "        polygons.append({'ROI_Name': name, 'polygon': vertecies_to_shapely_polygon(name, vertices)})\n",
    "    polygon_df = pd.DataFrame(polygons)\n",
    "    polygon_df['Area'] = polygon_df['polygon'].apply(lambda x: x.area)\n",
    "    polygon_df['valid'] = polygon_df['polygon'].apply(lambda x: x.is_valid)\n",
    "    polygon_df['empty'] = polygon_df['polygon'].apply(lambda x: x.is_empty)\n",
    "    polygon_df = polygon_df[polygon_df['valid']]\n",
    "    polygon_df = polygon_df[~polygon_df['empty']]\n",
    "    polygon_df = polygon_df.drop(['valid', 'empty'], axis=1)\n",
    "    return polygon_df"
   ]
  },
  {
   "cell_type": "code",
   "execution_count": 5,
   "id": "c2fa5eae",
   "metadata": {},
   "outputs": [],
   "source": [
    "###\n",
    "###roi_containment.py\n",
    "###\n",
    "\n",
    "\n",
    "def map_nucleus2cell(nucleus_coords_df, cells_coords_df):\n",
    "    print('Calculating nucleus to cell mappings.')\n",
    "    nuc_cell_intersections = []\n",
    "\n",
    "    idx = index.Index()\n",
    "    cells_polygons = {}\n",
    "    cells_names = []\n",
    "\n",
    "    polygon_df_nuclei = make_polygon_df(nucleus_coords_df)\n",
    "    polygon_df_cells = make_polygon_df(cells_coords_df)\n",
    "\n",
    "    print('Building up rtree index of cells.')\n",
    "    for cell_name, group in tqdm(polygon_df_cells.groupby('ROI_Name')):\n",
    "#         print(cell_name, group)\n",
    "        cell_polygon = group['polygon'].reset_index(drop=True)[0]\n",
    "#         import pdb; pdb.set_trace()\n",
    "        cells_polygons[cell_name] = cell_polygon\n",
    "        cells_names.append(cell_name)\n",
    "        idx.insert(len(cells_names) - 1, cell_polygon.bounds)\n",
    "\n",
    "    print('Checking if nuclei are contained in cells.')\n",
    "    for nucleus_name, group in tqdm(polygon_df_nuclei.groupby('ROI_Name')):\n",
    "        nucleus_polygon = group['polygon'].reset_index(drop=True)[0]\n",
    "        for i in idx.intersection(nucleus_polygon.bounds):\n",
    "            cell_name = cells_names[i]\n",
    "            cell_polygon = cells_polygons[cell_name]\n",
    "            if cell_polygon.intersects(nucleus_polygon):\n",
    "                nuc_cell_intersection = {'ROI_Name_nucleus': nucleus_name, 'ROI_Name_cell': cell_name}\n",
    "                nuc_cell_intersections.append(nuc_cell_intersection)\n",
    "    nuc_cell_df = pd.DataFrame(nuc_cell_intersections)\n",
    "    return nuc_cell_df"
   ]
  },
  {
   "cell_type": "code",
   "execution_count": 6,
   "id": "81d40701",
   "metadata": {},
   "outputs": [],
   "source": [
    "###\n",
    "###\n",
    "### transcripts_in_nucleus.py\n",
    "\n",
    "\n",
    "def get_transcripts_points(baysor_results_df):\n",
    "    transcripts_points = [Point(x, y) for x, y in zip(baysor_results_df['x'], baysor_results_df['y'])]\n",
    "    return transcripts_points\n",
    "\n",
    "\n",
    "\n",
    "def create_rtree(polygon_df_nuclei):  \n",
    "    \"\"\"Create an R-tree spatial index for the nucleus boundaries.\"\"\"\n",
    "    idx = index.Index()\n",
    "    for i, row in enumerate(polygon_df_nuclei.iterrows()):\n",
    "        nucleus = row[1]['polygon']\n",
    "        idx.insert(i, nucleus.bounds, obj=nucleus)\n",
    "    return idx\n",
    "\n",
    "\n",
    "\n",
    "\n",
    "def transcripts_in_nucleus(baysor_results_df, nucleus_coords_df):\n",
    "    print('Loading nucleus boundaries...')\n",
    "    nuclei = {}\n",
    "    for nucleus_name, group in make_polygon_df(nucleus_coords_df).groupby('ROI_Name'):\n",
    "        nuclei[nucleus_name] = group['polygon']\n",
    "    print(f'Loaded {len(nuclei)} nuclei.')\n",
    "    print('Loading transcripts...')\n",
    "    transcripts = get_transcripts_points(baysor_results_df)\n",
    "    print(f'Loaded {len(transcripts)} transcripts.')\n",
    "    # Create R-tree spatial index for nuclei\n",
    "    print('Creating R-tree index...')\n",
    "    nucleus_polygon_df = make_polygon_df(nucleus_coords_df)\n",
    "    idx = create_rtree(nucleus_polygon_df)\n",
    "    # Check if each transcript is within a nucleus\n",
    "    print('Checking transcripts...')\n",
    "    results = []\n",
    "    for i, transcript in tqdm(enumerate(transcripts), total=len(transcripts)):\n",
    "        # Check if transcript is within any nucleus\n",
    "        within_nucleus = False\n",
    "        for jj in idx.intersection((transcript.x, transcript.y)):\n",
    "            if transcript.within(nuclei[list(nuclei.keys())[jj]]).reset_index(drop=True)[0]:\n",
    "                within_nucleus = True\n",
    "                break\n",
    "        results.append(within_nucleus)\n",
    "    # Write results to output file\n",
    "    baysor_results_df['within_nucleus'] = results\n",
    "    return baysor_results_df"
   ]
  },
  {
   "cell_type": "code",
   "execution_count": 36,
   "id": "e8946928",
   "metadata": {},
   "outputs": [],
   "source": [
    "def make_cells_df(baysor_cell_stats, nucleus2cell_mapping, nucleus_coords_df):\n",
    "    nucleus_polygon_df = make_polygon_df(nucleus_coords_df)\n",
    "    # Apply transformations to cells DataFrame\n",
    "    cells_df = (\n",
    "        baysor_cell_stats.assign(\n",
    "            control_probe_counts=0,\n",
    "            control_codeword_counts=0,\n",
    "            total_counts=lambda df: df['n_transcripts'],\n",
    "            cell_area=lambda df: df['area'],\n",
    "            x_centroid=lambda df: df['x'],\n",
    "            y_centroid=lambda df: df['y'],\n",
    "            cell_id=lambda df: df['cell']\n",
    "        )\n",
    "        .rename(columns={'n_transcripts': 'transcript_counts'})\n",
    "    )\n",
    "    cells_df = cells_df[['cell_id', 'x_centroid', 'y_centroid', 'transcript_counts', 'control_probe_counts', 'control_codeword_counts', 'total_counts', 'cell_area']]\n",
    "    cells_df = pd.merge(cells_df, nucleus2cell_mapping, left_on='cell_id', right_on='ROI_Name_cell', how='left')\n",
    "    cells_df = pd.merge(cells_df, nucleus_polygon_df, left_on='ROI_Name_nucleus', right_on='ROI_Name', how='left')\n",
    "    cells_df = cells_df.rename(columns={\"ROI_Name_nucleus\": \"nucleus_id\", \"Area\": \"nucleus_area\"})\n",
    "    cells_df = cells_df.drop(columns=['ROI_Name_cell', 'ROI_Name', \"polygon\"])\n",
    "    # find cells that have more than one nucleus intersection\n",
    "    subset_cols = ['cell_id', 'x_centroid', 'y_centroid', 'transcript_counts',\n",
    "                   'control_probe_counts', 'control_codeword_counts', 'total_counts',\n",
    "                   'cell_area']\n",
    "    duplicates = cells_df[cells_df.duplicated(subset=subset_cols, keep=False)]\n",
    "    cells_df = cells_df[~cells_df.duplicated(subset=subset_cols, keep='first')]\n",
    "    return cells_df, duplicates"
   ]
  },
  {
   "cell_type": "code",
   "execution_count": 8,
   "id": "84b298ef",
   "metadata": {},
   "outputs": [],
   "source": [
    "def make_transcripts_df(baysor_results_df):\n",
    "    transcripts_df = (\n",
    "        baysor_results_df.assign(\n",
    "            transcript_id = lambda df: df['molecule_id'],\n",
    "            cell_id = lambda df: df['cell'],\n",
    "            overlaps_nucleus = lambda df: df['within_nucleus'],\n",
    "            feature_name = lambda df: df['gene'],\n",
    "            x_location = lambda df: df['x'],\n",
    "            y_location = lambda df: df['y'],\n",
    "            z_location = 0,\n",
    "            qv = 42.0\n",
    "        )\n",
    "    )\n",
    "    transcripts_df = transcripts_df[['transcript_id', 'cell_id', 'overlaps_nucleus', 'feature_name', 'x_location', 'y_location', 'z_location', 'qv']]\n",
    "    return transcripts_df"
   ]
  },
  {
   "cell_type": "code",
   "execution_count": 9,
   "id": "241acbae",
   "metadata": {},
   "outputs": [],
   "source": [
    "def make_cell_boundaries(coords_df):\n",
    "    cell_boundaries_df = (\n",
    "        coords_df.assign(\n",
    "        cell_id = lambda df: df['ROI_Name'],\n",
    "        vertex_x = lambda df: df['X'],\n",
    "        vertex_y = lambda df: df['Y'],\n",
    "        )\n",
    "    )\n",
    "    cell_boundaries_df = cell_boundaries_df[['cell_id', 'vertex_x', 'vertex_y']]\n",
    "    return cell_boundaries_df"
   ]
  },
  {
   "cell_type": "code",
   "execution_count": 10,
   "id": "11a25f4b",
   "metadata": {},
   "outputs": [
    {
     "data": {
      "text/plain": [
       "Namespace(baysor_results_dir='/data/petar/fgf1/resolve/baysor_segmentation/32810-1377-slide3_A1-1_results_baysor_results/', cellpose_roi_path='/data/petar/fgf1/resolve/rois/32810-1377-slide3_A1-1_DAPI_dapi_ROIs.zip', output_dir='./test/')"
      ]
     },
     "execution_count": 10,
     "metadata": {},
     "output_type": "execute_result"
    }
   ],
   "source": [
    "argparse.Namespace(baysor_results_dir = '/data/petar/fgf1/resolve/baysor_segmentation/32810-1377-slide3_A1-1_results_baysor_results/',\n",
    "                   cellpose_roi_path = '/data/petar/fgf1/resolve/rois/32810-1377-slide3_A1-1_DAPI_dapi_ROIs.zip',\n",
    "                   output_dir = './test/')"
   ]
  },
  {
   "cell_type": "code",
   "execution_count": 37,
   "id": "ef5945a0",
   "metadata": {},
   "outputs": [],
   "source": [
    "def convert_resolve_to_xenium(args):\n",
    "    print('processing: ')\n",
    "    for key, value in args.__dict__.items():\n",
    "        print(key + ': ' + value)\n",
    "    print('')\n",
    "    # 1\n",
    "    #create cell_feature_matrix outputs\n",
    "    print(\"STAGE 1: Converting baysor results to 10x cell_feature_matrix.\")  \n",
    "    output_dir = args.output_dir\n",
    "    cell_feature_matrix_dirpath = Path(f\"{output_dir}/cell_feature_matrix/\")\n",
    "    cell_feature_matrix_dirpath.mkdir(exist_ok=True, parents=True)\n",
    "    baysor_results_dir = args.baysor_results_dir\n",
    "    baysor_results_path = f\"{baysor_results_dir}/baysor_results.csv\"\n",
    "    baysor_results_df = pd.read_csv(baysor_results_path)\n",
    "    baysor_results_df, genes = assign_indices(baysor_results_df)\n",
    "    grouped_data = group_data(baysor_results_df)\n",
    "    write_matrix(grouped_data, output_dir)\n",
    "    converted_genes = query_api(genes)\n",
    "    write_features(genes, converted_genes, args.output_dir)\n",
    "    write_barcodes(baysor_results_df, args.output_dir)\n",
    "    print(f\"Matrix dimensions: {grouped_data.shape}\")\n",
    "    print(f\"Number of genes: {len(genes)}\")\n",
    "    print(f\"Number of cells: {len(baysor_results_df['cell'].astype('category').cat.categories)}\")\n",
    "    print(\"done.\")\n",
    "    print(\"\")\n",
    "\n",
    "    # 2\n",
    "    # generate convex hulls for baysor segmentations\n",
    "    print('STAGE 2: Generating cell segmentations from Baysor transcript assignment.')\n",
    "    cells_coords_df = baysor_results_df2coords_df(baysor_results_df)\n",
    "    cell_boundaries_df = make_cell_boundaries(cells_coords_df)\n",
    "    print('writing cell_boundaries.csv.gz')\n",
    "    cell_boundaries_df.to_csv(f\"{output_dir}/cell_boundaries.csv.gz\", index=False, compression='gzip')\n",
    "    print(\"done.\")\n",
    "    print(\"\")\n",
    "    \n",
    "    # 3\n",
    "    #\n",
    "    print('STAGE 3: Converting ImageJ nucleus ROIs.')\n",
    "    cellpose_roi_path = args.cellpose_roi_path\n",
    "    nucleus_coords_df = imagejzip2coords_df(cellpose_roi_path)\n",
    "    print(\"done.\")\n",
    "    print(\"\")\n",
    "    \n",
    "    # 4\n",
    "    #\n",
    "    print('STAGE 4: Mapping nuclei to cells.')\n",
    "    nucleus2cell_mapping = map_nucleus2cell(nucleus_coords_df, cells_coords_df)\n",
    "    print(\"done.\")\n",
    "    print(\"\")\n",
    "    \n",
    "    # 5\n",
    "    #\n",
    "    print(\"STAGE 5: Checking for transcripts in nuclei.\")\n",
    "    baysor_results_df = transcripts_in_nucleus(baysor_results_df, nucleus_coords_df)\n",
    "    transcripts_df = make_transcripts_df(baysor_results_df)\n",
    "    print(\"writing transcripts.csv.gz\")\n",
    "    transcripts_df.to_csv(f\"{output_dir}/transcripts.csv.gz\", index=False, compression='gzip')\n",
    "    print(\"done.\")\n",
    "    print(\"\")\n",
    "    \n",
    "    # 6\n",
    "    #\n",
    "    print(\"STAGE 6: Writing cells.csv.gz\")\n",
    "    baysor_cell_stats_path = f\"{baysor_results_dir}/baysor_cell_stats.csv\"\n",
    "    baysor_cell_stats = pd.read_csv(baysor_cell_stats_path)\n",
    "    cells_df, duplicates = make_cells_df(baysor_cell_stats, nucleus2cell_mapping, nucleus_coords_df)\n",
    "    cells_df.to_csv(f\"{output_dir}/cells.csv.gz\", index=False, compression='gzip')\n",
    "    duplicates.to_csv(f\"{output_dir}/multinuc_cells.csv.gz\", index=False, compression='gzip')\n",
    "    print(\"done.\")\n",
    "    print(\"\")"
   ]
  },
  {
   "cell_type": "code",
   "execution_count": 12,
   "id": "610a0c4c",
   "metadata": {},
   "outputs": [],
   "source": [
    "# test args\n",
    "args = argparse.Namespace(baysor_results_dir = '/data/petar/fgf1/resolve/baysor_segmentation/32810-1377-slide3_A1-1_results_baysor_results/',\n",
    "                          cellpose_roi_path = '/data/petar/fgf1/resolve/rois/32810-1377-slide3_A1-1_DAPI_dapi_ROIs.zip',\n",
    "                          output_dir = './test/')"
   ]
  },
  {
   "cell_type": "code",
   "execution_count": 13,
   "id": "3b352123",
   "metadata": {},
   "outputs": [],
   "source": [
    "sample_names = [x.replace('_results_baysor_results', '') for x in os.listdir('/data/petar/fgf1/resolve/baysor_segmentation/') if '_results_baysor_results' in x]"
   ]
  },
  {
   "cell_type": "code",
   "execution_count": 14,
   "id": "e0c42561",
   "metadata": {},
   "outputs": [],
   "source": [
    "namespace_list = []\n",
    "for sample_name in sample_names:\n",
    "    args = argparse.Namespace(baysor_results_dir = f\"/data/petar/fgf1/resolve/baysor_segmentation/{sample_name}_results_baysor_results/\",\n",
    "                          cellpose_roi_path = f\"/data/petar/fgf1/resolve/rois/{sample_name}_DAPI_dapi_ROIs.zip\",\n",
    "                          output_dir = f\"/data/petar/fgf1/resolve/xe/{sample_name}/\")\n",
    "    namespace_list.append(args)"
   ]
  },
  {
   "cell_type": "code",
   "execution_count": 15,
   "id": "3ec263b0",
   "metadata": {},
   "outputs": [
    {
     "data": {
      "text/plain": [
       "[Namespace(baysor_results_dir='/data/petar/fgf1/resolve/baysor_segmentation/32810-1377-slide3_A2-1_results_baysor_results/', cellpose_roi_path='/data/petar/fgf1/resolve/rois/32810-1377-slide3_A2-1_DAPI_dapi_ROIs.zip', output_dir='/data/petar/fgf1/resolve/xe/32810-1377-slide3_A2-1/'),\n",
       " Namespace(baysor_results_dir='/data/petar/fgf1/resolve/baysor_segmentation/32810-1377-slide3_B2-1_results_baysor_results/', cellpose_roi_path='/data/petar/fgf1/resolve/rois/32810-1377-slide3_B2-1_DAPI_dapi_ROIs.zip', output_dir='/data/petar/fgf1/resolve/xe/32810-1377-slide3_B2-1/'),\n",
       " Namespace(baysor_results_dir='/data/petar/fgf1/resolve/baysor_segmentation/32810-1377-slide3_D2-1_results_baysor_results/', cellpose_roi_path='/data/petar/fgf1/resolve/rois/32810-1377-slide3_D2-1_DAPI_dapi_ROIs.zip', output_dir='/data/petar/fgf1/resolve/xe/32810-1377-slide3_D2-1/'),\n",
       " Namespace(baysor_results_dir='/data/petar/fgf1/resolve/baysor_segmentation/32810-1377-slide3_C1-1_results_baysor_results/', cellpose_roi_path='/data/petar/fgf1/resolve/rois/32810-1377-slide3_C1-1_DAPI_dapi_ROIs.zip', output_dir='/data/petar/fgf1/resolve/xe/32810-1377-slide3_C1-1/'),\n",
       " Namespace(baysor_results_dir='/data/petar/fgf1/resolve/baysor_segmentation/32810-1377-slide3_A1-1_results_baysor_results/', cellpose_roi_path='/data/petar/fgf1/resolve/rois/32810-1377-slide3_A1-1_DAPI_dapi_ROIs.zip', output_dir='/data/petar/fgf1/resolve/xe/32810-1377-slide3_A1-1/'),\n",
       " Namespace(baysor_results_dir='/data/petar/fgf1/resolve/baysor_segmentation/32810-1377-slide3_D1-1_results_baysor_results/', cellpose_roi_path='/data/petar/fgf1/resolve/rois/32810-1377-slide3_D1-1_DAPI_dapi_ROIs.zip', output_dir='/data/petar/fgf1/resolve/xe/32810-1377-slide3_D1-1/'),\n",
       " Namespace(baysor_results_dir='/data/petar/fgf1/resolve/baysor_segmentation/32810-1377-slide3_B1-1_results_baysor_results/', cellpose_roi_path='/data/petar/fgf1/resolve/rois/32810-1377-slide3_B1-1_DAPI_dapi_ROIs.zip', output_dir='/data/petar/fgf1/resolve/xe/32810-1377-slide3_B1-1/'),\n",
       " Namespace(baysor_results_dir='/data/petar/fgf1/resolve/baysor_segmentation/32810-1377-slide3_C2-1_results_baysor_results/', cellpose_roi_path='/data/petar/fgf1/resolve/rois/32810-1377-slide3_C2-1_DAPI_dapi_ROIs.zip', output_dir='/data/petar/fgf1/resolve/xe/32810-1377-slide3_C2-1/')]"
      ]
     },
     "execution_count": 15,
     "metadata": {},
     "output_type": "execute_result"
    }
   ],
   "source": [
    "namespace_list"
   ]
  },
  {
   "cell_type": "code",
   "execution_count": null,
   "id": "50f8c08a",
   "metadata": {},
   "outputs": [
    {
     "name": "stdout",
     "output_type": "stream",
     "text": [
      "processing: \n",
      "baysor_results_dir: /data/petar/fgf1/resolve/baysor_segmentation/32810-1377-slide3_A2-1_results_baysor_results/\n",
      "cellpose_roi_path: /data/petar/fgf1/resolve/rois/32810-1377-slide3_A2-1_DAPI_dapi_ROIs.zip\n",
      "output_dir: /data/petar/fgf1/resolve/xe/32810-1377-slide3_A2-1/\n",
      "\n",
      "STAGE 1: Converting baysor results to 10x cell_feature_matrix.\n",
      "Matrix dimensions: (424214, 3)\n",
      "Number of genes: 100\n",
      "Number of cells: 15042\n",
      "done.\n",
      "\n",
      "STAGE 2: Generating cell segmentations from Baysor transcript assignment.\n",
      "Calculating convex hulls for baysor segmentation.\n"
     ]
    },
    {
     "name": "stderr",
     "output_type": "stream",
     "text": [
      "100%|██████████| 15042/15042 [00:30<00:00, 501.05it/s]\n"
     ]
    },
    {
     "name": "stdout",
     "output_type": "stream",
     "text": [
      "Converting convex hulls to ROI table format.\n"
     ]
    },
    {
     "name": "stderr",
     "output_type": "stream",
     "text": [
      "100%|██████████| 15041/15041 [00:00<00:00, 274365.59it/s]\n"
     ]
    },
    {
     "name": "stdout",
     "output_type": "stream",
     "text": [
      "writing cell_boundaries.csv.gz\n",
      "done.\n",
      "\n",
      "STAGE 3: Converting ImageJ nucleus ROIs.\n",
      "done.\n",
      "\n",
      "STAGE 4: Mapping nuclei to cells.\n",
      "Calculating nucleus to cell mappings.\n",
      "Building up rtree index of cells.\n"
     ]
    },
    {
     "name": "stderr",
     "output_type": "stream",
     "text": [
      "100%|██████████| 15041/15041 [00:02<00:00, 6084.27it/s]\n"
     ]
    },
    {
     "name": "stdout",
     "output_type": "stream",
     "text": [
      "Checking if nuclei are contained in cells.\n"
     ]
    },
    {
     "name": "stderr",
     "output_type": "stream",
     "text": [
      "100%|██████████| 2431/2431 [00:00<00:00, 4957.35it/s]\n"
     ]
    },
    {
     "name": "stdout",
     "output_type": "stream",
     "text": [
      "done.\n",
      "\n",
      "STAGE 5: Checking for transcripts in nuclei.\n",
      "Loading nucleus boundaries...\n",
      "Loaded 2431 nuclei.\n",
      "Loading transcripts...\n",
      "Loaded 2500624 transcripts.\n",
      "Creating R-tree index...\n",
      "Checking transcripts...\n"
     ]
    },
    {
     "name": "stderr",
     "output_type": "stream",
     "text": [
      "100%|██████████| 2500624/2500624 [03:26<00:00, 12123.67it/s]\n"
     ]
    },
    {
     "name": "stdout",
     "output_type": "stream",
     "text": [
      "writing transcripts.csv.gz\n",
      "done.\n",
      "\n",
      "STAGE 6: Writing cells.csv.gz\n",
      "done.\n",
      "\n",
      "\n",
      "\n",
      "\n",
      "=============================================================\n",
      "processing: \n",
      "baysor_results_dir: /data/petar/fgf1/resolve/baysor_segmentation/32810-1377-slide3_B2-1_results_baysor_results/\n",
      "cellpose_roi_path: /data/petar/fgf1/resolve/rois/32810-1377-slide3_B2-1_DAPI_dapi_ROIs.zip\n",
      "output_dir: /data/petar/fgf1/resolve/xe/32810-1377-slide3_B2-1/\n",
      "\n",
      "STAGE 1: Converting baysor results to 10x cell_feature_matrix.\n",
      "Matrix dimensions: (444026, 3)\n",
      "Number of genes: 100\n",
      "Number of cells: 14025\n",
      "done.\n",
      "\n",
      "STAGE 2: Generating cell segmentations from Baysor transcript assignment.\n",
      "Calculating convex hulls for baysor segmentation.\n"
     ]
    },
    {
     "name": "stderr",
     "output_type": "stream",
     "text": [
      "100%|██████████| 14025/14025 [00:33<00:00, 416.17it/s]\n"
     ]
    },
    {
     "name": "stdout",
     "output_type": "stream",
     "text": [
      "Converting convex hulls to ROI table format.\n"
     ]
    },
    {
     "name": "stderr",
     "output_type": "stream",
     "text": [
      "100%|██████████| 14024/14024 [00:00<00:00, 230408.24it/s]\n"
     ]
    },
    {
     "name": "stdout",
     "output_type": "stream",
     "text": [
      "writing cell_boundaries.csv.gz\n",
      "done.\n",
      "\n",
      "STAGE 3: Converting ImageJ nucleus ROIs.\n",
      "done.\n",
      "\n",
      "STAGE 4: Mapping nuclei to cells.\n",
      "Calculating nucleus to cell mappings.\n",
      "Building up rtree index of cells.\n"
     ]
    },
    {
     "name": "stderr",
     "output_type": "stream",
     "text": [
      "100%|██████████| 14024/14024 [00:02<00:00, 5945.01it/s]\n"
     ]
    },
    {
     "name": "stdout",
     "output_type": "stream",
     "text": [
      "Checking if nuclei are contained in cells.\n"
     ]
    },
    {
     "name": "stderr",
     "output_type": "stream",
     "text": [
      "100%|██████████| 4252/4252 [00:00<00:00, 4651.17it/s]\n"
     ]
    },
    {
     "name": "stdout",
     "output_type": "stream",
     "text": [
      "done.\n",
      "\n",
      "STAGE 5: Checking for transcripts in nuclei.\n",
      "Loading nucleus boundaries...\n",
      "Loaded 4252 nuclei.\n",
      "Loading transcripts...\n",
      "Loaded 3021030 transcripts.\n",
      "Creating R-tree index...\n",
      "Checking transcripts...\n"
     ]
    },
    {
     "name": "stderr",
     "output_type": "stream",
     "text": [
      "100%|██████████| 3021030/3021030 [05:39<00:00, 8889.10it/s] \n"
     ]
    },
    {
     "name": "stdout",
     "output_type": "stream",
     "text": [
      "writing transcripts.csv.gz\n",
      "done.\n",
      "\n",
      "STAGE 6: Writing cells.csv.gz\n",
      "done.\n",
      "\n",
      "\n",
      "\n",
      "\n",
      "=============================================================\n",
      "processing: \n",
      "baysor_results_dir: /data/petar/fgf1/resolve/baysor_segmentation/32810-1377-slide3_D2-1_results_baysor_results/\n",
      "cellpose_roi_path: /data/petar/fgf1/resolve/rois/32810-1377-slide3_D2-1_DAPI_dapi_ROIs.zip\n",
      "output_dir: /data/petar/fgf1/resolve/xe/32810-1377-slide3_D2-1/\n",
      "\n",
      "STAGE 1: Converting baysor results to 10x cell_feature_matrix.\n",
      "Matrix dimensions: (441382, 3)\n",
      "Number of genes: 100\n",
      "Number of cells: 16461\n",
      "done.\n",
      "\n",
      "STAGE 2: Generating cell segmentations from Baysor transcript assignment.\n",
      "Calculating convex hulls for baysor segmentation.\n"
     ]
    },
    {
     "name": "stderr",
     "output_type": "stream",
     "text": [
      "100%|██████████| 16461/16461 [00:31<00:00, 518.82it/s]\n"
     ]
    },
    {
     "name": "stdout",
     "output_type": "stream",
     "text": [
      "Converting convex hulls to ROI table format.\n"
     ]
    },
    {
     "name": "stderr",
     "output_type": "stream",
     "text": [
      "100%|██████████| 16460/16460 [00:00<00:00, 236643.05it/s]\n"
     ]
    },
    {
     "name": "stdout",
     "output_type": "stream",
     "text": [
      "writing cell_boundaries.csv.gz\n",
      "done.\n",
      "\n",
      "STAGE 3: Converting ImageJ nucleus ROIs.\n",
      "done.\n",
      "\n",
      "STAGE 4: Mapping nuclei to cells.\n",
      "Calculating nucleus to cell mappings.\n",
      "Building up rtree index of cells.\n"
     ]
    },
    {
     "name": "stderr",
     "output_type": "stream",
     "text": [
      "100%|██████████| 16460/16460 [00:03<00:00, 4192.04it/s]\n"
     ]
    },
    {
     "name": "stdout",
     "output_type": "stream",
     "text": [
      "Checking if nuclei are contained in cells.\n"
     ]
    },
    {
     "name": "stderr",
     "output_type": "stream",
     "text": [
      "100%|██████████| 3625/3625 [00:01<00:00, 3379.78it/s]\n"
     ]
    },
    {
     "name": "stdout",
     "output_type": "stream",
     "text": [
      "done.\n",
      "\n",
      "STAGE 5: Checking for transcripts in nuclei.\n",
      "Loading nucleus boundaries...\n",
      "Loaded 3625 nuclei.\n",
      "Loading transcripts...\n",
      "Loaded 2343003 transcripts.\n",
      "Creating R-tree index...\n",
      "Checking transcripts...\n"
     ]
    },
    {
     "name": "stderr",
     "output_type": "stream",
     "text": [
      "100%|██████████| 2343003/2343003 [04:11<00:00, 9331.26it/s] \n"
     ]
    },
    {
     "name": "stdout",
     "output_type": "stream",
     "text": [
      "writing transcripts.csv.gz\n",
      "done.\n",
      "\n",
      "STAGE 6: Writing cells.csv.gz\n",
      "done.\n",
      "\n",
      "\n",
      "\n",
      "\n",
      "=============================================================\n",
      "processing: \n",
      "baysor_results_dir: /data/petar/fgf1/resolve/baysor_segmentation/32810-1377-slide3_C1-1_results_baysor_results/\n",
      "cellpose_roi_path: /data/petar/fgf1/resolve/rois/32810-1377-slide3_C1-1_DAPI_dapi_ROIs.zip\n",
      "output_dir: /data/petar/fgf1/resolve/xe/32810-1377-slide3_C1-1/\n",
      "\n",
      "STAGE 1: Converting baysor results to 10x cell_feature_matrix.\n",
      "Matrix dimensions: (424438, 3)\n",
      "Number of genes: 100\n",
      "Number of cells: 14355\n",
      "done.\n",
      "\n",
      "STAGE 2: Generating cell segmentations from Baysor transcript assignment.\n",
      "Calculating convex hulls for baysor segmentation.\n"
     ]
    },
    {
     "name": "stderr",
     "output_type": "stream",
     "text": [
      "100%|██████████| 14355/14355 [00:34<00:00, 417.76it/s]\n"
     ]
    },
    {
     "name": "stdout",
     "output_type": "stream",
     "text": [
      "Converting convex hulls to ROI table format.\n"
     ]
    },
    {
     "name": "stderr",
     "output_type": "stream",
     "text": [
      "100%|██████████| 14354/14354 [00:00<00:00, 160313.78it/s]\n"
     ]
    },
    {
     "name": "stdout",
     "output_type": "stream",
     "text": [
      "writing cell_boundaries.csv.gz\n",
      "done.\n",
      "\n",
      "STAGE 3: Converting ImageJ nucleus ROIs.\n",
      "done.\n",
      "\n",
      "STAGE 4: Mapping nuclei to cells.\n",
      "Calculating nucleus to cell mappings.\n",
      "Building up rtree index of cells.\n"
     ]
    },
    {
     "name": "stderr",
     "output_type": "stream",
     "text": [
      "100%|██████████| 14354/14354 [00:02<00:00, 5189.91it/s]\n"
     ]
    },
    {
     "name": "stdout",
     "output_type": "stream",
     "text": [
      "Checking if nuclei are contained in cells.\n"
     ]
    },
    {
     "name": "stderr",
     "output_type": "stream",
     "text": [
      "100%|██████████| 3574/3574 [00:00<00:00, 4585.69it/s]\n"
     ]
    },
    {
     "name": "stdout",
     "output_type": "stream",
     "text": [
      "done.\n",
      "\n",
      "STAGE 5: Checking for transcripts in nuclei.\n",
      "Loading nucleus boundaries...\n",
      "Loaded 3574 nuclei.\n",
      "Loading transcripts...\n",
      "Loaded 2637268 transcripts.\n",
      "Creating R-tree index...\n",
      "Checking transcripts...\n"
     ]
    },
    {
     "name": "stderr",
     "output_type": "stream",
     "text": [
      "100%|██████████| 2637268/2637268 [04:27<00:00, 9871.36it/s] \n"
     ]
    },
    {
     "name": "stdout",
     "output_type": "stream",
     "text": [
      "writing transcripts.csv.gz\n",
      "done.\n",
      "\n",
      "STAGE 6: Writing cells.csv.gz\n",
      "done.\n",
      "\n",
      "\n",
      "\n",
      "\n",
      "=============================================================\n",
      "processing: \n",
      "baysor_results_dir: /data/petar/fgf1/resolve/baysor_segmentation/32810-1377-slide3_A1-1_results_baysor_results/\n",
      "cellpose_roi_path: /data/petar/fgf1/resolve/rois/32810-1377-slide3_A1-1_DAPI_dapi_ROIs.zip\n",
      "output_dir: /data/petar/fgf1/resolve/xe/32810-1377-slide3_A1-1/\n",
      "\n",
      "STAGE 1: Converting baysor results to 10x cell_feature_matrix.\n",
      "Matrix dimensions: (540813, 3)\n",
      "Number of genes: 100\n",
      "Number of cells: 18987\n",
      "done.\n",
      "\n",
      "STAGE 2: Generating cell segmentations from Baysor transcript assignment.\n",
      "Calculating convex hulls for baysor segmentation.\n"
     ]
    },
    {
     "name": "stderr",
     "output_type": "stream",
     "text": [
      "100%|██████████| 18987/18987 [00:46<00:00, 409.51it/s]\n"
     ]
    },
    {
     "name": "stdout",
     "output_type": "stream",
     "text": [
      "Converting convex hulls to ROI table format.\n"
     ]
    },
    {
     "name": "stderr",
     "output_type": "stream",
     "text": [
      "100%|██████████| 18986/18986 [00:00<00:00, 173787.82it/s]\n"
     ]
    },
    {
     "name": "stdout",
     "output_type": "stream",
     "text": [
      "writing cell_boundaries.csv.gz\n",
      "done.\n",
      "\n",
      "STAGE 3: Converting ImageJ nucleus ROIs.\n",
      "done.\n",
      "\n",
      "STAGE 4: Mapping nuclei to cells.\n",
      "Calculating nucleus to cell mappings.\n",
      "Warning: Not enough coordinates for Cell1459_610_7949 to form a valid polygon.\n",
      "Warning: Not enough coordinates for Cell3258_10268_16926 to form a valid polygon.\n",
      "Building up rtree index of cells.\n"
     ]
    },
    {
     "name": "stderr",
     "output_type": "stream",
     "text": [
      "100%|██████████| 18986/18986 [00:04<00:00, 4574.83it/s]\n"
     ]
    },
    {
     "name": "stdout",
     "output_type": "stream",
     "text": [
      "Checking if nuclei are contained in cells.\n"
     ]
    },
    {
     "name": "stderr",
     "output_type": "stream",
     "text": [
      "100%|██████████| 3275/3275 [00:00<00:00, 3985.43it/s]\n"
     ]
    },
    {
     "name": "stdout",
     "output_type": "stream",
     "text": [
      "done.\n",
      "\n",
      "STAGE 5: Checking for transcripts in nuclei.\n",
      "Loading nucleus boundaries...\n",
      "Warning: Not enough coordinates for Cell1459_610_7949 to form a valid polygon.\n",
      "Warning: Not enough coordinates for Cell3258_10268_16926 to form a valid polygon.\n",
      "Loaded 3275 nuclei.\n",
      "Loading transcripts...\n",
      "Loaded 3282829 transcripts.\n",
      "Creating R-tree index...\n",
      "Warning: Not enough coordinates for Cell1459_610_7949 to form a valid polygon.\n",
      "Warning: Not enough coordinates for Cell3258_10268_16926 to form a valid polygon.\n",
      "Checking transcripts...\n"
     ]
    },
    {
     "name": "stderr",
     "output_type": "stream",
     "text": [
      "100%|██████████| 3282829/3282829 [04:43<00:00, 11588.37it/s]\n"
     ]
    },
    {
     "name": "stdout",
     "output_type": "stream",
     "text": [
      "writing transcripts.csv.gz\n",
      "done.\n",
      "\n",
      "STAGE 6: Writing cells.csv.gz\n",
      "Warning: Not enough coordinates for Cell1459_610_7949 to form a valid polygon.\n",
      "Warning: Not enough coordinates for Cell3258_10268_16926 to form a valid polygon.\n",
      "done.\n",
      "\n",
      "\n",
      "\n",
      "\n",
      "=============================================================\n",
      "processing: \n",
      "baysor_results_dir: /data/petar/fgf1/resolve/baysor_segmentation/32810-1377-slide3_D1-1_results_baysor_results/\n",
      "cellpose_roi_path: /data/petar/fgf1/resolve/rois/32810-1377-slide3_D1-1_DAPI_dapi_ROIs.zip\n",
      "output_dir: /data/petar/fgf1/resolve/xe/32810-1377-slide3_D1-1/\n",
      "\n",
      "STAGE 1: Converting baysor results to 10x cell_feature_matrix.\n",
      "Matrix dimensions: (448311, 3)\n",
      "Number of genes: 100\n",
      "Number of cells: 15509\n",
      "done.\n",
      "\n",
      "STAGE 2: Generating cell segmentations from Baysor transcript assignment.\n",
      "Calculating convex hulls for baysor segmentation.\n"
     ]
    },
    {
     "name": "stderr",
     "output_type": "stream",
     "text": [
      "100%|██████████| 15509/15509 [00:33<00:00, 459.02it/s]\n"
     ]
    },
    {
     "name": "stdout",
     "output_type": "stream",
     "text": [
      "Converting convex hulls to ROI table format.\n"
     ]
    },
    {
     "name": "stderr",
     "output_type": "stream",
     "text": [
      "100%|██████████| 15508/15508 [00:00<00:00, 267291.01it/s]\n"
     ]
    },
    {
     "name": "stdout",
     "output_type": "stream",
     "text": [
      "writing cell_boundaries.csv.gz\n",
      "done.\n",
      "\n",
      "STAGE 3: Converting ImageJ nucleus ROIs.\n",
      "done.\n",
      "\n",
      "STAGE 4: Mapping nuclei to cells.\n",
      "Calculating nucleus to cell mappings.\n",
      "Building up rtree index of cells.\n"
     ]
    },
    {
     "name": "stderr",
     "output_type": "stream",
     "text": [
      "100%|██████████| 15508/15508 [00:02<00:00, 5913.79it/s]\n"
     ]
    },
    {
     "name": "stdout",
     "output_type": "stream",
     "text": [
      "Checking if nuclei are contained in cells.\n"
     ]
    },
    {
     "name": "stderr",
     "output_type": "stream",
     "text": [
      "100%|██████████| 3754/3754 [00:00<00:00, 4554.11it/s]\n"
     ]
    },
    {
     "name": "stdout",
     "output_type": "stream",
     "text": [
      "done.\n",
      "\n",
      "STAGE 5: Checking for transcripts in nuclei.\n",
      "Loading nucleus boundaries...\n",
      "Loaded 3754 nuclei.\n",
      "Loading transcripts...\n",
      "Loaded 2646613 transcripts.\n",
      "Creating R-tree index...\n",
      "Checking transcripts...\n"
     ]
    },
    {
     "name": "stderr",
     "output_type": "stream",
     "text": [
      "100%|██████████| 2646613/2646613 [04:16<00:00, 10307.59it/s]\n"
     ]
    },
    {
     "name": "stdout",
     "output_type": "stream",
     "text": [
      "writing transcripts.csv.gz\n",
      "done.\n",
      "\n",
      "STAGE 6: Writing cells.csv.gz\n",
      "done.\n",
      "\n",
      "\n",
      "\n",
      "\n",
      "=============================================================\n",
      "processing: \n",
      "baysor_results_dir: /data/petar/fgf1/resolve/baysor_segmentation/32810-1377-slide3_B1-1_results_baysor_results/\n",
      "cellpose_roi_path: /data/petar/fgf1/resolve/rois/32810-1377-slide3_B1-1_DAPI_dapi_ROIs.zip\n",
      "output_dir: /data/petar/fgf1/resolve/xe/32810-1377-slide3_B1-1/\n",
      "\n",
      "STAGE 1: Converting baysor results to 10x cell_feature_matrix.\n",
      "Matrix dimensions: (390807, 3)\n",
      "Number of genes: 100\n",
      "Number of cells: 13408\n",
      "done.\n",
      "\n",
      "STAGE 2: Generating cell segmentations from Baysor transcript assignment.\n",
      "Calculating convex hulls for baysor segmentation.\n"
     ]
    },
    {
     "name": "stderr",
     "output_type": "stream",
     "text": [
      "100%|██████████| 13408/13408 [00:29<00:00, 447.25it/s]\n"
     ]
    },
    {
     "name": "stdout",
     "output_type": "stream",
     "text": [
      "Converting convex hulls to ROI table format.\n"
     ]
    },
    {
     "name": "stderr",
     "output_type": "stream",
     "text": [
      "100%|██████████| 13407/13407 [00:00<00:00, 186498.52it/s]\n"
     ]
    },
    {
     "name": "stdout",
     "output_type": "stream",
     "text": [
      "writing cell_boundaries.csv.gz\n",
      "done.\n",
      "\n",
      "STAGE 3: Converting ImageJ nucleus ROIs.\n",
      "done.\n",
      "\n",
      "STAGE 4: Mapping nuclei to cells.\n",
      "Calculating nucleus to cell mappings.\n",
      "Building up rtree index of cells.\n"
     ]
    },
    {
     "name": "stderr",
     "output_type": "stream",
     "text": [
      "100%|██████████| 13407/13407 [00:02<00:00, 5828.23it/s]\n"
     ]
    },
    {
     "name": "stdout",
     "output_type": "stream",
     "text": [
      "Checking if nuclei are contained in cells.\n"
     ]
    },
    {
     "name": "stderr",
     "output_type": "stream",
     "text": [
      "100%|██████████| 3520/3520 [00:00<00:00, 4664.70it/s]\n"
     ]
    },
    {
     "name": "stdout",
     "output_type": "stream",
     "text": [
      "done.\n",
      "\n",
      "STAGE 5: Checking for transcripts in nuclei.\n",
      "Loading nucleus boundaries...\n",
      "Loaded 3520 nuclei.\n",
      "Loading transcripts...\n",
      "Loaded 2417289 transcripts.\n",
      "Creating R-tree index...\n",
      "Checking transcripts...\n"
     ]
    },
    {
     "name": "stderr",
     "output_type": "stream",
     "text": [
      "100%|██████████| 2417289/2417289 [03:54<00:00, 10325.54it/s]\n"
     ]
    },
    {
     "name": "stdout",
     "output_type": "stream",
     "text": [
      "writing transcripts.csv.gz\n",
      "done.\n",
      "\n",
      "STAGE 6: Writing cells.csv.gz\n",
      "done.\n",
      "\n",
      "\n",
      "\n",
      "\n",
      "=============================================================\n",
      "processing: \n",
      "baysor_results_dir: /data/petar/fgf1/resolve/baysor_segmentation/32810-1377-slide3_C2-1_results_baysor_results/\n",
      "cellpose_roi_path: /data/petar/fgf1/resolve/rois/32810-1377-slide3_C2-1_DAPI_dapi_ROIs.zip\n",
      "output_dir: /data/petar/fgf1/resolve/xe/32810-1377-slide3_C2-1/\n",
      "\n",
      "STAGE 1: Converting baysor results to 10x cell_feature_matrix.\n",
      "Matrix dimensions: (327476, 3)\n",
      "Number of genes: 100\n",
      "Number of cells: 11988\n",
      "done.\n",
      "\n",
      "STAGE 2: Generating cell segmentations from Baysor transcript assignment.\n",
      "Calculating convex hulls for baysor segmentation.\n"
     ]
    },
    {
     "name": "stderr",
     "output_type": "stream",
     "text": [
      "100%|██████████| 11988/11988 [00:23<00:00, 504.22it/s] \n"
     ]
    },
    {
     "name": "stdout",
     "output_type": "stream",
     "text": [
      "Converting convex hulls to ROI table format.\n"
     ]
    },
    {
     "name": "stderr",
     "output_type": "stream",
     "text": [
      "100%|██████████| 11987/11987 [00:00<00:00, 188957.04it/s]\n"
     ]
    },
    {
     "name": "stdout",
     "output_type": "stream",
     "text": [
      "writing cell_boundaries.csv.gz\n",
      "done.\n",
      "\n",
      "STAGE 3: Converting ImageJ nucleus ROIs.\n",
      "done.\n",
      "\n",
      "STAGE 4: Mapping nuclei to cells.\n",
      "Calculating nucleus to cell mappings.\n",
      "Warning: Not enough coordinates for Cell1828_4619_8748 to form a valid polygon.\n",
      "Warning: Not enough coordinates for Cell1830_4619_8750 to form a valid polygon.\n",
      "Building up rtree index of cells.\n"
     ]
    },
    {
     "name": "stderr",
     "output_type": "stream",
     "text": [
      "100%|██████████| 11987/11987 [00:02<00:00, 4589.14it/s]\n"
     ]
    },
    {
     "name": "stdout",
     "output_type": "stream",
     "text": [
      "Checking if nuclei are contained in cells.\n"
     ]
    },
    {
     "name": "stderr",
     "output_type": "stream",
     "text": [
      "100%|██████████| 3512/3512 [00:01<00:00, 2905.16it/s]\n"
     ]
    },
    {
     "name": "stdout",
     "output_type": "stream",
     "text": [
      "done.\n",
      "\n",
      "STAGE 5: Checking for transcripts in nuclei.\n",
      "Loading nucleus boundaries...\n",
      "Warning: Not enough coordinates for Cell1828_4619_8748 to form a valid polygon.\n",
      "Warning: Not enough coordinates for Cell1830_4619_8750 to form a valid polygon.\n",
      "Loaded 3512 nuclei.\n",
      "Loading transcripts...\n",
      "Loaded 2001422 transcripts.\n",
      "Creating R-tree index...\n",
      "Warning: Not enough coordinates for Cell1828_4619_8748 to form a valid polygon.\n",
      "Warning: Not enough coordinates for Cell1830_4619_8750 to form a valid polygon.\n",
      "Checking transcripts...\n"
     ]
    },
    {
     "name": "stderr",
     "output_type": "stream",
     "text": [
      " 15%|█▌        | 308810/2001422 [00:34<02:15, 12467.92it/s]"
     ]
    }
   ],
   "source": [
    "for ns in namespace_list:\n",
    "    convert_resolve_to_xenium(ns)\n",
    "    print('')\n",
    "    print('')\n",
    "    print('')\n",
    "    print('=============================================================')"
   ]
  },
  {
   "cell_type": "code",
   "execution_count": 39,
   "id": "bde6199b",
   "metadata": {},
   "outputs": [
    {
     "data": {
      "text/plain": [
       "['32810-1377-slide3_A2-1',\n",
       " '32810-1377-slide3_B2-1',\n",
       " '32810-1377-slide3_D2-1',\n",
       " '32810-1377-slide3_C1-1',\n",
       " '32810-1377-slide3_A1-1',\n",
       " '32810-1377-slide3_D1-1',\n",
       " '32810-1377-slide3_B1-1',\n",
       " '32810-1377-slide3_C2-1']"
      ]
     },
     "execution_count": 39,
     "metadata": {},
     "output_type": "execute_result"
    }
   ],
   "source": [
    "sample_names"
   ]
  },
  {
   "cell_type": "code",
   "execution_count": 17,
   "id": "931a6197",
   "metadata": {},
   "outputs": [
    {
     "name": "stderr",
     "output_type": "stream",
     "text": [
      "usage: ipykernel_launcher.py [-h]\n",
      "                             baysor_results_dir cellpose_roi_path output_dir\n",
      "ipykernel_launcher.py: error: the following arguments are required: cellpose_roi_path, output_dir\n"
     ]
    },
    {
     "ename": "SystemExit",
     "evalue": "2",
     "output_type": "error",
     "traceback": [
      "An exception has occurred, use %tb to see the full traceback.\n",
      "\u001b[0;31mSystemExit\u001b[0m\u001b[0;31m:\u001b[0m 2\n"
     ]
    },
    {
     "name": "stderr",
     "output_type": "stream",
     "text": [
      "/tools/anaconda/envs/nmq407/fgf1/lib/python3.8/site-packages/IPython/core/interactiveshell.py:3406: UserWarning: To exit: use 'exit', 'quit', or Ctrl-D.\n",
      "  warn(\"To exit: use 'exit', 'quit', or Ctrl-D.\", stacklevel=1)\n"
     ]
    }
   ],
   "source": [
    "####\n",
    "###\n",
    "##\n",
    "#\n",
    "if __name__ == \"__main__\":\n",
    "    parser = argparse.ArgumentParser(description='Process input file to create a cell feature matrix.')\n",
    "    parser.add_argument('baysor_results_dir', type=str, help='path to baysor results directory')\n",
    "    parser.add_argument('cellpose_roi_path', type=str, help='path to cellpose ROI zip')\n",
    "    parser.add_argument('output_dir', type=str, help='path to output folder')\n",
    "    args = parser.parse_args()\n",
    "    convert_resolve_to_xenium(args)"
   ]
  },
  {
   "cell_type": "code",
   "execution_count": 33,
   "id": "6ac5d00e",
   "metadata": {},
   "outputs": [
    {
     "data": {
      "text/html": [
       "<div>\n",
       "<style scoped>\n",
       "    .dataframe tbody tr th:only-of-type {\n",
       "        vertical-align: middle;\n",
       "    }\n",
       "\n",
       "    .dataframe tbody tr th {\n",
       "        vertical-align: top;\n",
       "    }\n",
       "\n",
       "    .dataframe thead th {\n",
       "        text-align: right;\n",
       "    }\n",
       "</style>\n",
       "<table border=\"1\" class=\"dataframe\">\n",
       "  <thead>\n",
       "    <tr style=\"text-align: right;\">\n",
       "      <th></th>\n",
       "      <th>cell_id</th>\n",
       "      <th>x_centroid</th>\n",
       "      <th>y_centroid</th>\n",
       "      <th>transcript_counts</th>\n",
       "      <th>control_probe_counts</th>\n",
       "      <th>control_codeword_counts</th>\n",
       "      <th>total_counts</th>\n",
       "      <th>cell_area</th>\n",
       "      <th>nucleus_id</th>\n",
       "      <th>nucleus_area</th>\n",
       "    </tr>\n",
       "  </thead>\n",
       "  <tbody>\n",
       "    <tr>\n",
       "      <th>0</th>\n",
       "      <td>Cell106_3665_1929</td>\n",
       "      <td>3665.324324</td>\n",
       "      <td>1928.750000</td>\n",
       "      <td>148</td>\n",
       "      <td>0</td>\n",
       "      <td>0</td>\n",
       "      <td>148</td>\n",
       "      <td>2949.0</td>\n",
       "      <td>Cell159_3638_1964</td>\n",
       "      <td>1656.5</td>\n",
       "    </tr>\n",
       "    <tr>\n",
       "      <th>1</th>\n",
       "      <td>Cell109_3635_1962</td>\n",
       "      <td>3635.379487</td>\n",
       "      <td>1961.594872</td>\n",
       "      <td>195</td>\n",
       "      <td>0</td>\n",
       "      <td>0</td>\n",
       "      <td>195</td>\n",
       "      <td>3644.0</td>\n",
       "      <td>Cell159_3638_1964</td>\n",
       "      <td>1656.5</td>\n",
       "    </tr>\n",
       "    <tr>\n",
       "      <th>2</th>\n",
       "      <td>Cell263_4658_2233</td>\n",
       "      <td>4657.504545</td>\n",
       "      <td>2233.079545</td>\n",
       "      <td>440</td>\n",
       "      <td>0</td>\n",
       "      <td>0</td>\n",
       "      <td>440</td>\n",
       "      <td>6012.0</td>\n",
       "      <td>Cell190_4705_2266</td>\n",
       "      <td>1438.5</td>\n",
       "    </tr>\n",
       "    <tr>\n",
       "      <th>3</th>\n",
       "      <td>Cell342_1627_5709</td>\n",
       "      <td>1627.155102</td>\n",
       "      <td>5708.538776</td>\n",
       "      <td>245</td>\n",
       "      <td>0</td>\n",
       "      <td>0</td>\n",
       "      <td>245</td>\n",
       "      <td>5162.0</td>\n",
       "      <td>Cell602_1653_5775</td>\n",
       "      <td>1575.0</td>\n",
       "    </tr>\n",
       "    <tr>\n",
       "      <th>4</th>\n",
       "      <td>Cell354_1772_5621</td>\n",
       "      <td>1772.475177</td>\n",
       "      <td>5620.907801</td>\n",
       "      <td>282</td>\n",
       "      <td>0</td>\n",
       "      <td>0</td>\n",
       "      <td>282</td>\n",
       "      <td>4098.0</td>\n",
       "      <td>Cell580_1794_5657</td>\n",
       "      <td>911.0</td>\n",
       "    </tr>\n",
       "    <tr>\n",
       "      <th>...</th>\n",
       "      <td>...</td>\n",
       "      <td>...</td>\n",
       "      <td>...</td>\n",
       "      <td>...</td>\n",
       "      <td>...</td>\n",
       "      <td>...</td>\n",
       "      <td>...</td>\n",
       "      <td>...</td>\n",
       "      <td>...</td>\n",
       "      <td>...</td>\n",
       "    </tr>\n",
       "    <tr>\n",
       "      <th>73</th>\n",
       "      <td>Cell6731_10336_15868</td>\n",
       "      <td>10336.296296</td>\n",
       "      <td>15868.500000</td>\n",
       "      <td>54</td>\n",
       "      <td>0</td>\n",
       "      <td>0</td>\n",
       "      <td>54</td>\n",
       "      <td>1634.0</td>\n",
       "      <td>Cell2312_10329_15878</td>\n",
       "      <td>2513.0</td>\n",
       "    </tr>\n",
       "    <tr>\n",
       "      <th>74</th>\n",
       "      <td>Cell6807_1622_5808</td>\n",
       "      <td>1622.159664</td>\n",
       "      <td>5807.882353</td>\n",
       "      <td>119</td>\n",
       "      <td>0</td>\n",
       "      <td>0</td>\n",
       "      <td>119</td>\n",
       "      <td>2460.0</td>\n",
       "      <td>Cell621_1627_5854</td>\n",
       "      <td>3360.5</td>\n",
       "    </tr>\n",
       "    <tr>\n",
       "      <th>75</th>\n",
       "      <td>Cell8430_10242_12537</td>\n",
       "      <td>10242.000000</td>\n",
       "      <td>12536.666667</td>\n",
       "      <td>9</td>\n",
       "      <td>0</td>\n",
       "      <td>0</td>\n",
       "      <td>9</td>\n",
       "      <td>110.0</td>\n",
       "      <td>Cell1918_10257_12567</td>\n",
       "      <td>2888.5</td>\n",
       "    </tr>\n",
       "    <tr>\n",
       "      <th>76</th>\n",
       "      <td>Cell8500_5892_7033</td>\n",
       "      <td>5891.888889</td>\n",
       "      <td>7033.027778</td>\n",
       "      <td>36</td>\n",
       "      <td>0</td>\n",
       "      <td>0</td>\n",
       "      <td>36</td>\n",
       "      <td>1506.0</td>\n",
       "      <td>Cell808_5877_7029</td>\n",
       "      <td>2249.5</td>\n",
       "    </tr>\n",
       "    <tr>\n",
       "      <th>77</th>\n",
       "      <td>Cell9924_8988_8908</td>\n",
       "      <td>8987.721311</td>\n",
       "      <td>8907.704918</td>\n",
       "      <td>61</td>\n",
       "      <td>0</td>\n",
       "      <td>0</td>\n",
       "      <td>61</td>\n",
       "      <td>2123.0</td>\n",
       "      <td>Cell1202_9008_8921</td>\n",
       "      <td>1567.0</td>\n",
       "    </tr>\n",
       "  </tbody>\n",
       "</table>\n",
       "<p>78 rows × 10 columns</p>\n",
       "</div>"
      ],
      "text/plain": [
       "                 cell_id    x_centroid    y_centroid  transcript_counts  \\\n",
       "0      Cell106_3665_1929   3665.324324   1928.750000                148   \n",
       "1      Cell109_3635_1962   3635.379487   1961.594872                195   \n",
       "2      Cell263_4658_2233   4657.504545   2233.079545                440   \n",
       "3      Cell342_1627_5709   1627.155102   5708.538776                245   \n",
       "4      Cell354_1772_5621   1772.475177   5620.907801                282   \n",
       "..                   ...           ...           ...                ...   \n",
       "73  Cell6731_10336_15868  10336.296296  15868.500000                 54   \n",
       "74    Cell6807_1622_5808   1622.159664   5807.882353                119   \n",
       "75  Cell8430_10242_12537  10242.000000  12536.666667                  9   \n",
       "76    Cell8500_5892_7033   5891.888889   7033.027778                 36   \n",
       "77    Cell9924_8988_8908   8987.721311   8907.704918                 61   \n",
       "\n",
       "    control_probe_counts  control_codeword_counts  total_counts  cell_area  \\\n",
       "0                      0                        0           148     2949.0   \n",
       "1                      0                        0           195     3644.0   \n",
       "2                      0                        0           440     6012.0   \n",
       "3                      0                        0           245     5162.0   \n",
       "4                      0                        0           282     4098.0   \n",
       "..                   ...                      ...           ...        ...   \n",
       "73                     0                        0            54     1634.0   \n",
       "74                     0                        0           119     2460.0   \n",
       "75                     0                        0             9      110.0   \n",
       "76                     0                        0            36     1506.0   \n",
       "77                     0                        0            61     2123.0   \n",
       "\n",
       "              nucleus_id  nucleus_area  \n",
       "0      Cell159_3638_1964        1656.5  \n",
       "1      Cell159_3638_1964        1656.5  \n",
       "2      Cell190_4705_2266        1438.5  \n",
       "3      Cell602_1653_5775        1575.0  \n",
       "4      Cell580_1794_5657         911.0  \n",
       "..                   ...           ...  \n",
       "73  Cell2312_10329_15878        2513.0  \n",
       "74     Cell621_1627_5854        3360.5  \n",
       "75  Cell1918_10257_12567        2888.5  \n",
       "76     Cell808_5877_7029        2249.5  \n",
       "77    Cell1202_9008_8921        1567.0  \n",
       "\n",
       "[78 rows x 10 columns]"
      ]
     },
     "execution_count": 33,
     "metadata": {},
     "output_type": "execute_result"
    }
   ],
   "source": [
    "cells_df = pd.read_csv('/data/petar/fgf1/resolve/xe/32810-1377-slide3_A2-1/cells.csv.gz')\n",
    "cells_df"
   ]
  },
  {
   "cell_type": "code",
   "execution_count": 34,
   "id": "b739068e",
   "metadata": {},
   "outputs": [
    {
     "data": {
      "text/plain": [
       "Index(['cell_id', 'x_centroid', 'y_centroid', 'transcript_counts',\n",
       "       'control_probe_counts', 'control_codeword_counts', 'total_counts',\n",
       "       'cell_area', 'nucleus_id', 'nucleus_area'],\n",
       "      dtype='object')"
      ]
     },
     "execution_count": 34,
     "metadata": {},
     "output_type": "execute_result"
    }
   ],
   "source": [
    "cells_df.columns"
   ]
  },
  {
   "cell_type": "code",
   "execution_count": 35,
   "id": "c1be7bb6",
   "metadata": {},
   "outputs": [
    {
     "data": {
      "text/html": [
       "<div>\n",
       "<style scoped>\n",
       "    .dataframe tbody tr th:only-of-type {\n",
       "        vertical-align: middle;\n",
       "    }\n",
       "\n",
       "    .dataframe tbody tr th {\n",
       "        vertical-align: top;\n",
       "    }\n",
       "\n",
       "    .dataframe thead th {\n",
       "        text-align: right;\n",
       "    }\n",
       "</style>\n",
       "<table border=\"1\" class=\"dataframe\">\n",
       "  <thead>\n",
       "    <tr style=\"text-align: right;\">\n",
       "      <th></th>\n",
       "      <th>cell_id</th>\n",
       "      <th>x_centroid</th>\n",
       "      <th>y_centroid</th>\n",
       "      <th>transcript_counts</th>\n",
       "      <th>control_probe_counts</th>\n",
       "      <th>control_codeword_counts</th>\n",
       "      <th>total_counts</th>\n",
       "      <th>cell_area</th>\n",
       "      <th>nucleus_id</th>\n",
       "      <th>nucleus_area</th>\n",
       "    </tr>\n",
       "  </thead>\n",
       "  <tbody>\n",
       "    <tr>\n",
       "      <th>0</th>\n",
       "      <td>Cell106_3665_1929</td>\n",
       "      <td>3665.324324</td>\n",
       "      <td>1928.750000</td>\n",
       "      <td>148</td>\n",
       "      <td>0</td>\n",
       "      <td>0</td>\n",
       "      <td>148</td>\n",
       "      <td>2949.0</td>\n",
       "      <td>Cell159_3638_1964</td>\n",
       "      <td>1656.5</td>\n",
       "    </tr>\n",
       "    <tr>\n",
       "      <th>1</th>\n",
       "      <td>Cell109_3635_1962</td>\n",
       "      <td>3635.379487</td>\n",
       "      <td>1961.594872</td>\n",
       "      <td>195</td>\n",
       "      <td>0</td>\n",
       "      <td>0</td>\n",
       "      <td>195</td>\n",
       "      <td>3644.0</td>\n",
       "      <td>Cell159_3638_1964</td>\n",
       "      <td>1656.5</td>\n",
       "    </tr>\n",
       "    <tr>\n",
       "      <th>2</th>\n",
       "      <td>Cell263_4658_2233</td>\n",
       "      <td>4657.504545</td>\n",
       "      <td>2233.079545</td>\n",
       "      <td>440</td>\n",
       "      <td>0</td>\n",
       "      <td>0</td>\n",
       "      <td>440</td>\n",
       "      <td>6012.0</td>\n",
       "      <td>Cell190_4705_2266</td>\n",
       "      <td>1438.5</td>\n",
       "    </tr>\n",
       "    <tr>\n",
       "      <th>3</th>\n",
       "      <td>Cell342_1627_5709</td>\n",
       "      <td>1627.155102</td>\n",
       "      <td>5708.538776</td>\n",
       "      <td>245</td>\n",
       "      <td>0</td>\n",
       "      <td>0</td>\n",
       "      <td>245</td>\n",
       "      <td>5162.0</td>\n",
       "      <td>Cell602_1653_5775</td>\n",
       "      <td>1575.0</td>\n",
       "    </tr>\n",
       "    <tr>\n",
       "      <th>4</th>\n",
       "      <td>Cell354_1772_5621</td>\n",
       "      <td>1772.475177</td>\n",
       "      <td>5620.907801</td>\n",
       "      <td>282</td>\n",
       "      <td>0</td>\n",
       "      <td>0</td>\n",
       "      <td>282</td>\n",
       "      <td>4098.0</td>\n",
       "      <td>Cell580_1794_5657</td>\n",
       "      <td>911.0</td>\n",
       "    </tr>\n",
       "    <tr>\n",
       "      <th>...</th>\n",
       "      <td>...</td>\n",
       "      <td>...</td>\n",
       "      <td>...</td>\n",
       "      <td>...</td>\n",
       "      <td>...</td>\n",
       "      <td>...</td>\n",
       "      <td>...</td>\n",
       "      <td>...</td>\n",
       "      <td>...</td>\n",
       "      <td>...</td>\n",
       "    </tr>\n",
       "    <tr>\n",
       "      <th>73</th>\n",
       "      <td>Cell6731_10336_15868</td>\n",
       "      <td>10336.296296</td>\n",
       "      <td>15868.500000</td>\n",
       "      <td>54</td>\n",
       "      <td>0</td>\n",
       "      <td>0</td>\n",
       "      <td>54</td>\n",
       "      <td>1634.0</td>\n",
       "      <td>Cell2312_10329_15878</td>\n",
       "      <td>2513.0</td>\n",
       "    </tr>\n",
       "    <tr>\n",
       "      <th>74</th>\n",
       "      <td>Cell6807_1622_5808</td>\n",
       "      <td>1622.159664</td>\n",
       "      <td>5807.882353</td>\n",
       "      <td>119</td>\n",
       "      <td>0</td>\n",
       "      <td>0</td>\n",
       "      <td>119</td>\n",
       "      <td>2460.0</td>\n",
       "      <td>Cell621_1627_5854</td>\n",
       "      <td>3360.5</td>\n",
       "    </tr>\n",
       "    <tr>\n",
       "      <th>75</th>\n",
       "      <td>Cell8430_10242_12537</td>\n",
       "      <td>10242.000000</td>\n",
       "      <td>12536.666667</td>\n",
       "      <td>9</td>\n",
       "      <td>0</td>\n",
       "      <td>0</td>\n",
       "      <td>9</td>\n",
       "      <td>110.0</td>\n",
       "      <td>Cell1918_10257_12567</td>\n",
       "      <td>2888.5</td>\n",
       "    </tr>\n",
       "    <tr>\n",
       "      <th>76</th>\n",
       "      <td>Cell8500_5892_7033</td>\n",
       "      <td>5891.888889</td>\n",
       "      <td>7033.027778</td>\n",
       "      <td>36</td>\n",
       "      <td>0</td>\n",
       "      <td>0</td>\n",
       "      <td>36</td>\n",
       "      <td>1506.0</td>\n",
       "      <td>Cell808_5877_7029</td>\n",
       "      <td>2249.5</td>\n",
       "    </tr>\n",
       "    <tr>\n",
       "      <th>77</th>\n",
       "      <td>Cell9924_8988_8908</td>\n",
       "      <td>8987.721311</td>\n",
       "      <td>8907.704918</td>\n",
       "      <td>61</td>\n",
       "      <td>0</td>\n",
       "      <td>0</td>\n",
       "      <td>61</td>\n",
       "      <td>2123.0</td>\n",
       "      <td>Cell1202_9008_8921</td>\n",
       "      <td>1567.0</td>\n",
       "    </tr>\n",
       "  </tbody>\n",
       "</table>\n",
       "<p>76 rows × 10 columns</p>\n",
       "</div>"
      ],
      "text/plain": [
       "                 cell_id    x_centroid    y_centroid  transcript_counts  \\\n",
       "0      Cell106_3665_1929   3665.324324   1928.750000                148   \n",
       "1      Cell109_3635_1962   3635.379487   1961.594872                195   \n",
       "2      Cell263_4658_2233   4657.504545   2233.079545                440   \n",
       "3      Cell342_1627_5709   1627.155102   5708.538776                245   \n",
       "4      Cell354_1772_5621   1772.475177   5620.907801                282   \n",
       "..                   ...           ...           ...                ...   \n",
       "73  Cell6731_10336_15868  10336.296296  15868.500000                 54   \n",
       "74    Cell6807_1622_5808   1622.159664   5807.882353                119   \n",
       "75  Cell8430_10242_12537  10242.000000  12536.666667                  9   \n",
       "76    Cell8500_5892_7033   5891.888889   7033.027778                 36   \n",
       "77    Cell9924_8988_8908   8987.721311   8907.704918                 61   \n",
       "\n",
       "    control_probe_counts  control_codeword_counts  total_counts  cell_area  \\\n",
       "0                      0                        0           148     2949.0   \n",
       "1                      0                        0           195     3644.0   \n",
       "2                      0                        0           440     6012.0   \n",
       "3                      0                        0           245     5162.0   \n",
       "4                      0                        0           282     4098.0   \n",
       "..                   ...                      ...           ...        ...   \n",
       "73                     0                        0            54     1634.0   \n",
       "74                     0                        0           119     2460.0   \n",
       "75                     0                        0             9      110.0   \n",
       "76                     0                        0            36     1506.0   \n",
       "77                     0                        0            61     2123.0   \n",
       "\n",
       "              nucleus_id  nucleus_area  \n",
       "0      Cell159_3638_1964        1656.5  \n",
       "1      Cell159_3638_1964        1656.5  \n",
       "2      Cell190_4705_2266        1438.5  \n",
       "3      Cell602_1653_5775        1575.0  \n",
       "4      Cell580_1794_5657         911.0  \n",
       "..                   ...           ...  \n",
       "73  Cell2312_10329_15878        2513.0  \n",
       "74     Cell621_1627_5854        3360.5  \n",
       "75  Cell1918_10257_12567        2888.5  \n",
       "76     Cell808_5877_7029        2249.5  \n",
       "77    Cell1202_9008_8921        1567.0  \n",
       "\n",
       "[76 rows x 10 columns]"
      ]
     },
     "execution_count": 35,
     "metadata": {},
     "output_type": "execute_result"
    }
   ],
   "source": [
    "subset_cols = ['cell_id']\n",
    "duplicates = cells_df[~cells_df.duplicated(subset=subset_cols, keep=False)]\n",
    "duplicates"
   ]
  },
  {
   "cell_type": "code",
   "execution_count": 22,
   "id": "cc0f58db",
   "metadata": {},
   "outputs": [
    {
     "data": {
      "text/plain": [
       "197"
      ]
     },
     "execution_count": 22,
     "metadata": {},
     "output_type": "execute_result"
    }
   ],
   "source": [
    "len(duplicates['cell_id'].unique().tolist())"
   ]
  },
  {
   "cell_type": "code",
   "execution_count": 23,
   "id": "9fdfd74e",
   "metadata": {},
   "outputs": [
    {
     "data": {
      "text/html": [
       "<div>\n",
       "<style scoped>\n",
       "    .dataframe tbody tr th:only-of-type {\n",
       "        vertical-align: middle;\n",
       "    }\n",
       "\n",
       "    .dataframe tbody tr th {\n",
       "        vertical-align: top;\n",
       "    }\n",
       "\n",
       "    .dataframe thead th {\n",
       "        text-align: right;\n",
       "    }\n",
       "</style>\n",
       "<table border=\"1\" class=\"dataframe\">\n",
       "  <thead>\n",
       "    <tr style=\"text-align: right;\">\n",
       "      <th></th>\n",
       "      <th>transcript_id</th>\n",
       "      <th>cell_id</th>\n",
       "      <th>overlaps_nucleus</th>\n",
       "      <th>feature_name</th>\n",
       "      <th>x_location</th>\n",
       "      <th>y_location</th>\n",
       "      <th>z_location</th>\n",
       "      <th>qv</th>\n",
       "    </tr>\n",
       "  </thead>\n",
       "  <tbody>\n",
       "    <tr>\n",
       "      <th>0</th>\n",
       "      <td>1</td>\n",
       "      <td>0</td>\n",
       "      <td>False</td>\n",
       "      <td>Sorcs1</td>\n",
       "      <td>4033.0</td>\n",
       "      <td>800.0</td>\n",
       "      <td>0</td>\n",
       "      <td>42.0</td>\n",
       "    </tr>\n",
       "    <tr>\n",
       "      <th>1</th>\n",
       "      <td>2</td>\n",
       "      <td>0</td>\n",
       "      <td>False</td>\n",
       "      <td>Sorcs1</td>\n",
       "      <td>2836.0</td>\n",
       "      <td>1866.0</td>\n",
       "      <td>0</td>\n",
       "      <td>42.0</td>\n",
       "    </tr>\n",
       "    <tr>\n",
       "      <th>2</th>\n",
       "      <td>3</td>\n",
       "      <td>Cell10803_2921_1834</td>\n",
       "      <td>False</td>\n",
       "      <td>Sorcs1</td>\n",
       "      <td>2929.0</td>\n",
       "      <td>1832.0</td>\n",
       "      <td>0</td>\n",
       "      <td>42.0</td>\n",
       "    </tr>\n",
       "    <tr>\n",
       "      <th>3</th>\n",
       "      <td>4</td>\n",
       "      <td>Cell68_3306_1405</td>\n",
       "      <td>False</td>\n",
       "      <td>Sorcs1</td>\n",
       "      <td>3286.0</td>\n",
       "      <td>1391.0</td>\n",
       "      <td>0</td>\n",
       "      <td>42.0</td>\n",
       "    </tr>\n",
       "    <tr>\n",
       "      <th>4</th>\n",
       "      <td>5</td>\n",
       "      <td>Cell68_3306_1405</td>\n",
       "      <td>True</td>\n",
       "      <td>Sorcs1</td>\n",
       "      <td>3337.0</td>\n",
       "      <td>1390.0</td>\n",
       "      <td>0</td>\n",
       "      <td>42.0</td>\n",
       "    </tr>\n",
       "    <tr>\n",
       "      <th>...</th>\n",
       "      <td>...</td>\n",
       "      <td>...</td>\n",
       "      <td>...</td>\n",
       "      <td>...</td>\n",
       "      <td>...</td>\n",
       "      <td>...</td>\n",
       "      <td>...</td>\n",
       "      <td>...</td>\n",
       "    </tr>\n",
       "    <tr>\n",
       "      <th>2417284</th>\n",
       "      <td>2417285</td>\n",
       "      <td>Cell7164_10081_16865</td>\n",
       "      <td>False</td>\n",
       "      <td>Immp2l</td>\n",
       "      <td>10091.0</td>\n",
       "      <td>16900.0</td>\n",
       "      <td>0</td>\n",
       "      <td>42.0</td>\n",
       "    </tr>\n",
       "    <tr>\n",
       "      <th>2417285</th>\n",
       "      <td>2417286</td>\n",
       "      <td>0</td>\n",
       "      <td>False</td>\n",
       "      <td>Immp2l</td>\n",
       "      <td>10387.0</td>\n",
       "      <td>15973.0</td>\n",
       "      <td>0</td>\n",
       "      <td>42.0</td>\n",
       "    </tr>\n",
       "    <tr>\n",
       "      <th>2417286</th>\n",
       "      <td>2417287</td>\n",
       "      <td>0</td>\n",
       "      <td>False</td>\n",
       "      <td>Immp2l</td>\n",
       "      <td>10540.0</td>\n",
       "      <td>16426.0</td>\n",
       "      <td>0</td>\n",
       "      <td>42.0</td>\n",
       "    </tr>\n",
       "    <tr>\n",
       "      <th>2417287</th>\n",
       "      <td>2417288</td>\n",
       "      <td>Cell7164_10081_16865</td>\n",
       "      <td>False</td>\n",
       "      <td>Immp2l</td>\n",
       "      <td>10107.0</td>\n",
       "      <td>16889.0</td>\n",
       "      <td>0</td>\n",
       "      <td>42.0</td>\n",
       "    </tr>\n",
       "    <tr>\n",
       "      <th>2417288</th>\n",
       "      <td>2417289</td>\n",
       "      <td>Cell7180_10165_17122</td>\n",
       "      <td>False</td>\n",
       "      <td>Immp2l</td>\n",
       "      <td>10166.0</td>\n",
       "      <td>17100.0</td>\n",
       "      <td>0</td>\n",
       "      <td>42.0</td>\n",
       "    </tr>\n",
       "  </tbody>\n",
       "</table>\n",
       "<p>2417289 rows × 8 columns</p>\n",
       "</div>"
      ],
      "text/plain": [
       "         transcript_id               cell_id  overlaps_nucleus feature_name  \\\n",
       "0                    1                     0             False       Sorcs1   \n",
       "1                    2                     0             False       Sorcs1   \n",
       "2                    3   Cell10803_2921_1834             False       Sorcs1   \n",
       "3                    4      Cell68_3306_1405             False       Sorcs1   \n",
       "4                    5      Cell68_3306_1405              True       Sorcs1   \n",
       "...                ...                   ...               ...          ...   \n",
       "2417284        2417285  Cell7164_10081_16865             False       Immp2l   \n",
       "2417285        2417286                     0             False       Immp2l   \n",
       "2417286        2417287                     0             False       Immp2l   \n",
       "2417287        2417288  Cell7164_10081_16865             False       Immp2l   \n",
       "2417288        2417289  Cell7180_10165_17122             False       Immp2l   \n",
       "\n",
       "         x_location  y_location  z_location    qv  \n",
       "0            4033.0       800.0           0  42.0  \n",
       "1            2836.0      1866.0           0  42.0  \n",
       "2            2929.0      1832.0           0  42.0  \n",
       "3            3286.0      1391.0           0  42.0  \n",
       "4            3337.0      1390.0           0  42.0  \n",
       "...             ...         ...         ...   ...  \n",
       "2417284     10091.0     16900.0           0  42.0  \n",
       "2417285     10387.0     15973.0           0  42.0  \n",
       "2417286     10540.0     16426.0           0  42.0  \n",
       "2417287     10107.0     16889.0           0  42.0  \n",
       "2417288     10166.0     17100.0           0  42.0  \n",
       "\n",
       "[2417289 rows x 8 columns]"
      ]
     },
     "execution_count": 23,
     "metadata": {},
     "output_type": "execute_result"
    }
   ],
   "source": [
    "pd.read_csv('/data/petar/fgf1/resolve/xe/32810-1377-slide3_B1-1/transcripts.csv.gz')"
   ]
  },
  {
   "cell_type": "code",
   "execution_count": 41,
   "id": "03457380",
   "metadata": {},
   "outputs": [
    {
     "data": {
      "text/plain": [
       "ModuleSpec(name='gzip', loader=<_frozen_importlib_external.SourceFileLoader object at 0x7f697eed9820>, origin='/tools/anaconda/envs/nmq407/fgf1/lib/python3.8/gzip.py')"
      ]
     },
     "execution_count": 41,
     "metadata": {},
     "output_type": "execute_result"
    }
   ],
   "source": [
    "gzip.__spec__"
   ]
  },
  {
   "cell_type": "code",
   "execution_count": null,
   "id": "540a28c7",
   "metadata": {},
   "outputs": [],
   "source": []
  }
 ],
 "metadata": {
  "kernelspec": {
   "display_name": "Python [conda env:fgf1]",
   "language": "python",
   "name": "conda-env-fgf1-py"
  },
  "language_info": {
   "codemirror_mode": {
    "name": "ipython",
    "version": 3
   },
   "file_extension": ".py",
   "mimetype": "text/x-python",
   "name": "python",
   "nbconvert_exporter": "python",
   "pygments_lexer": "ipython3",
   "version": "3.8.13"
  }
 },
 "nbformat": 4,
 "nbformat_minor": 5
}
