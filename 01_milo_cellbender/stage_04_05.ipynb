{
 "cells": [
  {
   "cell_type": "code",
   "execution_count": 31,
   "id": "198d6d84",
   "metadata": {},
   "outputs": [],
   "source": [
    "library(tidyverse)\n",
    "library(targets)\n",
    "library(tarchetypes)"
   ]
  },
  {
   "cell_type": "code",
   "execution_count": 32,
   "id": "c1872b51",
   "metadata": {
    "scrolled": true
   },
   "outputs": [
    {
     "data": {
      "text/html": [
       "<table class=\"dataframe\">\n",
       "<caption>A tibble: 0 × 13</caption>\n",
       "<thead>\n",
       "\t<tr><th scope=col>labels</th><th scope=col>n_total</th><th scope=col>n_fgf1</th><th scope=col>n_fgf1.pos</th><th scope=col>n_fgf1.neg</th><th scope=col>prop_fgf1.pos</th><th scope=col>n_BL6</th><th scope=col>n_restored</th><th scope=col>n_restored.pos</th><th scope=col>n_restored.neg</th><th scope=col>prop_restored_BL6</th><th scope=col>prop_restored_FGF1</th><th scope=col>comparison</th></tr>\n",
       "\t<tr><th scope=col>&lt;chr&gt;</th><th scope=col>&lt;int&gt;</th><th scope=col>&lt;int&gt;</th><th scope=col>&lt;int&gt;</th><th scope=col>&lt;int&gt;</th><th scope=col>&lt;dbl&gt;</th><th scope=col>&lt;int&gt;</th><th scope=col>&lt;int&gt;</th><th scope=col>&lt;int&gt;</th><th scope=col>&lt;int&gt;</th><th scope=col>&lt;dbl&gt;</th><th scope=col>&lt;dbl&gt;</th><th scope=col>&lt;chr&gt;</th></tr>\n",
       "</thead>\n",
       "<tbody>\n",
       "</tbody>\n",
       "</table>\n"
      ],
      "text/latex": [
       "A tibble: 0 × 13\n",
       "\\begin{tabular}{lllllllllllll}\n",
       " labels & n\\_total & n\\_fgf1 & n\\_fgf1.pos & n\\_fgf1.neg & prop\\_fgf1.pos & n\\_BL6 & n\\_restored & n\\_restored.pos & n\\_restored.neg & prop\\_restored\\_BL6 & prop\\_restored\\_FGF1 & comparison\\\\\n",
       " <chr> & <int> & <int> & <int> & <int> & <dbl> & <int> & <int> & <int> & <int> & <dbl> & <dbl> & <chr>\\\\\n",
       "\\hline\n",
       "\\end{tabular}\n"
      ],
      "text/markdown": [
       "\n",
       "A tibble: 0 × 13\n",
       "\n",
       "| labels &lt;chr&gt; | n_total &lt;int&gt; | n_fgf1 &lt;int&gt; | n_fgf1.pos &lt;int&gt; | n_fgf1.neg &lt;int&gt; | prop_fgf1.pos &lt;dbl&gt; | n_BL6 &lt;int&gt; | n_restored &lt;int&gt; | n_restored.pos &lt;int&gt; | n_restored.neg &lt;int&gt; | prop_restored_BL6 &lt;dbl&gt; | prop_restored_FGF1 &lt;dbl&gt; | comparison &lt;chr&gt; |\n",
       "|---|---|---|---|---|---|---|---|---|---|---|---|---|\n",
       "\n"
      ],
      "text/plain": [
       "     labels n_total n_fgf1 n_fgf1.pos n_fgf1.neg prop_fgf1.pos n_BL6 n_restored\n",
       "     n_restored.pos n_restored.neg prop_restored_BL6 prop_restored_FGF1\n",
       "     comparison"
      ]
     },
     "metadata": {},
     "output_type": "display_data"
    }
   ],
   "source": [
    "all_restored_summary = qs::qread('_targets/objects/all_restored_summary')\n",
    "all_restored_summary %>% filter(comparison == 'all.obob5v5__v__all.obobBL6') %>% arrange(desc(n_fgf1)) "
   ]
  },
  {
   "cell_type": "code",
   "execution_count": 33,
   "id": "be93e350",
   "metadata": {},
   "outputs": [],
   "source": [
    "make_tags = function(all_restored_summary){\n",
    "   all_restored_summary %>%\n",
    "    rowwise %>%\n",
    "    mutate(fgf1_tag = str_split(comparison, '__v__', n=2)[[1]][1]) %>% \n",
    "    mutate(bl6_tag = str_split(comparison, '__v__', n=2)[[1]][2]) %>%\n",
    "    mutate(fgf1_day = str_split(fgf1_tag, fixed('.'), n=2)[[1]][1]) %>% \n",
    "    mutate(bl6_day = str_split(bl6_tag, fixed('.'), n=2)[[1]][1]) %>%\n",
    "    mutate(fgf1_tag = str_split(fgf1_tag , fixed('.'), n=2)[[1]][2]) %>% \n",
    "    mutate(bl6_tag = str_split(bl6_tag , fixed('.'), n=2)[[1]][2]) %>%\n",
    "    ungroup\n",
    "} "
   ]
  },
  {
   "cell_type": "code",
   "execution_count": 34,
   "id": "0394f6a9",
   "metadata": {},
   "outputs": [
    {
     "data": {
      "text/html": [
       "<table class=\"dataframe\">\n",
       "<caption>A tibble: 3 × 8</caption>\n",
       "<thead>\n",
       "\t<tr><th scope=col>labels</th><th scope=col>comparison</th><th scope=col>fgf1_tag</th><th scope=col>bl6_tag</th><th scope=col>fgf1_day</th><th scope=col>bl6_day</th><th scope=col>nhood_grouping</th><th scope=col>grouping_polarity</th></tr>\n",
       "\t<tr><th scope=col>&lt;chr&gt;</th><th scope=col>&lt;chr&gt;</th><th scope=col>&lt;chr&gt;</th><th scope=col>&lt;chr&gt;</th><th scope=col>&lt;chr&gt;</th><th scope=col>&lt;chr&gt;</th><th scope=col>&lt;chr&gt;</th><th scope=col>&lt;chr&gt;</th></tr>\n",
       "</thead>\n",
       "<tbody>\n",
       "\t<tr><td>Astrocytes</td><td>Day5.obob5v5__v__Day5.obobBL6d5</td><td>obob5v5</td><td>obobBL6d5</td><td>Day5</td><td>Day5</td><td>restored_grouping</td><td>neg_restored</td></tr>\n",
       "\t<tr><td>g2        </td><td>Day5.obob5v5__v__Day5.obobBL6d5</td><td>obob5v5</td><td>obobBL6d5</td><td>Day5</td><td>Day5</td><td>restored_grouping</td><td>neg_restored</td></tr>\n",
       "\t<tr><td>n1        </td><td>Day5.obob5v5__v__Day5.obobBL6d5</td><td>obob5v5</td><td>obobBL6d5</td><td>Day5</td><td>Day5</td><td>restored_grouping</td><td>neg_restored</td></tr>\n",
       "</tbody>\n",
       "</table>\n"
      ],
      "text/latex": [
       "A tibble: 3 × 8\n",
       "\\begin{tabular}{llllllll}\n",
       " labels & comparison & fgf1\\_tag & bl6\\_tag & fgf1\\_day & bl6\\_day & nhood\\_grouping & grouping\\_polarity\\\\\n",
       " <chr> & <chr> & <chr> & <chr> & <chr> & <chr> & <chr> & <chr>\\\\\n",
       "\\hline\n",
       "\t Astrocytes & Day5.obob5v5\\_\\_v\\_\\_Day5.obobBL6d5 & obob5v5 & obobBL6d5 & Day5 & Day5 & restored\\_grouping & neg\\_restored\\\\\n",
       "\t g2         & Day5.obob5v5\\_\\_v\\_\\_Day5.obobBL6d5 & obob5v5 & obobBL6d5 & Day5 & Day5 & restored\\_grouping & neg\\_restored\\\\\n",
       "\t n1         & Day5.obob5v5\\_\\_v\\_\\_Day5.obobBL6d5 & obob5v5 & obobBL6d5 & Day5 & Day5 & restored\\_grouping & neg\\_restored\\\\\n",
       "\\end{tabular}\n"
      ],
      "text/markdown": [
       "\n",
       "A tibble: 3 × 8\n",
       "\n",
       "| labels &lt;chr&gt; | comparison &lt;chr&gt; | fgf1_tag &lt;chr&gt; | bl6_tag &lt;chr&gt; | fgf1_day &lt;chr&gt; | bl6_day &lt;chr&gt; | nhood_grouping &lt;chr&gt; | grouping_polarity &lt;chr&gt; |\n",
       "|---|---|---|---|---|---|---|---|\n",
       "| Astrocytes | Day5.obob5v5__v__Day5.obobBL6d5 | obob5v5 | obobBL6d5 | Day5 | Day5 | restored_grouping | neg_restored |\n",
       "| g2         | Day5.obob5v5__v__Day5.obobBL6d5 | obob5v5 | obobBL6d5 | Day5 | Day5 | restored_grouping | neg_restored |\n",
       "| n1         | Day5.obob5v5__v__Day5.obobBL6d5 | obob5v5 | obobBL6d5 | Day5 | Day5 | restored_grouping | neg_restored |\n",
       "\n"
      ],
      "text/plain": [
       "  labels     comparison                      fgf1_tag bl6_tag   fgf1_day\n",
       "1 Astrocytes Day5.obob5v5__v__Day5.obobBL6d5 obob5v5  obobBL6d5 Day5    \n",
       "2 g2         Day5.obob5v5__v__Day5.obobBL6d5 obob5v5  obobBL6d5 Day5    \n",
       "3 n1         Day5.obob5v5__v__Day5.obobBL6d5 obob5v5  obobBL6d5 Day5    \n",
       "  bl6_day nhood_grouping    grouping_polarity\n",
       "1 Day5    restored_grouping neg_restored     \n",
       "2 Day5    restored_grouping neg_restored     \n",
       "3 Day5    restored_grouping neg_restored     "
      ]
     },
     "metadata": {},
     "output_type": "display_data"
    },
    {
     "data": {
      "text/html": [
       "<style>\n",
       ".list-inline {list-style: none; margin:0; padding: 0}\n",
       ".list-inline>li {display: inline-block}\n",
       ".list-inline>li:not(:last-child)::after {content: \"\\00b7\"; padding: 0 .5ex}\n",
       "</style>\n",
       "<ol class=list-inline><li>8</li><li>8</li></ol>\n"
      ],
      "text/latex": [
       "\\begin{enumerate*}\n",
       "\\item 8\n",
       "\\item 8\n",
       "\\end{enumerate*}\n"
      ],
      "text/markdown": [
       "1. 8\n",
       "2. 8\n",
       "\n",
       "\n"
      ],
      "text/plain": [
       "[1] 8 8"
      ]
     },
     "metadata": {},
     "output_type": "display_data"
    }
   ],
   "source": [
    "neg_restored = all_restored_summary %>% \n",
    "filter(n_restored.neg > 0) %>% #commented out because I want all of these to be considered and output\n",
    "make_tags %>%\n",
    "select(labels, comparison, fgf1_tag, bl6_tag, fgf1_day, bl6_day) %>%\n",
    "mutate(nhood_grouping = \"restored_grouping\") %>%\n",
    "mutate(grouping_polarity = \"neg_restored\") \n",
    "\n",
    "neg_restored %>% head(3)\n",
    "neg_restored %>% dim"
   ]
  },
  {
   "cell_type": "code",
   "execution_count": 35,
   "id": "6adf813f",
   "metadata": {},
   "outputs": [
    {
     "data": {
      "text/html": [
       "<table class=\"dataframe\">\n",
       "<caption>A tibble: 3 × 8</caption>\n",
       "<thead>\n",
       "\t<tr><th scope=col>labels</th><th scope=col>comparison</th><th scope=col>fgf1_tag</th><th scope=col>bl6_tag</th><th scope=col>fgf1_day</th><th scope=col>bl6_day</th><th scope=col>nhood_grouping</th><th scope=col>grouping_polarity</th></tr>\n",
       "\t<tr><th scope=col>&lt;chr&gt;</th><th scope=col>&lt;chr&gt;</th><th scope=col>&lt;chr&gt;</th><th scope=col>&lt;chr&gt;</th><th scope=col>&lt;chr&gt;</th><th scope=col>&lt;chr&gt;</th><th scope=col>&lt;chr&gt;</th><th scope=col>&lt;chr&gt;</th></tr>\n",
       "</thead>\n",
       "<tbody>\n",
       "\t<tr><td>n2        </td><td>Day14.obob14v14__v__Day14.obobBL6d14</td><td>obob14v14</td><td>obobBL6d14</td><td>Day14</td><td>Day14</td><td>restored_grouping</td><td>pos_restored</td></tr>\n",
       "\t<tr><td>other     </td><td>Day5.obob5v5__v__Day5.obobBL6d5     </td><td>obob5v5  </td><td>obobBL6d5 </td><td>Day5 </td><td>Day5 </td><td>restored_grouping</td><td>pos_restored</td></tr>\n",
       "\t<tr><td>Astrocytes</td><td>Day5.obob5v5__v__Day5.obobBL6d5     </td><td>obob5v5  </td><td>obobBL6d5 </td><td>Day5 </td><td>Day5 </td><td>restored_grouping</td><td>pos_restored</td></tr>\n",
       "</tbody>\n",
       "</table>\n"
      ],
      "text/latex": [
       "A tibble: 3 × 8\n",
       "\\begin{tabular}{llllllll}\n",
       " labels & comparison & fgf1\\_tag & bl6\\_tag & fgf1\\_day & bl6\\_day & nhood\\_grouping & grouping\\_polarity\\\\\n",
       " <chr> & <chr> & <chr> & <chr> & <chr> & <chr> & <chr> & <chr>\\\\\n",
       "\\hline\n",
       "\t n2         & Day14.obob14v14\\_\\_v\\_\\_Day14.obobBL6d14 & obob14v14 & obobBL6d14 & Day14 & Day14 & restored\\_grouping & pos\\_restored\\\\\n",
       "\t other      & Day5.obob5v5\\_\\_v\\_\\_Day5.obobBL6d5      & obob5v5   & obobBL6d5  & Day5  & Day5  & restored\\_grouping & pos\\_restored\\\\\n",
       "\t Astrocytes & Day5.obob5v5\\_\\_v\\_\\_Day5.obobBL6d5      & obob5v5   & obobBL6d5  & Day5  & Day5  & restored\\_grouping & pos\\_restored\\\\\n",
       "\\end{tabular}\n"
      ],
      "text/markdown": [
       "\n",
       "A tibble: 3 × 8\n",
       "\n",
       "| labels &lt;chr&gt; | comparison &lt;chr&gt; | fgf1_tag &lt;chr&gt; | bl6_tag &lt;chr&gt; | fgf1_day &lt;chr&gt; | bl6_day &lt;chr&gt; | nhood_grouping &lt;chr&gt; | grouping_polarity &lt;chr&gt; |\n",
       "|---|---|---|---|---|---|---|---|\n",
       "| n2         | Day14.obob14v14__v__Day14.obobBL6d14 | obob14v14 | obobBL6d14 | Day14 | Day14 | restored_grouping | pos_restored |\n",
       "| other      | Day5.obob5v5__v__Day5.obobBL6d5      | obob5v5   | obobBL6d5  | Day5  | Day5  | restored_grouping | pos_restored |\n",
       "| Astrocytes | Day5.obob5v5__v__Day5.obobBL6d5      | obob5v5   | obobBL6d5  | Day5  | Day5  | restored_grouping | pos_restored |\n",
       "\n"
      ],
      "text/plain": [
       "  labels     comparison                           fgf1_tag  bl6_tag    fgf1_day\n",
       "1 n2         Day14.obob14v14__v__Day14.obobBL6d14 obob14v14 obobBL6d14 Day14   \n",
       "2 other      Day5.obob5v5__v__Day5.obobBL6d5      obob5v5   obobBL6d5  Day5    \n",
       "3 Astrocytes Day5.obob5v5__v__Day5.obobBL6d5      obob5v5   obobBL6d5  Day5    \n",
       "  bl6_day nhood_grouping    grouping_polarity\n",
       "1 Day14   restored_grouping pos_restored     \n",
       "2 Day5    restored_grouping pos_restored     \n",
       "3 Day5    restored_grouping pos_restored     "
      ]
     },
     "metadata": {},
     "output_type": "display_data"
    },
    {
     "data": {
      "text/html": [
       "<style>\n",
       ".list-inline {list-style: none; margin:0; padding: 0}\n",
       ".list-inline>li {display: inline-block}\n",
       ".list-inline>li:not(:last-child)::after {content: \"\\00b7\"; padding: 0 .5ex}\n",
       "</style>\n",
       "<ol class=list-inline><li>17</li><li>8</li></ol>\n"
      ],
      "text/latex": [
       "\\begin{enumerate*}\n",
       "\\item 17\n",
       "\\item 8\n",
       "\\end{enumerate*}\n"
      ],
      "text/markdown": [
       "1. 17\n",
       "2. 8\n",
       "\n",
       "\n"
      ],
      "text/plain": [
       "[1] 17  8"
      ]
     },
     "metadata": {},
     "output_type": "display_data"
    }
   ],
   "source": [
    "pos_restored = all_restored_summary %>% \n",
    "filter(n_restored.pos > 0) %>%\n",
    "make_tags %>%\n",
    "select(labels, comparison, fgf1_tag, bl6_tag, fgf1_day, bl6_day) %>%\n",
    "mutate(nhood_grouping = \"restored_grouping\") %>%\n",
    "mutate(grouping_polarity = \"pos_restored\") \n",
    "\n",
    "pos_restored %>% head(3)\n",
    "pos_restored %>% dim"
   ]
  },
  {
   "cell_type": "code",
   "execution_count": 36,
   "id": "a601a3e9",
   "metadata": {},
   "outputs": [
    {
     "data": {
      "text/html": [
       "<table class=\"dataframe\">\n",
       "<caption>A tibble: 3 × 8</caption>\n",
       "<thead>\n",
       "\t<tr><th scope=col>labels</th><th scope=col>comparison</th><th scope=col>fgf1_tag</th><th scope=col>bl6_tag</th><th scope=col>fgf1_day</th><th scope=col>bl6_day</th><th scope=col>nhood_grouping</th><th scope=col>grouping_polarity</th></tr>\n",
       "\t<tr><th scope=col>&lt;chr&gt;</th><th scope=col>&lt;chr&gt;</th><th scope=col>&lt;chr&gt;</th><th scope=col>&lt;chr&gt;</th><th scope=col>&lt;chr&gt;</th><th scope=col>&lt;chr&gt;</th><th scope=col>&lt;chr&gt;</th><th scope=col>&lt;chr&gt;</th></tr>\n",
       "</thead>\n",
       "<tbody>\n",
       "\t<tr><td>other     </td><td>Day14.obob14v14__v__Day14.obobBL6d14</td><td>obob14v14</td><td>obobBL6d14</td><td>Day14</td><td>Day14</td><td>fgf1_grouping</td><td>neg</td></tr>\n",
       "\t<tr><td>g2        </td><td>Day14.obob14v14__v__Day14.obobBL6d14</td><td>obob14v14</td><td>obobBL6d14</td><td>Day14</td><td>Day14</td><td>fgf1_grouping</td><td>neg</td></tr>\n",
       "\t<tr><td>Nfix__Nfib</td><td>Day14.obob14v14__v__Day14.obobBL6d14</td><td>obob14v14</td><td>obobBL6d14</td><td>Day14</td><td>Day14</td><td>fgf1_grouping</td><td>neg</td></tr>\n",
       "</tbody>\n",
       "</table>\n"
      ],
      "text/latex": [
       "A tibble: 3 × 8\n",
       "\\begin{tabular}{llllllll}\n",
       " labels & comparison & fgf1\\_tag & bl6\\_tag & fgf1\\_day & bl6\\_day & nhood\\_grouping & grouping\\_polarity\\\\\n",
       " <chr> & <chr> & <chr> & <chr> & <chr> & <chr> & <chr> & <chr>\\\\\n",
       "\\hline\n",
       "\t other      & Day14.obob14v14\\_\\_v\\_\\_Day14.obobBL6d14 & obob14v14 & obobBL6d14 & Day14 & Day14 & fgf1\\_grouping & neg\\\\\n",
       "\t g2         & Day14.obob14v14\\_\\_v\\_\\_Day14.obobBL6d14 & obob14v14 & obobBL6d14 & Day14 & Day14 & fgf1\\_grouping & neg\\\\\n",
       "\t Nfix\\_\\_Nfib & Day14.obob14v14\\_\\_v\\_\\_Day14.obobBL6d14 & obob14v14 & obobBL6d14 & Day14 & Day14 & fgf1\\_grouping & neg\\\\\n",
       "\\end{tabular}\n"
      ],
      "text/markdown": [
       "\n",
       "A tibble: 3 × 8\n",
       "\n",
       "| labels &lt;chr&gt; | comparison &lt;chr&gt; | fgf1_tag &lt;chr&gt; | bl6_tag &lt;chr&gt; | fgf1_day &lt;chr&gt; | bl6_day &lt;chr&gt; | nhood_grouping &lt;chr&gt; | grouping_polarity &lt;chr&gt; |\n",
       "|---|---|---|---|---|---|---|---|\n",
       "| other      | Day14.obob14v14__v__Day14.obobBL6d14 | obob14v14 | obobBL6d14 | Day14 | Day14 | fgf1_grouping | neg |\n",
       "| g2         | Day14.obob14v14__v__Day14.obobBL6d14 | obob14v14 | obobBL6d14 | Day14 | Day14 | fgf1_grouping | neg |\n",
       "| Nfix__Nfib | Day14.obob14v14__v__Day14.obobBL6d14 | obob14v14 | obobBL6d14 | Day14 | Day14 | fgf1_grouping | neg |\n",
       "\n"
      ],
      "text/plain": [
       "  labels     comparison                           fgf1_tag  bl6_tag    fgf1_day\n",
       "1 other      Day14.obob14v14__v__Day14.obobBL6d14 obob14v14 obobBL6d14 Day14   \n",
       "2 g2         Day14.obob14v14__v__Day14.obobBL6d14 obob14v14 obobBL6d14 Day14   \n",
       "3 Nfix__Nfib Day14.obob14v14__v__Day14.obobBL6d14 obob14v14 obobBL6d14 Day14   \n",
       "  bl6_day nhood_grouping grouping_polarity\n",
       "1 Day14   fgf1_grouping  neg              \n",
       "2 Day14   fgf1_grouping  neg              \n",
       "3 Day14   fgf1_grouping  neg              "
      ]
     },
     "metadata": {},
     "output_type": "display_data"
    },
    {
     "data": {
      "text/html": [
       "<style>\n",
       ".list-inline {list-style: none; margin:0; padding: 0}\n",
       ".list-inline>li {display: inline-block}\n",
       ".list-inline>li:not(:last-child)::after {content: \"\\00b7\"; padding: 0 .5ex}\n",
       "</style>\n",
       "<ol class=list-inline><li>22</li><li>8</li></ol>\n"
      ],
      "text/latex": [
       "\\begin{enumerate*}\n",
       "\\item 22\n",
       "\\item 8\n",
       "\\end{enumerate*}\n"
      ],
      "text/markdown": [
       "1. 22\n",
       "2. 8\n",
       "\n",
       "\n"
      ],
      "text/plain": [
       "[1] 22  8"
      ]
     },
     "metadata": {},
     "output_type": "display_data"
    }
   ],
   "source": [
    "neg_fgf1 = all_restored_summary %>% \n",
    "filter(n_fgf1.neg > 0) %>%\n",
    "make_tags %>%\n",
    "select(labels, comparison, fgf1_tag, bl6_tag, fgf1_day, bl6_day) %>%\n",
    "mutate(nhood_grouping = \"fgf1_grouping\") %>%\n",
    "mutate(grouping_polarity = \"neg\") \n",
    "\n",
    "neg_fgf1 %>% head(3)\n",
    "neg_fgf1 %>% dim"
   ]
  },
  {
   "cell_type": "code",
   "execution_count": 37,
   "id": "ac3e18e4",
   "metadata": {},
   "outputs": [
    {
     "data": {
      "text/html": [
       "<table class=\"dataframe\">\n",
       "<caption>A tibble: 3 × 8</caption>\n",
       "<thead>\n",
       "\t<tr><th scope=col>labels</th><th scope=col>comparison</th><th scope=col>fgf1_tag</th><th scope=col>bl6_tag</th><th scope=col>fgf1_day</th><th scope=col>bl6_day</th><th scope=col>nhood_grouping</th><th scope=col>grouping_polarity</th></tr>\n",
       "\t<tr><th scope=col>&lt;chr&gt;</th><th scope=col>&lt;chr&gt;</th><th scope=col>&lt;chr&gt;</th><th scope=col>&lt;chr&gt;</th><th scope=col>&lt;chr&gt;</th><th scope=col>&lt;chr&gt;</th><th scope=col>&lt;chr&gt;</th><th scope=col>&lt;chr&gt;</th></tr>\n",
       "</thead>\n",
       "<tbody>\n",
       "\t<tr><td>other</td><td>Day14.obob14v14__v__Day14.obobBL6d14</td><td>obob14v14</td><td>obobBL6d14</td><td>Day14</td><td>Day14</td><td>fgf1_grouping</td><td>pos</td></tr>\n",
       "\t<tr><td>g2   </td><td>Day14.obob14v14__v__Day14.obobBL6d14</td><td>obob14v14</td><td>obobBL6d14</td><td>Day14</td><td>Day14</td><td>fgf1_grouping</td><td>pos</td></tr>\n",
       "\t<tr><td>g3   </td><td>Day14.obob14v14__v__Day14.obobBL6d14</td><td>obob14v14</td><td>obobBL6d14</td><td>Day14</td><td>Day14</td><td>fgf1_grouping</td><td>pos</td></tr>\n",
       "</tbody>\n",
       "</table>\n"
      ],
      "text/latex": [
       "A tibble: 3 × 8\n",
       "\\begin{tabular}{llllllll}\n",
       " labels & comparison & fgf1\\_tag & bl6\\_tag & fgf1\\_day & bl6\\_day & nhood\\_grouping & grouping\\_polarity\\\\\n",
       " <chr> & <chr> & <chr> & <chr> & <chr> & <chr> & <chr> & <chr>\\\\\n",
       "\\hline\n",
       "\t other & Day14.obob14v14\\_\\_v\\_\\_Day14.obobBL6d14 & obob14v14 & obobBL6d14 & Day14 & Day14 & fgf1\\_grouping & pos\\\\\n",
       "\t g2    & Day14.obob14v14\\_\\_v\\_\\_Day14.obobBL6d14 & obob14v14 & obobBL6d14 & Day14 & Day14 & fgf1\\_grouping & pos\\\\\n",
       "\t g3    & Day14.obob14v14\\_\\_v\\_\\_Day14.obobBL6d14 & obob14v14 & obobBL6d14 & Day14 & Day14 & fgf1\\_grouping & pos\\\\\n",
       "\\end{tabular}\n"
      ],
      "text/markdown": [
       "\n",
       "A tibble: 3 × 8\n",
       "\n",
       "| labels &lt;chr&gt; | comparison &lt;chr&gt; | fgf1_tag &lt;chr&gt; | bl6_tag &lt;chr&gt; | fgf1_day &lt;chr&gt; | bl6_day &lt;chr&gt; | nhood_grouping &lt;chr&gt; | grouping_polarity &lt;chr&gt; |\n",
       "|---|---|---|---|---|---|---|---|\n",
       "| other | Day14.obob14v14__v__Day14.obobBL6d14 | obob14v14 | obobBL6d14 | Day14 | Day14 | fgf1_grouping | pos |\n",
       "| g2    | Day14.obob14v14__v__Day14.obobBL6d14 | obob14v14 | obobBL6d14 | Day14 | Day14 | fgf1_grouping | pos |\n",
       "| g3    | Day14.obob14v14__v__Day14.obobBL6d14 | obob14v14 | obobBL6d14 | Day14 | Day14 | fgf1_grouping | pos |\n",
       "\n"
      ],
      "text/plain": [
       "  labels comparison                           fgf1_tag  bl6_tag    fgf1_day\n",
       "1 other  Day14.obob14v14__v__Day14.obobBL6d14 obob14v14 obobBL6d14 Day14   \n",
       "2 g2     Day14.obob14v14__v__Day14.obobBL6d14 obob14v14 obobBL6d14 Day14   \n",
       "3 g3     Day14.obob14v14__v__Day14.obobBL6d14 obob14v14 obobBL6d14 Day14   \n",
       "  bl6_day nhood_grouping grouping_polarity\n",
       "1 Day14   fgf1_grouping  pos              \n",
       "2 Day14   fgf1_grouping  pos              \n",
       "3 Day14   fgf1_grouping  pos              "
      ]
     },
     "metadata": {},
     "output_type": "display_data"
    },
    {
     "data": {
      "text/html": [
       "<style>\n",
       ".list-inline {list-style: none; margin:0; padding: 0}\n",
       ".list-inline>li {display: inline-block}\n",
       ".list-inline>li:not(:last-child)::after {content: \"\\00b7\"; padding: 0 .5ex}\n",
       "</style>\n",
       "<ol class=list-inline><li>30</li><li>8</li></ol>\n"
      ],
      "text/latex": [
       "\\begin{enumerate*}\n",
       "\\item 30\n",
       "\\item 8\n",
       "\\end{enumerate*}\n"
      ],
      "text/markdown": [
       "1. 30\n",
       "2. 8\n",
       "\n",
       "\n"
      ],
      "text/plain": [
       "[1] 30  8"
      ]
     },
     "metadata": {},
     "output_type": "display_data"
    }
   ],
   "source": [
    "pos_fgf1 = all_restored_summary %>% \n",
    "filter(n_fgf1.pos > 0) %>%\n",
    "make_tags %>%\n",
    "select(labels, comparison, fgf1_tag, bl6_tag, fgf1_day, bl6_day) %>%\n",
    "mutate(nhood_grouping = \"fgf1_grouping\") %>%\n",
    "mutate(grouping_polarity = \"pos\") \n",
    "\n",
    "pos_fgf1 %>% head(3)\n",
    "pos_fgf1 %>% dim"
   ]
  },
  {
   "cell_type": "code",
   "execution_count": 38,
   "id": "86b74fb6",
   "metadata": {},
   "outputs": [
    {
     "data": {
      "text/html": [
       "<table class=\"dataframe\">\n",
       "<caption>A tibble: 3 × 8</caption>\n",
       "<thead>\n",
       "\t<tr><th scope=col>labels</th><th scope=col>comparison</th><th scope=col>fgf1_tag</th><th scope=col>bl6_tag</th><th scope=col>fgf1_day</th><th scope=col>bl6_day</th><th scope=col>nhood_grouping</th><th scope=col>grouping_polarity</th></tr>\n",
       "\t<tr><th scope=col>&lt;chr&gt;</th><th scope=col>&lt;chr&gt;</th><th scope=col>&lt;chr&gt;</th><th scope=col>&lt;chr&gt;</th><th scope=col>&lt;chr&gt;</th><th scope=col>&lt;chr&gt;</th><th scope=col>&lt;chr&gt;</th><th scope=col>&lt;chr&gt;</th></tr>\n",
       "</thead>\n",
       "<tbody>\n",
       "\t<tr><td>other</td><td>Day14.obob14v14__v__Day14.obobBL6d14</td><td>obob14v14</td><td>obobBL6d14</td><td>Day14</td><td>Day14</td><td>bl6_grouping</td><td>pos</td></tr>\n",
       "\t<tr><td>g2   </td><td>Day14.obob14v14__v__Day14.obobBL6d14</td><td>obob14v14</td><td>obobBL6d14</td><td>Day14</td><td>Day14</td><td>bl6_grouping</td><td>pos</td></tr>\n",
       "\t<tr><td>g3   </td><td>Day14.obob14v14__v__Day14.obobBL6d14</td><td>obob14v14</td><td>obobBL6d14</td><td>Day14</td><td>Day14</td><td>bl6_grouping</td><td>pos</td></tr>\n",
       "</tbody>\n",
       "</table>\n"
      ],
      "text/latex": [
       "A tibble: 3 × 8\n",
       "\\begin{tabular}{llllllll}\n",
       " labels & comparison & fgf1\\_tag & bl6\\_tag & fgf1\\_day & bl6\\_day & nhood\\_grouping & grouping\\_polarity\\\\\n",
       " <chr> & <chr> & <chr> & <chr> & <chr> & <chr> & <chr> & <chr>\\\\\n",
       "\\hline\n",
       "\t other & Day14.obob14v14\\_\\_v\\_\\_Day14.obobBL6d14 & obob14v14 & obobBL6d14 & Day14 & Day14 & bl6\\_grouping & pos\\\\\n",
       "\t g2    & Day14.obob14v14\\_\\_v\\_\\_Day14.obobBL6d14 & obob14v14 & obobBL6d14 & Day14 & Day14 & bl6\\_grouping & pos\\\\\n",
       "\t g3    & Day14.obob14v14\\_\\_v\\_\\_Day14.obobBL6d14 & obob14v14 & obobBL6d14 & Day14 & Day14 & bl6\\_grouping & pos\\\\\n",
       "\\end{tabular}\n"
      ],
      "text/markdown": [
       "\n",
       "A tibble: 3 × 8\n",
       "\n",
       "| labels &lt;chr&gt; | comparison &lt;chr&gt; | fgf1_tag &lt;chr&gt; | bl6_tag &lt;chr&gt; | fgf1_day &lt;chr&gt; | bl6_day &lt;chr&gt; | nhood_grouping &lt;chr&gt; | grouping_polarity &lt;chr&gt; |\n",
       "|---|---|---|---|---|---|---|---|\n",
       "| other | Day14.obob14v14__v__Day14.obobBL6d14 | obob14v14 | obobBL6d14 | Day14 | Day14 | bl6_grouping | pos |\n",
       "| g2    | Day14.obob14v14__v__Day14.obobBL6d14 | obob14v14 | obobBL6d14 | Day14 | Day14 | bl6_grouping | pos |\n",
       "| g3    | Day14.obob14v14__v__Day14.obobBL6d14 | obob14v14 | obobBL6d14 | Day14 | Day14 | bl6_grouping | pos |\n",
       "\n"
      ],
      "text/plain": [
       "  labels comparison                           fgf1_tag  bl6_tag    fgf1_day\n",
       "1 other  Day14.obob14v14__v__Day14.obobBL6d14 obob14v14 obobBL6d14 Day14   \n",
       "2 g2     Day14.obob14v14__v__Day14.obobBL6d14 obob14v14 obobBL6d14 Day14   \n",
       "3 g3     Day14.obob14v14__v__Day14.obobBL6d14 obob14v14 obobBL6d14 Day14   \n",
       "  bl6_day nhood_grouping grouping_polarity\n",
       "1 Day14   bl6_grouping   pos              \n",
       "2 Day14   bl6_grouping   pos              \n",
       "3 Day14   bl6_grouping   pos              "
      ]
     },
     "metadata": {},
     "output_type": "display_data"
    },
    {
     "data": {
      "text/html": [
       "<style>\n",
       ".list-inline {list-style: none; margin:0; padding: 0}\n",
       ".list-inline>li {display: inline-block}\n",
       ".list-inline>li:not(:last-child)::after {content: \"\\00b7\"; padding: 0 .5ex}\n",
       "</style>\n",
       "<ol class=list-inline><li>134</li><li>8</li></ol>\n"
      ],
      "text/latex": [
       "\\begin{enumerate*}\n",
       "\\item 134\n",
       "\\item 8\n",
       "\\end{enumerate*}\n"
      ],
      "text/markdown": [
       "1. 134\n",
       "2. 8\n",
       "\n",
       "\n"
      ],
      "text/plain": [
       "[1] 134   8"
      ]
     },
     "metadata": {},
     "output_type": "display_data"
    }
   ],
   "source": [
    "pos_BL6 = all_restored_summary %>% \n",
    "# filter(n_BL6 > 0) %>%\n",
    "make_tags %>%\n",
    "select(labels, comparison, fgf1_tag, bl6_tag, fgf1_day, bl6_day) %>%\n",
    "mutate(nhood_grouping = \"bl6_grouping\") %>%\n",
    "mutate(grouping_polarity = \"pos\") \n",
    "\n",
    "pos_BL6 %>% head(3)\n",
    "pos_BL6 %>% dim"
   ]
  },
  {
   "cell_type": "code",
   "execution_count": 39,
   "id": "d9f8a9ed",
   "metadata": {},
   "outputs": [
    {
     "data": {
      "text/html": [
       "<table class=\"dataframe\">\n",
       "<caption>A tibble: 3 × 8</caption>\n",
       "<thead>\n",
       "\t<tr><th scope=col>labels</th><th scope=col>comparison</th><th scope=col>fgf1_tag</th><th scope=col>bl6_tag</th><th scope=col>fgf1_day</th><th scope=col>bl6_day</th><th scope=col>nhood_grouping</th><th scope=col>grouping_polarity</th></tr>\n",
       "\t<tr><th scope=col>&lt;chr&gt;</th><th scope=col>&lt;chr&gt;</th><th scope=col>&lt;chr&gt;</th><th scope=col>&lt;chr&gt;</th><th scope=col>&lt;chr&gt;</th><th scope=col>&lt;chr&gt;</th><th scope=col>&lt;chr&gt;</th><th scope=col>&lt;chr&gt;</th></tr>\n",
       "</thead>\n",
       "<tbody>\n",
       "\t<tr><td>other</td><td>Day14.obob14v14__v__Day14.obobBL6d14</td><td>obob14v14</td><td>obobBL6d14</td><td>Day14</td><td>Day14</td><td>bl6_grouping</td><td>neg</td></tr>\n",
       "\t<tr><td>g2   </td><td>Day14.obob14v14__v__Day14.obobBL6d14</td><td>obob14v14</td><td>obobBL6d14</td><td>Day14</td><td>Day14</td><td>bl6_grouping</td><td>neg</td></tr>\n",
       "\t<tr><td>g3   </td><td>Day14.obob14v14__v__Day14.obobBL6d14</td><td>obob14v14</td><td>obobBL6d14</td><td>Day14</td><td>Day14</td><td>bl6_grouping</td><td>neg</td></tr>\n",
       "</tbody>\n",
       "</table>\n"
      ],
      "text/latex": [
       "A tibble: 3 × 8\n",
       "\\begin{tabular}{llllllll}\n",
       " labels & comparison & fgf1\\_tag & bl6\\_tag & fgf1\\_day & bl6\\_day & nhood\\_grouping & grouping\\_polarity\\\\\n",
       " <chr> & <chr> & <chr> & <chr> & <chr> & <chr> & <chr> & <chr>\\\\\n",
       "\\hline\n",
       "\t other & Day14.obob14v14\\_\\_v\\_\\_Day14.obobBL6d14 & obob14v14 & obobBL6d14 & Day14 & Day14 & bl6\\_grouping & neg\\\\\n",
       "\t g2    & Day14.obob14v14\\_\\_v\\_\\_Day14.obobBL6d14 & obob14v14 & obobBL6d14 & Day14 & Day14 & bl6\\_grouping & neg\\\\\n",
       "\t g3    & Day14.obob14v14\\_\\_v\\_\\_Day14.obobBL6d14 & obob14v14 & obobBL6d14 & Day14 & Day14 & bl6\\_grouping & neg\\\\\n",
       "\\end{tabular}\n"
      ],
      "text/markdown": [
       "\n",
       "A tibble: 3 × 8\n",
       "\n",
       "| labels &lt;chr&gt; | comparison &lt;chr&gt; | fgf1_tag &lt;chr&gt; | bl6_tag &lt;chr&gt; | fgf1_day &lt;chr&gt; | bl6_day &lt;chr&gt; | nhood_grouping &lt;chr&gt; | grouping_polarity &lt;chr&gt; |\n",
       "|---|---|---|---|---|---|---|---|\n",
       "| other | Day14.obob14v14__v__Day14.obobBL6d14 | obob14v14 | obobBL6d14 | Day14 | Day14 | bl6_grouping | neg |\n",
       "| g2    | Day14.obob14v14__v__Day14.obobBL6d14 | obob14v14 | obobBL6d14 | Day14 | Day14 | bl6_grouping | neg |\n",
       "| g3    | Day14.obob14v14__v__Day14.obobBL6d14 | obob14v14 | obobBL6d14 | Day14 | Day14 | bl6_grouping | neg |\n",
       "\n"
      ],
      "text/plain": [
       "  labels comparison                           fgf1_tag  bl6_tag    fgf1_day\n",
       "1 other  Day14.obob14v14__v__Day14.obobBL6d14 obob14v14 obobBL6d14 Day14   \n",
       "2 g2     Day14.obob14v14__v__Day14.obobBL6d14 obob14v14 obobBL6d14 Day14   \n",
       "3 g3     Day14.obob14v14__v__Day14.obobBL6d14 obob14v14 obobBL6d14 Day14   \n",
       "  bl6_day nhood_grouping grouping_polarity\n",
       "1 Day14   bl6_grouping   neg              \n",
       "2 Day14   bl6_grouping   neg              \n",
       "3 Day14   bl6_grouping   neg              "
      ]
     },
     "metadata": {},
     "output_type": "display_data"
    },
    {
     "data": {
      "text/html": [
       "<style>\n",
       ".list-inline {list-style: none; margin:0; padding: 0}\n",
       ".list-inline>li {display: inline-block}\n",
       ".list-inline>li:not(:last-child)::after {content: \"\\00b7\"; padding: 0 .5ex}\n",
       "</style>\n",
       "<ol class=list-inline><li>134</li><li>8</li></ol>\n"
      ],
      "text/latex": [
       "\\begin{enumerate*}\n",
       "\\item 134\n",
       "\\item 8\n",
       "\\end{enumerate*}\n"
      ],
      "text/markdown": [
       "1. 134\n",
       "2. 8\n",
       "\n",
       "\n"
      ],
      "text/plain": [
       "[1] 134   8"
      ]
     },
     "metadata": {},
     "output_type": "display_data"
    }
   ],
   "source": [
    "neg_BL6 = all_restored_summary %>% \n",
    "# filter(n_BL6 > 0) %>%\n",
    "make_tags %>%\n",
    "select(labels, comparison, fgf1_tag, bl6_tag, fgf1_day, bl6_day) %>%\n",
    "mutate(nhood_grouping = \"bl6_grouping\") %>%\n",
    "mutate(grouping_polarity = \"neg\") \n",
    "\n",
    "neg_BL6 %>% head(3)\n",
    "neg_BL6 %>% dim"
   ]
  },
  {
   "cell_type": "code",
   "execution_count": 40,
   "id": "ed5fa226",
   "metadata": {},
   "outputs": [
    {
     "name": "stderr",
     "output_type": "stream",
     "text": [
      "Warning message:\n",
      "“\u001b[1m\u001b[22mThere was 1 warning in `mutate()`.\n",
      "\u001b[1m\u001b[22m\u001b[36mℹ\u001b[39m In argument: `milo_index_tibble = milo_obj %>% str_replace(\"milo_\",\n",
      "  \"milo_index_tibble_\") %>% rlang::syms(.)`.\n",
      "Caused by warning in `stri_replace_first_regex()`:\n",
      "\u001b[33m!\u001b[39m argument is not an atomic vector; coercing”\n"
     ]
    },
    {
     "data": {
      "text/html": [
       "<table class=\"dataframe\">\n",
       "<caption>A tibble: 3 × 15</caption>\n",
       "<thead>\n",
       "\t<tr><th scope=col>da_results_nhg_output_suffix</th><th scope=col>milo_obj</th><th scope=col>seurat_obj</th><th scope=col>nhm_obj</th><th scope=col>da_results_obj</th><th scope=col>restored_df_obj</th><th scope=col>nhood_grouping</th><th scope=col>grouping_polarity</th><th scope=col>labels</th><th scope=col>comparison</th><th scope=col>fgf1_tag</th><th scope=col>bl6_tag</th><th scope=col>fgf1_day</th><th scope=col>bl6_day</th><th scope=col>milo_index_tibble</th></tr>\n",
       "\t<tr><th scope=col>&lt;chr&gt;</th><th scope=col>&lt;list&gt;</th><th scope=col>&lt;list&gt;</th><th scope=col>&lt;list&gt;</th><th scope=col>&lt;list&gt;</th><th scope=col>&lt;list&gt;</th><th scope=col>&lt;chr&gt;</th><th scope=col>&lt;chr&gt;</th><th scope=col>&lt;chr&gt;</th><th scope=col>&lt;chr&gt;</th><th scope=col>&lt;chr&gt;</th><th scope=col>&lt;chr&gt;</th><th scope=col>&lt;chr&gt;</th><th scope=col>&lt;chr&gt;</th><th scope=col>&lt;list&gt;</th></tr>\n",
       "</thead>\n",
       "<tbody>\n",
       "\t<tr><td>n2___Day14.obob14v14__v__Day14.obobBL6d14   </td><td>milo_Day14.n2</td><td>obj_Day14.n2</td><td>nhm_Day14.n2___obob14v14</td><td>da_results_01_Day14.n2___obob14v14</td><td>restored_df_Day14.obob14v14__v__Day14.obobBL6d14</td><td>restored_grouping</td><td>pos_restored</td><td>n2        </td><td>Day14.obob14v14__v__Day14.obobBL6d14</td><td>obob14v14</td><td>obobBL6d14</td><td>Day14</td><td>Day14</td><td>milo_index_tibble_Day14.n2</td></tr>\n",
       "\t<tr><td>other___Day5.obob5v5__v__Day5.obobBL6d5     </td><td>milo_Day5.other</td><td>obj_Day5.other</td><td>nhm_Day5.other___obob5v5</td><td>da_results_01_Day5.other___obob5v5</td><td>restored_df_Day5.obob5v5__v__Day5.obobBL6d5</td><td>restored_grouping</td><td>pos_restored</td><td>other     </td><td>Day5.obob5v5__v__Day5.obobBL6d5     </td><td>obob5v5  </td><td>obobBL6d5 </td><td>Day5 </td><td>Day5 </td><td>milo_index_tibble_Day5.other</td></tr>\n",
       "\t<tr><td>Astrocytes___Day5.obob5v5__v__Day5.obobBL6d5</td><td>milo_Day5.Astrocytes</td><td>obj_Day5.Astrocytes</td><td>nhm_Day5.Astrocytes___obob5v5</td><td>da_results_01_Day5.Astrocytes___obob5v5</td><td>restored_df_Day5.obob5v5__v__Day5.obobBL6d5</td><td>restored_grouping</td><td>pos_restored</td><td>Astrocytes</td><td>Day5.obob5v5__v__Day5.obobBL6d5     </td><td>obob5v5  </td><td>obobBL6d5 </td><td>Day5 </td><td>Day5 </td><td>milo_index_tibble_Day5.Astrocytes</td></tr>\n",
       "</tbody>\n",
       "</table>\n"
      ],
      "text/latex": [
       "A tibble: 3 × 15\n",
       "\\begin{tabular}{lllllllllllllll}\n",
       " da\\_results\\_nhg\\_output\\_suffix & milo\\_obj & seurat\\_obj & nhm\\_obj & da\\_results\\_obj & restored\\_df\\_obj & nhood\\_grouping & grouping\\_polarity & labels & comparison & fgf1\\_tag & bl6\\_tag & fgf1\\_day & bl6\\_day & milo\\_index\\_tibble\\\\\n",
       " <chr> & <list> & <list> & <list> & <list> & <list> & <chr> & <chr> & <chr> & <chr> & <chr> & <chr> & <chr> & <chr> & <list>\\\\\n",
       "\\hline\n",
       "\t n2\\_\\_\\_Day14.obob14v14\\_\\_v\\_\\_Day14.obobBL6d14    & milo\\_Day14.n2 & obj\\_Day14.n2 & nhm\\_Day14.n2\\_\\_\\_obob14v14 & da\\_results\\_01\\_Day14.n2\\_\\_\\_obob14v14 & restored\\_df\\_Day14.obob14v14\\_\\_v\\_\\_Day14.obobBL6d14 & restored\\_grouping & pos\\_restored & n2         & Day14.obob14v14\\_\\_v\\_\\_Day14.obobBL6d14 & obob14v14 & obobBL6d14 & Day14 & Day14 & milo\\_index\\_tibble\\_Day14.n2\\\\\n",
       "\t other\\_\\_\\_Day5.obob5v5\\_\\_v\\_\\_Day5.obobBL6d5      & milo\\_Day5.other & obj\\_Day5.other & nhm\\_Day5.other\\_\\_\\_obob5v5 & da\\_results\\_01\\_Day5.other\\_\\_\\_obob5v5 & restored\\_df\\_Day5.obob5v5\\_\\_v\\_\\_Day5.obobBL6d5 & restored\\_grouping & pos\\_restored & other      & Day5.obob5v5\\_\\_v\\_\\_Day5.obobBL6d5      & obob5v5   & obobBL6d5  & Day5  & Day5  & milo\\_index\\_tibble\\_Day5.other\\\\\n",
       "\t Astrocytes\\_\\_\\_Day5.obob5v5\\_\\_v\\_\\_Day5.obobBL6d5 & milo\\_Day5.Astrocytes & obj\\_Day5.Astrocytes & nhm\\_Day5.Astrocytes\\_\\_\\_obob5v5 & da\\_results\\_01\\_Day5.Astrocytes\\_\\_\\_obob5v5 & restored\\_df\\_Day5.obob5v5\\_\\_v\\_\\_Day5.obobBL6d5 & restored\\_grouping & pos\\_restored & Astrocytes & Day5.obob5v5\\_\\_v\\_\\_Day5.obobBL6d5      & obob5v5   & obobBL6d5  & Day5  & Day5  & milo\\_index\\_tibble\\_Day5.Astrocytes\\\\\n",
       "\\end{tabular}\n"
      ],
      "text/markdown": [
       "\n",
       "A tibble: 3 × 15\n",
       "\n",
       "| da_results_nhg_output_suffix &lt;chr&gt; | milo_obj &lt;list&gt; | seurat_obj &lt;list&gt; | nhm_obj &lt;list&gt; | da_results_obj &lt;list&gt; | restored_df_obj &lt;list&gt; | nhood_grouping &lt;chr&gt; | grouping_polarity &lt;chr&gt; | labels &lt;chr&gt; | comparison &lt;chr&gt; | fgf1_tag &lt;chr&gt; | bl6_tag &lt;chr&gt; | fgf1_day &lt;chr&gt; | bl6_day &lt;chr&gt; | milo_index_tibble &lt;list&gt; |\n",
       "|---|---|---|---|---|---|---|---|---|---|---|---|---|---|---|\n",
       "| n2___Day14.obob14v14__v__Day14.obobBL6d14    | milo_Day14.n2 | obj_Day14.n2 | nhm_Day14.n2___obob14v14 | da_results_01_Day14.n2___obob14v14 | restored_df_Day14.obob14v14__v__Day14.obobBL6d14 | restored_grouping | pos_restored | n2         | Day14.obob14v14__v__Day14.obobBL6d14 | obob14v14 | obobBL6d14 | Day14 | Day14 | milo_index_tibble_Day14.n2 |\n",
       "| other___Day5.obob5v5__v__Day5.obobBL6d5      | milo_Day5.other | obj_Day5.other | nhm_Day5.other___obob5v5 | da_results_01_Day5.other___obob5v5 | restored_df_Day5.obob5v5__v__Day5.obobBL6d5 | restored_grouping | pos_restored | other      | Day5.obob5v5__v__Day5.obobBL6d5      | obob5v5   | obobBL6d5  | Day5  | Day5  | milo_index_tibble_Day5.other |\n",
       "| Astrocytes___Day5.obob5v5__v__Day5.obobBL6d5 | milo_Day5.Astrocytes | obj_Day5.Astrocytes | nhm_Day5.Astrocytes___obob5v5 | da_results_01_Day5.Astrocytes___obob5v5 | restored_df_Day5.obob5v5__v__Day5.obobBL6d5 | restored_grouping | pos_restored | Astrocytes | Day5.obob5v5__v__Day5.obobBL6d5      | obob5v5   | obobBL6d5  | Day5  | Day5  | milo_index_tibble_Day5.Astrocytes |\n",
       "\n"
      ],
      "text/plain": [
       "  da_results_nhg_output_suffix                 milo_obj            \n",
       "1 n2___Day14.obob14v14__v__Day14.obobBL6d14    milo_Day14.n2       \n",
       "2 other___Day5.obob5v5__v__Day5.obobBL6d5      milo_Day5.other     \n",
       "3 Astrocytes___Day5.obob5v5__v__Day5.obobBL6d5 milo_Day5.Astrocytes\n",
       "  seurat_obj          nhm_obj                      \n",
       "1 obj_Day14.n2        nhm_Day14.n2___obob14v14     \n",
       "2 obj_Day5.other      nhm_Day5.other___obob5v5     \n",
       "3 obj_Day5.Astrocytes nhm_Day5.Astrocytes___obob5v5\n",
       "  da_results_obj                         \n",
       "1 da_results_01_Day14.n2___obob14v14     \n",
       "2 da_results_01_Day5.other___obob5v5     \n",
       "3 da_results_01_Day5.Astrocytes___obob5v5\n",
       "  restored_df_obj                                  nhood_grouping   \n",
       "1 restored_df_Day14.obob14v14__v__Day14.obobBL6d14 restored_grouping\n",
       "2 restored_df_Day5.obob5v5__v__Day5.obobBL6d5      restored_grouping\n",
       "3 restored_df_Day5.obob5v5__v__Day5.obobBL6d5      restored_grouping\n",
       "  grouping_polarity labels     comparison                           fgf1_tag \n",
       "1 pos_restored      n2         Day14.obob14v14__v__Day14.obobBL6d14 obob14v14\n",
       "2 pos_restored      other      Day5.obob5v5__v__Day5.obobBL6d5      obob5v5  \n",
       "3 pos_restored      Astrocytes Day5.obob5v5__v__Day5.obobBL6d5      obob5v5  \n",
       "  bl6_tag    fgf1_day bl6_day milo_index_tibble                \n",
       "1 obobBL6d14 Day14    Day14   milo_index_tibble_Day14.n2       \n",
       "2 obobBL6d5  Day5     Day5    milo_index_tibble_Day5.other     \n",
       "3 obobBL6d5  Day5     Day5    milo_index_tibble_Day5.Astrocytes"
      ]
     },
     "metadata": {},
     "output_type": "display_data"
    },
    {
     "data": {
      "text/html": [
       "<style>\n",
       ".list-inline {list-style: none; margin:0; padding: 0}\n",
       ".list-inline>li {display: inline-block}\n",
       ".list-inline>li:not(:last-child)::after {content: \"\\00b7\"; padding: 0 .5ex}\n",
       "</style>\n",
       "<ol class=list-inline><li>345</li><li>15</li></ol>\n"
      ],
      "text/latex": [
       "\\begin{enumerate*}\n",
       "\\item 345\n",
       "\\item 15\n",
       "\\end{enumerate*}\n"
      ],
      "text/markdown": [
       "1. 345\n",
       "2. 15\n",
       "\n",
       "\n"
      ],
      "text/plain": [
       "[1] 345  15"
      ]
     },
     "metadata": {},
     "output_type": "display_data"
    },
    {
     "data": {
      "text/html": [
       "<style>\n",
       ".list-inline {list-style: none; margin:0; padding: 0}\n",
       ".list-inline>li {display: inline-block}\n",
       ".list-inline>li:not(:last-child)::after {content: \"\\00b7\"; padding: 0 .5ex}\n",
       "</style>\n",
       "<ol class=list-inline><li>134</li><li>15</li></ol>\n"
      ],
      "text/latex": [
       "\\begin{enumerate*}\n",
       "\\item 134\n",
       "\\item 15\n",
       "\\end{enumerate*}\n"
      ],
      "text/markdown": [
       "1. 134\n",
       "2. 15\n",
       "\n",
       "\n"
      ],
      "text/plain": [
       "[1] 134  15"
      ]
     },
     "metadata": {},
     "output_type": "display_data"
    }
   ],
   "source": [
    "annotate_nh_grouping_recipe = rbind(pos_restored, neg_restored, pos_fgf1, neg_fgf1, pos_BL6, neg_BL6) %>%\n",
    "mutate(milo_obj = paste0(\"milo_\", fgf1_day, '.', labels)) %>%\n",
    "mutate(milo_obj = str_replace(milo_obj, fixed(\"_all.\"), '_')) %>%\n",
    "mutate(milo_obj = rlang::syms(milo_obj)) %>%\n",
    "mutate(milo_index_tibble = milo_obj %>% str_replace('milo_', 'milo_index_tibble_') %>% rlang::syms(.)) %>%\n",
    "mutate(seurat_obj = paste0(\"obj_\", fgf1_day, '.', labels)) %>%\n",
    "mutate(seurat_obj = str_replace(seurat_obj, fixed(\"_all.\"), '_')) %>%\n",
    "mutate(seurat_obj = rlang::syms(seurat_obj)) %>%\n",
    "mutate(da_results_obj = paste0(\"da_results_01_\", fgf1_day, '.', labels, '___', fgf1_tag)) %>%\n",
    "mutate(da_results_obj = str_replace(da_results_obj, fixed(\"_all.\"), '_')) %>%\n",
    "mutate(da_results_obj = rlang::syms(da_results_obj)) %>%\n",
    "mutate(nhm_obj = paste0(\"nhm_\", fgf1_day, '.', labels, '___', fgf1_tag)) %>%\n",
    "mutate(nhm_obj = str_replace(nhm_obj, fixed(\"_all.\"), '_')) %>%\n",
    "mutate(nhm_obj = rlang::syms(nhm_obj)) %>%\n",
    "mutate(restored_df_obj = paste0(\"restored_df_\", comparison)) %>%\n",
    "mutate(restored_df_obj = rlang::syms(restored_df_obj)) %>%\n",
    "mutate(da_results_nhg_output_suffix = paste0(labels, '___', comparison)) %>%\n",
    "relocate(\"da_results_nhg_output_suffix\", \"milo_obj\", \"seurat_obj\", \"nhm_obj\", \"da_results_obj\", \"restored_df_obj\", \"nhood_grouping\", \"grouping_polarity\")\n",
    "\n",
    "\n",
    "\n",
    "annotate_nh_grouping_recipe %>% head(3)\n",
    "annotate_nh_grouping_recipe %>% dim\n",
    "\n",
    "annotate_nh_grouping_recipe_unique_nhg = annotate_nh_grouping_recipe %>% \n",
    "    distinct(da_results_nhg_output_suffix, .keep_all = TRUE)\n",
    "qs::qsave(annotate_nh_grouping_recipe_unique_nhg, 'annotate_nh_grouping_recipe.qs')\n",
    "annotate_nh_grouping_recipe_unique_nhg %>% dim\n",
    "\n"
   ]
  },
  {
   "cell_type": "code",
   "execution_count": 41,
   "id": "d3895564",
   "metadata": {},
   "outputs": [
    {
     "data": {
      "text/html": [
       "<table class=\"dataframe\">\n",
       "<caption>A tibble: 3 × 19</caption>\n",
       "<thead>\n",
       "\t<tr><th scope=col>deg_output_suffix</th><th scope=col>da_results_nhg_obj</th><th scope=col>group_a</th><th scope=col>group_b</th><th scope=col>nhgc_obj</th><th scope=col>da_results_nhg_output_suffix</th><th scope=col>milo_obj</th><th scope=col>seurat_obj</th><th scope=col>nhm_obj</th><th scope=col>da_results_obj</th><th scope=col>restored_df_obj</th><th scope=col>nhood_grouping</th><th scope=col>labels</th><th scope=col>comparison</th><th scope=col>fgf1_tag</th><th scope=col>bl6_tag</th><th scope=col>fgf1_day</th><th scope=col>bl6_day</th><th scope=col>milo_index_tibble</th></tr>\n",
       "\t<tr><th scope=col>&lt;chr&gt;</th><th scope=col>&lt;list&gt;</th><th scope=col>&lt;chr&gt;</th><th scope=col>&lt;chr&gt;</th><th scope=col>&lt;list&gt;</th><th scope=col>&lt;chr&gt;</th><th scope=col>&lt;list&gt;</th><th scope=col>&lt;list&gt;</th><th scope=col>&lt;list&gt;</th><th scope=col>&lt;list&gt;</th><th scope=col>&lt;list&gt;</th><th scope=col>&lt;chr&gt;</th><th scope=col>&lt;chr&gt;</th><th scope=col>&lt;chr&gt;</th><th scope=col>&lt;chr&gt;</th><th scope=col>&lt;chr&gt;</th><th scope=col>&lt;chr&gt;</th><th scope=col>&lt;chr&gt;</th><th scope=col>&lt;list&gt;</th></tr>\n",
       "</thead>\n",
       "<tbody>\n",
       "\t<tr><td>Agrp___Day14.obob14v14__v__Day14.obobBL6d14___bl6_grouping.neg_vs_rest        </td><td>da_results_nhg_Agrp___Day14.obob14v14__v__Day14.obobBL6d14</td><td>neg</td><td>            </td><td>nhgc_Agrp___Day14.obob14v14__v__Day14.obobBL6d14</td><td>Agrp___Day14.obob14v14__v__Day14.obobBL6d14</td><td>milo_Day14.Agrp</td><td>obj_Day14.Agrp</td><td>nhm_Day14.Agrp___obob14v14</td><td>da_results_01_Day14.Agrp___obob14v14</td><td>restored_df_Day14.obob14v14__v__Day14.obobBL6d14</td><td>bl6_grouping</td><td>Agrp</td><td>Day14.obob14v14__v__Day14.obobBL6d14</td><td>obob14v14</td><td>obobBL6d14</td><td>Day14</td><td>Day14</td><td>milo_index_tibble_Day14.Agrp</td></tr>\n",
       "\t<tr><td>Agrp___Day14.obob14v14__v__Day14.obobBL6d14___bl6_grouping.neg_vs_neg_restored</td><td>da_results_nhg_Agrp___Day14.obob14v14__v__Day14.obobBL6d14</td><td>neg</td><td>neg_restored</td><td>nhgc_Agrp___Day14.obob14v14__v__Day14.obobBL6d14</td><td>Agrp___Day14.obob14v14__v__Day14.obobBL6d14</td><td>milo_Day14.Agrp</td><td>obj_Day14.Agrp</td><td>nhm_Day14.Agrp___obob14v14</td><td>da_results_01_Day14.Agrp___obob14v14</td><td>restored_df_Day14.obob14v14__v__Day14.obobBL6d14</td><td>bl6_grouping</td><td>Agrp</td><td>Day14.obob14v14__v__Day14.obobBL6d14</td><td>obob14v14</td><td>obobBL6d14</td><td>Day14</td><td>Day14</td><td>milo_index_tibble_Day14.Agrp</td></tr>\n",
       "\t<tr><td>Agrp___Day14.obob14v14__v__Day14.obobBL6d14___bl6_grouping.neg_vs_none        </td><td>da_results_nhg_Agrp___Day14.obob14v14__v__Day14.obobBL6d14</td><td>neg</td><td>none        </td><td>nhgc_Agrp___Day14.obob14v14__v__Day14.obobBL6d14</td><td>Agrp___Day14.obob14v14__v__Day14.obobBL6d14</td><td>milo_Day14.Agrp</td><td>obj_Day14.Agrp</td><td>nhm_Day14.Agrp___obob14v14</td><td>da_results_01_Day14.Agrp___obob14v14</td><td>restored_df_Day14.obob14v14__v__Day14.obobBL6d14</td><td>bl6_grouping</td><td>Agrp</td><td>Day14.obob14v14__v__Day14.obobBL6d14</td><td>obob14v14</td><td>obobBL6d14</td><td>Day14</td><td>Day14</td><td>milo_index_tibble_Day14.Agrp</td></tr>\n",
       "</tbody>\n",
       "</table>\n"
      ],
      "text/latex": [
       "A tibble: 3 × 19\n",
       "\\begin{tabular}{lllllllllllllllllll}\n",
       " deg\\_output\\_suffix & da\\_results\\_nhg\\_obj & group\\_a & group\\_b & nhgc\\_obj & da\\_results\\_nhg\\_output\\_suffix & milo\\_obj & seurat\\_obj & nhm\\_obj & da\\_results\\_obj & restored\\_df\\_obj & nhood\\_grouping & labels & comparison & fgf1\\_tag & bl6\\_tag & fgf1\\_day & bl6\\_day & milo\\_index\\_tibble\\\\\n",
       " <chr> & <list> & <chr> & <chr> & <list> & <chr> & <list> & <list> & <list> & <list> & <list> & <chr> & <chr> & <chr> & <chr> & <chr> & <chr> & <chr> & <list>\\\\\n",
       "\\hline\n",
       "\t Agrp\\_\\_\\_Day14.obob14v14\\_\\_v\\_\\_Day14.obobBL6d14\\_\\_\\_bl6\\_grouping.neg\\_vs\\_rest         & da\\_results\\_nhg\\_Agrp\\_\\_\\_Day14.obob14v14\\_\\_v\\_\\_Day14.obobBL6d14 & neg &              & nhgc\\_Agrp\\_\\_\\_Day14.obob14v14\\_\\_v\\_\\_Day14.obobBL6d14 & Agrp\\_\\_\\_Day14.obob14v14\\_\\_v\\_\\_Day14.obobBL6d14 & milo\\_Day14.Agrp & obj\\_Day14.Agrp & nhm\\_Day14.Agrp\\_\\_\\_obob14v14 & da\\_results\\_01\\_Day14.Agrp\\_\\_\\_obob14v14 & restored\\_df\\_Day14.obob14v14\\_\\_v\\_\\_Day14.obobBL6d14 & bl6\\_grouping & Agrp & Day14.obob14v14\\_\\_v\\_\\_Day14.obobBL6d14 & obob14v14 & obobBL6d14 & Day14 & Day14 & milo\\_index\\_tibble\\_Day14.Agrp\\\\\n",
       "\t Agrp\\_\\_\\_Day14.obob14v14\\_\\_v\\_\\_Day14.obobBL6d14\\_\\_\\_bl6\\_grouping.neg\\_vs\\_neg\\_restored & da\\_results\\_nhg\\_Agrp\\_\\_\\_Day14.obob14v14\\_\\_v\\_\\_Day14.obobBL6d14 & neg & neg\\_restored & nhgc\\_Agrp\\_\\_\\_Day14.obob14v14\\_\\_v\\_\\_Day14.obobBL6d14 & Agrp\\_\\_\\_Day14.obob14v14\\_\\_v\\_\\_Day14.obobBL6d14 & milo\\_Day14.Agrp & obj\\_Day14.Agrp & nhm\\_Day14.Agrp\\_\\_\\_obob14v14 & da\\_results\\_01\\_Day14.Agrp\\_\\_\\_obob14v14 & restored\\_df\\_Day14.obob14v14\\_\\_v\\_\\_Day14.obobBL6d14 & bl6\\_grouping & Agrp & Day14.obob14v14\\_\\_v\\_\\_Day14.obobBL6d14 & obob14v14 & obobBL6d14 & Day14 & Day14 & milo\\_index\\_tibble\\_Day14.Agrp\\\\\n",
       "\t Agrp\\_\\_\\_Day14.obob14v14\\_\\_v\\_\\_Day14.obobBL6d14\\_\\_\\_bl6\\_grouping.neg\\_vs\\_none         & da\\_results\\_nhg\\_Agrp\\_\\_\\_Day14.obob14v14\\_\\_v\\_\\_Day14.obobBL6d14 & neg & none         & nhgc\\_Agrp\\_\\_\\_Day14.obob14v14\\_\\_v\\_\\_Day14.obobBL6d14 & Agrp\\_\\_\\_Day14.obob14v14\\_\\_v\\_\\_Day14.obobBL6d14 & milo\\_Day14.Agrp & obj\\_Day14.Agrp & nhm\\_Day14.Agrp\\_\\_\\_obob14v14 & da\\_results\\_01\\_Day14.Agrp\\_\\_\\_obob14v14 & restored\\_df\\_Day14.obob14v14\\_\\_v\\_\\_Day14.obobBL6d14 & bl6\\_grouping & Agrp & Day14.obob14v14\\_\\_v\\_\\_Day14.obobBL6d14 & obob14v14 & obobBL6d14 & Day14 & Day14 & milo\\_index\\_tibble\\_Day14.Agrp\\\\\n",
       "\\end{tabular}\n"
      ],
      "text/markdown": [
       "\n",
       "A tibble: 3 × 19\n",
       "\n",
       "| deg_output_suffix &lt;chr&gt; | da_results_nhg_obj &lt;list&gt; | group_a &lt;chr&gt; | group_b &lt;chr&gt; | nhgc_obj &lt;list&gt; | da_results_nhg_output_suffix &lt;chr&gt; | milo_obj &lt;list&gt; | seurat_obj &lt;list&gt; | nhm_obj &lt;list&gt; | da_results_obj &lt;list&gt; | restored_df_obj &lt;list&gt; | nhood_grouping &lt;chr&gt; | labels &lt;chr&gt; | comparison &lt;chr&gt; | fgf1_tag &lt;chr&gt; | bl6_tag &lt;chr&gt; | fgf1_day &lt;chr&gt; | bl6_day &lt;chr&gt; | milo_index_tibble &lt;list&gt; |\n",
       "|---|---|---|---|---|---|---|---|---|---|---|---|---|---|---|---|---|---|---|\n",
       "| Agrp___Day14.obob14v14__v__Day14.obobBL6d14___bl6_grouping.neg_vs_rest         | da_results_nhg_Agrp___Day14.obob14v14__v__Day14.obobBL6d14 | neg | <!----> | nhgc_Agrp___Day14.obob14v14__v__Day14.obobBL6d14 | Agrp___Day14.obob14v14__v__Day14.obobBL6d14 | milo_Day14.Agrp | obj_Day14.Agrp | nhm_Day14.Agrp___obob14v14 | da_results_01_Day14.Agrp___obob14v14 | restored_df_Day14.obob14v14__v__Day14.obobBL6d14 | bl6_grouping | Agrp | Day14.obob14v14__v__Day14.obobBL6d14 | obob14v14 | obobBL6d14 | Day14 | Day14 | milo_index_tibble_Day14.Agrp |\n",
       "| Agrp___Day14.obob14v14__v__Day14.obobBL6d14___bl6_grouping.neg_vs_neg_restored | da_results_nhg_Agrp___Day14.obob14v14__v__Day14.obobBL6d14 | neg | neg_restored | nhgc_Agrp___Day14.obob14v14__v__Day14.obobBL6d14 | Agrp___Day14.obob14v14__v__Day14.obobBL6d14 | milo_Day14.Agrp | obj_Day14.Agrp | nhm_Day14.Agrp___obob14v14 | da_results_01_Day14.Agrp___obob14v14 | restored_df_Day14.obob14v14__v__Day14.obobBL6d14 | bl6_grouping | Agrp | Day14.obob14v14__v__Day14.obobBL6d14 | obob14v14 | obobBL6d14 | Day14 | Day14 | milo_index_tibble_Day14.Agrp |\n",
       "| Agrp___Day14.obob14v14__v__Day14.obobBL6d14___bl6_grouping.neg_vs_none         | da_results_nhg_Agrp___Day14.obob14v14__v__Day14.obobBL6d14 | neg | none         | nhgc_Agrp___Day14.obob14v14__v__Day14.obobBL6d14 | Agrp___Day14.obob14v14__v__Day14.obobBL6d14 | milo_Day14.Agrp | obj_Day14.Agrp | nhm_Day14.Agrp___obob14v14 | da_results_01_Day14.Agrp___obob14v14 | restored_df_Day14.obob14v14__v__Day14.obobBL6d14 | bl6_grouping | Agrp | Day14.obob14v14__v__Day14.obobBL6d14 | obob14v14 | obobBL6d14 | Day14 | Day14 | milo_index_tibble_Day14.Agrp |\n",
       "\n"
      ],
      "text/plain": [
       "  deg_output_suffix                                                             \n",
       "1 Agrp___Day14.obob14v14__v__Day14.obobBL6d14___bl6_grouping.neg_vs_rest        \n",
       "2 Agrp___Day14.obob14v14__v__Day14.obobBL6d14___bl6_grouping.neg_vs_neg_restored\n",
       "3 Agrp___Day14.obob14v14__v__Day14.obobBL6d14___bl6_grouping.neg_vs_none        \n",
       "  da_results_nhg_obj                                         group_a\n",
       "1 da_results_nhg_Agrp___Day14.obob14v14__v__Day14.obobBL6d14 neg    \n",
       "2 da_results_nhg_Agrp___Day14.obob14v14__v__Day14.obobBL6d14 neg    \n",
       "3 da_results_nhg_Agrp___Day14.obob14v14__v__Day14.obobBL6d14 neg    \n",
       "  group_b      nhgc_obj                                        \n",
       "1              nhgc_Agrp___Day14.obob14v14__v__Day14.obobBL6d14\n",
       "2 neg_restored nhgc_Agrp___Day14.obob14v14__v__Day14.obobBL6d14\n",
       "3 none         nhgc_Agrp___Day14.obob14v14__v__Day14.obobBL6d14\n",
       "  da_results_nhg_output_suffix                milo_obj        seurat_obj    \n",
       "1 Agrp___Day14.obob14v14__v__Day14.obobBL6d14 milo_Day14.Agrp obj_Day14.Agrp\n",
       "2 Agrp___Day14.obob14v14__v__Day14.obobBL6d14 milo_Day14.Agrp obj_Day14.Agrp\n",
       "3 Agrp___Day14.obob14v14__v__Day14.obobBL6d14 milo_Day14.Agrp obj_Day14.Agrp\n",
       "  nhm_obj                    da_results_obj                      \n",
       "1 nhm_Day14.Agrp___obob14v14 da_results_01_Day14.Agrp___obob14v14\n",
       "2 nhm_Day14.Agrp___obob14v14 da_results_01_Day14.Agrp___obob14v14\n",
       "3 nhm_Day14.Agrp___obob14v14 da_results_01_Day14.Agrp___obob14v14\n",
       "  restored_df_obj                                  nhood_grouping labels\n",
       "1 restored_df_Day14.obob14v14__v__Day14.obobBL6d14 bl6_grouping   Agrp  \n",
       "2 restored_df_Day14.obob14v14__v__Day14.obobBL6d14 bl6_grouping   Agrp  \n",
       "3 restored_df_Day14.obob14v14__v__Day14.obobBL6d14 bl6_grouping   Agrp  \n",
       "  comparison                           fgf1_tag  bl6_tag    fgf1_day bl6_day\n",
       "1 Day14.obob14v14__v__Day14.obobBL6d14 obob14v14 obobBL6d14 Day14    Day14  \n",
       "2 Day14.obob14v14__v__Day14.obobBL6d14 obob14v14 obobBL6d14 Day14    Day14  \n",
       "3 Day14.obob14v14__v__Day14.obobBL6d14 obob14v14 obobBL6d14 Day14    Day14  \n",
       "  milo_index_tibble           \n",
       "1 milo_index_tibble_Day14.Agrp\n",
       "2 milo_index_tibble_Day14.Agrp\n",
       "3 milo_index_tibble_Day14.Agrp"
      ]
     },
     "metadata": {},
     "output_type": "display_data"
    },
    {
     "data": {
      "text/html": [
       "<style>\n",
       ".list-inline {list-style: none; margin:0; padding: 0}\n",
       ".list-inline>li {display: inline-block}\n",
       ".list-inline>li:not(:last-child)::after {content: \"\\00b7\"; padding: 0 .5ex}\n",
       "</style>\n",
       "<ol class=list-inline><li>1407</li><li>19</li></ol>\n"
      ],
      "text/latex": [
       "\\begin{enumerate*}\n",
       "\\item 1407\n",
       "\\item 19\n",
       "\\end{enumerate*}\n"
      ],
      "text/markdown": [
       "1. 1407\n",
       "2. 19\n",
       "\n",
       "\n"
      ],
      "text/plain": [
       "[1] 1407   19"
      ]
     },
     "metadata": {},
     "output_type": "display_data"
    }
   ],
   "source": [
    "deg_restored_recipe = annotate_nh_grouping_recipe %>%\n",
    "mutate(da_results_nhg_obj = rlang::syms(paste0('da_results_nhg_', da_results_nhg_output_suffix))) %>%\n",
    "mutate(nhgc_obj = rlang::syms(paste0('nhgc_', da_results_nhg_output_suffix))) %>%\n",
    "rename(group_a = grouping_polarity) %>%\n",
    "tidyr::crossing(tibble(group_b = c(\"\", \"none\", \"pos\", \"neg\", \"pos_restored\", \"neg_restored\"))) %>%\n",
    "filter(!(group_a == group_b)) %>%\n",
    "filter(!( (nhood_grouping == 'restored_grouping') & (group_b %in% c(\"pos\", \"neg\")) )) %>%\n",
    "filter(!( (nhood_grouping == 'fgf1_grouping') & (group_b %in% c(\"pos_restored\", \"neg_restored\")) )) %>%\n",
    "filter(!( (group_a == 'neg_restored') & (group_b  == \"pos_restored\") )) %>%\n",
    "filter(!( (group_a == 'neg') & (group_b  == \"pos\") )) %>%\n",
    "mutate(group_b_suffix = case_when(group_b == \"\" ~ \"rest\",\n",
    "                                  TRUE ~ group_b)) %>%\n",
    "mutate(deg_output_suffix = paste0(da_results_nhg_output_suffix, '___', nhood_grouping, '.', group_a, '_vs_', group_b_suffix)) %>%\n",
    "select(-group_b_suffix) %>%\n",
    "relocate(\"deg_output_suffix\", \"da_results_nhg_obj\", \"group_a\", \"group_b\", 'nhgc_obj')\n",
    "\n",
    "deg_restored_recipe %>% head(3)\n",
    "deg_restored_recipe %>% dim\n",
    "qs::qsave(deg_restored_recipe, 'deg_restored_recipe.qs')"
   ]
  },
  {
   "cell_type": "code",
   "execution_count": 42,
   "id": "8cdd59db",
   "metadata": {},
   "outputs": [
    {
     "data": {
      "text/html": [
       "<table class=\"dataframe\">\n",
       "<caption>A tibble: 0 × 19</caption>\n",
       "<thead>\n",
       "\t<tr><th scope=col>deg_output_suffix</th><th scope=col>da_results_nhg_obj</th><th scope=col>group_a</th><th scope=col>group_b</th><th scope=col>nhgc_obj</th><th scope=col>da_results_nhg_output_suffix</th><th scope=col>milo_obj</th><th scope=col>seurat_obj</th><th scope=col>nhm_obj</th><th scope=col>da_results_obj</th><th scope=col>restored_df_obj</th><th scope=col>nhood_grouping</th><th scope=col>labels</th><th scope=col>comparison</th><th scope=col>fgf1_tag</th><th scope=col>bl6_tag</th><th scope=col>fgf1_day</th><th scope=col>bl6_day</th><th scope=col>milo_index_tibble</th></tr>\n",
       "\t<tr><th scope=col>&lt;chr&gt;</th><th scope=col>&lt;list&gt;</th><th scope=col>&lt;chr&gt;</th><th scope=col>&lt;chr&gt;</th><th scope=col>&lt;list&gt;</th><th scope=col>&lt;chr&gt;</th><th scope=col>&lt;list&gt;</th><th scope=col>&lt;list&gt;</th><th scope=col>&lt;list&gt;</th><th scope=col>&lt;list&gt;</th><th scope=col>&lt;list&gt;</th><th scope=col>&lt;chr&gt;</th><th scope=col>&lt;chr&gt;</th><th scope=col>&lt;chr&gt;</th><th scope=col>&lt;chr&gt;</th><th scope=col>&lt;chr&gt;</th><th scope=col>&lt;chr&gt;</th><th scope=col>&lt;chr&gt;</th><th scope=col>&lt;list&gt;</th></tr>\n",
       "</thead>\n",
       "<tbody>\n",
       "</tbody>\n",
       "</table>\n"
      ],
      "text/latex": [
       "A tibble: 0 × 19\n",
       "\\begin{tabular}{lllllllllllllllllll}\n",
       " deg\\_output\\_suffix & da\\_results\\_nhg\\_obj & group\\_a & group\\_b & nhgc\\_obj & da\\_results\\_nhg\\_output\\_suffix & milo\\_obj & seurat\\_obj & nhm\\_obj & da\\_results\\_obj & restored\\_df\\_obj & nhood\\_grouping & labels & comparison & fgf1\\_tag & bl6\\_tag & fgf1\\_day & bl6\\_day & milo\\_index\\_tibble\\\\\n",
       " <chr> & <list> & <chr> & <chr> & <list> & <chr> & <list> & <list> & <list> & <list> & <list> & <chr> & <chr> & <chr> & <chr> & <chr> & <chr> & <chr> & <list>\\\\\n",
       "\\hline\n",
       "\\end{tabular}\n"
      ],
      "text/markdown": [
       "\n",
       "A tibble: 0 × 19\n",
       "\n",
       "| deg_output_suffix &lt;chr&gt; | da_results_nhg_obj &lt;list&gt; | group_a &lt;chr&gt; | group_b &lt;chr&gt; | nhgc_obj &lt;list&gt; | da_results_nhg_output_suffix &lt;chr&gt; | milo_obj &lt;list&gt; | seurat_obj &lt;list&gt; | nhm_obj &lt;list&gt; | da_results_obj &lt;list&gt; | restored_df_obj &lt;list&gt; | nhood_grouping &lt;chr&gt; | labels &lt;chr&gt; | comparison &lt;chr&gt; | fgf1_tag &lt;chr&gt; | bl6_tag &lt;chr&gt; | fgf1_day &lt;chr&gt; | bl6_day &lt;chr&gt; | milo_index_tibble &lt;list&gt; |\n",
       "|---|---|---|---|---|---|---|---|---|---|---|---|---|---|---|---|---|---|---|\n",
       "\n"
      ],
      "text/plain": [
       "     deg_output_suffix da_results_nhg_obj group_a group_b nhgc_obj\n",
       "     da_results_nhg_output_suffix milo_obj seurat_obj nhm_obj da_results_obj\n",
       "     restored_df_obj nhood_grouping labels comparison fgf1_tag bl6_tag fgf1_day\n",
       "     bl6_day milo_index_tibble"
      ]
     },
     "metadata": {},
     "output_type": "display_data"
    }
   ],
   "source": [
    "deg_restored_recipe %>%\n",
    "filter(labels == 'MOL') %>%\n",
    "filter(comparison == 'Day14.obob14v14__v__Day14.obobBL6d14')"
   ]
  },
  {
   "cell_type": "code",
   "execution_count": 43,
   "id": "4f05ee5e",
   "metadata": {},
   "outputs": [],
   "source": [
    "clusters_tibble = bind_rows(qs::qread('clusters_tibble_class.qs'),\n",
    "                            qs::qread('clusters_tibble_lvl1.qs')) %>%\n",
    "    dplyr::rename(labels=label, global_seurat_obj=object)"
   ]
  },
  {
   "cell_type": "code",
   "execution_count": 44,
   "id": "02674c89",
   "metadata": {},
   "outputs": [
    {
     "data": {
      "text/html": [
       "<style>\n",
       ".list-inline {list-style: none; margin:0; padding: 0}\n",
       ".list-inline>li {display: inline-block}\n",
       ".list-inline>li:not(:last-child)::after {content: \"\\00b7\"; padding: 0 .5ex}\n",
       "</style>\n",
       "<ol class=list-inline><li>1407</li><li>9</li></ol>\n"
      ],
      "text/latex": [
       "\\begin{enumerate*}\n",
       "\\item 1407\n",
       "\\item 9\n",
       "\\end{enumerate*}\n"
      ],
      "text/markdown": [
       "1. 1407\n",
       "2. 9\n",
       "\n",
       "\n"
      ],
      "text/plain": [
       "[1] 1407    9"
      ]
     },
     "metadata": {},
     "output_type": "display_data"
    },
    {
     "data": {
      "text/html": [
       "<table class=\"dataframe\">\n",
       "<caption>A tibble: 6 × 9</caption>\n",
       "<thead>\n",
       "\t<tr><th scope=col>deg_output_suffix</th><th scope=col>global_seurat_obj</th><th scope=col>seurat_obj</th><th scope=col>nhgc_obj</th><th scope=col>deg_ensmus_obj</th><th scope=col>nhood_grouping</th><th scope=col>name</th><th scope=col>group_a</th><th scope=col>group_b</th></tr>\n",
       "\t<tr><th scope=col>&lt;chr&gt;</th><th scope=col>&lt;list&gt;</th><th scope=col>&lt;list&gt;</th><th scope=col>&lt;list&gt;</th><th scope=col>&lt;list&gt;</th><th scope=col>&lt;chr&gt;</th><th scope=col>&lt;chr&gt;</th><th scope=col>&lt;chr&gt;</th><th scope=col>&lt;chr&gt;</th></tr>\n",
       "</thead>\n",
       "<tbody>\n",
       "\t<tr><td>Agrp___Day14.obob14v14__v__Day14.obobBL6d14___bl6_grouping.neg_vs_rest        </td><td>exp_labelled_neuron</td><td>obj_Day14.Agrp</td><td>nhgc_Agrp___Day14.obob14v14__v__Day14.obobBL6d14</td><td>deg_ensmus_Agrp___Day14.obob14v14__v__Day14.obobBL6d14___bl6_grouping.neg_vs_rest</td><td>bl6_grouping</td><td>Agrp\n",
       "Day14.obob14v14__v__Day14.obobBL6d14\n",
       "bl6_grouping.neg_vs_rest        </td><td>neg</td><td>            </td></tr>\n",
       "\t<tr><td>Agrp___Day14.obob14v14__v__Day14.obobBL6d14___bl6_grouping.neg_vs_neg_restored</td><td>exp_labelled_neuron</td><td>obj_Day14.Agrp</td><td>nhgc_Agrp___Day14.obob14v14__v__Day14.obobBL6d14</td><td>deg_ensmus_Agrp___Day14.obob14v14__v__Day14.obobBL6d14___bl6_grouping.neg_vs_neg_restored</td><td>bl6_grouping</td><td>Agrp\n",
       "Day14.obob14v14__v__Day14.obobBL6d14\n",
       "bl6_grouping.neg_vs_neg_restored</td><td>neg</td><td>neg_restored</td></tr>\n",
       "\t<tr><td>Agrp___Day14.obob14v14__v__Day14.obobBL6d14___bl6_grouping.neg_vs_none        </td><td>exp_labelled_neuron</td><td>obj_Day14.Agrp</td><td>nhgc_Agrp___Day14.obob14v14__v__Day14.obobBL6d14</td><td>deg_ensmus_Agrp___Day14.obob14v14__v__Day14.obobBL6d14___bl6_grouping.neg_vs_none</td><td>bl6_grouping</td><td>Agrp\n",
       "Day14.obob14v14__v__Day14.obobBL6d14\n",
       "bl6_grouping.neg_vs_none        </td><td>neg</td><td>none        </td></tr>\n",
       "\t<tr><td>Agrp___Day14.obob14v14__v__Day14.obobBL6d14___bl6_grouping.neg_vs_pos_restored</td><td>exp_labelled_neuron</td><td>obj_Day14.Agrp</td><td>nhgc_Agrp___Day14.obob14v14__v__Day14.obobBL6d14</td><td>deg_ensmus_Agrp___Day14.obob14v14__v__Day14.obobBL6d14___bl6_grouping.neg_vs_pos_restored</td><td>bl6_grouping</td><td>Agrp\n",
       "Day14.obob14v14__v__Day14.obobBL6d14\n",
       "bl6_grouping.neg_vs_pos_restored</td><td>neg</td><td>pos_restored</td></tr>\n",
       "\t<tr><td>Agrp___Day14.obob14v14__v__Day14.obobBL6d14___bl6_grouping.pos_vs_rest        </td><td>exp_labelled_neuron</td><td>obj_Day14.Agrp</td><td>nhgc_Agrp___Day14.obob14v14__v__Day14.obobBL6d14</td><td>deg_ensmus_Agrp___Day14.obob14v14__v__Day14.obobBL6d14___bl6_grouping.pos_vs_rest</td><td>bl6_grouping</td><td>Agrp\n",
       "Day14.obob14v14__v__Day14.obobBL6d14\n",
       "bl6_grouping.pos_vs_rest        </td><td>pos</td><td>            </td></tr>\n",
       "\t<tr><td>Agrp___Day14.obob14v14__v__Day14.obobBL6d14___bl6_grouping.pos_vs_neg         </td><td>exp_labelled_neuron</td><td>obj_Day14.Agrp</td><td>nhgc_Agrp___Day14.obob14v14__v__Day14.obobBL6d14</td><td>deg_ensmus_Agrp___Day14.obob14v14__v__Day14.obobBL6d14___bl6_grouping.pos_vs_neg</td><td>bl6_grouping</td><td>Agrp\n",
       "Day14.obob14v14__v__Day14.obobBL6d14\n",
       "bl6_grouping.pos_vs_neg         </td><td>pos</td><td>neg         </td></tr>\n",
       "</tbody>\n",
       "</table>\n"
      ],
      "text/latex": [
       "A tibble: 6 × 9\n",
       "\\begin{tabular}{lllllllll}\n",
       " deg\\_output\\_suffix & global\\_seurat\\_obj & seurat\\_obj & nhgc\\_obj & deg\\_ensmus\\_obj & nhood\\_grouping & name & group\\_a & group\\_b\\\\\n",
       " <chr> & <list> & <list> & <list> & <list> & <chr> & <chr> & <chr> & <chr>\\\\\n",
       "\\hline\n",
       "\t Agrp\\_\\_\\_Day14.obob14v14\\_\\_v\\_\\_Day14.obobBL6d14\\_\\_\\_bl6\\_grouping.neg\\_vs\\_rest         & exp\\_labelled\\_neuron & obj\\_Day14.Agrp & nhgc\\_Agrp\\_\\_\\_Day14.obob14v14\\_\\_v\\_\\_Day14.obobBL6d14 & deg\\_ensmus\\_Agrp\\_\\_\\_Day14.obob14v14\\_\\_v\\_\\_Day14.obobBL6d14\\_\\_\\_bl6\\_grouping.neg\\_vs\\_rest & bl6\\_grouping & Agrp\n",
       "Day14.obob14v14\\_\\_v\\_\\_Day14.obobBL6d14\n",
       "bl6\\_grouping.neg\\_vs\\_rest         & neg &             \\\\\n",
       "\t Agrp\\_\\_\\_Day14.obob14v14\\_\\_v\\_\\_Day14.obobBL6d14\\_\\_\\_bl6\\_grouping.neg\\_vs\\_neg\\_restored & exp\\_labelled\\_neuron & obj\\_Day14.Agrp & nhgc\\_Agrp\\_\\_\\_Day14.obob14v14\\_\\_v\\_\\_Day14.obobBL6d14 & deg\\_ensmus\\_Agrp\\_\\_\\_Day14.obob14v14\\_\\_v\\_\\_Day14.obobBL6d14\\_\\_\\_bl6\\_grouping.neg\\_vs\\_neg\\_restored & bl6\\_grouping & Agrp\n",
       "Day14.obob14v14\\_\\_v\\_\\_Day14.obobBL6d14\n",
       "bl6\\_grouping.neg\\_vs\\_neg\\_restored & neg & neg\\_restored\\\\\n",
       "\t Agrp\\_\\_\\_Day14.obob14v14\\_\\_v\\_\\_Day14.obobBL6d14\\_\\_\\_bl6\\_grouping.neg\\_vs\\_none         & exp\\_labelled\\_neuron & obj\\_Day14.Agrp & nhgc\\_Agrp\\_\\_\\_Day14.obob14v14\\_\\_v\\_\\_Day14.obobBL6d14 & deg\\_ensmus\\_Agrp\\_\\_\\_Day14.obob14v14\\_\\_v\\_\\_Day14.obobBL6d14\\_\\_\\_bl6\\_grouping.neg\\_vs\\_none & bl6\\_grouping & Agrp\n",
       "Day14.obob14v14\\_\\_v\\_\\_Day14.obobBL6d14\n",
       "bl6\\_grouping.neg\\_vs\\_none         & neg & none        \\\\\n",
       "\t Agrp\\_\\_\\_Day14.obob14v14\\_\\_v\\_\\_Day14.obobBL6d14\\_\\_\\_bl6\\_grouping.neg\\_vs\\_pos\\_restored & exp\\_labelled\\_neuron & obj\\_Day14.Agrp & nhgc\\_Agrp\\_\\_\\_Day14.obob14v14\\_\\_v\\_\\_Day14.obobBL6d14 & deg\\_ensmus\\_Agrp\\_\\_\\_Day14.obob14v14\\_\\_v\\_\\_Day14.obobBL6d14\\_\\_\\_bl6\\_grouping.neg\\_vs\\_pos\\_restored & bl6\\_grouping & Agrp\n",
       "Day14.obob14v14\\_\\_v\\_\\_Day14.obobBL6d14\n",
       "bl6\\_grouping.neg\\_vs\\_pos\\_restored & neg & pos\\_restored\\\\\n",
       "\t Agrp\\_\\_\\_Day14.obob14v14\\_\\_v\\_\\_Day14.obobBL6d14\\_\\_\\_bl6\\_grouping.pos\\_vs\\_rest         & exp\\_labelled\\_neuron & obj\\_Day14.Agrp & nhgc\\_Agrp\\_\\_\\_Day14.obob14v14\\_\\_v\\_\\_Day14.obobBL6d14 & deg\\_ensmus\\_Agrp\\_\\_\\_Day14.obob14v14\\_\\_v\\_\\_Day14.obobBL6d14\\_\\_\\_bl6\\_grouping.pos\\_vs\\_rest & bl6\\_grouping & Agrp\n",
       "Day14.obob14v14\\_\\_v\\_\\_Day14.obobBL6d14\n",
       "bl6\\_grouping.pos\\_vs\\_rest         & pos &             \\\\\n",
       "\t Agrp\\_\\_\\_Day14.obob14v14\\_\\_v\\_\\_Day14.obobBL6d14\\_\\_\\_bl6\\_grouping.pos\\_vs\\_neg          & exp\\_labelled\\_neuron & obj\\_Day14.Agrp & nhgc\\_Agrp\\_\\_\\_Day14.obob14v14\\_\\_v\\_\\_Day14.obobBL6d14 & deg\\_ensmus\\_Agrp\\_\\_\\_Day14.obob14v14\\_\\_v\\_\\_Day14.obobBL6d14\\_\\_\\_bl6\\_grouping.pos\\_vs\\_neg & bl6\\_grouping & Agrp\n",
       "Day14.obob14v14\\_\\_v\\_\\_Day14.obobBL6d14\n",
       "bl6\\_grouping.pos\\_vs\\_neg          & pos & neg         \\\\\n",
       "\\end{tabular}\n"
      ],
      "text/markdown": [
       "\n",
       "A tibble: 6 × 9\n",
       "\n",
       "| deg_output_suffix &lt;chr&gt; | global_seurat_obj &lt;list&gt; | seurat_obj &lt;list&gt; | nhgc_obj &lt;list&gt; | deg_ensmus_obj &lt;list&gt; | nhood_grouping &lt;chr&gt; | name &lt;chr&gt; | group_a &lt;chr&gt; | group_b &lt;chr&gt; |\n",
       "|---|---|---|---|---|---|---|---|---|\n",
       "| Agrp___Day14.obob14v14__v__Day14.obobBL6d14___bl6_grouping.neg_vs_rest         | exp_labelled_neuron | obj_Day14.Agrp | nhgc_Agrp___Day14.obob14v14__v__Day14.obobBL6d14 | deg_ensmus_Agrp___Day14.obob14v14__v__Day14.obobBL6d14___bl6_grouping.neg_vs_rest | bl6_grouping | Agrp\n",
       "Day14.obob14v14__v__Day14.obobBL6d14\n",
       "bl6_grouping.neg_vs_rest         | neg | <!----> |\n",
       "| Agrp___Day14.obob14v14__v__Day14.obobBL6d14___bl6_grouping.neg_vs_neg_restored | exp_labelled_neuron | obj_Day14.Agrp | nhgc_Agrp___Day14.obob14v14__v__Day14.obobBL6d14 | deg_ensmus_Agrp___Day14.obob14v14__v__Day14.obobBL6d14___bl6_grouping.neg_vs_neg_restored | bl6_grouping | Agrp\n",
       "Day14.obob14v14__v__Day14.obobBL6d14\n",
       "bl6_grouping.neg_vs_neg_restored | neg | neg_restored |\n",
       "| Agrp___Day14.obob14v14__v__Day14.obobBL6d14___bl6_grouping.neg_vs_none         | exp_labelled_neuron | obj_Day14.Agrp | nhgc_Agrp___Day14.obob14v14__v__Day14.obobBL6d14 | deg_ensmus_Agrp___Day14.obob14v14__v__Day14.obobBL6d14___bl6_grouping.neg_vs_none | bl6_grouping | Agrp\n",
       "Day14.obob14v14__v__Day14.obobBL6d14\n",
       "bl6_grouping.neg_vs_none         | neg | none         |\n",
       "| Agrp___Day14.obob14v14__v__Day14.obobBL6d14___bl6_grouping.neg_vs_pos_restored | exp_labelled_neuron | obj_Day14.Agrp | nhgc_Agrp___Day14.obob14v14__v__Day14.obobBL6d14 | deg_ensmus_Agrp___Day14.obob14v14__v__Day14.obobBL6d14___bl6_grouping.neg_vs_pos_restored | bl6_grouping | Agrp\n",
       "Day14.obob14v14__v__Day14.obobBL6d14\n",
       "bl6_grouping.neg_vs_pos_restored | neg | pos_restored |\n",
       "| Agrp___Day14.obob14v14__v__Day14.obobBL6d14___bl6_grouping.pos_vs_rest         | exp_labelled_neuron | obj_Day14.Agrp | nhgc_Agrp___Day14.obob14v14__v__Day14.obobBL6d14 | deg_ensmus_Agrp___Day14.obob14v14__v__Day14.obobBL6d14___bl6_grouping.pos_vs_rest | bl6_grouping | Agrp\n",
       "Day14.obob14v14__v__Day14.obobBL6d14\n",
       "bl6_grouping.pos_vs_rest         | pos | <!----> |\n",
       "| Agrp___Day14.obob14v14__v__Day14.obobBL6d14___bl6_grouping.pos_vs_neg          | exp_labelled_neuron | obj_Day14.Agrp | nhgc_Agrp___Day14.obob14v14__v__Day14.obobBL6d14 | deg_ensmus_Agrp___Day14.obob14v14__v__Day14.obobBL6d14___bl6_grouping.pos_vs_neg | bl6_grouping | Agrp\n",
       "Day14.obob14v14__v__Day14.obobBL6d14\n",
       "bl6_grouping.pos_vs_neg          | pos | neg          |\n",
       "\n"
      ],
      "text/plain": [
       "  deg_output_suffix                                                             \n",
       "1 Agrp___Day14.obob14v14__v__Day14.obobBL6d14___bl6_grouping.neg_vs_rest        \n",
       "2 Agrp___Day14.obob14v14__v__Day14.obobBL6d14___bl6_grouping.neg_vs_neg_restored\n",
       "3 Agrp___Day14.obob14v14__v__Day14.obobBL6d14___bl6_grouping.neg_vs_none        \n",
       "4 Agrp___Day14.obob14v14__v__Day14.obobBL6d14___bl6_grouping.neg_vs_pos_restored\n",
       "5 Agrp___Day14.obob14v14__v__Day14.obobBL6d14___bl6_grouping.pos_vs_rest        \n",
       "6 Agrp___Day14.obob14v14__v__Day14.obobBL6d14___bl6_grouping.pos_vs_neg         \n",
       "  global_seurat_obj   seurat_obj    \n",
       "1 exp_labelled_neuron obj_Day14.Agrp\n",
       "2 exp_labelled_neuron obj_Day14.Agrp\n",
       "3 exp_labelled_neuron obj_Day14.Agrp\n",
       "4 exp_labelled_neuron obj_Day14.Agrp\n",
       "5 exp_labelled_neuron obj_Day14.Agrp\n",
       "6 exp_labelled_neuron obj_Day14.Agrp\n",
       "  nhgc_obj                                        \n",
       "1 nhgc_Agrp___Day14.obob14v14__v__Day14.obobBL6d14\n",
       "2 nhgc_Agrp___Day14.obob14v14__v__Day14.obobBL6d14\n",
       "3 nhgc_Agrp___Day14.obob14v14__v__Day14.obobBL6d14\n",
       "4 nhgc_Agrp___Day14.obob14v14__v__Day14.obobBL6d14\n",
       "5 nhgc_Agrp___Day14.obob14v14__v__Day14.obobBL6d14\n",
       "6 nhgc_Agrp___Day14.obob14v14__v__Day14.obobBL6d14\n",
       "  deg_ensmus_obj                                                                           \n",
       "1 deg_ensmus_Agrp___Day14.obob14v14__v__Day14.obobBL6d14___bl6_grouping.neg_vs_rest        \n",
       "2 deg_ensmus_Agrp___Day14.obob14v14__v__Day14.obobBL6d14___bl6_grouping.neg_vs_neg_restored\n",
       "3 deg_ensmus_Agrp___Day14.obob14v14__v__Day14.obobBL6d14___bl6_grouping.neg_vs_none        \n",
       "4 deg_ensmus_Agrp___Day14.obob14v14__v__Day14.obobBL6d14___bl6_grouping.neg_vs_pos_restored\n",
       "5 deg_ensmus_Agrp___Day14.obob14v14__v__Day14.obobBL6d14___bl6_grouping.pos_vs_rest        \n",
       "6 deg_ensmus_Agrp___Day14.obob14v14__v__Day14.obobBL6d14___bl6_grouping.pos_vs_neg         \n",
       "  nhood_grouping\n",
       "1 bl6_grouping  \n",
       "2 bl6_grouping  \n",
       "3 bl6_grouping  \n",
       "4 bl6_grouping  \n",
       "5 bl6_grouping  \n",
       "6 bl6_grouping  \n",
       "  name                                                                        \n",
       "1 Agrp\\nDay14.obob14v14__v__Day14.obobBL6d14\\nbl6_grouping.neg_vs_rest        \n",
       "2 Agrp\\nDay14.obob14v14__v__Day14.obobBL6d14\\nbl6_grouping.neg_vs_neg_restored\n",
       "3 Agrp\\nDay14.obob14v14__v__Day14.obobBL6d14\\nbl6_grouping.neg_vs_none        \n",
       "4 Agrp\\nDay14.obob14v14__v__Day14.obobBL6d14\\nbl6_grouping.neg_vs_pos_restored\n",
       "5 Agrp\\nDay14.obob14v14__v__Day14.obobBL6d14\\nbl6_grouping.pos_vs_rest        \n",
       "6 Agrp\\nDay14.obob14v14__v__Day14.obobBL6d14\\nbl6_grouping.pos_vs_neg         \n",
       "  group_a group_b     \n",
       "1 neg                 \n",
       "2 neg     neg_restored\n",
       "3 neg     none        \n",
       "4 neg     pos_restored\n",
       "5 pos                 \n",
       "6 pos     neg         "
      ]
     },
     "metadata": {},
     "output_type": "display_data"
    }
   ],
   "source": [
    "summary_plot_recipe = deg_restored_recipe %>%\n",
    "# added this 240122\n",
    "rowwise %>%\n",
    "mutate(labels = paste0(fgf1_day, '.', labels)) %>%\n",
    "ungroup %>%\n",
    "# added above 240122\n",
    "left_join(clusters_tibble, by = 'labels') %>% \n",
    "mutate(name = str_replace_all(deg_output_suffix, '___', '\\n')) %>%\n",
    "mutate(deg_ensmus_obj = rlang::syms(paste0('deg_ensmus_', deg_output_suffix))) %>%\n",
    "select(deg_output_suffix, global_seurat_obj, seurat_obj, nhgc_obj, deg_ensmus_obj, nhood_grouping, name, group_a, group_b) %>%\n",
    "# filter(group_a == 'pos') %>%\n",
    "# filter(!str_detect(deg_output_suffix, 'd5')) %>%\n",
    "# filter(!str_detect(deg_output_suffix, 'd14')) %>%\n",
    "distinct\n",
    "\n",
    "summary_plot_recipe %>% dim\n",
    "summary_plot_recipe %>% head\n",
    "qs::qsave(summary_plot_recipe, \"summary_plot_recipe.qs\")"
   ]
  },
  {
   "cell_type": "code",
   "execution_count": 45,
   "id": "7b94fe94",
   "metadata": {},
   "outputs": [],
   "source": [
    "tibble(prefix = c('deg_summary_plot_gSCT_', 'deg_summary_plot_reSCT_')) %>%\n",
    "tidyr::crossing(summary_plot_recipe) %>%\n",
    "rowwise %>%\n",
    "mutate(target_name = paste0(prefix, deg_output_suffix, collapse='')) %>% \n",
    "ungroup %>%\n",
    "pull(target_name) %>%\n",
    "qs::qsave(\"plot_targets.qs\")"
   ]
  },
  {
   "cell_type": "code",
   "execution_count": 46,
   "id": "db68d4c5",
   "metadata": {},
   "outputs": [
    {
     "data": {
      "text/html": [
       "2814"
      ],
      "text/latex": [
       "2814"
      ],
      "text/markdown": [
       "2814"
      ],
      "text/plain": [
       "[1] 2814"
      ]
     },
     "metadata": {},
     "output_type": "display_data"
    }
   ],
   "source": [
    "length(qs::qread('plot_targets.qs'))"
   ]
  },
  {
   "cell_type": "code",
   "execution_count": 47,
   "id": "b6b894c0",
   "metadata": {},
   "outputs": [
    {
     "data": {
      "text/html": [
       "<table class=\"dataframe\">\n",
       "<caption>A tibble: 0 × 2</caption>\n",
       "<thead>\n",
       "\t<tr><th scope=col>name</th><th scope=col>value</th></tr>\n",
       "\t<tr><th scope=col>&lt;int&gt;</th><th scope=col>&lt;chr&gt;</th></tr>\n",
       "</thead>\n",
       "<tbody>\n",
       "</tbody>\n",
       "</table>\n"
      ],
      "text/latex": [
       "A tibble: 0 × 2\n",
       "\\begin{tabular}{ll}\n",
       " name & value\\\\\n",
       " <int> & <chr>\\\\\n",
       "\\hline\n",
       "\\end{tabular}\n"
      ],
      "text/markdown": [
       "\n",
       "A tibble: 0 × 2\n",
       "\n",
       "| name &lt;int&gt; | value &lt;chr&gt; |\n",
       "|---|---|\n",
       "\n"
      ],
      "text/plain": [
       "     name value"
      ]
     },
     "metadata": {},
     "output_type": "display_data"
    }
   ],
   "source": [
    "qs::qread('plot_targets.qs') %>% enframe %>% filter(value == 'deg_summary_plot_gSCT_a1_Tany__Astrocytes___all.obob5v5__v__all.obob14vBL6___fgf1_grouping.pos_vs_neg')"
   ]
  },
  {
   "cell_type": "code",
   "execution_count": 48,
   "id": "30ac5cf8",
   "metadata": {},
   "outputs": [
    {
     "data": {
      "text/html": [
       "<style>\n",
       ".list-inline {list-style: none; margin:0; padding: 0}\n",
       ".list-inline>li {display: inline-block}\n",
       ".list-inline>li:not(:last-child)::after {content: \"\\00b7\"; padding: 0 .5ex}\n",
       "</style>\n",
       "<ol class=list-inline><li>'Day14.obobBL6d14'</li><li>'Day5.obobBL6d5'</li></ol>\n"
      ],
      "text/latex": [
       "\\begin{enumerate*}\n",
       "\\item 'Day14.obobBL6d14'\n",
       "\\item 'Day5.obobBL6d5'\n",
       "\\end{enumerate*}\n"
      ],
      "text/markdown": [
       "1. 'Day14.obobBL6d14'\n",
       "2. 'Day5.obobBL6d5'\n",
       "\n",
       "\n"
      ],
      "text/plain": [
       "[1] \"Day14.obobBL6d14\" \"Day5.obobBL6d5\"  "
      ]
     },
     "metadata": {},
     "output_type": "display_data"
    }
   ],
   "source": [
    "summary_plot_recipe %>%\n",
    "rowwise %>%\n",
    "mutate(blah = str_split(deg_output_suffix, '___')) %>%\n",
    "relocate(blah) %>%\n",
    "mutate(blah = blah[2]) %>%\n",
    "mutate(blah = str_split(blah, '__')) %>%\n",
    "mutate(blah = blah[3]) %>%\n",
    "pull(blah) %>%\n",
    "unique"
   ]
  },
  {
   "cell_type": "code",
   "execution_count": 49,
   "id": "fb054be3",
   "metadata": {},
   "outputs": [
    {
     "data": {
      "text/html": [
       "<table class=\"dataframe\">\n",
       "<caption>A tibble: 134 × 1</caption>\n",
       "<thead>\n",
       "\t<tr><th scope=col>seurat_obj</th></tr>\n",
       "\t<tr><th scope=col>&lt;list&gt;</th></tr>\n",
       "</thead>\n",
       "<tbody>\n",
       "\t<tr><td>obj_Day14.Agrp</td></tr>\n",
       "\t<tr><td>obj_Day5.Agrp</td></tr>\n",
       "\t<tr><td>obj_Day14.Arx__Nr5a2</td></tr>\n",
       "\t<tr><td>obj_Day5.Arx__Nr5a2</td></tr>\n",
       "\t<tr><td>obj_Day14.Astrocytes</td></tr>\n",
       "\t<tr><td>obj_Day5.Astrocytes</td></tr>\n",
       "\t<tr><td>obj_Day14.Dlk1</td></tr>\n",
       "\t<tr><td>obj_Day5.Dlk1</td></tr>\n",
       "\t<tr><td>obj_Day14.Endothelial_cells</td></tr>\n",
       "\t<tr><td>obj_Day5.Endothelial_cells</td></tr>\n",
       "\t<tr><td>obj_Day14.Ependymal_cells</td></tr>\n",
       "\t<tr><td>obj_Day5.Ependymal_cells</td></tr>\n",
       "\t<tr><td>obj_Day14.Esr1</td></tr>\n",
       "\t<tr><td>obj_Day5.Esr1</td></tr>\n",
       "\t<tr><td>obj_Day14.Fez1</td></tr>\n",
       "\t<tr><td>obj_Day5.Fez1</td></tr>\n",
       "\t<tr><td>obj_Day14.g_drop</td></tr>\n",
       "\t<tr><td>obj_Day5.g_drop</td></tr>\n",
       "\t<tr><td>obj_Day14.g1</td></tr>\n",
       "\t<tr><td>obj_Day5.g1</td></tr>\n",
       "\t<tr><td>obj_Day14.g2</td></tr>\n",
       "\t<tr><td>obj_Day5.g2</td></tr>\n",
       "\t<tr><td>obj_Day14.g3</td></tr>\n",
       "\t<tr><td>obj_Day5.g3</td></tr>\n",
       "\t<tr><td>obj_Day14.g4</td></tr>\n",
       "\t<tr><td>obj_Day5.g4</td></tr>\n",
       "\t<tr><td>obj_Day14.Ghrh</td></tr>\n",
       "\t<tr><td>obj_Day5.Ghrh</td></tr>\n",
       "\t<tr><td>obj_Day14.Gpr50__Tac2</td></tr>\n",
       "\t<tr><td>obj_Day5.Gpr50__Tac2</td></tr>\n",
       "\t<tr><td>⋮</td></tr>\n",
       "\t<tr><td>obj_Day14.Ppp1r17__Tafa4</td></tr>\n",
       "\t<tr><td>obj_Day5.Ppp1r17__Tafa4</td></tr>\n",
       "\t<tr><td>obj_Day14.Reln__Lef1</td></tr>\n",
       "\t<tr><td>obj_Day5.Reln__Lef1</td></tr>\n",
       "\t<tr><td>obj_Day14.Sim1</td></tr>\n",
       "\t<tr><td>obj_Day5.Sim1</td></tr>\n",
       "\t<tr><td>obj_Day14.Slc17a6__Trhr</td></tr>\n",
       "\t<tr><td>obj_Day5.Slc17a6__Trhr</td></tr>\n",
       "\t<tr><td>obj_Day14.Sst__Nts</td></tr>\n",
       "\t<tr><td>obj_Day5.Sst__Nts</td></tr>\n",
       "\t<tr><td>obj_Day14.Sst__Pthlh</td></tr>\n",
       "\t<tr><td>obj_Day5.Sst__Pthlh</td></tr>\n",
       "\t<tr><td>obj_Day14.Sst__Unc13c</td></tr>\n",
       "\t<tr><td>obj_Day5.Sst__Unc13c</td></tr>\n",
       "\t<tr><td>obj_Day14.Tanycytes</td></tr>\n",
       "\t<tr><td>obj_Day5.Tanycytes</td></tr>\n",
       "\t<tr><td>obj_Day14.Tbx19__Pirt</td></tr>\n",
       "\t<tr><td>obj_Day5.Tbx19__Pirt</td></tr>\n",
       "\t<tr><td>obj_Day14.Th__Nfib</td></tr>\n",
       "\t<tr><td>obj_Day5.Th__Nfib</td></tr>\n",
       "\t<tr><td>obj_Day14.Th__Slc6a3</td></tr>\n",
       "\t<tr><td>obj_Day5.Th__Slc6a3</td></tr>\n",
       "\t<tr><td>obj_Day14.Tmem215__Dach2</td></tr>\n",
       "\t<tr><td>obj_Day5.Tmem215__Dach2</td></tr>\n",
       "\t<tr><td>obj_Day14.Tmem215__Greb1</td></tr>\n",
       "\t<tr><td>obj_Day5.Tmem215__Greb1</td></tr>\n",
       "\t<tr><td>obj_Day14.Trh__Cxcl12</td></tr>\n",
       "\t<tr><td>obj_Day5.Trh__Cxcl12</td></tr>\n",
       "\t<tr><td>obj_Day14.Trh__Lef1</td></tr>\n",
       "\t<tr><td>obj_Day5.Trh__Lef1</td></tr>\n",
       "</tbody>\n",
       "</table>\n"
      ],
      "text/latex": [
       "A tibble: 134 × 1\n",
       "\\begin{tabular}{l}\n",
       " seurat\\_obj\\\\\n",
       " <list>\\\\\n",
       "\\hline\n",
       "\t obj\\_Day14.Agrp\\\\\n",
       "\t obj\\_Day5.Agrp\\\\\n",
       "\t obj\\_Day14.Arx\\_\\_Nr5a2\\\\\n",
       "\t obj\\_Day5.Arx\\_\\_Nr5a2\\\\\n",
       "\t obj\\_Day14.Astrocytes\\\\\n",
       "\t obj\\_Day5.Astrocytes\\\\\n",
       "\t obj\\_Day14.Dlk1\\\\\n",
       "\t obj\\_Day5.Dlk1\\\\\n",
       "\t obj\\_Day14.Endothelial\\_cells\\\\\n",
       "\t obj\\_Day5.Endothelial\\_cells\\\\\n",
       "\t obj\\_Day14.Ependymal\\_cells\\\\\n",
       "\t obj\\_Day5.Ependymal\\_cells\\\\\n",
       "\t obj\\_Day14.Esr1\\\\\n",
       "\t obj\\_Day5.Esr1\\\\\n",
       "\t obj\\_Day14.Fez1\\\\\n",
       "\t obj\\_Day5.Fez1\\\\\n",
       "\t obj\\_Day14.g\\_drop\\\\\n",
       "\t obj\\_Day5.g\\_drop\\\\\n",
       "\t obj\\_Day14.g1\\\\\n",
       "\t obj\\_Day5.g1\\\\\n",
       "\t obj\\_Day14.g2\\\\\n",
       "\t obj\\_Day5.g2\\\\\n",
       "\t obj\\_Day14.g3\\\\\n",
       "\t obj\\_Day5.g3\\\\\n",
       "\t obj\\_Day14.g4\\\\\n",
       "\t obj\\_Day5.g4\\\\\n",
       "\t obj\\_Day14.Ghrh\\\\\n",
       "\t obj\\_Day5.Ghrh\\\\\n",
       "\t obj\\_Day14.Gpr50\\_\\_Tac2\\\\\n",
       "\t obj\\_Day5.Gpr50\\_\\_Tac2\\\\\n",
       "\t ⋮\\\\\n",
       "\t obj\\_Day14.Ppp1r17\\_\\_Tafa4\\\\\n",
       "\t obj\\_Day5.Ppp1r17\\_\\_Tafa4\\\\\n",
       "\t obj\\_Day14.Reln\\_\\_Lef1\\\\\n",
       "\t obj\\_Day5.Reln\\_\\_Lef1\\\\\n",
       "\t obj\\_Day14.Sim1\\\\\n",
       "\t obj\\_Day5.Sim1\\\\\n",
       "\t obj\\_Day14.Slc17a6\\_\\_Trhr\\\\\n",
       "\t obj\\_Day5.Slc17a6\\_\\_Trhr\\\\\n",
       "\t obj\\_Day14.Sst\\_\\_Nts\\\\\n",
       "\t obj\\_Day5.Sst\\_\\_Nts\\\\\n",
       "\t obj\\_Day14.Sst\\_\\_Pthlh\\\\\n",
       "\t obj\\_Day5.Sst\\_\\_Pthlh\\\\\n",
       "\t obj\\_Day14.Sst\\_\\_Unc13c\\\\\n",
       "\t obj\\_Day5.Sst\\_\\_Unc13c\\\\\n",
       "\t obj\\_Day14.Tanycytes\\\\\n",
       "\t obj\\_Day5.Tanycytes\\\\\n",
       "\t obj\\_Day14.Tbx19\\_\\_Pirt\\\\\n",
       "\t obj\\_Day5.Tbx19\\_\\_Pirt\\\\\n",
       "\t obj\\_Day14.Th\\_\\_Nfib\\\\\n",
       "\t obj\\_Day5.Th\\_\\_Nfib\\\\\n",
       "\t obj\\_Day14.Th\\_\\_Slc6a3\\\\\n",
       "\t obj\\_Day5.Th\\_\\_Slc6a3\\\\\n",
       "\t obj\\_Day14.Tmem215\\_\\_Dach2\\\\\n",
       "\t obj\\_Day5.Tmem215\\_\\_Dach2\\\\\n",
       "\t obj\\_Day14.Tmem215\\_\\_Greb1\\\\\n",
       "\t obj\\_Day5.Tmem215\\_\\_Greb1\\\\\n",
       "\t obj\\_Day14.Trh\\_\\_Cxcl12\\\\\n",
       "\t obj\\_Day5.Trh\\_\\_Cxcl12\\\\\n",
       "\t obj\\_Day14.Trh\\_\\_Lef1\\\\\n",
       "\t obj\\_Day5.Trh\\_\\_Lef1\\\\\n",
       "\\end{tabular}\n"
      ],
      "text/markdown": [
       "\n",
       "A tibble: 134 × 1\n",
       "\n",
       "| seurat_obj &lt;list&gt; |\n",
       "|---|\n",
       "| obj_Day14.Agrp |\n",
       "| obj_Day5.Agrp |\n",
       "| obj_Day14.Arx__Nr5a2 |\n",
       "| obj_Day5.Arx__Nr5a2 |\n",
       "| obj_Day14.Astrocytes |\n",
       "| obj_Day5.Astrocytes |\n",
       "| obj_Day14.Dlk1 |\n",
       "| obj_Day5.Dlk1 |\n",
       "| obj_Day14.Endothelial_cells |\n",
       "| obj_Day5.Endothelial_cells |\n",
       "| obj_Day14.Ependymal_cells |\n",
       "| obj_Day5.Ependymal_cells |\n",
       "| obj_Day14.Esr1 |\n",
       "| obj_Day5.Esr1 |\n",
       "| obj_Day14.Fez1 |\n",
       "| obj_Day5.Fez1 |\n",
       "| obj_Day14.g_drop |\n",
       "| obj_Day5.g_drop |\n",
       "| obj_Day14.g1 |\n",
       "| obj_Day5.g1 |\n",
       "| obj_Day14.g2 |\n",
       "| obj_Day5.g2 |\n",
       "| obj_Day14.g3 |\n",
       "| obj_Day5.g3 |\n",
       "| obj_Day14.g4 |\n",
       "| obj_Day5.g4 |\n",
       "| obj_Day14.Ghrh |\n",
       "| obj_Day5.Ghrh |\n",
       "| obj_Day14.Gpr50__Tac2 |\n",
       "| obj_Day5.Gpr50__Tac2 |\n",
       "| ⋮ |\n",
       "| obj_Day14.Ppp1r17__Tafa4 |\n",
       "| obj_Day5.Ppp1r17__Tafa4 |\n",
       "| obj_Day14.Reln__Lef1 |\n",
       "| obj_Day5.Reln__Lef1 |\n",
       "| obj_Day14.Sim1 |\n",
       "| obj_Day5.Sim1 |\n",
       "| obj_Day14.Slc17a6__Trhr |\n",
       "| obj_Day5.Slc17a6__Trhr |\n",
       "| obj_Day14.Sst__Nts |\n",
       "| obj_Day5.Sst__Nts |\n",
       "| obj_Day14.Sst__Pthlh |\n",
       "| obj_Day5.Sst__Pthlh |\n",
       "| obj_Day14.Sst__Unc13c |\n",
       "| obj_Day5.Sst__Unc13c |\n",
       "| obj_Day14.Tanycytes |\n",
       "| obj_Day5.Tanycytes |\n",
       "| obj_Day14.Tbx19__Pirt |\n",
       "| obj_Day5.Tbx19__Pirt |\n",
       "| obj_Day14.Th__Nfib |\n",
       "| obj_Day5.Th__Nfib |\n",
       "| obj_Day14.Th__Slc6a3 |\n",
       "| obj_Day5.Th__Slc6a3 |\n",
       "| obj_Day14.Tmem215__Dach2 |\n",
       "| obj_Day5.Tmem215__Dach2 |\n",
       "| obj_Day14.Tmem215__Greb1 |\n",
       "| obj_Day5.Tmem215__Greb1 |\n",
       "| obj_Day14.Trh__Cxcl12 |\n",
       "| obj_Day5.Trh__Cxcl12 |\n",
       "| obj_Day14.Trh__Lef1 |\n",
       "| obj_Day5.Trh__Lef1 |\n",
       "\n"
      ],
      "text/plain": [
       "    seurat_obj                 \n",
       "1   obj_Day14.Agrp             \n",
       "2   obj_Day5.Agrp              \n",
       "3   obj_Day14.Arx__Nr5a2       \n",
       "4   obj_Day5.Arx__Nr5a2        \n",
       "5   obj_Day14.Astrocytes       \n",
       "6   obj_Day5.Astrocytes        \n",
       "7   obj_Day14.Dlk1             \n",
       "8   obj_Day5.Dlk1              \n",
       "9   obj_Day14.Endothelial_cells\n",
       "10  obj_Day5.Endothelial_cells \n",
       "11  obj_Day14.Ependymal_cells  \n",
       "12  obj_Day5.Ependymal_cells   \n",
       "13  obj_Day14.Esr1             \n",
       "14  obj_Day5.Esr1              \n",
       "15  obj_Day14.Fez1             \n",
       "16  obj_Day5.Fez1              \n",
       "17  obj_Day14.g_drop           \n",
       "18  obj_Day5.g_drop            \n",
       "19  obj_Day14.g1               \n",
       "20  obj_Day5.g1                \n",
       "21  obj_Day14.g2               \n",
       "22  obj_Day5.g2                \n",
       "23  obj_Day14.g3               \n",
       "24  obj_Day5.g3                \n",
       "25  obj_Day14.g4               \n",
       "26  obj_Day5.g4                \n",
       "27  obj_Day14.Ghrh             \n",
       "28  obj_Day5.Ghrh              \n",
       "29  obj_Day14.Gpr50__Tac2      \n",
       "30  obj_Day5.Gpr50__Tac2       \n",
       "⋮   ⋮                          \n",
       "105 obj_Day14.Ppp1r17__Tafa4   \n",
       "106 obj_Day5.Ppp1r17__Tafa4    \n",
       "107 obj_Day14.Reln__Lef1       \n",
       "108 obj_Day5.Reln__Lef1        \n",
       "109 obj_Day14.Sim1             \n",
       "110 obj_Day5.Sim1              \n",
       "111 obj_Day14.Slc17a6__Trhr    \n",
       "112 obj_Day5.Slc17a6__Trhr     \n",
       "113 obj_Day14.Sst__Nts         \n",
       "114 obj_Day5.Sst__Nts          \n",
       "115 obj_Day14.Sst__Pthlh       \n",
       "116 obj_Day5.Sst__Pthlh        \n",
       "117 obj_Day14.Sst__Unc13c      \n",
       "118 obj_Day5.Sst__Unc13c       \n",
       "119 obj_Day14.Tanycytes        \n",
       "120 obj_Day5.Tanycytes         \n",
       "121 obj_Day14.Tbx19__Pirt      \n",
       "122 obj_Day5.Tbx19__Pirt       \n",
       "123 obj_Day14.Th__Nfib         \n",
       "124 obj_Day5.Th__Nfib          \n",
       "125 obj_Day14.Th__Slc6a3       \n",
       "126 obj_Day5.Th__Slc6a3        \n",
       "127 obj_Day14.Tmem215__Dach2   \n",
       "128 obj_Day5.Tmem215__Dach2    \n",
       "129 obj_Day14.Tmem215__Greb1   \n",
       "130 obj_Day5.Tmem215__Greb1    \n",
       "131 obj_Day14.Trh__Cxcl12      \n",
       "132 obj_Day5.Trh__Cxcl12       \n",
       "133 obj_Day14.Trh__Lef1        \n",
       "134 obj_Day5.Trh__Lef1         "
      ]
     },
     "metadata": {},
     "output_type": "display_data"
    }
   ],
   "source": [
    "summary_plot_recipe %>% distinct(seurat_obj)"
   ]
  },
  {
   "cell_type": "code",
   "execution_count": null,
   "id": "83781377",
   "metadata": {},
   "outputs": [],
   "source": []
  }
 ],
 "metadata": {
  "kernelspec": {
   "display_name": "R [conda env:fgf1]",
   "language": "R",
   "name": "conda-env-fgf1-r"
  },
  "language_info": {
   "codemirror_mode": "r",
   "file_extension": ".r",
   "mimetype": "text/x-r-source",
   "name": "R",
   "pygments_lexer": "r",
   "version": "4.1.3"
  }
 },
 "nbformat": 4,
 "nbformat_minor": 5
}
