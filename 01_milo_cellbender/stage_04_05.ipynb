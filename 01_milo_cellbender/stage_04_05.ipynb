{
 "cells": [
  {
   "cell_type": "code",
   "execution_count": 1,
   "id": "ad05443b",
   "metadata": {},
   "outputs": [
    {
     "name": "stderr",
     "output_type": "stream",
     "text": [
      "── \u001b[1mAttaching packages\u001b[22m ─────────────────────────────────────── tidyverse 1.3.2 ──\n",
      "\u001b[32m✔\u001b[39m \u001b[34mggplot2\u001b[39m 3.4.2     \u001b[32m✔\u001b[39m \u001b[34mpurrr  \u001b[39m 0.3.4\n",
      "\u001b[32m✔\u001b[39m \u001b[34mtibble \u001b[39m 3.2.1     \u001b[32m✔\u001b[39m \u001b[34mdplyr  \u001b[39m 1.1.2\n",
      "\u001b[32m✔\u001b[39m \u001b[34mtidyr  \u001b[39m 1.2.1     \u001b[32m✔\u001b[39m \u001b[34mstringr\u001b[39m 1.4.1\n",
      "\u001b[32m✔\u001b[39m \u001b[34mreadr  \u001b[39m 2.1.2     \u001b[32m✔\u001b[39m \u001b[34mforcats\u001b[39m 0.5.2\n",
      "── \u001b[1mConflicts\u001b[22m ────────────────────────────────────────── tidyverse_conflicts() ──\n",
      "\u001b[31m✖\u001b[39m \u001b[34mdplyr\u001b[39m::\u001b[32mfilter()\u001b[39m masks \u001b[34mstats\u001b[39m::filter()\n",
      "\u001b[31m✖\u001b[39m \u001b[34mdplyr\u001b[39m::\u001b[32mlag()\u001b[39m    masks \u001b[34mstats\u001b[39m::lag()\n"
     ]
    }
   ],
   "source": [
    "library(tidyverse)\n",
    "library(targets)\n",
    "library(tarchetypes)"
   ]
  },
  {
   "cell_type": "code",
   "execution_count": 2,
   "id": "6f86085e",
   "metadata": {
    "scrolled": true
   },
   "outputs": [
    {
     "data": {
      "text/html": [
       "<table class=\"dataframe\">\n",
       "<caption>A tibble: 71 × 13</caption>\n",
       "<thead>\n",
       "\t<tr><th scope=col>labels</th><th scope=col>n_total</th><th scope=col>n_fgf1</th><th scope=col>n_fgf1.pos</th><th scope=col>n_fgf1.neg</th><th scope=col>prop_fgf1.pos</th><th scope=col>n_BL6</th><th scope=col>n_restored</th><th scope=col>n_restored.pos</th><th scope=col>n_restored.neg</th><th scope=col>prop_restored_BL6</th><th scope=col>prop_restored_FGF1</th><th scope=col>comparison</th></tr>\n",
       "\t<tr><th scope=col>&lt;chr&gt;</th><th scope=col>&lt;int&gt;</th><th scope=col>&lt;int&gt;</th><th scope=col>&lt;int&gt;</th><th scope=col>&lt;int&gt;</th><th scope=col>&lt;dbl&gt;</th><th scope=col>&lt;int&gt;</th><th scope=col>&lt;int&gt;</th><th scope=col>&lt;int&gt;</th><th scope=col>&lt;int&gt;</th><th scope=col>&lt;dbl&gt;</th><th scope=col>&lt;dbl&gt;</th><th scope=col>&lt;chr&gt;</th></tr>\n",
       "</thead>\n",
       "<tbody>\n",
       "\t<tr><td>other              </td><td>1599</td><td>457</td><td>153</td><td>304</td><td>0.3347921</td><td> 31</td><td>17</td><td>13</td><td> 4</td><td>0.54838710</td><td>0.03719912</td><td>all.obob5v5__v__all.obobBL6</td></tr>\n",
       "\t<tr><td>g2                 </td><td> 643</td><td>183</td><td> 73</td><td>110</td><td>0.3989071</td><td>316</td><td>68</td><td>11</td><td>57</td><td>0.21518987</td><td>0.37158470</td><td>all.obob5v5__v__all.obobBL6</td></tr>\n",
       "\t<tr><td>Astrocytes         </td><td> 637</td><td>182</td><td> 57</td><td>125</td><td>0.3131868</td><td>297</td><td>67</td><td> 7</td><td>60</td><td>0.22558923</td><td>0.36813187</td><td>all.obob5v5__v__all.obobBL6</td></tr>\n",
       "\t<tr><td>g3                 </td><td> 395</td><td>166</td><td>113</td><td> 53</td><td>0.6807229</td><td>130</td><td>60</td><td>43</td><td>17</td><td>0.46153846</td><td>0.36144578</td><td>all.obob5v5__v__all.obobBL6</td></tr>\n",
       "\t<tr><td>Htr3b              </td><td> 205</td><td> 79</td><td> 34</td><td> 45</td><td>0.4303797</td><td> 75</td><td>10</td><td> 2</td><td> 8</td><td>0.13333333</td><td>0.12658228</td><td>all.obob5v5__v__all.obobBL6</td></tr>\n",
       "\t<tr><td>OPC                </td><td> 142</td><td> 73</td><td> 38</td><td> 35</td><td>0.5205479</td><td> 26</td><td>14</td><td> 5</td><td> 9</td><td>0.53846154</td><td>0.19178082</td><td>all.obob5v5__v__all.obobBL6</td></tr>\n",
       "\t<tr><td>g1                 </td><td> 547</td><td> 52</td><td> 35</td><td> 17</td><td>0.6730769</td><td>  0</td><td> 0</td><td> 0</td><td> 0</td><td>       NaN</td><td>0.00000000</td><td>all.obob5v5__v__all.obobBL6</td></tr>\n",
       "\t<tr><td>Tanycytes          </td><td> 493</td><td> 48</td><td> 22</td><td> 26</td><td>0.4583333</td><td>  2</td><td> 0</td><td> 0</td><td> 0</td><td>0.00000000</td><td>0.00000000</td><td>all.obob5v5__v__all.obobBL6</td></tr>\n",
       "\t<tr><td>neuron             </td><td>5076</td><td> 44</td><td> 37</td><td>  7</td><td>0.8409091</td><td>543</td><td> 9</td><td> 4</td><td> 5</td><td>0.01657459</td><td>0.20454545</td><td>all.obob5v5__v__all.obobBL6</td></tr>\n",
       "\t<tr><td>Trh__Lef1          </td><td> 183</td><td> 39</td><td> 19</td><td> 20</td><td>0.4871795</td><td>  0</td><td> 0</td><td> 0</td><td> 0</td><td>       NaN</td><td>0.00000000</td><td>all.obob5v5__v__all.obobBL6</td></tr>\n",
       "\t<tr><td>Oligodendrocytes   </td><td> 120</td><td> 36</td><td> 21</td><td> 15</td><td>0.5833333</td><td> 74</td><td>29</td><td>15</td><td>14</td><td>0.39189189</td><td>0.80555556</td><td>all.obob5v5__v__all.obobBL6</td></tr>\n",
       "\t<tr><td>n1                 </td><td> 457</td><td> 33</td><td> 12</td><td> 21</td><td>0.3636364</td><td>336</td><td>23</td><td> 2</td><td>21</td><td>0.06845238</td><td>0.69696970</td><td>all.obob5v5__v__all.obobBL6</td></tr>\n",
       "\t<tr><td>Sst__Unc13c        </td><td> 195</td><td> 30</td><td> 13</td><td> 17</td><td>0.4333333</td><td>119</td><td>18</td><td> 4</td><td>14</td><td>0.15126050</td><td>0.60000000</td><td>all.obob5v5__v__all.obobBL6</td></tr>\n",
       "\t<tr><td>Irx5__Lmx1a        </td><td> 264</td><td> 17</td><td> 13</td><td>  4</td><td>0.7647059</td><td>  1</td><td> 0</td><td> 0</td><td> 0</td><td>0.00000000</td><td>0.00000000</td><td>all.obob5v5__v__all.obobBL6</td></tr>\n",
       "\t<tr><td>Ependymal_cells    </td><td>  35</td><td> 16</td><td>  7</td><td>  9</td><td>0.4375000</td><td>  0</td><td> 0</td><td> 0</td><td> 0</td><td>       NaN</td><td>0.00000000</td><td>all.obob5v5__v__all.obobBL6</td></tr>\n",
       "\t<tr><td>Agrp               </td><td> 206</td><td> 14</td><td> 11</td><td>  3</td><td>0.7857143</td><td>177</td><td> 7</td><td> 4</td><td> 3</td><td>0.03954802</td><td>0.50000000</td><td>all.obob5v5__v__all.obobBL6</td></tr>\n",
       "\t<tr><td>n10                </td><td> 139</td><td> 13</td><td> 12</td><td>  1</td><td>0.9230769</td><td>  0</td><td> 0</td><td> 0</td><td> 0</td><td>       NaN</td><td>0.00000000</td><td>all.obob5v5__v__all.obobBL6</td></tr>\n",
       "\t<tr><td>n2                 </td><td> 529</td><td> 13</td><td>  4</td><td>  9</td><td>0.3076923</td><td>234</td><td>10</td><td> 3</td><td> 7</td><td>0.04273504</td><td>0.76923077</td><td>all.obob5v5__v__all.obobBL6</td></tr>\n",
       "\t<tr><td>Ghrh               </td><td> 113</td><td> 11</td><td>  6</td><td>  5</td><td>0.5454545</td><td> 73</td><td> 9</td><td> 4</td><td> 5</td><td>0.12328767</td><td>0.81818182</td><td>all.obob5v5__v__all.obobBL6</td></tr>\n",
       "\t<tr><td>Kiss1__Tac2        </td><td> 170</td><td> 11</td><td>  3</td><td>  8</td><td>0.2727273</td><td> 97</td><td> 9</td><td> 1</td><td> 8</td><td>0.09278351</td><td>0.81818182</td><td>all.obob5v5__v__all.obobBL6</td></tr>\n",
       "\t<tr><td>Tmem215__Greb1     </td><td> 129</td><td> 10</td><td>  4</td><td>  6</td><td>0.4000000</td><td> 92</td><td> 9</td><td> 3</td><td> 6</td><td>0.09782609</td><td>0.90000000</td><td>all.obob5v5__v__all.obobBL6</td></tr>\n",
       "\t<tr><td>Pomc__Glipr1       </td><td> 134</td><td>  8</td><td>  3</td><td>  5</td><td>0.3750000</td><td> 70</td><td> 6</td><td> 2</td><td> 4</td><td>0.08571429</td><td>0.75000000</td><td>all.obob5v5__v__all.obobBL6</td></tr>\n",
       "\t<tr><td>Tbx19__Pirt        </td><td> 144</td><td>  7</td><td>  2</td><td>  5</td><td>0.2857143</td><td> 42</td><td> 2</td><td> 0</td><td> 2</td><td>0.04761905</td><td>0.28571429</td><td>all.obob5v5__v__all.obobBL6</td></tr>\n",
       "\t<tr><td>n7                 </td><td> 198</td><td>  7</td><td>  7</td><td> NA</td><td>1.0000000</td><td>  1</td><td> 0</td><td> 0</td><td> 0</td><td>0.00000000</td><td>0.00000000</td><td>all.obob5v5__v__all.obobBL6</td></tr>\n",
       "\t<tr><td>Ppp1r17__Tafa4     </td><td> 194</td><td>  6</td><td>  1</td><td>  5</td><td>0.1666667</td><td>  1</td><td> 0</td><td> 0</td><td> 0</td><td>0.00000000</td><td>0.00000000</td><td>all.obob5v5__v__all.obobBL6</td></tr>\n",
       "\t<tr><td>Sst__Pthlh         </td><td>  95</td><td>  5</td><td>  5</td><td> NA</td><td>1.0000000</td><td>  1</td><td> 0</td><td> 0</td><td> 0</td><td>0.00000000</td><td>0.00000000</td><td>all.obob5v5__v__all.obobBL6</td></tr>\n",
       "\t<tr><td>Pomc__Ttr          </td><td>  91</td><td>  4</td><td>  2</td><td>  2</td><td>0.5000000</td><td> 49</td><td> 4</td><td> 2</td><td> 2</td><td>0.08163265</td><td>1.00000000</td><td>all.obob5v5__v__all.obobBL6</td></tr>\n",
       "\t<tr><td>Nfix__Nfib__Lhx6   </td><td> 135</td><td>  3</td><td>  3</td><td> NA</td><td>1.0000000</td><td>  0</td><td> 0</td><td> 0</td><td> 0</td><td>       NaN</td><td>0.00000000</td><td>all.obob5v5__v__all.obobBL6</td></tr>\n",
       "\t<tr><td>Pou6f2__Prkcq__Whrn</td><td> 146</td><td>  3</td><td>  3</td><td> NA</td><td>1.0000000</td><td>  3</td><td> 0</td><td> 0</td><td> 0</td><td>0.00000000</td><td>0.00000000</td><td>all.obob5v5__v__all.obobBL6</td></tr>\n",
       "\t<tr><td>Th__Slc6a3         </td><td>  42</td><td>  3</td><td>  2</td><td>  1</td><td>0.6666667</td><td> 14</td><td> 3</td><td> 2</td><td> 1</td><td>0.21428571</td><td>1.00000000</td><td>all.obob5v5__v__all.obobBL6</td></tr>\n",
       "\t<tr><td>⋮</td><td>⋮</td><td>⋮</td><td>⋮</td><td>⋮</td><td>⋮</td><td>⋮</td><td>⋮</td><td>⋮</td><td>⋮</td><td>⋮</td><td>⋮</td><td>⋮</td></tr>\n",
       "\t<tr><td>Lepr15         </td><td> 254</td><td>0</td><td>NA</td><td>NA</td><td>NA</td><td>  0</td><td>0</td><td>0</td><td>0</td><td>NaN</td><td>NaN</td><td>all.obob5v5__v__all.obobBL6</td></tr>\n",
       "\t<tr><td>Lepr67         </td><td> 172</td><td>0</td><td>NA</td><td>NA</td><td>NA</td><td> 10</td><td>0</td><td>0</td><td>0</td><td>  0</td><td>NaN</td><td>all.obob5v5__v__all.obobBL6</td></tr>\n",
       "\t<tr><td>Lepr89         </td><td> 234</td><td>0</td><td>NA</td><td>NA</td><td>NA</td><td>  0</td><td>0</td><td>0</td><td>0</td><td>NaN</td><td>NaN</td><td>all.obob5v5__v__all.obobBL6</td></tr>\n",
       "\t<tr><td>Lpar1_oligo    </td><td>  60</td><td>0</td><td>NA</td><td>NA</td><td>NA</td><td>  6</td><td>0</td><td>0</td><td>0</td><td>  0</td><td>NaN</td><td>all.obob5v5__v__all.obobBL6</td></tr>\n",
       "\t<tr><td>Met__Pappa2    </td><td>  47</td><td>0</td><td>NA</td><td>NA</td><td>NA</td><td>  5</td><td>0</td><td>0</td><td>0</td><td>  0</td><td>NaN</td><td>all.obob5v5__v__all.obobBL6</td></tr>\n",
       "\t<tr><td>Met__Prlh      </td><td> 204</td><td>0</td><td>NA</td><td>NA</td><td>NA</td><td>  7</td><td>0</td><td>0</td><td>0</td><td>  0</td><td>NaN</td><td>all.obob5v5__v__all.obobBL6</td></tr>\n",
       "\t<tr><td>Microglia      </td><td>  26</td><td>0</td><td>NA</td><td>NA</td><td>NA</td><td>  4</td><td>0</td><td>0</td><td>0</td><td>  0</td><td>NaN</td><td>all.obob5v5__v__all.obobBL6</td></tr>\n",
       "\t<tr><td>Nfib_1         </td><td> 145</td><td>0</td><td>NA</td><td>NA</td><td>NA</td><td>  0</td><td>0</td><td>0</td><td>0</td><td>NaN</td><td>NaN</td><td>all.obob5v5__v__all.obobBL6</td></tr>\n",
       "\t<tr><td>Nfib_2         </td><td>  15</td><td>0</td><td>NA</td><td>NA</td><td>NA</td><td>  0</td><td>0</td><td>0</td><td>0</td><td>NaN</td><td>NaN</td><td>all.obob5v5__v__all.obobBL6</td></tr>\n",
       "\t<tr><td>Nfib_3         </td><td>  36</td><td>0</td><td>NA</td><td>NA</td><td>NA</td><td>  0</td><td>0</td><td>0</td><td>0</td><td>NaN</td><td>NaN</td><td>all.obob5v5__v__all.obobBL6</td></tr>\n",
       "\t<tr><td>Nfix__Nfib__Hgf</td><td>  33</td><td>0</td><td>NA</td><td>NA</td><td>NA</td><td>  0</td><td>0</td><td>0</td><td>0</td><td>NaN</td><td>NaN</td><td>all.obob5v5__v__all.obobBL6</td></tr>\n",
       "\t<tr><td>Npsr1__Epha3   </td><td> 107</td><td>0</td><td>NA</td><td>NA</td><td>NA</td><td>  5</td><td>0</td><td>0</td><td>0</td><td>  0</td><td>NaN</td><td>all.obob5v5__v__all.obobBL6</td></tr>\n",
       "\t<tr><td>Pomc__Anxa2    </td><td>  42</td><td>0</td><td>NA</td><td>NA</td><td>NA</td><td> 14</td><td>0</td><td>0</td><td>0</td><td>  0</td><td>NaN</td><td>all.obob5v5__v__all.obobBL6</td></tr>\n",
       "\t<tr><td>Ppp1r17__Ltbp1 </td><td> 104</td><td>0</td><td>NA</td><td>NA</td><td>NA</td><td>  0</td><td>0</td><td>0</td><td>0</td><td>NaN</td><td>NaN</td><td>all.obob5v5__v__all.obobBL6</td></tr>\n",
       "\t<tr><td>Reln__Lef1     </td><td> 180</td><td>0</td><td>NA</td><td>NA</td><td>NA</td><td>  0</td><td>0</td><td>0</td><td>0</td><td>NaN</td><td>NaN</td><td>all.obob5v5__v__all.obobBL6</td></tr>\n",
       "\t<tr><td>Sim1           </td><td> 121</td><td>0</td><td>NA</td><td>NA</td><td>NA</td><td>  0</td><td>0</td><td>0</td><td>0</td><td>NaN</td><td>NaN</td><td>all.obob5v5__v__all.obobBL6</td></tr>\n",
       "\t<tr><td>Slc17a6__Trhr  </td><td> 196</td><td>0</td><td>NA</td><td>NA</td><td>NA</td><td>  0</td><td>0</td><td>0</td><td>0</td><td>NaN</td><td>NaN</td><td>all.obob5v5__v__all.obobBL6</td></tr>\n",
       "\t<tr><td>Sst__Nts       </td><td>  60</td><td>0</td><td>NA</td><td>NA</td><td>NA</td><td>  0</td><td>0</td><td>0</td><td>0</td><td>NaN</td><td>NaN</td><td>all.obob5v5__v__all.obobBL6</td></tr>\n",
       "\t<tr><td>Tmem215__Dach2 </td><td> 163</td><td>0</td><td>NA</td><td>NA</td><td>NA</td><td>  0</td><td>0</td><td>0</td><td>0</td><td>NaN</td><td>NaN</td><td>all.obob5v5__v__all.obobBL6</td></tr>\n",
       "\t<tr><td>Trh__Cxcl12    </td><td> 215</td><td>0</td><td>NA</td><td>NA</td><td>NA</td><td>140</td><td>0</td><td>0</td><td>0</td><td>  0</td><td>NaN</td><td>all.obob5v5__v__all.obobBL6</td></tr>\n",
       "\t<tr><td>VLMC           </td><td>   3</td><td>0</td><td>NA</td><td>NA</td><td>NA</td><td>  0</td><td>0</td><td>0</td><td>0</td><td>NaN</td><td>NaN</td><td>all.obob5v5__v__all.obobBL6</td></tr>\n",
       "\t<tr><td>g6             </td><td>   4</td><td>0</td><td>NA</td><td>NA</td><td>NA</td><td>  0</td><td>0</td><td>0</td><td>0</td><td>NaN</td><td>NaN</td><td>all.obob5v5__v__all.obobBL6</td></tr>\n",
       "\t<tr><td>g_drop         </td><td>   3</td><td>0</td><td>NA</td><td>NA</td><td>NA</td><td>  0</td><td>0</td><td>0</td><td>0</td><td>NaN</td><td>NaN</td><td>all.obob5v5__v__all.obobBL6</td></tr>\n",
       "\t<tr><td>n3             </td><td>  66</td><td>0</td><td>NA</td><td>NA</td><td>NA</td><td> 11</td><td>0</td><td>0</td><td>0</td><td>  0</td><td>NaN</td><td>all.obob5v5__v__all.obobBL6</td></tr>\n",
       "\t<tr><td>n4             </td><td>1322</td><td>0</td><td>NA</td><td>NA</td><td>NA</td><td>  0</td><td>0</td><td>0</td><td>0</td><td>NaN</td><td>NaN</td><td>all.obob5v5__v__all.obobBL6</td></tr>\n",
       "\t<tr><td>n5             </td><td> 204</td><td>0</td><td>NA</td><td>NA</td><td>NA</td><td> 16</td><td>0</td><td>0</td><td>0</td><td>  0</td><td>NaN</td><td>all.obob5v5__v__all.obobBL6</td></tr>\n",
       "\t<tr><td>n6             </td><td>  74</td><td>0</td><td>NA</td><td>NA</td><td>NA</td><td>  0</td><td>0</td><td>0</td><td>0</td><td>NaN</td><td>NaN</td><td>all.obob5v5__v__all.obobBL6</td></tr>\n",
       "\t<tr><td>n8             </td><td>  36</td><td>0</td><td>NA</td><td>NA</td><td>NA</td><td>  0</td><td>0</td><td>0</td><td>0</td><td>NaN</td><td>NaN</td><td>all.obob5v5__v__all.obobBL6</td></tr>\n",
       "\t<tr><td>n9             </td><td> 143</td><td>0</td><td>NA</td><td>NA</td><td>NA</td><td> 63</td><td>0</td><td>0</td><td>0</td><td>  0</td><td>NaN</td><td>all.obob5v5__v__all.obobBL6</td></tr>\n",
       "\t<tr><td>n_drop         </td><td> 220</td><td>0</td><td>NA</td><td>NA</td><td>NA</td><td>  0</td><td>0</td><td>0</td><td>0</td><td>NaN</td><td>NaN</td><td>all.obob5v5__v__all.obobBL6</td></tr>\n",
       "</tbody>\n",
       "</table>\n"
      ],
      "text/latex": [
       "A tibble: 71 × 13\n",
       "\\begin{tabular}{lllllllllllll}\n",
       " labels & n\\_total & n\\_fgf1 & n\\_fgf1.pos & n\\_fgf1.neg & prop\\_fgf1.pos & n\\_BL6 & n\\_restored & n\\_restored.pos & n\\_restored.neg & prop\\_restored\\_BL6 & prop\\_restored\\_FGF1 & comparison\\\\\n",
       " <chr> & <int> & <int> & <int> & <int> & <dbl> & <int> & <int> & <int> & <int> & <dbl> & <dbl> & <chr>\\\\\n",
       "\\hline\n",
       "\t other               & 1599 & 457 & 153 & 304 & 0.3347921 &  31 & 17 & 13 &  4 & 0.54838710 & 0.03719912 & all.obob5v5\\_\\_v\\_\\_all.obobBL6\\\\\n",
       "\t g2                  &  643 & 183 &  73 & 110 & 0.3989071 & 316 & 68 & 11 & 57 & 0.21518987 & 0.37158470 & all.obob5v5\\_\\_v\\_\\_all.obobBL6\\\\\n",
       "\t Astrocytes          &  637 & 182 &  57 & 125 & 0.3131868 & 297 & 67 &  7 & 60 & 0.22558923 & 0.36813187 & all.obob5v5\\_\\_v\\_\\_all.obobBL6\\\\\n",
       "\t g3                  &  395 & 166 & 113 &  53 & 0.6807229 & 130 & 60 & 43 & 17 & 0.46153846 & 0.36144578 & all.obob5v5\\_\\_v\\_\\_all.obobBL6\\\\\n",
       "\t Htr3b               &  205 &  79 &  34 &  45 & 0.4303797 &  75 & 10 &  2 &  8 & 0.13333333 & 0.12658228 & all.obob5v5\\_\\_v\\_\\_all.obobBL6\\\\\n",
       "\t OPC                 &  142 &  73 &  38 &  35 & 0.5205479 &  26 & 14 &  5 &  9 & 0.53846154 & 0.19178082 & all.obob5v5\\_\\_v\\_\\_all.obobBL6\\\\\n",
       "\t g1                  &  547 &  52 &  35 &  17 & 0.6730769 &   0 &  0 &  0 &  0 &        NaN & 0.00000000 & all.obob5v5\\_\\_v\\_\\_all.obobBL6\\\\\n",
       "\t Tanycytes           &  493 &  48 &  22 &  26 & 0.4583333 &   2 &  0 &  0 &  0 & 0.00000000 & 0.00000000 & all.obob5v5\\_\\_v\\_\\_all.obobBL6\\\\\n",
       "\t neuron              & 5076 &  44 &  37 &   7 & 0.8409091 & 543 &  9 &  4 &  5 & 0.01657459 & 0.20454545 & all.obob5v5\\_\\_v\\_\\_all.obobBL6\\\\\n",
       "\t Trh\\_\\_Lef1           &  183 &  39 &  19 &  20 & 0.4871795 &   0 &  0 &  0 &  0 &        NaN & 0.00000000 & all.obob5v5\\_\\_v\\_\\_all.obobBL6\\\\\n",
       "\t Oligodendrocytes    &  120 &  36 &  21 &  15 & 0.5833333 &  74 & 29 & 15 & 14 & 0.39189189 & 0.80555556 & all.obob5v5\\_\\_v\\_\\_all.obobBL6\\\\\n",
       "\t n1                  &  457 &  33 &  12 &  21 & 0.3636364 & 336 & 23 &  2 & 21 & 0.06845238 & 0.69696970 & all.obob5v5\\_\\_v\\_\\_all.obobBL6\\\\\n",
       "\t Sst\\_\\_Unc13c         &  195 &  30 &  13 &  17 & 0.4333333 & 119 & 18 &  4 & 14 & 0.15126050 & 0.60000000 & all.obob5v5\\_\\_v\\_\\_all.obobBL6\\\\\n",
       "\t Irx5\\_\\_Lmx1a         &  264 &  17 &  13 &   4 & 0.7647059 &   1 &  0 &  0 &  0 & 0.00000000 & 0.00000000 & all.obob5v5\\_\\_v\\_\\_all.obobBL6\\\\\n",
       "\t Ependymal\\_cells     &   35 &  16 &   7 &   9 & 0.4375000 &   0 &  0 &  0 &  0 &        NaN & 0.00000000 & all.obob5v5\\_\\_v\\_\\_all.obobBL6\\\\\n",
       "\t Agrp                &  206 &  14 &  11 &   3 & 0.7857143 & 177 &  7 &  4 &  3 & 0.03954802 & 0.50000000 & all.obob5v5\\_\\_v\\_\\_all.obobBL6\\\\\n",
       "\t n10                 &  139 &  13 &  12 &   1 & 0.9230769 &   0 &  0 &  0 &  0 &        NaN & 0.00000000 & all.obob5v5\\_\\_v\\_\\_all.obobBL6\\\\\n",
       "\t n2                  &  529 &  13 &   4 &   9 & 0.3076923 & 234 & 10 &  3 &  7 & 0.04273504 & 0.76923077 & all.obob5v5\\_\\_v\\_\\_all.obobBL6\\\\\n",
       "\t Ghrh                &  113 &  11 &   6 &   5 & 0.5454545 &  73 &  9 &  4 &  5 & 0.12328767 & 0.81818182 & all.obob5v5\\_\\_v\\_\\_all.obobBL6\\\\\n",
       "\t Kiss1\\_\\_Tac2         &  170 &  11 &   3 &   8 & 0.2727273 &  97 &  9 &  1 &  8 & 0.09278351 & 0.81818182 & all.obob5v5\\_\\_v\\_\\_all.obobBL6\\\\\n",
       "\t Tmem215\\_\\_Greb1      &  129 &  10 &   4 &   6 & 0.4000000 &  92 &  9 &  3 &  6 & 0.09782609 & 0.90000000 & all.obob5v5\\_\\_v\\_\\_all.obobBL6\\\\\n",
       "\t Pomc\\_\\_Glipr1        &  134 &   8 &   3 &   5 & 0.3750000 &  70 &  6 &  2 &  4 & 0.08571429 & 0.75000000 & all.obob5v5\\_\\_v\\_\\_all.obobBL6\\\\\n",
       "\t Tbx19\\_\\_Pirt         &  144 &   7 &   2 &   5 & 0.2857143 &  42 &  2 &  0 &  2 & 0.04761905 & 0.28571429 & all.obob5v5\\_\\_v\\_\\_all.obobBL6\\\\\n",
       "\t n7                  &  198 &   7 &   7 &  NA & 1.0000000 &   1 &  0 &  0 &  0 & 0.00000000 & 0.00000000 & all.obob5v5\\_\\_v\\_\\_all.obobBL6\\\\\n",
       "\t Ppp1r17\\_\\_Tafa4      &  194 &   6 &   1 &   5 & 0.1666667 &   1 &  0 &  0 &  0 & 0.00000000 & 0.00000000 & all.obob5v5\\_\\_v\\_\\_all.obobBL6\\\\\n",
       "\t Sst\\_\\_Pthlh          &   95 &   5 &   5 &  NA & 1.0000000 &   1 &  0 &  0 &  0 & 0.00000000 & 0.00000000 & all.obob5v5\\_\\_v\\_\\_all.obobBL6\\\\\n",
       "\t Pomc\\_\\_Ttr           &   91 &   4 &   2 &   2 & 0.5000000 &  49 &  4 &  2 &  2 & 0.08163265 & 1.00000000 & all.obob5v5\\_\\_v\\_\\_all.obobBL6\\\\\n",
       "\t Nfix\\_\\_Nfib\\_\\_Lhx6    &  135 &   3 &   3 &  NA & 1.0000000 &   0 &  0 &  0 &  0 &        NaN & 0.00000000 & all.obob5v5\\_\\_v\\_\\_all.obobBL6\\\\\n",
       "\t Pou6f2\\_\\_Prkcq\\_\\_Whrn &  146 &   3 &   3 &  NA & 1.0000000 &   3 &  0 &  0 &  0 & 0.00000000 & 0.00000000 & all.obob5v5\\_\\_v\\_\\_all.obobBL6\\\\\n",
       "\t Th\\_\\_Slc6a3          &   42 &   3 &   2 &   1 & 0.6666667 &  14 &  3 &  2 &  1 & 0.21428571 & 1.00000000 & all.obob5v5\\_\\_v\\_\\_all.obobBL6\\\\\n",
       "\t ⋮ & ⋮ & ⋮ & ⋮ & ⋮ & ⋮ & ⋮ & ⋮ & ⋮ & ⋮ & ⋮ & ⋮ & ⋮\\\\\n",
       "\t Lepr15          &  254 & 0 & NA & NA & NA &   0 & 0 & 0 & 0 & NaN & NaN & all.obob5v5\\_\\_v\\_\\_all.obobBL6\\\\\n",
       "\t Lepr67          &  172 & 0 & NA & NA & NA &  10 & 0 & 0 & 0 &   0 & NaN & all.obob5v5\\_\\_v\\_\\_all.obobBL6\\\\\n",
       "\t Lepr89          &  234 & 0 & NA & NA & NA &   0 & 0 & 0 & 0 & NaN & NaN & all.obob5v5\\_\\_v\\_\\_all.obobBL6\\\\\n",
       "\t Lpar1\\_oligo     &   60 & 0 & NA & NA & NA &   6 & 0 & 0 & 0 &   0 & NaN & all.obob5v5\\_\\_v\\_\\_all.obobBL6\\\\\n",
       "\t Met\\_\\_Pappa2     &   47 & 0 & NA & NA & NA &   5 & 0 & 0 & 0 &   0 & NaN & all.obob5v5\\_\\_v\\_\\_all.obobBL6\\\\\n",
       "\t Met\\_\\_Prlh       &  204 & 0 & NA & NA & NA &   7 & 0 & 0 & 0 &   0 & NaN & all.obob5v5\\_\\_v\\_\\_all.obobBL6\\\\\n",
       "\t Microglia       &   26 & 0 & NA & NA & NA &   4 & 0 & 0 & 0 &   0 & NaN & all.obob5v5\\_\\_v\\_\\_all.obobBL6\\\\\n",
       "\t Nfib\\_1          &  145 & 0 & NA & NA & NA &   0 & 0 & 0 & 0 & NaN & NaN & all.obob5v5\\_\\_v\\_\\_all.obobBL6\\\\\n",
       "\t Nfib\\_2          &   15 & 0 & NA & NA & NA &   0 & 0 & 0 & 0 & NaN & NaN & all.obob5v5\\_\\_v\\_\\_all.obobBL6\\\\\n",
       "\t Nfib\\_3          &   36 & 0 & NA & NA & NA &   0 & 0 & 0 & 0 & NaN & NaN & all.obob5v5\\_\\_v\\_\\_all.obobBL6\\\\\n",
       "\t Nfix\\_\\_Nfib\\_\\_Hgf &   33 & 0 & NA & NA & NA &   0 & 0 & 0 & 0 & NaN & NaN & all.obob5v5\\_\\_v\\_\\_all.obobBL6\\\\\n",
       "\t Npsr1\\_\\_Epha3    &  107 & 0 & NA & NA & NA &   5 & 0 & 0 & 0 &   0 & NaN & all.obob5v5\\_\\_v\\_\\_all.obobBL6\\\\\n",
       "\t Pomc\\_\\_Anxa2     &   42 & 0 & NA & NA & NA &  14 & 0 & 0 & 0 &   0 & NaN & all.obob5v5\\_\\_v\\_\\_all.obobBL6\\\\\n",
       "\t Ppp1r17\\_\\_Ltbp1  &  104 & 0 & NA & NA & NA &   0 & 0 & 0 & 0 & NaN & NaN & all.obob5v5\\_\\_v\\_\\_all.obobBL6\\\\\n",
       "\t Reln\\_\\_Lef1      &  180 & 0 & NA & NA & NA &   0 & 0 & 0 & 0 & NaN & NaN & all.obob5v5\\_\\_v\\_\\_all.obobBL6\\\\\n",
       "\t Sim1            &  121 & 0 & NA & NA & NA &   0 & 0 & 0 & 0 & NaN & NaN & all.obob5v5\\_\\_v\\_\\_all.obobBL6\\\\\n",
       "\t Slc17a6\\_\\_Trhr   &  196 & 0 & NA & NA & NA &   0 & 0 & 0 & 0 & NaN & NaN & all.obob5v5\\_\\_v\\_\\_all.obobBL6\\\\\n",
       "\t Sst\\_\\_Nts        &   60 & 0 & NA & NA & NA &   0 & 0 & 0 & 0 & NaN & NaN & all.obob5v5\\_\\_v\\_\\_all.obobBL6\\\\\n",
       "\t Tmem215\\_\\_Dach2  &  163 & 0 & NA & NA & NA &   0 & 0 & 0 & 0 & NaN & NaN & all.obob5v5\\_\\_v\\_\\_all.obobBL6\\\\\n",
       "\t Trh\\_\\_Cxcl12     &  215 & 0 & NA & NA & NA & 140 & 0 & 0 & 0 &   0 & NaN & all.obob5v5\\_\\_v\\_\\_all.obobBL6\\\\\n",
       "\t VLMC            &    3 & 0 & NA & NA & NA &   0 & 0 & 0 & 0 & NaN & NaN & all.obob5v5\\_\\_v\\_\\_all.obobBL6\\\\\n",
       "\t g6              &    4 & 0 & NA & NA & NA &   0 & 0 & 0 & 0 & NaN & NaN & all.obob5v5\\_\\_v\\_\\_all.obobBL6\\\\\n",
       "\t g\\_drop          &    3 & 0 & NA & NA & NA &   0 & 0 & 0 & 0 & NaN & NaN & all.obob5v5\\_\\_v\\_\\_all.obobBL6\\\\\n",
       "\t n3              &   66 & 0 & NA & NA & NA &  11 & 0 & 0 & 0 &   0 & NaN & all.obob5v5\\_\\_v\\_\\_all.obobBL6\\\\\n",
       "\t n4              & 1322 & 0 & NA & NA & NA &   0 & 0 & 0 & 0 & NaN & NaN & all.obob5v5\\_\\_v\\_\\_all.obobBL6\\\\\n",
       "\t n5              &  204 & 0 & NA & NA & NA &  16 & 0 & 0 & 0 &   0 & NaN & all.obob5v5\\_\\_v\\_\\_all.obobBL6\\\\\n",
       "\t n6              &   74 & 0 & NA & NA & NA &   0 & 0 & 0 & 0 & NaN & NaN & all.obob5v5\\_\\_v\\_\\_all.obobBL6\\\\\n",
       "\t n8              &   36 & 0 & NA & NA & NA &   0 & 0 & 0 & 0 & NaN & NaN & all.obob5v5\\_\\_v\\_\\_all.obobBL6\\\\\n",
       "\t n9              &  143 & 0 & NA & NA & NA &  63 & 0 & 0 & 0 &   0 & NaN & all.obob5v5\\_\\_v\\_\\_all.obobBL6\\\\\n",
       "\t n\\_drop          &  220 & 0 & NA & NA & NA &   0 & 0 & 0 & 0 & NaN & NaN & all.obob5v5\\_\\_v\\_\\_all.obobBL6\\\\\n",
       "\\end{tabular}\n"
      ],
      "text/markdown": [
       "\n",
       "A tibble: 71 × 13\n",
       "\n",
       "| labels &lt;chr&gt; | n_total &lt;int&gt; | n_fgf1 &lt;int&gt; | n_fgf1.pos &lt;int&gt; | n_fgf1.neg &lt;int&gt; | prop_fgf1.pos &lt;dbl&gt; | n_BL6 &lt;int&gt; | n_restored &lt;int&gt; | n_restored.pos &lt;int&gt; | n_restored.neg &lt;int&gt; | prop_restored_BL6 &lt;dbl&gt; | prop_restored_FGF1 &lt;dbl&gt; | comparison &lt;chr&gt; |\n",
       "|---|---|---|---|---|---|---|---|---|---|---|---|---|\n",
       "| other               | 1599 | 457 | 153 | 304 | 0.3347921 |  31 | 17 | 13 |  4 | 0.54838710 | 0.03719912 | all.obob5v5__v__all.obobBL6 |\n",
       "| g2                  |  643 | 183 |  73 | 110 | 0.3989071 | 316 | 68 | 11 | 57 | 0.21518987 | 0.37158470 | all.obob5v5__v__all.obobBL6 |\n",
       "| Astrocytes          |  637 | 182 |  57 | 125 | 0.3131868 | 297 | 67 |  7 | 60 | 0.22558923 | 0.36813187 | all.obob5v5__v__all.obobBL6 |\n",
       "| g3                  |  395 | 166 | 113 |  53 | 0.6807229 | 130 | 60 | 43 | 17 | 0.46153846 | 0.36144578 | all.obob5v5__v__all.obobBL6 |\n",
       "| Htr3b               |  205 |  79 |  34 |  45 | 0.4303797 |  75 | 10 |  2 |  8 | 0.13333333 | 0.12658228 | all.obob5v5__v__all.obobBL6 |\n",
       "| OPC                 |  142 |  73 |  38 |  35 | 0.5205479 |  26 | 14 |  5 |  9 | 0.53846154 | 0.19178082 | all.obob5v5__v__all.obobBL6 |\n",
       "| g1                  |  547 |  52 |  35 |  17 | 0.6730769 |   0 |  0 |  0 |  0 |        NaN | 0.00000000 | all.obob5v5__v__all.obobBL6 |\n",
       "| Tanycytes           |  493 |  48 |  22 |  26 | 0.4583333 |   2 |  0 |  0 |  0 | 0.00000000 | 0.00000000 | all.obob5v5__v__all.obobBL6 |\n",
       "| neuron              | 5076 |  44 |  37 |   7 | 0.8409091 | 543 |  9 |  4 |  5 | 0.01657459 | 0.20454545 | all.obob5v5__v__all.obobBL6 |\n",
       "| Trh__Lef1           |  183 |  39 |  19 |  20 | 0.4871795 |   0 |  0 |  0 |  0 |        NaN | 0.00000000 | all.obob5v5__v__all.obobBL6 |\n",
       "| Oligodendrocytes    |  120 |  36 |  21 |  15 | 0.5833333 |  74 | 29 | 15 | 14 | 0.39189189 | 0.80555556 | all.obob5v5__v__all.obobBL6 |\n",
       "| n1                  |  457 |  33 |  12 |  21 | 0.3636364 | 336 | 23 |  2 | 21 | 0.06845238 | 0.69696970 | all.obob5v5__v__all.obobBL6 |\n",
       "| Sst__Unc13c         |  195 |  30 |  13 |  17 | 0.4333333 | 119 | 18 |  4 | 14 | 0.15126050 | 0.60000000 | all.obob5v5__v__all.obobBL6 |\n",
       "| Irx5__Lmx1a         |  264 |  17 |  13 |   4 | 0.7647059 |   1 |  0 |  0 |  0 | 0.00000000 | 0.00000000 | all.obob5v5__v__all.obobBL6 |\n",
       "| Ependymal_cells     |   35 |  16 |   7 |   9 | 0.4375000 |   0 |  0 |  0 |  0 |        NaN | 0.00000000 | all.obob5v5__v__all.obobBL6 |\n",
       "| Agrp                |  206 |  14 |  11 |   3 | 0.7857143 | 177 |  7 |  4 |  3 | 0.03954802 | 0.50000000 | all.obob5v5__v__all.obobBL6 |\n",
       "| n10                 |  139 |  13 |  12 |   1 | 0.9230769 |   0 |  0 |  0 |  0 |        NaN | 0.00000000 | all.obob5v5__v__all.obobBL6 |\n",
       "| n2                  |  529 |  13 |   4 |   9 | 0.3076923 | 234 | 10 |  3 |  7 | 0.04273504 | 0.76923077 | all.obob5v5__v__all.obobBL6 |\n",
       "| Ghrh                |  113 |  11 |   6 |   5 | 0.5454545 |  73 |  9 |  4 |  5 | 0.12328767 | 0.81818182 | all.obob5v5__v__all.obobBL6 |\n",
       "| Kiss1__Tac2         |  170 |  11 |   3 |   8 | 0.2727273 |  97 |  9 |  1 |  8 | 0.09278351 | 0.81818182 | all.obob5v5__v__all.obobBL6 |\n",
       "| Tmem215__Greb1      |  129 |  10 |   4 |   6 | 0.4000000 |  92 |  9 |  3 |  6 | 0.09782609 | 0.90000000 | all.obob5v5__v__all.obobBL6 |\n",
       "| Pomc__Glipr1        |  134 |   8 |   3 |   5 | 0.3750000 |  70 |  6 |  2 |  4 | 0.08571429 | 0.75000000 | all.obob5v5__v__all.obobBL6 |\n",
       "| Tbx19__Pirt         |  144 |   7 |   2 |   5 | 0.2857143 |  42 |  2 |  0 |  2 | 0.04761905 | 0.28571429 | all.obob5v5__v__all.obobBL6 |\n",
       "| n7                  |  198 |   7 |   7 |  NA | 1.0000000 |   1 |  0 |  0 |  0 | 0.00000000 | 0.00000000 | all.obob5v5__v__all.obobBL6 |\n",
       "| Ppp1r17__Tafa4      |  194 |   6 |   1 |   5 | 0.1666667 |   1 |  0 |  0 |  0 | 0.00000000 | 0.00000000 | all.obob5v5__v__all.obobBL6 |\n",
       "| Sst__Pthlh          |   95 |   5 |   5 |  NA | 1.0000000 |   1 |  0 |  0 |  0 | 0.00000000 | 0.00000000 | all.obob5v5__v__all.obobBL6 |\n",
       "| Pomc__Ttr           |   91 |   4 |   2 |   2 | 0.5000000 |  49 |  4 |  2 |  2 | 0.08163265 | 1.00000000 | all.obob5v5__v__all.obobBL6 |\n",
       "| Nfix__Nfib__Lhx6    |  135 |   3 |   3 |  NA | 1.0000000 |   0 |  0 |  0 |  0 |        NaN | 0.00000000 | all.obob5v5__v__all.obobBL6 |\n",
       "| Pou6f2__Prkcq__Whrn |  146 |   3 |   3 |  NA | 1.0000000 |   3 |  0 |  0 |  0 | 0.00000000 | 0.00000000 | all.obob5v5__v__all.obobBL6 |\n",
       "| Th__Slc6a3          |   42 |   3 |   2 |   1 | 0.6666667 |  14 |  3 |  2 |  1 | 0.21428571 | 1.00000000 | all.obob5v5__v__all.obobBL6 |\n",
       "| ⋮ | ⋮ | ⋮ | ⋮ | ⋮ | ⋮ | ⋮ | ⋮ | ⋮ | ⋮ | ⋮ | ⋮ | ⋮ |\n",
       "| Lepr15          |  254 | 0 | NA | NA | NA |   0 | 0 | 0 | 0 | NaN | NaN | all.obob5v5__v__all.obobBL6 |\n",
       "| Lepr67          |  172 | 0 | NA | NA | NA |  10 | 0 | 0 | 0 |   0 | NaN | all.obob5v5__v__all.obobBL6 |\n",
       "| Lepr89          |  234 | 0 | NA | NA | NA |   0 | 0 | 0 | 0 | NaN | NaN | all.obob5v5__v__all.obobBL6 |\n",
       "| Lpar1_oligo     |   60 | 0 | NA | NA | NA |   6 | 0 | 0 | 0 |   0 | NaN | all.obob5v5__v__all.obobBL6 |\n",
       "| Met__Pappa2     |   47 | 0 | NA | NA | NA |   5 | 0 | 0 | 0 |   0 | NaN | all.obob5v5__v__all.obobBL6 |\n",
       "| Met__Prlh       |  204 | 0 | NA | NA | NA |   7 | 0 | 0 | 0 |   0 | NaN | all.obob5v5__v__all.obobBL6 |\n",
       "| Microglia       |   26 | 0 | NA | NA | NA |   4 | 0 | 0 | 0 |   0 | NaN | all.obob5v5__v__all.obobBL6 |\n",
       "| Nfib_1          |  145 | 0 | NA | NA | NA |   0 | 0 | 0 | 0 | NaN | NaN | all.obob5v5__v__all.obobBL6 |\n",
       "| Nfib_2          |   15 | 0 | NA | NA | NA |   0 | 0 | 0 | 0 | NaN | NaN | all.obob5v5__v__all.obobBL6 |\n",
       "| Nfib_3          |   36 | 0 | NA | NA | NA |   0 | 0 | 0 | 0 | NaN | NaN | all.obob5v5__v__all.obobBL6 |\n",
       "| Nfix__Nfib__Hgf |   33 | 0 | NA | NA | NA |   0 | 0 | 0 | 0 | NaN | NaN | all.obob5v5__v__all.obobBL6 |\n",
       "| Npsr1__Epha3    |  107 | 0 | NA | NA | NA |   5 | 0 | 0 | 0 |   0 | NaN | all.obob5v5__v__all.obobBL6 |\n",
       "| Pomc__Anxa2     |   42 | 0 | NA | NA | NA |  14 | 0 | 0 | 0 |   0 | NaN | all.obob5v5__v__all.obobBL6 |\n",
       "| Ppp1r17__Ltbp1  |  104 | 0 | NA | NA | NA |   0 | 0 | 0 | 0 | NaN | NaN | all.obob5v5__v__all.obobBL6 |\n",
       "| Reln__Lef1      |  180 | 0 | NA | NA | NA |   0 | 0 | 0 | 0 | NaN | NaN | all.obob5v5__v__all.obobBL6 |\n",
       "| Sim1            |  121 | 0 | NA | NA | NA |   0 | 0 | 0 | 0 | NaN | NaN | all.obob5v5__v__all.obobBL6 |\n",
       "| Slc17a6__Trhr   |  196 | 0 | NA | NA | NA |   0 | 0 | 0 | 0 | NaN | NaN | all.obob5v5__v__all.obobBL6 |\n",
       "| Sst__Nts        |   60 | 0 | NA | NA | NA |   0 | 0 | 0 | 0 | NaN | NaN | all.obob5v5__v__all.obobBL6 |\n",
       "| Tmem215__Dach2  |  163 | 0 | NA | NA | NA |   0 | 0 | 0 | 0 | NaN | NaN | all.obob5v5__v__all.obobBL6 |\n",
       "| Trh__Cxcl12     |  215 | 0 | NA | NA | NA | 140 | 0 | 0 | 0 |   0 | NaN | all.obob5v5__v__all.obobBL6 |\n",
       "| VLMC            |    3 | 0 | NA | NA | NA |   0 | 0 | 0 | 0 | NaN | NaN | all.obob5v5__v__all.obobBL6 |\n",
       "| g6              |    4 | 0 | NA | NA | NA |   0 | 0 | 0 | 0 | NaN | NaN | all.obob5v5__v__all.obobBL6 |\n",
       "| g_drop          |    3 | 0 | NA | NA | NA |   0 | 0 | 0 | 0 | NaN | NaN | all.obob5v5__v__all.obobBL6 |\n",
       "| n3              |   66 | 0 | NA | NA | NA |  11 | 0 | 0 | 0 |   0 | NaN | all.obob5v5__v__all.obobBL6 |\n",
       "| n4              | 1322 | 0 | NA | NA | NA |   0 | 0 | 0 | 0 | NaN | NaN | all.obob5v5__v__all.obobBL6 |\n",
       "| n5              |  204 | 0 | NA | NA | NA |  16 | 0 | 0 | 0 |   0 | NaN | all.obob5v5__v__all.obobBL6 |\n",
       "| n6              |   74 | 0 | NA | NA | NA |   0 | 0 | 0 | 0 | NaN | NaN | all.obob5v5__v__all.obobBL6 |\n",
       "| n8              |   36 | 0 | NA | NA | NA |   0 | 0 | 0 | 0 | NaN | NaN | all.obob5v5__v__all.obobBL6 |\n",
       "| n9              |  143 | 0 | NA | NA | NA |  63 | 0 | 0 | 0 |   0 | NaN | all.obob5v5__v__all.obobBL6 |\n",
       "| n_drop          |  220 | 0 | NA | NA | NA |   0 | 0 | 0 | 0 | NaN | NaN | all.obob5v5__v__all.obobBL6 |\n",
       "\n"
      ],
      "text/plain": [
       "   labels              n_total n_fgf1 n_fgf1.pos n_fgf1.neg prop_fgf1.pos n_BL6\n",
       "1  other               1599    457    153        304        0.3347921      31  \n",
       "2  g2                   643    183     73        110        0.3989071     316  \n",
       "3  Astrocytes           637    182     57        125        0.3131868     297  \n",
       "4  g3                   395    166    113         53        0.6807229     130  \n",
       "5  Htr3b                205     79     34         45        0.4303797      75  \n",
       "6  OPC                  142     73     38         35        0.5205479      26  \n",
       "7  g1                   547     52     35         17        0.6730769       0  \n",
       "8  Tanycytes            493     48     22         26        0.4583333       2  \n",
       "9  neuron              5076     44     37          7        0.8409091     543  \n",
       "10 Trh__Lef1            183     39     19         20        0.4871795       0  \n",
       "11 Oligodendrocytes     120     36     21         15        0.5833333      74  \n",
       "12 n1                   457     33     12         21        0.3636364     336  \n",
       "13 Sst__Unc13c          195     30     13         17        0.4333333     119  \n",
       "14 Irx5__Lmx1a          264     17     13          4        0.7647059       1  \n",
       "15 Ependymal_cells       35     16      7          9        0.4375000       0  \n",
       "16 Agrp                 206     14     11          3        0.7857143     177  \n",
       "17 n10                  139     13     12          1        0.9230769       0  \n",
       "18 n2                   529     13      4          9        0.3076923     234  \n",
       "19 Ghrh                 113     11      6          5        0.5454545      73  \n",
       "20 Kiss1__Tac2          170     11      3          8        0.2727273      97  \n",
       "21 Tmem215__Greb1       129     10      4          6        0.4000000      92  \n",
       "22 Pomc__Glipr1         134      8      3          5        0.3750000      70  \n",
       "23 Tbx19__Pirt          144      7      2          5        0.2857143      42  \n",
       "24 n7                   198      7      7         NA        1.0000000       1  \n",
       "25 Ppp1r17__Tafa4       194      6      1          5        0.1666667       1  \n",
       "26 Sst__Pthlh            95      5      5         NA        1.0000000       1  \n",
       "27 Pomc__Ttr             91      4      2          2        0.5000000      49  \n",
       "28 Nfix__Nfib__Lhx6     135      3      3         NA        1.0000000       0  \n",
       "29 Pou6f2__Prkcq__Whrn  146      3      3         NA        1.0000000       3  \n",
       "30 Th__Slc6a3            42      3      2          1        0.6666667      14  \n",
       "⋮  ⋮                   ⋮       ⋮      ⋮          ⋮          ⋮             ⋮    \n",
       "42 Lepr15               254    0      NA         NA         NA              0  \n",
       "43 Lepr67               172    0      NA         NA         NA             10  \n",
       "44 Lepr89               234    0      NA         NA         NA              0  \n",
       "45 Lpar1_oligo           60    0      NA         NA         NA              6  \n",
       "46 Met__Pappa2           47    0      NA         NA         NA              5  \n",
       "47 Met__Prlh            204    0      NA         NA         NA              7  \n",
       "48 Microglia             26    0      NA         NA         NA              4  \n",
       "49 Nfib_1               145    0      NA         NA         NA              0  \n",
       "50 Nfib_2                15    0      NA         NA         NA              0  \n",
       "51 Nfib_3                36    0      NA         NA         NA              0  \n",
       "52 Nfix__Nfib__Hgf       33    0      NA         NA         NA              0  \n",
       "53 Npsr1__Epha3         107    0      NA         NA         NA              5  \n",
       "54 Pomc__Anxa2           42    0      NA         NA         NA             14  \n",
       "55 Ppp1r17__Ltbp1       104    0      NA         NA         NA              0  \n",
       "56 Reln__Lef1           180    0      NA         NA         NA              0  \n",
       "57 Sim1                 121    0      NA         NA         NA              0  \n",
       "58 Slc17a6__Trhr        196    0      NA         NA         NA              0  \n",
       "59 Sst__Nts              60    0      NA         NA         NA              0  \n",
       "60 Tmem215__Dach2       163    0      NA         NA         NA              0  \n",
       "61 Trh__Cxcl12          215    0      NA         NA         NA            140  \n",
       "62 VLMC                   3    0      NA         NA         NA              0  \n",
       "63 g6                     4    0      NA         NA         NA              0  \n",
       "64 g_drop                 3    0      NA         NA         NA              0  \n",
       "65 n3                    66    0      NA         NA         NA             11  \n",
       "66 n4                  1322    0      NA         NA         NA              0  \n",
       "67 n5                   204    0      NA         NA         NA             16  \n",
       "68 n6                    74    0      NA         NA         NA              0  \n",
       "69 n8                    36    0      NA         NA         NA              0  \n",
       "70 n9                   143    0      NA         NA         NA             63  \n",
       "71 n_drop               220    0      NA         NA         NA              0  \n",
       "   n_restored n_restored.pos n_restored.neg prop_restored_BL6\n",
       "1  17         13              4             0.54838710       \n",
       "2  68         11             57             0.21518987       \n",
       "3  67          7             60             0.22558923       \n",
       "4  60         43             17             0.46153846       \n",
       "5  10          2              8             0.13333333       \n",
       "6  14          5              9             0.53846154       \n",
       "7   0          0              0                    NaN       \n",
       "8   0          0              0             0.00000000       \n",
       "9   9          4              5             0.01657459       \n",
       "10  0          0              0                    NaN       \n",
       "11 29         15             14             0.39189189       \n",
       "12 23          2             21             0.06845238       \n",
       "13 18          4             14             0.15126050       \n",
       "14  0          0              0             0.00000000       \n",
       "15  0          0              0                    NaN       \n",
       "16  7          4              3             0.03954802       \n",
       "17  0          0              0                    NaN       \n",
       "18 10          3              7             0.04273504       \n",
       "19  9          4              5             0.12328767       \n",
       "20  9          1              8             0.09278351       \n",
       "21  9          3              6             0.09782609       \n",
       "22  6          2              4             0.08571429       \n",
       "23  2          0              2             0.04761905       \n",
       "24  0          0              0             0.00000000       \n",
       "25  0          0              0             0.00000000       \n",
       "26  0          0              0             0.00000000       \n",
       "27  4          2              2             0.08163265       \n",
       "28  0          0              0                    NaN       \n",
       "29  0          0              0             0.00000000       \n",
       "30  3          2              1             0.21428571       \n",
       "⋮  ⋮          ⋮              ⋮              ⋮                \n",
       "42 0          0              0              NaN              \n",
       "43 0          0              0                0              \n",
       "44 0          0              0              NaN              \n",
       "45 0          0              0                0              \n",
       "46 0          0              0                0              \n",
       "47 0          0              0                0              \n",
       "48 0          0              0                0              \n",
       "49 0          0              0              NaN              \n",
       "50 0          0              0              NaN              \n",
       "51 0          0              0              NaN              \n",
       "52 0          0              0              NaN              \n",
       "53 0          0              0                0              \n",
       "54 0          0              0                0              \n",
       "55 0          0              0              NaN              \n",
       "56 0          0              0              NaN              \n",
       "57 0          0              0              NaN              \n",
       "58 0          0              0              NaN              \n",
       "59 0          0              0              NaN              \n",
       "60 0          0              0              NaN              \n",
       "61 0          0              0                0              \n",
       "62 0          0              0              NaN              \n",
       "63 0          0              0              NaN              \n",
       "64 0          0              0              NaN              \n",
       "65 0          0              0                0              \n",
       "66 0          0              0              NaN              \n",
       "67 0          0              0                0              \n",
       "68 0          0              0              NaN              \n",
       "69 0          0              0              NaN              \n",
       "70 0          0              0                0              \n",
       "71 0          0              0              NaN              \n",
       "   prop_restored_FGF1 comparison                 \n",
       "1  0.03719912         all.obob5v5__v__all.obobBL6\n",
       "2  0.37158470         all.obob5v5__v__all.obobBL6\n",
       "3  0.36813187         all.obob5v5__v__all.obobBL6\n",
       "4  0.36144578         all.obob5v5__v__all.obobBL6\n",
       "5  0.12658228         all.obob5v5__v__all.obobBL6\n",
       "6  0.19178082         all.obob5v5__v__all.obobBL6\n",
       "7  0.00000000         all.obob5v5__v__all.obobBL6\n",
       "8  0.00000000         all.obob5v5__v__all.obobBL6\n",
       "9  0.20454545         all.obob5v5__v__all.obobBL6\n",
       "10 0.00000000         all.obob5v5__v__all.obobBL6\n",
       "11 0.80555556         all.obob5v5__v__all.obobBL6\n",
       "12 0.69696970         all.obob5v5__v__all.obobBL6\n",
       "13 0.60000000         all.obob5v5__v__all.obobBL6\n",
       "14 0.00000000         all.obob5v5__v__all.obobBL6\n",
       "15 0.00000000         all.obob5v5__v__all.obobBL6\n",
       "16 0.50000000         all.obob5v5__v__all.obobBL6\n",
       "17 0.00000000         all.obob5v5__v__all.obobBL6\n",
       "18 0.76923077         all.obob5v5__v__all.obobBL6\n",
       "19 0.81818182         all.obob5v5__v__all.obobBL6\n",
       "20 0.81818182         all.obob5v5__v__all.obobBL6\n",
       "21 0.90000000         all.obob5v5__v__all.obobBL6\n",
       "22 0.75000000         all.obob5v5__v__all.obobBL6\n",
       "23 0.28571429         all.obob5v5__v__all.obobBL6\n",
       "24 0.00000000         all.obob5v5__v__all.obobBL6\n",
       "25 0.00000000         all.obob5v5__v__all.obobBL6\n",
       "26 0.00000000         all.obob5v5__v__all.obobBL6\n",
       "27 1.00000000         all.obob5v5__v__all.obobBL6\n",
       "28 0.00000000         all.obob5v5__v__all.obobBL6\n",
       "29 0.00000000         all.obob5v5__v__all.obobBL6\n",
       "30 1.00000000         all.obob5v5__v__all.obobBL6\n",
       "⋮  ⋮                  ⋮                          \n",
       "42 NaN                all.obob5v5__v__all.obobBL6\n",
       "43 NaN                all.obob5v5__v__all.obobBL6\n",
       "44 NaN                all.obob5v5__v__all.obobBL6\n",
       "45 NaN                all.obob5v5__v__all.obobBL6\n",
       "46 NaN                all.obob5v5__v__all.obobBL6\n",
       "47 NaN                all.obob5v5__v__all.obobBL6\n",
       "48 NaN                all.obob5v5__v__all.obobBL6\n",
       "49 NaN                all.obob5v5__v__all.obobBL6\n",
       "50 NaN                all.obob5v5__v__all.obobBL6\n",
       "51 NaN                all.obob5v5__v__all.obobBL6\n",
       "52 NaN                all.obob5v5__v__all.obobBL6\n",
       "53 NaN                all.obob5v5__v__all.obobBL6\n",
       "54 NaN                all.obob5v5__v__all.obobBL6\n",
       "55 NaN                all.obob5v5__v__all.obobBL6\n",
       "56 NaN                all.obob5v5__v__all.obobBL6\n",
       "57 NaN                all.obob5v5__v__all.obobBL6\n",
       "58 NaN                all.obob5v5__v__all.obobBL6\n",
       "59 NaN                all.obob5v5__v__all.obobBL6\n",
       "60 NaN                all.obob5v5__v__all.obobBL6\n",
       "61 NaN                all.obob5v5__v__all.obobBL6\n",
       "62 NaN                all.obob5v5__v__all.obobBL6\n",
       "63 NaN                all.obob5v5__v__all.obobBL6\n",
       "64 NaN                all.obob5v5__v__all.obobBL6\n",
       "65 NaN                all.obob5v5__v__all.obobBL6\n",
       "66 NaN                all.obob5v5__v__all.obobBL6\n",
       "67 NaN                all.obob5v5__v__all.obobBL6\n",
       "68 NaN                all.obob5v5__v__all.obobBL6\n",
       "69 NaN                all.obob5v5__v__all.obobBL6\n",
       "70 NaN                all.obob5v5__v__all.obobBL6\n",
       "71 NaN                all.obob5v5__v__all.obobBL6"
      ]
     },
     "metadata": {},
     "output_type": "display_data"
    }
   ],
   "source": [
    "all_restored_summary = qs::qread('_targets/objects/all_restored_summary')\n",
    "all_restored_summary %>% filter(comparison == 'all.obob5v5__v__all.obobBL6') %>% arrange(desc(n_fgf1)) "
   ]
  },
  {
   "cell_type": "code",
   "execution_count": 3,
   "id": "83c83faa",
   "metadata": {},
   "outputs": [],
   "source": [
    "make_tags = function(all_restored_summary){\n",
    "   all_restored_summary %>%\n",
    "    rowwise %>%\n",
    "    mutate(fgf1_tag = str_split(comparison, '__v__', n=2)[[1]][1]) %>% \n",
    "    mutate(bl6_tag = str_split(comparison, '__v__', n=2)[[1]][2]) %>%\n",
    "    mutate(fgf1_day = str_split(fgf1_tag, fixed('.'), n=2)[[1]][1]) %>% \n",
    "    mutate(bl6_day = str_split(bl6_tag, fixed('.'), n=2)[[1]][1]) %>%\n",
    "    mutate(fgf1_tag = str_split(fgf1_tag , fixed('.'), n=2)[[1]][2]) %>% \n",
    "    mutate(bl6_tag = str_split(bl6_tag , fixed('.'), n=2)[[1]][2]) %>%\n",
    "    ungroup\n",
    "} "
   ]
  },
  {
   "cell_type": "code",
   "execution_count": 4,
   "id": "9df7ef60",
   "metadata": {},
   "outputs": [
    {
     "data": {
      "text/html": [
       "<table class=\"dataframe\">\n",
       "<caption>A tibble: 3 × 8</caption>\n",
       "<thead>\n",
       "\t<tr><th scope=col>labels</th><th scope=col>comparison</th><th scope=col>fgf1_tag</th><th scope=col>bl6_tag</th><th scope=col>fgf1_day</th><th scope=col>bl6_day</th><th scope=col>nhood_grouping</th><th scope=col>grouping_polarity</th></tr>\n",
       "\t<tr><th scope=col>&lt;chr&gt;</th><th scope=col>&lt;chr&gt;</th><th scope=col>&lt;chr&gt;</th><th scope=col>&lt;chr&gt;</th><th scope=col>&lt;chr&gt;</th><th scope=col>&lt;chr&gt;</th><th scope=col>&lt;chr&gt;</th><th scope=col>&lt;chr&gt;</th></tr>\n",
       "</thead>\n",
       "<tbody>\n",
       "\t<tr><td>Kiss1__Tac2</td><td>all.obob14v14__v__all.obob14vBL6</td><td>obob14v14</td><td>obob14vBL6</td><td>all</td><td>all</td><td>restored_grouping</td><td>neg_restored</td></tr>\n",
       "\t<tr><td>g4         </td><td>all.obob14v14__v__all.obob14vBL6</td><td>obob14v14</td><td>obob14vBL6</td><td>all</td><td>all</td><td>restored_grouping</td><td>neg_restored</td></tr>\n",
       "\t<tr><td>Kiss1__Tac2</td><td>all.obob14v14__v__all.obob5vBL6 </td><td>obob14v14</td><td>obob5vBL6 </td><td>all</td><td>all</td><td>restored_grouping</td><td>neg_restored</td></tr>\n",
       "</tbody>\n",
       "</table>\n"
      ],
      "text/latex": [
       "A tibble: 3 × 8\n",
       "\\begin{tabular}{llllllll}\n",
       " labels & comparison & fgf1\\_tag & bl6\\_tag & fgf1\\_day & bl6\\_day & nhood\\_grouping & grouping\\_polarity\\\\\n",
       " <chr> & <chr> & <chr> & <chr> & <chr> & <chr> & <chr> & <chr>\\\\\n",
       "\\hline\n",
       "\t Kiss1\\_\\_Tac2 & all.obob14v14\\_\\_v\\_\\_all.obob14vBL6 & obob14v14 & obob14vBL6 & all & all & restored\\_grouping & neg\\_restored\\\\\n",
       "\t g4          & all.obob14v14\\_\\_v\\_\\_all.obob14vBL6 & obob14v14 & obob14vBL6 & all & all & restored\\_grouping & neg\\_restored\\\\\n",
       "\t Kiss1\\_\\_Tac2 & all.obob14v14\\_\\_v\\_\\_all.obob5vBL6  & obob14v14 & obob5vBL6  & all & all & restored\\_grouping & neg\\_restored\\\\\n",
       "\\end{tabular}\n"
      ],
      "text/markdown": [
       "\n",
       "A tibble: 3 × 8\n",
       "\n",
       "| labels &lt;chr&gt; | comparison &lt;chr&gt; | fgf1_tag &lt;chr&gt; | bl6_tag &lt;chr&gt; | fgf1_day &lt;chr&gt; | bl6_day &lt;chr&gt; | nhood_grouping &lt;chr&gt; | grouping_polarity &lt;chr&gt; |\n",
       "|---|---|---|---|---|---|---|---|\n",
       "| Kiss1__Tac2 | all.obob14v14__v__all.obob14vBL6 | obob14v14 | obob14vBL6 | all | all | restored_grouping | neg_restored |\n",
       "| g4          | all.obob14v14__v__all.obob14vBL6 | obob14v14 | obob14vBL6 | all | all | restored_grouping | neg_restored |\n",
       "| Kiss1__Tac2 | all.obob14v14__v__all.obob5vBL6  | obob14v14 | obob5vBL6  | all | all | restored_grouping | neg_restored |\n",
       "\n"
      ],
      "text/plain": [
       "  labels      comparison                       fgf1_tag  bl6_tag    fgf1_day\n",
       "1 Kiss1__Tac2 all.obob14v14__v__all.obob14vBL6 obob14v14 obob14vBL6 all     \n",
       "2 g4          all.obob14v14__v__all.obob14vBL6 obob14v14 obob14vBL6 all     \n",
       "3 Kiss1__Tac2 all.obob14v14__v__all.obob5vBL6  obob14v14 obob5vBL6  all     \n",
       "  bl6_day nhood_grouping    grouping_polarity\n",
       "1 all     restored_grouping neg_restored     \n",
       "2 all     restored_grouping neg_restored     \n",
       "3 all     restored_grouping neg_restored     "
      ]
     },
     "metadata": {},
     "output_type": "display_data"
    },
    {
     "data": {
      "text/html": [
       "<style>\n",
       ".list-inline {list-style: none; margin:0; padding: 0}\n",
       ".list-inline>li {display: inline-block}\n",
       ".list-inline>li:not(:last-child)::after {content: \"\\00b7\"; padding: 0 .5ex}\n",
       "</style>\n",
       "<ol class=list-inline><li>127</li><li>8</li></ol>\n"
      ],
      "text/latex": [
       "\\begin{enumerate*}\n",
       "\\item 127\n",
       "\\item 8\n",
       "\\end{enumerate*}\n"
      ],
      "text/markdown": [
       "1. 127\n",
       "2. 8\n",
       "\n",
       "\n"
      ],
      "text/plain": [
       "[1] 127   8"
      ]
     },
     "metadata": {},
     "output_type": "display_data"
    }
   ],
   "source": [
    "neg_restored = all_restored_summary %>% \n",
    "filter(n_restored.neg > 0) %>% #commented out because I want all of these to be considered and output\n",
    "make_tags %>%\n",
    "select(labels, comparison, fgf1_tag, bl6_tag, fgf1_day, bl6_day) %>%\n",
    "mutate(nhood_grouping = \"restored_grouping\") %>%\n",
    "mutate(grouping_polarity = \"neg_restored\") \n",
    "\n",
    "neg_restored %>% head(3)\n",
    "neg_restored %>% dim"
   ]
  },
  {
   "cell_type": "code",
   "execution_count": 5,
   "id": "87f3c449",
   "metadata": {},
   "outputs": [
    {
     "data": {
      "text/html": [
       "<table class=\"dataframe\">\n",
       "<caption>A tibble: 3 × 8</caption>\n",
       "<thead>\n",
       "\t<tr><th scope=col>labels</th><th scope=col>comparison</th><th scope=col>fgf1_tag</th><th scope=col>bl6_tag</th><th scope=col>fgf1_day</th><th scope=col>bl6_day</th><th scope=col>nhood_grouping</th><th scope=col>grouping_polarity</th></tr>\n",
       "\t<tr><th scope=col>&lt;chr&gt;</th><th scope=col>&lt;chr&gt;</th><th scope=col>&lt;chr&gt;</th><th scope=col>&lt;chr&gt;</th><th scope=col>&lt;chr&gt;</th><th scope=col>&lt;chr&gt;</th><th scope=col>&lt;chr&gt;</th><th scope=col>&lt;chr&gt;</th></tr>\n",
       "</thead>\n",
       "<tbody>\n",
       "\t<tr><td>Kiss1__Tac2</td><td>all.obob14v14__v__all.obob14vBL6</td><td>obob14v14</td><td>obob14vBL6</td><td>all</td><td>all</td><td>restored_grouping</td><td>pos_restored</td></tr>\n",
       "\t<tr><td>Kiss1__Tac2</td><td>all.obob14v14__v__all.obob5vBL6 </td><td>obob14v14</td><td>obob5vBL6 </td><td>all</td><td>all</td><td>restored_grouping</td><td>pos_restored</td></tr>\n",
       "\t<tr><td>Kiss1__Tac2</td><td>all.obob14v14__v__all.obobBL6   </td><td>obob14v14</td><td>obobBL6   </td><td>all</td><td>all</td><td>restored_grouping</td><td>pos_restored</td></tr>\n",
       "</tbody>\n",
       "</table>\n"
      ],
      "text/latex": [
       "A tibble: 3 × 8\n",
       "\\begin{tabular}{llllllll}\n",
       " labels & comparison & fgf1\\_tag & bl6\\_tag & fgf1\\_day & bl6\\_day & nhood\\_grouping & grouping\\_polarity\\\\\n",
       " <chr> & <chr> & <chr> & <chr> & <chr> & <chr> & <chr> & <chr>\\\\\n",
       "\\hline\n",
       "\t Kiss1\\_\\_Tac2 & all.obob14v14\\_\\_v\\_\\_all.obob14vBL6 & obob14v14 & obob14vBL6 & all & all & restored\\_grouping & pos\\_restored\\\\\n",
       "\t Kiss1\\_\\_Tac2 & all.obob14v14\\_\\_v\\_\\_all.obob5vBL6  & obob14v14 & obob5vBL6  & all & all & restored\\_grouping & pos\\_restored\\\\\n",
       "\t Kiss1\\_\\_Tac2 & all.obob14v14\\_\\_v\\_\\_all.obobBL6    & obob14v14 & obobBL6    & all & all & restored\\_grouping & pos\\_restored\\\\\n",
       "\\end{tabular}\n"
      ],
      "text/markdown": [
       "\n",
       "A tibble: 3 × 8\n",
       "\n",
       "| labels &lt;chr&gt; | comparison &lt;chr&gt; | fgf1_tag &lt;chr&gt; | bl6_tag &lt;chr&gt; | fgf1_day &lt;chr&gt; | bl6_day &lt;chr&gt; | nhood_grouping &lt;chr&gt; | grouping_polarity &lt;chr&gt; |\n",
       "|---|---|---|---|---|---|---|---|\n",
       "| Kiss1__Tac2 | all.obob14v14__v__all.obob14vBL6 | obob14v14 | obob14vBL6 | all | all | restored_grouping | pos_restored |\n",
       "| Kiss1__Tac2 | all.obob14v14__v__all.obob5vBL6  | obob14v14 | obob5vBL6  | all | all | restored_grouping | pos_restored |\n",
       "| Kiss1__Tac2 | all.obob14v14__v__all.obobBL6    | obob14v14 | obobBL6    | all | all | restored_grouping | pos_restored |\n",
       "\n"
      ],
      "text/plain": [
       "  labels      comparison                       fgf1_tag  bl6_tag    fgf1_day\n",
       "1 Kiss1__Tac2 all.obob14v14__v__all.obob14vBL6 obob14v14 obob14vBL6 all     \n",
       "2 Kiss1__Tac2 all.obob14v14__v__all.obob5vBL6  obob14v14 obob5vBL6  all     \n",
       "3 Kiss1__Tac2 all.obob14v14__v__all.obobBL6    obob14v14 obobBL6    all     \n",
       "  bl6_day nhood_grouping    grouping_polarity\n",
       "1 all     restored_grouping pos_restored     \n",
       "2 all     restored_grouping pos_restored     \n",
       "3 all     restored_grouping pos_restored     "
      ]
     },
     "metadata": {},
     "output_type": "display_data"
    },
    {
     "data": {
      "text/html": [
       "<style>\n",
       ".list-inline {list-style: none; margin:0; padding: 0}\n",
       ".list-inline>li {display: inline-block}\n",
       ".list-inline>li:not(:last-child)::after {content: \"\\00b7\"; padding: 0 .5ex}\n",
       "</style>\n",
       "<ol class=list-inline><li>122</li><li>8</li></ol>\n"
      ],
      "text/latex": [
       "\\begin{enumerate*}\n",
       "\\item 122\n",
       "\\item 8\n",
       "\\end{enumerate*}\n"
      ],
      "text/markdown": [
       "1. 122\n",
       "2. 8\n",
       "\n",
       "\n"
      ],
      "text/plain": [
       "[1] 122   8"
      ]
     },
     "metadata": {},
     "output_type": "display_data"
    }
   ],
   "source": [
    "pos_restored = all_restored_summary %>% \n",
    "filter(n_restored.pos > 0) %>%\n",
    "make_tags %>%\n",
    "select(labels, comparison, fgf1_tag, bl6_tag, fgf1_day, bl6_day) %>%\n",
    "mutate(nhood_grouping = \"restored_grouping\") %>%\n",
    "mutate(grouping_polarity = \"pos_restored\") \n",
    "\n",
    "pos_restored %>% head(3)\n",
    "pos_restored %>% dim"
   ]
  },
  {
   "cell_type": "code",
   "execution_count": 6,
   "id": "5b0b443a",
   "metadata": {},
   "outputs": [
    {
     "data": {
      "text/html": [
       "<table class=\"dataframe\">\n",
       "<caption>A tibble: 3 × 8</caption>\n",
       "<thead>\n",
       "\t<tr><th scope=col>labels</th><th scope=col>comparison</th><th scope=col>fgf1_tag</th><th scope=col>bl6_tag</th><th scope=col>fgf1_day</th><th scope=col>bl6_day</th><th scope=col>nhood_grouping</th><th scope=col>grouping_polarity</th></tr>\n",
       "\t<tr><th scope=col>&lt;chr&gt;</th><th scope=col>&lt;chr&gt;</th><th scope=col>&lt;chr&gt;</th><th scope=col>&lt;chr&gt;</th><th scope=col>&lt;chr&gt;</th><th scope=col>&lt;chr&gt;</th><th scope=col>&lt;chr&gt;</th><th scope=col>&lt;chr&gt;</th></tr>\n",
       "</thead>\n",
       "<tbody>\n",
       "\t<tr><td>Astrocytes </td><td>all.obob14v14__v__all.obob14vBL6</td><td>obob14v14</td><td>obob14vBL6</td><td>all</td><td>all</td><td>fgf1_grouping</td><td>neg</td></tr>\n",
       "\t<tr><td>Kiss1__Tac2</td><td>all.obob14v14__v__all.obob14vBL6</td><td>obob14v14</td><td>obob14vBL6</td><td>all</td><td>all</td><td>fgf1_grouping</td><td>neg</td></tr>\n",
       "\t<tr><td>g4         </td><td>all.obob14v14__v__all.obob14vBL6</td><td>obob14v14</td><td>obob14vBL6</td><td>all</td><td>all</td><td>fgf1_grouping</td><td>neg</td></tr>\n",
       "</tbody>\n",
       "</table>\n"
      ],
      "text/latex": [
       "A tibble: 3 × 8\n",
       "\\begin{tabular}{llllllll}\n",
       " labels & comparison & fgf1\\_tag & bl6\\_tag & fgf1\\_day & bl6\\_day & nhood\\_grouping & grouping\\_polarity\\\\\n",
       " <chr> & <chr> & <chr> & <chr> & <chr> & <chr> & <chr> & <chr>\\\\\n",
       "\\hline\n",
       "\t Astrocytes  & all.obob14v14\\_\\_v\\_\\_all.obob14vBL6 & obob14v14 & obob14vBL6 & all & all & fgf1\\_grouping & neg\\\\\n",
       "\t Kiss1\\_\\_Tac2 & all.obob14v14\\_\\_v\\_\\_all.obob14vBL6 & obob14v14 & obob14vBL6 & all & all & fgf1\\_grouping & neg\\\\\n",
       "\t g4          & all.obob14v14\\_\\_v\\_\\_all.obob14vBL6 & obob14v14 & obob14vBL6 & all & all & fgf1\\_grouping & neg\\\\\n",
       "\\end{tabular}\n"
      ],
      "text/markdown": [
       "\n",
       "A tibble: 3 × 8\n",
       "\n",
       "| labels &lt;chr&gt; | comparison &lt;chr&gt; | fgf1_tag &lt;chr&gt; | bl6_tag &lt;chr&gt; | fgf1_day &lt;chr&gt; | bl6_day &lt;chr&gt; | nhood_grouping &lt;chr&gt; | grouping_polarity &lt;chr&gt; |\n",
       "|---|---|---|---|---|---|---|---|\n",
       "| Astrocytes  | all.obob14v14__v__all.obob14vBL6 | obob14v14 | obob14vBL6 | all | all | fgf1_grouping | neg |\n",
       "| Kiss1__Tac2 | all.obob14v14__v__all.obob14vBL6 | obob14v14 | obob14vBL6 | all | all | fgf1_grouping | neg |\n",
       "| g4          | all.obob14v14__v__all.obob14vBL6 | obob14v14 | obob14vBL6 | all | all | fgf1_grouping | neg |\n",
       "\n"
      ],
      "text/plain": [
       "  labels      comparison                       fgf1_tag  bl6_tag    fgf1_day\n",
       "1 Astrocytes  all.obob14v14__v__all.obob14vBL6 obob14v14 obob14vBL6 all     \n",
       "2 Kiss1__Tac2 all.obob14v14__v__all.obob14vBL6 obob14v14 obob14vBL6 all     \n",
       "3 g4          all.obob14v14__v__all.obob14vBL6 obob14v14 obob14vBL6 all     \n",
       "  bl6_day nhood_grouping grouping_polarity\n",
       "1 all     fgf1_grouping  neg              \n",
       "2 all     fgf1_grouping  neg              \n",
       "3 all     fgf1_grouping  neg              "
      ]
     },
     "metadata": {},
     "output_type": "display_data"
    },
    {
     "data": {
      "text/html": [
       "<style>\n",
       ".list-inline {list-style: none; margin:0; padding: 0}\n",
       ".list-inline>li {display: inline-block}\n",
       ".list-inline>li:not(:last-child)::after {content: \"\\00b7\"; padding: 0 .5ex}\n",
       "</style>\n",
       "<ol class=list-inline><li>192</li><li>8</li></ol>\n"
      ],
      "text/latex": [
       "\\begin{enumerate*}\n",
       "\\item 192\n",
       "\\item 8\n",
       "\\end{enumerate*}\n"
      ],
      "text/markdown": [
       "1. 192\n",
       "2. 8\n",
       "\n",
       "\n"
      ],
      "text/plain": [
       "[1] 192   8"
      ]
     },
     "metadata": {},
     "output_type": "display_data"
    }
   ],
   "source": [
    "neg_fgf1 = all_restored_summary %>% \n",
    "filter(n_fgf1.neg > 0) %>%\n",
    "make_tags %>%\n",
    "select(labels, comparison, fgf1_tag, bl6_tag, fgf1_day, bl6_day) %>%\n",
    "mutate(nhood_grouping = \"fgf1_grouping\") %>%\n",
    "mutate(grouping_polarity = \"neg\") \n",
    "\n",
    "neg_fgf1 %>% head(3)\n",
    "neg_fgf1 %>% dim"
   ]
  },
  {
   "cell_type": "code",
   "execution_count": 7,
   "id": "e1d6415f",
   "metadata": {},
   "outputs": [
    {
     "data": {
      "text/html": [
       "<table class=\"dataframe\">\n",
       "<caption>A tibble: 3 × 8</caption>\n",
       "<thead>\n",
       "\t<tr><th scope=col>labels</th><th scope=col>comparison</th><th scope=col>fgf1_tag</th><th scope=col>bl6_tag</th><th scope=col>fgf1_day</th><th scope=col>bl6_day</th><th scope=col>nhood_grouping</th><th scope=col>grouping_polarity</th></tr>\n",
       "\t<tr><th scope=col>&lt;chr&gt;</th><th scope=col>&lt;chr&gt;</th><th scope=col>&lt;chr&gt;</th><th scope=col>&lt;chr&gt;</th><th scope=col>&lt;chr&gt;</th><th scope=col>&lt;chr&gt;</th><th scope=col>&lt;chr&gt;</th><th scope=col>&lt;chr&gt;</th></tr>\n",
       "</thead>\n",
       "<tbody>\n",
       "\t<tr><td>Astrocytes </td><td>all.obob14v14__v__all.obob14vBL6</td><td>obob14v14</td><td>obob14vBL6</td><td>all</td><td>all</td><td>fgf1_grouping</td><td>pos</td></tr>\n",
       "\t<tr><td>Kiss1__Tac2</td><td>all.obob14v14__v__all.obob14vBL6</td><td>obob14v14</td><td>obob14vBL6</td><td>all</td><td>all</td><td>fgf1_grouping</td><td>pos</td></tr>\n",
       "\t<tr><td>other      </td><td>all.obob14v14__v__all.obob14vBL6</td><td>obob14v14</td><td>obob14vBL6</td><td>all</td><td>all</td><td>fgf1_grouping</td><td>pos</td></tr>\n",
       "</tbody>\n",
       "</table>\n"
      ],
      "text/latex": [
       "A tibble: 3 × 8\n",
       "\\begin{tabular}{llllllll}\n",
       " labels & comparison & fgf1\\_tag & bl6\\_tag & fgf1\\_day & bl6\\_day & nhood\\_grouping & grouping\\_polarity\\\\\n",
       " <chr> & <chr> & <chr> & <chr> & <chr> & <chr> & <chr> & <chr>\\\\\n",
       "\\hline\n",
       "\t Astrocytes  & all.obob14v14\\_\\_v\\_\\_all.obob14vBL6 & obob14v14 & obob14vBL6 & all & all & fgf1\\_grouping & pos\\\\\n",
       "\t Kiss1\\_\\_Tac2 & all.obob14v14\\_\\_v\\_\\_all.obob14vBL6 & obob14v14 & obob14vBL6 & all & all & fgf1\\_grouping & pos\\\\\n",
       "\t other       & all.obob14v14\\_\\_v\\_\\_all.obob14vBL6 & obob14v14 & obob14vBL6 & all & all & fgf1\\_grouping & pos\\\\\n",
       "\\end{tabular}\n"
      ],
      "text/markdown": [
       "\n",
       "A tibble: 3 × 8\n",
       "\n",
       "| labels &lt;chr&gt; | comparison &lt;chr&gt; | fgf1_tag &lt;chr&gt; | bl6_tag &lt;chr&gt; | fgf1_day &lt;chr&gt; | bl6_day &lt;chr&gt; | nhood_grouping &lt;chr&gt; | grouping_polarity &lt;chr&gt; |\n",
       "|---|---|---|---|---|---|---|---|\n",
       "| Astrocytes  | all.obob14v14__v__all.obob14vBL6 | obob14v14 | obob14vBL6 | all | all | fgf1_grouping | pos |\n",
       "| Kiss1__Tac2 | all.obob14v14__v__all.obob14vBL6 | obob14v14 | obob14vBL6 | all | all | fgf1_grouping | pos |\n",
       "| other       | all.obob14v14__v__all.obob14vBL6 | obob14v14 | obob14vBL6 | all | all | fgf1_grouping | pos |\n",
       "\n"
      ],
      "text/plain": [
       "  labels      comparison                       fgf1_tag  bl6_tag    fgf1_day\n",
       "1 Astrocytes  all.obob14v14__v__all.obob14vBL6 obob14v14 obob14vBL6 all     \n",
       "2 Kiss1__Tac2 all.obob14v14__v__all.obob14vBL6 obob14v14 obob14vBL6 all     \n",
       "3 other       all.obob14v14__v__all.obob14vBL6 obob14v14 obob14vBL6 all     \n",
       "  bl6_day nhood_grouping grouping_polarity\n",
       "1 all     fgf1_grouping  pos              \n",
       "2 all     fgf1_grouping  pos              \n",
       "3 all     fgf1_grouping  pos              "
      ]
     },
     "metadata": {},
     "output_type": "display_data"
    },
    {
     "data": {
      "text/html": [
       "<style>\n",
       ".list-inline {list-style: none; margin:0; padding: 0}\n",
       ".list-inline>li {display: inline-block}\n",
       ".list-inline>li:not(:last-child)::after {content: \"\\00b7\"; padding: 0 .5ex}\n",
       "</style>\n",
       "<ol class=list-inline><li>219</li><li>8</li></ol>\n"
      ],
      "text/latex": [
       "\\begin{enumerate*}\n",
       "\\item 219\n",
       "\\item 8\n",
       "\\end{enumerate*}\n"
      ],
      "text/markdown": [
       "1. 219\n",
       "2. 8\n",
       "\n",
       "\n"
      ],
      "text/plain": [
       "[1] 219   8"
      ]
     },
     "metadata": {},
     "output_type": "display_data"
    }
   ],
   "source": [
    "pos_fgf1 = all_restored_summary %>% \n",
    "filter(n_fgf1.pos > 0) %>%\n",
    "make_tags %>%\n",
    "select(labels, comparison, fgf1_tag, bl6_tag, fgf1_day, bl6_day) %>%\n",
    "mutate(nhood_grouping = \"fgf1_grouping\") %>%\n",
    "mutate(grouping_polarity = \"pos\") \n",
    "\n",
    "pos_fgf1 %>% head(3)\n",
    "pos_fgf1 %>% dim"
   ]
  },
  {
   "cell_type": "code",
   "execution_count": 8,
   "id": "ec0eecd2",
   "metadata": {},
   "outputs": [
    {
     "data": {
      "text/html": [
       "<table class=\"dataframe\">\n",
       "<caption>A tibble: 3 × 8</caption>\n",
       "<thead>\n",
       "\t<tr><th scope=col>labels</th><th scope=col>comparison</th><th scope=col>fgf1_tag</th><th scope=col>bl6_tag</th><th scope=col>fgf1_day</th><th scope=col>bl6_day</th><th scope=col>nhood_grouping</th><th scope=col>grouping_polarity</th></tr>\n",
       "\t<tr><th scope=col>&lt;chr&gt;</th><th scope=col>&lt;chr&gt;</th><th scope=col>&lt;chr&gt;</th><th scope=col>&lt;chr&gt;</th><th scope=col>&lt;chr&gt;</th><th scope=col>&lt;chr&gt;</th><th scope=col>&lt;chr&gt;</th><th scope=col>&lt;chr&gt;</th></tr>\n",
       "</thead>\n",
       "<tbody>\n",
       "\t<tr><td>Astrocytes </td><td>all.obob14v14__v__all.obob14vBL6</td><td>obob14v14</td><td>obob14vBL6</td><td>all</td><td>all</td><td>bl6_grouping</td><td>pos</td></tr>\n",
       "\t<tr><td>Kiss1__Tac2</td><td>all.obob14v14__v__all.obob14vBL6</td><td>obob14v14</td><td>obob14vBL6</td><td>all</td><td>all</td><td>bl6_grouping</td><td>pos</td></tr>\n",
       "\t<tr><td>other      </td><td>all.obob14v14__v__all.obob14vBL6</td><td>obob14v14</td><td>obob14vBL6</td><td>all</td><td>all</td><td>bl6_grouping</td><td>pos</td></tr>\n",
       "</tbody>\n",
       "</table>\n"
      ],
      "text/latex": [
       "A tibble: 3 × 8\n",
       "\\begin{tabular}{llllllll}\n",
       " labels & comparison & fgf1\\_tag & bl6\\_tag & fgf1\\_day & bl6\\_day & nhood\\_grouping & grouping\\_polarity\\\\\n",
       " <chr> & <chr> & <chr> & <chr> & <chr> & <chr> & <chr> & <chr>\\\\\n",
       "\\hline\n",
       "\t Astrocytes  & all.obob14v14\\_\\_v\\_\\_all.obob14vBL6 & obob14v14 & obob14vBL6 & all & all & bl6\\_grouping & pos\\\\\n",
       "\t Kiss1\\_\\_Tac2 & all.obob14v14\\_\\_v\\_\\_all.obob14vBL6 & obob14v14 & obob14vBL6 & all & all & bl6\\_grouping & pos\\\\\n",
       "\t other       & all.obob14v14\\_\\_v\\_\\_all.obob14vBL6 & obob14v14 & obob14vBL6 & all & all & bl6\\_grouping & pos\\\\\n",
       "\\end{tabular}\n"
      ],
      "text/markdown": [
       "\n",
       "A tibble: 3 × 8\n",
       "\n",
       "| labels &lt;chr&gt; | comparison &lt;chr&gt; | fgf1_tag &lt;chr&gt; | bl6_tag &lt;chr&gt; | fgf1_day &lt;chr&gt; | bl6_day &lt;chr&gt; | nhood_grouping &lt;chr&gt; | grouping_polarity &lt;chr&gt; |\n",
       "|---|---|---|---|---|---|---|---|\n",
       "| Astrocytes  | all.obob14v14__v__all.obob14vBL6 | obob14v14 | obob14vBL6 | all | all | bl6_grouping | pos |\n",
       "| Kiss1__Tac2 | all.obob14v14__v__all.obob14vBL6 | obob14v14 | obob14vBL6 | all | all | bl6_grouping | pos |\n",
       "| other       | all.obob14v14__v__all.obob14vBL6 | obob14v14 | obob14vBL6 | all | all | bl6_grouping | pos |\n",
       "\n"
      ],
      "text/plain": [
       "  labels      comparison                       fgf1_tag  bl6_tag    fgf1_day\n",
       "1 Astrocytes  all.obob14v14__v__all.obob14vBL6 obob14v14 obob14vBL6 all     \n",
       "2 Kiss1__Tac2 all.obob14v14__v__all.obob14vBL6 obob14v14 obob14vBL6 all     \n",
       "3 other       all.obob14v14__v__all.obob14vBL6 obob14v14 obob14vBL6 all     \n",
       "  bl6_day nhood_grouping grouping_polarity\n",
       "1 all     bl6_grouping   pos              \n",
       "2 all     bl6_grouping   pos              \n",
       "3 all     bl6_grouping   pos              "
      ]
     },
     "metadata": {},
     "output_type": "display_data"
    },
    {
     "data": {
      "text/html": [
       "<style>\n",
       ".list-inline {list-style: none; margin:0; padding: 0}\n",
       ".list-inline>li {display: inline-block}\n",
       ".list-inline>li:not(:last-child)::after {content: \"\\00b7\"; padding: 0 .5ex}\n",
       "</style>\n",
       "<ol class=list-inline><li>844</li><li>8</li></ol>\n"
      ],
      "text/latex": [
       "\\begin{enumerate*}\n",
       "\\item 844\n",
       "\\item 8\n",
       "\\end{enumerate*}\n"
      ],
      "text/markdown": [
       "1. 844\n",
       "2. 8\n",
       "\n",
       "\n"
      ],
      "text/plain": [
       "[1] 844   8"
      ]
     },
     "metadata": {},
     "output_type": "display_data"
    }
   ],
   "source": [
    "pos_BL6 = all_restored_summary %>% \n",
    "# filter(n_BL6 > 0) %>%\n",
    "make_tags %>%\n",
    "select(labels, comparison, fgf1_tag, bl6_tag, fgf1_day, bl6_day) %>%\n",
    "mutate(nhood_grouping = \"bl6_grouping\") %>%\n",
    "mutate(grouping_polarity = \"pos\") \n",
    "\n",
    "pos_BL6 %>% head(3)\n",
    "pos_BL6 %>% dim"
   ]
  },
  {
   "cell_type": "code",
   "execution_count": 9,
   "id": "41873987",
   "metadata": {},
   "outputs": [
    {
     "data": {
      "text/html": [
       "<table class=\"dataframe\">\n",
       "<caption>A tibble: 3 × 8</caption>\n",
       "<thead>\n",
       "\t<tr><th scope=col>labels</th><th scope=col>comparison</th><th scope=col>fgf1_tag</th><th scope=col>bl6_tag</th><th scope=col>fgf1_day</th><th scope=col>bl6_day</th><th scope=col>nhood_grouping</th><th scope=col>grouping_polarity</th></tr>\n",
       "\t<tr><th scope=col>&lt;chr&gt;</th><th scope=col>&lt;chr&gt;</th><th scope=col>&lt;chr&gt;</th><th scope=col>&lt;chr&gt;</th><th scope=col>&lt;chr&gt;</th><th scope=col>&lt;chr&gt;</th><th scope=col>&lt;chr&gt;</th><th scope=col>&lt;chr&gt;</th></tr>\n",
       "</thead>\n",
       "<tbody>\n",
       "\t<tr><td>Astrocytes </td><td>all.obob14v14__v__all.obob14vBL6</td><td>obob14v14</td><td>obob14vBL6</td><td>all</td><td>all</td><td>bl6_grouping</td><td>neg</td></tr>\n",
       "\t<tr><td>Kiss1__Tac2</td><td>all.obob14v14__v__all.obob14vBL6</td><td>obob14v14</td><td>obob14vBL6</td><td>all</td><td>all</td><td>bl6_grouping</td><td>neg</td></tr>\n",
       "\t<tr><td>other      </td><td>all.obob14v14__v__all.obob14vBL6</td><td>obob14v14</td><td>obob14vBL6</td><td>all</td><td>all</td><td>bl6_grouping</td><td>neg</td></tr>\n",
       "</tbody>\n",
       "</table>\n"
      ],
      "text/latex": [
       "A tibble: 3 × 8\n",
       "\\begin{tabular}{llllllll}\n",
       " labels & comparison & fgf1\\_tag & bl6\\_tag & fgf1\\_day & bl6\\_day & nhood\\_grouping & grouping\\_polarity\\\\\n",
       " <chr> & <chr> & <chr> & <chr> & <chr> & <chr> & <chr> & <chr>\\\\\n",
       "\\hline\n",
       "\t Astrocytes  & all.obob14v14\\_\\_v\\_\\_all.obob14vBL6 & obob14v14 & obob14vBL6 & all & all & bl6\\_grouping & neg\\\\\n",
       "\t Kiss1\\_\\_Tac2 & all.obob14v14\\_\\_v\\_\\_all.obob14vBL6 & obob14v14 & obob14vBL6 & all & all & bl6\\_grouping & neg\\\\\n",
       "\t other       & all.obob14v14\\_\\_v\\_\\_all.obob14vBL6 & obob14v14 & obob14vBL6 & all & all & bl6\\_grouping & neg\\\\\n",
       "\\end{tabular}\n"
      ],
      "text/markdown": [
       "\n",
       "A tibble: 3 × 8\n",
       "\n",
       "| labels &lt;chr&gt; | comparison &lt;chr&gt; | fgf1_tag &lt;chr&gt; | bl6_tag &lt;chr&gt; | fgf1_day &lt;chr&gt; | bl6_day &lt;chr&gt; | nhood_grouping &lt;chr&gt; | grouping_polarity &lt;chr&gt; |\n",
       "|---|---|---|---|---|---|---|---|\n",
       "| Astrocytes  | all.obob14v14__v__all.obob14vBL6 | obob14v14 | obob14vBL6 | all | all | bl6_grouping | neg |\n",
       "| Kiss1__Tac2 | all.obob14v14__v__all.obob14vBL6 | obob14v14 | obob14vBL6 | all | all | bl6_grouping | neg |\n",
       "| other       | all.obob14v14__v__all.obob14vBL6 | obob14v14 | obob14vBL6 | all | all | bl6_grouping | neg |\n",
       "\n"
      ],
      "text/plain": [
       "  labels      comparison                       fgf1_tag  bl6_tag    fgf1_day\n",
       "1 Astrocytes  all.obob14v14__v__all.obob14vBL6 obob14v14 obob14vBL6 all     \n",
       "2 Kiss1__Tac2 all.obob14v14__v__all.obob14vBL6 obob14v14 obob14vBL6 all     \n",
       "3 other       all.obob14v14__v__all.obob14vBL6 obob14v14 obob14vBL6 all     \n",
       "  bl6_day nhood_grouping grouping_polarity\n",
       "1 all     bl6_grouping   neg              \n",
       "2 all     bl6_grouping   neg              \n",
       "3 all     bl6_grouping   neg              "
      ]
     },
     "metadata": {},
     "output_type": "display_data"
    },
    {
     "data": {
      "text/html": [
       "<style>\n",
       ".list-inline {list-style: none; margin:0; padding: 0}\n",
       ".list-inline>li {display: inline-block}\n",
       ".list-inline>li:not(:last-child)::after {content: \"\\00b7\"; padding: 0 .5ex}\n",
       "</style>\n",
       "<ol class=list-inline><li>844</li><li>8</li></ol>\n"
      ],
      "text/latex": [
       "\\begin{enumerate*}\n",
       "\\item 844\n",
       "\\item 8\n",
       "\\end{enumerate*}\n"
      ],
      "text/markdown": [
       "1. 844\n",
       "2. 8\n",
       "\n",
       "\n"
      ],
      "text/plain": [
       "[1] 844   8"
      ]
     },
     "metadata": {},
     "output_type": "display_data"
    }
   ],
   "source": [
    "neg_BL6 = all_restored_summary %>% \n",
    "# filter(n_BL6 > 0) %>%\n",
    "make_tags %>%\n",
    "select(labels, comparison, fgf1_tag, bl6_tag, fgf1_day, bl6_day) %>%\n",
    "mutate(nhood_grouping = \"bl6_grouping\") %>%\n",
    "mutate(grouping_polarity = \"neg\") \n",
    "\n",
    "neg_BL6 %>% head(3)\n",
    "neg_BL6 %>% dim"
   ]
  },
  {
   "cell_type": "code",
   "execution_count": 10,
   "id": "bc16578e",
   "metadata": {},
   "outputs": [
    {
     "name": "stderr",
     "output_type": "stream",
     "text": [
      "Warning message:\n",
      "“\u001b[1m\u001b[22mThere was 1 warning in `mutate()`.\n",
      "\u001b[1m\u001b[22m\u001b[36mℹ\u001b[39m In argument: `milo_index_tibble = milo_obj %>% str_replace(\"milo_\",\n",
      "  \"milo_index_tibble_\") %>% rlang::syms(.)`.\n",
      "Caused by warning in `stri_replace_first_regex()`:\n",
      "\u001b[33m!\u001b[39m argument is not an atomic vector; coercing”\n"
     ]
    },
    {
     "data": {
      "text/html": [
       "<table class=\"dataframe\">\n",
       "<caption>A tibble: 3 × 15</caption>\n",
       "<thead>\n",
       "\t<tr><th scope=col>da_results_nhg_output_suffix</th><th scope=col>milo_obj</th><th scope=col>seurat_obj</th><th scope=col>nhm_obj</th><th scope=col>da_results_obj</th><th scope=col>restored_df_obj</th><th scope=col>nhood_grouping</th><th scope=col>grouping_polarity</th><th scope=col>labels</th><th scope=col>comparison</th><th scope=col>fgf1_tag</th><th scope=col>bl6_tag</th><th scope=col>fgf1_day</th><th scope=col>bl6_day</th><th scope=col>milo_index_tibble</th></tr>\n",
       "\t<tr><th scope=col>&lt;chr&gt;</th><th scope=col>&lt;list&gt;</th><th scope=col>&lt;list&gt;</th><th scope=col>&lt;list&gt;</th><th scope=col>&lt;list&gt;</th><th scope=col>&lt;list&gt;</th><th scope=col>&lt;chr&gt;</th><th scope=col>&lt;chr&gt;</th><th scope=col>&lt;chr&gt;</th><th scope=col>&lt;chr&gt;</th><th scope=col>&lt;chr&gt;</th><th scope=col>&lt;chr&gt;</th><th scope=col>&lt;chr&gt;</th><th scope=col>&lt;chr&gt;</th><th scope=col>&lt;list&gt;</th></tr>\n",
       "</thead>\n",
       "<tbody>\n",
       "\t<tr><td>Kiss1__Tac2___all.obob14v14__v__all.obob14vBL6</td><td>milo_Kiss1__Tac2</td><td>obj_Kiss1__Tac2</td><td>nhm_Kiss1__Tac2___obob14v14</td><td>da_results_01_Kiss1__Tac2___obob14v14</td><td>restored_df_all.obob14v14__v__all.obob14vBL6</td><td>restored_grouping</td><td>pos_restored</td><td>Kiss1__Tac2</td><td>all.obob14v14__v__all.obob14vBL6</td><td>obob14v14</td><td>obob14vBL6</td><td>all</td><td>all</td><td>milo_index_tibble_Kiss1__Tac2</td></tr>\n",
       "\t<tr><td>Kiss1__Tac2___all.obob14v14__v__all.obob5vBL6 </td><td>milo_Kiss1__Tac2</td><td>obj_Kiss1__Tac2</td><td>nhm_Kiss1__Tac2___obob14v14</td><td>da_results_01_Kiss1__Tac2___obob14v14</td><td>restored_df_all.obob14v14__v__all.obob5vBL6</td><td>restored_grouping</td><td>pos_restored</td><td>Kiss1__Tac2</td><td>all.obob14v14__v__all.obob5vBL6 </td><td>obob14v14</td><td>obob5vBL6 </td><td>all</td><td>all</td><td>milo_index_tibble_Kiss1__Tac2</td></tr>\n",
       "\t<tr><td>Kiss1__Tac2___all.obob14v14__v__all.obobBL6   </td><td>milo_Kiss1__Tac2</td><td>obj_Kiss1__Tac2</td><td>nhm_Kiss1__Tac2___obob14v14</td><td>da_results_01_Kiss1__Tac2___obob14v14</td><td>restored_df_all.obob14v14__v__all.obobBL6</td><td>restored_grouping</td><td>pos_restored</td><td>Kiss1__Tac2</td><td>all.obob14v14__v__all.obobBL6   </td><td>obob14v14</td><td>obobBL6   </td><td>all</td><td>all</td><td>milo_index_tibble_Kiss1__Tac2</td></tr>\n",
       "</tbody>\n",
       "</table>\n"
      ],
      "text/latex": [
       "A tibble: 3 × 15\n",
       "\\begin{tabular}{lllllllllllllll}\n",
       " da\\_results\\_nhg\\_output\\_suffix & milo\\_obj & seurat\\_obj & nhm\\_obj & da\\_results\\_obj & restored\\_df\\_obj & nhood\\_grouping & grouping\\_polarity & labels & comparison & fgf1\\_tag & bl6\\_tag & fgf1\\_day & bl6\\_day & milo\\_index\\_tibble\\\\\n",
       " <chr> & <list> & <list> & <list> & <list> & <list> & <chr> & <chr> & <chr> & <chr> & <chr> & <chr> & <chr> & <chr> & <list>\\\\\n",
       "\\hline\n",
       "\t Kiss1\\_\\_Tac2\\_\\_\\_all.obob14v14\\_\\_v\\_\\_all.obob14vBL6 & milo\\_Kiss1\\_\\_Tac2 & obj\\_Kiss1\\_\\_Tac2 & nhm\\_Kiss1\\_\\_Tac2\\_\\_\\_obob14v14 & da\\_results\\_01\\_Kiss1\\_\\_Tac2\\_\\_\\_obob14v14 & restored\\_df\\_all.obob14v14\\_\\_v\\_\\_all.obob14vBL6 & restored\\_grouping & pos\\_restored & Kiss1\\_\\_Tac2 & all.obob14v14\\_\\_v\\_\\_all.obob14vBL6 & obob14v14 & obob14vBL6 & all & all & milo\\_index\\_tibble\\_Kiss1\\_\\_Tac2\\\\\n",
       "\t Kiss1\\_\\_Tac2\\_\\_\\_all.obob14v14\\_\\_v\\_\\_all.obob5vBL6  & milo\\_Kiss1\\_\\_Tac2 & obj\\_Kiss1\\_\\_Tac2 & nhm\\_Kiss1\\_\\_Tac2\\_\\_\\_obob14v14 & da\\_results\\_01\\_Kiss1\\_\\_Tac2\\_\\_\\_obob14v14 & restored\\_df\\_all.obob14v14\\_\\_v\\_\\_all.obob5vBL6 & restored\\_grouping & pos\\_restored & Kiss1\\_\\_Tac2 & all.obob14v14\\_\\_v\\_\\_all.obob5vBL6  & obob14v14 & obob5vBL6  & all & all & milo\\_index\\_tibble\\_Kiss1\\_\\_Tac2\\\\\n",
       "\t Kiss1\\_\\_Tac2\\_\\_\\_all.obob14v14\\_\\_v\\_\\_all.obobBL6    & milo\\_Kiss1\\_\\_Tac2 & obj\\_Kiss1\\_\\_Tac2 & nhm\\_Kiss1\\_\\_Tac2\\_\\_\\_obob14v14 & da\\_results\\_01\\_Kiss1\\_\\_Tac2\\_\\_\\_obob14v14 & restored\\_df\\_all.obob14v14\\_\\_v\\_\\_all.obobBL6 & restored\\_grouping & pos\\_restored & Kiss1\\_\\_Tac2 & all.obob14v14\\_\\_v\\_\\_all.obobBL6    & obob14v14 & obobBL6    & all & all & milo\\_index\\_tibble\\_Kiss1\\_\\_Tac2\\\\\n",
       "\\end{tabular}\n"
      ],
      "text/markdown": [
       "\n",
       "A tibble: 3 × 15\n",
       "\n",
       "| da_results_nhg_output_suffix &lt;chr&gt; | milo_obj &lt;list&gt; | seurat_obj &lt;list&gt; | nhm_obj &lt;list&gt; | da_results_obj &lt;list&gt; | restored_df_obj &lt;list&gt; | nhood_grouping &lt;chr&gt; | grouping_polarity &lt;chr&gt; | labels &lt;chr&gt; | comparison &lt;chr&gt; | fgf1_tag &lt;chr&gt; | bl6_tag &lt;chr&gt; | fgf1_day &lt;chr&gt; | bl6_day &lt;chr&gt; | milo_index_tibble &lt;list&gt; |\n",
       "|---|---|---|---|---|---|---|---|---|---|---|---|---|---|---|\n",
       "| Kiss1__Tac2___all.obob14v14__v__all.obob14vBL6 | milo_Kiss1__Tac2 | obj_Kiss1__Tac2 | nhm_Kiss1__Tac2___obob14v14 | da_results_01_Kiss1__Tac2___obob14v14 | restored_df_all.obob14v14__v__all.obob14vBL6 | restored_grouping | pos_restored | Kiss1__Tac2 | all.obob14v14__v__all.obob14vBL6 | obob14v14 | obob14vBL6 | all | all | milo_index_tibble_Kiss1__Tac2 |\n",
       "| Kiss1__Tac2___all.obob14v14__v__all.obob5vBL6  | milo_Kiss1__Tac2 | obj_Kiss1__Tac2 | nhm_Kiss1__Tac2___obob14v14 | da_results_01_Kiss1__Tac2___obob14v14 | restored_df_all.obob14v14__v__all.obob5vBL6 | restored_grouping | pos_restored | Kiss1__Tac2 | all.obob14v14__v__all.obob5vBL6  | obob14v14 | obob5vBL6  | all | all | milo_index_tibble_Kiss1__Tac2 |\n",
       "| Kiss1__Tac2___all.obob14v14__v__all.obobBL6    | milo_Kiss1__Tac2 | obj_Kiss1__Tac2 | nhm_Kiss1__Tac2___obob14v14 | da_results_01_Kiss1__Tac2___obob14v14 | restored_df_all.obob14v14__v__all.obobBL6 | restored_grouping | pos_restored | Kiss1__Tac2 | all.obob14v14__v__all.obobBL6    | obob14v14 | obobBL6    | all | all | milo_index_tibble_Kiss1__Tac2 |\n",
       "\n"
      ],
      "text/plain": [
       "  da_results_nhg_output_suffix                   milo_obj        \n",
       "1 Kiss1__Tac2___all.obob14v14__v__all.obob14vBL6 milo_Kiss1__Tac2\n",
       "2 Kiss1__Tac2___all.obob14v14__v__all.obob5vBL6  milo_Kiss1__Tac2\n",
       "3 Kiss1__Tac2___all.obob14v14__v__all.obobBL6    milo_Kiss1__Tac2\n",
       "  seurat_obj      nhm_obj                    \n",
       "1 obj_Kiss1__Tac2 nhm_Kiss1__Tac2___obob14v14\n",
       "2 obj_Kiss1__Tac2 nhm_Kiss1__Tac2___obob14v14\n",
       "3 obj_Kiss1__Tac2 nhm_Kiss1__Tac2___obob14v14\n",
       "  da_results_obj                       \n",
       "1 da_results_01_Kiss1__Tac2___obob14v14\n",
       "2 da_results_01_Kiss1__Tac2___obob14v14\n",
       "3 da_results_01_Kiss1__Tac2___obob14v14\n",
       "  restored_df_obj                              nhood_grouping   \n",
       "1 restored_df_all.obob14v14__v__all.obob14vBL6 restored_grouping\n",
       "2 restored_df_all.obob14v14__v__all.obob5vBL6  restored_grouping\n",
       "3 restored_df_all.obob14v14__v__all.obobBL6    restored_grouping\n",
       "  grouping_polarity labels      comparison                       fgf1_tag \n",
       "1 pos_restored      Kiss1__Tac2 all.obob14v14__v__all.obob14vBL6 obob14v14\n",
       "2 pos_restored      Kiss1__Tac2 all.obob14v14__v__all.obob5vBL6  obob14v14\n",
       "3 pos_restored      Kiss1__Tac2 all.obob14v14__v__all.obobBL6    obob14v14\n",
       "  bl6_tag    fgf1_day bl6_day milo_index_tibble            \n",
       "1 obob14vBL6 all      all     milo_index_tibble_Kiss1__Tac2\n",
       "2 obob5vBL6  all      all     milo_index_tibble_Kiss1__Tac2\n",
       "3 obobBL6    all      all     milo_index_tibble_Kiss1__Tac2"
      ]
     },
     "metadata": {},
     "output_type": "display_data"
    },
    {
     "data": {
      "text/html": [
       "<style>\n",
       ".list-inline {list-style: none; margin:0; padding: 0}\n",
       ".list-inline>li {display: inline-block}\n",
       ".list-inline>li:not(:last-child)::after {content: \"\\00b7\"; padding: 0 .5ex}\n",
       "</style>\n",
       "<ol class=list-inline><li>2348</li><li>15</li></ol>\n"
      ],
      "text/latex": [
       "\\begin{enumerate*}\n",
       "\\item 2348\n",
       "\\item 15\n",
       "\\end{enumerate*}\n"
      ],
      "text/markdown": [
       "1. 2348\n",
       "2. 15\n",
       "\n",
       "\n"
      ],
      "text/plain": [
       "[1] 2348   15"
      ]
     },
     "metadata": {},
     "output_type": "display_data"
    },
    {
     "data": {
      "text/html": [
       "<style>\n",
       ".list-inline {list-style: none; margin:0; padding: 0}\n",
       ".list-inline>li {display: inline-block}\n",
       ".list-inline>li:not(:last-child)::after {content: \"\\00b7\"; padding: 0 .5ex}\n",
       "</style>\n",
       "<ol class=list-inline><li>844</li><li>15</li></ol>\n"
      ],
      "text/latex": [
       "\\begin{enumerate*}\n",
       "\\item 844\n",
       "\\item 15\n",
       "\\end{enumerate*}\n"
      ],
      "text/markdown": [
       "1. 844\n",
       "2. 15\n",
       "\n",
       "\n"
      ],
      "text/plain": [
       "[1] 844  15"
      ]
     },
     "metadata": {},
     "output_type": "display_data"
    }
   ],
   "source": [
    "annotate_nh_grouping_recipe = rbind(pos_restored, neg_restored, pos_fgf1, neg_fgf1, pos_BL6, neg_BL6) %>%\n",
    "mutate(milo_obj = paste0(\"milo_\", fgf1_day, '.', labels)) %>%\n",
    "mutate(milo_obj = str_replace(milo_obj, fixed(\"_all.\"), '_')) %>%\n",
    "mutate(milo_obj = rlang::syms(milo_obj)) %>%\n",
    "mutate(milo_index_tibble = milo_obj %>% str_replace('milo_', 'milo_index_tibble_') %>% rlang::syms(.)) %>%\n",
    "mutate(seurat_obj = paste0(\"obj_\", fgf1_day, '.', labels)) %>%\n",
    "mutate(seurat_obj = str_replace(seurat_obj, fixed(\"_all.\"), '_')) %>%\n",
    "mutate(seurat_obj = rlang::syms(seurat_obj)) %>%\n",
    "mutate(da_results_obj = paste0(\"da_results_01_\", fgf1_day, '.', labels, '___', fgf1_tag)) %>%\n",
    "mutate(da_results_obj = str_replace(da_results_obj, fixed(\"_all.\"), '_')) %>%\n",
    "mutate(da_results_obj = rlang::syms(da_results_obj)) %>%\n",
    "mutate(nhm_obj = paste0(\"nhm_\", fgf1_day, '.', labels, '___', fgf1_tag)) %>%\n",
    "mutate(nhm_obj = str_replace(nhm_obj, fixed(\"_all.\"), '_')) %>%\n",
    "mutate(nhm_obj = rlang::syms(nhm_obj)) %>%\n",
    "mutate(restored_df_obj = paste0(\"restored_df_\", comparison)) %>%\n",
    "mutate(restored_df_obj = rlang::syms(restored_df_obj)) %>%\n",
    "mutate(da_results_nhg_output_suffix = paste0(labels, '___', comparison)) %>%\n",
    "relocate(\"da_results_nhg_output_suffix\", \"milo_obj\", \"seurat_obj\", \"nhm_obj\", \"da_results_obj\", \"restored_df_obj\", \"nhood_grouping\", \"grouping_polarity\")\n",
    "\n",
    "\n",
    "\n",
    "annotate_nh_grouping_recipe %>% head(3)\n",
    "annotate_nh_grouping_recipe %>% dim\n",
    "\n",
    "annotate_nh_grouping_recipe_unique_nhg = annotate_nh_grouping_recipe %>% \n",
    "    distinct(da_results_nhg_output_suffix, .keep_all = TRUE)\n",
    "qs::qsave(annotate_nh_grouping_recipe_unique_nhg, 'annotate_nh_grouping_recipe.qs')\n",
    "annotate_nh_grouping_recipe_unique_nhg %>% dim\n",
    "\n"
   ]
  },
  {
   "cell_type": "code",
   "execution_count": 11,
   "id": "9bc15c7a",
   "metadata": {},
   "outputs": [
    {
     "data": {
      "text/html": [
       "<table class=\"dataframe\">\n",
       "<caption>A tibble: 3 × 19</caption>\n",
       "<thead>\n",
       "\t<tr><th scope=col>deg_output_suffix</th><th scope=col>da_results_nhg_obj</th><th scope=col>group_a</th><th scope=col>group_b</th><th scope=col>nhgc_obj</th><th scope=col>da_results_nhg_output_suffix</th><th scope=col>milo_obj</th><th scope=col>seurat_obj</th><th scope=col>nhm_obj</th><th scope=col>da_results_obj</th><th scope=col>restored_df_obj</th><th scope=col>nhood_grouping</th><th scope=col>labels</th><th scope=col>comparison</th><th scope=col>fgf1_tag</th><th scope=col>bl6_tag</th><th scope=col>fgf1_day</th><th scope=col>bl6_day</th><th scope=col>milo_index_tibble</th></tr>\n",
       "\t<tr><th scope=col>&lt;chr&gt;</th><th scope=col>&lt;list&gt;</th><th scope=col>&lt;chr&gt;</th><th scope=col>&lt;chr&gt;</th><th scope=col>&lt;list&gt;</th><th scope=col>&lt;chr&gt;</th><th scope=col>&lt;list&gt;</th><th scope=col>&lt;list&gt;</th><th scope=col>&lt;list&gt;</th><th scope=col>&lt;list&gt;</th><th scope=col>&lt;list&gt;</th><th scope=col>&lt;chr&gt;</th><th scope=col>&lt;chr&gt;</th><th scope=col>&lt;chr&gt;</th><th scope=col>&lt;chr&gt;</th><th scope=col>&lt;chr&gt;</th><th scope=col>&lt;chr&gt;</th><th scope=col>&lt;chr&gt;</th><th scope=col>&lt;list&gt;</th></tr>\n",
       "</thead>\n",
       "<tbody>\n",
       "\t<tr><td>Agrp___all.obob14v14__v__all.obob14vBL6___bl6_grouping.neg_vs_rest        </td><td>da_results_nhg_Agrp___all.obob14v14__v__all.obob14vBL6</td><td>neg</td><td>            </td><td>nhgc_Agrp___all.obob14v14__v__all.obob14vBL6</td><td>Agrp___all.obob14v14__v__all.obob14vBL6</td><td>milo_Agrp</td><td>obj_Agrp</td><td>nhm_Agrp___obob14v14</td><td>da_results_01_Agrp___obob14v14</td><td>restored_df_all.obob14v14__v__all.obob14vBL6</td><td>bl6_grouping</td><td>Agrp</td><td>all.obob14v14__v__all.obob14vBL6</td><td>obob14v14</td><td>obob14vBL6</td><td>all</td><td>all</td><td>milo_index_tibble_Agrp</td></tr>\n",
       "\t<tr><td>Agrp___all.obob14v14__v__all.obob14vBL6___bl6_grouping.neg_vs_neg_restored</td><td>da_results_nhg_Agrp___all.obob14v14__v__all.obob14vBL6</td><td>neg</td><td>neg_restored</td><td>nhgc_Agrp___all.obob14v14__v__all.obob14vBL6</td><td>Agrp___all.obob14v14__v__all.obob14vBL6</td><td>milo_Agrp</td><td>obj_Agrp</td><td>nhm_Agrp___obob14v14</td><td>da_results_01_Agrp___obob14v14</td><td>restored_df_all.obob14v14__v__all.obob14vBL6</td><td>bl6_grouping</td><td>Agrp</td><td>all.obob14v14__v__all.obob14vBL6</td><td>obob14v14</td><td>obob14vBL6</td><td>all</td><td>all</td><td>milo_index_tibble_Agrp</td></tr>\n",
       "\t<tr><td>Agrp___all.obob14v14__v__all.obob14vBL6___bl6_grouping.neg_vs_none        </td><td>da_results_nhg_Agrp___all.obob14v14__v__all.obob14vBL6</td><td>neg</td><td>none        </td><td>nhgc_Agrp___all.obob14v14__v__all.obob14vBL6</td><td>Agrp___all.obob14v14__v__all.obob14vBL6</td><td>milo_Agrp</td><td>obj_Agrp</td><td>nhm_Agrp___obob14v14</td><td>da_results_01_Agrp___obob14v14</td><td>restored_df_all.obob14v14__v__all.obob14vBL6</td><td>bl6_grouping</td><td>Agrp</td><td>all.obob14v14__v__all.obob14vBL6</td><td>obob14v14</td><td>obob14vBL6</td><td>all</td><td>all</td><td>milo_index_tibble_Agrp</td></tr>\n",
       "</tbody>\n",
       "</table>\n"
      ],
      "text/latex": [
       "A tibble: 3 × 19\n",
       "\\begin{tabular}{lllllllllllllllllll}\n",
       " deg\\_output\\_suffix & da\\_results\\_nhg\\_obj & group\\_a & group\\_b & nhgc\\_obj & da\\_results\\_nhg\\_output\\_suffix & milo\\_obj & seurat\\_obj & nhm\\_obj & da\\_results\\_obj & restored\\_df\\_obj & nhood\\_grouping & labels & comparison & fgf1\\_tag & bl6\\_tag & fgf1\\_day & bl6\\_day & milo\\_index\\_tibble\\\\\n",
       " <chr> & <list> & <chr> & <chr> & <list> & <chr> & <list> & <list> & <list> & <list> & <list> & <chr> & <chr> & <chr> & <chr> & <chr> & <chr> & <chr> & <list>\\\\\n",
       "\\hline\n",
       "\t Agrp\\_\\_\\_all.obob14v14\\_\\_v\\_\\_all.obob14vBL6\\_\\_\\_bl6\\_grouping.neg\\_vs\\_rest         & da\\_results\\_nhg\\_Agrp\\_\\_\\_all.obob14v14\\_\\_v\\_\\_all.obob14vBL6 & neg &              & nhgc\\_Agrp\\_\\_\\_all.obob14v14\\_\\_v\\_\\_all.obob14vBL6 & Agrp\\_\\_\\_all.obob14v14\\_\\_v\\_\\_all.obob14vBL6 & milo\\_Agrp & obj\\_Agrp & nhm\\_Agrp\\_\\_\\_obob14v14 & da\\_results\\_01\\_Agrp\\_\\_\\_obob14v14 & restored\\_df\\_all.obob14v14\\_\\_v\\_\\_all.obob14vBL6 & bl6\\_grouping & Agrp & all.obob14v14\\_\\_v\\_\\_all.obob14vBL6 & obob14v14 & obob14vBL6 & all & all & milo\\_index\\_tibble\\_Agrp\\\\\n",
       "\t Agrp\\_\\_\\_all.obob14v14\\_\\_v\\_\\_all.obob14vBL6\\_\\_\\_bl6\\_grouping.neg\\_vs\\_neg\\_restored & da\\_results\\_nhg\\_Agrp\\_\\_\\_all.obob14v14\\_\\_v\\_\\_all.obob14vBL6 & neg & neg\\_restored & nhgc\\_Agrp\\_\\_\\_all.obob14v14\\_\\_v\\_\\_all.obob14vBL6 & Agrp\\_\\_\\_all.obob14v14\\_\\_v\\_\\_all.obob14vBL6 & milo\\_Agrp & obj\\_Agrp & nhm\\_Agrp\\_\\_\\_obob14v14 & da\\_results\\_01\\_Agrp\\_\\_\\_obob14v14 & restored\\_df\\_all.obob14v14\\_\\_v\\_\\_all.obob14vBL6 & bl6\\_grouping & Agrp & all.obob14v14\\_\\_v\\_\\_all.obob14vBL6 & obob14v14 & obob14vBL6 & all & all & milo\\_index\\_tibble\\_Agrp\\\\\n",
       "\t Agrp\\_\\_\\_all.obob14v14\\_\\_v\\_\\_all.obob14vBL6\\_\\_\\_bl6\\_grouping.neg\\_vs\\_none         & da\\_results\\_nhg\\_Agrp\\_\\_\\_all.obob14v14\\_\\_v\\_\\_all.obob14vBL6 & neg & none         & nhgc\\_Agrp\\_\\_\\_all.obob14v14\\_\\_v\\_\\_all.obob14vBL6 & Agrp\\_\\_\\_all.obob14v14\\_\\_v\\_\\_all.obob14vBL6 & milo\\_Agrp & obj\\_Agrp & nhm\\_Agrp\\_\\_\\_obob14v14 & da\\_results\\_01\\_Agrp\\_\\_\\_obob14v14 & restored\\_df\\_all.obob14v14\\_\\_v\\_\\_all.obob14vBL6 & bl6\\_grouping & Agrp & all.obob14v14\\_\\_v\\_\\_all.obob14vBL6 & obob14v14 & obob14vBL6 & all & all & milo\\_index\\_tibble\\_Agrp\\\\\n",
       "\\end{tabular}\n"
      ],
      "text/markdown": [
       "\n",
       "A tibble: 3 × 19\n",
       "\n",
       "| deg_output_suffix &lt;chr&gt; | da_results_nhg_obj &lt;list&gt; | group_a &lt;chr&gt; | group_b &lt;chr&gt; | nhgc_obj &lt;list&gt; | da_results_nhg_output_suffix &lt;chr&gt; | milo_obj &lt;list&gt; | seurat_obj &lt;list&gt; | nhm_obj &lt;list&gt; | da_results_obj &lt;list&gt; | restored_df_obj &lt;list&gt; | nhood_grouping &lt;chr&gt; | labels &lt;chr&gt; | comparison &lt;chr&gt; | fgf1_tag &lt;chr&gt; | bl6_tag &lt;chr&gt; | fgf1_day &lt;chr&gt; | bl6_day &lt;chr&gt; | milo_index_tibble &lt;list&gt; |\n",
       "|---|---|---|---|---|---|---|---|---|---|---|---|---|---|---|---|---|---|---|\n",
       "| Agrp___all.obob14v14__v__all.obob14vBL6___bl6_grouping.neg_vs_rest         | da_results_nhg_Agrp___all.obob14v14__v__all.obob14vBL6 | neg | <!----> | nhgc_Agrp___all.obob14v14__v__all.obob14vBL6 | Agrp___all.obob14v14__v__all.obob14vBL6 | milo_Agrp | obj_Agrp | nhm_Agrp___obob14v14 | da_results_01_Agrp___obob14v14 | restored_df_all.obob14v14__v__all.obob14vBL6 | bl6_grouping | Agrp | all.obob14v14__v__all.obob14vBL6 | obob14v14 | obob14vBL6 | all | all | milo_index_tibble_Agrp |\n",
       "| Agrp___all.obob14v14__v__all.obob14vBL6___bl6_grouping.neg_vs_neg_restored | da_results_nhg_Agrp___all.obob14v14__v__all.obob14vBL6 | neg | neg_restored | nhgc_Agrp___all.obob14v14__v__all.obob14vBL6 | Agrp___all.obob14v14__v__all.obob14vBL6 | milo_Agrp | obj_Agrp | nhm_Agrp___obob14v14 | da_results_01_Agrp___obob14v14 | restored_df_all.obob14v14__v__all.obob14vBL6 | bl6_grouping | Agrp | all.obob14v14__v__all.obob14vBL6 | obob14v14 | obob14vBL6 | all | all | milo_index_tibble_Agrp |\n",
       "| Agrp___all.obob14v14__v__all.obob14vBL6___bl6_grouping.neg_vs_none         | da_results_nhg_Agrp___all.obob14v14__v__all.obob14vBL6 | neg | none         | nhgc_Agrp___all.obob14v14__v__all.obob14vBL6 | Agrp___all.obob14v14__v__all.obob14vBL6 | milo_Agrp | obj_Agrp | nhm_Agrp___obob14v14 | da_results_01_Agrp___obob14v14 | restored_df_all.obob14v14__v__all.obob14vBL6 | bl6_grouping | Agrp | all.obob14v14__v__all.obob14vBL6 | obob14v14 | obob14vBL6 | all | all | milo_index_tibble_Agrp |\n",
       "\n"
      ],
      "text/plain": [
       "  deg_output_suffix                                                         \n",
       "1 Agrp___all.obob14v14__v__all.obob14vBL6___bl6_grouping.neg_vs_rest        \n",
       "2 Agrp___all.obob14v14__v__all.obob14vBL6___bl6_grouping.neg_vs_neg_restored\n",
       "3 Agrp___all.obob14v14__v__all.obob14vBL6___bl6_grouping.neg_vs_none        \n",
       "  da_results_nhg_obj                                     group_a group_b     \n",
       "1 da_results_nhg_Agrp___all.obob14v14__v__all.obob14vBL6 neg                 \n",
       "2 da_results_nhg_Agrp___all.obob14v14__v__all.obob14vBL6 neg     neg_restored\n",
       "3 da_results_nhg_Agrp___all.obob14v14__v__all.obob14vBL6 neg     none        \n",
       "  nhgc_obj                                    \n",
       "1 nhgc_Agrp___all.obob14v14__v__all.obob14vBL6\n",
       "2 nhgc_Agrp___all.obob14v14__v__all.obob14vBL6\n",
       "3 nhgc_Agrp___all.obob14v14__v__all.obob14vBL6\n",
       "  da_results_nhg_output_suffix            milo_obj  seurat_obj\n",
       "1 Agrp___all.obob14v14__v__all.obob14vBL6 milo_Agrp obj_Agrp  \n",
       "2 Agrp___all.obob14v14__v__all.obob14vBL6 milo_Agrp obj_Agrp  \n",
       "3 Agrp___all.obob14v14__v__all.obob14vBL6 milo_Agrp obj_Agrp  \n",
       "  nhm_obj              da_results_obj                \n",
       "1 nhm_Agrp___obob14v14 da_results_01_Agrp___obob14v14\n",
       "2 nhm_Agrp___obob14v14 da_results_01_Agrp___obob14v14\n",
       "3 nhm_Agrp___obob14v14 da_results_01_Agrp___obob14v14\n",
       "  restored_df_obj                              nhood_grouping labels\n",
       "1 restored_df_all.obob14v14__v__all.obob14vBL6 bl6_grouping   Agrp  \n",
       "2 restored_df_all.obob14v14__v__all.obob14vBL6 bl6_grouping   Agrp  \n",
       "3 restored_df_all.obob14v14__v__all.obob14vBL6 bl6_grouping   Agrp  \n",
       "  comparison                       fgf1_tag  bl6_tag    fgf1_day bl6_day\n",
       "1 all.obob14v14__v__all.obob14vBL6 obob14v14 obob14vBL6 all      all    \n",
       "2 all.obob14v14__v__all.obob14vBL6 obob14v14 obob14vBL6 all      all    \n",
       "3 all.obob14v14__v__all.obob14vBL6 obob14v14 obob14vBL6 all      all    \n",
       "  milo_index_tibble     \n",
       "1 milo_index_tibble_Agrp\n",
       "2 milo_index_tibble_Agrp\n",
       "3 milo_index_tibble_Agrp"
      ]
     },
     "metadata": {},
     "output_type": "display_data"
    },
    {
     "data": {
      "text/html": [
       "<style>\n",
       ".list-inline {list-style: none; margin:0; padding: 0}\n",
       ".list-inline>li {display: inline-block}\n",
       ".list-inline>li:not(:last-child)::after {content: \"\\00b7\"; padding: 0 .5ex}\n",
       "</style>\n",
       "<ol class=list-inline><li>9257</li><li>19</li></ol>\n"
      ],
      "text/latex": [
       "\\begin{enumerate*}\n",
       "\\item 9257\n",
       "\\item 19\n",
       "\\end{enumerate*}\n"
      ],
      "text/markdown": [
       "1. 9257\n",
       "2. 19\n",
       "\n",
       "\n"
      ],
      "text/plain": [
       "[1] 9257   19"
      ]
     },
     "metadata": {},
     "output_type": "display_data"
    }
   ],
   "source": [
    "deg_restored_recipe = annotate_nh_grouping_recipe %>%\n",
    "mutate(da_results_nhg_obj = rlang::syms(paste0('da_results_nhg_', da_results_nhg_output_suffix))) %>%\n",
    "mutate(nhgc_obj = rlang::syms(paste0('nhgc_', da_results_nhg_output_suffix))) %>%\n",
    "rename(group_a = grouping_polarity) %>%\n",
    "tidyr::crossing(tibble(group_b = c(\"\", \"none\", \"pos\", \"neg\", \"pos_restored\", \"neg_restored\"))) %>%\n",
    "filter(!(group_a == group_b)) %>%\n",
    "filter(!( (nhood_grouping == 'restored_grouping') & (group_b %in% c(\"pos\", \"neg\")) )) %>%\n",
    "filter(!( (nhood_grouping == 'fgf1_grouping') & (group_b %in% c(\"pos_restored\", \"neg_restored\")) )) %>%\n",
    "filter(!( (group_a == 'neg_restored') & (group_b  == \"pos_restored\") )) %>%\n",
    "filter(!( (group_a == 'neg') & (group_b  == \"pos\") )) %>%\n",
    "mutate(group_b_suffix = case_when(group_b == \"\" ~ \"rest\",\n",
    "                                  TRUE ~ group_b)) %>%\n",
    "mutate(deg_output_suffix = paste0(da_results_nhg_output_suffix, '___', nhood_grouping, '.', group_a, '_vs_', group_b_suffix)) %>%\n",
    "select(-group_b_suffix) %>%\n",
    "relocate(\"deg_output_suffix\", \"da_results_nhg_obj\", \"group_a\", \"group_b\", 'nhgc_obj')\n",
    "\n",
    "deg_restored_recipe %>% head(3)\n",
    "deg_restored_recipe %>% dim\n",
    "qs::qsave(deg_restored_recipe, 'deg_restored_recipe.qs')"
   ]
  },
  {
   "cell_type": "code",
   "execution_count": 12,
   "id": "d9383605",
   "metadata": {},
   "outputs": [
    {
     "data": {
      "text/html": [
       "<table class=\"dataframe\">\n",
       "<caption>A tibble: 0 × 19</caption>\n",
       "<thead>\n",
       "\t<tr><th scope=col>deg_output_suffix</th><th scope=col>da_results_nhg_obj</th><th scope=col>group_a</th><th scope=col>group_b</th><th scope=col>nhgc_obj</th><th scope=col>da_results_nhg_output_suffix</th><th scope=col>milo_obj</th><th scope=col>seurat_obj</th><th scope=col>nhm_obj</th><th scope=col>da_results_obj</th><th scope=col>restored_df_obj</th><th scope=col>nhood_grouping</th><th scope=col>labels</th><th scope=col>comparison</th><th scope=col>fgf1_tag</th><th scope=col>bl6_tag</th><th scope=col>fgf1_day</th><th scope=col>bl6_day</th><th scope=col>milo_index_tibble</th></tr>\n",
       "\t<tr><th scope=col>&lt;chr&gt;</th><th scope=col>&lt;list&gt;</th><th scope=col>&lt;chr&gt;</th><th scope=col>&lt;chr&gt;</th><th scope=col>&lt;list&gt;</th><th scope=col>&lt;chr&gt;</th><th scope=col>&lt;list&gt;</th><th scope=col>&lt;list&gt;</th><th scope=col>&lt;list&gt;</th><th scope=col>&lt;list&gt;</th><th scope=col>&lt;list&gt;</th><th scope=col>&lt;chr&gt;</th><th scope=col>&lt;chr&gt;</th><th scope=col>&lt;chr&gt;</th><th scope=col>&lt;chr&gt;</th><th scope=col>&lt;chr&gt;</th><th scope=col>&lt;chr&gt;</th><th scope=col>&lt;chr&gt;</th><th scope=col>&lt;list&gt;</th></tr>\n",
       "</thead>\n",
       "<tbody>\n",
       "</tbody>\n",
       "</table>\n"
      ],
      "text/latex": [
       "A tibble: 0 × 19\n",
       "\\begin{tabular}{lllllllllllllllllll}\n",
       " deg\\_output\\_suffix & da\\_results\\_nhg\\_obj & group\\_a & group\\_b & nhgc\\_obj & da\\_results\\_nhg\\_output\\_suffix & milo\\_obj & seurat\\_obj & nhm\\_obj & da\\_results\\_obj & restored\\_df\\_obj & nhood\\_grouping & labels & comparison & fgf1\\_tag & bl6\\_tag & fgf1\\_day & bl6\\_day & milo\\_index\\_tibble\\\\\n",
       " <chr> & <list> & <chr> & <chr> & <list> & <chr> & <list> & <list> & <list> & <list> & <list> & <chr> & <chr> & <chr> & <chr> & <chr> & <chr> & <chr> & <list>\\\\\n",
       "\\hline\n",
       "\\end{tabular}\n"
      ],
      "text/markdown": [
       "\n",
       "A tibble: 0 × 19\n",
       "\n",
       "| deg_output_suffix &lt;chr&gt; | da_results_nhg_obj &lt;list&gt; | group_a &lt;chr&gt; | group_b &lt;chr&gt; | nhgc_obj &lt;list&gt; | da_results_nhg_output_suffix &lt;chr&gt; | milo_obj &lt;list&gt; | seurat_obj &lt;list&gt; | nhm_obj &lt;list&gt; | da_results_obj &lt;list&gt; | restored_df_obj &lt;list&gt; | nhood_grouping &lt;chr&gt; | labels &lt;chr&gt; | comparison &lt;chr&gt; | fgf1_tag &lt;chr&gt; | bl6_tag &lt;chr&gt; | fgf1_day &lt;chr&gt; | bl6_day &lt;chr&gt; | milo_index_tibble &lt;list&gt; |\n",
       "|---|---|---|---|---|---|---|---|---|---|---|---|---|---|---|---|---|---|---|\n",
       "\n"
      ],
      "text/plain": [
       "     deg_output_suffix da_results_nhg_obj group_a group_b nhgc_obj\n",
       "     da_results_nhg_output_suffix milo_obj seurat_obj nhm_obj da_results_obj\n",
       "     restored_df_obj nhood_grouping labels comparison fgf1_tag bl6_tag fgf1_day\n",
       "     bl6_day milo_index_tibble"
      ]
     },
     "metadata": {},
     "output_type": "display_data"
    }
   ],
   "source": [
    "deg_restored_recipe %>%\n",
    "filter(labels == 'MOL') %>%\n",
    "filter(comparison == 'Day14.obob14v14__v__Day14.obobBL6d14')"
   ]
  },
  {
   "cell_type": "code",
   "execution_count": 13,
   "id": "bb8e8f65",
   "metadata": {},
   "outputs": [],
   "source": [
    "clusters_tibble = bind_rows(qs::qread('clusters_tibble_class.qs'),\n",
    "                            qs::qread('clusters_tibble_lvl1.qs')) %>%\n",
    "    dplyr::rename(labels=label, global_seurat_obj=object)"
   ]
  },
  {
   "cell_type": "code",
   "execution_count": 14,
   "id": "b138655f",
   "metadata": {},
   "outputs": [
    {
     "data": {
      "text/html": [
       "<style>\n",
       ".list-inline {list-style: none; margin:0; padding: 0}\n",
       ".list-inline>li {display: inline-block}\n",
       ".list-inline>li:not(:last-child)::after {content: \"\\00b7\"; padding: 0 .5ex}\n",
       "</style>\n",
       "<ol class=list-inline><li>9257</li><li>9</li></ol>\n"
      ],
      "text/latex": [
       "\\begin{enumerate*}\n",
       "\\item 9257\n",
       "\\item 9\n",
       "\\end{enumerate*}\n"
      ],
      "text/markdown": [
       "1. 9257\n",
       "2. 9\n",
       "\n",
       "\n"
      ],
      "text/plain": [
       "[1] 9257    9"
      ]
     },
     "metadata": {},
     "output_type": "display_data"
    },
    {
     "data": {
      "text/html": [
       "<table class=\"dataframe\">\n",
       "<caption>A tibble: 6 × 9</caption>\n",
       "<thead>\n",
       "\t<tr><th scope=col>deg_output_suffix</th><th scope=col>global_seurat_obj</th><th scope=col>seurat_obj</th><th scope=col>nhgc_obj</th><th scope=col>deg_ensmus_obj</th><th scope=col>nhood_grouping</th><th scope=col>name</th><th scope=col>group_a</th><th scope=col>group_b</th></tr>\n",
       "\t<tr><th scope=col>&lt;chr&gt;</th><th scope=col>&lt;list&gt;</th><th scope=col>&lt;list&gt;</th><th scope=col>&lt;list&gt;</th><th scope=col>&lt;list&gt;</th><th scope=col>&lt;chr&gt;</th><th scope=col>&lt;chr&gt;</th><th scope=col>&lt;chr&gt;</th><th scope=col>&lt;chr&gt;</th></tr>\n",
       "</thead>\n",
       "<tbody>\n",
       "\t<tr><td>Agrp___all.obob14v14__v__all.obob14vBL6___bl6_grouping.neg_vs_rest        </td><td>exp_labelled_neuron</td><td>obj_Agrp</td><td>nhgc_Agrp___all.obob14v14__v__all.obob14vBL6</td><td>deg_ensmus_Agrp___all.obob14v14__v__all.obob14vBL6___bl6_grouping.neg_vs_rest</td><td>bl6_grouping</td><td>Agrp\n",
       "all.obob14v14__v__all.obob14vBL6\n",
       "bl6_grouping.neg_vs_rest        </td><td>neg</td><td>            </td></tr>\n",
       "\t<tr><td>Agrp___all.obob14v14__v__all.obob14vBL6___bl6_grouping.neg_vs_neg_restored</td><td>exp_labelled_neuron</td><td>obj_Agrp</td><td>nhgc_Agrp___all.obob14v14__v__all.obob14vBL6</td><td>deg_ensmus_Agrp___all.obob14v14__v__all.obob14vBL6___bl6_grouping.neg_vs_neg_restored</td><td>bl6_grouping</td><td>Agrp\n",
       "all.obob14v14__v__all.obob14vBL6\n",
       "bl6_grouping.neg_vs_neg_restored</td><td>neg</td><td>neg_restored</td></tr>\n",
       "\t<tr><td>Agrp___all.obob14v14__v__all.obob14vBL6___bl6_grouping.neg_vs_none        </td><td>exp_labelled_neuron</td><td>obj_Agrp</td><td>nhgc_Agrp___all.obob14v14__v__all.obob14vBL6</td><td>deg_ensmus_Agrp___all.obob14v14__v__all.obob14vBL6___bl6_grouping.neg_vs_none</td><td>bl6_grouping</td><td>Agrp\n",
       "all.obob14v14__v__all.obob14vBL6\n",
       "bl6_grouping.neg_vs_none        </td><td>neg</td><td>none        </td></tr>\n",
       "\t<tr><td>Agrp___all.obob14v14__v__all.obob14vBL6___bl6_grouping.neg_vs_pos_restored</td><td>exp_labelled_neuron</td><td>obj_Agrp</td><td>nhgc_Agrp___all.obob14v14__v__all.obob14vBL6</td><td>deg_ensmus_Agrp___all.obob14v14__v__all.obob14vBL6___bl6_grouping.neg_vs_pos_restored</td><td>bl6_grouping</td><td>Agrp\n",
       "all.obob14v14__v__all.obob14vBL6\n",
       "bl6_grouping.neg_vs_pos_restored</td><td>neg</td><td>pos_restored</td></tr>\n",
       "\t<tr><td>Agrp___all.obob14v14__v__all.obob14vBL6___bl6_grouping.pos_vs_rest        </td><td>exp_labelled_neuron</td><td>obj_Agrp</td><td>nhgc_Agrp___all.obob14v14__v__all.obob14vBL6</td><td>deg_ensmus_Agrp___all.obob14v14__v__all.obob14vBL6___bl6_grouping.pos_vs_rest</td><td>bl6_grouping</td><td>Agrp\n",
       "all.obob14v14__v__all.obob14vBL6\n",
       "bl6_grouping.pos_vs_rest        </td><td>pos</td><td>            </td></tr>\n",
       "\t<tr><td>Agrp___all.obob14v14__v__all.obob14vBL6___bl6_grouping.pos_vs_neg         </td><td>exp_labelled_neuron</td><td>obj_Agrp</td><td>nhgc_Agrp___all.obob14v14__v__all.obob14vBL6</td><td>deg_ensmus_Agrp___all.obob14v14__v__all.obob14vBL6___bl6_grouping.pos_vs_neg</td><td>bl6_grouping</td><td>Agrp\n",
       "all.obob14v14__v__all.obob14vBL6\n",
       "bl6_grouping.pos_vs_neg         </td><td>pos</td><td>neg         </td></tr>\n",
       "</tbody>\n",
       "</table>\n"
      ],
      "text/latex": [
       "A tibble: 6 × 9\n",
       "\\begin{tabular}{lllllllll}\n",
       " deg\\_output\\_suffix & global\\_seurat\\_obj & seurat\\_obj & nhgc\\_obj & deg\\_ensmus\\_obj & nhood\\_grouping & name & group\\_a & group\\_b\\\\\n",
       " <chr> & <list> & <list> & <list> & <list> & <chr> & <chr> & <chr> & <chr>\\\\\n",
       "\\hline\n",
       "\t Agrp\\_\\_\\_all.obob14v14\\_\\_v\\_\\_all.obob14vBL6\\_\\_\\_bl6\\_grouping.neg\\_vs\\_rest         & exp\\_labelled\\_neuron & obj\\_Agrp & nhgc\\_Agrp\\_\\_\\_all.obob14v14\\_\\_v\\_\\_all.obob14vBL6 & deg\\_ensmus\\_Agrp\\_\\_\\_all.obob14v14\\_\\_v\\_\\_all.obob14vBL6\\_\\_\\_bl6\\_grouping.neg\\_vs\\_rest & bl6\\_grouping & Agrp\n",
       "all.obob14v14\\_\\_v\\_\\_all.obob14vBL6\n",
       "bl6\\_grouping.neg\\_vs\\_rest         & neg &             \\\\\n",
       "\t Agrp\\_\\_\\_all.obob14v14\\_\\_v\\_\\_all.obob14vBL6\\_\\_\\_bl6\\_grouping.neg\\_vs\\_neg\\_restored & exp\\_labelled\\_neuron & obj\\_Agrp & nhgc\\_Agrp\\_\\_\\_all.obob14v14\\_\\_v\\_\\_all.obob14vBL6 & deg\\_ensmus\\_Agrp\\_\\_\\_all.obob14v14\\_\\_v\\_\\_all.obob14vBL6\\_\\_\\_bl6\\_grouping.neg\\_vs\\_neg\\_restored & bl6\\_grouping & Agrp\n",
       "all.obob14v14\\_\\_v\\_\\_all.obob14vBL6\n",
       "bl6\\_grouping.neg\\_vs\\_neg\\_restored & neg & neg\\_restored\\\\\n",
       "\t Agrp\\_\\_\\_all.obob14v14\\_\\_v\\_\\_all.obob14vBL6\\_\\_\\_bl6\\_grouping.neg\\_vs\\_none         & exp\\_labelled\\_neuron & obj\\_Agrp & nhgc\\_Agrp\\_\\_\\_all.obob14v14\\_\\_v\\_\\_all.obob14vBL6 & deg\\_ensmus\\_Agrp\\_\\_\\_all.obob14v14\\_\\_v\\_\\_all.obob14vBL6\\_\\_\\_bl6\\_grouping.neg\\_vs\\_none & bl6\\_grouping & Agrp\n",
       "all.obob14v14\\_\\_v\\_\\_all.obob14vBL6\n",
       "bl6\\_grouping.neg\\_vs\\_none         & neg & none        \\\\\n",
       "\t Agrp\\_\\_\\_all.obob14v14\\_\\_v\\_\\_all.obob14vBL6\\_\\_\\_bl6\\_grouping.neg\\_vs\\_pos\\_restored & exp\\_labelled\\_neuron & obj\\_Agrp & nhgc\\_Agrp\\_\\_\\_all.obob14v14\\_\\_v\\_\\_all.obob14vBL6 & deg\\_ensmus\\_Agrp\\_\\_\\_all.obob14v14\\_\\_v\\_\\_all.obob14vBL6\\_\\_\\_bl6\\_grouping.neg\\_vs\\_pos\\_restored & bl6\\_grouping & Agrp\n",
       "all.obob14v14\\_\\_v\\_\\_all.obob14vBL6\n",
       "bl6\\_grouping.neg\\_vs\\_pos\\_restored & neg & pos\\_restored\\\\\n",
       "\t Agrp\\_\\_\\_all.obob14v14\\_\\_v\\_\\_all.obob14vBL6\\_\\_\\_bl6\\_grouping.pos\\_vs\\_rest         & exp\\_labelled\\_neuron & obj\\_Agrp & nhgc\\_Agrp\\_\\_\\_all.obob14v14\\_\\_v\\_\\_all.obob14vBL6 & deg\\_ensmus\\_Agrp\\_\\_\\_all.obob14v14\\_\\_v\\_\\_all.obob14vBL6\\_\\_\\_bl6\\_grouping.pos\\_vs\\_rest & bl6\\_grouping & Agrp\n",
       "all.obob14v14\\_\\_v\\_\\_all.obob14vBL6\n",
       "bl6\\_grouping.pos\\_vs\\_rest         & pos &             \\\\\n",
       "\t Agrp\\_\\_\\_all.obob14v14\\_\\_v\\_\\_all.obob14vBL6\\_\\_\\_bl6\\_grouping.pos\\_vs\\_neg          & exp\\_labelled\\_neuron & obj\\_Agrp & nhgc\\_Agrp\\_\\_\\_all.obob14v14\\_\\_v\\_\\_all.obob14vBL6 & deg\\_ensmus\\_Agrp\\_\\_\\_all.obob14v14\\_\\_v\\_\\_all.obob14vBL6\\_\\_\\_bl6\\_grouping.pos\\_vs\\_neg & bl6\\_grouping & Agrp\n",
       "all.obob14v14\\_\\_v\\_\\_all.obob14vBL6\n",
       "bl6\\_grouping.pos\\_vs\\_neg          & pos & neg         \\\\\n",
       "\\end{tabular}\n"
      ],
      "text/markdown": [
       "\n",
       "A tibble: 6 × 9\n",
       "\n",
       "| deg_output_suffix &lt;chr&gt; | global_seurat_obj &lt;list&gt; | seurat_obj &lt;list&gt; | nhgc_obj &lt;list&gt; | deg_ensmus_obj &lt;list&gt; | nhood_grouping &lt;chr&gt; | name &lt;chr&gt; | group_a &lt;chr&gt; | group_b &lt;chr&gt; |\n",
       "|---|---|---|---|---|---|---|---|---|\n",
       "| Agrp___all.obob14v14__v__all.obob14vBL6___bl6_grouping.neg_vs_rest         | exp_labelled_neuron | obj_Agrp | nhgc_Agrp___all.obob14v14__v__all.obob14vBL6 | deg_ensmus_Agrp___all.obob14v14__v__all.obob14vBL6___bl6_grouping.neg_vs_rest | bl6_grouping | Agrp\n",
       "all.obob14v14__v__all.obob14vBL6\n",
       "bl6_grouping.neg_vs_rest         | neg | <!----> |\n",
       "| Agrp___all.obob14v14__v__all.obob14vBL6___bl6_grouping.neg_vs_neg_restored | exp_labelled_neuron | obj_Agrp | nhgc_Agrp___all.obob14v14__v__all.obob14vBL6 | deg_ensmus_Agrp___all.obob14v14__v__all.obob14vBL6___bl6_grouping.neg_vs_neg_restored | bl6_grouping | Agrp\n",
       "all.obob14v14__v__all.obob14vBL6\n",
       "bl6_grouping.neg_vs_neg_restored | neg | neg_restored |\n",
       "| Agrp___all.obob14v14__v__all.obob14vBL6___bl6_grouping.neg_vs_none         | exp_labelled_neuron | obj_Agrp | nhgc_Agrp___all.obob14v14__v__all.obob14vBL6 | deg_ensmus_Agrp___all.obob14v14__v__all.obob14vBL6___bl6_grouping.neg_vs_none | bl6_grouping | Agrp\n",
       "all.obob14v14__v__all.obob14vBL6\n",
       "bl6_grouping.neg_vs_none         | neg | none         |\n",
       "| Agrp___all.obob14v14__v__all.obob14vBL6___bl6_grouping.neg_vs_pos_restored | exp_labelled_neuron | obj_Agrp | nhgc_Agrp___all.obob14v14__v__all.obob14vBL6 | deg_ensmus_Agrp___all.obob14v14__v__all.obob14vBL6___bl6_grouping.neg_vs_pos_restored | bl6_grouping | Agrp\n",
       "all.obob14v14__v__all.obob14vBL6\n",
       "bl6_grouping.neg_vs_pos_restored | neg | pos_restored |\n",
       "| Agrp___all.obob14v14__v__all.obob14vBL6___bl6_grouping.pos_vs_rest         | exp_labelled_neuron | obj_Agrp | nhgc_Agrp___all.obob14v14__v__all.obob14vBL6 | deg_ensmus_Agrp___all.obob14v14__v__all.obob14vBL6___bl6_grouping.pos_vs_rest | bl6_grouping | Agrp\n",
       "all.obob14v14__v__all.obob14vBL6\n",
       "bl6_grouping.pos_vs_rest         | pos | <!----> |\n",
       "| Agrp___all.obob14v14__v__all.obob14vBL6___bl6_grouping.pos_vs_neg          | exp_labelled_neuron | obj_Agrp | nhgc_Agrp___all.obob14v14__v__all.obob14vBL6 | deg_ensmus_Agrp___all.obob14v14__v__all.obob14vBL6___bl6_grouping.pos_vs_neg | bl6_grouping | Agrp\n",
       "all.obob14v14__v__all.obob14vBL6\n",
       "bl6_grouping.pos_vs_neg          | pos | neg          |\n",
       "\n"
      ],
      "text/plain": [
       "  deg_output_suffix                                                         \n",
       "1 Agrp___all.obob14v14__v__all.obob14vBL6___bl6_grouping.neg_vs_rest        \n",
       "2 Agrp___all.obob14v14__v__all.obob14vBL6___bl6_grouping.neg_vs_neg_restored\n",
       "3 Agrp___all.obob14v14__v__all.obob14vBL6___bl6_grouping.neg_vs_none        \n",
       "4 Agrp___all.obob14v14__v__all.obob14vBL6___bl6_grouping.neg_vs_pos_restored\n",
       "5 Agrp___all.obob14v14__v__all.obob14vBL6___bl6_grouping.pos_vs_rest        \n",
       "6 Agrp___all.obob14v14__v__all.obob14vBL6___bl6_grouping.pos_vs_neg         \n",
       "  global_seurat_obj   seurat_obj nhgc_obj                                    \n",
       "1 exp_labelled_neuron obj_Agrp   nhgc_Agrp___all.obob14v14__v__all.obob14vBL6\n",
       "2 exp_labelled_neuron obj_Agrp   nhgc_Agrp___all.obob14v14__v__all.obob14vBL6\n",
       "3 exp_labelled_neuron obj_Agrp   nhgc_Agrp___all.obob14v14__v__all.obob14vBL6\n",
       "4 exp_labelled_neuron obj_Agrp   nhgc_Agrp___all.obob14v14__v__all.obob14vBL6\n",
       "5 exp_labelled_neuron obj_Agrp   nhgc_Agrp___all.obob14v14__v__all.obob14vBL6\n",
       "6 exp_labelled_neuron obj_Agrp   nhgc_Agrp___all.obob14v14__v__all.obob14vBL6\n",
       "  deg_ensmus_obj                                                                       \n",
       "1 deg_ensmus_Agrp___all.obob14v14__v__all.obob14vBL6___bl6_grouping.neg_vs_rest        \n",
       "2 deg_ensmus_Agrp___all.obob14v14__v__all.obob14vBL6___bl6_grouping.neg_vs_neg_restored\n",
       "3 deg_ensmus_Agrp___all.obob14v14__v__all.obob14vBL6___bl6_grouping.neg_vs_none        \n",
       "4 deg_ensmus_Agrp___all.obob14v14__v__all.obob14vBL6___bl6_grouping.neg_vs_pos_restored\n",
       "5 deg_ensmus_Agrp___all.obob14v14__v__all.obob14vBL6___bl6_grouping.pos_vs_rest        \n",
       "6 deg_ensmus_Agrp___all.obob14v14__v__all.obob14vBL6___bl6_grouping.pos_vs_neg         \n",
       "  nhood_grouping\n",
       "1 bl6_grouping  \n",
       "2 bl6_grouping  \n",
       "3 bl6_grouping  \n",
       "4 bl6_grouping  \n",
       "5 bl6_grouping  \n",
       "6 bl6_grouping  \n",
       "  name                                                                    \n",
       "1 Agrp\\nall.obob14v14__v__all.obob14vBL6\\nbl6_grouping.neg_vs_rest        \n",
       "2 Agrp\\nall.obob14v14__v__all.obob14vBL6\\nbl6_grouping.neg_vs_neg_restored\n",
       "3 Agrp\\nall.obob14v14__v__all.obob14vBL6\\nbl6_grouping.neg_vs_none        \n",
       "4 Agrp\\nall.obob14v14__v__all.obob14vBL6\\nbl6_grouping.neg_vs_pos_restored\n",
       "5 Agrp\\nall.obob14v14__v__all.obob14vBL6\\nbl6_grouping.pos_vs_rest        \n",
       "6 Agrp\\nall.obob14v14__v__all.obob14vBL6\\nbl6_grouping.pos_vs_neg         \n",
       "  group_a group_b     \n",
       "1 neg                 \n",
       "2 neg     neg_restored\n",
       "3 neg     none        \n",
       "4 neg     pos_restored\n",
       "5 pos                 \n",
       "6 pos     neg         "
      ]
     },
     "metadata": {},
     "output_type": "display_data"
    }
   ],
   "source": [
    "summary_plot_recipe = deg_restored_recipe %>%\n",
    "left_join(clusters_tibble, by = 'labels') %>%\n",
    "mutate(name = str_replace_all(deg_output_suffix, '___', '\\n')) %>%\n",
    "mutate(deg_ensmus_obj = rlang::syms(paste0('deg_ensmus_', deg_output_suffix))) %>%\n",
    "select(deg_output_suffix, global_seurat_obj, seurat_obj, nhgc_obj, deg_ensmus_obj, nhood_grouping, name, group_a, group_b) %>%\n",
    "# filter(group_a == 'pos') %>%\n",
    "# filter(!str_detect(deg_output_suffix, 'd5')) %>%\n",
    "# filter(!str_detect(deg_output_suffix, 'd14')) %>%\n",
    "distinct\n",
    "\n",
    "summary_plot_recipe %>% dim\n",
    "summary_plot_recipe %>% head\n",
    "qs::qsave(summary_plot_recipe, \"summary_plot_recipe.qs\")"
   ]
  },
  {
   "cell_type": "code",
   "execution_count": 15,
   "id": "14394ad6",
   "metadata": {},
   "outputs": [],
   "source": [
    "tibble(prefix = c('deg_summary_plot_gSCT_', 'deg_summary_plot_reSCT_')) %>%\n",
    "tidyr::crossing(summary_plot_recipe) %>%\n",
    "rowwise %>%\n",
    "mutate(target_name = paste0(prefix, deg_output_suffix, collapse='')) %>% \n",
    "ungroup %>%\n",
    "pull(target_name) %>%\n",
    "qs::qsave(\"plot_targets.qs\")"
   ]
  },
  {
   "cell_type": "code",
   "execution_count": 16,
   "id": "0dcaf57a",
   "metadata": {},
   "outputs": [
    {
     "data": {
      "text/html": [
       "18514"
      ],
      "text/latex": [
       "18514"
      ],
      "text/markdown": [
       "18514"
      ],
      "text/plain": [
       "[1] 18514"
      ]
     },
     "metadata": {},
     "output_type": "display_data"
    }
   ],
   "source": [
    "length(qs::qread('plot_targets.qs'))"
   ]
  },
  {
   "cell_type": "code",
   "execution_count": 17,
   "id": "fbd3e72a",
   "metadata": {},
   "outputs": [
    {
     "data": {
      "text/html": [
       "<table class=\"dataframe\">\n",
       "<caption>A tibble: 0 × 2</caption>\n",
       "<thead>\n",
       "\t<tr><th scope=col>name</th><th scope=col>value</th></tr>\n",
       "\t<tr><th scope=col>&lt;int&gt;</th><th scope=col>&lt;chr&gt;</th></tr>\n",
       "</thead>\n",
       "<tbody>\n",
       "</tbody>\n",
       "</table>\n"
      ],
      "text/latex": [
       "A tibble: 0 × 2\n",
       "\\begin{tabular}{ll}\n",
       " name & value\\\\\n",
       " <int> & <chr>\\\\\n",
       "\\hline\n",
       "\\end{tabular}\n"
      ],
      "text/markdown": [
       "\n",
       "A tibble: 0 × 2\n",
       "\n",
       "| name &lt;int&gt; | value &lt;chr&gt; |\n",
       "|---|---|\n",
       "\n"
      ],
      "text/plain": [
       "     name value"
      ]
     },
     "metadata": {},
     "output_type": "display_data"
    }
   ],
   "source": [
    "qs::qread('plot_targets.qs') %>% enframe %>% filter(value == 'deg_summary_plot_gSCT_a1_Tany__Astrocytes___all.obob5v5__v__all.obob14vBL6___fgf1_grouping.pos_vs_neg')"
   ]
  },
  {
   "cell_type": "code",
   "execution_count": 18,
   "id": "2dbc8a7a",
   "metadata": {},
   "outputs": [
    {
     "data": {
      "text/html": [
       "<style>\n",
       ".list-inline {list-style: none; margin:0; padding: 0}\n",
       ".list-inline>li {display: inline-block}\n",
       ".list-inline>li:not(:last-child)::after {content: \"\\00b7\"; padding: 0 .5ex}\n",
       "</style>\n",
       "<ol class=list-inline><li>'all.obob14vBL6'</li><li>'all.obob5vBL6'</li><li>'all.obobBL6'</li><li>'all.obobBL6d14'</li><li>'all.obobBL6d5'</li><li>'Day14.obobBL6d14'</li><li>'Day5.obobBL6d5'</li></ol>\n"
      ],
      "text/latex": [
       "\\begin{enumerate*}\n",
       "\\item 'all.obob14vBL6'\n",
       "\\item 'all.obob5vBL6'\n",
       "\\item 'all.obobBL6'\n",
       "\\item 'all.obobBL6d14'\n",
       "\\item 'all.obobBL6d5'\n",
       "\\item 'Day14.obobBL6d14'\n",
       "\\item 'Day5.obobBL6d5'\n",
       "\\end{enumerate*}\n"
      ],
      "text/markdown": [
       "1. 'all.obob14vBL6'\n",
       "2. 'all.obob5vBL6'\n",
       "3. 'all.obobBL6'\n",
       "4. 'all.obobBL6d14'\n",
       "5. 'all.obobBL6d5'\n",
       "6. 'Day14.obobBL6d14'\n",
       "7. 'Day5.obobBL6d5'\n",
       "\n",
       "\n"
      ],
      "text/plain": [
       "[1] \"all.obob14vBL6\"   \"all.obob5vBL6\"    \"all.obobBL6\"      \"all.obobBL6d14\"  \n",
       "[5] \"all.obobBL6d5\"    \"Day14.obobBL6d14\" \"Day5.obobBL6d5\"  "
      ]
     },
     "metadata": {},
     "output_type": "display_data"
    }
   ],
   "source": [
    "summary_plot_recipe %>%\n",
    "rowwise %>%\n",
    "mutate(blah = str_split(deg_output_suffix, '___')) %>%\n",
    "relocate(blah) %>%\n",
    "mutate(blah = blah[2]) %>%\n",
    "mutate(blah = str_split(blah, '__')) %>%\n",
    "mutate(blah = blah[3]) %>%\n",
    "pull(blah) %>%\n",
    "unique"
   ]
  },
  {
   "cell_type": "code",
   "execution_count": 19,
   "id": "295ddf88",
   "metadata": {},
   "outputs": [
    {
     "data": {
      "text/html": [
       "<table class=\"dataframe\">\n",
       "<caption>A tibble: 205 × 1</caption>\n",
       "<thead>\n",
       "\t<tr><th scope=col>seurat_obj</th></tr>\n",
       "\t<tr><th scope=col>&lt;list&gt;</th></tr>\n",
       "</thead>\n",
       "<tbody>\n",
       "\t<tr><td>obj_Agrp</td></tr>\n",
       "\t<tr><td>obj_Day14.Agrp</td></tr>\n",
       "\t<tr><td>obj_Day5.Agrp</td></tr>\n",
       "\t<tr><td>obj_Arx__Nr5a2</td></tr>\n",
       "\t<tr><td>obj_Day5.Arx__Nr5a2</td></tr>\n",
       "\t<tr><td>obj_Astrocytes</td></tr>\n",
       "\t<tr><td>obj_Day14.Astrocytes</td></tr>\n",
       "\t<tr><td>obj_Day5.Astrocytes</td></tr>\n",
       "\t<tr><td>obj_Dlk1</td></tr>\n",
       "\t<tr><td>obj_Day14.Dlk1</td></tr>\n",
       "\t<tr><td>obj_Day5.Dlk1</td></tr>\n",
       "\t<tr><td>obj_Ependymal_cells</td></tr>\n",
       "\t<tr><td>obj_Day14.Ependymal_cells</td></tr>\n",
       "\t<tr><td>obj_Day5.Ependymal_cells</td></tr>\n",
       "\t<tr><td>obj_Esr1</td></tr>\n",
       "\t<tr><td>obj_Day14.Esr1</td></tr>\n",
       "\t<tr><td>obj_Day5.Esr1</td></tr>\n",
       "\t<tr><td>obj_Fez1</td></tr>\n",
       "\t<tr><td>obj_Day14.Fez1</td></tr>\n",
       "\t<tr><td>obj_Day5.Fez1</td></tr>\n",
       "\t<tr><td>obj_g_drop</td></tr>\n",
       "\t<tr><td>obj_g1</td></tr>\n",
       "\t<tr><td>obj_Day14.g1</td></tr>\n",
       "\t<tr><td>obj_Day5.g1</td></tr>\n",
       "\t<tr><td>obj_g2</td></tr>\n",
       "\t<tr><td>obj_Day14.g2</td></tr>\n",
       "\t<tr><td>obj_Day5.g2</td></tr>\n",
       "\t<tr><td>obj_g3</td></tr>\n",
       "\t<tr><td>obj_Day14.g3</td></tr>\n",
       "\t<tr><td>obj_Day5.g3</td></tr>\n",
       "\t<tr><td>⋮</td></tr>\n",
       "\t<tr><td>obj_Day14.Sst__Pthlh</td></tr>\n",
       "\t<tr><td>obj_Day5.Sst__Pthlh</td></tr>\n",
       "\t<tr><td>obj_Sst__Unc13c</td></tr>\n",
       "\t<tr><td>obj_Day14.Sst__Unc13c</td></tr>\n",
       "\t<tr><td>obj_Day5.Sst__Unc13c</td></tr>\n",
       "\t<tr><td>obj_Tanycytes</td></tr>\n",
       "\t<tr><td>obj_Day14.Tanycytes</td></tr>\n",
       "\t<tr><td>obj_Day5.Tanycytes</td></tr>\n",
       "\t<tr><td>obj_Tbx19__Pirt</td></tr>\n",
       "\t<tr><td>obj_Day14.Tbx19__Pirt</td></tr>\n",
       "\t<tr><td>obj_Day5.Tbx19__Pirt</td></tr>\n",
       "\t<tr><td>obj_Th__Nfib</td></tr>\n",
       "\t<tr><td>obj_Day14.Th__Nfib</td></tr>\n",
       "\t<tr><td>obj_Day5.Th__Nfib</td></tr>\n",
       "\t<tr><td>obj_Th__Slc6a3</td></tr>\n",
       "\t<tr><td>obj_Day14.Th__Slc6a3</td></tr>\n",
       "\t<tr><td>obj_Day5.Th__Slc6a3</td></tr>\n",
       "\t<tr><td>obj_Tmem215__Dach2</td></tr>\n",
       "\t<tr><td>obj_Day14.Tmem215__Dach2</td></tr>\n",
       "\t<tr><td>obj_Day5.Tmem215__Dach2</td></tr>\n",
       "\t<tr><td>obj_Tmem215__Greb1</td></tr>\n",
       "\t<tr><td>obj_Day14.Tmem215__Greb1</td></tr>\n",
       "\t<tr><td>obj_Day5.Tmem215__Greb1</td></tr>\n",
       "\t<tr><td>obj_Trh__Cxcl12</td></tr>\n",
       "\t<tr><td>obj_Day14.Trh__Cxcl12</td></tr>\n",
       "\t<tr><td>obj_Day5.Trh__Cxcl12</td></tr>\n",
       "\t<tr><td>obj_Trh__Lef1</td></tr>\n",
       "\t<tr><td>obj_Day14.Trh__Lef1</td></tr>\n",
       "\t<tr><td>obj_Day5.Trh__Lef1</td></tr>\n",
       "\t<tr><td>obj_VLMC</td></tr>\n",
       "</tbody>\n",
       "</table>\n"
      ],
      "text/latex": [
       "A tibble: 205 × 1\n",
       "\\begin{tabular}{l}\n",
       " seurat\\_obj\\\\\n",
       " <list>\\\\\n",
       "\\hline\n",
       "\t obj\\_Agrp\\\\\n",
       "\t obj\\_Day14.Agrp\\\\\n",
       "\t obj\\_Day5.Agrp\\\\\n",
       "\t obj\\_Arx\\_\\_Nr5a2\\\\\n",
       "\t obj\\_Day5.Arx\\_\\_Nr5a2\\\\\n",
       "\t obj\\_Astrocytes\\\\\n",
       "\t obj\\_Day14.Astrocytes\\\\\n",
       "\t obj\\_Day5.Astrocytes\\\\\n",
       "\t obj\\_Dlk1\\\\\n",
       "\t obj\\_Day14.Dlk1\\\\\n",
       "\t obj\\_Day5.Dlk1\\\\\n",
       "\t obj\\_Ependymal\\_cells\\\\\n",
       "\t obj\\_Day14.Ependymal\\_cells\\\\\n",
       "\t obj\\_Day5.Ependymal\\_cells\\\\\n",
       "\t obj\\_Esr1\\\\\n",
       "\t obj\\_Day14.Esr1\\\\\n",
       "\t obj\\_Day5.Esr1\\\\\n",
       "\t obj\\_Fez1\\\\\n",
       "\t obj\\_Day14.Fez1\\\\\n",
       "\t obj\\_Day5.Fez1\\\\\n",
       "\t obj\\_g\\_drop\\\\\n",
       "\t obj\\_g1\\\\\n",
       "\t obj\\_Day14.g1\\\\\n",
       "\t obj\\_Day5.g1\\\\\n",
       "\t obj\\_g2\\\\\n",
       "\t obj\\_Day14.g2\\\\\n",
       "\t obj\\_Day5.g2\\\\\n",
       "\t obj\\_g3\\\\\n",
       "\t obj\\_Day14.g3\\\\\n",
       "\t obj\\_Day5.g3\\\\\n",
       "\t ⋮\\\\\n",
       "\t obj\\_Day14.Sst\\_\\_Pthlh\\\\\n",
       "\t obj\\_Day5.Sst\\_\\_Pthlh\\\\\n",
       "\t obj\\_Sst\\_\\_Unc13c\\\\\n",
       "\t obj\\_Day14.Sst\\_\\_Unc13c\\\\\n",
       "\t obj\\_Day5.Sst\\_\\_Unc13c\\\\\n",
       "\t obj\\_Tanycytes\\\\\n",
       "\t obj\\_Day14.Tanycytes\\\\\n",
       "\t obj\\_Day5.Tanycytes\\\\\n",
       "\t obj\\_Tbx19\\_\\_Pirt\\\\\n",
       "\t obj\\_Day14.Tbx19\\_\\_Pirt\\\\\n",
       "\t obj\\_Day5.Tbx19\\_\\_Pirt\\\\\n",
       "\t obj\\_Th\\_\\_Nfib\\\\\n",
       "\t obj\\_Day14.Th\\_\\_Nfib\\\\\n",
       "\t obj\\_Day5.Th\\_\\_Nfib\\\\\n",
       "\t obj\\_Th\\_\\_Slc6a3\\\\\n",
       "\t obj\\_Day14.Th\\_\\_Slc6a3\\\\\n",
       "\t obj\\_Day5.Th\\_\\_Slc6a3\\\\\n",
       "\t obj\\_Tmem215\\_\\_Dach2\\\\\n",
       "\t obj\\_Day14.Tmem215\\_\\_Dach2\\\\\n",
       "\t obj\\_Day5.Tmem215\\_\\_Dach2\\\\\n",
       "\t obj\\_Tmem215\\_\\_Greb1\\\\\n",
       "\t obj\\_Day14.Tmem215\\_\\_Greb1\\\\\n",
       "\t obj\\_Day5.Tmem215\\_\\_Greb1\\\\\n",
       "\t obj\\_Trh\\_\\_Cxcl12\\\\\n",
       "\t obj\\_Day14.Trh\\_\\_Cxcl12\\\\\n",
       "\t obj\\_Day5.Trh\\_\\_Cxcl12\\\\\n",
       "\t obj\\_Trh\\_\\_Lef1\\\\\n",
       "\t obj\\_Day14.Trh\\_\\_Lef1\\\\\n",
       "\t obj\\_Day5.Trh\\_\\_Lef1\\\\\n",
       "\t obj\\_VLMC\\\\\n",
       "\\end{tabular}\n"
      ],
      "text/markdown": [
       "\n",
       "A tibble: 205 × 1\n",
       "\n",
       "| seurat_obj &lt;list&gt; |\n",
       "|---|\n",
       "| obj_Agrp |\n",
       "| obj_Day14.Agrp |\n",
       "| obj_Day5.Agrp |\n",
       "| obj_Arx__Nr5a2 |\n",
       "| obj_Day5.Arx__Nr5a2 |\n",
       "| obj_Astrocytes |\n",
       "| obj_Day14.Astrocytes |\n",
       "| obj_Day5.Astrocytes |\n",
       "| obj_Dlk1 |\n",
       "| obj_Day14.Dlk1 |\n",
       "| obj_Day5.Dlk1 |\n",
       "| obj_Ependymal_cells |\n",
       "| obj_Day14.Ependymal_cells |\n",
       "| obj_Day5.Ependymal_cells |\n",
       "| obj_Esr1 |\n",
       "| obj_Day14.Esr1 |\n",
       "| obj_Day5.Esr1 |\n",
       "| obj_Fez1 |\n",
       "| obj_Day14.Fez1 |\n",
       "| obj_Day5.Fez1 |\n",
       "| obj_g_drop |\n",
       "| obj_g1 |\n",
       "| obj_Day14.g1 |\n",
       "| obj_Day5.g1 |\n",
       "| obj_g2 |\n",
       "| obj_Day14.g2 |\n",
       "| obj_Day5.g2 |\n",
       "| obj_g3 |\n",
       "| obj_Day14.g3 |\n",
       "| obj_Day5.g3 |\n",
       "| ⋮ |\n",
       "| obj_Day14.Sst__Pthlh |\n",
       "| obj_Day5.Sst__Pthlh |\n",
       "| obj_Sst__Unc13c |\n",
       "| obj_Day14.Sst__Unc13c |\n",
       "| obj_Day5.Sst__Unc13c |\n",
       "| obj_Tanycytes |\n",
       "| obj_Day14.Tanycytes |\n",
       "| obj_Day5.Tanycytes |\n",
       "| obj_Tbx19__Pirt |\n",
       "| obj_Day14.Tbx19__Pirt |\n",
       "| obj_Day5.Tbx19__Pirt |\n",
       "| obj_Th__Nfib |\n",
       "| obj_Day14.Th__Nfib |\n",
       "| obj_Day5.Th__Nfib |\n",
       "| obj_Th__Slc6a3 |\n",
       "| obj_Day14.Th__Slc6a3 |\n",
       "| obj_Day5.Th__Slc6a3 |\n",
       "| obj_Tmem215__Dach2 |\n",
       "| obj_Day14.Tmem215__Dach2 |\n",
       "| obj_Day5.Tmem215__Dach2 |\n",
       "| obj_Tmem215__Greb1 |\n",
       "| obj_Day14.Tmem215__Greb1 |\n",
       "| obj_Day5.Tmem215__Greb1 |\n",
       "| obj_Trh__Cxcl12 |\n",
       "| obj_Day14.Trh__Cxcl12 |\n",
       "| obj_Day5.Trh__Cxcl12 |\n",
       "| obj_Trh__Lef1 |\n",
       "| obj_Day14.Trh__Lef1 |\n",
       "| obj_Day5.Trh__Lef1 |\n",
       "| obj_VLMC |\n",
       "\n"
      ],
      "text/plain": [
       "    seurat_obj               \n",
       "1   obj_Agrp                 \n",
       "2   obj_Day14.Agrp           \n",
       "3   obj_Day5.Agrp            \n",
       "4   obj_Arx__Nr5a2           \n",
       "5   obj_Day5.Arx__Nr5a2      \n",
       "6   obj_Astrocytes           \n",
       "7   obj_Day14.Astrocytes     \n",
       "8   obj_Day5.Astrocytes      \n",
       "9   obj_Dlk1                 \n",
       "10  obj_Day14.Dlk1           \n",
       "11  obj_Day5.Dlk1            \n",
       "12  obj_Ependymal_cells      \n",
       "13  obj_Day14.Ependymal_cells\n",
       "14  obj_Day5.Ependymal_cells \n",
       "15  obj_Esr1                 \n",
       "16  obj_Day14.Esr1           \n",
       "17  obj_Day5.Esr1            \n",
       "18  obj_Fez1                 \n",
       "19  obj_Day14.Fez1           \n",
       "20  obj_Day5.Fez1            \n",
       "21  obj_g_drop               \n",
       "22  obj_g1                   \n",
       "23  obj_Day14.g1             \n",
       "24  obj_Day5.g1              \n",
       "25  obj_g2                   \n",
       "26  obj_Day14.g2             \n",
       "27  obj_Day5.g2              \n",
       "28  obj_g3                   \n",
       "29  obj_Day14.g3             \n",
       "30  obj_Day5.g3              \n",
       "⋮   ⋮                        \n",
       "176 obj_Day14.Sst__Pthlh     \n",
       "177 obj_Day5.Sst__Pthlh      \n",
       "178 obj_Sst__Unc13c          \n",
       "179 obj_Day14.Sst__Unc13c    \n",
       "180 obj_Day5.Sst__Unc13c     \n",
       "181 obj_Tanycytes            \n",
       "182 obj_Day14.Tanycytes      \n",
       "183 obj_Day5.Tanycytes       \n",
       "184 obj_Tbx19__Pirt          \n",
       "185 obj_Day14.Tbx19__Pirt    \n",
       "186 obj_Day5.Tbx19__Pirt     \n",
       "187 obj_Th__Nfib             \n",
       "188 obj_Day14.Th__Nfib       \n",
       "189 obj_Day5.Th__Nfib        \n",
       "190 obj_Th__Slc6a3           \n",
       "191 obj_Day14.Th__Slc6a3     \n",
       "192 obj_Day5.Th__Slc6a3      \n",
       "193 obj_Tmem215__Dach2       \n",
       "194 obj_Day14.Tmem215__Dach2 \n",
       "195 obj_Day5.Tmem215__Dach2  \n",
       "196 obj_Tmem215__Greb1       \n",
       "197 obj_Day14.Tmem215__Greb1 \n",
       "198 obj_Day5.Tmem215__Greb1  \n",
       "199 obj_Trh__Cxcl12          \n",
       "200 obj_Day14.Trh__Cxcl12    \n",
       "201 obj_Day5.Trh__Cxcl12     \n",
       "202 obj_Trh__Lef1            \n",
       "203 obj_Day14.Trh__Lef1      \n",
       "204 obj_Day5.Trh__Lef1       \n",
       "205 obj_VLMC                 "
      ]
     },
     "metadata": {},
     "output_type": "display_data"
    }
   ],
   "source": [
    "summary_plot_recipe %>% distinct(seurat_obj)"
   ]
  },
  {
   "cell_type": "code",
   "execution_count": null,
   "id": "a83b32bc",
   "metadata": {},
   "outputs": [],
   "source": []
  }
 ],
 "metadata": {
  "kernelspec": {
   "display_name": "R [conda env:fgf1]",
   "language": "R",
   "name": "conda-env-fgf1-r"
  },
  "language_info": {
   "codemirror_mode": "r",
   "file_extension": ".r",
   "mimetype": "text/x-r-source",
   "name": "R",
   "pygments_lexer": "r",
   "version": "4.1.3"
  }
 },
 "nbformat": 4,
 "nbformat_minor": 5
}
