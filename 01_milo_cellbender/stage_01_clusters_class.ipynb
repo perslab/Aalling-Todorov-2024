{
 "cells": [
  {
   "cell_type": "code",
   "execution_count": 1,
   "id": "7ceb167d",
   "metadata": {},
   "outputs": [
    {
     "name": "stderr",
     "output_type": "stream",
     "text": [
      "── \u001b[1mAttaching packages\u001b[22m ─────────────────────────────────────── tidyverse 1.3.2 ──\n",
      "\u001b[32m✔\u001b[39m \u001b[34mggplot2\u001b[39m 3.4.2     \u001b[32m✔\u001b[39m \u001b[34mpurrr  \u001b[39m 0.3.4\n",
      "\u001b[32m✔\u001b[39m \u001b[34mtibble \u001b[39m 3.2.1     \u001b[32m✔\u001b[39m \u001b[34mdplyr  \u001b[39m 1.1.2\n",
      "\u001b[32m✔\u001b[39m \u001b[34mtidyr  \u001b[39m 1.2.1     \u001b[32m✔\u001b[39m \u001b[34mstringr\u001b[39m 1.4.1\n",
      "\u001b[32m✔\u001b[39m \u001b[34mreadr  \u001b[39m 2.1.2     \u001b[32m✔\u001b[39m \u001b[34mforcats\u001b[39m 0.5.2\n",
      "── \u001b[1mConflicts\u001b[22m ────────────────────────────────────────── tidyverse_conflicts() ──\n",
      "\u001b[31m✖\u001b[39m \u001b[34mdplyr\u001b[39m::\u001b[32mfilter()\u001b[39m masks \u001b[34mstats\u001b[39m::filter()\n",
      "\u001b[31m✖\u001b[39m \u001b[34mdplyr\u001b[39m::\u001b[32mlag()\u001b[39m    masks \u001b[34mstats\u001b[39m::lag()\n",
      "Loading required package: SeuratObject\n",
      "\n",
      "Loading required package: sp\n",
      "\n",
      "\n",
      "Attaching package: ‘SeuratObject’\n",
      "\n",
      "\n",
      "The following object is masked from ‘package:base’:\n",
      "\n",
      "    intersect\n",
      "\n",
      "\n"
     ]
    }
   ],
   "source": [
    "library(tidyverse)\n",
    "library(Seurat)\n",
    "\n",
    "source('milo_cellbender.R')"
   ]
  },
  {
   "cell_type": "code",
   "execution_count": 2,
   "id": "00ed6131",
   "metadata": {},
   "outputs": [
    {
     "data": {
      "text/html": [
       "'other'"
      ],
      "text/latex": [
       "'other'"
      ],
      "text/markdown": [
       "'other'"
      ],
      "text/plain": [
       "[1] \"other\""
      ]
     },
     "metadata": {},
     "output_type": "display_data"
    }
   ],
   "source": [
    "other_clusters = qs::qread('../00_cellbender/_targets/objects/obj_cb_other_01t') %>% \n",
    "    set_labels_to_class %>%\n",
    "    set_batch_to_lane %>%    \n",
    "    prep_obj_for_milo_cb_v01 %>%\n",
    "    `[[` %>%\n",
    "    pull(labels) %>% \n",
    "    unique\n",
    "other_clusters"
   ]
  },
  {
   "cell_type": "code",
   "execution_count": 3,
   "id": "2976ed3e",
   "metadata": {},
   "outputs": [
    {
     "data": {
      "text/html": [
       "'neuron'"
      ],
      "text/latex": [
       "'neuron'"
      ],
      "text/markdown": [
       "'neuron'"
      ],
      "text/plain": [
       "[1] \"neuron\""
      ]
     },
     "metadata": {},
     "output_type": "display_data"
    }
   ],
   "source": [
    "neuron_clusters = qs::qread('../00_cellbender/_targets/objects/obj_cb_neuron_00') %>% \n",
    "    set_labels_to_class %>%\n",
    "    set_batch_to_lane %>%    \n",
    "    prep_obj_for_milo_cb_v01 %>%\n",
    "    `[[` %>%\n",
    "    pull(labels) %>% \n",
    "    unique\n",
    "neuron_clusters "
   ]
  },
  {
   "cell_type": "code",
   "execution_count": 4,
   "id": "7ca9f3c2",
   "metadata": {},
   "outputs": [
    {
     "data": {
      "text/html": [
       "<table class=\"dataframe\">\n",
       "<caption>A tibble: 6 × 2</caption>\n",
       "<thead>\n",
       "\t<tr><th scope=col>object</th><th scope=col>day</th></tr>\n",
       "\t<tr><th scope=col>&lt;list&gt;</th><th scope=col>&lt;chr&gt;</th></tr>\n",
       "</thead>\n",
       "<tbody>\n",
       "\t<tr><td>exp_labelled_other</td><td>all  </td></tr>\n",
       "\t<tr><td>exp_labelled_other</td><td>Day14</td></tr>\n",
       "\t<tr><td>exp_labelled_other</td><td>Day5 </td></tr>\n",
       "\t<tr><td>exp_labelled_neuron</td><td>all  </td></tr>\n",
       "\t<tr><td>exp_labelled_neuron</td><td>Day14</td></tr>\n",
       "\t<tr><td>exp_labelled_neuron</td><td>Day5 </td></tr>\n",
       "</tbody>\n",
       "</table>\n"
      ],
      "text/latex": [
       "A tibble: 6 × 2\n",
       "\\begin{tabular}{ll}\n",
       " object & day\\\\\n",
       " <list> & <chr>\\\\\n",
       "\\hline\n",
       "\t exp\\_labelled\\_other & all  \\\\\n",
       "\t exp\\_labelled\\_other & Day14\\\\\n",
       "\t exp\\_labelled\\_other & Day5 \\\\\n",
       "\t exp\\_labelled\\_neuron & all  \\\\\n",
       "\t exp\\_labelled\\_neuron & Day14\\\\\n",
       "\t exp\\_labelled\\_neuron & Day5 \\\\\n",
       "\\end{tabular}\n"
      ],
      "text/markdown": [
       "\n",
       "A tibble: 6 × 2\n",
       "\n",
       "| object &lt;list&gt; | day &lt;chr&gt; |\n",
       "|---|---|\n",
       "| exp_labelled_other | all   |\n",
       "| exp_labelled_other | Day14 |\n",
       "| exp_labelled_other | Day5  |\n",
       "| exp_labelled_neuron | all   |\n",
       "| exp_labelled_neuron | Day14 |\n",
       "| exp_labelled_neuron | Day5  |\n",
       "\n"
      ],
      "text/plain": [
       "  object              day  \n",
       "1 exp_labelled_other  all  \n",
       "2 exp_labelled_other  Day14\n",
       "3 exp_labelled_other  Day5 \n",
       "4 exp_labelled_neuron all  \n",
       "5 exp_labelled_neuron Day14\n",
       "6 exp_labelled_neuron Day5 "
      ]
     },
     "metadata": {},
     "output_type": "display_data"
    }
   ],
   "source": [
    "day_splits = tibble(object = rlang::syms(c(\"exp_labelled_other\", \"exp_labelled_neuron\")))\n",
    "days = tibble(day = c(\"Day5\", \"Day14\", \"all\"))\n",
    "# days = tibble(day = c(\"Day14\"))\n",
    "day_splits = tidyr::crossing(day_splits, days)\n",
    "# day_splits = day_splits %>% rowwise %>% mutate(day_label)\n",
    "day_splits"
   ]
  },
  {
   "cell_type": "code",
   "execution_count": null,
   "id": "d178a4c2",
   "metadata": {},
   "outputs": [],
   "source": []
  },
  {
   "cell_type": "code",
   "execution_count": 5,
   "id": "89ccf1ed",
   "metadata": {},
   "outputs": [
    {
     "data": {
      "text/html": [
       "<table class=\"dataframe\">\n",
       "<caption>A rowwise_df: 6 × 4</caption>\n",
       "<thead>\n",
       "\t<tr><th scope=col>label</th><th scope=col>object</th><th scope=col>day</th><th scope=col>cluster</th></tr>\n",
       "\t<tr><th scope=col>&lt;chr&gt;</th><th scope=col>&lt;list&gt;</th><th scope=col>&lt;chr&gt;</th><th scope=col>&lt;chr&gt;</th></tr>\n",
       "</thead>\n",
       "<tbody>\n",
       "\t<tr><td>other       </td><td>exp_labelled_other</td><td>all  </td><td>other </td></tr>\n",
       "\t<tr><td>Day14.other </td><td>exp_labelled_other</td><td>Day14</td><td>other </td></tr>\n",
       "\t<tr><td>Day5.other  </td><td>exp_labelled_other</td><td>Day5 </td><td>other </td></tr>\n",
       "\t<tr><td>neuron      </td><td>exp_labelled_neuron</td><td>all  </td><td>neuron</td></tr>\n",
       "\t<tr><td>Day14.neuron</td><td>exp_labelled_neuron</td><td>Day14</td><td>neuron</td></tr>\n",
       "\t<tr><td>Day5.neuron </td><td>exp_labelled_neuron</td><td>Day5 </td><td>neuron</td></tr>\n",
       "</tbody>\n",
       "</table>\n"
      ],
      "text/latex": [
       "A rowwise\\_df: 6 × 4\n",
       "\\begin{tabular}{llll}\n",
       " label & object & day & cluster\\\\\n",
       " <chr> & <list> & <chr> & <chr>\\\\\n",
       "\\hline\n",
       "\t other        & exp\\_labelled\\_other & all   & other \\\\\n",
       "\t Day14.other  & exp\\_labelled\\_other & Day14 & other \\\\\n",
       "\t Day5.other   & exp\\_labelled\\_other & Day5  & other \\\\\n",
       "\t neuron       & exp\\_labelled\\_neuron & all   & neuron\\\\\n",
       "\t Day14.neuron & exp\\_labelled\\_neuron & Day14 & neuron\\\\\n",
       "\t Day5.neuron  & exp\\_labelled\\_neuron & Day5  & neuron\\\\\n",
       "\\end{tabular}\n"
      ],
      "text/markdown": [
       "\n",
       "A rowwise_df: 6 × 4\n",
       "\n",
       "| label &lt;chr&gt; | object &lt;list&gt; | day &lt;chr&gt; | cluster &lt;chr&gt; |\n",
       "|---|---|---|---|\n",
       "| other        | exp_labelled_other | all   | other  |\n",
       "| Day14.other  | exp_labelled_other | Day14 | other  |\n",
       "| Day5.other   | exp_labelled_other | Day5  | other  |\n",
       "| neuron       | exp_labelled_neuron | all   | neuron |\n",
       "| Day14.neuron | exp_labelled_neuron | Day14 | neuron |\n",
       "| Day5.neuron  | exp_labelled_neuron | Day5  | neuron |\n",
       "\n"
      ],
      "text/plain": [
       "  label        object              day   cluster\n",
       "1 other        exp_labelled_other  all   other  \n",
       "2 Day14.other  exp_labelled_other  Day14 other  \n",
       "3 Day5.other   exp_labelled_other  Day5  other  \n",
       "4 neuron       exp_labelled_neuron all   neuron \n",
       "5 Day14.neuron exp_labelled_neuron Day14 neuron \n",
       "6 Day5.neuron  exp_labelled_neuron Day5  neuron "
      ]
     },
     "metadata": {},
     "output_type": "display_data"
    }
   ],
   "source": [
    "other_clusters_tibble = tibble(label = other_clusters) %>% \n",
    "tidyr::crossing(day_splits) %>%\n",
    "filter(str_detect(as.character(object), 'other'))\n",
    "\n",
    "\n",
    "neuron_clusters_tibble = tibble(label = neuron_clusters) %>% \n",
    "tidyr::crossing(day_splits) %>%\n",
    "filter(str_detect(as.character(object), 'neuron'))\n",
    "\n",
    "clusters_tibble = rbind(other_clusters_tibble, neuron_clusters_tibble)\n",
    "clusters_tibble = clusters_tibble %>% \n",
    "mutate(cluster = label) %>%\n",
    "rowwise %>%\n",
    "mutate(label = case_when(day != \"all\" ~ paste0(c(day, as.character(label)), collapse='.'),\n",
    "                          TRUE ~ paste0(label, collapse='.'))) %>%\n",
    "filter(!str_detect(cluster, 'unassigned'))\n",
    "clusters_tibble"
   ]
  },
  {
   "cell_type": "raw",
   "id": "bfb0314a",
   "metadata": {},
   "source": [
    "errored_labels = targets::tar_meta() %>%\n",
    "    filter(!is.na(error)) %>% \n",
    "    select(name) %>%\n",
    "    rowwise %>%\n",
    "    filter(str_detect(name, 'da_results_00_')) %>%\n",
    "    mutate(name = str_split(name, '___', n=2)[[1]][1]) %>%\n",
    "    mutate(name = str_replace(name, 'da_results_00_', '')) %>%\n",
    "    distinct %>% \n",
    "    pull(name)\n",
    "errored_labels"
   ]
  },
  {
   "cell_type": "raw",
   "id": "9f6727cd",
   "metadata": {},
   "source": [
    "clusters_tibble = clusters_tibble %>%\n",
    "filter(!(label %in% errored_labels))\n",
    "\n",
    "clusters_tibble"
   ]
  },
  {
   "cell_type": "code",
   "execution_count": 6,
   "id": "08ff5949",
   "metadata": {},
   "outputs": [],
   "source": [
    "qs::qsave(clusters_tibble, 'clusters_tibble_class.qs')"
   ]
  },
  {
   "cell_type": "code",
   "execution_count": 7,
   "id": "d58b236b",
   "metadata": {},
   "outputs": [
    {
     "name": "stdout",
     "output_type": "stream",
     "text": [
      "c(\"milo_other\", \"milo_neuron\")\n"
     ]
    }
   ],
   "source": [
    "clusters_tibble %>%\n",
    "distinct(cluster) %>% pull(cluster) %>%\n",
    "paste0('milo_', .) %>% dput"
   ]
  },
  {
   "cell_type": "code",
   "execution_count": null,
   "id": "2be1c79a",
   "metadata": {},
   "outputs": [],
   "source": []
  }
 ],
 "metadata": {
  "kernelspec": {
   "display_name": "R [conda env:fgf1]",
   "language": "R",
   "name": "conda-env-fgf1-r"
  },
  "language_info": {
   "codemirror_mode": "r",
   "file_extension": ".r",
   "mimetype": "text/x-r-source",
   "name": "R",
   "pygments_lexer": "r",
   "version": "4.1.3"
  }
 },
 "nbformat": 4,
 "nbformat_minor": 5
}
