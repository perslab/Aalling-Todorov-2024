{
 "cells": [
  {
   "cell_type": "code",
   "execution_count": 1,
   "id": "bdfecc13",
   "metadata": {},
   "outputs": [
    {
     "name": "stderr",
     "output_type": "stream",
     "text": [
      "Loading required package: SeuratObject\n",
      "\n",
      "Loading required package: sp\n",
      "\n",
      "\n",
      "Attaching package: ‘SeuratObject’\n",
      "\n",
      "\n",
      "The following object is masked from ‘package:base’:\n",
      "\n",
      "    intersect\n",
      "\n",
      "\n",
      "── \u001b[1mAttaching packages\u001b[22m ─────────────────────────────────────── tidyverse 1.3.2 ──\n",
      "\u001b[32m✔\u001b[39m \u001b[34mggplot2\u001b[39m 3.4.2     \u001b[32m✔\u001b[39m \u001b[34mpurrr  \u001b[39m 0.3.4\n",
      "\u001b[32m✔\u001b[39m \u001b[34mtibble \u001b[39m 3.2.1     \u001b[32m✔\u001b[39m \u001b[34mdplyr  \u001b[39m 1.1.2\n",
      "\u001b[32m✔\u001b[39m \u001b[34mtidyr  \u001b[39m 1.2.1     \u001b[32m✔\u001b[39m \u001b[34mstringr\u001b[39m 1.4.1\n",
      "\u001b[32m✔\u001b[39m \u001b[34mreadr  \u001b[39m 2.1.2     \u001b[32m✔\u001b[39m \u001b[34mforcats\u001b[39m 0.5.2\n",
      "── \u001b[1mConflicts\u001b[22m ────────────────────────────────────────── tidyverse_conflicts() ──\n",
      "\u001b[31m✖\u001b[39m \u001b[34mdplyr\u001b[39m::\u001b[32mfilter()\u001b[39m masks \u001b[34mstats\u001b[39m::filter()\n",
      "\u001b[31m✖\u001b[39m \u001b[34mdplyr\u001b[39m::\u001b[32mlag()\u001b[39m    masks \u001b[34mstats\u001b[39m::lag()\n"
     ]
    }
   ],
   "source": [
    "## library(igraph)\n",
    "library(Seurat)\n",
    "library(tidyverse)\n",
    "library(ggplot2)\n",
    "library(ggrepel)\n",
    "library(ggbeeswarm)\n",
    "library(patchwork)\n",
    "library(writexl)\n",
    "options(ggrepel.max.overlaps = Inf)"
   ]
  },
  {
   "cell_type": "code",
   "execution_count": null,
   "id": "556b84b7",
   "metadata": {},
   "outputs": [],
   "source": []
  },
  {
   "cell_type": "code",
   "execution_count": 2,
   "id": "36402bce",
   "metadata": {
    "scrolled": true
   },
   "outputs": [
    {
     "data": {
      "text/html": [
       "<table class=\"dataframe\">\n",
       "<caption>A tibble: 1 × 27</caption>\n",
       "<thead>\n",
       "\t<tr><th scope=col>tag</th><th scope=col>data_day</th><th scope=col>cluster</th><th scope=col>fgf1_day</th><th scope=col>fgf1_comparison</th><th scope=col>bl6_day</th><th scope=col>bl6_comparison</th><th scope=col>grouping</th><th scope=col>cells_a</th><th scope=col>cells_b</th><th scope=col>⋯</th><th scope=col>recall</th><th scope=col>term_id</th><th scope=col>source</th><th scope=col>term_name</th><th scope=col>effective_domain_size</th><th scope=col>source_order</th><th scope=col>parents</th><th scope=col>evidence_codes</th><th scope=col>intersection</th><th scope=col>gene_ids</th></tr>\n",
       "\t<tr><th scope=col>&lt;chr&gt;</th><th scope=col>&lt;chr&gt;</th><th scope=col>&lt;chr&gt;</th><th scope=col>&lt;chr&gt;</th><th scope=col>&lt;chr&gt;</th><th scope=col>&lt;chr&gt;</th><th scope=col>&lt;chr&gt;</th><th scope=col>&lt;chr&gt;</th><th scope=col>&lt;chr&gt;</th><th scope=col>&lt;chr&gt;</th><th scope=col>⋯</th><th scope=col>&lt;dbl&gt;</th><th scope=col>&lt;chr&gt;</th><th scope=col>&lt;chr&gt;</th><th scope=col>&lt;chr&gt;</th><th scope=col>&lt;int&gt;</th><th scope=col>&lt;int&gt;</th><th scope=col>&lt;list&gt;</th><th scope=col>&lt;chr&gt;</th><th scope=col>&lt;chr&gt;</th><th scope=col>&lt;chr&gt;</th></tr>\n",
       "</thead>\n",
       "<tbody>\n",
       "\t<tr><td>Agrp___Day14.obob14v14__v__Day14.obobBL6d14___bl6_grouping.neg_vs_none</td><td>all</td><td>Agrp</td><td>Day14</td><td>obob14v14</td><td>Day14</td><td>obobBL6d14</td><td>bl6_grouping</td><td>neg</td><td>none</td><td>⋯</td><td>0.005178128</td><td>GO:0007275</td><td>GO:BP</td><td>multicellular organism development</td><td>26856</td><td>2853</td><td>GO:0032501, GO:0048856</td><td>IMP IGI,IMP,IEA,IBA IEA,IDA,IDA IMP IGI ISO IBA IEA,IMP ISO IBA,IDA IMP ISO IEA,IMP,ISO IBA IEA,IBA,IDA IMP ISS ISO IEA,IMP IBA,IEP,IMP ISO IBA IEA,IMP,IDA IMP,IGI,IEA,IMP,IMP,IMP ISO IBA IEA,ISO IEA,IMP,IMP</td><td>ENSMUSG00000037940,ENSMUSG00000036356,ENSMUSG00000021136,ENSMUSG00000025576,ENSMUSG00000022377,ENSMUSG00000041540,ENSMUSG00000060534,ENSMUSG00000007653,ENSMUSG00000032265,ENSMUSG00000031841,ENSMUSG00000016150,ENSMUSG00000066687,ENSMUSG00000032020,ENSMUSG00000028222,ENSMUSG00000067158,ENSMUSG00000021097,ENSMUSG00000036192,ENSMUSG00000025592,ENSMUSG00000021047,ENSMUSG00000021255,ENSMUSG00000022311,ENSMUSG00000025089,ENSMUSG00000023034,ENSMUSG00000045629,ENSMUSG00000004151</td><td>Inpp4b,Csgalnact1,Smoc1,Rbfox3,Asap1,Sox5,Dcc,Gabrb2,Tent5a,Cdh13,Tenm1,Zbtb16,Ubash3b,Calb1,Col4a4,Clmn,Rorb,Dach2,Nova1,Esrrb,Csmd3,Gfra1,Nr4a1,Sh3tc2,Etv1</td></tr>\n",
       "</tbody>\n",
       "</table>\n"
      ],
      "text/latex": [
       "A tibble: 1 × 27\n",
       "\\begin{tabular}{lllllllllllllllllllll}\n",
       " tag & data\\_day & cluster & fgf1\\_day & fgf1\\_comparison & bl6\\_day & bl6\\_comparison & grouping & cells\\_a & cells\\_b & ⋯ & recall & term\\_id & source & term\\_name & effective\\_domain\\_size & source\\_order & parents & evidence\\_codes & intersection & gene\\_ids\\\\\n",
       " <chr> & <chr> & <chr> & <chr> & <chr> & <chr> & <chr> & <chr> & <chr> & <chr> & ⋯ & <dbl> & <chr> & <chr> & <chr> & <int> & <int> & <list> & <chr> & <chr> & <chr>\\\\\n",
       "\\hline\n",
       "\t Agrp\\_\\_\\_Day14.obob14v14\\_\\_v\\_\\_Day14.obobBL6d14\\_\\_\\_bl6\\_grouping.neg\\_vs\\_none & all & Agrp & Day14 & obob14v14 & Day14 & obobBL6d14 & bl6\\_grouping & neg & none & ⋯ & 0.005178128 & GO:0007275 & GO:BP & multicellular organism development & 26856 & 2853 & GO:0032501, GO:0048856 & IMP IGI,IMP,IEA,IBA IEA,IDA,IDA IMP IGI ISO IBA IEA,IMP ISO IBA,IDA IMP ISO IEA,IMP,ISO IBA IEA,IBA,IDA IMP ISS ISO IEA,IMP IBA,IEP,IMP ISO IBA IEA,IMP,IDA IMP,IGI,IEA,IMP,IMP,IMP ISO IBA IEA,ISO IEA,IMP,IMP & ENSMUSG00000037940,ENSMUSG00000036356,ENSMUSG00000021136,ENSMUSG00000025576,ENSMUSG00000022377,ENSMUSG00000041540,ENSMUSG00000060534,ENSMUSG00000007653,ENSMUSG00000032265,ENSMUSG00000031841,ENSMUSG00000016150,ENSMUSG00000066687,ENSMUSG00000032020,ENSMUSG00000028222,ENSMUSG00000067158,ENSMUSG00000021097,ENSMUSG00000036192,ENSMUSG00000025592,ENSMUSG00000021047,ENSMUSG00000021255,ENSMUSG00000022311,ENSMUSG00000025089,ENSMUSG00000023034,ENSMUSG00000045629,ENSMUSG00000004151 & Inpp4b,Csgalnact1,Smoc1,Rbfox3,Asap1,Sox5,Dcc,Gabrb2,Tent5a,Cdh13,Tenm1,Zbtb16,Ubash3b,Calb1,Col4a4,Clmn,Rorb,Dach2,Nova1,Esrrb,Csmd3,Gfra1,Nr4a1,Sh3tc2,Etv1\\\\\n",
       "\\end{tabular}\n"
      ],
      "text/markdown": [
       "\n",
       "A tibble: 1 × 27\n",
       "\n",
       "| tag &lt;chr&gt; | data_day &lt;chr&gt; | cluster &lt;chr&gt; | fgf1_day &lt;chr&gt; | fgf1_comparison &lt;chr&gt; | bl6_day &lt;chr&gt; | bl6_comparison &lt;chr&gt; | grouping &lt;chr&gt; | cells_a &lt;chr&gt; | cells_b &lt;chr&gt; | ⋯ ⋯ | recall &lt;dbl&gt; | term_id &lt;chr&gt; | source &lt;chr&gt; | term_name &lt;chr&gt; | effective_domain_size &lt;int&gt; | source_order &lt;int&gt; | parents &lt;list&gt; | evidence_codes &lt;chr&gt; | intersection &lt;chr&gt; | gene_ids &lt;chr&gt; |\n",
       "|---|---|---|---|---|---|---|---|---|---|---|---|---|---|---|---|---|---|---|---|---|\n",
       "| Agrp___Day14.obob14v14__v__Day14.obobBL6d14___bl6_grouping.neg_vs_none | all | Agrp | Day14 | obob14v14 | Day14 | obobBL6d14 | bl6_grouping | neg | none | ⋯ | 0.005178128 | GO:0007275 | GO:BP | multicellular organism development | 26856 | 2853 | GO:0032501, GO:0048856 | IMP IGI,IMP,IEA,IBA IEA,IDA,IDA IMP IGI ISO IBA IEA,IMP ISO IBA,IDA IMP ISO IEA,IMP,ISO IBA IEA,IBA,IDA IMP ISS ISO IEA,IMP IBA,IEP,IMP ISO IBA IEA,IMP,IDA IMP,IGI,IEA,IMP,IMP,IMP ISO IBA IEA,ISO IEA,IMP,IMP | ENSMUSG00000037940,ENSMUSG00000036356,ENSMUSG00000021136,ENSMUSG00000025576,ENSMUSG00000022377,ENSMUSG00000041540,ENSMUSG00000060534,ENSMUSG00000007653,ENSMUSG00000032265,ENSMUSG00000031841,ENSMUSG00000016150,ENSMUSG00000066687,ENSMUSG00000032020,ENSMUSG00000028222,ENSMUSG00000067158,ENSMUSG00000021097,ENSMUSG00000036192,ENSMUSG00000025592,ENSMUSG00000021047,ENSMUSG00000021255,ENSMUSG00000022311,ENSMUSG00000025089,ENSMUSG00000023034,ENSMUSG00000045629,ENSMUSG00000004151 | Inpp4b,Csgalnact1,Smoc1,Rbfox3,Asap1,Sox5,Dcc,Gabrb2,Tent5a,Cdh13,Tenm1,Zbtb16,Ubash3b,Calb1,Col4a4,Clmn,Rorb,Dach2,Nova1,Esrrb,Csmd3,Gfra1,Nr4a1,Sh3tc2,Etv1 |\n",
       "\n"
      ],
      "text/plain": [
       "  tag                                                                   \n",
       "1 Agrp___Day14.obob14v14__v__Day14.obobBL6d14___bl6_grouping.neg_vs_none\n",
       "  data_day cluster fgf1_day fgf1_comparison bl6_day bl6_comparison grouping    \n",
       "1 all      Agrp    Day14    obob14v14       Day14   obobBL6d14     bl6_grouping\n",
       "  cells_a cells_b ⋯ recall      term_id    source\n",
       "1 neg     none    ⋯ 0.005178128 GO:0007275 GO:BP \n",
       "  term_name                          effective_domain_size source_order\n",
       "1 multicellular organism development 26856                 2853        \n",
       "  parents               \n",
       "1 GO:0032501, GO:0048856\n",
       "  evidence_codes                                                                                                                                                                                                 \n",
       "1 IMP IGI,IMP,IEA,IBA IEA,IDA,IDA IMP IGI ISO IBA IEA,IMP ISO IBA,IDA IMP ISO IEA,IMP,ISO IBA IEA,IBA,IDA IMP ISS ISO IEA,IMP IBA,IEP,IMP ISO IBA IEA,IMP,IDA IMP,IGI,IEA,IMP,IMP,IMP ISO IBA IEA,ISO IEA,IMP,IMP\n",
       "  intersection                                                                                                                                                                                                                                                                                                                                                                                                                                                                              \n",
       "1 ENSMUSG00000037940,ENSMUSG00000036356,ENSMUSG00000021136,ENSMUSG00000025576,ENSMUSG00000022377,ENSMUSG00000041540,ENSMUSG00000060534,ENSMUSG00000007653,ENSMUSG00000032265,ENSMUSG00000031841,ENSMUSG00000016150,ENSMUSG00000066687,ENSMUSG00000032020,ENSMUSG00000028222,ENSMUSG00000067158,ENSMUSG00000021097,ENSMUSG00000036192,ENSMUSG00000025592,ENSMUSG00000021047,ENSMUSG00000021255,ENSMUSG00000022311,ENSMUSG00000025089,ENSMUSG00000023034,ENSMUSG00000045629,ENSMUSG00000004151\n",
       "  gene_ids                                                                                                                                                     \n",
       "1 Inpp4b,Csgalnact1,Smoc1,Rbfox3,Asap1,Sox5,Dcc,Gabrb2,Tent5a,Cdh13,Tenm1,Zbtb16,Ubash3b,Calb1,Col4a4,Clmn,Rorb,Dach2,Nova1,Esrrb,Csmd3,Gfra1,Nr4a1,Sh3tc2,Etv1"
      ]
     },
     "metadata": {},
     "output_type": "display_data"
    }
   ],
   "source": [
    "cgsf_all = qs::qread('_targets_MAST/objects/combined_gost_seurat_formatted')\n",
    "cgsf_all %>% head(1)"
   ]
  },
  {
   "cell_type": "code",
   "execution_count": 3,
   "id": "c9de3023",
   "metadata": {},
   "outputs": [
    {
     "data": {
      "text/html": [
       "<table class=\"dataframe\">\n",
       "<caption>A tibble: 6 × 18</caption>\n",
       "<thead>\n",
       "\t<tr><th scope=col>tag</th><th scope=col>data_day</th><th scope=col>cluster</th><th scope=col>fgf1_day</th><th scope=col>fgf1_comparison</th><th scope=col>bl6_day</th><th scope=col>bl6_comparison</th><th scope=col>grouping</th><th scope=col>cells_a</th><th scope=col>cells_b</th><th scope=col>GeneID</th><th scope=col>p_val</th><th scope=col>avg_log2FC</th><th scope=col>pct.1</th><th scope=col>pct.2</th><th scope=col>p_val_adj</th><th scope=col>ensmusg</th><th scope=col>gsea_sort_score</th></tr>\n",
       "\t<tr><th scope=col>&lt;chr&gt;</th><th scope=col>&lt;chr&gt;</th><th scope=col>&lt;chr&gt;</th><th scope=col>&lt;chr&gt;</th><th scope=col>&lt;chr&gt;</th><th scope=col>&lt;chr&gt;</th><th scope=col>&lt;chr&gt;</th><th scope=col>&lt;chr&gt;</th><th scope=col>&lt;chr&gt;</th><th scope=col>&lt;chr&gt;</th><th scope=col>&lt;chr&gt;</th><th scope=col>&lt;dbl&gt;</th><th scope=col>&lt;dbl&gt;</th><th scope=col>&lt;dbl&gt;</th><th scope=col>&lt;dbl&gt;</th><th scope=col>&lt;dbl&gt;</th><th scope=col>&lt;chr&gt;</th><th scope=col>&lt;dbl&gt;</th></tr>\n",
       "</thead>\n",
       "<tbody>\n",
       "\t<tr><td>Agrp___Day14.obob14v14__v__Day14.obobBL6d14___bl6_grouping.neg_vs_none</td><td>all</td><td>Agrp</td><td>Day14</td><td>obob14v14</td><td>Day14</td><td>obobBL6d14</td><td>bl6_grouping</td><td>neg</td><td>none</td><td>Inpp4b    </td><td>4.080267e-10</td><td>1.6926331</td><td>0.986</td><td>0.960</td><td>8.160534e-07</td><td>ENSMUSG00000037940</td><td>10.305227</td></tr>\n",
       "\t<tr><td>Agrp___Day14.obob14v14__v__Day14.obobBL6d14___bl6_grouping.neg_vs_none</td><td>all</td><td>Agrp</td><td>Day14</td><td>obob14v14</td><td>Day14</td><td>obobBL6d14</td><td>bl6_grouping</td><td>neg</td><td>none</td><td>Kcnh8     </td><td>1.288127e-06</td><td>1.4217999</td><td>0.970</td><td>0.891</td><td>2.576254e-03</td><td>ENSMUSG00000035580</td><td> 3.681056</td></tr>\n",
       "\t<tr><td>Agrp___Day14.obob14v14__v__Day14.obobBL6d14___bl6_grouping.neg_vs_none</td><td>all</td><td>Agrp</td><td>Day14</td><td>obob14v14</td><td>Day14</td><td>obobBL6d14</td><td>bl6_grouping</td><td>neg</td><td>none</td><td>Filip1    </td><td>1.338860e-05</td><td>2.1080246</td><td>0.991</td><td>0.891</td><td>2.677719e-02</td><td>ENSMUSG00000034898</td><td> 3.314310</td></tr>\n",
       "\t<tr><td>Agrp___Day14.obob14v14__v__Day14.obobBL6d14___bl6_grouping.neg_vs_none</td><td>all</td><td>Agrp</td><td>Day14</td><td>obob14v14</td><td>Day14</td><td>obobBL6d14</td><td>bl6_grouping</td><td>neg</td><td>none</td><td>Csgalnact1</td><td>3.096547e-06</td><td>1.1813219</td><td>0.998</td><td>0.971</td><td>6.193094e-03</td><td>ENSMUSG00000036356</td><td> 2.608468</td></tr>\n",
       "\t<tr><td>Agrp___Day14.obob14v14__v__Day14.obobBL6d14___bl6_grouping.neg_vs_none</td><td>all</td><td>Agrp</td><td>Day14</td><td>obob14v14</td><td>Day14</td><td>obobBL6d14</td><td>bl6_grouping</td><td>neg</td><td>none</td><td>Smoc1     </td><td>5.119051e-06</td><td>0.9002910</td><td>0.863</td><td>0.789</td><td>1.023810e-02</td><td>ENSMUSG00000021136</td><td> 1.791382</td></tr>\n",
       "\t<tr><td>Agrp___Day14.obob14v14__v__Day14.obobBL6d14___bl6_grouping.neg_vs_none</td><td>all</td><td>Agrp</td><td>Day14</td><td>obob14v14</td><td>Day14</td><td>obobBL6d14</td><td>bl6_grouping</td><td>neg</td><td>none</td><td>Pvt1      </td><td>4.761772e-06</td><td>0.8611898</td><td>0.977</td><td>0.914</td><td>9.523544e-03</td><td>ENSMUSG00000097039</td><td> 1.740638</td></tr>\n",
       "</tbody>\n",
       "</table>\n"
      ],
      "text/latex": [
       "A tibble: 6 × 18\n",
       "\\begin{tabular}{llllllllllllllllll}\n",
       " tag & data\\_day & cluster & fgf1\\_day & fgf1\\_comparison & bl6\\_day & bl6\\_comparison & grouping & cells\\_a & cells\\_b & GeneID & p\\_val & avg\\_log2FC & pct.1 & pct.2 & p\\_val\\_adj & ensmusg & gsea\\_sort\\_score\\\\\n",
       " <chr> & <chr> & <chr> & <chr> & <chr> & <chr> & <chr> & <chr> & <chr> & <chr> & <chr> & <dbl> & <dbl> & <dbl> & <dbl> & <dbl> & <chr> & <dbl>\\\\\n",
       "\\hline\n",
       "\t Agrp\\_\\_\\_Day14.obob14v14\\_\\_v\\_\\_Day14.obobBL6d14\\_\\_\\_bl6\\_grouping.neg\\_vs\\_none & all & Agrp & Day14 & obob14v14 & Day14 & obobBL6d14 & bl6\\_grouping & neg & none & Inpp4b     & 4.080267e-10 & 1.6926331 & 0.986 & 0.960 & 8.160534e-07 & ENSMUSG00000037940 & 10.305227\\\\\n",
       "\t Agrp\\_\\_\\_Day14.obob14v14\\_\\_v\\_\\_Day14.obobBL6d14\\_\\_\\_bl6\\_grouping.neg\\_vs\\_none & all & Agrp & Day14 & obob14v14 & Day14 & obobBL6d14 & bl6\\_grouping & neg & none & Kcnh8      & 1.288127e-06 & 1.4217999 & 0.970 & 0.891 & 2.576254e-03 & ENSMUSG00000035580 &  3.681056\\\\\n",
       "\t Agrp\\_\\_\\_Day14.obob14v14\\_\\_v\\_\\_Day14.obobBL6d14\\_\\_\\_bl6\\_grouping.neg\\_vs\\_none & all & Agrp & Day14 & obob14v14 & Day14 & obobBL6d14 & bl6\\_grouping & neg & none & Filip1     & 1.338860e-05 & 2.1080246 & 0.991 & 0.891 & 2.677719e-02 & ENSMUSG00000034898 &  3.314310\\\\\n",
       "\t Agrp\\_\\_\\_Day14.obob14v14\\_\\_v\\_\\_Day14.obobBL6d14\\_\\_\\_bl6\\_grouping.neg\\_vs\\_none & all & Agrp & Day14 & obob14v14 & Day14 & obobBL6d14 & bl6\\_grouping & neg & none & Csgalnact1 & 3.096547e-06 & 1.1813219 & 0.998 & 0.971 & 6.193094e-03 & ENSMUSG00000036356 &  2.608468\\\\\n",
       "\t Agrp\\_\\_\\_Day14.obob14v14\\_\\_v\\_\\_Day14.obobBL6d14\\_\\_\\_bl6\\_grouping.neg\\_vs\\_none & all & Agrp & Day14 & obob14v14 & Day14 & obobBL6d14 & bl6\\_grouping & neg & none & Smoc1      & 5.119051e-06 & 0.9002910 & 0.863 & 0.789 & 1.023810e-02 & ENSMUSG00000021136 &  1.791382\\\\\n",
       "\t Agrp\\_\\_\\_Day14.obob14v14\\_\\_v\\_\\_Day14.obobBL6d14\\_\\_\\_bl6\\_grouping.neg\\_vs\\_none & all & Agrp & Day14 & obob14v14 & Day14 & obobBL6d14 & bl6\\_grouping & neg & none & Pvt1       & 4.761772e-06 & 0.8611898 & 0.977 & 0.914 & 9.523544e-03 & ENSMUSG00000097039 &  1.740638\\\\\n",
       "\\end{tabular}\n"
      ],
      "text/markdown": [
       "\n",
       "A tibble: 6 × 18\n",
       "\n",
       "| tag &lt;chr&gt; | data_day &lt;chr&gt; | cluster &lt;chr&gt; | fgf1_day &lt;chr&gt; | fgf1_comparison &lt;chr&gt; | bl6_day &lt;chr&gt; | bl6_comparison &lt;chr&gt; | grouping &lt;chr&gt; | cells_a &lt;chr&gt; | cells_b &lt;chr&gt; | GeneID &lt;chr&gt; | p_val &lt;dbl&gt; | avg_log2FC &lt;dbl&gt; | pct.1 &lt;dbl&gt; | pct.2 &lt;dbl&gt; | p_val_adj &lt;dbl&gt; | ensmusg &lt;chr&gt; | gsea_sort_score &lt;dbl&gt; |\n",
       "|---|---|---|---|---|---|---|---|---|---|---|---|---|---|---|---|---|---|\n",
       "| Agrp___Day14.obob14v14__v__Day14.obobBL6d14___bl6_grouping.neg_vs_none | all | Agrp | Day14 | obob14v14 | Day14 | obobBL6d14 | bl6_grouping | neg | none | Inpp4b     | 4.080267e-10 | 1.6926331 | 0.986 | 0.960 | 8.160534e-07 | ENSMUSG00000037940 | 10.305227 |\n",
       "| Agrp___Day14.obob14v14__v__Day14.obobBL6d14___bl6_grouping.neg_vs_none | all | Agrp | Day14 | obob14v14 | Day14 | obobBL6d14 | bl6_grouping | neg | none | Kcnh8      | 1.288127e-06 | 1.4217999 | 0.970 | 0.891 | 2.576254e-03 | ENSMUSG00000035580 |  3.681056 |\n",
       "| Agrp___Day14.obob14v14__v__Day14.obobBL6d14___bl6_grouping.neg_vs_none | all | Agrp | Day14 | obob14v14 | Day14 | obobBL6d14 | bl6_grouping | neg | none | Filip1     | 1.338860e-05 | 2.1080246 | 0.991 | 0.891 | 2.677719e-02 | ENSMUSG00000034898 |  3.314310 |\n",
       "| Agrp___Day14.obob14v14__v__Day14.obobBL6d14___bl6_grouping.neg_vs_none | all | Agrp | Day14 | obob14v14 | Day14 | obobBL6d14 | bl6_grouping | neg | none | Csgalnact1 | 3.096547e-06 | 1.1813219 | 0.998 | 0.971 | 6.193094e-03 | ENSMUSG00000036356 |  2.608468 |\n",
       "| Agrp___Day14.obob14v14__v__Day14.obobBL6d14___bl6_grouping.neg_vs_none | all | Agrp | Day14 | obob14v14 | Day14 | obobBL6d14 | bl6_grouping | neg | none | Smoc1      | 5.119051e-06 | 0.9002910 | 0.863 | 0.789 | 1.023810e-02 | ENSMUSG00000021136 |  1.791382 |\n",
       "| Agrp___Day14.obob14v14__v__Day14.obobBL6d14___bl6_grouping.neg_vs_none | all | Agrp | Day14 | obob14v14 | Day14 | obobBL6d14 | bl6_grouping | neg | none | Pvt1       | 4.761772e-06 | 0.8611898 | 0.977 | 0.914 | 9.523544e-03 | ENSMUSG00000097039 |  1.740638 |\n",
       "\n"
      ],
      "text/plain": [
       "  tag                                                                   \n",
       "1 Agrp___Day14.obob14v14__v__Day14.obobBL6d14___bl6_grouping.neg_vs_none\n",
       "2 Agrp___Day14.obob14v14__v__Day14.obobBL6d14___bl6_grouping.neg_vs_none\n",
       "3 Agrp___Day14.obob14v14__v__Day14.obobBL6d14___bl6_grouping.neg_vs_none\n",
       "4 Agrp___Day14.obob14v14__v__Day14.obobBL6d14___bl6_grouping.neg_vs_none\n",
       "5 Agrp___Day14.obob14v14__v__Day14.obobBL6d14___bl6_grouping.neg_vs_none\n",
       "6 Agrp___Day14.obob14v14__v__Day14.obobBL6d14___bl6_grouping.neg_vs_none\n",
       "  data_day cluster fgf1_day fgf1_comparison bl6_day bl6_comparison grouping    \n",
       "1 all      Agrp    Day14    obob14v14       Day14   obobBL6d14     bl6_grouping\n",
       "2 all      Agrp    Day14    obob14v14       Day14   obobBL6d14     bl6_grouping\n",
       "3 all      Agrp    Day14    obob14v14       Day14   obobBL6d14     bl6_grouping\n",
       "4 all      Agrp    Day14    obob14v14       Day14   obobBL6d14     bl6_grouping\n",
       "5 all      Agrp    Day14    obob14v14       Day14   obobBL6d14     bl6_grouping\n",
       "6 all      Agrp    Day14    obob14v14       Day14   obobBL6d14     bl6_grouping\n",
       "  cells_a cells_b GeneID     p_val        avg_log2FC pct.1 pct.2 p_val_adj   \n",
       "1 neg     none    Inpp4b     4.080267e-10 1.6926331  0.986 0.960 8.160534e-07\n",
       "2 neg     none    Kcnh8      1.288127e-06 1.4217999  0.970 0.891 2.576254e-03\n",
       "3 neg     none    Filip1     1.338860e-05 2.1080246  0.991 0.891 2.677719e-02\n",
       "4 neg     none    Csgalnact1 3.096547e-06 1.1813219  0.998 0.971 6.193094e-03\n",
       "5 neg     none    Smoc1      5.119051e-06 0.9002910  0.863 0.789 1.023810e-02\n",
       "6 neg     none    Pvt1       4.761772e-06 0.8611898  0.977 0.914 9.523544e-03\n",
       "  ensmusg            gsea_sort_score\n",
       "1 ENSMUSG00000037940 10.305227      \n",
       "2 ENSMUSG00000035580  3.681056      \n",
       "3 ENSMUSG00000034898  3.314310      \n",
       "4 ENSMUSG00000036356  2.608468      \n",
       "5 ENSMUSG00000021136  1.791382      \n",
       "6 ENSMUSG00000097039  1.740638      "
      ]
     },
     "metadata": {},
     "output_type": "display_data"
    }
   ],
   "source": [
    "combined_deg_seurat_all = qs::qread('_targets_MAST/objects/combined_deg_seurat_formatted')\n",
    "combined_deg_seurat_all %>% head"
   ]
  },
  {
   "cell_type": "code",
   "execution_count": 4,
   "id": "b20697d4",
   "metadata": {},
   "outputs": [
    {
     "data": {
      "text/html": [
       "<table class=\"dataframe\">\n",
       "<caption>A tibble: 1 × 2</caption>\n",
       "<thead>\n",
       "\t<tr><th scope=col>fgf1_grouping</th><th scope=col>n</th></tr>\n",
       "\t<tr><th scope=col>&lt;chr&gt;</th><th scope=col>&lt;int&gt;</th></tr>\n",
       "</thead>\n",
       "<tbody>\n",
       "\t<tr><td>none</td><td>2123</td></tr>\n",
       "</tbody>\n",
       "</table>\n"
      ],
      "text/latex": [
       "A tibble: 1 × 2\n",
       "\\begin{tabular}{ll}\n",
       " fgf1\\_grouping & n\\\\\n",
       " <chr> & <int>\\\\\n",
       "\\hline\n",
       "\t none & 2123\\\\\n",
       "\\end{tabular}\n"
      ],
      "text/markdown": [
       "\n",
       "A tibble: 1 × 2\n",
       "\n",
       "| fgf1_grouping &lt;chr&gt; | n &lt;int&gt; |\n",
       "|---|---|\n",
       "| none | 2123 |\n",
       "\n"
      ],
      "text/plain": [
       "  fgf1_grouping n   \n",
       "1 none          2123"
      ]
     },
     "metadata": {},
     "output_type": "display_data"
    },
    {
     "data": {
      "text/html": [
       "<table class=\"dataframe\">\n",
       "<caption>A tibble: 1 × 2</caption>\n",
       "<thead>\n",
       "\t<tr><th scope=col>restored_grouping</th><th scope=col>n</th></tr>\n",
       "\t<tr><th scope=col>&lt;fct&gt;</th><th scope=col>&lt;int&gt;</th></tr>\n",
       "</thead>\n",
       "<tbody>\n",
       "\t<tr><td>none</td><td>2123</td></tr>\n",
       "</tbody>\n",
       "</table>\n"
      ],
      "text/latex": [
       "A tibble: 1 × 2\n",
       "\\begin{tabular}{ll}\n",
       " restored\\_grouping & n\\\\\n",
       " <fct> & <int>\\\\\n",
       "\\hline\n",
       "\t none & 2123\\\\\n",
       "\\end{tabular}\n"
      ],
      "text/markdown": [
       "\n",
       "A tibble: 1 × 2\n",
       "\n",
       "| restored_grouping &lt;fct&gt; | n &lt;int&gt; |\n",
       "|---|---|\n",
       "| none | 2123 |\n",
       "\n"
      ],
      "text/plain": [
       "  restored_grouping n   \n",
       "1 none              2123"
      ]
     },
     "metadata": {},
     "output_type": "display_data"
    }
   ],
   "source": [
    "nhgc = qs::qread('_targets_MAST/objects/nhgc_Agrp___Day14.obob14v14__v__Day14.obobBL6d14') # Astrocytes___Day14.obob14v14__v__Day14.obobBL6d14___fgf1_grouping.pos_vs_none\n",
    "nhgc %>% group_by(fgf1_grouping) %>% summarise(n=n())\n",
    "nhgc %>% group_by(restored_grouping) %>% summarise(n=n())\n",
    "# don't worry about this now, just state all markers for all clusters you want"
   ]
  },
  {
   "cell_type": "code",
   "execution_count": 5,
   "id": "4472d536",
   "metadata": {},
   "outputs": [
    {
     "name": "stderr",
     "output_type": "stream",
     "text": [
      "Warning message:\n",
      "“\u001b[1m\u001b[22mThere were 61 warnings in `mutate()`.\n",
      "The first warning was:\n",
      "\u001b[1m\u001b[22m\u001b[36mℹ\u001b[39m In argument: `obj = map2(obj, tag2, ~if (!is.na(.x)) mutate(.x, tag2 = .y)\n",
      "  else tibble())`.\n",
      "Caused by warning in `if (!is.na(.x)) ...`:\n",
      "\u001b[33m!\u001b[39m the condition has length > 1 and only the first element will be used\n",
      "\u001b[1m\u001b[22m\u001b[36mℹ\u001b[39m Run `dplyr::last_dplyr_warnings()` to see the 60 remaining warnings.”\n"
     ]
    }
   ],
   "source": [
    "tag2 = combined_deg_seurat_all %>% \n",
    "    pull(tag) %>% unique %>%\n",
    "    str_split(pattern = \"___\") %>%\n",
    "    map_chr(~if (length(.x) >= 3) paste(.x[1:2], collapse = \"___\") else .x[1]) %>%\n",
    "    unique\n",
    "        \n",
    "tag2_tibble = tag2 %>% tibble(tag2=.) %>%\n",
    "mutate(path_to_target = paste0('_targets_MAST/objects/nhgc_', tag2)) %>%\n",
    "mutate(obj = purrr::map(path_to_target, ~if (file.exists(.x)) qs::qread(.x) else NA))\n",
    "    \n",
    "combined_tibble <- tag2_tibble %>%\n",
    "  mutate(obj = map2(obj, tag2, ~if (!is.na(.x)) mutate(.x, tag2 = .y) else tibble())) %>%\n",
    "  pull(obj) %>%\n",
    "  map_dfr(identity)"
   ]
  },
  {
   "cell_type": "code",
   "execution_count": 6,
   "id": "e2c65fd6",
   "metadata": {},
   "outputs": [],
   "source": [
    "library(dplyr)\n",
    "library(tidyr)\n",
    "\n",
    "# Tibble for fgf1_grouping\n",
    "fgf1_tibble <- combined_tibble %>% \n",
    "  filter(fgf1_grouping %in% c('neg', 'none', 'pos')) %>%\n",
    "  group_by(tag2, fgf1_grouping) %>%\n",
    "  summarise(count = n(), .groups = \"drop\") %>%\n",
    "  pivot_wider(names_from = fgf1_grouping, values_from = count, names_prefix = \"fgf1_\", values_fill = 0) %>%\n",
    "  rowwise() %>%\n",
    "  mutate(total_cells = sum(c_across(-tag2), na.rm = TRUE)) %>% \n",
    "  ungroup\n",
    "\n",
    "# Tibble for fgf1_grouping with _restored\n",
    "restored_tibble <- combined_tibble %>% \n",
    "  mutate(fgf1_grouping_restored = str_replace_all(fgf1_grouping, c(\"neg\" = \"neg_restored\", \"pos\" = \"pos_restored\"))) %>%\n",
    "  filter(fgf1_grouping_restored %in% c('neg_restored', 'none', 'pos_restored')) %>%\n",
    "  group_by(tag2, fgf1_grouping_restored) %>%\n",
    "  summarise(count = n(), .groups = \"drop\") %>%\n",
    "  pivot_wider(names_from = fgf1_grouping_restored, values_from = count, names_prefix = \"restored_\", values_fill = 0) %>%\n",
    "  rowwise() %>%\n",
    "  mutate(total_cells = sum(c_across(-tag2), na.rm = TRUE)) %>% \n",
    "  ungroup\n",
    "\n",
    "# Tibble for fgf1_grouping with _restored\n",
    "bl6_tibble <- combined_tibble %>% \n",
    "  mutate(bl6_grouping = str_replace_all(bl6_grouping, c(\"neg\" = \"neg\", \"pos\" = \"pos\"))) %>%\n",
    "  filter(bl6_grouping %in% c('neg', 'none', 'pos')) %>%\n",
    "  group_by(tag2, bl6_grouping) %>%\n",
    "  summarise(count = n(), .groups = \"drop\") %>%\n",
    "  pivot_wider(names_from = bl6_grouping, values_from = count, names_prefix = \"bl6_\", values_fill = 0) %>%\n",
    "  rowwise() %>%\n",
    "  mutate(total_cells = sum(c_across(-tag2), na.rm = TRUE)) %>% \n",
    "  ungroup\n",
    "\n"
   ]
  },
  {
   "cell_type": "code",
   "execution_count": null,
   "id": "eb12c6cc",
   "metadata": {},
   "outputs": [],
   "source": []
  },
  {
   "cell_type": "code",
   "execution_count": 7,
   "id": "9ccb2a23",
   "metadata": {},
   "outputs": [
    {
     "data": {
      "text/html": [
       "<table class=\"dataframe\">\n",
       "<caption>A tibble: 6 × 7</caption>\n",
       "<thead>\n",
       "\t<tr><th scope=col>tag</th><th scope=col>count</th><th scope=col>total_cells</th><th scope=col>frac</th><th scope=col>frac_cutoff</th><th scope=col>n_cells_cutoff</th><th scope=col>n_cells_valid</th></tr>\n",
       "\t<tr><th scope=col>&lt;chr&gt;</th><th scope=col>&lt;int&gt;</th><th scope=col>&lt;int&gt;</th><th scope=col>&lt;dbl&gt;</th><th scope=col>&lt;dbl&gt;</th><th scope=col>&lt;dbl&gt;</th><th scope=col>&lt;lgl&gt;</th></tr>\n",
       "</thead>\n",
       "<tbody>\n",
       "\t<tr><td>Agrp___Day5.obob5v5__v__Day5.obobBL6d5___fgf1_grouping.neg_vs_none             </td><td> 343</td><td>2284</td><td>0.1501751</td><td>0.1</td><td>150</td><td>TRUE</td></tr>\n",
       "\t<tr><td>Agrp___Day5.obob5v5__v__Day5.obobBL6d5___fgf1_grouping.pos_vs_none             </td><td> 514</td><td>2284</td><td>0.2250438</td><td>0.1</td><td>150</td><td>TRUE</td></tr>\n",
       "\t<tr><td>Agrp___Day5.obob5v5__v__Day5.obobBL6d5___restored_grouping.neg_restored_vs_none</td><td> 343</td><td>2284</td><td>0.1501751</td><td>0.1</td><td>150</td><td>TRUE</td></tr>\n",
       "\t<tr><td>Agrp___Day5.obob5v5__v__Day5.obobBL6d5___restored_grouping.pos_restored_vs_none</td><td> 514</td><td>2284</td><td>0.2250438</td><td>0.1</td><td>150</td><td>TRUE</td></tr>\n",
       "\t<tr><td>Agrp___Day5.obob5v5__v__Day5.obobBL6d5___bl6_grouping.neg_vs_none              </td><td> 688</td><td>2284</td><td>0.3012259</td><td>0.1</td><td>150</td><td>TRUE</td></tr>\n",
       "\t<tr><td>Agrp___Day5.obob5v5__v__Day5.obobBL6d5___bl6_grouping.pos_vs_none              </td><td>1406</td><td>2284</td><td>0.6155867</td><td>0.1</td><td>150</td><td>TRUE</td></tr>\n",
       "</tbody>\n",
       "</table>\n"
      ],
      "text/latex": [
       "A tibble: 6 × 7\n",
       "\\begin{tabular}{lllllll}\n",
       " tag & count & total\\_cells & frac & frac\\_cutoff & n\\_cells\\_cutoff & n\\_cells\\_valid\\\\\n",
       " <chr> & <int> & <int> & <dbl> & <dbl> & <dbl> & <lgl>\\\\\n",
       "\\hline\n",
       "\t Agrp\\_\\_\\_Day5.obob5v5\\_\\_v\\_\\_Day5.obobBL6d5\\_\\_\\_fgf1\\_grouping.neg\\_vs\\_none              &  343 & 2284 & 0.1501751 & 0.1 & 150 & TRUE\\\\\n",
       "\t Agrp\\_\\_\\_Day5.obob5v5\\_\\_v\\_\\_Day5.obobBL6d5\\_\\_\\_fgf1\\_grouping.pos\\_vs\\_none              &  514 & 2284 & 0.2250438 & 0.1 & 150 & TRUE\\\\\n",
       "\t Agrp\\_\\_\\_Day5.obob5v5\\_\\_v\\_\\_Day5.obobBL6d5\\_\\_\\_restored\\_grouping.neg\\_restored\\_vs\\_none &  343 & 2284 & 0.1501751 & 0.1 & 150 & TRUE\\\\\n",
       "\t Agrp\\_\\_\\_Day5.obob5v5\\_\\_v\\_\\_Day5.obobBL6d5\\_\\_\\_restored\\_grouping.pos\\_restored\\_vs\\_none &  514 & 2284 & 0.2250438 & 0.1 & 150 & TRUE\\\\\n",
       "\t Agrp\\_\\_\\_Day5.obob5v5\\_\\_v\\_\\_Day5.obobBL6d5\\_\\_\\_bl6\\_grouping.neg\\_vs\\_none               &  688 & 2284 & 0.3012259 & 0.1 & 150 & TRUE\\\\\n",
       "\t Agrp\\_\\_\\_Day5.obob5v5\\_\\_v\\_\\_Day5.obobBL6d5\\_\\_\\_bl6\\_grouping.pos\\_vs\\_none               & 1406 & 2284 & 0.6155867 & 0.1 & 150 & TRUE\\\\\n",
       "\\end{tabular}\n"
      ],
      "text/markdown": [
       "\n",
       "A tibble: 6 × 7\n",
       "\n",
       "| tag &lt;chr&gt; | count &lt;int&gt; | total_cells &lt;int&gt; | frac &lt;dbl&gt; | frac_cutoff &lt;dbl&gt; | n_cells_cutoff &lt;dbl&gt; | n_cells_valid &lt;lgl&gt; |\n",
       "|---|---|---|---|---|---|---|\n",
       "| Agrp___Day5.obob5v5__v__Day5.obobBL6d5___fgf1_grouping.neg_vs_none              |  343 | 2284 | 0.1501751 | 0.1 | 150 | TRUE |\n",
       "| Agrp___Day5.obob5v5__v__Day5.obobBL6d5___fgf1_grouping.pos_vs_none              |  514 | 2284 | 0.2250438 | 0.1 | 150 | TRUE |\n",
       "| Agrp___Day5.obob5v5__v__Day5.obobBL6d5___restored_grouping.neg_restored_vs_none |  343 | 2284 | 0.1501751 | 0.1 | 150 | TRUE |\n",
       "| Agrp___Day5.obob5v5__v__Day5.obobBL6d5___restored_grouping.pos_restored_vs_none |  514 | 2284 | 0.2250438 | 0.1 | 150 | TRUE |\n",
       "| Agrp___Day5.obob5v5__v__Day5.obobBL6d5___bl6_grouping.neg_vs_none               |  688 | 2284 | 0.3012259 | 0.1 | 150 | TRUE |\n",
       "| Agrp___Day5.obob5v5__v__Day5.obobBL6d5___bl6_grouping.pos_vs_none               | 1406 | 2284 | 0.6155867 | 0.1 | 150 | TRUE |\n",
       "\n"
      ],
      "text/plain": [
       "  tag                                                                            \n",
       "1 Agrp___Day5.obob5v5__v__Day5.obobBL6d5___fgf1_grouping.neg_vs_none             \n",
       "2 Agrp___Day5.obob5v5__v__Day5.obobBL6d5___fgf1_grouping.pos_vs_none             \n",
       "3 Agrp___Day5.obob5v5__v__Day5.obobBL6d5___restored_grouping.neg_restored_vs_none\n",
       "4 Agrp___Day5.obob5v5__v__Day5.obobBL6d5___restored_grouping.pos_restored_vs_none\n",
       "5 Agrp___Day5.obob5v5__v__Day5.obobBL6d5___bl6_grouping.neg_vs_none              \n",
       "6 Agrp___Day5.obob5v5__v__Day5.obobBL6d5___bl6_grouping.pos_vs_none              \n",
       "  count total_cells frac      frac_cutoff n_cells_cutoff n_cells_valid\n",
       "1  343  2284        0.1501751 0.1         150            TRUE         \n",
       "2  514  2284        0.2250438 0.1         150            TRUE         \n",
       "3  343  2284        0.1501751 0.1         150            TRUE         \n",
       "4  514  2284        0.2250438 0.1         150            TRUE         \n",
       "5  688  2284        0.3012259 0.1         150            TRUE         \n",
       "6 1406  2284        0.6155867 0.1         150            TRUE         "
      ]
     },
     "metadata": {},
     "output_type": "display_data"
    }
   ],
   "source": [
    "frac_cutoff = 0.10\n",
    "n_cells_cutoff = 150\n",
    "\n",
    "# Create the first tibble\n",
    "fgf1_tibble_new <- fgf1_tibble %>%\n",
    "  pivot_longer(cols = starts_with(\"fgf1_\"), names_to = \"grouping\", values_to = \"count\") %>%\n",
    "  mutate(grouping = str_replace(grouping, \"fgf1_\", \"\")) %>%\n",
    "  mutate(polarity1 = ifelse(grouping == \"none\", NA, grouping),\n",
    "         polarity2 = ifelse(grouping == \"none\", grouping, \"none\")) %>%\n",
    "  mutate(tag = paste0(tag2, \"___fgf1_grouping.\", polarity1, \"_vs_\", polarity2)) %>%\n",
    "  mutate(frac = count/total_cells) %>%\n",
    "  mutate(frac_cutoff = frac_cutoff) %>%\n",
    "  mutate(n_cells_cutoff = n_cells_cutoff) %>%\n",
    "  mutate(n_cells_valid = ifelse(((frac >= frac_cutoff) & (count >= n_cells_cutoff)), TRUE, FALSE)) %>%\n",
    "  select(tag, count, total_cells, frac, frac_cutoff, n_cells_cutoff, n_cells_valid)\n",
    "\n",
    "# Create the second tibble\n",
    "restored_tibble_new <- restored_tibble %>%\n",
    "  pivot_longer(cols = starts_with(\"restored_\"), names_to = \"grouping\", values_to = \"count\") %>%\n",
    "  mutate(grouping = str_replace(grouping, \"restored_\", \"\")) %>%\n",
    "  mutate(polarity1 = ifelse(grouping == \"none\", NA, grouping),\n",
    "         polarity2 = ifelse(grouping == \"none\", grouping, \"none\")) %>%\n",
    "  mutate(tag = paste0(tag2, \"___restored_grouping.\", polarity1, \"_vs_\", polarity2)) %>%\n",
    "  mutate(frac = count/total_cells) %>%\n",
    "  mutate(frac_cutoff = frac_cutoff) %>%\n",
    "  mutate(n_cells_cutoff = n_cells_cutoff) %>%\n",
    "  mutate(n_cells_valid = ifelse(((frac >= frac_cutoff) & (count >= n_cells_cutoff)), TRUE, FALSE)) %>%\n",
    "  select(tag, count, total_cells, frac, frac_cutoff, n_cells_cutoff, n_cells_valid)\n",
    "\n",
    "# Create the second tibble\n",
    "bl6_tibble_new <- bl6_tibble %>%\n",
    "  pivot_longer(cols = starts_with(\"bl6_\"), names_to = \"grouping\", values_to = \"count\") %>%\n",
    "  mutate(grouping = str_replace(grouping, \"bl6_\", \"\")) %>%\n",
    "  mutate(polarity1 = ifelse(grouping == \"none\", NA, grouping),\n",
    "         polarity2 = ifelse(grouping == \"none\", grouping, \"none\")) %>%\n",
    "  mutate(tag = paste0(tag2, \"___bl6_grouping.\", polarity1, \"_vs_\", polarity2)) %>%\n",
    "  mutate(frac = count/total_cells) %>%\n",
    "  mutate(frac_cutoff = frac_cutoff) %>%\n",
    "  mutate(n_cells_cutoff = n_cells_cutoff) %>%\n",
    "  mutate(n_cells_valid = ifelse(((frac >= frac_cutoff) & (count >= n_cells_cutoff)), TRUE, FALSE)) %>%\n",
    "  select(tag, count, total_cells, frac, frac_cutoff, n_cells_cutoff, n_cells_valid)\n",
    "\n",
    "# Bind the rows of the two tibbles\n",
    "new_tibble <- bind_rows(fgf1_tibble_new, restored_tibble_new, bl6_tibble_new) %>%\n",
    "    filter(!str_detect(tag, 'NA'))\n",
    "\n",
    "new_tibble %>% filter(str_detect(tag, 'Agrp___Day5.obob5v5__v__Day5.obobBL6d5'))"
   ]
  },
  {
   "cell_type": "code",
   "execution_count": 8,
   "id": "aa9fdd7d",
   "metadata": {},
   "outputs": [
    {
     "data": {
      "text/html": [
       "<table class=\"dataframe\">\n",
       "<caption>A tibble: 64 × 7</caption>\n",
       "<thead>\n",
       "\t<tr><th scope=col>tag</th><th scope=col>count</th><th scope=col>total_cells</th><th scope=col>frac</th><th scope=col>frac_cutoff</th><th scope=col>n_cells_cutoff</th><th scope=col>n_cells_valid</th></tr>\n",
       "\t<tr><th scope=col>&lt;chr&gt;</th><th scope=col>&lt;int&gt;</th><th scope=col>&lt;int&gt;</th><th scope=col>&lt;dbl&gt;</th><th scope=col>&lt;dbl&gt;</th><th scope=col>&lt;dbl&gt;</th><th scope=col>&lt;lgl&gt;</th></tr>\n",
       "</thead>\n",
       "<tbody>\n",
       "\t<tr><td>Tbx19__Pirt___Day5.obob5v5__v__Day5.obobBL6d5___fgf1_grouping.neg_vs_none                     </td><td>122</td><td>1183</td><td>0.1031276</td><td>0.1</td><td>150</td><td>FALSE</td></tr>\n",
       "\t<tr><td>Tbx19__Pirt___Day5.obob5v5__v__Day5.obobBL6d5___restored_grouping.neg_restored_vs_none        </td><td>122</td><td>1183</td><td>0.1031276</td><td>0.1</td><td>150</td><td>FALSE</td></tr>\n",
       "\t<tr><td>Tanycytes___Day5.obob5v5__v__Day5.obobBL6d5___fgf1_grouping.pos_vs_none                       </td><td>528</td><td>5005</td><td>0.1054945</td><td>0.1</td><td>150</td><td> TRUE</td></tr>\n",
       "\t<tr><td>Tanycytes___Day5.obob5v5__v__Day5.obobBL6d5___restored_grouping.pos_restored_vs_none          </td><td>528</td><td>5005</td><td>0.1054945</td><td>0.1</td><td>150</td><td> TRUE</td></tr>\n",
       "\t<tr><td>Sst__Unc13c___Day5.obob5v5__v__Day5.obobBL6d5___fgf1_grouping.pos_vs_none                     </td><td>163</td><td>1535</td><td>0.1061889</td><td>0.1</td><td>150</td><td> TRUE</td></tr>\n",
       "\t<tr><td>Sst__Unc13c___Day5.obob5v5__v__Day5.obobBL6d5___restored_grouping.pos_restored_vs_none        </td><td>163</td><td>1535</td><td>0.1061889</td><td>0.1</td><td>150</td><td> TRUE</td></tr>\n",
       "\t<tr><td>Nfix__Nfib___Day14.obob14v14__v__Day14.obobBL6d14___fgf1_grouping.neg_vs_none                 </td><td>102</td><td> 946</td><td>0.1078224</td><td>0.1</td><td>150</td><td>FALSE</td></tr>\n",
       "\t<tr><td>Nfix__Nfib___Day14.obob14v14__v__Day14.obobBL6d14___restored_grouping.neg_restored_vs_none    </td><td>102</td><td> 946</td><td>0.1078224</td><td>0.1</td><td>150</td><td>FALSE</td></tr>\n",
       "\t<tr><td>n1___Day5.obob5v5__v__Day5.obobBL6d5___fgf1_grouping.pos_vs_none                              </td><td>627</td><td>5198</td><td>0.1206233</td><td>0.1</td><td>150</td><td> TRUE</td></tr>\n",
       "\t<tr><td>n1___Day5.obob5v5__v__Day5.obobBL6d5___restored_grouping.pos_restored_vs_none                 </td><td>627</td><td>5198</td><td>0.1206233</td><td>0.1</td><td>150</td><td> TRUE</td></tr>\n",
       "\t<tr><td>Tbx19__Pirt___Day5.obob5v5__v__Day5.obobBL6d5___fgf1_grouping.pos_vs_none                     </td><td>147</td><td>1183</td><td>0.1242604</td><td>0.1</td><td>150</td><td>FALSE</td></tr>\n",
       "\t<tr><td>Tbx19__Pirt___Day5.obob5v5__v__Day5.obobBL6d5___restored_grouping.pos_restored_vs_none        </td><td>147</td><td>1183</td><td>0.1242604</td><td>0.1</td><td>150</td><td>FALSE</td></tr>\n",
       "\t<tr><td>Pou6f2__Prkcq__Whrn___Day5.obob5v5__v__Day5.obobBL6d5___fgf1_grouping.pos_vs_none             </td><td>136</td><td>1085</td><td>0.1253456</td><td>0.1</td><td>150</td><td>FALSE</td></tr>\n",
       "\t<tr><td>Pou6f2__Prkcq__Whrn___Day5.obob5v5__v__Day5.obobBL6d5___restored_grouping.pos_restored_vs_none</td><td>136</td><td>1085</td><td>0.1253456</td><td>0.1</td><td>150</td><td>FALSE</td></tr>\n",
       "\t<tr><td>Kiss1__Tac2___Day5.obob5v5__v__Day5.obobBL6d5___fgf1_grouping.neg_vs_none                     </td><td>215</td><td>1519</td><td>0.1415405</td><td>0.1</td><td>150</td><td> TRUE</td></tr>\n",
       "\t<tr><td>Kiss1__Tac2___Day5.obob5v5__v__Day5.obobBL6d5___restored_grouping.neg_restored_vs_none        </td><td>215</td><td>1519</td><td>0.1415405</td><td>0.1</td><td>150</td><td> TRUE</td></tr>\n",
       "\t<tr><td>Ghrh___Day5.obob5v5__v__Day5.obobBL6d5___fgf1_grouping.pos_vs_none                            </td><td>157</td><td>1063</td><td>0.1476952</td><td>0.1</td><td>150</td><td> TRUE</td></tr>\n",
       "\t<tr><td>Ghrh___Day5.obob5v5__v__Day5.obobBL6d5___restored_grouping.pos_restored_vs_none               </td><td>157</td><td>1063</td><td>0.1476952</td><td>0.1</td><td>150</td><td> TRUE</td></tr>\n",
       "\t<tr><td>Agrp___Day5.obob5v5__v__Day5.obobBL6d5___fgf1_grouping.neg_vs_none                            </td><td>343</td><td>2284</td><td>0.1501751</td><td>0.1</td><td>150</td><td> TRUE</td></tr>\n",
       "\t<tr><td>Agrp___Day5.obob5v5__v__Day5.obobBL6d5___restored_grouping.neg_restored_vs_none               </td><td>343</td><td>2284</td><td>0.1501751</td><td>0.1</td><td>150</td><td> TRUE</td></tr>\n",
       "\t<tr><td>Oligodendrocytes___Day5.obob5v5__v__Day5.obobBL6d5___fgf1_grouping.pos_vs_none                </td><td>163</td><td>1079</td><td>0.1510658</td><td>0.1</td><td>150</td><td> TRUE</td></tr>\n",
       "\t<tr><td>Oligodendrocytes___Day5.obob5v5__v__Day5.obobBL6d5___restored_grouping.pos_restored_vs_none   </td><td>163</td><td>1079</td><td>0.1510658</td><td>0.1</td><td>150</td><td> TRUE</td></tr>\n",
       "\t<tr><td>Oligodendrocytes___Day5.obob5v5__v__Day5.obobBL6d5___fgf1_grouping.neg_vs_none                </td><td>168</td><td>1079</td><td>0.1556997</td><td>0.1</td><td>150</td><td> TRUE</td></tr>\n",
       "\t<tr><td>Oligodendrocytes___Day5.obob5v5__v__Day5.obobBL6d5___restored_grouping.neg_restored_vs_none   </td><td>168</td><td>1079</td><td>0.1556997</td><td>0.1</td><td>150</td><td> TRUE</td></tr>\n",
       "\t<tr><td>g3___Day5.obob5v5__v__Day5.obobBL6d5___fgf1_grouping.neg_vs_none                              </td><td>388</td><td>2456</td><td>0.1579805</td><td>0.1</td><td>150</td><td> TRUE</td></tr>\n",
       "\t<tr><td>g3___Day5.obob5v5__v__Day5.obobBL6d5___restored_grouping.neg_restored_vs_none                 </td><td>388</td><td>2456</td><td>0.1579805</td><td>0.1</td><td>150</td><td> TRUE</td></tr>\n",
       "\t<tr><td>Sst__Pthlh___Day5.obob5v5__v__Day5.obobBL6d5___fgf1_grouping.pos_vs_none                      </td><td>121</td><td> 742</td><td>0.1630728</td><td>0.1</td><td>150</td><td>FALSE</td></tr>\n",
       "\t<tr><td>Sst__Pthlh___Day5.obob5v5__v__Day5.obobBL6d5___restored_grouping.pos_restored_vs_none         </td><td>121</td><td> 742</td><td>0.1630728</td><td>0.1</td><td>150</td><td>FALSE</td></tr>\n",
       "\t<tr><td>g3___Day5.obob5v5__v__Day5.obobBL6d5___fgf1_grouping.pos_vs_none                              </td><td>412</td><td>2456</td><td>0.1677524</td><td>0.1</td><td>150</td><td> TRUE</td></tr>\n",
       "\t<tr><td>g3___Day5.obob5v5__v__Day5.obobBL6d5___restored_grouping.pos_restored_vs_none                 </td><td>412</td><td>2456</td><td>0.1677524</td><td>0.1</td><td>150</td><td> TRUE</td></tr>\n",
       "\t<tr><td>⋮</td><td>⋮</td><td>⋮</td><td>⋮</td><td>⋮</td><td>⋮</td><td>⋮</td></tr>\n",
       "\t<tr><td>g2___Day5.obob5v5__v__Day5.obobBL6d5___fgf1_grouping.pos_vs_none                       </td><td>1264</td><td> 6261</td><td>0.2018847</td><td>0.1</td><td>150</td><td> TRUE</td></tr>\n",
       "\t<tr><td>g2___Day5.obob5v5__v__Day5.obobBL6d5___restored_grouping.pos_restored_vs_none          </td><td>1264</td><td> 6261</td><td>0.2018847</td><td>0.1</td><td>150</td><td> TRUE</td></tr>\n",
       "\t<tr><td>Th__Slc6a3___Day5.obob5v5__v__Day5.obobBL6d5___fgf1_grouping.pos_vs_none               </td><td> 114</td><td>  562</td><td>0.2028470</td><td>0.1</td><td>150</td><td>FALSE</td></tr>\n",
       "\t<tr><td>Th__Slc6a3___Day5.obob5v5__v__Day5.obobBL6d5___restored_grouping.pos_restored_vs_none  </td><td> 114</td><td>  562</td><td>0.2028470</td><td>0.1</td><td>150</td><td>FALSE</td></tr>\n",
       "\t<tr><td>Astrocytes___Day5.obob5v5__v__Day5.obobBL6d5___fgf1_grouping.pos_vs_none               </td><td>1299</td><td> 6361</td><td>0.2042132</td><td>0.1</td><td>150</td><td> TRUE</td></tr>\n",
       "\t<tr><td>Astrocytes___Day5.obob5v5__v__Day5.obobBL6d5___restored_grouping.pos_restored_vs_none  </td><td>1299</td><td> 6361</td><td>0.2042132</td><td>0.1</td><td>150</td><td> TRUE</td></tr>\n",
       "\t<tr><td>Pomc__Glipr1___Day5.obob5v5__v__Day5.obobBL6d5___fgf1_grouping.neg_vs_none             </td><td> 246</td><td> 1204</td><td>0.2043189</td><td>0.1</td><td>150</td><td> TRUE</td></tr>\n",
       "\t<tr><td>Pomc__Glipr1___Day5.obob5v5__v__Day5.obobBL6d5___restored_grouping.neg_restored_vs_none</td><td> 246</td><td> 1204</td><td>0.2043189</td><td>0.1</td><td>150</td><td> TRUE</td></tr>\n",
       "\t<tr><td>Trh__Lef1___Day5.obob5v5__v__Day5.obobBL6d5___fgf1_grouping.neg_vs_none                </td><td> 324</td><td> 1571</td><td>0.2062381</td><td>0.1</td><td>150</td><td> TRUE</td></tr>\n",
       "\t<tr><td>Trh__Lef1___Day5.obob5v5__v__Day5.obobBL6d5___restored_grouping.neg_restored_vs_none   </td><td> 324</td><td> 1571</td><td>0.2062381</td><td>0.1</td><td>150</td><td> TRUE</td></tr>\n",
       "\t<tr><td>Trh__Lef1___Day5.obob5v5__v__Day5.obobBL6d5___fgf1_grouping.pos_vs_none                </td><td> 330</td><td> 1571</td><td>0.2100573</td><td>0.1</td><td>150</td><td> TRUE</td></tr>\n",
       "\t<tr><td>Trh__Lef1___Day5.obob5v5__v__Day5.obobBL6d5___restored_grouping.pos_restored_vs_none   </td><td> 330</td><td> 1571</td><td>0.2100573</td><td>0.1</td><td>150</td><td> TRUE</td></tr>\n",
       "\t<tr><td>Agrp___Day5.obob5v5__v__Day5.obobBL6d5___fgf1_grouping.pos_vs_none                     </td><td> 514</td><td> 2284</td><td>0.2250438</td><td>0.1</td><td>150</td><td> TRUE</td></tr>\n",
       "\t<tr><td>Agrp___Day5.obob5v5__v__Day5.obobBL6d5___restored_grouping.pos_restored_vs_none        </td><td> 514</td><td> 2284</td><td>0.2250438</td><td>0.1</td><td>150</td><td> TRUE</td></tr>\n",
       "\t<tr><td>Ghrh___Day5.obob5v5__v__Day5.obobBL6d5___fgf1_grouping.neg_vs_none                     </td><td> 261</td><td> 1063</td><td>0.2455315</td><td>0.1</td><td>150</td><td> TRUE</td></tr>\n",
       "\t<tr><td>Ghrh___Day5.obob5v5__v__Day5.obobBL6d5___restored_grouping.neg_restored_vs_none        </td><td> 261</td><td> 1063</td><td>0.2455315</td><td>0.1</td><td>150</td><td> TRUE</td></tr>\n",
       "\t<tr><td>OPC___Day5.obob5v5__v__Day5.obobBL6d5___fgf1_grouping.pos_vs_none                      </td><td> 382</td><td> 1485</td><td>0.2572391</td><td>0.1</td><td>150</td><td> TRUE</td></tr>\n",
       "\t<tr><td>OPC___Day5.obob5v5__v__Day5.obobBL6d5___restored_grouping.pos_restored_vs_none         </td><td> 382</td><td> 1485</td><td>0.2572391</td><td>0.1</td><td>150</td><td> TRUE</td></tr>\n",
       "\t<tr><td>Htr3b___Day5.obob5v5__v__Day5.obobBL6d5___fgf1_grouping.neg_vs_none                    </td><td> 527</td><td> 1906</td><td>0.2764953</td><td>0.1</td><td>150</td><td> TRUE</td></tr>\n",
       "\t<tr><td>Htr3b___Day5.obob5v5__v__Day5.obobBL6d5___restored_grouping.neg_restored_vs_none       </td><td> 527</td><td> 1906</td><td>0.2764953</td><td>0.1</td><td>150</td><td> TRUE</td></tr>\n",
       "\t<tr><td>g2___Day5.obob5v5__v__Day5.obobBL6d5___fgf1_grouping.neg_vs_none                       </td><td>1831</td><td> 6261</td><td>0.2924453</td><td>0.1</td><td>150</td><td> TRUE</td></tr>\n",
       "\t<tr><td>g2___Day5.obob5v5__v__Day5.obobBL6d5___restored_grouping.neg_restored_vs_none          </td><td>1831</td><td> 6261</td><td>0.2924453</td><td>0.1</td><td>150</td><td> TRUE</td></tr>\n",
       "\t<tr><td>Astrocytes___Day5.obob5v5__v__Day5.obobBL6d5___fgf1_grouping.neg_vs_none               </td><td>1897</td><td> 6361</td><td>0.2982235</td><td>0.1</td><td>150</td><td> TRUE</td></tr>\n",
       "\t<tr><td>Astrocytes___Day5.obob5v5__v__Day5.obobBL6d5___restored_grouping.neg_restored_vs_none  </td><td>1897</td><td> 6361</td><td>0.2982235</td><td>0.1</td><td>150</td><td> TRUE</td></tr>\n",
       "\t<tr><td>other___Day5.obob5v5__v__Day5.obobBL6d5___fgf1_grouping.neg_vs_none                    </td><td>4701</td><td>15029</td><td>0.3127953</td><td>0.1</td><td>150</td><td> TRUE</td></tr>\n",
       "\t<tr><td>other___Day5.obob5v5__v__Day5.obobBL6d5___restored_grouping.neg_restored_vs_none       </td><td>4701</td><td>15029</td><td>0.3127953</td><td>0.1</td><td>150</td><td> TRUE</td></tr>\n",
       "\t<tr><td>Htr3b___Day5.obob5v5__v__Day5.obobBL6d5___fgf1_grouping.pos_vs_none                    </td><td> 628</td><td> 1906</td><td>0.3294858</td><td>0.1</td><td>150</td><td> TRUE</td></tr>\n",
       "\t<tr><td>Htr3b___Day5.obob5v5__v__Day5.obobBL6d5___restored_grouping.pos_restored_vs_none       </td><td> 628</td><td> 1906</td><td>0.3294858</td><td>0.1</td><td>150</td><td> TRUE</td></tr>\n",
       "\t<tr><td>OPC___Day5.obob5v5__v__Day5.obobBL6d5___fgf1_grouping.neg_vs_none                      </td><td> 546</td><td> 1485</td><td>0.3676768</td><td>0.1</td><td>150</td><td> TRUE</td></tr>\n",
       "\t<tr><td>OPC___Day5.obob5v5__v__Day5.obobBL6d5___restored_grouping.neg_restored_vs_none         </td><td> 546</td><td> 1485</td><td>0.3676768</td><td>0.1</td><td>150</td><td> TRUE</td></tr>\n",
       "</tbody>\n",
       "</table>\n"
      ],
      "text/latex": [
       "A tibble: 64 × 7\n",
       "\\begin{tabular}{lllllll}\n",
       " tag & count & total\\_cells & frac & frac\\_cutoff & n\\_cells\\_cutoff & n\\_cells\\_valid\\\\\n",
       " <chr> & <int> & <int> & <dbl> & <dbl> & <dbl> & <lgl>\\\\\n",
       "\\hline\n",
       "\t Tbx19\\_\\_Pirt\\_\\_\\_Day5.obob5v5\\_\\_v\\_\\_Day5.obobBL6d5\\_\\_\\_fgf1\\_grouping.neg\\_vs\\_none                      & 122 & 1183 & 0.1031276 & 0.1 & 150 & FALSE\\\\\n",
       "\t Tbx19\\_\\_Pirt\\_\\_\\_Day5.obob5v5\\_\\_v\\_\\_Day5.obobBL6d5\\_\\_\\_restored\\_grouping.neg\\_restored\\_vs\\_none         & 122 & 1183 & 0.1031276 & 0.1 & 150 & FALSE\\\\\n",
       "\t Tanycytes\\_\\_\\_Day5.obob5v5\\_\\_v\\_\\_Day5.obobBL6d5\\_\\_\\_fgf1\\_grouping.pos\\_vs\\_none                        & 528 & 5005 & 0.1054945 & 0.1 & 150 &  TRUE\\\\\n",
       "\t Tanycytes\\_\\_\\_Day5.obob5v5\\_\\_v\\_\\_Day5.obobBL6d5\\_\\_\\_restored\\_grouping.pos\\_restored\\_vs\\_none           & 528 & 5005 & 0.1054945 & 0.1 & 150 &  TRUE\\\\\n",
       "\t Sst\\_\\_Unc13c\\_\\_\\_Day5.obob5v5\\_\\_v\\_\\_Day5.obobBL6d5\\_\\_\\_fgf1\\_grouping.pos\\_vs\\_none                      & 163 & 1535 & 0.1061889 & 0.1 & 150 &  TRUE\\\\\n",
       "\t Sst\\_\\_Unc13c\\_\\_\\_Day5.obob5v5\\_\\_v\\_\\_Day5.obobBL6d5\\_\\_\\_restored\\_grouping.pos\\_restored\\_vs\\_none         & 163 & 1535 & 0.1061889 & 0.1 & 150 &  TRUE\\\\\n",
       "\t Nfix\\_\\_Nfib\\_\\_\\_Day14.obob14v14\\_\\_v\\_\\_Day14.obobBL6d14\\_\\_\\_fgf1\\_grouping.neg\\_vs\\_none                  & 102 &  946 & 0.1078224 & 0.1 & 150 & FALSE\\\\\n",
       "\t Nfix\\_\\_Nfib\\_\\_\\_Day14.obob14v14\\_\\_v\\_\\_Day14.obobBL6d14\\_\\_\\_restored\\_grouping.neg\\_restored\\_vs\\_none     & 102 &  946 & 0.1078224 & 0.1 & 150 & FALSE\\\\\n",
       "\t n1\\_\\_\\_Day5.obob5v5\\_\\_v\\_\\_Day5.obobBL6d5\\_\\_\\_fgf1\\_grouping.pos\\_vs\\_none                               & 627 & 5198 & 0.1206233 & 0.1 & 150 &  TRUE\\\\\n",
       "\t n1\\_\\_\\_Day5.obob5v5\\_\\_v\\_\\_Day5.obobBL6d5\\_\\_\\_restored\\_grouping.pos\\_restored\\_vs\\_none                  & 627 & 5198 & 0.1206233 & 0.1 & 150 &  TRUE\\\\\n",
       "\t Tbx19\\_\\_Pirt\\_\\_\\_Day5.obob5v5\\_\\_v\\_\\_Day5.obobBL6d5\\_\\_\\_fgf1\\_grouping.pos\\_vs\\_none                      & 147 & 1183 & 0.1242604 & 0.1 & 150 & FALSE\\\\\n",
       "\t Tbx19\\_\\_Pirt\\_\\_\\_Day5.obob5v5\\_\\_v\\_\\_Day5.obobBL6d5\\_\\_\\_restored\\_grouping.pos\\_restored\\_vs\\_none         & 147 & 1183 & 0.1242604 & 0.1 & 150 & FALSE\\\\\n",
       "\t Pou6f2\\_\\_Prkcq\\_\\_Whrn\\_\\_\\_Day5.obob5v5\\_\\_v\\_\\_Day5.obobBL6d5\\_\\_\\_fgf1\\_grouping.pos\\_vs\\_none              & 136 & 1085 & 0.1253456 & 0.1 & 150 & FALSE\\\\\n",
       "\t Pou6f2\\_\\_Prkcq\\_\\_Whrn\\_\\_\\_Day5.obob5v5\\_\\_v\\_\\_Day5.obobBL6d5\\_\\_\\_restored\\_grouping.pos\\_restored\\_vs\\_none & 136 & 1085 & 0.1253456 & 0.1 & 150 & FALSE\\\\\n",
       "\t Kiss1\\_\\_Tac2\\_\\_\\_Day5.obob5v5\\_\\_v\\_\\_Day5.obobBL6d5\\_\\_\\_fgf1\\_grouping.neg\\_vs\\_none                      & 215 & 1519 & 0.1415405 & 0.1 & 150 &  TRUE\\\\\n",
       "\t Kiss1\\_\\_Tac2\\_\\_\\_Day5.obob5v5\\_\\_v\\_\\_Day5.obobBL6d5\\_\\_\\_restored\\_grouping.neg\\_restored\\_vs\\_none         & 215 & 1519 & 0.1415405 & 0.1 & 150 &  TRUE\\\\\n",
       "\t Ghrh\\_\\_\\_Day5.obob5v5\\_\\_v\\_\\_Day5.obobBL6d5\\_\\_\\_fgf1\\_grouping.pos\\_vs\\_none                             & 157 & 1063 & 0.1476952 & 0.1 & 150 &  TRUE\\\\\n",
       "\t Ghrh\\_\\_\\_Day5.obob5v5\\_\\_v\\_\\_Day5.obobBL6d5\\_\\_\\_restored\\_grouping.pos\\_restored\\_vs\\_none                & 157 & 1063 & 0.1476952 & 0.1 & 150 &  TRUE\\\\\n",
       "\t Agrp\\_\\_\\_Day5.obob5v5\\_\\_v\\_\\_Day5.obobBL6d5\\_\\_\\_fgf1\\_grouping.neg\\_vs\\_none                             & 343 & 2284 & 0.1501751 & 0.1 & 150 &  TRUE\\\\\n",
       "\t Agrp\\_\\_\\_Day5.obob5v5\\_\\_v\\_\\_Day5.obobBL6d5\\_\\_\\_restored\\_grouping.neg\\_restored\\_vs\\_none                & 343 & 2284 & 0.1501751 & 0.1 & 150 &  TRUE\\\\\n",
       "\t Oligodendrocytes\\_\\_\\_Day5.obob5v5\\_\\_v\\_\\_Day5.obobBL6d5\\_\\_\\_fgf1\\_grouping.pos\\_vs\\_none                 & 163 & 1079 & 0.1510658 & 0.1 & 150 &  TRUE\\\\\n",
       "\t Oligodendrocytes\\_\\_\\_Day5.obob5v5\\_\\_v\\_\\_Day5.obobBL6d5\\_\\_\\_restored\\_grouping.pos\\_restored\\_vs\\_none    & 163 & 1079 & 0.1510658 & 0.1 & 150 &  TRUE\\\\\n",
       "\t Oligodendrocytes\\_\\_\\_Day5.obob5v5\\_\\_v\\_\\_Day5.obobBL6d5\\_\\_\\_fgf1\\_grouping.neg\\_vs\\_none                 & 168 & 1079 & 0.1556997 & 0.1 & 150 &  TRUE\\\\\n",
       "\t Oligodendrocytes\\_\\_\\_Day5.obob5v5\\_\\_v\\_\\_Day5.obobBL6d5\\_\\_\\_restored\\_grouping.neg\\_restored\\_vs\\_none    & 168 & 1079 & 0.1556997 & 0.1 & 150 &  TRUE\\\\\n",
       "\t g3\\_\\_\\_Day5.obob5v5\\_\\_v\\_\\_Day5.obobBL6d5\\_\\_\\_fgf1\\_grouping.neg\\_vs\\_none                               & 388 & 2456 & 0.1579805 & 0.1 & 150 &  TRUE\\\\\n",
       "\t g3\\_\\_\\_Day5.obob5v5\\_\\_v\\_\\_Day5.obobBL6d5\\_\\_\\_restored\\_grouping.neg\\_restored\\_vs\\_none                  & 388 & 2456 & 0.1579805 & 0.1 & 150 &  TRUE\\\\\n",
       "\t Sst\\_\\_Pthlh\\_\\_\\_Day5.obob5v5\\_\\_v\\_\\_Day5.obobBL6d5\\_\\_\\_fgf1\\_grouping.pos\\_vs\\_none                       & 121 &  742 & 0.1630728 & 0.1 & 150 & FALSE\\\\\n",
       "\t Sst\\_\\_Pthlh\\_\\_\\_Day5.obob5v5\\_\\_v\\_\\_Day5.obobBL6d5\\_\\_\\_restored\\_grouping.pos\\_restored\\_vs\\_none          & 121 &  742 & 0.1630728 & 0.1 & 150 & FALSE\\\\\n",
       "\t g3\\_\\_\\_Day5.obob5v5\\_\\_v\\_\\_Day5.obobBL6d5\\_\\_\\_fgf1\\_grouping.pos\\_vs\\_none                               & 412 & 2456 & 0.1677524 & 0.1 & 150 &  TRUE\\\\\n",
       "\t g3\\_\\_\\_Day5.obob5v5\\_\\_v\\_\\_Day5.obobBL6d5\\_\\_\\_restored\\_grouping.pos\\_restored\\_vs\\_none                  & 412 & 2456 & 0.1677524 & 0.1 & 150 &  TRUE\\\\\n",
       "\t ⋮ & ⋮ & ⋮ & ⋮ & ⋮ & ⋮ & ⋮\\\\\n",
       "\t g2\\_\\_\\_Day5.obob5v5\\_\\_v\\_\\_Day5.obobBL6d5\\_\\_\\_fgf1\\_grouping.pos\\_vs\\_none                        & 1264 &  6261 & 0.2018847 & 0.1 & 150 &  TRUE\\\\\n",
       "\t g2\\_\\_\\_Day5.obob5v5\\_\\_v\\_\\_Day5.obobBL6d5\\_\\_\\_restored\\_grouping.pos\\_restored\\_vs\\_none           & 1264 &  6261 & 0.2018847 & 0.1 & 150 &  TRUE\\\\\n",
       "\t Th\\_\\_Slc6a3\\_\\_\\_Day5.obob5v5\\_\\_v\\_\\_Day5.obobBL6d5\\_\\_\\_fgf1\\_grouping.pos\\_vs\\_none                &  114 &   562 & 0.2028470 & 0.1 & 150 & FALSE\\\\\n",
       "\t Th\\_\\_Slc6a3\\_\\_\\_Day5.obob5v5\\_\\_v\\_\\_Day5.obobBL6d5\\_\\_\\_restored\\_grouping.pos\\_restored\\_vs\\_none   &  114 &   562 & 0.2028470 & 0.1 & 150 & FALSE\\\\\n",
       "\t Astrocytes\\_\\_\\_Day5.obob5v5\\_\\_v\\_\\_Day5.obobBL6d5\\_\\_\\_fgf1\\_grouping.pos\\_vs\\_none                & 1299 &  6361 & 0.2042132 & 0.1 & 150 &  TRUE\\\\\n",
       "\t Astrocytes\\_\\_\\_Day5.obob5v5\\_\\_v\\_\\_Day5.obobBL6d5\\_\\_\\_restored\\_grouping.pos\\_restored\\_vs\\_none   & 1299 &  6361 & 0.2042132 & 0.1 & 150 &  TRUE\\\\\n",
       "\t Pomc\\_\\_Glipr1\\_\\_\\_Day5.obob5v5\\_\\_v\\_\\_Day5.obobBL6d5\\_\\_\\_fgf1\\_grouping.neg\\_vs\\_none              &  246 &  1204 & 0.2043189 & 0.1 & 150 &  TRUE\\\\\n",
       "\t Pomc\\_\\_Glipr1\\_\\_\\_Day5.obob5v5\\_\\_v\\_\\_Day5.obobBL6d5\\_\\_\\_restored\\_grouping.neg\\_restored\\_vs\\_none &  246 &  1204 & 0.2043189 & 0.1 & 150 &  TRUE\\\\\n",
       "\t Trh\\_\\_Lef1\\_\\_\\_Day5.obob5v5\\_\\_v\\_\\_Day5.obobBL6d5\\_\\_\\_fgf1\\_grouping.neg\\_vs\\_none                 &  324 &  1571 & 0.2062381 & 0.1 & 150 &  TRUE\\\\\n",
       "\t Trh\\_\\_Lef1\\_\\_\\_Day5.obob5v5\\_\\_v\\_\\_Day5.obobBL6d5\\_\\_\\_restored\\_grouping.neg\\_restored\\_vs\\_none    &  324 &  1571 & 0.2062381 & 0.1 & 150 &  TRUE\\\\\n",
       "\t Trh\\_\\_Lef1\\_\\_\\_Day5.obob5v5\\_\\_v\\_\\_Day5.obobBL6d5\\_\\_\\_fgf1\\_grouping.pos\\_vs\\_none                 &  330 &  1571 & 0.2100573 & 0.1 & 150 &  TRUE\\\\\n",
       "\t Trh\\_\\_Lef1\\_\\_\\_Day5.obob5v5\\_\\_v\\_\\_Day5.obobBL6d5\\_\\_\\_restored\\_grouping.pos\\_restored\\_vs\\_none    &  330 &  1571 & 0.2100573 & 0.1 & 150 &  TRUE\\\\\n",
       "\t Agrp\\_\\_\\_Day5.obob5v5\\_\\_v\\_\\_Day5.obobBL6d5\\_\\_\\_fgf1\\_grouping.pos\\_vs\\_none                      &  514 &  2284 & 0.2250438 & 0.1 & 150 &  TRUE\\\\\n",
       "\t Agrp\\_\\_\\_Day5.obob5v5\\_\\_v\\_\\_Day5.obobBL6d5\\_\\_\\_restored\\_grouping.pos\\_restored\\_vs\\_none         &  514 &  2284 & 0.2250438 & 0.1 & 150 &  TRUE\\\\\n",
       "\t Ghrh\\_\\_\\_Day5.obob5v5\\_\\_v\\_\\_Day5.obobBL6d5\\_\\_\\_fgf1\\_grouping.neg\\_vs\\_none                      &  261 &  1063 & 0.2455315 & 0.1 & 150 &  TRUE\\\\\n",
       "\t Ghrh\\_\\_\\_Day5.obob5v5\\_\\_v\\_\\_Day5.obobBL6d5\\_\\_\\_restored\\_grouping.neg\\_restored\\_vs\\_none         &  261 &  1063 & 0.2455315 & 0.1 & 150 &  TRUE\\\\\n",
       "\t OPC\\_\\_\\_Day5.obob5v5\\_\\_v\\_\\_Day5.obobBL6d5\\_\\_\\_fgf1\\_grouping.pos\\_vs\\_none                       &  382 &  1485 & 0.2572391 & 0.1 & 150 &  TRUE\\\\\n",
       "\t OPC\\_\\_\\_Day5.obob5v5\\_\\_v\\_\\_Day5.obobBL6d5\\_\\_\\_restored\\_grouping.pos\\_restored\\_vs\\_none          &  382 &  1485 & 0.2572391 & 0.1 & 150 &  TRUE\\\\\n",
       "\t Htr3b\\_\\_\\_Day5.obob5v5\\_\\_v\\_\\_Day5.obobBL6d5\\_\\_\\_fgf1\\_grouping.neg\\_vs\\_none                     &  527 &  1906 & 0.2764953 & 0.1 & 150 &  TRUE\\\\\n",
       "\t Htr3b\\_\\_\\_Day5.obob5v5\\_\\_v\\_\\_Day5.obobBL6d5\\_\\_\\_restored\\_grouping.neg\\_restored\\_vs\\_none        &  527 &  1906 & 0.2764953 & 0.1 & 150 &  TRUE\\\\\n",
       "\t g2\\_\\_\\_Day5.obob5v5\\_\\_v\\_\\_Day5.obobBL6d5\\_\\_\\_fgf1\\_grouping.neg\\_vs\\_none                        & 1831 &  6261 & 0.2924453 & 0.1 & 150 &  TRUE\\\\\n",
       "\t g2\\_\\_\\_Day5.obob5v5\\_\\_v\\_\\_Day5.obobBL6d5\\_\\_\\_restored\\_grouping.neg\\_restored\\_vs\\_none           & 1831 &  6261 & 0.2924453 & 0.1 & 150 &  TRUE\\\\\n",
       "\t Astrocytes\\_\\_\\_Day5.obob5v5\\_\\_v\\_\\_Day5.obobBL6d5\\_\\_\\_fgf1\\_grouping.neg\\_vs\\_none                & 1897 &  6361 & 0.2982235 & 0.1 & 150 &  TRUE\\\\\n",
       "\t Astrocytes\\_\\_\\_Day5.obob5v5\\_\\_v\\_\\_Day5.obobBL6d5\\_\\_\\_restored\\_grouping.neg\\_restored\\_vs\\_none   & 1897 &  6361 & 0.2982235 & 0.1 & 150 &  TRUE\\\\\n",
       "\t other\\_\\_\\_Day5.obob5v5\\_\\_v\\_\\_Day5.obobBL6d5\\_\\_\\_fgf1\\_grouping.neg\\_vs\\_none                     & 4701 & 15029 & 0.3127953 & 0.1 & 150 &  TRUE\\\\\n",
       "\t other\\_\\_\\_Day5.obob5v5\\_\\_v\\_\\_Day5.obobBL6d5\\_\\_\\_restored\\_grouping.neg\\_restored\\_vs\\_none        & 4701 & 15029 & 0.3127953 & 0.1 & 150 &  TRUE\\\\\n",
       "\t Htr3b\\_\\_\\_Day5.obob5v5\\_\\_v\\_\\_Day5.obobBL6d5\\_\\_\\_fgf1\\_grouping.pos\\_vs\\_none                     &  628 &  1906 & 0.3294858 & 0.1 & 150 &  TRUE\\\\\n",
       "\t Htr3b\\_\\_\\_Day5.obob5v5\\_\\_v\\_\\_Day5.obobBL6d5\\_\\_\\_restored\\_grouping.pos\\_restored\\_vs\\_none        &  628 &  1906 & 0.3294858 & 0.1 & 150 &  TRUE\\\\\n",
       "\t OPC\\_\\_\\_Day5.obob5v5\\_\\_v\\_\\_Day5.obobBL6d5\\_\\_\\_fgf1\\_grouping.neg\\_vs\\_none                       &  546 &  1485 & 0.3676768 & 0.1 & 150 &  TRUE\\\\\n",
       "\t OPC\\_\\_\\_Day5.obob5v5\\_\\_v\\_\\_Day5.obobBL6d5\\_\\_\\_restored\\_grouping.neg\\_restored\\_vs\\_none          &  546 &  1485 & 0.3676768 & 0.1 & 150 &  TRUE\\\\\n",
       "\\end{tabular}\n"
      ],
      "text/markdown": [
       "\n",
       "A tibble: 64 × 7\n",
       "\n",
       "| tag &lt;chr&gt; | count &lt;int&gt; | total_cells &lt;int&gt; | frac &lt;dbl&gt; | frac_cutoff &lt;dbl&gt; | n_cells_cutoff &lt;dbl&gt; | n_cells_valid &lt;lgl&gt; |\n",
       "|---|---|---|---|---|---|---|\n",
       "| Tbx19__Pirt___Day5.obob5v5__v__Day5.obobBL6d5___fgf1_grouping.neg_vs_none                      | 122 | 1183 | 0.1031276 | 0.1 | 150 | FALSE |\n",
       "| Tbx19__Pirt___Day5.obob5v5__v__Day5.obobBL6d5___restored_grouping.neg_restored_vs_none         | 122 | 1183 | 0.1031276 | 0.1 | 150 | FALSE |\n",
       "| Tanycytes___Day5.obob5v5__v__Day5.obobBL6d5___fgf1_grouping.pos_vs_none                        | 528 | 5005 | 0.1054945 | 0.1 | 150 |  TRUE |\n",
       "| Tanycytes___Day5.obob5v5__v__Day5.obobBL6d5___restored_grouping.pos_restored_vs_none           | 528 | 5005 | 0.1054945 | 0.1 | 150 |  TRUE |\n",
       "| Sst__Unc13c___Day5.obob5v5__v__Day5.obobBL6d5___fgf1_grouping.pos_vs_none                      | 163 | 1535 | 0.1061889 | 0.1 | 150 |  TRUE |\n",
       "| Sst__Unc13c___Day5.obob5v5__v__Day5.obobBL6d5___restored_grouping.pos_restored_vs_none         | 163 | 1535 | 0.1061889 | 0.1 | 150 |  TRUE |\n",
       "| Nfix__Nfib___Day14.obob14v14__v__Day14.obobBL6d14___fgf1_grouping.neg_vs_none                  | 102 |  946 | 0.1078224 | 0.1 | 150 | FALSE |\n",
       "| Nfix__Nfib___Day14.obob14v14__v__Day14.obobBL6d14___restored_grouping.neg_restored_vs_none     | 102 |  946 | 0.1078224 | 0.1 | 150 | FALSE |\n",
       "| n1___Day5.obob5v5__v__Day5.obobBL6d5___fgf1_grouping.pos_vs_none                               | 627 | 5198 | 0.1206233 | 0.1 | 150 |  TRUE |\n",
       "| n1___Day5.obob5v5__v__Day5.obobBL6d5___restored_grouping.pos_restored_vs_none                  | 627 | 5198 | 0.1206233 | 0.1 | 150 |  TRUE |\n",
       "| Tbx19__Pirt___Day5.obob5v5__v__Day5.obobBL6d5___fgf1_grouping.pos_vs_none                      | 147 | 1183 | 0.1242604 | 0.1 | 150 | FALSE |\n",
       "| Tbx19__Pirt___Day5.obob5v5__v__Day5.obobBL6d5___restored_grouping.pos_restored_vs_none         | 147 | 1183 | 0.1242604 | 0.1 | 150 | FALSE |\n",
       "| Pou6f2__Prkcq__Whrn___Day5.obob5v5__v__Day5.obobBL6d5___fgf1_grouping.pos_vs_none              | 136 | 1085 | 0.1253456 | 0.1 | 150 | FALSE |\n",
       "| Pou6f2__Prkcq__Whrn___Day5.obob5v5__v__Day5.obobBL6d5___restored_grouping.pos_restored_vs_none | 136 | 1085 | 0.1253456 | 0.1 | 150 | FALSE |\n",
       "| Kiss1__Tac2___Day5.obob5v5__v__Day5.obobBL6d5___fgf1_grouping.neg_vs_none                      | 215 | 1519 | 0.1415405 | 0.1 | 150 |  TRUE |\n",
       "| Kiss1__Tac2___Day5.obob5v5__v__Day5.obobBL6d5___restored_grouping.neg_restored_vs_none         | 215 | 1519 | 0.1415405 | 0.1 | 150 |  TRUE |\n",
       "| Ghrh___Day5.obob5v5__v__Day5.obobBL6d5___fgf1_grouping.pos_vs_none                             | 157 | 1063 | 0.1476952 | 0.1 | 150 |  TRUE |\n",
       "| Ghrh___Day5.obob5v5__v__Day5.obobBL6d5___restored_grouping.pos_restored_vs_none                | 157 | 1063 | 0.1476952 | 0.1 | 150 |  TRUE |\n",
       "| Agrp___Day5.obob5v5__v__Day5.obobBL6d5___fgf1_grouping.neg_vs_none                             | 343 | 2284 | 0.1501751 | 0.1 | 150 |  TRUE |\n",
       "| Agrp___Day5.obob5v5__v__Day5.obobBL6d5___restored_grouping.neg_restored_vs_none                | 343 | 2284 | 0.1501751 | 0.1 | 150 |  TRUE |\n",
       "| Oligodendrocytes___Day5.obob5v5__v__Day5.obobBL6d5___fgf1_grouping.pos_vs_none                 | 163 | 1079 | 0.1510658 | 0.1 | 150 |  TRUE |\n",
       "| Oligodendrocytes___Day5.obob5v5__v__Day5.obobBL6d5___restored_grouping.pos_restored_vs_none    | 163 | 1079 | 0.1510658 | 0.1 | 150 |  TRUE |\n",
       "| Oligodendrocytes___Day5.obob5v5__v__Day5.obobBL6d5___fgf1_grouping.neg_vs_none                 | 168 | 1079 | 0.1556997 | 0.1 | 150 |  TRUE |\n",
       "| Oligodendrocytes___Day5.obob5v5__v__Day5.obobBL6d5___restored_grouping.neg_restored_vs_none    | 168 | 1079 | 0.1556997 | 0.1 | 150 |  TRUE |\n",
       "| g3___Day5.obob5v5__v__Day5.obobBL6d5___fgf1_grouping.neg_vs_none                               | 388 | 2456 | 0.1579805 | 0.1 | 150 |  TRUE |\n",
       "| g3___Day5.obob5v5__v__Day5.obobBL6d5___restored_grouping.neg_restored_vs_none                  | 388 | 2456 | 0.1579805 | 0.1 | 150 |  TRUE |\n",
       "| Sst__Pthlh___Day5.obob5v5__v__Day5.obobBL6d5___fgf1_grouping.pos_vs_none                       | 121 |  742 | 0.1630728 | 0.1 | 150 | FALSE |\n",
       "| Sst__Pthlh___Day5.obob5v5__v__Day5.obobBL6d5___restored_grouping.pos_restored_vs_none          | 121 |  742 | 0.1630728 | 0.1 | 150 | FALSE |\n",
       "| g3___Day5.obob5v5__v__Day5.obobBL6d5___fgf1_grouping.pos_vs_none                               | 412 | 2456 | 0.1677524 | 0.1 | 150 |  TRUE |\n",
       "| g3___Day5.obob5v5__v__Day5.obobBL6d5___restored_grouping.pos_restored_vs_none                  | 412 | 2456 | 0.1677524 | 0.1 | 150 |  TRUE |\n",
       "| ⋮ | ⋮ | ⋮ | ⋮ | ⋮ | ⋮ | ⋮ |\n",
       "| g2___Day5.obob5v5__v__Day5.obobBL6d5___fgf1_grouping.pos_vs_none                        | 1264 |  6261 | 0.2018847 | 0.1 | 150 |  TRUE |\n",
       "| g2___Day5.obob5v5__v__Day5.obobBL6d5___restored_grouping.pos_restored_vs_none           | 1264 |  6261 | 0.2018847 | 0.1 | 150 |  TRUE |\n",
       "| Th__Slc6a3___Day5.obob5v5__v__Day5.obobBL6d5___fgf1_grouping.pos_vs_none                |  114 |   562 | 0.2028470 | 0.1 | 150 | FALSE |\n",
       "| Th__Slc6a3___Day5.obob5v5__v__Day5.obobBL6d5___restored_grouping.pos_restored_vs_none   |  114 |   562 | 0.2028470 | 0.1 | 150 | FALSE |\n",
       "| Astrocytes___Day5.obob5v5__v__Day5.obobBL6d5___fgf1_grouping.pos_vs_none                | 1299 |  6361 | 0.2042132 | 0.1 | 150 |  TRUE |\n",
       "| Astrocytes___Day5.obob5v5__v__Day5.obobBL6d5___restored_grouping.pos_restored_vs_none   | 1299 |  6361 | 0.2042132 | 0.1 | 150 |  TRUE |\n",
       "| Pomc__Glipr1___Day5.obob5v5__v__Day5.obobBL6d5___fgf1_grouping.neg_vs_none              |  246 |  1204 | 0.2043189 | 0.1 | 150 |  TRUE |\n",
       "| Pomc__Glipr1___Day5.obob5v5__v__Day5.obobBL6d5___restored_grouping.neg_restored_vs_none |  246 |  1204 | 0.2043189 | 0.1 | 150 |  TRUE |\n",
       "| Trh__Lef1___Day5.obob5v5__v__Day5.obobBL6d5___fgf1_grouping.neg_vs_none                 |  324 |  1571 | 0.2062381 | 0.1 | 150 |  TRUE |\n",
       "| Trh__Lef1___Day5.obob5v5__v__Day5.obobBL6d5___restored_grouping.neg_restored_vs_none    |  324 |  1571 | 0.2062381 | 0.1 | 150 |  TRUE |\n",
       "| Trh__Lef1___Day5.obob5v5__v__Day5.obobBL6d5___fgf1_grouping.pos_vs_none                 |  330 |  1571 | 0.2100573 | 0.1 | 150 |  TRUE |\n",
       "| Trh__Lef1___Day5.obob5v5__v__Day5.obobBL6d5___restored_grouping.pos_restored_vs_none    |  330 |  1571 | 0.2100573 | 0.1 | 150 |  TRUE |\n",
       "| Agrp___Day5.obob5v5__v__Day5.obobBL6d5___fgf1_grouping.pos_vs_none                      |  514 |  2284 | 0.2250438 | 0.1 | 150 |  TRUE |\n",
       "| Agrp___Day5.obob5v5__v__Day5.obobBL6d5___restored_grouping.pos_restored_vs_none         |  514 |  2284 | 0.2250438 | 0.1 | 150 |  TRUE |\n",
       "| Ghrh___Day5.obob5v5__v__Day5.obobBL6d5___fgf1_grouping.neg_vs_none                      |  261 |  1063 | 0.2455315 | 0.1 | 150 |  TRUE |\n",
       "| Ghrh___Day5.obob5v5__v__Day5.obobBL6d5___restored_grouping.neg_restored_vs_none         |  261 |  1063 | 0.2455315 | 0.1 | 150 |  TRUE |\n",
       "| OPC___Day5.obob5v5__v__Day5.obobBL6d5___fgf1_grouping.pos_vs_none                       |  382 |  1485 | 0.2572391 | 0.1 | 150 |  TRUE |\n",
       "| OPC___Day5.obob5v5__v__Day5.obobBL6d5___restored_grouping.pos_restored_vs_none          |  382 |  1485 | 0.2572391 | 0.1 | 150 |  TRUE |\n",
       "| Htr3b___Day5.obob5v5__v__Day5.obobBL6d5___fgf1_grouping.neg_vs_none                     |  527 |  1906 | 0.2764953 | 0.1 | 150 |  TRUE |\n",
       "| Htr3b___Day5.obob5v5__v__Day5.obobBL6d5___restored_grouping.neg_restored_vs_none        |  527 |  1906 | 0.2764953 | 0.1 | 150 |  TRUE |\n",
       "| g2___Day5.obob5v5__v__Day5.obobBL6d5___fgf1_grouping.neg_vs_none                        | 1831 |  6261 | 0.2924453 | 0.1 | 150 |  TRUE |\n",
       "| g2___Day5.obob5v5__v__Day5.obobBL6d5___restored_grouping.neg_restored_vs_none           | 1831 |  6261 | 0.2924453 | 0.1 | 150 |  TRUE |\n",
       "| Astrocytes___Day5.obob5v5__v__Day5.obobBL6d5___fgf1_grouping.neg_vs_none                | 1897 |  6361 | 0.2982235 | 0.1 | 150 |  TRUE |\n",
       "| Astrocytes___Day5.obob5v5__v__Day5.obobBL6d5___restored_grouping.neg_restored_vs_none   | 1897 |  6361 | 0.2982235 | 0.1 | 150 |  TRUE |\n",
       "| other___Day5.obob5v5__v__Day5.obobBL6d5___fgf1_grouping.neg_vs_none                     | 4701 | 15029 | 0.3127953 | 0.1 | 150 |  TRUE |\n",
       "| other___Day5.obob5v5__v__Day5.obobBL6d5___restored_grouping.neg_restored_vs_none        | 4701 | 15029 | 0.3127953 | 0.1 | 150 |  TRUE |\n",
       "| Htr3b___Day5.obob5v5__v__Day5.obobBL6d5___fgf1_grouping.pos_vs_none                     |  628 |  1906 | 0.3294858 | 0.1 | 150 |  TRUE |\n",
       "| Htr3b___Day5.obob5v5__v__Day5.obobBL6d5___restored_grouping.pos_restored_vs_none        |  628 |  1906 | 0.3294858 | 0.1 | 150 |  TRUE |\n",
       "| OPC___Day5.obob5v5__v__Day5.obobBL6d5___fgf1_grouping.neg_vs_none                       |  546 |  1485 | 0.3676768 | 0.1 | 150 |  TRUE |\n",
       "| OPC___Day5.obob5v5__v__Day5.obobBL6d5___restored_grouping.neg_restored_vs_none          |  546 |  1485 | 0.3676768 | 0.1 | 150 |  TRUE |\n",
       "\n"
      ],
      "text/plain": [
       "   tag                                                                                           \n",
       "1  Tbx19__Pirt___Day5.obob5v5__v__Day5.obobBL6d5___fgf1_grouping.neg_vs_none                     \n",
       "2  Tbx19__Pirt___Day5.obob5v5__v__Day5.obobBL6d5___restored_grouping.neg_restored_vs_none        \n",
       "3  Tanycytes___Day5.obob5v5__v__Day5.obobBL6d5___fgf1_grouping.pos_vs_none                       \n",
       "4  Tanycytes___Day5.obob5v5__v__Day5.obobBL6d5___restored_grouping.pos_restored_vs_none          \n",
       "5  Sst__Unc13c___Day5.obob5v5__v__Day5.obobBL6d5___fgf1_grouping.pos_vs_none                     \n",
       "6  Sst__Unc13c___Day5.obob5v5__v__Day5.obobBL6d5___restored_grouping.pos_restored_vs_none        \n",
       "7  Nfix__Nfib___Day14.obob14v14__v__Day14.obobBL6d14___fgf1_grouping.neg_vs_none                 \n",
       "8  Nfix__Nfib___Day14.obob14v14__v__Day14.obobBL6d14___restored_grouping.neg_restored_vs_none    \n",
       "9  n1___Day5.obob5v5__v__Day5.obobBL6d5___fgf1_grouping.pos_vs_none                              \n",
       "10 n1___Day5.obob5v5__v__Day5.obobBL6d5___restored_grouping.pos_restored_vs_none                 \n",
       "11 Tbx19__Pirt___Day5.obob5v5__v__Day5.obobBL6d5___fgf1_grouping.pos_vs_none                     \n",
       "12 Tbx19__Pirt___Day5.obob5v5__v__Day5.obobBL6d5___restored_grouping.pos_restored_vs_none        \n",
       "13 Pou6f2__Prkcq__Whrn___Day5.obob5v5__v__Day5.obobBL6d5___fgf1_grouping.pos_vs_none             \n",
       "14 Pou6f2__Prkcq__Whrn___Day5.obob5v5__v__Day5.obobBL6d5___restored_grouping.pos_restored_vs_none\n",
       "15 Kiss1__Tac2___Day5.obob5v5__v__Day5.obobBL6d5___fgf1_grouping.neg_vs_none                     \n",
       "16 Kiss1__Tac2___Day5.obob5v5__v__Day5.obobBL6d5___restored_grouping.neg_restored_vs_none        \n",
       "17 Ghrh___Day5.obob5v5__v__Day5.obobBL6d5___fgf1_grouping.pos_vs_none                            \n",
       "18 Ghrh___Day5.obob5v5__v__Day5.obobBL6d5___restored_grouping.pos_restored_vs_none               \n",
       "19 Agrp___Day5.obob5v5__v__Day5.obobBL6d5___fgf1_grouping.neg_vs_none                            \n",
       "20 Agrp___Day5.obob5v5__v__Day5.obobBL6d5___restored_grouping.neg_restored_vs_none               \n",
       "21 Oligodendrocytes___Day5.obob5v5__v__Day5.obobBL6d5___fgf1_grouping.pos_vs_none                \n",
       "22 Oligodendrocytes___Day5.obob5v5__v__Day5.obobBL6d5___restored_grouping.pos_restored_vs_none   \n",
       "23 Oligodendrocytes___Day5.obob5v5__v__Day5.obobBL6d5___fgf1_grouping.neg_vs_none                \n",
       "24 Oligodendrocytes___Day5.obob5v5__v__Day5.obobBL6d5___restored_grouping.neg_restored_vs_none   \n",
       "25 g3___Day5.obob5v5__v__Day5.obobBL6d5___fgf1_grouping.neg_vs_none                              \n",
       "26 g3___Day5.obob5v5__v__Day5.obobBL6d5___restored_grouping.neg_restored_vs_none                 \n",
       "27 Sst__Pthlh___Day5.obob5v5__v__Day5.obobBL6d5___fgf1_grouping.pos_vs_none                      \n",
       "28 Sst__Pthlh___Day5.obob5v5__v__Day5.obobBL6d5___restored_grouping.pos_restored_vs_none         \n",
       "29 g3___Day5.obob5v5__v__Day5.obobBL6d5___fgf1_grouping.pos_vs_none                              \n",
       "30 g3___Day5.obob5v5__v__Day5.obobBL6d5___restored_grouping.pos_restored_vs_none                 \n",
       "⋮  ⋮                                                                                             \n",
       "35 g2___Day5.obob5v5__v__Day5.obobBL6d5___fgf1_grouping.pos_vs_none                              \n",
       "36 g2___Day5.obob5v5__v__Day5.obobBL6d5___restored_grouping.pos_restored_vs_none                 \n",
       "37 Th__Slc6a3___Day5.obob5v5__v__Day5.obobBL6d5___fgf1_grouping.pos_vs_none                      \n",
       "38 Th__Slc6a3___Day5.obob5v5__v__Day5.obobBL6d5___restored_grouping.pos_restored_vs_none         \n",
       "39 Astrocytes___Day5.obob5v5__v__Day5.obobBL6d5___fgf1_grouping.pos_vs_none                      \n",
       "40 Astrocytes___Day5.obob5v5__v__Day5.obobBL6d5___restored_grouping.pos_restored_vs_none         \n",
       "41 Pomc__Glipr1___Day5.obob5v5__v__Day5.obobBL6d5___fgf1_grouping.neg_vs_none                    \n",
       "42 Pomc__Glipr1___Day5.obob5v5__v__Day5.obobBL6d5___restored_grouping.neg_restored_vs_none       \n",
       "43 Trh__Lef1___Day5.obob5v5__v__Day5.obobBL6d5___fgf1_grouping.neg_vs_none                       \n",
       "44 Trh__Lef1___Day5.obob5v5__v__Day5.obobBL6d5___restored_grouping.neg_restored_vs_none          \n",
       "45 Trh__Lef1___Day5.obob5v5__v__Day5.obobBL6d5___fgf1_grouping.pos_vs_none                       \n",
       "46 Trh__Lef1___Day5.obob5v5__v__Day5.obobBL6d5___restored_grouping.pos_restored_vs_none          \n",
       "47 Agrp___Day5.obob5v5__v__Day5.obobBL6d5___fgf1_grouping.pos_vs_none                            \n",
       "48 Agrp___Day5.obob5v5__v__Day5.obobBL6d5___restored_grouping.pos_restored_vs_none               \n",
       "49 Ghrh___Day5.obob5v5__v__Day5.obobBL6d5___fgf1_grouping.neg_vs_none                            \n",
       "50 Ghrh___Day5.obob5v5__v__Day5.obobBL6d5___restored_grouping.neg_restored_vs_none               \n",
       "51 OPC___Day5.obob5v5__v__Day5.obobBL6d5___fgf1_grouping.pos_vs_none                             \n",
       "52 OPC___Day5.obob5v5__v__Day5.obobBL6d5___restored_grouping.pos_restored_vs_none                \n",
       "53 Htr3b___Day5.obob5v5__v__Day5.obobBL6d5___fgf1_grouping.neg_vs_none                           \n",
       "54 Htr3b___Day5.obob5v5__v__Day5.obobBL6d5___restored_grouping.neg_restored_vs_none              \n",
       "55 g2___Day5.obob5v5__v__Day5.obobBL6d5___fgf1_grouping.neg_vs_none                              \n",
       "56 g2___Day5.obob5v5__v__Day5.obobBL6d5___restored_grouping.neg_restored_vs_none                 \n",
       "57 Astrocytes___Day5.obob5v5__v__Day5.obobBL6d5___fgf1_grouping.neg_vs_none                      \n",
       "58 Astrocytes___Day5.obob5v5__v__Day5.obobBL6d5___restored_grouping.neg_restored_vs_none         \n",
       "59 other___Day5.obob5v5__v__Day5.obobBL6d5___fgf1_grouping.neg_vs_none                           \n",
       "60 other___Day5.obob5v5__v__Day5.obobBL6d5___restored_grouping.neg_restored_vs_none              \n",
       "61 Htr3b___Day5.obob5v5__v__Day5.obobBL6d5___fgf1_grouping.pos_vs_none                           \n",
       "62 Htr3b___Day5.obob5v5__v__Day5.obobBL6d5___restored_grouping.pos_restored_vs_none              \n",
       "63 OPC___Day5.obob5v5__v__Day5.obobBL6d5___fgf1_grouping.neg_vs_none                             \n",
       "64 OPC___Day5.obob5v5__v__Day5.obobBL6d5___restored_grouping.neg_restored_vs_none                \n",
       "   count total_cells frac      frac_cutoff n_cells_cutoff n_cells_valid\n",
       "1  122   1183        0.1031276 0.1         150            FALSE        \n",
       "2  122   1183        0.1031276 0.1         150            FALSE        \n",
       "3  528   5005        0.1054945 0.1         150             TRUE        \n",
       "4  528   5005        0.1054945 0.1         150             TRUE        \n",
       "5  163   1535        0.1061889 0.1         150             TRUE        \n",
       "6  163   1535        0.1061889 0.1         150             TRUE        \n",
       "7  102    946        0.1078224 0.1         150            FALSE        \n",
       "8  102    946        0.1078224 0.1         150            FALSE        \n",
       "9  627   5198        0.1206233 0.1         150             TRUE        \n",
       "10 627   5198        0.1206233 0.1         150             TRUE        \n",
       "11 147   1183        0.1242604 0.1         150            FALSE        \n",
       "12 147   1183        0.1242604 0.1         150            FALSE        \n",
       "13 136   1085        0.1253456 0.1         150            FALSE        \n",
       "14 136   1085        0.1253456 0.1         150            FALSE        \n",
       "15 215   1519        0.1415405 0.1         150             TRUE        \n",
       "16 215   1519        0.1415405 0.1         150             TRUE        \n",
       "17 157   1063        0.1476952 0.1         150             TRUE        \n",
       "18 157   1063        0.1476952 0.1         150             TRUE        \n",
       "19 343   2284        0.1501751 0.1         150             TRUE        \n",
       "20 343   2284        0.1501751 0.1         150             TRUE        \n",
       "21 163   1079        0.1510658 0.1         150             TRUE        \n",
       "22 163   1079        0.1510658 0.1         150             TRUE        \n",
       "23 168   1079        0.1556997 0.1         150             TRUE        \n",
       "24 168   1079        0.1556997 0.1         150             TRUE        \n",
       "25 388   2456        0.1579805 0.1         150             TRUE        \n",
       "26 388   2456        0.1579805 0.1         150             TRUE        \n",
       "27 121    742        0.1630728 0.1         150            FALSE        \n",
       "28 121    742        0.1630728 0.1         150            FALSE        \n",
       "29 412   2456        0.1677524 0.1         150             TRUE        \n",
       "30 412   2456        0.1677524 0.1         150             TRUE        \n",
       "⋮  ⋮     ⋮           ⋮         ⋮           ⋮              ⋮            \n",
       "35 1264   6261       0.2018847 0.1         150             TRUE        \n",
       "36 1264   6261       0.2018847 0.1         150             TRUE        \n",
       "37  114    562       0.2028470 0.1         150            FALSE        \n",
       "38  114    562       0.2028470 0.1         150            FALSE        \n",
       "39 1299   6361       0.2042132 0.1         150             TRUE        \n",
       "40 1299   6361       0.2042132 0.1         150             TRUE        \n",
       "41  246   1204       0.2043189 0.1         150             TRUE        \n",
       "42  246   1204       0.2043189 0.1         150             TRUE        \n",
       "43  324   1571       0.2062381 0.1         150             TRUE        \n",
       "44  324   1571       0.2062381 0.1         150             TRUE        \n",
       "45  330   1571       0.2100573 0.1         150             TRUE        \n",
       "46  330   1571       0.2100573 0.1         150             TRUE        \n",
       "47  514   2284       0.2250438 0.1         150             TRUE        \n",
       "48  514   2284       0.2250438 0.1         150             TRUE        \n",
       "49  261   1063       0.2455315 0.1         150             TRUE        \n",
       "50  261   1063       0.2455315 0.1         150             TRUE        \n",
       "51  382   1485       0.2572391 0.1         150             TRUE        \n",
       "52  382   1485       0.2572391 0.1         150             TRUE        \n",
       "53  527   1906       0.2764953 0.1         150             TRUE        \n",
       "54  527   1906       0.2764953 0.1         150             TRUE        \n",
       "55 1831   6261       0.2924453 0.1         150             TRUE        \n",
       "56 1831   6261       0.2924453 0.1         150             TRUE        \n",
       "57 1897   6361       0.2982235 0.1         150             TRUE        \n",
       "58 1897   6361       0.2982235 0.1         150             TRUE        \n",
       "59 4701  15029       0.3127953 0.1         150             TRUE        \n",
       "60 4701  15029       0.3127953 0.1         150             TRUE        \n",
       "61  628   1906       0.3294858 0.1         150             TRUE        \n",
       "62  628   1906       0.3294858 0.1         150             TRUE        \n",
       "63  546   1485       0.3676768 0.1         150             TRUE        \n",
       "64  546   1485       0.3676768 0.1         150             TRUE        "
      ]
     },
     "metadata": {},
     "output_type": "display_data"
    }
   ],
   "source": [
    "new_tibble %>% filter(frac >= 0.10) %>% arrange(frac) %>% filter(!str_detect(tag, 'bl6_grouping'))"
   ]
  },
  {
   "cell_type": "code",
   "execution_count": 9,
   "id": "db88c6bb",
   "metadata": {},
   "outputs": [
    {
     "data": {
      "text/html": [
       "<table class=\"dataframe\">\n",
       "<caption>A tibble: 6 × 2</caption>\n",
       "<thead>\n",
       "\t<tr><th scope=col>class</th><th scope=col>cluster</th></tr>\n",
       "\t<tr><th scope=col>&lt;chr&gt;</th><th scope=col>&lt;chr&gt;</th></tr>\n",
       "</thead>\n",
       "<tbody>\n",
       "\t<tr><td>other</td><td>Tanycytes       </td></tr>\n",
       "\t<tr><td>other</td><td>OPC             </td></tr>\n",
       "\t<tr><td>other</td><td>Astrocytes      </td></tr>\n",
       "\t<tr><td>other</td><td>Ependymal_cells </td></tr>\n",
       "\t<tr><td>other</td><td>Oligodendrocytes</td></tr>\n",
       "\t<tr><td>other</td><td>Microglia       </td></tr>\n",
       "</tbody>\n",
       "</table>\n"
      ],
      "text/latex": [
       "A tibble: 6 × 2\n",
       "\\begin{tabular}{ll}\n",
       " class & cluster\\\\\n",
       " <chr> & <chr>\\\\\n",
       "\\hline\n",
       "\t other & Tanycytes       \\\\\n",
       "\t other & OPC             \\\\\n",
       "\t other & Astrocytes      \\\\\n",
       "\t other & Ependymal\\_cells \\\\\n",
       "\t other & Oligodendrocytes\\\\\n",
       "\t other & Microglia       \\\\\n",
       "\\end{tabular}\n"
      ],
      "text/markdown": [
       "\n",
       "A tibble: 6 × 2\n",
       "\n",
       "| class &lt;chr&gt; | cluster &lt;chr&gt; |\n",
       "|---|---|\n",
       "| other | Tanycytes        |\n",
       "| other | OPC              |\n",
       "| other | Astrocytes       |\n",
       "| other | Ependymal_cells  |\n",
       "| other | Oligodendrocytes |\n",
       "| other | Microglia        |\n",
       "\n"
      ],
      "text/plain": [
       "  class cluster         \n",
       "1 other Tanycytes       \n",
       "2 other OPC             \n",
       "3 other Astrocytes      \n",
       "4 other Ependymal_cells \n",
       "5 other Oligodendrocytes\n",
       "6 other Microglia       "
      ]
     },
     "metadata": {},
     "output_type": "display_data"
    }
   ],
   "source": [
    "labels_classes_tib = bind_rows(qs::qread('_targets_MAST/objects/exp_labelled_other') %>% \n",
    "          `[[` %>% \n",
    "          distinct(class, labels_lvl1) %>% \n",
    "          rename(labels = labels_lvl1),\n",
    "          qs::qread('_targets_MAST/objects/exp_labelled_neuron') %>% \n",
    "          `[[` %>% \n",
    "          distinct(class, labels_lvl1) %>% \n",
    "          rename(labels = labels_lvl1),\n",
    "         ) %>%\n",
    "tibble %>%\n",
    "rename(cluster = labels) %>%\n",
    "rowwise %>%\n",
    "mutate(cluster = str_replace_all(cluster, '/', '__')) %>%\n",
    "ungroup\n",
    "\n",
    "labels_classes_tib %>% head"
   ]
  },
  {
   "cell_type": "code",
   "execution_count": 10,
   "id": "657de5cd",
   "metadata": {},
   "outputs": [
    {
     "data": {
      "text/html": [
       "<table class=\"dataframe\">\n",
       "<caption>A tibble: 1 × 2</caption>\n",
       "<thead>\n",
       "\t<tr><th scope=col>class</th><th scope=col>cluster</th></tr>\n",
       "\t<tr><th scope=col>&lt;chr&gt;</th><th scope=col>&lt;chr&gt;</th></tr>\n",
       "</thead>\n",
       "<tbody>\n",
       "\t<tr><td>neuron</td><td>Irx5__Lmx1a</td></tr>\n",
       "</tbody>\n",
       "</table>\n"
      ],
      "text/latex": [
       "A tibble: 1 × 2\n",
       "\\begin{tabular}{ll}\n",
       " class & cluster\\\\\n",
       " <chr> & <chr>\\\\\n",
       "\\hline\n",
       "\t neuron & Irx5\\_\\_Lmx1a\\\\\n",
       "\\end{tabular}\n"
      ],
      "text/markdown": [
       "\n",
       "A tibble: 1 × 2\n",
       "\n",
       "| class &lt;chr&gt; | cluster &lt;chr&gt; |\n",
       "|---|---|\n",
       "| neuron | Irx5__Lmx1a |\n",
       "\n"
      ],
      "text/plain": [
       "  class  cluster    \n",
       "1 neuron Irx5__Lmx1a"
      ]
     },
     "metadata": {},
     "output_type": "display_data"
    }
   ],
   "source": [
    "labels_classes_tib %>% filter(str_detect(cluster, \"Lmx\"))"
   ]
  },
  {
   "cell_type": "code",
   "execution_count": 11,
   "id": "68628889",
   "metadata": {},
   "outputs": [
    {
     "data": {
      "text/html": [
       "<table class=\"dataframe\">\n",
       "<caption>A tibble: 6 × 7</caption>\n",
       "<thead>\n",
       "\t<tr><th scope=col>tag</th><th scope=col>count</th><th scope=col>total_cells</th><th scope=col>frac</th><th scope=col>frac_cutoff</th><th scope=col>n_cells_cutoff</th><th scope=col>n_cells_valid</th></tr>\n",
       "\t<tr><th scope=col>&lt;chr&gt;</th><th scope=col>&lt;int&gt;</th><th scope=col>&lt;int&gt;</th><th scope=col>&lt;dbl&gt;</th><th scope=col>&lt;dbl&gt;</th><th scope=col>&lt;dbl&gt;</th><th scope=col>&lt;lgl&gt;</th></tr>\n",
       "</thead>\n",
       "<tbody>\n",
       "\t<tr><td>Agrp___Day14.obob14v14__v__Day14.obobBL6d14___fgf1_grouping.neg_vs_none      </td><td>  0</td><td>2123</td><td>0.0000000</td><td>0.1</td><td>150</td><td>FALSE</td></tr>\n",
       "\t<tr><td>Agrp___Day14.obob14v14__v__Day14.obobBL6d14___fgf1_grouping.pos_vs_none      </td><td>  0</td><td>2123</td><td>0.0000000</td><td>0.1</td><td>150</td><td>FALSE</td></tr>\n",
       "\t<tr><td>Agrp___Day5.obob5v5__v__Day5.obobBL6d5___fgf1_grouping.neg_vs_none           </td><td>343</td><td>2284</td><td>0.1501751</td><td>0.1</td><td>150</td><td> TRUE</td></tr>\n",
       "\t<tr><td>Agrp___Day5.obob5v5__v__Day5.obobBL6d5___fgf1_grouping.pos_vs_none           </td><td>514</td><td>2284</td><td>0.2250438</td><td>0.1</td><td>150</td><td> TRUE</td></tr>\n",
       "\t<tr><td>Astrocytes___Day14.obob14v14__v__Day14.obobBL6d14___fgf1_grouping.neg_vs_none</td><td>  0</td><td>6867</td><td>0.0000000</td><td>0.1</td><td>150</td><td>FALSE</td></tr>\n",
       "\t<tr><td>Astrocytes___Day14.obob14v14__v__Day14.obobBL6d14___fgf1_grouping.pos_vs_none</td><td>  0</td><td>6867</td><td>0.0000000</td><td>0.1</td><td>150</td><td>FALSE</td></tr>\n",
       "</tbody>\n",
       "</table>\n"
      ],
      "text/latex": [
       "A tibble: 6 × 7\n",
       "\\begin{tabular}{lllllll}\n",
       " tag & count & total\\_cells & frac & frac\\_cutoff & n\\_cells\\_cutoff & n\\_cells\\_valid\\\\\n",
       " <chr> & <int> & <int> & <dbl> & <dbl> & <dbl> & <lgl>\\\\\n",
       "\\hline\n",
       "\t Agrp\\_\\_\\_Day14.obob14v14\\_\\_v\\_\\_Day14.obobBL6d14\\_\\_\\_fgf1\\_grouping.neg\\_vs\\_none       &   0 & 2123 & 0.0000000 & 0.1 & 150 & FALSE\\\\\n",
       "\t Agrp\\_\\_\\_Day14.obob14v14\\_\\_v\\_\\_Day14.obobBL6d14\\_\\_\\_fgf1\\_grouping.pos\\_vs\\_none       &   0 & 2123 & 0.0000000 & 0.1 & 150 & FALSE\\\\\n",
       "\t Agrp\\_\\_\\_Day5.obob5v5\\_\\_v\\_\\_Day5.obobBL6d5\\_\\_\\_fgf1\\_grouping.neg\\_vs\\_none            & 343 & 2284 & 0.1501751 & 0.1 & 150 &  TRUE\\\\\n",
       "\t Agrp\\_\\_\\_Day5.obob5v5\\_\\_v\\_\\_Day5.obobBL6d5\\_\\_\\_fgf1\\_grouping.pos\\_vs\\_none            & 514 & 2284 & 0.2250438 & 0.1 & 150 &  TRUE\\\\\n",
       "\t Astrocytes\\_\\_\\_Day14.obob14v14\\_\\_v\\_\\_Day14.obobBL6d14\\_\\_\\_fgf1\\_grouping.neg\\_vs\\_none &   0 & 6867 & 0.0000000 & 0.1 & 150 & FALSE\\\\\n",
       "\t Astrocytes\\_\\_\\_Day14.obob14v14\\_\\_v\\_\\_Day14.obobBL6d14\\_\\_\\_fgf1\\_grouping.pos\\_vs\\_none &   0 & 6867 & 0.0000000 & 0.1 & 150 & FALSE\\\\\n",
       "\\end{tabular}\n"
      ],
      "text/markdown": [
       "\n",
       "A tibble: 6 × 7\n",
       "\n",
       "| tag &lt;chr&gt; | count &lt;int&gt; | total_cells &lt;int&gt; | frac &lt;dbl&gt; | frac_cutoff &lt;dbl&gt; | n_cells_cutoff &lt;dbl&gt; | n_cells_valid &lt;lgl&gt; |\n",
       "|---|---|---|---|---|---|---|\n",
       "| Agrp___Day14.obob14v14__v__Day14.obobBL6d14___fgf1_grouping.neg_vs_none       |   0 | 2123 | 0.0000000 | 0.1 | 150 | FALSE |\n",
       "| Agrp___Day14.obob14v14__v__Day14.obobBL6d14___fgf1_grouping.pos_vs_none       |   0 | 2123 | 0.0000000 | 0.1 | 150 | FALSE |\n",
       "| Agrp___Day5.obob5v5__v__Day5.obobBL6d5___fgf1_grouping.neg_vs_none            | 343 | 2284 | 0.1501751 | 0.1 | 150 |  TRUE |\n",
       "| Agrp___Day5.obob5v5__v__Day5.obobBL6d5___fgf1_grouping.pos_vs_none            | 514 | 2284 | 0.2250438 | 0.1 | 150 |  TRUE |\n",
       "| Astrocytes___Day14.obob14v14__v__Day14.obobBL6d14___fgf1_grouping.neg_vs_none |   0 | 6867 | 0.0000000 | 0.1 | 150 | FALSE |\n",
       "| Astrocytes___Day14.obob14v14__v__Day14.obobBL6d14___fgf1_grouping.pos_vs_none |   0 | 6867 | 0.0000000 | 0.1 | 150 | FALSE |\n",
       "\n"
      ],
      "text/plain": [
       "  tag                                                                          \n",
       "1 Agrp___Day14.obob14v14__v__Day14.obobBL6d14___fgf1_grouping.neg_vs_none      \n",
       "2 Agrp___Day14.obob14v14__v__Day14.obobBL6d14___fgf1_grouping.pos_vs_none      \n",
       "3 Agrp___Day5.obob5v5__v__Day5.obobBL6d5___fgf1_grouping.neg_vs_none           \n",
       "4 Agrp___Day5.obob5v5__v__Day5.obobBL6d5___fgf1_grouping.pos_vs_none           \n",
       "5 Astrocytes___Day14.obob14v14__v__Day14.obobBL6d14___fgf1_grouping.neg_vs_none\n",
       "6 Astrocytes___Day14.obob14v14__v__Day14.obobBL6d14___fgf1_grouping.pos_vs_none\n",
       "  count total_cells frac      frac_cutoff n_cells_cutoff n_cells_valid\n",
       "1   0   2123        0.0000000 0.1         150            FALSE        \n",
       "2   0   2123        0.0000000 0.1         150            FALSE        \n",
       "3 343   2284        0.1501751 0.1         150             TRUE        \n",
       "4 514   2284        0.2250438 0.1         150             TRUE        \n",
       "5   0   6867        0.0000000 0.1         150            FALSE        \n",
       "6   0   6867        0.0000000 0.1         150            FALSE        "
      ]
     },
     "metadata": {},
     "output_type": "display_data"
    }
   ],
   "source": [
    "new_tibble %>% head"
   ]
  },
  {
   "cell_type": "code",
   "execution_count": 12,
   "id": "882744f1",
   "metadata": {
    "scrolled": true
   },
   "outputs": [
    {
     "data": {
      "text/html": [
       "<table class=\"dataframe\">\n",
       "<caption>A tibble: 38 × 2</caption>\n",
       "<thead>\n",
       "\t<tr><th scope=col>cluster</th><th scope=col>class</th></tr>\n",
       "\t<tr><th scope=col>&lt;chr&gt;</th><th scope=col>&lt;chr&gt;</th></tr>\n",
       "</thead>\n",
       "<tbody>\n",
       "\t<tr><td>Agrp               </td><td>neuron</td></tr>\n",
       "\t<tr><td>Astrocytes         </td><td>other </td></tr>\n",
       "\t<tr><td>g1                 </td><td>NA    </td></tr>\n",
       "\t<tr><td>g2                 </td><td>NA    </td></tr>\n",
       "\t<tr><td>g3                 </td><td>NA    </td></tr>\n",
       "\t<tr><td>Ghrh               </td><td>neuron</td></tr>\n",
       "\t<tr><td>Htr3b              </td><td>neuron</td></tr>\n",
       "\t<tr><td>Irx5__Lmx1a        </td><td>neuron</td></tr>\n",
       "\t<tr><td>Kiss1__Tac2        </td><td>neuron</td></tr>\n",
       "\t<tr><td>Lpar1_oligo        </td><td>neuron</td></tr>\n",
       "\t<tr><td>n0                 </td><td>NA    </td></tr>\n",
       "\t<tr><td>n1                 </td><td>NA    </td></tr>\n",
       "\t<tr><td>n2                 </td><td>NA    </td></tr>\n",
       "\t<tr><td>n3                 </td><td>NA    </td></tr>\n",
       "\t<tr><td>n5                 </td><td>NA    </td></tr>\n",
       "\t<tr><td>n8                 </td><td>NA    </td></tr>\n",
       "\t<tr><td>neuron             </td><td>NA    </td></tr>\n",
       "\t<tr><td>Nfix__Nfib         </td><td>neuron</td></tr>\n",
       "\t<tr><td>Nfix__Nfib__Hgf    </td><td>neuron</td></tr>\n",
       "\t<tr><td>Nfix__Nfib__Lhx6   </td><td>neuron</td></tr>\n",
       "\t<tr><td>Oligodendrocytes   </td><td>other </td></tr>\n",
       "\t<tr><td>OPC                </td><td>other </td></tr>\n",
       "\t<tr><td>other              </td><td>NA    </td></tr>\n",
       "\t<tr><td>Pomc__Anxa2        </td><td>neuron</td></tr>\n",
       "\t<tr><td>Pomc__Glipr1       </td><td>neuron</td></tr>\n",
       "\t<tr><td>Pomc__Ttr          </td><td>neuron</td></tr>\n",
       "\t<tr><td>Pou6f2__Prkcq__Whrn</td><td>neuron</td></tr>\n",
       "\t<tr><td>Ppp1r17__Tafa4     </td><td>neuron</td></tr>\n",
       "\t<tr><td>Slc17a6__Trhr      </td><td>neuron</td></tr>\n",
       "\t<tr><td>Sst__Pthlh         </td><td>neuron</td></tr>\n",
       "\t<tr><td>Sst__Unc13c        </td><td>neuron</td></tr>\n",
       "\t<tr><td>Tanycytes          </td><td>other </td></tr>\n",
       "\t<tr><td>Tbx19__Pirt        </td><td>neuron</td></tr>\n",
       "\t<tr><td>Th__Nfib           </td><td>neuron</td></tr>\n",
       "\t<tr><td>Th__Slc6a3         </td><td>neuron</td></tr>\n",
       "\t<tr><td>Tmem215__Greb1     </td><td>neuron</td></tr>\n",
       "\t<tr><td>Trh__Cxcl12        </td><td>neuron</td></tr>\n",
       "\t<tr><td>Trh__Lef1          </td><td>neuron</td></tr>\n",
       "</tbody>\n",
       "</table>\n"
      ],
      "text/latex": [
       "A tibble: 38 × 2\n",
       "\\begin{tabular}{ll}\n",
       " cluster & class\\\\\n",
       " <chr> & <chr>\\\\\n",
       "\\hline\n",
       "\t Agrp                & neuron\\\\\n",
       "\t Astrocytes          & other \\\\\n",
       "\t g1                  & NA    \\\\\n",
       "\t g2                  & NA    \\\\\n",
       "\t g3                  & NA    \\\\\n",
       "\t Ghrh                & neuron\\\\\n",
       "\t Htr3b               & neuron\\\\\n",
       "\t Irx5\\_\\_Lmx1a         & neuron\\\\\n",
       "\t Kiss1\\_\\_Tac2         & neuron\\\\\n",
       "\t Lpar1\\_oligo         & neuron\\\\\n",
       "\t n0                  & NA    \\\\\n",
       "\t n1                  & NA    \\\\\n",
       "\t n2                  & NA    \\\\\n",
       "\t n3                  & NA    \\\\\n",
       "\t n5                  & NA    \\\\\n",
       "\t n8                  & NA    \\\\\n",
       "\t neuron              & NA    \\\\\n",
       "\t Nfix\\_\\_Nfib          & neuron\\\\\n",
       "\t Nfix\\_\\_Nfib\\_\\_Hgf     & neuron\\\\\n",
       "\t Nfix\\_\\_Nfib\\_\\_Lhx6    & neuron\\\\\n",
       "\t Oligodendrocytes    & other \\\\\n",
       "\t OPC                 & other \\\\\n",
       "\t other               & NA    \\\\\n",
       "\t Pomc\\_\\_Anxa2         & neuron\\\\\n",
       "\t Pomc\\_\\_Glipr1        & neuron\\\\\n",
       "\t Pomc\\_\\_Ttr           & neuron\\\\\n",
       "\t Pou6f2\\_\\_Prkcq\\_\\_Whrn & neuron\\\\\n",
       "\t Ppp1r17\\_\\_Tafa4      & neuron\\\\\n",
       "\t Slc17a6\\_\\_Trhr       & neuron\\\\\n",
       "\t Sst\\_\\_Pthlh          & neuron\\\\\n",
       "\t Sst\\_\\_Unc13c         & neuron\\\\\n",
       "\t Tanycytes           & other \\\\\n",
       "\t Tbx19\\_\\_Pirt         & neuron\\\\\n",
       "\t Th\\_\\_Nfib            & neuron\\\\\n",
       "\t Th\\_\\_Slc6a3          & neuron\\\\\n",
       "\t Tmem215\\_\\_Greb1      & neuron\\\\\n",
       "\t Trh\\_\\_Cxcl12         & neuron\\\\\n",
       "\t Trh\\_\\_Lef1           & neuron\\\\\n",
       "\\end{tabular}\n"
      ],
      "text/markdown": [
       "\n",
       "A tibble: 38 × 2\n",
       "\n",
       "| cluster &lt;chr&gt; | class &lt;chr&gt; |\n",
       "|---|---|\n",
       "| Agrp                | neuron |\n",
       "| Astrocytes          | other  |\n",
       "| g1                  | NA     |\n",
       "| g2                  | NA     |\n",
       "| g3                  | NA     |\n",
       "| Ghrh                | neuron |\n",
       "| Htr3b               | neuron |\n",
       "| Irx5__Lmx1a         | neuron |\n",
       "| Kiss1__Tac2         | neuron |\n",
       "| Lpar1_oligo         | neuron |\n",
       "| n0                  | NA     |\n",
       "| n1                  | NA     |\n",
       "| n2                  | NA     |\n",
       "| n3                  | NA     |\n",
       "| n5                  | NA     |\n",
       "| n8                  | NA     |\n",
       "| neuron              | NA     |\n",
       "| Nfix__Nfib          | neuron |\n",
       "| Nfix__Nfib__Hgf     | neuron |\n",
       "| Nfix__Nfib__Lhx6    | neuron |\n",
       "| Oligodendrocytes    | other  |\n",
       "| OPC                 | other  |\n",
       "| other               | NA     |\n",
       "| Pomc__Anxa2         | neuron |\n",
       "| Pomc__Glipr1        | neuron |\n",
       "| Pomc__Ttr           | neuron |\n",
       "| Pou6f2__Prkcq__Whrn | neuron |\n",
       "| Ppp1r17__Tafa4      | neuron |\n",
       "| Slc17a6__Trhr       | neuron |\n",
       "| Sst__Pthlh          | neuron |\n",
       "| Sst__Unc13c         | neuron |\n",
       "| Tanycytes           | other  |\n",
       "| Tbx19__Pirt         | neuron |\n",
       "| Th__Nfib            | neuron |\n",
       "| Th__Slc6a3          | neuron |\n",
       "| Tmem215__Greb1      | neuron |\n",
       "| Trh__Cxcl12         | neuron |\n",
       "| Trh__Lef1           | neuron |\n",
       "\n"
      ],
      "text/plain": [
       "   cluster             class \n",
       "1  Agrp                neuron\n",
       "2  Astrocytes          other \n",
       "3  g1                  NA    \n",
       "4  g2                  NA    \n",
       "5  g3                  NA    \n",
       "6  Ghrh                neuron\n",
       "7  Htr3b               neuron\n",
       "8  Irx5__Lmx1a         neuron\n",
       "9  Kiss1__Tac2         neuron\n",
       "10 Lpar1_oligo         neuron\n",
       "11 n0                  NA    \n",
       "12 n1                  NA    \n",
       "13 n2                  NA    \n",
       "14 n3                  NA    \n",
       "15 n5                  NA    \n",
       "16 n8                  NA    \n",
       "17 neuron              NA    \n",
       "18 Nfix__Nfib          neuron\n",
       "19 Nfix__Nfib__Hgf     neuron\n",
       "20 Nfix__Nfib__Lhx6    neuron\n",
       "21 Oligodendrocytes    other \n",
       "22 OPC                 other \n",
       "23 other               NA    \n",
       "24 Pomc__Anxa2         neuron\n",
       "25 Pomc__Glipr1        neuron\n",
       "26 Pomc__Ttr           neuron\n",
       "27 Pou6f2__Prkcq__Whrn neuron\n",
       "28 Ppp1r17__Tafa4      neuron\n",
       "29 Slc17a6__Trhr       neuron\n",
       "30 Sst__Pthlh          neuron\n",
       "31 Sst__Unc13c         neuron\n",
       "32 Tanycytes           other \n",
       "33 Tbx19__Pirt         neuron\n",
       "34 Th__Nfib            neuron\n",
       "35 Th__Slc6a3          neuron\n",
       "36 Tmem215__Greb1      neuron\n",
       "37 Trh__Cxcl12         neuron\n",
       "38 Trh__Lef1           neuron"
      ]
     },
     "metadata": {},
     "output_type": "display_data"
    }
   ],
   "source": [
    "combined_deg_seurat = combined_deg_seurat_all %>%\n",
    "filter(p_val_adj < 0.05 &\n",
    "       avg_log2FC > 0 &\n",
    "       !(str_detect(cells_b, '(rest|neg|pos)')) &\n",
    "       fgf1_day != 'all' &\n",
    "       bl6_day != 'all'\n",
    "#        cluster == 'Agrp' \n",
    "#        cells_a == 'neg'\n",
    "       ) %>%\n",
    "left_join(labels_classes_tib, by='cluster')\n",
    "\n",
    "combined_deg_seurat %>% distinct(cluster, class)"
   ]
  },
  {
   "cell_type": "code",
   "execution_count": 13,
   "id": "83652fd5",
   "metadata": {},
   "outputs": [
    {
     "data": {
      "text/html": [
       "<table class=\"dataframe\">\n",
       "<caption>A tibble: 1 × 2</caption>\n",
       "<thead>\n",
       "\t<tr><th scope=col>class</th><th scope=col>cluster</th></tr>\n",
       "\t<tr><th scope=col>&lt;chr&gt;</th><th scope=col>&lt;chr&gt;</th></tr>\n",
       "</thead>\n",
       "<tbody>\n",
       "\t<tr><td>neuron</td><td>Irx5__Lmx1a</td></tr>\n",
       "</tbody>\n",
       "</table>\n"
      ],
      "text/latex": [
       "A tibble: 1 × 2\n",
       "\\begin{tabular}{ll}\n",
       " class & cluster\\\\\n",
       " <chr> & <chr>\\\\\n",
       "\\hline\n",
       "\t neuron & Irx5\\_\\_Lmx1a\\\\\n",
       "\\end{tabular}\n"
      ],
      "text/markdown": [
       "\n",
       "A tibble: 1 × 2\n",
       "\n",
       "| class &lt;chr&gt; | cluster &lt;chr&gt; |\n",
       "|---|---|\n",
       "| neuron | Irx5__Lmx1a |\n",
       "\n"
      ],
      "text/plain": [
       "  class  cluster    \n",
       "1 neuron Irx5__Lmx1a"
      ]
     },
     "metadata": {},
     "output_type": "display_data"
    }
   ],
   "source": [
    "labels_classes_tib %>% filter(str_detect(cluster, 'Lmx'))"
   ]
  },
  {
   "cell_type": "code",
   "execution_count": 14,
   "id": "c995a12e",
   "metadata": {},
   "outputs": [],
   "source": [
    "combined_deg_seurat = combined_deg_seurat_all %>%\n",
    "filter(p_val_adj < 0.05 &\n",
    "       avg_log2FC > 0 &\n",
    "       !(str_detect(cells_b, '(rest|neg|pos)')) &\n",
    "       fgf1_day != 'all' &\n",
    "       bl6_day != 'all'\n",
    "#        cluster == 'Agrp' \n",
    "#        cells_a == 'neg'\n",
    "       ) %>%\n",
    "left_join(labels_classes_tib, by='cluster') %>% \n",
    "left_join(new_tibble, by=c('tag')) %>%\n",
    "relocate(class, .after='cluster')"
   ]
  },
  {
   "cell_type": "code",
   "execution_count": null,
   "id": "1e485fb3",
   "metadata": {},
   "outputs": [],
   "source": []
  },
  {
   "cell_type": "code",
   "execution_count": 15,
   "id": "eb9b6816",
   "metadata": {},
   "outputs": [
    {
     "data": {
      "text/html": [
       "<style>\n",
       ".list-inline {list-style: none; margin:0; padding: 0}\n",
       ".list-inline>li {display: inline-block}\n",
       ".list-inline>li:not(:last-child)::after {content: \"\\00b7\"; padding: 0 .5ex}\n",
       "</style>\n",
       "<ol class=list-inline><li>'obob14v14'</li><li>'obob5v5'</li></ol>\n"
      ],
      "text/latex": [
       "\\begin{enumerate*}\n",
       "\\item 'obob14v14'\n",
       "\\item 'obob5v5'\n",
       "\\end{enumerate*}\n"
      ],
      "text/markdown": [
       "1. 'obob14v14'\n",
       "2. 'obob5v5'\n",
       "\n",
       "\n"
      ],
      "text/plain": [
       "[1] \"obob14v14\" \"obob5v5\"  "
      ]
     },
     "metadata": {},
     "output_type": "display_data"
    },
    {
     "data": {
      "text/html": [
       "<style>\n",
       ".list-inline {list-style: none; margin:0; padding: 0}\n",
       ".list-inline>li {display: inline-block}\n",
       ".list-inline>li:not(:last-child)::after {content: \"\\00b7\"; padding: 0 .5ex}\n",
       "</style>\n",
       "<ol class=list-inline><li>'obobBL6d14'</li><li>'obobBL6d5'</li></ol>\n"
      ],
      "text/latex": [
       "\\begin{enumerate*}\n",
       "\\item 'obobBL6d14'\n",
       "\\item 'obobBL6d5'\n",
       "\\end{enumerate*}\n"
      ],
      "text/markdown": [
       "1. 'obobBL6d14'\n",
       "2. 'obobBL6d5'\n",
       "\n",
       "\n"
      ],
      "text/plain": [
       "[1] \"obobBL6d14\" \"obobBL6d5\" "
      ]
     },
     "metadata": {},
     "output_type": "display_data"
    },
    {
     "data": {
      "text/html": [
       "<style>\n",
       ".list-inline {list-style: none; margin:0; padding: 0}\n",
       ".list-inline>li {display: inline-block}\n",
       ".list-inline>li:not(:last-child)::after {content: \"\\00b7\"; padding: 0 .5ex}\n",
       "</style>\n",
       "<ol class=list-inline><li>'bl6_grouping'</li><li>'fgf1_grouping'</li><li>'restored_grouping'</li></ol>\n"
      ],
      "text/latex": [
       "\\begin{enumerate*}\n",
       "\\item 'bl6\\_grouping'\n",
       "\\item 'fgf1\\_grouping'\n",
       "\\item 'restored\\_grouping'\n",
       "\\end{enumerate*}\n"
      ],
      "text/markdown": [
       "1. 'bl6_grouping'\n",
       "2. 'fgf1_grouping'\n",
       "3. 'restored_grouping'\n",
       "\n",
       "\n"
      ],
      "text/plain": [
       "[1] \"bl6_grouping\"      \"fgf1_grouping\"     \"restored_grouping\""
      ]
     },
     "metadata": {},
     "output_type": "display_data"
    },
    {
     "data": {
      "text/html": [
       "<style>\n",
       ".list-inline {list-style: none; margin:0; padding: 0}\n",
       ".list-inline>li {display: inline-block}\n",
       ".list-inline>li:not(:last-child)::after {content: \"\\00b7\"; padding: 0 .5ex}\n",
       "</style>\n",
       "<ol class=list-inline><li>'neg'</li><li>'pos'</li><li>'neg_restored'</li><li>'pos_restored'</li></ol>\n"
      ],
      "text/latex": [
       "\\begin{enumerate*}\n",
       "\\item 'neg'\n",
       "\\item 'pos'\n",
       "\\item 'neg\\_restored'\n",
       "\\item 'pos\\_restored'\n",
       "\\end{enumerate*}\n"
      ],
      "text/markdown": [
       "1. 'neg'\n",
       "2. 'pos'\n",
       "3. 'neg_restored'\n",
       "4. 'pos_restored'\n",
       "\n",
       "\n"
      ],
      "text/plain": [
       "[1] \"neg\"          \"pos\"          \"neg_restored\" \"pos_restored\""
      ]
     },
     "metadata": {},
     "output_type": "display_data"
    },
    {
     "data": {
      "text/html": [
       "'none'"
      ],
      "text/latex": [
       "'none'"
      ],
      "text/markdown": [
       "'none'"
      ],
      "text/plain": [
       "[1] \"none\""
      ]
     },
     "metadata": {},
     "output_type": "display_data"
    }
   ],
   "source": [
    "combined_deg_seurat %>% pull(fgf1_comparison) %>% unique\n",
    "combined_deg_seurat %>% pull(bl6_comparison) %>% unique\n",
    "combined_deg_seurat %>% pull(grouping) %>% unique\n",
    "combined_deg_seurat %>% pull(cells_a) %>% unique\n",
    "combined_deg_seurat %>% pull(cells_b) %>% unique"
   ]
  },
  {
   "cell_type": "code",
   "execution_count": 16,
   "id": "38bd7ca3",
   "metadata": {},
   "outputs": [],
   "source": [
    "cluster_order = combined_deg_seurat %>%\n",
    "filter(fgf1_day == 'Day5'  &\n",
    "       grouping == 'fgf1_grouping') %>%\n",
    "group_by(cluster) %>%\n",
    "summarise(n=n()) %>% \n",
    "arrange(desc(n)) %>%\n",
    "pull(cluster)"
   ]
  },
  {
   "cell_type": "code",
   "execution_count": null,
   "id": "29111e7c",
   "metadata": {},
   "outputs": [],
   "source": []
  },
  {
   "cell_type": "code",
   "execution_count": 17,
   "id": "f50faba2",
   "metadata": {},
   "outputs": [],
   "source": [
    "options(repr.plot.width=7, repr.plot.height=2)\n",
    "markers = combined_deg_seurat %>%\n",
    "    filter(fgf1_day == 'Day5'  &\n",
    "           grouping == 'fgf1_grouping') %>%\n",
    "    filter(class == 'other')\n",
    "\n",
    "# Set dimensions\n",
    "options(repr.plot.width=7, repr.plot.height=2)\n",
    "\n",
    "# Load necessary library\n",
    "make_marker_bars = function(markers){\n",
    "    # Grouping and counting\n",
    "    markers_summary <- markers %>%\n",
    "      group_by(cluster, cells_a, n_cells_valid) %>%\n",
    "      summarise(n = if_else(all(n_cells_valid), n(), NA), .groups = \"drop\") %>%\n",
    "      # Adding missing combinations with count 0\n",
    "      tidyr::complete(cluster, cells_a, fill = list(n = 0))\n",
    "\n",
    "    # Calculate upper limit for y-axis, considering some space for the labels\n",
    "    upper_limit <- max(markers_summary$n) * 1.25  # You can adjust the multiplier to get a suitable space for the labels\n",
    "\n",
    "    # Plotting\n",
    "    ggplot(markers_summary, aes(x = cluster, y = n, fill = cells_a)) +\n",
    "      geom_bar(stat = \"identity\", position = position_dodge()) +\n",
    "      geom_text(aes(label=n), vjust=-0.3, position = position_dodge(0.9), size=2.5, check_overlap = TRUE) +\n",
    "      xlab(\"Cluster\") +\n",
    "      theme_classic() +\n",
    "      theme(axis.title.y = element_blank(), \n",
    "            axis.title.x = element_blank(), \n",
    "            plot.title = element_blank(), \n",
    "            axis.text.x = element_text(angle = 45, hjust = 1, size = 6), \n",
    "            legend.text = element_text(size = 6),\n",
    "            legend.title = element_text(size = 7)) +\n",
    "      scale_fill_brewer(palette = \"Set1\") +  # You can choose any other palette\n",
    "      ylim(0, upper_limit)  # Setting the limits for y-axis\n",
    "}\n"
   ]
  },
  {
   "cell_type": "code",
   "execution_count": 18,
   "id": "33786b63",
   "metadata": {},
   "outputs": [],
   "source": [
    "markers_d5_neuron = combined_deg_seurat %>%\n",
    "    filter(fgf1_day == 'Day5'  &\n",
    "           grouping == 'fgf1_grouping') %>%\n",
    "    filter(class == 'neuron')"
   ]
  },
  {
   "cell_type": "code",
   "execution_count": 19,
   "id": "613aedfb",
   "metadata": {},
   "outputs": [],
   "source": [
    "make_marker_bars = function(markers, cluster_categories, y_upper_limit=150){\n",
    "    # Grouping and counting\n",
    "    markers_summary <- markers %>%\n",
    "          mutate(cluster = factor(cluster)) %>%  # Make sure that 'cluster' is a factor\n",
    "          group_by(cluster, cells_a) %>%\n",
    "          summarise(n = if_else(all(n_cells_valid), n(), 0L), .groups = \"drop\") %>%\n",
    "          ungroup %>%\n",
    "          filter(cluster %in% cluster_categories) %>%\n",
    "          mutate(cluster = droplevels(cluster))  %>%\n",
    "      # Adding missing combinations with count 0\n",
    "      tidyr::complete(cluster, cells_a, fill = list(n = 0))\n",
    "\n",
    "        # Create a factor with all possible levels\n",
    "        all_clusters <- factor(markers_summary$cluster, levels = c(cluster_categories, unique(markers_summary$cluster)))\n",
    "\n",
    "        # Joining with expanded frame to ensure all combinations\n",
    "        markers_summary <- tidyr::expand_grid(cluster = cluster_categories, cells_a = unique(markers_summary$cells_a)) %>%\n",
    "          left_join(markers_summary, by = c(\"cluster\", \"cells_a\")) %>%\n",
    "          replace_na(list(n = 0)) %>%\n",
    "          mutate(n_label = case_when(n == 0 ~ '',\n",
    "                               TRUE ~ paste0(n)))\n",
    "    \n",
    "        markers_summary %>% arrange(desc(n)) %>% head(1000) %>% print\n",
    "\n",
    "        # Plotting\n",
    "        ggplot(markers_summary, aes(x = cluster, y = n, fill = cells_a)) +\n",
    "          geom_bar(stat = \"identity\", position = position_dodge()) +\n",
    "          geom_text(aes(label=n_label), vjust=-0.3, position = position_dodge(0.9), size=2.5, check_overlap = FALSE) +\n",
    "#           geom_text_repel(data = subset(markers_summary, n > 0), aes(label = n), \n",
    "#                           size = 2.5, force = 0, segment.size = 0.2, nudge_y = 0.5) +\n",
    "          scale_x_discrete(drop = FALSE, limits = cluster_categories) +  # Ensures that all levels are shown on x-axis\n",
    "          xlab(\"Cluster\") +\n",
    "          theme_classic() +\n",
    "          theme(axis.title.y = element_blank(), \n",
    "                axis.title.x = element_blank(), \n",
    "#                 plot.title = element_blank(), \n",
    "                axis.text.x = element_text(angle = 45, hjust = 1, size = 6), \n",
    "                legend.text = element_text(size = 6),\n",
    "                legend.title = element_text(size = 7)) +\n",
    "#           scale_fill_brewer(palette = \"Set1\") +  # You can choose any other palette\n",
    "    scale_fill_manual(values = c(\"neg\" = \"#4575b4\", \"pos\" = \"#d73027\", \"neg_restored\" = \"#313695\", \"pos_restored\" = \"#a50026\")) +\n",
    "          ylim(0, y_upper_limit)  # Setting the limits for y-axis\n",
    "}\n"
   ]
  },
  {
   "cell_type": "code",
   "execution_count": null,
   "id": "b42de4c3",
   "metadata": {},
   "outputs": [],
   "source": []
  },
  {
   "cell_type": "code",
   "execution_count": null,
   "id": "85063f81",
   "metadata": {},
   "outputs": [],
   "source": []
  },
  {
   "cell_type": "code",
   "execution_count": 20,
   "id": "7af28d27",
   "metadata": {},
   "outputs": [
    {
     "data": {
      "text/html": [
       "<style>\n",
       ".list-inline {list-style: none; margin:0; padding: 0}\n",
       ".list-inline>li {display: inline-block}\n",
       ".list-inline>li:not(:last-child)::after {content: \"\\00b7\"; padding: 0 .5ex}\n",
       "</style>\n",
       "<ol class=list-inline><li>'Tanycytes'</li><li>'OPC'</li><li>'Astrocytes'</li><li>'Ependymal_cells'</li><li>'Oligodendrocytes'</li><li>'Microglia'</li><li>'Endothelial_cells'</li></ol>\n"
      ],
      "text/latex": [
       "\\begin{enumerate*}\n",
       "\\item 'Tanycytes'\n",
       "\\item 'OPC'\n",
       "\\item 'Astrocytes'\n",
       "\\item 'Ependymal\\_cells'\n",
       "\\item 'Oligodendrocytes'\n",
       "\\item 'Microglia'\n",
       "\\item 'Endothelial\\_cells'\n",
       "\\end{enumerate*}\n"
      ],
      "text/markdown": [
       "1. 'Tanycytes'\n",
       "2. 'OPC'\n",
       "3. 'Astrocytes'\n",
       "4. 'Ependymal_cells'\n",
       "5. 'Oligodendrocytes'\n",
       "6. 'Microglia'\n",
       "7. 'Endothelial_cells'\n",
       "\n",
       "\n"
      ],
      "text/plain": [
       "[1] \"Tanycytes\"         \"OPC\"               \"Astrocytes\"       \n",
       "[4] \"Ependymal_cells\"   \"Oligodendrocytes\"  \"Microglia\"        \n",
       "[7] \"Endothelial_cells\""
      ]
     },
     "metadata": {},
     "output_type": "display_data"
    }
   ],
   "source": [
    "cluster_categories = labels_classes_tib %>% filter(class == 'other') %>% pull(cluster)\n",
    "cluster_categories"
   ]
  },
  {
   "cell_type": "code",
   "execution_count": null,
   "id": "cc130999",
   "metadata": {},
   "outputs": [],
   "source": []
  },
  {
   "cell_type": "code",
   "execution_count": 21,
   "id": "1e4d2f02",
   "metadata": {},
   "outputs": [
    {
     "name": "stdout",
     "output_type": "stream",
     "text": [
      "\u001b[90m# A tibble: 14 × 4\u001b[39m\n",
      "   cluster           cells_a     n n_label\n",
      "   \u001b[3m\u001b[90m<chr>\u001b[39m\u001b[23m             \u001b[3m\u001b[90m<chr>\u001b[39m\u001b[23m   \u001b[3m\u001b[90m<int>\u001b[39m\u001b[23m \u001b[3m\u001b[90m<chr>\u001b[39m\u001b[23m  \n",
      "\u001b[90m 1\u001b[39m OPC               neg      \u001b[4m1\u001b[24m087 \u001b[90m\"\u001b[39m1087\u001b[90m\"\u001b[39m \n",
      "\u001b[90m 2\u001b[39m OPC               pos      \u001b[4m1\u001b[24m018 \u001b[90m\"\u001b[39m1018\u001b[90m\"\u001b[39m \n",
      "\u001b[90m 3\u001b[39m Astrocytes        pos       649 \u001b[90m\"\u001b[39m649\u001b[90m\"\u001b[39m  \n",
      "\u001b[90m 4\u001b[39m Tanycytes         pos       492 \u001b[90m\"\u001b[39m492\u001b[90m\"\u001b[39m  \n",
      "\u001b[90m 5\u001b[39m Astrocytes        neg        70 \u001b[90m\"\u001b[39m70\u001b[90m\"\u001b[39m   \n",
      "\u001b[90m 6\u001b[39m Oligodendrocytes  pos        50 \u001b[90m\"\u001b[39m50\u001b[90m\"\u001b[39m   \n",
      "\u001b[90m 7\u001b[39m Oligodendrocytes  neg        49 \u001b[90m\"\u001b[39m49\u001b[90m\"\u001b[39m   \n",
      "\u001b[90m 8\u001b[39m Tanycytes         neg         0 \u001b[90m\"\u001b[39m\u001b[90m\"\u001b[39m     \n",
      "\u001b[90m 9\u001b[39m Ependymal_cells   neg         0 \u001b[90m\"\u001b[39m\u001b[90m\"\u001b[39m     \n",
      "\u001b[90m10\u001b[39m Ependymal_cells   pos         0 \u001b[90m\"\u001b[39m\u001b[90m\"\u001b[39m     \n",
      "\u001b[90m11\u001b[39m Microglia         neg         0 \u001b[90m\"\u001b[39m\u001b[90m\"\u001b[39m     \n",
      "\u001b[90m12\u001b[39m Microglia         pos         0 \u001b[90m\"\u001b[39m\u001b[90m\"\u001b[39m     \n",
      "\u001b[90m13\u001b[39m Endothelial_cells neg         0 \u001b[90m\"\u001b[39m\u001b[90m\"\u001b[39m     \n",
      "\u001b[90m14\u001b[39m Endothelial_cells pos         0 \u001b[90m\"\u001b[39m\u001b[90m\"\u001b[39m     \n"
     ]
    },
    {
     "data": {
      "image/png": "[encoded data removed]",
      "text/plain": [
       "plot without title"
      ]
     },
     "metadata": {
      "image/png": {
       "height": 120,
       "width": 420
      }
     },
     "output_type": "display_data"
    }
   ],
   "source": [
    "options(repr.plot.width=7, repr.plot.height=2)\n",
    "markers_d5_other = combined_deg_seurat %>%\n",
    "    filter(fgf1_day == 'Day5'  &\n",
    "           grouping == 'fgf1_grouping') %>%\n",
    "    filter(class == 'other')\n",
    "ggp_d5_other = make_marker_bars(markers_d5_other, cluster_categories, 1200) +\n",
    "                theme(axis.text.x = element_blank(),\n",
    "                        axis.ticks.x = element_blank())\n",
    "ggp_d5_other"
   ]
  },
  {
   "cell_type": "code",
   "execution_count": 22,
   "id": "4f8e5011",
   "metadata": {},
   "outputs": [
    {
     "name": "stdout",
     "output_type": "stream",
     "text": [
      "\u001b[90m# A tibble: 14 × 4\u001b[39m\n",
      "   cluster           cells_a          n n_label\n",
      "   \u001b[3m\u001b[90m<chr>\u001b[39m\u001b[23m             \u001b[3m\u001b[90m<chr>\u001b[39m\u001b[23m        \u001b[3m\u001b[90m<int>\u001b[39m\u001b[23m \u001b[3m\u001b[90m<chr>\u001b[39m\u001b[23m  \n",
      "\u001b[90m 1\u001b[39m Astrocytes        neg_restored   112 \u001b[90m\"\u001b[39m112\u001b[90m\"\u001b[39m  \n",
      "\u001b[90m 2\u001b[39m Oligodendrocytes  neg_restored    50 \u001b[90m\"\u001b[39m50\u001b[90m\"\u001b[39m   \n",
      "\u001b[90m 3\u001b[39m Tanycytes         neg_restored     0 \u001b[90m\"\u001b[39m\u001b[90m\"\u001b[39m     \n",
      "\u001b[90m 4\u001b[39m Tanycytes         pos_restored     0 \u001b[90m\"\u001b[39m\u001b[90m\"\u001b[39m     \n",
      "\u001b[90m 5\u001b[39m OPC               neg_restored     0 \u001b[90m\"\u001b[39m\u001b[90m\"\u001b[39m     \n",
      "\u001b[90m 6\u001b[39m OPC               pos_restored     0 \u001b[90m\"\u001b[39m\u001b[90m\"\u001b[39m     \n",
      "\u001b[90m 7\u001b[39m Astrocytes        pos_restored     0 \u001b[90m\"\u001b[39m\u001b[90m\"\u001b[39m     \n",
      "\u001b[90m 8\u001b[39m Ependymal_cells   neg_restored     0 \u001b[90m\"\u001b[39m\u001b[90m\"\u001b[39m     \n",
      "\u001b[90m 9\u001b[39m Ependymal_cells   pos_restored     0 \u001b[90m\"\u001b[39m\u001b[90m\"\u001b[39m     \n",
      "\u001b[90m10\u001b[39m Oligodendrocytes  pos_restored     0 \u001b[90m\"\u001b[39m\u001b[90m\"\u001b[39m     \n",
      "\u001b[90m11\u001b[39m Microglia         neg_restored     0 \u001b[90m\"\u001b[39m\u001b[90m\"\u001b[39m     \n",
      "\u001b[90m12\u001b[39m Microglia         pos_restored     0 \u001b[90m\"\u001b[39m\u001b[90m\"\u001b[39m     \n",
      "\u001b[90m13\u001b[39m Endothelial_cells neg_restored     0 \u001b[90m\"\u001b[39m\u001b[90m\"\u001b[39m     \n",
      "\u001b[90m14\u001b[39m Endothelial_cells pos_restored     0 \u001b[90m\"\u001b[39m\u001b[90m\"\u001b[39m     \n"
     ]
    },
    {
     "data": {
      "image/png": "[encoded data removed]",
      "text/plain": [
       "plot without title"
      ]
     },
     "metadata": {
      "image/png": {
       "height": 120,
       "width": 420
      }
     },
     "output_type": "display_data"
    }
   ],
   "source": [
    "options(repr.plot.width=7, repr.plot.height=2)\n",
    "markers_d5_other = combined_deg_seurat %>%\n",
    "    filter(fgf1_day == 'Day5'  &\n",
    "           grouping == 'restored_grouping') %>%\n",
    "    filter(class == 'other')  %>%\n",
    "bind_rows(tibble(cluster = .$cluster, cells_a = 'pos_restored'))\n",
    "ggp_d5_other_restored = make_marker_bars(markers_d5_other, cluster_categories, 1200)\n",
    "ggp_d5_other_restored"
   ]
  },
  {
   "cell_type": "code",
   "execution_count": 23,
   "id": "fba321a2",
   "metadata": {},
   "outputs": [
    {
     "data": {
      "image/png": "[encoded data removed]",
      "text/plain": [
       "plot without title"
      ]
     },
     "metadata": {
      "image/png": {
       "height": 132,
       "width": 420
      }
     },
     "output_type": "display_data"
    }
   ],
   "source": [
    "options(repr.plot.width=7, repr.plot.height=2.2)\n",
    "layout <- '\n",
    "A\n",
    "B\n",
    "'\n",
    "ggp_all_other = wrap_plots(A = ggp_d5_other,\n",
    "               B = ggp_d5_other_restored,\n",
    "        design = layout) +\n",
    "    plot_layout(guides = 'collect') & \n",
    "      theme(plot.margin = margin(2, 0, 0, 2)) \n",
    "\n",
    "ggp_all_other = ggp_all_other + plot_annotation(tag_levels = c('A', 'B', 'C', 'D'))\n",
    "\n",
    "ggp_all_other %>% ggsave('_targets_MAST/deg_count_plot_other_AB.pdf', plot = ., width = 7, height=4)\n",
    "ggp_all_other"
   ]
  },
  {
   "cell_type": "code",
   "execution_count": 24,
   "id": "e4dacdd9",
   "metadata": {},
   "outputs": [
    {
     "name": "stdout",
     "output_type": "stream",
     "text": [
      "\u001b[90m# A tibble: 14 × 4\u001b[39m\n",
      "   cluster           cells_a     n n_label\n",
      "   \u001b[3m\u001b[90m<chr>\u001b[39m\u001b[23m             \u001b[3m\u001b[90m<chr>\u001b[39m\u001b[23m   \u001b[3m\u001b[90m<int>\u001b[39m\u001b[23m \u001b[3m\u001b[90m<chr>\u001b[39m\u001b[23m  \n",
      "\u001b[90m 1\u001b[39m Tanycytes         neg         0 \u001b[90m\"\u001b[39m\u001b[90m\"\u001b[39m     \n",
      "\u001b[90m 2\u001b[39m Tanycytes         pos         0 \u001b[90m\"\u001b[39m\u001b[90m\"\u001b[39m     \n",
      "\u001b[90m 3\u001b[39m OPC               neg         0 \u001b[90m\"\u001b[39m\u001b[90m\"\u001b[39m     \n",
      "\u001b[90m 4\u001b[39m OPC               pos         0 \u001b[90m\"\u001b[39m\u001b[90m\"\u001b[39m     \n",
      "\u001b[90m 5\u001b[39m Astrocytes        neg         0 \u001b[90m\"\u001b[39m\u001b[90m\"\u001b[39m     \n",
      "\u001b[90m 6\u001b[39m Astrocytes        pos         0 \u001b[90m\"\u001b[39m\u001b[90m\"\u001b[39m     \n",
      "\u001b[90m 7\u001b[39m Ependymal_cells   neg         0 \u001b[90m\"\u001b[39m\u001b[90m\"\u001b[39m     \n",
      "\u001b[90m 8\u001b[39m Ependymal_cells   pos         0 \u001b[90m\"\u001b[39m\u001b[90m\"\u001b[39m     \n",
      "\u001b[90m 9\u001b[39m Oligodendrocytes  neg         0 \u001b[90m\"\u001b[39m\u001b[90m\"\u001b[39m     \n",
      "\u001b[90m10\u001b[39m Oligodendrocytes  pos         0 \u001b[90m\"\u001b[39m\u001b[90m\"\u001b[39m     \n",
      "\u001b[90m11\u001b[39m Microglia         neg         0 \u001b[90m\"\u001b[39m\u001b[90m\"\u001b[39m     \n",
      "\u001b[90m12\u001b[39m Microglia         pos         0 \u001b[90m\"\u001b[39m\u001b[90m\"\u001b[39m     \n",
      "\u001b[90m13\u001b[39m Endothelial_cells neg         0 \u001b[90m\"\u001b[39m\u001b[90m\"\u001b[39m     \n",
      "\u001b[90m14\u001b[39m Endothelial_cells pos         0 \u001b[90m\"\u001b[39m\u001b[90m\"\u001b[39m     \n"
     ]
    },
    {
     "data": {
      "image/png": "[encoded data removed]",
      "text/plain": [
       "plot without title"
      ]
     },
     "metadata": {
      "image/png": {
       "height": 120,
       "width": 420
      }
     },
     "output_type": "display_data"
    }
   ],
   "source": [
    "options(repr.plot.width=7, repr.plot.height=2)\n",
    "markers_d14_other = combined_deg_seurat %>%\n",
    "    filter(fgf1_day == 'Day14'  &\n",
    "           grouping == 'fgf1_grouping') %>%\n",
    "    filter(class == 'other') %>%\n",
    "bind_rows(tibble(cluster = .$cluster, cells_a = 'neg'))\n",
    "ggp_d14_other = make_marker_bars(markers_d14_other, cluster_categories, 1200)  +\n",
    "                theme(axis.text.x = element_blank(),\n",
    "                        axis.ticks.x = element_blank())\n",
    "ggp_d14_other"
   ]
  },
  {
   "cell_type": "code",
   "execution_count": null,
   "id": "12482526",
   "metadata": {},
   "outputs": [],
   "source": []
  },
  {
   "cell_type": "code",
   "execution_count": 25,
   "id": "196577a2",
   "metadata": {},
   "outputs": [
    {
     "name": "stdout",
     "output_type": "stream",
     "text": [
      "\u001b[90m# A tibble: 0 × 4\u001b[39m\n",
      "\u001b[90m# ℹ 4 variables: cluster <chr>, cells_a <chr>, n <int>, n_label <chr>\u001b[39m\n"
     ]
    },
    {
     "data": {
      "image/png": "[encoded data removed]",
      "text/plain": [
       "plot without title"
      ]
     },
     "metadata": {
      "image/png": {
       "height": 120,
       "width": 420
      }
     },
     "output_type": "display_data"
    }
   ],
   "source": [
    "options(repr.plot.width=7, repr.plot.height=2)\n",
    "markers_d14_other = combined_deg_seurat %>%\n",
    "    filter(fgf1_day == 'Day14'  &\n",
    "           grouping == 'restored_grouping') %>%\n",
    "    filter(class == 'other')\n",
    "\n",
    "ggp_d14_other_restored = make_marker_bars(markers_d14_other, cluster_categories, 1200)\n",
    "ggp_d14_other_restored"
   ]
  },
  {
   "cell_type": "code",
   "execution_count": 26,
   "id": "197023c7",
   "metadata": {},
   "outputs": [
    {
     "data": {
      "image/png": "[encoded data removed]",
      "text/plain": [
       "plot without title"
      ]
     },
     "metadata": {
      "image/png": {
       "height": 240,
       "width": 420
      }
     },
     "output_type": "display_data"
    }
   ],
   "source": [
    "options(repr.plot.width=7, repr.plot.height=4)\n",
    "layout <- '\n",
    "A\n",
    "B\n",
    "C\n",
    "D\n",
    "'\n",
    "\n",
    "ggp_d5_other_restored = ggp_d5_other_restored   +\n",
    "                theme(axis.text.x = element_blank(),\n",
    "                        axis.ticks.x = element_blank())\n",
    "\n",
    "ggp_all_other = wrap_plots(A = ggp_d5_other,\n",
    "               B = ggp_d5_other_restored,\n",
    "               C = ggp_d14_other,\n",
    "               D = ggp_d14_other_restored,\n",
    "        design = layout) +\n",
    "    plot_layout(guides = 'collect') & \n",
    "      theme(plot.margin = margin(2, 0, 0, 2)) \n",
    "\n",
    "ggp_all_other = ggp_all_other + plot_annotation(tag_levels = c('A', 'B', 'C', 'D'))\n",
    "\n",
    "ggp_all_other %>% ggsave('_targets_MAST/deg_count_plot_other.pdf', plot = ., width = 7, height=4)\n",
    "ggp_all_other"
   ]
  },
  {
   "cell_type": "code",
   "execution_count": null,
   "id": "72916b54",
   "metadata": {},
   "outputs": [],
   "source": []
  },
  {
   "cell_type": "code",
   "execution_count": 27,
   "id": "e42414df",
   "metadata": {},
   "outputs": [
    {
     "data": {
      "text/html": [
       "<style>\n",
       ".list-inline {list-style: none; margin:0; padding: 0}\n",
       ".list-inline>li {display: inline-block}\n",
       ".list-inline>li:not(:last-child)::after {content: \"\\00b7\"; padding: 0 .5ex}\n",
       "</style>\n",
       "<ol class=list-inline><li>'Sst__Pthlh'</li><li>'Nfix__Nfib'</li><li>'Met__Prlh'</li><li>'Agrp'</li><li>'Sim1'</li><li>'Fez1'</li><li>'Pou6f2__Prkcq__Whrn'</li><li>'Dlk1'</li><li>'Slc17a6__Trhr'</li><li>'Esr1'</li><li>'Tmem215__Dach2'</li><li>'Sst__Nts'</li><li>'Sst__Unc13c'</li><li>'Irx5__Lmx1a'</li><li>'Htr3b'</li><li>'Hdc'</li><li>'Lepr89'</li><li>'Nfib_1'</li><li>'Ppp1r17__Tafa4'</li><li>'Lepr67'</li><li>'Arx__Nr5a2'</li><li>'Kiss1__Tac2'</li><li>'Met__Pappa2'</li><li>'Trh__Lef1'</li><li>'Gpr50__Tac2'</li><li>'Tmem215__Greb1'</li><li>'Ghrh'</li><li>'Trh__Cxcl12'</li><li>'Lepr15'</li><li>'Pomc__Ttr'</li><li>'Tbx19__Pirt'</li><li>'Pomc__Glipr1'</li><li>'Pomc__Anxa2'</li><li>'Npsr1__Epha3'</li><li>'Nfix__Nfib__Lhx6'</li><li>'Reln__Lef1'</li><li>'unassigned(2)'</li><li>'Th__Nfib'</li><li>'Ppp1r17'</li><li>'Th__Slc6a3'</li><li>'Nfib_3'</li><li>'Ppp1r17__Ltbp1'</li><li>'Lpar1_oligo'</li><li>'Nfib_2'</li><li>'Nfix__Nfib__Hgf'</li></ol>\n"
      ],
      "text/latex": [
       "\\begin{enumerate*}\n",
       "\\item 'Sst\\_\\_Pthlh'\n",
       "\\item 'Nfix\\_\\_Nfib'\n",
       "\\item 'Met\\_\\_Prlh'\n",
       "\\item 'Agrp'\n",
       "\\item 'Sim1'\n",
       "\\item 'Fez1'\n",
       "\\item 'Pou6f2\\_\\_Prkcq\\_\\_Whrn'\n",
       "\\item 'Dlk1'\n",
       "\\item 'Slc17a6\\_\\_Trhr'\n",
       "\\item 'Esr1'\n",
       "\\item 'Tmem215\\_\\_Dach2'\n",
       "\\item 'Sst\\_\\_Nts'\n",
       "\\item 'Sst\\_\\_Unc13c'\n",
       "\\item 'Irx5\\_\\_Lmx1a'\n",
       "\\item 'Htr3b'\n",
       "\\item 'Hdc'\n",
       "\\item 'Lepr89'\n",
       "\\item 'Nfib\\_1'\n",
       "\\item 'Ppp1r17\\_\\_Tafa4'\n",
       "\\item 'Lepr67'\n",
       "\\item 'Arx\\_\\_Nr5a2'\n",
       "\\item 'Kiss1\\_\\_Tac2'\n",
       "\\item 'Met\\_\\_Pappa2'\n",
       "\\item 'Trh\\_\\_Lef1'\n",
       "\\item 'Gpr50\\_\\_Tac2'\n",
       "\\item 'Tmem215\\_\\_Greb1'\n",
       "\\item 'Ghrh'\n",
       "\\item 'Trh\\_\\_Cxcl12'\n",
       "\\item 'Lepr15'\n",
       "\\item 'Pomc\\_\\_Ttr'\n",
       "\\item 'Tbx19\\_\\_Pirt'\n",
       "\\item 'Pomc\\_\\_Glipr1'\n",
       "\\item 'Pomc\\_\\_Anxa2'\n",
       "\\item 'Npsr1\\_\\_Epha3'\n",
       "\\item 'Nfix\\_\\_Nfib\\_\\_Lhx6'\n",
       "\\item 'Reln\\_\\_Lef1'\n",
       "\\item 'unassigned(2)'\n",
       "\\item 'Th\\_\\_Nfib'\n",
       "\\item 'Ppp1r17'\n",
       "\\item 'Th\\_\\_Slc6a3'\n",
       "\\item 'Nfib\\_3'\n",
       "\\item 'Ppp1r17\\_\\_Ltbp1'\n",
       "\\item 'Lpar1\\_oligo'\n",
       "\\item 'Nfib\\_2'\n",
       "\\item 'Nfix\\_\\_Nfib\\_\\_Hgf'\n",
       "\\end{enumerate*}\n"
      ],
      "text/markdown": [
       "1. 'Sst__Pthlh'\n",
       "2. 'Nfix__Nfib'\n",
       "3. 'Met__Prlh'\n",
       "4. 'Agrp'\n",
       "5. 'Sim1'\n",
       "6. 'Fez1'\n",
       "7. 'Pou6f2__Prkcq__Whrn'\n",
       "8. 'Dlk1'\n",
       "9. 'Slc17a6__Trhr'\n",
       "10. 'Esr1'\n",
       "11. 'Tmem215__Dach2'\n",
       "12. 'Sst__Nts'\n",
       "13. 'Sst__Unc13c'\n",
       "14. 'Irx5__Lmx1a'\n",
       "15. 'Htr3b'\n",
       "16. 'Hdc'\n",
       "17. 'Lepr89'\n",
       "18. 'Nfib_1'\n",
       "19. 'Ppp1r17__Tafa4'\n",
       "20. 'Lepr67'\n",
       "21. 'Arx__Nr5a2'\n",
       "22. 'Kiss1__Tac2'\n",
       "23. 'Met__Pappa2'\n",
       "24. 'Trh__Lef1'\n",
       "25. 'Gpr50__Tac2'\n",
       "26. 'Tmem215__Greb1'\n",
       "27. 'Ghrh'\n",
       "28. 'Trh__Cxcl12'\n",
       "29. 'Lepr15'\n",
       "30. 'Pomc__Ttr'\n",
       "31. 'Tbx19__Pirt'\n",
       "32. 'Pomc__Glipr1'\n",
       "33. 'Pomc__Anxa2'\n",
       "34. 'Npsr1__Epha3'\n",
       "35. 'Nfix__Nfib__Lhx6'\n",
       "36. 'Reln__Lef1'\n",
       "37. 'unassigned(2)'\n",
       "38. 'Th__Nfib'\n",
       "39. 'Ppp1r17'\n",
       "40. 'Th__Slc6a3'\n",
       "41. 'Nfib_3'\n",
       "42. 'Ppp1r17__Ltbp1'\n",
       "43. 'Lpar1_oligo'\n",
       "44. 'Nfib_2'\n",
       "45. 'Nfix__Nfib__Hgf'\n",
       "\n",
       "\n"
      ],
      "text/plain": [
       " [1] \"Sst__Pthlh\"          \"Nfix__Nfib\"          \"Met__Prlh\"          \n",
       " [4] \"Agrp\"                \"Sim1\"                \"Fez1\"               \n",
       " [7] \"Pou6f2__Prkcq__Whrn\" \"Dlk1\"                \"Slc17a6__Trhr\"      \n",
       "[10] \"Esr1\"                \"Tmem215__Dach2\"      \"Sst__Nts\"           \n",
       "[13] \"Sst__Unc13c\"         \"Irx5__Lmx1a\"         \"Htr3b\"              \n",
       "[16] \"Hdc\"                 \"Lepr89\"              \"Nfib_1\"             \n",
       "[19] \"Ppp1r17__Tafa4\"      \"Lepr67\"              \"Arx__Nr5a2\"         \n",
       "[22] \"Kiss1__Tac2\"         \"Met__Pappa2\"         \"Trh__Lef1\"          \n",
       "[25] \"Gpr50__Tac2\"         \"Tmem215__Greb1\"      \"Ghrh\"               \n",
       "[28] \"Trh__Cxcl12\"         \"Lepr15\"              \"Pomc__Ttr\"          \n",
       "[31] \"Tbx19__Pirt\"         \"Pomc__Glipr1\"        \"Pomc__Anxa2\"        \n",
       "[34] \"Npsr1__Epha3\"        \"Nfix__Nfib__Lhx6\"    \"Reln__Lef1\"         \n",
       "[37] \"unassigned(2)\"       \"Th__Nfib\"            \"Ppp1r17\"            \n",
       "[40] \"Th__Slc6a3\"          \"Nfib_3\"              \"Ppp1r17__Ltbp1\"     \n",
       "[43] \"Lpar1_oligo\"         \"Nfib_2\"              \"Nfix__Nfib__Hgf\"    "
      ]
     },
     "metadata": {},
     "output_type": "display_data"
    }
   ],
   "source": [
    "cluster_categories = labels_classes_tib %>% filter(class == 'neuron') %>% pull(cluster)\n",
    "cluster_categories"
   ]
  },
  {
   "cell_type": "code",
   "execution_count": 28,
   "id": "52a7f35b",
   "metadata": {},
   "outputs": [],
   "source": [
    "cluster_categories = cluster_categories %>% str_replace('/', '__')"
   ]
  },
  {
   "cell_type": "code",
   "execution_count": 29,
   "id": "91a3665b",
   "metadata": {},
   "outputs": [
    {
     "name": "stdout",
     "output_type": "stream",
     "text": [
      "\u001b[90m# A tibble: 90 × 4\u001b[39m\n",
      "   cluster      cells_a     n n_label\n",
      "   \u001b[3m\u001b[90m<chr>\u001b[39m\u001b[23m        \u001b[3m\u001b[90m<chr>\u001b[39m\u001b[23m   \u001b[3m\u001b[90m<int>\u001b[39m\u001b[23m \u001b[3m\u001b[90m<chr>\u001b[39m\u001b[23m  \n",
      "\u001b[90m 1\u001b[39m Agrp         pos       648 648    \n",
      "\u001b[90m 2\u001b[39m Sst__Unc13c  pos       535 535    \n",
      "\u001b[90m 3\u001b[39m Htr3b        neg       467 467    \n",
      "\u001b[90m 4\u001b[39m Htr3b        pos       459 459    \n",
      "\u001b[90m 5\u001b[39m Agrp         neg       254 254    \n",
      "\u001b[90m 6\u001b[39m Trh__Lef1    pos       189 189    \n",
      "\u001b[90m 7\u001b[39m Trh__Lef1    neg       173 173    \n",
      "\u001b[90m 8\u001b[39m Ghrh         neg       124 124    \n",
      "\u001b[90m 9\u001b[39m Kiss1__Tac2  neg        44 44     \n",
      "\u001b[90m10\u001b[39m Pomc__Glipr1 neg        42 42     \n",
      "\u001b[90m# ℹ 80 more rows\u001b[39m\n"
     ]
    },
    {
     "data": {
      "image/png": "[encoded data removed]",
      "text/plain": [
       "plot without title"
      ]
     },
     "metadata": {
      "image/png": {
       "height": 120,
       "width": 420
      }
     },
     "output_type": "display_data"
    }
   ],
   "source": [
    "options(repr.plot.width=7, repr.plot.height=2)\n",
    "markers_d5_neuron = combined_deg_seurat %>%\n",
    "    filter(fgf1_day == 'Day5'  &\n",
    "           grouping == 'fgf1_grouping') %>%\n",
    "    filter(class == 'neuron')\n",
    "ggp_d5_neuron = make_marker_bars(markers_d5_neuron, cluster_categories, 900) +\n",
    "                theme(axis.text.x = element_blank(),\n",
    "                        axis.ticks.x = element_blank())\n",
    "ggp_d5_neuron"
   ]
  },
  {
   "cell_type": "code",
   "execution_count": 30,
   "id": "19820b3d",
   "metadata": {},
   "outputs": [
    {
     "name": "stdout",
     "output_type": "stream",
     "text": [
      "\u001b[90m# A tibble: 90 × 4\u001b[39m\n",
      "   cluster      cells_a          n n_label\n",
      "   \u001b[3m\u001b[90m<chr>\u001b[39m\u001b[23m        \u001b[3m\u001b[90m<chr>\u001b[39m\u001b[23m        \u001b[3m\u001b[90m<int>\u001b[39m\u001b[23m \u001b[3m\u001b[90m<chr>\u001b[39m\u001b[23m  \n",
      "\u001b[90m 1\u001b[39m Agrp         pos_restored   702 \u001b[90m\"\u001b[39m702\u001b[90m\"\u001b[39m  \n",
      "\u001b[90m 2\u001b[39m Sst__Unc13c  pos_restored   535 \u001b[90m\"\u001b[39m535\u001b[90m\"\u001b[39m  \n",
      "\u001b[90m 3\u001b[39m Htr3b        pos_restored   334 \u001b[90m\"\u001b[39m334\u001b[90m\"\u001b[39m  \n",
      "\u001b[90m 4\u001b[39m Agrp         neg_restored   254 \u001b[90m\"\u001b[39m254\u001b[90m\"\u001b[39m  \n",
      "\u001b[90m 5\u001b[39m Ghrh         neg_restored   124 \u001b[90m\"\u001b[39m124\u001b[90m\"\u001b[39m  \n",
      "\u001b[90m 6\u001b[39m Kiss1__Tac2  neg_restored    44 \u001b[90m\"\u001b[39m44\u001b[90m\"\u001b[39m   \n",
      "\u001b[90m 7\u001b[39m Pomc__Glipr1 neg_restored    42 \u001b[90m\"\u001b[39m42\u001b[90m\"\u001b[39m   \n",
      "\u001b[90m 8\u001b[39m Ghrh         pos_restored    39 \u001b[90m\"\u001b[39m39\u001b[90m\"\u001b[39m   \n",
      "\u001b[90m 9\u001b[39m Sst__Pthlh   neg_restored     0 \u001b[90m\"\u001b[39m\u001b[90m\"\u001b[39m     \n",
      "\u001b[90m10\u001b[39m Sst__Pthlh   pos_restored     0 \u001b[90m\"\u001b[39m\u001b[90m\"\u001b[39m     \n",
      "\u001b[90m# ℹ 80 more rows\u001b[39m\n"
     ]
    },
    {
     "data": {
      "image/png": "[encoded data removed]",
      "text/plain": [
       "plot without title"
      ]
     },
     "metadata": {
      "image/png": {
       "height": 120,
       "width": 420
      }
     },
     "output_type": "display_data"
    }
   ],
   "source": [
    "options(repr.plot.width=7, repr.plot.height=2)\n",
    "markers_d5_neuron = combined_deg_seurat %>%\n",
    "    filter(fgf1_day == 'Day5'  &\n",
    "           grouping == 'restored_grouping') %>%\n",
    "    filter(class == 'neuron')\n",
    "ggp_d5_neuron_restored = make_marker_bars(markers_d5_neuron, cluster_categories, 900) \n",
    "ggp_d5_neuron_restored"
   ]
  },
  {
   "cell_type": "code",
   "execution_count": 31,
   "id": "2480da86",
   "metadata": {},
   "outputs": [
    {
     "name": "stdout",
     "output_type": "stream",
     "text": [
      "\u001b[90m# A tibble: 90 × 4\u001b[39m\n",
      "   cluster      cells_a          n n_label\n",
      "   \u001b[3m\u001b[90m<chr>\u001b[39m\u001b[23m        \u001b[3m\u001b[90m<chr>\u001b[39m\u001b[23m        \u001b[3m\u001b[90m<int>\u001b[39m\u001b[23m \u001b[3m\u001b[90m<chr>\u001b[39m\u001b[23m  \n",
      "\u001b[90m 1\u001b[39m Agrp         pos_restored   702 \u001b[90m\"\u001b[39m702\u001b[90m\"\u001b[39m  \n",
      "\u001b[90m 2\u001b[39m Sst__Unc13c  pos_restored   535 \u001b[90m\"\u001b[39m535\u001b[90m\"\u001b[39m  \n",
      "\u001b[90m 3\u001b[39m Htr3b        pos_restored   334 \u001b[90m\"\u001b[39m334\u001b[90m\"\u001b[39m  \n",
      "\u001b[90m 4\u001b[39m Agrp         neg_restored   254 \u001b[90m\"\u001b[39m254\u001b[90m\"\u001b[39m  \n",
      "\u001b[90m 5\u001b[39m Ghrh         neg_restored   124 \u001b[90m\"\u001b[39m124\u001b[90m\"\u001b[39m  \n",
      "\u001b[90m 6\u001b[39m Kiss1__Tac2  neg_restored    44 \u001b[90m\"\u001b[39m44\u001b[90m\"\u001b[39m   \n",
      "\u001b[90m 7\u001b[39m Pomc__Glipr1 neg_restored    42 \u001b[90m\"\u001b[39m42\u001b[90m\"\u001b[39m   \n",
      "\u001b[90m 8\u001b[39m Ghrh         pos_restored    39 \u001b[90m\"\u001b[39m39\u001b[90m\"\u001b[39m   \n",
      "\u001b[90m 9\u001b[39m Sst__Pthlh   neg_restored     0 \u001b[90m\"\u001b[39m\u001b[90m\"\u001b[39m     \n",
      "\u001b[90m10\u001b[39m Sst__Pthlh   pos_restored     0 \u001b[90m\"\u001b[39m\u001b[90m\"\u001b[39m     \n",
      "\u001b[90m# ℹ 80 more rows\u001b[39m\n"
     ]
    },
    {
     "data": {
      "image/png": "[encoded data removed]",
      "text/plain": [
       "plot without title"
      ]
     },
     "metadata": {
      "image/png": {
       "height": 132,
       "width": 420
      }
     },
     "output_type": "display_data"
    }
   ],
   "source": [
    "markers_d5_neuron = combined_deg_seurat %>%\n",
    "    filter(fgf1_day == 'Day5'  &\n",
    "           grouping == 'restored_grouping') %>%\n",
    "    filter(class == 'neuron')\n",
    "ggp_d5_neuron_restored = make_marker_bars(markers_d5_neuron, cluster_categories, 900)\n",
    "ggp_all_neuron = wrap_plots(A = ggp_d5_neuron,\n",
    "               B = ggp_d5_neuron_restored,\n",
    "        design = layout) +\n",
    "    plot_layout(guides = 'collect') & \n",
    "      theme(plot.margin = margin(2, 0, 0, 2))  \n",
    "\n",
    "\n",
    "options(repr.plot.width=7, repr.plot.height=2.2)\n",
    "layout <- '\n",
    "A\n",
    "B\n",
    "'\n",
    "\n",
    "# + plot_annotation(tag_levels = c('A', 'B', 'C', 'D'))\n",
    "\n",
    "ggp_all_neuron = ggp_all_neuron + plot_annotation(tag_levels = c('A', 'B', 'C', 'D'))\n",
    "\n",
    "ggp_all_neuron %>% ggsave('_targets_MAST/deg_count_plot_neuron_AB.pdf', plot = ., width = 7, height=4)\n",
    "ggp_all_neuron"
   ]
  },
  {
   "cell_type": "code",
   "execution_count": 32,
   "id": "2c6e1f36",
   "metadata": {},
   "outputs": [
    {
     "name": "stdout",
     "output_type": "stream",
     "text": [
      "\u001b[90m# A tibble: 45 × 4\u001b[39m\n",
      "   cluster             cells_a     n n_label\n",
      "   \u001b[3m\u001b[90m<chr>\u001b[39m\u001b[23m               \u001b[3m\u001b[90m<chr>\u001b[39m\u001b[23m   \u001b[3m\u001b[90m<int>\u001b[39m\u001b[23m \u001b[3m\u001b[90m<chr>\u001b[39m\u001b[23m  \n",
      "\u001b[90m 1\u001b[39m Sst__Pthlh          neg         0 \u001b[90m\"\u001b[39m\u001b[90m\"\u001b[39m     \n",
      "\u001b[90m 2\u001b[39m Nfix__Nfib          neg         0 \u001b[90m\"\u001b[39m\u001b[90m\"\u001b[39m     \n",
      "\u001b[90m 3\u001b[39m Met__Prlh           neg         0 \u001b[90m\"\u001b[39m\u001b[90m\"\u001b[39m     \n",
      "\u001b[90m 4\u001b[39m Agrp                neg         0 \u001b[90m\"\u001b[39m\u001b[90m\"\u001b[39m     \n",
      "\u001b[90m 5\u001b[39m Sim1                neg         0 \u001b[90m\"\u001b[39m\u001b[90m\"\u001b[39m     \n",
      "\u001b[90m 6\u001b[39m Fez1                neg         0 \u001b[90m\"\u001b[39m\u001b[90m\"\u001b[39m     \n",
      "\u001b[90m 7\u001b[39m Pou6f2__Prkcq__Whrn neg         0 \u001b[90m\"\u001b[39m\u001b[90m\"\u001b[39m     \n",
      "\u001b[90m 8\u001b[39m Dlk1                neg         0 \u001b[90m\"\u001b[39m\u001b[90m\"\u001b[39m     \n",
      "\u001b[90m 9\u001b[39m Slc17a6__Trhr       neg         0 \u001b[90m\"\u001b[39m\u001b[90m\"\u001b[39m     \n",
      "\u001b[90m10\u001b[39m Esr1                neg         0 \u001b[90m\"\u001b[39m\u001b[90m\"\u001b[39m     \n",
      "\u001b[90m# ℹ 35 more rows\u001b[39m\n"
     ]
    },
    {
     "data": {
      "image/png": "[encoded data removed]",
      "text/plain": [
       "plot without title"
      ]
     },
     "metadata": {
      "image/png": {
       "height": 120,
       "width": 420
      }
     },
     "output_type": "display_data"
    }
   ],
   "source": [
    "options(repr.plot.width=7, repr.plot.height=2)\n",
    "markers_d14_neuron = combined_deg_seurat %>%\n",
    "    filter(fgf1_day == 'Day14'  &\n",
    "           grouping == 'fgf1_grouping') %>%\n",
    "    filter(class == 'neuron')\n",
    "ggp_d14_neuron = make_marker_bars(markers_d14_neuron, cluster_categories, 900)  +\n",
    "                theme(axis.text.x = element_blank(),\n",
    "                        axis.ticks.x = element_blank())\n",
    "ggp_d14_neuron"
   ]
  },
  {
   "cell_type": "code",
   "execution_count": 33,
   "id": "3f77a60e",
   "metadata": {},
   "outputs": [
    {
     "name": "stdout",
     "output_type": "stream",
     "text": [
      "\u001b[90m# A tibble: 0 × 4\u001b[39m\n",
      "\u001b[90m# ℹ 4 variables: cluster <chr>, cells_a <fct>, n <int>, n_label <chr>\u001b[39m\n"
     ]
    },
    {
     "data": {
      "image/png": "[encoded data removed]",
      "text/plain": [
       "plot without title"
      ]
     },
     "metadata": {
      "image/png": {
       "height": 120,
       "width": 420
      }
     },
     "output_type": "display_data"
    }
   ],
   "source": [
    "options(repr.plot.width=7, repr.plot.height=2)\n",
    "markers_d14_neuron = combined_deg_seurat %>%\n",
    "    filter(fgf1_day == 'Day14'  &\n",
    "           grouping == 'restored_grouping') %>%\n",
    "    mutate(cells_a = factor(cells_a, levels=c('neg_restored', 'pos_restored'))) %>%\n",
    "    filter(class == 'neuron')\n",
    "ggp_d14_neuron_restored = make_marker_bars(markers_d14_neuron, cluster_categories, 900)\n",
    "ggp_d14_neuron_restored"
   ]
  },
  {
   "cell_type": "code",
   "execution_count": 34,
   "id": "d3c4cfa1",
   "metadata": {},
   "outputs": [
    {
     "data": {
      "image/png": "[encoded data removed]",
      "text/plain": [
       "plot without title"
      ]
     },
     "metadata": {
      "image/png": {
       "height": 246,
       "width": 420
      }
     },
     "output_type": "display_data"
    }
   ],
   "source": [
    "options(repr.plot.width=7, repr.plot.height=4.1)\n",
    "layout <- '\n",
    "A\n",
    "B\n",
    "C\n",
    "D\n",
    "'\n",
    "\n",
    "ggp_d5_neuron_restored = ggp_d5_neuron_restored  +\n",
    "                theme(axis.text.x = element_blank(),\n",
    "                        axis.ticks.x = element_blank())\n",
    "\n",
    "ggp_all_neuron = wrap_plots(A = ggp_d5_neuron,\n",
    "               B = ggp_d5_neuron_restored,\n",
    "               C = ggp_d14_neuron,\n",
    "               D = ggp_d14_neuron_restored,\n",
    "        design = layout) +\n",
    "    plot_layout(guides = 'collect') & \n",
    "      theme(plot.margin = margin(2, 0, 0, 2))  \n",
    "\n",
    "# + plot_annotation(tag_levels = c('A', 'B', 'C', 'D'))\n",
    "\n",
    "ggp_all_neuron = ggp_all_neuron + plot_annotation(tag_levels = c('A', 'B', 'C', 'D'))\n",
    "\n",
    "ggp_all_neuron %>% ggsave('_targets_MAST/deg_count_plot_neuron.pdf', plot = ., width = 7, height=4)\n",
    "ggp_all_neuron"
   ]
  },
  {
   "cell_type": "code",
   "execution_count": 35,
   "id": "42aa269a",
   "metadata": {
    "scrolled": true
   },
   "outputs": [
    {
     "data": {
      "text/html": [
       "<table class=\"dataframe\">\n",
       "<caption>A tibble: 798 × 25</caption>\n",
       "<thead>\n",
       "\t<tr><th scope=col>tag</th><th scope=col>data_day</th><th scope=col>cluster</th><th scope=col>class</th><th scope=col>fgf1_day</th><th scope=col>fgf1_comparison</th><th scope=col>bl6_day</th><th scope=col>bl6_comparison</th><th scope=col>grouping</th><th scope=col>cells_a</th><th scope=col>⋯</th><th scope=col>pct.2</th><th scope=col>p_val_adj</th><th scope=col>ensmusg</th><th scope=col>gsea_sort_score</th><th scope=col>count</th><th scope=col>total_cells</th><th scope=col>frac</th><th scope=col>frac_cutoff</th><th scope=col>n_cells_cutoff</th><th scope=col>n_cells_valid</th></tr>\n",
       "\t<tr><th scope=col>&lt;chr&gt;</th><th scope=col>&lt;chr&gt;</th><th scope=col>&lt;chr&gt;</th><th scope=col>&lt;chr&gt;</th><th scope=col>&lt;chr&gt;</th><th scope=col>&lt;chr&gt;</th><th scope=col>&lt;chr&gt;</th><th scope=col>&lt;chr&gt;</th><th scope=col>&lt;chr&gt;</th><th scope=col>&lt;chr&gt;</th><th scope=col>⋯</th><th scope=col>&lt;dbl&gt;</th><th scope=col>&lt;dbl&gt;</th><th scope=col>&lt;chr&gt;</th><th scope=col>&lt;dbl&gt;</th><th scope=col>&lt;int&gt;</th><th scope=col>&lt;int&gt;</th><th scope=col>&lt;dbl&gt;</th><th scope=col>&lt;dbl&gt;</th><th scope=col>&lt;dbl&gt;</th><th scope=col>&lt;lgl&gt;</th></tr>\n",
       "</thead>\n",
       "<tbody>\n",
       "\t<tr><td>Irx5__Lmx1a___Day5.obob5v5__v__Day5.obobBL6d5___bl6_grouping.neg_vs_none</td><td>all</td><td>Irx5__Lmx1a</td><td>neuron</td><td>Day5</td><td>obob5v5</td><td>Day5</td><td>obobBL6d5</td><td>bl6_grouping</td><td>neg</td><td>⋯</td><td>0.805</td><td>3.120361e-169</td><td>ENSMUSG00000058925</td><td>712.25728</td><td>70</td><td>2686</td><td>0.02606106</td><td>0.1</td><td>150</td><td>FALSE</td></tr>\n",
       "\t<tr><td>Irx5__Lmx1a___Day5.obob5v5__v__Day5.obobBL6d5___bl6_grouping.neg_vs_none</td><td>all</td><td>Irx5__Lmx1a</td><td>neuron</td><td>Day5</td><td>obob5v5</td><td>Day5</td><td>obobBL6d5</td><td>bl6_grouping</td><td>neg</td><td>⋯</td><td>0.869</td><td>3.846669e-160</td><td>ENSMUSG00000093497</td><td>527.36671</td><td>70</td><td>2686</td><td>0.02606106</td><td>0.1</td><td>150</td><td>FALSE</td></tr>\n",
       "\t<tr><td>Irx5__Lmx1a___Day5.obob5v5__v__Day5.obobBL6d5___bl6_grouping.neg_vs_none</td><td>all</td><td>Irx5__Lmx1a</td><td>neuron</td><td>Day5</td><td>obob5v5</td><td>Day5</td><td>obobBL6d5</td><td>bl6_grouping</td><td>neg</td><td>⋯</td><td>0.808</td><td>6.492201e-144</td><td>ENSMUSG00000061171</td><td>501.18557</td><td>70</td><td>2686</td><td>0.02606106</td><td>0.1</td><td>150</td><td>FALSE</td></tr>\n",
       "\t<tr><td>Irx5__Lmx1a___Day5.obob5v5__v__Day5.obobBL6d5___bl6_grouping.neg_vs_none</td><td>all</td><td>Irx5__Lmx1a</td><td>neuron</td><td>Day5</td><td>obob5v5</td><td>Day5</td><td>obobBL6d5</td><td>bl6_grouping</td><td>neg</td><td>⋯</td><td>0.753</td><td>4.911920e-128</td><td>ENSMUSG00000087388</td><td>490.36522</td><td>70</td><td>2686</td><td>0.02606106</td><td>0.1</td><td>150</td><td>FALSE</td></tr>\n",
       "\t<tr><td>Irx5__Lmx1a___Day5.obob5v5__v__Day5.obobBL6d5___bl6_grouping.neg_vs_none</td><td>all</td><td>Irx5__Lmx1a</td><td>neuron</td><td>Day5</td><td>obob5v5</td><td>Day5</td><td>obobBL6d5</td><td>bl6_grouping</td><td>neg</td><td>⋯</td><td>0.929</td><td>5.908666e-105</td><td>ENSMUSG00000022112</td><td>272.88946</td><td>70</td><td>2686</td><td>0.02606106</td><td>0.1</td><td>150</td><td>FALSE</td></tr>\n",
       "\t<tr><td>Irx5__Lmx1a___Day5.obob5v5__v__Day5.obobBL6d5___bl6_grouping.neg_vs_none</td><td>all</td><td>Irx5__Lmx1a</td><td>neuron</td><td>Day5</td><td>obob5v5</td><td>Day5</td><td>obobBL6d5</td><td>bl6_grouping</td><td>neg</td><td>⋯</td><td>0.879</td><td> 8.115919e-88</td><td>ENSMUSG00000003746</td><td>203.89291</td><td>70</td><td>2686</td><td>0.02606106</td><td>0.1</td><td>150</td><td>FALSE</td></tr>\n",
       "\t<tr><td>Irx5__Lmx1a___Day5.obob5v5__v__Day5.obobBL6d5___bl6_grouping.neg_vs_none</td><td>all</td><td>Irx5__Lmx1a</td><td>neuron</td><td>Day5</td><td>obob5v5</td><td>Day5</td><td>obobBL6d5</td><td>bl6_grouping</td><td>neg</td><td>⋯</td><td>0.921</td><td> 1.615493e-80</td><td>ENSMUSG00000042581</td><td>191.99820</td><td>70</td><td>2686</td><td>0.02606106</td><td>0.1</td><td>150</td><td>FALSE</td></tr>\n",
       "\t<tr><td>Irx5__Lmx1a___Day5.obob5v5__v__Day5.obobBL6d5___bl6_grouping.neg_vs_none</td><td>all</td><td>Irx5__Lmx1a</td><td>neuron</td><td>Day5</td><td>obob5v5</td><td>Day5</td><td>obobBL6d5</td><td>bl6_grouping</td><td>neg</td><td>⋯</td><td>0.818</td><td> 6.326749e-59</td><td>ENSMUSG00000031274</td><td>160.24143</td><td>70</td><td>2686</td><td>0.02606106</td><td>0.1</td><td>150</td><td>FALSE</td></tr>\n",
       "\t<tr><td>Irx5__Lmx1a___Day5.obob5v5__v__Day5.obobBL6d5___bl6_grouping.neg_vs_none</td><td>all</td><td>Irx5__Lmx1a</td><td>neuron</td><td>Day5</td><td>obob5v5</td><td>Day5</td><td>obobBL6d5</td><td>bl6_grouping</td><td>neg</td><td>⋯</td><td>0.641</td><td> 2.465538e-43</td><td>ENSMUSG00000093551</td><td>150.48036</td><td>70</td><td>2686</td><td>0.02606106</td><td>0.1</td><td>150</td><td>FALSE</td></tr>\n",
       "\t<tr><td>Irx5__Lmx1a___Day5.obob5v5__v__Day5.obobBL6d5___bl6_grouping.neg_vs_none</td><td>all</td><td>Irx5__Lmx1a</td><td>neuron</td><td>Day5</td><td>obob5v5</td><td>Day5</td><td>obobBL6d5</td><td>bl6_grouping</td><td>neg</td><td>⋯</td><td>0.833</td><td> 2.745543e-61</td><td>ENSMUSG00000025324</td><td>136.25111</td><td>70</td><td>2686</td><td>0.02606106</td><td>0.1</td><td>150</td><td>FALSE</td></tr>\n",
       "\t<tr><td>Irx5__Lmx1a___Day5.obob5v5__v__Day5.obobBL6d5___bl6_grouping.neg_vs_none</td><td>all</td><td>Irx5__Lmx1a</td><td>neuron</td><td>Day5</td><td>obob5v5</td><td>Day5</td><td>obobBL6d5</td><td>bl6_grouping</td><td>neg</td><td>⋯</td><td>0.907</td><td> 3.592176e-63</td><td>ENSMUSG00000110375</td><td>131.28012</td><td>70</td><td>2686</td><td>0.02606106</td><td>0.1</td><td>150</td><td>FALSE</td></tr>\n",
       "\t<tr><td>Irx5__Lmx1a___Day5.obob5v5__v__Day5.obobBL6d5___bl6_grouping.neg_vs_none</td><td>all</td><td>Irx5__Lmx1a</td><td>neuron</td><td>Day5</td><td>obob5v5</td><td>Day5</td><td>obobBL6d5</td><td>bl6_grouping</td><td>neg</td><td>⋯</td><td>0.696</td><td> 5.113719e-39</td><td>ENSMUSG00000038507</td><td>118.53464</td><td>70</td><td>2686</td><td>0.02606106</td><td>0.1</td><td>150</td><td>FALSE</td></tr>\n",
       "\t<tr><td>Irx5__Lmx1a___Day5.obob5v5__v__Day5.obobBL6d5___bl6_grouping.neg_vs_none</td><td>all</td><td>Irx5__Lmx1a</td><td>neuron</td><td>Day5</td><td>obob5v5</td><td>Day5</td><td>obobBL6d5</td><td>bl6_grouping</td><td>neg</td><td>⋯</td><td>0.791</td><td> 1.972675e-43</td><td>ENSMUSG00000037922</td><td>116.91516</td><td>70</td><td>2686</td><td>0.02606106</td><td>0.1</td><td>150</td><td>FALSE</td></tr>\n",
       "\t<tr><td>Irx5__Lmx1a___Day5.obob5v5__v__Day5.obobBL6d5___bl6_grouping.neg_vs_none</td><td>all</td><td>Irx5__Lmx1a</td><td>neuron</td><td>Day5</td><td>obob5v5</td><td>Day5</td><td>obobBL6d5</td><td>bl6_grouping</td><td>neg</td><td>⋯</td><td>0.917</td><td> 1.155422e-65</td><td>ENSMUSG00000052560</td><td>113.30367</td><td>70</td><td>2686</td><td>0.02606106</td><td>0.1</td><td>150</td><td>FALSE</td></tr>\n",
       "\t<tr><td>Irx5__Lmx1a___Day5.obob5v5__v__Day5.obobBL6d5___bl6_grouping.neg_vs_none</td><td>all</td><td>Irx5__Lmx1a</td><td>neuron</td><td>Day5</td><td>obob5v5</td><td>Day5</td><td>obobBL6d5</td><td>bl6_grouping</td><td>neg</td><td>⋯</td><td>0.964</td><td> 2.833151e-55</td><td>ENSMUSG00000109907</td><td>108.04857</td><td>70</td><td>2686</td><td>0.02606106</td><td>0.1</td><td>150</td><td>FALSE</td></tr>\n",
       "\t<tr><td>Irx5__Lmx1a___Day5.obob5v5__v__Day5.obobBL6d5___bl6_grouping.neg_vs_none</td><td>all</td><td>Irx5__Lmx1a</td><td>neuron</td><td>Day5</td><td>obob5v5</td><td>Day5</td><td>obobBL6d5</td><td>bl6_grouping</td><td>neg</td><td>⋯</td><td>0.967</td><td> 1.284271e-54</td><td>ENSMUSG00000053141</td><td> 92.89711</td><td>70</td><td>2686</td><td>0.02606106</td><td>0.1</td><td>150</td><td>FALSE</td></tr>\n",
       "\t<tr><td>Irx5__Lmx1a___Day5.obob5v5__v__Day5.obobBL6d5___bl6_grouping.neg_vs_none</td><td>all</td><td>Irx5__Lmx1a</td><td>neuron</td><td>Day5</td><td>obob5v5</td><td>Day5</td><td>obobBL6d5</td><td>bl6_grouping</td><td>neg</td><td>⋯</td><td>0.848</td><td> 1.626352e-36</td><td>ENSMUSG00000026765</td><td> 83.46236</td><td>70</td><td>2686</td><td>0.02606106</td><td>0.1</td><td>150</td><td>FALSE</td></tr>\n",
       "\t<tr><td>Irx5__Lmx1a___Day5.obob5v5__v__Day5.obobBL6d5___bl6_grouping.neg_vs_none</td><td>all</td><td>Irx5__Lmx1a</td><td>neuron</td><td>Day5</td><td>obob5v5</td><td>Day5</td><td>obobBL6d5</td><td>bl6_grouping</td><td>neg</td><td>⋯</td><td>0.911</td><td> 1.766361e-37</td><td>ENSMUSG00000027200</td><td> 74.31886</td><td>70</td><td>2686</td><td>0.02606106</td><td>0.1</td><td>150</td><td>FALSE</td></tr>\n",
       "\t<tr><td>Irx5__Lmx1a___Day5.obob5v5__v__Day5.obobBL6d5___bl6_grouping.neg_vs_none</td><td>all</td><td>Irx5__Lmx1a</td><td>neuron</td><td>Day5</td><td>obob5v5</td><td>Day5</td><td>obobBL6d5</td><td>bl6_grouping</td><td>neg</td><td>⋯</td><td>0.988</td><td> 1.717617e-44</td><td>ENSMUSG00000019888</td><td> 73.33066</td><td>70</td><td>2686</td><td>0.02606106</td><td>0.1</td><td>150</td><td>FALSE</td></tr>\n",
       "\t<tr><td>Irx5__Lmx1a___Day5.obob5v5__v__Day5.obobBL6d5___bl6_grouping.neg_vs_none</td><td>all</td><td>Irx5__Lmx1a</td><td>neuron</td><td>Day5</td><td>obob5v5</td><td>Day5</td><td>obobBL6d5</td><td>bl6_grouping</td><td>neg</td><td>⋯</td><td>0.877</td><td> 1.860985e-37</td><td>ENSMUSG00000034324</td><td> 72.21355</td><td>70</td><td>2686</td><td>0.02606106</td><td>0.1</td><td>150</td><td>FALSE</td></tr>\n",
       "\t<tr><td>Irx5__Lmx1a___Day5.obob5v5__v__Day5.obobBL6d5___bl6_grouping.neg_vs_none</td><td>all</td><td>Irx5__Lmx1a</td><td>neuron</td><td>Day5</td><td>obob5v5</td><td>Day5</td><td>obobBL6d5</td><td>bl6_grouping</td><td>neg</td><td>⋯</td><td>0.668</td><td> 1.841337e-21</td><td>ENSMUSG00000027350</td><td> 55.29131</td><td>70</td><td>2686</td><td>0.02606106</td><td>0.1</td><td>150</td><td>FALSE</td></tr>\n",
       "\t<tr><td>Irx5__Lmx1a___Day5.obob5v5__v__Day5.obobBL6d5___bl6_grouping.neg_vs_none</td><td>all</td><td>Irx5__Lmx1a</td><td>neuron</td><td>Day5</td><td>obob5v5</td><td>Day5</td><td>obobBL6d5</td><td>bl6_grouping</td><td>neg</td><td>⋯</td><td>0.893</td><td> 1.421750e-32</td><td>ENSMUSG00000023927</td><td> 54.51221</td><td>70</td><td>2686</td><td>0.02606106</td><td>0.1</td><td>150</td><td>FALSE</td></tr>\n",
       "\t<tr><td>Irx5__Lmx1a___Day5.obob5v5__v__Day5.obobBL6d5___bl6_grouping.neg_vs_none</td><td>all</td><td>Irx5__Lmx1a</td><td>neuron</td><td>Day5</td><td>obob5v5</td><td>Day5</td><td>obobBL6d5</td><td>bl6_grouping</td><td>neg</td><td>⋯</td><td>0.958</td><td> 2.837896e-36</td><td>ENSMUSG00000057715</td><td> 53.29483</td><td>70</td><td>2686</td><td>0.02606106</td><td>0.1</td><td>150</td><td>FALSE</td></tr>\n",
       "\t<tr><td>Irx5__Lmx1a___Day5.obob5v5__v__Day5.obobBL6d5___bl6_grouping.neg_vs_none</td><td>all</td><td>Irx5__Lmx1a</td><td>neuron</td><td>Day5</td><td>obob5v5</td><td>Day5</td><td>obobBL6d5</td><td>bl6_grouping</td><td>neg</td><td>⋯</td><td>0.735</td><td> 1.923448e-21</td><td>ENSMUSG00000115271</td><td> 51.80090</td><td>70</td><td>2686</td><td>0.02606106</td><td>0.1</td><td>150</td><td>FALSE</td></tr>\n",
       "\t<tr><td>Irx5__Lmx1a___Day5.obob5v5__v__Day5.obobBL6d5___bl6_grouping.neg_vs_none</td><td>all</td><td>Irx5__Lmx1a</td><td>neuron</td><td>Day5</td><td>obob5v5</td><td>Day5</td><td>obobBL6d5</td><td>bl6_grouping</td><td>neg</td><td>⋯</td><td>0.927</td><td> 3.370250e-25</td><td>ENSMUSG00000058571</td><td> 51.07996</td><td>70</td><td>2686</td><td>0.02606106</td><td>0.1</td><td>150</td><td>FALSE</td></tr>\n",
       "\t<tr><td>Irx5__Lmx1a___Day5.obob5v5__v__Day5.obobBL6d5___bl6_grouping.neg_vs_none</td><td>all</td><td>Irx5__Lmx1a</td><td>neuron</td><td>Day5</td><td>obob5v5</td><td>Day5</td><td>obobBL6d5</td><td>bl6_grouping</td><td>neg</td><td>⋯</td><td>0.831</td><td> 6.755996e-27</td><td>ENSMUSG00000111143</td><td> 49.87683</td><td>70</td><td>2686</td><td>0.02606106</td><td>0.1</td><td>150</td><td>FALSE</td></tr>\n",
       "\t<tr><td>Irx5__Lmx1a___Day5.obob5v5__v__Day5.obobBL6d5___bl6_grouping.neg_vs_none</td><td>all</td><td>Irx5__Lmx1a</td><td>neuron</td><td>Day5</td><td>obob5v5</td><td>Day5</td><td>obobBL6d5</td><td>bl6_grouping</td><td>neg</td><td>⋯</td><td>0.883</td><td> 4.679203e-31</td><td>ENSMUSG00000047793</td><td> 46.62084</td><td>70</td><td>2686</td><td>0.02606106</td><td>0.1</td><td>150</td><td>FALSE</td></tr>\n",
       "\t<tr><td>Irx5__Lmx1a___Day5.obob5v5__v__Day5.obobBL6d5___bl6_grouping.neg_vs_none</td><td>all</td><td>Irx5__Lmx1a</td><td>neuron</td><td>Day5</td><td>obob5v5</td><td>Day5</td><td>obobBL6d5</td><td>bl6_grouping</td><td>neg</td><td>⋯</td><td>0.823</td><td> 3.587534e-23</td><td>ENSMUSG00000057710</td><td> 45.97865</td><td>70</td><td>2686</td><td>0.02606106</td><td>0.1</td><td>150</td><td>FALSE</td></tr>\n",
       "\t<tr><td>Irx5__Lmx1a___Day5.obob5v5__v__Day5.obobBL6d5___bl6_grouping.neg_vs_none</td><td>all</td><td>Irx5__Lmx1a</td><td>neuron</td><td>Day5</td><td>obob5v5</td><td>Day5</td><td>obobBL6d5</td><td>bl6_grouping</td><td>neg</td><td>⋯</td><td>0.953</td><td> 6.483110e-34</td><td>ENSMUSG00000019647</td><td> 45.26774</td><td>70</td><td>2686</td><td>0.02606106</td><td>0.1</td><td>150</td><td>FALSE</td></tr>\n",
       "\t<tr><td>Irx5__Lmx1a___Day5.obob5v5__v__Day5.obobBL6d5___bl6_grouping.neg_vs_none</td><td>all</td><td>Irx5__Lmx1a</td><td>neuron</td><td>Day5</td><td>obob5v5</td><td>Day5</td><td>obobBL6d5</td><td>bl6_grouping</td><td>neg</td><td>⋯</td><td>0.992</td><td> 7.909025e-39</td><td>ENSMUSG00000032036</td><td> 44.79922</td><td>70</td><td>2686</td><td>0.02606106</td><td>0.1</td><td>150</td><td>FALSE</td></tr>\n",
       "\t<tr><td>⋮</td><td>⋮</td><td>⋮</td><td>⋮</td><td>⋮</td><td>⋮</td><td>⋮</td><td>⋮</td><td>⋮</td><td>⋮</td><td>⋱</td><td>⋮</td><td>⋮</td><td>⋮</td><td>⋮</td><td>⋮</td><td>⋮</td><td>⋮</td><td>⋮</td><td>⋮</td><td>⋮</td></tr>\n",
       "\t<tr><td>Irx5__Lmx1a___Day5.obob5v5__v__Day5.obobBL6d5___restored_grouping.pos_restored_vs_none</td><td>all</td><td>Irx5__Lmx1a</td><td>neuron</td><td>Day5</td><td>obob5v5</td><td>Day5</td><td>obobBL6d5</td><td>restored_grouping</td><td>pos_restored</td><td>⋯</td><td>0.994</td><td>0.0001158199</td><td>ENSMUSG00000054640</td><td>1.7819233</td><td>70</td><td>2686</td><td>0.02606106</td><td>0.1</td><td>150</td><td>FALSE</td></tr>\n",
       "\t<tr><td>Irx5__Lmx1a___Day5.obob5v5__v__Day5.obobBL6d5___restored_grouping.pos_restored_vs_none</td><td>all</td><td>Irx5__Lmx1a</td><td>neuron</td><td>Day5</td><td>obob5v5</td><td>Day5</td><td>obobBL6d5</td><td>restored_grouping</td><td>pos_restored</td><td>⋯</td><td>0.612</td><td>0.0168292333</td><td>ENSMUSG00000073164</td><td>1.7384968</td><td>70</td><td>2686</td><td>0.02606106</td><td>0.1</td><td>150</td><td>FALSE</td></tr>\n",
       "\t<tr><td>Irx5__Lmx1a___Day5.obob5v5__v__Day5.obobBL6d5___restored_grouping.pos_restored_vs_none</td><td>all</td><td>Irx5__Lmx1a</td><td>neuron</td><td>Day5</td><td>obob5v5</td><td>Day5</td><td>obobBL6d5</td><td>restored_grouping</td><td>pos_restored</td><td>⋯</td><td>0.830</td><td>0.0105068677</td><td>ENSMUSG00000050103</td><td>1.6422486</td><td>70</td><td>2686</td><td>0.02606106</td><td>0.1</td><td>150</td><td>FALSE</td></tr>\n",
       "\t<tr><td>Irx5__Lmx1a___Day5.obob5v5__v__Day5.obobBL6d5___restored_grouping.pos_restored_vs_none</td><td>all</td><td>Irx5__Lmx1a</td><td>neuron</td><td>Day5</td><td>obob5v5</td><td>Day5</td><td>obobBL6d5</td><td>restored_grouping</td><td>pos_restored</td><td>⋯</td><td>0.857</td><td>0.0240029910</td><td>ENSMUSG00000021136</td><td>1.5957681</td><td>70</td><td>2686</td><td>0.02606106</td><td>0.1</td><td>150</td><td>FALSE</td></tr>\n",
       "\t<tr><td>Irx5__Lmx1a___Day5.obob5v5__v__Day5.obobBL6d5___restored_grouping.pos_restored_vs_none</td><td>all</td><td>Irx5__Lmx1a</td><td>neuron</td><td>Day5</td><td>obob5v5</td><td>Day5</td><td>obobBL6d5</td><td>restored_grouping</td><td>pos_restored</td><td>⋯</td><td>0.873</td><td>0.0103823448</td><td>ENSMUSG00000109838</td><td>1.5120841</td><td>70</td><td>2686</td><td>0.02606106</td><td>0.1</td><td>150</td><td>FALSE</td></tr>\n",
       "\t<tr><td>Irx5__Lmx1a___Day5.obob5v5__v__Day5.obobBL6d5___restored_grouping.pos_restored_vs_none</td><td>all</td><td>Irx5__Lmx1a</td><td>neuron</td><td>Day5</td><td>obob5v5</td><td>Day5</td><td>obobBL6d5</td><td>restored_grouping</td><td>pos_restored</td><td>⋯</td><td>0.968</td><td>0.0009618076</td><td>ENSMUSG00000106379</td><td>1.4873703</td><td>70</td><td>2686</td><td>0.02606106</td><td>0.1</td><td>150</td><td>FALSE</td></tr>\n",
       "\t<tr><td>Irx5__Lmx1a___Day5.obob5v5__v__Day5.obobBL6d5___restored_grouping.pos_restored_vs_none</td><td>all</td><td>Irx5__Lmx1a</td><td>neuron</td><td>Day5</td><td>obob5v5</td><td>Day5</td><td>obobBL6d5</td><td>restored_grouping</td><td>pos_restored</td><td>⋯</td><td>0.949</td><td>0.0019537422</td><td>ENSMUSG00000109849</td><td>1.2872041</td><td>70</td><td>2686</td><td>0.02606106</td><td>0.1</td><td>150</td><td>FALSE</td></tr>\n",
       "\t<tr><td>Irx5__Lmx1a___Day5.obob5v5__v__Day5.obobBL6d5___restored_grouping.pos_restored_vs_none</td><td>all</td><td>Irx5__Lmx1a</td><td>neuron</td><td>Day5</td><td>obob5v5</td><td>Day5</td><td>obobBL6d5</td><td>restored_grouping</td><td>pos_restored</td><td>⋯</td><td>0.874</td><td>0.0206192668</td><td>ENSMUSG00000070366</td><td>1.2505915</td><td>70</td><td>2686</td><td>0.02606106</td><td>0.1</td><td>150</td><td>FALSE</td></tr>\n",
       "\t<tr><td>Irx5__Lmx1a___Day5.obob5v5__v__Day5.obobBL6d5___restored_grouping.pos_restored_vs_none</td><td>all</td><td>Irx5__Lmx1a</td><td>neuron</td><td>Day5</td><td>obob5v5</td><td>Day5</td><td>obobBL6d5</td><td>restored_grouping</td><td>pos_restored</td><td>⋯</td><td>0.943</td><td>0.0055052054</td><td>ENSMUSG00000040536</td><td>1.2297779</td><td>70</td><td>2686</td><td>0.02606106</td><td>0.1</td><td>150</td><td>FALSE</td></tr>\n",
       "\t<tr><td>Irx5__Lmx1a___Day5.obob5v5__v__Day5.obobBL6d5___restored_grouping.pos_restored_vs_none</td><td>all</td><td>Irx5__Lmx1a</td><td>neuron</td><td>Day5</td><td>obob5v5</td><td>Day5</td><td>obobBL6d5</td><td>restored_grouping</td><td>pos_restored</td><td>⋯</td><td>0.994</td><td>0.0034095984</td><td>ENSMUSG00000029108</td><td>1.2048730</td><td>70</td><td>2686</td><td>0.02606106</td><td>0.1</td><td>150</td><td>FALSE</td></tr>\n",
       "\t<tr><td>Irx5__Lmx1a___Day5.obob5v5__v__Day5.obobBL6d5___restored_grouping.pos_restored_vs_none</td><td>all</td><td>Irx5__Lmx1a</td><td>neuron</td><td>Day5</td><td>obob5v5</td><td>Day5</td><td>obobBL6d5</td><td>restored_grouping</td><td>pos_restored</td><td>⋯</td><td>0.864</td><td>0.0405367411</td><td>ENSMUSG00000026726</td><td>1.1673421</td><td>70</td><td>2686</td><td>0.02606106</td><td>0.1</td><td>150</td><td>FALSE</td></tr>\n",
       "\t<tr><td>Irx5__Lmx1a___Day5.obob5v5__v__Day5.obobBL6d5___restored_grouping.pos_restored_vs_none</td><td>all</td><td>Irx5__Lmx1a</td><td>neuron</td><td>Day5</td><td>obob5v5</td><td>Day5</td><td>obobBL6d5</td><td>restored_grouping</td><td>pos_restored</td><td>⋯</td><td>0.893</td><td>0.0152046008</td><td>ENSMUSG00000027506</td><td>1.1661017</td><td>70</td><td>2686</td><td>0.02606106</td><td>0.1</td><td>150</td><td>FALSE</td></tr>\n",
       "\t<tr><td>Irx5__Lmx1a___Day5.obob5v5__v__Day5.obobBL6d5___restored_grouping.pos_restored_vs_none</td><td>all</td><td>Irx5__Lmx1a</td><td>neuron</td><td>Day5</td><td>obob5v5</td><td>Day5</td><td>obobBL6d5</td><td>restored_grouping</td><td>pos_restored</td><td>⋯</td><td>0.964</td><td>0.0053903289</td><td>ENSMUSG00000020042</td><td>1.1256420</td><td>70</td><td>2686</td><td>0.02606106</td><td>0.1</td><td>150</td><td>FALSE</td></tr>\n",
       "\t<tr><td>Irx5__Lmx1a___Day5.obob5v5__v__Day5.obobBL6d5___restored_grouping.pos_restored_vs_none</td><td>all</td><td>Irx5__Lmx1a</td><td>neuron</td><td>Day5</td><td>obob5v5</td><td>Day5</td><td>obobBL6d5</td><td>restored_grouping</td><td>pos_restored</td><td>⋯</td><td>0.859</td><td>0.0124560512</td><td>ENSMUSG00000112323</td><td>1.0912212</td><td>70</td><td>2686</td><td>0.02606106</td><td>0.1</td><td>150</td><td>FALSE</td></tr>\n",
       "\t<tr><td>Irx5__Lmx1a___Day5.obob5v5__v__Day5.obobBL6d5___restored_grouping.pos_restored_vs_none</td><td>all</td><td>Irx5__Lmx1a</td><td>neuron</td><td>Day5</td><td>obob5v5</td><td>Day5</td><td>obobBL6d5</td><td>restored_grouping</td><td>pos_restored</td><td>⋯</td><td>0.858</td><td>0.0398687927</td><td>ENSMUSG00000069911</td><td>1.0544795</td><td>70</td><td>2686</td><td>0.02606106</td><td>0.1</td><td>150</td><td>FALSE</td></tr>\n",
       "\t<tr><td>Irx5__Lmx1a___Day5.obob5v5__v__Day5.obobBL6d5___restored_grouping.pos_restored_vs_none</td><td>all</td><td>Irx5__Lmx1a</td><td>neuron</td><td>Day5</td><td>obob5v5</td><td>Day5</td><td>obobBL6d5</td><td>restored_grouping</td><td>pos_restored</td><td>⋯</td><td>0.907</td><td>0.0205089591</td><td>ENSMUSG00000051323</td><td>1.0246402</td><td>70</td><td>2686</td><td>0.02606106</td><td>0.1</td><td>150</td><td>FALSE</td></tr>\n",
       "\t<tr><td>Irx5__Lmx1a___Day5.obob5v5__v__Day5.obobBL6d5___restored_grouping.pos_restored_vs_none</td><td>all</td><td>Irx5__Lmx1a</td><td>neuron</td><td>Day5</td><td>obob5v5</td><td>Day5</td><td>obobBL6d5</td><td>restored_grouping</td><td>pos_restored</td><td>⋯</td><td>0.906</td><td>0.0354538145</td><td>ENSMUSG00000034981</td><td>0.9886326</td><td>70</td><td>2686</td><td>0.02606106</td><td>0.1</td><td>150</td><td>FALSE</td></tr>\n",
       "\t<tr><td>Irx5__Lmx1a___Day5.obob5v5__v__Day5.obobBL6d5___restored_grouping.pos_restored_vs_none</td><td>all</td><td>Irx5__Lmx1a</td><td>neuron</td><td>Day5</td><td>obob5v5</td><td>Day5</td><td>obobBL6d5</td><td>restored_grouping</td><td>pos_restored</td><td>⋯</td><td>0.878</td><td>0.0425996861</td><td>ENSMUSG00000032224</td><td>0.9862770</td><td>70</td><td>2686</td><td>0.02606106</td><td>0.1</td><td>150</td><td>FALSE</td></tr>\n",
       "\t<tr><td>Irx5__Lmx1a___Day5.obob5v5__v__Day5.obobBL6d5___restored_grouping.pos_restored_vs_none</td><td>all</td><td>Irx5__Lmx1a</td><td>neuron</td><td>Day5</td><td>obob5v5</td><td>Day5</td><td>obobBL6d5</td><td>restored_grouping</td><td>pos_restored</td><td>⋯</td><td>1.000</td><td>0.0058109545</td><td>ENSMUSG00000049252</td><td>0.9225322</td><td>70</td><td>2686</td><td>0.02606106</td><td>0.1</td><td>150</td><td>FALSE</td></tr>\n",
       "\t<tr><td>Irx5__Lmx1a___Day5.obob5v5__v__Day5.obobBL6d5___restored_grouping.pos_restored_vs_none</td><td>all</td><td>Irx5__Lmx1a</td><td>neuron</td><td>Day5</td><td>obob5v5</td><td>Day5</td><td>obobBL6d5</td><td>restored_grouping</td><td>pos_restored</td><td>⋯</td><td>0.840</td><td>0.0020616160</td><td>ENSMUSG00000043441</td><td>0.8894256</td><td>70</td><td>2686</td><td>0.02606106</td><td>0.1</td><td>150</td><td>FALSE</td></tr>\n",
       "\t<tr><td>Irx5__Lmx1a___Day5.obob5v5__v__Day5.obobBL6d5___restored_grouping.pos_restored_vs_none</td><td>all</td><td>Irx5__Lmx1a</td><td>neuron</td><td>Day5</td><td>obob5v5</td><td>Day5</td><td>obobBL6d5</td><td>restored_grouping</td><td>pos_restored</td><td>⋯</td><td>0.969</td><td>0.0115896434</td><td>ENSMUSG00000036510</td><td>0.8870102</td><td>70</td><td>2686</td><td>0.02606106</td><td>0.1</td><td>150</td><td>FALSE</td></tr>\n",
       "\t<tr><td>Irx5__Lmx1a___Day5.obob5v5__v__Day5.obobBL6d5___restored_grouping.pos_restored_vs_none</td><td>all</td><td>Irx5__Lmx1a</td><td>neuron</td><td>Day5</td><td>obob5v5</td><td>Day5</td><td>obobBL6d5</td><td>restored_grouping</td><td>pos_restored</td><td>⋯</td><td>0.932</td><td>0.0282790199</td><td>ENSMUSG00000021852</td><td>0.8726394</td><td>70</td><td>2686</td><td>0.02606106</td><td>0.1</td><td>150</td><td>FALSE</td></tr>\n",
       "\t<tr><td>Irx5__Lmx1a___Day5.obob5v5__v__Day5.obobBL6d5___restored_grouping.pos_restored_vs_none</td><td>all</td><td>Irx5__Lmx1a</td><td>neuron</td><td>Day5</td><td>obob5v5</td><td>Day5</td><td>obobBL6d5</td><td>restored_grouping</td><td>pos_restored</td><td>⋯</td><td>0.973</td><td>0.0103776184</td><td>ENSMUSG00000032564</td><td>0.7886782</td><td>70</td><td>2686</td><td>0.02606106</td><td>0.1</td><td>150</td><td>FALSE</td></tr>\n",
       "\t<tr><td>Irx5__Lmx1a___Day5.obob5v5__v__Day5.obobBL6d5___restored_grouping.pos_restored_vs_none</td><td>all</td><td>Irx5__Lmx1a</td><td>neuron</td><td>Day5</td><td>obob5v5</td><td>Day5</td><td>obobBL6d5</td><td>restored_grouping</td><td>pos_restored</td><td>⋯</td><td>0.800</td><td>0.0396913692</td><td>ENSMUSG00000043639</td><td>0.7704154</td><td>70</td><td>2686</td><td>0.02606106</td><td>0.1</td><td>150</td><td>FALSE</td></tr>\n",
       "\t<tr><td>Irx5__Lmx1a___Day5.obob5v5__v__Day5.obobBL6d5___restored_grouping.pos_restored_vs_none</td><td>all</td><td>Irx5__Lmx1a</td><td>neuron</td><td>Day5</td><td>obob5v5</td><td>Day5</td><td>obobBL6d5</td><td>restored_grouping</td><td>pos_restored</td><td>⋯</td><td>0.953</td><td>0.0285420706</td><td>ENSMUSG00000021708</td><td>0.7549885</td><td>70</td><td>2686</td><td>0.02606106</td><td>0.1</td><td>150</td><td>FALSE</td></tr>\n",
       "\t<tr><td>Irx5__Lmx1a___Day5.obob5v5__v__Day5.obobBL6d5___restored_grouping.pos_restored_vs_none</td><td>all</td><td>Irx5__Lmx1a</td><td>neuron</td><td>Day5</td><td>obob5v5</td><td>Day5</td><td>obobBL6d5</td><td>restored_grouping</td><td>pos_restored</td><td>⋯</td><td>0.984</td><td>0.0143036883</td><td>ENSMUSG00000024304</td><td>0.7269428</td><td>70</td><td>2686</td><td>0.02606106</td><td>0.1</td><td>150</td><td>FALSE</td></tr>\n",
       "\t<tr><td>Irx5__Lmx1a___Day5.obob5v5__v__Day5.obobBL6d5___restored_grouping.pos_restored_vs_none</td><td>all</td><td>Irx5__Lmx1a</td><td>neuron</td><td>Day5</td><td>obob5v5</td><td>Day5</td><td>obobBL6d5</td><td>restored_grouping</td><td>pos_restored</td><td>⋯</td><td>0.959</td><td>0.0261484765</td><td>ENSMUSG00000020023</td><td>0.6866697</td><td>70</td><td>2686</td><td>0.02606106</td><td>0.1</td><td>150</td><td>FALSE</td></tr>\n",
       "\t<tr><td>Irx5__Lmx1a___Day5.obob5v5__v__Day5.obobBL6d5___restored_grouping.pos_restored_vs_none</td><td>all</td><td>Irx5__Lmx1a</td><td>neuron</td><td>Day5</td><td>obob5v5</td><td>Day5</td><td>obobBL6d5</td><td>restored_grouping</td><td>pos_restored</td><td>⋯</td><td>0.967</td><td>0.0251624978</td><td>ENSMUSG00000006586</td><td>0.6800021</td><td>70</td><td>2686</td><td>0.02606106</td><td>0.1</td><td>150</td><td>FALSE</td></tr>\n",
       "\t<tr><td>Irx5__Lmx1a___Day5.obob5v5__v__Day5.obobBL6d5___restored_grouping.pos_restored_vs_none</td><td>all</td><td>Irx5__Lmx1a</td><td>neuron</td><td>Day5</td><td>obob5v5</td><td>Day5</td><td>obobBL6d5</td><td>restored_grouping</td><td>pos_restored</td><td>⋯</td><td>1.000</td><td>0.0146727222</td><td>ENSMUSG00000041014</td><td>0.6748930</td><td>70</td><td>2686</td><td>0.02606106</td><td>0.1</td><td>150</td><td>FALSE</td></tr>\n",
       "\t<tr><td>Irx5__Lmx1a___Day5.obob5v5__v__Day5.obobBL6d5___restored_grouping.pos_restored_vs_none</td><td>all</td><td>Irx5__Lmx1a</td><td>neuron</td><td>Day5</td><td>obob5v5</td><td>Day5</td><td>obobBL6d5</td><td>restored_grouping</td><td>pos_restored</td><td>⋯</td><td>0.922</td><td>0.0481553139</td><td>ENSMUSG00000045215</td><td>0.6414515</td><td>70</td><td>2686</td><td>0.02606106</td><td>0.1</td><td>150</td><td>FALSE</td></tr>\n",
       "</tbody>\n",
       "</table>\n"
      ],
      "text/latex": [
       "A tibble: 798 × 25\n",
       "\\begin{tabular}{lllllllllllllllllllll}\n",
       " tag & data\\_day & cluster & class & fgf1\\_day & fgf1\\_comparison & bl6\\_day & bl6\\_comparison & grouping & cells\\_a & ⋯ & pct.2 & p\\_val\\_adj & ensmusg & gsea\\_sort\\_score & count & total\\_cells & frac & frac\\_cutoff & n\\_cells\\_cutoff & n\\_cells\\_valid\\\\\n",
       " <chr> & <chr> & <chr> & <chr> & <chr> & <chr> & <chr> & <chr> & <chr> & <chr> & ⋯ & <dbl> & <dbl> & <chr> & <dbl> & <int> & <int> & <dbl> & <dbl> & <dbl> & <lgl>\\\\\n",
       "\\hline\n",
       "\t Irx5\\_\\_Lmx1a\\_\\_\\_Day5.obob5v5\\_\\_v\\_\\_Day5.obobBL6d5\\_\\_\\_bl6\\_grouping.neg\\_vs\\_none & all & Irx5\\_\\_Lmx1a & neuron & Day5 & obob5v5 & Day5 & obobBL6d5 & bl6\\_grouping & neg & ⋯ & 0.805 & 3.120361e-169 & ENSMUSG00000058925 & 712.25728 & 70 & 2686 & 0.02606106 & 0.1 & 150 & FALSE\\\\\n",
       "\t Irx5\\_\\_Lmx1a\\_\\_\\_Day5.obob5v5\\_\\_v\\_\\_Day5.obobBL6d5\\_\\_\\_bl6\\_grouping.neg\\_vs\\_none & all & Irx5\\_\\_Lmx1a & neuron & Day5 & obob5v5 & Day5 & obobBL6d5 & bl6\\_grouping & neg & ⋯ & 0.869 & 3.846669e-160 & ENSMUSG00000093497 & 527.36671 & 70 & 2686 & 0.02606106 & 0.1 & 150 & FALSE\\\\\n",
       "\t Irx5\\_\\_Lmx1a\\_\\_\\_Day5.obob5v5\\_\\_v\\_\\_Day5.obobBL6d5\\_\\_\\_bl6\\_grouping.neg\\_vs\\_none & all & Irx5\\_\\_Lmx1a & neuron & Day5 & obob5v5 & Day5 & obobBL6d5 & bl6\\_grouping & neg & ⋯ & 0.808 & 6.492201e-144 & ENSMUSG00000061171 & 501.18557 & 70 & 2686 & 0.02606106 & 0.1 & 150 & FALSE\\\\\n",
       "\t Irx5\\_\\_Lmx1a\\_\\_\\_Day5.obob5v5\\_\\_v\\_\\_Day5.obobBL6d5\\_\\_\\_bl6\\_grouping.neg\\_vs\\_none & all & Irx5\\_\\_Lmx1a & neuron & Day5 & obob5v5 & Day5 & obobBL6d5 & bl6\\_grouping & neg & ⋯ & 0.753 & 4.911920e-128 & ENSMUSG00000087388 & 490.36522 & 70 & 2686 & 0.02606106 & 0.1 & 150 & FALSE\\\\\n",
       "\t Irx5\\_\\_Lmx1a\\_\\_\\_Day5.obob5v5\\_\\_v\\_\\_Day5.obobBL6d5\\_\\_\\_bl6\\_grouping.neg\\_vs\\_none & all & Irx5\\_\\_Lmx1a & neuron & Day5 & obob5v5 & Day5 & obobBL6d5 & bl6\\_grouping & neg & ⋯ & 0.929 & 5.908666e-105 & ENSMUSG00000022112 & 272.88946 & 70 & 2686 & 0.02606106 & 0.1 & 150 & FALSE\\\\\n",
       "\t Irx5\\_\\_Lmx1a\\_\\_\\_Day5.obob5v5\\_\\_v\\_\\_Day5.obobBL6d5\\_\\_\\_bl6\\_grouping.neg\\_vs\\_none & all & Irx5\\_\\_Lmx1a & neuron & Day5 & obob5v5 & Day5 & obobBL6d5 & bl6\\_grouping & neg & ⋯ & 0.879 &  8.115919e-88 & ENSMUSG00000003746 & 203.89291 & 70 & 2686 & 0.02606106 & 0.1 & 150 & FALSE\\\\\n",
       "\t Irx5\\_\\_Lmx1a\\_\\_\\_Day5.obob5v5\\_\\_v\\_\\_Day5.obobBL6d5\\_\\_\\_bl6\\_grouping.neg\\_vs\\_none & all & Irx5\\_\\_Lmx1a & neuron & Day5 & obob5v5 & Day5 & obobBL6d5 & bl6\\_grouping & neg & ⋯ & 0.921 &  1.615493e-80 & ENSMUSG00000042581 & 191.99820 & 70 & 2686 & 0.02606106 & 0.1 & 150 & FALSE\\\\\n",
       "\t Irx5\\_\\_Lmx1a\\_\\_\\_Day5.obob5v5\\_\\_v\\_\\_Day5.obobBL6d5\\_\\_\\_bl6\\_grouping.neg\\_vs\\_none & all & Irx5\\_\\_Lmx1a & neuron & Day5 & obob5v5 & Day5 & obobBL6d5 & bl6\\_grouping & neg & ⋯ & 0.818 &  6.326749e-59 & ENSMUSG00000031274 & 160.24143 & 70 & 2686 & 0.02606106 & 0.1 & 150 & FALSE\\\\\n",
       "\t Irx5\\_\\_Lmx1a\\_\\_\\_Day5.obob5v5\\_\\_v\\_\\_Day5.obobBL6d5\\_\\_\\_bl6\\_grouping.neg\\_vs\\_none & all & Irx5\\_\\_Lmx1a & neuron & Day5 & obob5v5 & Day5 & obobBL6d5 & bl6\\_grouping & neg & ⋯ & 0.641 &  2.465538e-43 & ENSMUSG00000093551 & 150.48036 & 70 & 2686 & 0.02606106 & 0.1 & 150 & FALSE\\\\\n",
       "\t Irx5\\_\\_Lmx1a\\_\\_\\_Day5.obob5v5\\_\\_v\\_\\_Day5.obobBL6d5\\_\\_\\_bl6\\_grouping.neg\\_vs\\_none & all & Irx5\\_\\_Lmx1a & neuron & Day5 & obob5v5 & Day5 & obobBL6d5 & bl6\\_grouping & neg & ⋯ & 0.833 &  2.745543e-61 & ENSMUSG00000025324 & 136.25111 & 70 & 2686 & 0.02606106 & 0.1 & 150 & FALSE\\\\\n",
       "\t Irx5\\_\\_Lmx1a\\_\\_\\_Day5.obob5v5\\_\\_v\\_\\_Day5.obobBL6d5\\_\\_\\_bl6\\_grouping.neg\\_vs\\_none & all & Irx5\\_\\_Lmx1a & neuron & Day5 & obob5v5 & Day5 & obobBL6d5 & bl6\\_grouping & neg & ⋯ & 0.907 &  3.592176e-63 & ENSMUSG00000110375 & 131.28012 & 70 & 2686 & 0.02606106 & 0.1 & 150 & FALSE\\\\\n",
       "\t Irx5\\_\\_Lmx1a\\_\\_\\_Day5.obob5v5\\_\\_v\\_\\_Day5.obobBL6d5\\_\\_\\_bl6\\_grouping.neg\\_vs\\_none & all & Irx5\\_\\_Lmx1a & neuron & Day5 & obob5v5 & Day5 & obobBL6d5 & bl6\\_grouping & neg & ⋯ & 0.696 &  5.113719e-39 & ENSMUSG00000038507 & 118.53464 & 70 & 2686 & 0.02606106 & 0.1 & 150 & FALSE\\\\\n",
       "\t Irx5\\_\\_Lmx1a\\_\\_\\_Day5.obob5v5\\_\\_v\\_\\_Day5.obobBL6d5\\_\\_\\_bl6\\_grouping.neg\\_vs\\_none & all & Irx5\\_\\_Lmx1a & neuron & Day5 & obob5v5 & Day5 & obobBL6d5 & bl6\\_grouping & neg & ⋯ & 0.791 &  1.972675e-43 & ENSMUSG00000037922 & 116.91516 & 70 & 2686 & 0.02606106 & 0.1 & 150 & FALSE\\\\\n",
       "\t Irx5\\_\\_Lmx1a\\_\\_\\_Day5.obob5v5\\_\\_v\\_\\_Day5.obobBL6d5\\_\\_\\_bl6\\_grouping.neg\\_vs\\_none & all & Irx5\\_\\_Lmx1a & neuron & Day5 & obob5v5 & Day5 & obobBL6d5 & bl6\\_grouping & neg & ⋯ & 0.917 &  1.155422e-65 & ENSMUSG00000052560 & 113.30367 & 70 & 2686 & 0.02606106 & 0.1 & 150 & FALSE\\\\\n",
       "\t Irx5\\_\\_Lmx1a\\_\\_\\_Day5.obob5v5\\_\\_v\\_\\_Day5.obobBL6d5\\_\\_\\_bl6\\_grouping.neg\\_vs\\_none & all & Irx5\\_\\_Lmx1a & neuron & Day5 & obob5v5 & Day5 & obobBL6d5 & bl6\\_grouping & neg & ⋯ & 0.964 &  2.833151e-55 & ENSMUSG00000109907 & 108.04857 & 70 & 2686 & 0.02606106 & 0.1 & 150 & FALSE\\\\\n",
       "\t Irx5\\_\\_Lmx1a\\_\\_\\_Day5.obob5v5\\_\\_v\\_\\_Day5.obobBL6d5\\_\\_\\_bl6\\_grouping.neg\\_vs\\_none & all & Irx5\\_\\_Lmx1a & neuron & Day5 & obob5v5 & Day5 & obobBL6d5 & bl6\\_grouping & neg & ⋯ & 0.967 &  1.284271e-54 & ENSMUSG00000053141 &  92.89711 & 70 & 2686 & 0.02606106 & 0.1 & 150 & FALSE\\\\\n",
       "\t Irx5\\_\\_Lmx1a\\_\\_\\_Day5.obob5v5\\_\\_v\\_\\_Day5.obobBL6d5\\_\\_\\_bl6\\_grouping.neg\\_vs\\_none & all & Irx5\\_\\_Lmx1a & neuron & Day5 & obob5v5 & Day5 & obobBL6d5 & bl6\\_grouping & neg & ⋯ & 0.848 &  1.626352e-36 & ENSMUSG00000026765 &  83.46236 & 70 & 2686 & 0.02606106 & 0.1 & 150 & FALSE\\\\\n",
       "\t Irx5\\_\\_Lmx1a\\_\\_\\_Day5.obob5v5\\_\\_v\\_\\_Day5.obobBL6d5\\_\\_\\_bl6\\_grouping.neg\\_vs\\_none & all & Irx5\\_\\_Lmx1a & neuron & Day5 & obob5v5 & Day5 & obobBL6d5 & bl6\\_grouping & neg & ⋯ & 0.911 &  1.766361e-37 & ENSMUSG00000027200 &  74.31886 & 70 & 2686 & 0.02606106 & 0.1 & 150 & FALSE\\\\\n",
       "\t Irx5\\_\\_Lmx1a\\_\\_\\_Day5.obob5v5\\_\\_v\\_\\_Day5.obobBL6d5\\_\\_\\_bl6\\_grouping.neg\\_vs\\_none & all & Irx5\\_\\_Lmx1a & neuron & Day5 & obob5v5 & Day5 & obobBL6d5 & bl6\\_grouping & neg & ⋯ & 0.988 &  1.717617e-44 & ENSMUSG00000019888 &  73.33066 & 70 & 2686 & 0.02606106 & 0.1 & 150 & FALSE\\\\\n",
       "\t Irx5\\_\\_Lmx1a\\_\\_\\_Day5.obob5v5\\_\\_v\\_\\_Day5.obobBL6d5\\_\\_\\_bl6\\_grouping.neg\\_vs\\_none & all & Irx5\\_\\_Lmx1a & neuron & Day5 & obob5v5 & Day5 & obobBL6d5 & bl6\\_grouping & neg & ⋯ & 0.877 &  1.860985e-37 & ENSMUSG00000034324 &  72.21355 & 70 & 2686 & 0.02606106 & 0.1 & 150 & FALSE\\\\\n",
       "\t Irx5\\_\\_Lmx1a\\_\\_\\_Day5.obob5v5\\_\\_v\\_\\_Day5.obobBL6d5\\_\\_\\_bl6\\_grouping.neg\\_vs\\_none & all & Irx5\\_\\_Lmx1a & neuron & Day5 & obob5v5 & Day5 & obobBL6d5 & bl6\\_grouping & neg & ⋯ & 0.668 &  1.841337e-21 & ENSMUSG00000027350 &  55.29131 & 70 & 2686 & 0.02606106 & 0.1 & 150 & FALSE\\\\\n",
       "\t Irx5\\_\\_Lmx1a\\_\\_\\_Day5.obob5v5\\_\\_v\\_\\_Day5.obobBL6d5\\_\\_\\_bl6\\_grouping.neg\\_vs\\_none & all & Irx5\\_\\_Lmx1a & neuron & Day5 & obob5v5 & Day5 & obobBL6d5 & bl6\\_grouping & neg & ⋯ & 0.893 &  1.421750e-32 & ENSMUSG00000023927 &  54.51221 & 70 & 2686 & 0.02606106 & 0.1 & 150 & FALSE\\\\\n",
       "\t Irx5\\_\\_Lmx1a\\_\\_\\_Day5.obob5v5\\_\\_v\\_\\_Day5.obobBL6d5\\_\\_\\_bl6\\_grouping.neg\\_vs\\_none & all & Irx5\\_\\_Lmx1a & neuron & Day5 & obob5v5 & Day5 & obobBL6d5 & bl6\\_grouping & neg & ⋯ & 0.958 &  2.837896e-36 & ENSMUSG00000057715 &  53.29483 & 70 & 2686 & 0.02606106 & 0.1 & 150 & FALSE\\\\\n",
       "\t Irx5\\_\\_Lmx1a\\_\\_\\_Day5.obob5v5\\_\\_v\\_\\_Day5.obobBL6d5\\_\\_\\_bl6\\_grouping.neg\\_vs\\_none & all & Irx5\\_\\_Lmx1a & neuron & Day5 & obob5v5 & Day5 & obobBL6d5 & bl6\\_grouping & neg & ⋯ & 0.735 &  1.923448e-21 & ENSMUSG00000115271 &  51.80090 & 70 & 2686 & 0.02606106 & 0.1 & 150 & FALSE\\\\\n",
       "\t Irx5\\_\\_Lmx1a\\_\\_\\_Day5.obob5v5\\_\\_v\\_\\_Day5.obobBL6d5\\_\\_\\_bl6\\_grouping.neg\\_vs\\_none & all & Irx5\\_\\_Lmx1a & neuron & Day5 & obob5v5 & Day5 & obobBL6d5 & bl6\\_grouping & neg & ⋯ & 0.927 &  3.370250e-25 & ENSMUSG00000058571 &  51.07996 & 70 & 2686 & 0.02606106 & 0.1 & 150 & FALSE\\\\\n",
       "\t Irx5\\_\\_Lmx1a\\_\\_\\_Day5.obob5v5\\_\\_v\\_\\_Day5.obobBL6d5\\_\\_\\_bl6\\_grouping.neg\\_vs\\_none & all & Irx5\\_\\_Lmx1a & neuron & Day5 & obob5v5 & Day5 & obobBL6d5 & bl6\\_grouping & neg & ⋯ & 0.831 &  6.755996e-27 & ENSMUSG00000111143 &  49.87683 & 70 & 2686 & 0.02606106 & 0.1 & 150 & FALSE\\\\\n",
       "\t Irx5\\_\\_Lmx1a\\_\\_\\_Day5.obob5v5\\_\\_v\\_\\_Day5.obobBL6d5\\_\\_\\_bl6\\_grouping.neg\\_vs\\_none & all & Irx5\\_\\_Lmx1a & neuron & Day5 & obob5v5 & Day5 & obobBL6d5 & bl6\\_grouping & neg & ⋯ & 0.883 &  4.679203e-31 & ENSMUSG00000047793 &  46.62084 & 70 & 2686 & 0.02606106 & 0.1 & 150 & FALSE\\\\\n",
       "\t Irx5\\_\\_Lmx1a\\_\\_\\_Day5.obob5v5\\_\\_v\\_\\_Day5.obobBL6d5\\_\\_\\_bl6\\_grouping.neg\\_vs\\_none & all & Irx5\\_\\_Lmx1a & neuron & Day5 & obob5v5 & Day5 & obobBL6d5 & bl6\\_grouping & neg & ⋯ & 0.823 &  3.587534e-23 & ENSMUSG00000057710 &  45.97865 & 70 & 2686 & 0.02606106 & 0.1 & 150 & FALSE\\\\\n",
       "\t Irx5\\_\\_Lmx1a\\_\\_\\_Day5.obob5v5\\_\\_v\\_\\_Day5.obobBL6d5\\_\\_\\_bl6\\_grouping.neg\\_vs\\_none & all & Irx5\\_\\_Lmx1a & neuron & Day5 & obob5v5 & Day5 & obobBL6d5 & bl6\\_grouping & neg & ⋯ & 0.953 &  6.483110e-34 & ENSMUSG00000019647 &  45.26774 & 70 & 2686 & 0.02606106 & 0.1 & 150 & FALSE\\\\\n",
       "\t Irx5\\_\\_Lmx1a\\_\\_\\_Day5.obob5v5\\_\\_v\\_\\_Day5.obobBL6d5\\_\\_\\_bl6\\_grouping.neg\\_vs\\_none & all & Irx5\\_\\_Lmx1a & neuron & Day5 & obob5v5 & Day5 & obobBL6d5 & bl6\\_grouping & neg & ⋯ & 0.992 &  7.909025e-39 & ENSMUSG00000032036 &  44.79922 & 70 & 2686 & 0.02606106 & 0.1 & 150 & FALSE\\\\\n",
       "\t ⋮ & ⋮ & ⋮ & ⋮ & ⋮ & ⋮ & ⋮ & ⋮ & ⋮ & ⋮ & ⋱ & ⋮ & ⋮ & ⋮ & ⋮ & ⋮ & ⋮ & ⋮ & ⋮ & ⋮ & ⋮\\\\\n",
       "\t Irx5\\_\\_Lmx1a\\_\\_\\_Day5.obob5v5\\_\\_v\\_\\_Day5.obobBL6d5\\_\\_\\_restored\\_grouping.pos\\_restored\\_vs\\_none & all & Irx5\\_\\_Lmx1a & neuron & Day5 & obob5v5 & Day5 & obobBL6d5 & restored\\_grouping & pos\\_restored & ⋯ & 0.994 & 0.0001158199 & ENSMUSG00000054640 & 1.7819233 & 70 & 2686 & 0.02606106 & 0.1 & 150 & FALSE\\\\\n",
       "\t Irx5\\_\\_Lmx1a\\_\\_\\_Day5.obob5v5\\_\\_v\\_\\_Day5.obobBL6d5\\_\\_\\_restored\\_grouping.pos\\_restored\\_vs\\_none & all & Irx5\\_\\_Lmx1a & neuron & Day5 & obob5v5 & Day5 & obobBL6d5 & restored\\_grouping & pos\\_restored & ⋯ & 0.612 & 0.0168292333 & ENSMUSG00000073164 & 1.7384968 & 70 & 2686 & 0.02606106 & 0.1 & 150 & FALSE\\\\\n",
       "\t Irx5\\_\\_Lmx1a\\_\\_\\_Day5.obob5v5\\_\\_v\\_\\_Day5.obobBL6d5\\_\\_\\_restored\\_grouping.pos\\_restored\\_vs\\_none & all & Irx5\\_\\_Lmx1a & neuron & Day5 & obob5v5 & Day5 & obobBL6d5 & restored\\_grouping & pos\\_restored & ⋯ & 0.830 & 0.0105068677 & ENSMUSG00000050103 & 1.6422486 & 70 & 2686 & 0.02606106 & 0.1 & 150 & FALSE\\\\\n",
       "\t Irx5\\_\\_Lmx1a\\_\\_\\_Day5.obob5v5\\_\\_v\\_\\_Day5.obobBL6d5\\_\\_\\_restored\\_grouping.pos\\_restored\\_vs\\_none & all & Irx5\\_\\_Lmx1a & neuron & Day5 & obob5v5 & Day5 & obobBL6d5 & restored\\_grouping & pos\\_restored & ⋯ & 0.857 & 0.0240029910 & ENSMUSG00000021136 & 1.5957681 & 70 & 2686 & 0.02606106 & 0.1 & 150 & FALSE\\\\\n",
       "\t Irx5\\_\\_Lmx1a\\_\\_\\_Day5.obob5v5\\_\\_v\\_\\_Day5.obobBL6d5\\_\\_\\_restored\\_grouping.pos\\_restored\\_vs\\_none & all & Irx5\\_\\_Lmx1a & neuron & Day5 & obob5v5 & Day5 & obobBL6d5 & restored\\_grouping & pos\\_restored & ⋯ & 0.873 & 0.0103823448 & ENSMUSG00000109838 & 1.5120841 & 70 & 2686 & 0.02606106 & 0.1 & 150 & FALSE\\\\\n",
       "\t Irx5\\_\\_Lmx1a\\_\\_\\_Day5.obob5v5\\_\\_v\\_\\_Day5.obobBL6d5\\_\\_\\_restored\\_grouping.pos\\_restored\\_vs\\_none & all & Irx5\\_\\_Lmx1a & neuron & Day5 & obob5v5 & Day5 & obobBL6d5 & restored\\_grouping & pos\\_restored & ⋯ & 0.968 & 0.0009618076 & ENSMUSG00000106379 & 1.4873703 & 70 & 2686 & 0.02606106 & 0.1 & 150 & FALSE\\\\\n",
       "\t Irx5\\_\\_Lmx1a\\_\\_\\_Day5.obob5v5\\_\\_v\\_\\_Day5.obobBL6d5\\_\\_\\_restored\\_grouping.pos\\_restored\\_vs\\_none & all & Irx5\\_\\_Lmx1a & neuron & Day5 & obob5v5 & Day5 & obobBL6d5 & restored\\_grouping & pos\\_restored & ⋯ & 0.949 & 0.0019537422 & ENSMUSG00000109849 & 1.2872041 & 70 & 2686 & 0.02606106 & 0.1 & 150 & FALSE\\\\\n",
       "\t Irx5\\_\\_Lmx1a\\_\\_\\_Day5.obob5v5\\_\\_v\\_\\_Day5.obobBL6d5\\_\\_\\_restored\\_grouping.pos\\_restored\\_vs\\_none & all & Irx5\\_\\_Lmx1a & neuron & Day5 & obob5v5 & Day5 & obobBL6d5 & restored\\_grouping & pos\\_restored & ⋯ & 0.874 & 0.0206192668 & ENSMUSG00000070366 & 1.2505915 & 70 & 2686 & 0.02606106 & 0.1 & 150 & FALSE\\\\\n",
       "\t Irx5\\_\\_Lmx1a\\_\\_\\_Day5.obob5v5\\_\\_v\\_\\_Day5.obobBL6d5\\_\\_\\_restored\\_grouping.pos\\_restored\\_vs\\_none & all & Irx5\\_\\_Lmx1a & neuron & Day5 & obob5v5 & Day5 & obobBL6d5 & restored\\_grouping & pos\\_restored & ⋯ & 0.943 & 0.0055052054 & ENSMUSG00000040536 & 1.2297779 & 70 & 2686 & 0.02606106 & 0.1 & 150 & FALSE\\\\\n",
       "\t Irx5\\_\\_Lmx1a\\_\\_\\_Day5.obob5v5\\_\\_v\\_\\_Day5.obobBL6d5\\_\\_\\_restored\\_grouping.pos\\_restored\\_vs\\_none & all & Irx5\\_\\_Lmx1a & neuron & Day5 & obob5v5 & Day5 & obobBL6d5 & restored\\_grouping & pos\\_restored & ⋯ & 0.994 & 0.0034095984 & ENSMUSG00000029108 & 1.2048730 & 70 & 2686 & 0.02606106 & 0.1 & 150 & FALSE\\\\\n",
       "\t Irx5\\_\\_Lmx1a\\_\\_\\_Day5.obob5v5\\_\\_v\\_\\_Day5.obobBL6d5\\_\\_\\_restored\\_grouping.pos\\_restored\\_vs\\_none & all & Irx5\\_\\_Lmx1a & neuron & Day5 & obob5v5 & Day5 & obobBL6d5 & restored\\_grouping & pos\\_restored & ⋯ & 0.864 & 0.0405367411 & ENSMUSG00000026726 & 1.1673421 & 70 & 2686 & 0.02606106 & 0.1 & 150 & FALSE\\\\\n",
       "\t Irx5\\_\\_Lmx1a\\_\\_\\_Day5.obob5v5\\_\\_v\\_\\_Day5.obobBL6d5\\_\\_\\_restored\\_grouping.pos\\_restored\\_vs\\_none & all & Irx5\\_\\_Lmx1a & neuron & Day5 & obob5v5 & Day5 & obobBL6d5 & restored\\_grouping & pos\\_restored & ⋯ & 0.893 & 0.0152046008 & ENSMUSG00000027506 & 1.1661017 & 70 & 2686 & 0.02606106 & 0.1 & 150 & FALSE\\\\\n",
       "\t Irx5\\_\\_Lmx1a\\_\\_\\_Day5.obob5v5\\_\\_v\\_\\_Day5.obobBL6d5\\_\\_\\_restored\\_grouping.pos\\_restored\\_vs\\_none & all & Irx5\\_\\_Lmx1a & neuron & Day5 & obob5v5 & Day5 & obobBL6d5 & restored\\_grouping & pos\\_restored & ⋯ & 0.964 & 0.0053903289 & ENSMUSG00000020042 & 1.1256420 & 70 & 2686 & 0.02606106 & 0.1 & 150 & FALSE\\\\\n",
       "\t Irx5\\_\\_Lmx1a\\_\\_\\_Day5.obob5v5\\_\\_v\\_\\_Day5.obobBL6d5\\_\\_\\_restored\\_grouping.pos\\_restored\\_vs\\_none & all & Irx5\\_\\_Lmx1a & neuron & Day5 & obob5v5 & Day5 & obobBL6d5 & restored\\_grouping & pos\\_restored & ⋯ & 0.859 & 0.0124560512 & ENSMUSG00000112323 & 1.0912212 & 70 & 2686 & 0.02606106 & 0.1 & 150 & FALSE\\\\\n",
       "\t Irx5\\_\\_Lmx1a\\_\\_\\_Day5.obob5v5\\_\\_v\\_\\_Day5.obobBL6d5\\_\\_\\_restored\\_grouping.pos\\_restored\\_vs\\_none & all & Irx5\\_\\_Lmx1a & neuron & Day5 & obob5v5 & Day5 & obobBL6d5 & restored\\_grouping & pos\\_restored & ⋯ & 0.858 & 0.0398687927 & ENSMUSG00000069911 & 1.0544795 & 70 & 2686 & 0.02606106 & 0.1 & 150 & FALSE\\\\\n",
       "\t Irx5\\_\\_Lmx1a\\_\\_\\_Day5.obob5v5\\_\\_v\\_\\_Day5.obobBL6d5\\_\\_\\_restored\\_grouping.pos\\_restored\\_vs\\_none & all & Irx5\\_\\_Lmx1a & neuron & Day5 & obob5v5 & Day5 & obobBL6d5 & restored\\_grouping & pos\\_restored & ⋯ & 0.907 & 0.0205089591 & ENSMUSG00000051323 & 1.0246402 & 70 & 2686 & 0.02606106 & 0.1 & 150 & FALSE\\\\\n",
       "\t Irx5\\_\\_Lmx1a\\_\\_\\_Day5.obob5v5\\_\\_v\\_\\_Day5.obobBL6d5\\_\\_\\_restored\\_grouping.pos\\_restored\\_vs\\_none & all & Irx5\\_\\_Lmx1a & neuron & Day5 & obob5v5 & Day5 & obobBL6d5 & restored\\_grouping & pos\\_restored & ⋯ & 0.906 & 0.0354538145 & ENSMUSG00000034981 & 0.9886326 & 70 & 2686 & 0.02606106 & 0.1 & 150 & FALSE\\\\\n",
       "\t Irx5\\_\\_Lmx1a\\_\\_\\_Day5.obob5v5\\_\\_v\\_\\_Day5.obobBL6d5\\_\\_\\_restored\\_grouping.pos\\_restored\\_vs\\_none & all & Irx5\\_\\_Lmx1a & neuron & Day5 & obob5v5 & Day5 & obobBL6d5 & restored\\_grouping & pos\\_restored & ⋯ & 0.878 & 0.0425996861 & ENSMUSG00000032224 & 0.9862770 & 70 & 2686 & 0.02606106 & 0.1 & 150 & FALSE\\\\\n",
       "\t Irx5\\_\\_Lmx1a\\_\\_\\_Day5.obob5v5\\_\\_v\\_\\_Day5.obobBL6d5\\_\\_\\_restored\\_grouping.pos\\_restored\\_vs\\_none & all & Irx5\\_\\_Lmx1a & neuron & Day5 & obob5v5 & Day5 & obobBL6d5 & restored\\_grouping & pos\\_restored & ⋯ & 1.000 & 0.0058109545 & ENSMUSG00000049252 & 0.9225322 & 70 & 2686 & 0.02606106 & 0.1 & 150 & FALSE\\\\\n",
       "\t Irx5\\_\\_Lmx1a\\_\\_\\_Day5.obob5v5\\_\\_v\\_\\_Day5.obobBL6d5\\_\\_\\_restored\\_grouping.pos\\_restored\\_vs\\_none & all & Irx5\\_\\_Lmx1a & neuron & Day5 & obob5v5 & Day5 & obobBL6d5 & restored\\_grouping & pos\\_restored & ⋯ & 0.840 & 0.0020616160 & ENSMUSG00000043441 & 0.8894256 & 70 & 2686 & 0.02606106 & 0.1 & 150 & FALSE\\\\\n",
       "\t Irx5\\_\\_Lmx1a\\_\\_\\_Day5.obob5v5\\_\\_v\\_\\_Day5.obobBL6d5\\_\\_\\_restored\\_grouping.pos\\_restored\\_vs\\_none & all & Irx5\\_\\_Lmx1a & neuron & Day5 & obob5v5 & Day5 & obobBL6d5 & restored\\_grouping & pos\\_restored & ⋯ & 0.969 & 0.0115896434 & ENSMUSG00000036510 & 0.8870102 & 70 & 2686 & 0.02606106 & 0.1 & 150 & FALSE\\\\\n",
       "\t Irx5\\_\\_Lmx1a\\_\\_\\_Day5.obob5v5\\_\\_v\\_\\_Day5.obobBL6d5\\_\\_\\_restored\\_grouping.pos\\_restored\\_vs\\_none & all & Irx5\\_\\_Lmx1a & neuron & Day5 & obob5v5 & Day5 & obobBL6d5 & restored\\_grouping & pos\\_restored & ⋯ & 0.932 & 0.0282790199 & ENSMUSG00000021852 & 0.8726394 & 70 & 2686 & 0.02606106 & 0.1 & 150 & FALSE\\\\\n",
       "\t Irx5\\_\\_Lmx1a\\_\\_\\_Day5.obob5v5\\_\\_v\\_\\_Day5.obobBL6d5\\_\\_\\_restored\\_grouping.pos\\_restored\\_vs\\_none & all & Irx5\\_\\_Lmx1a & neuron & Day5 & obob5v5 & Day5 & obobBL6d5 & restored\\_grouping & pos\\_restored & ⋯ & 0.973 & 0.0103776184 & ENSMUSG00000032564 & 0.7886782 & 70 & 2686 & 0.02606106 & 0.1 & 150 & FALSE\\\\\n",
       "\t Irx5\\_\\_Lmx1a\\_\\_\\_Day5.obob5v5\\_\\_v\\_\\_Day5.obobBL6d5\\_\\_\\_restored\\_grouping.pos\\_restored\\_vs\\_none & all & Irx5\\_\\_Lmx1a & neuron & Day5 & obob5v5 & Day5 & obobBL6d5 & restored\\_grouping & pos\\_restored & ⋯ & 0.800 & 0.0396913692 & ENSMUSG00000043639 & 0.7704154 & 70 & 2686 & 0.02606106 & 0.1 & 150 & FALSE\\\\\n",
       "\t Irx5\\_\\_Lmx1a\\_\\_\\_Day5.obob5v5\\_\\_v\\_\\_Day5.obobBL6d5\\_\\_\\_restored\\_grouping.pos\\_restored\\_vs\\_none & all & Irx5\\_\\_Lmx1a & neuron & Day5 & obob5v5 & Day5 & obobBL6d5 & restored\\_grouping & pos\\_restored & ⋯ & 0.953 & 0.0285420706 & ENSMUSG00000021708 & 0.7549885 & 70 & 2686 & 0.02606106 & 0.1 & 150 & FALSE\\\\\n",
       "\t Irx5\\_\\_Lmx1a\\_\\_\\_Day5.obob5v5\\_\\_v\\_\\_Day5.obobBL6d5\\_\\_\\_restored\\_grouping.pos\\_restored\\_vs\\_none & all & Irx5\\_\\_Lmx1a & neuron & Day5 & obob5v5 & Day5 & obobBL6d5 & restored\\_grouping & pos\\_restored & ⋯ & 0.984 & 0.0143036883 & ENSMUSG00000024304 & 0.7269428 & 70 & 2686 & 0.02606106 & 0.1 & 150 & FALSE\\\\\n",
       "\t Irx5\\_\\_Lmx1a\\_\\_\\_Day5.obob5v5\\_\\_v\\_\\_Day5.obobBL6d5\\_\\_\\_restored\\_grouping.pos\\_restored\\_vs\\_none & all & Irx5\\_\\_Lmx1a & neuron & Day5 & obob5v5 & Day5 & obobBL6d5 & restored\\_grouping & pos\\_restored & ⋯ & 0.959 & 0.0261484765 & ENSMUSG00000020023 & 0.6866697 & 70 & 2686 & 0.02606106 & 0.1 & 150 & FALSE\\\\\n",
       "\t Irx5\\_\\_Lmx1a\\_\\_\\_Day5.obob5v5\\_\\_v\\_\\_Day5.obobBL6d5\\_\\_\\_restored\\_grouping.pos\\_restored\\_vs\\_none & all & Irx5\\_\\_Lmx1a & neuron & Day5 & obob5v5 & Day5 & obobBL6d5 & restored\\_grouping & pos\\_restored & ⋯ & 0.967 & 0.0251624978 & ENSMUSG00000006586 & 0.6800021 & 70 & 2686 & 0.02606106 & 0.1 & 150 & FALSE\\\\\n",
       "\t Irx5\\_\\_Lmx1a\\_\\_\\_Day5.obob5v5\\_\\_v\\_\\_Day5.obobBL6d5\\_\\_\\_restored\\_grouping.pos\\_restored\\_vs\\_none & all & Irx5\\_\\_Lmx1a & neuron & Day5 & obob5v5 & Day5 & obobBL6d5 & restored\\_grouping & pos\\_restored & ⋯ & 1.000 & 0.0146727222 & ENSMUSG00000041014 & 0.6748930 & 70 & 2686 & 0.02606106 & 0.1 & 150 & FALSE\\\\\n",
       "\t Irx5\\_\\_Lmx1a\\_\\_\\_Day5.obob5v5\\_\\_v\\_\\_Day5.obobBL6d5\\_\\_\\_restored\\_grouping.pos\\_restored\\_vs\\_none & all & Irx5\\_\\_Lmx1a & neuron & Day5 & obob5v5 & Day5 & obobBL6d5 & restored\\_grouping & pos\\_restored & ⋯ & 0.922 & 0.0481553139 & ENSMUSG00000045215 & 0.6414515 & 70 & 2686 & 0.02606106 & 0.1 & 150 & FALSE\\\\\n",
       "\\end{tabular}\n"
      ],
      "text/markdown": [
       "\n",
       "A tibble: 798 × 25\n",
       "\n",
       "| tag &lt;chr&gt; | data_day &lt;chr&gt; | cluster &lt;chr&gt; | class &lt;chr&gt; | fgf1_day &lt;chr&gt; | fgf1_comparison &lt;chr&gt; | bl6_day &lt;chr&gt; | bl6_comparison &lt;chr&gt; | grouping &lt;chr&gt; | cells_a &lt;chr&gt; | ⋯ ⋯ | pct.2 &lt;dbl&gt; | p_val_adj &lt;dbl&gt; | ensmusg &lt;chr&gt; | gsea_sort_score &lt;dbl&gt; | count &lt;int&gt; | total_cells &lt;int&gt; | frac &lt;dbl&gt; | frac_cutoff &lt;dbl&gt; | n_cells_cutoff &lt;dbl&gt; | n_cells_valid &lt;lgl&gt; |\n",
       "|---|---|---|---|---|---|---|---|---|---|---|---|---|---|---|---|---|---|---|---|---|\n",
       "| Irx5__Lmx1a___Day5.obob5v5__v__Day5.obobBL6d5___bl6_grouping.neg_vs_none | all | Irx5__Lmx1a | neuron | Day5 | obob5v5 | Day5 | obobBL6d5 | bl6_grouping | neg | ⋯ | 0.805 | 3.120361e-169 | ENSMUSG00000058925 | 712.25728 | 70 | 2686 | 0.02606106 | 0.1 | 150 | FALSE |\n",
       "| Irx5__Lmx1a___Day5.obob5v5__v__Day5.obobBL6d5___bl6_grouping.neg_vs_none | all | Irx5__Lmx1a | neuron | Day5 | obob5v5 | Day5 | obobBL6d5 | bl6_grouping | neg | ⋯ | 0.869 | 3.846669e-160 | ENSMUSG00000093497 | 527.36671 | 70 | 2686 | 0.02606106 | 0.1 | 150 | FALSE |\n",
       "| Irx5__Lmx1a___Day5.obob5v5__v__Day5.obobBL6d5___bl6_grouping.neg_vs_none | all | Irx5__Lmx1a | neuron | Day5 | obob5v5 | Day5 | obobBL6d5 | bl6_grouping | neg | ⋯ | 0.808 | 6.492201e-144 | ENSMUSG00000061171 | 501.18557 | 70 | 2686 | 0.02606106 | 0.1 | 150 | FALSE |\n",
       "| Irx5__Lmx1a___Day5.obob5v5__v__Day5.obobBL6d5___bl6_grouping.neg_vs_none | all | Irx5__Lmx1a | neuron | Day5 | obob5v5 | Day5 | obobBL6d5 | bl6_grouping | neg | ⋯ | 0.753 | 4.911920e-128 | ENSMUSG00000087388 | 490.36522 | 70 | 2686 | 0.02606106 | 0.1 | 150 | FALSE |\n",
       "| Irx5__Lmx1a___Day5.obob5v5__v__Day5.obobBL6d5___bl6_grouping.neg_vs_none | all | Irx5__Lmx1a | neuron | Day5 | obob5v5 | Day5 | obobBL6d5 | bl6_grouping | neg | ⋯ | 0.929 | 5.908666e-105 | ENSMUSG00000022112 | 272.88946 | 70 | 2686 | 0.02606106 | 0.1 | 150 | FALSE |\n",
       "| Irx5__Lmx1a___Day5.obob5v5__v__Day5.obobBL6d5___bl6_grouping.neg_vs_none | all | Irx5__Lmx1a | neuron | Day5 | obob5v5 | Day5 | obobBL6d5 | bl6_grouping | neg | ⋯ | 0.879 |  8.115919e-88 | ENSMUSG00000003746 | 203.89291 | 70 | 2686 | 0.02606106 | 0.1 | 150 | FALSE |\n",
       "| Irx5__Lmx1a___Day5.obob5v5__v__Day5.obobBL6d5___bl6_grouping.neg_vs_none | all | Irx5__Lmx1a | neuron | Day5 | obob5v5 | Day5 | obobBL6d5 | bl6_grouping | neg | ⋯ | 0.921 |  1.615493e-80 | ENSMUSG00000042581 | 191.99820 | 70 | 2686 | 0.02606106 | 0.1 | 150 | FALSE |\n",
       "| Irx5__Lmx1a___Day5.obob5v5__v__Day5.obobBL6d5___bl6_grouping.neg_vs_none | all | Irx5__Lmx1a | neuron | Day5 | obob5v5 | Day5 | obobBL6d5 | bl6_grouping | neg | ⋯ | 0.818 |  6.326749e-59 | ENSMUSG00000031274 | 160.24143 | 70 | 2686 | 0.02606106 | 0.1 | 150 | FALSE |\n",
       "| Irx5__Lmx1a___Day5.obob5v5__v__Day5.obobBL6d5___bl6_grouping.neg_vs_none | all | Irx5__Lmx1a | neuron | Day5 | obob5v5 | Day5 | obobBL6d5 | bl6_grouping | neg | ⋯ | 0.641 |  2.465538e-43 | ENSMUSG00000093551 | 150.48036 | 70 | 2686 | 0.02606106 | 0.1 | 150 | FALSE |\n",
       "| Irx5__Lmx1a___Day5.obob5v5__v__Day5.obobBL6d5___bl6_grouping.neg_vs_none | all | Irx5__Lmx1a | neuron | Day5 | obob5v5 | Day5 | obobBL6d5 | bl6_grouping | neg | ⋯ | 0.833 |  2.745543e-61 | ENSMUSG00000025324 | 136.25111 | 70 | 2686 | 0.02606106 | 0.1 | 150 | FALSE |\n",
       "| Irx5__Lmx1a___Day5.obob5v5__v__Day5.obobBL6d5___bl6_grouping.neg_vs_none | all | Irx5__Lmx1a | neuron | Day5 | obob5v5 | Day5 | obobBL6d5 | bl6_grouping | neg | ⋯ | 0.907 |  3.592176e-63 | ENSMUSG00000110375 | 131.28012 | 70 | 2686 | 0.02606106 | 0.1 | 150 | FALSE |\n",
       "| Irx5__Lmx1a___Day5.obob5v5__v__Day5.obobBL6d5___bl6_grouping.neg_vs_none | all | Irx5__Lmx1a | neuron | Day5 | obob5v5 | Day5 | obobBL6d5 | bl6_grouping | neg | ⋯ | 0.696 |  5.113719e-39 | ENSMUSG00000038507 | 118.53464 | 70 | 2686 | 0.02606106 | 0.1 | 150 | FALSE |\n",
       "| Irx5__Lmx1a___Day5.obob5v5__v__Day5.obobBL6d5___bl6_grouping.neg_vs_none | all | Irx5__Lmx1a | neuron | Day5 | obob5v5 | Day5 | obobBL6d5 | bl6_grouping | neg | ⋯ | 0.791 |  1.972675e-43 | ENSMUSG00000037922 | 116.91516 | 70 | 2686 | 0.02606106 | 0.1 | 150 | FALSE |\n",
       "| Irx5__Lmx1a___Day5.obob5v5__v__Day5.obobBL6d5___bl6_grouping.neg_vs_none | all | Irx5__Lmx1a | neuron | Day5 | obob5v5 | Day5 | obobBL6d5 | bl6_grouping | neg | ⋯ | 0.917 |  1.155422e-65 | ENSMUSG00000052560 | 113.30367 | 70 | 2686 | 0.02606106 | 0.1 | 150 | FALSE |\n",
       "| Irx5__Lmx1a___Day5.obob5v5__v__Day5.obobBL6d5___bl6_grouping.neg_vs_none | all | Irx5__Lmx1a | neuron | Day5 | obob5v5 | Day5 | obobBL6d5 | bl6_grouping | neg | ⋯ | 0.964 |  2.833151e-55 | ENSMUSG00000109907 | 108.04857 | 70 | 2686 | 0.02606106 | 0.1 | 150 | FALSE |\n",
       "| Irx5__Lmx1a___Day5.obob5v5__v__Day5.obobBL6d5___bl6_grouping.neg_vs_none | all | Irx5__Lmx1a | neuron | Day5 | obob5v5 | Day5 | obobBL6d5 | bl6_grouping | neg | ⋯ | 0.967 |  1.284271e-54 | ENSMUSG00000053141 |  92.89711 | 70 | 2686 | 0.02606106 | 0.1 | 150 | FALSE |\n",
       "| Irx5__Lmx1a___Day5.obob5v5__v__Day5.obobBL6d5___bl6_grouping.neg_vs_none | all | Irx5__Lmx1a | neuron | Day5 | obob5v5 | Day5 | obobBL6d5 | bl6_grouping | neg | ⋯ | 0.848 |  1.626352e-36 | ENSMUSG00000026765 |  83.46236 | 70 | 2686 | 0.02606106 | 0.1 | 150 | FALSE |\n",
       "| Irx5__Lmx1a___Day5.obob5v5__v__Day5.obobBL6d5___bl6_grouping.neg_vs_none | all | Irx5__Lmx1a | neuron | Day5 | obob5v5 | Day5 | obobBL6d5 | bl6_grouping | neg | ⋯ | 0.911 |  1.766361e-37 | ENSMUSG00000027200 |  74.31886 | 70 | 2686 | 0.02606106 | 0.1 | 150 | FALSE |\n",
       "| Irx5__Lmx1a___Day5.obob5v5__v__Day5.obobBL6d5___bl6_grouping.neg_vs_none | all | Irx5__Lmx1a | neuron | Day5 | obob5v5 | Day5 | obobBL6d5 | bl6_grouping | neg | ⋯ | 0.988 |  1.717617e-44 | ENSMUSG00000019888 |  73.33066 | 70 | 2686 | 0.02606106 | 0.1 | 150 | FALSE |\n",
       "| Irx5__Lmx1a___Day5.obob5v5__v__Day5.obobBL6d5___bl6_grouping.neg_vs_none | all | Irx5__Lmx1a | neuron | Day5 | obob5v5 | Day5 | obobBL6d5 | bl6_grouping | neg | ⋯ | 0.877 |  1.860985e-37 | ENSMUSG00000034324 |  72.21355 | 70 | 2686 | 0.02606106 | 0.1 | 150 | FALSE |\n",
       "| Irx5__Lmx1a___Day5.obob5v5__v__Day5.obobBL6d5___bl6_grouping.neg_vs_none | all | Irx5__Lmx1a | neuron | Day5 | obob5v5 | Day5 | obobBL6d5 | bl6_grouping | neg | ⋯ | 0.668 |  1.841337e-21 | ENSMUSG00000027350 |  55.29131 | 70 | 2686 | 0.02606106 | 0.1 | 150 | FALSE |\n",
       "| Irx5__Lmx1a___Day5.obob5v5__v__Day5.obobBL6d5___bl6_grouping.neg_vs_none | all | Irx5__Lmx1a | neuron | Day5 | obob5v5 | Day5 | obobBL6d5 | bl6_grouping | neg | ⋯ | 0.893 |  1.421750e-32 | ENSMUSG00000023927 |  54.51221 | 70 | 2686 | 0.02606106 | 0.1 | 150 | FALSE |\n",
       "| Irx5__Lmx1a___Day5.obob5v5__v__Day5.obobBL6d5___bl6_grouping.neg_vs_none | all | Irx5__Lmx1a | neuron | Day5 | obob5v5 | Day5 | obobBL6d5 | bl6_grouping | neg | ⋯ | 0.958 |  2.837896e-36 | ENSMUSG00000057715 |  53.29483 | 70 | 2686 | 0.02606106 | 0.1 | 150 | FALSE |\n",
       "| Irx5__Lmx1a___Day5.obob5v5__v__Day5.obobBL6d5___bl6_grouping.neg_vs_none | all | Irx5__Lmx1a | neuron | Day5 | obob5v5 | Day5 | obobBL6d5 | bl6_grouping | neg | ⋯ | 0.735 |  1.923448e-21 | ENSMUSG00000115271 |  51.80090 | 70 | 2686 | 0.02606106 | 0.1 | 150 | FALSE |\n",
       "| Irx5__Lmx1a___Day5.obob5v5__v__Day5.obobBL6d5___bl6_grouping.neg_vs_none | all | Irx5__Lmx1a | neuron | Day5 | obob5v5 | Day5 | obobBL6d5 | bl6_grouping | neg | ⋯ | 0.927 |  3.370250e-25 | ENSMUSG00000058571 |  51.07996 | 70 | 2686 | 0.02606106 | 0.1 | 150 | FALSE |\n",
       "| Irx5__Lmx1a___Day5.obob5v5__v__Day5.obobBL6d5___bl6_grouping.neg_vs_none | all | Irx5__Lmx1a | neuron | Day5 | obob5v5 | Day5 | obobBL6d5 | bl6_grouping | neg | ⋯ | 0.831 |  6.755996e-27 | ENSMUSG00000111143 |  49.87683 | 70 | 2686 | 0.02606106 | 0.1 | 150 | FALSE |\n",
       "| Irx5__Lmx1a___Day5.obob5v5__v__Day5.obobBL6d5___bl6_grouping.neg_vs_none | all | Irx5__Lmx1a | neuron | Day5 | obob5v5 | Day5 | obobBL6d5 | bl6_grouping | neg | ⋯ | 0.883 |  4.679203e-31 | ENSMUSG00000047793 |  46.62084 | 70 | 2686 | 0.02606106 | 0.1 | 150 | FALSE |\n",
       "| Irx5__Lmx1a___Day5.obob5v5__v__Day5.obobBL6d5___bl6_grouping.neg_vs_none | all | Irx5__Lmx1a | neuron | Day5 | obob5v5 | Day5 | obobBL6d5 | bl6_grouping | neg | ⋯ | 0.823 |  3.587534e-23 | ENSMUSG00000057710 |  45.97865 | 70 | 2686 | 0.02606106 | 0.1 | 150 | FALSE |\n",
       "| Irx5__Lmx1a___Day5.obob5v5__v__Day5.obobBL6d5___bl6_grouping.neg_vs_none | all | Irx5__Lmx1a | neuron | Day5 | obob5v5 | Day5 | obobBL6d5 | bl6_grouping | neg | ⋯ | 0.953 |  6.483110e-34 | ENSMUSG00000019647 |  45.26774 | 70 | 2686 | 0.02606106 | 0.1 | 150 | FALSE |\n",
       "| Irx5__Lmx1a___Day5.obob5v5__v__Day5.obobBL6d5___bl6_grouping.neg_vs_none | all | Irx5__Lmx1a | neuron | Day5 | obob5v5 | Day5 | obobBL6d5 | bl6_grouping | neg | ⋯ | 0.992 |  7.909025e-39 | ENSMUSG00000032036 |  44.79922 | 70 | 2686 | 0.02606106 | 0.1 | 150 | FALSE |\n",
       "| ⋮ | ⋮ | ⋮ | ⋮ | ⋮ | ⋮ | ⋮ | ⋮ | ⋮ | ⋮ | ⋱ | ⋮ | ⋮ | ⋮ | ⋮ | ⋮ | ⋮ | ⋮ | ⋮ | ⋮ | ⋮ |\n",
       "| Irx5__Lmx1a___Day5.obob5v5__v__Day5.obobBL6d5___restored_grouping.pos_restored_vs_none | all | Irx5__Lmx1a | neuron | Day5 | obob5v5 | Day5 | obobBL6d5 | restored_grouping | pos_restored | ⋯ | 0.994 | 0.0001158199 | ENSMUSG00000054640 | 1.7819233 | 70 | 2686 | 0.02606106 | 0.1 | 150 | FALSE |\n",
       "| Irx5__Lmx1a___Day5.obob5v5__v__Day5.obobBL6d5___restored_grouping.pos_restored_vs_none | all | Irx5__Lmx1a | neuron | Day5 | obob5v5 | Day5 | obobBL6d5 | restored_grouping | pos_restored | ⋯ | 0.612 | 0.0168292333 | ENSMUSG00000073164 | 1.7384968 | 70 | 2686 | 0.02606106 | 0.1 | 150 | FALSE |\n",
       "| Irx5__Lmx1a___Day5.obob5v5__v__Day5.obobBL6d5___restored_grouping.pos_restored_vs_none | all | Irx5__Lmx1a | neuron | Day5 | obob5v5 | Day5 | obobBL6d5 | restored_grouping | pos_restored | ⋯ | 0.830 | 0.0105068677 | ENSMUSG00000050103 | 1.6422486 | 70 | 2686 | 0.02606106 | 0.1 | 150 | FALSE |\n",
       "| Irx5__Lmx1a___Day5.obob5v5__v__Day5.obobBL6d5___restored_grouping.pos_restored_vs_none | all | Irx5__Lmx1a | neuron | Day5 | obob5v5 | Day5 | obobBL6d5 | restored_grouping | pos_restored | ⋯ | 0.857 | 0.0240029910 | ENSMUSG00000021136 | 1.5957681 | 70 | 2686 | 0.02606106 | 0.1 | 150 | FALSE |\n",
       "| Irx5__Lmx1a___Day5.obob5v5__v__Day5.obobBL6d5___restored_grouping.pos_restored_vs_none | all | Irx5__Lmx1a | neuron | Day5 | obob5v5 | Day5 | obobBL6d5 | restored_grouping | pos_restored | ⋯ | 0.873 | 0.0103823448 | ENSMUSG00000109838 | 1.5120841 | 70 | 2686 | 0.02606106 | 0.1 | 150 | FALSE |\n",
       "| Irx5__Lmx1a___Day5.obob5v5__v__Day5.obobBL6d5___restored_grouping.pos_restored_vs_none | all | Irx5__Lmx1a | neuron | Day5 | obob5v5 | Day5 | obobBL6d5 | restored_grouping | pos_restored | ⋯ | 0.968 | 0.0009618076 | ENSMUSG00000106379 | 1.4873703 | 70 | 2686 | 0.02606106 | 0.1 | 150 | FALSE |\n",
       "| Irx5__Lmx1a___Day5.obob5v5__v__Day5.obobBL6d5___restored_grouping.pos_restored_vs_none | all | Irx5__Lmx1a | neuron | Day5 | obob5v5 | Day5 | obobBL6d5 | restored_grouping | pos_restored | ⋯ | 0.949 | 0.0019537422 | ENSMUSG00000109849 | 1.2872041 | 70 | 2686 | 0.02606106 | 0.1 | 150 | FALSE |\n",
       "| Irx5__Lmx1a___Day5.obob5v5__v__Day5.obobBL6d5___restored_grouping.pos_restored_vs_none | all | Irx5__Lmx1a | neuron | Day5 | obob5v5 | Day5 | obobBL6d5 | restored_grouping | pos_restored | ⋯ | 0.874 | 0.0206192668 | ENSMUSG00000070366 | 1.2505915 | 70 | 2686 | 0.02606106 | 0.1 | 150 | FALSE |\n",
       "| Irx5__Lmx1a___Day5.obob5v5__v__Day5.obobBL6d5___restored_grouping.pos_restored_vs_none | all | Irx5__Lmx1a | neuron | Day5 | obob5v5 | Day5 | obobBL6d5 | restored_grouping | pos_restored | ⋯ | 0.943 | 0.0055052054 | ENSMUSG00000040536 | 1.2297779 | 70 | 2686 | 0.02606106 | 0.1 | 150 | FALSE |\n",
       "| Irx5__Lmx1a___Day5.obob5v5__v__Day5.obobBL6d5___restored_grouping.pos_restored_vs_none | all | Irx5__Lmx1a | neuron | Day5 | obob5v5 | Day5 | obobBL6d5 | restored_grouping | pos_restored | ⋯ | 0.994 | 0.0034095984 | ENSMUSG00000029108 | 1.2048730 | 70 | 2686 | 0.02606106 | 0.1 | 150 | FALSE |\n",
       "| Irx5__Lmx1a___Day5.obob5v5__v__Day5.obobBL6d5___restored_grouping.pos_restored_vs_none | all | Irx5__Lmx1a | neuron | Day5 | obob5v5 | Day5 | obobBL6d5 | restored_grouping | pos_restored | ⋯ | 0.864 | 0.0405367411 | ENSMUSG00000026726 | 1.1673421 | 70 | 2686 | 0.02606106 | 0.1 | 150 | FALSE |\n",
       "| Irx5__Lmx1a___Day5.obob5v5__v__Day5.obobBL6d5___restored_grouping.pos_restored_vs_none | all | Irx5__Lmx1a | neuron | Day5 | obob5v5 | Day5 | obobBL6d5 | restored_grouping | pos_restored | ⋯ | 0.893 | 0.0152046008 | ENSMUSG00000027506 | 1.1661017 | 70 | 2686 | 0.02606106 | 0.1 | 150 | FALSE |\n",
       "| Irx5__Lmx1a___Day5.obob5v5__v__Day5.obobBL6d5___restored_grouping.pos_restored_vs_none | all | Irx5__Lmx1a | neuron | Day5 | obob5v5 | Day5 | obobBL6d5 | restored_grouping | pos_restored | ⋯ | 0.964 | 0.0053903289 | ENSMUSG00000020042 | 1.1256420 | 70 | 2686 | 0.02606106 | 0.1 | 150 | FALSE |\n",
       "| Irx5__Lmx1a___Day5.obob5v5__v__Day5.obobBL6d5___restored_grouping.pos_restored_vs_none | all | Irx5__Lmx1a | neuron | Day5 | obob5v5 | Day5 | obobBL6d5 | restored_grouping | pos_restored | ⋯ | 0.859 | 0.0124560512 | ENSMUSG00000112323 | 1.0912212 | 70 | 2686 | 0.02606106 | 0.1 | 150 | FALSE |\n",
       "| Irx5__Lmx1a___Day5.obob5v5__v__Day5.obobBL6d5___restored_grouping.pos_restored_vs_none | all | Irx5__Lmx1a | neuron | Day5 | obob5v5 | Day5 | obobBL6d5 | restored_grouping | pos_restored | ⋯ | 0.858 | 0.0398687927 | ENSMUSG00000069911 | 1.0544795 | 70 | 2686 | 0.02606106 | 0.1 | 150 | FALSE |\n",
       "| Irx5__Lmx1a___Day5.obob5v5__v__Day5.obobBL6d5___restored_grouping.pos_restored_vs_none | all | Irx5__Lmx1a | neuron | Day5 | obob5v5 | Day5 | obobBL6d5 | restored_grouping | pos_restored | ⋯ | 0.907 | 0.0205089591 | ENSMUSG00000051323 | 1.0246402 | 70 | 2686 | 0.02606106 | 0.1 | 150 | FALSE |\n",
       "| Irx5__Lmx1a___Day5.obob5v5__v__Day5.obobBL6d5___restored_grouping.pos_restored_vs_none | all | Irx5__Lmx1a | neuron | Day5 | obob5v5 | Day5 | obobBL6d5 | restored_grouping | pos_restored | ⋯ | 0.906 | 0.0354538145 | ENSMUSG00000034981 | 0.9886326 | 70 | 2686 | 0.02606106 | 0.1 | 150 | FALSE |\n",
       "| Irx5__Lmx1a___Day5.obob5v5__v__Day5.obobBL6d5___restored_grouping.pos_restored_vs_none | all | Irx5__Lmx1a | neuron | Day5 | obob5v5 | Day5 | obobBL6d5 | restored_grouping | pos_restored | ⋯ | 0.878 | 0.0425996861 | ENSMUSG00000032224 | 0.9862770 | 70 | 2686 | 0.02606106 | 0.1 | 150 | FALSE |\n",
       "| Irx5__Lmx1a___Day5.obob5v5__v__Day5.obobBL6d5___restored_grouping.pos_restored_vs_none | all | Irx5__Lmx1a | neuron | Day5 | obob5v5 | Day5 | obobBL6d5 | restored_grouping | pos_restored | ⋯ | 1.000 | 0.0058109545 | ENSMUSG00000049252 | 0.9225322 | 70 | 2686 | 0.02606106 | 0.1 | 150 | FALSE |\n",
       "| Irx5__Lmx1a___Day5.obob5v5__v__Day5.obobBL6d5___restored_grouping.pos_restored_vs_none | all | Irx5__Lmx1a | neuron | Day5 | obob5v5 | Day5 | obobBL6d5 | restored_grouping | pos_restored | ⋯ | 0.840 | 0.0020616160 | ENSMUSG00000043441 | 0.8894256 | 70 | 2686 | 0.02606106 | 0.1 | 150 | FALSE |\n",
       "| Irx5__Lmx1a___Day5.obob5v5__v__Day5.obobBL6d5___restored_grouping.pos_restored_vs_none | all | Irx5__Lmx1a | neuron | Day5 | obob5v5 | Day5 | obobBL6d5 | restored_grouping | pos_restored | ⋯ | 0.969 | 0.0115896434 | ENSMUSG00000036510 | 0.8870102 | 70 | 2686 | 0.02606106 | 0.1 | 150 | FALSE |\n",
       "| Irx5__Lmx1a___Day5.obob5v5__v__Day5.obobBL6d5___restored_grouping.pos_restored_vs_none | all | Irx5__Lmx1a | neuron | Day5 | obob5v5 | Day5 | obobBL6d5 | restored_grouping | pos_restored | ⋯ | 0.932 | 0.0282790199 | ENSMUSG00000021852 | 0.8726394 | 70 | 2686 | 0.02606106 | 0.1 | 150 | FALSE |\n",
       "| Irx5__Lmx1a___Day5.obob5v5__v__Day5.obobBL6d5___restored_grouping.pos_restored_vs_none | all | Irx5__Lmx1a | neuron | Day5 | obob5v5 | Day5 | obobBL6d5 | restored_grouping | pos_restored | ⋯ | 0.973 | 0.0103776184 | ENSMUSG00000032564 | 0.7886782 | 70 | 2686 | 0.02606106 | 0.1 | 150 | FALSE |\n",
       "| Irx5__Lmx1a___Day5.obob5v5__v__Day5.obobBL6d5___restored_grouping.pos_restored_vs_none | all | Irx5__Lmx1a | neuron | Day5 | obob5v5 | Day5 | obobBL6d5 | restored_grouping | pos_restored | ⋯ | 0.800 | 0.0396913692 | ENSMUSG00000043639 | 0.7704154 | 70 | 2686 | 0.02606106 | 0.1 | 150 | FALSE |\n",
       "| Irx5__Lmx1a___Day5.obob5v5__v__Day5.obobBL6d5___restored_grouping.pos_restored_vs_none | all | Irx5__Lmx1a | neuron | Day5 | obob5v5 | Day5 | obobBL6d5 | restored_grouping | pos_restored | ⋯ | 0.953 | 0.0285420706 | ENSMUSG00000021708 | 0.7549885 | 70 | 2686 | 0.02606106 | 0.1 | 150 | FALSE |\n",
       "| Irx5__Lmx1a___Day5.obob5v5__v__Day5.obobBL6d5___restored_grouping.pos_restored_vs_none | all | Irx5__Lmx1a | neuron | Day5 | obob5v5 | Day5 | obobBL6d5 | restored_grouping | pos_restored | ⋯ | 0.984 | 0.0143036883 | ENSMUSG00000024304 | 0.7269428 | 70 | 2686 | 0.02606106 | 0.1 | 150 | FALSE |\n",
       "| Irx5__Lmx1a___Day5.obob5v5__v__Day5.obobBL6d5___restored_grouping.pos_restored_vs_none | all | Irx5__Lmx1a | neuron | Day5 | obob5v5 | Day5 | obobBL6d5 | restored_grouping | pos_restored | ⋯ | 0.959 | 0.0261484765 | ENSMUSG00000020023 | 0.6866697 | 70 | 2686 | 0.02606106 | 0.1 | 150 | FALSE |\n",
       "| Irx5__Lmx1a___Day5.obob5v5__v__Day5.obobBL6d5___restored_grouping.pos_restored_vs_none | all | Irx5__Lmx1a | neuron | Day5 | obob5v5 | Day5 | obobBL6d5 | restored_grouping | pos_restored | ⋯ | 0.967 | 0.0251624978 | ENSMUSG00000006586 | 0.6800021 | 70 | 2686 | 0.02606106 | 0.1 | 150 | FALSE |\n",
       "| Irx5__Lmx1a___Day5.obob5v5__v__Day5.obobBL6d5___restored_grouping.pos_restored_vs_none | all | Irx5__Lmx1a | neuron | Day5 | obob5v5 | Day5 | obobBL6d5 | restored_grouping | pos_restored | ⋯ | 1.000 | 0.0146727222 | ENSMUSG00000041014 | 0.6748930 | 70 | 2686 | 0.02606106 | 0.1 | 150 | FALSE |\n",
       "| Irx5__Lmx1a___Day5.obob5v5__v__Day5.obobBL6d5___restored_grouping.pos_restored_vs_none | all | Irx5__Lmx1a | neuron | Day5 | obob5v5 | Day5 | obobBL6d5 | restored_grouping | pos_restored | ⋯ | 0.922 | 0.0481553139 | ENSMUSG00000045215 | 0.6414515 | 70 | 2686 | 0.02606106 | 0.1 | 150 | FALSE |\n",
       "\n"
      ],
      "text/plain": [
       "    tag                                                                                   \n",
       "1   Irx5__Lmx1a___Day5.obob5v5__v__Day5.obobBL6d5___bl6_grouping.neg_vs_none              \n",
       "2   Irx5__Lmx1a___Day5.obob5v5__v__Day5.obobBL6d5___bl6_grouping.neg_vs_none              \n",
       "3   Irx5__Lmx1a___Day5.obob5v5__v__Day5.obobBL6d5___bl6_grouping.neg_vs_none              \n",
       "4   Irx5__Lmx1a___Day5.obob5v5__v__Day5.obobBL6d5___bl6_grouping.neg_vs_none              \n",
       "5   Irx5__Lmx1a___Day5.obob5v5__v__Day5.obobBL6d5___bl6_grouping.neg_vs_none              \n",
       "6   Irx5__Lmx1a___Day5.obob5v5__v__Day5.obobBL6d5___bl6_grouping.neg_vs_none              \n",
       "7   Irx5__Lmx1a___Day5.obob5v5__v__Day5.obobBL6d5___bl6_grouping.neg_vs_none              \n",
       "8   Irx5__Lmx1a___Day5.obob5v5__v__Day5.obobBL6d5___bl6_grouping.neg_vs_none              \n",
       "9   Irx5__Lmx1a___Day5.obob5v5__v__Day5.obobBL6d5___bl6_grouping.neg_vs_none              \n",
       "10  Irx5__Lmx1a___Day5.obob5v5__v__Day5.obobBL6d5___bl6_grouping.neg_vs_none              \n",
       "11  Irx5__Lmx1a___Day5.obob5v5__v__Day5.obobBL6d5___bl6_grouping.neg_vs_none              \n",
       "12  Irx5__Lmx1a___Day5.obob5v5__v__Day5.obobBL6d5___bl6_grouping.neg_vs_none              \n",
       "13  Irx5__Lmx1a___Day5.obob5v5__v__Day5.obobBL6d5___bl6_grouping.neg_vs_none              \n",
       "14  Irx5__Lmx1a___Day5.obob5v5__v__Day5.obobBL6d5___bl6_grouping.neg_vs_none              \n",
       "15  Irx5__Lmx1a___Day5.obob5v5__v__Day5.obobBL6d5___bl6_grouping.neg_vs_none              \n",
       "16  Irx5__Lmx1a___Day5.obob5v5__v__Day5.obobBL6d5___bl6_grouping.neg_vs_none              \n",
       "17  Irx5__Lmx1a___Day5.obob5v5__v__Day5.obobBL6d5___bl6_grouping.neg_vs_none              \n",
       "18  Irx5__Lmx1a___Day5.obob5v5__v__Day5.obobBL6d5___bl6_grouping.neg_vs_none              \n",
       "19  Irx5__Lmx1a___Day5.obob5v5__v__Day5.obobBL6d5___bl6_grouping.neg_vs_none              \n",
       "20  Irx5__Lmx1a___Day5.obob5v5__v__Day5.obobBL6d5___bl6_grouping.neg_vs_none              \n",
       "21  Irx5__Lmx1a___Day5.obob5v5__v__Day5.obobBL6d5___bl6_grouping.neg_vs_none              \n",
       "22  Irx5__Lmx1a___Day5.obob5v5__v__Day5.obobBL6d5___bl6_grouping.neg_vs_none              \n",
       "23  Irx5__Lmx1a___Day5.obob5v5__v__Day5.obobBL6d5___bl6_grouping.neg_vs_none              \n",
       "24  Irx5__Lmx1a___Day5.obob5v5__v__Day5.obobBL6d5___bl6_grouping.neg_vs_none              \n",
       "25  Irx5__Lmx1a___Day5.obob5v5__v__Day5.obobBL6d5___bl6_grouping.neg_vs_none              \n",
       "26  Irx5__Lmx1a___Day5.obob5v5__v__Day5.obobBL6d5___bl6_grouping.neg_vs_none              \n",
       "27  Irx5__Lmx1a___Day5.obob5v5__v__Day5.obobBL6d5___bl6_grouping.neg_vs_none              \n",
       "28  Irx5__Lmx1a___Day5.obob5v5__v__Day5.obobBL6d5___bl6_grouping.neg_vs_none              \n",
       "29  Irx5__Lmx1a___Day5.obob5v5__v__Day5.obobBL6d5___bl6_grouping.neg_vs_none              \n",
       "30  Irx5__Lmx1a___Day5.obob5v5__v__Day5.obobBL6d5___bl6_grouping.neg_vs_none              \n",
       "⋮   ⋮                                                                                     \n",
       "769 Irx5__Lmx1a___Day5.obob5v5__v__Day5.obobBL6d5___restored_grouping.pos_restored_vs_none\n",
       "770 Irx5__Lmx1a___Day5.obob5v5__v__Day5.obobBL6d5___restored_grouping.pos_restored_vs_none\n",
       "771 Irx5__Lmx1a___Day5.obob5v5__v__Day5.obobBL6d5___restored_grouping.pos_restored_vs_none\n",
       "772 Irx5__Lmx1a___Day5.obob5v5__v__Day5.obobBL6d5___restored_grouping.pos_restored_vs_none\n",
       "773 Irx5__Lmx1a___Day5.obob5v5__v__Day5.obobBL6d5___restored_grouping.pos_restored_vs_none\n",
       "774 Irx5__Lmx1a___Day5.obob5v5__v__Day5.obobBL6d5___restored_grouping.pos_restored_vs_none\n",
       "775 Irx5__Lmx1a___Day5.obob5v5__v__Day5.obobBL6d5___restored_grouping.pos_restored_vs_none\n",
       "776 Irx5__Lmx1a___Day5.obob5v5__v__Day5.obobBL6d5___restored_grouping.pos_restored_vs_none\n",
       "777 Irx5__Lmx1a___Day5.obob5v5__v__Day5.obobBL6d5___restored_grouping.pos_restored_vs_none\n",
       "778 Irx5__Lmx1a___Day5.obob5v5__v__Day5.obobBL6d5___restored_grouping.pos_restored_vs_none\n",
       "779 Irx5__Lmx1a___Day5.obob5v5__v__Day5.obobBL6d5___restored_grouping.pos_restored_vs_none\n",
       "780 Irx5__Lmx1a___Day5.obob5v5__v__Day5.obobBL6d5___restored_grouping.pos_restored_vs_none\n",
       "781 Irx5__Lmx1a___Day5.obob5v5__v__Day5.obobBL6d5___restored_grouping.pos_restored_vs_none\n",
       "782 Irx5__Lmx1a___Day5.obob5v5__v__Day5.obobBL6d5___restored_grouping.pos_restored_vs_none\n",
       "783 Irx5__Lmx1a___Day5.obob5v5__v__Day5.obobBL6d5___restored_grouping.pos_restored_vs_none\n",
       "784 Irx5__Lmx1a___Day5.obob5v5__v__Day5.obobBL6d5___restored_grouping.pos_restored_vs_none\n",
       "785 Irx5__Lmx1a___Day5.obob5v5__v__Day5.obobBL6d5___restored_grouping.pos_restored_vs_none\n",
       "786 Irx5__Lmx1a___Day5.obob5v5__v__Day5.obobBL6d5___restored_grouping.pos_restored_vs_none\n",
       "787 Irx5__Lmx1a___Day5.obob5v5__v__Day5.obobBL6d5___restored_grouping.pos_restored_vs_none\n",
       "788 Irx5__Lmx1a___Day5.obob5v5__v__Day5.obobBL6d5___restored_grouping.pos_restored_vs_none\n",
       "789 Irx5__Lmx1a___Day5.obob5v5__v__Day5.obobBL6d5___restored_grouping.pos_restored_vs_none\n",
       "790 Irx5__Lmx1a___Day5.obob5v5__v__Day5.obobBL6d5___restored_grouping.pos_restored_vs_none\n",
       "791 Irx5__Lmx1a___Day5.obob5v5__v__Day5.obobBL6d5___restored_grouping.pos_restored_vs_none\n",
       "792 Irx5__Lmx1a___Day5.obob5v5__v__Day5.obobBL6d5___restored_grouping.pos_restored_vs_none\n",
       "793 Irx5__Lmx1a___Day5.obob5v5__v__Day5.obobBL6d5___restored_grouping.pos_restored_vs_none\n",
       "794 Irx5__Lmx1a___Day5.obob5v5__v__Day5.obobBL6d5___restored_grouping.pos_restored_vs_none\n",
       "795 Irx5__Lmx1a___Day5.obob5v5__v__Day5.obobBL6d5___restored_grouping.pos_restored_vs_none\n",
       "796 Irx5__Lmx1a___Day5.obob5v5__v__Day5.obobBL6d5___restored_grouping.pos_restored_vs_none\n",
       "797 Irx5__Lmx1a___Day5.obob5v5__v__Day5.obobBL6d5___restored_grouping.pos_restored_vs_none\n",
       "798 Irx5__Lmx1a___Day5.obob5v5__v__Day5.obobBL6d5___restored_grouping.pos_restored_vs_none\n",
       "    data_day cluster     class  fgf1_day fgf1_comparison bl6_day bl6_comparison\n",
       "1   all      Irx5__Lmx1a neuron Day5     obob5v5         Day5    obobBL6d5     \n",
       "2   all      Irx5__Lmx1a neuron Day5     obob5v5         Day5    obobBL6d5     \n",
       "3   all      Irx5__Lmx1a neuron Day5     obob5v5         Day5    obobBL6d5     \n",
       "4   all      Irx5__Lmx1a neuron Day5     obob5v5         Day5    obobBL6d5     \n",
       "5   all      Irx5__Lmx1a neuron Day5     obob5v5         Day5    obobBL6d5     \n",
       "6   all      Irx5__Lmx1a neuron Day5     obob5v5         Day5    obobBL6d5     \n",
       "7   all      Irx5__Lmx1a neuron Day5     obob5v5         Day5    obobBL6d5     \n",
       "8   all      Irx5__Lmx1a neuron Day5     obob5v5         Day5    obobBL6d5     \n",
       "9   all      Irx5__Lmx1a neuron Day5     obob5v5         Day5    obobBL6d5     \n",
       "10  all      Irx5__Lmx1a neuron Day5     obob5v5         Day5    obobBL6d5     \n",
       "11  all      Irx5__Lmx1a neuron Day5     obob5v5         Day5    obobBL6d5     \n",
       "12  all      Irx5__Lmx1a neuron Day5     obob5v5         Day5    obobBL6d5     \n",
       "13  all      Irx5__Lmx1a neuron Day5     obob5v5         Day5    obobBL6d5     \n",
       "14  all      Irx5__Lmx1a neuron Day5     obob5v5         Day5    obobBL6d5     \n",
       "15  all      Irx5__Lmx1a neuron Day5     obob5v5         Day5    obobBL6d5     \n",
       "16  all      Irx5__Lmx1a neuron Day5     obob5v5         Day5    obobBL6d5     \n",
       "17  all      Irx5__Lmx1a neuron Day5     obob5v5         Day5    obobBL6d5     \n",
       "18  all      Irx5__Lmx1a neuron Day5     obob5v5         Day5    obobBL6d5     \n",
       "19  all      Irx5__Lmx1a neuron Day5     obob5v5         Day5    obobBL6d5     \n",
       "20  all      Irx5__Lmx1a neuron Day5     obob5v5         Day5    obobBL6d5     \n",
       "21  all      Irx5__Lmx1a neuron Day5     obob5v5         Day5    obobBL6d5     \n",
       "22  all      Irx5__Lmx1a neuron Day5     obob5v5         Day5    obobBL6d5     \n",
       "23  all      Irx5__Lmx1a neuron Day5     obob5v5         Day5    obobBL6d5     \n",
       "24  all      Irx5__Lmx1a neuron Day5     obob5v5         Day5    obobBL6d5     \n",
       "25  all      Irx5__Lmx1a neuron Day5     obob5v5         Day5    obobBL6d5     \n",
       "26  all      Irx5__Lmx1a neuron Day5     obob5v5         Day5    obobBL6d5     \n",
       "27  all      Irx5__Lmx1a neuron Day5     obob5v5         Day5    obobBL6d5     \n",
       "28  all      Irx5__Lmx1a neuron Day5     obob5v5         Day5    obobBL6d5     \n",
       "29  all      Irx5__Lmx1a neuron Day5     obob5v5         Day5    obobBL6d5     \n",
       "30  all      Irx5__Lmx1a neuron Day5     obob5v5         Day5    obobBL6d5     \n",
       "⋮   ⋮        ⋮           ⋮      ⋮        ⋮               ⋮       ⋮             \n",
       "769 all      Irx5__Lmx1a neuron Day5     obob5v5         Day5    obobBL6d5     \n",
       "770 all      Irx5__Lmx1a neuron Day5     obob5v5         Day5    obobBL6d5     \n",
       "771 all      Irx5__Lmx1a neuron Day5     obob5v5         Day5    obobBL6d5     \n",
       "772 all      Irx5__Lmx1a neuron Day5     obob5v5         Day5    obobBL6d5     \n",
       "773 all      Irx5__Lmx1a neuron Day5     obob5v5         Day5    obobBL6d5     \n",
       "774 all      Irx5__Lmx1a neuron Day5     obob5v5         Day5    obobBL6d5     \n",
       "775 all      Irx5__Lmx1a neuron Day5     obob5v5         Day5    obobBL6d5     \n",
       "776 all      Irx5__Lmx1a neuron Day5     obob5v5         Day5    obobBL6d5     \n",
       "777 all      Irx5__Lmx1a neuron Day5     obob5v5         Day5    obobBL6d5     \n",
       "778 all      Irx5__Lmx1a neuron Day5     obob5v5         Day5    obobBL6d5     \n",
       "779 all      Irx5__Lmx1a neuron Day5     obob5v5         Day5    obobBL6d5     \n",
       "780 all      Irx5__Lmx1a neuron Day5     obob5v5         Day5    obobBL6d5     \n",
       "781 all      Irx5__Lmx1a neuron Day5     obob5v5         Day5    obobBL6d5     \n",
       "782 all      Irx5__Lmx1a neuron Day5     obob5v5         Day5    obobBL6d5     \n",
       "783 all      Irx5__Lmx1a neuron Day5     obob5v5         Day5    obobBL6d5     \n",
       "784 all      Irx5__Lmx1a neuron Day5     obob5v5         Day5    obobBL6d5     \n",
       "785 all      Irx5__Lmx1a neuron Day5     obob5v5         Day5    obobBL6d5     \n",
       "786 all      Irx5__Lmx1a neuron Day5     obob5v5         Day5    obobBL6d5     \n",
       "787 all      Irx5__Lmx1a neuron Day5     obob5v5         Day5    obobBL6d5     \n",
       "788 all      Irx5__Lmx1a neuron Day5     obob5v5         Day5    obobBL6d5     \n",
       "789 all      Irx5__Lmx1a neuron Day5     obob5v5         Day5    obobBL6d5     \n",
       "790 all      Irx5__Lmx1a neuron Day5     obob5v5         Day5    obobBL6d5     \n",
       "791 all      Irx5__Lmx1a neuron Day5     obob5v5         Day5    obobBL6d5     \n",
       "792 all      Irx5__Lmx1a neuron Day5     obob5v5         Day5    obobBL6d5     \n",
       "793 all      Irx5__Lmx1a neuron Day5     obob5v5         Day5    obobBL6d5     \n",
       "794 all      Irx5__Lmx1a neuron Day5     obob5v5         Day5    obobBL6d5     \n",
       "795 all      Irx5__Lmx1a neuron Day5     obob5v5         Day5    obobBL6d5     \n",
       "796 all      Irx5__Lmx1a neuron Day5     obob5v5         Day5    obobBL6d5     \n",
       "797 all      Irx5__Lmx1a neuron Day5     obob5v5         Day5    obobBL6d5     \n",
       "798 all      Irx5__Lmx1a neuron Day5     obob5v5         Day5    obobBL6d5     \n",
       "    grouping          cells_a      ⋯ pct.2 p_val_adj     ensmusg           \n",
       "1   bl6_grouping      neg          ⋯ 0.805 3.120361e-169 ENSMUSG00000058925\n",
       "2   bl6_grouping      neg          ⋯ 0.869 3.846669e-160 ENSMUSG00000093497\n",
       "3   bl6_grouping      neg          ⋯ 0.808 6.492201e-144 ENSMUSG00000061171\n",
       "4   bl6_grouping      neg          ⋯ 0.753 4.911920e-128 ENSMUSG00000087388\n",
       "5   bl6_grouping      neg          ⋯ 0.929 5.908666e-105 ENSMUSG00000022112\n",
       "6   bl6_grouping      neg          ⋯ 0.879  8.115919e-88 ENSMUSG00000003746\n",
       "7   bl6_grouping      neg          ⋯ 0.921  1.615493e-80 ENSMUSG00000042581\n",
       "8   bl6_grouping      neg          ⋯ 0.818  6.326749e-59 ENSMUSG00000031274\n",
       "9   bl6_grouping      neg          ⋯ 0.641  2.465538e-43 ENSMUSG00000093551\n",
       "10  bl6_grouping      neg          ⋯ 0.833  2.745543e-61 ENSMUSG00000025324\n",
       "11  bl6_grouping      neg          ⋯ 0.907  3.592176e-63 ENSMUSG00000110375\n",
       "12  bl6_grouping      neg          ⋯ 0.696  5.113719e-39 ENSMUSG00000038507\n",
       "13  bl6_grouping      neg          ⋯ 0.791  1.972675e-43 ENSMUSG00000037922\n",
       "14  bl6_grouping      neg          ⋯ 0.917  1.155422e-65 ENSMUSG00000052560\n",
       "15  bl6_grouping      neg          ⋯ 0.964  2.833151e-55 ENSMUSG00000109907\n",
       "16  bl6_grouping      neg          ⋯ 0.967  1.284271e-54 ENSMUSG00000053141\n",
       "17  bl6_grouping      neg          ⋯ 0.848  1.626352e-36 ENSMUSG00000026765\n",
       "18  bl6_grouping      neg          ⋯ 0.911  1.766361e-37 ENSMUSG00000027200\n",
       "19  bl6_grouping      neg          ⋯ 0.988  1.717617e-44 ENSMUSG00000019888\n",
       "20  bl6_grouping      neg          ⋯ 0.877  1.860985e-37 ENSMUSG00000034324\n",
       "21  bl6_grouping      neg          ⋯ 0.668  1.841337e-21 ENSMUSG00000027350\n",
       "22  bl6_grouping      neg          ⋯ 0.893  1.421750e-32 ENSMUSG00000023927\n",
       "23  bl6_grouping      neg          ⋯ 0.958  2.837896e-36 ENSMUSG00000057715\n",
       "24  bl6_grouping      neg          ⋯ 0.735  1.923448e-21 ENSMUSG00000115271\n",
       "25  bl6_grouping      neg          ⋯ 0.927  3.370250e-25 ENSMUSG00000058571\n",
       "26  bl6_grouping      neg          ⋯ 0.831  6.755996e-27 ENSMUSG00000111143\n",
       "27  bl6_grouping      neg          ⋯ 0.883  4.679203e-31 ENSMUSG00000047793\n",
       "28  bl6_grouping      neg          ⋯ 0.823  3.587534e-23 ENSMUSG00000057710\n",
       "29  bl6_grouping      neg          ⋯ 0.953  6.483110e-34 ENSMUSG00000019647\n",
       "30  bl6_grouping      neg          ⋯ 0.992  7.909025e-39 ENSMUSG00000032036\n",
       "⋮   ⋮                 ⋮            ⋱ ⋮     ⋮             ⋮                 \n",
       "769 restored_grouping pos_restored ⋯ 0.994 0.0001158199  ENSMUSG00000054640\n",
       "770 restored_grouping pos_restored ⋯ 0.612 0.0168292333  ENSMUSG00000073164\n",
       "771 restored_grouping pos_restored ⋯ 0.830 0.0105068677  ENSMUSG00000050103\n",
       "772 restored_grouping pos_restored ⋯ 0.857 0.0240029910  ENSMUSG00000021136\n",
       "773 restored_grouping pos_restored ⋯ 0.873 0.0103823448  ENSMUSG00000109838\n",
       "774 restored_grouping pos_restored ⋯ 0.968 0.0009618076  ENSMUSG00000106379\n",
       "775 restored_grouping pos_restored ⋯ 0.949 0.0019537422  ENSMUSG00000109849\n",
       "776 restored_grouping pos_restored ⋯ 0.874 0.0206192668  ENSMUSG00000070366\n",
       "777 restored_grouping pos_restored ⋯ 0.943 0.0055052054  ENSMUSG00000040536\n",
       "778 restored_grouping pos_restored ⋯ 0.994 0.0034095984  ENSMUSG00000029108\n",
       "779 restored_grouping pos_restored ⋯ 0.864 0.0405367411  ENSMUSG00000026726\n",
       "780 restored_grouping pos_restored ⋯ 0.893 0.0152046008  ENSMUSG00000027506\n",
       "781 restored_grouping pos_restored ⋯ 0.964 0.0053903289  ENSMUSG00000020042\n",
       "782 restored_grouping pos_restored ⋯ 0.859 0.0124560512  ENSMUSG00000112323\n",
       "783 restored_grouping pos_restored ⋯ 0.858 0.0398687927  ENSMUSG00000069911\n",
       "784 restored_grouping pos_restored ⋯ 0.907 0.0205089591  ENSMUSG00000051323\n",
       "785 restored_grouping pos_restored ⋯ 0.906 0.0354538145  ENSMUSG00000034981\n",
       "786 restored_grouping pos_restored ⋯ 0.878 0.0425996861  ENSMUSG00000032224\n",
       "787 restored_grouping pos_restored ⋯ 1.000 0.0058109545  ENSMUSG00000049252\n",
       "788 restored_grouping pos_restored ⋯ 0.840 0.0020616160  ENSMUSG00000043441\n",
       "789 restored_grouping pos_restored ⋯ 0.969 0.0115896434  ENSMUSG00000036510\n",
       "790 restored_grouping pos_restored ⋯ 0.932 0.0282790199  ENSMUSG00000021852\n",
       "791 restored_grouping pos_restored ⋯ 0.973 0.0103776184  ENSMUSG00000032564\n",
       "792 restored_grouping pos_restored ⋯ 0.800 0.0396913692  ENSMUSG00000043639\n",
       "793 restored_grouping pos_restored ⋯ 0.953 0.0285420706  ENSMUSG00000021708\n",
       "794 restored_grouping pos_restored ⋯ 0.984 0.0143036883  ENSMUSG00000024304\n",
       "795 restored_grouping pos_restored ⋯ 0.959 0.0261484765  ENSMUSG00000020023\n",
       "796 restored_grouping pos_restored ⋯ 0.967 0.0251624978  ENSMUSG00000006586\n",
       "797 restored_grouping pos_restored ⋯ 1.000 0.0146727222  ENSMUSG00000041014\n",
       "798 restored_grouping pos_restored ⋯ 0.922 0.0481553139  ENSMUSG00000045215\n",
       "    gsea_sort_score count total_cells frac       frac_cutoff n_cells_cutoff\n",
       "1   712.25728       70    2686        0.02606106 0.1         150           \n",
       "2   527.36671       70    2686        0.02606106 0.1         150           \n",
       "3   501.18557       70    2686        0.02606106 0.1         150           \n",
       "4   490.36522       70    2686        0.02606106 0.1         150           \n",
       "5   272.88946       70    2686        0.02606106 0.1         150           \n",
       "6   203.89291       70    2686        0.02606106 0.1         150           \n",
       "7   191.99820       70    2686        0.02606106 0.1         150           \n",
       "8   160.24143       70    2686        0.02606106 0.1         150           \n",
       "9   150.48036       70    2686        0.02606106 0.1         150           \n",
       "10  136.25111       70    2686        0.02606106 0.1         150           \n",
       "11  131.28012       70    2686        0.02606106 0.1         150           \n",
       "12  118.53464       70    2686        0.02606106 0.1         150           \n",
       "13  116.91516       70    2686        0.02606106 0.1         150           \n",
       "14  113.30367       70    2686        0.02606106 0.1         150           \n",
       "15  108.04857       70    2686        0.02606106 0.1         150           \n",
       "16   92.89711       70    2686        0.02606106 0.1         150           \n",
       "17   83.46236       70    2686        0.02606106 0.1         150           \n",
       "18   74.31886       70    2686        0.02606106 0.1         150           \n",
       "19   73.33066       70    2686        0.02606106 0.1         150           \n",
       "20   72.21355       70    2686        0.02606106 0.1         150           \n",
       "21   55.29131       70    2686        0.02606106 0.1         150           \n",
       "22   54.51221       70    2686        0.02606106 0.1         150           \n",
       "23   53.29483       70    2686        0.02606106 0.1         150           \n",
       "24   51.80090       70    2686        0.02606106 0.1         150           \n",
       "25   51.07996       70    2686        0.02606106 0.1         150           \n",
       "26   49.87683       70    2686        0.02606106 0.1         150           \n",
       "27   46.62084       70    2686        0.02606106 0.1         150           \n",
       "28   45.97865       70    2686        0.02606106 0.1         150           \n",
       "29   45.26774       70    2686        0.02606106 0.1         150           \n",
       "30   44.79922       70    2686        0.02606106 0.1         150           \n",
       "⋮   ⋮               ⋮     ⋮           ⋮          ⋮           ⋮             \n",
       "769 1.7819233       70    2686        0.02606106 0.1         150           \n",
       "770 1.7384968       70    2686        0.02606106 0.1         150           \n",
       "771 1.6422486       70    2686        0.02606106 0.1         150           \n",
       "772 1.5957681       70    2686        0.02606106 0.1         150           \n",
       "773 1.5120841       70    2686        0.02606106 0.1         150           \n",
       "774 1.4873703       70    2686        0.02606106 0.1         150           \n",
       "775 1.2872041       70    2686        0.02606106 0.1         150           \n",
       "776 1.2505915       70    2686        0.02606106 0.1         150           \n",
       "777 1.2297779       70    2686        0.02606106 0.1         150           \n",
       "778 1.2048730       70    2686        0.02606106 0.1         150           \n",
       "779 1.1673421       70    2686        0.02606106 0.1         150           \n",
       "780 1.1661017       70    2686        0.02606106 0.1         150           \n",
       "781 1.1256420       70    2686        0.02606106 0.1         150           \n",
       "782 1.0912212       70    2686        0.02606106 0.1         150           \n",
       "783 1.0544795       70    2686        0.02606106 0.1         150           \n",
       "784 1.0246402       70    2686        0.02606106 0.1         150           \n",
       "785 0.9886326       70    2686        0.02606106 0.1         150           \n",
       "786 0.9862770       70    2686        0.02606106 0.1         150           \n",
       "787 0.9225322       70    2686        0.02606106 0.1         150           \n",
       "788 0.8894256       70    2686        0.02606106 0.1         150           \n",
       "789 0.8870102       70    2686        0.02606106 0.1         150           \n",
       "790 0.8726394       70    2686        0.02606106 0.1         150           \n",
       "791 0.7886782       70    2686        0.02606106 0.1         150           \n",
       "792 0.7704154       70    2686        0.02606106 0.1         150           \n",
       "793 0.7549885       70    2686        0.02606106 0.1         150           \n",
       "794 0.7269428       70    2686        0.02606106 0.1         150           \n",
       "795 0.6866697       70    2686        0.02606106 0.1         150           \n",
       "796 0.6800021       70    2686        0.02606106 0.1         150           \n",
       "797 0.6748930       70    2686        0.02606106 0.1         150           \n",
       "798 0.6414515       70    2686        0.02606106 0.1         150           \n",
       "    n_cells_valid\n",
       "1   FALSE        \n",
       "2   FALSE        \n",
       "3   FALSE        \n",
       "4   FALSE        \n",
       "5   FALSE        \n",
       "6   FALSE        \n",
       "7   FALSE        \n",
       "8   FALSE        \n",
       "9   FALSE        \n",
       "10  FALSE        \n",
       "11  FALSE        \n",
       "12  FALSE        \n",
       "13  FALSE        \n",
       "14  FALSE        \n",
       "15  FALSE        \n",
       "16  FALSE        \n",
       "17  FALSE        \n",
       "18  FALSE        \n",
       "19  FALSE        \n",
       "20  FALSE        \n",
       "21  FALSE        \n",
       "22  FALSE        \n",
       "23  FALSE        \n",
       "24  FALSE        \n",
       "25  FALSE        \n",
       "26  FALSE        \n",
       "27  FALSE        \n",
       "28  FALSE        \n",
       "29  FALSE        \n",
       "30  FALSE        \n",
       "⋮   ⋮            \n",
       "769 FALSE        \n",
       "770 FALSE        \n",
       "771 FALSE        \n",
       "772 FALSE        \n",
       "773 FALSE        \n",
       "774 FALSE        \n",
       "775 FALSE        \n",
       "776 FALSE        \n",
       "777 FALSE        \n",
       "778 FALSE        \n",
       "779 FALSE        \n",
       "780 FALSE        \n",
       "781 FALSE        \n",
       "782 FALSE        \n",
       "783 FALSE        \n",
       "784 FALSE        \n",
       "785 FALSE        \n",
       "786 FALSE        \n",
       "787 FALSE        \n",
       "788 FALSE        \n",
       "789 FALSE        \n",
       "790 FALSE        \n",
       "791 FALSE        \n",
       "792 FALSE        \n",
       "793 FALSE        \n",
       "794 FALSE        \n",
       "795 FALSE        \n",
       "796 FALSE        \n",
       "797 FALSE        \n",
       "798 FALSE        "
      ]
     },
     "metadata": {},
     "output_type": "display_data"
    }
   ],
   "source": [
    "combined_deg_seurat %>% \n",
    "filter(cluster == 'Irx5__Lmx1a')"
   ]
  },
  {
   "cell_type": "code",
   "execution_count": 36,
   "id": "e00a39c6",
   "metadata": {},
   "outputs": [
    {
     "data": {
      "text/html": [
       "<table class=\"dataframe\">\n",
       "<caption>A tibble: 11 × 2</caption>\n",
       "<thead>\n",
       "\t<tr><th scope=col>cluster</th><th scope=col>class</th></tr>\n",
       "\t<tr><th scope=col>&lt;chr&gt;</th><th scope=col>&lt;chr&gt;</th></tr>\n",
       "</thead>\n",
       "<tbody>\n",
       "\t<tr><td>g1    </td><td>NA</td></tr>\n",
       "\t<tr><td>g2    </td><td>NA</td></tr>\n",
       "\t<tr><td>g3    </td><td>NA</td></tr>\n",
       "\t<tr><td>n0    </td><td>NA</td></tr>\n",
       "\t<tr><td>n1    </td><td>NA</td></tr>\n",
       "\t<tr><td>n2    </td><td>NA</td></tr>\n",
       "\t<tr><td>n3    </td><td>NA</td></tr>\n",
       "\t<tr><td>n5    </td><td>NA</td></tr>\n",
       "\t<tr><td>n8    </td><td>NA</td></tr>\n",
       "\t<tr><td>neuron</td><td>NA</td></tr>\n",
       "\t<tr><td>other </td><td>NA</td></tr>\n",
       "</tbody>\n",
       "</table>\n"
      ],
      "text/latex": [
       "A tibble: 11 × 2\n",
       "\\begin{tabular}{ll}\n",
       " cluster & class\\\\\n",
       " <chr> & <chr>\\\\\n",
       "\\hline\n",
       "\t g1     & NA\\\\\n",
       "\t g2     & NA\\\\\n",
       "\t g3     & NA\\\\\n",
       "\t n0     & NA\\\\\n",
       "\t n1     & NA\\\\\n",
       "\t n2     & NA\\\\\n",
       "\t n3     & NA\\\\\n",
       "\t n5     & NA\\\\\n",
       "\t n8     & NA\\\\\n",
       "\t neuron & NA\\\\\n",
       "\t other  & NA\\\\\n",
       "\\end{tabular}\n"
      ],
      "text/markdown": [
       "\n",
       "A tibble: 11 × 2\n",
       "\n",
       "| cluster &lt;chr&gt; | class &lt;chr&gt; |\n",
       "|---|---|\n",
       "| g1     | NA |\n",
       "| g2     | NA |\n",
       "| g3     | NA |\n",
       "| n0     | NA |\n",
       "| n1     | NA |\n",
       "| n2     | NA |\n",
       "| n3     | NA |\n",
       "| n5     | NA |\n",
       "| n8     | NA |\n",
       "| neuron | NA |\n",
       "| other  | NA |\n",
       "\n"
      ],
      "text/plain": [
       "   cluster class\n",
       "1  g1      NA   \n",
       "2  g2      NA   \n",
       "3  g3      NA   \n",
       "4  n0      NA   \n",
       "5  n1      NA   \n",
       "6  n2      NA   \n",
       "7  n3      NA   \n",
       "8  n5      NA   \n",
       "9  n8      NA   \n",
       "10 neuron  NA   \n",
       "11 other   NA   "
      ]
     },
     "metadata": {},
     "output_type": "display_data"
    }
   ],
   "source": [
    "combined_deg_seurat %>%\n",
    "distinct(cluster, class) %>%\n",
    "filter(is.na(class))"
   ]
  },
  {
   "cell_type": "code",
   "execution_count": null,
   "id": "80b38277",
   "metadata": {},
   "outputs": [],
   "source": []
  },
  {
   "cell_type": "code",
   "execution_count": 37,
   "id": "3aa54dfd",
   "metadata": {},
   "outputs": [],
   "source": [
    "combined_deg_seurat %>%\n",
    "# switch because they are switched in plots\n",
    "mutate(cells_a = case_when(grouping == 'bl6_grouping' & cells_a == 'pos' ~ 'neg',\n",
    "                           grouping == 'bl6_grouping' & cells_a == 'neg' ~ 'pos',\n",
    "                           TRUE ~ cells_a)) %>% \n",
    "write_xlsx('_targets_MAST/combined_deg_seurat_d5_d14.xlsx')"
   ]
  },
  {
   "cell_type": "code",
   "execution_count": null,
   "id": "488d0714",
   "metadata": {},
   "outputs": [],
   "source": []
  },
  {
   "cell_type": "code",
   "execution_count": null,
   "id": "8848ddbf",
   "metadata": {},
   "outputs": [],
   "source": []
  },
  {
   "cell_type": "code",
   "execution_count": null,
   "id": "c6b2f48b",
   "metadata": {},
   "outputs": [],
   "source": []
  },
  {
   "cell_type": "code",
   "execution_count": null,
   "id": "178a3e12",
   "metadata": {},
   "outputs": [],
   "source": []
  },
  {
   "cell_type": "code",
   "execution_count": null,
   "id": "1e4c4cbd",
   "metadata": {},
   "outputs": [],
   "source": []
  },
  {
   "cell_type": "code",
   "execution_count": null,
   "id": "22569248",
   "metadata": {},
   "outputs": [],
   "source": []
  },
  {
   "cell_type": "code",
   "execution_count": null,
   "id": "687f6e58",
   "metadata": {},
   "outputs": [],
   "source": []
  },
  {
   "cell_type": "code",
   "execution_count": null,
   "id": "f7a66318",
   "metadata": {},
   "outputs": [],
   "source": []
  },
  {
   "cell_type": "code",
   "execution_count": null,
   "id": "3020a040",
   "metadata": {},
   "outputs": [],
   "source": []
  },
  {
   "cell_type": "code",
   "execution_count": null,
   "id": "12f52265",
   "metadata": {},
   "outputs": [],
   "source": []
  }
 ],
 "metadata": {
  "kernelspec": {
   "display_name": "R [conda env:fgf1]",
   "language": "R",
   "name": "conda-env-fgf1-r"
  },
  "language_info": {
   "codemirror_mode": "r",
   "file_extension": ".r",
   "mimetype": "text/x-r-source",
   "name": "R",
   "pygments_lexer": "r",
   "version": "4.1.3"
  }
 },
 "nbformat": 4,
 "nbformat_minor": 5
}
