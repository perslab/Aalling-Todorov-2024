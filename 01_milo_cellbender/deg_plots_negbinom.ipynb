{
 "cells": [
  {
   "cell_type": "code",
   "execution_count": 1,
   "id": "a2e97b04",
   "metadata": {},
   "outputs": [
    {
     "name": "stderr",
     "output_type": "stream",
     "text": [
      "Loading required package: SeuratObject\n",
      "\n",
      "Loading required package: sp\n",
      "\n",
      "\n",
      "Attaching package: ‘SeuratObject’\n",
      "\n",
      "\n",
      "The following object is masked from ‘package:base’:\n",
      "\n",
      "    intersect\n",
      "\n",
      "\n",
      "── \u001b[1mAttaching packages\u001b[22m ─────────────────────────────────────── tidyverse 1.3.2 ──\n",
      "\u001b[32m✔\u001b[39m \u001b[34mggplot2\u001b[39m 3.4.2     \u001b[32m✔\u001b[39m \u001b[34mpurrr  \u001b[39m 0.3.4\n",
      "\u001b[32m✔\u001b[39m \u001b[34mtibble \u001b[39m 3.2.1     \u001b[32m✔\u001b[39m \u001b[34mdplyr  \u001b[39m 1.1.2\n",
      "\u001b[32m✔\u001b[39m \u001b[34mtidyr  \u001b[39m 1.2.1     \u001b[32m✔\u001b[39m \u001b[34mstringr\u001b[39m 1.4.1\n",
      "\u001b[32m✔\u001b[39m \u001b[34mreadr  \u001b[39m 2.1.2     \u001b[32m✔\u001b[39m \u001b[34mforcats\u001b[39m 0.5.2\n",
      "── \u001b[1mConflicts\u001b[22m ────────────────────────────────────────── tidyverse_conflicts() ──\n",
      "\u001b[31m✖\u001b[39m \u001b[34mdplyr\u001b[39m::\u001b[32mfilter()\u001b[39m masks \u001b[34mstats\u001b[39m::filter()\n",
      "\u001b[31m✖\u001b[39m \u001b[34mdplyr\u001b[39m::\u001b[32mlag()\u001b[39m    masks \u001b[34mstats\u001b[39m::lag()\n"
     ]
    }
   ],
   "source": [
    "## library(igraph)\n",
    "library(Seurat)\n",
    "library(tidyverse)\n",
    "library(ggplot2)\n",
    "library(ggrepel)\n",
    "library(ggbeeswarm)\n",
    "library(patchwork)\n",
    "library(writexl)\n",
    "options(ggrepel.max.overlaps = Inf)"
   ]
  },
  {
   "cell_type": "code",
   "execution_count": null,
   "id": "ea080a21",
   "metadata": {},
   "outputs": [],
   "source": []
  },
  {
   "cell_type": "code",
   "execution_count": 2,
   "id": "57fa1643",
   "metadata": {
    "scrolled": true
   },
   "outputs": [
    {
     "data": {
      "text/html": [
       "<table class=\"dataframe\">\n",
       "<caption>A tibble: 1 × 27</caption>\n",
       "<thead>\n",
       "\t<tr><th scope=col>tag</th><th scope=col>data_day</th><th scope=col>cluster</th><th scope=col>fgf1_day</th><th scope=col>fgf1_comparison</th><th scope=col>bl6_day</th><th scope=col>bl6_comparison</th><th scope=col>grouping</th><th scope=col>cells_a</th><th scope=col>cells_b</th><th scope=col>⋯</th><th scope=col>recall</th><th scope=col>term_id</th><th scope=col>source</th><th scope=col>term_name</th><th scope=col>effective_domain_size</th><th scope=col>source_order</th><th scope=col>parents</th><th scope=col>evidence_codes</th><th scope=col>intersection</th><th scope=col>gene_ids</th></tr>\n",
       "\t<tr><th scope=col>&lt;chr&gt;</th><th scope=col>&lt;chr&gt;</th><th scope=col>&lt;chr&gt;</th><th scope=col>&lt;chr&gt;</th><th scope=col>&lt;chr&gt;</th><th scope=col>&lt;chr&gt;</th><th scope=col>&lt;chr&gt;</th><th scope=col>&lt;chr&gt;</th><th scope=col>&lt;chr&gt;</th><th scope=col>&lt;chr&gt;</th><th scope=col>⋯</th><th scope=col>&lt;dbl&gt;</th><th scope=col>&lt;chr&gt;</th><th scope=col>&lt;chr&gt;</th><th scope=col>&lt;chr&gt;</th><th scope=col>&lt;int&gt;</th><th scope=col>&lt;int&gt;</th><th scope=col>&lt;list&gt;</th><th scope=col>&lt;chr&gt;</th><th scope=col>&lt;chr&gt;</th><th scope=col>&lt;chr&gt;</th></tr>\n",
       "</thead>\n",
       "<tbody>\n",
       "\t<tr><td>Agrp___Day14.obob14v14__v__Day14.obobBL6d14___bl6_grouping.neg_vs_rest</td><td>all</td><td>Agrp</td><td>Day14</td><td>obob14v14</td><td>Day14</td><td>obobBL6d14</td><td>bl6_grouping</td><td>neg</td><td>rest</td><td>⋯</td><td>0.04761905</td><td>WP:WP1983</td><td>WP</td><td>Splicing factor NOVA regulated synaptic proteins</td><td>4529</td><td>14</td><td>WP:000000</td><td>WP,WP</td><td>ENSMUSG00000028519,ENSMUSG00000059857</td><td>Dab1,Ntng1</td></tr>\n",
       "</tbody>\n",
       "</table>\n"
      ],
      "text/latex": [
       "A tibble: 1 × 27\n",
       "\\begin{tabular}{lllllllllllllllllllll}\n",
       " tag & data\\_day & cluster & fgf1\\_day & fgf1\\_comparison & bl6\\_day & bl6\\_comparison & grouping & cells\\_a & cells\\_b & ⋯ & recall & term\\_id & source & term\\_name & effective\\_domain\\_size & source\\_order & parents & evidence\\_codes & intersection & gene\\_ids\\\\\n",
       " <chr> & <chr> & <chr> & <chr> & <chr> & <chr> & <chr> & <chr> & <chr> & <chr> & ⋯ & <dbl> & <chr> & <chr> & <chr> & <int> & <int> & <list> & <chr> & <chr> & <chr>\\\\\n",
       "\\hline\n",
       "\t Agrp\\_\\_\\_Day14.obob14v14\\_\\_v\\_\\_Day14.obobBL6d14\\_\\_\\_bl6\\_grouping.neg\\_vs\\_rest & all & Agrp & Day14 & obob14v14 & Day14 & obobBL6d14 & bl6\\_grouping & neg & rest & ⋯ & 0.04761905 & WP:WP1983 & WP & Splicing factor NOVA regulated synaptic proteins & 4529 & 14 & WP:000000 & WP,WP & ENSMUSG00000028519,ENSMUSG00000059857 & Dab1,Ntng1\\\\\n",
       "\\end{tabular}\n"
      ],
      "text/markdown": [
       "\n",
       "A tibble: 1 × 27\n",
       "\n",
       "| tag &lt;chr&gt; | data_day &lt;chr&gt; | cluster &lt;chr&gt; | fgf1_day &lt;chr&gt; | fgf1_comparison &lt;chr&gt; | bl6_day &lt;chr&gt; | bl6_comparison &lt;chr&gt; | grouping &lt;chr&gt; | cells_a &lt;chr&gt; | cells_b &lt;chr&gt; | ⋯ ⋯ | recall &lt;dbl&gt; | term_id &lt;chr&gt; | source &lt;chr&gt; | term_name &lt;chr&gt; | effective_domain_size &lt;int&gt; | source_order &lt;int&gt; | parents &lt;list&gt; | evidence_codes &lt;chr&gt; | intersection &lt;chr&gt; | gene_ids &lt;chr&gt; |\n",
       "|---|---|---|---|---|---|---|---|---|---|---|---|---|---|---|---|---|---|---|---|---|\n",
       "| Agrp___Day14.obob14v14__v__Day14.obobBL6d14___bl6_grouping.neg_vs_rest | all | Agrp | Day14 | obob14v14 | Day14 | obobBL6d14 | bl6_grouping | neg | rest | ⋯ | 0.04761905 | WP:WP1983 | WP | Splicing factor NOVA regulated synaptic proteins | 4529 | 14 | WP:000000 | WP,WP | ENSMUSG00000028519,ENSMUSG00000059857 | Dab1,Ntng1 |\n",
       "\n"
      ],
      "text/plain": [
       "  tag                                                                   \n",
       "1 Agrp___Day14.obob14v14__v__Day14.obobBL6d14___bl6_grouping.neg_vs_rest\n",
       "  data_day cluster fgf1_day fgf1_comparison bl6_day bl6_comparison grouping    \n",
       "1 all      Agrp    Day14    obob14v14       Day14   obobBL6d14     bl6_grouping\n",
       "  cells_a cells_b ⋯ recall     term_id   source\n",
       "1 neg     rest    ⋯ 0.04761905 WP:WP1983 WP    \n",
       "  term_name                                        effective_domain_size\n",
       "1 Splicing factor NOVA regulated synaptic proteins 4529                 \n",
       "  source_order parents   evidence_codes intersection                         \n",
       "1 14           WP:000000 WP,WP          ENSMUSG00000028519,ENSMUSG00000059857\n",
       "  gene_ids  \n",
       "1 Dab1,Ntng1"
      ]
     },
     "metadata": {},
     "output_type": "display_data"
    }
   ],
   "source": [
    "cgsf_all = qs::qread('_targets_negbinom/objects/combined_gost_seurat_formatted')\n",
    "cgsf_all %>% head(1)"
   ]
  },
  {
   "cell_type": "code",
   "execution_count": 3,
   "id": "44f328c2",
   "metadata": {},
   "outputs": [
    {
     "data": {
      "text/html": [
       "<table class=\"dataframe\">\n",
       "<caption>A tibble: 6 × 18</caption>\n",
       "<thead>\n",
       "\t<tr><th scope=col>tag</th><th scope=col>data_day</th><th scope=col>cluster</th><th scope=col>fgf1_day</th><th scope=col>fgf1_comparison</th><th scope=col>bl6_day</th><th scope=col>bl6_comparison</th><th scope=col>grouping</th><th scope=col>cells_a</th><th scope=col>cells_b</th><th scope=col>GeneID</th><th scope=col>p_val</th><th scope=col>avg_log2FC</th><th scope=col>pct.1</th><th scope=col>pct.2</th><th scope=col>p_val_adj</th><th scope=col>ensmusg</th><th scope=col>gsea_sort_score</th></tr>\n",
       "\t<tr><th scope=col>&lt;chr&gt;</th><th scope=col>&lt;chr&gt;</th><th scope=col>&lt;chr&gt;</th><th scope=col>&lt;chr&gt;</th><th scope=col>&lt;chr&gt;</th><th scope=col>&lt;chr&gt;</th><th scope=col>&lt;chr&gt;</th><th scope=col>&lt;chr&gt;</th><th scope=col>&lt;chr&gt;</th><th scope=col>&lt;chr&gt;</th><th scope=col>&lt;chr&gt;</th><th scope=col>&lt;dbl&gt;</th><th scope=col>&lt;dbl&gt;</th><th scope=col>&lt;dbl&gt;</th><th scope=col>&lt;dbl&gt;</th><th scope=col>&lt;dbl&gt;</th><th scope=col>&lt;chr&gt;</th><th scope=col>&lt;dbl&gt;</th></tr>\n",
       "</thead>\n",
       "<tbody>\n",
       "\t<tr><td>Agrp___Day14.obob14v14__v__Day14.obobBL6d14___bl6_grouping.neg_vs_none</td><td>all</td><td>Agrp</td><td>Day14</td><td>obob14v14</td><td>Day14</td><td>obobBL6d14</td><td>bl6_grouping</td><td>neg</td><td>none</td><td>Vwc2  </td><td>1.260534e-07</td><td>-2.706897</td><td>0.089</td><td>0.457</td><td>0.0022087080</td><td>ENSMUSG00000050830</td><td>-7.189144</td></tr>\n",
       "\t<tr><td>Agrp___Day14.obob14v14__v__Day14.obobBL6d14___bl6_grouping.neg_vs_rest</td><td>all</td><td>Agrp</td><td>Day14</td><td>obob14v14</td><td>Day14</td><td>obobBL6d14</td><td>bl6_grouping</td><td>neg</td><td>rest</td><td>Robo2 </td><td>5.789927e-09</td><td> 3.504307</td><td>0.779</td><td>0.188</td><td>0.0001014511</td><td>ENSMUSG00000052516</td><td>13.995301</td></tr>\n",
       "\t<tr><td>Agrp___Day14.obob14v14__v__Day14.obobBL6d14___bl6_grouping.neg_vs_rest</td><td>all</td><td>Agrp</td><td>Day14</td><td>obob14v14</td><td>Day14</td><td>obobBL6d14</td><td>bl6_grouping</td><td>neg</td><td>rest</td><td>Kcnh8 </td><td>1.879999e-07</td><td> 2.633973</td><td>0.590</td><td>0.157</td><td>0.0032941348</td><td>ENSMUSG00000035580</td><td> 6.538202</td></tr>\n",
       "\t<tr><td>Agrp___Day14.obob14v14__v__Day14.obobBL6d14___bl6_grouping.neg_vs_rest</td><td>all</td><td>Agrp</td><td>Day14</td><td>obob14v14</td><td>Day14</td><td>obobBL6d14</td><td>bl6_grouping</td><td>neg</td><td>rest</td><td>Smoc1 </td><td>2.111500e-06</td><td> 2.001000</td><td>0.253</td><td>0.072</td><td>0.0369976978</td><td>ENSMUSG00000021136</td><td> 2.865082</td></tr>\n",
       "\t<tr><td>Agrp___Day14.obob14v14__v__Day14.obobBL6d14___bl6_grouping.neg_vs_rest</td><td>all</td><td>Agrp</td><td>Day14</td><td>obob14v14</td><td>Day14</td><td>obobBL6d14</td><td>bl6_grouping</td><td>neg</td><td>rest</td><td>Dab1  </td><td>9.595271e-07</td><td> 1.144688</td><td>1.000</td><td>0.984</td><td>0.0168128333</td><td>ENSMUSG00000028519</td><td> 2.031088</td></tr>\n",
       "\t<tr><td>Agrp___Day14.obob14v14__v__Day14.obobBL6d14___bl6_grouping.neg_vs_rest</td><td>all</td><td>Agrp</td><td>Day14</td><td>obob14v14</td><td>Day14</td><td>obobBL6d14</td><td>bl6_grouping</td><td>neg</td><td>rest</td><td>Pde10a</td><td>1.379985e-07</td><td>-2.372197</td><td>0.638</td><td>0.971</td><td>0.0024180105</td><td>ENSMUSG00000023868</td><td>-6.206953</td></tr>\n",
       "</tbody>\n",
       "</table>\n"
      ],
      "text/latex": [
       "A tibble: 6 × 18\n",
       "\\begin{tabular}{llllllllllllllllll}\n",
       " tag & data\\_day & cluster & fgf1\\_day & fgf1\\_comparison & bl6\\_day & bl6\\_comparison & grouping & cells\\_a & cells\\_b & GeneID & p\\_val & avg\\_log2FC & pct.1 & pct.2 & p\\_val\\_adj & ensmusg & gsea\\_sort\\_score\\\\\n",
       " <chr> & <chr> & <chr> & <chr> & <chr> & <chr> & <chr> & <chr> & <chr> & <chr> & <chr> & <dbl> & <dbl> & <dbl> & <dbl> & <dbl> & <chr> & <dbl>\\\\\n",
       "\\hline\n",
       "\t Agrp\\_\\_\\_Day14.obob14v14\\_\\_v\\_\\_Day14.obobBL6d14\\_\\_\\_bl6\\_grouping.neg\\_vs\\_none & all & Agrp & Day14 & obob14v14 & Day14 & obobBL6d14 & bl6\\_grouping & neg & none & Vwc2   & 1.260534e-07 & -2.706897 & 0.089 & 0.457 & 0.0022087080 & ENSMUSG00000050830 & -7.189144\\\\\n",
       "\t Agrp\\_\\_\\_Day14.obob14v14\\_\\_v\\_\\_Day14.obobBL6d14\\_\\_\\_bl6\\_grouping.neg\\_vs\\_rest & all & Agrp & Day14 & obob14v14 & Day14 & obobBL6d14 & bl6\\_grouping & neg & rest & Robo2  & 5.789927e-09 &  3.504307 & 0.779 & 0.188 & 0.0001014511 & ENSMUSG00000052516 & 13.995301\\\\\n",
       "\t Agrp\\_\\_\\_Day14.obob14v14\\_\\_v\\_\\_Day14.obobBL6d14\\_\\_\\_bl6\\_grouping.neg\\_vs\\_rest & all & Agrp & Day14 & obob14v14 & Day14 & obobBL6d14 & bl6\\_grouping & neg & rest & Kcnh8  & 1.879999e-07 &  2.633973 & 0.590 & 0.157 & 0.0032941348 & ENSMUSG00000035580 &  6.538202\\\\\n",
       "\t Agrp\\_\\_\\_Day14.obob14v14\\_\\_v\\_\\_Day14.obobBL6d14\\_\\_\\_bl6\\_grouping.neg\\_vs\\_rest & all & Agrp & Day14 & obob14v14 & Day14 & obobBL6d14 & bl6\\_grouping & neg & rest & Smoc1  & 2.111500e-06 &  2.001000 & 0.253 & 0.072 & 0.0369976978 & ENSMUSG00000021136 &  2.865082\\\\\n",
       "\t Agrp\\_\\_\\_Day14.obob14v14\\_\\_v\\_\\_Day14.obobBL6d14\\_\\_\\_bl6\\_grouping.neg\\_vs\\_rest & all & Agrp & Day14 & obob14v14 & Day14 & obobBL6d14 & bl6\\_grouping & neg & rest & Dab1   & 9.595271e-07 &  1.144688 & 1.000 & 0.984 & 0.0168128333 & ENSMUSG00000028519 &  2.031088\\\\\n",
       "\t Agrp\\_\\_\\_Day14.obob14v14\\_\\_v\\_\\_Day14.obobBL6d14\\_\\_\\_bl6\\_grouping.neg\\_vs\\_rest & all & Agrp & Day14 & obob14v14 & Day14 & obobBL6d14 & bl6\\_grouping & neg & rest & Pde10a & 1.379985e-07 & -2.372197 & 0.638 & 0.971 & 0.0024180105 & ENSMUSG00000023868 & -6.206953\\\\\n",
       "\\end{tabular}\n"
      ],
      "text/markdown": [
       "\n",
       "A tibble: 6 × 18\n",
       "\n",
       "| tag &lt;chr&gt; | data_day &lt;chr&gt; | cluster &lt;chr&gt; | fgf1_day &lt;chr&gt; | fgf1_comparison &lt;chr&gt; | bl6_day &lt;chr&gt; | bl6_comparison &lt;chr&gt; | grouping &lt;chr&gt; | cells_a &lt;chr&gt; | cells_b &lt;chr&gt; | GeneID &lt;chr&gt; | p_val &lt;dbl&gt; | avg_log2FC &lt;dbl&gt; | pct.1 &lt;dbl&gt; | pct.2 &lt;dbl&gt; | p_val_adj &lt;dbl&gt; | ensmusg &lt;chr&gt; | gsea_sort_score &lt;dbl&gt; |\n",
       "|---|---|---|---|---|---|---|---|---|---|---|---|---|---|---|---|---|---|\n",
       "| Agrp___Day14.obob14v14__v__Day14.obobBL6d14___bl6_grouping.neg_vs_none | all | Agrp | Day14 | obob14v14 | Day14 | obobBL6d14 | bl6_grouping | neg | none | Vwc2   | 1.260534e-07 | -2.706897 | 0.089 | 0.457 | 0.0022087080 | ENSMUSG00000050830 | -7.189144 |\n",
       "| Agrp___Day14.obob14v14__v__Day14.obobBL6d14___bl6_grouping.neg_vs_rest | all | Agrp | Day14 | obob14v14 | Day14 | obobBL6d14 | bl6_grouping | neg | rest | Robo2  | 5.789927e-09 |  3.504307 | 0.779 | 0.188 | 0.0001014511 | ENSMUSG00000052516 | 13.995301 |\n",
       "| Agrp___Day14.obob14v14__v__Day14.obobBL6d14___bl6_grouping.neg_vs_rest | all | Agrp | Day14 | obob14v14 | Day14 | obobBL6d14 | bl6_grouping | neg | rest | Kcnh8  | 1.879999e-07 |  2.633973 | 0.590 | 0.157 | 0.0032941348 | ENSMUSG00000035580 |  6.538202 |\n",
       "| Agrp___Day14.obob14v14__v__Day14.obobBL6d14___bl6_grouping.neg_vs_rest | all | Agrp | Day14 | obob14v14 | Day14 | obobBL6d14 | bl6_grouping | neg | rest | Smoc1  | 2.111500e-06 |  2.001000 | 0.253 | 0.072 | 0.0369976978 | ENSMUSG00000021136 |  2.865082 |\n",
       "| Agrp___Day14.obob14v14__v__Day14.obobBL6d14___bl6_grouping.neg_vs_rest | all | Agrp | Day14 | obob14v14 | Day14 | obobBL6d14 | bl6_grouping | neg | rest | Dab1   | 9.595271e-07 |  1.144688 | 1.000 | 0.984 | 0.0168128333 | ENSMUSG00000028519 |  2.031088 |\n",
       "| Agrp___Day14.obob14v14__v__Day14.obobBL6d14___bl6_grouping.neg_vs_rest | all | Agrp | Day14 | obob14v14 | Day14 | obobBL6d14 | bl6_grouping | neg | rest | Pde10a | 1.379985e-07 | -2.372197 | 0.638 | 0.971 | 0.0024180105 | ENSMUSG00000023868 | -6.206953 |\n",
       "\n"
      ],
      "text/plain": [
       "  tag                                                                   \n",
       "1 Agrp___Day14.obob14v14__v__Day14.obobBL6d14___bl6_grouping.neg_vs_none\n",
       "2 Agrp___Day14.obob14v14__v__Day14.obobBL6d14___bl6_grouping.neg_vs_rest\n",
       "3 Agrp___Day14.obob14v14__v__Day14.obobBL6d14___bl6_grouping.neg_vs_rest\n",
       "4 Agrp___Day14.obob14v14__v__Day14.obobBL6d14___bl6_grouping.neg_vs_rest\n",
       "5 Agrp___Day14.obob14v14__v__Day14.obobBL6d14___bl6_grouping.neg_vs_rest\n",
       "6 Agrp___Day14.obob14v14__v__Day14.obobBL6d14___bl6_grouping.neg_vs_rest\n",
       "  data_day cluster fgf1_day fgf1_comparison bl6_day bl6_comparison grouping    \n",
       "1 all      Agrp    Day14    obob14v14       Day14   obobBL6d14     bl6_grouping\n",
       "2 all      Agrp    Day14    obob14v14       Day14   obobBL6d14     bl6_grouping\n",
       "3 all      Agrp    Day14    obob14v14       Day14   obobBL6d14     bl6_grouping\n",
       "4 all      Agrp    Day14    obob14v14       Day14   obobBL6d14     bl6_grouping\n",
       "5 all      Agrp    Day14    obob14v14       Day14   obobBL6d14     bl6_grouping\n",
       "6 all      Agrp    Day14    obob14v14       Day14   obobBL6d14     bl6_grouping\n",
       "  cells_a cells_b GeneID p_val        avg_log2FC pct.1 pct.2 p_val_adj   \n",
       "1 neg     none    Vwc2   1.260534e-07 -2.706897  0.089 0.457 0.0022087080\n",
       "2 neg     rest    Robo2  5.789927e-09  3.504307  0.779 0.188 0.0001014511\n",
       "3 neg     rest    Kcnh8  1.879999e-07  2.633973  0.590 0.157 0.0032941348\n",
       "4 neg     rest    Smoc1  2.111500e-06  2.001000  0.253 0.072 0.0369976978\n",
       "5 neg     rest    Dab1   9.595271e-07  1.144688  1.000 0.984 0.0168128333\n",
       "6 neg     rest    Pde10a 1.379985e-07 -2.372197  0.638 0.971 0.0024180105\n",
       "  ensmusg            gsea_sort_score\n",
       "1 ENSMUSG00000050830 -7.189144      \n",
       "2 ENSMUSG00000052516 13.995301      \n",
       "3 ENSMUSG00000035580  6.538202      \n",
       "4 ENSMUSG00000021136  2.865082      \n",
       "5 ENSMUSG00000028519  2.031088      \n",
       "6 ENSMUSG00000023868 -6.206953      "
      ]
     },
     "metadata": {},
     "output_type": "display_data"
    }
   ],
   "source": [
    "combined_deg_seurat_all = qs::qread('_targets_negbinom/objects/combined_deg_seurat_formatted')\n",
    "combined_deg_seurat_all %>% head"
   ]
  },
  {
   "cell_type": "code",
   "execution_count": 4,
   "id": "23e7c326",
   "metadata": {},
   "outputs": [
    {
     "data": {
      "text/html": [
       "<table class=\"dataframe\">\n",
       "<caption>A tibble: 1 × 2</caption>\n",
       "<thead>\n",
       "\t<tr><th scope=col>fgf1_grouping</th><th scope=col>n</th></tr>\n",
       "\t<tr><th scope=col>&lt;chr&gt;</th><th scope=col>&lt;int&gt;</th></tr>\n",
       "</thead>\n",
       "<tbody>\n",
       "\t<tr><td>none</td><td>2123</td></tr>\n",
       "</tbody>\n",
       "</table>\n"
      ],
      "text/latex": [
       "A tibble: 1 × 2\n",
       "\\begin{tabular}{ll}\n",
       " fgf1\\_grouping & n\\\\\n",
       " <chr> & <int>\\\\\n",
       "\\hline\n",
       "\t none & 2123\\\\\n",
       "\\end{tabular}\n"
      ],
      "text/markdown": [
       "\n",
       "A tibble: 1 × 2\n",
       "\n",
       "| fgf1_grouping &lt;chr&gt; | n &lt;int&gt; |\n",
       "|---|---|\n",
       "| none | 2123 |\n",
       "\n"
      ],
      "text/plain": [
       "  fgf1_grouping n   \n",
       "1 none          2123"
      ]
     },
     "metadata": {},
     "output_type": "display_data"
    },
    {
     "data": {
      "text/html": [
       "<table class=\"dataframe\">\n",
       "<caption>A tibble: 1 × 2</caption>\n",
       "<thead>\n",
       "\t<tr><th scope=col>restored_grouping</th><th scope=col>n</th></tr>\n",
       "\t<tr><th scope=col>&lt;fct&gt;</th><th scope=col>&lt;int&gt;</th></tr>\n",
       "</thead>\n",
       "<tbody>\n",
       "\t<tr><td>none</td><td>2123</td></tr>\n",
       "</tbody>\n",
       "</table>\n"
      ],
      "text/latex": [
       "A tibble: 1 × 2\n",
       "\\begin{tabular}{ll}\n",
       " restored\\_grouping & n\\\\\n",
       " <fct> & <int>\\\\\n",
       "\\hline\n",
       "\t none & 2123\\\\\n",
       "\\end{tabular}\n"
      ],
      "text/markdown": [
       "\n",
       "A tibble: 1 × 2\n",
       "\n",
       "| restored_grouping &lt;fct&gt; | n &lt;int&gt; |\n",
       "|---|---|\n",
       "| none | 2123 |\n",
       "\n"
      ],
      "text/plain": [
       "  restored_grouping n   \n",
       "1 none              2123"
      ]
     },
     "metadata": {},
     "output_type": "display_data"
    }
   ],
   "source": [
    "nhgc = qs::qread('_targets_negbinom/objects/nhgc_Agrp___Day14.obob14v14__v__Day14.obobBL6d14') # Astrocytes___Day14.obob14v14__v__Day14.obobBL6d14___fgf1_grouping.pos_vs_none\n",
    "nhgc %>% group_by(fgf1_grouping) %>% summarise(n=n())\n",
    "nhgc %>% group_by(restored_grouping) %>% summarise(n=n())\n",
    "# don't worry about this now, just state all markers for all clusters you want"
   ]
  },
  {
   "cell_type": "code",
   "execution_count": 5,
   "id": "a9eba642",
   "metadata": {},
   "outputs": [
    {
     "name": "stderr",
     "output_type": "stream",
     "text": [
      "Warning message:\n",
      "“\u001b[1m\u001b[22mThere were 62 warnings in `mutate()`.\n",
      "The first warning was:\n",
      "\u001b[1m\u001b[22m\u001b[36mℹ\u001b[39m In argument: `obj = map2(obj, tag2, ~if (!is.na(.x)) mutate(.x, tag2 = .y)\n",
      "  else tibble())`.\n",
      "Caused by warning in `if (!is.na(.x)) ...`:\n",
      "\u001b[33m!\u001b[39m the condition has length > 1 and only the first element will be used\n",
      "\u001b[1m\u001b[22m\u001b[36mℹ\u001b[39m Run `dplyr::last_dplyr_warnings()` to see the 61 remaining warnings.”\n"
     ]
    }
   ],
   "source": [
    "tag2 = combined_deg_seurat_all %>% \n",
    "    pull(tag) %>% unique %>%\n",
    "    str_split(pattern = \"___\") %>%\n",
    "    map_chr(~if (length(.x) >= 3) paste(.x[1:2], collapse = \"___\") else .x[1]) %>%\n",
    "    unique\n",
    "        \n",
    "tag2_tibble = tag2 %>% tibble(tag2=.) %>%\n",
    "mutate(path_to_target = paste0('_targets_negbinom/objects/nhgc_', tag2)) %>%\n",
    "mutate(obj = purrr::map(path_to_target, ~if (file.exists(.x)) qs::qread(.x) else NA))\n",
    "    \n",
    "combined_tibble <- tag2_tibble %>%\n",
    "  mutate(obj = map2(obj, tag2, ~if (!is.na(.x)) mutate(.x, tag2 = .y) else tibble())) %>%\n",
    "  pull(obj) %>%\n",
    "  map_dfr(identity)"
   ]
  },
  {
   "cell_type": "code",
   "execution_count": 6,
   "id": "f78db031",
   "metadata": {},
   "outputs": [],
   "source": [
    "library(dplyr)\n",
    "library(tidyr)\n",
    "\n",
    "# Tibble for fgf1_grouping\n",
    "fgf1_tibble <- combined_tibble %>% \n",
    "  filter(fgf1_grouping %in% c('neg', 'none', 'pos')) %>%\n",
    "  group_by(tag2, fgf1_grouping) %>%\n",
    "  summarise(count = n(), .groups = \"drop\") %>%\n",
    "  pivot_wider(names_from = fgf1_grouping, values_from = count, names_prefix = \"fgf1_\", values_fill = 0) %>%\n",
    "  rowwise() %>%\n",
    "  mutate(total_cells = sum(c_across(-tag2), na.rm = TRUE)) %>% \n",
    "  ungroup\n",
    "\n",
    "# Tibble for fgf1_grouping with _restored\n",
    "restored_tibble <- combined_tibble %>% \n",
    "  mutate(fgf1_grouping_restored = str_replace_all(fgf1_grouping, c(\"neg\" = \"neg_restored\", \"pos\" = \"pos_restored\"))) %>%\n",
    "  filter(fgf1_grouping_restored %in% c('neg_restored', 'none', 'pos_restored')) %>%\n",
    "  group_by(tag2, fgf1_grouping_restored) %>%\n",
    "  summarise(count = n(), .groups = \"drop\") %>%\n",
    "  pivot_wider(names_from = fgf1_grouping_restored, values_from = count, names_prefix = \"restored_\", values_fill = 0) %>%\n",
    "  rowwise() %>%\n",
    "  mutate(total_cells = sum(c_across(-tag2), na.rm = TRUE)) %>% \n",
    "  ungroup\n",
    "\n",
    "# Tibble for fgf1_grouping with _restored\n",
    "bl6_tibble <- combined_tibble %>% \n",
    "  mutate(bl6_grouping = str_replace_all(bl6_grouping, c(\"neg\" = \"neg\", \"pos\" = \"pos\"))) %>%\n",
    "  filter(bl6_grouping %in% c('neg', 'none', 'pos')) %>%\n",
    "  group_by(tag2, bl6_grouping) %>%\n",
    "  summarise(count = n(), .groups = \"drop\") %>%\n",
    "  pivot_wider(names_from = bl6_grouping, values_from = count, names_prefix = \"bl6_\", values_fill = 0) %>%\n",
    "  rowwise() %>%\n",
    "  mutate(total_cells = sum(c_across(-tag2), na.rm = TRUE)) %>% \n",
    "  ungroup\n",
    "\n"
   ]
  },
  {
   "cell_type": "code",
   "execution_count": null,
   "id": "714c04be",
   "metadata": {},
   "outputs": [],
   "source": []
  },
  {
   "cell_type": "code",
   "execution_count": 7,
   "id": "fd59ce56",
   "metadata": {},
   "outputs": [
    {
     "data": {
      "text/html": [
       "<table class=\"dataframe\">\n",
       "<caption>A tibble: 6 × 7</caption>\n",
       "<thead>\n",
       "\t<tr><th scope=col>tag</th><th scope=col>count</th><th scope=col>total_cells</th><th scope=col>frac</th><th scope=col>frac_cutoff</th><th scope=col>n_cells_cutoff</th><th scope=col>n_cells_valid</th></tr>\n",
       "\t<tr><th scope=col>&lt;chr&gt;</th><th scope=col>&lt;int&gt;</th><th scope=col>&lt;int&gt;</th><th scope=col>&lt;dbl&gt;</th><th scope=col>&lt;dbl&gt;</th><th scope=col>&lt;dbl&gt;</th><th scope=col>&lt;lgl&gt;</th></tr>\n",
       "</thead>\n",
       "<tbody>\n",
       "\t<tr><td>Agrp___Day5.obob5v5__v__Day5.obobBL6d5___fgf1_grouping.neg_vs_none             </td><td> 343</td><td>2284</td><td>0.1501751</td><td>0.1</td><td>150</td><td>TRUE</td></tr>\n",
       "\t<tr><td>Agrp___Day5.obob5v5__v__Day5.obobBL6d5___fgf1_grouping.pos_vs_none             </td><td> 514</td><td>2284</td><td>0.2250438</td><td>0.1</td><td>150</td><td>TRUE</td></tr>\n",
       "\t<tr><td>Agrp___Day5.obob5v5__v__Day5.obobBL6d5___restored_grouping.neg_restored_vs_none</td><td> 343</td><td>2284</td><td>0.1501751</td><td>0.1</td><td>150</td><td>TRUE</td></tr>\n",
       "\t<tr><td>Agrp___Day5.obob5v5__v__Day5.obobBL6d5___restored_grouping.pos_restored_vs_none</td><td> 514</td><td>2284</td><td>0.2250438</td><td>0.1</td><td>150</td><td>TRUE</td></tr>\n",
       "\t<tr><td>Agrp___Day5.obob5v5__v__Day5.obobBL6d5___bl6_grouping.neg_vs_none              </td><td> 688</td><td>2284</td><td>0.3012259</td><td>0.1</td><td>150</td><td>TRUE</td></tr>\n",
       "\t<tr><td>Agrp___Day5.obob5v5__v__Day5.obobBL6d5___bl6_grouping.pos_vs_none              </td><td>1406</td><td>2284</td><td>0.6155867</td><td>0.1</td><td>150</td><td>TRUE</td></tr>\n",
       "</tbody>\n",
       "</table>\n"
      ],
      "text/latex": [
       "A tibble: 6 × 7\n",
       "\\begin{tabular}{lllllll}\n",
       " tag & count & total\\_cells & frac & frac\\_cutoff & n\\_cells\\_cutoff & n\\_cells\\_valid\\\\\n",
       " <chr> & <int> & <int> & <dbl> & <dbl> & <dbl> & <lgl>\\\\\n",
       "\\hline\n",
       "\t Agrp\\_\\_\\_Day5.obob5v5\\_\\_v\\_\\_Day5.obobBL6d5\\_\\_\\_fgf1\\_grouping.neg\\_vs\\_none              &  343 & 2284 & 0.1501751 & 0.1 & 150 & TRUE\\\\\n",
       "\t Agrp\\_\\_\\_Day5.obob5v5\\_\\_v\\_\\_Day5.obobBL6d5\\_\\_\\_fgf1\\_grouping.pos\\_vs\\_none              &  514 & 2284 & 0.2250438 & 0.1 & 150 & TRUE\\\\\n",
       "\t Agrp\\_\\_\\_Day5.obob5v5\\_\\_v\\_\\_Day5.obobBL6d5\\_\\_\\_restored\\_grouping.neg\\_restored\\_vs\\_none &  343 & 2284 & 0.1501751 & 0.1 & 150 & TRUE\\\\\n",
       "\t Agrp\\_\\_\\_Day5.obob5v5\\_\\_v\\_\\_Day5.obobBL6d5\\_\\_\\_restored\\_grouping.pos\\_restored\\_vs\\_none &  514 & 2284 & 0.2250438 & 0.1 & 150 & TRUE\\\\\n",
       "\t Agrp\\_\\_\\_Day5.obob5v5\\_\\_v\\_\\_Day5.obobBL6d5\\_\\_\\_bl6\\_grouping.neg\\_vs\\_none               &  688 & 2284 & 0.3012259 & 0.1 & 150 & TRUE\\\\\n",
       "\t Agrp\\_\\_\\_Day5.obob5v5\\_\\_v\\_\\_Day5.obobBL6d5\\_\\_\\_bl6\\_grouping.pos\\_vs\\_none               & 1406 & 2284 & 0.6155867 & 0.1 & 150 & TRUE\\\\\n",
       "\\end{tabular}\n"
      ],
      "text/markdown": [
       "\n",
       "A tibble: 6 × 7\n",
       "\n",
       "| tag &lt;chr&gt; | count &lt;int&gt; | total_cells &lt;int&gt; | frac &lt;dbl&gt; | frac_cutoff &lt;dbl&gt; | n_cells_cutoff &lt;dbl&gt; | n_cells_valid &lt;lgl&gt; |\n",
       "|---|---|---|---|---|---|---|\n",
       "| Agrp___Day5.obob5v5__v__Day5.obobBL6d5___fgf1_grouping.neg_vs_none              |  343 | 2284 | 0.1501751 | 0.1 | 150 | TRUE |\n",
       "| Agrp___Day5.obob5v5__v__Day5.obobBL6d5___fgf1_grouping.pos_vs_none              |  514 | 2284 | 0.2250438 | 0.1 | 150 | TRUE |\n",
       "| Agrp___Day5.obob5v5__v__Day5.obobBL6d5___restored_grouping.neg_restored_vs_none |  343 | 2284 | 0.1501751 | 0.1 | 150 | TRUE |\n",
       "| Agrp___Day5.obob5v5__v__Day5.obobBL6d5___restored_grouping.pos_restored_vs_none |  514 | 2284 | 0.2250438 | 0.1 | 150 | TRUE |\n",
       "| Agrp___Day5.obob5v5__v__Day5.obobBL6d5___bl6_grouping.neg_vs_none               |  688 | 2284 | 0.3012259 | 0.1 | 150 | TRUE |\n",
       "| Agrp___Day5.obob5v5__v__Day5.obobBL6d5___bl6_grouping.pos_vs_none               | 1406 | 2284 | 0.6155867 | 0.1 | 150 | TRUE |\n",
       "\n"
      ],
      "text/plain": [
       "  tag                                                                            \n",
       "1 Agrp___Day5.obob5v5__v__Day5.obobBL6d5___fgf1_grouping.neg_vs_none             \n",
       "2 Agrp___Day5.obob5v5__v__Day5.obobBL6d5___fgf1_grouping.pos_vs_none             \n",
       "3 Agrp___Day5.obob5v5__v__Day5.obobBL6d5___restored_grouping.neg_restored_vs_none\n",
       "4 Agrp___Day5.obob5v5__v__Day5.obobBL6d5___restored_grouping.pos_restored_vs_none\n",
       "5 Agrp___Day5.obob5v5__v__Day5.obobBL6d5___bl6_grouping.neg_vs_none              \n",
       "6 Agrp___Day5.obob5v5__v__Day5.obobBL6d5___bl6_grouping.pos_vs_none              \n",
       "  count total_cells frac      frac_cutoff n_cells_cutoff n_cells_valid\n",
       "1  343  2284        0.1501751 0.1         150            TRUE         \n",
       "2  514  2284        0.2250438 0.1         150            TRUE         \n",
       "3  343  2284        0.1501751 0.1         150            TRUE         \n",
       "4  514  2284        0.2250438 0.1         150            TRUE         \n",
       "5  688  2284        0.3012259 0.1         150            TRUE         \n",
       "6 1406  2284        0.6155867 0.1         150            TRUE         "
      ]
     },
     "metadata": {},
     "output_type": "display_data"
    }
   ],
   "source": [
    "frac_cutoff = 0.10\n",
    "n_cells_cutoff = 150\n",
    "\n",
    "# Create the first tibble\n",
    "fgf1_tibble_new <- fgf1_tibble %>%\n",
    "  pivot_longer(cols = starts_with(\"fgf1_\"), names_to = \"grouping\", values_to = \"count\") %>%\n",
    "  mutate(grouping = str_replace(grouping, \"fgf1_\", \"\")) %>%\n",
    "  mutate(polarity1 = ifelse(grouping == \"none\", NA, grouping),\n",
    "         polarity2 = ifelse(grouping == \"none\", grouping, \"none\")) %>%\n",
    "  mutate(tag = paste0(tag2, \"___fgf1_grouping.\", polarity1, \"_vs_\", polarity2)) %>%\n",
    "  mutate(frac = count/total_cells) %>%\n",
    "  mutate(frac_cutoff = frac_cutoff) %>%\n",
    "  mutate(n_cells_cutoff = n_cells_cutoff) %>%\n",
    "  mutate(n_cells_valid = ifelse(((frac >= frac_cutoff) & (count >= n_cells_cutoff)), TRUE, FALSE)) %>%\n",
    "  select(tag, count, total_cells, frac, frac_cutoff, n_cells_cutoff, n_cells_valid)\n",
    "\n",
    "# Create the second tibble\n",
    "restored_tibble_new <- restored_tibble %>%\n",
    "  pivot_longer(cols = starts_with(\"restored_\"), names_to = \"grouping\", values_to = \"count\") %>%\n",
    "  mutate(grouping = str_replace(grouping, \"restored_\", \"\")) %>%\n",
    "  mutate(polarity1 = ifelse(grouping == \"none\", NA, grouping),\n",
    "         polarity2 = ifelse(grouping == \"none\", grouping, \"none\")) %>%\n",
    "  mutate(tag = paste0(tag2, \"___restored_grouping.\", polarity1, \"_vs_\", polarity2)) %>%\n",
    "  mutate(frac = count/total_cells) %>%\n",
    "  mutate(frac_cutoff = frac_cutoff) %>%\n",
    "  mutate(n_cells_cutoff = n_cells_cutoff) %>%\n",
    "  mutate(n_cells_valid = ifelse(((frac >= frac_cutoff) & (count >= n_cells_cutoff)), TRUE, FALSE)) %>%\n",
    "  select(tag, count, total_cells, frac, frac_cutoff, n_cells_cutoff, n_cells_valid)\n",
    "\n",
    "# Create the second tibble\n",
    "bl6_tibble_new <- bl6_tibble %>%\n",
    "  pivot_longer(cols = starts_with(\"bl6_\"), names_to = \"grouping\", values_to = \"count\") %>%\n",
    "  mutate(grouping = str_replace(grouping, \"bl6_\", \"\")) %>%\n",
    "  mutate(polarity1 = ifelse(grouping == \"none\", NA, grouping),\n",
    "         polarity2 = ifelse(grouping == \"none\", grouping, \"none\")) %>%\n",
    "  mutate(tag = paste0(tag2, \"___bl6_grouping.\", polarity1, \"_vs_\", polarity2)) %>%\n",
    "  mutate(frac = count/total_cells) %>%\n",
    "  mutate(frac_cutoff = frac_cutoff) %>%\n",
    "  mutate(n_cells_cutoff = n_cells_cutoff) %>%\n",
    "  mutate(n_cells_valid = ifelse(((frac >= frac_cutoff) & (count >= n_cells_cutoff)), TRUE, FALSE)) %>%\n",
    "  select(tag, count, total_cells, frac, frac_cutoff, n_cells_cutoff, n_cells_valid)\n",
    "\n",
    "# Bind the rows of the two tibbles\n",
    "new_tibble <- bind_rows(fgf1_tibble_new, restored_tibble_new, bl6_tibble_new) %>%\n",
    "    filter(!str_detect(tag, 'NA'))\n",
    "\n",
    "new_tibble %>% filter(str_detect(tag, 'Agrp___Day5.obob5v5__v__Day5.obobBL6d5'))"
   ]
  },
  {
   "cell_type": "code",
   "execution_count": 8,
   "id": "3c9f5f12",
   "metadata": {},
   "outputs": [
    {
     "data": {
      "text/html": [
       "<table class=\"dataframe\">\n",
       "<caption>A tibble: 68 × 7</caption>\n",
       "<thead>\n",
       "\t<tr><th scope=col>tag</th><th scope=col>count</th><th scope=col>total_cells</th><th scope=col>frac</th><th scope=col>frac_cutoff</th><th scope=col>n_cells_cutoff</th><th scope=col>n_cells_valid</th></tr>\n",
       "\t<tr><th scope=col>&lt;chr&gt;</th><th scope=col>&lt;int&gt;</th><th scope=col>&lt;int&gt;</th><th scope=col>&lt;dbl&gt;</th><th scope=col>&lt;dbl&gt;</th><th scope=col>&lt;dbl&gt;</th><th scope=col>&lt;lgl&gt;</th></tr>\n",
       "</thead>\n",
       "<tbody>\n",
       "\t<tr><td>Tbx19__Pirt___Day5.obob5v5__v__Day5.obobBL6d5___fgf1_grouping.neg_vs_none                     </td><td>122</td><td>1183</td><td>0.1031276</td><td>0.1</td><td>150</td><td>FALSE</td></tr>\n",
       "\t<tr><td>Tbx19__Pirt___Day5.obob5v5__v__Day5.obobBL6d5___restored_grouping.neg_restored_vs_none        </td><td>122</td><td>1183</td><td>0.1031276</td><td>0.1</td><td>150</td><td>FALSE</td></tr>\n",
       "\t<tr><td>Tanycytes___Day5.obob5v5__v__Day5.obobBL6d5___fgf1_grouping.pos_vs_none                       </td><td>528</td><td>5005</td><td>0.1054945</td><td>0.1</td><td>150</td><td> TRUE</td></tr>\n",
       "\t<tr><td>Tanycytes___Day5.obob5v5__v__Day5.obobBL6d5___restored_grouping.pos_restored_vs_none          </td><td>528</td><td>5005</td><td>0.1054945</td><td>0.1</td><td>150</td><td> TRUE</td></tr>\n",
       "\t<tr><td>Sst__Unc13c___Day5.obob5v5__v__Day5.obobBL6d5___fgf1_grouping.pos_vs_none                     </td><td>163</td><td>1535</td><td>0.1061889</td><td>0.1</td><td>150</td><td> TRUE</td></tr>\n",
       "\t<tr><td>Sst__Unc13c___Day5.obob5v5__v__Day5.obobBL6d5___restored_grouping.pos_restored_vs_none        </td><td>163</td><td>1535</td><td>0.1061889</td><td>0.1</td><td>150</td><td> TRUE</td></tr>\n",
       "\t<tr><td>Nfix__Nfib___Day14.obob14v14__v__Day14.obobBL6d14___fgf1_grouping.neg_vs_none                 </td><td>102</td><td> 946</td><td>0.1078224</td><td>0.1</td><td>150</td><td>FALSE</td></tr>\n",
       "\t<tr><td>Nfix__Nfib___Day14.obob14v14__v__Day14.obobBL6d14___restored_grouping.neg_restored_vs_none    </td><td>102</td><td> 946</td><td>0.1078224</td><td>0.1</td><td>150</td><td>FALSE</td></tr>\n",
       "\t<tr><td>n1___Day5.obob5v5__v__Day5.obobBL6d5___fgf1_grouping.pos_vs_none                              </td><td>627</td><td>5198</td><td>0.1206233</td><td>0.1</td><td>150</td><td> TRUE</td></tr>\n",
       "\t<tr><td>n1___Day5.obob5v5__v__Day5.obobBL6d5___restored_grouping.pos_restored_vs_none                 </td><td>627</td><td>5198</td><td>0.1206233</td><td>0.1</td><td>150</td><td> TRUE</td></tr>\n",
       "\t<tr><td>Tbx19__Pirt___Day5.obob5v5__v__Day5.obobBL6d5___fgf1_grouping.pos_vs_none                     </td><td>147</td><td>1183</td><td>0.1242604</td><td>0.1</td><td>150</td><td>FALSE</td></tr>\n",
       "\t<tr><td>Tbx19__Pirt___Day5.obob5v5__v__Day5.obobBL6d5___restored_grouping.pos_restored_vs_none        </td><td>147</td><td>1183</td><td>0.1242604</td><td>0.1</td><td>150</td><td>FALSE</td></tr>\n",
       "\t<tr><td>Pou6f2__Prkcq__Whrn___Day5.obob5v5__v__Day5.obobBL6d5___fgf1_grouping.pos_vs_none             </td><td>136</td><td>1085</td><td>0.1253456</td><td>0.1</td><td>150</td><td>FALSE</td></tr>\n",
       "\t<tr><td>Pou6f2__Prkcq__Whrn___Day5.obob5v5__v__Day5.obobBL6d5___restored_grouping.pos_restored_vs_none</td><td>136</td><td>1085</td><td>0.1253456</td><td>0.1</td><td>150</td><td>FALSE</td></tr>\n",
       "\t<tr><td>Kiss1__Tac2___Day5.obob5v5__v__Day5.obobBL6d5___fgf1_grouping.neg_vs_none                     </td><td>215</td><td>1519</td><td>0.1415405</td><td>0.1</td><td>150</td><td> TRUE</td></tr>\n",
       "\t<tr><td>Kiss1__Tac2___Day5.obob5v5__v__Day5.obobBL6d5___restored_grouping.neg_restored_vs_none        </td><td>215</td><td>1519</td><td>0.1415405</td><td>0.1</td><td>150</td><td> TRUE</td></tr>\n",
       "\t<tr><td>Ghrh___Day5.obob5v5__v__Day5.obobBL6d5___fgf1_grouping.pos_vs_none                            </td><td>157</td><td>1063</td><td>0.1476952</td><td>0.1</td><td>150</td><td> TRUE</td></tr>\n",
       "\t<tr><td>Ghrh___Day5.obob5v5__v__Day5.obobBL6d5___restored_grouping.pos_restored_vs_none               </td><td>157</td><td>1063</td><td>0.1476952</td><td>0.1</td><td>150</td><td> TRUE</td></tr>\n",
       "\t<tr><td>Agrp___Day5.obob5v5__v__Day5.obobBL6d5___fgf1_grouping.neg_vs_none                            </td><td>343</td><td>2284</td><td>0.1501751</td><td>0.1</td><td>150</td><td> TRUE</td></tr>\n",
       "\t<tr><td>Agrp___Day5.obob5v5__v__Day5.obobBL6d5___restored_grouping.neg_restored_vs_none               </td><td>343</td><td>2284</td><td>0.1501751</td><td>0.1</td><td>150</td><td> TRUE</td></tr>\n",
       "\t<tr><td>Oligodendrocytes___Day5.obob5v5__v__Day5.obobBL6d5___fgf1_grouping.pos_vs_none                </td><td>163</td><td>1079</td><td>0.1510658</td><td>0.1</td><td>150</td><td> TRUE</td></tr>\n",
       "\t<tr><td>Oligodendrocytes___Day5.obob5v5__v__Day5.obobBL6d5___restored_grouping.pos_restored_vs_none   </td><td>163</td><td>1079</td><td>0.1510658</td><td>0.1</td><td>150</td><td> TRUE</td></tr>\n",
       "\t<tr><td>Oligodendrocytes___Day5.obob5v5__v__Day5.obobBL6d5___fgf1_grouping.neg_vs_none                </td><td>168</td><td>1079</td><td>0.1556997</td><td>0.1</td><td>150</td><td> TRUE</td></tr>\n",
       "\t<tr><td>Oligodendrocytes___Day5.obob5v5__v__Day5.obobBL6d5___restored_grouping.neg_restored_vs_none   </td><td>168</td><td>1079</td><td>0.1556997</td><td>0.1</td><td>150</td><td> TRUE</td></tr>\n",
       "\t<tr><td>g3___Day5.obob5v5__v__Day5.obobBL6d5___fgf1_grouping.neg_vs_none                              </td><td>388</td><td>2456</td><td>0.1579805</td><td>0.1</td><td>150</td><td> TRUE</td></tr>\n",
       "\t<tr><td>g3___Day5.obob5v5__v__Day5.obobBL6d5___restored_grouping.neg_restored_vs_none                 </td><td>388</td><td>2456</td><td>0.1579805</td><td>0.1</td><td>150</td><td> TRUE</td></tr>\n",
       "\t<tr><td>Sst__Pthlh___Day5.obob5v5__v__Day5.obobBL6d5___fgf1_grouping.pos_vs_none                      </td><td>121</td><td> 742</td><td>0.1630728</td><td>0.1</td><td>150</td><td>FALSE</td></tr>\n",
       "\t<tr><td>Sst__Pthlh___Day5.obob5v5__v__Day5.obobBL6d5___restored_grouping.pos_restored_vs_none         </td><td>121</td><td> 742</td><td>0.1630728</td><td>0.1</td><td>150</td><td>FALSE</td></tr>\n",
       "\t<tr><td>g3___Day5.obob5v5__v__Day5.obobBL6d5___fgf1_grouping.pos_vs_none                              </td><td>412</td><td>2456</td><td>0.1677524</td><td>0.1</td><td>150</td><td> TRUE</td></tr>\n",
       "\t<tr><td>g3___Day5.obob5v5__v__Day5.obobBL6d5___restored_grouping.pos_restored_vs_none                 </td><td>412</td><td>2456</td><td>0.1677524</td><td>0.1</td><td>150</td><td> TRUE</td></tr>\n",
       "\t<tr><td>⋮</td><td>⋮</td><td>⋮</td><td>⋮</td><td>⋮</td><td>⋮</td><td>⋮</td></tr>\n",
       "\t<tr><td>Astrocytes___Day5.obob5v5__v__Day5.obobBL6d5___fgf1_grouping.pos_vs_none                  </td><td>1299</td><td> 6361</td><td>0.2042132</td><td>0.1</td><td>150</td><td> TRUE</td></tr>\n",
       "\t<tr><td>Astrocytes___Day5.obob5v5__v__Day5.obobBL6d5___restored_grouping.pos_restored_vs_none     </td><td>1299</td><td> 6361</td><td>0.2042132</td><td>0.1</td><td>150</td><td> TRUE</td></tr>\n",
       "\t<tr><td>Pomc__Glipr1___Day5.obob5v5__v__Day5.obobBL6d5___fgf1_grouping.neg_vs_none                </td><td> 246</td><td> 1204</td><td>0.2043189</td><td>0.1</td><td>150</td><td> TRUE</td></tr>\n",
       "\t<tr><td>Pomc__Glipr1___Day5.obob5v5__v__Day5.obobBL6d5___restored_grouping.neg_restored_vs_none   </td><td> 246</td><td> 1204</td><td>0.2043189</td><td>0.1</td><td>150</td><td> TRUE</td></tr>\n",
       "\t<tr><td>Trh__Lef1___Day5.obob5v5__v__Day5.obobBL6d5___fgf1_grouping.neg_vs_none                   </td><td> 324</td><td> 1571</td><td>0.2062381</td><td>0.1</td><td>150</td><td> TRUE</td></tr>\n",
       "\t<tr><td>Trh__Lef1___Day5.obob5v5__v__Day5.obobBL6d5___restored_grouping.neg_restored_vs_none      </td><td> 324</td><td> 1571</td><td>0.2062381</td><td>0.1</td><td>150</td><td> TRUE</td></tr>\n",
       "\t<tr><td>Trh__Lef1___Day5.obob5v5__v__Day5.obobBL6d5___fgf1_grouping.pos_vs_none                   </td><td> 330</td><td> 1571</td><td>0.2100573</td><td>0.1</td><td>150</td><td> TRUE</td></tr>\n",
       "\t<tr><td>Trh__Lef1___Day5.obob5v5__v__Day5.obobBL6d5___restored_grouping.pos_restored_vs_none      </td><td> 330</td><td> 1571</td><td>0.2100573</td><td>0.1</td><td>150</td><td> TRUE</td></tr>\n",
       "\t<tr><td>Ependymal_cells___Day5.obob5v5__v__Day5.obobBL6d5___fgf1_grouping.neg_vs_none             </td><td>  55</td><td>  247</td><td>0.2226721</td><td>0.1</td><td>150</td><td>FALSE</td></tr>\n",
       "\t<tr><td>Ependymal_cells___Day5.obob5v5__v__Day5.obobBL6d5___restored_grouping.neg_restored_vs_none</td><td>  55</td><td>  247</td><td>0.2226721</td><td>0.1</td><td>150</td><td>FALSE</td></tr>\n",
       "\t<tr><td>Agrp___Day5.obob5v5__v__Day5.obobBL6d5___fgf1_grouping.pos_vs_none                        </td><td> 514</td><td> 2284</td><td>0.2250438</td><td>0.1</td><td>150</td><td> TRUE</td></tr>\n",
       "\t<tr><td>Agrp___Day5.obob5v5__v__Day5.obobBL6d5___restored_grouping.pos_restored_vs_none           </td><td> 514</td><td> 2284</td><td>0.2250438</td><td>0.1</td><td>150</td><td> TRUE</td></tr>\n",
       "\t<tr><td>Ghrh___Day5.obob5v5__v__Day5.obobBL6d5___fgf1_grouping.neg_vs_none                        </td><td> 261</td><td> 1063</td><td>0.2455315</td><td>0.1</td><td>150</td><td> TRUE</td></tr>\n",
       "\t<tr><td>Ghrh___Day5.obob5v5__v__Day5.obobBL6d5___restored_grouping.neg_restored_vs_none           </td><td> 261</td><td> 1063</td><td>0.2455315</td><td>0.1</td><td>150</td><td> TRUE</td></tr>\n",
       "\t<tr><td>OPC___Day5.obob5v5__v__Day5.obobBL6d5___fgf1_grouping.pos_vs_none                         </td><td> 382</td><td> 1485</td><td>0.2572391</td><td>0.1</td><td>150</td><td> TRUE</td></tr>\n",
       "\t<tr><td>OPC___Day5.obob5v5__v__Day5.obobBL6d5___restored_grouping.pos_restored_vs_none            </td><td> 382</td><td> 1485</td><td>0.2572391</td><td>0.1</td><td>150</td><td> TRUE</td></tr>\n",
       "\t<tr><td>Htr3b___Day5.obob5v5__v__Day5.obobBL6d5___fgf1_grouping.neg_vs_none                       </td><td> 527</td><td> 1906</td><td>0.2764953</td><td>0.1</td><td>150</td><td> TRUE</td></tr>\n",
       "\t<tr><td>Htr3b___Day5.obob5v5__v__Day5.obobBL6d5___restored_grouping.neg_restored_vs_none          </td><td> 527</td><td> 1906</td><td>0.2764953</td><td>0.1</td><td>150</td><td> TRUE</td></tr>\n",
       "\t<tr><td>g2___Day5.obob5v5__v__Day5.obobBL6d5___fgf1_grouping.neg_vs_none                          </td><td>1831</td><td> 6261</td><td>0.2924453</td><td>0.1</td><td>150</td><td> TRUE</td></tr>\n",
       "\t<tr><td>g2___Day5.obob5v5__v__Day5.obobBL6d5___restored_grouping.neg_restored_vs_none             </td><td>1831</td><td> 6261</td><td>0.2924453</td><td>0.1</td><td>150</td><td> TRUE</td></tr>\n",
       "\t<tr><td>Astrocytes___Day5.obob5v5__v__Day5.obobBL6d5___fgf1_grouping.neg_vs_none                  </td><td>1897</td><td> 6361</td><td>0.2982235</td><td>0.1</td><td>150</td><td> TRUE</td></tr>\n",
       "\t<tr><td>Astrocytes___Day5.obob5v5__v__Day5.obobBL6d5___restored_grouping.neg_restored_vs_none     </td><td>1897</td><td> 6361</td><td>0.2982235</td><td>0.1</td><td>150</td><td> TRUE</td></tr>\n",
       "\t<tr><td>other___Day5.obob5v5__v__Day5.obobBL6d5___fgf1_grouping.neg_vs_none                       </td><td>4701</td><td>15029</td><td>0.3127953</td><td>0.1</td><td>150</td><td> TRUE</td></tr>\n",
       "\t<tr><td>other___Day5.obob5v5__v__Day5.obobBL6d5___restored_grouping.neg_restored_vs_none          </td><td>4701</td><td>15029</td><td>0.3127953</td><td>0.1</td><td>150</td><td> TRUE</td></tr>\n",
       "\t<tr><td>Htr3b___Day5.obob5v5__v__Day5.obobBL6d5___fgf1_grouping.pos_vs_none                       </td><td> 628</td><td> 1906</td><td>0.3294858</td><td>0.1</td><td>150</td><td> TRUE</td></tr>\n",
       "\t<tr><td>Htr3b___Day5.obob5v5__v__Day5.obobBL6d5___restored_grouping.pos_restored_vs_none          </td><td> 628</td><td> 1906</td><td>0.3294858</td><td>0.1</td><td>150</td><td> TRUE</td></tr>\n",
       "\t<tr><td>OPC___Day5.obob5v5__v__Day5.obobBL6d5___fgf1_grouping.neg_vs_none                         </td><td> 546</td><td> 1485</td><td>0.3676768</td><td>0.1</td><td>150</td><td> TRUE</td></tr>\n",
       "\t<tr><td>OPC___Day5.obob5v5__v__Day5.obobBL6d5___restored_grouping.neg_restored_vs_none            </td><td> 546</td><td> 1485</td><td>0.3676768</td><td>0.1</td><td>150</td><td> TRUE</td></tr>\n",
       "\t<tr><td>Ependymal_cells___Day5.obob5v5__v__Day5.obobBL6d5___fgf1_grouping.pos_vs_none             </td><td> 101</td><td>  247</td><td>0.4089069</td><td>0.1</td><td>150</td><td>FALSE</td></tr>\n",
       "\t<tr><td>Ependymal_cells___Day5.obob5v5__v__Day5.obobBL6d5___restored_grouping.pos_restored_vs_none</td><td> 101</td><td>  247</td><td>0.4089069</td><td>0.1</td><td>150</td><td>FALSE</td></tr>\n",
       "</tbody>\n",
       "</table>\n"
      ],
      "text/latex": [
       "A tibble: 68 × 7\n",
       "\\begin{tabular}{lllllll}\n",
       " tag & count & total\\_cells & frac & frac\\_cutoff & n\\_cells\\_cutoff & n\\_cells\\_valid\\\\\n",
       " <chr> & <int> & <int> & <dbl> & <dbl> & <dbl> & <lgl>\\\\\n",
       "\\hline\n",
       "\t Tbx19\\_\\_Pirt\\_\\_\\_Day5.obob5v5\\_\\_v\\_\\_Day5.obobBL6d5\\_\\_\\_fgf1\\_grouping.neg\\_vs\\_none                      & 122 & 1183 & 0.1031276 & 0.1 & 150 & FALSE\\\\\n",
       "\t Tbx19\\_\\_Pirt\\_\\_\\_Day5.obob5v5\\_\\_v\\_\\_Day5.obobBL6d5\\_\\_\\_restored\\_grouping.neg\\_restored\\_vs\\_none         & 122 & 1183 & 0.1031276 & 0.1 & 150 & FALSE\\\\\n",
       "\t Tanycytes\\_\\_\\_Day5.obob5v5\\_\\_v\\_\\_Day5.obobBL6d5\\_\\_\\_fgf1\\_grouping.pos\\_vs\\_none                        & 528 & 5005 & 0.1054945 & 0.1 & 150 &  TRUE\\\\\n",
       "\t Tanycytes\\_\\_\\_Day5.obob5v5\\_\\_v\\_\\_Day5.obobBL6d5\\_\\_\\_restored\\_grouping.pos\\_restored\\_vs\\_none           & 528 & 5005 & 0.1054945 & 0.1 & 150 &  TRUE\\\\\n",
       "\t Sst\\_\\_Unc13c\\_\\_\\_Day5.obob5v5\\_\\_v\\_\\_Day5.obobBL6d5\\_\\_\\_fgf1\\_grouping.pos\\_vs\\_none                      & 163 & 1535 & 0.1061889 & 0.1 & 150 &  TRUE\\\\\n",
       "\t Sst\\_\\_Unc13c\\_\\_\\_Day5.obob5v5\\_\\_v\\_\\_Day5.obobBL6d5\\_\\_\\_restored\\_grouping.pos\\_restored\\_vs\\_none         & 163 & 1535 & 0.1061889 & 0.1 & 150 &  TRUE\\\\\n",
       "\t Nfix\\_\\_Nfib\\_\\_\\_Day14.obob14v14\\_\\_v\\_\\_Day14.obobBL6d14\\_\\_\\_fgf1\\_grouping.neg\\_vs\\_none                  & 102 &  946 & 0.1078224 & 0.1 & 150 & FALSE\\\\\n",
       "\t Nfix\\_\\_Nfib\\_\\_\\_Day14.obob14v14\\_\\_v\\_\\_Day14.obobBL6d14\\_\\_\\_restored\\_grouping.neg\\_restored\\_vs\\_none     & 102 &  946 & 0.1078224 & 0.1 & 150 & FALSE\\\\\n",
       "\t n1\\_\\_\\_Day5.obob5v5\\_\\_v\\_\\_Day5.obobBL6d5\\_\\_\\_fgf1\\_grouping.pos\\_vs\\_none                               & 627 & 5198 & 0.1206233 & 0.1 & 150 &  TRUE\\\\\n",
       "\t n1\\_\\_\\_Day5.obob5v5\\_\\_v\\_\\_Day5.obobBL6d5\\_\\_\\_restored\\_grouping.pos\\_restored\\_vs\\_none                  & 627 & 5198 & 0.1206233 & 0.1 & 150 &  TRUE\\\\\n",
       "\t Tbx19\\_\\_Pirt\\_\\_\\_Day5.obob5v5\\_\\_v\\_\\_Day5.obobBL6d5\\_\\_\\_fgf1\\_grouping.pos\\_vs\\_none                      & 147 & 1183 & 0.1242604 & 0.1 & 150 & FALSE\\\\\n",
       "\t Tbx19\\_\\_Pirt\\_\\_\\_Day5.obob5v5\\_\\_v\\_\\_Day5.obobBL6d5\\_\\_\\_restored\\_grouping.pos\\_restored\\_vs\\_none         & 147 & 1183 & 0.1242604 & 0.1 & 150 & FALSE\\\\\n",
       "\t Pou6f2\\_\\_Prkcq\\_\\_Whrn\\_\\_\\_Day5.obob5v5\\_\\_v\\_\\_Day5.obobBL6d5\\_\\_\\_fgf1\\_grouping.pos\\_vs\\_none              & 136 & 1085 & 0.1253456 & 0.1 & 150 & FALSE\\\\\n",
       "\t Pou6f2\\_\\_Prkcq\\_\\_Whrn\\_\\_\\_Day5.obob5v5\\_\\_v\\_\\_Day5.obobBL6d5\\_\\_\\_restored\\_grouping.pos\\_restored\\_vs\\_none & 136 & 1085 & 0.1253456 & 0.1 & 150 & FALSE\\\\\n",
       "\t Kiss1\\_\\_Tac2\\_\\_\\_Day5.obob5v5\\_\\_v\\_\\_Day5.obobBL6d5\\_\\_\\_fgf1\\_grouping.neg\\_vs\\_none                      & 215 & 1519 & 0.1415405 & 0.1 & 150 &  TRUE\\\\\n",
       "\t Kiss1\\_\\_Tac2\\_\\_\\_Day5.obob5v5\\_\\_v\\_\\_Day5.obobBL6d5\\_\\_\\_restored\\_grouping.neg\\_restored\\_vs\\_none         & 215 & 1519 & 0.1415405 & 0.1 & 150 &  TRUE\\\\\n",
       "\t Ghrh\\_\\_\\_Day5.obob5v5\\_\\_v\\_\\_Day5.obobBL6d5\\_\\_\\_fgf1\\_grouping.pos\\_vs\\_none                             & 157 & 1063 & 0.1476952 & 0.1 & 150 &  TRUE\\\\\n",
       "\t Ghrh\\_\\_\\_Day5.obob5v5\\_\\_v\\_\\_Day5.obobBL6d5\\_\\_\\_restored\\_grouping.pos\\_restored\\_vs\\_none                & 157 & 1063 & 0.1476952 & 0.1 & 150 &  TRUE\\\\\n",
       "\t Agrp\\_\\_\\_Day5.obob5v5\\_\\_v\\_\\_Day5.obobBL6d5\\_\\_\\_fgf1\\_grouping.neg\\_vs\\_none                             & 343 & 2284 & 0.1501751 & 0.1 & 150 &  TRUE\\\\\n",
       "\t Agrp\\_\\_\\_Day5.obob5v5\\_\\_v\\_\\_Day5.obobBL6d5\\_\\_\\_restored\\_grouping.neg\\_restored\\_vs\\_none                & 343 & 2284 & 0.1501751 & 0.1 & 150 &  TRUE\\\\\n",
       "\t Oligodendrocytes\\_\\_\\_Day5.obob5v5\\_\\_v\\_\\_Day5.obobBL6d5\\_\\_\\_fgf1\\_grouping.pos\\_vs\\_none                 & 163 & 1079 & 0.1510658 & 0.1 & 150 &  TRUE\\\\\n",
       "\t Oligodendrocytes\\_\\_\\_Day5.obob5v5\\_\\_v\\_\\_Day5.obobBL6d5\\_\\_\\_restored\\_grouping.pos\\_restored\\_vs\\_none    & 163 & 1079 & 0.1510658 & 0.1 & 150 &  TRUE\\\\\n",
       "\t Oligodendrocytes\\_\\_\\_Day5.obob5v5\\_\\_v\\_\\_Day5.obobBL6d5\\_\\_\\_fgf1\\_grouping.neg\\_vs\\_none                 & 168 & 1079 & 0.1556997 & 0.1 & 150 &  TRUE\\\\\n",
       "\t Oligodendrocytes\\_\\_\\_Day5.obob5v5\\_\\_v\\_\\_Day5.obobBL6d5\\_\\_\\_restored\\_grouping.neg\\_restored\\_vs\\_none    & 168 & 1079 & 0.1556997 & 0.1 & 150 &  TRUE\\\\\n",
       "\t g3\\_\\_\\_Day5.obob5v5\\_\\_v\\_\\_Day5.obobBL6d5\\_\\_\\_fgf1\\_grouping.neg\\_vs\\_none                               & 388 & 2456 & 0.1579805 & 0.1 & 150 &  TRUE\\\\\n",
       "\t g3\\_\\_\\_Day5.obob5v5\\_\\_v\\_\\_Day5.obobBL6d5\\_\\_\\_restored\\_grouping.neg\\_restored\\_vs\\_none                  & 388 & 2456 & 0.1579805 & 0.1 & 150 &  TRUE\\\\\n",
       "\t Sst\\_\\_Pthlh\\_\\_\\_Day5.obob5v5\\_\\_v\\_\\_Day5.obobBL6d5\\_\\_\\_fgf1\\_grouping.pos\\_vs\\_none                       & 121 &  742 & 0.1630728 & 0.1 & 150 & FALSE\\\\\n",
       "\t Sst\\_\\_Pthlh\\_\\_\\_Day5.obob5v5\\_\\_v\\_\\_Day5.obobBL6d5\\_\\_\\_restored\\_grouping.pos\\_restored\\_vs\\_none          & 121 &  742 & 0.1630728 & 0.1 & 150 & FALSE\\\\\n",
       "\t g3\\_\\_\\_Day5.obob5v5\\_\\_v\\_\\_Day5.obobBL6d5\\_\\_\\_fgf1\\_grouping.pos\\_vs\\_none                               & 412 & 2456 & 0.1677524 & 0.1 & 150 &  TRUE\\\\\n",
       "\t g3\\_\\_\\_Day5.obob5v5\\_\\_v\\_\\_Day5.obobBL6d5\\_\\_\\_restored\\_grouping.pos\\_restored\\_vs\\_none                  & 412 & 2456 & 0.1677524 & 0.1 & 150 &  TRUE\\\\\n",
       "\t ⋮ & ⋮ & ⋮ & ⋮ & ⋮ & ⋮ & ⋮\\\\\n",
       "\t Astrocytes\\_\\_\\_Day5.obob5v5\\_\\_v\\_\\_Day5.obobBL6d5\\_\\_\\_fgf1\\_grouping.pos\\_vs\\_none                   & 1299 &  6361 & 0.2042132 & 0.1 & 150 &  TRUE\\\\\n",
       "\t Astrocytes\\_\\_\\_Day5.obob5v5\\_\\_v\\_\\_Day5.obobBL6d5\\_\\_\\_restored\\_grouping.pos\\_restored\\_vs\\_none      & 1299 &  6361 & 0.2042132 & 0.1 & 150 &  TRUE\\\\\n",
       "\t Pomc\\_\\_Glipr1\\_\\_\\_Day5.obob5v5\\_\\_v\\_\\_Day5.obobBL6d5\\_\\_\\_fgf1\\_grouping.neg\\_vs\\_none                 &  246 &  1204 & 0.2043189 & 0.1 & 150 &  TRUE\\\\\n",
       "\t Pomc\\_\\_Glipr1\\_\\_\\_Day5.obob5v5\\_\\_v\\_\\_Day5.obobBL6d5\\_\\_\\_restored\\_grouping.neg\\_restored\\_vs\\_none    &  246 &  1204 & 0.2043189 & 0.1 & 150 &  TRUE\\\\\n",
       "\t Trh\\_\\_Lef1\\_\\_\\_Day5.obob5v5\\_\\_v\\_\\_Day5.obobBL6d5\\_\\_\\_fgf1\\_grouping.neg\\_vs\\_none                    &  324 &  1571 & 0.2062381 & 0.1 & 150 &  TRUE\\\\\n",
       "\t Trh\\_\\_Lef1\\_\\_\\_Day5.obob5v5\\_\\_v\\_\\_Day5.obobBL6d5\\_\\_\\_restored\\_grouping.neg\\_restored\\_vs\\_none       &  324 &  1571 & 0.2062381 & 0.1 & 150 &  TRUE\\\\\n",
       "\t Trh\\_\\_Lef1\\_\\_\\_Day5.obob5v5\\_\\_v\\_\\_Day5.obobBL6d5\\_\\_\\_fgf1\\_grouping.pos\\_vs\\_none                    &  330 &  1571 & 0.2100573 & 0.1 & 150 &  TRUE\\\\\n",
       "\t Trh\\_\\_Lef1\\_\\_\\_Day5.obob5v5\\_\\_v\\_\\_Day5.obobBL6d5\\_\\_\\_restored\\_grouping.pos\\_restored\\_vs\\_none       &  330 &  1571 & 0.2100573 & 0.1 & 150 &  TRUE\\\\\n",
       "\t Ependymal\\_cells\\_\\_\\_Day5.obob5v5\\_\\_v\\_\\_Day5.obobBL6d5\\_\\_\\_fgf1\\_grouping.neg\\_vs\\_none              &   55 &   247 & 0.2226721 & 0.1 & 150 & FALSE\\\\\n",
       "\t Ependymal\\_cells\\_\\_\\_Day5.obob5v5\\_\\_v\\_\\_Day5.obobBL6d5\\_\\_\\_restored\\_grouping.neg\\_restored\\_vs\\_none &   55 &   247 & 0.2226721 & 0.1 & 150 & FALSE\\\\\n",
       "\t Agrp\\_\\_\\_Day5.obob5v5\\_\\_v\\_\\_Day5.obobBL6d5\\_\\_\\_fgf1\\_grouping.pos\\_vs\\_none                         &  514 &  2284 & 0.2250438 & 0.1 & 150 &  TRUE\\\\\n",
       "\t Agrp\\_\\_\\_Day5.obob5v5\\_\\_v\\_\\_Day5.obobBL6d5\\_\\_\\_restored\\_grouping.pos\\_restored\\_vs\\_none            &  514 &  2284 & 0.2250438 & 0.1 & 150 &  TRUE\\\\\n",
       "\t Ghrh\\_\\_\\_Day5.obob5v5\\_\\_v\\_\\_Day5.obobBL6d5\\_\\_\\_fgf1\\_grouping.neg\\_vs\\_none                         &  261 &  1063 & 0.2455315 & 0.1 & 150 &  TRUE\\\\\n",
       "\t Ghrh\\_\\_\\_Day5.obob5v5\\_\\_v\\_\\_Day5.obobBL6d5\\_\\_\\_restored\\_grouping.neg\\_restored\\_vs\\_none            &  261 &  1063 & 0.2455315 & 0.1 & 150 &  TRUE\\\\\n",
       "\t OPC\\_\\_\\_Day5.obob5v5\\_\\_v\\_\\_Day5.obobBL6d5\\_\\_\\_fgf1\\_grouping.pos\\_vs\\_none                          &  382 &  1485 & 0.2572391 & 0.1 & 150 &  TRUE\\\\\n",
       "\t OPC\\_\\_\\_Day5.obob5v5\\_\\_v\\_\\_Day5.obobBL6d5\\_\\_\\_restored\\_grouping.pos\\_restored\\_vs\\_none             &  382 &  1485 & 0.2572391 & 0.1 & 150 &  TRUE\\\\\n",
       "\t Htr3b\\_\\_\\_Day5.obob5v5\\_\\_v\\_\\_Day5.obobBL6d5\\_\\_\\_fgf1\\_grouping.neg\\_vs\\_none                        &  527 &  1906 & 0.2764953 & 0.1 & 150 &  TRUE\\\\\n",
       "\t Htr3b\\_\\_\\_Day5.obob5v5\\_\\_v\\_\\_Day5.obobBL6d5\\_\\_\\_restored\\_grouping.neg\\_restored\\_vs\\_none           &  527 &  1906 & 0.2764953 & 0.1 & 150 &  TRUE\\\\\n",
       "\t g2\\_\\_\\_Day5.obob5v5\\_\\_v\\_\\_Day5.obobBL6d5\\_\\_\\_fgf1\\_grouping.neg\\_vs\\_none                           & 1831 &  6261 & 0.2924453 & 0.1 & 150 &  TRUE\\\\\n",
       "\t g2\\_\\_\\_Day5.obob5v5\\_\\_v\\_\\_Day5.obobBL6d5\\_\\_\\_restored\\_grouping.neg\\_restored\\_vs\\_none              & 1831 &  6261 & 0.2924453 & 0.1 & 150 &  TRUE\\\\\n",
       "\t Astrocytes\\_\\_\\_Day5.obob5v5\\_\\_v\\_\\_Day5.obobBL6d5\\_\\_\\_fgf1\\_grouping.neg\\_vs\\_none                   & 1897 &  6361 & 0.2982235 & 0.1 & 150 &  TRUE\\\\\n",
       "\t Astrocytes\\_\\_\\_Day5.obob5v5\\_\\_v\\_\\_Day5.obobBL6d5\\_\\_\\_restored\\_grouping.neg\\_restored\\_vs\\_none      & 1897 &  6361 & 0.2982235 & 0.1 & 150 &  TRUE\\\\\n",
       "\t other\\_\\_\\_Day5.obob5v5\\_\\_v\\_\\_Day5.obobBL6d5\\_\\_\\_fgf1\\_grouping.neg\\_vs\\_none                        & 4701 & 15029 & 0.3127953 & 0.1 & 150 &  TRUE\\\\\n",
       "\t other\\_\\_\\_Day5.obob5v5\\_\\_v\\_\\_Day5.obobBL6d5\\_\\_\\_restored\\_grouping.neg\\_restored\\_vs\\_none           & 4701 & 15029 & 0.3127953 & 0.1 & 150 &  TRUE\\\\\n",
       "\t Htr3b\\_\\_\\_Day5.obob5v5\\_\\_v\\_\\_Day5.obobBL6d5\\_\\_\\_fgf1\\_grouping.pos\\_vs\\_none                        &  628 &  1906 & 0.3294858 & 0.1 & 150 &  TRUE\\\\\n",
       "\t Htr3b\\_\\_\\_Day5.obob5v5\\_\\_v\\_\\_Day5.obobBL6d5\\_\\_\\_restored\\_grouping.pos\\_restored\\_vs\\_none           &  628 &  1906 & 0.3294858 & 0.1 & 150 &  TRUE\\\\\n",
       "\t OPC\\_\\_\\_Day5.obob5v5\\_\\_v\\_\\_Day5.obobBL6d5\\_\\_\\_fgf1\\_grouping.neg\\_vs\\_none                          &  546 &  1485 & 0.3676768 & 0.1 & 150 &  TRUE\\\\\n",
       "\t OPC\\_\\_\\_Day5.obob5v5\\_\\_v\\_\\_Day5.obobBL6d5\\_\\_\\_restored\\_grouping.neg\\_restored\\_vs\\_none             &  546 &  1485 & 0.3676768 & 0.1 & 150 &  TRUE\\\\\n",
       "\t Ependymal\\_cells\\_\\_\\_Day5.obob5v5\\_\\_v\\_\\_Day5.obobBL6d5\\_\\_\\_fgf1\\_grouping.pos\\_vs\\_none              &  101 &   247 & 0.4089069 & 0.1 & 150 & FALSE\\\\\n",
       "\t Ependymal\\_cells\\_\\_\\_Day5.obob5v5\\_\\_v\\_\\_Day5.obobBL6d5\\_\\_\\_restored\\_grouping.pos\\_restored\\_vs\\_none &  101 &   247 & 0.4089069 & 0.1 & 150 & FALSE\\\\\n",
       "\\end{tabular}\n"
      ],
      "text/markdown": [
       "\n",
       "A tibble: 68 × 7\n",
       "\n",
       "| tag &lt;chr&gt; | count &lt;int&gt; | total_cells &lt;int&gt; | frac &lt;dbl&gt; | frac_cutoff &lt;dbl&gt; | n_cells_cutoff &lt;dbl&gt; | n_cells_valid &lt;lgl&gt; |\n",
       "|---|---|---|---|---|---|---|\n",
       "| Tbx19__Pirt___Day5.obob5v5__v__Day5.obobBL6d5___fgf1_grouping.neg_vs_none                      | 122 | 1183 | 0.1031276 | 0.1 | 150 | FALSE |\n",
       "| Tbx19__Pirt___Day5.obob5v5__v__Day5.obobBL6d5___restored_grouping.neg_restored_vs_none         | 122 | 1183 | 0.1031276 | 0.1 | 150 | FALSE |\n",
       "| Tanycytes___Day5.obob5v5__v__Day5.obobBL6d5___fgf1_grouping.pos_vs_none                        | 528 | 5005 | 0.1054945 | 0.1 | 150 |  TRUE |\n",
       "| Tanycytes___Day5.obob5v5__v__Day5.obobBL6d5___restored_grouping.pos_restored_vs_none           | 528 | 5005 | 0.1054945 | 0.1 | 150 |  TRUE |\n",
       "| Sst__Unc13c___Day5.obob5v5__v__Day5.obobBL6d5___fgf1_grouping.pos_vs_none                      | 163 | 1535 | 0.1061889 | 0.1 | 150 |  TRUE |\n",
       "| Sst__Unc13c___Day5.obob5v5__v__Day5.obobBL6d5___restored_grouping.pos_restored_vs_none         | 163 | 1535 | 0.1061889 | 0.1 | 150 |  TRUE |\n",
       "| Nfix__Nfib___Day14.obob14v14__v__Day14.obobBL6d14___fgf1_grouping.neg_vs_none                  | 102 |  946 | 0.1078224 | 0.1 | 150 | FALSE |\n",
       "| Nfix__Nfib___Day14.obob14v14__v__Day14.obobBL6d14___restored_grouping.neg_restored_vs_none     | 102 |  946 | 0.1078224 | 0.1 | 150 | FALSE |\n",
       "| n1___Day5.obob5v5__v__Day5.obobBL6d5___fgf1_grouping.pos_vs_none                               | 627 | 5198 | 0.1206233 | 0.1 | 150 |  TRUE |\n",
       "| n1___Day5.obob5v5__v__Day5.obobBL6d5___restored_grouping.pos_restored_vs_none                  | 627 | 5198 | 0.1206233 | 0.1 | 150 |  TRUE |\n",
       "| Tbx19__Pirt___Day5.obob5v5__v__Day5.obobBL6d5___fgf1_grouping.pos_vs_none                      | 147 | 1183 | 0.1242604 | 0.1 | 150 | FALSE |\n",
       "| Tbx19__Pirt___Day5.obob5v5__v__Day5.obobBL6d5___restored_grouping.pos_restored_vs_none         | 147 | 1183 | 0.1242604 | 0.1 | 150 | FALSE |\n",
       "| Pou6f2__Prkcq__Whrn___Day5.obob5v5__v__Day5.obobBL6d5___fgf1_grouping.pos_vs_none              | 136 | 1085 | 0.1253456 | 0.1 | 150 | FALSE |\n",
       "| Pou6f2__Prkcq__Whrn___Day5.obob5v5__v__Day5.obobBL6d5___restored_grouping.pos_restored_vs_none | 136 | 1085 | 0.1253456 | 0.1 | 150 | FALSE |\n",
       "| Kiss1__Tac2___Day5.obob5v5__v__Day5.obobBL6d5___fgf1_grouping.neg_vs_none                      | 215 | 1519 | 0.1415405 | 0.1 | 150 |  TRUE |\n",
       "| Kiss1__Tac2___Day5.obob5v5__v__Day5.obobBL6d5___restored_grouping.neg_restored_vs_none         | 215 | 1519 | 0.1415405 | 0.1 | 150 |  TRUE |\n",
       "| Ghrh___Day5.obob5v5__v__Day5.obobBL6d5___fgf1_grouping.pos_vs_none                             | 157 | 1063 | 0.1476952 | 0.1 | 150 |  TRUE |\n",
       "| Ghrh___Day5.obob5v5__v__Day5.obobBL6d5___restored_grouping.pos_restored_vs_none                | 157 | 1063 | 0.1476952 | 0.1 | 150 |  TRUE |\n",
       "| Agrp___Day5.obob5v5__v__Day5.obobBL6d5___fgf1_grouping.neg_vs_none                             | 343 | 2284 | 0.1501751 | 0.1 | 150 |  TRUE |\n",
       "| Agrp___Day5.obob5v5__v__Day5.obobBL6d5___restored_grouping.neg_restored_vs_none                | 343 | 2284 | 0.1501751 | 0.1 | 150 |  TRUE |\n",
       "| Oligodendrocytes___Day5.obob5v5__v__Day5.obobBL6d5___fgf1_grouping.pos_vs_none                 | 163 | 1079 | 0.1510658 | 0.1 | 150 |  TRUE |\n",
       "| Oligodendrocytes___Day5.obob5v5__v__Day5.obobBL6d5___restored_grouping.pos_restored_vs_none    | 163 | 1079 | 0.1510658 | 0.1 | 150 |  TRUE |\n",
       "| Oligodendrocytes___Day5.obob5v5__v__Day5.obobBL6d5___fgf1_grouping.neg_vs_none                 | 168 | 1079 | 0.1556997 | 0.1 | 150 |  TRUE |\n",
       "| Oligodendrocytes___Day5.obob5v5__v__Day5.obobBL6d5___restored_grouping.neg_restored_vs_none    | 168 | 1079 | 0.1556997 | 0.1 | 150 |  TRUE |\n",
       "| g3___Day5.obob5v5__v__Day5.obobBL6d5___fgf1_grouping.neg_vs_none                               | 388 | 2456 | 0.1579805 | 0.1 | 150 |  TRUE |\n",
       "| g3___Day5.obob5v5__v__Day5.obobBL6d5___restored_grouping.neg_restored_vs_none                  | 388 | 2456 | 0.1579805 | 0.1 | 150 |  TRUE |\n",
       "| Sst__Pthlh___Day5.obob5v5__v__Day5.obobBL6d5___fgf1_grouping.pos_vs_none                       | 121 |  742 | 0.1630728 | 0.1 | 150 | FALSE |\n",
       "| Sst__Pthlh___Day5.obob5v5__v__Day5.obobBL6d5___restored_grouping.pos_restored_vs_none          | 121 |  742 | 0.1630728 | 0.1 | 150 | FALSE |\n",
       "| g3___Day5.obob5v5__v__Day5.obobBL6d5___fgf1_grouping.pos_vs_none                               | 412 | 2456 | 0.1677524 | 0.1 | 150 |  TRUE |\n",
       "| g3___Day5.obob5v5__v__Day5.obobBL6d5___restored_grouping.pos_restored_vs_none                  | 412 | 2456 | 0.1677524 | 0.1 | 150 |  TRUE |\n",
       "| ⋮ | ⋮ | ⋮ | ⋮ | ⋮ | ⋮ | ⋮ |\n",
       "| Astrocytes___Day5.obob5v5__v__Day5.obobBL6d5___fgf1_grouping.pos_vs_none                   | 1299 |  6361 | 0.2042132 | 0.1 | 150 |  TRUE |\n",
       "| Astrocytes___Day5.obob5v5__v__Day5.obobBL6d5___restored_grouping.pos_restored_vs_none      | 1299 |  6361 | 0.2042132 | 0.1 | 150 |  TRUE |\n",
       "| Pomc__Glipr1___Day5.obob5v5__v__Day5.obobBL6d5___fgf1_grouping.neg_vs_none                 |  246 |  1204 | 0.2043189 | 0.1 | 150 |  TRUE |\n",
       "| Pomc__Glipr1___Day5.obob5v5__v__Day5.obobBL6d5___restored_grouping.neg_restored_vs_none    |  246 |  1204 | 0.2043189 | 0.1 | 150 |  TRUE |\n",
       "| Trh__Lef1___Day5.obob5v5__v__Day5.obobBL6d5___fgf1_grouping.neg_vs_none                    |  324 |  1571 | 0.2062381 | 0.1 | 150 |  TRUE |\n",
       "| Trh__Lef1___Day5.obob5v5__v__Day5.obobBL6d5___restored_grouping.neg_restored_vs_none       |  324 |  1571 | 0.2062381 | 0.1 | 150 |  TRUE |\n",
       "| Trh__Lef1___Day5.obob5v5__v__Day5.obobBL6d5___fgf1_grouping.pos_vs_none                    |  330 |  1571 | 0.2100573 | 0.1 | 150 |  TRUE |\n",
       "| Trh__Lef1___Day5.obob5v5__v__Day5.obobBL6d5___restored_grouping.pos_restored_vs_none       |  330 |  1571 | 0.2100573 | 0.1 | 150 |  TRUE |\n",
       "| Ependymal_cells___Day5.obob5v5__v__Day5.obobBL6d5___fgf1_grouping.neg_vs_none              |   55 |   247 | 0.2226721 | 0.1 | 150 | FALSE |\n",
       "| Ependymal_cells___Day5.obob5v5__v__Day5.obobBL6d5___restored_grouping.neg_restored_vs_none |   55 |   247 | 0.2226721 | 0.1 | 150 | FALSE |\n",
       "| Agrp___Day5.obob5v5__v__Day5.obobBL6d5___fgf1_grouping.pos_vs_none                         |  514 |  2284 | 0.2250438 | 0.1 | 150 |  TRUE |\n",
       "| Agrp___Day5.obob5v5__v__Day5.obobBL6d5___restored_grouping.pos_restored_vs_none            |  514 |  2284 | 0.2250438 | 0.1 | 150 |  TRUE |\n",
       "| Ghrh___Day5.obob5v5__v__Day5.obobBL6d5___fgf1_grouping.neg_vs_none                         |  261 |  1063 | 0.2455315 | 0.1 | 150 |  TRUE |\n",
       "| Ghrh___Day5.obob5v5__v__Day5.obobBL6d5___restored_grouping.neg_restored_vs_none            |  261 |  1063 | 0.2455315 | 0.1 | 150 |  TRUE |\n",
       "| OPC___Day5.obob5v5__v__Day5.obobBL6d5___fgf1_grouping.pos_vs_none                          |  382 |  1485 | 0.2572391 | 0.1 | 150 |  TRUE |\n",
       "| OPC___Day5.obob5v5__v__Day5.obobBL6d5___restored_grouping.pos_restored_vs_none             |  382 |  1485 | 0.2572391 | 0.1 | 150 |  TRUE |\n",
       "| Htr3b___Day5.obob5v5__v__Day5.obobBL6d5___fgf1_grouping.neg_vs_none                        |  527 |  1906 | 0.2764953 | 0.1 | 150 |  TRUE |\n",
       "| Htr3b___Day5.obob5v5__v__Day5.obobBL6d5___restored_grouping.neg_restored_vs_none           |  527 |  1906 | 0.2764953 | 0.1 | 150 |  TRUE |\n",
       "| g2___Day5.obob5v5__v__Day5.obobBL6d5___fgf1_grouping.neg_vs_none                           | 1831 |  6261 | 0.2924453 | 0.1 | 150 |  TRUE |\n",
       "| g2___Day5.obob5v5__v__Day5.obobBL6d5___restored_grouping.neg_restored_vs_none              | 1831 |  6261 | 0.2924453 | 0.1 | 150 |  TRUE |\n",
       "| Astrocytes___Day5.obob5v5__v__Day5.obobBL6d5___fgf1_grouping.neg_vs_none                   | 1897 |  6361 | 0.2982235 | 0.1 | 150 |  TRUE |\n",
       "| Astrocytes___Day5.obob5v5__v__Day5.obobBL6d5___restored_grouping.neg_restored_vs_none      | 1897 |  6361 | 0.2982235 | 0.1 | 150 |  TRUE |\n",
       "| other___Day5.obob5v5__v__Day5.obobBL6d5___fgf1_grouping.neg_vs_none                        | 4701 | 15029 | 0.3127953 | 0.1 | 150 |  TRUE |\n",
       "| other___Day5.obob5v5__v__Day5.obobBL6d5___restored_grouping.neg_restored_vs_none           | 4701 | 15029 | 0.3127953 | 0.1 | 150 |  TRUE |\n",
       "| Htr3b___Day5.obob5v5__v__Day5.obobBL6d5___fgf1_grouping.pos_vs_none                        |  628 |  1906 | 0.3294858 | 0.1 | 150 |  TRUE |\n",
       "| Htr3b___Day5.obob5v5__v__Day5.obobBL6d5___restored_grouping.pos_restored_vs_none           |  628 |  1906 | 0.3294858 | 0.1 | 150 |  TRUE |\n",
       "| OPC___Day5.obob5v5__v__Day5.obobBL6d5___fgf1_grouping.neg_vs_none                          |  546 |  1485 | 0.3676768 | 0.1 | 150 |  TRUE |\n",
       "| OPC___Day5.obob5v5__v__Day5.obobBL6d5___restored_grouping.neg_restored_vs_none             |  546 |  1485 | 0.3676768 | 0.1 | 150 |  TRUE |\n",
       "| Ependymal_cells___Day5.obob5v5__v__Day5.obobBL6d5___fgf1_grouping.pos_vs_none              |  101 |   247 | 0.4089069 | 0.1 | 150 | FALSE |\n",
       "| Ependymal_cells___Day5.obob5v5__v__Day5.obobBL6d5___restored_grouping.pos_restored_vs_none |  101 |   247 | 0.4089069 | 0.1 | 150 | FALSE |\n",
       "\n"
      ],
      "text/plain": [
       "   tag                                                                                           \n",
       "1  Tbx19__Pirt___Day5.obob5v5__v__Day5.obobBL6d5___fgf1_grouping.neg_vs_none                     \n",
       "2  Tbx19__Pirt___Day5.obob5v5__v__Day5.obobBL6d5___restored_grouping.neg_restored_vs_none        \n",
       "3  Tanycytes___Day5.obob5v5__v__Day5.obobBL6d5___fgf1_grouping.pos_vs_none                       \n",
       "4  Tanycytes___Day5.obob5v5__v__Day5.obobBL6d5___restored_grouping.pos_restored_vs_none          \n",
       "5  Sst__Unc13c___Day5.obob5v5__v__Day5.obobBL6d5___fgf1_grouping.pos_vs_none                     \n",
       "6  Sst__Unc13c___Day5.obob5v5__v__Day5.obobBL6d5___restored_grouping.pos_restored_vs_none        \n",
       "7  Nfix__Nfib___Day14.obob14v14__v__Day14.obobBL6d14___fgf1_grouping.neg_vs_none                 \n",
       "8  Nfix__Nfib___Day14.obob14v14__v__Day14.obobBL6d14___restored_grouping.neg_restored_vs_none    \n",
       "9  n1___Day5.obob5v5__v__Day5.obobBL6d5___fgf1_grouping.pos_vs_none                              \n",
       "10 n1___Day5.obob5v5__v__Day5.obobBL6d5___restored_grouping.pos_restored_vs_none                 \n",
       "11 Tbx19__Pirt___Day5.obob5v5__v__Day5.obobBL6d5___fgf1_grouping.pos_vs_none                     \n",
       "12 Tbx19__Pirt___Day5.obob5v5__v__Day5.obobBL6d5___restored_grouping.pos_restored_vs_none        \n",
       "13 Pou6f2__Prkcq__Whrn___Day5.obob5v5__v__Day5.obobBL6d5___fgf1_grouping.pos_vs_none             \n",
       "14 Pou6f2__Prkcq__Whrn___Day5.obob5v5__v__Day5.obobBL6d5___restored_grouping.pos_restored_vs_none\n",
       "15 Kiss1__Tac2___Day5.obob5v5__v__Day5.obobBL6d5___fgf1_grouping.neg_vs_none                     \n",
       "16 Kiss1__Tac2___Day5.obob5v5__v__Day5.obobBL6d5___restored_grouping.neg_restored_vs_none        \n",
       "17 Ghrh___Day5.obob5v5__v__Day5.obobBL6d5___fgf1_grouping.pos_vs_none                            \n",
       "18 Ghrh___Day5.obob5v5__v__Day5.obobBL6d5___restored_grouping.pos_restored_vs_none               \n",
       "19 Agrp___Day5.obob5v5__v__Day5.obobBL6d5___fgf1_grouping.neg_vs_none                            \n",
       "20 Agrp___Day5.obob5v5__v__Day5.obobBL6d5___restored_grouping.neg_restored_vs_none               \n",
       "21 Oligodendrocytes___Day5.obob5v5__v__Day5.obobBL6d5___fgf1_grouping.pos_vs_none                \n",
       "22 Oligodendrocytes___Day5.obob5v5__v__Day5.obobBL6d5___restored_grouping.pos_restored_vs_none   \n",
       "23 Oligodendrocytes___Day5.obob5v5__v__Day5.obobBL6d5___fgf1_grouping.neg_vs_none                \n",
       "24 Oligodendrocytes___Day5.obob5v5__v__Day5.obobBL6d5___restored_grouping.neg_restored_vs_none   \n",
       "25 g3___Day5.obob5v5__v__Day5.obobBL6d5___fgf1_grouping.neg_vs_none                              \n",
       "26 g3___Day5.obob5v5__v__Day5.obobBL6d5___restored_grouping.neg_restored_vs_none                 \n",
       "27 Sst__Pthlh___Day5.obob5v5__v__Day5.obobBL6d5___fgf1_grouping.pos_vs_none                      \n",
       "28 Sst__Pthlh___Day5.obob5v5__v__Day5.obobBL6d5___restored_grouping.pos_restored_vs_none         \n",
       "29 g3___Day5.obob5v5__v__Day5.obobBL6d5___fgf1_grouping.pos_vs_none                              \n",
       "30 g3___Day5.obob5v5__v__Day5.obobBL6d5___restored_grouping.pos_restored_vs_none                 \n",
       "⋮  ⋮                                                                                             \n",
       "39 Astrocytes___Day5.obob5v5__v__Day5.obobBL6d5___fgf1_grouping.pos_vs_none                      \n",
       "40 Astrocytes___Day5.obob5v5__v__Day5.obobBL6d5___restored_grouping.pos_restored_vs_none         \n",
       "41 Pomc__Glipr1___Day5.obob5v5__v__Day5.obobBL6d5___fgf1_grouping.neg_vs_none                    \n",
       "42 Pomc__Glipr1___Day5.obob5v5__v__Day5.obobBL6d5___restored_grouping.neg_restored_vs_none       \n",
       "43 Trh__Lef1___Day5.obob5v5__v__Day5.obobBL6d5___fgf1_grouping.neg_vs_none                       \n",
       "44 Trh__Lef1___Day5.obob5v5__v__Day5.obobBL6d5___restored_grouping.neg_restored_vs_none          \n",
       "45 Trh__Lef1___Day5.obob5v5__v__Day5.obobBL6d5___fgf1_grouping.pos_vs_none                       \n",
       "46 Trh__Lef1___Day5.obob5v5__v__Day5.obobBL6d5___restored_grouping.pos_restored_vs_none          \n",
       "47 Ependymal_cells___Day5.obob5v5__v__Day5.obobBL6d5___fgf1_grouping.neg_vs_none                 \n",
       "48 Ependymal_cells___Day5.obob5v5__v__Day5.obobBL6d5___restored_grouping.neg_restored_vs_none    \n",
       "49 Agrp___Day5.obob5v5__v__Day5.obobBL6d5___fgf1_grouping.pos_vs_none                            \n",
       "50 Agrp___Day5.obob5v5__v__Day5.obobBL6d5___restored_grouping.pos_restored_vs_none               \n",
       "51 Ghrh___Day5.obob5v5__v__Day5.obobBL6d5___fgf1_grouping.neg_vs_none                            \n",
       "52 Ghrh___Day5.obob5v5__v__Day5.obobBL6d5___restored_grouping.neg_restored_vs_none               \n",
       "53 OPC___Day5.obob5v5__v__Day5.obobBL6d5___fgf1_grouping.pos_vs_none                             \n",
       "54 OPC___Day5.obob5v5__v__Day5.obobBL6d5___restored_grouping.pos_restored_vs_none                \n",
       "55 Htr3b___Day5.obob5v5__v__Day5.obobBL6d5___fgf1_grouping.neg_vs_none                           \n",
       "56 Htr3b___Day5.obob5v5__v__Day5.obobBL6d5___restored_grouping.neg_restored_vs_none              \n",
       "57 g2___Day5.obob5v5__v__Day5.obobBL6d5___fgf1_grouping.neg_vs_none                              \n",
       "58 g2___Day5.obob5v5__v__Day5.obobBL6d5___restored_grouping.neg_restored_vs_none                 \n",
       "59 Astrocytes___Day5.obob5v5__v__Day5.obobBL6d5___fgf1_grouping.neg_vs_none                      \n",
       "60 Astrocytes___Day5.obob5v5__v__Day5.obobBL6d5___restored_grouping.neg_restored_vs_none         \n",
       "61 other___Day5.obob5v5__v__Day5.obobBL6d5___fgf1_grouping.neg_vs_none                           \n",
       "62 other___Day5.obob5v5__v__Day5.obobBL6d5___restored_grouping.neg_restored_vs_none              \n",
       "63 Htr3b___Day5.obob5v5__v__Day5.obobBL6d5___fgf1_grouping.pos_vs_none                           \n",
       "64 Htr3b___Day5.obob5v5__v__Day5.obobBL6d5___restored_grouping.pos_restored_vs_none              \n",
       "65 OPC___Day5.obob5v5__v__Day5.obobBL6d5___fgf1_grouping.neg_vs_none                             \n",
       "66 OPC___Day5.obob5v5__v__Day5.obobBL6d5___restored_grouping.neg_restored_vs_none                \n",
       "67 Ependymal_cells___Day5.obob5v5__v__Day5.obobBL6d5___fgf1_grouping.pos_vs_none                 \n",
       "68 Ependymal_cells___Day5.obob5v5__v__Day5.obobBL6d5___restored_grouping.pos_restored_vs_none    \n",
       "   count total_cells frac      frac_cutoff n_cells_cutoff n_cells_valid\n",
       "1  122   1183        0.1031276 0.1         150            FALSE        \n",
       "2  122   1183        0.1031276 0.1         150            FALSE        \n",
       "3  528   5005        0.1054945 0.1         150             TRUE        \n",
       "4  528   5005        0.1054945 0.1         150             TRUE        \n",
       "5  163   1535        0.1061889 0.1         150             TRUE        \n",
       "6  163   1535        0.1061889 0.1         150             TRUE        \n",
       "7  102    946        0.1078224 0.1         150            FALSE        \n",
       "8  102    946        0.1078224 0.1         150            FALSE        \n",
       "9  627   5198        0.1206233 0.1         150             TRUE        \n",
       "10 627   5198        0.1206233 0.1         150             TRUE        \n",
       "11 147   1183        0.1242604 0.1         150            FALSE        \n",
       "12 147   1183        0.1242604 0.1         150            FALSE        \n",
       "13 136   1085        0.1253456 0.1         150            FALSE        \n",
       "14 136   1085        0.1253456 0.1         150            FALSE        \n",
       "15 215   1519        0.1415405 0.1         150             TRUE        \n",
       "16 215   1519        0.1415405 0.1         150             TRUE        \n",
       "17 157   1063        0.1476952 0.1         150             TRUE        \n",
       "18 157   1063        0.1476952 0.1         150             TRUE        \n",
       "19 343   2284        0.1501751 0.1         150             TRUE        \n",
       "20 343   2284        0.1501751 0.1         150             TRUE        \n",
       "21 163   1079        0.1510658 0.1         150             TRUE        \n",
       "22 163   1079        0.1510658 0.1         150             TRUE        \n",
       "23 168   1079        0.1556997 0.1         150             TRUE        \n",
       "24 168   1079        0.1556997 0.1         150             TRUE        \n",
       "25 388   2456        0.1579805 0.1         150             TRUE        \n",
       "26 388   2456        0.1579805 0.1         150             TRUE        \n",
       "27 121    742        0.1630728 0.1         150            FALSE        \n",
       "28 121    742        0.1630728 0.1         150            FALSE        \n",
       "29 412   2456        0.1677524 0.1         150             TRUE        \n",
       "30 412   2456        0.1677524 0.1         150             TRUE        \n",
       "⋮  ⋮     ⋮           ⋮         ⋮           ⋮              ⋮            \n",
       "39 1299   6361       0.2042132 0.1         150             TRUE        \n",
       "40 1299   6361       0.2042132 0.1         150             TRUE        \n",
       "41  246   1204       0.2043189 0.1         150             TRUE        \n",
       "42  246   1204       0.2043189 0.1         150             TRUE        \n",
       "43  324   1571       0.2062381 0.1         150             TRUE        \n",
       "44  324   1571       0.2062381 0.1         150             TRUE        \n",
       "45  330   1571       0.2100573 0.1         150             TRUE        \n",
       "46  330   1571       0.2100573 0.1         150             TRUE        \n",
       "47   55    247       0.2226721 0.1         150            FALSE        \n",
       "48   55    247       0.2226721 0.1         150            FALSE        \n",
       "49  514   2284       0.2250438 0.1         150             TRUE        \n",
       "50  514   2284       0.2250438 0.1         150             TRUE        \n",
       "51  261   1063       0.2455315 0.1         150             TRUE        \n",
       "52  261   1063       0.2455315 0.1         150             TRUE        \n",
       "53  382   1485       0.2572391 0.1         150             TRUE        \n",
       "54  382   1485       0.2572391 0.1         150             TRUE        \n",
       "55  527   1906       0.2764953 0.1         150             TRUE        \n",
       "56  527   1906       0.2764953 0.1         150             TRUE        \n",
       "57 1831   6261       0.2924453 0.1         150             TRUE        \n",
       "58 1831   6261       0.2924453 0.1         150             TRUE        \n",
       "59 1897   6361       0.2982235 0.1         150             TRUE        \n",
       "60 1897   6361       0.2982235 0.1         150             TRUE        \n",
       "61 4701  15029       0.3127953 0.1         150             TRUE        \n",
       "62 4701  15029       0.3127953 0.1         150             TRUE        \n",
       "63  628   1906       0.3294858 0.1         150             TRUE        \n",
       "64  628   1906       0.3294858 0.1         150             TRUE        \n",
       "65  546   1485       0.3676768 0.1         150             TRUE        \n",
       "66  546   1485       0.3676768 0.1         150             TRUE        \n",
       "67  101    247       0.4089069 0.1         150            FALSE        \n",
       "68  101    247       0.4089069 0.1         150            FALSE        "
      ]
     },
     "metadata": {},
     "output_type": "display_data"
    }
   ],
   "source": [
    "new_tibble %>% filter(frac >= 0.10) %>% arrange(frac) %>% filter(!str_detect(tag, 'bl6_grouping'))"
   ]
  },
  {
   "cell_type": "code",
   "execution_count": 9,
   "id": "ed1d684b",
   "metadata": {},
   "outputs": [
    {
     "data": {
      "text/html": [
       "<table class=\"dataframe\">\n",
       "<caption>A tibble: 6 × 2</caption>\n",
       "<thead>\n",
       "\t<tr><th scope=col>class</th><th scope=col>cluster</th></tr>\n",
       "\t<tr><th scope=col>&lt;chr&gt;</th><th scope=col>&lt;chr&gt;</th></tr>\n",
       "</thead>\n",
       "<tbody>\n",
       "\t<tr><td>other</td><td>Tanycytes       </td></tr>\n",
       "\t<tr><td>other</td><td>OPC             </td></tr>\n",
       "\t<tr><td>other</td><td>Astrocytes      </td></tr>\n",
       "\t<tr><td>other</td><td>Ependymal_cells </td></tr>\n",
       "\t<tr><td>other</td><td>Oligodendrocytes</td></tr>\n",
       "\t<tr><td>other</td><td>Microglia       </td></tr>\n",
       "</tbody>\n",
       "</table>\n"
      ],
      "text/latex": [
       "A tibble: 6 × 2\n",
       "\\begin{tabular}{ll}\n",
       " class & cluster\\\\\n",
       " <chr> & <chr>\\\\\n",
       "\\hline\n",
       "\t other & Tanycytes       \\\\\n",
       "\t other & OPC             \\\\\n",
       "\t other & Astrocytes      \\\\\n",
       "\t other & Ependymal\\_cells \\\\\n",
       "\t other & Oligodendrocytes\\\\\n",
       "\t other & Microglia       \\\\\n",
       "\\end{tabular}\n"
      ],
      "text/markdown": [
       "\n",
       "A tibble: 6 × 2\n",
       "\n",
       "| class &lt;chr&gt; | cluster &lt;chr&gt; |\n",
       "|---|---|\n",
       "| other | Tanycytes        |\n",
       "| other | OPC              |\n",
       "| other | Astrocytes       |\n",
       "| other | Ependymal_cells  |\n",
       "| other | Oligodendrocytes |\n",
       "| other | Microglia        |\n",
       "\n"
      ],
      "text/plain": [
       "  class cluster         \n",
       "1 other Tanycytes       \n",
       "2 other OPC             \n",
       "3 other Astrocytes      \n",
       "4 other Ependymal_cells \n",
       "5 other Oligodendrocytes\n",
       "6 other Microglia       "
      ]
     },
     "metadata": {},
     "output_type": "display_data"
    }
   ],
   "source": [
    "labels_classes_tib = bind_rows(qs::qread('_targets_negbinom/objects/exp_labelled_other') %>% \n",
    "          `[[` %>% \n",
    "          distinct(class, labels_lvl1) %>% \n",
    "          rename(labels = labels_lvl1),\n",
    "          qs::qread('_targets_negbinom/objects/exp_labelled_neuron') %>% \n",
    "          `[[` %>% \n",
    "          distinct(class, labels_lvl1) %>% \n",
    "          rename(labels = labels_lvl1),\n",
    "         ) %>%\n",
    "tibble %>%\n",
    "rename(cluster = labels) %>%\n",
    "rowwise %>%\n",
    "mutate(cluster = str_replace_all(cluster, '/', '__')) %>%\n",
    "ungroup\n",
    "\n",
    "labels_classes_tib %>% head"
   ]
  },
  {
   "cell_type": "code",
   "execution_count": 10,
   "id": "294f524f",
   "metadata": {},
   "outputs": [
    {
     "data": {
      "text/html": [
       "<table class=\"dataframe\">\n",
       "<caption>A tibble: 1 × 2</caption>\n",
       "<thead>\n",
       "\t<tr><th scope=col>class</th><th scope=col>cluster</th></tr>\n",
       "\t<tr><th scope=col>&lt;chr&gt;</th><th scope=col>&lt;chr&gt;</th></tr>\n",
       "</thead>\n",
       "<tbody>\n",
       "\t<tr><td>neuron</td><td>Irx5__Lmx1a</td></tr>\n",
       "</tbody>\n",
       "</table>\n"
      ],
      "text/latex": [
       "A tibble: 1 × 2\n",
       "\\begin{tabular}{ll}\n",
       " class & cluster\\\\\n",
       " <chr> & <chr>\\\\\n",
       "\\hline\n",
       "\t neuron & Irx5\\_\\_Lmx1a\\\\\n",
       "\\end{tabular}\n"
      ],
      "text/markdown": [
       "\n",
       "A tibble: 1 × 2\n",
       "\n",
       "| class &lt;chr&gt; | cluster &lt;chr&gt; |\n",
       "|---|---|\n",
       "| neuron | Irx5__Lmx1a |\n",
       "\n"
      ],
      "text/plain": [
       "  class  cluster    \n",
       "1 neuron Irx5__Lmx1a"
      ]
     },
     "metadata": {},
     "output_type": "display_data"
    }
   ],
   "source": [
    "labels_classes_tib %>% filter(str_detect(cluster, \"Lmx\"))"
   ]
  },
  {
   "cell_type": "code",
   "execution_count": 11,
   "id": "01ee35a1",
   "metadata": {},
   "outputs": [
    {
     "data": {
      "text/html": [
       "<table class=\"dataframe\">\n",
       "<caption>A tibble: 6 × 7</caption>\n",
       "<thead>\n",
       "\t<tr><th scope=col>tag</th><th scope=col>count</th><th scope=col>total_cells</th><th scope=col>frac</th><th scope=col>frac_cutoff</th><th scope=col>n_cells_cutoff</th><th scope=col>n_cells_valid</th></tr>\n",
       "\t<tr><th scope=col>&lt;chr&gt;</th><th scope=col>&lt;int&gt;</th><th scope=col>&lt;int&gt;</th><th scope=col>&lt;dbl&gt;</th><th scope=col>&lt;dbl&gt;</th><th scope=col>&lt;dbl&gt;</th><th scope=col>&lt;lgl&gt;</th></tr>\n",
       "</thead>\n",
       "<tbody>\n",
       "\t<tr><td>Agrp___Day14.obob14v14__v__Day14.obobBL6d14___fgf1_grouping.neg_vs_none      </td><td>  0</td><td>2123</td><td>0.0000000</td><td>0.1</td><td>150</td><td>FALSE</td></tr>\n",
       "\t<tr><td>Agrp___Day14.obob14v14__v__Day14.obobBL6d14___fgf1_grouping.pos_vs_none      </td><td>  0</td><td>2123</td><td>0.0000000</td><td>0.1</td><td>150</td><td>FALSE</td></tr>\n",
       "\t<tr><td>Agrp___Day5.obob5v5__v__Day5.obobBL6d5___fgf1_grouping.neg_vs_none           </td><td>343</td><td>2284</td><td>0.1501751</td><td>0.1</td><td>150</td><td> TRUE</td></tr>\n",
       "\t<tr><td>Agrp___Day5.obob5v5__v__Day5.obobBL6d5___fgf1_grouping.pos_vs_none           </td><td>514</td><td>2284</td><td>0.2250438</td><td>0.1</td><td>150</td><td> TRUE</td></tr>\n",
       "\t<tr><td>Astrocytes___Day14.obob14v14__v__Day14.obobBL6d14___fgf1_grouping.neg_vs_none</td><td>  0</td><td>6867</td><td>0.0000000</td><td>0.1</td><td>150</td><td>FALSE</td></tr>\n",
       "\t<tr><td>Astrocytes___Day14.obob14v14__v__Day14.obobBL6d14___fgf1_grouping.pos_vs_none</td><td>  0</td><td>6867</td><td>0.0000000</td><td>0.1</td><td>150</td><td>FALSE</td></tr>\n",
       "</tbody>\n",
       "</table>\n"
      ],
      "text/latex": [
       "A tibble: 6 × 7\n",
       "\\begin{tabular}{lllllll}\n",
       " tag & count & total\\_cells & frac & frac\\_cutoff & n\\_cells\\_cutoff & n\\_cells\\_valid\\\\\n",
       " <chr> & <int> & <int> & <dbl> & <dbl> & <dbl> & <lgl>\\\\\n",
       "\\hline\n",
       "\t Agrp\\_\\_\\_Day14.obob14v14\\_\\_v\\_\\_Day14.obobBL6d14\\_\\_\\_fgf1\\_grouping.neg\\_vs\\_none       &   0 & 2123 & 0.0000000 & 0.1 & 150 & FALSE\\\\\n",
       "\t Agrp\\_\\_\\_Day14.obob14v14\\_\\_v\\_\\_Day14.obobBL6d14\\_\\_\\_fgf1\\_grouping.pos\\_vs\\_none       &   0 & 2123 & 0.0000000 & 0.1 & 150 & FALSE\\\\\n",
       "\t Agrp\\_\\_\\_Day5.obob5v5\\_\\_v\\_\\_Day5.obobBL6d5\\_\\_\\_fgf1\\_grouping.neg\\_vs\\_none            & 343 & 2284 & 0.1501751 & 0.1 & 150 &  TRUE\\\\\n",
       "\t Agrp\\_\\_\\_Day5.obob5v5\\_\\_v\\_\\_Day5.obobBL6d5\\_\\_\\_fgf1\\_grouping.pos\\_vs\\_none            & 514 & 2284 & 0.2250438 & 0.1 & 150 &  TRUE\\\\\n",
       "\t Astrocytes\\_\\_\\_Day14.obob14v14\\_\\_v\\_\\_Day14.obobBL6d14\\_\\_\\_fgf1\\_grouping.neg\\_vs\\_none &   0 & 6867 & 0.0000000 & 0.1 & 150 & FALSE\\\\\n",
       "\t Astrocytes\\_\\_\\_Day14.obob14v14\\_\\_v\\_\\_Day14.obobBL6d14\\_\\_\\_fgf1\\_grouping.pos\\_vs\\_none &   0 & 6867 & 0.0000000 & 0.1 & 150 & FALSE\\\\\n",
       "\\end{tabular}\n"
      ],
      "text/markdown": [
       "\n",
       "A tibble: 6 × 7\n",
       "\n",
       "| tag &lt;chr&gt; | count &lt;int&gt; | total_cells &lt;int&gt; | frac &lt;dbl&gt; | frac_cutoff &lt;dbl&gt; | n_cells_cutoff &lt;dbl&gt; | n_cells_valid &lt;lgl&gt; |\n",
       "|---|---|---|---|---|---|---|\n",
       "| Agrp___Day14.obob14v14__v__Day14.obobBL6d14___fgf1_grouping.neg_vs_none       |   0 | 2123 | 0.0000000 | 0.1 | 150 | FALSE |\n",
       "| Agrp___Day14.obob14v14__v__Day14.obobBL6d14___fgf1_grouping.pos_vs_none       |   0 | 2123 | 0.0000000 | 0.1 | 150 | FALSE |\n",
       "| Agrp___Day5.obob5v5__v__Day5.obobBL6d5___fgf1_grouping.neg_vs_none            | 343 | 2284 | 0.1501751 | 0.1 | 150 |  TRUE |\n",
       "| Agrp___Day5.obob5v5__v__Day5.obobBL6d5___fgf1_grouping.pos_vs_none            | 514 | 2284 | 0.2250438 | 0.1 | 150 |  TRUE |\n",
       "| Astrocytes___Day14.obob14v14__v__Day14.obobBL6d14___fgf1_grouping.neg_vs_none |   0 | 6867 | 0.0000000 | 0.1 | 150 | FALSE |\n",
       "| Astrocytes___Day14.obob14v14__v__Day14.obobBL6d14___fgf1_grouping.pos_vs_none |   0 | 6867 | 0.0000000 | 0.1 | 150 | FALSE |\n",
       "\n"
      ],
      "text/plain": [
       "  tag                                                                          \n",
       "1 Agrp___Day14.obob14v14__v__Day14.obobBL6d14___fgf1_grouping.neg_vs_none      \n",
       "2 Agrp___Day14.obob14v14__v__Day14.obobBL6d14___fgf1_grouping.pos_vs_none      \n",
       "3 Agrp___Day5.obob5v5__v__Day5.obobBL6d5___fgf1_grouping.neg_vs_none           \n",
       "4 Agrp___Day5.obob5v5__v__Day5.obobBL6d5___fgf1_grouping.pos_vs_none           \n",
       "5 Astrocytes___Day14.obob14v14__v__Day14.obobBL6d14___fgf1_grouping.neg_vs_none\n",
       "6 Astrocytes___Day14.obob14v14__v__Day14.obobBL6d14___fgf1_grouping.pos_vs_none\n",
       "  count total_cells frac      frac_cutoff n_cells_cutoff n_cells_valid\n",
       "1   0   2123        0.0000000 0.1         150            FALSE        \n",
       "2   0   2123        0.0000000 0.1         150            FALSE        \n",
       "3 343   2284        0.1501751 0.1         150             TRUE        \n",
       "4 514   2284        0.2250438 0.1         150             TRUE        \n",
       "5   0   6867        0.0000000 0.1         150            FALSE        \n",
       "6   0   6867        0.0000000 0.1         150            FALSE        "
      ]
     },
     "metadata": {},
     "output_type": "display_data"
    }
   ],
   "source": [
    "new_tibble %>% head"
   ]
  },
  {
   "cell_type": "code",
   "execution_count": 12,
   "id": "81407f2d",
   "metadata": {
    "scrolled": true
   },
   "outputs": [
    {
     "data": {
      "text/html": [
       "<table class=\"dataframe\">\n",
       "<caption>A tibble: 39 × 2</caption>\n",
       "<thead>\n",
       "\t<tr><th scope=col>cluster</th><th scope=col>class</th></tr>\n",
       "\t<tr><th scope=col>&lt;chr&gt;</th><th scope=col>&lt;chr&gt;</th></tr>\n",
       "</thead>\n",
       "<tbody>\n",
       "\t<tr><td>Agrp               </td><td>neuron</td></tr>\n",
       "\t<tr><td>Astrocytes         </td><td>other </td></tr>\n",
       "\t<tr><td>Ependymal_cells    </td><td>other </td></tr>\n",
       "\t<tr><td>g1                 </td><td>NA    </td></tr>\n",
       "\t<tr><td>g2                 </td><td>NA    </td></tr>\n",
       "\t<tr><td>g3                 </td><td>NA    </td></tr>\n",
       "\t<tr><td>Ghrh               </td><td>neuron</td></tr>\n",
       "\t<tr><td>Htr3b              </td><td>neuron</td></tr>\n",
       "\t<tr><td>Irx5__Lmx1a        </td><td>neuron</td></tr>\n",
       "\t<tr><td>Kiss1__Tac2        </td><td>neuron</td></tr>\n",
       "\t<tr><td>Lpar1_oligo        </td><td>neuron</td></tr>\n",
       "\t<tr><td>n0                 </td><td>NA    </td></tr>\n",
       "\t<tr><td>n1                 </td><td>NA    </td></tr>\n",
       "\t<tr><td>n2                 </td><td>NA    </td></tr>\n",
       "\t<tr><td>n3                 </td><td>NA    </td></tr>\n",
       "\t<tr><td>n5                 </td><td>NA    </td></tr>\n",
       "\t<tr><td>n8                 </td><td>NA    </td></tr>\n",
       "\t<tr><td>neuron             </td><td>NA    </td></tr>\n",
       "\t<tr><td>Nfix__Nfib         </td><td>neuron</td></tr>\n",
       "\t<tr><td>Nfix__Nfib__Hgf    </td><td>neuron</td></tr>\n",
       "\t<tr><td>Nfix__Nfib__Lhx6   </td><td>neuron</td></tr>\n",
       "\t<tr><td>Oligodendrocytes   </td><td>other </td></tr>\n",
       "\t<tr><td>OPC                </td><td>other </td></tr>\n",
       "\t<tr><td>other              </td><td>NA    </td></tr>\n",
       "\t<tr><td>Pomc__Anxa2        </td><td>neuron</td></tr>\n",
       "\t<tr><td>Pomc__Glipr1       </td><td>neuron</td></tr>\n",
       "\t<tr><td>Pomc__Ttr          </td><td>neuron</td></tr>\n",
       "\t<tr><td>Pou6f2__Prkcq__Whrn</td><td>neuron</td></tr>\n",
       "\t<tr><td>Ppp1r17__Tafa4     </td><td>neuron</td></tr>\n",
       "\t<tr><td>Slc17a6__Trhr      </td><td>neuron</td></tr>\n",
       "\t<tr><td>Sst__Pthlh         </td><td>neuron</td></tr>\n",
       "\t<tr><td>Sst__Unc13c        </td><td>neuron</td></tr>\n",
       "\t<tr><td>Tanycytes          </td><td>other </td></tr>\n",
       "\t<tr><td>Tbx19__Pirt        </td><td>neuron</td></tr>\n",
       "\t<tr><td>Th__Nfib           </td><td>neuron</td></tr>\n",
       "\t<tr><td>Th__Slc6a3         </td><td>neuron</td></tr>\n",
       "\t<tr><td>Tmem215__Greb1     </td><td>neuron</td></tr>\n",
       "\t<tr><td>Trh__Cxcl12        </td><td>neuron</td></tr>\n",
       "\t<tr><td>Trh__Lef1          </td><td>neuron</td></tr>\n",
       "</tbody>\n",
       "</table>\n"
      ],
      "text/latex": [
       "A tibble: 39 × 2\n",
       "\\begin{tabular}{ll}\n",
       " cluster & class\\\\\n",
       " <chr> & <chr>\\\\\n",
       "\\hline\n",
       "\t Agrp                & neuron\\\\\n",
       "\t Astrocytes          & other \\\\\n",
       "\t Ependymal\\_cells     & other \\\\\n",
       "\t g1                  & NA    \\\\\n",
       "\t g2                  & NA    \\\\\n",
       "\t g3                  & NA    \\\\\n",
       "\t Ghrh                & neuron\\\\\n",
       "\t Htr3b               & neuron\\\\\n",
       "\t Irx5\\_\\_Lmx1a         & neuron\\\\\n",
       "\t Kiss1\\_\\_Tac2         & neuron\\\\\n",
       "\t Lpar1\\_oligo         & neuron\\\\\n",
       "\t n0                  & NA    \\\\\n",
       "\t n1                  & NA    \\\\\n",
       "\t n2                  & NA    \\\\\n",
       "\t n3                  & NA    \\\\\n",
       "\t n5                  & NA    \\\\\n",
       "\t n8                  & NA    \\\\\n",
       "\t neuron              & NA    \\\\\n",
       "\t Nfix\\_\\_Nfib          & neuron\\\\\n",
       "\t Nfix\\_\\_Nfib\\_\\_Hgf     & neuron\\\\\n",
       "\t Nfix\\_\\_Nfib\\_\\_Lhx6    & neuron\\\\\n",
       "\t Oligodendrocytes    & other \\\\\n",
       "\t OPC                 & other \\\\\n",
       "\t other               & NA    \\\\\n",
       "\t Pomc\\_\\_Anxa2         & neuron\\\\\n",
       "\t Pomc\\_\\_Glipr1        & neuron\\\\\n",
       "\t Pomc\\_\\_Ttr           & neuron\\\\\n",
       "\t Pou6f2\\_\\_Prkcq\\_\\_Whrn & neuron\\\\\n",
       "\t Ppp1r17\\_\\_Tafa4      & neuron\\\\\n",
       "\t Slc17a6\\_\\_Trhr       & neuron\\\\\n",
       "\t Sst\\_\\_Pthlh          & neuron\\\\\n",
       "\t Sst\\_\\_Unc13c         & neuron\\\\\n",
       "\t Tanycytes           & other \\\\\n",
       "\t Tbx19\\_\\_Pirt         & neuron\\\\\n",
       "\t Th\\_\\_Nfib            & neuron\\\\\n",
       "\t Th\\_\\_Slc6a3          & neuron\\\\\n",
       "\t Tmem215\\_\\_Greb1      & neuron\\\\\n",
       "\t Trh\\_\\_Cxcl12         & neuron\\\\\n",
       "\t Trh\\_\\_Lef1           & neuron\\\\\n",
       "\\end{tabular}\n"
      ],
      "text/markdown": [
       "\n",
       "A tibble: 39 × 2\n",
       "\n",
       "| cluster &lt;chr&gt; | class &lt;chr&gt; |\n",
       "|---|---|\n",
       "| Agrp                | neuron |\n",
       "| Astrocytes          | other  |\n",
       "| Ependymal_cells     | other  |\n",
       "| g1                  | NA     |\n",
       "| g2                  | NA     |\n",
       "| g3                  | NA     |\n",
       "| Ghrh                | neuron |\n",
       "| Htr3b               | neuron |\n",
       "| Irx5__Lmx1a         | neuron |\n",
       "| Kiss1__Tac2         | neuron |\n",
       "| Lpar1_oligo         | neuron |\n",
       "| n0                  | NA     |\n",
       "| n1                  | NA     |\n",
       "| n2                  | NA     |\n",
       "| n3                  | NA     |\n",
       "| n5                  | NA     |\n",
       "| n8                  | NA     |\n",
       "| neuron              | NA     |\n",
       "| Nfix__Nfib          | neuron |\n",
       "| Nfix__Nfib__Hgf     | neuron |\n",
       "| Nfix__Nfib__Lhx6    | neuron |\n",
       "| Oligodendrocytes    | other  |\n",
       "| OPC                 | other  |\n",
       "| other               | NA     |\n",
       "| Pomc__Anxa2         | neuron |\n",
       "| Pomc__Glipr1        | neuron |\n",
       "| Pomc__Ttr           | neuron |\n",
       "| Pou6f2__Prkcq__Whrn | neuron |\n",
       "| Ppp1r17__Tafa4      | neuron |\n",
       "| Slc17a6__Trhr       | neuron |\n",
       "| Sst__Pthlh          | neuron |\n",
       "| Sst__Unc13c         | neuron |\n",
       "| Tanycytes           | other  |\n",
       "| Tbx19__Pirt         | neuron |\n",
       "| Th__Nfib            | neuron |\n",
       "| Th__Slc6a3          | neuron |\n",
       "| Tmem215__Greb1      | neuron |\n",
       "| Trh__Cxcl12         | neuron |\n",
       "| Trh__Lef1           | neuron |\n",
       "\n"
      ],
      "text/plain": [
       "   cluster             class \n",
       "1  Agrp                neuron\n",
       "2  Astrocytes          other \n",
       "3  Ependymal_cells     other \n",
       "4  g1                  NA    \n",
       "5  g2                  NA    \n",
       "6  g3                  NA    \n",
       "7  Ghrh                neuron\n",
       "8  Htr3b               neuron\n",
       "9  Irx5__Lmx1a         neuron\n",
       "10 Kiss1__Tac2         neuron\n",
       "11 Lpar1_oligo         neuron\n",
       "12 n0                  NA    \n",
       "13 n1                  NA    \n",
       "14 n2                  NA    \n",
       "15 n3                  NA    \n",
       "16 n5                  NA    \n",
       "17 n8                  NA    \n",
       "18 neuron              NA    \n",
       "19 Nfix__Nfib          neuron\n",
       "20 Nfix__Nfib__Hgf     neuron\n",
       "21 Nfix__Nfib__Lhx6    neuron\n",
       "22 Oligodendrocytes    other \n",
       "23 OPC                 other \n",
       "24 other               NA    \n",
       "25 Pomc__Anxa2         neuron\n",
       "26 Pomc__Glipr1        neuron\n",
       "27 Pomc__Ttr           neuron\n",
       "28 Pou6f2__Prkcq__Whrn neuron\n",
       "29 Ppp1r17__Tafa4      neuron\n",
       "30 Slc17a6__Trhr       neuron\n",
       "31 Sst__Pthlh          neuron\n",
       "32 Sst__Unc13c         neuron\n",
       "33 Tanycytes           other \n",
       "34 Tbx19__Pirt         neuron\n",
       "35 Th__Nfib            neuron\n",
       "36 Th__Slc6a3          neuron\n",
       "37 Tmem215__Greb1      neuron\n",
       "38 Trh__Cxcl12         neuron\n",
       "39 Trh__Lef1           neuron"
      ]
     },
     "metadata": {},
     "output_type": "display_data"
    }
   ],
   "source": [
    "combined_deg_seurat = combined_deg_seurat_all %>%\n",
    "filter(p_val_adj < 0.05 &\n",
    "       avg_log2FC > 0 &\n",
    "       !(str_detect(cells_b, '(rest|neg|pos)')) &\n",
    "       fgf1_day != 'all' &\n",
    "       bl6_day != 'all'\n",
    "#        cluster == 'Agrp' \n",
    "#        cells_a == 'neg'\n",
    "       ) %>%\n",
    "left_join(labels_classes_tib, by='cluster')\n",
    "\n",
    "combined_deg_seurat %>% distinct(cluster, class)"
   ]
  },
  {
   "cell_type": "code",
   "execution_count": 13,
   "id": "a59879cf",
   "metadata": {},
   "outputs": [
    {
     "data": {
      "text/html": [
       "<table class=\"dataframe\">\n",
       "<caption>A tibble: 1 × 2</caption>\n",
       "<thead>\n",
       "\t<tr><th scope=col>class</th><th scope=col>cluster</th></tr>\n",
       "\t<tr><th scope=col>&lt;chr&gt;</th><th scope=col>&lt;chr&gt;</th></tr>\n",
       "</thead>\n",
       "<tbody>\n",
       "\t<tr><td>neuron</td><td>Irx5__Lmx1a</td></tr>\n",
       "</tbody>\n",
       "</table>\n"
      ],
      "text/latex": [
       "A tibble: 1 × 2\n",
       "\\begin{tabular}{ll}\n",
       " class & cluster\\\\\n",
       " <chr> & <chr>\\\\\n",
       "\\hline\n",
       "\t neuron & Irx5\\_\\_Lmx1a\\\\\n",
       "\\end{tabular}\n"
      ],
      "text/markdown": [
       "\n",
       "A tibble: 1 × 2\n",
       "\n",
       "| class &lt;chr&gt; | cluster &lt;chr&gt; |\n",
       "|---|---|\n",
       "| neuron | Irx5__Lmx1a |\n",
       "\n"
      ],
      "text/plain": [
       "  class  cluster    \n",
       "1 neuron Irx5__Lmx1a"
      ]
     },
     "metadata": {},
     "output_type": "display_data"
    }
   ],
   "source": [
    "labels_classes_tib %>% filter(str_detect(cluster, 'Lmx'))"
   ]
  },
  {
   "cell_type": "code",
   "execution_count": 14,
   "id": "5fd88c26",
   "metadata": {},
   "outputs": [],
   "source": [
    "combined_deg_seurat = combined_deg_seurat_all %>%\n",
    "filter(p_val_adj < 0.05 &\n",
    "       avg_log2FC > 0 &\n",
    "       !(str_detect(cells_b, '(rest|neg|pos)')) &\n",
    "       fgf1_day != 'all' &\n",
    "       bl6_day != 'all'\n",
    "#        cluster == 'Agrp' \n",
    "#        cells_a == 'neg'\n",
    "       ) %>%\n",
    "left_join(labels_classes_tib, by='cluster') %>% \n",
    "left_join(new_tibble, by=c('tag')) %>%\n",
    "relocate(class, .after='cluster')"
   ]
  },
  {
   "cell_type": "code",
   "execution_count": null,
   "id": "b8a8cd54",
   "metadata": {},
   "outputs": [],
   "source": []
  },
  {
   "cell_type": "code",
   "execution_count": 15,
   "id": "b28dd28a",
   "metadata": {},
   "outputs": [
    {
     "data": {
      "text/html": [
       "<style>\n",
       ".list-inline {list-style: none; margin:0; padding: 0}\n",
       ".list-inline>li {display: inline-block}\n",
       ".list-inline>li:not(:last-child)::after {content: \"\\00b7\"; padding: 0 .5ex}\n",
       "</style>\n",
       "<ol class=list-inline><li>'obob14v14'</li><li>'obob5v5'</li></ol>\n"
      ],
      "text/latex": [
       "\\begin{enumerate*}\n",
       "\\item 'obob14v14'\n",
       "\\item 'obob5v5'\n",
       "\\end{enumerate*}\n"
      ],
      "text/markdown": [
       "1. 'obob14v14'\n",
       "2. 'obob5v5'\n",
       "\n",
       "\n"
      ],
      "text/plain": [
       "[1] \"obob14v14\" \"obob5v5\"  "
      ]
     },
     "metadata": {},
     "output_type": "display_data"
    },
    {
     "data": {
      "text/html": [
       "<style>\n",
       ".list-inline {list-style: none; margin:0; padding: 0}\n",
       ".list-inline>li {display: inline-block}\n",
       ".list-inline>li:not(:last-child)::after {content: \"\\00b7\"; padding: 0 .5ex}\n",
       "</style>\n",
       "<ol class=list-inline><li>'obobBL6d14'</li><li>'obobBL6d5'</li></ol>\n"
      ],
      "text/latex": [
       "\\begin{enumerate*}\n",
       "\\item 'obobBL6d14'\n",
       "\\item 'obobBL6d5'\n",
       "\\end{enumerate*}\n"
      ],
      "text/markdown": [
       "1. 'obobBL6d14'\n",
       "2. 'obobBL6d5'\n",
       "\n",
       "\n"
      ],
      "text/plain": [
       "[1] \"obobBL6d14\" \"obobBL6d5\" "
      ]
     },
     "metadata": {},
     "output_type": "display_data"
    },
    {
     "data": {
      "text/html": [
       "<style>\n",
       ".list-inline {list-style: none; margin:0; padding: 0}\n",
       ".list-inline>li {display: inline-block}\n",
       ".list-inline>li:not(:last-child)::after {content: \"\\00b7\"; padding: 0 .5ex}\n",
       "</style>\n",
       "<ol class=list-inline><li>'bl6_grouping'</li><li>'fgf1_grouping'</li><li>'restored_grouping'</li></ol>\n"
      ],
      "text/latex": [
       "\\begin{enumerate*}\n",
       "\\item 'bl6\\_grouping'\n",
       "\\item 'fgf1\\_grouping'\n",
       "\\item 'restored\\_grouping'\n",
       "\\end{enumerate*}\n"
      ],
      "text/markdown": [
       "1. 'bl6_grouping'\n",
       "2. 'fgf1_grouping'\n",
       "3. 'restored_grouping'\n",
       "\n",
       "\n"
      ],
      "text/plain": [
       "[1] \"bl6_grouping\"      \"fgf1_grouping\"     \"restored_grouping\""
      ]
     },
     "metadata": {},
     "output_type": "display_data"
    },
    {
     "data": {
      "text/html": [
       "<style>\n",
       ".list-inline {list-style: none; margin:0; padding: 0}\n",
       ".list-inline>li {display: inline-block}\n",
       ".list-inline>li:not(:last-child)::after {content: \"\\00b7\"; padding: 0 .5ex}\n",
       "</style>\n",
       "<ol class=list-inline><li>'pos'</li><li>'neg'</li><li>'neg_restored'</li><li>'pos_restored'</li></ol>\n"
      ],
      "text/latex": [
       "\\begin{enumerate*}\n",
       "\\item 'pos'\n",
       "\\item 'neg'\n",
       "\\item 'neg\\_restored'\n",
       "\\item 'pos\\_restored'\n",
       "\\end{enumerate*}\n"
      ],
      "text/markdown": [
       "1. 'pos'\n",
       "2. 'neg'\n",
       "3. 'neg_restored'\n",
       "4. 'pos_restored'\n",
       "\n",
       "\n"
      ],
      "text/plain": [
       "[1] \"pos\"          \"neg\"          \"neg_restored\" \"pos_restored\""
      ]
     },
     "metadata": {},
     "output_type": "display_data"
    },
    {
     "data": {
      "text/html": [
       "'none'"
      ],
      "text/latex": [
       "'none'"
      ],
      "text/markdown": [
       "'none'"
      ],
      "text/plain": [
       "[1] \"none\""
      ]
     },
     "metadata": {},
     "output_type": "display_data"
    }
   ],
   "source": [
    "combined_deg_seurat %>% pull(fgf1_comparison) %>% unique\n",
    "combined_deg_seurat %>% pull(bl6_comparison) %>% unique\n",
    "combined_deg_seurat %>% pull(grouping) %>% unique\n",
    "combined_deg_seurat %>% pull(cells_a) %>% unique\n",
    "combined_deg_seurat %>% pull(cells_b) %>% unique"
   ]
  },
  {
   "cell_type": "code",
   "execution_count": 16,
   "id": "36b0c1cd",
   "metadata": {},
   "outputs": [],
   "source": [
    "cluster_order = combined_deg_seurat %>%\n",
    "filter(fgf1_day == 'Day5'  &\n",
    "       grouping == 'fgf1_grouping') %>%\n",
    "group_by(cluster) %>%\n",
    "summarise(n=n()) %>% \n",
    "arrange(desc(n)) %>%\n",
    "pull(cluster)"
   ]
  },
  {
   "cell_type": "code",
   "execution_count": null,
   "id": "d2cb25e0",
   "metadata": {},
   "outputs": [],
   "source": []
  },
  {
   "cell_type": "code",
   "execution_count": 17,
   "id": "7c2f60b4",
   "metadata": {},
   "outputs": [],
   "source": [
    "options(repr.plot.width=7, repr.plot.height=2)\n",
    "markers = combined_deg_seurat %>%\n",
    "    filter(fgf1_day == 'Day5'  &\n",
    "           grouping == 'fgf1_grouping') %>%\n",
    "    filter(class == 'other')\n",
    "\n",
    "# Set dimensions\n",
    "options(repr.plot.width=7, repr.plot.height=2)\n",
    "\n",
    "# Load necessary library\n",
    "make_marker_bars = function(markers){\n",
    "    # Grouping and counting\n",
    "    markers_summary <- markers %>%\n",
    "      group_by(cluster, cells_a, n_cells_valid) %>%\n",
    "      summarise(n = if_else(all(n_cells_valid), n(), NA), .groups = \"drop\") %>%\n",
    "      # Adding missing combinations with count 0\n",
    "      tidyr::complete(cluster, cells_a, fill = list(n = 0))\n",
    "\n",
    "    # Calculate upper limit for y-axis, considering some space for the labels\n",
    "    upper_limit <- max(markers_summary$n) * 1.25  # You can adjust the multiplier to get a suitable space for the labels\n",
    "\n",
    "    # Plotting\n",
    "    ggplot(markers_summary, aes(x = cluster, y = n, fill = cells_a)) +\n",
    "      geom_bar(stat = \"identity\", position = position_dodge()) +\n",
    "      geom_text(aes(label=n), vjust=-0.3, position = position_dodge(0.9), size=2.5, check_overlap = TRUE) +\n",
    "      xlab(\"Cluster\") +\n",
    "      theme_classic() +\n",
    "      theme(axis.title.y = element_blank(), \n",
    "            axis.title.x = element_blank(), \n",
    "            plot.title = element_blank(), \n",
    "            axis.text.x = element_text(angle = 45, hjust = 1, size = 6), \n",
    "            legend.text = element_text(size = 6),\n",
    "            legend.title = element_text(size = 7)) +\n",
    "      scale_fill_brewer(palette = \"Set1\") +  # You can choose any other palette\n",
    "      ylim(0, upper_limit)  # Setting the limits for y-axis\n",
    "}\n"
   ]
  },
  {
   "cell_type": "code",
   "execution_count": 18,
   "id": "967c4efc",
   "metadata": {},
   "outputs": [],
   "source": [
    "markers_d5_neuron = combined_deg_seurat %>%\n",
    "    filter(fgf1_day == 'Day5'  &\n",
    "           grouping == 'fgf1_grouping') %>%\n",
    "    filter(class == 'neuron')"
   ]
  },
  {
   "cell_type": "code",
   "execution_count": 19,
   "id": "062f5b42",
   "metadata": {},
   "outputs": [],
   "source": [
    "make_marker_bars = function(markers, cluster_categories, y_upper_limit=150){\n",
    "    # Grouping and counting\n",
    "    markers_summary <- markers %>%\n",
    "          mutate(cluster = factor(cluster)) %>%  # Make sure that 'cluster' is a factor\n",
    "          group_by(cluster, cells_a) %>%\n",
    "          summarise(n = if_else(all(n_cells_valid), n(), 0L), .groups = \"drop\") %>%\n",
    "          ungroup %>%\n",
    "          filter(cluster %in% cluster_categories) %>%\n",
    "          mutate(cluster = droplevels(cluster))  %>%\n",
    "      # Adding missing combinations with count 0\n",
    "      tidyr::complete(cluster, cells_a, fill = list(n = 0))\n",
    "\n",
    "        # Create a factor with all possible levels\n",
    "        all_clusters <- factor(markers_summary$cluster, levels = c(cluster_categories, unique(markers_summary$cluster)))\n",
    "\n",
    "        # Joining with expanded frame to ensure all combinations\n",
    "        markers_summary <- tidyr::expand_grid(cluster = cluster_categories, cells_a = unique(markers_summary$cells_a)) %>%\n",
    "          left_join(markers_summary, by = c(\"cluster\", \"cells_a\")) %>%\n",
    "          replace_na(list(n = 0)) %>%\n",
    "          mutate(n_label = case_when(n == 0 ~ '',\n",
    "                               TRUE ~ paste0(n)))\n",
    "    \n",
    "        markers_summary %>% arrange(desc(n)) %>% head(1000) %>% print\n",
    "\n",
    "        # Plotting\n",
    "        ggplot(markers_summary, aes(x = cluster, y = n, fill = cells_a)) +\n",
    "          geom_bar(stat = \"identity\", position = position_dodge()) +\n",
    "          geom_text(aes(label=n_label), vjust=-0.3, position = position_dodge(0.9), size=2.5, check_overlap = FALSE) +\n",
    "#           geom_text_repel(data = subset(markers_summary, n > 0), aes(label = n), \n",
    "#                           size = 2.5, force = 0, segment.size = 0.2, nudge_y = 0.5) +\n",
    "          scale_x_discrete(drop = FALSE, limits = cluster_categories) +  # Ensures that all levels are shown on x-axis\n",
    "          xlab(\"Cluster\") +\n",
    "          theme_classic() +\n",
    "          theme(axis.title.y = element_blank(), \n",
    "                axis.title.x = element_blank(), \n",
    "#                 plot.title = element_blank(), \n",
    "                axis.text.x = element_text(angle = 45, hjust = 1, size = 6), \n",
    "                legend.text = element_text(size = 6),\n",
    "                legend.title = element_text(size = 7)) +\n",
    "#           scale_fill_brewer(palette = \"Set1\") +  # You can choose any other palette\n",
    "    scale_fill_manual(values = c(\"neg\" = \"#d73027\", \"pos\" = \"#4575b4\", \"neg_restored\" = \"#a50026\", \"pos_restored\" = \"#313695\")) +\n",
    "          ylim(0, y_upper_limit)  # Setting the limits for y-axis\n",
    "}\n"
   ]
  },
  {
   "cell_type": "code",
   "execution_count": null,
   "id": "37e2db87",
   "metadata": {},
   "outputs": [],
   "source": []
  },
  {
   "cell_type": "code",
   "execution_count": null,
   "id": "12e227b7",
   "metadata": {},
   "outputs": [],
   "source": []
  },
  {
   "cell_type": "code",
   "execution_count": 20,
   "id": "982f0008",
   "metadata": {},
   "outputs": [
    {
     "data": {
      "text/html": [
       "<style>\n",
       ".list-inline {list-style: none; margin:0; padding: 0}\n",
       ".list-inline>li {display: inline-block}\n",
       ".list-inline>li:not(:last-child)::after {content: \"\\00b7\"; padding: 0 .5ex}\n",
       "</style>\n",
       "<ol class=list-inline><li>'Tanycytes'</li><li>'OPC'</li><li>'Astrocytes'</li><li>'Ependymal_cells'</li><li>'Oligodendrocytes'</li><li>'Microglia'</li><li>'Endothelial_cells'</li></ol>\n"
      ],
      "text/latex": [
       "\\begin{enumerate*}\n",
       "\\item 'Tanycytes'\n",
       "\\item 'OPC'\n",
       "\\item 'Astrocytes'\n",
       "\\item 'Ependymal\\_cells'\n",
       "\\item 'Oligodendrocytes'\n",
       "\\item 'Microglia'\n",
       "\\item 'Endothelial\\_cells'\n",
       "\\end{enumerate*}\n"
      ],
      "text/markdown": [
       "1. 'Tanycytes'\n",
       "2. 'OPC'\n",
       "3. 'Astrocytes'\n",
       "4. 'Ependymal_cells'\n",
       "5. 'Oligodendrocytes'\n",
       "6. 'Microglia'\n",
       "7. 'Endothelial_cells'\n",
       "\n",
       "\n"
      ],
      "text/plain": [
       "[1] \"Tanycytes\"         \"OPC\"               \"Astrocytes\"       \n",
       "[4] \"Ependymal_cells\"   \"Oligodendrocytes\"  \"Microglia\"        \n",
       "[7] \"Endothelial_cells\""
      ]
     },
     "metadata": {},
     "output_type": "display_data"
    }
   ],
   "source": [
    "cluster_categories = labels_classes_tib %>% filter(class == 'other') %>% pull(cluster)\n",
    "cluster_categories"
   ]
  },
  {
   "cell_type": "code",
   "execution_count": null,
   "id": "06b2184d",
   "metadata": {},
   "outputs": [],
   "source": []
  },
  {
   "cell_type": "code",
   "execution_count": 21,
   "id": "41344382",
   "metadata": {},
   "outputs": [
    {
     "name": "stdout",
     "output_type": "stream",
     "text": [
      "\u001b[90m# A tibble: 14 × 4\u001b[39m\n",
      "   cluster           cells_a     n n_label\n",
      "   \u001b[3m\u001b[90m<chr>\u001b[39m\u001b[23m             \u001b[3m\u001b[90m<chr>\u001b[39m\u001b[23m   \u001b[3m\u001b[90m<int>\u001b[39m\u001b[23m \u001b[3m\u001b[90m<chr>\u001b[39m\u001b[23m  \n",
      "\u001b[90m 1\u001b[39m OPC               neg      \u001b[4m2\u001b[24m842 \u001b[90m\"\u001b[39m2842\u001b[90m\"\u001b[39m \n",
      "\u001b[90m 2\u001b[39m OPC               pos      \u001b[4m2\u001b[24m223 \u001b[90m\"\u001b[39m2223\u001b[90m\"\u001b[39m \n",
      "\u001b[90m 3\u001b[39m Astrocytes        pos      \u001b[4m1\u001b[24m683 \u001b[90m\"\u001b[39m1683\u001b[90m\"\u001b[39m \n",
      "\u001b[90m 4\u001b[39m Tanycytes         pos      \u001b[4m1\u001b[24m001 \u001b[90m\"\u001b[39m1001\u001b[90m\"\u001b[39m \n",
      "\u001b[90m 5\u001b[39m Oligodendrocytes  pos        26 \u001b[90m\"\u001b[39m26\u001b[90m\"\u001b[39m   \n",
      "\u001b[90m 6\u001b[39m Tanycytes         neg         0 \u001b[90m\"\u001b[39m\u001b[90m\"\u001b[39m     \n",
      "\u001b[90m 7\u001b[39m Astrocytes        neg         0 \u001b[90m\"\u001b[39m\u001b[90m\"\u001b[39m     \n",
      "\u001b[90m 8\u001b[39m Ependymal_cells   neg         0 \u001b[90m\"\u001b[39m\u001b[90m\"\u001b[39m     \n",
      "\u001b[90m 9\u001b[39m Ependymal_cells   pos         0 \u001b[90m\"\u001b[39m\u001b[90m\"\u001b[39m     \n",
      "\u001b[90m10\u001b[39m Oligodendrocytes  neg         0 \u001b[90m\"\u001b[39m\u001b[90m\"\u001b[39m     \n",
      "\u001b[90m11\u001b[39m Microglia         neg         0 \u001b[90m\"\u001b[39m\u001b[90m\"\u001b[39m     \n",
      "\u001b[90m12\u001b[39m Microglia         pos         0 \u001b[90m\"\u001b[39m\u001b[90m\"\u001b[39m     \n",
      "\u001b[90m13\u001b[39m Endothelial_cells neg         0 \u001b[90m\"\u001b[39m\u001b[90m\"\u001b[39m     \n",
      "\u001b[90m14\u001b[39m Endothelial_cells pos         0 \u001b[90m\"\u001b[39m\u001b[90m\"\u001b[39m     \n"
     ]
    },
    {
     "data": {
      "image/png": "[encoded data removed]",
      "text/plain": [
       "plot without title"
      ]
     },
     "metadata": {
      "image/png": {
       "height": 120,
       "width": 420
      }
     },
     "output_type": "display_data"
    }
   ],
   "source": [
    "options(repr.plot.width=7, repr.plot.height=2)\n",
    "markers_d5_other = combined_deg_seurat %>%\n",
    "    filter(fgf1_day == 'Day5'  &\n",
    "           grouping == 'fgf1_grouping') %>%\n",
    "    filter(class == 'other')\n",
    "ggp_d5_other = make_marker_bars(markers_d5_other, cluster_categories, 3000) +\n",
    "                theme(axis.text.x = element_blank(),\n",
    "                        axis.ticks.x = element_blank())\n",
    "ggp_d5_other"
   ]
  },
  {
   "cell_type": "code",
   "execution_count": 22,
   "id": "8a169ffc",
   "metadata": {},
   "outputs": [
    {
     "name": "stdout",
     "output_type": "stream",
     "text": [
      "\u001b[90m# A tibble: 0 × 4\u001b[39m\n",
      "\u001b[90m# ℹ 4 variables: cluster <chr>, cells_a <chr>, n <int>, n_label <chr>\u001b[39m\n"
     ]
    },
    {
     "data": {
      "image/png": "[encoded data removed]",
      "text/plain": [
       "plot without title"
      ]
     },
     "metadata": {
      "image/png": {
       "height": 120,
       "width": 420
      }
     },
     "output_type": "display_data"
    }
   ],
   "source": [
    "options(repr.plot.width=7, repr.plot.height=2)\n",
    "markers_d5_other = combined_deg_seurat %>%\n",
    "    filter(fgf1_day == 'Day5'  &\n",
    "           grouping == 'restored_grouping') %>%\n",
    "    filter(class == 'other')  %>%\n",
    "bind_rows(tibble(cluster = .$cluster, cells_a = 'pos_restored'))\n",
    "ggp_d5_other_restored = make_marker_bars(markers_d5_other, cluster_categories, 3000)\n",
    "ggp_d5_other_restored"
   ]
  },
  {
   "cell_type": "code",
   "execution_count": 23,
   "id": "c1496071",
   "metadata": {},
   "outputs": [
    {
     "data": {
      "image/png": "[encoded data removed]",
      "text/plain": [
       "plot without title"
      ]
     },
     "metadata": {
      "image/png": {
       "height": 126,
       "width": 420
      }
     },
     "output_type": "display_data"
    }
   ],
   "source": [
    "options(repr.plot.width=7, repr.plot.height=2.1)\n",
    "layout <- '\n",
    "A\n",
    "B\n",
    "'\n",
    "ggp_all_other = wrap_plots(A = ggp_d5_other,\n",
    "               B = ggp_d5_other_restored,\n",
    "        design = layout) +\n",
    "    plot_layout(guides = 'collect') & \n",
    "      theme(plot.margin = margin(2, 0, 0, 2)) \n",
    "\n",
    "ggp_all_other = ggp_all_other + plot_annotation(tag_levels = c('A', 'B', 'C', 'D'))\n",
    "\n",
    "ggp_all_other %>% ggsave('_targets_negbinom/deg_count_plot_other_AB_negbinom.pdf', plot = ., width = 7, height=4)\n",
    "ggp_all_other"
   ]
  },
  {
   "cell_type": "code",
   "execution_count": 24,
   "id": "9b688538",
   "metadata": {},
   "outputs": [
    {
     "name": "stdout",
     "output_type": "stream",
     "text": [
      "\u001b[90m# A tibble: 14 × 4\u001b[39m\n",
      "   cluster           cells_a     n n_label\n",
      "   \u001b[3m\u001b[90m<chr>\u001b[39m\u001b[23m             \u001b[3m\u001b[90m<chr>\u001b[39m\u001b[23m   \u001b[3m\u001b[90m<int>\u001b[39m\u001b[23m \u001b[3m\u001b[90m<chr>\u001b[39m\u001b[23m  \n",
      "\u001b[90m 1\u001b[39m Tanycytes         neg         0 \u001b[90m\"\u001b[39m\u001b[90m\"\u001b[39m     \n",
      "\u001b[90m 2\u001b[39m Tanycytes         pos         0 \u001b[90m\"\u001b[39m\u001b[90m\"\u001b[39m     \n",
      "\u001b[90m 3\u001b[39m OPC               neg         0 \u001b[90m\"\u001b[39m\u001b[90m\"\u001b[39m     \n",
      "\u001b[90m 4\u001b[39m OPC               pos         0 \u001b[90m\"\u001b[39m\u001b[90m\"\u001b[39m     \n",
      "\u001b[90m 5\u001b[39m Astrocytes        neg         0 \u001b[90m\"\u001b[39m\u001b[90m\"\u001b[39m     \n",
      "\u001b[90m 6\u001b[39m Astrocytes        pos         0 \u001b[90m\"\u001b[39m\u001b[90m\"\u001b[39m     \n",
      "\u001b[90m 7\u001b[39m Ependymal_cells   neg         0 \u001b[90m\"\u001b[39m\u001b[90m\"\u001b[39m     \n",
      "\u001b[90m 8\u001b[39m Ependymal_cells   pos         0 \u001b[90m\"\u001b[39m\u001b[90m\"\u001b[39m     \n",
      "\u001b[90m 9\u001b[39m Oligodendrocytes  neg         0 \u001b[90m\"\u001b[39m\u001b[90m\"\u001b[39m     \n",
      "\u001b[90m10\u001b[39m Oligodendrocytes  pos         0 \u001b[90m\"\u001b[39m\u001b[90m\"\u001b[39m     \n",
      "\u001b[90m11\u001b[39m Microglia         neg         0 \u001b[90m\"\u001b[39m\u001b[90m\"\u001b[39m     \n",
      "\u001b[90m12\u001b[39m Microglia         pos         0 \u001b[90m\"\u001b[39m\u001b[90m\"\u001b[39m     \n",
      "\u001b[90m13\u001b[39m Endothelial_cells neg         0 \u001b[90m\"\u001b[39m\u001b[90m\"\u001b[39m     \n",
      "\u001b[90m14\u001b[39m Endothelial_cells pos         0 \u001b[90m\"\u001b[39m\u001b[90m\"\u001b[39m     \n"
     ]
    },
    {
     "data": {
      "image/png": "[encoded data removed]",
      "text/plain": [
       "plot without title"
      ]
     },
     "metadata": {
      "image/png": {
       "height": 120,
       "width": 420
      }
     },
     "output_type": "display_data"
    }
   ],
   "source": [
    "options(repr.plot.width=7, repr.plot.height=2)\n",
    "markers_d14_other = combined_deg_seurat %>%\n",
    "    filter(fgf1_day == 'Day14'  &\n",
    "           grouping == 'fgf1_grouping') %>%\n",
    "    filter(class == 'other') %>%\n",
    "bind_rows(tibble(cluster = .$cluster, cells_a = 'neg'))\n",
    "ggp_d14_other = make_marker_bars(markers_d14_other, cluster_categories, 3000)  +\n",
    "                theme(axis.text.x = element_blank(),\n",
    "                        axis.ticks.x = element_blank())\n",
    "ggp_d14_other"
   ]
  },
  {
   "cell_type": "code",
   "execution_count": null,
   "id": "79e6883a",
   "metadata": {},
   "outputs": [],
   "source": []
  },
  {
   "cell_type": "code",
   "execution_count": 25,
   "id": "8991530e",
   "metadata": {},
   "outputs": [
    {
     "name": "stdout",
     "output_type": "stream",
     "text": [
      "\u001b[90m# A tibble: 0 × 4\u001b[39m\n",
      "\u001b[90m# ℹ 4 variables: cluster <chr>, cells_a <chr>, n <int>, n_label <chr>\u001b[39m\n"
     ]
    },
    {
     "data": {
      "image/png": "[encoded data removed]",
      "text/plain": [
       "plot without title"
      ]
     },
     "metadata": {
      "image/png": {
       "height": 120,
       "width": 420
      }
     },
     "output_type": "display_data"
    }
   ],
   "source": [
    "options(repr.plot.width=7, repr.plot.height=2)\n",
    "markers_d14_other = combined_deg_seurat %>%\n",
    "    filter(fgf1_day == 'Day14'  &\n",
    "           grouping == 'restored_grouping') %>%\n",
    "    filter(class == 'other')\n",
    "\n",
    "ggp_d14_other_restored = make_marker_bars(markers_d14_other, cluster_categories, 3000)\n",
    "ggp_d14_other_restored"
   ]
  },
  {
   "cell_type": "code",
   "execution_count": 26,
   "id": "ba25b3d2",
   "metadata": {},
   "outputs": [
    {
     "data": {
      "image/png": "[encoded data removed]",
      "text/plain": [
       "plot without title"
      ]
     },
     "metadata": {
      "image/png": {
       "height": 240,
       "width": 420
      }
     },
     "output_type": "display_data"
    }
   ],
   "source": [
    "options(repr.plot.width=7, repr.plot.height=4)\n",
    "layout <- '\n",
    "A\n",
    "B\n",
    "C\n",
    "D\n",
    "'\n",
    "\n",
    "ggp_d5_other_restored = ggp_d5_other_restored   +\n",
    "                theme(axis.text.x = element_blank(),\n",
    "                        axis.ticks.x = element_blank())\n",
    "\n",
    "ggp_all_other = wrap_plots(A = ggp_d5_other,\n",
    "               B = ggp_d5_other_restored,\n",
    "               C = ggp_d14_other,\n",
    "               D = ggp_d14_other_restored,\n",
    "        design = layout) +\n",
    "    plot_layout(guides = 'collect') & \n",
    "      theme(plot.margin = margin(2, 0, 0, 2)) \n",
    "\n",
    "ggp_all_other = ggp_all_other + plot_annotation(tag_levels = c('A', 'B', 'C', 'D'))\n",
    "\n",
    "ggp_all_other %>% ggsave('_targets_negbinom/deg_count_plot_other_negbinom.pdf', plot = ., width = 7, height=4)\n",
    "ggp_all_other"
   ]
  },
  {
   "cell_type": "code",
   "execution_count": null,
   "id": "9e92d486",
   "metadata": {},
   "outputs": [],
   "source": []
  },
  {
   "cell_type": "code",
   "execution_count": 27,
   "id": "4eab4cac",
   "metadata": {},
   "outputs": [
    {
     "data": {
      "text/html": [
       "<style>\n",
       ".list-inline {list-style: none; margin:0; padding: 0}\n",
       ".list-inline>li {display: inline-block}\n",
       ".list-inline>li:not(:last-child)::after {content: \"\\00b7\"; padding: 0 .5ex}\n",
       "</style>\n",
       "<ol class=list-inline><li>'Sst__Pthlh'</li><li>'Nfix__Nfib'</li><li>'Met__Prlh'</li><li>'Agrp'</li><li>'Sim1'</li><li>'Fez1'</li><li>'Pou6f2__Prkcq__Whrn'</li><li>'Dlk1'</li><li>'Slc17a6__Trhr'</li><li>'Esr1'</li><li>'Tmem215__Dach2'</li><li>'Sst__Nts'</li><li>'Sst__Unc13c'</li><li>'Irx5__Lmx1a'</li><li>'Htr3b'</li><li>'Hdc'</li><li>'Lepr89'</li><li>'Nfib_1'</li><li>'Ppp1r17__Tafa4'</li><li>'Lepr67'</li><li>'Arx__Nr5a2'</li><li>'Kiss1__Tac2'</li><li>'Met__Pappa2'</li><li>'Trh__Lef1'</li><li>'Gpr50__Tac2'</li><li>'Tmem215__Greb1'</li><li>'Ghrh'</li><li>'Trh__Cxcl12'</li><li>'Lepr15'</li><li>'Pomc__Ttr'</li><li>'Tbx19__Pirt'</li><li>'Pomc__Glipr1'</li><li>'Pomc__Anxa2'</li><li>'Npsr1__Epha3'</li><li>'Nfix__Nfib__Lhx6'</li><li>'Reln__Lef1'</li><li>'unassigned(2)'</li><li>'Th__Nfib'</li><li>'Ppp1r17'</li><li>'Th__Slc6a3'</li><li>'Nfib_3'</li><li>'Ppp1r17__Ltbp1'</li><li>'Lpar1_oligo'</li><li>'Nfib_2'</li><li>'Nfix__Nfib__Hgf'</li></ol>\n"
      ],
      "text/latex": [
       "\\begin{enumerate*}\n",
       "\\item 'Sst\\_\\_Pthlh'\n",
       "\\item 'Nfix\\_\\_Nfib'\n",
       "\\item 'Met\\_\\_Prlh'\n",
       "\\item 'Agrp'\n",
       "\\item 'Sim1'\n",
       "\\item 'Fez1'\n",
       "\\item 'Pou6f2\\_\\_Prkcq\\_\\_Whrn'\n",
       "\\item 'Dlk1'\n",
       "\\item 'Slc17a6\\_\\_Trhr'\n",
       "\\item 'Esr1'\n",
       "\\item 'Tmem215\\_\\_Dach2'\n",
       "\\item 'Sst\\_\\_Nts'\n",
       "\\item 'Sst\\_\\_Unc13c'\n",
       "\\item 'Irx5\\_\\_Lmx1a'\n",
       "\\item 'Htr3b'\n",
       "\\item 'Hdc'\n",
       "\\item 'Lepr89'\n",
       "\\item 'Nfib\\_1'\n",
       "\\item 'Ppp1r17\\_\\_Tafa4'\n",
       "\\item 'Lepr67'\n",
       "\\item 'Arx\\_\\_Nr5a2'\n",
       "\\item 'Kiss1\\_\\_Tac2'\n",
       "\\item 'Met\\_\\_Pappa2'\n",
       "\\item 'Trh\\_\\_Lef1'\n",
       "\\item 'Gpr50\\_\\_Tac2'\n",
       "\\item 'Tmem215\\_\\_Greb1'\n",
       "\\item 'Ghrh'\n",
       "\\item 'Trh\\_\\_Cxcl12'\n",
       "\\item 'Lepr15'\n",
       "\\item 'Pomc\\_\\_Ttr'\n",
       "\\item 'Tbx19\\_\\_Pirt'\n",
       "\\item 'Pomc\\_\\_Glipr1'\n",
       "\\item 'Pomc\\_\\_Anxa2'\n",
       "\\item 'Npsr1\\_\\_Epha3'\n",
       "\\item 'Nfix\\_\\_Nfib\\_\\_Lhx6'\n",
       "\\item 'Reln\\_\\_Lef1'\n",
       "\\item 'unassigned(2)'\n",
       "\\item 'Th\\_\\_Nfib'\n",
       "\\item 'Ppp1r17'\n",
       "\\item 'Th\\_\\_Slc6a3'\n",
       "\\item 'Nfib\\_3'\n",
       "\\item 'Ppp1r17\\_\\_Ltbp1'\n",
       "\\item 'Lpar1\\_oligo'\n",
       "\\item 'Nfib\\_2'\n",
       "\\item 'Nfix\\_\\_Nfib\\_\\_Hgf'\n",
       "\\end{enumerate*}\n"
      ],
      "text/markdown": [
       "1. 'Sst__Pthlh'\n",
       "2. 'Nfix__Nfib'\n",
       "3. 'Met__Prlh'\n",
       "4. 'Agrp'\n",
       "5. 'Sim1'\n",
       "6. 'Fez1'\n",
       "7. 'Pou6f2__Prkcq__Whrn'\n",
       "8. 'Dlk1'\n",
       "9. 'Slc17a6__Trhr'\n",
       "10. 'Esr1'\n",
       "11. 'Tmem215__Dach2'\n",
       "12. 'Sst__Nts'\n",
       "13. 'Sst__Unc13c'\n",
       "14. 'Irx5__Lmx1a'\n",
       "15. 'Htr3b'\n",
       "16. 'Hdc'\n",
       "17. 'Lepr89'\n",
       "18. 'Nfib_1'\n",
       "19. 'Ppp1r17__Tafa4'\n",
       "20. 'Lepr67'\n",
       "21. 'Arx__Nr5a2'\n",
       "22. 'Kiss1__Tac2'\n",
       "23. 'Met__Pappa2'\n",
       "24. 'Trh__Lef1'\n",
       "25. 'Gpr50__Tac2'\n",
       "26. 'Tmem215__Greb1'\n",
       "27. 'Ghrh'\n",
       "28. 'Trh__Cxcl12'\n",
       "29. 'Lepr15'\n",
       "30. 'Pomc__Ttr'\n",
       "31. 'Tbx19__Pirt'\n",
       "32. 'Pomc__Glipr1'\n",
       "33. 'Pomc__Anxa2'\n",
       "34. 'Npsr1__Epha3'\n",
       "35. 'Nfix__Nfib__Lhx6'\n",
       "36. 'Reln__Lef1'\n",
       "37. 'unassigned(2)'\n",
       "38. 'Th__Nfib'\n",
       "39. 'Ppp1r17'\n",
       "40. 'Th__Slc6a3'\n",
       "41. 'Nfib_3'\n",
       "42. 'Ppp1r17__Ltbp1'\n",
       "43. 'Lpar1_oligo'\n",
       "44. 'Nfib_2'\n",
       "45. 'Nfix__Nfib__Hgf'\n",
       "\n",
       "\n"
      ],
      "text/plain": [
       " [1] \"Sst__Pthlh\"          \"Nfix__Nfib\"          \"Met__Prlh\"          \n",
       " [4] \"Agrp\"                \"Sim1\"                \"Fez1\"               \n",
       " [7] \"Pou6f2__Prkcq__Whrn\" \"Dlk1\"                \"Slc17a6__Trhr\"      \n",
       "[10] \"Esr1\"                \"Tmem215__Dach2\"      \"Sst__Nts\"           \n",
       "[13] \"Sst__Unc13c\"         \"Irx5__Lmx1a\"         \"Htr3b\"              \n",
       "[16] \"Hdc\"                 \"Lepr89\"              \"Nfib_1\"             \n",
       "[19] \"Ppp1r17__Tafa4\"      \"Lepr67\"              \"Arx__Nr5a2\"         \n",
       "[22] \"Kiss1__Tac2\"         \"Met__Pappa2\"         \"Trh__Lef1\"          \n",
       "[25] \"Gpr50__Tac2\"         \"Tmem215__Greb1\"      \"Ghrh\"               \n",
       "[28] \"Trh__Cxcl12\"         \"Lepr15\"              \"Pomc__Ttr\"          \n",
       "[31] \"Tbx19__Pirt\"         \"Pomc__Glipr1\"        \"Pomc__Anxa2\"        \n",
       "[34] \"Npsr1__Epha3\"        \"Nfix__Nfib__Lhx6\"    \"Reln__Lef1\"         \n",
       "[37] \"unassigned(2)\"       \"Th__Nfib\"            \"Ppp1r17\"            \n",
       "[40] \"Th__Slc6a3\"          \"Nfib_3\"              \"Ppp1r17__Ltbp1\"     \n",
       "[43] \"Lpar1_oligo\"         \"Nfib_2\"              \"Nfix__Nfib__Hgf\"    "
      ]
     },
     "metadata": {},
     "output_type": "display_data"
    }
   ],
   "source": [
    "cluster_categories = labels_classes_tib %>% filter(class == 'neuron') %>% pull(cluster)\n",
    "cluster_categories"
   ]
  },
  {
   "cell_type": "code",
   "execution_count": 28,
   "id": "7f141af8",
   "metadata": {},
   "outputs": [],
   "source": [
    "cluster_categories = cluster_categories %>% str_replace('/', '__')"
   ]
  },
  {
   "cell_type": "code",
   "execution_count": 29,
   "id": "79e9c47e",
   "metadata": {},
   "outputs": [
    {
     "name": "stdout",
     "output_type": "stream",
     "text": [
      "\u001b[90m# A tibble: 90 × 4\u001b[39m\n",
      "   cluster     cells_a     n n_label\n",
      "   \u001b[3m\u001b[90m<chr>\u001b[39m\u001b[23m       \u001b[3m\u001b[90m<chr>\u001b[39m\u001b[23m   \u001b[3m\u001b[90m<int>\u001b[39m\u001b[23m \u001b[3m\u001b[90m<chr>\u001b[39m\u001b[23m  \n",
      "\u001b[90m 1\u001b[39m Sst__Unc13c pos       188 188    \n",
      "\u001b[90m 2\u001b[39m Agrp        pos       184 184    \n",
      "\u001b[90m 3\u001b[39m Ghrh        neg       114 114    \n",
      "\u001b[90m 4\u001b[39m Htr3b       pos       105 105    \n",
      "\u001b[90m 5\u001b[39m Trh__Lef1   neg        83 83     \n",
      "\u001b[90m 6\u001b[39m Agrp        neg        73 73     \n",
      "\u001b[90m 7\u001b[39m Trh__Lef1   pos        62 62     \n",
      "\u001b[90m 8\u001b[39m Htr3b       neg        48 48     \n",
      "\u001b[90m 9\u001b[39m Kiss1__Tac2 neg        11 11     \n",
      "\u001b[90m10\u001b[39m Ghrh        pos         2 2      \n",
      "\u001b[90m# ℹ 80 more rows\u001b[39m\n"
     ]
    },
    {
     "data": {
      "image/png": "[encoded data removed]",
      "text/plain": [
       "plot without title"
      ]
     },
     "metadata": {
      "image/png": {
       "height": 120,
       "width": 420
      }
     },
     "output_type": "display_data"
    }
   ],
   "source": [
    "options(repr.plot.width=7, repr.plot.height=2)\n",
    "markers_d5_neuron = combined_deg_seurat %>%\n",
    "    filter(fgf1_day == 'Day5'  &\n",
    "           grouping == 'fgf1_grouping') %>%\n",
    "    filter(class == 'neuron')\n",
    "ggp_d5_neuron = make_marker_bars(markers_d5_neuron, cluster_categories, 750) +\n",
    "                theme(axis.text.x = element_blank(),\n",
    "                        axis.ticks.x = element_blank())\n",
    "ggp_d5_neuron"
   ]
  },
  {
   "cell_type": "code",
   "execution_count": 30,
   "id": "7d293b79",
   "metadata": {},
   "outputs": [
    {
     "name": "stdout",
     "output_type": "stream",
     "text": [
      "\u001b[90m# A tibble: 90 × 4\u001b[39m\n",
      "   cluster      cells_a          n n_label\n",
      "   \u001b[3m\u001b[90m<chr>\u001b[39m\u001b[23m        \u001b[3m\u001b[90m<chr>\u001b[39m\u001b[23m        \u001b[3m\u001b[90m<int>\u001b[39m\u001b[23m \u001b[3m\u001b[90m<chr>\u001b[39m\u001b[23m  \n",
      "\u001b[90m 1\u001b[39m Agrp         pos_restored   246 \u001b[90m\"\u001b[39m246\u001b[90m\"\u001b[39m  \n",
      "\u001b[90m 2\u001b[39m Sst__Unc13c  pos_restored   188 \u001b[90m\"\u001b[39m188\u001b[90m\"\u001b[39m  \n",
      "\u001b[90m 3\u001b[39m Htr3b        pos_restored   126 \u001b[90m\"\u001b[39m126\u001b[90m\"\u001b[39m  \n",
      "\u001b[90m 4\u001b[39m Ghrh         neg_restored   114 \u001b[90m\"\u001b[39m114\u001b[90m\"\u001b[39m  \n",
      "\u001b[90m 5\u001b[39m Agrp         neg_restored    73 \u001b[90m\"\u001b[39m73\u001b[90m\"\u001b[39m   \n",
      "\u001b[90m 6\u001b[39m Kiss1__Tac2  neg_restored    11 \u001b[90m\"\u001b[39m11\u001b[90m\"\u001b[39m   \n",
      "\u001b[90m 7\u001b[39m Ghrh         pos_restored     2 \u001b[90m\"\u001b[39m2\u001b[90m\"\u001b[39m    \n",
      "\u001b[90m 8\u001b[39m Pomc__Glipr1 neg_restored     2 \u001b[90m\"\u001b[39m2\u001b[90m\"\u001b[39m    \n",
      "\u001b[90m 9\u001b[39m Sst__Pthlh   neg_restored     0 \u001b[90m\"\u001b[39m\u001b[90m\"\u001b[39m     \n",
      "\u001b[90m10\u001b[39m Sst__Pthlh   pos_restored     0 \u001b[90m\"\u001b[39m\u001b[90m\"\u001b[39m     \n",
      "\u001b[90m# ℹ 80 more rows\u001b[39m\n"
     ]
    },
    {
     "data": {
      "image/png": "[encoded data removed]",
      "text/plain": [
       "plot without title"
      ]
     },
     "metadata": {
      "image/png": {
       "height": 120,
       "width": 420
      }
     },
     "output_type": "display_data"
    }
   ],
   "source": [
    "options(repr.plot.width=7, repr.plot.height=2)\n",
    "markers_d5_neuron = combined_deg_seurat %>%\n",
    "    filter(fgf1_day == 'Day5'  &\n",
    "           grouping == 'restored_grouping') %>%\n",
    "    filter(class == 'neuron')\n",
    "ggp_d5_neuron_restored = make_marker_bars(markers_d5_neuron, cluster_categories, 750) \n",
    "ggp_d5_neuron_restored"
   ]
  },
  {
   "cell_type": "code",
   "execution_count": 31,
   "id": "41c7503e",
   "metadata": {},
   "outputs": [
    {
     "name": "stdout",
     "output_type": "stream",
     "text": [
      "\u001b[90m# A tibble: 90 × 4\u001b[39m\n",
      "   cluster      cells_a          n n_label\n",
      "   \u001b[3m\u001b[90m<chr>\u001b[39m\u001b[23m        \u001b[3m\u001b[90m<chr>\u001b[39m\u001b[23m        \u001b[3m\u001b[90m<int>\u001b[39m\u001b[23m \u001b[3m\u001b[90m<chr>\u001b[39m\u001b[23m  \n",
      "\u001b[90m 1\u001b[39m Agrp         pos_restored   246 \u001b[90m\"\u001b[39m246\u001b[90m\"\u001b[39m  \n",
      "\u001b[90m 2\u001b[39m Sst__Unc13c  pos_restored   188 \u001b[90m\"\u001b[39m188\u001b[90m\"\u001b[39m  \n",
      "\u001b[90m 3\u001b[39m Htr3b        pos_restored   126 \u001b[90m\"\u001b[39m126\u001b[90m\"\u001b[39m  \n",
      "\u001b[90m 4\u001b[39m Ghrh         neg_restored   114 \u001b[90m\"\u001b[39m114\u001b[90m\"\u001b[39m  \n",
      "\u001b[90m 5\u001b[39m Agrp         neg_restored    73 \u001b[90m\"\u001b[39m73\u001b[90m\"\u001b[39m   \n",
      "\u001b[90m 6\u001b[39m Kiss1__Tac2  neg_restored    11 \u001b[90m\"\u001b[39m11\u001b[90m\"\u001b[39m   \n",
      "\u001b[90m 7\u001b[39m Ghrh         pos_restored     2 \u001b[90m\"\u001b[39m2\u001b[90m\"\u001b[39m    \n",
      "\u001b[90m 8\u001b[39m Pomc__Glipr1 neg_restored     2 \u001b[90m\"\u001b[39m2\u001b[90m\"\u001b[39m    \n",
      "\u001b[90m 9\u001b[39m Sst__Pthlh   neg_restored     0 \u001b[90m\"\u001b[39m\u001b[90m\"\u001b[39m     \n",
      "\u001b[90m10\u001b[39m Sst__Pthlh   pos_restored     0 \u001b[90m\"\u001b[39m\u001b[90m\"\u001b[39m     \n",
      "\u001b[90m# ℹ 80 more rows\u001b[39m\n"
     ]
    },
    {
     "data": {
      "image/png": "[encoded data removed]",
      "text/plain": [
       "plot without title"
      ]
     },
     "metadata": {
      "image/png": {
       "height": 126,
       "width": 420
      }
     },
     "output_type": "display_data"
    }
   ],
   "source": [
    "markers_d5_neuron = combined_deg_seurat %>%\n",
    "    filter(fgf1_day == 'Day5'  &\n",
    "           grouping == 'restored_grouping') %>%\n",
    "    filter(class == 'neuron')\n",
    "ggp_d5_neuron_restored = make_marker_bars(markers_d5_neuron, cluster_categories, 750)\n",
    "ggp_all_neuron = wrap_plots(A = ggp_d5_neuron,\n",
    "               B = ggp_d5_neuron_restored,\n",
    "        design = layout) +\n",
    "    plot_layout(guides = 'collect') & \n",
    "      theme(plot.margin = margin(2, 0, 0, 2))  \n",
    "\n",
    "\n",
    "options(repr.plot.width=7, repr.plot.height=2.1)\n",
    "layout <- '\n",
    "A\n",
    "B\n",
    "'\n",
    "\n",
    "# + plot_annotation(tag_levels = c('A', 'B', 'C', 'D'))\n",
    "\n",
    "ggp_all_neuron = ggp_all_neuron + plot_annotation(tag_levels = c('A', 'B', 'C', 'D'))\n",
    "\n",
    "ggp_all_neuron %>% ggsave('_targets_negbinom/deg_count_plot_neuron_AB_negbinom.pdf', plot = ., width = 7, height=4)\n",
    "ggp_all_neuron"
   ]
  },
  {
   "cell_type": "code",
   "execution_count": 32,
   "id": "2a7dd62c",
   "metadata": {},
   "outputs": [
    {
     "name": "stdout",
     "output_type": "stream",
     "text": [
      "\u001b[90m# A tibble: 45 × 4\u001b[39m\n",
      "   cluster             cells_a     n n_label\n",
      "   \u001b[3m\u001b[90m<chr>\u001b[39m\u001b[23m               \u001b[3m\u001b[90m<chr>\u001b[39m\u001b[23m   \u001b[3m\u001b[90m<int>\u001b[39m\u001b[23m \u001b[3m\u001b[90m<chr>\u001b[39m\u001b[23m  \n",
      "\u001b[90m 1\u001b[39m Sst__Pthlh          neg         0 \u001b[90m\"\u001b[39m\u001b[90m\"\u001b[39m     \n",
      "\u001b[90m 2\u001b[39m Nfix__Nfib          neg         0 \u001b[90m\"\u001b[39m\u001b[90m\"\u001b[39m     \n",
      "\u001b[90m 3\u001b[39m Met__Prlh           neg         0 \u001b[90m\"\u001b[39m\u001b[90m\"\u001b[39m     \n",
      "\u001b[90m 4\u001b[39m Agrp                neg         0 \u001b[90m\"\u001b[39m\u001b[90m\"\u001b[39m     \n",
      "\u001b[90m 5\u001b[39m Sim1                neg         0 \u001b[90m\"\u001b[39m\u001b[90m\"\u001b[39m     \n",
      "\u001b[90m 6\u001b[39m Fez1                neg         0 \u001b[90m\"\u001b[39m\u001b[90m\"\u001b[39m     \n",
      "\u001b[90m 7\u001b[39m Pou6f2__Prkcq__Whrn neg         0 \u001b[90m\"\u001b[39m\u001b[90m\"\u001b[39m     \n",
      "\u001b[90m 8\u001b[39m Dlk1                neg         0 \u001b[90m\"\u001b[39m\u001b[90m\"\u001b[39m     \n",
      "\u001b[90m 9\u001b[39m Slc17a6__Trhr       neg         0 \u001b[90m\"\u001b[39m\u001b[90m\"\u001b[39m     \n",
      "\u001b[90m10\u001b[39m Esr1                neg         0 \u001b[90m\"\u001b[39m\u001b[90m\"\u001b[39m     \n",
      "\u001b[90m# ℹ 35 more rows\u001b[39m\n"
     ]
    },
    {
     "data": {
      "image/png": "[encoded data removed]",
      "text/plain": [
       "plot without title"
      ]
     },
     "metadata": {
      "image/png": {
       "height": 120,
       "width": 420
      }
     },
     "output_type": "display_data"
    }
   ],
   "source": [
    "options(repr.plot.width=7, repr.plot.height=2)\n",
    "markers_d14_neuron = combined_deg_seurat %>%\n",
    "    filter(fgf1_day == 'Day14'  &\n",
    "           grouping == 'fgf1_grouping') %>%\n",
    "    filter(class == 'neuron')\n",
    "ggp_d14_neuron = make_marker_bars(markers_d14_neuron, cluster_categories, 750)  +\n",
    "                theme(axis.text.x = element_blank(),\n",
    "                        axis.ticks.x = element_blank())\n",
    "ggp_d14_neuron"
   ]
  },
  {
   "cell_type": "code",
   "execution_count": 33,
   "id": "2a52c849",
   "metadata": {},
   "outputs": [
    {
     "name": "stdout",
     "output_type": "stream",
     "text": [
      "\u001b[90m# A tibble: 0 × 4\u001b[39m\n",
      "\u001b[90m# ℹ 4 variables: cluster <chr>, cells_a <fct>, n <int>, n_label <chr>\u001b[39m\n"
     ]
    },
    {
     "data": {
      "image/png": "[encoded data removed]",
      "text/plain": [
       "plot without title"
      ]
     },
     "metadata": {
      "image/png": {
       "height": 120,
       "width": 420
      }
     },
     "output_type": "display_data"
    }
   ],
   "source": [
    "options(repr.plot.width=7, repr.plot.height=2)\n",
    "markers_d14_neuron = combined_deg_seurat %>%\n",
    "    filter(fgf1_day == 'Day14'  &\n",
    "           grouping == 'restored_grouping') %>%\n",
    "    mutate(cells_a = factor(cells_a, levels=c('neg_restored', 'pos_restored'))) %>%\n",
    "    filter(class == 'neuron')\n",
    "ggp_d14_neuron_restored = make_marker_bars(markers_d14_neuron, cluster_categories, 750)\n",
    "ggp_d14_neuron_restored"
   ]
  },
  {
   "cell_type": "code",
   "execution_count": 34,
   "id": "5f12ae3f",
   "metadata": {},
   "outputs": [
    {
     "data": {
      "image/png": "[encoded data removed]",
      "text/plain": [
       "plot without title"
      ]
     },
     "metadata": {
      "image/png": {
       "height": 246,
       "width": 420
      }
     },
     "output_type": "display_data"
    }
   ],
   "source": [
    "options(repr.plot.width=7, repr.plot.height=4.1)\n",
    "layout <- '\n",
    "A\n",
    "B\n",
    "C\n",
    "D\n",
    "'\n",
    "\n",
    "ggp_d5_neuron_restored = ggp_d5_neuron_restored  +\n",
    "                theme(axis.text.x = element_blank(),\n",
    "                        axis.ticks.x = element_blank())\n",
    "\n",
    "ggp_all_neuron = wrap_plots(A = ggp_d5_neuron,\n",
    "               B = ggp_d5_neuron_restored,\n",
    "               C = ggp_d14_neuron,\n",
    "               D = ggp_d14_neuron_restored,\n",
    "        design = layout) +\n",
    "    plot_layout(guides = 'collect') & \n",
    "      theme(plot.margin = margin(2, 0, 0, 2))  \n",
    "\n",
    "# + plot_annotation(tag_levels = c('A', 'B', 'C', 'D'))\n",
    "\n",
    "ggp_all_neuron = ggp_all_neuron + plot_annotation(tag_levels = c('A', 'B', 'C', 'D'))\n",
    "\n",
    "ggp_all_neuron %>% ggsave('_targets_negbinom/deg_count_plot_neuron_negbinom.pdf', plot = ., width = 7, height=4)\n",
    "ggp_all_neuron"
   ]
  },
  {
   "cell_type": "code",
   "execution_count": 35,
   "id": "145787f6",
   "metadata": {
    "scrolled": true
   },
   "outputs": [
    {
     "data": {
      "text/html": [
       "<table class=\"dataframe\">\n",
       "<caption>A tibble: 372 × 25</caption>\n",
       "<thead>\n",
       "\t<tr><th scope=col>tag</th><th scope=col>data_day</th><th scope=col>cluster</th><th scope=col>class</th><th scope=col>fgf1_day</th><th scope=col>fgf1_comparison</th><th scope=col>bl6_day</th><th scope=col>bl6_comparison</th><th scope=col>grouping</th><th scope=col>cells_a</th><th scope=col>⋯</th><th scope=col>pct.2</th><th scope=col>p_val_adj</th><th scope=col>ensmusg</th><th scope=col>gsea_sort_score</th><th scope=col>count</th><th scope=col>total_cells</th><th scope=col>frac</th><th scope=col>frac_cutoff</th><th scope=col>n_cells_cutoff</th><th scope=col>n_cells_valid</th></tr>\n",
       "\t<tr><th scope=col>&lt;chr&gt;</th><th scope=col>&lt;chr&gt;</th><th scope=col>&lt;chr&gt;</th><th scope=col>&lt;chr&gt;</th><th scope=col>&lt;chr&gt;</th><th scope=col>&lt;chr&gt;</th><th scope=col>&lt;chr&gt;</th><th scope=col>&lt;chr&gt;</th><th scope=col>&lt;chr&gt;</th><th scope=col>&lt;chr&gt;</th><th scope=col>⋯</th><th scope=col>&lt;dbl&gt;</th><th scope=col>&lt;dbl&gt;</th><th scope=col>&lt;chr&gt;</th><th scope=col>&lt;dbl&gt;</th><th scope=col>&lt;int&gt;</th><th scope=col>&lt;int&gt;</th><th scope=col>&lt;dbl&gt;</th><th scope=col>&lt;dbl&gt;</th><th scope=col>&lt;dbl&gt;</th><th scope=col>&lt;lgl&gt;</th></tr>\n",
       "</thead>\n",
       "<tbody>\n",
       "\t<tr><td>Irx5__Lmx1a___Day5.obob5v5__v__Day5.obobBL6d5___bl6_grouping.neg_vs_none</td><td>all</td><td>Irx5__Lmx1a</td><td>neuron</td><td>Day5</td><td>obob5v5</td><td>Day5</td><td>obobBL6d5</td><td>bl6_grouping</td><td>neg</td><td>⋯</td><td>0.479</td><td>5.957054e-25</td><td>ENSMUSG00000022112</td><td>86.15425</td><td>70</td><td>2686</td><td>0.02606106</td><td>0.1</td><td>150</td><td>FALSE</td></tr>\n",
       "\t<tr><td>Irx5__Lmx1a___Day5.obob5v5__v__Day5.obobBL6d5___bl6_grouping.neg_vs_none</td><td>all</td><td>Irx5__Lmx1a</td><td>neuron</td><td>Day5</td><td>obob5v5</td><td>Day5</td><td>obobBL6d5</td><td>bl6_grouping</td><td>neg</td><td>⋯</td><td>0.896</td><td>2.829428e-32</td><td>ENSMUSG00000019888</td><td>78.14768</td><td>70</td><td>2686</td><td>0.02606106</td><td>0.1</td><td>150</td><td>FALSE</td></tr>\n",
       "\t<tr><td>Irx5__Lmx1a___Day5.obob5v5__v__Day5.obobBL6d5___bl6_grouping.neg_vs_none</td><td>all</td><td>Irx5__Lmx1a</td><td>neuron</td><td>Day5</td><td>obob5v5</td><td>Day5</td><td>obobBL6d5</td><td>bl6_grouping</td><td>neg</td><td>⋯</td><td>0.928</td><td>5.865052e-38</td><td>ENSMUSG00000032036</td><td>76.19229</td><td>70</td><td>2686</td><td>0.02606106</td><td>0.1</td><td>150</td><td>FALSE</td></tr>\n",
       "\t<tr><td>Irx5__Lmx1a___Day5.obob5v5__v__Day5.obobBL6d5___bl6_grouping.neg_vs_none</td><td>all</td><td>Irx5__Lmx1a</td><td>neuron</td><td>Day5</td><td>obob5v5</td><td>Day5</td><td>obobBL6d5</td><td>bl6_grouping</td><td>neg</td><td>⋯</td><td>0.573</td><td>1.803130e-27</td><td>ENSMUSG00000052560</td><td>59.22493</td><td>70</td><td>2686</td><td>0.02606106</td><td>0.1</td><td>150</td><td>FALSE</td></tr>\n",
       "\t<tr><td>Irx5__Lmx1a___Day5.obob5v5__v__Day5.obobBL6d5___bl6_grouping.neg_vs_none</td><td>all</td><td>Irx5__Lmx1a</td><td>neuron</td><td>Day5</td><td>obob5v5</td><td>Day5</td><td>obobBL6d5</td><td>bl6_grouping</td><td>neg</td><td>⋯</td><td>0.310</td><td>1.546440e-19</td><td>ENSMUSG00000003746</td><td>57.65782</td><td>70</td><td>2686</td><td>0.02606106</td><td>0.1</td><td>150</td><td>FALSE</td></tr>\n",
       "\t<tr><td>Irx5__Lmx1a___Day5.obob5v5__v__Day5.obobBL6d5___bl6_grouping.neg_vs_none</td><td>all</td><td>Irx5__Lmx1a</td><td>neuron</td><td>Day5</td><td>obob5v5</td><td>Day5</td><td>obobBL6d5</td><td>bl6_grouping</td><td>neg</td><td>⋯</td><td>0.968</td><td>1.007724e-29</td><td>ENSMUSG00000060882</td><td>50.97618</td><td>70</td><td>2686</td><td>0.02606106</td><td>0.1</td><td>150</td><td>FALSE</td></tr>\n",
       "\t<tr><td>Irx5__Lmx1a___Day5.obob5v5__v__Day5.obobBL6d5___bl6_grouping.neg_vs_none</td><td>all</td><td>Irx5__Lmx1a</td><td>neuron</td><td>Day5</td><td>obob5v5</td><td>Day5</td><td>obobBL6d5</td><td>bl6_grouping</td><td>neg</td><td>⋯</td><td>0.505</td><td>1.488160e-18</td><td>ENSMUSG00000042581</td><td>49.00859</td><td>70</td><td>2686</td><td>0.02606106</td><td>0.1</td><td>150</td><td>FALSE</td></tr>\n",
       "\t<tr><td>Irx5__Lmx1a___Day5.obob5v5__v__Day5.obobBL6d5___bl6_grouping.neg_vs_none</td><td>all</td><td>Irx5__Lmx1a</td><td>neuron</td><td>Day5</td><td>obob5v5</td><td>Day5</td><td>obobBL6d5</td><td>bl6_grouping</td><td>neg</td><td>⋯</td><td>0.708</td><td>4.364260e-20</td><td>ENSMUSG00000053141</td><td>46.42367</td><td>70</td><td>2686</td><td>0.02606106</td><td>0.1</td><td>150</td><td>FALSE</td></tr>\n",
       "\t<tr><td>Irx5__Lmx1a___Day5.obob5v5__v__Day5.obobBL6d5___bl6_grouping.neg_vs_none</td><td>all</td><td>Irx5__Lmx1a</td><td>neuron</td><td>Day5</td><td>obob5v5</td><td>Day5</td><td>obobBL6d5</td><td>bl6_grouping</td><td>neg</td><td>⋯</td><td>0.797</td><td>2.880795e-24</td><td>ENSMUSG00000110246</td><td>44.35108</td><td>70</td><td>2686</td><td>0.02606106</td><td>0.1</td><td>150</td><td>FALSE</td></tr>\n",
       "\t<tr><td>Irx5__Lmx1a___Day5.obob5v5__v__Day5.obobBL6d5___bl6_grouping.neg_vs_none</td><td>all</td><td>Irx5__Lmx1a</td><td>neuron</td><td>Day5</td><td>obob5v5</td><td>Day5</td><td>obobBL6d5</td><td>bl6_grouping</td><td>neg</td><td>⋯</td><td>0.413</td><td>2.026959e-15</td><td>ENSMUSG00000027200</td><td>44.21525</td><td>70</td><td>2686</td><td>0.02606106</td><td>0.1</td><td>150</td><td>FALSE</td></tr>\n",
       "\t<tr><td>Irx5__Lmx1a___Day5.obob5v5__v__Day5.obobBL6d5___bl6_grouping.neg_vs_none</td><td>all</td><td>Irx5__Lmx1a</td><td>neuron</td><td>Day5</td><td>obob5v5</td><td>Day5</td><td>obobBL6d5</td><td>bl6_grouping</td><td>neg</td><td>⋯</td><td>0.447</td><td>5.460583e-15</td><td>ENSMUSG00000058571</td><td>43.40864</td><td>70</td><td>2686</td><td>0.02606106</td><td>0.1</td><td>150</td><td>FALSE</td></tr>\n",
       "\t<tr><td>Irx5__Lmx1a___Day5.obob5v5__v__Day5.obobBL6d5___bl6_grouping.neg_vs_none</td><td>all</td><td>Irx5__Lmx1a</td><td>neuron</td><td>Day5</td><td>obob5v5</td><td>Day5</td><td>obobBL6d5</td><td>bl6_grouping</td><td>neg</td><td>⋯</td><td>0.728</td><td>1.141848e-20</td><td>ENSMUSG00000057715</td><td>39.93581</td><td>70</td><td>2686</td><td>0.02606106</td><td>0.1</td><td>150</td><td>FALSE</td></tr>\n",
       "\t<tr><td>Irx5__Lmx1a___Day5.obob5v5__v__Day5.obobBL6d5___bl6_grouping.neg_vs_none</td><td>all</td><td>Irx5__Lmx1a</td><td>neuron</td><td>Day5</td><td>obob5v5</td><td>Day5</td><td>obobBL6d5</td><td>bl6_grouping</td><td>neg</td><td>⋯</td><td>0.619</td><td>1.617119e-22</td><td>ENSMUSG00000070498</td><td>36.94399</td><td>70</td><td>2686</td><td>0.02606106</td><td>0.1</td><td>150</td><td>FALSE</td></tr>\n",
       "\t<tr><td>Irx5__Lmx1a___Day5.obob5v5__v__Day5.obobBL6d5___bl6_grouping.neg_vs_none</td><td>all</td><td>Irx5__Lmx1a</td><td>neuron</td><td>Day5</td><td>obob5v5</td><td>Day5</td><td>obobBL6d5</td><td>bl6_grouping</td><td>neg</td><td>⋯</td><td>0.227</td><td>5.074504e-15</td><td>ENSMUSG00000025324</td><td>33.86847</td><td>70</td><td>2686</td><td>0.02606106</td><td>0.1</td><td>150</td><td>FALSE</td></tr>\n",
       "\t<tr><td>Irx5__Lmx1a___Day5.obob5v5__v__Day5.obobBL6d5___bl6_grouping.neg_vs_none</td><td>all</td><td>Irx5__Lmx1a</td><td>neuron</td><td>Day5</td><td>obob5v5</td><td>Day5</td><td>obobBL6d5</td><td>bl6_grouping</td><td>neg</td><td>⋯</td><td>0.386</td><td>5.826458e-16</td><td>ENSMUSG00000030525</td><td>33.85734</td><td>70</td><td>2686</td><td>0.02606106</td><td>0.1</td><td>150</td><td>FALSE</td></tr>\n",
       "\t<tr><td>Irx5__Lmx1a___Day5.obob5v5__v__Day5.obobBL6d5___bl6_grouping.neg_vs_none</td><td>all</td><td>Irx5__Lmx1a</td><td>neuron</td><td>Day5</td><td>obob5v5</td><td>Day5</td><td>obobBL6d5</td><td>bl6_grouping</td><td>neg</td><td>⋯</td><td>0.810</td><td>6.707559e-19</td><td>ENSMUSG00000029245</td><td>31.12714</td><td>70</td><td>2686</td><td>0.02606106</td><td>0.1</td><td>150</td><td>FALSE</td></tr>\n",
       "\t<tr><td>Irx5__Lmx1a___Day5.obob5v5__v__Day5.obobBL6d5___bl6_grouping.neg_vs_none</td><td>all</td><td>Irx5__Lmx1a</td><td>neuron</td><td>Day5</td><td>obob5v5</td><td>Day5</td><td>obobBL6d5</td><td>bl6_grouping</td><td>neg</td><td>⋯</td><td>0.297</td><td>1.796814e-11</td><td>ENSMUSG00000055471</td><td>28.44384</td><td>70</td><td>2686</td><td>0.02606106</td><td>0.1</td><td>150</td><td>FALSE</td></tr>\n",
       "\t<tr><td>Irx5__Lmx1a___Day5.obob5v5__v__Day5.obobBL6d5___bl6_grouping.neg_vs_none</td><td>all</td><td>Irx5__Lmx1a</td><td>neuron</td><td>Day5</td><td>obob5v5</td><td>Day5</td><td>obobBL6d5</td><td>bl6_grouping</td><td>neg</td><td>⋯</td><td>0.803</td><td>5.618840e-16</td><td>ENSMUSG00000031559</td><td>28.20789</td><td>70</td><td>2686</td><td>0.02606106</td><td>0.1</td><td>150</td><td>FALSE</td></tr>\n",
       "\t<tr><td>Irx5__Lmx1a___Day5.obob5v5__v__Day5.obobBL6d5___bl6_grouping.neg_vs_none</td><td>all</td><td>Irx5__Lmx1a</td><td>neuron</td><td>Day5</td><td>obob5v5</td><td>Day5</td><td>obobBL6d5</td><td>bl6_grouping</td><td>neg</td><td>⋯</td><td>0.477</td><td>1.167466e-14</td><td>ENSMUSG00000022790</td><td>27.53725</td><td>70</td><td>2686</td><td>0.02606106</td><td>0.1</td><td>150</td><td>FALSE</td></tr>\n",
       "\t<tr><td>Irx5__Lmx1a___Day5.obob5v5__v__Day5.obobBL6d5___bl6_grouping.neg_vs_none</td><td>all</td><td>Irx5__Lmx1a</td><td>neuron</td><td>Day5</td><td>obob5v5</td><td>Day5</td><td>obobBL6d5</td><td>bl6_grouping</td><td>neg</td><td>⋯</td><td>0.433</td><td>2.407272e-13</td><td>ENSMUSG00000116769</td><td>24.19651</td><td>70</td><td>2686</td><td>0.02606106</td><td>0.1</td><td>150</td><td>FALSE</td></tr>\n",
       "\t<tr><td>Irx5__Lmx1a___Day5.obob5v5__v__Day5.obobBL6d5___bl6_grouping.neg_vs_none</td><td>all</td><td>Irx5__Lmx1a</td><td>neuron</td><td>Day5</td><td>obob5v5</td><td>Day5</td><td>obobBL6d5</td><td>bl6_grouping</td><td>neg</td><td>⋯</td><td>0.692</td><td>6.554293e-13</td><td>ENSMUSG00000031841</td><td>23.05425</td><td>70</td><td>2686</td><td>0.02606106</td><td>0.1</td><td>150</td><td>FALSE</td></tr>\n",
       "\t<tr><td>Irx5__Lmx1a___Day5.obob5v5__v__Day5.obobBL6d5___bl6_grouping.neg_vs_none</td><td>all</td><td>Irx5__Lmx1a</td><td>neuron</td><td>Day5</td><td>obob5v5</td><td>Day5</td><td>obobBL6d5</td><td>bl6_grouping</td><td>neg</td><td>⋯</td><td>0.252</td><td>7.243389e-11</td><td>ENSMUSG00000032020</td><td>22.99211</td><td>70</td><td>2686</td><td>0.02606106</td><td>0.1</td><td>150</td><td>FALSE</td></tr>\n",
       "\t<tr><td>Irx5__Lmx1a___Day5.obob5v5__v__Day5.obobBL6d5___bl6_grouping.neg_vs_none</td><td>all</td><td>Irx5__Lmx1a</td><td>neuron</td><td>Day5</td><td>obob5v5</td><td>Day5</td><td>obobBL6d5</td><td>bl6_grouping</td><td>neg</td><td>⋯</td><td>0.343</td><td>3.143020e-11</td><td>ENSMUSG00000026970</td><td>22.83748</td><td>70</td><td>2686</td><td>0.02606106</td><td>0.1</td><td>150</td><td>FALSE</td></tr>\n",
       "\t<tr><td>Irx5__Lmx1a___Day5.obob5v5__v__Day5.obobBL6d5___bl6_grouping.neg_vs_none</td><td>all</td><td>Irx5__Lmx1a</td><td>neuron</td><td>Day5</td><td>obob5v5</td><td>Day5</td><td>obobBL6d5</td><td>bl6_grouping</td><td>neg</td><td>⋯</td><td>0.331</td><td>4.660888e-11</td><td>ENSMUSG00000001985</td><td>22.53042</td><td>70</td><td>2686</td><td>0.02606106</td><td>0.1</td><td>150</td><td>FALSE</td></tr>\n",
       "\t<tr><td>Irx5__Lmx1a___Day5.obob5v5__v__Day5.obobBL6d5___bl6_grouping.neg_vs_none</td><td>all</td><td>Irx5__Lmx1a</td><td>neuron</td><td>Day5</td><td>obob5v5</td><td>Day5</td><td>obobBL6d5</td><td>bl6_grouping</td><td>neg</td><td>⋯</td><td>0.846</td><td>1.212435e-13</td><td>ENSMUSG00000037940</td><td>20.64934</td><td>70</td><td>2686</td><td>0.02606106</td><td>0.1</td><td>150</td><td>FALSE</td></tr>\n",
       "\t<tr><td>Irx5__Lmx1a___Day5.obob5v5__v__Day5.obobBL6d5___bl6_grouping.neg_vs_none</td><td>all</td><td>Irx5__Lmx1a</td><td>neuron</td><td>Day5</td><td>obob5v5</td><td>Day5</td><td>obobBL6d5</td><td>bl6_grouping</td><td>neg</td><td>⋯</td><td>0.730</td><td>2.757048e-13</td><td>ENSMUSG00000047907</td><td>20.52821</td><td>70</td><td>2686</td><td>0.02606106</td><td>0.1</td><td>150</td><td>FALSE</td></tr>\n",
       "\t<tr><td>Irx5__Lmx1a___Day5.obob5v5__v__Day5.obobBL6d5___bl6_grouping.neg_vs_none</td><td>all</td><td>Irx5__Lmx1a</td><td>neuron</td><td>Day5</td><td>obob5v5</td><td>Day5</td><td>obobBL6d5</td><td>bl6_grouping</td><td>neg</td><td>⋯</td><td>0.794</td><td>3.580254e-16</td><td>ENSMUSG00000003992</td><td>20.01030</td><td>70</td><td>2686</td><td>0.02606106</td><td>0.1</td><td>150</td><td>FALSE</td></tr>\n",
       "\t<tr><td>Irx5__Lmx1a___Day5.obob5v5__v__Day5.obobBL6d5___bl6_grouping.neg_vs_none</td><td>all</td><td>Irx5__Lmx1a</td><td>neuron</td><td>Day5</td><td>obob5v5</td><td>Day5</td><td>obobBL6d5</td><td>bl6_grouping</td><td>neg</td><td>⋯</td><td>0.166</td><td>2.715562e-08</td><td>ENSMUSG00000087104</td><td>18.91683</td><td>70</td><td>2686</td><td>0.02606106</td><td>0.1</td><td>150</td><td>FALSE</td></tr>\n",
       "\t<tr><td>Irx5__Lmx1a___Day5.obob5v5__v__Day5.obobBL6d5___bl6_grouping.neg_vs_none</td><td>all</td><td>Irx5__Lmx1a</td><td>neuron</td><td>Day5</td><td>obob5v5</td><td>Day5</td><td>obobBL6d5</td><td>bl6_grouping</td><td>neg</td><td>⋯</td><td>0.177</td><td>5.337225e-08</td><td>ENSMUSG00000034324</td><td>18.51730</td><td>70</td><td>2686</td><td>0.02606106</td><td>0.1</td><td>150</td><td>FALSE</td></tr>\n",
       "\t<tr><td>Irx5__Lmx1a___Day5.obob5v5__v__Day5.obobBL6d5___bl6_grouping.neg_vs_none</td><td>all</td><td>Irx5__Lmx1a</td><td>neuron</td><td>Day5</td><td>obob5v5</td><td>Day5</td><td>obobBL6d5</td><td>bl6_grouping</td><td>neg</td><td>⋯</td><td>0.996</td><td>4.096256e-16</td><td>ENSMUSG00000033569</td><td>17.68373</td><td>70</td><td>2686</td><td>0.02606106</td><td>0.1</td><td>150</td><td>FALSE</td></tr>\n",
       "\t<tr><td>⋮</td><td>⋮</td><td>⋮</td><td>⋮</td><td>⋮</td><td>⋮</td><td>⋮</td><td>⋮</td><td>⋮</td><td>⋮</td><td>⋱</td><td>⋮</td><td>⋮</td><td>⋮</td><td>⋮</td><td>⋮</td><td>⋮</td><td>⋮</td><td>⋮</td><td>⋮</td><td>⋮</td></tr>\n",
       "\t<tr><td>Irx5__Lmx1a___Day5.obob5v5__v__Day5.obobBL6d5___restored_grouping.pos_restored_vs_none</td><td>all</td><td>Irx5__Lmx1a</td><td>neuron</td><td>Day5</td><td>obob5v5</td><td>Day5</td><td>obobBL6d5</td><td>restored_grouping</td><td>pos_restored</td><td>⋯</td><td>0.356</td><td>0.0151014736</td><td>ENSMUSG00000018589</td><td>2.7741258</td><td>70</td><td>2686</td><td>0.02606106</td><td>0.1</td><td>150</td><td>FALSE</td></tr>\n",
       "\t<tr><td>Irx5__Lmx1a___Day5.obob5v5__v__Day5.obobBL6d5___restored_grouping.pos_restored_vs_none</td><td>all</td><td>Irx5__Lmx1a</td><td>neuron</td><td>Day5</td><td>obob5v5</td><td>Day5</td><td>obobBL6d5</td><td>restored_grouping</td><td>pos_restored</td><td>⋯</td><td>0.913</td><td>0.0011791862</td><td>ENSMUSG00000016150</td><td>2.6713017</td><td>70</td><td>2686</td><td>0.02606106</td><td>0.1</td><td>150</td><td>FALSE</td></tr>\n",
       "\t<tr><td>Irx5__Lmx1a___Day5.obob5v5__v__Day5.obobBL6d5___restored_grouping.pos_restored_vs_none</td><td>all</td><td>Irx5__Lmx1a</td><td>neuron</td><td>Day5</td><td>obob5v5</td><td>Day5</td><td>obobBL6d5</td><td>restored_grouping</td><td>pos_restored</td><td>⋯</td><td>0.291</td><td>0.0079167486</td><td>ENSMUSG00000024222</td><td>2.6567373</td><td>70</td><td>2686</td><td>0.02606106</td><td>0.1</td><td>150</td><td>FALSE</td></tr>\n",
       "\t<tr><td>Irx5__Lmx1a___Day5.obob5v5__v__Day5.obobBL6d5___restored_grouping.pos_restored_vs_none</td><td>all</td><td>Irx5__Lmx1a</td><td>neuron</td><td>Day5</td><td>obob5v5</td><td>Day5</td><td>obobBL6d5</td><td>restored_grouping</td><td>pos_restored</td><td>⋯</td><td>0.388</td><td>0.0060853109</td><td>ENSMUSG00000109382</td><td>2.6529373</td><td>70</td><td>2686</td><td>0.02606106</td><td>0.1</td><td>150</td><td>FALSE</td></tr>\n",
       "\t<tr><td>Irx5__Lmx1a___Day5.obob5v5__v__Day5.obobBL6d5___restored_grouping.pos_restored_vs_none</td><td>all</td><td>Irx5__Lmx1a</td><td>neuron</td><td>Day5</td><td>obob5v5</td><td>Day5</td><td>obobBL6d5</td><td>restored_grouping</td><td>pos_restored</td><td>⋯</td><td>0.113</td><td>0.0389536901</td><td>ENSMUSG00000022836</td><td>2.6104683</td><td>70</td><td>2686</td><td>0.02606106</td><td>0.1</td><td>150</td><td>FALSE</td></tr>\n",
       "\t<tr><td>Irx5__Lmx1a___Day5.obob5v5__v__Day5.obobBL6d5___restored_grouping.pos_restored_vs_none</td><td>all</td><td>Irx5__Lmx1a</td><td>neuron</td><td>Day5</td><td>obob5v5</td><td>Day5</td><td>obobBL6d5</td><td>restored_grouping</td><td>pos_restored</td><td>⋯</td><td>0.384</td><td>0.0157639731</td><td>ENSMUSG00000023927</td><td>2.6096485</td><td>70</td><td>2686</td><td>0.02606106</td><td>0.1</td><td>150</td><td>FALSE</td></tr>\n",
       "\t<tr><td>Irx5__Lmx1a___Day5.obob5v5__v__Day5.obobBL6d5___restored_grouping.pos_restored_vs_none</td><td>all</td><td>Irx5__Lmx1a</td><td>neuron</td><td>Day5</td><td>obob5v5</td><td>Day5</td><td>obobBL6d5</td><td>restored_grouping</td><td>pos_restored</td><td>⋯</td><td>0.319</td><td>0.0092637816</td><td>ENSMUSG00000034037</td><td>2.6009477</td><td>70</td><td>2686</td><td>0.02606106</td><td>0.1</td><td>150</td><td>FALSE</td></tr>\n",
       "\t<tr><td>Irx5__Lmx1a___Day5.obob5v5__v__Day5.obobBL6d5___restored_grouping.pos_restored_vs_none</td><td>all</td><td>Irx5__Lmx1a</td><td>neuron</td><td>Day5</td><td>obob5v5</td><td>Day5</td><td>obobBL6d5</td><td>restored_grouping</td><td>pos_restored</td><td>⋯</td><td>0.538</td><td>0.0019959401</td><td>ENSMUSG00000042589</td><td>2.5908531</td><td>70</td><td>2686</td><td>0.02606106</td><td>0.1</td><td>150</td><td>FALSE</td></tr>\n",
       "\t<tr><td>Irx5__Lmx1a___Day5.obob5v5__v__Day5.obobBL6d5___restored_grouping.pos_restored_vs_none</td><td>all</td><td>Irx5__Lmx1a</td><td>neuron</td><td>Day5</td><td>obob5v5</td><td>Day5</td><td>obobBL6d5</td><td>restored_grouping</td><td>pos_restored</td><td>⋯</td><td>0.724</td><td>0.0015348356</td><td>ENSMUSG00000026347</td><td>2.3656765</td><td>70</td><td>2686</td><td>0.02606106</td><td>0.1</td><td>150</td><td>FALSE</td></tr>\n",
       "\t<tr><td>Irx5__Lmx1a___Day5.obob5v5__v__Day5.obobBL6d5___restored_grouping.pos_restored_vs_none</td><td>all</td><td>Irx5__Lmx1a</td><td>neuron</td><td>Day5</td><td>obob5v5</td><td>Day5</td><td>obobBL6d5</td><td>restored_grouping</td><td>pos_restored</td><td>⋯</td><td>0.266</td><td>0.0142626455</td><td>ENSMUSG00000028909</td><td>2.3450085</td><td>70</td><td>2686</td><td>0.02606106</td><td>0.1</td><td>150</td><td>FALSE</td></tr>\n",
       "\t<tr><td>Irx5__Lmx1a___Day5.obob5v5__v__Day5.obobBL6d5___restored_grouping.pos_restored_vs_none</td><td>all</td><td>Irx5__Lmx1a</td><td>neuron</td><td>Day5</td><td>obob5v5</td><td>Day5</td><td>obobBL6d5</td><td>restored_grouping</td><td>pos_restored</td><td>⋯</td><td>0.993</td><td>0.0002700773</td><td>ENSMUSG00000035653</td><td>2.3405683</td><td>70</td><td>2686</td><td>0.02606106</td><td>0.1</td><td>150</td><td>FALSE</td></tr>\n",
       "\t<tr><td>Irx5__Lmx1a___Day5.obob5v5__v__Day5.obobBL6d5___restored_grouping.pos_restored_vs_none</td><td>all</td><td>Irx5__Lmx1a</td><td>neuron</td><td>Day5</td><td>obob5v5</td><td>Day5</td><td>obobBL6d5</td><td>restored_grouping</td><td>pos_restored</td><td>⋯</td><td>0.276</td><td>0.0226238890</td><td>ENSMUSG00000018417</td><td>2.2496817</td><td>70</td><td>2686</td><td>0.02606106</td><td>0.1</td><td>150</td><td>FALSE</td></tr>\n",
       "\t<tr><td>Irx5__Lmx1a___Day5.obob5v5__v__Day5.obobBL6d5___restored_grouping.pos_restored_vs_none</td><td>all</td><td>Irx5__Lmx1a</td><td>neuron</td><td>Day5</td><td>obob5v5</td><td>Day5</td><td>obobBL6d5</td><td>restored_grouping</td><td>pos_restored</td><td>⋯</td><td>0.580</td><td>0.0089997420</td><td>ENSMUSG00000053519</td><td>2.1822697</td><td>70</td><td>2686</td><td>0.02606106</td><td>0.1</td><td>150</td><td>FALSE</td></tr>\n",
       "\t<tr><td>Irx5__Lmx1a___Day5.obob5v5__v__Day5.obobBL6d5___restored_grouping.pos_restored_vs_none</td><td>all</td><td>Irx5__Lmx1a</td><td>neuron</td><td>Day5</td><td>obob5v5</td><td>Day5</td><td>obobBL6d5</td><td>restored_grouping</td><td>pos_restored</td><td>⋯</td><td>0.768</td><td>0.0085140466</td><td>ENSMUSG00000021991</td><td>2.1700148</td><td>70</td><td>2686</td><td>0.02606106</td><td>0.1</td><td>150</td><td>FALSE</td></tr>\n",
       "\t<tr><td>Irx5__Lmx1a___Day5.obob5v5__v__Day5.obobBL6d5___restored_grouping.pos_restored_vs_none</td><td>all</td><td>Irx5__Lmx1a</td><td>neuron</td><td>Day5</td><td>obob5v5</td><td>Day5</td><td>obobBL6d5</td><td>restored_grouping</td><td>pos_restored</td><td>⋯</td><td>0.888</td><td>0.0023695694</td><td>ENSMUSG00000042757</td><td>1.9349044</td><td>70</td><td>2686</td><td>0.02606106</td><td>0.1</td><td>150</td><td>FALSE</td></tr>\n",
       "\t<tr><td>Irx5__Lmx1a___Day5.obob5v5__v__Day5.obobBL6d5___restored_grouping.pos_restored_vs_none</td><td>all</td><td>Irx5__Lmx1a</td><td>neuron</td><td>Day5</td><td>obob5v5</td><td>Day5</td><td>obobBL6d5</td><td>restored_grouping</td><td>pos_restored</td><td>⋯</td><td>0.433</td><td>0.0136209527</td><td>ENSMUSG00000055078</td><td>1.9175289</td><td>70</td><td>2686</td><td>0.02606106</td><td>0.1</td><td>150</td><td>FALSE</td></tr>\n",
       "\t<tr><td>Irx5__Lmx1a___Day5.obob5v5__v__Day5.obobBL6d5___restored_grouping.pos_restored_vs_none</td><td>all</td><td>Irx5__Lmx1a</td><td>neuron</td><td>Day5</td><td>obob5v5</td><td>Day5</td><td>obobBL6d5</td><td>restored_grouping</td><td>pos_restored</td><td>⋯</td><td>0.712</td><td>0.0104989675</td><td>ENSMUSG00000015882</td><td>1.8027680</td><td>70</td><td>2686</td><td>0.02606106</td><td>0.1</td><td>150</td><td>FALSE</td></tr>\n",
       "\t<tr><td>Irx5__Lmx1a___Day5.obob5v5__v__Day5.obobBL6d5___restored_grouping.pos_restored_vs_none</td><td>all</td><td>Irx5__Lmx1a</td><td>neuron</td><td>Day5</td><td>obob5v5</td><td>Day5</td><td>obobBL6d5</td><td>restored_grouping</td><td>pos_restored</td><td>⋯</td><td>0.519</td><td>0.0125582547</td><td>ENSMUSG00000021662</td><td>1.7984129</td><td>70</td><td>2686</td><td>0.02606106</td><td>0.1</td><td>150</td><td>FALSE</td></tr>\n",
       "\t<tr><td>Irx5__Lmx1a___Day5.obob5v5__v__Day5.obobBL6d5___restored_grouping.pos_restored_vs_none</td><td>all</td><td>Irx5__Lmx1a</td><td>neuron</td><td>Day5</td><td>obob5v5</td><td>Day5</td><td>obobBL6d5</td><td>restored_grouping</td><td>pos_restored</td><td>⋯</td><td>0.563</td><td>0.0334686144</td><td>ENSMUSG00000022307</td><td>1.7536159</td><td>70</td><td>2686</td><td>0.02606106</td><td>0.1</td><td>150</td><td>FALSE</td></tr>\n",
       "\t<tr><td>Irx5__Lmx1a___Day5.obob5v5__v__Day5.obobBL6d5___restored_grouping.pos_restored_vs_none</td><td>all</td><td>Irx5__Lmx1a</td><td>neuron</td><td>Day5</td><td>obob5v5</td><td>Day5</td><td>obobBL6d5</td><td>restored_grouping</td><td>pos_restored</td><td>⋯</td><td>0.290</td><td>0.0336574787</td><td>ENSMUSG00000032750</td><td>1.7297004</td><td>70</td><td>2686</td><td>0.02606106</td><td>0.1</td><td>150</td><td>FALSE</td></tr>\n",
       "\t<tr><td>Irx5__Lmx1a___Day5.obob5v5__v__Day5.obobBL6d5___restored_grouping.pos_restored_vs_none</td><td>all</td><td>Irx5__Lmx1a</td><td>neuron</td><td>Day5</td><td>obob5v5</td><td>Day5</td><td>obobBL6d5</td><td>restored_grouping</td><td>pos_restored</td><td>⋯</td><td>0.795</td><td>0.0281559837</td><td>ENSMUSG00000028033</td><td>1.5985060</td><td>70</td><td>2686</td><td>0.02606106</td><td>0.1</td><td>150</td><td>FALSE</td></tr>\n",
       "\t<tr><td>Irx5__Lmx1a___Day5.obob5v5__v__Day5.obobBL6d5___restored_grouping.pos_restored_vs_none</td><td>all</td><td>Irx5__Lmx1a</td><td>neuron</td><td>Day5</td><td>obob5v5</td><td>Day5</td><td>obobBL6d5</td><td>restored_grouping</td><td>pos_restored</td><td>⋯</td><td>0.339</td><td>0.0488449227</td><td>ENSMUSG00000031292</td><td>1.5610568</td><td>70</td><td>2686</td><td>0.02606106</td><td>0.1</td><td>150</td><td>FALSE</td></tr>\n",
       "\t<tr><td>Irx5__Lmx1a___Day5.obob5v5__v__Day5.obobBL6d5___restored_grouping.pos_restored_vs_none</td><td>all</td><td>Irx5__Lmx1a</td><td>neuron</td><td>Day5</td><td>obob5v5</td><td>Day5</td><td>obobBL6d5</td><td>restored_grouping</td><td>pos_restored</td><td>⋯</td><td>0.508</td><td>0.0219487313</td><td>ENSMUSG00000002266</td><td>1.4871771</td><td>70</td><td>2686</td><td>0.02606106</td><td>0.1</td><td>150</td><td>FALSE</td></tr>\n",
       "\t<tr><td>Irx5__Lmx1a___Day5.obob5v5__v__Day5.obobBL6d5___restored_grouping.pos_restored_vs_none</td><td>all</td><td>Irx5__Lmx1a</td><td>neuron</td><td>Day5</td><td>obob5v5</td><td>Day5</td><td>obobBL6d5</td><td>restored_grouping</td><td>pos_restored</td><td>⋯</td><td>0.876</td><td>0.0335122819</td><td>ENSMUSG00000063600</td><td>1.3773305</td><td>70</td><td>2686</td><td>0.02606106</td><td>0.1</td><td>150</td><td>FALSE</td></tr>\n",
       "\t<tr><td>Irx5__Lmx1a___Day5.obob5v5__v__Day5.obobBL6d5___restored_grouping.pos_restored_vs_none</td><td>all</td><td>Irx5__Lmx1a</td><td>neuron</td><td>Day5</td><td>obob5v5</td><td>Day5</td><td>obobBL6d5</td><td>restored_grouping</td><td>pos_restored</td><td>⋯</td><td>0.827</td><td>0.0184356100</td><td>ENSMUSG00000028926</td><td>1.3704489</td><td>70</td><td>2686</td><td>0.02606106</td><td>0.1</td><td>150</td><td>FALSE</td></tr>\n",
       "\t<tr><td>Irx5__Lmx1a___Day5.obob5v5__v__Day5.obobBL6d5___restored_grouping.pos_restored_vs_none</td><td>all</td><td>Irx5__Lmx1a</td><td>neuron</td><td>Day5</td><td>obob5v5</td><td>Day5</td><td>obobBL6d5</td><td>restored_grouping</td><td>pos_restored</td><td>⋯</td><td>0.916</td><td>0.0103394764</td><td>ENSMUSG00000027012</td><td>1.3438973</td><td>70</td><td>2686</td><td>0.02606106</td><td>0.1</td><td>150</td><td>FALSE</td></tr>\n",
       "\t<tr><td>Irx5__Lmx1a___Day5.obob5v5__v__Day5.obobBL6d5___restored_grouping.pos_restored_vs_none</td><td>all</td><td>Irx5__Lmx1a</td><td>neuron</td><td>Day5</td><td>obob5v5</td><td>Day5</td><td>obobBL6d5</td><td>restored_grouping</td><td>pos_restored</td><td>⋯</td><td>0.663</td><td>0.0239206819</td><td>ENSMUSG00000028149</td><td>1.3248579</td><td>70</td><td>2686</td><td>0.02606106</td><td>0.1</td><td>150</td><td>FALSE</td></tr>\n",
       "\t<tr><td>Irx5__Lmx1a___Day5.obob5v5__v__Day5.obobBL6d5___restored_grouping.pos_restored_vs_none</td><td>all</td><td>Irx5__Lmx1a</td><td>neuron</td><td>Day5</td><td>obob5v5</td><td>Day5</td><td>obobBL6d5</td><td>restored_grouping</td><td>pos_restored</td><td>⋯</td><td>0.541</td><td>0.0393218067</td><td>ENSMUSG00000064210</td><td>1.2457036</td><td>70</td><td>2686</td><td>0.02606106</td><td>0.1</td><td>150</td><td>FALSE</td></tr>\n",
       "\t<tr><td>Irx5__Lmx1a___Day5.obob5v5__v__Day5.obobBL6d5___restored_grouping.pos_restored_vs_none</td><td>all</td><td>Irx5__Lmx1a</td><td>neuron</td><td>Day5</td><td>obob5v5</td><td>Day5</td><td>obobBL6d5</td><td>restored_grouping</td><td>pos_restored</td><td>⋯</td><td>0.815</td><td>0.0349145728</td><td>ENSMUSG00000034751</td><td>1.0300736</td><td>70</td><td>2686</td><td>0.02606106</td><td>0.1</td><td>150</td><td>FALSE</td></tr>\n",
       "\t<tr><td>Irx5__Lmx1a___Day5.obob5v5__v__Day5.obobBL6d5___restored_grouping.pos_restored_vs_none</td><td>all</td><td>Irx5__Lmx1a</td><td>neuron</td><td>Day5</td><td>obob5v5</td><td>Day5</td><td>obobBL6d5</td><td>restored_grouping</td><td>pos_restored</td><td>⋯</td><td>1.000</td><td>0.0311891480</td><td>ENSMUSG00000061080</td><td>0.8897445</td><td>70</td><td>2686</td><td>0.02606106</td><td>0.1</td><td>150</td><td>FALSE</td></tr>\n",
       "</tbody>\n",
       "</table>\n"
      ],
      "text/latex": [
       "A tibble: 372 × 25\n",
       "\\begin{tabular}{lllllllllllllllllllll}\n",
       " tag & data\\_day & cluster & class & fgf1\\_day & fgf1\\_comparison & bl6\\_day & bl6\\_comparison & grouping & cells\\_a & ⋯ & pct.2 & p\\_val\\_adj & ensmusg & gsea\\_sort\\_score & count & total\\_cells & frac & frac\\_cutoff & n\\_cells\\_cutoff & n\\_cells\\_valid\\\\\n",
       " <chr> & <chr> & <chr> & <chr> & <chr> & <chr> & <chr> & <chr> & <chr> & <chr> & ⋯ & <dbl> & <dbl> & <chr> & <dbl> & <int> & <int> & <dbl> & <dbl> & <dbl> & <lgl>\\\\\n",
       "\\hline\n",
       "\t Irx5\\_\\_Lmx1a\\_\\_\\_Day5.obob5v5\\_\\_v\\_\\_Day5.obobBL6d5\\_\\_\\_bl6\\_grouping.neg\\_vs\\_none & all & Irx5\\_\\_Lmx1a & neuron & Day5 & obob5v5 & Day5 & obobBL6d5 & bl6\\_grouping & neg & ⋯ & 0.479 & 5.957054e-25 & ENSMUSG00000022112 & 86.15425 & 70 & 2686 & 0.02606106 & 0.1 & 150 & FALSE\\\\\n",
       "\t Irx5\\_\\_Lmx1a\\_\\_\\_Day5.obob5v5\\_\\_v\\_\\_Day5.obobBL6d5\\_\\_\\_bl6\\_grouping.neg\\_vs\\_none & all & Irx5\\_\\_Lmx1a & neuron & Day5 & obob5v5 & Day5 & obobBL6d5 & bl6\\_grouping & neg & ⋯ & 0.896 & 2.829428e-32 & ENSMUSG00000019888 & 78.14768 & 70 & 2686 & 0.02606106 & 0.1 & 150 & FALSE\\\\\n",
       "\t Irx5\\_\\_Lmx1a\\_\\_\\_Day5.obob5v5\\_\\_v\\_\\_Day5.obobBL6d5\\_\\_\\_bl6\\_grouping.neg\\_vs\\_none & all & Irx5\\_\\_Lmx1a & neuron & Day5 & obob5v5 & Day5 & obobBL6d5 & bl6\\_grouping & neg & ⋯ & 0.928 & 5.865052e-38 & ENSMUSG00000032036 & 76.19229 & 70 & 2686 & 0.02606106 & 0.1 & 150 & FALSE\\\\\n",
       "\t Irx5\\_\\_Lmx1a\\_\\_\\_Day5.obob5v5\\_\\_v\\_\\_Day5.obobBL6d5\\_\\_\\_bl6\\_grouping.neg\\_vs\\_none & all & Irx5\\_\\_Lmx1a & neuron & Day5 & obob5v5 & Day5 & obobBL6d5 & bl6\\_grouping & neg & ⋯ & 0.573 & 1.803130e-27 & ENSMUSG00000052560 & 59.22493 & 70 & 2686 & 0.02606106 & 0.1 & 150 & FALSE\\\\\n",
       "\t Irx5\\_\\_Lmx1a\\_\\_\\_Day5.obob5v5\\_\\_v\\_\\_Day5.obobBL6d5\\_\\_\\_bl6\\_grouping.neg\\_vs\\_none & all & Irx5\\_\\_Lmx1a & neuron & Day5 & obob5v5 & Day5 & obobBL6d5 & bl6\\_grouping & neg & ⋯ & 0.310 & 1.546440e-19 & ENSMUSG00000003746 & 57.65782 & 70 & 2686 & 0.02606106 & 0.1 & 150 & FALSE\\\\\n",
       "\t Irx5\\_\\_Lmx1a\\_\\_\\_Day5.obob5v5\\_\\_v\\_\\_Day5.obobBL6d5\\_\\_\\_bl6\\_grouping.neg\\_vs\\_none & all & Irx5\\_\\_Lmx1a & neuron & Day5 & obob5v5 & Day5 & obobBL6d5 & bl6\\_grouping & neg & ⋯ & 0.968 & 1.007724e-29 & ENSMUSG00000060882 & 50.97618 & 70 & 2686 & 0.02606106 & 0.1 & 150 & FALSE\\\\\n",
       "\t Irx5\\_\\_Lmx1a\\_\\_\\_Day5.obob5v5\\_\\_v\\_\\_Day5.obobBL6d5\\_\\_\\_bl6\\_grouping.neg\\_vs\\_none & all & Irx5\\_\\_Lmx1a & neuron & Day5 & obob5v5 & Day5 & obobBL6d5 & bl6\\_grouping & neg & ⋯ & 0.505 & 1.488160e-18 & ENSMUSG00000042581 & 49.00859 & 70 & 2686 & 0.02606106 & 0.1 & 150 & FALSE\\\\\n",
       "\t Irx5\\_\\_Lmx1a\\_\\_\\_Day5.obob5v5\\_\\_v\\_\\_Day5.obobBL6d5\\_\\_\\_bl6\\_grouping.neg\\_vs\\_none & all & Irx5\\_\\_Lmx1a & neuron & Day5 & obob5v5 & Day5 & obobBL6d5 & bl6\\_grouping & neg & ⋯ & 0.708 & 4.364260e-20 & ENSMUSG00000053141 & 46.42367 & 70 & 2686 & 0.02606106 & 0.1 & 150 & FALSE\\\\\n",
       "\t Irx5\\_\\_Lmx1a\\_\\_\\_Day5.obob5v5\\_\\_v\\_\\_Day5.obobBL6d5\\_\\_\\_bl6\\_grouping.neg\\_vs\\_none & all & Irx5\\_\\_Lmx1a & neuron & Day5 & obob5v5 & Day5 & obobBL6d5 & bl6\\_grouping & neg & ⋯ & 0.797 & 2.880795e-24 & ENSMUSG00000110246 & 44.35108 & 70 & 2686 & 0.02606106 & 0.1 & 150 & FALSE\\\\\n",
       "\t Irx5\\_\\_Lmx1a\\_\\_\\_Day5.obob5v5\\_\\_v\\_\\_Day5.obobBL6d5\\_\\_\\_bl6\\_grouping.neg\\_vs\\_none & all & Irx5\\_\\_Lmx1a & neuron & Day5 & obob5v5 & Day5 & obobBL6d5 & bl6\\_grouping & neg & ⋯ & 0.413 & 2.026959e-15 & ENSMUSG00000027200 & 44.21525 & 70 & 2686 & 0.02606106 & 0.1 & 150 & FALSE\\\\\n",
       "\t Irx5\\_\\_Lmx1a\\_\\_\\_Day5.obob5v5\\_\\_v\\_\\_Day5.obobBL6d5\\_\\_\\_bl6\\_grouping.neg\\_vs\\_none & all & Irx5\\_\\_Lmx1a & neuron & Day5 & obob5v5 & Day5 & obobBL6d5 & bl6\\_grouping & neg & ⋯ & 0.447 & 5.460583e-15 & ENSMUSG00000058571 & 43.40864 & 70 & 2686 & 0.02606106 & 0.1 & 150 & FALSE\\\\\n",
       "\t Irx5\\_\\_Lmx1a\\_\\_\\_Day5.obob5v5\\_\\_v\\_\\_Day5.obobBL6d5\\_\\_\\_bl6\\_grouping.neg\\_vs\\_none & all & Irx5\\_\\_Lmx1a & neuron & Day5 & obob5v5 & Day5 & obobBL6d5 & bl6\\_grouping & neg & ⋯ & 0.728 & 1.141848e-20 & ENSMUSG00000057715 & 39.93581 & 70 & 2686 & 0.02606106 & 0.1 & 150 & FALSE\\\\\n",
       "\t Irx5\\_\\_Lmx1a\\_\\_\\_Day5.obob5v5\\_\\_v\\_\\_Day5.obobBL6d5\\_\\_\\_bl6\\_grouping.neg\\_vs\\_none & all & Irx5\\_\\_Lmx1a & neuron & Day5 & obob5v5 & Day5 & obobBL6d5 & bl6\\_grouping & neg & ⋯ & 0.619 & 1.617119e-22 & ENSMUSG00000070498 & 36.94399 & 70 & 2686 & 0.02606106 & 0.1 & 150 & FALSE\\\\\n",
       "\t Irx5\\_\\_Lmx1a\\_\\_\\_Day5.obob5v5\\_\\_v\\_\\_Day5.obobBL6d5\\_\\_\\_bl6\\_grouping.neg\\_vs\\_none & all & Irx5\\_\\_Lmx1a & neuron & Day5 & obob5v5 & Day5 & obobBL6d5 & bl6\\_grouping & neg & ⋯ & 0.227 & 5.074504e-15 & ENSMUSG00000025324 & 33.86847 & 70 & 2686 & 0.02606106 & 0.1 & 150 & FALSE\\\\\n",
       "\t Irx5\\_\\_Lmx1a\\_\\_\\_Day5.obob5v5\\_\\_v\\_\\_Day5.obobBL6d5\\_\\_\\_bl6\\_grouping.neg\\_vs\\_none & all & Irx5\\_\\_Lmx1a & neuron & Day5 & obob5v5 & Day5 & obobBL6d5 & bl6\\_grouping & neg & ⋯ & 0.386 & 5.826458e-16 & ENSMUSG00000030525 & 33.85734 & 70 & 2686 & 0.02606106 & 0.1 & 150 & FALSE\\\\\n",
       "\t Irx5\\_\\_Lmx1a\\_\\_\\_Day5.obob5v5\\_\\_v\\_\\_Day5.obobBL6d5\\_\\_\\_bl6\\_grouping.neg\\_vs\\_none & all & Irx5\\_\\_Lmx1a & neuron & Day5 & obob5v5 & Day5 & obobBL6d5 & bl6\\_grouping & neg & ⋯ & 0.810 & 6.707559e-19 & ENSMUSG00000029245 & 31.12714 & 70 & 2686 & 0.02606106 & 0.1 & 150 & FALSE\\\\\n",
       "\t Irx5\\_\\_Lmx1a\\_\\_\\_Day5.obob5v5\\_\\_v\\_\\_Day5.obobBL6d5\\_\\_\\_bl6\\_grouping.neg\\_vs\\_none & all & Irx5\\_\\_Lmx1a & neuron & Day5 & obob5v5 & Day5 & obobBL6d5 & bl6\\_grouping & neg & ⋯ & 0.297 & 1.796814e-11 & ENSMUSG00000055471 & 28.44384 & 70 & 2686 & 0.02606106 & 0.1 & 150 & FALSE\\\\\n",
       "\t Irx5\\_\\_Lmx1a\\_\\_\\_Day5.obob5v5\\_\\_v\\_\\_Day5.obobBL6d5\\_\\_\\_bl6\\_grouping.neg\\_vs\\_none & all & Irx5\\_\\_Lmx1a & neuron & Day5 & obob5v5 & Day5 & obobBL6d5 & bl6\\_grouping & neg & ⋯ & 0.803 & 5.618840e-16 & ENSMUSG00000031559 & 28.20789 & 70 & 2686 & 0.02606106 & 0.1 & 150 & FALSE\\\\\n",
       "\t Irx5\\_\\_Lmx1a\\_\\_\\_Day5.obob5v5\\_\\_v\\_\\_Day5.obobBL6d5\\_\\_\\_bl6\\_grouping.neg\\_vs\\_none & all & Irx5\\_\\_Lmx1a & neuron & Day5 & obob5v5 & Day5 & obobBL6d5 & bl6\\_grouping & neg & ⋯ & 0.477 & 1.167466e-14 & ENSMUSG00000022790 & 27.53725 & 70 & 2686 & 0.02606106 & 0.1 & 150 & FALSE\\\\\n",
       "\t Irx5\\_\\_Lmx1a\\_\\_\\_Day5.obob5v5\\_\\_v\\_\\_Day5.obobBL6d5\\_\\_\\_bl6\\_grouping.neg\\_vs\\_none & all & Irx5\\_\\_Lmx1a & neuron & Day5 & obob5v5 & Day5 & obobBL6d5 & bl6\\_grouping & neg & ⋯ & 0.433 & 2.407272e-13 & ENSMUSG00000116769 & 24.19651 & 70 & 2686 & 0.02606106 & 0.1 & 150 & FALSE\\\\\n",
       "\t Irx5\\_\\_Lmx1a\\_\\_\\_Day5.obob5v5\\_\\_v\\_\\_Day5.obobBL6d5\\_\\_\\_bl6\\_grouping.neg\\_vs\\_none & all & Irx5\\_\\_Lmx1a & neuron & Day5 & obob5v5 & Day5 & obobBL6d5 & bl6\\_grouping & neg & ⋯ & 0.692 & 6.554293e-13 & ENSMUSG00000031841 & 23.05425 & 70 & 2686 & 0.02606106 & 0.1 & 150 & FALSE\\\\\n",
       "\t Irx5\\_\\_Lmx1a\\_\\_\\_Day5.obob5v5\\_\\_v\\_\\_Day5.obobBL6d5\\_\\_\\_bl6\\_grouping.neg\\_vs\\_none & all & Irx5\\_\\_Lmx1a & neuron & Day5 & obob5v5 & Day5 & obobBL6d5 & bl6\\_grouping & neg & ⋯ & 0.252 & 7.243389e-11 & ENSMUSG00000032020 & 22.99211 & 70 & 2686 & 0.02606106 & 0.1 & 150 & FALSE\\\\\n",
       "\t Irx5\\_\\_Lmx1a\\_\\_\\_Day5.obob5v5\\_\\_v\\_\\_Day5.obobBL6d5\\_\\_\\_bl6\\_grouping.neg\\_vs\\_none & all & Irx5\\_\\_Lmx1a & neuron & Day5 & obob5v5 & Day5 & obobBL6d5 & bl6\\_grouping & neg & ⋯ & 0.343 & 3.143020e-11 & ENSMUSG00000026970 & 22.83748 & 70 & 2686 & 0.02606106 & 0.1 & 150 & FALSE\\\\\n",
       "\t Irx5\\_\\_Lmx1a\\_\\_\\_Day5.obob5v5\\_\\_v\\_\\_Day5.obobBL6d5\\_\\_\\_bl6\\_grouping.neg\\_vs\\_none & all & Irx5\\_\\_Lmx1a & neuron & Day5 & obob5v5 & Day5 & obobBL6d5 & bl6\\_grouping & neg & ⋯ & 0.331 & 4.660888e-11 & ENSMUSG00000001985 & 22.53042 & 70 & 2686 & 0.02606106 & 0.1 & 150 & FALSE\\\\\n",
       "\t Irx5\\_\\_Lmx1a\\_\\_\\_Day5.obob5v5\\_\\_v\\_\\_Day5.obobBL6d5\\_\\_\\_bl6\\_grouping.neg\\_vs\\_none & all & Irx5\\_\\_Lmx1a & neuron & Day5 & obob5v5 & Day5 & obobBL6d5 & bl6\\_grouping & neg & ⋯ & 0.846 & 1.212435e-13 & ENSMUSG00000037940 & 20.64934 & 70 & 2686 & 0.02606106 & 0.1 & 150 & FALSE\\\\\n",
       "\t Irx5\\_\\_Lmx1a\\_\\_\\_Day5.obob5v5\\_\\_v\\_\\_Day5.obobBL6d5\\_\\_\\_bl6\\_grouping.neg\\_vs\\_none & all & Irx5\\_\\_Lmx1a & neuron & Day5 & obob5v5 & Day5 & obobBL6d5 & bl6\\_grouping & neg & ⋯ & 0.730 & 2.757048e-13 & ENSMUSG00000047907 & 20.52821 & 70 & 2686 & 0.02606106 & 0.1 & 150 & FALSE\\\\\n",
       "\t Irx5\\_\\_Lmx1a\\_\\_\\_Day5.obob5v5\\_\\_v\\_\\_Day5.obobBL6d5\\_\\_\\_bl6\\_grouping.neg\\_vs\\_none & all & Irx5\\_\\_Lmx1a & neuron & Day5 & obob5v5 & Day5 & obobBL6d5 & bl6\\_grouping & neg & ⋯ & 0.794 & 3.580254e-16 & ENSMUSG00000003992 & 20.01030 & 70 & 2686 & 0.02606106 & 0.1 & 150 & FALSE\\\\\n",
       "\t Irx5\\_\\_Lmx1a\\_\\_\\_Day5.obob5v5\\_\\_v\\_\\_Day5.obobBL6d5\\_\\_\\_bl6\\_grouping.neg\\_vs\\_none & all & Irx5\\_\\_Lmx1a & neuron & Day5 & obob5v5 & Day5 & obobBL6d5 & bl6\\_grouping & neg & ⋯ & 0.166 & 2.715562e-08 & ENSMUSG00000087104 & 18.91683 & 70 & 2686 & 0.02606106 & 0.1 & 150 & FALSE\\\\\n",
       "\t Irx5\\_\\_Lmx1a\\_\\_\\_Day5.obob5v5\\_\\_v\\_\\_Day5.obobBL6d5\\_\\_\\_bl6\\_grouping.neg\\_vs\\_none & all & Irx5\\_\\_Lmx1a & neuron & Day5 & obob5v5 & Day5 & obobBL6d5 & bl6\\_grouping & neg & ⋯ & 0.177 & 5.337225e-08 & ENSMUSG00000034324 & 18.51730 & 70 & 2686 & 0.02606106 & 0.1 & 150 & FALSE\\\\\n",
       "\t Irx5\\_\\_Lmx1a\\_\\_\\_Day5.obob5v5\\_\\_v\\_\\_Day5.obobBL6d5\\_\\_\\_bl6\\_grouping.neg\\_vs\\_none & all & Irx5\\_\\_Lmx1a & neuron & Day5 & obob5v5 & Day5 & obobBL6d5 & bl6\\_grouping & neg & ⋯ & 0.996 & 4.096256e-16 & ENSMUSG00000033569 & 17.68373 & 70 & 2686 & 0.02606106 & 0.1 & 150 & FALSE\\\\\n",
       "\t ⋮ & ⋮ & ⋮ & ⋮ & ⋮ & ⋮ & ⋮ & ⋮ & ⋮ & ⋮ & ⋱ & ⋮ & ⋮ & ⋮ & ⋮ & ⋮ & ⋮ & ⋮ & ⋮ & ⋮ & ⋮\\\\\n",
       "\t Irx5\\_\\_Lmx1a\\_\\_\\_Day5.obob5v5\\_\\_v\\_\\_Day5.obobBL6d5\\_\\_\\_restored\\_grouping.pos\\_restored\\_vs\\_none & all & Irx5\\_\\_Lmx1a & neuron & Day5 & obob5v5 & Day5 & obobBL6d5 & restored\\_grouping & pos\\_restored & ⋯ & 0.356 & 0.0151014736 & ENSMUSG00000018589 & 2.7741258 & 70 & 2686 & 0.02606106 & 0.1 & 150 & FALSE\\\\\n",
       "\t Irx5\\_\\_Lmx1a\\_\\_\\_Day5.obob5v5\\_\\_v\\_\\_Day5.obobBL6d5\\_\\_\\_restored\\_grouping.pos\\_restored\\_vs\\_none & all & Irx5\\_\\_Lmx1a & neuron & Day5 & obob5v5 & Day5 & obobBL6d5 & restored\\_grouping & pos\\_restored & ⋯ & 0.913 & 0.0011791862 & ENSMUSG00000016150 & 2.6713017 & 70 & 2686 & 0.02606106 & 0.1 & 150 & FALSE\\\\\n",
       "\t Irx5\\_\\_Lmx1a\\_\\_\\_Day5.obob5v5\\_\\_v\\_\\_Day5.obobBL6d5\\_\\_\\_restored\\_grouping.pos\\_restored\\_vs\\_none & all & Irx5\\_\\_Lmx1a & neuron & Day5 & obob5v5 & Day5 & obobBL6d5 & restored\\_grouping & pos\\_restored & ⋯ & 0.291 & 0.0079167486 & ENSMUSG00000024222 & 2.6567373 & 70 & 2686 & 0.02606106 & 0.1 & 150 & FALSE\\\\\n",
       "\t Irx5\\_\\_Lmx1a\\_\\_\\_Day5.obob5v5\\_\\_v\\_\\_Day5.obobBL6d5\\_\\_\\_restored\\_grouping.pos\\_restored\\_vs\\_none & all & Irx5\\_\\_Lmx1a & neuron & Day5 & obob5v5 & Day5 & obobBL6d5 & restored\\_grouping & pos\\_restored & ⋯ & 0.388 & 0.0060853109 & ENSMUSG00000109382 & 2.6529373 & 70 & 2686 & 0.02606106 & 0.1 & 150 & FALSE\\\\\n",
       "\t Irx5\\_\\_Lmx1a\\_\\_\\_Day5.obob5v5\\_\\_v\\_\\_Day5.obobBL6d5\\_\\_\\_restored\\_grouping.pos\\_restored\\_vs\\_none & all & Irx5\\_\\_Lmx1a & neuron & Day5 & obob5v5 & Day5 & obobBL6d5 & restored\\_grouping & pos\\_restored & ⋯ & 0.113 & 0.0389536901 & ENSMUSG00000022836 & 2.6104683 & 70 & 2686 & 0.02606106 & 0.1 & 150 & FALSE\\\\\n",
       "\t Irx5\\_\\_Lmx1a\\_\\_\\_Day5.obob5v5\\_\\_v\\_\\_Day5.obobBL6d5\\_\\_\\_restored\\_grouping.pos\\_restored\\_vs\\_none & all & Irx5\\_\\_Lmx1a & neuron & Day5 & obob5v5 & Day5 & obobBL6d5 & restored\\_grouping & pos\\_restored & ⋯ & 0.384 & 0.0157639731 & ENSMUSG00000023927 & 2.6096485 & 70 & 2686 & 0.02606106 & 0.1 & 150 & FALSE\\\\\n",
       "\t Irx5\\_\\_Lmx1a\\_\\_\\_Day5.obob5v5\\_\\_v\\_\\_Day5.obobBL6d5\\_\\_\\_restored\\_grouping.pos\\_restored\\_vs\\_none & all & Irx5\\_\\_Lmx1a & neuron & Day5 & obob5v5 & Day5 & obobBL6d5 & restored\\_grouping & pos\\_restored & ⋯ & 0.319 & 0.0092637816 & ENSMUSG00000034037 & 2.6009477 & 70 & 2686 & 0.02606106 & 0.1 & 150 & FALSE\\\\\n",
       "\t Irx5\\_\\_Lmx1a\\_\\_\\_Day5.obob5v5\\_\\_v\\_\\_Day5.obobBL6d5\\_\\_\\_restored\\_grouping.pos\\_restored\\_vs\\_none & all & Irx5\\_\\_Lmx1a & neuron & Day5 & obob5v5 & Day5 & obobBL6d5 & restored\\_grouping & pos\\_restored & ⋯ & 0.538 & 0.0019959401 & ENSMUSG00000042589 & 2.5908531 & 70 & 2686 & 0.02606106 & 0.1 & 150 & FALSE\\\\\n",
       "\t Irx5\\_\\_Lmx1a\\_\\_\\_Day5.obob5v5\\_\\_v\\_\\_Day5.obobBL6d5\\_\\_\\_restored\\_grouping.pos\\_restored\\_vs\\_none & all & Irx5\\_\\_Lmx1a & neuron & Day5 & obob5v5 & Day5 & obobBL6d5 & restored\\_grouping & pos\\_restored & ⋯ & 0.724 & 0.0015348356 & ENSMUSG00000026347 & 2.3656765 & 70 & 2686 & 0.02606106 & 0.1 & 150 & FALSE\\\\\n",
       "\t Irx5\\_\\_Lmx1a\\_\\_\\_Day5.obob5v5\\_\\_v\\_\\_Day5.obobBL6d5\\_\\_\\_restored\\_grouping.pos\\_restored\\_vs\\_none & all & Irx5\\_\\_Lmx1a & neuron & Day5 & obob5v5 & Day5 & obobBL6d5 & restored\\_grouping & pos\\_restored & ⋯ & 0.266 & 0.0142626455 & ENSMUSG00000028909 & 2.3450085 & 70 & 2686 & 0.02606106 & 0.1 & 150 & FALSE\\\\\n",
       "\t Irx5\\_\\_Lmx1a\\_\\_\\_Day5.obob5v5\\_\\_v\\_\\_Day5.obobBL6d5\\_\\_\\_restored\\_grouping.pos\\_restored\\_vs\\_none & all & Irx5\\_\\_Lmx1a & neuron & Day5 & obob5v5 & Day5 & obobBL6d5 & restored\\_grouping & pos\\_restored & ⋯ & 0.993 & 0.0002700773 & ENSMUSG00000035653 & 2.3405683 & 70 & 2686 & 0.02606106 & 0.1 & 150 & FALSE\\\\\n",
       "\t Irx5\\_\\_Lmx1a\\_\\_\\_Day5.obob5v5\\_\\_v\\_\\_Day5.obobBL6d5\\_\\_\\_restored\\_grouping.pos\\_restored\\_vs\\_none & all & Irx5\\_\\_Lmx1a & neuron & Day5 & obob5v5 & Day5 & obobBL6d5 & restored\\_grouping & pos\\_restored & ⋯ & 0.276 & 0.0226238890 & ENSMUSG00000018417 & 2.2496817 & 70 & 2686 & 0.02606106 & 0.1 & 150 & FALSE\\\\\n",
       "\t Irx5\\_\\_Lmx1a\\_\\_\\_Day5.obob5v5\\_\\_v\\_\\_Day5.obobBL6d5\\_\\_\\_restored\\_grouping.pos\\_restored\\_vs\\_none & all & Irx5\\_\\_Lmx1a & neuron & Day5 & obob5v5 & Day5 & obobBL6d5 & restored\\_grouping & pos\\_restored & ⋯ & 0.580 & 0.0089997420 & ENSMUSG00000053519 & 2.1822697 & 70 & 2686 & 0.02606106 & 0.1 & 150 & FALSE\\\\\n",
       "\t Irx5\\_\\_Lmx1a\\_\\_\\_Day5.obob5v5\\_\\_v\\_\\_Day5.obobBL6d5\\_\\_\\_restored\\_grouping.pos\\_restored\\_vs\\_none & all & Irx5\\_\\_Lmx1a & neuron & Day5 & obob5v5 & Day5 & obobBL6d5 & restored\\_grouping & pos\\_restored & ⋯ & 0.768 & 0.0085140466 & ENSMUSG00000021991 & 2.1700148 & 70 & 2686 & 0.02606106 & 0.1 & 150 & FALSE\\\\\n",
       "\t Irx5\\_\\_Lmx1a\\_\\_\\_Day5.obob5v5\\_\\_v\\_\\_Day5.obobBL6d5\\_\\_\\_restored\\_grouping.pos\\_restored\\_vs\\_none & all & Irx5\\_\\_Lmx1a & neuron & Day5 & obob5v5 & Day5 & obobBL6d5 & restored\\_grouping & pos\\_restored & ⋯ & 0.888 & 0.0023695694 & ENSMUSG00000042757 & 1.9349044 & 70 & 2686 & 0.02606106 & 0.1 & 150 & FALSE\\\\\n",
       "\t Irx5\\_\\_Lmx1a\\_\\_\\_Day5.obob5v5\\_\\_v\\_\\_Day5.obobBL6d5\\_\\_\\_restored\\_grouping.pos\\_restored\\_vs\\_none & all & Irx5\\_\\_Lmx1a & neuron & Day5 & obob5v5 & Day5 & obobBL6d5 & restored\\_grouping & pos\\_restored & ⋯ & 0.433 & 0.0136209527 & ENSMUSG00000055078 & 1.9175289 & 70 & 2686 & 0.02606106 & 0.1 & 150 & FALSE\\\\\n",
       "\t Irx5\\_\\_Lmx1a\\_\\_\\_Day5.obob5v5\\_\\_v\\_\\_Day5.obobBL6d5\\_\\_\\_restored\\_grouping.pos\\_restored\\_vs\\_none & all & Irx5\\_\\_Lmx1a & neuron & Day5 & obob5v5 & Day5 & obobBL6d5 & restored\\_grouping & pos\\_restored & ⋯ & 0.712 & 0.0104989675 & ENSMUSG00000015882 & 1.8027680 & 70 & 2686 & 0.02606106 & 0.1 & 150 & FALSE\\\\\n",
       "\t Irx5\\_\\_Lmx1a\\_\\_\\_Day5.obob5v5\\_\\_v\\_\\_Day5.obobBL6d5\\_\\_\\_restored\\_grouping.pos\\_restored\\_vs\\_none & all & Irx5\\_\\_Lmx1a & neuron & Day5 & obob5v5 & Day5 & obobBL6d5 & restored\\_grouping & pos\\_restored & ⋯ & 0.519 & 0.0125582547 & ENSMUSG00000021662 & 1.7984129 & 70 & 2686 & 0.02606106 & 0.1 & 150 & FALSE\\\\\n",
       "\t Irx5\\_\\_Lmx1a\\_\\_\\_Day5.obob5v5\\_\\_v\\_\\_Day5.obobBL6d5\\_\\_\\_restored\\_grouping.pos\\_restored\\_vs\\_none & all & Irx5\\_\\_Lmx1a & neuron & Day5 & obob5v5 & Day5 & obobBL6d5 & restored\\_grouping & pos\\_restored & ⋯ & 0.563 & 0.0334686144 & ENSMUSG00000022307 & 1.7536159 & 70 & 2686 & 0.02606106 & 0.1 & 150 & FALSE\\\\\n",
       "\t Irx5\\_\\_Lmx1a\\_\\_\\_Day5.obob5v5\\_\\_v\\_\\_Day5.obobBL6d5\\_\\_\\_restored\\_grouping.pos\\_restored\\_vs\\_none & all & Irx5\\_\\_Lmx1a & neuron & Day5 & obob5v5 & Day5 & obobBL6d5 & restored\\_grouping & pos\\_restored & ⋯ & 0.290 & 0.0336574787 & ENSMUSG00000032750 & 1.7297004 & 70 & 2686 & 0.02606106 & 0.1 & 150 & FALSE\\\\\n",
       "\t Irx5\\_\\_Lmx1a\\_\\_\\_Day5.obob5v5\\_\\_v\\_\\_Day5.obobBL6d5\\_\\_\\_restored\\_grouping.pos\\_restored\\_vs\\_none & all & Irx5\\_\\_Lmx1a & neuron & Day5 & obob5v5 & Day5 & obobBL6d5 & restored\\_grouping & pos\\_restored & ⋯ & 0.795 & 0.0281559837 & ENSMUSG00000028033 & 1.5985060 & 70 & 2686 & 0.02606106 & 0.1 & 150 & FALSE\\\\\n",
       "\t Irx5\\_\\_Lmx1a\\_\\_\\_Day5.obob5v5\\_\\_v\\_\\_Day5.obobBL6d5\\_\\_\\_restored\\_grouping.pos\\_restored\\_vs\\_none & all & Irx5\\_\\_Lmx1a & neuron & Day5 & obob5v5 & Day5 & obobBL6d5 & restored\\_grouping & pos\\_restored & ⋯ & 0.339 & 0.0488449227 & ENSMUSG00000031292 & 1.5610568 & 70 & 2686 & 0.02606106 & 0.1 & 150 & FALSE\\\\\n",
       "\t Irx5\\_\\_Lmx1a\\_\\_\\_Day5.obob5v5\\_\\_v\\_\\_Day5.obobBL6d5\\_\\_\\_restored\\_grouping.pos\\_restored\\_vs\\_none & all & Irx5\\_\\_Lmx1a & neuron & Day5 & obob5v5 & Day5 & obobBL6d5 & restored\\_grouping & pos\\_restored & ⋯ & 0.508 & 0.0219487313 & ENSMUSG00000002266 & 1.4871771 & 70 & 2686 & 0.02606106 & 0.1 & 150 & FALSE\\\\\n",
       "\t Irx5\\_\\_Lmx1a\\_\\_\\_Day5.obob5v5\\_\\_v\\_\\_Day5.obobBL6d5\\_\\_\\_restored\\_grouping.pos\\_restored\\_vs\\_none & all & Irx5\\_\\_Lmx1a & neuron & Day5 & obob5v5 & Day5 & obobBL6d5 & restored\\_grouping & pos\\_restored & ⋯ & 0.876 & 0.0335122819 & ENSMUSG00000063600 & 1.3773305 & 70 & 2686 & 0.02606106 & 0.1 & 150 & FALSE\\\\\n",
       "\t Irx5\\_\\_Lmx1a\\_\\_\\_Day5.obob5v5\\_\\_v\\_\\_Day5.obobBL6d5\\_\\_\\_restored\\_grouping.pos\\_restored\\_vs\\_none & all & Irx5\\_\\_Lmx1a & neuron & Day5 & obob5v5 & Day5 & obobBL6d5 & restored\\_grouping & pos\\_restored & ⋯ & 0.827 & 0.0184356100 & ENSMUSG00000028926 & 1.3704489 & 70 & 2686 & 0.02606106 & 0.1 & 150 & FALSE\\\\\n",
       "\t Irx5\\_\\_Lmx1a\\_\\_\\_Day5.obob5v5\\_\\_v\\_\\_Day5.obobBL6d5\\_\\_\\_restored\\_grouping.pos\\_restored\\_vs\\_none & all & Irx5\\_\\_Lmx1a & neuron & Day5 & obob5v5 & Day5 & obobBL6d5 & restored\\_grouping & pos\\_restored & ⋯ & 0.916 & 0.0103394764 & ENSMUSG00000027012 & 1.3438973 & 70 & 2686 & 0.02606106 & 0.1 & 150 & FALSE\\\\\n",
       "\t Irx5\\_\\_Lmx1a\\_\\_\\_Day5.obob5v5\\_\\_v\\_\\_Day5.obobBL6d5\\_\\_\\_restored\\_grouping.pos\\_restored\\_vs\\_none & all & Irx5\\_\\_Lmx1a & neuron & Day5 & obob5v5 & Day5 & obobBL6d5 & restored\\_grouping & pos\\_restored & ⋯ & 0.663 & 0.0239206819 & ENSMUSG00000028149 & 1.3248579 & 70 & 2686 & 0.02606106 & 0.1 & 150 & FALSE\\\\\n",
       "\t Irx5\\_\\_Lmx1a\\_\\_\\_Day5.obob5v5\\_\\_v\\_\\_Day5.obobBL6d5\\_\\_\\_restored\\_grouping.pos\\_restored\\_vs\\_none & all & Irx5\\_\\_Lmx1a & neuron & Day5 & obob5v5 & Day5 & obobBL6d5 & restored\\_grouping & pos\\_restored & ⋯ & 0.541 & 0.0393218067 & ENSMUSG00000064210 & 1.2457036 & 70 & 2686 & 0.02606106 & 0.1 & 150 & FALSE\\\\\n",
       "\t Irx5\\_\\_Lmx1a\\_\\_\\_Day5.obob5v5\\_\\_v\\_\\_Day5.obobBL6d5\\_\\_\\_restored\\_grouping.pos\\_restored\\_vs\\_none & all & Irx5\\_\\_Lmx1a & neuron & Day5 & obob5v5 & Day5 & obobBL6d5 & restored\\_grouping & pos\\_restored & ⋯ & 0.815 & 0.0349145728 & ENSMUSG00000034751 & 1.0300736 & 70 & 2686 & 0.02606106 & 0.1 & 150 & FALSE\\\\\n",
       "\t Irx5\\_\\_Lmx1a\\_\\_\\_Day5.obob5v5\\_\\_v\\_\\_Day5.obobBL6d5\\_\\_\\_restored\\_grouping.pos\\_restored\\_vs\\_none & all & Irx5\\_\\_Lmx1a & neuron & Day5 & obob5v5 & Day5 & obobBL6d5 & restored\\_grouping & pos\\_restored & ⋯ & 1.000 & 0.0311891480 & ENSMUSG00000061080 & 0.8897445 & 70 & 2686 & 0.02606106 & 0.1 & 150 & FALSE\\\\\n",
       "\\end{tabular}\n"
      ],
      "text/markdown": [
       "\n",
       "A tibble: 372 × 25\n",
       "\n",
       "| tag &lt;chr&gt; | data_day &lt;chr&gt; | cluster &lt;chr&gt; | class &lt;chr&gt; | fgf1_day &lt;chr&gt; | fgf1_comparison &lt;chr&gt; | bl6_day &lt;chr&gt; | bl6_comparison &lt;chr&gt; | grouping &lt;chr&gt; | cells_a &lt;chr&gt; | ⋯ ⋯ | pct.2 &lt;dbl&gt; | p_val_adj &lt;dbl&gt; | ensmusg &lt;chr&gt; | gsea_sort_score &lt;dbl&gt; | count &lt;int&gt; | total_cells &lt;int&gt; | frac &lt;dbl&gt; | frac_cutoff &lt;dbl&gt; | n_cells_cutoff &lt;dbl&gt; | n_cells_valid &lt;lgl&gt; |\n",
       "|---|---|---|---|---|---|---|---|---|---|---|---|---|---|---|---|---|---|---|---|---|\n",
       "| Irx5__Lmx1a___Day5.obob5v5__v__Day5.obobBL6d5___bl6_grouping.neg_vs_none | all | Irx5__Lmx1a | neuron | Day5 | obob5v5 | Day5 | obobBL6d5 | bl6_grouping | neg | ⋯ | 0.479 | 5.957054e-25 | ENSMUSG00000022112 | 86.15425 | 70 | 2686 | 0.02606106 | 0.1 | 150 | FALSE |\n",
       "| Irx5__Lmx1a___Day5.obob5v5__v__Day5.obobBL6d5___bl6_grouping.neg_vs_none | all | Irx5__Lmx1a | neuron | Day5 | obob5v5 | Day5 | obobBL6d5 | bl6_grouping | neg | ⋯ | 0.896 | 2.829428e-32 | ENSMUSG00000019888 | 78.14768 | 70 | 2686 | 0.02606106 | 0.1 | 150 | FALSE |\n",
       "| Irx5__Lmx1a___Day5.obob5v5__v__Day5.obobBL6d5___bl6_grouping.neg_vs_none | all | Irx5__Lmx1a | neuron | Day5 | obob5v5 | Day5 | obobBL6d5 | bl6_grouping | neg | ⋯ | 0.928 | 5.865052e-38 | ENSMUSG00000032036 | 76.19229 | 70 | 2686 | 0.02606106 | 0.1 | 150 | FALSE |\n",
       "| Irx5__Lmx1a___Day5.obob5v5__v__Day5.obobBL6d5___bl6_grouping.neg_vs_none | all | Irx5__Lmx1a | neuron | Day5 | obob5v5 | Day5 | obobBL6d5 | bl6_grouping | neg | ⋯ | 0.573 | 1.803130e-27 | ENSMUSG00000052560 | 59.22493 | 70 | 2686 | 0.02606106 | 0.1 | 150 | FALSE |\n",
       "| Irx5__Lmx1a___Day5.obob5v5__v__Day5.obobBL6d5___bl6_grouping.neg_vs_none | all | Irx5__Lmx1a | neuron | Day5 | obob5v5 | Day5 | obobBL6d5 | bl6_grouping | neg | ⋯ | 0.310 | 1.546440e-19 | ENSMUSG00000003746 | 57.65782 | 70 | 2686 | 0.02606106 | 0.1 | 150 | FALSE |\n",
       "| Irx5__Lmx1a___Day5.obob5v5__v__Day5.obobBL6d5___bl6_grouping.neg_vs_none | all | Irx5__Lmx1a | neuron | Day5 | obob5v5 | Day5 | obobBL6d5 | bl6_grouping | neg | ⋯ | 0.968 | 1.007724e-29 | ENSMUSG00000060882 | 50.97618 | 70 | 2686 | 0.02606106 | 0.1 | 150 | FALSE |\n",
       "| Irx5__Lmx1a___Day5.obob5v5__v__Day5.obobBL6d5___bl6_grouping.neg_vs_none | all | Irx5__Lmx1a | neuron | Day5 | obob5v5 | Day5 | obobBL6d5 | bl6_grouping | neg | ⋯ | 0.505 | 1.488160e-18 | ENSMUSG00000042581 | 49.00859 | 70 | 2686 | 0.02606106 | 0.1 | 150 | FALSE |\n",
       "| Irx5__Lmx1a___Day5.obob5v5__v__Day5.obobBL6d5___bl6_grouping.neg_vs_none | all | Irx5__Lmx1a | neuron | Day5 | obob5v5 | Day5 | obobBL6d5 | bl6_grouping | neg | ⋯ | 0.708 | 4.364260e-20 | ENSMUSG00000053141 | 46.42367 | 70 | 2686 | 0.02606106 | 0.1 | 150 | FALSE |\n",
       "| Irx5__Lmx1a___Day5.obob5v5__v__Day5.obobBL6d5___bl6_grouping.neg_vs_none | all | Irx5__Lmx1a | neuron | Day5 | obob5v5 | Day5 | obobBL6d5 | bl6_grouping | neg | ⋯ | 0.797 | 2.880795e-24 | ENSMUSG00000110246 | 44.35108 | 70 | 2686 | 0.02606106 | 0.1 | 150 | FALSE |\n",
       "| Irx5__Lmx1a___Day5.obob5v5__v__Day5.obobBL6d5___bl6_grouping.neg_vs_none | all | Irx5__Lmx1a | neuron | Day5 | obob5v5 | Day5 | obobBL6d5 | bl6_grouping | neg | ⋯ | 0.413 | 2.026959e-15 | ENSMUSG00000027200 | 44.21525 | 70 | 2686 | 0.02606106 | 0.1 | 150 | FALSE |\n",
       "| Irx5__Lmx1a___Day5.obob5v5__v__Day5.obobBL6d5___bl6_grouping.neg_vs_none | all | Irx5__Lmx1a | neuron | Day5 | obob5v5 | Day5 | obobBL6d5 | bl6_grouping | neg | ⋯ | 0.447 | 5.460583e-15 | ENSMUSG00000058571 | 43.40864 | 70 | 2686 | 0.02606106 | 0.1 | 150 | FALSE |\n",
       "| Irx5__Lmx1a___Day5.obob5v5__v__Day5.obobBL6d5___bl6_grouping.neg_vs_none | all | Irx5__Lmx1a | neuron | Day5 | obob5v5 | Day5 | obobBL6d5 | bl6_grouping | neg | ⋯ | 0.728 | 1.141848e-20 | ENSMUSG00000057715 | 39.93581 | 70 | 2686 | 0.02606106 | 0.1 | 150 | FALSE |\n",
       "| Irx5__Lmx1a___Day5.obob5v5__v__Day5.obobBL6d5___bl6_grouping.neg_vs_none | all | Irx5__Lmx1a | neuron | Day5 | obob5v5 | Day5 | obobBL6d5 | bl6_grouping | neg | ⋯ | 0.619 | 1.617119e-22 | ENSMUSG00000070498 | 36.94399 | 70 | 2686 | 0.02606106 | 0.1 | 150 | FALSE |\n",
       "| Irx5__Lmx1a___Day5.obob5v5__v__Day5.obobBL6d5___bl6_grouping.neg_vs_none | all | Irx5__Lmx1a | neuron | Day5 | obob5v5 | Day5 | obobBL6d5 | bl6_grouping | neg | ⋯ | 0.227 | 5.074504e-15 | ENSMUSG00000025324 | 33.86847 | 70 | 2686 | 0.02606106 | 0.1 | 150 | FALSE |\n",
       "| Irx5__Lmx1a___Day5.obob5v5__v__Day5.obobBL6d5___bl6_grouping.neg_vs_none | all | Irx5__Lmx1a | neuron | Day5 | obob5v5 | Day5 | obobBL6d5 | bl6_grouping | neg | ⋯ | 0.386 | 5.826458e-16 | ENSMUSG00000030525 | 33.85734 | 70 | 2686 | 0.02606106 | 0.1 | 150 | FALSE |\n",
       "| Irx5__Lmx1a___Day5.obob5v5__v__Day5.obobBL6d5___bl6_grouping.neg_vs_none | all | Irx5__Lmx1a | neuron | Day5 | obob5v5 | Day5 | obobBL6d5 | bl6_grouping | neg | ⋯ | 0.810 | 6.707559e-19 | ENSMUSG00000029245 | 31.12714 | 70 | 2686 | 0.02606106 | 0.1 | 150 | FALSE |\n",
       "| Irx5__Lmx1a___Day5.obob5v5__v__Day5.obobBL6d5___bl6_grouping.neg_vs_none | all | Irx5__Lmx1a | neuron | Day5 | obob5v5 | Day5 | obobBL6d5 | bl6_grouping | neg | ⋯ | 0.297 | 1.796814e-11 | ENSMUSG00000055471 | 28.44384 | 70 | 2686 | 0.02606106 | 0.1 | 150 | FALSE |\n",
       "| Irx5__Lmx1a___Day5.obob5v5__v__Day5.obobBL6d5___bl6_grouping.neg_vs_none | all | Irx5__Lmx1a | neuron | Day5 | obob5v5 | Day5 | obobBL6d5 | bl6_grouping | neg | ⋯ | 0.803 | 5.618840e-16 | ENSMUSG00000031559 | 28.20789 | 70 | 2686 | 0.02606106 | 0.1 | 150 | FALSE |\n",
       "| Irx5__Lmx1a___Day5.obob5v5__v__Day5.obobBL6d5___bl6_grouping.neg_vs_none | all | Irx5__Lmx1a | neuron | Day5 | obob5v5 | Day5 | obobBL6d5 | bl6_grouping | neg | ⋯ | 0.477 | 1.167466e-14 | ENSMUSG00000022790 | 27.53725 | 70 | 2686 | 0.02606106 | 0.1 | 150 | FALSE |\n",
       "| Irx5__Lmx1a___Day5.obob5v5__v__Day5.obobBL6d5___bl6_grouping.neg_vs_none | all | Irx5__Lmx1a | neuron | Day5 | obob5v5 | Day5 | obobBL6d5 | bl6_grouping | neg | ⋯ | 0.433 | 2.407272e-13 | ENSMUSG00000116769 | 24.19651 | 70 | 2686 | 0.02606106 | 0.1 | 150 | FALSE |\n",
       "| Irx5__Lmx1a___Day5.obob5v5__v__Day5.obobBL6d5___bl6_grouping.neg_vs_none | all | Irx5__Lmx1a | neuron | Day5 | obob5v5 | Day5 | obobBL6d5 | bl6_grouping | neg | ⋯ | 0.692 | 6.554293e-13 | ENSMUSG00000031841 | 23.05425 | 70 | 2686 | 0.02606106 | 0.1 | 150 | FALSE |\n",
       "| Irx5__Lmx1a___Day5.obob5v5__v__Day5.obobBL6d5___bl6_grouping.neg_vs_none | all | Irx5__Lmx1a | neuron | Day5 | obob5v5 | Day5 | obobBL6d5 | bl6_grouping | neg | ⋯ | 0.252 | 7.243389e-11 | ENSMUSG00000032020 | 22.99211 | 70 | 2686 | 0.02606106 | 0.1 | 150 | FALSE |\n",
       "| Irx5__Lmx1a___Day5.obob5v5__v__Day5.obobBL6d5___bl6_grouping.neg_vs_none | all | Irx5__Lmx1a | neuron | Day5 | obob5v5 | Day5 | obobBL6d5 | bl6_grouping | neg | ⋯ | 0.343 | 3.143020e-11 | ENSMUSG00000026970 | 22.83748 | 70 | 2686 | 0.02606106 | 0.1 | 150 | FALSE |\n",
       "| Irx5__Lmx1a___Day5.obob5v5__v__Day5.obobBL6d5___bl6_grouping.neg_vs_none | all | Irx5__Lmx1a | neuron | Day5 | obob5v5 | Day5 | obobBL6d5 | bl6_grouping | neg | ⋯ | 0.331 | 4.660888e-11 | ENSMUSG00000001985 | 22.53042 | 70 | 2686 | 0.02606106 | 0.1 | 150 | FALSE |\n",
       "| Irx5__Lmx1a___Day5.obob5v5__v__Day5.obobBL6d5___bl6_grouping.neg_vs_none | all | Irx5__Lmx1a | neuron | Day5 | obob5v5 | Day5 | obobBL6d5 | bl6_grouping | neg | ⋯ | 0.846 | 1.212435e-13 | ENSMUSG00000037940 | 20.64934 | 70 | 2686 | 0.02606106 | 0.1 | 150 | FALSE |\n",
       "| Irx5__Lmx1a___Day5.obob5v5__v__Day5.obobBL6d5___bl6_grouping.neg_vs_none | all | Irx5__Lmx1a | neuron | Day5 | obob5v5 | Day5 | obobBL6d5 | bl6_grouping | neg | ⋯ | 0.730 | 2.757048e-13 | ENSMUSG00000047907 | 20.52821 | 70 | 2686 | 0.02606106 | 0.1 | 150 | FALSE |\n",
       "| Irx5__Lmx1a___Day5.obob5v5__v__Day5.obobBL6d5___bl6_grouping.neg_vs_none | all | Irx5__Lmx1a | neuron | Day5 | obob5v5 | Day5 | obobBL6d5 | bl6_grouping | neg | ⋯ | 0.794 | 3.580254e-16 | ENSMUSG00000003992 | 20.01030 | 70 | 2686 | 0.02606106 | 0.1 | 150 | FALSE |\n",
       "| Irx5__Lmx1a___Day5.obob5v5__v__Day5.obobBL6d5___bl6_grouping.neg_vs_none | all | Irx5__Lmx1a | neuron | Day5 | obob5v5 | Day5 | obobBL6d5 | bl6_grouping | neg | ⋯ | 0.166 | 2.715562e-08 | ENSMUSG00000087104 | 18.91683 | 70 | 2686 | 0.02606106 | 0.1 | 150 | FALSE |\n",
       "| Irx5__Lmx1a___Day5.obob5v5__v__Day5.obobBL6d5___bl6_grouping.neg_vs_none | all | Irx5__Lmx1a | neuron | Day5 | obob5v5 | Day5 | obobBL6d5 | bl6_grouping | neg | ⋯ | 0.177 | 5.337225e-08 | ENSMUSG00000034324 | 18.51730 | 70 | 2686 | 0.02606106 | 0.1 | 150 | FALSE |\n",
       "| Irx5__Lmx1a___Day5.obob5v5__v__Day5.obobBL6d5___bl6_grouping.neg_vs_none | all | Irx5__Lmx1a | neuron | Day5 | obob5v5 | Day5 | obobBL6d5 | bl6_grouping | neg | ⋯ | 0.996 | 4.096256e-16 | ENSMUSG00000033569 | 17.68373 | 70 | 2686 | 0.02606106 | 0.1 | 150 | FALSE |\n",
       "| ⋮ | ⋮ | ⋮ | ⋮ | ⋮ | ⋮ | ⋮ | ⋮ | ⋮ | ⋮ | ⋱ | ⋮ | ⋮ | ⋮ | ⋮ | ⋮ | ⋮ | ⋮ | ⋮ | ⋮ | ⋮ |\n",
       "| Irx5__Lmx1a___Day5.obob5v5__v__Day5.obobBL6d5___restored_grouping.pos_restored_vs_none | all | Irx5__Lmx1a | neuron | Day5 | obob5v5 | Day5 | obobBL6d5 | restored_grouping | pos_restored | ⋯ | 0.356 | 0.0151014736 | ENSMUSG00000018589 | 2.7741258 | 70 | 2686 | 0.02606106 | 0.1 | 150 | FALSE |\n",
       "| Irx5__Lmx1a___Day5.obob5v5__v__Day5.obobBL6d5___restored_grouping.pos_restored_vs_none | all | Irx5__Lmx1a | neuron | Day5 | obob5v5 | Day5 | obobBL6d5 | restored_grouping | pos_restored | ⋯ | 0.913 | 0.0011791862 | ENSMUSG00000016150 | 2.6713017 | 70 | 2686 | 0.02606106 | 0.1 | 150 | FALSE |\n",
       "| Irx5__Lmx1a___Day5.obob5v5__v__Day5.obobBL6d5___restored_grouping.pos_restored_vs_none | all | Irx5__Lmx1a | neuron | Day5 | obob5v5 | Day5 | obobBL6d5 | restored_grouping | pos_restored | ⋯ | 0.291 | 0.0079167486 | ENSMUSG00000024222 | 2.6567373 | 70 | 2686 | 0.02606106 | 0.1 | 150 | FALSE |\n",
       "| Irx5__Lmx1a___Day5.obob5v5__v__Day5.obobBL6d5___restored_grouping.pos_restored_vs_none | all | Irx5__Lmx1a | neuron | Day5 | obob5v5 | Day5 | obobBL6d5 | restored_grouping | pos_restored | ⋯ | 0.388 | 0.0060853109 | ENSMUSG00000109382 | 2.6529373 | 70 | 2686 | 0.02606106 | 0.1 | 150 | FALSE |\n",
       "| Irx5__Lmx1a___Day5.obob5v5__v__Day5.obobBL6d5___restored_grouping.pos_restored_vs_none | all | Irx5__Lmx1a | neuron | Day5 | obob5v5 | Day5 | obobBL6d5 | restored_grouping | pos_restored | ⋯ | 0.113 | 0.0389536901 | ENSMUSG00000022836 | 2.6104683 | 70 | 2686 | 0.02606106 | 0.1 | 150 | FALSE |\n",
       "| Irx5__Lmx1a___Day5.obob5v5__v__Day5.obobBL6d5___restored_grouping.pos_restored_vs_none | all | Irx5__Lmx1a | neuron | Day5 | obob5v5 | Day5 | obobBL6d5 | restored_grouping | pos_restored | ⋯ | 0.384 | 0.0157639731 | ENSMUSG00000023927 | 2.6096485 | 70 | 2686 | 0.02606106 | 0.1 | 150 | FALSE |\n",
       "| Irx5__Lmx1a___Day5.obob5v5__v__Day5.obobBL6d5___restored_grouping.pos_restored_vs_none | all | Irx5__Lmx1a | neuron | Day5 | obob5v5 | Day5 | obobBL6d5 | restored_grouping | pos_restored | ⋯ | 0.319 | 0.0092637816 | ENSMUSG00000034037 | 2.6009477 | 70 | 2686 | 0.02606106 | 0.1 | 150 | FALSE |\n",
       "| Irx5__Lmx1a___Day5.obob5v5__v__Day5.obobBL6d5___restored_grouping.pos_restored_vs_none | all | Irx5__Lmx1a | neuron | Day5 | obob5v5 | Day5 | obobBL6d5 | restored_grouping | pos_restored | ⋯ | 0.538 | 0.0019959401 | ENSMUSG00000042589 | 2.5908531 | 70 | 2686 | 0.02606106 | 0.1 | 150 | FALSE |\n",
       "| Irx5__Lmx1a___Day5.obob5v5__v__Day5.obobBL6d5___restored_grouping.pos_restored_vs_none | all | Irx5__Lmx1a | neuron | Day5 | obob5v5 | Day5 | obobBL6d5 | restored_grouping | pos_restored | ⋯ | 0.724 | 0.0015348356 | ENSMUSG00000026347 | 2.3656765 | 70 | 2686 | 0.02606106 | 0.1 | 150 | FALSE |\n",
       "| Irx5__Lmx1a___Day5.obob5v5__v__Day5.obobBL6d5___restored_grouping.pos_restored_vs_none | all | Irx5__Lmx1a | neuron | Day5 | obob5v5 | Day5 | obobBL6d5 | restored_grouping | pos_restored | ⋯ | 0.266 | 0.0142626455 | ENSMUSG00000028909 | 2.3450085 | 70 | 2686 | 0.02606106 | 0.1 | 150 | FALSE |\n",
       "| Irx5__Lmx1a___Day5.obob5v5__v__Day5.obobBL6d5___restored_grouping.pos_restored_vs_none | all | Irx5__Lmx1a | neuron | Day5 | obob5v5 | Day5 | obobBL6d5 | restored_grouping | pos_restored | ⋯ | 0.993 | 0.0002700773 | ENSMUSG00000035653 | 2.3405683 | 70 | 2686 | 0.02606106 | 0.1 | 150 | FALSE |\n",
       "| Irx5__Lmx1a___Day5.obob5v5__v__Day5.obobBL6d5___restored_grouping.pos_restored_vs_none | all | Irx5__Lmx1a | neuron | Day5 | obob5v5 | Day5 | obobBL6d5 | restored_grouping | pos_restored | ⋯ | 0.276 | 0.0226238890 | ENSMUSG00000018417 | 2.2496817 | 70 | 2686 | 0.02606106 | 0.1 | 150 | FALSE |\n",
       "| Irx5__Lmx1a___Day5.obob5v5__v__Day5.obobBL6d5___restored_grouping.pos_restored_vs_none | all | Irx5__Lmx1a | neuron | Day5 | obob5v5 | Day5 | obobBL6d5 | restored_grouping | pos_restored | ⋯ | 0.580 | 0.0089997420 | ENSMUSG00000053519 | 2.1822697 | 70 | 2686 | 0.02606106 | 0.1 | 150 | FALSE |\n",
       "| Irx5__Lmx1a___Day5.obob5v5__v__Day5.obobBL6d5___restored_grouping.pos_restored_vs_none | all | Irx5__Lmx1a | neuron | Day5 | obob5v5 | Day5 | obobBL6d5 | restored_grouping | pos_restored | ⋯ | 0.768 | 0.0085140466 | ENSMUSG00000021991 | 2.1700148 | 70 | 2686 | 0.02606106 | 0.1 | 150 | FALSE |\n",
       "| Irx5__Lmx1a___Day5.obob5v5__v__Day5.obobBL6d5___restored_grouping.pos_restored_vs_none | all | Irx5__Lmx1a | neuron | Day5 | obob5v5 | Day5 | obobBL6d5 | restored_grouping | pos_restored | ⋯ | 0.888 | 0.0023695694 | ENSMUSG00000042757 | 1.9349044 | 70 | 2686 | 0.02606106 | 0.1 | 150 | FALSE |\n",
       "| Irx5__Lmx1a___Day5.obob5v5__v__Day5.obobBL6d5___restored_grouping.pos_restored_vs_none | all | Irx5__Lmx1a | neuron | Day5 | obob5v5 | Day5 | obobBL6d5 | restored_grouping | pos_restored | ⋯ | 0.433 | 0.0136209527 | ENSMUSG00000055078 | 1.9175289 | 70 | 2686 | 0.02606106 | 0.1 | 150 | FALSE |\n",
       "| Irx5__Lmx1a___Day5.obob5v5__v__Day5.obobBL6d5___restored_grouping.pos_restored_vs_none | all | Irx5__Lmx1a | neuron | Day5 | obob5v5 | Day5 | obobBL6d5 | restored_grouping | pos_restored | ⋯ | 0.712 | 0.0104989675 | ENSMUSG00000015882 | 1.8027680 | 70 | 2686 | 0.02606106 | 0.1 | 150 | FALSE |\n",
       "| Irx5__Lmx1a___Day5.obob5v5__v__Day5.obobBL6d5___restored_grouping.pos_restored_vs_none | all | Irx5__Lmx1a | neuron | Day5 | obob5v5 | Day5 | obobBL6d5 | restored_grouping | pos_restored | ⋯ | 0.519 | 0.0125582547 | ENSMUSG00000021662 | 1.7984129 | 70 | 2686 | 0.02606106 | 0.1 | 150 | FALSE |\n",
       "| Irx5__Lmx1a___Day5.obob5v5__v__Day5.obobBL6d5___restored_grouping.pos_restored_vs_none | all | Irx5__Lmx1a | neuron | Day5 | obob5v5 | Day5 | obobBL6d5 | restored_grouping | pos_restored | ⋯ | 0.563 | 0.0334686144 | ENSMUSG00000022307 | 1.7536159 | 70 | 2686 | 0.02606106 | 0.1 | 150 | FALSE |\n",
       "| Irx5__Lmx1a___Day5.obob5v5__v__Day5.obobBL6d5___restored_grouping.pos_restored_vs_none | all | Irx5__Lmx1a | neuron | Day5 | obob5v5 | Day5 | obobBL6d5 | restored_grouping | pos_restored | ⋯ | 0.290 | 0.0336574787 | ENSMUSG00000032750 | 1.7297004 | 70 | 2686 | 0.02606106 | 0.1 | 150 | FALSE |\n",
       "| Irx5__Lmx1a___Day5.obob5v5__v__Day5.obobBL6d5___restored_grouping.pos_restored_vs_none | all | Irx5__Lmx1a | neuron | Day5 | obob5v5 | Day5 | obobBL6d5 | restored_grouping | pos_restored | ⋯ | 0.795 | 0.0281559837 | ENSMUSG00000028033 | 1.5985060 | 70 | 2686 | 0.02606106 | 0.1 | 150 | FALSE |\n",
       "| Irx5__Lmx1a___Day5.obob5v5__v__Day5.obobBL6d5___restored_grouping.pos_restored_vs_none | all | Irx5__Lmx1a | neuron | Day5 | obob5v5 | Day5 | obobBL6d5 | restored_grouping | pos_restored | ⋯ | 0.339 | 0.0488449227 | ENSMUSG00000031292 | 1.5610568 | 70 | 2686 | 0.02606106 | 0.1 | 150 | FALSE |\n",
       "| Irx5__Lmx1a___Day5.obob5v5__v__Day5.obobBL6d5___restored_grouping.pos_restored_vs_none | all | Irx5__Lmx1a | neuron | Day5 | obob5v5 | Day5 | obobBL6d5 | restored_grouping | pos_restored | ⋯ | 0.508 | 0.0219487313 | ENSMUSG00000002266 | 1.4871771 | 70 | 2686 | 0.02606106 | 0.1 | 150 | FALSE |\n",
       "| Irx5__Lmx1a___Day5.obob5v5__v__Day5.obobBL6d5___restored_grouping.pos_restored_vs_none | all | Irx5__Lmx1a | neuron | Day5 | obob5v5 | Day5 | obobBL6d5 | restored_grouping | pos_restored | ⋯ | 0.876 | 0.0335122819 | ENSMUSG00000063600 | 1.3773305 | 70 | 2686 | 0.02606106 | 0.1 | 150 | FALSE |\n",
       "| Irx5__Lmx1a___Day5.obob5v5__v__Day5.obobBL6d5___restored_grouping.pos_restored_vs_none | all | Irx5__Lmx1a | neuron | Day5 | obob5v5 | Day5 | obobBL6d5 | restored_grouping | pos_restored | ⋯ | 0.827 | 0.0184356100 | ENSMUSG00000028926 | 1.3704489 | 70 | 2686 | 0.02606106 | 0.1 | 150 | FALSE |\n",
       "| Irx5__Lmx1a___Day5.obob5v5__v__Day5.obobBL6d5___restored_grouping.pos_restored_vs_none | all | Irx5__Lmx1a | neuron | Day5 | obob5v5 | Day5 | obobBL6d5 | restored_grouping | pos_restored | ⋯ | 0.916 | 0.0103394764 | ENSMUSG00000027012 | 1.3438973 | 70 | 2686 | 0.02606106 | 0.1 | 150 | FALSE |\n",
       "| Irx5__Lmx1a___Day5.obob5v5__v__Day5.obobBL6d5___restored_grouping.pos_restored_vs_none | all | Irx5__Lmx1a | neuron | Day5 | obob5v5 | Day5 | obobBL6d5 | restored_grouping | pos_restored | ⋯ | 0.663 | 0.0239206819 | ENSMUSG00000028149 | 1.3248579 | 70 | 2686 | 0.02606106 | 0.1 | 150 | FALSE |\n",
       "| Irx5__Lmx1a___Day5.obob5v5__v__Day5.obobBL6d5___restored_grouping.pos_restored_vs_none | all | Irx5__Lmx1a | neuron | Day5 | obob5v5 | Day5 | obobBL6d5 | restored_grouping | pos_restored | ⋯ | 0.541 | 0.0393218067 | ENSMUSG00000064210 | 1.2457036 | 70 | 2686 | 0.02606106 | 0.1 | 150 | FALSE |\n",
       "| Irx5__Lmx1a___Day5.obob5v5__v__Day5.obobBL6d5___restored_grouping.pos_restored_vs_none | all | Irx5__Lmx1a | neuron | Day5 | obob5v5 | Day5 | obobBL6d5 | restored_grouping | pos_restored | ⋯ | 0.815 | 0.0349145728 | ENSMUSG00000034751 | 1.0300736 | 70 | 2686 | 0.02606106 | 0.1 | 150 | FALSE |\n",
       "| Irx5__Lmx1a___Day5.obob5v5__v__Day5.obobBL6d5___restored_grouping.pos_restored_vs_none | all | Irx5__Lmx1a | neuron | Day5 | obob5v5 | Day5 | obobBL6d5 | restored_grouping | pos_restored | ⋯ | 1.000 | 0.0311891480 | ENSMUSG00000061080 | 0.8897445 | 70 | 2686 | 0.02606106 | 0.1 | 150 | FALSE |\n",
       "\n"
      ],
      "text/plain": [
       "    tag                                                                                   \n",
       "1   Irx5__Lmx1a___Day5.obob5v5__v__Day5.obobBL6d5___bl6_grouping.neg_vs_none              \n",
       "2   Irx5__Lmx1a___Day5.obob5v5__v__Day5.obobBL6d5___bl6_grouping.neg_vs_none              \n",
       "3   Irx5__Lmx1a___Day5.obob5v5__v__Day5.obobBL6d5___bl6_grouping.neg_vs_none              \n",
       "4   Irx5__Lmx1a___Day5.obob5v5__v__Day5.obobBL6d5___bl6_grouping.neg_vs_none              \n",
       "5   Irx5__Lmx1a___Day5.obob5v5__v__Day5.obobBL6d5___bl6_grouping.neg_vs_none              \n",
       "6   Irx5__Lmx1a___Day5.obob5v5__v__Day5.obobBL6d5___bl6_grouping.neg_vs_none              \n",
       "7   Irx5__Lmx1a___Day5.obob5v5__v__Day5.obobBL6d5___bl6_grouping.neg_vs_none              \n",
       "8   Irx5__Lmx1a___Day5.obob5v5__v__Day5.obobBL6d5___bl6_grouping.neg_vs_none              \n",
       "9   Irx5__Lmx1a___Day5.obob5v5__v__Day5.obobBL6d5___bl6_grouping.neg_vs_none              \n",
       "10  Irx5__Lmx1a___Day5.obob5v5__v__Day5.obobBL6d5___bl6_grouping.neg_vs_none              \n",
       "11  Irx5__Lmx1a___Day5.obob5v5__v__Day5.obobBL6d5___bl6_grouping.neg_vs_none              \n",
       "12  Irx5__Lmx1a___Day5.obob5v5__v__Day5.obobBL6d5___bl6_grouping.neg_vs_none              \n",
       "13  Irx5__Lmx1a___Day5.obob5v5__v__Day5.obobBL6d5___bl6_grouping.neg_vs_none              \n",
       "14  Irx5__Lmx1a___Day5.obob5v5__v__Day5.obobBL6d5___bl6_grouping.neg_vs_none              \n",
       "15  Irx5__Lmx1a___Day5.obob5v5__v__Day5.obobBL6d5___bl6_grouping.neg_vs_none              \n",
       "16  Irx5__Lmx1a___Day5.obob5v5__v__Day5.obobBL6d5___bl6_grouping.neg_vs_none              \n",
       "17  Irx5__Lmx1a___Day5.obob5v5__v__Day5.obobBL6d5___bl6_grouping.neg_vs_none              \n",
       "18  Irx5__Lmx1a___Day5.obob5v5__v__Day5.obobBL6d5___bl6_grouping.neg_vs_none              \n",
       "19  Irx5__Lmx1a___Day5.obob5v5__v__Day5.obobBL6d5___bl6_grouping.neg_vs_none              \n",
       "20  Irx5__Lmx1a___Day5.obob5v5__v__Day5.obobBL6d5___bl6_grouping.neg_vs_none              \n",
       "21  Irx5__Lmx1a___Day5.obob5v5__v__Day5.obobBL6d5___bl6_grouping.neg_vs_none              \n",
       "22  Irx5__Lmx1a___Day5.obob5v5__v__Day5.obobBL6d5___bl6_grouping.neg_vs_none              \n",
       "23  Irx5__Lmx1a___Day5.obob5v5__v__Day5.obobBL6d5___bl6_grouping.neg_vs_none              \n",
       "24  Irx5__Lmx1a___Day5.obob5v5__v__Day5.obobBL6d5___bl6_grouping.neg_vs_none              \n",
       "25  Irx5__Lmx1a___Day5.obob5v5__v__Day5.obobBL6d5___bl6_grouping.neg_vs_none              \n",
       "26  Irx5__Lmx1a___Day5.obob5v5__v__Day5.obobBL6d5___bl6_grouping.neg_vs_none              \n",
       "27  Irx5__Lmx1a___Day5.obob5v5__v__Day5.obobBL6d5___bl6_grouping.neg_vs_none              \n",
       "28  Irx5__Lmx1a___Day5.obob5v5__v__Day5.obobBL6d5___bl6_grouping.neg_vs_none              \n",
       "29  Irx5__Lmx1a___Day5.obob5v5__v__Day5.obobBL6d5___bl6_grouping.neg_vs_none              \n",
       "30  Irx5__Lmx1a___Day5.obob5v5__v__Day5.obobBL6d5___bl6_grouping.neg_vs_none              \n",
       "⋮   ⋮                                                                                     \n",
       "343 Irx5__Lmx1a___Day5.obob5v5__v__Day5.obobBL6d5___restored_grouping.pos_restored_vs_none\n",
       "344 Irx5__Lmx1a___Day5.obob5v5__v__Day5.obobBL6d5___restored_grouping.pos_restored_vs_none\n",
       "345 Irx5__Lmx1a___Day5.obob5v5__v__Day5.obobBL6d5___restored_grouping.pos_restored_vs_none\n",
       "346 Irx5__Lmx1a___Day5.obob5v5__v__Day5.obobBL6d5___restored_grouping.pos_restored_vs_none\n",
       "347 Irx5__Lmx1a___Day5.obob5v5__v__Day5.obobBL6d5___restored_grouping.pos_restored_vs_none\n",
       "348 Irx5__Lmx1a___Day5.obob5v5__v__Day5.obobBL6d5___restored_grouping.pos_restored_vs_none\n",
       "349 Irx5__Lmx1a___Day5.obob5v5__v__Day5.obobBL6d5___restored_grouping.pos_restored_vs_none\n",
       "350 Irx5__Lmx1a___Day5.obob5v5__v__Day5.obobBL6d5___restored_grouping.pos_restored_vs_none\n",
       "351 Irx5__Lmx1a___Day5.obob5v5__v__Day5.obobBL6d5___restored_grouping.pos_restored_vs_none\n",
       "352 Irx5__Lmx1a___Day5.obob5v5__v__Day5.obobBL6d5___restored_grouping.pos_restored_vs_none\n",
       "353 Irx5__Lmx1a___Day5.obob5v5__v__Day5.obobBL6d5___restored_grouping.pos_restored_vs_none\n",
       "354 Irx5__Lmx1a___Day5.obob5v5__v__Day5.obobBL6d5___restored_grouping.pos_restored_vs_none\n",
       "355 Irx5__Lmx1a___Day5.obob5v5__v__Day5.obobBL6d5___restored_grouping.pos_restored_vs_none\n",
       "356 Irx5__Lmx1a___Day5.obob5v5__v__Day5.obobBL6d5___restored_grouping.pos_restored_vs_none\n",
       "357 Irx5__Lmx1a___Day5.obob5v5__v__Day5.obobBL6d5___restored_grouping.pos_restored_vs_none\n",
       "358 Irx5__Lmx1a___Day5.obob5v5__v__Day5.obobBL6d5___restored_grouping.pos_restored_vs_none\n",
       "359 Irx5__Lmx1a___Day5.obob5v5__v__Day5.obobBL6d5___restored_grouping.pos_restored_vs_none\n",
       "360 Irx5__Lmx1a___Day5.obob5v5__v__Day5.obobBL6d5___restored_grouping.pos_restored_vs_none\n",
       "361 Irx5__Lmx1a___Day5.obob5v5__v__Day5.obobBL6d5___restored_grouping.pos_restored_vs_none\n",
       "362 Irx5__Lmx1a___Day5.obob5v5__v__Day5.obobBL6d5___restored_grouping.pos_restored_vs_none\n",
       "363 Irx5__Lmx1a___Day5.obob5v5__v__Day5.obobBL6d5___restored_grouping.pos_restored_vs_none\n",
       "364 Irx5__Lmx1a___Day5.obob5v5__v__Day5.obobBL6d5___restored_grouping.pos_restored_vs_none\n",
       "365 Irx5__Lmx1a___Day5.obob5v5__v__Day5.obobBL6d5___restored_grouping.pos_restored_vs_none\n",
       "366 Irx5__Lmx1a___Day5.obob5v5__v__Day5.obobBL6d5___restored_grouping.pos_restored_vs_none\n",
       "367 Irx5__Lmx1a___Day5.obob5v5__v__Day5.obobBL6d5___restored_grouping.pos_restored_vs_none\n",
       "368 Irx5__Lmx1a___Day5.obob5v5__v__Day5.obobBL6d5___restored_grouping.pos_restored_vs_none\n",
       "369 Irx5__Lmx1a___Day5.obob5v5__v__Day5.obobBL6d5___restored_grouping.pos_restored_vs_none\n",
       "370 Irx5__Lmx1a___Day5.obob5v5__v__Day5.obobBL6d5___restored_grouping.pos_restored_vs_none\n",
       "371 Irx5__Lmx1a___Day5.obob5v5__v__Day5.obobBL6d5___restored_grouping.pos_restored_vs_none\n",
       "372 Irx5__Lmx1a___Day5.obob5v5__v__Day5.obobBL6d5___restored_grouping.pos_restored_vs_none\n",
       "    data_day cluster     class  fgf1_day fgf1_comparison bl6_day bl6_comparison\n",
       "1   all      Irx5__Lmx1a neuron Day5     obob5v5         Day5    obobBL6d5     \n",
       "2   all      Irx5__Lmx1a neuron Day5     obob5v5         Day5    obobBL6d5     \n",
       "3   all      Irx5__Lmx1a neuron Day5     obob5v5         Day5    obobBL6d5     \n",
       "4   all      Irx5__Lmx1a neuron Day5     obob5v5         Day5    obobBL6d5     \n",
       "5   all      Irx5__Lmx1a neuron Day5     obob5v5         Day5    obobBL6d5     \n",
       "6   all      Irx5__Lmx1a neuron Day5     obob5v5         Day5    obobBL6d5     \n",
       "7   all      Irx5__Lmx1a neuron Day5     obob5v5         Day5    obobBL6d5     \n",
       "8   all      Irx5__Lmx1a neuron Day5     obob5v5         Day5    obobBL6d5     \n",
       "9   all      Irx5__Lmx1a neuron Day5     obob5v5         Day5    obobBL6d5     \n",
       "10  all      Irx5__Lmx1a neuron Day5     obob5v5         Day5    obobBL6d5     \n",
       "11  all      Irx5__Lmx1a neuron Day5     obob5v5         Day5    obobBL6d5     \n",
       "12  all      Irx5__Lmx1a neuron Day5     obob5v5         Day5    obobBL6d5     \n",
       "13  all      Irx5__Lmx1a neuron Day5     obob5v5         Day5    obobBL6d5     \n",
       "14  all      Irx5__Lmx1a neuron Day5     obob5v5         Day5    obobBL6d5     \n",
       "15  all      Irx5__Lmx1a neuron Day5     obob5v5         Day5    obobBL6d5     \n",
       "16  all      Irx5__Lmx1a neuron Day5     obob5v5         Day5    obobBL6d5     \n",
       "17  all      Irx5__Lmx1a neuron Day5     obob5v5         Day5    obobBL6d5     \n",
       "18  all      Irx5__Lmx1a neuron Day5     obob5v5         Day5    obobBL6d5     \n",
       "19  all      Irx5__Lmx1a neuron Day5     obob5v5         Day5    obobBL6d5     \n",
       "20  all      Irx5__Lmx1a neuron Day5     obob5v5         Day5    obobBL6d5     \n",
       "21  all      Irx5__Lmx1a neuron Day5     obob5v5         Day5    obobBL6d5     \n",
       "22  all      Irx5__Lmx1a neuron Day5     obob5v5         Day5    obobBL6d5     \n",
       "23  all      Irx5__Lmx1a neuron Day5     obob5v5         Day5    obobBL6d5     \n",
       "24  all      Irx5__Lmx1a neuron Day5     obob5v5         Day5    obobBL6d5     \n",
       "25  all      Irx5__Lmx1a neuron Day5     obob5v5         Day5    obobBL6d5     \n",
       "26  all      Irx5__Lmx1a neuron Day5     obob5v5         Day5    obobBL6d5     \n",
       "27  all      Irx5__Lmx1a neuron Day5     obob5v5         Day5    obobBL6d5     \n",
       "28  all      Irx5__Lmx1a neuron Day5     obob5v5         Day5    obobBL6d5     \n",
       "29  all      Irx5__Lmx1a neuron Day5     obob5v5         Day5    obobBL6d5     \n",
       "30  all      Irx5__Lmx1a neuron Day5     obob5v5         Day5    obobBL6d5     \n",
       "⋮   ⋮        ⋮           ⋮      ⋮        ⋮               ⋮       ⋮             \n",
       "343 all      Irx5__Lmx1a neuron Day5     obob5v5         Day5    obobBL6d5     \n",
       "344 all      Irx5__Lmx1a neuron Day5     obob5v5         Day5    obobBL6d5     \n",
       "345 all      Irx5__Lmx1a neuron Day5     obob5v5         Day5    obobBL6d5     \n",
       "346 all      Irx5__Lmx1a neuron Day5     obob5v5         Day5    obobBL6d5     \n",
       "347 all      Irx5__Lmx1a neuron Day5     obob5v5         Day5    obobBL6d5     \n",
       "348 all      Irx5__Lmx1a neuron Day5     obob5v5         Day5    obobBL6d5     \n",
       "349 all      Irx5__Lmx1a neuron Day5     obob5v5         Day5    obobBL6d5     \n",
       "350 all      Irx5__Lmx1a neuron Day5     obob5v5         Day5    obobBL6d5     \n",
       "351 all      Irx5__Lmx1a neuron Day5     obob5v5         Day5    obobBL6d5     \n",
       "352 all      Irx5__Lmx1a neuron Day5     obob5v5         Day5    obobBL6d5     \n",
       "353 all      Irx5__Lmx1a neuron Day5     obob5v5         Day5    obobBL6d5     \n",
       "354 all      Irx5__Lmx1a neuron Day5     obob5v5         Day5    obobBL6d5     \n",
       "355 all      Irx5__Lmx1a neuron Day5     obob5v5         Day5    obobBL6d5     \n",
       "356 all      Irx5__Lmx1a neuron Day5     obob5v5         Day5    obobBL6d5     \n",
       "357 all      Irx5__Lmx1a neuron Day5     obob5v5         Day5    obobBL6d5     \n",
       "358 all      Irx5__Lmx1a neuron Day5     obob5v5         Day5    obobBL6d5     \n",
       "359 all      Irx5__Lmx1a neuron Day5     obob5v5         Day5    obobBL6d5     \n",
       "360 all      Irx5__Lmx1a neuron Day5     obob5v5         Day5    obobBL6d5     \n",
       "361 all      Irx5__Lmx1a neuron Day5     obob5v5         Day5    obobBL6d5     \n",
       "362 all      Irx5__Lmx1a neuron Day5     obob5v5         Day5    obobBL6d5     \n",
       "363 all      Irx5__Lmx1a neuron Day5     obob5v5         Day5    obobBL6d5     \n",
       "364 all      Irx5__Lmx1a neuron Day5     obob5v5         Day5    obobBL6d5     \n",
       "365 all      Irx5__Lmx1a neuron Day5     obob5v5         Day5    obobBL6d5     \n",
       "366 all      Irx5__Lmx1a neuron Day5     obob5v5         Day5    obobBL6d5     \n",
       "367 all      Irx5__Lmx1a neuron Day5     obob5v5         Day5    obobBL6d5     \n",
       "368 all      Irx5__Lmx1a neuron Day5     obob5v5         Day5    obobBL6d5     \n",
       "369 all      Irx5__Lmx1a neuron Day5     obob5v5         Day5    obobBL6d5     \n",
       "370 all      Irx5__Lmx1a neuron Day5     obob5v5         Day5    obobBL6d5     \n",
       "371 all      Irx5__Lmx1a neuron Day5     obob5v5         Day5    obobBL6d5     \n",
       "372 all      Irx5__Lmx1a neuron Day5     obob5v5         Day5    obobBL6d5     \n",
       "    grouping          cells_a      ⋯ pct.2 p_val_adj    ensmusg           \n",
       "1   bl6_grouping      neg          ⋯ 0.479 5.957054e-25 ENSMUSG00000022112\n",
       "2   bl6_grouping      neg          ⋯ 0.896 2.829428e-32 ENSMUSG00000019888\n",
       "3   bl6_grouping      neg          ⋯ 0.928 5.865052e-38 ENSMUSG00000032036\n",
       "4   bl6_grouping      neg          ⋯ 0.573 1.803130e-27 ENSMUSG00000052560\n",
       "5   bl6_grouping      neg          ⋯ 0.310 1.546440e-19 ENSMUSG00000003746\n",
       "6   bl6_grouping      neg          ⋯ 0.968 1.007724e-29 ENSMUSG00000060882\n",
       "7   bl6_grouping      neg          ⋯ 0.505 1.488160e-18 ENSMUSG00000042581\n",
       "8   bl6_grouping      neg          ⋯ 0.708 4.364260e-20 ENSMUSG00000053141\n",
       "9   bl6_grouping      neg          ⋯ 0.797 2.880795e-24 ENSMUSG00000110246\n",
       "10  bl6_grouping      neg          ⋯ 0.413 2.026959e-15 ENSMUSG00000027200\n",
       "11  bl6_grouping      neg          ⋯ 0.447 5.460583e-15 ENSMUSG00000058571\n",
       "12  bl6_grouping      neg          ⋯ 0.728 1.141848e-20 ENSMUSG00000057715\n",
       "13  bl6_grouping      neg          ⋯ 0.619 1.617119e-22 ENSMUSG00000070498\n",
       "14  bl6_grouping      neg          ⋯ 0.227 5.074504e-15 ENSMUSG00000025324\n",
       "15  bl6_grouping      neg          ⋯ 0.386 5.826458e-16 ENSMUSG00000030525\n",
       "16  bl6_grouping      neg          ⋯ 0.810 6.707559e-19 ENSMUSG00000029245\n",
       "17  bl6_grouping      neg          ⋯ 0.297 1.796814e-11 ENSMUSG00000055471\n",
       "18  bl6_grouping      neg          ⋯ 0.803 5.618840e-16 ENSMUSG00000031559\n",
       "19  bl6_grouping      neg          ⋯ 0.477 1.167466e-14 ENSMUSG00000022790\n",
       "20  bl6_grouping      neg          ⋯ 0.433 2.407272e-13 ENSMUSG00000116769\n",
       "21  bl6_grouping      neg          ⋯ 0.692 6.554293e-13 ENSMUSG00000031841\n",
       "22  bl6_grouping      neg          ⋯ 0.252 7.243389e-11 ENSMUSG00000032020\n",
       "23  bl6_grouping      neg          ⋯ 0.343 3.143020e-11 ENSMUSG00000026970\n",
       "24  bl6_grouping      neg          ⋯ 0.331 4.660888e-11 ENSMUSG00000001985\n",
       "25  bl6_grouping      neg          ⋯ 0.846 1.212435e-13 ENSMUSG00000037940\n",
       "26  bl6_grouping      neg          ⋯ 0.730 2.757048e-13 ENSMUSG00000047907\n",
       "27  bl6_grouping      neg          ⋯ 0.794 3.580254e-16 ENSMUSG00000003992\n",
       "28  bl6_grouping      neg          ⋯ 0.166 2.715562e-08 ENSMUSG00000087104\n",
       "29  bl6_grouping      neg          ⋯ 0.177 5.337225e-08 ENSMUSG00000034324\n",
       "30  bl6_grouping      neg          ⋯ 0.996 4.096256e-16 ENSMUSG00000033569\n",
       "⋮   ⋮                 ⋮            ⋱ ⋮     ⋮            ⋮                 \n",
       "343 restored_grouping pos_restored ⋯ 0.356 0.0151014736 ENSMUSG00000018589\n",
       "344 restored_grouping pos_restored ⋯ 0.913 0.0011791862 ENSMUSG00000016150\n",
       "345 restored_grouping pos_restored ⋯ 0.291 0.0079167486 ENSMUSG00000024222\n",
       "346 restored_grouping pos_restored ⋯ 0.388 0.0060853109 ENSMUSG00000109382\n",
       "347 restored_grouping pos_restored ⋯ 0.113 0.0389536901 ENSMUSG00000022836\n",
       "348 restored_grouping pos_restored ⋯ 0.384 0.0157639731 ENSMUSG00000023927\n",
       "349 restored_grouping pos_restored ⋯ 0.319 0.0092637816 ENSMUSG00000034037\n",
       "350 restored_grouping pos_restored ⋯ 0.538 0.0019959401 ENSMUSG00000042589\n",
       "351 restored_grouping pos_restored ⋯ 0.724 0.0015348356 ENSMUSG00000026347\n",
       "352 restored_grouping pos_restored ⋯ 0.266 0.0142626455 ENSMUSG00000028909\n",
       "353 restored_grouping pos_restored ⋯ 0.993 0.0002700773 ENSMUSG00000035653\n",
       "354 restored_grouping pos_restored ⋯ 0.276 0.0226238890 ENSMUSG00000018417\n",
       "355 restored_grouping pos_restored ⋯ 0.580 0.0089997420 ENSMUSG00000053519\n",
       "356 restored_grouping pos_restored ⋯ 0.768 0.0085140466 ENSMUSG00000021991\n",
       "357 restored_grouping pos_restored ⋯ 0.888 0.0023695694 ENSMUSG00000042757\n",
       "358 restored_grouping pos_restored ⋯ 0.433 0.0136209527 ENSMUSG00000055078\n",
       "359 restored_grouping pos_restored ⋯ 0.712 0.0104989675 ENSMUSG00000015882\n",
       "360 restored_grouping pos_restored ⋯ 0.519 0.0125582547 ENSMUSG00000021662\n",
       "361 restored_grouping pos_restored ⋯ 0.563 0.0334686144 ENSMUSG00000022307\n",
       "362 restored_grouping pos_restored ⋯ 0.290 0.0336574787 ENSMUSG00000032750\n",
       "363 restored_grouping pos_restored ⋯ 0.795 0.0281559837 ENSMUSG00000028033\n",
       "364 restored_grouping pos_restored ⋯ 0.339 0.0488449227 ENSMUSG00000031292\n",
       "365 restored_grouping pos_restored ⋯ 0.508 0.0219487313 ENSMUSG00000002266\n",
       "366 restored_grouping pos_restored ⋯ 0.876 0.0335122819 ENSMUSG00000063600\n",
       "367 restored_grouping pos_restored ⋯ 0.827 0.0184356100 ENSMUSG00000028926\n",
       "368 restored_grouping pos_restored ⋯ 0.916 0.0103394764 ENSMUSG00000027012\n",
       "369 restored_grouping pos_restored ⋯ 0.663 0.0239206819 ENSMUSG00000028149\n",
       "370 restored_grouping pos_restored ⋯ 0.541 0.0393218067 ENSMUSG00000064210\n",
       "371 restored_grouping pos_restored ⋯ 0.815 0.0349145728 ENSMUSG00000034751\n",
       "372 restored_grouping pos_restored ⋯ 1.000 0.0311891480 ENSMUSG00000061080\n",
       "    gsea_sort_score count total_cells frac       frac_cutoff n_cells_cutoff\n",
       "1   86.15425        70    2686        0.02606106 0.1         150           \n",
       "2   78.14768        70    2686        0.02606106 0.1         150           \n",
       "3   76.19229        70    2686        0.02606106 0.1         150           \n",
       "4   59.22493        70    2686        0.02606106 0.1         150           \n",
       "5   57.65782        70    2686        0.02606106 0.1         150           \n",
       "6   50.97618        70    2686        0.02606106 0.1         150           \n",
       "7   49.00859        70    2686        0.02606106 0.1         150           \n",
       "8   46.42367        70    2686        0.02606106 0.1         150           \n",
       "9   44.35108        70    2686        0.02606106 0.1         150           \n",
       "10  44.21525        70    2686        0.02606106 0.1         150           \n",
       "11  43.40864        70    2686        0.02606106 0.1         150           \n",
       "12  39.93581        70    2686        0.02606106 0.1         150           \n",
       "13  36.94399        70    2686        0.02606106 0.1         150           \n",
       "14  33.86847        70    2686        0.02606106 0.1         150           \n",
       "15  33.85734        70    2686        0.02606106 0.1         150           \n",
       "16  31.12714        70    2686        0.02606106 0.1         150           \n",
       "17  28.44384        70    2686        0.02606106 0.1         150           \n",
       "18  28.20789        70    2686        0.02606106 0.1         150           \n",
       "19  27.53725        70    2686        0.02606106 0.1         150           \n",
       "20  24.19651        70    2686        0.02606106 0.1         150           \n",
       "21  23.05425        70    2686        0.02606106 0.1         150           \n",
       "22  22.99211        70    2686        0.02606106 0.1         150           \n",
       "23  22.83748        70    2686        0.02606106 0.1         150           \n",
       "24  22.53042        70    2686        0.02606106 0.1         150           \n",
       "25  20.64934        70    2686        0.02606106 0.1         150           \n",
       "26  20.52821        70    2686        0.02606106 0.1         150           \n",
       "27  20.01030        70    2686        0.02606106 0.1         150           \n",
       "28  18.91683        70    2686        0.02606106 0.1         150           \n",
       "29  18.51730        70    2686        0.02606106 0.1         150           \n",
       "30  17.68373        70    2686        0.02606106 0.1         150           \n",
       "⋮   ⋮               ⋮     ⋮           ⋮          ⋮           ⋮             \n",
       "343 2.7741258       70    2686        0.02606106 0.1         150           \n",
       "344 2.6713017       70    2686        0.02606106 0.1         150           \n",
       "345 2.6567373       70    2686        0.02606106 0.1         150           \n",
       "346 2.6529373       70    2686        0.02606106 0.1         150           \n",
       "347 2.6104683       70    2686        0.02606106 0.1         150           \n",
       "348 2.6096485       70    2686        0.02606106 0.1         150           \n",
       "349 2.6009477       70    2686        0.02606106 0.1         150           \n",
       "350 2.5908531       70    2686        0.02606106 0.1         150           \n",
       "351 2.3656765       70    2686        0.02606106 0.1         150           \n",
       "352 2.3450085       70    2686        0.02606106 0.1         150           \n",
       "353 2.3405683       70    2686        0.02606106 0.1         150           \n",
       "354 2.2496817       70    2686        0.02606106 0.1         150           \n",
       "355 2.1822697       70    2686        0.02606106 0.1         150           \n",
       "356 2.1700148       70    2686        0.02606106 0.1         150           \n",
       "357 1.9349044       70    2686        0.02606106 0.1         150           \n",
       "358 1.9175289       70    2686        0.02606106 0.1         150           \n",
       "359 1.8027680       70    2686        0.02606106 0.1         150           \n",
       "360 1.7984129       70    2686        0.02606106 0.1         150           \n",
       "361 1.7536159       70    2686        0.02606106 0.1         150           \n",
       "362 1.7297004       70    2686        0.02606106 0.1         150           \n",
       "363 1.5985060       70    2686        0.02606106 0.1         150           \n",
       "364 1.5610568       70    2686        0.02606106 0.1         150           \n",
       "365 1.4871771       70    2686        0.02606106 0.1         150           \n",
       "366 1.3773305       70    2686        0.02606106 0.1         150           \n",
       "367 1.3704489       70    2686        0.02606106 0.1         150           \n",
       "368 1.3438973       70    2686        0.02606106 0.1         150           \n",
       "369 1.3248579       70    2686        0.02606106 0.1         150           \n",
       "370 1.2457036       70    2686        0.02606106 0.1         150           \n",
       "371 1.0300736       70    2686        0.02606106 0.1         150           \n",
       "372 0.8897445       70    2686        0.02606106 0.1         150           \n",
       "    n_cells_valid\n",
       "1   FALSE        \n",
       "2   FALSE        \n",
       "3   FALSE        \n",
       "4   FALSE        \n",
       "5   FALSE        \n",
       "6   FALSE        \n",
       "7   FALSE        \n",
       "8   FALSE        \n",
       "9   FALSE        \n",
       "10  FALSE        \n",
       "11  FALSE        \n",
       "12  FALSE        \n",
       "13  FALSE        \n",
       "14  FALSE        \n",
       "15  FALSE        \n",
       "16  FALSE        \n",
       "17  FALSE        \n",
       "18  FALSE        \n",
       "19  FALSE        \n",
       "20  FALSE        \n",
       "21  FALSE        \n",
       "22  FALSE        \n",
       "23  FALSE        \n",
       "24  FALSE        \n",
       "25  FALSE        \n",
       "26  FALSE        \n",
       "27  FALSE        \n",
       "28  FALSE        \n",
       "29  FALSE        \n",
       "30  FALSE        \n",
       "⋮   ⋮            \n",
       "343 FALSE        \n",
       "344 FALSE        \n",
       "345 FALSE        \n",
       "346 FALSE        \n",
       "347 FALSE        \n",
       "348 FALSE        \n",
       "349 FALSE        \n",
       "350 FALSE        \n",
       "351 FALSE        \n",
       "352 FALSE        \n",
       "353 FALSE        \n",
       "354 FALSE        \n",
       "355 FALSE        \n",
       "356 FALSE        \n",
       "357 FALSE        \n",
       "358 FALSE        \n",
       "359 FALSE        \n",
       "360 FALSE        \n",
       "361 FALSE        \n",
       "362 FALSE        \n",
       "363 FALSE        \n",
       "364 FALSE        \n",
       "365 FALSE        \n",
       "366 FALSE        \n",
       "367 FALSE        \n",
       "368 FALSE        \n",
       "369 FALSE        \n",
       "370 FALSE        \n",
       "371 FALSE        \n",
       "372 FALSE        "
      ]
     },
     "metadata": {},
     "output_type": "display_data"
    }
   ],
   "source": [
    "combined_deg_seurat %>% \n",
    "filter(cluster == 'Irx5__Lmx1a')"
   ]
  },
  {
   "cell_type": "code",
   "execution_count": 36,
   "id": "8616a6b1",
   "metadata": {},
   "outputs": [
    {
     "data": {
      "text/html": [
       "<table class=\"dataframe\">\n",
       "<caption>A tibble: 11 × 2</caption>\n",
       "<thead>\n",
       "\t<tr><th scope=col>cluster</th><th scope=col>class</th></tr>\n",
       "\t<tr><th scope=col>&lt;chr&gt;</th><th scope=col>&lt;chr&gt;</th></tr>\n",
       "</thead>\n",
       "<tbody>\n",
       "\t<tr><td>g1    </td><td>NA</td></tr>\n",
       "\t<tr><td>g2    </td><td>NA</td></tr>\n",
       "\t<tr><td>g3    </td><td>NA</td></tr>\n",
       "\t<tr><td>n0    </td><td>NA</td></tr>\n",
       "\t<tr><td>n1    </td><td>NA</td></tr>\n",
       "\t<tr><td>n2    </td><td>NA</td></tr>\n",
       "\t<tr><td>n3    </td><td>NA</td></tr>\n",
       "\t<tr><td>n5    </td><td>NA</td></tr>\n",
       "\t<tr><td>n8    </td><td>NA</td></tr>\n",
       "\t<tr><td>neuron</td><td>NA</td></tr>\n",
       "\t<tr><td>other </td><td>NA</td></tr>\n",
       "</tbody>\n",
       "</table>\n"
      ],
      "text/latex": [
       "A tibble: 11 × 2\n",
       "\\begin{tabular}{ll}\n",
       " cluster & class\\\\\n",
       " <chr> & <chr>\\\\\n",
       "\\hline\n",
       "\t g1     & NA\\\\\n",
       "\t g2     & NA\\\\\n",
       "\t g3     & NA\\\\\n",
       "\t n0     & NA\\\\\n",
       "\t n1     & NA\\\\\n",
       "\t n2     & NA\\\\\n",
       "\t n3     & NA\\\\\n",
       "\t n5     & NA\\\\\n",
       "\t n8     & NA\\\\\n",
       "\t neuron & NA\\\\\n",
       "\t other  & NA\\\\\n",
       "\\end{tabular}\n"
      ],
      "text/markdown": [
       "\n",
       "A tibble: 11 × 2\n",
       "\n",
       "| cluster &lt;chr&gt; | class &lt;chr&gt; |\n",
       "|---|---|\n",
       "| g1     | NA |\n",
       "| g2     | NA |\n",
       "| g3     | NA |\n",
       "| n0     | NA |\n",
       "| n1     | NA |\n",
       "| n2     | NA |\n",
       "| n3     | NA |\n",
       "| n5     | NA |\n",
       "| n8     | NA |\n",
       "| neuron | NA |\n",
       "| other  | NA |\n",
       "\n"
      ],
      "text/plain": [
       "   cluster class\n",
       "1  g1      NA   \n",
       "2  g2      NA   \n",
       "3  g3      NA   \n",
       "4  n0      NA   \n",
       "5  n1      NA   \n",
       "6  n2      NA   \n",
       "7  n3      NA   \n",
       "8  n5      NA   \n",
       "9  n8      NA   \n",
       "10 neuron  NA   \n",
       "11 other   NA   "
      ]
     },
     "metadata": {},
     "output_type": "display_data"
    }
   ],
   "source": [
    "combined_deg_seurat %>%\n",
    "distinct(cluster, class) %>%\n",
    "filter(is.na(class))"
   ]
  },
  {
   "cell_type": "code",
   "execution_count": null,
   "id": "f312703c",
   "metadata": {},
   "outputs": [],
   "source": []
  },
  {
   "cell_type": "code",
   "execution_count": 37,
   "id": "94ebf814",
   "metadata": {},
   "outputs": [],
   "source": [
    "combined_deg_seurat %>% write_xlsx('_targets_negbinom/combined_deg_seurat_d5_d14_negbinom.xlsx')"
   ]
  },
  {
   "cell_type": "code",
   "execution_count": null,
   "id": "e4ec0190",
   "metadata": {},
   "outputs": [],
   "source": []
  },
  {
   "cell_type": "code",
   "execution_count": null,
   "id": "c8551e79",
   "metadata": {},
   "outputs": [],
   "source": []
  },
  {
   "cell_type": "code",
   "execution_count": null,
   "id": "6acbd3b6",
   "metadata": {},
   "outputs": [],
   "source": []
  },
  {
   "cell_type": "code",
   "execution_count": null,
   "id": "0cfa44f4",
   "metadata": {},
   "outputs": [],
   "source": []
  },
  {
   "cell_type": "code",
   "execution_count": null,
   "id": "fbf4a224",
   "metadata": {},
   "outputs": [],
   "source": []
  },
  {
   "cell_type": "code",
   "execution_count": null,
   "id": "b993e124",
   "metadata": {},
   "outputs": [],
   "source": []
  },
  {
   "cell_type": "code",
   "execution_count": null,
   "id": "22d1a7e7",
   "metadata": {},
   "outputs": [],
   "source": []
  },
  {
   "cell_type": "code",
   "execution_count": null,
   "id": "5fc1e68e",
   "metadata": {},
   "outputs": [],
   "source": []
  },
  {
   "cell_type": "code",
   "execution_count": null,
   "id": "c011a947",
   "metadata": {},
   "outputs": [],
   "source": []
  },
  {
   "cell_type": "code",
   "execution_count": null,
   "id": "d2a1b091",
   "metadata": {},
   "outputs": [],
   "source": []
  }
 ],
 "metadata": {
  "kernelspec": {
   "display_name": "R [conda env:fgf1]",
   "language": "R",
   "name": "conda-env-fgf1-r"
  },
  "language_info": {
   "codemirror_mode": "r",
   "file_extension": ".r",
   "mimetype": "text/x-r-source",
   "name": "R",
   "pygments_lexer": "r",
   "version": "4.1.3"
  }
 },
 "nbformat": 4,
 "nbformat_minor": 5
}
