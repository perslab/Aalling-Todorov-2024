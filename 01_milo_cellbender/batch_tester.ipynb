{
 "cells": [
  {
   "cell_type": "code",
   "execution_count": 1,
   "id": "fb7e688d",
   "metadata": {},
   "outputs": [
    {
     "name": "stderr",
     "output_type": "stream",
     "text": [
      "Loading required package: SeuratObject\n",
      "\n",
      "Loading required package: sp\n",
      "\n",
      "\n",
      "Attaching package: ‘SeuratObject’\n",
      "\n",
      "\n",
      "The following object is masked from ‘package:base’:\n",
      "\n",
      "    intersect\n",
      "\n",
      "\n",
      "── \u001b[1mAttaching packages\u001b[22m ─────────────────────────────────────── tidyverse 1.3.2 ──\n",
      "\u001b[32m✔\u001b[39m \u001b[34mggplot2\u001b[39m 3.4.2     \u001b[32m✔\u001b[39m \u001b[34mpurrr  \u001b[39m 0.3.4\n",
      "\u001b[32m✔\u001b[39m \u001b[34mtibble \u001b[39m 3.2.1     \u001b[32m✔\u001b[39m \u001b[34mdplyr  \u001b[39m 1.1.2\n",
      "\u001b[32m✔\u001b[39m \u001b[34mtidyr  \u001b[39m 1.2.1     \u001b[32m✔\u001b[39m \u001b[34mstringr\u001b[39m 1.4.1\n",
      "\u001b[32m✔\u001b[39m \u001b[34mreadr  \u001b[39m 2.1.2     \u001b[32m✔\u001b[39m \u001b[34mforcats\u001b[39m 0.5.2\n",
      "── \u001b[1mConflicts\u001b[22m ────────────────────────────────────────── tidyverse_conflicts() ──\n",
      "\u001b[31m✖\u001b[39m \u001b[34mdplyr\u001b[39m::\u001b[32mfilter()\u001b[39m masks \u001b[34mstats\u001b[39m::filter()\n",
      "\u001b[31m✖\u001b[39m \u001b[34mdplyr\u001b[39m::\u001b[32mlag()\u001b[39m    masks \u001b[34mstats\u001b[39m::lag()\n"
     ]
    }
   ],
   "source": [
    "library(Seurat)\n",
    "library(tidyverse)\n",
    "library(patchwork)\n",
    "library(targets)"
   ]
  },
  {
   "cell_type": "code",
   "execution_count": 2,
   "id": "7a4e1052",
   "metadata": {},
   "outputs": [],
   "source": [
    "meta = tar_meta(store = '../01_parameter_sweep/_targets/')"
   ]
  },
  {
   "cell_type": "code",
   "execution_count": 9,
   "id": "7805448a",
   "metadata": {},
   "outputs": [
    {
     "data": {
      "text/html": [
       "<table class=\"dataframe\">\n",
       "<caption>A tibble: 1 × 18</caption>\n",
       "<thead>\n",
       "\t<tr><th scope=col>name</th><th scope=col>type</th><th scope=col>data</th><th scope=col>command</th><th scope=col>depend</th><th scope=col>seed</th><th scope=col>path</th><th scope=col>time</th><th scope=col>size</th><th scope=col>bytes</th><th scope=col>format</th><th scope=col>repository</th><th scope=col>iteration</th><th scope=col>parent</th><th scope=col>children</th><th scope=col>seconds</th><th scope=col>warnings</th><th scope=col>error</th></tr>\n",
       "\t<tr><th scope=col>&lt;chr&gt;</th><th scope=col>&lt;chr&gt;</th><th scope=col>&lt;chr&gt;</th><th scope=col>&lt;chr&gt;</th><th scope=col>&lt;chr&gt;</th><th scope=col>&lt;int&gt;</th><th scope=col>&lt;list&gt;</th><th scope=col>&lt;dttm&gt;</th><th scope=col>&lt;chr&gt;</th><th scope=col>&lt;int64&gt;</th><th scope=col>&lt;chr&gt;</th><th scope=col>&lt;chr&gt;</th><th scope=col>&lt;chr&gt;</th><th scope=col>&lt;lgl&gt;</th><th scope=col>&lt;list&gt;</th><th scope=col>&lt;dbl&gt;</th><th scope=col>&lt;chr&gt;</th><th scope=col>&lt;chr&gt;</th></tr>\n",
       "</thead>\n",
       "<tbody>\n",
       "\t<tr><td>batchy_score_tibble_Day14.Astrocytes_1bf64242363c591aa0e36f5b82d04c8e</td><td>stem</td><td>error</td><td>272a2dc45bfaf186</td><td>0840cff6286d9ba2</td><td>1368625049</td><td>NA</td><td>2024-01-14 21:24:10</td><td>de1c6d017cb4e8a8</td><td>38</td><td>qs</td><td>local</td><td>vector</td><td>NA</td><td>NA</td><td>0.004</td><td>NA</td><td>unused argument .</td></tr>\n",
       "</tbody>\n",
       "</table>\n"
      ],
      "text/latex": [
       "A tibble: 1 × 18\n",
       "\\begin{tabular}{llllllllllllllllll}\n",
       " name & type & data & command & depend & seed & path & time & size & bytes & format & repository & iteration & parent & children & seconds & warnings & error\\\\\n",
       " <chr> & <chr> & <chr> & <chr> & <chr> & <int> & <list> & <dttm> & <chr> & <int64> & <chr> & <chr> & <chr> & <lgl> & <list> & <dbl> & <chr> & <chr>\\\\\n",
       "\\hline\n",
       "\t batchy\\_score\\_tibble\\_Day14.Astrocytes\\_1bf64242363c591aa0e36f5b82d04c8e & stem & error & 272a2dc45bfaf186 & 0840cff6286d9ba2 & 1368625049 & NA & 2024-01-14 21:24:10 & de1c6d017cb4e8a8 & 38 & qs & local & vector & NA & NA & 0.004 & NA & unused argument .\\\\\n",
       "\\end{tabular}\n"
      ],
      "text/markdown": [
       "\n",
       "A tibble: 1 × 18\n",
       "\n",
       "| name &lt;chr&gt; | type &lt;chr&gt; | data &lt;chr&gt; | command &lt;chr&gt; | depend &lt;chr&gt; | seed &lt;int&gt; | path &lt;list&gt; | time &lt;dttm&gt; | size &lt;chr&gt; | bytes &lt;int64&gt; | format &lt;chr&gt; | repository &lt;chr&gt; | iteration &lt;chr&gt; | parent &lt;lgl&gt; | children &lt;list&gt; | seconds &lt;dbl&gt; | warnings &lt;chr&gt; | error &lt;chr&gt; |\n",
       "|---|---|---|---|---|---|---|---|---|---|---|---|---|---|---|---|---|---|\n",
       "| batchy_score_tibble_Day14.Astrocytes_1bf64242363c591aa0e36f5b82d04c8e | stem | error | 272a2dc45bfaf186 | 0840cff6286d9ba2 | 1368625049 | NA | 2024-01-14 21:24:10 | de1c6d017cb4e8a8 | 38 | qs | local | vector | NA | NA | 0.004 | NA | unused argument . |\n",
       "\n"
      ],
      "text/plain": [
       "  name                                                                  type\n",
       "1 batchy_score_tibble_Day14.Astrocytes_1bf64242363c591aa0e36f5b82d04c8e stem\n",
       "  data  command          depend           seed       path time               \n",
       "1 error 272a2dc45bfaf186 0840cff6286d9ba2 1368625049 NA   2024-01-14 21:24:10\n",
       "  size             bytes format repository iteration parent children seconds\n",
       "1 de1c6d017cb4e8a8 38    qs     local      vector    NA     NA       0.004  \n",
       "  warnings error            \n",
       "1 NA       unused argument ."
      ]
     },
     "metadata": {},
     "output_type": "display_data"
    }
   ],
   "source": [
    "meta %>%\n",
    "filter(str_detect(name, \"batchy_score_tibble_Day14.Astrocytes_1bf64242363c591aa0e36f5b82d04c8e\")) %>%\n",
    "filter(!is.na(error))"
   ]
  },
  {
   "cell_type": "code",
   "execution_count": 10,
   "id": "31b905a0",
   "metadata": {},
   "outputs": [
    {
     "data": {
      "text/html": [
       "<table class=\"dataframe\">\n",
       "<caption>A tibble: 1 × 2</caption>\n",
       "<thead>\n",
       "\t<tr><th scope=col>name</th><th scope=col>batchy_score</th></tr>\n",
       "\t<tr><th scope=col>&lt;chr&gt;</th><th scope=col>&lt;dbl&gt;</th></tr>\n",
       "</thead>\n",
       "<tbody>\n",
       "\t<tr><td>Day5.Astrocytes_ae00ffb5b995922e7a1ce470f5d7fd28</td><td>14723.27</td></tr>\n",
       "</tbody>\n",
       "</table>\n"
      ],
      "text/latex": [
       "A tibble: 1 × 2\n",
       "\\begin{tabular}{ll}\n",
       " name & batchy\\_score\\\\\n",
       " <chr> & <dbl>\\\\\n",
       "\\hline\n",
       "\t Day5.Astrocytes\\_ae00ffb5b995922e7a1ce470f5d7fd28 & 14723.27\\\\\n",
       "\\end{tabular}\n"
      ],
      "text/markdown": [
       "\n",
       "A tibble: 1 × 2\n",
       "\n",
       "| name &lt;chr&gt; | batchy_score &lt;dbl&gt; |\n",
       "|---|---|\n",
       "| Day5.Astrocytes_ae00ffb5b995922e7a1ce470f5d7fd28 | 14723.27 |\n",
       "\n"
      ],
      "text/plain": [
       "  name                                             batchy_score\n",
       "1 Day5.Astrocytes_ae00ffb5b995922e7a1ce470f5d7fd28 14723.27    "
      ]
     },
     "metadata": {},
     "output_type": "display_data"
    }
   ],
   "source": [
    "qs::qread('../01_parameter_sweep/_targets/objects/batchy_score_tibble_Day5.Astrocytes_ae00ffb5b995922e7a1ce470f5d7fd28')"
   ]
  },
  {
   "cell_type": "code",
   "execution_count": null,
   "id": "9a8fdb37",
   "metadata": {},
   "outputs": [],
   "source": []
  },
  {
   "cell_type": "code",
   "execution_count": null,
   "id": "a9a7b141",
   "metadata": {},
   "outputs": [],
   "source": []
  },
  {
   "cell_type": "code",
   "execution_count": null,
   "id": "e73b2d90",
   "metadata": {},
   "outputs": [],
   "source": []
  },
  {
   "cell_type": "code",
   "execution_count": null,
   "id": "e321108a",
   "metadata": {
    "scrolled": true
   },
   "outputs": [],
   "source": [
    "meta %>%\n",
    "filter(str_detect(name, \"Astrocytes\")) %>%\n",
    "filter(is.na(error))"
   ]
  },
  {
   "cell_type": "code",
   "execution_count": null,
   "id": "2d449ffb",
   "metadata": {},
   "outputs": [],
   "source": [
    "# obj = qs::qread('../01_milo/_targets/objects/obj_Day14.Agrp')\n",
    "obj = qs::qread('../01_parameter_sweep/_targets/objects/obj_Day5.Astrocytes_04840fcc9a6fcd161d85d9ccc1c994d4')\n",
    "obj"
   ]
  },
  {
   "cell_type": "raw",
   "id": "c45cab9d",
   "metadata": {},
   "source": [
    "dim = 5\n",
    "obj = obj %>% \n",
    "      RunPCA(dim=dim, features = .@assays$integrated@var.features) %>%\n",
    "      RunUMAP(., dims = seq(dim), return.model=TRUE)"
   ]
  },
  {
   "cell_type": "code",
   "execution_count": null,
   "id": "5e39fde0",
   "metadata": {},
   "outputs": [],
   "source": [
    "options(repr.plot.width=6, repr.plot.height=6)\n",
    "DimPlot(obj, reduction = \"umap\", group.by='batch', label=T) + NoLegend()"
   ]
  },
  {
   "cell_type": "code",
   "execution_count": null,
   "id": "d0115f37",
   "metadata": {},
   "outputs": [],
   "source": [
    "options(repr.plot.width=6, repr.plot.height=6)\n",
    "DimPlot(obj, reduction = \"umap\", group.by='seurat_clusters', label=T) + NoLegend()"
   ]
  },
  {
   "cell_type": "code",
   "execution_count": null,
   "id": "7ac3fc69",
   "metadata": {},
   "outputs": [],
   "source": [
    "# obj_other = qs::qread('../00_cellbender/_targets/objects/obj_cb_other_01')\n",
    "obj_other = qs::qread('_targets/objects/obj_other')\n",
    "obj_other"
   ]
  },
  {
   "cell_type": "code",
   "execution_count": null,
   "id": "bbcf85ec",
   "metadata": {},
   "outputs": [],
   "source": [
    "options(repr.plot.width=6, repr.plot.height=6)\n",
    "DimPlot(obj_other, reduction = \"umap\", group.by='labels_lvl1', label=F) + NoLegend()"
   ]
  },
  {
   "cell_type": "code",
   "execution_count": null,
   "id": "762c7eca",
   "metadata": {},
   "outputs": [],
   "source": [
    "options(repr.plot.width=6, repr.plot.height=6)\n",
    "DimPlot(obj_other, reduction = \"umap\", group.by='seurat_clusters', label=F) + NoLegend()"
   ]
  },
  {
   "cell_type": "code",
   "execution_count": null,
   "id": "17215326",
   "metadata": {},
   "outputs": [],
   "source": [
    "options(repr.plot.width=18, repr.plot.height=6)\n",
    "DimPlot(obj, reduction = \"umap\", group.by='batch', split.by='batch') + NoLegend()"
   ]
  },
  {
   "cell_type": "code",
   "execution_count": null,
   "id": "8c0e363f",
   "metadata": {},
   "outputs": [],
   "source": [
    "obj = obj %>% FindNeighbors(reduction = 'pca', \n",
    "                            dims = 1:30, \n",
    "                            return.neighbor = TRUE, \n",
    "                            k.param = 40, \n",
    "                            graph.name = c('nn_graph'))"
   ]
  },
  {
   "cell_type": "code",
   "execution_count": null,
   "id": "7c215c0f",
   "metadata": {},
   "outputs": [],
   "source": [
    "obj = obj %>% FindNeighbors(reduction = 'umap', \n",
    "                            dims = 1:2, \n",
    "                            return.neighbor = TRUE, \n",
    "                            k.param = 40, \n",
    "                            graph.name = c('nn_graph'))"
   ]
  },
  {
   "cell_type": "code",
   "execution_count": null,
   "id": "6f88f136",
   "metadata": {},
   "outputs": [],
   "source": []
  },
  {
   "cell_type": "code",
   "execution_count": null,
   "id": "21064226",
   "metadata": {},
   "outputs": [],
   "source": [
    "obj@neighbors"
   ]
  },
  {
   "cell_type": "code",
   "execution_count": null,
   "id": "f8e8789f",
   "metadata": {},
   "outputs": [],
   "source": [
    "Cells(obj) %>% sample(1)"
   ]
  },
  {
   "cell_type": "code",
   "execution_count": null,
   "id": "73319c1a",
   "metadata": {},
   "outputs": [],
   "source": [
    "sampled_cell = Cells(obj) %>% sample(1)\n",
    "top_neighbors_cell = TopNeighbors(obj@neighbors$nn_graph, sampled_cell, 40)\n",
    "\n",
    "options(repr.plot.width=12, repr.plot.height=6)\n",
    "p_cell = DimPlot(obj, cells.highlight = sampled_cell) + NoLegend()\n",
    "p_neighbors = DimPlot(obj, cells.highlight = top_neighbors_cell) + NoLegend()\n",
    "p_cell + p_neighbors"
   ]
  },
  {
   "cell_type": "code",
   "execution_count": null,
   "id": "35295b7f",
   "metadata": {},
   "outputs": [],
   "source": [
    "chi_squared_test <- function(batches, all_batches) {\n",
    "  # Calculate the table of observed frequencies for batches\n",
    "  observed <- table(batches)\n",
    "\n",
    "  # Calculate the table of frequencies for all_batches\n",
    "  all_batches_freq <- table(all_batches)\n",
    "\n",
    "  # Calculate the expected frequencies\n",
    "  expected <- all_batches_freq * length(batches) / length(all_batches)\n",
    "\n",
    "  # Match the names in observed and expected\n",
    "  # Assign 0 to categories in expected that are not in observed\n",
    "  expected <- expected[names(all_batches_freq)]\n",
    "  names(expected) <- names(all_batches_freq)\n",
    "  observed <- observed[names(all_batches_freq)]\n",
    "  observed[is.na(observed)] <- 0\n",
    "\n",
    "  # Perform the Chi-Squared test\n",
    "  test_result <- chisq.test(x = observed, p = expected / sum(expected))\n",
    "\n",
    "  # Return the test result\n",
    "  return(test_result)\n",
    "}\n"
   ]
  },
  {
   "cell_type": "code",
   "execution_count": null,
   "id": "973926a5",
   "metadata": {
    "scrolled": true
   },
   "outputs": [],
   "source": [
    "all_batches = obj$batch\n",
    "\n",
    "df = Cells(obj) %>% \n",
    "#     head(11) %>%\n",
    "    tibble(barcode=.) %>%\n",
    "    rowwise %>%\n",
    "    mutate(top_neighbors = list(TopNeighbors(obj@neighbors$nn5, barcode, 25))) %>%\n",
    "    mutate(batches = obj %>% \n",
    "                   `[[` %>%\n",
    "                   filter(row.names(.) %in% unlist(top_neighbors)) %>%\n",
    "                   pull(batch) %>%\n",
    "                   list) %>%\n",
    "    mutate(batch_xsqp = chi_squared_test(batches %>% unlist, all_batches) %>%\n",
    "                        `$`('p.value')) %>%\n",
    "    ungroup"
   ]
  },
  {
   "cell_type": "code",
   "execution_count": null,
   "id": "722c38d1",
   "metadata": {},
   "outputs": [],
   "source": [
    "df_meta = df %>%\n",
    "select(barcode, batch_xsqp) %>%\n",
    "column_to_rownames(var = 'barcode')\n",
    "\n",
    "obj = obj %>% AddMetaData(df_meta)"
   ]
  },
  {
   "cell_type": "code",
   "execution_count": null,
   "id": "5b1f4876",
   "metadata": {},
   "outputs": [],
   "source": [
    "batchy_score = function(obj=obj,\n",
    "                        batch = batch,\n",
    "                        dims = dims,\n",
    "                        reduction = 'pca',\n",
    "                        k.param = 40){\n",
    "\n",
    "    obj = obj %>% FindNeighbors(reduction = reduction, \n",
    "                            dims = seq(dims), \n",
    "                            return.neighbor = TRUE, \n",
    "                            k.param = k.param, \n",
    "                            graph.name = c('nn_graph'))\n",
    "    all_batches = obj[[batch]]\n",
    "\n",
    "    df = Cells(obj) %>% \n",
    "        tibble(barcode=.) %>%\n",
    "        rowwise %>%\n",
    "        mutate(top_neighbors = list(TopNeighbors(obj@neighbors$nn_graph, barcode, k.param))) %>%\n",
    "        mutate(batches = obj %>% \n",
    "                       `[[` %>%\n",
    "                       filter(row.names(.) %in% unlist(top_neighbors)) %>%\n",
    "                       `[[`(batch) %>%\n",
    "                       list) %>%\n",
    "        mutate(batch_xsqp = chi_squared_test(batches %>% unlist, all_batches) %>%\n",
    "                            `$`('p.value')) %>%\n",
    "        ungroup\n",
    "    \n",
    "    df_meta = df %>%\n",
    "        select(barcode, batch_xsqp) %>%\n",
    "        column_to_rownames(var = 'barcode') %>%\n",
    "        rowwise %>%\n",
    "        mutate(logp_bxsqp = -log10(batch_xsqp)) %>%\n",
    "        ungroup\n",
    "\n",
    "    obj = obj %>% AddMetaData(df_meta)\n",
    "    obj\n",
    "}"
   ]
  },
  {
   "cell_type": "code",
   "execution_count": null,
   "id": "1486a2a0",
   "metadata": {},
   "outputs": [],
   "source": [
    "obj = batchy_score(obj=obj,\n",
    "                        batch = \"batch\",\n",
    "                        dims = 30,\n",
    "                        reduction = 'pca',\n",
    "                        k.param = 40)\n",
    "\n",
    "obj"
   ]
  },
  {
   "cell_type": "code",
   "execution_count": null,
   "id": "cd0d9e03",
   "metadata": {},
   "outputs": [],
   "source": [
    "obj %>% `[[`('logp_bxsqp') %>% sum %>% tibble(name='blah', batchy_score=.)"
   ]
  },
  {
   "cell_type": "code",
   "execution_count": null,
   "id": "cad1cf01",
   "metadata": {},
   "outputs": [],
   "source": []
  },
  {
   "cell_type": "code",
   "execution_count": null,
   "id": "d299ca4e",
   "metadata": {},
   "outputs": [],
   "source": []
  },
  {
   "cell_type": "code",
   "execution_count": null,
   "id": "c4201698",
   "metadata": {},
   "outputs": [],
   "source": [
    "df_meta %>%\n",
    "rowwise %>%\n",
    "mutate(logp_bxsqp = -log10(batch_xsqp)) %>%\n",
    "ungroup"
   ]
  },
  {
   "cell_type": "code",
   "execution_count": null,
   "id": "ed6c4d6e",
   "metadata": {},
   "outputs": [],
   "source": [
    "options(repr.plot.width=8, repr.plot.height=6)\n",
    "FeaturePlot(obj, reduction = \"umap\", features = 'batch_xsqp', min.cutoff = 0.05, max.cutoff=0.050001)"
   ]
  },
  {
   "cell_type": "code",
   "execution_count": null,
   "id": "614e5b87",
   "metadata": {},
   "outputs": [],
   "source": [
    "obj %>% \n",
    "`[[` %>%\n",
    "mutate(batch_here = batch_xsqp < 0.05) %>%\n",
    "group_by(batch, batch_here) %>%\n",
    "summarise(n=n()) %>% print"
   ]
  },
  {
   "cell_type": "code",
   "execution_count": null,
   "id": "9c4447c5",
   "metadata": {},
   "outputs": [],
   "source": [
    "obj$batch_here = obj %>% \n",
    "`[[` %>%\n",
    "mutate(batch_here = batch_xsqp < 0.05)"
   ]
  },
  {
   "cell_type": "code",
   "execution_count": null,
   "id": "be36e190",
   "metadata": {},
   "outputs": [],
   "source": [
    "options(repr.plot.width=7, repr.plot.height=6)\n",
    "DimPlot(obj, reduction = \"umap\", group.by='batch_here', label=F)"
   ]
  },
  {
   "cell_type": "code",
   "execution_count": null,
   "id": "2fab26e2",
   "metadata": {},
   "outputs": [],
   "source": [
    "options(repr.plot.width=12, repr.plot.height=6)\n",
    "DimPlot(obj, reduction = \"umap\", split.by='batch_here', group.by='batch_here', label=F)"
   ]
  },
  {
   "cell_type": "code",
   "execution_count": null,
   "id": "885d5688",
   "metadata": {},
   "outputs": [],
   "source": []
  }
 ],
 "metadata": {
  "kernelspec": {
   "display_name": "R [conda env:fgf1]",
   "language": "R",
   "name": "conda-env-fgf1-r"
  },
  "language_info": {
   "codemirror_mode": "r",
   "file_extension": ".r",
   "mimetype": "text/x-r-source",
   "name": "R",
   "pygments_lexer": "r",
   "version": "4.1.3"
  }
 },
 "nbformat": 4,
 "nbformat_minor": 5
}
