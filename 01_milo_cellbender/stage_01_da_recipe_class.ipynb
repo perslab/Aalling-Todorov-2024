{
 "cells": [
  {
   "cell_type": "code",
   "execution_count": 9,
   "id": "28b71d94",
   "metadata": {},
   "outputs": [],
   "source": [
    "library(tidyverse)\n",
    "library(targets)\n",
    "library(tarchetypes)"
   ]
  },
  {
   "cell_type": "code",
   "execution_count": 10,
   "id": "96fd8697",
   "metadata": {},
   "outputs": [
    {
     "data": {
      "text/html": [
       "<table class=\"dataframe\">\n",
       "<caption>A rowwise_df: 4 × 8</caption>\n",
       "<thead>\n",
       "\t<tr><th scope=col>label</th><th scope=col>object</th><th scope=col>day</th><th scope=col>cluster</th><th scope=col>milo_obj</th><th scope=col>milo_index_obj</th><th scope=col>design_df</th><th scope=col>mm</th></tr>\n",
       "\t<tr><th scope=col>&lt;chr&gt;</th><th scope=col>&lt;list&gt;</th><th scope=col>&lt;chr&gt;</th><th scope=col>&lt;chr&gt;</th><th scope=col>&lt;list&gt;</th><th scope=col>&lt;list&gt;</th><th scope=col>&lt;list&gt;</th><th scope=col>&lt;list&gt;</th></tr>\n",
       "</thead>\n",
       "<tbody>\n",
       "\t<tr><td>Day14.other </td><td>exp_labelled_other</td><td>Day14</td><td>other </td><td>milo_Day14.other</td><td>milo_index_tibble_Day14.other</td><td>design_df_Day14.other</td><td>mm_Day14.other</td></tr>\n",
       "\t<tr><td>Day5.other  </td><td>exp_labelled_other</td><td>Day5 </td><td>other </td><td>milo_Day5.other</td><td>milo_index_tibble_Day5.other</td><td>design_df_Day5.other</td><td>mm_Day5.other</td></tr>\n",
       "\t<tr><td>Day14.neuron</td><td>exp_labelled_neuron</td><td>Day14</td><td>neuron</td><td>milo_Day14.neuron</td><td>milo_index_tibble_Day14.neuron</td><td>design_df_Day14.neuron</td><td>mm_Day14.neuron</td></tr>\n",
       "\t<tr><td>Day5.neuron </td><td>exp_labelled_neuron</td><td>Day5 </td><td>neuron</td><td>milo_Day5.neuron</td><td>milo_index_tibble_Day5.neuron</td><td>design_df_Day5.neuron</td><td>mm_Day5.neuron</td></tr>\n",
       "</tbody>\n",
       "</table>\n"
      ],
      "text/latex": [
       "A rowwise\\_df: 4 × 8\n",
       "\\begin{tabular}{llllllll}\n",
       " label & object & day & cluster & milo\\_obj & milo\\_index\\_obj & design\\_df & mm\\\\\n",
       " <chr> & <list> & <chr> & <chr> & <list> & <list> & <list> & <list>\\\\\n",
       "\\hline\n",
       "\t Day14.other  & exp\\_labelled\\_other & Day14 & other  & milo\\_Day14.other & milo\\_index\\_tibble\\_Day14.other & design\\_df\\_Day14.other & mm\\_Day14.other\\\\\n",
       "\t Day5.other   & exp\\_labelled\\_other & Day5  & other  & milo\\_Day5.other & milo\\_index\\_tibble\\_Day5.other & design\\_df\\_Day5.other & mm\\_Day5.other\\\\\n",
       "\t Day14.neuron & exp\\_labelled\\_neuron & Day14 & neuron & milo\\_Day14.neuron & milo\\_index\\_tibble\\_Day14.neuron & design\\_df\\_Day14.neuron & mm\\_Day14.neuron\\\\\n",
       "\t Day5.neuron  & exp\\_labelled\\_neuron & Day5  & neuron & milo\\_Day5.neuron & milo\\_index\\_tibble\\_Day5.neuron & design\\_df\\_Day5.neuron & mm\\_Day5.neuron\\\\\n",
       "\\end{tabular}\n"
      ],
      "text/markdown": [
       "\n",
       "A rowwise_df: 4 × 8\n",
       "\n",
       "| label &lt;chr&gt; | object &lt;list&gt; | day &lt;chr&gt; | cluster &lt;chr&gt; | milo_obj &lt;list&gt; | milo_index_obj &lt;list&gt; | design_df &lt;list&gt; | mm &lt;list&gt; |\n",
       "|---|---|---|---|---|---|---|---|\n",
       "| Day14.other  | exp_labelled_other | Day14 | other  | milo_Day14.other | milo_index_tibble_Day14.other | design_df_Day14.other | mm_Day14.other |\n",
       "| Day5.other   | exp_labelled_other | Day5  | other  | milo_Day5.other | milo_index_tibble_Day5.other | design_df_Day5.other | mm_Day5.other |\n",
       "| Day14.neuron | exp_labelled_neuron | Day14 | neuron | milo_Day14.neuron | milo_index_tibble_Day14.neuron | design_df_Day14.neuron | mm_Day14.neuron |\n",
       "| Day5.neuron  | exp_labelled_neuron | Day5  | neuron | milo_Day5.neuron | milo_index_tibble_Day5.neuron | design_df_Day5.neuron | mm_Day5.neuron |\n",
       "\n"
      ],
      "text/plain": [
       "  label        object              day   cluster milo_obj         \n",
       "1 Day14.other  exp_labelled_other  Day14 other   milo_Day14.other \n",
       "2 Day5.other   exp_labelled_other  Day5  other   milo_Day5.other  \n",
       "3 Day14.neuron exp_labelled_neuron Day14 neuron  milo_Day14.neuron\n",
       "4 Day5.neuron  exp_labelled_neuron Day5  neuron  milo_Day5.neuron \n",
       "  milo_index_obj                 design_df              mm             \n",
       "1 milo_index_tibble_Day14.other  design_df_Day14.other  mm_Day14.other \n",
       "2 milo_index_tibble_Day5.other   design_df_Day5.other   mm_Day5.other  \n",
       "3 milo_index_tibble_Day14.neuron design_df_Day14.neuron mm_Day14.neuron\n",
       "4 milo_index_tibble_Day5.neuron  design_df_Day5.neuron  mm_Day5.neuron "
      ]
     },
     "metadata": {},
     "output_type": "display_data"
    }
   ],
   "source": [
    "clusters_tibble = qs::qread('clusters_tibble_class.qs')\n",
    "\n",
    "clusters_tibble$milo_obj = clusters_tibble %>%\n",
    "    pull(label) %>%\n",
    "    paste0(\"milo_\", .) %>%\n",
    "    rlang::syms()\n",
    "clusters_tibble$milo_index_obj = clusters_tibble %>%\n",
    "    pull(label) %>%\n",
    "    paste0(\"milo_index_tibble_\", .) %>%\n",
    "    rlang::syms()\n",
    "clusters_tibble$design_df = clusters_tibble %>%\n",
    "    pull(label) %>%\n",
    "    paste0(\"design_df_\", .) %>%\n",
    "    rlang::syms()\n",
    "clusters_tibble$mm = clusters_tibble %>%\n",
    "    pull(label) %>%\n",
    "    paste0(\"mm_\", .) %>%\n",
    "    rlang::syms()\n",
    "clusters_tibble"
   ]
  },
  {
   "cell_type": "code",
   "execution_count": 11,
   "id": "49b7d8c9",
   "metadata": {},
   "outputs": [
    {
     "data": {
      "text/html": [
       "<table class=\"dataframe\">\n",
       "<caption>A tibble: 11 × 2</caption>\n",
       "<thead>\n",
       "\t<tr><th scope=col>contrast_name</th><th scope=col>contrast</th></tr>\n",
       "\t<tr><th scope=col>&lt;chr&gt;</th><th scope=col>&lt;chr&gt;</th></tr>\n",
       "</thead>\n",
       "<tbody>\n",
       "\t<tr><td>obob5v5        </td><td>groupFGF1.Day5.obob - groupVeh_PF.Day5.obob                                                          </td></tr>\n",
       "\t<tr><td>obob14v14      </td><td>groupFGF1.Day14.obob - groupVeh_PF.Day14.obob                                                        </td></tr>\n",
       "\t<tr><td>obobBL6        </td><td>((groupVeh_PF.Day5.obob+groupVeh_PF.Day14.obob)/2) - ((groupVeh_PF.Day5.BL6+groupVeh_PF.Day14.BL6)/2)</td></tr>\n",
       "\t<tr><td>obobBL6d5      </td><td>groupVeh_PF.Day5.obob - groupVeh_PF.Day5.BL6                                                         </td></tr>\n",
       "\t<tr><td>obobBL6d14     </td><td>groupVeh_PF.Day14.obob - groupVeh_PF.Day14.BL6                                                       </td></tr>\n",
       "\t<tr><td>obob5vBL6      </td><td>groupVeh_PF.Day5.obob - ((groupVeh_PF.Day5.BL6 + groupVeh_PF.Day14.BL6)/2)                           </td></tr>\n",
       "\t<tr><td>obob14vBL6     </td><td>groupVeh_PF.Day14.obob - ((groupVeh_PF.Day5.BL6 + groupVeh_PF.Day14.BL6)/2)                          </td></tr>\n",
       "\t<tr><td>obobFGF1BL6d5  </td><td>groupFGF1.Day5.obob - groupVeh_PF.Day5.BL6                                                           </td></tr>\n",
       "\t<tr><td>obobFGF1BL6d14 </td><td>groupFGF1.Day14.obob - groupVeh_PF.Day14.BL6                                                         </td></tr>\n",
       "\t<tr><td>BL6d5d14       </td><td>groupVeh_PF.Day5.BL6-groupVeh_PF.Day14.BL6                                                           </td></tr>\n",
       "\t<tr><td>obobVeh_PFd5d14</td><td>groupVeh_PF.Day5.obob-groupVeh_PF.Day14.obob                                                         </td></tr>\n",
       "</tbody>\n",
       "</table>\n"
      ],
      "text/latex": [
       "A tibble: 11 × 2\n",
       "\\begin{tabular}{ll}\n",
       " contrast\\_name & contrast\\\\\n",
       " <chr> & <chr>\\\\\n",
       "\\hline\n",
       "\t obob5v5         & groupFGF1.Day5.obob - groupVeh\\_PF.Day5.obob                                                          \\\\\n",
       "\t obob14v14       & groupFGF1.Day14.obob - groupVeh\\_PF.Day14.obob                                                        \\\\\n",
       "\t obobBL6         & ((groupVeh\\_PF.Day5.obob+groupVeh\\_PF.Day14.obob)/2) - ((groupVeh\\_PF.Day5.BL6+groupVeh\\_PF.Day14.BL6)/2)\\\\\n",
       "\t obobBL6d5       & groupVeh\\_PF.Day5.obob - groupVeh\\_PF.Day5.BL6                                                         \\\\\n",
       "\t obobBL6d14      & groupVeh\\_PF.Day14.obob - groupVeh\\_PF.Day14.BL6                                                       \\\\\n",
       "\t obob5vBL6       & groupVeh\\_PF.Day5.obob - ((groupVeh\\_PF.Day5.BL6 + groupVeh\\_PF.Day14.BL6)/2)                           \\\\\n",
       "\t obob14vBL6      & groupVeh\\_PF.Day14.obob - ((groupVeh\\_PF.Day5.BL6 + groupVeh\\_PF.Day14.BL6)/2)                          \\\\\n",
       "\t obobFGF1BL6d5   & groupFGF1.Day5.obob - groupVeh\\_PF.Day5.BL6                                                           \\\\\n",
       "\t obobFGF1BL6d14  & groupFGF1.Day14.obob - groupVeh\\_PF.Day14.BL6                                                         \\\\\n",
       "\t BL6d5d14        & groupVeh\\_PF.Day5.BL6-groupVeh\\_PF.Day14.BL6                                                           \\\\\n",
       "\t obobVeh\\_PFd5d14 & groupVeh\\_PF.Day5.obob-groupVeh\\_PF.Day14.obob                                                         \\\\\n",
       "\\end{tabular}\n"
      ],
      "text/markdown": [
       "\n",
       "A tibble: 11 × 2\n",
       "\n",
       "| contrast_name &lt;chr&gt; | contrast &lt;chr&gt; |\n",
       "|---|---|\n",
       "| obob5v5         | groupFGF1.Day5.obob - groupVeh_PF.Day5.obob                                                           |\n",
       "| obob14v14       | groupFGF1.Day14.obob - groupVeh_PF.Day14.obob                                                         |\n",
       "| obobBL6         | ((groupVeh_PF.Day5.obob+groupVeh_PF.Day14.obob)/2) - ((groupVeh_PF.Day5.BL6+groupVeh_PF.Day14.BL6)/2) |\n",
       "| obobBL6d5       | groupVeh_PF.Day5.obob - groupVeh_PF.Day5.BL6                                                          |\n",
       "| obobBL6d14      | groupVeh_PF.Day14.obob - groupVeh_PF.Day14.BL6                                                        |\n",
       "| obob5vBL6       | groupVeh_PF.Day5.obob - ((groupVeh_PF.Day5.BL6 + groupVeh_PF.Day14.BL6)/2)                            |\n",
       "| obob14vBL6      | groupVeh_PF.Day14.obob - ((groupVeh_PF.Day5.BL6 + groupVeh_PF.Day14.BL6)/2)                           |\n",
       "| obobFGF1BL6d5   | groupFGF1.Day5.obob - groupVeh_PF.Day5.BL6                                                            |\n",
       "| obobFGF1BL6d14  | groupFGF1.Day14.obob - groupVeh_PF.Day14.BL6                                                          |\n",
       "| BL6d5d14        | groupVeh_PF.Day5.BL6-groupVeh_PF.Day14.BL6                                                            |\n",
       "| obobVeh_PFd5d14 | groupVeh_PF.Day5.obob-groupVeh_PF.Day14.obob                                                          |\n",
       "\n"
      ],
      "text/plain": [
       "   contrast_name  \n",
       "1  obob5v5        \n",
       "2  obob14v14      \n",
       "3  obobBL6        \n",
       "4  obobBL6d5      \n",
       "5  obobBL6d14     \n",
       "6  obob5vBL6      \n",
       "7  obob14vBL6     \n",
       "8  obobFGF1BL6d5  \n",
       "9  obobFGF1BL6d14 \n",
       "10 BL6d5d14       \n",
       "11 obobVeh_PFd5d14\n",
       "   contrast                                                                                             \n",
       "1  groupFGF1.Day5.obob - groupVeh_PF.Day5.obob                                                          \n",
       "2  groupFGF1.Day14.obob - groupVeh_PF.Day14.obob                                                        \n",
       "3  ((groupVeh_PF.Day5.obob+groupVeh_PF.Day14.obob)/2) - ((groupVeh_PF.Day5.BL6+groupVeh_PF.Day14.BL6)/2)\n",
       "4  groupVeh_PF.Day5.obob - groupVeh_PF.Day5.BL6                                                         \n",
       "5  groupVeh_PF.Day14.obob - groupVeh_PF.Day14.BL6                                                       \n",
       "6  groupVeh_PF.Day5.obob - ((groupVeh_PF.Day5.BL6 + groupVeh_PF.Day14.BL6)/2)                           \n",
       "7  groupVeh_PF.Day14.obob - ((groupVeh_PF.Day5.BL6 + groupVeh_PF.Day14.BL6)/2)                          \n",
       "8  groupFGF1.Day5.obob - groupVeh_PF.Day5.BL6                                                           \n",
       "9  groupFGF1.Day14.obob - groupVeh_PF.Day14.BL6                                                         \n",
       "10 groupVeh_PF.Day5.BL6-groupVeh_PF.Day14.BL6                                                           \n",
       "11 groupVeh_PF.Day5.obob-groupVeh_PF.Day14.obob                                                         "
      ]
     },
     "metadata": {},
     "output_type": "display_data"
    }
   ],
   "source": [
    "contrasts_tibble = tibble(\n",
    "    contrast_name = c(\"obob5v5\",\n",
    "                      \"obob14v14\",\n",
    "                      \"obobBL6\",\n",
    "                      \"obobBL6d5\",\n",
    "                      \"obobBL6d14\",\n",
    "                      \"obob5vBL6\",\n",
    "                      \"obob14vBL6\",\n",
    "                      \"obobFGF1BL6d5\",\n",
    "                      \"obobFGF1BL6d14\",\n",
    "                      \"BL6d5d14\",\n",
    "                      \"obobVeh_PFd5d14\"),\n",
    "    contrast = c(\"groupFGF1.Day5.obob - groupVeh_PF.Day5.obob\",\n",
    "                 \"groupFGF1.Day14.obob - groupVeh_PF.Day14.obob\",\n",
    "                 \"((groupVeh_PF.Day5.obob+groupVeh_PF.Day14.obob)/2) - ((groupVeh_PF.Day5.BL6+groupVeh_PF.Day14.BL6)/2)\",\n",
    "                 \"groupVeh_PF.Day5.obob - groupVeh_PF.Day5.BL6\",\n",
    "                 \"groupVeh_PF.Day14.obob - groupVeh_PF.Day14.BL6\",\n",
    "                 \"groupVeh_PF.Day5.obob - ((groupVeh_PF.Day5.BL6 + groupVeh_PF.Day14.BL6)/2)\",\n",
    "                 \"groupVeh_PF.Day14.obob - ((groupVeh_PF.Day5.BL6 + groupVeh_PF.Day14.BL6)/2)\",\n",
    "                 \"groupFGF1.Day5.obob - groupVeh_PF.Day5.BL6\",\n",
    "                 \"groupFGF1.Day14.obob - groupVeh_PF.Day14.BL6\",\n",
    "                 \"groupVeh_PF.Day5.BL6-groupVeh_PF.Day14.BL6\",\n",
    "                 \"groupVeh_PF.Day5.obob-groupVeh_PF.Day14.obob\")\n",
    ")\n",
    "contrasts_tibble"
   ]
  },
  {
   "cell_type": "code",
   "execution_count": 12,
   "id": "a94a252e",
   "metadata": {},
   "outputs": [
    {
     "data": {
      "text/html": [
       "<table class=\"dataframe\">\n",
       "<caption>A tibble: 4 × 2</caption>\n",
       "<thead>\n",
       "\t<tr><th scope=col>contrast_name</th><th scope=col>contrast</th></tr>\n",
       "\t<tr><th scope=col>&lt;chr&gt;</th><th scope=col>&lt;chr&gt;</th></tr>\n",
       "</thead>\n",
       "<tbody>\n",
       "\t<tr><td>obob5v5   </td><td>groupFGF1.Day5.obob - groupVeh_PF.Day5.obob   </td></tr>\n",
       "\t<tr><td>obob14v14 </td><td>groupFGF1.Day14.obob - groupVeh_PF.Day14.obob </td></tr>\n",
       "\t<tr><td>obobBL6d5 </td><td>groupVeh_PF.Day5.obob - groupVeh_PF.Day5.BL6  </td></tr>\n",
       "\t<tr><td>obobBL6d14</td><td>groupVeh_PF.Day14.obob - groupVeh_PF.Day14.BL6</td></tr>\n",
       "</tbody>\n",
       "</table>\n"
      ],
      "text/latex": [
       "A tibble: 4 × 2\n",
       "\\begin{tabular}{ll}\n",
       " contrast\\_name & contrast\\\\\n",
       " <chr> & <chr>\\\\\n",
       "\\hline\n",
       "\t obob5v5    & groupFGF1.Day5.obob - groupVeh\\_PF.Day5.obob   \\\\\n",
       "\t obob14v14  & groupFGF1.Day14.obob - groupVeh\\_PF.Day14.obob \\\\\n",
       "\t obobBL6d5  & groupVeh\\_PF.Day5.obob - groupVeh\\_PF.Day5.BL6  \\\\\n",
       "\t obobBL6d14 & groupVeh\\_PF.Day14.obob - groupVeh\\_PF.Day14.BL6\\\\\n",
       "\\end{tabular}\n"
      ],
      "text/markdown": [
       "\n",
       "A tibble: 4 × 2\n",
       "\n",
       "| contrast_name &lt;chr&gt; | contrast &lt;chr&gt; |\n",
       "|---|---|\n",
       "| obob5v5    | groupFGF1.Day5.obob - groupVeh_PF.Day5.obob    |\n",
       "| obob14v14  | groupFGF1.Day14.obob - groupVeh_PF.Day14.obob  |\n",
       "| obobBL6d5  | groupVeh_PF.Day5.obob - groupVeh_PF.Day5.BL6   |\n",
       "| obobBL6d14 | groupVeh_PF.Day14.obob - groupVeh_PF.Day14.BL6 |\n",
       "\n"
      ],
      "text/plain": [
       "  contrast_name contrast                                      \n",
       "1 obob5v5       groupFGF1.Day5.obob - groupVeh_PF.Day5.obob   \n",
       "2 obob14v14     groupFGF1.Day14.obob - groupVeh_PF.Day14.obob \n",
       "3 obobBL6d5     groupVeh_PF.Day5.obob - groupVeh_PF.Day5.BL6  \n",
       "4 obobBL6d14    groupVeh_PF.Day14.obob - groupVeh_PF.Day14.BL6"
      ]
     },
     "metadata": {},
     "output_type": "display_data"
    }
   ],
   "source": [
    "contrasts_tibble = contrasts_tibble %>%\n",
    "filter(contrast_name %in% c(\"obob5v5\", \"obob14v14\", \"obobBL6d5\", \"obobBL6d14\"))\n",
    "\n",
    "contrasts_tibble"
   ]
  },
  {
   "cell_type": "code",
   "execution_count": null,
   "id": "e29f0572",
   "metadata": {},
   "outputs": [],
   "source": []
  },
  {
   "cell_type": "code",
   "execution_count": 13,
   "id": "d6892e35",
   "metadata": {},
   "outputs": [
    {
     "data": {
      "text/html": [
       "<table class=\"dataframe\">\n",
       "<caption>A tibble: 6 × 10</caption>\n",
       "<thead>\n",
       "\t<tr><th scope=col>label</th><th scope=col>object</th><th scope=col>day</th><th scope=col>cluster</th><th scope=col>milo_obj</th><th scope=col>milo_index_obj</th><th scope=col>design_df</th><th scope=col>mm</th><th scope=col>contrast_name</th><th scope=col>contrast</th></tr>\n",
       "\t<tr><th scope=col>&lt;chr&gt;</th><th scope=col>&lt;list&gt;</th><th scope=col>&lt;chr&gt;</th><th scope=col>&lt;chr&gt;</th><th scope=col>&lt;list&gt;</th><th scope=col>&lt;list&gt;</th><th scope=col>&lt;list&gt;</th><th scope=col>&lt;list&gt;</th><th scope=col>&lt;chr&gt;</th><th scope=col>&lt;chr&gt;</th></tr>\n",
       "</thead>\n",
       "<tbody>\n",
       "\t<tr><td>Day14.neuron___obob14v14 </td><td>exp_labelled_neuron</td><td>Day14</td><td>neuron</td><td>milo_Day14.neuron</td><td>milo_index_tibble_Day14.neuron</td><td>design_df_Day14.neuron</td><td>mm_Day14.neuron</td><td>obob14v14 </td><td>groupFGF1.Day14.obob - groupVeh_PF.Day14.obob </td></tr>\n",
       "\t<tr><td>Day14.neuron___obob5v5   </td><td>exp_labelled_neuron</td><td>Day14</td><td>neuron</td><td>milo_Day14.neuron</td><td>milo_index_tibble_Day14.neuron</td><td>design_df_Day14.neuron</td><td>mm_Day14.neuron</td><td>obob5v5   </td><td>groupFGF1.Day5.obob - groupVeh_PF.Day5.obob   </td></tr>\n",
       "\t<tr><td>Day14.neuron___obobBL6d14</td><td>exp_labelled_neuron</td><td>Day14</td><td>neuron</td><td>milo_Day14.neuron</td><td>milo_index_tibble_Day14.neuron</td><td>design_df_Day14.neuron</td><td>mm_Day14.neuron</td><td>obobBL6d14</td><td>groupVeh_PF.Day14.obob - groupVeh_PF.Day14.BL6</td></tr>\n",
       "\t<tr><td>Day14.neuron___obobBL6d5 </td><td>exp_labelled_neuron</td><td>Day14</td><td>neuron</td><td>milo_Day14.neuron</td><td>milo_index_tibble_Day14.neuron</td><td>design_df_Day14.neuron</td><td>mm_Day14.neuron</td><td>obobBL6d5 </td><td>groupVeh_PF.Day5.obob - groupVeh_PF.Day5.BL6  </td></tr>\n",
       "\t<tr><td>Day14.other___obob14v14  </td><td>exp_labelled_other</td><td>Day14</td><td>other </td><td>milo_Day14.other</td><td>milo_index_tibble_Day14.other</td><td>design_df_Day14.other</td><td>mm_Day14.other</td><td>obob14v14 </td><td>groupFGF1.Day14.obob - groupVeh_PF.Day14.obob </td></tr>\n",
       "\t<tr><td>Day14.other___obob5v5    </td><td>exp_labelled_other</td><td>Day14</td><td>other </td><td>milo_Day14.other</td><td>milo_index_tibble_Day14.other</td><td>design_df_Day14.other</td><td>mm_Day14.other</td><td>obob5v5   </td><td>groupFGF1.Day5.obob - groupVeh_PF.Day5.obob   </td></tr>\n",
       "</tbody>\n",
       "</table>\n"
      ],
      "text/latex": [
       "A tibble: 6 × 10\n",
       "\\begin{tabular}{llllllllll}\n",
       " label & object & day & cluster & milo\\_obj & milo\\_index\\_obj & design\\_df & mm & contrast\\_name & contrast\\\\\n",
       " <chr> & <list> & <chr> & <chr> & <list> & <list> & <list> & <list> & <chr> & <chr>\\\\\n",
       "\\hline\n",
       "\t Day14.neuron\\_\\_\\_obob14v14  & exp\\_labelled\\_neuron & Day14 & neuron & milo\\_Day14.neuron & milo\\_index\\_tibble\\_Day14.neuron & design\\_df\\_Day14.neuron & mm\\_Day14.neuron & obob14v14  & groupFGF1.Day14.obob - groupVeh\\_PF.Day14.obob \\\\\n",
       "\t Day14.neuron\\_\\_\\_obob5v5    & exp\\_labelled\\_neuron & Day14 & neuron & milo\\_Day14.neuron & milo\\_index\\_tibble\\_Day14.neuron & design\\_df\\_Day14.neuron & mm\\_Day14.neuron & obob5v5    & groupFGF1.Day5.obob - groupVeh\\_PF.Day5.obob   \\\\\n",
       "\t Day14.neuron\\_\\_\\_obobBL6d14 & exp\\_labelled\\_neuron & Day14 & neuron & milo\\_Day14.neuron & milo\\_index\\_tibble\\_Day14.neuron & design\\_df\\_Day14.neuron & mm\\_Day14.neuron & obobBL6d14 & groupVeh\\_PF.Day14.obob - groupVeh\\_PF.Day14.BL6\\\\\n",
       "\t Day14.neuron\\_\\_\\_obobBL6d5  & exp\\_labelled\\_neuron & Day14 & neuron & milo\\_Day14.neuron & milo\\_index\\_tibble\\_Day14.neuron & design\\_df\\_Day14.neuron & mm\\_Day14.neuron & obobBL6d5  & groupVeh\\_PF.Day5.obob - groupVeh\\_PF.Day5.BL6  \\\\\n",
       "\t Day14.other\\_\\_\\_obob14v14   & exp\\_labelled\\_other & Day14 & other  & milo\\_Day14.other & milo\\_index\\_tibble\\_Day14.other & design\\_df\\_Day14.other & mm\\_Day14.other & obob14v14  & groupFGF1.Day14.obob - groupVeh\\_PF.Day14.obob \\\\\n",
       "\t Day14.other\\_\\_\\_obob5v5     & exp\\_labelled\\_other & Day14 & other  & milo\\_Day14.other & milo\\_index\\_tibble\\_Day14.other & design\\_df\\_Day14.other & mm\\_Day14.other & obob5v5    & groupFGF1.Day5.obob - groupVeh\\_PF.Day5.obob   \\\\\n",
       "\\end{tabular}\n"
      ],
      "text/markdown": [
       "\n",
       "A tibble: 6 × 10\n",
       "\n",
       "| label &lt;chr&gt; | object &lt;list&gt; | day &lt;chr&gt; | cluster &lt;chr&gt; | milo_obj &lt;list&gt; | milo_index_obj &lt;list&gt; | design_df &lt;list&gt; | mm &lt;list&gt; | contrast_name &lt;chr&gt; | contrast &lt;chr&gt; |\n",
       "|---|---|---|---|---|---|---|---|---|---|\n",
       "| Day14.neuron___obob14v14  | exp_labelled_neuron | Day14 | neuron | milo_Day14.neuron | milo_index_tibble_Day14.neuron | design_df_Day14.neuron | mm_Day14.neuron | obob14v14  | groupFGF1.Day14.obob - groupVeh_PF.Day14.obob  |\n",
       "| Day14.neuron___obob5v5    | exp_labelled_neuron | Day14 | neuron | milo_Day14.neuron | milo_index_tibble_Day14.neuron | design_df_Day14.neuron | mm_Day14.neuron | obob5v5    | groupFGF1.Day5.obob - groupVeh_PF.Day5.obob    |\n",
       "| Day14.neuron___obobBL6d14 | exp_labelled_neuron | Day14 | neuron | milo_Day14.neuron | milo_index_tibble_Day14.neuron | design_df_Day14.neuron | mm_Day14.neuron | obobBL6d14 | groupVeh_PF.Day14.obob - groupVeh_PF.Day14.BL6 |\n",
       "| Day14.neuron___obobBL6d5  | exp_labelled_neuron | Day14 | neuron | milo_Day14.neuron | milo_index_tibble_Day14.neuron | design_df_Day14.neuron | mm_Day14.neuron | obobBL6d5  | groupVeh_PF.Day5.obob - groupVeh_PF.Day5.BL6   |\n",
       "| Day14.other___obob14v14   | exp_labelled_other | Day14 | other  | milo_Day14.other | milo_index_tibble_Day14.other | design_df_Day14.other | mm_Day14.other | obob14v14  | groupFGF1.Day14.obob - groupVeh_PF.Day14.obob  |\n",
       "| Day14.other___obob5v5     | exp_labelled_other | Day14 | other  | milo_Day14.other | milo_index_tibble_Day14.other | design_df_Day14.other | mm_Day14.other | obob5v5    | groupFGF1.Day5.obob - groupVeh_PF.Day5.obob    |\n",
       "\n"
      ],
      "text/plain": [
       "  label                     object              day   cluster milo_obj         \n",
       "1 Day14.neuron___obob14v14  exp_labelled_neuron Day14 neuron  milo_Day14.neuron\n",
       "2 Day14.neuron___obob5v5    exp_labelled_neuron Day14 neuron  milo_Day14.neuron\n",
       "3 Day14.neuron___obobBL6d14 exp_labelled_neuron Day14 neuron  milo_Day14.neuron\n",
       "4 Day14.neuron___obobBL6d5  exp_labelled_neuron Day14 neuron  milo_Day14.neuron\n",
       "5 Day14.other___obob14v14   exp_labelled_other  Day14 other   milo_Day14.other \n",
       "6 Day14.other___obob5v5     exp_labelled_other  Day14 other   milo_Day14.other \n",
       "  milo_index_obj                 design_df              mm             \n",
       "1 milo_index_tibble_Day14.neuron design_df_Day14.neuron mm_Day14.neuron\n",
       "2 milo_index_tibble_Day14.neuron design_df_Day14.neuron mm_Day14.neuron\n",
       "3 milo_index_tibble_Day14.neuron design_df_Day14.neuron mm_Day14.neuron\n",
       "4 milo_index_tibble_Day14.neuron design_df_Day14.neuron mm_Day14.neuron\n",
       "5 milo_index_tibble_Day14.other  design_df_Day14.other  mm_Day14.other \n",
       "6 milo_index_tibble_Day14.other  design_df_Day14.other  mm_Day14.other \n",
       "  contrast_name contrast                                      \n",
       "1 obob14v14     groupFGF1.Day14.obob - groupVeh_PF.Day14.obob \n",
       "2 obob5v5       groupFGF1.Day5.obob - groupVeh_PF.Day5.obob   \n",
       "3 obobBL6d14    groupVeh_PF.Day14.obob - groupVeh_PF.Day14.BL6\n",
       "4 obobBL6d5     groupVeh_PF.Day5.obob - groupVeh_PF.Day5.BL6  \n",
       "5 obob14v14     groupFGF1.Day14.obob - groupVeh_PF.Day14.obob \n",
       "6 obob5v5       groupFGF1.Day5.obob - groupVeh_PF.Day5.obob   "
      ]
     },
     "metadata": {},
     "output_type": "display_data"
    }
   ],
   "source": [
    "da_recipe = tidyr::crossing(clusters_tibble, contrasts_tibble)\n",
    "da_recipe$label = paste0(da_recipe$label, '___', da_recipe$contrast_name)\n",
    "head(da_recipe)"
   ]
  },
  {
   "cell_type": "code",
   "execution_count": null,
   "id": "9e5d3f74",
   "metadata": {},
   "outputs": [],
   "source": []
  },
  {
   "cell_type": "code",
   "execution_count": 14,
   "id": "a9b1ff17",
   "metadata": {},
   "outputs": [],
   "source": [
    "da_recipe = da_recipe %>%\n",
    "filter(!(str_detect(contrast_name, \"obob5v5\") & day == 'Day14')) %>%\n",
    "filter(!(str_detect(contrast_name, \"obob14v14\") & day == 'Day5')) %>%\n",
    "# filter(!(contrast_name == 'obobBL6' & day != 'all')) %>% # this one is good to have, as they may be equivalent\n",
    "filter(!(contrast_name == 'obobBL6d5' & (day == 'Day14'))) %>%\n",
    "filter(!(contrast_name == 'obobBL6d14' & (day == 'Day5'))) %>%\n",
    "filter(!(contrast_name == 'obobFGF1BL6d5' & (day == 'Day14'))) %>% \n",
    "filter(!(contrast_name == 'obobFGF1BL6d14' & (day == 'Day5'))) %>%\n",
    "filter(!(contrast_name == \"obob5vBL6\" & (day != 'all'))) %>% \n",
    "filter(!(contrast_name == \"obob14vBL6\" & (day != 'all'))) %>%\n",
    "filter(!(contrast_name == 'BL6d5d14' & (day != 'all'))) %>%\n",
    "filter(!(contrast_name == 'obobVeh_PFd5d14' & (day != 'all')))"
   ]
  },
  {
   "cell_type": "code",
   "execution_count": 15,
   "id": "35da1c49",
   "metadata": {},
   "outputs": [
    {
     "data": {
      "text/html": [
       "<table class=\"dataframe\">\n",
       "<caption>A tibble: 8 × 10</caption>\n",
       "<thead>\n",
       "\t<tr><th scope=col>label</th><th scope=col>object</th><th scope=col>day</th><th scope=col>cluster</th><th scope=col>milo_obj</th><th scope=col>milo_index_obj</th><th scope=col>design_df</th><th scope=col>mm</th><th scope=col>contrast_name</th><th scope=col>contrast</th></tr>\n",
       "\t<tr><th scope=col>&lt;chr&gt;</th><th scope=col>&lt;list&gt;</th><th scope=col>&lt;chr&gt;</th><th scope=col>&lt;chr&gt;</th><th scope=col>&lt;list&gt;</th><th scope=col>&lt;list&gt;</th><th scope=col>&lt;list&gt;</th><th scope=col>&lt;list&gt;</th><th scope=col>&lt;chr&gt;</th><th scope=col>&lt;chr&gt;</th></tr>\n",
       "</thead>\n",
       "<tbody>\n",
       "\t<tr><td>Day14.neuron___obob14v14 </td><td>exp_labelled_neuron</td><td>Day14</td><td>neuron</td><td>milo_Day14.neuron</td><td>milo_index_tibble_Day14.neuron</td><td>design_df_Day14.neuron</td><td>mm_Day14.neuron</td><td>obob14v14 </td><td>groupFGF1.Day14.obob - groupVeh_PF.Day14.obob </td></tr>\n",
       "\t<tr><td>Day14.neuron___obobBL6d14</td><td>exp_labelled_neuron</td><td>Day14</td><td>neuron</td><td>milo_Day14.neuron</td><td>milo_index_tibble_Day14.neuron</td><td>design_df_Day14.neuron</td><td>mm_Day14.neuron</td><td>obobBL6d14</td><td>groupVeh_PF.Day14.obob - groupVeh_PF.Day14.BL6</td></tr>\n",
       "\t<tr><td>Day14.other___obob14v14  </td><td>exp_labelled_other</td><td>Day14</td><td>other </td><td>milo_Day14.other</td><td>milo_index_tibble_Day14.other</td><td>design_df_Day14.other</td><td>mm_Day14.other</td><td>obob14v14 </td><td>groupFGF1.Day14.obob - groupVeh_PF.Day14.obob </td></tr>\n",
       "\t<tr><td>Day14.other___obobBL6d14 </td><td>exp_labelled_other</td><td>Day14</td><td>other </td><td>milo_Day14.other</td><td>milo_index_tibble_Day14.other</td><td>design_df_Day14.other</td><td>mm_Day14.other</td><td>obobBL6d14</td><td>groupVeh_PF.Day14.obob - groupVeh_PF.Day14.BL6</td></tr>\n",
       "\t<tr><td>Day5.neuron___obob5v5    </td><td>exp_labelled_neuron</td><td>Day5 </td><td>neuron</td><td>milo_Day5.neuron</td><td>milo_index_tibble_Day5.neuron</td><td>design_df_Day5.neuron</td><td>mm_Day5.neuron</td><td>obob5v5   </td><td>groupFGF1.Day5.obob - groupVeh_PF.Day5.obob   </td></tr>\n",
       "\t<tr><td>Day5.neuron___obobBL6d5  </td><td>exp_labelled_neuron</td><td>Day5 </td><td>neuron</td><td>milo_Day5.neuron</td><td>milo_index_tibble_Day5.neuron</td><td>design_df_Day5.neuron</td><td>mm_Day5.neuron</td><td>obobBL6d5 </td><td>groupVeh_PF.Day5.obob - groupVeh_PF.Day5.BL6  </td></tr>\n",
       "\t<tr><td>Day5.other___obob5v5     </td><td>exp_labelled_other</td><td>Day5 </td><td>other </td><td>milo_Day5.other</td><td>milo_index_tibble_Day5.other</td><td>design_df_Day5.other</td><td>mm_Day5.other</td><td>obob5v5   </td><td>groupFGF1.Day5.obob - groupVeh_PF.Day5.obob   </td></tr>\n",
       "\t<tr><td>Day5.other___obobBL6d5   </td><td>exp_labelled_other</td><td>Day5 </td><td>other </td><td>milo_Day5.other</td><td>milo_index_tibble_Day5.other</td><td>design_df_Day5.other</td><td>mm_Day5.other</td><td>obobBL6d5 </td><td>groupVeh_PF.Day5.obob - groupVeh_PF.Day5.BL6  </td></tr>\n",
       "</tbody>\n",
       "</table>\n"
      ],
      "text/latex": [
       "A tibble: 8 × 10\n",
       "\\begin{tabular}{llllllllll}\n",
       " label & object & day & cluster & milo\\_obj & milo\\_index\\_obj & design\\_df & mm & contrast\\_name & contrast\\\\\n",
       " <chr> & <list> & <chr> & <chr> & <list> & <list> & <list> & <list> & <chr> & <chr>\\\\\n",
       "\\hline\n",
       "\t Day14.neuron\\_\\_\\_obob14v14  & exp\\_labelled\\_neuron & Day14 & neuron & milo\\_Day14.neuron & milo\\_index\\_tibble\\_Day14.neuron & design\\_df\\_Day14.neuron & mm\\_Day14.neuron & obob14v14  & groupFGF1.Day14.obob - groupVeh\\_PF.Day14.obob \\\\\n",
       "\t Day14.neuron\\_\\_\\_obobBL6d14 & exp\\_labelled\\_neuron & Day14 & neuron & milo\\_Day14.neuron & milo\\_index\\_tibble\\_Day14.neuron & design\\_df\\_Day14.neuron & mm\\_Day14.neuron & obobBL6d14 & groupVeh\\_PF.Day14.obob - groupVeh\\_PF.Day14.BL6\\\\\n",
       "\t Day14.other\\_\\_\\_obob14v14   & exp\\_labelled\\_other & Day14 & other  & milo\\_Day14.other & milo\\_index\\_tibble\\_Day14.other & design\\_df\\_Day14.other & mm\\_Day14.other & obob14v14  & groupFGF1.Day14.obob - groupVeh\\_PF.Day14.obob \\\\\n",
       "\t Day14.other\\_\\_\\_obobBL6d14  & exp\\_labelled\\_other & Day14 & other  & milo\\_Day14.other & milo\\_index\\_tibble\\_Day14.other & design\\_df\\_Day14.other & mm\\_Day14.other & obobBL6d14 & groupVeh\\_PF.Day14.obob - groupVeh\\_PF.Day14.BL6\\\\\n",
       "\t Day5.neuron\\_\\_\\_obob5v5     & exp\\_labelled\\_neuron & Day5  & neuron & milo\\_Day5.neuron & milo\\_index\\_tibble\\_Day5.neuron & design\\_df\\_Day5.neuron & mm\\_Day5.neuron & obob5v5    & groupFGF1.Day5.obob - groupVeh\\_PF.Day5.obob   \\\\\n",
       "\t Day5.neuron\\_\\_\\_obobBL6d5   & exp\\_labelled\\_neuron & Day5  & neuron & milo\\_Day5.neuron & milo\\_index\\_tibble\\_Day5.neuron & design\\_df\\_Day5.neuron & mm\\_Day5.neuron & obobBL6d5  & groupVeh\\_PF.Day5.obob - groupVeh\\_PF.Day5.BL6  \\\\\n",
       "\t Day5.other\\_\\_\\_obob5v5      & exp\\_labelled\\_other & Day5  & other  & milo\\_Day5.other & milo\\_index\\_tibble\\_Day5.other & design\\_df\\_Day5.other & mm\\_Day5.other & obob5v5    & groupFGF1.Day5.obob - groupVeh\\_PF.Day5.obob   \\\\\n",
       "\t Day5.other\\_\\_\\_obobBL6d5    & exp\\_labelled\\_other & Day5  & other  & milo\\_Day5.other & milo\\_index\\_tibble\\_Day5.other & design\\_df\\_Day5.other & mm\\_Day5.other & obobBL6d5  & groupVeh\\_PF.Day5.obob - groupVeh\\_PF.Day5.BL6  \\\\\n",
       "\\end{tabular}\n"
      ],
      "text/markdown": [
       "\n",
       "A tibble: 8 × 10\n",
       "\n",
       "| label &lt;chr&gt; | object &lt;list&gt; | day &lt;chr&gt; | cluster &lt;chr&gt; | milo_obj &lt;list&gt; | milo_index_obj &lt;list&gt; | design_df &lt;list&gt; | mm &lt;list&gt; | contrast_name &lt;chr&gt; | contrast &lt;chr&gt; |\n",
       "|---|---|---|---|---|---|---|---|---|---|\n",
       "| Day14.neuron___obob14v14  | exp_labelled_neuron | Day14 | neuron | milo_Day14.neuron | milo_index_tibble_Day14.neuron | design_df_Day14.neuron | mm_Day14.neuron | obob14v14  | groupFGF1.Day14.obob - groupVeh_PF.Day14.obob  |\n",
       "| Day14.neuron___obobBL6d14 | exp_labelled_neuron | Day14 | neuron | milo_Day14.neuron | milo_index_tibble_Day14.neuron | design_df_Day14.neuron | mm_Day14.neuron | obobBL6d14 | groupVeh_PF.Day14.obob - groupVeh_PF.Day14.BL6 |\n",
       "| Day14.other___obob14v14   | exp_labelled_other | Day14 | other  | milo_Day14.other | milo_index_tibble_Day14.other | design_df_Day14.other | mm_Day14.other | obob14v14  | groupFGF1.Day14.obob - groupVeh_PF.Day14.obob  |\n",
       "| Day14.other___obobBL6d14  | exp_labelled_other | Day14 | other  | milo_Day14.other | milo_index_tibble_Day14.other | design_df_Day14.other | mm_Day14.other | obobBL6d14 | groupVeh_PF.Day14.obob - groupVeh_PF.Day14.BL6 |\n",
       "| Day5.neuron___obob5v5     | exp_labelled_neuron | Day5  | neuron | milo_Day5.neuron | milo_index_tibble_Day5.neuron | design_df_Day5.neuron | mm_Day5.neuron | obob5v5    | groupFGF1.Day5.obob - groupVeh_PF.Day5.obob    |\n",
       "| Day5.neuron___obobBL6d5   | exp_labelled_neuron | Day5  | neuron | milo_Day5.neuron | milo_index_tibble_Day5.neuron | design_df_Day5.neuron | mm_Day5.neuron | obobBL6d5  | groupVeh_PF.Day5.obob - groupVeh_PF.Day5.BL6   |\n",
       "| Day5.other___obob5v5      | exp_labelled_other | Day5  | other  | milo_Day5.other | milo_index_tibble_Day5.other | design_df_Day5.other | mm_Day5.other | obob5v5    | groupFGF1.Day5.obob - groupVeh_PF.Day5.obob    |\n",
       "| Day5.other___obobBL6d5    | exp_labelled_other | Day5  | other  | milo_Day5.other | milo_index_tibble_Day5.other | design_df_Day5.other | mm_Day5.other | obobBL6d5  | groupVeh_PF.Day5.obob - groupVeh_PF.Day5.BL6   |\n",
       "\n"
      ],
      "text/plain": [
       "  label                     object              day   cluster milo_obj         \n",
       "1 Day14.neuron___obob14v14  exp_labelled_neuron Day14 neuron  milo_Day14.neuron\n",
       "2 Day14.neuron___obobBL6d14 exp_labelled_neuron Day14 neuron  milo_Day14.neuron\n",
       "3 Day14.other___obob14v14   exp_labelled_other  Day14 other   milo_Day14.other \n",
       "4 Day14.other___obobBL6d14  exp_labelled_other  Day14 other   milo_Day14.other \n",
       "5 Day5.neuron___obob5v5     exp_labelled_neuron Day5  neuron  milo_Day5.neuron \n",
       "6 Day5.neuron___obobBL6d5   exp_labelled_neuron Day5  neuron  milo_Day5.neuron \n",
       "7 Day5.other___obob5v5      exp_labelled_other  Day5  other   milo_Day5.other  \n",
       "8 Day5.other___obobBL6d5    exp_labelled_other  Day5  other   milo_Day5.other  \n",
       "  milo_index_obj                 design_df              mm             \n",
       "1 milo_index_tibble_Day14.neuron design_df_Day14.neuron mm_Day14.neuron\n",
       "2 milo_index_tibble_Day14.neuron design_df_Day14.neuron mm_Day14.neuron\n",
       "3 milo_index_tibble_Day14.other  design_df_Day14.other  mm_Day14.other \n",
       "4 milo_index_tibble_Day14.other  design_df_Day14.other  mm_Day14.other \n",
       "5 milo_index_tibble_Day5.neuron  design_df_Day5.neuron  mm_Day5.neuron \n",
       "6 milo_index_tibble_Day5.neuron  design_df_Day5.neuron  mm_Day5.neuron \n",
       "7 milo_index_tibble_Day5.other   design_df_Day5.other   mm_Day5.other  \n",
       "8 milo_index_tibble_Day5.other   design_df_Day5.other   mm_Day5.other  \n",
       "  contrast_name contrast                                      \n",
       "1 obob14v14     groupFGF1.Day14.obob - groupVeh_PF.Day14.obob \n",
       "2 obobBL6d14    groupVeh_PF.Day14.obob - groupVeh_PF.Day14.BL6\n",
       "3 obob14v14     groupFGF1.Day14.obob - groupVeh_PF.Day14.obob \n",
       "4 obobBL6d14    groupVeh_PF.Day14.obob - groupVeh_PF.Day14.BL6\n",
       "5 obob5v5       groupFGF1.Day5.obob - groupVeh_PF.Day5.obob   \n",
       "6 obobBL6d5     groupVeh_PF.Day5.obob - groupVeh_PF.Day5.BL6  \n",
       "7 obob5v5       groupFGF1.Day5.obob - groupVeh_PF.Day5.obob   \n",
       "8 obobBL6d5     groupVeh_PF.Day5.obob - groupVeh_PF.Day5.BL6  "
      ]
     },
     "metadata": {},
     "output_type": "display_data"
    }
   ],
   "source": [
    "da_recipe"
   ]
  },
  {
   "cell_type": "code",
   "execution_count": 16,
   "id": "1261e4e6",
   "metadata": {},
   "outputs": [],
   "source": [
    "qs::qsave(da_recipe, 'da_recipe_class.qs')"
   ]
  },
  {
   "cell_type": "code",
   "execution_count": null,
   "id": "56fe5640",
   "metadata": {},
   "outputs": [],
   "source": []
  },
  {
   "cell_type": "code",
   "execution_count": null,
   "id": "2f267ebf",
   "metadata": {},
   "outputs": [],
   "source": []
  }
 ],
 "metadata": {
  "kernelspec": {
   "display_name": "R [conda env:fgf1]",
   "language": "R",
   "name": "conda-env-fgf1-r"
  },
  "language_info": {
   "codemirror_mode": "r",
   "file_extension": ".r",
   "mimetype": "text/x-r-source",
   "name": "R",
   "pygments_lexer": "r",
   "version": "4.1.3"
  }
 },
 "nbformat": 4,
 "nbformat_minor": 5
}
