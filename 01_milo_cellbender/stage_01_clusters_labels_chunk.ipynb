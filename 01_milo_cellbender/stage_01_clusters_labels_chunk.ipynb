{
 "cells": [
  {
   "cell_type": "code",
   "execution_count": 1,
   "id": "948c4b53",
   "metadata": {},
   "outputs": [
    {
     "name": "stderr",
     "output_type": "stream",
     "text": [
      "── \u001b[1mAttaching packages\u001b[22m ─────────────────────────────────────── tidyverse 1.3.2 ──\n",
      "\u001b[32m✔\u001b[39m \u001b[34mggplot2\u001b[39m 3.4.2     \u001b[32m✔\u001b[39m \u001b[34mpurrr  \u001b[39m 0.3.4\n",
      "\u001b[32m✔\u001b[39m \u001b[34mtibble \u001b[39m 3.2.1     \u001b[32m✔\u001b[39m \u001b[34mdplyr  \u001b[39m 1.1.2\n",
      "\u001b[32m✔\u001b[39m \u001b[34mtidyr  \u001b[39m 1.2.1     \u001b[32m✔\u001b[39m \u001b[34mstringr\u001b[39m 1.4.1\n",
      "\u001b[32m✔\u001b[39m \u001b[34mreadr  \u001b[39m 2.1.2     \u001b[32m✔\u001b[39m \u001b[34mforcats\u001b[39m 0.5.2\n",
      "── \u001b[1mConflicts\u001b[22m ────────────────────────────────────────── tidyverse_conflicts() ──\n",
      "\u001b[31m✖\u001b[39m \u001b[34mdplyr\u001b[39m::\u001b[32mfilter()\u001b[39m masks \u001b[34mstats\u001b[39m::filter()\n",
      "\u001b[31m✖\u001b[39m \u001b[34mdplyr\u001b[39m::\u001b[32mlag()\u001b[39m    masks \u001b[34mstats\u001b[39m::lag()\n",
      "Loading required package: SeuratObject\n",
      "\n",
      "Loading required package: sp\n",
      "\n",
      "\n",
      "Attaching package: ‘SeuratObject’\n",
      "\n",
      "\n",
      "The following object is masked from ‘package:base’:\n",
      "\n",
      "    intersect\n",
      "\n",
      "\n"
     ]
    }
   ],
   "source": [
    "library(tidyverse)\n",
    "library(Seurat)\n",
    "\n",
    "source('milo_cellbender.R')"
   ]
  },
  {
   "cell_type": "code",
   "execution_count": 2,
   "id": "57402ab1",
   "metadata": {},
   "outputs": [
    {
     "data": {
      "text/html": [
       "<style>\n",
       ".list-inline {list-style: none; margin:0; padding: 0}\n",
       ".list-inline>li {display: inline-block}\n",
       ".list-inline>li:not(:last-child)::after {content: \"\\00b7\"; padding: 0 .5ex}\n",
       "</style>\n",
       "<ol class=list-inline><li>'g1'</li><li>'g3'</li><li>'g2'</li><li>'g4'</li><li>'g_drop'</li><li>'g7'</li></ol>\n"
      ],
      "text/latex": [
       "\\begin{enumerate*}\n",
       "\\item 'g1'\n",
       "\\item 'g3'\n",
       "\\item 'g2'\n",
       "\\item 'g4'\n",
       "\\item 'g\\_drop'\n",
       "\\item 'g7'\n",
       "\\end{enumerate*}\n"
      ],
      "text/markdown": [
       "1. 'g1'\n",
       "2. 'g3'\n",
       "3. 'g2'\n",
       "4. 'g4'\n",
       "5. 'g_drop'\n",
       "6. 'g7'\n",
       "\n",
       "\n"
      ],
      "text/plain": [
       "[1] \"g1\"     \"g3\"     \"g2\"     \"g4\"     \"g_drop\" \"g7\"    "
      ]
     },
     "metadata": {},
     "output_type": "display_data"
    }
   ],
   "source": [
    "other_clusters = qs::qread('../00_cellbender/_targets/objects/obj_cb_other_01') %>% \n",
    "    set_labels_to_labels_chunk %>%\n",
    "    set_batch_to_lane %>%    \n",
    "    prep_obj_for_milo_cb_v01 %>%\n",
    "    `[[` %>%\n",
    "    pull(labels) %>% \n",
    "    unique\n",
    "other_clusters"
   ]
  },
  {
   "cell_type": "code",
   "execution_count": 3,
   "id": "b4f14224",
   "metadata": {},
   "outputs": [
    {
     "data": {
      "text/html": [
       "<style>\n",
       ".list-inline {list-style: none; margin:0; padding: 0}\n",
       ".list-inline>li {display: inline-block}\n",
       ".list-inline>li:not(:last-child)::after {content: \"\\00b7\"; padding: 0 .5ex}\n",
       "</style>\n",
       "<ol class=list-inline><li>'n1'</li><li>'n0'</li><li>'n_drop'</li><li>'n6'</li><li>'n4'</li><li>'n2'</li><li>'n8'</li><li>'n5'</li><li>'n3'</li></ol>\n"
      ],
      "text/latex": [
       "\\begin{enumerate*}\n",
       "\\item 'n1'\n",
       "\\item 'n0'\n",
       "\\item 'n\\_drop'\n",
       "\\item 'n6'\n",
       "\\item 'n4'\n",
       "\\item 'n2'\n",
       "\\item 'n8'\n",
       "\\item 'n5'\n",
       "\\item 'n3'\n",
       "\\end{enumerate*}\n"
      ],
      "text/markdown": [
       "1. 'n1'\n",
       "2. 'n0'\n",
       "3. 'n_drop'\n",
       "4. 'n6'\n",
       "5. 'n4'\n",
       "6. 'n2'\n",
       "7. 'n8'\n",
       "8. 'n5'\n",
       "9. 'n3'\n",
       "\n",
       "\n"
      ],
      "text/plain": [
       "[1] \"n1\"     \"n0\"     \"n_drop\" \"n6\"     \"n4\"     \"n2\"     \"n8\"     \"n5\"    \n",
       "[9] \"n3\"    "
      ]
     },
     "metadata": {},
     "output_type": "display_data"
    }
   ],
   "source": [
    "neuron_clusters = qs::qread('../00_cellbender/_targets/objects/obj_cb_neuron_00') %>% \n",
    "    set_labels_to_labels_chunk %>%\n",
    "    set_batch_to_lane %>%    \n",
    "    prep_obj_for_milo_cb_v01 %>%\n",
    "    `[[` %>%\n",
    "    pull(labels) %>% \n",
    "    unique\n",
    "neuron_clusters "
   ]
  },
  {
   "cell_type": "code",
   "execution_count": 4,
   "id": "ea0ec518",
   "metadata": {},
   "outputs": [
    {
     "data": {
      "text/html": [
       "<table class=\"dataframe\">\n",
       "<caption>A tibble: 4 × 2</caption>\n",
       "<thead>\n",
       "\t<tr><th scope=col>object</th><th scope=col>day</th></tr>\n",
       "\t<tr><th scope=col>&lt;list&gt;</th><th scope=col>&lt;chr&gt;</th></tr>\n",
       "</thead>\n",
       "<tbody>\n",
       "\t<tr><td>exp_labelled_other</td><td>Day14</td></tr>\n",
       "\t<tr><td>exp_labelled_other</td><td>Day5 </td></tr>\n",
       "\t<tr><td>exp_labelled_neuron</td><td>Day14</td></tr>\n",
       "\t<tr><td>exp_labelled_neuron</td><td>Day5 </td></tr>\n",
       "</tbody>\n",
       "</table>\n"
      ],
      "text/latex": [
       "A tibble: 4 × 2\n",
       "\\begin{tabular}{ll}\n",
       " object & day\\\\\n",
       " <list> & <chr>\\\\\n",
       "\\hline\n",
       "\t exp\\_labelled\\_other & Day14\\\\\n",
       "\t exp\\_labelled\\_other & Day5 \\\\\n",
       "\t exp\\_labelled\\_neuron & Day14\\\\\n",
       "\t exp\\_labelled\\_neuron & Day5 \\\\\n",
       "\\end{tabular}\n"
      ],
      "text/markdown": [
       "\n",
       "A tibble: 4 × 2\n",
       "\n",
       "| object &lt;list&gt; | day &lt;chr&gt; |\n",
       "|---|---|\n",
       "| exp_labelled_other | Day14 |\n",
       "| exp_labelled_other | Day5  |\n",
       "| exp_labelled_neuron | Day14 |\n",
       "| exp_labelled_neuron | Day5  |\n",
       "\n"
      ],
      "text/plain": [
       "  object              day  \n",
       "1 exp_labelled_other  Day14\n",
       "2 exp_labelled_other  Day5 \n",
       "3 exp_labelled_neuron Day14\n",
       "4 exp_labelled_neuron Day5 "
      ]
     },
     "metadata": {},
     "output_type": "display_data"
    }
   ],
   "source": [
    "day_splits = tibble(object = rlang::syms(c(\"exp_labelled_other\", \"exp_labelled_neuron\")))\n",
    "# days = tibble(day = c(\"Day5\", \"Day14\", \"all\"))\n",
    "days = tibble(day = c(\"Day5\", \"Day14\"))\n",
    "day_splits = tidyr::crossing(day_splits, days)\n",
    "day_splits"
   ]
  },
  {
   "cell_type": "code",
   "execution_count": null,
   "id": "b2c5f06d",
   "metadata": {},
   "outputs": [],
   "source": []
  },
  {
   "cell_type": "code",
   "execution_count": 5,
   "id": "7a1092c2",
   "metadata": {},
   "outputs": [
    {
     "data": {
      "text/html": [
       "<table class=\"dataframe\">\n",
       "<caption>A rowwise_df: 30 × 4</caption>\n",
       "<thead>\n",
       "\t<tr><th scope=col>label</th><th scope=col>object</th><th scope=col>day</th><th scope=col>cluster</th></tr>\n",
       "\t<tr><th scope=col>&lt;chr&gt;</th><th scope=col>&lt;list&gt;</th><th scope=col>&lt;chr&gt;</th><th scope=col>&lt;chr&gt;</th></tr>\n",
       "</thead>\n",
       "<tbody>\n",
       "\t<tr><td>Day14.g_drop</td><td>exp_labelled_other</td><td>Day14</td><td>g_drop</td></tr>\n",
       "\t<tr><td>Day5.g_drop </td><td>exp_labelled_other</td><td>Day5 </td><td>g_drop</td></tr>\n",
       "\t<tr><td>Day14.g1    </td><td>exp_labelled_other</td><td>Day14</td><td>g1    </td></tr>\n",
       "\t<tr><td>Day5.g1     </td><td>exp_labelled_other</td><td>Day5 </td><td>g1    </td></tr>\n",
       "\t<tr><td>Day14.g2    </td><td>exp_labelled_other</td><td>Day14</td><td>g2    </td></tr>\n",
       "\t<tr><td>Day5.g2     </td><td>exp_labelled_other</td><td>Day5 </td><td>g2    </td></tr>\n",
       "\t<tr><td>Day14.g3    </td><td>exp_labelled_other</td><td>Day14</td><td>g3    </td></tr>\n",
       "\t<tr><td>Day5.g3     </td><td>exp_labelled_other</td><td>Day5 </td><td>g3    </td></tr>\n",
       "\t<tr><td>Day14.g4    </td><td>exp_labelled_other</td><td>Day14</td><td>g4    </td></tr>\n",
       "\t<tr><td>Day5.g4     </td><td>exp_labelled_other</td><td>Day5 </td><td>g4    </td></tr>\n",
       "\t<tr><td>Day14.g7    </td><td>exp_labelled_other</td><td>Day14</td><td>g7    </td></tr>\n",
       "\t<tr><td>Day5.g7     </td><td>exp_labelled_other</td><td>Day5 </td><td>g7    </td></tr>\n",
       "\t<tr><td>Day14.n_drop</td><td>exp_labelled_neuron</td><td>Day14</td><td>n_drop</td></tr>\n",
       "\t<tr><td>Day5.n_drop </td><td>exp_labelled_neuron</td><td>Day5 </td><td>n_drop</td></tr>\n",
       "\t<tr><td>Day14.n0    </td><td>exp_labelled_neuron</td><td>Day14</td><td>n0    </td></tr>\n",
       "\t<tr><td>Day5.n0     </td><td>exp_labelled_neuron</td><td>Day5 </td><td>n0    </td></tr>\n",
       "\t<tr><td>Day14.n1    </td><td>exp_labelled_neuron</td><td>Day14</td><td>n1    </td></tr>\n",
       "\t<tr><td>Day5.n1     </td><td>exp_labelled_neuron</td><td>Day5 </td><td>n1    </td></tr>\n",
       "\t<tr><td>Day14.n2    </td><td>exp_labelled_neuron</td><td>Day14</td><td>n2    </td></tr>\n",
       "\t<tr><td>Day5.n2     </td><td>exp_labelled_neuron</td><td>Day5 </td><td>n2    </td></tr>\n",
       "\t<tr><td>Day14.n3    </td><td>exp_labelled_neuron</td><td>Day14</td><td>n3    </td></tr>\n",
       "\t<tr><td>Day5.n3     </td><td>exp_labelled_neuron</td><td>Day5 </td><td>n3    </td></tr>\n",
       "\t<tr><td>Day14.n4    </td><td>exp_labelled_neuron</td><td>Day14</td><td>n4    </td></tr>\n",
       "\t<tr><td>Day5.n4     </td><td>exp_labelled_neuron</td><td>Day5 </td><td>n4    </td></tr>\n",
       "\t<tr><td>Day14.n5    </td><td>exp_labelled_neuron</td><td>Day14</td><td>n5    </td></tr>\n",
       "\t<tr><td>Day5.n5     </td><td>exp_labelled_neuron</td><td>Day5 </td><td>n5    </td></tr>\n",
       "\t<tr><td>Day14.n6    </td><td>exp_labelled_neuron</td><td>Day14</td><td>n6    </td></tr>\n",
       "\t<tr><td>Day5.n6     </td><td>exp_labelled_neuron</td><td>Day5 </td><td>n6    </td></tr>\n",
       "\t<tr><td>Day14.n8    </td><td>exp_labelled_neuron</td><td>Day14</td><td>n8    </td></tr>\n",
       "\t<tr><td>Day5.n8     </td><td>exp_labelled_neuron</td><td>Day5 </td><td>n8    </td></tr>\n",
       "</tbody>\n",
       "</table>\n"
      ],
      "text/latex": [
       "A rowwise\\_df: 30 × 4\n",
       "\\begin{tabular}{llll}\n",
       " label & object & day & cluster\\\\\n",
       " <chr> & <list> & <chr> & <chr>\\\\\n",
       "\\hline\n",
       "\t Day14.g\\_drop & exp\\_labelled\\_other & Day14 & g\\_drop\\\\\n",
       "\t Day5.g\\_drop  & exp\\_labelled\\_other & Day5  & g\\_drop\\\\\n",
       "\t Day14.g1     & exp\\_labelled\\_other & Day14 & g1    \\\\\n",
       "\t Day5.g1      & exp\\_labelled\\_other & Day5  & g1    \\\\\n",
       "\t Day14.g2     & exp\\_labelled\\_other & Day14 & g2    \\\\\n",
       "\t Day5.g2      & exp\\_labelled\\_other & Day5  & g2    \\\\\n",
       "\t Day14.g3     & exp\\_labelled\\_other & Day14 & g3    \\\\\n",
       "\t Day5.g3      & exp\\_labelled\\_other & Day5  & g3    \\\\\n",
       "\t Day14.g4     & exp\\_labelled\\_other & Day14 & g4    \\\\\n",
       "\t Day5.g4      & exp\\_labelled\\_other & Day5  & g4    \\\\\n",
       "\t Day14.g7     & exp\\_labelled\\_other & Day14 & g7    \\\\\n",
       "\t Day5.g7      & exp\\_labelled\\_other & Day5  & g7    \\\\\n",
       "\t Day14.n\\_drop & exp\\_labelled\\_neuron & Day14 & n\\_drop\\\\\n",
       "\t Day5.n\\_drop  & exp\\_labelled\\_neuron & Day5  & n\\_drop\\\\\n",
       "\t Day14.n0     & exp\\_labelled\\_neuron & Day14 & n0    \\\\\n",
       "\t Day5.n0      & exp\\_labelled\\_neuron & Day5  & n0    \\\\\n",
       "\t Day14.n1     & exp\\_labelled\\_neuron & Day14 & n1    \\\\\n",
       "\t Day5.n1      & exp\\_labelled\\_neuron & Day5  & n1    \\\\\n",
       "\t Day14.n2     & exp\\_labelled\\_neuron & Day14 & n2    \\\\\n",
       "\t Day5.n2      & exp\\_labelled\\_neuron & Day5  & n2    \\\\\n",
       "\t Day14.n3     & exp\\_labelled\\_neuron & Day14 & n3    \\\\\n",
       "\t Day5.n3      & exp\\_labelled\\_neuron & Day5  & n3    \\\\\n",
       "\t Day14.n4     & exp\\_labelled\\_neuron & Day14 & n4    \\\\\n",
       "\t Day5.n4      & exp\\_labelled\\_neuron & Day5  & n4    \\\\\n",
       "\t Day14.n5     & exp\\_labelled\\_neuron & Day14 & n5    \\\\\n",
       "\t Day5.n5      & exp\\_labelled\\_neuron & Day5  & n5    \\\\\n",
       "\t Day14.n6     & exp\\_labelled\\_neuron & Day14 & n6    \\\\\n",
       "\t Day5.n6      & exp\\_labelled\\_neuron & Day5  & n6    \\\\\n",
       "\t Day14.n8     & exp\\_labelled\\_neuron & Day14 & n8    \\\\\n",
       "\t Day5.n8      & exp\\_labelled\\_neuron & Day5  & n8    \\\\\n",
       "\\end{tabular}\n"
      ],
      "text/markdown": [
       "\n",
       "A rowwise_df: 30 × 4\n",
       "\n",
       "| label &lt;chr&gt; | object &lt;list&gt; | day &lt;chr&gt; | cluster &lt;chr&gt; |\n",
       "|---|---|---|---|\n",
       "| Day14.g_drop | exp_labelled_other | Day14 | g_drop |\n",
       "| Day5.g_drop  | exp_labelled_other | Day5  | g_drop |\n",
       "| Day14.g1     | exp_labelled_other | Day14 | g1     |\n",
       "| Day5.g1      | exp_labelled_other | Day5  | g1     |\n",
       "| Day14.g2     | exp_labelled_other | Day14 | g2     |\n",
       "| Day5.g2      | exp_labelled_other | Day5  | g2     |\n",
       "| Day14.g3     | exp_labelled_other | Day14 | g3     |\n",
       "| Day5.g3      | exp_labelled_other | Day5  | g3     |\n",
       "| Day14.g4     | exp_labelled_other | Day14 | g4     |\n",
       "| Day5.g4      | exp_labelled_other | Day5  | g4     |\n",
       "| Day14.g7     | exp_labelled_other | Day14 | g7     |\n",
       "| Day5.g7      | exp_labelled_other | Day5  | g7     |\n",
       "| Day14.n_drop | exp_labelled_neuron | Day14 | n_drop |\n",
       "| Day5.n_drop  | exp_labelled_neuron | Day5  | n_drop |\n",
       "| Day14.n0     | exp_labelled_neuron | Day14 | n0     |\n",
       "| Day5.n0      | exp_labelled_neuron | Day5  | n0     |\n",
       "| Day14.n1     | exp_labelled_neuron | Day14 | n1     |\n",
       "| Day5.n1      | exp_labelled_neuron | Day5  | n1     |\n",
       "| Day14.n2     | exp_labelled_neuron | Day14 | n2     |\n",
       "| Day5.n2      | exp_labelled_neuron | Day5  | n2     |\n",
       "| Day14.n3     | exp_labelled_neuron | Day14 | n3     |\n",
       "| Day5.n3      | exp_labelled_neuron | Day5  | n3     |\n",
       "| Day14.n4     | exp_labelled_neuron | Day14 | n4     |\n",
       "| Day5.n4      | exp_labelled_neuron | Day5  | n4     |\n",
       "| Day14.n5     | exp_labelled_neuron | Day14 | n5     |\n",
       "| Day5.n5      | exp_labelled_neuron | Day5  | n5     |\n",
       "| Day14.n6     | exp_labelled_neuron | Day14 | n6     |\n",
       "| Day5.n6      | exp_labelled_neuron | Day5  | n6     |\n",
       "| Day14.n8     | exp_labelled_neuron | Day14 | n8     |\n",
       "| Day5.n8      | exp_labelled_neuron | Day5  | n8     |\n",
       "\n"
      ],
      "text/plain": [
       "   label        object              day   cluster\n",
       "1  Day14.g_drop exp_labelled_other  Day14 g_drop \n",
       "2  Day5.g_drop  exp_labelled_other  Day5  g_drop \n",
       "3  Day14.g1     exp_labelled_other  Day14 g1     \n",
       "4  Day5.g1      exp_labelled_other  Day5  g1     \n",
       "5  Day14.g2     exp_labelled_other  Day14 g2     \n",
       "6  Day5.g2      exp_labelled_other  Day5  g2     \n",
       "7  Day14.g3     exp_labelled_other  Day14 g3     \n",
       "8  Day5.g3      exp_labelled_other  Day5  g3     \n",
       "9  Day14.g4     exp_labelled_other  Day14 g4     \n",
       "10 Day5.g4      exp_labelled_other  Day5  g4     \n",
       "11 Day14.g7     exp_labelled_other  Day14 g7     \n",
       "12 Day5.g7      exp_labelled_other  Day5  g7     \n",
       "13 Day14.n_drop exp_labelled_neuron Day14 n_drop \n",
       "14 Day5.n_drop  exp_labelled_neuron Day5  n_drop \n",
       "15 Day14.n0     exp_labelled_neuron Day14 n0     \n",
       "16 Day5.n0      exp_labelled_neuron Day5  n0     \n",
       "17 Day14.n1     exp_labelled_neuron Day14 n1     \n",
       "18 Day5.n1      exp_labelled_neuron Day5  n1     \n",
       "19 Day14.n2     exp_labelled_neuron Day14 n2     \n",
       "20 Day5.n2      exp_labelled_neuron Day5  n2     \n",
       "21 Day14.n3     exp_labelled_neuron Day14 n3     \n",
       "22 Day5.n3      exp_labelled_neuron Day5  n3     \n",
       "23 Day14.n4     exp_labelled_neuron Day14 n4     \n",
       "24 Day5.n4      exp_labelled_neuron Day5  n4     \n",
       "25 Day14.n5     exp_labelled_neuron Day14 n5     \n",
       "26 Day5.n5      exp_labelled_neuron Day5  n5     \n",
       "27 Day14.n6     exp_labelled_neuron Day14 n6     \n",
       "28 Day5.n6      exp_labelled_neuron Day5  n6     \n",
       "29 Day14.n8     exp_labelled_neuron Day14 n8     \n",
       "30 Day5.n8      exp_labelled_neuron Day5  n8     "
      ]
     },
     "metadata": {},
     "output_type": "display_data"
    }
   ],
   "source": [
    "other_clusters_tibble = tibble(label = other_clusters) %>% \n",
    "tidyr::crossing(day_splits) %>%\n",
    "filter(str_detect(as.character(object), 'other'))\n",
    "\n",
    "\n",
    "neuron_clusters_tibble = tibble(label = neuron_clusters) %>% \n",
    "tidyr::crossing(day_splits) %>%\n",
    "filter(str_detect(as.character(object), 'neuron'))\n",
    "\n",
    "clusters_tibble = rbind(other_clusters_tibble, neuron_clusters_tibble)\n",
    "clusters_tibble = clusters_tibble %>% \n",
    "mutate(cluster = label) %>%\n",
    "rowwise %>%\n",
    "mutate(label = case_when(day != \"all\" ~ paste0(c(day, as.character(label)), collapse='.'),\n",
    "                          TRUE ~ paste0(label, collapse='.'))) %>%\n",
    "filter(!str_detect(cluster, 'unassigned'))\n",
    "clusters_tibble"
   ]
  },
  {
   "cell_type": "raw",
   "id": "b5b89f4f",
   "metadata": {},
   "source": [
    "errored_labels = targets::tar_meta() %>%\n",
    "    filter(!is.na(error)) %>% \n",
    "    select(name) %>%\n",
    "    rowwise %>%\n",
    "    filter(str_detect(name, 'da_results_00_')) %>%\n",
    "    mutate(name = str_split(name, '___', n=2)[[1]][1]) %>%\n",
    "    mutate(name = str_replace(name, 'da_results_00_', '')) %>%\n",
    "    distinct %>% \n",
    "    pull(name)\n",
    "errored_labels"
   ]
  },
  {
   "cell_type": "raw",
   "id": "b775101f",
   "metadata": {},
   "source": [
    "clusters_tibble = clusters_tibble %>%\n",
    "filter(!(label %in% errored_labels))\n",
    "\n",
    "clusters_tibble"
   ]
  },
  {
   "cell_type": "code",
   "execution_count": 6,
   "id": "231f776b",
   "metadata": {},
   "outputs": [],
   "source": [
    "qs::qsave(clusters_tibble, 'clusters_tibble_labels_chunk.qs')"
   ]
  },
  {
   "cell_type": "code",
   "execution_count": null,
   "id": "5bae4741",
   "metadata": {},
   "outputs": [],
   "source": []
  }
 ],
 "metadata": {
  "kernelspec": {
   "display_name": "R [conda env:fgf1]",
   "language": "R",
   "name": "conda-env-fgf1-r"
  },
  "language_info": {
   "codemirror_mode": "r",
   "file_extension": ".r",
   "mimetype": "text/x-r-source",
   "name": "R",
   "pygments_lexer": "r",
   "version": "4.1.3"
  }
 },
 "nbformat": 4,
 "nbformat_minor": 5
}
