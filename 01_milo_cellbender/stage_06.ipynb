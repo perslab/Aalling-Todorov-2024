{
 "cells": [
  {
   "cell_type": "code",
   "execution_count": null,
   "id": "174d9a48",
   "metadata": {},
   "outputs": [],
   "source": [
    "library(tidyverse)\n",
    "library(targets)\n",
    "library(tarchetypes)"
   ]
  },
  {
   "cell_type": "code",
   "execution_count": null,
   "id": "bb68cf6c",
   "metadata": {},
   "outputs": [],
   "source": [
    "deg_recipe = qs::qread('deg_restored_recipe.qs')"
   ]
  },
  {
   "cell_type": "code",
   "execution_count": null,
   "id": "c060919e",
   "metadata": {
    "scrolled": true
   },
   "outputs": [],
   "source": [
    "deg_recipe"
   ]
  },
  {
   "cell_type": "code",
   "execution_count": null,
   "id": "5955eb0c",
   "metadata": {},
   "outputs": [],
   "source": [
    "df_t = tibble(output_name = c(\"combined_deg_seurat\", \"combined_gsea_seurat\", \"combined_gost_seurat\"),\n",
    "              name_prefix = c(\"deg_ensmus_\", \"gsea_\", 'gost_result_'))\n",
    "\n",
    "combined_recipe_degs = deg_recipe %>%\n",
    "    select(deg_output_suffix) %>%\n",
    "    tidyr::crossing(df_t) %>%\n",
    "    mutate(results_name = paste0(name_prefix, deg_output_suffix)) %>%\n",
    "    group_by(output_name) %>%\n",
    "    mutate(results_name = list(unique(results_name))) %>%\n",
    "    distinct(results_name, .keep_all = TRUE)\n"
   ]
  },
  {
   "cell_type": "code",
   "execution_count": null,
   "id": "05b96292",
   "metadata": {
    "scrolled": true
   },
   "outputs": [],
   "source": [
    "qs::qsave(combined_recipe_degs, \"combined_recipe_degs.qs\")\n",
    "combined_recipe_degs"
   ]
  },
  {
   "cell_type": "code",
   "execution_count": null,
   "id": "28a4ba59",
   "metadata": {},
   "outputs": [],
   "source": [
    "combined_recipe_degs %>% pull(output_name)"
   ]
  },
  {
   "cell_type": "code",
   "execution_count": null,
   "id": "1015d907",
   "metadata": {},
   "outputs": [],
   "source": [
    "combined_recipe_degs %>% filter(output_name == 'combined_deg_seurat') %>% pull(results_name) %>% unlist %>% tibble(results_name=.) %>% filter(results_name == 'deg_ensmus_Agrp___Day14.obob14v14__v__Day14.obobBL6d14___restored_grouping.neg_restored_vs_none')"
   ]
  },
  {
   "cell_type": "code",
   "execution_count": null,
   "id": "0a67bc51",
   "metadata": {},
   "outputs": [],
   "source": [
    "combined_recipe_nhgc = deg_recipe %>%\n",
    "    select(nhgc_obj, comparison) %>%\n",
    "    mutate(results_name = paste0(nhgc_obj)) %>%\n",
    "    group_by(comparison) %>%\n",
    "    mutate(results_name = list(unique(results_name))) %>%\n",
    "    distinct(results_name, .keep_all = TRUE) %>%\n",
    "    mutate(output_name = paste0('combined_nhgc_', comparison)) %>% \n",
    "    ungroup %>%\n",
    "    select(output_name, results_name)\n"
   ]
  },
  {
   "cell_type": "code",
   "execution_count": null,
   "id": "1630d005",
   "metadata": {},
   "outputs": [],
   "source": [
    "qs::qsave(combined_recipe_nhgc, \"combined_recipe_nhgc.qs\")\n",
    "combined_recipe_nhgc"
   ]
  },
  {
   "cell_type": "code",
   "execution_count": null,
   "id": "aacc2fb8",
   "metadata": {},
   "outputs": [],
   "source": [
    "combined_recipe_nhgc %>% pull(output_name) %>% dput"
   ]
  },
  {
   "cell_type": "code",
   "execution_count": null,
   "id": "40aaeb29",
   "metadata": {},
   "outputs": [],
   "source": []
  },
  {
   "cell_type": "code",
   "execution_count": null,
   "id": "b4858547",
   "metadata": {},
   "outputs": [],
   "source": []
  },
  {
   "cell_type": "code",
   "execution_count": null,
   "id": "c4e99931",
   "metadata": {},
   "outputs": [],
   "source": []
  },
  {
   "cell_type": "code",
   "execution_count": null,
   "id": "19b9c5dc",
   "metadata": {},
   "outputs": [],
   "source": [
    "qs::qread('_targets/objects/combined_deg_seurat_formatted')"
   ]
  },
  {
   "cell_type": "code",
   "execution_count": null,
   "id": "42fc6e36",
   "metadata": {},
   "outputs": [],
   "source": [
    "qs::qread('_targets_MAST/objects/combined_deg_seurat_formatted') %>%\n",
    "readr::write_excel_csv('combined_deg_seurat_formatted.csv')"
   ]
  },
  {
   "cell_type": "code",
   "execution_count": null,
   "id": "de1022f3",
   "metadata": {},
   "outputs": [],
   "source": [
    "qs::qread('_targets_MAST/objects/combined_gsea_seurat_formatted') %>%\n",
    "readr::write_excel_csv('combined_gsea_seurat_formatted.csv')"
   ]
  },
  {
   "cell_type": "code",
   "execution_count": null,
   "id": "65e03a08",
   "metadata": {},
   "outputs": [],
   "source": [
    "qs::qread('_targets_MAST/objects/combined_gost_seurat_formatted') %>%\n",
    "filter(source %in% c(\"GO:BP\", \"GO:MF\", \"GO:CC\", \"REAC\"))  %>%\n",
    "select(-precision, -recall, -effective_domain_size, -source_order, -parents, -evidence_codes, -intersection) %>% \n",
    "filter(cells_b %in% c(\"neg\", \"neg_restored\")) %>%\n",
    "readr::write_excel_csv('combined_gost_seurat_formatted.csv')"
   ]
  },
  {
   "cell_type": "code",
   "execution_count": null,
   "id": "3ace7f17",
   "metadata": {},
   "outputs": [],
   "source": [
    "targets::tar_meta() %>%\n",
    "filter(name == 'combined_gsea_seurat')"
   ]
  }
 ],
 "metadata": {
  "kernelspec": {
   "display_name": "R [conda env:fgf1]",
   "language": "R",
   "name": "conda-env-fgf1-r"
  },
  "language_info": {
   "codemirror_mode": "r",
   "file_extension": ".r",
   "mimetype": "text/x-r-source",
   "name": "R",
   "pygments_lexer": "r",
   "version": "4.1.3"
  }
 },
 "nbformat": 4,
 "nbformat_minor": 5
}
