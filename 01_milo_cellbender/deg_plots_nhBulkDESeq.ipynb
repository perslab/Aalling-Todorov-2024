{
 "cells": [
  {
   "cell_type": "code",
   "execution_count": 93,
   "id": "422924f0",
   "metadata": {},
   "outputs": [],
   "source": [
    "## library(igraph)\n",
    "library(Seurat)\n",
    "library(tidyverse)\n",
    "library(ggplot2)\n",
    "library(ggrepel)\n",
    "library(ggbeeswarm)\n",
    "library(patchwork)\n",
    "library(writexl)\n",
    "options(ggrepel.max.overlaps = Inf)"
   ]
  },
  {
   "cell_type": "code",
   "execution_count": null,
   "id": "fcb3cfb2",
   "metadata": {},
   "outputs": [],
   "source": []
  },
  {
   "cell_type": "code",
   "execution_count": 94,
   "id": "eed83a17",
   "metadata": {
    "scrolled": true
   },
   "outputs": [
    {
     "data": {
      "text/html": [
       "<table class=\"dataframe\">\n",
       "<caption>A tibble: 1 × 27</caption>\n",
       "<thead>\n",
       "\t<tr><th scope=col>tag</th><th scope=col>data_day</th><th scope=col>cluster</th><th scope=col>fgf1_day</th><th scope=col>fgf1_comparison</th><th scope=col>bl6_day</th><th scope=col>bl6_comparison</th><th scope=col>grouping</th><th scope=col>cells_a</th><th scope=col>cells_b</th><th scope=col>⋯</th><th scope=col>recall</th><th scope=col>term_id</th><th scope=col>source</th><th scope=col>term_name</th><th scope=col>effective_domain_size</th><th scope=col>source_order</th><th scope=col>parents</th><th scope=col>evidence_codes</th><th scope=col>intersection</th><th scope=col>gene_ids</th></tr>\n",
       "\t<tr><th scope=col>&lt;chr&gt;</th><th scope=col>&lt;chr&gt;</th><th scope=col>&lt;chr&gt;</th><th scope=col>&lt;chr&gt;</th><th scope=col>&lt;chr&gt;</th><th scope=col>&lt;chr&gt;</th><th scope=col>&lt;chr&gt;</th><th scope=col>&lt;chr&gt;</th><th scope=col>&lt;chr&gt;</th><th scope=col>&lt;chr&gt;</th><th scope=col>⋯</th><th scope=col>&lt;dbl&gt;</th><th scope=col>&lt;chr&gt;</th><th scope=col>&lt;chr&gt;</th><th scope=col>&lt;chr&gt;</th><th scope=col>&lt;int&gt;</th><th scope=col>&lt;int&gt;</th><th scope=col>&lt;list&gt;</th><th scope=col>&lt;chr&gt;</th><th scope=col>&lt;chr&gt;</th><th scope=col>&lt;chr&gt;</th></tr>\n",
       "</thead>\n",
       "<tbody>\n",
       "\t<tr><td>Agrp___Day14.obob14v14__v__Day14.obobBL6d14___bl6_grouping.neg_vs_none</td><td>all</td><td>Agrp</td><td>Day14</td><td>obob14v14</td><td>Day14</td><td>obobBL6d14</td><td>bl6_grouping</td><td>neg</td><td>none</td><td>⋯</td><td>0.00686948</td><td>GO:0048731</td><td>GO:BP</td><td>system development</td><td>26856</td><td>13640</td><td>GO:0007275, GO:0048856</td><td>IDA IMP IGI ISO IBA TAS IEA,IDA,IEA,ISO,IDA IBA,ISS ISO IEA,ISO,ISO IEA,ISS,IEA,IBA,IMP,IMP,IDA IMP IGI IBA,IMP,IMP,IGI,IMP,IEA,ISS ISO IBA IEA,IEA,IMP,IDA IMP IGI,IDA IMP ISS ISO IBA IEA,IMP IGI,IMP ISO IEA,IDA IMP IBA,ISS ISO IEA</td><td>ENSMUSG00000022306,ENSMUSG00000020027,ENSMUSG00000052516,ENSMUSG00000021219,ENSMUSG00000059187,ENSMUSG00000056755,ENSMUSG00000054555,ENSMUSG00000032006,ENSMUSG00000006586,ENSMUSG00000038048,ENSMUSG00000039539,ENSMUSG00000044042,ENSMUSG00000020422,ENSMUSG00000046532,ENSMUSG00000036356,ENSMUSG00000039298,ENSMUSG00000045875,ENSMUSG00000036466,ENSMUSG00000026104,ENSMUSG00000055407,ENSMUSG00000055421,ENSMUSG00000022656,ENSMUSG00000004040,ENSMUSG00000020598,ENSMUSG00000024085,ENSMUSG00000019505,ENSMUSG00000066129,ENSMUSG00000031503</td><td>Zfpm2,Socs2,Robo2,Rgs6,Tafa1,Grm7,Adam12,Pdgfd,Runx1t1,Cntnap5c,Sgcz,Fmn1,Tns3,Ar,Csgalnact1,Cdk5rap2,Adra1a,Megf11,Stat1,Map6,Pcdh9,Nectin3,Stat3,Nrcam,Man2a1,Ubb,Kndc1,Col4a2</td></tr>\n",
       "</tbody>\n",
       "</table>\n"
      ],
      "text/latex": [
       "A tibble: 1 × 27\n",
       "\\begin{tabular}{lllllllllllllllllllll}\n",
       " tag & data\\_day & cluster & fgf1\\_day & fgf1\\_comparison & bl6\\_day & bl6\\_comparison & grouping & cells\\_a & cells\\_b & ⋯ & recall & term\\_id & source & term\\_name & effective\\_domain\\_size & source\\_order & parents & evidence\\_codes & intersection & gene\\_ids\\\\\n",
       " <chr> & <chr> & <chr> & <chr> & <chr> & <chr> & <chr> & <chr> & <chr> & <chr> & ⋯ & <dbl> & <chr> & <chr> & <chr> & <int> & <int> & <list> & <chr> & <chr> & <chr>\\\\\n",
       "\\hline\n",
       "\t Agrp\\_\\_\\_Day14.obob14v14\\_\\_v\\_\\_Day14.obobBL6d14\\_\\_\\_bl6\\_grouping.neg\\_vs\\_none & all & Agrp & Day14 & obob14v14 & Day14 & obobBL6d14 & bl6\\_grouping & neg & none & ⋯ & 0.00686948 & GO:0048731 & GO:BP & system development & 26856 & 13640 & GO:0007275, GO:0048856 & IDA IMP IGI ISO IBA TAS IEA,IDA,IEA,ISO,IDA IBA,ISS ISO IEA,ISO,ISO IEA,ISS,IEA,IBA,IMP,IMP,IDA IMP IGI IBA,IMP,IMP,IGI,IMP,IEA,ISS ISO IBA IEA,IEA,IMP,IDA IMP IGI,IDA IMP ISS ISO IBA IEA,IMP IGI,IMP ISO IEA,IDA IMP IBA,ISS ISO IEA & ENSMUSG00000022306,ENSMUSG00000020027,ENSMUSG00000052516,ENSMUSG00000021219,ENSMUSG00000059187,ENSMUSG00000056755,ENSMUSG00000054555,ENSMUSG00000032006,ENSMUSG00000006586,ENSMUSG00000038048,ENSMUSG00000039539,ENSMUSG00000044042,ENSMUSG00000020422,ENSMUSG00000046532,ENSMUSG00000036356,ENSMUSG00000039298,ENSMUSG00000045875,ENSMUSG00000036466,ENSMUSG00000026104,ENSMUSG00000055407,ENSMUSG00000055421,ENSMUSG00000022656,ENSMUSG00000004040,ENSMUSG00000020598,ENSMUSG00000024085,ENSMUSG00000019505,ENSMUSG00000066129,ENSMUSG00000031503 & Zfpm2,Socs2,Robo2,Rgs6,Tafa1,Grm7,Adam12,Pdgfd,Runx1t1,Cntnap5c,Sgcz,Fmn1,Tns3,Ar,Csgalnact1,Cdk5rap2,Adra1a,Megf11,Stat1,Map6,Pcdh9,Nectin3,Stat3,Nrcam,Man2a1,Ubb,Kndc1,Col4a2\\\\\n",
       "\\end{tabular}\n"
      ],
      "text/markdown": [
       "\n",
       "A tibble: 1 × 27\n",
       "\n",
       "| tag &lt;chr&gt; | data_day &lt;chr&gt; | cluster &lt;chr&gt; | fgf1_day &lt;chr&gt; | fgf1_comparison &lt;chr&gt; | bl6_day &lt;chr&gt; | bl6_comparison &lt;chr&gt; | grouping &lt;chr&gt; | cells_a &lt;chr&gt; | cells_b &lt;chr&gt; | ⋯ ⋯ | recall &lt;dbl&gt; | term_id &lt;chr&gt; | source &lt;chr&gt; | term_name &lt;chr&gt; | effective_domain_size &lt;int&gt; | source_order &lt;int&gt; | parents &lt;list&gt; | evidence_codes &lt;chr&gt; | intersection &lt;chr&gt; | gene_ids &lt;chr&gt; |\n",
       "|---|---|---|---|---|---|---|---|---|---|---|---|---|---|---|---|---|---|---|---|---|\n",
       "| Agrp___Day14.obob14v14__v__Day14.obobBL6d14___bl6_grouping.neg_vs_none | all | Agrp | Day14 | obob14v14 | Day14 | obobBL6d14 | bl6_grouping | neg | none | ⋯ | 0.00686948 | GO:0048731 | GO:BP | system development | 26856 | 13640 | GO:0007275, GO:0048856 | IDA IMP IGI ISO IBA TAS IEA,IDA,IEA,ISO,IDA IBA,ISS ISO IEA,ISO,ISO IEA,ISS,IEA,IBA,IMP,IMP,IDA IMP IGI IBA,IMP,IMP,IGI,IMP,IEA,ISS ISO IBA IEA,IEA,IMP,IDA IMP IGI,IDA IMP ISS ISO IBA IEA,IMP IGI,IMP ISO IEA,IDA IMP IBA,ISS ISO IEA | ENSMUSG00000022306,ENSMUSG00000020027,ENSMUSG00000052516,ENSMUSG00000021219,ENSMUSG00000059187,ENSMUSG00000056755,ENSMUSG00000054555,ENSMUSG00000032006,ENSMUSG00000006586,ENSMUSG00000038048,ENSMUSG00000039539,ENSMUSG00000044042,ENSMUSG00000020422,ENSMUSG00000046532,ENSMUSG00000036356,ENSMUSG00000039298,ENSMUSG00000045875,ENSMUSG00000036466,ENSMUSG00000026104,ENSMUSG00000055407,ENSMUSG00000055421,ENSMUSG00000022656,ENSMUSG00000004040,ENSMUSG00000020598,ENSMUSG00000024085,ENSMUSG00000019505,ENSMUSG00000066129,ENSMUSG00000031503 | Zfpm2,Socs2,Robo2,Rgs6,Tafa1,Grm7,Adam12,Pdgfd,Runx1t1,Cntnap5c,Sgcz,Fmn1,Tns3,Ar,Csgalnact1,Cdk5rap2,Adra1a,Megf11,Stat1,Map6,Pcdh9,Nectin3,Stat3,Nrcam,Man2a1,Ubb,Kndc1,Col4a2 |\n",
       "\n"
      ],
      "text/plain": [
       "  tag                                                                   \n",
       "1 Agrp___Day14.obob14v14__v__Day14.obobBL6d14___bl6_grouping.neg_vs_none\n",
       "  data_day cluster fgf1_day fgf1_comparison bl6_day bl6_comparison grouping    \n",
       "1 all      Agrp    Day14    obob14v14       Day14   obobBL6d14     bl6_grouping\n",
       "  cells_a cells_b ⋯ recall     term_id    source term_name         \n",
       "1 neg     none    ⋯ 0.00686948 GO:0048731 GO:BP  system development\n",
       "  effective_domain_size source_order parents               \n",
       "1 26856                 13640        GO:0007275, GO:0048856\n",
       "  evidence_codes                                                                                                                                                                                                                         \n",
       "1 IDA IMP IGI ISO IBA TAS IEA,IDA,IEA,ISO,IDA IBA,ISS ISO IEA,ISO,ISO IEA,ISS,IEA,IBA,IMP,IMP,IDA IMP IGI IBA,IMP,IMP,IGI,IMP,IEA,ISS ISO IBA IEA,IEA,IMP,IDA IMP IGI,IDA IMP ISS ISO IBA IEA,IMP IGI,IMP ISO IEA,IDA IMP IBA,ISS ISO IEA\n",
       "  intersection                                                                                                                                                                                                                                                                                                                                                                                                                                                                                                                                       \n",
       "1 ENSMUSG00000022306,ENSMUSG00000020027,ENSMUSG00000052516,ENSMUSG00000021219,ENSMUSG00000059187,ENSMUSG00000056755,ENSMUSG00000054555,ENSMUSG00000032006,ENSMUSG00000006586,ENSMUSG00000038048,ENSMUSG00000039539,ENSMUSG00000044042,ENSMUSG00000020422,ENSMUSG00000046532,ENSMUSG00000036356,ENSMUSG00000039298,ENSMUSG00000045875,ENSMUSG00000036466,ENSMUSG00000026104,ENSMUSG00000055407,ENSMUSG00000055421,ENSMUSG00000022656,ENSMUSG00000004040,ENSMUSG00000020598,ENSMUSG00000024085,ENSMUSG00000019505,ENSMUSG00000066129,ENSMUSG00000031503\n",
       "  gene_ids                                                                                                                                                                        \n",
       "1 Zfpm2,Socs2,Robo2,Rgs6,Tafa1,Grm7,Adam12,Pdgfd,Runx1t1,Cntnap5c,Sgcz,Fmn1,Tns3,Ar,Csgalnact1,Cdk5rap2,Adra1a,Megf11,Stat1,Map6,Pcdh9,Nectin3,Stat3,Nrcam,Man2a1,Ubb,Kndc1,Col4a2"
      ]
     },
     "metadata": {},
     "output_type": "display_data"
    }
   ],
   "source": [
    "cgsf_all = qs::qread('_targets_nhBulkDESeq/objects/combined_gost_seurat_formatted')\n",
    "cgsf_all %>% head(1)"
   ]
  },
  {
   "cell_type": "code",
   "execution_count": 95,
   "id": "d4c39a16",
   "metadata": {},
   "outputs": [
    {
     "data": {
      "text/html": [
       "<table class=\"dataframe\">\n",
       "<caption>A tibble: 6 × 18</caption>\n",
       "<thead>\n",
       "\t<tr><th scope=col>tag</th><th scope=col>data_day</th><th scope=col>cluster</th><th scope=col>fgf1_day</th><th scope=col>fgf1_comparison</th><th scope=col>bl6_day</th><th scope=col>bl6_comparison</th><th scope=col>grouping</th><th scope=col>cells_a</th><th scope=col>cells_b</th><th scope=col>GeneID</th><th scope=col>p_val</th><th scope=col>avg_log2FC</th><th scope=col>pct.1</th><th scope=col>pct.2</th><th scope=col>p_val_adj</th><th scope=col>ensmusg</th><th scope=col>gsea_sort_score</th></tr>\n",
       "\t<tr><th scope=col>&lt;chr&gt;</th><th scope=col>&lt;chr&gt;</th><th scope=col>&lt;chr&gt;</th><th scope=col>&lt;chr&gt;</th><th scope=col>&lt;chr&gt;</th><th scope=col>&lt;chr&gt;</th><th scope=col>&lt;chr&gt;</th><th scope=col>&lt;chr&gt;</th><th scope=col>&lt;chr&gt;</th><th scope=col>&lt;chr&gt;</th><th scope=col>&lt;chr&gt;</th><th scope=col>&lt;dbl&gt;</th><th scope=col>&lt;dbl&gt;</th><th scope=col>&lt;dbl&gt;</th><th scope=col>&lt;dbl&gt;</th><th scope=col>&lt;dbl&gt;</th><th scope=col>&lt;chr&gt;</th><th scope=col>&lt;dbl&gt;</th></tr>\n",
       "</thead>\n",
       "<tbody>\n",
       "\t<tr><td>Agrp___Day14.obob14v14__v__Day14.obobBL6d14___bl6_grouping.neg_vs_none</td><td>all</td><td>Agrp</td><td>Day14</td><td>obob14v14</td><td>Day14</td><td>obobBL6d14</td><td>bl6_grouping</td><td>neg</td><td>none</td><td>Epb41l4a</td><td>8.401514e-45</td><td>2.163039</td><td>1</td><td>1.000</td><td>1.472113e-40</td><td>ENSMUSG00000024376</td><td>86.15828</td></tr>\n",
       "\t<tr><td>Agrp___Day14.obob14v14__v__Day14.obobBL6d14___bl6_grouping.neg_vs_none</td><td>all</td><td>Agrp</td><td>Day14</td><td>obob14v14</td><td>Day14</td><td>obobBL6d14</td><td>bl6_grouping</td><td>neg</td><td>none</td><td>Zfpm2   </td><td>5.900025e-23</td><td>3.788815</td><td>1</td><td>1.000</td><td>1.033802e-18</td><td>ENSMUSG00000022306</td><td>68.14397</td></tr>\n",
       "\t<tr><td>Agrp___Day14.obob14v14__v__Day14.obobBL6d14___bl6_grouping.neg_vs_none</td><td>all</td><td>Agrp</td><td>Day14</td><td>obob14v14</td><td>Day14</td><td>obobBL6d14</td><td>bl6_grouping</td><td>neg</td><td>none</td><td>Socs2   </td><td>3.311117e-24</td><td>2.813449</td><td>1</td><td>0.923</td><td>5.801740e-20</td><td>ENSMUSG00000020027</td><td>54.12074</td></tr>\n",
       "\t<tr><td>Agrp___Day14.obob14v14__v__Day14.obobBL6d14___bl6_grouping.neg_vs_none</td><td>all</td><td>Agrp</td><td>Day14</td><td>obob14v14</td><td>Day14</td><td>obobBL6d14</td><td>bl6_grouping</td><td>neg</td><td>none</td><td>Rbms1   </td><td>3.987059e-29</td><td>2.029637</td><td>1</td><td>1.000</td><td>6.986125e-25</td><td>ENSMUSG00000026970</td><td>49.02743</td></tr>\n",
       "\t<tr><td>Agrp___Day14.obob14v14__v__Day14.obobBL6d14___bl6_grouping.neg_vs_none</td><td>all</td><td>Agrp</td><td>Day14</td><td>obob14v14</td><td>Day14</td><td>obobBL6d14</td><td>bl6_grouping</td><td>neg</td><td>none</td><td>Robo2   </td><td>2.392307e-26</td><td>1.740892</td><td>1</td><td>1.000</td><td>4.191801e-22</td><td>ENSMUSG00000052516</td><td>37.21610</td></tr>\n",
       "\t<tr><td>Agrp___Day14.obob14v14__v__Day14.obobBL6d14___bl6_grouping.neg_vs_none</td><td>all</td><td>Agrp</td><td>Day14</td><td>obob14v14</td><td>Day14</td><td>obobBL6d14</td><td>bl6_grouping</td><td>neg</td><td>none</td><td>Rgs6    </td><td>9.316477e-15</td><td>3.731532</td><td>1</td><td>1.000</td><td>1.632433e-10</td><td>ENSMUSG00000021219</td><td>36.52112</td></tr>\n",
       "</tbody>\n",
       "</table>\n"
      ],
      "text/latex": [
       "A tibble: 6 × 18\n",
       "\\begin{tabular}{llllllllllllllllll}\n",
       " tag & data\\_day & cluster & fgf1\\_day & fgf1\\_comparison & bl6\\_day & bl6\\_comparison & grouping & cells\\_a & cells\\_b & GeneID & p\\_val & avg\\_log2FC & pct.1 & pct.2 & p\\_val\\_adj & ensmusg & gsea\\_sort\\_score\\\\\n",
       " <chr> & <chr> & <chr> & <chr> & <chr> & <chr> & <chr> & <chr> & <chr> & <chr> & <chr> & <dbl> & <dbl> & <dbl> & <dbl> & <dbl> & <chr> & <dbl>\\\\\n",
       "\\hline\n",
       "\t Agrp\\_\\_\\_Day14.obob14v14\\_\\_v\\_\\_Day14.obobBL6d14\\_\\_\\_bl6\\_grouping.neg\\_vs\\_none & all & Agrp & Day14 & obob14v14 & Day14 & obobBL6d14 & bl6\\_grouping & neg & none & Epb41l4a & 8.401514e-45 & 2.163039 & 1 & 1.000 & 1.472113e-40 & ENSMUSG00000024376 & 86.15828\\\\\n",
       "\t Agrp\\_\\_\\_Day14.obob14v14\\_\\_v\\_\\_Day14.obobBL6d14\\_\\_\\_bl6\\_grouping.neg\\_vs\\_none & all & Agrp & Day14 & obob14v14 & Day14 & obobBL6d14 & bl6\\_grouping & neg & none & Zfpm2    & 5.900025e-23 & 3.788815 & 1 & 1.000 & 1.033802e-18 & ENSMUSG00000022306 & 68.14397\\\\\n",
       "\t Agrp\\_\\_\\_Day14.obob14v14\\_\\_v\\_\\_Day14.obobBL6d14\\_\\_\\_bl6\\_grouping.neg\\_vs\\_none & all & Agrp & Day14 & obob14v14 & Day14 & obobBL6d14 & bl6\\_grouping & neg & none & Socs2    & 3.311117e-24 & 2.813449 & 1 & 0.923 & 5.801740e-20 & ENSMUSG00000020027 & 54.12074\\\\\n",
       "\t Agrp\\_\\_\\_Day14.obob14v14\\_\\_v\\_\\_Day14.obobBL6d14\\_\\_\\_bl6\\_grouping.neg\\_vs\\_none & all & Agrp & Day14 & obob14v14 & Day14 & obobBL6d14 & bl6\\_grouping & neg & none & Rbms1    & 3.987059e-29 & 2.029637 & 1 & 1.000 & 6.986125e-25 & ENSMUSG00000026970 & 49.02743\\\\\n",
       "\t Agrp\\_\\_\\_Day14.obob14v14\\_\\_v\\_\\_Day14.obobBL6d14\\_\\_\\_bl6\\_grouping.neg\\_vs\\_none & all & Agrp & Day14 & obob14v14 & Day14 & obobBL6d14 & bl6\\_grouping & neg & none & Robo2    & 2.392307e-26 & 1.740892 & 1 & 1.000 & 4.191801e-22 & ENSMUSG00000052516 & 37.21610\\\\\n",
       "\t Agrp\\_\\_\\_Day14.obob14v14\\_\\_v\\_\\_Day14.obobBL6d14\\_\\_\\_bl6\\_grouping.neg\\_vs\\_none & all & Agrp & Day14 & obob14v14 & Day14 & obobBL6d14 & bl6\\_grouping & neg & none & Rgs6     & 9.316477e-15 & 3.731532 & 1 & 1.000 & 1.632433e-10 & ENSMUSG00000021219 & 36.52112\\\\\n",
       "\\end{tabular}\n"
      ],
      "text/markdown": [
       "\n",
       "A tibble: 6 × 18\n",
       "\n",
       "| tag &lt;chr&gt; | data_day &lt;chr&gt; | cluster &lt;chr&gt; | fgf1_day &lt;chr&gt; | fgf1_comparison &lt;chr&gt; | bl6_day &lt;chr&gt; | bl6_comparison &lt;chr&gt; | grouping &lt;chr&gt; | cells_a &lt;chr&gt; | cells_b &lt;chr&gt; | GeneID &lt;chr&gt; | p_val &lt;dbl&gt; | avg_log2FC &lt;dbl&gt; | pct.1 &lt;dbl&gt; | pct.2 &lt;dbl&gt; | p_val_adj &lt;dbl&gt; | ensmusg &lt;chr&gt; | gsea_sort_score &lt;dbl&gt; |\n",
       "|---|---|---|---|---|---|---|---|---|---|---|---|---|---|---|---|---|---|\n",
       "| Agrp___Day14.obob14v14__v__Day14.obobBL6d14___bl6_grouping.neg_vs_none | all | Agrp | Day14 | obob14v14 | Day14 | obobBL6d14 | bl6_grouping | neg | none | Epb41l4a | 8.401514e-45 | 2.163039 | 1 | 1.000 | 1.472113e-40 | ENSMUSG00000024376 | 86.15828 |\n",
       "| Agrp___Day14.obob14v14__v__Day14.obobBL6d14___bl6_grouping.neg_vs_none | all | Agrp | Day14 | obob14v14 | Day14 | obobBL6d14 | bl6_grouping | neg | none | Zfpm2    | 5.900025e-23 | 3.788815 | 1 | 1.000 | 1.033802e-18 | ENSMUSG00000022306 | 68.14397 |\n",
       "| Agrp___Day14.obob14v14__v__Day14.obobBL6d14___bl6_grouping.neg_vs_none | all | Agrp | Day14 | obob14v14 | Day14 | obobBL6d14 | bl6_grouping | neg | none | Socs2    | 3.311117e-24 | 2.813449 | 1 | 0.923 | 5.801740e-20 | ENSMUSG00000020027 | 54.12074 |\n",
       "| Agrp___Day14.obob14v14__v__Day14.obobBL6d14___bl6_grouping.neg_vs_none | all | Agrp | Day14 | obob14v14 | Day14 | obobBL6d14 | bl6_grouping | neg | none | Rbms1    | 3.987059e-29 | 2.029637 | 1 | 1.000 | 6.986125e-25 | ENSMUSG00000026970 | 49.02743 |\n",
       "| Agrp___Day14.obob14v14__v__Day14.obobBL6d14___bl6_grouping.neg_vs_none | all | Agrp | Day14 | obob14v14 | Day14 | obobBL6d14 | bl6_grouping | neg | none | Robo2    | 2.392307e-26 | 1.740892 | 1 | 1.000 | 4.191801e-22 | ENSMUSG00000052516 | 37.21610 |\n",
       "| Agrp___Day14.obob14v14__v__Day14.obobBL6d14___bl6_grouping.neg_vs_none | all | Agrp | Day14 | obob14v14 | Day14 | obobBL6d14 | bl6_grouping | neg | none | Rgs6     | 9.316477e-15 | 3.731532 | 1 | 1.000 | 1.632433e-10 | ENSMUSG00000021219 | 36.52112 |\n",
       "\n"
      ],
      "text/plain": [
       "  tag                                                                   \n",
       "1 Agrp___Day14.obob14v14__v__Day14.obobBL6d14___bl6_grouping.neg_vs_none\n",
       "2 Agrp___Day14.obob14v14__v__Day14.obobBL6d14___bl6_grouping.neg_vs_none\n",
       "3 Agrp___Day14.obob14v14__v__Day14.obobBL6d14___bl6_grouping.neg_vs_none\n",
       "4 Agrp___Day14.obob14v14__v__Day14.obobBL6d14___bl6_grouping.neg_vs_none\n",
       "5 Agrp___Day14.obob14v14__v__Day14.obobBL6d14___bl6_grouping.neg_vs_none\n",
       "6 Agrp___Day14.obob14v14__v__Day14.obobBL6d14___bl6_grouping.neg_vs_none\n",
       "  data_day cluster fgf1_day fgf1_comparison bl6_day bl6_comparison grouping    \n",
       "1 all      Agrp    Day14    obob14v14       Day14   obobBL6d14     bl6_grouping\n",
       "2 all      Agrp    Day14    obob14v14       Day14   obobBL6d14     bl6_grouping\n",
       "3 all      Agrp    Day14    obob14v14       Day14   obobBL6d14     bl6_grouping\n",
       "4 all      Agrp    Day14    obob14v14       Day14   obobBL6d14     bl6_grouping\n",
       "5 all      Agrp    Day14    obob14v14       Day14   obobBL6d14     bl6_grouping\n",
       "6 all      Agrp    Day14    obob14v14       Day14   obobBL6d14     bl6_grouping\n",
       "  cells_a cells_b GeneID   p_val        avg_log2FC pct.1 pct.2 p_val_adj   \n",
       "1 neg     none    Epb41l4a 8.401514e-45 2.163039   1     1.000 1.472113e-40\n",
       "2 neg     none    Zfpm2    5.900025e-23 3.788815   1     1.000 1.033802e-18\n",
       "3 neg     none    Socs2    3.311117e-24 2.813449   1     0.923 5.801740e-20\n",
       "4 neg     none    Rbms1    3.987059e-29 2.029637   1     1.000 6.986125e-25\n",
       "5 neg     none    Robo2    2.392307e-26 1.740892   1     1.000 4.191801e-22\n",
       "6 neg     none    Rgs6     9.316477e-15 3.731532   1     1.000 1.632433e-10\n",
       "  ensmusg            gsea_sort_score\n",
       "1 ENSMUSG00000024376 86.15828       \n",
       "2 ENSMUSG00000022306 68.14397       \n",
       "3 ENSMUSG00000020027 54.12074       \n",
       "4 ENSMUSG00000026970 49.02743       \n",
       "5 ENSMUSG00000052516 37.21610       \n",
       "6 ENSMUSG00000021219 36.52112       "
      ]
     },
     "metadata": {},
     "output_type": "display_data"
    }
   ],
   "source": [
    "combined_deg_seurat_all = qs::qread('_targets_nhBulkDESeq/objects/combined_deg_seurat_formatted')\n",
    "combined_deg_seurat_all %>% head"
   ]
  },
  {
   "cell_type": "code",
   "execution_count": 96,
   "id": "9c96c1e2",
   "metadata": {},
   "outputs": [
    {
     "data": {
      "text/html": [
       "<table class=\"dataframe\">\n",
       "<caption>A tibble: 1 × 2</caption>\n",
       "<thead>\n",
       "\t<tr><th scope=col>fgf1_grouping</th><th scope=col>n</th></tr>\n",
       "\t<tr><th scope=col>&lt;chr&gt;</th><th scope=col>&lt;int&gt;</th></tr>\n",
       "</thead>\n",
       "<tbody>\n",
       "\t<tr><td>none</td><td>2123</td></tr>\n",
       "</tbody>\n",
       "</table>\n"
      ],
      "text/latex": [
       "A tibble: 1 × 2\n",
       "\\begin{tabular}{ll}\n",
       " fgf1\\_grouping & n\\\\\n",
       " <chr> & <int>\\\\\n",
       "\\hline\n",
       "\t none & 2123\\\\\n",
       "\\end{tabular}\n"
      ],
      "text/markdown": [
       "\n",
       "A tibble: 1 × 2\n",
       "\n",
       "| fgf1_grouping &lt;chr&gt; | n &lt;int&gt; |\n",
       "|---|---|\n",
       "| none | 2123 |\n",
       "\n"
      ],
      "text/plain": [
       "  fgf1_grouping n   \n",
       "1 none          2123"
      ]
     },
     "metadata": {},
     "output_type": "display_data"
    },
    {
     "data": {
      "text/html": [
       "<table class=\"dataframe\">\n",
       "<caption>A tibble: 1 × 2</caption>\n",
       "<thead>\n",
       "\t<tr><th scope=col>restored_grouping</th><th scope=col>n</th></tr>\n",
       "\t<tr><th scope=col>&lt;fct&gt;</th><th scope=col>&lt;int&gt;</th></tr>\n",
       "</thead>\n",
       "<tbody>\n",
       "\t<tr><td>none</td><td>2123</td></tr>\n",
       "</tbody>\n",
       "</table>\n"
      ],
      "text/latex": [
       "A tibble: 1 × 2\n",
       "\\begin{tabular}{ll}\n",
       " restored\\_grouping & n\\\\\n",
       " <fct> & <int>\\\\\n",
       "\\hline\n",
       "\t none & 2123\\\\\n",
       "\\end{tabular}\n"
      ],
      "text/markdown": [
       "\n",
       "A tibble: 1 × 2\n",
       "\n",
       "| restored_grouping &lt;fct&gt; | n &lt;int&gt; |\n",
       "|---|---|\n",
       "| none | 2123 |\n",
       "\n"
      ],
      "text/plain": [
       "  restored_grouping n   \n",
       "1 none              2123"
      ]
     },
     "metadata": {},
     "output_type": "display_data"
    }
   ],
   "source": [
    "nhgc = qs::qread('_targets_nhBulkDESeq/objects/nhgc_Agrp___Day14.obob14v14__v__Day14.obobBL6d14') # Astrocytes___Day14.obob14v14__v__Day14.obobBL6d14___fgf1_grouping.pos_vs_none\n",
    "nhgc %>% group_by(fgf1_grouping) %>% summarise(n=n())\n",
    "nhgc %>% group_by(restored_grouping) %>% summarise(n=n())\n",
    "# don't worry about this now, just state all markers for all clusters you want"
   ]
  },
  {
   "cell_type": "code",
   "execution_count": 97,
   "id": "80f3f702",
   "metadata": {},
   "outputs": [
    {
     "name": "stderr",
     "output_type": "stream",
     "text": [
      "Warning message:\n",
      "“\u001b[1m\u001b[22mThere were 52 warnings in `mutate()`.\n",
      "The first warning was:\n",
      "\u001b[1m\u001b[22m\u001b[36mℹ\u001b[39m In argument: `obj = map2(obj, tag2, ~if (!is.na(.x)) mutate(.x, tag2 = .y)\n",
      "  else tibble())`.\n",
      "Caused by warning in `if (!is.na(.x)) ...`:\n",
      "\u001b[33m!\u001b[39m the condition has length > 1 and only the first element will be used\n",
      "\u001b[1m\u001b[22m\u001b[36mℹ\u001b[39m Run `dplyr::last_dplyr_warnings()` to see the 51 remaining warnings.”\n"
     ]
    }
   ],
   "source": [
    "tag2 = combined_deg_seurat_all %>% \n",
    "    pull(tag) %>% unique %>%\n",
    "    str_split(pattern = \"___\") %>%\n",
    "    map_chr(~if (length(.x) >= 3) paste(.x[1:2], collapse = \"___\") else .x[1]) %>%\n",
    "    unique\n",
    "        \n",
    "tag2_tibble = tag2 %>% tibble(tag2=.) %>%\n",
    "mutate(path_to_target = paste0('_targets_nhBulkDESeq/objects/nhgc_', tag2)) %>%\n",
    "mutate(obj = purrr::map(path_to_target, ~if (file.exists(.x)) qs::qread(.x) else NA))\n",
    "    \n",
    "combined_tibble <- tag2_tibble %>%\n",
    "  mutate(obj = map2(obj, tag2, ~if (!is.na(.x)) mutate(.x, tag2 = .y) else tibble())) %>%\n",
    "  pull(obj) %>%\n",
    "  map_dfr(identity)"
   ]
  },
  {
   "cell_type": "code",
   "execution_count": 98,
   "id": "c5866f2f",
   "metadata": {},
   "outputs": [],
   "source": [
    "library(dplyr)\n",
    "library(tidyr)\n",
    "\n",
    "# Tibble for fgf1_grouping\n",
    "fgf1_tibble <- combined_tibble %>% \n",
    "  filter(fgf1_grouping %in% c('neg', 'none', 'pos')) %>%\n",
    "  group_by(tag2, fgf1_grouping) %>%\n",
    "  summarise(count = n(), .groups = \"drop\") %>%\n",
    "  pivot_wider(names_from = fgf1_grouping, values_from = count, names_prefix = \"fgf1_\", values_fill = 0) %>%\n",
    "  rowwise() %>%\n",
    "  mutate(total_cells = sum(c_across(-tag2), na.rm = TRUE)) %>% \n",
    "  ungroup\n",
    "\n",
    "# Tibble for fgf1_grouping with _restored\n",
    "restored_tibble <- combined_tibble %>% \n",
    "  mutate(fgf1_grouping_restored = str_replace_all(fgf1_grouping, c(\"neg\" = \"neg_restored\", \"pos\" = \"pos_restored\"))) %>%\n",
    "  filter(fgf1_grouping_restored %in% c('neg_restored', 'none', 'pos_restored')) %>%\n",
    "  group_by(tag2, fgf1_grouping_restored) %>%\n",
    "  summarise(count = n(), .groups = \"drop\") %>%\n",
    "  pivot_wider(names_from = fgf1_grouping_restored, values_from = count, names_prefix = \"restored_\", values_fill = 0) %>%\n",
    "  rowwise() %>%\n",
    "  mutate(total_cells = sum(c_across(-tag2), na.rm = TRUE)) %>% \n",
    "  ungroup\n",
    "\n",
    "# Tibble for fgf1_grouping with _restored\n",
    "bl6_tibble <- combined_tibble %>% \n",
    "  mutate(bl6_grouping = str_replace_all(bl6_grouping, c(\"neg\" = \"neg\", \"pos\" = \"pos\"))) %>%\n",
    "  filter(bl6_grouping %in% c('neg', 'none', 'pos')) %>%\n",
    "  group_by(tag2, bl6_grouping) %>%\n",
    "  summarise(count = n(), .groups = \"drop\") %>%\n",
    "  pivot_wider(names_from = bl6_grouping, values_from = count, names_prefix = \"bl6_\", values_fill = 0) %>%\n",
    "  rowwise() %>%\n",
    "  mutate(total_cells = sum(c_across(-tag2), na.rm = TRUE)) %>% \n",
    "  ungroup\n",
    "\n"
   ]
  },
  {
   "cell_type": "code",
   "execution_count": null,
   "id": "49c86a58",
   "metadata": {},
   "outputs": [],
   "source": []
  },
  {
   "cell_type": "code",
   "execution_count": 163,
   "id": "2d053330",
   "metadata": {},
   "outputs": [
    {
     "data": {
      "text/html": [
       "<table class=\"dataframe\">\n",
       "<caption>A tibble: 6 × 7</caption>\n",
       "<thead>\n",
       "\t<tr><th scope=col>tag</th><th scope=col>count</th><th scope=col>total_cells</th><th scope=col>frac</th><th scope=col>frac_cutoff</th><th scope=col>n_cells_cutoff</th><th scope=col>n_cells_valid</th></tr>\n",
       "\t<tr><th scope=col>&lt;chr&gt;</th><th scope=col>&lt;int&gt;</th><th scope=col>&lt;int&gt;</th><th scope=col>&lt;dbl&gt;</th><th scope=col>&lt;dbl&gt;</th><th scope=col>&lt;dbl&gt;</th><th scope=col>&lt;lgl&gt;</th></tr>\n",
       "</thead>\n",
       "<tbody>\n",
       "\t<tr><td>Agrp___Day5.obob5v5__v__Day5.obobBL6d5___fgf1_grouping.neg_vs_none             </td><td> 343</td><td>2284</td><td>0.1501751</td><td>0.1</td><td>150</td><td>TRUE</td></tr>\n",
       "\t<tr><td>Agrp___Day5.obob5v5__v__Day5.obobBL6d5___fgf1_grouping.pos_vs_none             </td><td> 514</td><td>2284</td><td>0.2250438</td><td>0.1</td><td>150</td><td>TRUE</td></tr>\n",
       "\t<tr><td>Agrp___Day5.obob5v5__v__Day5.obobBL6d5___restored_grouping.neg_restored_vs_none</td><td> 343</td><td>2284</td><td>0.1501751</td><td>0.1</td><td>150</td><td>TRUE</td></tr>\n",
       "\t<tr><td>Agrp___Day5.obob5v5__v__Day5.obobBL6d5___restored_grouping.pos_restored_vs_none</td><td> 514</td><td>2284</td><td>0.2250438</td><td>0.1</td><td>150</td><td>TRUE</td></tr>\n",
       "\t<tr><td>Agrp___Day5.obob5v5__v__Day5.obobBL6d5___bl6_grouping.neg_vs_none              </td><td> 688</td><td>2284</td><td>0.3012259</td><td>0.1</td><td>150</td><td>TRUE</td></tr>\n",
       "\t<tr><td>Agrp___Day5.obob5v5__v__Day5.obobBL6d5___bl6_grouping.pos_vs_none              </td><td>1406</td><td>2284</td><td>0.6155867</td><td>0.1</td><td>150</td><td>TRUE</td></tr>\n",
       "</tbody>\n",
       "</table>\n"
      ],
      "text/latex": [
       "A tibble: 6 × 7\n",
       "\\begin{tabular}{lllllll}\n",
       " tag & count & total\\_cells & frac & frac\\_cutoff & n\\_cells\\_cutoff & n\\_cells\\_valid\\\\\n",
       " <chr> & <int> & <int> & <dbl> & <dbl> & <dbl> & <lgl>\\\\\n",
       "\\hline\n",
       "\t Agrp\\_\\_\\_Day5.obob5v5\\_\\_v\\_\\_Day5.obobBL6d5\\_\\_\\_fgf1\\_grouping.neg\\_vs\\_none              &  343 & 2284 & 0.1501751 & 0.1 & 150 & TRUE\\\\\n",
       "\t Agrp\\_\\_\\_Day5.obob5v5\\_\\_v\\_\\_Day5.obobBL6d5\\_\\_\\_fgf1\\_grouping.pos\\_vs\\_none              &  514 & 2284 & 0.2250438 & 0.1 & 150 & TRUE\\\\\n",
       "\t Agrp\\_\\_\\_Day5.obob5v5\\_\\_v\\_\\_Day5.obobBL6d5\\_\\_\\_restored\\_grouping.neg\\_restored\\_vs\\_none &  343 & 2284 & 0.1501751 & 0.1 & 150 & TRUE\\\\\n",
       "\t Agrp\\_\\_\\_Day5.obob5v5\\_\\_v\\_\\_Day5.obobBL6d5\\_\\_\\_restored\\_grouping.pos\\_restored\\_vs\\_none &  514 & 2284 & 0.2250438 & 0.1 & 150 & TRUE\\\\\n",
       "\t Agrp\\_\\_\\_Day5.obob5v5\\_\\_v\\_\\_Day5.obobBL6d5\\_\\_\\_bl6\\_grouping.neg\\_vs\\_none               &  688 & 2284 & 0.3012259 & 0.1 & 150 & TRUE\\\\\n",
       "\t Agrp\\_\\_\\_Day5.obob5v5\\_\\_v\\_\\_Day5.obobBL6d5\\_\\_\\_bl6\\_grouping.pos\\_vs\\_none               & 1406 & 2284 & 0.6155867 & 0.1 & 150 & TRUE\\\\\n",
       "\\end{tabular}\n"
      ],
      "text/markdown": [
       "\n",
       "A tibble: 6 × 7\n",
       "\n",
       "| tag &lt;chr&gt; | count &lt;int&gt; | total_cells &lt;int&gt; | frac &lt;dbl&gt; | frac_cutoff &lt;dbl&gt; | n_cells_cutoff &lt;dbl&gt; | n_cells_valid &lt;lgl&gt; |\n",
       "|---|---|---|---|---|---|---|\n",
       "| Agrp___Day5.obob5v5__v__Day5.obobBL6d5___fgf1_grouping.neg_vs_none              |  343 | 2284 | 0.1501751 | 0.1 | 150 | TRUE |\n",
       "| Agrp___Day5.obob5v5__v__Day5.obobBL6d5___fgf1_grouping.pos_vs_none              |  514 | 2284 | 0.2250438 | 0.1 | 150 | TRUE |\n",
       "| Agrp___Day5.obob5v5__v__Day5.obobBL6d5___restored_grouping.neg_restored_vs_none |  343 | 2284 | 0.1501751 | 0.1 | 150 | TRUE |\n",
       "| Agrp___Day5.obob5v5__v__Day5.obobBL6d5___restored_grouping.pos_restored_vs_none |  514 | 2284 | 0.2250438 | 0.1 | 150 | TRUE |\n",
       "| Agrp___Day5.obob5v5__v__Day5.obobBL6d5___bl6_grouping.neg_vs_none               |  688 | 2284 | 0.3012259 | 0.1 | 150 | TRUE |\n",
       "| Agrp___Day5.obob5v5__v__Day5.obobBL6d5___bl6_grouping.pos_vs_none               | 1406 | 2284 | 0.6155867 | 0.1 | 150 | TRUE |\n",
       "\n"
      ],
      "text/plain": [
       "  tag                                                                            \n",
       "1 Agrp___Day5.obob5v5__v__Day5.obobBL6d5___fgf1_grouping.neg_vs_none             \n",
       "2 Agrp___Day5.obob5v5__v__Day5.obobBL6d5___fgf1_grouping.pos_vs_none             \n",
       "3 Agrp___Day5.obob5v5__v__Day5.obobBL6d5___restored_grouping.neg_restored_vs_none\n",
       "4 Agrp___Day5.obob5v5__v__Day5.obobBL6d5___restored_grouping.pos_restored_vs_none\n",
       "5 Agrp___Day5.obob5v5__v__Day5.obobBL6d5___bl6_grouping.neg_vs_none              \n",
       "6 Agrp___Day5.obob5v5__v__Day5.obobBL6d5___bl6_grouping.pos_vs_none              \n",
       "  count total_cells frac      frac_cutoff n_cells_cutoff n_cells_valid\n",
       "1  343  2284        0.1501751 0.1         150            TRUE         \n",
       "2  514  2284        0.2250438 0.1         150            TRUE         \n",
       "3  343  2284        0.1501751 0.1         150            TRUE         \n",
       "4  514  2284        0.2250438 0.1         150            TRUE         \n",
       "5  688  2284        0.3012259 0.1         150            TRUE         \n",
       "6 1406  2284        0.6155867 0.1         150            TRUE         "
      ]
     },
     "metadata": {},
     "output_type": "display_data"
    }
   ],
   "source": [
    "frac_cutoff = 0.10\n",
    "n_cells_cutoff = 150\n",
    "\n",
    "# Create the first tibble\n",
    "fgf1_tibble_new <- fgf1_tibble %>%\n",
    "  pivot_longer(cols = starts_with(\"fgf1_\"), names_to = \"grouping\", values_to = \"count\") %>%\n",
    "  mutate(grouping = str_replace(grouping, \"fgf1_\", \"\")) %>%\n",
    "  mutate(polarity1 = ifelse(grouping == \"none\", NA, grouping),\n",
    "         polarity2 = ifelse(grouping == \"none\", grouping, \"none\")) %>%\n",
    "  mutate(tag = paste0(tag2, \"___fgf1_grouping.\", polarity1, \"_vs_\", polarity2)) %>%\n",
    "  mutate(frac = count/total_cells) %>%\n",
    "  mutate(frac_cutoff = frac_cutoff) %>%\n",
    "  mutate(n_cells_cutoff = n_cells_cutoff) %>%\n",
    "  mutate(n_cells_valid = ifelse(((frac >= frac_cutoff) & (count >= n_cells_cutoff)), TRUE, FALSE)) %>%\n",
    "  select(tag, count, total_cells, frac, frac_cutoff, n_cells_cutoff, n_cells_valid)\n",
    "\n",
    "# Create the second tibble\n",
    "restored_tibble_new <- restored_tibble %>%\n",
    "  pivot_longer(cols = starts_with(\"restored_\"), names_to = \"grouping\", values_to = \"count\") %>%\n",
    "  mutate(grouping = str_replace(grouping, \"restored_\", \"\")) %>%\n",
    "  mutate(polarity1 = ifelse(grouping == \"none\", NA, grouping),\n",
    "         polarity2 = ifelse(grouping == \"none\", grouping, \"none\")) %>%\n",
    "  mutate(tag = paste0(tag2, \"___restored_grouping.\", polarity1, \"_vs_\", polarity2)) %>%\n",
    "  mutate(frac = count/total_cells) %>%\n",
    "  mutate(frac_cutoff = frac_cutoff) %>%\n",
    "  mutate(n_cells_cutoff = n_cells_cutoff) %>%\n",
    "  mutate(n_cells_valid = ifelse(((frac >= frac_cutoff) & (count >= n_cells_cutoff)), TRUE, FALSE)) %>%\n",
    "  select(tag, count, total_cells, frac, frac_cutoff, n_cells_cutoff, n_cells_valid)\n",
    "\n",
    "# Create the second tibble\n",
    "bl6_tibble_new <- bl6_tibble %>%\n",
    "  pivot_longer(cols = starts_with(\"bl6_\"), names_to = \"grouping\", values_to = \"count\") %>%\n",
    "  mutate(grouping = str_replace(grouping, \"bl6_\", \"\")) %>%\n",
    "  mutate(polarity1 = ifelse(grouping == \"none\", NA, grouping),\n",
    "         polarity2 = ifelse(grouping == \"none\", grouping, \"none\")) %>%\n",
    "  mutate(tag = paste0(tag2, \"___bl6_grouping.\", polarity1, \"_vs_\", polarity2)) %>%\n",
    "  mutate(frac = count/total_cells) %>%\n",
    "  mutate(frac_cutoff = frac_cutoff) %>%\n",
    "  mutate(n_cells_cutoff = n_cells_cutoff) %>%\n",
    "  mutate(n_cells_valid = ifelse(((frac >= frac_cutoff) & (count >= n_cells_cutoff)), TRUE, FALSE)) %>%\n",
    "  select(tag, count, total_cells, frac, frac_cutoff, n_cells_cutoff, n_cells_valid)\n",
    "\n",
    "# Bind the rows of the two tibbles\n",
    "new_tibble <- bind_rows(fgf1_tibble_new, restored_tibble_new, bl6_tibble_new) %>%\n",
    "    filter(!str_detect(tag, 'NA'))\n",
    "\n",
    "new_tibble %>% filter(str_detect(tag, 'Agrp___Day5.obob5v5__v__Day5.obobBL6d5'))"
   ]
  },
  {
   "cell_type": "code",
   "execution_count": 164,
   "id": "e105e703",
   "metadata": {},
   "outputs": [
    {
     "data": {
      "text/html": [
       "<table class=\"dataframe\">\n",
       "<caption>A tibble: 60 × 7</caption>\n",
       "<thead>\n",
       "\t<tr><th scope=col>tag</th><th scope=col>count</th><th scope=col>total_cells</th><th scope=col>frac</th><th scope=col>frac_cutoff</th><th scope=col>n_cells_cutoff</th><th scope=col>n_cells_valid</th></tr>\n",
       "\t<tr><th scope=col>&lt;chr&gt;</th><th scope=col>&lt;int&gt;</th><th scope=col>&lt;int&gt;</th><th scope=col>&lt;dbl&gt;</th><th scope=col>&lt;dbl&gt;</th><th scope=col>&lt;dbl&gt;</th><th scope=col>&lt;lgl&gt;</th></tr>\n",
       "</thead>\n",
       "<tbody>\n",
       "\t<tr><td>Tbx19__Pirt___Day5.obob5v5__v__Day5.obobBL6d5___fgf1_grouping.neg_vs_none                     </td><td> 122</td><td> 1183</td><td>0.1031276</td><td>0.1</td><td>150</td><td>FALSE</td></tr>\n",
       "\t<tr><td>Tbx19__Pirt___Day5.obob5v5__v__Day5.obobBL6d5___restored_grouping.neg_restored_vs_none        </td><td> 122</td><td> 1183</td><td>0.1031276</td><td>0.1</td><td>150</td><td>FALSE</td></tr>\n",
       "\t<tr><td>Tanycytes___Day5.obob5v5__v__Day5.obobBL6d5___fgf1_grouping.pos_vs_none                       </td><td> 528</td><td> 5005</td><td>0.1054945</td><td>0.1</td><td>150</td><td> TRUE</td></tr>\n",
       "\t<tr><td>Tanycytes___Day5.obob5v5__v__Day5.obobBL6d5___restored_grouping.pos_restored_vs_none          </td><td> 528</td><td> 5005</td><td>0.1054945</td><td>0.1</td><td>150</td><td> TRUE</td></tr>\n",
       "\t<tr><td>Sst__Unc13c___Day5.obob5v5__v__Day5.obobBL6d5___fgf1_grouping.pos_vs_none                     </td><td> 163</td><td> 1535</td><td>0.1061889</td><td>0.1</td><td>150</td><td> TRUE</td></tr>\n",
       "\t<tr><td>Sst__Unc13c___Day5.obob5v5__v__Day5.obobBL6d5___restored_grouping.pos_restored_vs_none        </td><td> 163</td><td> 1535</td><td>0.1061889</td><td>0.1</td><td>150</td><td> TRUE</td></tr>\n",
       "\t<tr><td>n1___Day5.obob5v5__v__Day5.obobBL6d5___fgf1_grouping.pos_vs_none                              </td><td> 627</td><td> 5198</td><td>0.1206233</td><td>0.1</td><td>150</td><td> TRUE</td></tr>\n",
       "\t<tr><td>n1___Day5.obob5v5__v__Day5.obobBL6d5___restored_grouping.pos_restored_vs_none                 </td><td> 627</td><td> 5198</td><td>0.1206233</td><td>0.1</td><td>150</td><td> TRUE</td></tr>\n",
       "\t<tr><td>Tbx19__Pirt___Day5.obob5v5__v__Day5.obobBL6d5___fgf1_grouping.pos_vs_none                     </td><td> 147</td><td> 1183</td><td>0.1242604</td><td>0.1</td><td>150</td><td>FALSE</td></tr>\n",
       "\t<tr><td>Tbx19__Pirt___Day5.obob5v5__v__Day5.obobBL6d5___restored_grouping.pos_restored_vs_none        </td><td> 147</td><td> 1183</td><td>0.1242604</td><td>0.1</td><td>150</td><td>FALSE</td></tr>\n",
       "\t<tr><td>Pou6f2__Prkcq__Whrn___Day5.obob5v5__v__Day5.obobBL6d5___fgf1_grouping.pos_vs_none             </td><td> 136</td><td> 1085</td><td>0.1253456</td><td>0.1</td><td>150</td><td>FALSE</td></tr>\n",
       "\t<tr><td>Pou6f2__Prkcq__Whrn___Day5.obob5v5__v__Day5.obobBL6d5___restored_grouping.pos_restored_vs_none</td><td> 136</td><td> 1085</td><td>0.1253456</td><td>0.1</td><td>150</td><td>FALSE</td></tr>\n",
       "\t<tr><td>Kiss1__Tac2___Day5.obob5v5__v__Day5.obobBL6d5___fgf1_grouping.neg_vs_none                     </td><td> 215</td><td> 1519</td><td>0.1415405</td><td>0.1</td><td>150</td><td> TRUE</td></tr>\n",
       "\t<tr><td>Kiss1__Tac2___Day5.obob5v5__v__Day5.obobBL6d5___restored_grouping.neg_restored_vs_none        </td><td> 215</td><td> 1519</td><td>0.1415405</td><td>0.1</td><td>150</td><td> TRUE</td></tr>\n",
       "\t<tr><td>Ghrh___Day5.obob5v5__v__Day5.obobBL6d5___fgf1_grouping.pos_vs_none                            </td><td> 157</td><td> 1063</td><td>0.1476952</td><td>0.1</td><td>150</td><td> TRUE</td></tr>\n",
       "\t<tr><td>Ghrh___Day5.obob5v5__v__Day5.obobBL6d5___restored_grouping.pos_restored_vs_none               </td><td> 157</td><td> 1063</td><td>0.1476952</td><td>0.1</td><td>150</td><td> TRUE</td></tr>\n",
       "\t<tr><td>Agrp___Day5.obob5v5__v__Day5.obobBL6d5___fgf1_grouping.neg_vs_none                            </td><td> 343</td><td> 2284</td><td>0.1501751</td><td>0.1</td><td>150</td><td> TRUE</td></tr>\n",
       "\t<tr><td>Agrp___Day5.obob5v5__v__Day5.obobBL6d5___restored_grouping.neg_restored_vs_none               </td><td> 343</td><td> 2284</td><td>0.1501751</td><td>0.1</td><td>150</td><td> TRUE</td></tr>\n",
       "\t<tr><td>Oligodendrocytes___Day5.obob5v5__v__Day5.obobBL6d5___fgf1_grouping.pos_vs_none                </td><td> 163</td><td> 1079</td><td>0.1510658</td><td>0.1</td><td>150</td><td> TRUE</td></tr>\n",
       "\t<tr><td>Oligodendrocytes___Day5.obob5v5__v__Day5.obobBL6d5___restored_grouping.pos_restored_vs_none   </td><td> 163</td><td> 1079</td><td>0.1510658</td><td>0.1</td><td>150</td><td> TRUE</td></tr>\n",
       "\t<tr><td>Oligodendrocytes___Day5.obob5v5__v__Day5.obobBL6d5___fgf1_grouping.neg_vs_none                </td><td> 168</td><td> 1079</td><td>0.1556997</td><td>0.1</td><td>150</td><td> TRUE</td></tr>\n",
       "\t<tr><td>Oligodendrocytes___Day5.obob5v5__v__Day5.obobBL6d5___restored_grouping.neg_restored_vs_none   </td><td> 168</td><td> 1079</td><td>0.1556997</td><td>0.1</td><td>150</td><td> TRUE</td></tr>\n",
       "\t<tr><td>g3___Day5.obob5v5__v__Day5.obobBL6d5___fgf1_grouping.neg_vs_none                              </td><td> 388</td><td> 2456</td><td>0.1579805</td><td>0.1</td><td>150</td><td> TRUE</td></tr>\n",
       "\t<tr><td>g3___Day5.obob5v5__v__Day5.obobBL6d5___restored_grouping.neg_restored_vs_none                 </td><td> 388</td><td> 2456</td><td>0.1579805</td><td>0.1</td><td>150</td><td> TRUE</td></tr>\n",
       "\t<tr><td>Sst__Pthlh___Day5.obob5v5__v__Day5.obobBL6d5___fgf1_grouping.pos_vs_none                      </td><td> 121</td><td>  742</td><td>0.1630728</td><td>0.1</td><td>150</td><td>FALSE</td></tr>\n",
       "\t<tr><td>Sst__Pthlh___Day5.obob5v5__v__Day5.obobBL6d5___restored_grouping.pos_restored_vs_none         </td><td> 121</td><td>  742</td><td>0.1630728</td><td>0.1</td><td>150</td><td>FALSE</td></tr>\n",
       "\t<tr><td>g3___Day5.obob5v5__v__Day5.obobBL6d5___fgf1_grouping.pos_vs_none                              </td><td> 412</td><td> 2456</td><td>0.1677524</td><td>0.1</td><td>150</td><td> TRUE</td></tr>\n",
       "\t<tr><td>g3___Day5.obob5v5__v__Day5.obobBL6d5___restored_grouping.pos_restored_vs_none                 </td><td> 412</td><td> 2456</td><td>0.1677524</td><td>0.1</td><td>150</td><td> TRUE</td></tr>\n",
       "\t<tr><td>n1___Day5.obob5v5__v__Day5.obobBL6d5___fgf1_grouping.neg_vs_none                              </td><td> 895</td><td> 5198</td><td>0.1721816</td><td>0.1</td><td>150</td><td> TRUE</td></tr>\n",
       "\t<tr><td>n1___Day5.obob5v5__v__Day5.obobBL6d5___restored_grouping.neg_restored_vs_none                 </td><td> 895</td><td> 5198</td><td>0.1721816</td><td>0.1</td><td>150</td><td> TRUE</td></tr>\n",
       "\t<tr><td>other___Day5.obob5v5__v__Day5.obobBL6d5___fgf1_grouping.pos_vs_none                           </td><td>2912</td><td>15029</td><td>0.1937587</td><td>0.1</td><td>150</td><td> TRUE</td></tr>\n",
       "\t<tr><td>other___Day5.obob5v5__v__Day5.obobBL6d5___restored_grouping.pos_restored_vs_none              </td><td>2912</td><td>15029</td><td>0.1937587</td><td>0.1</td><td>150</td><td> TRUE</td></tr>\n",
       "\t<tr><td>g2___Day5.obob5v5__v__Day5.obobBL6d5___fgf1_grouping.pos_vs_none                              </td><td>1264</td><td> 6261</td><td>0.2018847</td><td>0.1</td><td>150</td><td> TRUE</td></tr>\n",
       "\t<tr><td>g2___Day5.obob5v5__v__Day5.obobBL6d5___restored_grouping.pos_restored_vs_none                 </td><td>1264</td><td> 6261</td><td>0.2018847</td><td>0.1</td><td>150</td><td> TRUE</td></tr>\n",
       "\t<tr><td>Astrocytes___Day5.obob5v5__v__Day5.obobBL6d5___fgf1_grouping.pos_vs_none                      </td><td>1299</td><td> 6361</td><td>0.2042132</td><td>0.1</td><td>150</td><td> TRUE</td></tr>\n",
       "\t<tr><td>Astrocytes___Day5.obob5v5__v__Day5.obobBL6d5___restored_grouping.pos_restored_vs_none         </td><td>1299</td><td> 6361</td><td>0.2042132</td><td>0.1</td><td>150</td><td> TRUE</td></tr>\n",
       "\t<tr><td>Pomc__Glipr1___Day5.obob5v5__v__Day5.obobBL6d5___fgf1_grouping.neg_vs_none                    </td><td> 246</td><td> 1204</td><td>0.2043189</td><td>0.1</td><td>150</td><td> TRUE</td></tr>\n",
       "\t<tr><td>Pomc__Glipr1___Day5.obob5v5__v__Day5.obobBL6d5___restored_grouping.neg_restored_vs_none       </td><td> 246</td><td> 1204</td><td>0.2043189</td><td>0.1</td><td>150</td><td> TRUE</td></tr>\n",
       "\t<tr><td>Trh__Lef1___Day5.obob5v5__v__Day5.obobBL6d5___fgf1_grouping.neg_vs_none                       </td><td> 324</td><td> 1571</td><td>0.2062381</td><td>0.1</td><td>150</td><td> TRUE</td></tr>\n",
       "\t<tr><td>Trh__Lef1___Day5.obob5v5__v__Day5.obobBL6d5___restored_grouping.neg_restored_vs_none          </td><td> 324</td><td> 1571</td><td>0.2062381</td><td>0.1</td><td>150</td><td> TRUE</td></tr>\n",
       "\t<tr><td>Trh__Lef1___Day5.obob5v5__v__Day5.obobBL6d5___fgf1_grouping.pos_vs_none                       </td><td> 330</td><td> 1571</td><td>0.2100573</td><td>0.1</td><td>150</td><td> TRUE</td></tr>\n",
       "\t<tr><td>Trh__Lef1___Day5.obob5v5__v__Day5.obobBL6d5___restored_grouping.pos_restored_vs_none          </td><td> 330</td><td> 1571</td><td>0.2100573</td><td>0.1</td><td>150</td><td> TRUE</td></tr>\n",
       "\t<tr><td>Agrp___Day5.obob5v5__v__Day5.obobBL6d5___fgf1_grouping.pos_vs_none                            </td><td> 514</td><td> 2284</td><td>0.2250438</td><td>0.1</td><td>150</td><td> TRUE</td></tr>\n",
       "\t<tr><td>Agrp___Day5.obob5v5__v__Day5.obobBL6d5___restored_grouping.pos_restored_vs_none               </td><td> 514</td><td> 2284</td><td>0.2250438</td><td>0.1</td><td>150</td><td> TRUE</td></tr>\n",
       "\t<tr><td>Ghrh___Day5.obob5v5__v__Day5.obobBL6d5___fgf1_grouping.neg_vs_none                            </td><td> 261</td><td> 1063</td><td>0.2455315</td><td>0.1</td><td>150</td><td> TRUE</td></tr>\n",
       "\t<tr><td>Ghrh___Day5.obob5v5__v__Day5.obobBL6d5___restored_grouping.neg_restored_vs_none               </td><td> 261</td><td> 1063</td><td>0.2455315</td><td>0.1</td><td>150</td><td> TRUE</td></tr>\n",
       "\t<tr><td>OPC___Day5.obob5v5__v__Day5.obobBL6d5___fgf1_grouping.pos_vs_none                             </td><td> 382</td><td> 1485</td><td>0.2572391</td><td>0.1</td><td>150</td><td> TRUE</td></tr>\n",
       "\t<tr><td>OPC___Day5.obob5v5__v__Day5.obobBL6d5___restored_grouping.pos_restored_vs_none                </td><td> 382</td><td> 1485</td><td>0.2572391</td><td>0.1</td><td>150</td><td> TRUE</td></tr>\n",
       "\t<tr><td>Htr3b___Day5.obob5v5__v__Day5.obobBL6d5___fgf1_grouping.neg_vs_none                           </td><td> 527</td><td> 1906</td><td>0.2764953</td><td>0.1</td><td>150</td><td> TRUE</td></tr>\n",
       "\t<tr><td>Htr3b___Day5.obob5v5__v__Day5.obobBL6d5___restored_grouping.neg_restored_vs_none              </td><td> 527</td><td> 1906</td><td>0.2764953</td><td>0.1</td><td>150</td><td> TRUE</td></tr>\n",
       "\t<tr><td>g2___Day5.obob5v5__v__Day5.obobBL6d5___fgf1_grouping.neg_vs_none                              </td><td>1831</td><td> 6261</td><td>0.2924453</td><td>0.1</td><td>150</td><td> TRUE</td></tr>\n",
       "\t<tr><td>g2___Day5.obob5v5__v__Day5.obobBL6d5___restored_grouping.neg_restored_vs_none                 </td><td>1831</td><td> 6261</td><td>0.2924453</td><td>0.1</td><td>150</td><td> TRUE</td></tr>\n",
       "\t<tr><td>Astrocytes___Day5.obob5v5__v__Day5.obobBL6d5___fgf1_grouping.neg_vs_none                      </td><td>1897</td><td> 6361</td><td>0.2982235</td><td>0.1</td><td>150</td><td> TRUE</td></tr>\n",
       "\t<tr><td>Astrocytes___Day5.obob5v5__v__Day5.obobBL6d5___restored_grouping.neg_restored_vs_none         </td><td>1897</td><td> 6361</td><td>0.2982235</td><td>0.1</td><td>150</td><td> TRUE</td></tr>\n",
       "\t<tr><td>other___Day5.obob5v5__v__Day5.obobBL6d5___fgf1_grouping.neg_vs_none                           </td><td>4701</td><td>15029</td><td>0.3127953</td><td>0.1</td><td>150</td><td> TRUE</td></tr>\n",
       "\t<tr><td>other___Day5.obob5v5__v__Day5.obobBL6d5___restored_grouping.neg_restored_vs_none              </td><td>4701</td><td>15029</td><td>0.3127953</td><td>0.1</td><td>150</td><td> TRUE</td></tr>\n",
       "\t<tr><td>Htr3b___Day5.obob5v5__v__Day5.obobBL6d5___fgf1_grouping.pos_vs_none                           </td><td> 628</td><td> 1906</td><td>0.3294858</td><td>0.1</td><td>150</td><td> TRUE</td></tr>\n",
       "\t<tr><td>Htr3b___Day5.obob5v5__v__Day5.obobBL6d5___restored_grouping.pos_restored_vs_none              </td><td> 628</td><td> 1906</td><td>0.3294858</td><td>0.1</td><td>150</td><td> TRUE</td></tr>\n",
       "\t<tr><td>OPC___Day5.obob5v5__v__Day5.obobBL6d5___fgf1_grouping.neg_vs_none                             </td><td> 546</td><td> 1485</td><td>0.3676768</td><td>0.1</td><td>150</td><td> TRUE</td></tr>\n",
       "\t<tr><td>OPC___Day5.obob5v5__v__Day5.obobBL6d5___restored_grouping.neg_restored_vs_none                </td><td> 546</td><td> 1485</td><td>0.3676768</td><td>0.1</td><td>150</td><td> TRUE</td></tr>\n",
       "</tbody>\n",
       "</table>\n"
      ],
      "text/latex": [
       "A tibble: 60 × 7\n",
       "\\begin{tabular}{lllllll}\n",
       " tag & count & total\\_cells & frac & frac\\_cutoff & n\\_cells\\_cutoff & n\\_cells\\_valid\\\\\n",
       " <chr> & <int> & <int> & <dbl> & <dbl> & <dbl> & <lgl>\\\\\n",
       "\\hline\n",
       "\t Tbx19\\_\\_Pirt\\_\\_\\_Day5.obob5v5\\_\\_v\\_\\_Day5.obobBL6d5\\_\\_\\_fgf1\\_grouping.neg\\_vs\\_none                      &  122 &  1183 & 0.1031276 & 0.1 & 150 & FALSE\\\\\n",
       "\t Tbx19\\_\\_Pirt\\_\\_\\_Day5.obob5v5\\_\\_v\\_\\_Day5.obobBL6d5\\_\\_\\_restored\\_grouping.neg\\_restored\\_vs\\_none         &  122 &  1183 & 0.1031276 & 0.1 & 150 & FALSE\\\\\n",
       "\t Tanycytes\\_\\_\\_Day5.obob5v5\\_\\_v\\_\\_Day5.obobBL6d5\\_\\_\\_fgf1\\_grouping.pos\\_vs\\_none                        &  528 &  5005 & 0.1054945 & 0.1 & 150 &  TRUE\\\\\n",
       "\t Tanycytes\\_\\_\\_Day5.obob5v5\\_\\_v\\_\\_Day5.obobBL6d5\\_\\_\\_restored\\_grouping.pos\\_restored\\_vs\\_none           &  528 &  5005 & 0.1054945 & 0.1 & 150 &  TRUE\\\\\n",
       "\t Sst\\_\\_Unc13c\\_\\_\\_Day5.obob5v5\\_\\_v\\_\\_Day5.obobBL6d5\\_\\_\\_fgf1\\_grouping.pos\\_vs\\_none                      &  163 &  1535 & 0.1061889 & 0.1 & 150 &  TRUE\\\\\n",
       "\t Sst\\_\\_Unc13c\\_\\_\\_Day5.obob5v5\\_\\_v\\_\\_Day5.obobBL6d5\\_\\_\\_restored\\_grouping.pos\\_restored\\_vs\\_none         &  163 &  1535 & 0.1061889 & 0.1 & 150 &  TRUE\\\\\n",
       "\t n1\\_\\_\\_Day5.obob5v5\\_\\_v\\_\\_Day5.obobBL6d5\\_\\_\\_fgf1\\_grouping.pos\\_vs\\_none                               &  627 &  5198 & 0.1206233 & 0.1 & 150 &  TRUE\\\\\n",
       "\t n1\\_\\_\\_Day5.obob5v5\\_\\_v\\_\\_Day5.obobBL6d5\\_\\_\\_restored\\_grouping.pos\\_restored\\_vs\\_none                  &  627 &  5198 & 0.1206233 & 0.1 & 150 &  TRUE\\\\\n",
       "\t Tbx19\\_\\_Pirt\\_\\_\\_Day5.obob5v5\\_\\_v\\_\\_Day5.obobBL6d5\\_\\_\\_fgf1\\_grouping.pos\\_vs\\_none                      &  147 &  1183 & 0.1242604 & 0.1 & 150 & FALSE\\\\\n",
       "\t Tbx19\\_\\_Pirt\\_\\_\\_Day5.obob5v5\\_\\_v\\_\\_Day5.obobBL6d5\\_\\_\\_restored\\_grouping.pos\\_restored\\_vs\\_none         &  147 &  1183 & 0.1242604 & 0.1 & 150 & FALSE\\\\\n",
       "\t Pou6f2\\_\\_Prkcq\\_\\_Whrn\\_\\_\\_Day5.obob5v5\\_\\_v\\_\\_Day5.obobBL6d5\\_\\_\\_fgf1\\_grouping.pos\\_vs\\_none              &  136 &  1085 & 0.1253456 & 0.1 & 150 & FALSE\\\\\n",
       "\t Pou6f2\\_\\_Prkcq\\_\\_Whrn\\_\\_\\_Day5.obob5v5\\_\\_v\\_\\_Day5.obobBL6d5\\_\\_\\_restored\\_grouping.pos\\_restored\\_vs\\_none &  136 &  1085 & 0.1253456 & 0.1 & 150 & FALSE\\\\\n",
       "\t Kiss1\\_\\_Tac2\\_\\_\\_Day5.obob5v5\\_\\_v\\_\\_Day5.obobBL6d5\\_\\_\\_fgf1\\_grouping.neg\\_vs\\_none                      &  215 &  1519 & 0.1415405 & 0.1 & 150 &  TRUE\\\\\n",
       "\t Kiss1\\_\\_Tac2\\_\\_\\_Day5.obob5v5\\_\\_v\\_\\_Day5.obobBL6d5\\_\\_\\_restored\\_grouping.neg\\_restored\\_vs\\_none         &  215 &  1519 & 0.1415405 & 0.1 & 150 &  TRUE\\\\\n",
       "\t Ghrh\\_\\_\\_Day5.obob5v5\\_\\_v\\_\\_Day5.obobBL6d5\\_\\_\\_fgf1\\_grouping.pos\\_vs\\_none                             &  157 &  1063 & 0.1476952 & 0.1 & 150 &  TRUE\\\\\n",
       "\t Ghrh\\_\\_\\_Day5.obob5v5\\_\\_v\\_\\_Day5.obobBL6d5\\_\\_\\_restored\\_grouping.pos\\_restored\\_vs\\_none                &  157 &  1063 & 0.1476952 & 0.1 & 150 &  TRUE\\\\\n",
       "\t Agrp\\_\\_\\_Day5.obob5v5\\_\\_v\\_\\_Day5.obobBL6d5\\_\\_\\_fgf1\\_grouping.neg\\_vs\\_none                             &  343 &  2284 & 0.1501751 & 0.1 & 150 &  TRUE\\\\\n",
       "\t Agrp\\_\\_\\_Day5.obob5v5\\_\\_v\\_\\_Day5.obobBL6d5\\_\\_\\_restored\\_grouping.neg\\_restored\\_vs\\_none                &  343 &  2284 & 0.1501751 & 0.1 & 150 &  TRUE\\\\\n",
       "\t Oligodendrocytes\\_\\_\\_Day5.obob5v5\\_\\_v\\_\\_Day5.obobBL6d5\\_\\_\\_fgf1\\_grouping.pos\\_vs\\_none                 &  163 &  1079 & 0.1510658 & 0.1 & 150 &  TRUE\\\\\n",
       "\t Oligodendrocytes\\_\\_\\_Day5.obob5v5\\_\\_v\\_\\_Day5.obobBL6d5\\_\\_\\_restored\\_grouping.pos\\_restored\\_vs\\_none    &  163 &  1079 & 0.1510658 & 0.1 & 150 &  TRUE\\\\\n",
       "\t Oligodendrocytes\\_\\_\\_Day5.obob5v5\\_\\_v\\_\\_Day5.obobBL6d5\\_\\_\\_fgf1\\_grouping.neg\\_vs\\_none                 &  168 &  1079 & 0.1556997 & 0.1 & 150 &  TRUE\\\\\n",
       "\t Oligodendrocytes\\_\\_\\_Day5.obob5v5\\_\\_v\\_\\_Day5.obobBL6d5\\_\\_\\_restored\\_grouping.neg\\_restored\\_vs\\_none    &  168 &  1079 & 0.1556997 & 0.1 & 150 &  TRUE\\\\\n",
       "\t g3\\_\\_\\_Day5.obob5v5\\_\\_v\\_\\_Day5.obobBL6d5\\_\\_\\_fgf1\\_grouping.neg\\_vs\\_none                               &  388 &  2456 & 0.1579805 & 0.1 & 150 &  TRUE\\\\\n",
       "\t g3\\_\\_\\_Day5.obob5v5\\_\\_v\\_\\_Day5.obobBL6d5\\_\\_\\_restored\\_grouping.neg\\_restored\\_vs\\_none                  &  388 &  2456 & 0.1579805 & 0.1 & 150 &  TRUE\\\\\n",
       "\t Sst\\_\\_Pthlh\\_\\_\\_Day5.obob5v5\\_\\_v\\_\\_Day5.obobBL6d5\\_\\_\\_fgf1\\_grouping.pos\\_vs\\_none                       &  121 &   742 & 0.1630728 & 0.1 & 150 & FALSE\\\\\n",
       "\t Sst\\_\\_Pthlh\\_\\_\\_Day5.obob5v5\\_\\_v\\_\\_Day5.obobBL6d5\\_\\_\\_restored\\_grouping.pos\\_restored\\_vs\\_none          &  121 &   742 & 0.1630728 & 0.1 & 150 & FALSE\\\\\n",
       "\t g3\\_\\_\\_Day5.obob5v5\\_\\_v\\_\\_Day5.obobBL6d5\\_\\_\\_fgf1\\_grouping.pos\\_vs\\_none                               &  412 &  2456 & 0.1677524 & 0.1 & 150 &  TRUE\\\\\n",
       "\t g3\\_\\_\\_Day5.obob5v5\\_\\_v\\_\\_Day5.obobBL6d5\\_\\_\\_restored\\_grouping.pos\\_restored\\_vs\\_none                  &  412 &  2456 & 0.1677524 & 0.1 & 150 &  TRUE\\\\\n",
       "\t n1\\_\\_\\_Day5.obob5v5\\_\\_v\\_\\_Day5.obobBL6d5\\_\\_\\_fgf1\\_grouping.neg\\_vs\\_none                               &  895 &  5198 & 0.1721816 & 0.1 & 150 &  TRUE\\\\\n",
       "\t n1\\_\\_\\_Day5.obob5v5\\_\\_v\\_\\_Day5.obobBL6d5\\_\\_\\_restored\\_grouping.neg\\_restored\\_vs\\_none                  &  895 &  5198 & 0.1721816 & 0.1 & 150 &  TRUE\\\\\n",
       "\t other\\_\\_\\_Day5.obob5v5\\_\\_v\\_\\_Day5.obobBL6d5\\_\\_\\_fgf1\\_grouping.pos\\_vs\\_none                            & 2912 & 15029 & 0.1937587 & 0.1 & 150 &  TRUE\\\\\n",
       "\t other\\_\\_\\_Day5.obob5v5\\_\\_v\\_\\_Day5.obobBL6d5\\_\\_\\_restored\\_grouping.pos\\_restored\\_vs\\_none               & 2912 & 15029 & 0.1937587 & 0.1 & 150 &  TRUE\\\\\n",
       "\t g2\\_\\_\\_Day5.obob5v5\\_\\_v\\_\\_Day5.obobBL6d5\\_\\_\\_fgf1\\_grouping.pos\\_vs\\_none                               & 1264 &  6261 & 0.2018847 & 0.1 & 150 &  TRUE\\\\\n",
       "\t g2\\_\\_\\_Day5.obob5v5\\_\\_v\\_\\_Day5.obobBL6d5\\_\\_\\_restored\\_grouping.pos\\_restored\\_vs\\_none                  & 1264 &  6261 & 0.2018847 & 0.1 & 150 &  TRUE\\\\\n",
       "\t Astrocytes\\_\\_\\_Day5.obob5v5\\_\\_v\\_\\_Day5.obobBL6d5\\_\\_\\_fgf1\\_grouping.pos\\_vs\\_none                       & 1299 &  6361 & 0.2042132 & 0.1 & 150 &  TRUE\\\\\n",
       "\t Astrocytes\\_\\_\\_Day5.obob5v5\\_\\_v\\_\\_Day5.obobBL6d5\\_\\_\\_restored\\_grouping.pos\\_restored\\_vs\\_none          & 1299 &  6361 & 0.2042132 & 0.1 & 150 &  TRUE\\\\\n",
       "\t Pomc\\_\\_Glipr1\\_\\_\\_Day5.obob5v5\\_\\_v\\_\\_Day5.obobBL6d5\\_\\_\\_fgf1\\_grouping.neg\\_vs\\_none                     &  246 &  1204 & 0.2043189 & 0.1 & 150 &  TRUE\\\\\n",
       "\t Pomc\\_\\_Glipr1\\_\\_\\_Day5.obob5v5\\_\\_v\\_\\_Day5.obobBL6d5\\_\\_\\_restored\\_grouping.neg\\_restored\\_vs\\_none        &  246 &  1204 & 0.2043189 & 0.1 & 150 &  TRUE\\\\\n",
       "\t Trh\\_\\_Lef1\\_\\_\\_Day5.obob5v5\\_\\_v\\_\\_Day5.obobBL6d5\\_\\_\\_fgf1\\_grouping.neg\\_vs\\_none                        &  324 &  1571 & 0.2062381 & 0.1 & 150 &  TRUE\\\\\n",
       "\t Trh\\_\\_Lef1\\_\\_\\_Day5.obob5v5\\_\\_v\\_\\_Day5.obobBL6d5\\_\\_\\_restored\\_grouping.neg\\_restored\\_vs\\_none           &  324 &  1571 & 0.2062381 & 0.1 & 150 &  TRUE\\\\\n",
       "\t Trh\\_\\_Lef1\\_\\_\\_Day5.obob5v5\\_\\_v\\_\\_Day5.obobBL6d5\\_\\_\\_fgf1\\_grouping.pos\\_vs\\_none                        &  330 &  1571 & 0.2100573 & 0.1 & 150 &  TRUE\\\\\n",
       "\t Trh\\_\\_Lef1\\_\\_\\_Day5.obob5v5\\_\\_v\\_\\_Day5.obobBL6d5\\_\\_\\_restored\\_grouping.pos\\_restored\\_vs\\_none           &  330 &  1571 & 0.2100573 & 0.1 & 150 &  TRUE\\\\\n",
       "\t Agrp\\_\\_\\_Day5.obob5v5\\_\\_v\\_\\_Day5.obobBL6d5\\_\\_\\_fgf1\\_grouping.pos\\_vs\\_none                             &  514 &  2284 & 0.2250438 & 0.1 & 150 &  TRUE\\\\\n",
       "\t Agrp\\_\\_\\_Day5.obob5v5\\_\\_v\\_\\_Day5.obobBL6d5\\_\\_\\_restored\\_grouping.pos\\_restored\\_vs\\_none                &  514 &  2284 & 0.2250438 & 0.1 & 150 &  TRUE\\\\\n",
       "\t Ghrh\\_\\_\\_Day5.obob5v5\\_\\_v\\_\\_Day5.obobBL6d5\\_\\_\\_fgf1\\_grouping.neg\\_vs\\_none                             &  261 &  1063 & 0.2455315 & 0.1 & 150 &  TRUE\\\\\n",
       "\t Ghrh\\_\\_\\_Day5.obob5v5\\_\\_v\\_\\_Day5.obobBL6d5\\_\\_\\_restored\\_grouping.neg\\_restored\\_vs\\_none                &  261 &  1063 & 0.2455315 & 0.1 & 150 &  TRUE\\\\\n",
       "\t OPC\\_\\_\\_Day5.obob5v5\\_\\_v\\_\\_Day5.obobBL6d5\\_\\_\\_fgf1\\_grouping.pos\\_vs\\_none                              &  382 &  1485 & 0.2572391 & 0.1 & 150 &  TRUE\\\\\n",
       "\t OPC\\_\\_\\_Day5.obob5v5\\_\\_v\\_\\_Day5.obobBL6d5\\_\\_\\_restored\\_grouping.pos\\_restored\\_vs\\_none                 &  382 &  1485 & 0.2572391 & 0.1 & 150 &  TRUE\\\\\n",
       "\t Htr3b\\_\\_\\_Day5.obob5v5\\_\\_v\\_\\_Day5.obobBL6d5\\_\\_\\_fgf1\\_grouping.neg\\_vs\\_none                            &  527 &  1906 & 0.2764953 & 0.1 & 150 &  TRUE\\\\\n",
       "\t Htr3b\\_\\_\\_Day5.obob5v5\\_\\_v\\_\\_Day5.obobBL6d5\\_\\_\\_restored\\_grouping.neg\\_restored\\_vs\\_none               &  527 &  1906 & 0.2764953 & 0.1 & 150 &  TRUE\\\\\n",
       "\t g2\\_\\_\\_Day5.obob5v5\\_\\_v\\_\\_Day5.obobBL6d5\\_\\_\\_fgf1\\_grouping.neg\\_vs\\_none                               & 1831 &  6261 & 0.2924453 & 0.1 & 150 &  TRUE\\\\\n",
       "\t g2\\_\\_\\_Day5.obob5v5\\_\\_v\\_\\_Day5.obobBL6d5\\_\\_\\_restored\\_grouping.neg\\_restored\\_vs\\_none                  & 1831 &  6261 & 0.2924453 & 0.1 & 150 &  TRUE\\\\\n",
       "\t Astrocytes\\_\\_\\_Day5.obob5v5\\_\\_v\\_\\_Day5.obobBL6d5\\_\\_\\_fgf1\\_grouping.neg\\_vs\\_none                       & 1897 &  6361 & 0.2982235 & 0.1 & 150 &  TRUE\\\\\n",
       "\t Astrocytes\\_\\_\\_Day5.obob5v5\\_\\_v\\_\\_Day5.obobBL6d5\\_\\_\\_restored\\_grouping.neg\\_restored\\_vs\\_none          & 1897 &  6361 & 0.2982235 & 0.1 & 150 &  TRUE\\\\\n",
       "\t other\\_\\_\\_Day5.obob5v5\\_\\_v\\_\\_Day5.obobBL6d5\\_\\_\\_fgf1\\_grouping.neg\\_vs\\_none                            & 4701 & 15029 & 0.3127953 & 0.1 & 150 &  TRUE\\\\\n",
       "\t other\\_\\_\\_Day5.obob5v5\\_\\_v\\_\\_Day5.obobBL6d5\\_\\_\\_restored\\_grouping.neg\\_restored\\_vs\\_none               & 4701 & 15029 & 0.3127953 & 0.1 & 150 &  TRUE\\\\\n",
       "\t Htr3b\\_\\_\\_Day5.obob5v5\\_\\_v\\_\\_Day5.obobBL6d5\\_\\_\\_fgf1\\_grouping.pos\\_vs\\_none                            &  628 &  1906 & 0.3294858 & 0.1 & 150 &  TRUE\\\\\n",
       "\t Htr3b\\_\\_\\_Day5.obob5v5\\_\\_v\\_\\_Day5.obobBL6d5\\_\\_\\_restored\\_grouping.pos\\_restored\\_vs\\_none               &  628 &  1906 & 0.3294858 & 0.1 & 150 &  TRUE\\\\\n",
       "\t OPC\\_\\_\\_Day5.obob5v5\\_\\_v\\_\\_Day5.obobBL6d5\\_\\_\\_fgf1\\_grouping.neg\\_vs\\_none                              &  546 &  1485 & 0.3676768 & 0.1 & 150 &  TRUE\\\\\n",
       "\t OPC\\_\\_\\_Day5.obob5v5\\_\\_v\\_\\_Day5.obobBL6d5\\_\\_\\_restored\\_grouping.neg\\_restored\\_vs\\_none                 &  546 &  1485 & 0.3676768 & 0.1 & 150 &  TRUE\\\\\n",
       "\\end{tabular}\n"
      ],
      "text/markdown": [
       "\n",
       "A tibble: 60 × 7\n",
       "\n",
       "| tag &lt;chr&gt; | count &lt;int&gt; | total_cells &lt;int&gt; | frac &lt;dbl&gt; | frac_cutoff &lt;dbl&gt; | n_cells_cutoff &lt;dbl&gt; | n_cells_valid &lt;lgl&gt; |\n",
       "|---|---|---|---|---|---|---|\n",
       "| Tbx19__Pirt___Day5.obob5v5__v__Day5.obobBL6d5___fgf1_grouping.neg_vs_none                      |  122 |  1183 | 0.1031276 | 0.1 | 150 | FALSE |\n",
       "| Tbx19__Pirt___Day5.obob5v5__v__Day5.obobBL6d5___restored_grouping.neg_restored_vs_none         |  122 |  1183 | 0.1031276 | 0.1 | 150 | FALSE |\n",
       "| Tanycytes___Day5.obob5v5__v__Day5.obobBL6d5___fgf1_grouping.pos_vs_none                        |  528 |  5005 | 0.1054945 | 0.1 | 150 |  TRUE |\n",
       "| Tanycytes___Day5.obob5v5__v__Day5.obobBL6d5___restored_grouping.pos_restored_vs_none           |  528 |  5005 | 0.1054945 | 0.1 | 150 |  TRUE |\n",
       "| Sst__Unc13c___Day5.obob5v5__v__Day5.obobBL6d5___fgf1_grouping.pos_vs_none                      |  163 |  1535 | 0.1061889 | 0.1 | 150 |  TRUE |\n",
       "| Sst__Unc13c___Day5.obob5v5__v__Day5.obobBL6d5___restored_grouping.pos_restored_vs_none         |  163 |  1535 | 0.1061889 | 0.1 | 150 |  TRUE |\n",
       "| n1___Day5.obob5v5__v__Day5.obobBL6d5___fgf1_grouping.pos_vs_none                               |  627 |  5198 | 0.1206233 | 0.1 | 150 |  TRUE |\n",
       "| n1___Day5.obob5v5__v__Day5.obobBL6d5___restored_grouping.pos_restored_vs_none                  |  627 |  5198 | 0.1206233 | 0.1 | 150 |  TRUE |\n",
       "| Tbx19__Pirt___Day5.obob5v5__v__Day5.obobBL6d5___fgf1_grouping.pos_vs_none                      |  147 |  1183 | 0.1242604 | 0.1 | 150 | FALSE |\n",
       "| Tbx19__Pirt___Day5.obob5v5__v__Day5.obobBL6d5___restored_grouping.pos_restored_vs_none         |  147 |  1183 | 0.1242604 | 0.1 | 150 | FALSE |\n",
       "| Pou6f2__Prkcq__Whrn___Day5.obob5v5__v__Day5.obobBL6d5___fgf1_grouping.pos_vs_none              |  136 |  1085 | 0.1253456 | 0.1 | 150 | FALSE |\n",
       "| Pou6f2__Prkcq__Whrn___Day5.obob5v5__v__Day5.obobBL6d5___restored_grouping.pos_restored_vs_none |  136 |  1085 | 0.1253456 | 0.1 | 150 | FALSE |\n",
       "| Kiss1__Tac2___Day5.obob5v5__v__Day5.obobBL6d5___fgf1_grouping.neg_vs_none                      |  215 |  1519 | 0.1415405 | 0.1 | 150 |  TRUE |\n",
       "| Kiss1__Tac2___Day5.obob5v5__v__Day5.obobBL6d5___restored_grouping.neg_restored_vs_none         |  215 |  1519 | 0.1415405 | 0.1 | 150 |  TRUE |\n",
       "| Ghrh___Day5.obob5v5__v__Day5.obobBL6d5___fgf1_grouping.pos_vs_none                             |  157 |  1063 | 0.1476952 | 0.1 | 150 |  TRUE |\n",
       "| Ghrh___Day5.obob5v5__v__Day5.obobBL6d5___restored_grouping.pos_restored_vs_none                |  157 |  1063 | 0.1476952 | 0.1 | 150 |  TRUE |\n",
       "| Agrp___Day5.obob5v5__v__Day5.obobBL6d5___fgf1_grouping.neg_vs_none                             |  343 |  2284 | 0.1501751 | 0.1 | 150 |  TRUE |\n",
       "| Agrp___Day5.obob5v5__v__Day5.obobBL6d5___restored_grouping.neg_restored_vs_none                |  343 |  2284 | 0.1501751 | 0.1 | 150 |  TRUE |\n",
       "| Oligodendrocytes___Day5.obob5v5__v__Day5.obobBL6d5___fgf1_grouping.pos_vs_none                 |  163 |  1079 | 0.1510658 | 0.1 | 150 |  TRUE |\n",
       "| Oligodendrocytes___Day5.obob5v5__v__Day5.obobBL6d5___restored_grouping.pos_restored_vs_none    |  163 |  1079 | 0.1510658 | 0.1 | 150 |  TRUE |\n",
       "| Oligodendrocytes___Day5.obob5v5__v__Day5.obobBL6d5___fgf1_grouping.neg_vs_none                 |  168 |  1079 | 0.1556997 | 0.1 | 150 |  TRUE |\n",
       "| Oligodendrocytes___Day5.obob5v5__v__Day5.obobBL6d5___restored_grouping.neg_restored_vs_none    |  168 |  1079 | 0.1556997 | 0.1 | 150 |  TRUE |\n",
       "| g3___Day5.obob5v5__v__Day5.obobBL6d5___fgf1_grouping.neg_vs_none                               |  388 |  2456 | 0.1579805 | 0.1 | 150 |  TRUE |\n",
       "| g3___Day5.obob5v5__v__Day5.obobBL6d5___restored_grouping.neg_restored_vs_none                  |  388 |  2456 | 0.1579805 | 0.1 | 150 |  TRUE |\n",
       "| Sst__Pthlh___Day5.obob5v5__v__Day5.obobBL6d5___fgf1_grouping.pos_vs_none                       |  121 |   742 | 0.1630728 | 0.1 | 150 | FALSE |\n",
       "| Sst__Pthlh___Day5.obob5v5__v__Day5.obobBL6d5___restored_grouping.pos_restored_vs_none          |  121 |   742 | 0.1630728 | 0.1 | 150 | FALSE |\n",
       "| g3___Day5.obob5v5__v__Day5.obobBL6d5___fgf1_grouping.pos_vs_none                               |  412 |  2456 | 0.1677524 | 0.1 | 150 |  TRUE |\n",
       "| g3___Day5.obob5v5__v__Day5.obobBL6d5___restored_grouping.pos_restored_vs_none                  |  412 |  2456 | 0.1677524 | 0.1 | 150 |  TRUE |\n",
       "| n1___Day5.obob5v5__v__Day5.obobBL6d5___fgf1_grouping.neg_vs_none                               |  895 |  5198 | 0.1721816 | 0.1 | 150 |  TRUE |\n",
       "| n1___Day5.obob5v5__v__Day5.obobBL6d5___restored_grouping.neg_restored_vs_none                  |  895 |  5198 | 0.1721816 | 0.1 | 150 |  TRUE |\n",
       "| other___Day5.obob5v5__v__Day5.obobBL6d5___fgf1_grouping.pos_vs_none                            | 2912 | 15029 | 0.1937587 | 0.1 | 150 |  TRUE |\n",
       "| other___Day5.obob5v5__v__Day5.obobBL6d5___restored_grouping.pos_restored_vs_none               | 2912 | 15029 | 0.1937587 | 0.1 | 150 |  TRUE |\n",
       "| g2___Day5.obob5v5__v__Day5.obobBL6d5___fgf1_grouping.pos_vs_none                               | 1264 |  6261 | 0.2018847 | 0.1 | 150 |  TRUE |\n",
       "| g2___Day5.obob5v5__v__Day5.obobBL6d5___restored_grouping.pos_restored_vs_none                  | 1264 |  6261 | 0.2018847 | 0.1 | 150 |  TRUE |\n",
       "| Astrocytes___Day5.obob5v5__v__Day5.obobBL6d5___fgf1_grouping.pos_vs_none                       | 1299 |  6361 | 0.2042132 | 0.1 | 150 |  TRUE |\n",
       "| Astrocytes___Day5.obob5v5__v__Day5.obobBL6d5___restored_grouping.pos_restored_vs_none          | 1299 |  6361 | 0.2042132 | 0.1 | 150 |  TRUE |\n",
       "| Pomc__Glipr1___Day5.obob5v5__v__Day5.obobBL6d5___fgf1_grouping.neg_vs_none                     |  246 |  1204 | 0.2043189 | 0.1 | 150 |  TRUE |\n",
       "| Pomc__Glipr1___Day5.obob5v5__v__Day5.obobBL6d5___restored_grouping.neg_restored_vs_none        |  246 |  1204 | 0.2043189 | 0.1 | 150 |  TRUE |\n",
       "| Trh__Lef1___Day5.obob5v5__v__Day5.obobBL6d5___fgf1_grouping.neg_vs_none                        |  324 |  1571 | 0.2062381 | 0.1 | 150 |  TRUE |\n",
       "| Trh__Lef1___Day5.obob5v5__v__Day5.obobBL6d5___restored_grouping.neg_restored_vs_none           |  324 |  1571 | 0.2062381 | 0.1 | 150 |  TRUE |\n",
       "| Trh__Lef1___Day5.obob5v5__v__Day5.obobBL6d5___fgf1_grouping.pos_vs_none                        |  330 |  1571 | 0.2100573 | 0.1 | 150 |  TRUE |\n",
       "| Trh__Lef1___Day5.obob5v5__v__Day5.obobBL6d5___restored_grouping.pos_restored_vs_none           |  330 |  1571 | 0.2100573 | 0.1 | 150 |  TRUE |\n",
       "| Agrp___Day5.obob5v5__v__Day5.obobBL6d5___fgf1_grouping.pos_vs_none                             |  514 |  2284 | 0.2250438 | 0.1 | 150 |  TRUE |\n",
       "| Agrp___Day5.obob5v5__v__Day5.obobBL6d5___restored_grouping.pos_restored_vs_none                |  514 |  2284 | 0.2250438 | 0.1 | 150 |  TRUE |\n",
       "| Ghrh___Day5.obob5v5__v__Day5.obobBL6d5___fgf1_grouping.neg_vs_none                             |  261 |  1063 | 0.2455315 | 0.1 | 150 |  TRUE |\n",
       "| Ghrh___Day5.obob5v5__v__Day5.obobBL6d5___restored_grouping.neg_restored_vs_none                |  261 |  1063 | 0.2455315 | 0.1 | 150 |  TRUE |\n",
       "| OPC___Day5.obob5v5__v__Day5.obobBL6d5___fgf1_grouping.pos_vs_none                              |  382 |  1485 | 0.2572391 | 0.1 | 150 |  TRUE |\n",
       "| OPC___Day5.obob5v5__v__Day5.obobBL6d5___restored_grouping.pos_restored_vs_none                 |  382 |  1485 | 0.2572391 | 0.1 | 150 |  TRUE |\n",
       "| Htr3b___Day5.obob5v5__v__Day5.obobBL6d5___fgf1_grouping.neg_vs_none                            |  527 |  1906 | 0.2764953 | 0.1 | 150 |  TRUE |\n",
       "| Htr3b___Day5.obob5v5__v__Day5.obobBL6d5___restored_grouping.neg_restored_vs_none               |  527 |  1906 | 0.2764953 | 0.1 | 150 |  TRUE |\n",
       "| g2___Day5.obob5v5__v__Day5.obobBL6d5___fgf1_grouping.neg_vs_none                               | 1831 |  6261 | 0.2924453 | 0.1 | 150 |  TRUE |\n",
       "| g2___Day5.obob5v5__v__Day5.obobBL6d5___restored_grouping.neg_restored_vs_none                  | 1831 |  6261 | 0.2924453 | 0.1 | 150 |  TRUE |\n",
       "| Astrocytes___Day5.obob5v5__v__Day5.obobBL6d5___fgf1_grouping.neg_vs_none                       | 1897 |  6361 | 0.2982235 | 0.1 | 150 |  TRUE |\n",
       "| Astrocytes___Day5.obob5v5__v__Day5.obobBL6d5___restored_grouping.neg_restored_vs_none          | 1897 |  6361 | 0.2982235 | 0.1 | 150 |  TRUE |\n",
       "| other___Day5.obob5v5__v__Day5.obobBL6d5___fgf1_grouping.neg_vs_none                            | 4701 | 15029 | 0.3127953 | 0.1 | 150 |  TRUE |\n",
       "| other___Day5.obob5v5__v__Day5.obobBL6d5___restored_grouping.neg_restored_vs_none               | 4701 | 15029 | 0.3127953 | 0.1 | 150 |  TRUE |\n",
       "| Htr3b___Day5.obob5v5__v__Day5.obobBL6d5___fgf1_grouping.pos_vs_none                            |  628 |  1906 | 0.3294858 | 0.1 | 150 |  TRUE |\n",
       "| Htr3b___Day5.obob5v5__v__Day5.obobBL6d5___restored_grouping.pos_restored_vs_none               |  628 |  1906 | 0.3294858 | 0.1 | 150 |  TRUE |\n",
       "| OPC___Day5.obob5v5__v__Day5.obobBL6d5___fgf1_grouping.neg_vs_none                              |  546 |  1485 | 0.3676768 | 0.1 | 150 |  TRUE |\n",
       "| OPC___Day5.obob5v5__v__Day5.obobBL6d5___restored_grouping.neg_restored_vs_none                 |  546 |  1485 | 0.3676768 | 0.1 | 150 |  TRUE |\n",
       "\n"
      ],
      "text/plain": [
       "   tag                                                                                           \n",
       "1  Tbx19__Pirt___Day5.obob5v5__v__Day5.obobBL6d5___fgf1_grouping.neg_vs_none                     \n",
       "2  Tbx19__Pirt___Day5.obob5v5__v__Day5.obobBL6d5___restored_grouping.neg_restored_vs_none        \n",
       "3  Tanycytes___Day5.obob5v5__v__Day5.obobBL6d5___fgf1_grouping.pos_vs_none                       \n",
       "4  Tanycytes___Day5.obob5v5__v__Day5.obobBL6d5___restored_grouping.pos_restored_vs_none          \n",
       "5  Sst__Unc13c___Day5.obob5v5__v__Day5.obobBL6d5___fgf1_grouping.pos_vs_none                     \n",
       "6  Sst__Unc13c___Day5.obob5v5__v__Day5.obobBL6d5___restored_grouping.pos_restored_vs_none        \n",
       "7  n1___Day5.obob5v5__v__Day5.obobBL6d5___fgf1_grouping.pos_vs_none                              \n",
       "8  n1___Day5.obob5v5__v__Day5.obobBL6d5___restored_grouping.pos_restored_vs_none                 \n",
       "9  Tbx19__Pirt___Day5.obob5v5__v__Day5.obobBL6d5___fgf1_grouping.pos_vs_none                     \n",
       "10 Tbx19__Pirt___Day5.obob5v5__v__Day5.obobBL6d5___restored_grouping.pos_restored_vs_none        \n",
       "11 Pou6f2__Prkcq__Whrn___Day5.obob5v5__v__Day5.obobBL6d5___fgf1_grouping.pos_vs_none             \n",
       "12 Pou6f2__Prkcq__Whrn___Day5.obob5v5__v__Day5.obobBL6d5___restored_grouping.pos_restored_vs_none\n",
       "13 Kiss1__Tac2___Day5.obob5v5__v__Day5.obobBL6d5___fgf1_grouping.neg_vs_none                     \n",
       "14 Kiss1__Tac2___Day5.obob5v5__v__Day5.obobBL6d5___restored_grouping.neg_restored_vs_none        \n",
       "15 Ghrh___Day5.obob5v5__v__Day5.obobBL6d5___fgf1_grouping.pos_vs_none                            \n",
       "16 Ghrh___Day5.obob5v5__v__Day5.obobBL6d5___restored_grouping.pos_restored_vs_none               \n",
       "17 Agrp___Day5.obob5v5__v__Day5.obobBL6d5___fgf1_grouping.neg_vs_none                            \n",
       "18 Agrp___Day5.obob5v5__v__Day5.obobBL6d5___restored_grouping.neg_restored_vs_none               \n",
       "19 Oligodendrocytes___Day5.obob5v5__v__Day5.obobBL6d5___fgf1_grouping.pos_vs_none                \n",
       "20 Oligodendrocytes___Day5.obob5v5__v__Day5.obobBL6d5___restored_grouping.pos_restored_vs_none   \n",
       "21 Oligodendrocytes___Day5.obob5v5__v__Day5.obobBL6d5___fgf1_grouping.neg_vs_none                \n",
       "22 Oligodendrocytes___Day5.obob5v5__v__Day5.obobBL6d5___restored_grouping.neg_restored_vs_none   \n",
       "23 g3___Day5.obob5v5__v__Day5.obobBL6d5___fgf1_grouping.neg_vs_none                              \n",
       "24 g3___Day5.obob5v5__v__Day5.obobBL6d5___restored_grouping.neg_restored_vs_none                 \n",
       "25 Sst__Pthlh___Day5.obob5v5__v__Day5.obobBL6d5___fgf1_grouping.pos_vs_none                      \n",
       "26 Sst__Pthlh___Day5.obob5v5__v__Day5.obobBL6d5___restored_grouping.pos_restored_vs_none         \n",
       "27 g3___Day5.obob5v5__v__Day5.obobBL6d5___fgf1_grouping.pos_vs_none                              \n",
       "28 g3___Day5.obob5v5__v__Day5.obobBL6d5___restored_grouping.pos_restored_vs_none                 \n",
       "29 n1___Day5.obob5v5__v__Day5.obobBL6d5___fgf1_grouping.neg_vs_none                              \n",
       "30 n1___Day5.obob5v5__v__Day5.obobBL6d5___restored_grouping.neg_restored_vs_none                 \n",
       "31 other___Day5.obob5v5__v__Day5.obobBL6d5___fgf1_grouping.pos_vs_none                           \n",
       "32 other___Day5.obob5v5__v__Day5.obobBL6d5___restored_grouping.pos_restored_vs_none              \n",
       "33 g2___Day5.obob5v5__v__Day5.obobBL6d5___fgf1_grouping.pos_vs_none                              \n",
       "34 g2___Day5.obob5v5__v__Day5.obobBL6d5___restored_grouping.pos_restored_vs_none                 \n",
       "35 Astrocytes___Day5.obob5v5__v__Day5.obobBL6d5___fgf1_grouping.pos_vs_none                      \n",
       "36 Astrocytes___Day5.obob5v5__v__Day5.obobBL6d5___restored_grouping.pos_restored_vs_none         \n",
       "37 Pomc__Glipr1___Day5.obob5v5__v__Day5.obobBL6d5___fgf1_grouping.neg_vs_none                    \n",
       "38 Pomc__Glipr1___Day5.obob5v5__v__Day5.obobBL6d5___restored_grouping.neg_restored_vs_none       \n",
       "39 Trh__Lef1___Day5.obob5v5__v__Day5.obobBL6d5___fgf1_grouping.neg_vs_none                       \n",
       "40 Trh__Lef1___Day5.obob5v5__v__Day5.obobBL6d5___restored_grouping.neg_restored_vs_none          \n",
       "41 Trh__Lef1___Day5.obob5v5__v__Day5.obobBL6d5___fgf1_grouping.pos_vs_none                       \n",
       "42 Trh__Lef1___Day5.obob5v5__v__Day5.obobBL6d5___restored_grouping.pos_restored_vs_none          \n",
       "43 Agrp___Day5.obob5v5__v__Day5.obobBL6d5___fgf1_grouping.pos_vs_none                            \n",
       "44 Agrp___Day5.obob5v5__v__Day5.obobBL6d5___restored_grouping.pos_restored_vs_none               \n",
       "45 Ghrh___Day5.obob5v5__v__Day5.obobBL6d5___fgf1_grouping.neg_vs_none                            \n",
       "46 Ghrh___Day5.obob5v5__v__Day5.obobBL6d5___restored_grouping.neg_restored_vs_none               \n",
       "47 OPC___Day5.obob5v5__v__Day5.obobBL6d5___fgf1_grouping.pos_vs_none                             \n",
       "48 OPC___Day5.obob5v5__v__Day5.obobBL6d5___restored_grouping.pos_restored_vs_none                \n",
       "49 Htr3b___Day5.obob5v5__v__Day5.obobBL6d5___fgf1_grouping.neg_vs_none                           \n",
       "50 Htr3b___Day5.obob5v5__v__Day5.obobBL6d5___restored_grouping.neg_restored_vs_none              \n",
       "51 g2___Day5.obob5v5__v__Day5.obobBL6d5___fgf1_grouping.neg_vs_none                              \n",
       "52 g2___Day5.obob5v5__v__Day5.obobBL6d5___restored_grouping.neg_restored_vs_none                 \n",
       "53 Astrocytes___Day5.obob5v5__v__Day5.obobBL6d5___fgf1_grouping.neg_vs_none                      \n",
       "54 Astrocytes___Day5.obob5v5__v__Day5.obobBL6d5___restored_grouping.neg_restored_vs_none         \n",
       "55 other___Day5.obob5v5__v__Day5.obobBL6d5___fgf1_grouping.neg_vs_none                           \n",
       "56 other___Day5.obob5v5__v__Day5.obobBL6d5___restored_grouping.neg_restored_vs_none              \n",
       "57 Htr3b___Day5.obob5v5__v__Day5.obobBL6d5___fgf1_grouping.pos_vs_none                           \n",
       "58 Htr3b___Day5.obob5v5__v__Day5.obobBL6d5___restored_grouping.pos_restored_vs_none              \n",
       "59 OPC___Day5.obob5v5__v__Day5.obobBL6d5___fgf1_grouping.neg_vs_none                             \n",
       "60 OPC___Day5.obob5v5__v__Day5.obobBL6d5___restored_grouping.neg_restored_vs_none                \n",
       "   count total_cells frac      frac_cutoff n_cells_cutoff n_cells_valid\n",
       "1   122   1183       0.1031276 0.1         150            FALSE        \n",
       "2   122   1183       0.1031276 0.1         150            FALSE        \n",
       "3   528   5005       0.1054945 0.1         150             TRUE        \n",
       "4   528   5005       0.1054945 0.1         150             TRUE        \n",
       "5   163   1535       0.1061889 0.1         150             TRUE        \n",
       "6   163   1535       0.1061889 0.1         150             TRUE        \n",
       "7   627   5198       0.1206233 0.1         150             TRUE        \n",
       "8   627   5198       0.1206233 0.1         150             TRUE        \n",
       "9   147   1183       0.1242604 0.1         150            FALSE        \n",
       "10  147   1183       0.1242604 0.1         150            FALSE        \n",
       "11  136   1085       0.1253456 0.1         150            FALSE        \n",
       "12  136   1085       0.1253456 0.1         150            FALSE        \n",
       "13  215   1519       0.1415405 0.1         150             TRUE        \n",
       "14  215   1519       0.1415405 0.1         150             TRUE        \n",
       "15  157   1063       0.1476952 0.1         150             TRUE        \n",
       "16  157   1063       0.1476952 0.1         150             TRUE        \n",
       "17  343   2284       0.1501751 0.1         150             TRUE        \n",
       "18  343   2284       0.1501751 0.1         150             TRUE        \n",
       "19  163   1079       0.1510658 0.1         150             TRUE        \n",
       "20  163   1079       0.1510658 0.1         150             TRUE        \n",
       "21  168   1079       0.1556997 0.1         150             TRUE        \n",
       "22  168   1079       0.1556997 0.1         150             TRUE        \n",
       "23  388   2456       0.1579805 0.1         150             TRUE        \n",
       "24  388   2456       0.1579805 0.1         150             TRUE        \n",
       "25  121    742       0.1630728 0.1         150            FALSE        \n",
       "26  121    742       0.1630728 0.1         150            FALSE        \n",
       "27  412   2456       0.1677524 0.1         150             TRUE        \n",
       "28  412   2456       0.1677524 0.1         150             TRUE        \n",
       "29  895   5198       0.1721816 0.1         150             TRUE        \n",
       "30  895   5198       0.1721816 0.1         150             TRUE        \n",
       "31 2912  15029       0.1937587 0.1         150             TRUE        \n",
       "32 2912  15029       0.1937587 0.1         150             TRUE        \n",
       "33 1264   6261       0.2018847 0.1         150             TRUE        \n",
       "34 1264   6261       0.2018847 0.1         150             TRUE        \n",
       "35 1299   6361       0.2042132 0.1         150             TRUE        \n",
       "36 1299   6361       0.2042132 0.1         150             TRUE        \n",
       "37  246   1204       0.2043189 0.1         150             TRUE        \n",
       "38  246   1204       0.2043189 0.1         150             TRUE        \n",
       "39  324   1571       0.2062381 0.1         150             TRUE        \n",
       "40  324   1571       0.2062381 0.1         150             TRUE        \n",
       "41  330   1571       0.2100573 0.1         150             TRUE        \n",
       "42  330   1571       0.2100573 0.1         150             TRUE        \n",
       "43  514   2284       0.2250438 0.1         150             TRUE        \n",
       "44  514   2284       0.2250438 0.1         150             TRUE        \n",
       "45  261   1063       0.2455315 0.1         150             TRUE        \n",
       "46  261   1063       0.2455315 0.1         150             TRUE        \n",
       "47  382   1485       0.2572391 0.1         150             TRUE        \n",
       "48  382   1485       0.2572391 0.1         150             TRUE        \n",
       "49  527   1906       0.2764953 0.1         150             TRUE        \n",
       "50  527   1906       0.2764953 0.1         150             TRUE        \n",
       "51 1831   6261       0.2924453 0.1         150             TRUE        \n",
       "52 1831   6261       0.2924453 0.1         150             TRUE        \n",
       "53 1897   6361       0.2982235 0.1         150             TRUE        \n",
       "54 1897   6361       0.2982235 0.1         150             TRUE        \n",
       "55 4701  15029       0.3127953 0.1         150             TRUE        \n",
       "56 4701  15029       0.3127953 0.1         150             TRUE        \n",
       "57  628   1906       0.3294858 0.1         150             TRUE        \n",
       "58  628   1906       0.3294858 0.1         150             TRUE        \n",
       "59  546   1485       0.3676768 0.1         150             TRUE        \n",
       "60  546   1485       0.3676768 0.1         150             TRUE        "
      ]
     },
     "metadata": {},
     "output_type": "display_data"
    }
   ],
   "source": [
    "new_tibble %>% filter(frac >= 0.10) %>% arrange(frac) %>% filter(!str_detect(tag, 'bl6_grouping'))"
   ]
  },
  {
   "cell_type": "code",
   "execution_count": 165,
   "id": "d1b06a5e",
   "metadata": {},
   "outputs": [
    {
     "data": {
      "text/html": [
       "<table class=\"dataframe\">\n",
       "<caption>A tibble: 6 × 2</caption>\n",
       "<thead>\n",
       "\t<tr><th scope=col>class</th><th scope=col>cluster</th></tr>\n",
       "\t<tr><th scope=col>&lt;chr&gt;</th><th scope=col>&lt;chr&gt;</th></tr>\n",
       "</thead>\n",
       "<tbody>\n",
       "\t<tr><td>other</td><td>Tanycytes       </td></tr>\n",
       "\t<tr><td>other</td><td>OPC             </td></tr>\n",
       "\t<tr><td>other</td><td>Astrocytes      </td></tr>\n",
       "\t<tr><td>other</td><td>Ependymal_cells </td></tr>\n",
       "\t<tr><td>other</td><td>Oligodendrocytes</td></tr>\n",
       "\t<tr><td>other</td><td>Microglia       </td></tr>\n",
       "</tbody>\n",
       "</table>\n"
      ],
      "text/latex": [
       "A tibble: 6 × 2\n",
       "\\begin{tabular}{ll}\n",
       " class & cluster\\\\\n",
       " <chr> & <chr>\\\\\n",
       "\\hline\n",
       "\t other & Tanycytes       \\\\\n",
       "\t other & OPC             \\\\\n",
       "\t other & Astrocytes      \\\\\n",
       "\t other & Ependymal\\_cells \\\\\n",
       "\t other & Oligodendrocytes\\\\\n",
       "\t other & Microglia       \\\\\n",
       "\\end{tabular}\n"
      ],
      "text/markdown": [
       "\n",
       "A tibble: 6 × 2\n",
       "\n",
       "| class &lt;chr&gt; | cluster &lt;chr&gt; |\n",
       "|---|---|\n",
       "| other | Tanycytes        |\n",
       "| other | OPC              |\n",
       "| other | Astrocytes       |\n",
       "| other | Ependymal_cells  |\n",
       "| other | Oligodendrocytes |\n",
       "| other | Microglia        |\n",
       "\n"
      ],
      "text/plain": [
       "  class cluster         \n",
       "1 other Tanycytes       \n",
       "2 other OPC             \n",
       "3 other Astrocytes      \n",
       "4 other Ependymal_cells \n",
       "5 other Oligodendrocytes\n",
       "6 other Microglia       "
      ]
     },
     "metadata": {},
     "output_type": "display_data"
    }
   ],
   "source": [
    "labels_classes_tib = bind_rows(qs::qread('_targets_nhBulkDESeq/objects/exp_labelled_other') %>% \n",
    "          `[[` %>% \n",
    "          distinct(class, labels_lvl1) %>% \n",
    "          rename(labels = labels_lvl1),\n",
    "          qs::qread('_targets_nhBulkDESeq/objects/exp_labelled_neuron') %>% \n",
    "          `[[` %>% \n",
    "          distinct(class, labels_lvl1) %>% \n",
    "          rename(labels = labels_lvl1),\n",
    "         ) %>%\n",
    "tibble %>%\n",
    "rename(cluster = labels) %>%\n",
    "rowwise %>%\n",
    "mutate(cluster = str_replace_all(cluster, '/', '__')) %>%\n",
    "ungroup\n",
    "\n",
    "labels_classes_tib %>% head"
   ]
  },
  {
   "cell_type": "code",
   "execution_count": 166,
   "id": "824442b9",
   "metadata": {},
   "outputs": [
    {
     "data": {
      "text/html": [
       "<table class=\"dataframe\">\n",
       "<caption>A tibble: 1 × 2</caption>\n",
       "<thead>\n",
       "\t<tr><th scope=col>class</th><th scope=col>cluster</th></tr>\n",
       "\t<tr><th scope=col>&lt;chr&gt;</th><th scope=col>&lt;chr&gt;</th></tr>\n",
       "</thead>\n",
       "<tbody>\n",
       "\t<tr><td>neuron</td><td>Irx5__Lmx1a</td></tr>\n",
       "</tbody>\n",
       "</table>\n"
      ],
      "text/latex": [
       "A tibble: 1 × 2\n",
       "\\begin{tabular}{ll}\n",
       " class & cluster\\\\\n",
       " <chr> & <chr>\\\\\n",
       "\\hline\n",
       "\t neuron & Irx5\\_\\_Lmx1a\\\\\n",
       "\\end{tabular}\n"
      ],
      "text/markdown": [
       "\n",
       "A tibble: 1 × 2\n",
       "\n",
       "| class &lt;chr&gt; | cluster &lt;chr&gt; |\n",
       "|---|---|\n",
       "| neuron | Irx5__Lmx1a |\n",
       "\n"
      ],
      "text/plain": [
       "  class  cluster    \n",
       "1 neuron Irx5__Lmx1a"
      ]
     },
     "metadata": {},
     "output_type": "display_data"
    }
   ],
   "source": [
    "labels_classes_tib %>% filter(str_detect(cluster, \"Lmx\"))"
   ]
  },
  {
   "cell_type": "code",
   "execution_count": 167,
   "id": "27816258",
   "metadata": {},
   "outputs": [
    {
     "data": {
      "text/html": [
       "<table class=\"dataframe\">\n",
       "<caption>A tibble: 6 × 7</caption>\n",
       "<thead>\n",
       "\t<tr><th scope=col>tag</th><th scope=col>count</th><th scope=col>total_cells</th><th scope=col>frac</th><th scope=col>frac_cutoff</th><th scope=col>n_cells_cutoff</th><th scope=col>n_cells_valid</th></tr>\n",
       "\t<tr><th scope=col>&lt;chr&gt;</th><th scope=col>&lt;int&gt;</th><th scope=col>&lt;int&gt;</th><th scope=col>&lt;dbl&gt;</th><th scope=col>&lt;dbl&gt;</th><th scope=col>&lt;dbl&gt;</th><th scope=col>&lt;lgl&gt;</th></tr>\n",
       "</thead>\n",
       "<tbody>\n",
       "\t<tr><td>Agrp___Day14.obob14v14__v__Day14.obobBL6d14___fgf1_grouping.neg_vs_none      </td><td>  0</td><td>2123</td><td>0.0000000</td><td>0.1</td><td>150</td><td>FALSE</td></tr>\n",
       "\t<tr><td>Agrp___Day14.obob14v14__v__Day14.obobBL6d14___fgf1_grouping.pos_vs_none      </td><td>  0</td><td>2123</td><td>0.0000000</td><td>0.1</td><td>150</td><td>FALSE</td></tr>\n",
       "\t<tr><td>Agrp___Day5.obob5v5__v__Day5.obobBL6d5___fgf1_grouping.neg_vs_none           </td><td>343</td><td>2284</td><td>0.1501751</td><td>0.1</td><td>150</td><td> TRUE</td></tr>\n",
       "\t<tr><td>Agrp___Day5.obob5v5__v__Day5.obobBL6d5___fgf1_grouping.pos_vs_none           </td><td>514</td><td>2284</td><td>0.2250438</td><td>0.1</td><td>150</td><td> TRUE</td></tr>\n",
       "\t<tr><td>Astrocytes___Day14.obob14v14__v__Day14.obobBL6d14___fgf1_grouping.neg_vs_none</td><td>  0</td><td>6867</td><td>0.0000000</td><td>0.1</td><td>150</td><td>FALSE</td></tr>\n",
       "\t<tr><td>Astrocytes___Day14.obob14v14__v__Day14.obobBL6d14___fgf1_grouping.pos_vs_none</td><td>  0</td><td>6867</td><td>0.0000000</td><td>0.1</td><td>150</td><td>FALSE</td></tr>\n",
       "</tbody>\n",
       "</table>\n"
      ],
      "text/latex": [
       "A tibble: 6 × 7\n",
       "\\begin{tabular}{lllllll}\n",
       " tag & count & total\\_cells & frac & frac\\_cutoff & n\\_cells\\_cutoff & n\\_cells\\_valid\\\\\n",
       " <chr> & <int> & <int> & <dbl> & <dbl> & <dbl> & <lgl>\\\\\n",
       "\\hline\n",
       "\t Agrp\\_\\_\\_Day14.obob14v14\\_\\_v\\_\\_Day14.obobBL6d14\\_\\_\\_fgf1\\_grouping.neg\\_vs\\_none       &   0 & 2123 & 0.0000000 & 0.1 & 150 & FALSE\\\\\n",
       "\t Agrp\\_\\_\\_Day14.obob14v14\\_\\_v\\_\\_Day14.obobBL6d14\\_\\_\\_fgf1\\_grouping.pos\\_vs\\_none       &   0 & 2123 & 0.0000000 & 0.1 & 150 & FALSE\\\\\n",
       "\t Agrp\\_\\_\\_Day5.obob5v5\\_\\_v\\_\\_Day5.obobBL6d5\\_\\_\\_fgf1\\_grouping.neg\\_vs\\_none            & 343 & 2284 & 0.1501751 & 0.1 & 150 &  TRUE\\\\\n",
       "\t Agrp\\_\\_\\_Day5.obob5v5\\_\\_v\\_\\_Day5.obobBL6d5\\_\\_\\_fgf1\\_grouping.pos\\_vs\\_none            & 514 & 2284 & 0.2250438 & 0.1 & 150 &  TRUE\\\\\n",
       "\t Astrocytes\\_\\_\\_Day14.obob14v14\\_\\_v\\_\\_Day14.obobBL6d14\\_\\_\\_fgf1\\_grouping.neg\\_vs\\_none &   0 & 6867 & 0.0000000 & 0.1 & 150 & FALSE\\\\\n",
       "\t Astrocytes\\_\\_\\_Day14.obob14v14\\_\\_v\\_\\_Day14.obobBL6d14\\_\\_\\_fgf1\\_grouping.pos\\_vs\\_none &   0 & 6867 & 0.0000000 & 0.1 & 150 & FALSE\\\\\n",
       "\\end{tabular}\n"
      ],
      "text/markdown": [
       "\n",
       "A tibble: 6 × 7\n",
       "\n",
       "| tag &lt;chr&gt; | count &lt;int&gt; | total_cells &lt;int&gt; | frac &lt;dbl&gt; | frac_cutoff &lt;dbl&gt; | n_cells_cutoff &lt;dbl&gt; | n_cells_valid &lt;lgl&gt; |\n",
       "|---|---|---|---|---|---|---|\n",
       "| Agrp___Day14.obob14v14__v__Day14.obobBL6d14___fgf1_grouping.neg_vs_none       |   0 | 2123 | 0.0000000 | 0.1 | 150 | FALSE |\n",
       "| Agrp___Day14.obob14v14__v__Day14.obobBL6d14___fgf1_grouping.pos_vs_none       |   0 | 2123 | 0.0000000 | 0.1 | 150 | FALSE |\n",
       "| Agrp___Day5.obob5v5__v__Day5.obobBL6d5___fgf1_grouping.neg_vs_none            | 343 | 2284 | 0.1501751 | 0.1 | 150 |  TRUE |\n",
       "| Agrp___Day5.obob5v5__v__Day5.obobBL6d5___fgf1_grouping.pos_vs_none            | 514 | 2284 | 0.2250438 | 0.1 | 150 |  TRUE |\n",
       "| Astrocytes___Day14.obob14v14__v__Day14.obobBL6d14___fgf1_grouping.neg_vs_none |   0 | 6867 | 0.0000000 | 0.1 | 150 | FALSE |\n",
       "| Astrocytes___Day14.obob14v14__v__Day14.obobBL6d14___fgf1_grouping.pos_vs_none |   0 | 6867 | 0.0000000 | 0.1 | 150 | FALSE |\n",
       "\n"
      ],
      "text/plain": [
       "  tag                                                                          \n",
       "1 Agrp___Day14.obob14v14__v__Day14.obobBL6d14___fgf1_grouping.neg_vs_none      \n",
       "2 Agrp___Day14.obob14v14__v__Day14.obobBL6d14___fgf1_grouping.pos_vs_none      \n",
       "3 Agrp___Day5.obob5v5__v__Day5.obobBL6d5___fgf1_grouping.neg_vs_none           \n",
       "4 Agrp___Day5.obob5v5__v__Day5.obobBL6d5___fgf1_grouping.pos_vs_none           \n",
       "5 Astrocytes___Day14.obob14v14__v__Day14.obobBL6d14___fgf1_grouping.neg_vs_none\n",
       "6 Astrocytes___Day14.obob14v14__v__Day14.obobBL6d14___fgf1_grouping.pos_vs_none\n",
       "  count total_cells frac      frac_cutoff n_cells_cutoff n_cells_valid\n",
       "1   0   2123        0.0000000 0.1         150            FALSE        \n",
       "2   0   2123        0.0000000 0.1         150            FALSE        \n",
       "3 343   2284        0.1501751 0.1         150             TRUE        \n",
       "4 514   2284        0.2250438 0.1         150             TRUE        \n",
       "5   0   6867        0.0000000 0.1         150            FALSE        \n",
       "6   0   6867        0.0000000 0.1         150            FALSE        "
      ]
     },
     "metadata": {},
     "output_type": "display_data"
    }
   ],
   "source": [
    "new_tibble %>% head"
   ]
  },
  {
   "cell_type": "code",
   "execution_count": 168,
   "id": "af5219f2",
   "metadata": {
    "scrolled": true
   },
   "outputs": [
    {
     "data": {
      "text/html": [
       "<table class=\"dataframe\">\n",
       "<caption>A tibble: 33 × 2</caption>\n",
       "<thead>\n",
       "\t<tr><th scope=col>cluster</th><th scope=col>class</th></tr>\n",
       "\t<tr><th scope=col>&lt;chr&gt;</th><th scope=col>&lt;chr&gt;</th></tr>\n",
       "</thead>\n",
       "<tbody>\n",
       "\t<tr><td>Agrp               </td><td>neuron</td></tr>\n",
       "\t<tr><td>Astrocytes         </td><td>other </td></tr>\n",
       "\t<tr><td>g1                 </td><td>NA    </td></tr>\n",
       "\t<tr><td>g2                 </td><td>NA    </td></tr>\n",
       "\t<tr><td>g3                 </td><td>NA    </td></tr>\n",
       "\t<tr><td>Ghrh               </td><td>neuron</td></tr>\n",
       "\t<tr><td>Htr3b              </td><td>neuron</td></tr>\n",
       "\t<tr><td>Irx5__Lmx1a        </td><td>neuron</td></tr>\n",
       "\t<tr><td>Kiss1__Tac2        </td><td>neuron</td></tr>\n",
       "\t<tr><td>Lpar1_oligo        </td><td>neuron</td></tr>\n",
       "\t<tr><td>n0                 </td><td>NA    </td></tr>\n",
       "\t<tr><td>n1                 </td><td>NA    </td></tr>\n",
       "\t<tr><td>n2                 </td><td>NA    </td></tr>\n",
       "\t<tr><td>n3                 </td><td>NA    </td></tr>\n",
       "\t<tr><td>n5                 </td><td>NA    </td></tr>\n",
       "\t<tr><td>neuron             </td><td>NA    </td></tr>\n",
       "\t<tr><td>Nfix__Nfib__Lhx6   </td><td>neuron</td></tr>\n",
       "\t<tr><td>Oligodendrocytes   </td><td>other </td></tr>\n",
       "\t<tr><td>OPC                </td><td>other </td></tr>\n",
       "\t<tr><td>other              </td><td>NA    </td></tr>\n",
       "\t<tr><td>Pomc__Anxa2        </td><td>neuron</td></tr>\n",
       "\t<tr><td>Pomc__Glipr1       </td><td>neuron</td></tr>\n",
       "\t<tr><td>Pomc__Ttr          </td><td>neuron</td></tr>\n",
       "\t<tr><td>Pou6f2__Prkcq__Whrn</td><td>neuron</td></tr>\n",
       "\t<tr><td>Ppp1r17__Tafa4     </td><td>neuron</td></tr>\n",
       "\t<tr><td>Sst__Pthlh         </td><td>neuron</td></tr>\n",
       "\t<tr><td>Sst__Unc13c        </td><td>neuron</td></tr>\n",
       "\t<tr><td>Tanycytes          </td><td>other </td></tr>\n",
       "\t<tr><td>Tbx19__Pirt        </td><td>neuron</td></tr>\n",
       "\t<tr><td>Th__Nfib           </td><td>neuron</td></tr>\n",
       "\t<tr><td>Tmem215__Greb1     </td><td>neuron</td></tr>\n",
       "\t<tr><td>Trh__Cxcl12        </td><td>neuron</td></tr>\n",
       "\t<tr><td>Trh__Lef1          </td><td>neuron</td></tr>\n",
       "</tbody>\n",
       "</table>\n"
      ],
      "text/latex": [
       "A tibble: 33 × 2\n",
       "\\begin{tabular}{ll}\n",
       " cluster & class\\\\\n",
       " <chr> & <chr>\\\\\n",
       "\\hline\n",
       "\t Agrp                & neuron\\\\\n",
       "\t Astrocytes          & other \\\\\n",
       "\t g1                  & NA    \\\\\n",
       "\t g2                  & NA    \\\\\n",
       "\t g3                  & NA    \\\\\n",
       "\t Ghrh                & neuron\\\\\n",
       "\t Htr3b               & neuron\\\\\n",
       "\t Irx5\\_\\_Lmx1a         & neuron\\\\\n",
       "\t Kiss1\\_\\_Tac2         & neuron\\\\\n",
       "\t Lpar1\\_oligo         & neuron\\\\\n",
       "\t n0                  & NA    \\\\\n",
       "\t n1                  & NA    \\\\\n",
       "\t n2                  & NA    \\\\\n",
       "\t n3                  & NA    \\\\\n",
       "\t n5                  & NA    \\\\\n",
       "\t neuron              & NA    \\\\\n",
       "\t Nfix\\_\\_Nfib\\_\\_Lhx6    & neuron\\\\\n",
       "\t Oligodendrocytes    & other \\\\\n",
       "\t OPC                 & other \\\\\n",
       "\t other               & NA    \\\\\n",
       "\t Pomc\\_\\_Anxa2         & neuron\\\\\n",
       "\t Pomc\\_\\_Glipr1        & neuron\\\\\n",
       "\t Pomc\\_\\_Ttr           & neuron\\\\\n",
       "\t Pou6f2\\_\\_Prkcq\\_\\_Whrn & neuron\\\\\n",
       "\t Ppp1r17\\_\\_Tafa4      & neuron\\\\\n",
       "\t Sst\\_\\_Pthlh          & neuron\\\\\n",
       "\t Sst\\_\\_Unc13c         & neuron\\\\\n",
       "\t Tanycytes           & other \\\\\n",
       "\t Tbx19\\_\\_Pirt         & neuron\\\\\n",
       "\t Th\\_\\_Nfib            & neuron\\\\\n",
       "\t Tmem215\\_\\_Greb1      & neuron\\\\\n",
       "\t Trh\\_\\_Cxcl12         & neuron\\\\\n",
       "\t Trh\\_\\_Lef1           & neuron\\\\\n",
       "\\end{tabular}\n"
      ],
      "text/markdown": [
       "\n",
       "A tibble: 33 × 2\n",
       "\n",
       "| cluster &lt;chr&gt; | class &lt;chr&gt; |\n",
       "|---|---|\n",
       "| Agrp                | neuron |\n",
       "| Astrocytes          | other  |\n",
       "| g1                  | NA     |\n",
       "| g2                  | NA     |\n",
       "| g3                  | NA     |\n",
       "| Ghrh                | neuron |\n",
       "| Htr3b               | neuron |\n",
       "| Irx5__Lmx1a         | neuron |\n",
       "| Kiss1__Tac2         | neuron |\n",
       "| Lpar1_oligo         | neuron |\n",
       "| n0                  | NA     |\n",
       "| n1                  | NA     |\n",
       "| n2                  | NA     |\n",
       "| n3                  | NA     |\n",
       "| n5                  | NA     |\n",
       "| neuron              | NA     |\n",
       "| Nfix__Nfib__Lhx6    | neuron |\n",
       "| Oligodendrocytes    | other  |\n",
       "| OPC                 | other  |\n",
       "| other               | NA     |\n",
       "| Pomc__Anxa2         | neuron |\n",
       "| Pomc__Glipr1        | neuron |\n",
       "| Pomc__Ttr           | neuron |\n",
       "| Pou6f2__Prkcq__Whrn | neuron |\n",
       "| Ppp1r17__Tafa4      | neuron |\n",
       "| Sst__Pthlh          | neuron |\n",
       "| Sst__Unc13c         | neuron |\n",
       "| Tanycytes           | other  |\n",
       "| Tbx19__Pirt         | neuron |\n",
       "| Th__Nfib            | neuron |\n",
       "| Tmem215__Greb1      | neuron |\n",
       "| Trh__Cxcl12         | neuron |\n",
       "| Trh__Lef1           | neuron |\n",
       "\n"
      ],
      "text/plain": [
       "   cluster             class \n",
       "1  Agrp                neuron\n",
       "2  Astrocytes          other \n",
       "3  g1                  NA    \n",
       "4  g2                  NA    \n",
       "5  g3                  NA    \n",
       "6  Ghrh                neuron\n",
       "7  Htr3b               neuron\n",
       "8  Irx5__Lmx1a         neuron\n",
       "9  Kiss1__Tac2         neuron\n",
       "10 Lpar1_oligo         neuron\n",
       "11 n0                  NA    \n",
       "12 n1                  NA    \n",
       "13 n2                  NA    \n",
       "14 n3                  NA    \n",
       "15 n5                  NA    \n",
       "16 neuron              NA    \n",
       "17 Nfix__Nfib__Lhx6    neuron\n",
       "18 Oligodendrocytes    other \n",
       "19 OPC                 other \n",
       "20 other               NA    \n",
       "21 Pomc__Anxa2         neuron\n",
       "22 Pomc__Glipr1        neuron\n",
       "23 Pomc__Ttr           neuron\n",
       "24 Pou6f2__Prkcq__Whrn neuron\n",
       "25 Ppp1r17__Tafa4      neuron\n",
       "26 Sst__Pthlh          neuron\n",
       "27 Sst__Unc13c         neuron\n",
       "28 Tanycytes           other \n",
       "29 Tbx19__Pirt         neuron\n",
       "30 Th__Nfib            neuron\n",
       "31 Tmem215__Greb1      neuron\n",
       "32 Trh__Cxcl12         neuron\n",
       "33 Trh__Lef1           neuron"
      ]
     },
     "metadata": {},
     "output_type": "display_data"
    }
   ],
   "source": [
    "combined_deg_seurat = combined_deg_seurat_all %>%\n",
    "filter(p_val_adj < 0.05 &\n",
    "       avg_log2FC > 0 &\n",
    "       !(str_detect(cells_b, '(rest|neg|pos)')) &\n",
    "       fgf1_day != 'all' &\n",
    "       bl6_day != 'all'\n",
    "#        cluster == 'Agrp' \n",
    "#        cells_a == 'neg'\n",
    "       ) %>%\n",
    "left_join(labels_classes_tib, by='cluster')\n",
    "\n",
    "combined_deg_seurat %>% distinct(cluster, class)"
   ]
  },
  {
   "cell_type": "code",
   "execution_count": 169,
   "id": "c6d48448",
   "metadata": {},
   "outputs": [
    {
     "data": {
      "text/html": [
       "<table class=\"dataframe\">\n",
       "<caption>A tibble: 1 × 2</caption>\n",
       "<thead>\n",
       "\t<tr><th scope=col>class</th><th scope=col>cluster</th></tr>\n",
       "\t<tr><th scope=col>&lt;chr&gt;</th><th scope=col>&lt;chr&gt;</th></tr>\n",
       "</thead>\n",
       "<tbody>\n",
       "\t<tr><td>neuron</td><td>Irx5__Lmx1a</td></tr>\n",
       "</tbody>\n",
       "</table>\n"
      ],
      "text/latex": [
       "A tibble: 1 × 2\n",
       "\\begin{tabular}{ll}\n",
       " class & cluster\\\\\n",
       " <chr> & <chr>\\\\\n",
       "\\hline\n",
       "\t neuron & Irx5\\_\\_Lmx1a\\\\\n",
       "\\end{tabular}\n"
      ],
      "text/markdown": [
       "\n",
       "A tibble: 1 × 2\n",
       "\n",
       "| class &lt;chr&gt; | cluster &lt;chr&gt; |\n",
       "|---|---|\n",
       "| neuron | Irx5__Lmx1a |\n",
       "\n"
      ],
      "text/plain": [
       "  class  cluster    \n",
       "1 neuron Irx5__Lmx1a"
      ]
     },
     "metadata": {},
     "output_type": "display_data"
    }
   ],
   "source": [
    "labels_classes_tib %>% filter(str_detect(cluster, 'Lmx'))"
   ]
  },
  {
   "cell_type": "code",
   "execution_count": 170,
   "id": "8ac74c59",
   "metadata": {},
   "outputs": [],
   "source": [
    "combined_deg_seurat = combined_deg_seurat_all %>%\n",
    "filter(p_val_adj < 0.05 &\n",
    "       avg_log2FC > 0 &\n",
    "       !(str_detect(cells_b, '(rest|neg|pos)')) &\n",
    "       fgf1_day != 'all' &\n",
    "       bl6_day != 'all'\n",
    "#        cluster == 'Agrp' \n",
    "#        cells_a == 'neg'\n",
    "       ) %>%\n",
    "left_join(labels_classes_tib, by='cluster') %>% \n",
    "left_join(new_tibble, by=c('tag')) %>%\n",
    "relocate(class, .after='cluster')"
   ]
  },
  {
   "cell_type": "code",
   "execution_count": null,
   "id": "af1c6d32",
   "metadata": {},
   "outputs": [],
   "source": []
  },
  {
   "cell_type": "code",
   "execution_count": 171,
   "id": "26b4c178",
   "metadata": {},
   "outputs": [
    {
     "data": {
      "text/html": [
       "<style>\n",
       ".list-inline {list-style: none; margin:0; padding: 0}\n",
       ".list-inline>li {display: inline-block}\n",
       ".list-inline>li:not(:last-child)::after {content: \"\\00b7\"; padding: 0 .5ex}\n",
       "</style>\n",
       "<ol class=list-inline><li>'obob14v14'</li><li>'obob5v5'</li></ol>\n"
      ],
      "text/latex": [
       "\\begin{enumerate*}\n",
       "\\item 'obob14v14'\n",
       "\\item 'obob5v5'\n",
       "\\end{enumerate*}\n"
      ],
      "text/markdown": [
       "1. 'obob14v14'\n",
       "2. 'obob5v5'\n",
       "\n",
       "\n"
      ],
      "text/plain": [
       "[1] \"obob14v14\" \"obob5v5\"  "
      ]
     },
     "metadata": {},
     "output_type": "display_data"
    },
    {
     "data": {
      "text/html": [
       "<style>\n",
       ".list-inline {list-style: none; margin:0; padding: 0}\n",
       ".list-inline>li {display: inline-block}\n",
       ".list-inline>li:not(:last-child)::after {content: \"\\00b7\"; padding: 0 .5ex}\n",
       "</style>\n",
       "<ol class=list-inline><li>'obobBL6d14'</li><li>'obobBL6d5'</li></ol>\n"
      ],
      "text/latex": [
       "\\begin{enumerate*}\n",
       "\\item 'obobBL6d14'\n",
       "\\item 'obobBL6d5'\n",
       "\\end{enumerate*}\n"
      ],
      "text/markdown": [
       "1. 'obobBL6d14'\n",
       "2. 'obobBL6d5'\n",
       "\n",
       "\n"
      ],
      "text/plain": [
       "[1] \"obobBL6d14\" \"obobBL6d5\" "
      ]
     },
     "metadata": {},
     "output_type": "display_data"
    },
    {
     "data": {
      "text/html": [
       "<style>\n",
       ".list-inline {list-style: none; margin:0; padding: 0}\n",
       ".list-inline>li {display: inline-block}\n",
       ".list-inline>li:not(:last-child)::after {content: \"\\00b7\"; padding: 0 .5ex}\n",
       "</style>\n",
       "<ol class=list-inline><li>'bl6_grouping'</li><li>'fgf1_grouping'</li><li>'restored_grouping'</li></ol>\n"
      ],
      "text/latex": [
       "\\begin{enumerate*}\n",
       "\\item 'bl6\\_grouping'\n",
       "\\item 'fgf1\\_grouping'\n",
       "\\item 'restored\\_grouping'\n",
       "\\end{enumerate*}\n"
      ],
      "text/markdown": [
       "1. 'bl6_grouping'\n",
       "2. 'fgf1_grouping'\n",
       "3. 'restored_grouping'\n",
       "\n",
       "\n"
      ],
      "text/plain": [
       "[1] \"bl6_grouping\"      \"fgf1_grouping\"     \"restored_grouping\""
      ]
     },
     "metadata": {},
     "output_type": "display_data"
    },
    {
     "data": {
      "text/html": [
       "<style>\n",
       ".list-inline {list-style: none; margin:0; padding: 0}\n",
       ".list-inline>li {display: inline-block}\n",
       ".list-inline>li:not(:last-child)::after {content: \"\\00b7\"; padding: 0 .5ex}\n",
       "</style>\n",
       "<ol class=list-inline><li>'neg'</li><li>'pos'</li><li>'neg_restored'</li><li>'pos_restored'</li></ol>\n"
      ],
      "text/latex": [
       "\\begin{enumerate*}\n",
       "\\item 'neg'\n",
       "\\item 'pos'\n",
       "\\item 'neg\\_restored'\n",
       "\\item 'pos\\_restored'\n",
       "\\end{enumerate*}\n"
      ],
      "text/markdown": [
       "1. 'neg'\n",
       "2. 'pos'\n",
       "3. 'neg_restored'\n",
       "4. 'pos_restored'\n",
       "\n",
       "\n"
      ],
      "text/plain": [
       "[1] \"neg\"          \"pos\"          \"neg_restored\" \"pos_restored\""
      ]
     },
     "metadata": {},
     "output_type": "display_data"
    },
    {
     "data": {
      "text/html": [
       "'none'"
      ],
      "text/latex": [
       "'none'"
      ],
      "text/markdown": [
       "'none'"
      ],
      "text/plain": [
       "[1] \"none\""
      ]
     },
     "metadata": {},
     "output_type": "display_data"
    }
   ],
   "source": [
    "combined_deg_seurat %>% pull(fgf1_comparison) %>% unique\n",
    "combined_deg_seurat %>% pull(bl6_comparison) %>% unique\n",
    "combined_deg_seurat %>% pull(grouping) %>% unique\n",
    "combined_deg_seurat %>% pull(cells_a) %>% unique\n",
    "combined_deg_seurat %>% pull(cells_b) %>% unique"
   ]
  },
  {
   "cell_type": "code",
   "execution_count": 172,
   "id": "cce806a8",
   "metadata": {},
   "outputs": [],
   "source": [
    "cluster_order = combined_deg_seurat %>%\n",
    "filter(fgf1_day == 'Day5'  &\n",
    "       grouping == 'fgf1_grouping') %>%\n",
    "group_by(cluster) %>%\n",
    "summarise(n=n()) %>% \n",
    "arrange(desc(n)) %>%\n",
    "pull(cluster)"
   ]
  },
  {
   "cell_type": "code",
   "execution_count": null,
   "id": "2af3f094",
   "metadata": {},
   "outputs": [],
   "source": []
  },
  {
   "cell_type": "code",
   "execution_count": 173,
   "id": "dadd2358",
   "metadata": {},
   "outputs": [],
   "source": [
    "options(repr.plot.width=7, repr.plot.height=2)\n",
    "markers = combined_deg_seurat %>%\n",
    "    filter(fgf1_day == 'Day5'  &\n",
    "           grouping == 'fgf1_grouping') %>%\n",
    "    filter(class == 'other')\n",
    "\n",
    "# Set dimensions\n",
    "options(repr.plot.width=7, repr.plot.height=2)\n",
    "\n",
    "# Load necessary library\n",
    "make_marker_bars = function(markers){\n",
    "    # Grouping and counting\n",
    "    markers_summary <- markers %>%\n",
    "      group_by(cluster, cells_a, n_cells_valid) %>%\n",
    "      summarise(n = if_else(all(n_cells_valid), n(), NA), .groups = \"drop\") %>%\n",
    "      # Adding missing combinations with count 0\n",
    "      tidyr::complete(cluster, cells_a, fill = list(n = 0))\n",
    "\n",
    "    # Calculate upper limit for y-axis, considering some space for the labels\n",
    "    upper_limit <- max(markers_summary$n) * 1.25  # You can adjust the multiplier to get a suitable space for the labels\n",
    "\n",
    "    # Plotting\n",
    "    ggplot(markers_summary, aes(x = cluster, y = n, fill = cells_a)) +\n",
    "      geom_bar(stat = \"identity\", position = position_dodge()) +\n",
    "      geom_text(aes(label=n), vjust=-0.3, position = position_dodge(0.9), size=2.5, check_overlap = TRUE) +\n",
    "      xlab(\"Cluster\") +\n",
    "      theme_classic() +\n",
    "      theme(axis.title.y = element_blank(), \n",
    "            axis.title.x = element_blank(), \n",
    "            plot.title = element_blank(), \n",
    "            axis.text.x = element_text(angle = 45, hjust = 1, size = 6), \n",
    "            legend.text = element_text(size = 6),\n",
    "            legend.title = element_text(size = 7)) +\n",
    "      scale_fill_brewer(palette = \"Set1\") +  # You can choose any other palette\n",
    "      ylim(0, upper_limit)  # Setting the limits for y-axis\n",
    "}\n"
   ]
  },
  {
   "cell_type": "code",
   "execution_count": 174,
   "id": "308a1526",
   "metadata": {},
   "outputs": [],
   "source": [
    "markers_d5_neuron = combined_deg_seurat %>%\n",
    "    filter(fgf1_day == 'Day5'  &\n",
    "           grouping == 'fgf1_grouping') %>%\n",
    "    filter(class == 'neuron')"
   ]
  },
  {
   "cell_type": "code",
   "execution_count": 175,
   "id": "cd9c4002",
   "metadata": {},
   "outputs": [],
   "source": [
    "make_marker_bars = function(markers, cluster_categories, y_upper_limit=150){\n",
    "    # Grouping and counting\n",
    "    markers_summary <- markers %>%\n",
    "          mutate(cluster = factor(cluster)) %>%  # Make sure that 'cluster' is a factor\n",
    "          group_by(cluster, cells_a) %>%\n",
    "          summarise(n = if_else(all(n_cells_valid), n(), 0L), .groups = \"drop\") %>%\n",
    "          ungroup %>%\n",
    "          filter(cluster %in% cluster_categories) %>%\n",
    "          mutate(cluster = droplevels(cluster))  %>%\n",
    "      # Adding missing combinations with count 0\n",
    "      tidyr::complete(cluster, cells_a, fill = list(n = 0))\n",
    "\n",
    "        # Create a factor with all possible levels\n",
    "        all_clusters <- factor(markers_summary$cluster, levels = c(cluster_categories, unique(markers_summary$cluster)))\n",
    "\n",
    "        # Joining with expanded frame to ensure all combinations\n",
    "        markers_summary <- tidyr::expand_grid(cluster = cluster_categories, cells_a = unique(markers_summary$cells_a)) %>%\n",
    "          left_join(markers_summary, by = c(\"cluster\", \"cells_a\")) %>%\n",
    "          replace_na(list(n = 0)) %>%\n",
    "          mutate(n_label = case_when(n == 0 ~ '',\n",
    "                               TRUE ~ paste0(n)))\n",
    "    \n",
    "        markers_summary %>% arrange(desc(n)) %>% head(1000) %>% print\n",
    "\n",
    "        # Plotting\n",
    "        ggplot(markers_summary, aes(x = cluster, y = n, fill = cells_a)) +\n",
    "          geom_bar(stat = \"identity\", position = position_dodge()) +\n",
    "          geom_text(aes(label=n_label), vjust=-0.3, position = position_dodge(0.9), size=2.5, check_overlap = FALSE) +\n",
    "#           geom_text_repel(data = subset(markers_summary, n > 0), aes(label = n), \n",
    "#                           size = 2.5, force = 0, segment.size = 0.2, nudge_y = 0.5) +\n",
    "          scale_x_discrete(drop = FALSE, limits = cluster_categories) +  # Ensures that all levels are shown on x-axis\n",
    "          xlab(\"Cluster\") +\n",
    "          theme_classic() +\n",
    "          theme(axis.title.y = element_blank(), \n",
    "                axis.title.x = element_blank(), \n",
    "#                 plot.title = element_blank(), \n",
    "                axis.text.x = element_text(angle = 45, hjust = 1, size = 6), \n",
    "                legend.text = element_text(size = 6),\n",
    "                legend.title = element_text(size = 7)) +\n",
    "#           scale_fill_brewer(palette = \"Set1\") +  # You can choose any other palette\n",
    "    scale_fill_manual(values = c(\"neg\" = \"#d73027\", \"pos\" = \"#4575b4\", \"neg_restored\" = \"#a50026\", \"pos_restored\" = \"#313695\")) +\n",
    "          ylim(0, y_upper_limit)  # Setting the limits for y-axis\n",
    "}\n"
   ]
  },
  {
   "cell_type": "code",
   "execution_count": null,
   "id": "beeaeeb5",
   "metadata": {},
   "outputs": [],
   "source": []
  },
  {
   "cell_type": "code",
   "execution_count": null,
   "id": "858fb55d",
   "metadata": {},
   "outputs": [],
   "source": []
  },
  {
   "cell_type": "code",
   "execution_count": 176,
   "id": "7037c8c2",
   "metadata": {},
   "outputs": [
    {
     "data": {
      "text/html": [
       "<style>\n",
       ".list-inline {list-style: none; margin:0; padding: 0}\n",
       ".list-inline>li {display: inline-block}\n",
       ".list-inline>li:not(:last-child)::after {content: \"\\00b7\"; padding: 0 .5ex}\n",
       "</style>\n",
       "<ol class=list-inline><li>'Tanycytes'</li><li>'OPC'</li><li>'Astrocytes'</li><li>'Ependymal_cells'</li><li>'Oligodendrocytes'</li><li>'Microglia'</li><li>'Endothelial_cells'</li></ol>\n"
      ],
      "text/latex": [
       "\\begin{enumerate*}\n",
       "\\item 'Tanycytes'\n",
       "\\item 'OPC'\n",
       "\\item 'Astrocytes'\n",
       "\\item 'Ependymal\\_cells'\n",
       "\\item 'Oligodendrocytes'\n",
       "\\item 'Microglia'\n",
       "\\item 'Endothelial\\_cells'\n",
       "\\end{enumerate*}\n"
      ],
      "text/markdown": [
       "1. 'Tanycytes'\n",
       "2. 'OPC'\n",
       "3. 'Astrocytes'\n",
       "4. 'Ependymal_cells'\n",
       "5. 'Oligodendrocytes'\n",
       "6. 'Microglia'\n",
       "7. 'Endothelial_cells'\n",
       "\n",
       "\n"
      ],
      "text/plain": [
       "[1] \"Tanycytes\"         \"OPC\"               \"Astrocytes\"       \n",
       "[4] \"Ependymal_cells\"   \"Oligodendrocytes\"  \"Microglia\"        \n",
       "[7] \"Endothelial_cells\""
      ]
     },
     "metadata": {},
     "output_type": "display_data"
    }
   ],
   "source": [
    "cluster_categories = labels_classes_tib %>% filter(class == 'other') %>% pull(cluster)\n",
    "cluster_categories"
   ]
  },
  {
   "cell_type": "code",
   "execution_count": null,
   "id": "7fad6400",
   "metadata": {},
   "outputs": [],
   "source": []
  },
  {
   "cell_type": "code",
   "execution_count": 177,
   "id": "4947a22b",
   "metadata": {},
   "outputs": [
    {
     "name": "stdout",
     "output_type": "stream",
     "text": [
      "\u001b[90m# A tibble: 14 × 4\u001b[39m\n",
      "   cluster           cells_a     n n_label\n",
      "   \u001b[3m\u001b[90m<chr>\u001b[39m\u001b[23m             \u001b[3m\u001b[90m<chr>\u001b[39m\u001b[23m   \u001b[3m\u001b[90m<int>\u001b[39m\u001b[23m \u001b[3m\u001b[90m<chr>\u001b[39m\u001b[23m  \n",
      "\u001b[90m 1\u001b[39m OPC               pos      \u001b[4m1\u001b[24m482 \u001b[90m\"\u001b[39m1482\u001b[90m\"\u001b[39m \n",
      "\u001b[90m 2\u001b[39m Astrocytes        pos      \u001b[4m1\u001b[24m065 \u001b[90m\"\u001b[39m1065\u001b[90m\"\u001b[39m \n",
      "\u001b[90m 3\u001b[39m OPC               neg       996 \u001b[90m\"\u001b[39m996\u001b[90m\"\u001b[39m  \n",
      "\u001b[90m 4\u001b[39m Tanycytes         pos        80 \u001b[90m\"\u001b[39m80\u001b[90m\"\u001b[39m   \n",
      "\u001b[90m 5\u001b[39m Astrocytes        neg         8 \u001b[90m\"\u001b[39m8\u001b[90m\"\u001b[39m    \n",
      "\u001b[90m 6\u001b[39m Oligodendrocytes  pos         2 \u001b[90m\"\u001b[39m2\u001b[90m\"\u001b[39m    \n",
      "\u001b[90m 7\u001b[39m Tanycytes         neg         0 \u001b[90m\"\u001b[39m\u001b[90m\"\u001b[39m     \n",
      "\u001b[90m 8\u001b[39m Ependymal_cells   neg         0 \u001b[90m\"\u001b[39m\u001b[90m\"\u001b[39m     \n",
      "\u001b[90m 9\u001b[39m Ependymal_cells   pos         0 \u001b[90m\"\u001b[39m\u001b[90m\"\u001b[39m     \n",
      "\u001b[90m10\u001b[39m Oligodendrocytes  neg         0 \u001b[90m\"\u001b[39m\u001b[90m\"\u001b[39m     \n",
      "\u001b[90m11\u001b[39m Microglia         neg         0 \u001b[90m\"\u001b[39m\u001b[90m\"\u001b[39m     \n",
      "\u001b[90m12\u001b[39m Microglia         pos         0 \u001b[90m\"\u001b[39m\u001b[90m\"\u001b[39m     \n",
      "\u001b[90m13\u001b[39m Endothelial_cells neg         0 \u001b[90m\"\u001b[39m\u001b[90m\"\u001b[39m     \n",
      "\u001b[90m14\u001b[39m Endothelial_cells pos         0 \u001b[90m\"\u001b[39m\u001b[90m\"\u001b[39m     \n"
     ]
    },
    {
     "data": {
      "image/png": "[encoded data removed]",
      "text/plain": [
       "plot without title"
      ]
     },
     "metadata": {
      "image/png": {
       "height": 120,
       "width": 420
      }
     },
     "output_type": "display_data"
    }
   ],
   "source": [
    "options(repr.plot.width=7, repr.plot.height=2)\n",
    "markers_d5_other = combined_deg_seurat %>%\n",
    "    filter(fgf1_day == 'Day5'  &\n",
    "           grouping == 'fgf1_grouping') %>%\n",
    "    filter(class == 'other')\n",
    "ggp_d5_other = make_marker_bars(markers_d5_other, cluster_categories, 3000) +\n",
    "                theme(axis.text.x = element_blank(),\n",
    "                        axis.ticks.x = element_blank())\n",
    "ggp_d5_other"
   ]
  },
  {
   "cell_type": "code",
   "execution_count": 178,
   "id": "6f4fbbaf",
   "metadata": {},
   "outputs": [
    {
     "name": "stdout",
     "output_type": "stream",
     "text": [
      "\u001b[90m# A tibble: 14 × 4\u001b[39m\n",
      "   cluster           cells_a          n n_label\n",
      "   \u001b[3m\u001b[90m<chr>\u001b[39m\u001b[23m             \u001b[3m\u001b[90m<chr>\u001b[39m\u001b[23m        \u001b[3m\u001b[90m<int>\u001b[39m\u001b[23m \u001b[3m\u001b[90m<chr>\u001b[39m\u001b[23m  \n",
      "\u001b[90m 1\u001b[39m Astrocytes        neg_restored     4 \u001b[90m\"\u001b[39m4\u001b[90m\"\u001b[39m    \n",
      "\u001b[90m 2\u001b[39m Tanycytes         neg_restored     0 \u001b[90m\"\u001b[39m\u001b[90m\"\u001b[39m     \n",
      "\u001b[90m 3\u001b[39m Tanycytes         pos_restored     0 \u001b[90m\"\u001b[39m\u001b[90m\"\u001b[39m     \n",
      "\u001b[90m 4\u001b[39m OPC               neg_restored     0 \u001b[90m\"\u001b[39m\u001b[90m\"\u001b[39m     \n",
      "\u001b[90m 5\u001b[39m OPC               pos_restored     0 \u001b[90m\"\u001b[39m\u001b[90m\"\u001b[39m     \n",
      "\u001b[90m 6\u001b[39m Astrocytes        pos_restored     0 \u001b[90m\"\u001b[39m\u001b[90m\"\u001b[39m     \n",
      "\u001b[90m 7\u001b[39m Ependymal_cells   neg_restored     0 \u001b[90m\"\u001b[39m\u001b[90m\"\u001b[39m     \n",
      "\u001b[90m 8\u001b[39m Ependymal_cells   pos_restored     0 \u001b[90m\"\u001b[39m\u001b[90m\"\u001b[39m     \n",
      "\u001b[90m 9\u001b[39m Oligodendrocytes  neg_restored     0 \u001b[90m\"\u001b[39m\u001b[90m\"\u001b[39m     \n",
      "\u001b[90m10\u001b[39m Oligodendrocytes  pos_restored     0 \u001b[90m\"\u001b[39m\u001b[90m\"\u001b[39m     \n",
      "\u001b[90m11\u001b[39m Microglia         neg_restored     0 \u001b[90m\"\u001b[39m\u001b[90m\"\u001b[39m     \n",
      "\u001b[90m12\u001b[39m Microglia         pos_restored     0 \u001b[90m\"\u001b[39m\u001b[90m\"\u001b[39m     \n",
      "\u001b[90m13\u001b[39m Endothelial_cells neg_restored     0 \u001b[90m\"\u001b[39m\u001b[90m\"\u001b[39m     \n",
      "\u001b[90m14\u001b[39m Endothelial_cells pos_restored     0 \u001b[90m\"\u001b[39m\u001b[90m\"\u001b[39m     \n"
     ]
    },
    {
     "data": {
      "image/png": "[encoded data removed]",
      "text/plain": [
       "plot without title"
      ]
     },
     "metadata": {
      "image/png": {
       "height": 120,
       "width": 420
      }
     },
     "output_type": "display_data"
    }
   ],
   "source": [
    "options(repr.plot.width=7, repr.plot.height=2)\n",
    "markers_d5_other = combined_deg_seurat %>%\n",
    "    filter(fgf1_day == 'Day5'  &\n",
    "           grouping == 'restored_grouping') %>%\n",
    "    filter(class == 'other')  %>%\n",
    "bind_rows(tibble(cluster = .$cluster, cells_a = 'pos_restored'))\n",
    "ggp_d5_other_restored = make_marker_bars(markers_d5_other, cluster_categories, 3000)\n",
    "ggp_d5_other_restored"
   ]
  },
  {
   "cell_type": "code",
   "execution_count": 179,
   "id": "205410b5",
   "metadata": {},
   "outputs": [
    {
     "data": {
      "image/png": "[encoded data removed]",
      "text/plain": [
       "plot without title"
      ]
     },
     "metadata": {
      "image/png": {
       "height": 126,
       "width": 420
      }
     },
     "output_type": "display_data"
    }
   ],
   "source": [
    "options(repr.plot.width=7, repr.plot.height=2.1)\n",
    "layout <- '\n",
    "A\n",
    "B\n",
    "'\n",
    "ggp_all_other = wrap_plots(A = ggp_d5_other,\n",
    "               B = ggp_d5_other_restored,\n",
    "        design = layout) +\n",
    "    plot_layout(guides = 'collect') & \n",
    "      theme(plot.margin = margin(2, 0, 0, 2)) \n",
    "\n",
    "ggp_all_other = ggp_all_other + plot_annotation(tag_levels = c('A', 'B', 'C', 'D'))\n",
    "\n",
    "ggp_all_other %>% ggsave('_targets_nhBulkDESeq/deg_count_plot_other_AB_nhBulkDESeq.pdf', plot = ., width = 7, height=4)\n",
    "ggp_all_other"
   ]
  },
  {
   "cell_type": "code",
   "execution_count": 180,
   "id": "6bae95e1",
   "metadata": {},
   "outputs": [
    {
     "name": "stdout",
     "output_type": "stream",
     "text": [
      "\u001b[90m# A tibble: 0 × 4\u001b[39m\n",
      "\u001b[90m# ℹ 4 variables: cluster <chr>, cells_a <chr>, n <int>, n_label <chr>\u001b[39m\n"
     ]
    },
    {
     "data": {
      "image/png": "[encoded data removed]",
      "text/plain": [
       "plot without title"
      ]
     },
     "metadata": {
      "image/png": {
       "height": 120,
       "width": 420
      }
     },
     "output_type": "display_data"
    }
   ],
   "source": [
    "options(repr.plot.width=7, repr.plot.height=2)\n",
    "markers_d14_other = combined_deg_seurat %>%\n",
    "    filter(fgf1_day == 'Day14'  &\n",
    "           grouping == 'fgf1_grouping') %>%\n",
    "    filter(class == 'other') %>%\n",
    "bind_rows(tibble(cluster = .$cluster, cells_a = 'neg'))\n",
    "ggp_d14_other = make_marker_bars(markers_d14_other, cluster_categories, 3000)  +\n",
    "                theme(axis.text.x = element_blank(),\n",
    "                        axis.ticks.x = element_blank())\n",
    "ggp_d14_other"
   ]
  },
  {
   "cell_type": "code",
   "execution_count": null,
   "id": "b7460930",
   "metadata": {},
   "outputs": [],
   "source": []
  },
  {
   "cell_type": "code",
   "execution_count": 181,
   "id": "0a160491",
   "metadata": {},
   "outputs": [
    {
     "name": "stdout",
     "output_type": "stream",
     "text": [
      "\u001b[90m# A tibble: 0 × 4\u001b[39m\n",
      "\u001b[90m# ℹ 4 variables: cluster <chr>, cells_a <chr>, n <int>, n_label <chr>\u001b[39m\n"
     ]
    },
    {
     "data": {
      "image/png": "[encoded data removed]",
      "text/plain": [
       "plot without title"
      ]
     },
     "metadata": {
      "image/png": {
       "height": 120,
       "width": 420
      }
     },
     "output_type": "display_data"
    }
   ],
   "source": [
    "options(repr.plot.width=7, repr.plot.height=2)\n",
    "markers_d14_other = combined_deg_seurat %>%\n",
    "    filter(fgf1_day == 'Day14'  &\n",
    "           grouping == 'restored_grouping') %>%\n",
    "    filter(class == 'other')\n",
    "\n",
    "ggp_d14_other_restored = make_marker_bars(markers_d14_other, cluster_categories, 3000)\n",
    "ggp_d14_other_restored"
   ]
  },
  {
   "cell_type": "code",
   "execution_count": 182,
   "id": "ea3dfc8d",
   "metadata": {},
   "outputs": [
    {
     "data": {
      "image/png": "[encoded data removed]",
      "text/plain": [
       "plot without title"
      ]
     },
     "metadata": {
      "image/png": {
       "height": 240,
       "width": 420
      }
     },
     "output_type": "display_data"
    }
   ],
   "source": [
    "options(repr.plot.width=7, repr.plot.height=4)\n",
    "layout <- '\n",
    "A\n",
    "B\n",
    "C\n",
    "D\n",
    "'\n",
    "\n",
    "ggp_d5_other_restored = ggp_d5_other_restored   +\n",
    "                theme(axis.text.x = element_blank(),\n",
    "                        axis.ticks.x = element_blank())\n",
    "\n",
    "ggp_all_other = wrap_plots(A = ggp_d5_other,\n",
    "               B = ggp_d5_other_restored,\n",
    "               C = ggp_d14_other,\n",
    "               D = ggp_d14_other_restored,\n",
    "        design = layout) +\n",
    "    plot_layout(guides = 'collect') & \n",
    "      theme(plot.margin = margin(2, 0, 0, 2)) \n",
    "\n",
    "ggp_all_other = ggp_all_other + plot_annotation(tag_levels = c('A', 'B', 'C', 'D'))\n",
    "\n",
    "ggp_all_other %>% ggsave('_targets_nhBulkDESeq/deg_count_plot_other_nhBulkDESeq.pdf', plot = ., width = 7, height=4)\n",
    "ggp_all_other"
   ]
  },
  {
   "cell_type": "code",
   "execution_count": null,
   "id": "d557df5e",
   "metadata": {},
   "outputs": [],
   "source": []
  },
  {
   "cell_type": "code",
   "execution_count": 183,
   "id": "40edf1fc",
   "metadata": {},
   "outputs": [
    {
     "data": {
      "text/html": [
       "<style>\n",
       ".list-inline {list-style: none; margin:0; padding: 0}\n",
       ".list-inline>li {display: inline-block}\n",
       ".list-inline>li:not(:last-child)::after {content: \"\\00b7\"; padding: 0 .5ex}\n",
       "</style>\n",
       "<ol class=list-inline><li>'Sst__Pthlh'</li><li>'Nfix__Nfib'</li><li>'Met__Prlh'</li><li>'Agrp'</li><li>'Sim1'</li><li>'Fez1'</li><li>'Pou6f2__Prkcq__Whrn'</li><li>'Dlk1'</li><li>'Slc17a6__Trhr'</li><li>'Esr1'</li><li>'Tmem215__Dach2'</li><li>'Sst__Nts'</li><li>'Sst__Unc13c'</li><li>'Irx5__Lmx1a'</li><li>'Htr3b'</li><li>'Hdc'</li><li>'Lepr89'</li><li>'Nfib_1'</li><li>'Ppp1r17__Tafa4'</li><li>'Lepr67'</li><li>'Arx__Nr5a2'</li><li>'Kiss1__Tac2'</li><li>'Met__Pappa2'</li><li>'Trh__Lef1'</li><li>'Gpr50__Tac2'</li><li>'Tmem215__Greb1'</li><li>'Ghrh'</li><li>'Trh__Cxcl12'</li><li>'Lepr15'</li><li>'Pomc__Ttr'</li><li>'Tbx19__Pirt'</li><li>'Pomc__Glipr1'</li><li>'Pomc__Anxa2'</li><li>'Npsr1__Epha3'</li><li>'Nfix__Nfib__Lhx6'</li><li>'Reln__Lef1'</li><li>'unassigned(2)'</li><li>'Th__Nfib'</li><li>'Ppp1r17'</li><li>'Th__Slc6a3'</li><li>'Nfib_3'</li><li>'Ppp1r17__Ltbp1'</li><li>'Lpar1_oligo'</li><li>'Nfib_2'</li><li>'Nfix__Nfib__Hgf'</li></ol>\n"
      ],
      "text/latex": [
       "\\begin{enumerate*}\n",
       "\\item 'Sst\\_\\_Pthlh'\n",
       "\\item 'Nfix\\_\\_Nfib'\n",
       "\\item 'Met\\_\\_Prlh'\n",
       "\\item 'Agrp'\n",
       "\\item 'Sim1'\n",
       "\\item 'Fez1'\n",
       "\\item 'Pou6f2\\_\\_Prkcq\\_\\_Whrn'\n",
       "\\item 'Dlk1'\n",
       "\\item 'Slc17a6\\_\\_Trhr'\n",
       "\\item 'Esr1'\n",
       "\\item 'Tmem215\\_\\_Dach2'\n",
       "\\item 'Sst\\_\\_Nts'\n",
       "\\item 'Sst\\_\\_Unc13c'\n",
       "\\item 'Irx5\\_\\_Lmx1a'\n",
       "\\item 'Htr3b'\n",
       "\\item 'Hdc'\n",
       "\\item 'Lepr89'\n",
       "\\item 'Nfib\\_1'\n",
       "\\item 'Ppp1r17\\_\\_Tafa4'\n",
       "\\item 'Lepr67'\n",
       "\\item 'Arx\\_\\_Nr5a2'\n",
       "\\item 'Kiss1\\_\\_Tac2'\n",
       "\\item 'Met\\_\\_Pappa2'\n",
       "\\item 'Trh\\_\\_Lef1'\n",
       "\\item 'Gpr50\\_\\_Tac2'\n",
       "\\item 'Tmem215\\_\\_Greb1'\n",
       "\\item 'Ghrh'\n",
       "\\item 'Trh\\_\\_Cxcl12'\n",
       "\\item 'Lepr15'\n",
       "\\item 'Pomc\\_\\_Ttr'\n",
       "\\item 'Tbx19\\_\\_Pirt'\n",
       "\\item 'Pomc\\_\\_Glipr1'\n",
       "\\item 'Pomc\\_\\_Anxa2'\n",
       "\\item 'Npsr1\\_\\_Epha3'\n",
       "\\item 'Nfix\\_\\_Nfib\\_\\_Lhx6'\n",
       "\\item 'Reln\\_\\_Lef1'\n",
       "\\item 'unassigned(2)'\n",
       "\\item 'Th\\_\\_Nfib'\n",
       "\\item 'Ppp1r17'\n",
       "\\item 'Th\\_\\_Slc6a3'\n",
       "\\item 'Nfib\\_3'\n",
       "\\item 'Ppp1r17\\_\\_Ltbp1'\n",
       "\\item 'Lpar1\\_oligo'\n",
       "\\item 'Nfib\\_2'\n",
       "\\item 'Nfix\\_\\_Nfib\\_\\_Hgf'\n",
       "\\end{enumerate*}\n"
      ],
      "text/markdown": [
       "1. 'Sst__Pthlh'\n",
       "2. 'Nfix__Nfib'\n",
       "3. 'Met__Prlh'\n",
       "4. 'Agrp'\n",
       "5. 'Sim1'\n",
       "6. 'Fez1'\n",
       "7. 'Pou6f2__Prkcq__Whrn'\n",
       "8. 'Dlk1'\n",
       "9. 'Slc17a6__Trhr'\n",
       "10. 'Esr1'\n",
       "11. 'Tmem215__Dach2'\n",
       "12. 'Sst__Nts'\n",
       "13. 'Sst__Unc13c'\n",
       "14. 'Irx5__Lmx1a'\n",
       "15. 'Htr3b'\n",
       "16. 'Hdc'\n",
       "17. 'Lepr89'\n",
       "18. 'Nfib_1'\n",
       "19. 'Ppp1r17__Tafa4'\n",
       "20. 'Lepr67'\n",
       "21. 'Arx__Nr5a2'\n",
       "22. 'Kiss1__Tac2'\n",
       "23. 'Met__Pappa2'\n",
       "24. 'Trh__Lef1'\n",
       "25. 'Gpr50__Tac2'\n",
       "26. 'Tmem215__Greb1'\n",
       "27. 'Ghrh'\n",
       "28. 'Trh__Cxcl12'\n",
       "29. 'Lepr15'\n",
       "30. 'Pomc__Ttr'\n",
       "31. 'Tbx19__Pirt'\n",
       "32. 'Pomc__Glipr1'\n",
       "33. 'Pomc__Anxa2'\n",
       "34. 'Npsr1__Epha3'\n",
       "35. 'Nfix__Nfib__Lhx6'\n",
       "36. 'Reln__Lef1'\n",
       "37. 'unassigned(2)'\n",
       "38. 'Th__Nfib'\n",
       "39. 'Ppp1r17'\n",
       "40. 'Th__Slc6a3'\n",
       "41. 'Nfib_3'\n",
       "42. 'Ppp1r17__Ltbp1'\n",
       "43. 'Lpar1_oligo'\n",
       "44. 'Nfib_2'\n",
       "45. 'Nfix__Nfib__Hgf'\n",
       "\n",
       "\n"
      ],
      "text/plain": [
       " [1] \"Sst__Pthlh\"          \"Nfix__Nfib\"          \"Met__Prlh\"          \n",
       " [4] \"Agrp\"                \"Sim1\"                \"Fez1\"               \n",
       " [7] \"Pou6f2__Prkcq__Whrn\" \"Dlk1\"                \"Slc17a6__Trhr\"      \n",
       "[10] \"Esr1\"                \"Tmem215__Dach2\"      \"Sst__Nts\"           \n",
       "[13] \"Sst__Unc13c\"         \"Irx5__Lmx1a\"         \"Htr3b\"              \n",
       "[16] \"Hdc\"                 \"Lepr89\"              \"Nfib_1\"             \n",
       "[19] \"Ppp1r17__Tafa4\"      \"Lepr67\"              \"Arx__Nr5a2\"         \n",
       "[22] \"Kiss1__Tac2\"         \"Met__Pappa2\"         \"Trh__Lef1\"          \n",
       "[25] \"Gpr50__Tac2\"         \"Tmem215__Greb1\"      \"Ghrh\"               \n",
       "[28] \"Trh__Cxcl12\"         \"Lepr15\"              \"Pomc__Ttr\"          \n",
       "[31] \"Tbx19__Pirt\"         \"Pomc__Glipr1\"        \"Pomc__Anxa2\"        \n",
       "[34] \"Npsr1__Epha3\"        \"Nfix__Nfib__Lhx6\"    \"Reln__Lef1\"         \n",
       "[37] \"unassigned(2)\"       \"Th__Nfib\"            \"Ppp1r17\"            \n",
       "[40] \"Th__Slc6a3\"          \"Nfib_3\"              \"Ppp1r17__Ltbp1\"     \n",
       "[43] \"Lpar1_oligo\"         \"Nfib_2\"              \"Nfix__Nfib__Hgf\"    "
      ]
     },
     "metadata": {},
     "output_type": "display_data"
    }
   ],
   "source": [
    "cluster_categories = labels_classes_tib %>% filter(class == 'neuron') %>% pull(cluster)\n",
    "cluster_categories"
   ]
  },
  {
   "cell_type": "code",
   "execution_count": 184,
   "id": "c5d784b1",
   "metadata": {},
   "outputs": [],
   "source": [
    "cluster_categories = cluster_categories %>% str_replace('/', '__')"
   ]
  },
  {
   "cell_type": "code",
   "execution_count": 185,
   "id": "25413c32",
   "metadata": {},
   "outputs": [
    {
     "name": "stdout",
     "output_type": "stream",
     "text": [
      "\u001b[90m# A tibble: 90 × 4\u001b[39m\n",
      "   cluster     cells_a     n n_label\n",
      "   \u001b[3m\u001b[90m<chr>\u001b[39m\u001b[23m       \u001b[3m\u001b[90m<chr>\u001b[39m\u001b[23m   \u001b[3m\u001b[90m<int>\u001b[39m\u001b[23m \u001b[3m\u001b[90m<chr>\u001b[39m\u001b[23m  \n",
      "\u001b[90m 1\u001b[39m Agrp        pos       335 \u001b[90m\"\u001b[39m335\u001b[90m\"\u001b[39m  \n",
      "\u001b[90m 2\u001b[39m Htr3b       neg       230 \u001b[90m\"\u001b[39m230\u001b[90m\"\u001b[39m  \n",
      "\u001b[90m 3\u001b[39m Trh__Lef1   pos       116 \u001b[90m\"\u001b[39m116\u001b[90m\"\u001b[39m  \n",
      "\u001b[90m 4\u001b[39m Trh__Lef1   neg        48 \u001b[90m\"\u001b[39m48\u001b[90m\"\u001b[39m   \n",
      "\u001b[90m 5\u001b[39m Sst__Unc13c pos        43 \u001b[90m\"\u001b[39m43\u001b[90m\"\u001b[39m   \n",
      "\u001b[90m 6\u001b[39m Htr3b       pos        27 \u001b[90m\"\u001b[39m27\u001b[90m\"\u001b[39m   \n",
      "\u001b[90m 7\u001b[39m Agrp        neg         8 \u001b[90m\"\u001b[39m8\u001b[90m\"\u001b[39m    \n",
      "\u001b[90m 8\u001b[39m Ghrh        neg         5 \u001b[90m\"\u001b[39m5\u001b[90m\"\u001b[39m    \n",
      "\u001b[90m 9\u001b[39m Sst__Pthlh  neg         0 \u001b[90m\"\u001b[39m\u001b[90m\"\u001b[39m     \n",
      "\u001b[90m10\u001b[39m Sst__Pthlh  pos         0 \u001b[90m\"\u001b[39m\u001b[90m\"\u001b[39m     \n",
      "\u001b[90m# ℹ 80 more rows\u001b[39m\n"
     ]
    },
    {
     "data": {
      "image/png": "[encoded data removed]",
      "text/plain": [
       "plot without title"
      ]
     },
     "metadata": {
      "image/png": {
       "height": 120,
       "width": 420
      }
     },
     "output_type": "display_data"
    }
   ],
   "source": [
    "options(repr.plot.width=7, repr.plot.height=2)\n",
    "markers_d5_neuron = combined_deg_seurat %>%\n",
    "    filter(fgf1_day == 'Day5'  &\n",
    "           grouping == 'fgf1_grouping') %>%\n",
    "    filter(class == 'neuron')\n",
    "ggp_d5_neuron = make_marker_bars(markers_d5_neuron, cluster_categories, 750) +\n",
    "                theme(axis.text.x = element_blank(),\n",
    "                        axis.ticks.x = element_blank())\n",
    "ggp_d5_neuron"
   ]
  },
  {
   "cell_type": "code",
   "execution_count": 186,
   "id": "7b3c0fb2",
   "metadata": {},
   "outputs": [
    {
     "name": "stdout",
     "output_type": "stream",
     "text": [
      "\u001b[90m# A tibble: 90 × 4\u001b[39m\n",
      "   cluster     cells_a          n n_label\n",
      "   \u001b[3m\u001b[90m<chr>\u001b[39m\u001b[23m       \u001b[3m\u001b[90m<chr>\u001b[39m\u001b[23m        \u001b[3m\u001b[90m<int>\u001b[39m\u001b[23m \u001b[3m\u001b[90m<chr>\u001b[39m\u001b[23m  \n",
      "\u001b[90m 1\u001b[39m Agrp        pos_restored   362 \u001b[90m\"\u001b[39m362\u001b[90m\"\u001b[39m  \n",
      "\u001b[90m 2\u001b[39m Htr3b       pos_restored    57 \u001b[90m\"\u001b[39m57\u001b[90m\"\u001b[39m   \n",
      "\u001b[90m 3\u001b[39m Sst__Unc13c pos_restored    43 \u001b[90m\"\u001b[39m43\u001b[90m\"\u001b[39m   \n",
      "\u001b[90m 4\u001b[39m Agrp        neg_restored     8 \u001b[90m\"\u001b[39m8\u001b[90m\"\u001b[39m    \n",
      "\u001b[90m 5\u001b[39m Ghrh        neg_restored     5 \u001b[90m\"\u001b[39m5\u001b[90m\"\u001b[39m    \n",
      "\u001b[90m 6\u001b[39m Sst__Pthlh  neg_restored     0 \u001b[90m\"\u001b[39m\u001b[90m\"\u001b[39m     \n",
      "\u001b[90m 7\u001b[39m Sst__Pthlh  pos_restored     0 \u001b[90m\"\u001b[39m\u001b[90m\"\u001b[39m     \n",
      "\u001b[90m 8\u001b[39m Nfix__Nfib  neg_restored     0 \u001b[90m\"\u001b[39m\u001b[90m\"\u001b[39m     \n",
      "\u001b[90m 9\u001b[39m Nfix__Nfib  pos_restored     0 \u001b[90m\"\u001b[39m\u001b[90m\"\u001b[39m     \n",
      "\u001b[90m10\u001b[39m Met__Prlh   neg_restored     0 \u001b[90m\"\u001b[39m\u001b[90m\"\u001b[39m     \n",
      "\u001b[90m# ℹ 80 more rows\u001b[39m\n"
     ]
    },
    {
     "data": {
      "image/png": "[encoded data removed]",
      "text/plain": [
       "plot without title"
      ]
     },
     "metadata": {
      "image/png": {
       "height": 120,
       "width": 420
      }
     },
     "output_type": "display_data"
    }
   ],
   "source": [
    "options(repr.plot.width=7, repr.plot.height=2)\n",
    "markers_d5_neuron = combined_deg_seurat %>%\n",
    "    filter(fgf1_day == 'Day5'  &\n",
    "           grouping == 'restored_grouping') %>%\n",
    "    filter(class == 'neuron')\n",
    "ggp_d5_neuron_restored = make_marker_bars(markers_d5_neuron, cluster_categories, 750) \n",
    "ggp_d5_neuron_restored"
   ]
  },
  {
   "cell_type": "code",
   "execution_count": 187,
   "id": "52100e6c",
   "metadata": {},
   "outputs": [
    {
     "name": "stdout",
     "output_type": "stream",
     "text": [
      "\u001b[90m# A tibble: 90 × 4\u001b[39m\n",
      "   cluster     cells_a          n n_label\n",
      "   \u001b[3m\u001b[90m<chr>\u001b[39m\u001b[23m       \u001b[3m\u001b[90m<chr>\u001b[39m\u001b[23m        \u001b[3m\u001b[90m<int>\u001b[39m\u001b[23m \u001b[3m\u001b[90m<chr>\u001b[39m\u001b[23m  \n",
      "\u001b[90m 1\u001b[39m Agrp        pos_restored   362 \u001b[90m\"\u001b[39m362\u001b[90m\"\u001b[39m  \n",
      "\u001b[90m 2\u001b[39m Htr3b       pos_restored    57 \u001b[90m\"\u001b[39m57\u001b[90m\"\u001b[39m   \n",
      "\u001b[90m 3\u001b[39m Sst__Unc13c pos_restored    43 \u001b[90m\"\u001b[39m43\u001b[90m\"\u001b[39m   \n",
      "\u001b[90m 4\u001b[39m Agrp        neg_restored     8 \u001b[90m\"\u001b[39m8\u001b[90m\"\u001b[39m    \n",
      "\u001b[90m 5\u001b[39m Ghrh        neg_restored     5 \u001b[90m\"\u001b[39m5\u001b[90m\"\u001b[39m    \n",
      "\u001b[90m 6\u001b[39m Sst__Pthlh  neg_restored     0 \u001b[90m\"\u001b[39m\u001b[90m\"\u001b[39m     \n",
      "\u001b[90m 7\u001b[39m Sst__Pthlh  pos_restored     0 \u001b[90m\"\u001b[39m\u001b[90m\"\u001b[39m     \n",
      "\u001b[90m 8\u001b[39m Nfix__Nfib  neg_restored     0 \u001b[90m\"\u001b[39m\u001b[90m\"\u001b[39m     \n",
      "\u001b[90m 9\u001b[39m Nfix__Nfib  pos_restored     0 \u001b[90m\"\u001b[39m\u001b[90m\"\u001b[39m     \n",
      "\u001b[90m10\u001b[39m Met__Prlh   neg_restored     0 \u001b[90m\"\u001b[39m\u001b[90m\"\u001b[39m     \n",
      "\u001b[90m# ℹ 80 more rows\u001b[39m\n"
     ]
    },
    {
     "data": {
      "image/png": "[encoded data removed]",
      "text/plain": [
       "plot without title"
      ]
     },
     "metadata": {
      "image/png": {
       "height": 126,
       "width": 420
      }
     },
     "output_type": "display_data"
    }
   ],
   "source": [
    "markers_d5_neuron = combined_deg_seurat %>%\n",
    "    filter(fgf1_day == 'Day5'  &\n",
    "           grouping == 'restored_grouping') %>%\n",
    "    filter(class == 'neuron')\n",
    "ggp_d5_neuron_restored = make_marker_bars(markers_d5_neuron, cluster_categories, 750)\n",
    "ggp_all_neuron = wrap_plots(A = ggp_d5_neuron,\n",
    "               B = ggp_d5_neuron_restored,\n",
    "        design = layout) +\n",
    "    plot_layout(guides = 'collect') & \n",
    "      theme(plot.margin = margin(2, 0, 0, 2))  \n",
    "\n",
    "\n",
    "options(repr.plot.width=7, repr.plot.height=2.1)\n",
    "layout <- '\n",
    "A\n",
    "B\n",
    "'\n",
    "\n",
    "# + plot_annotation(tag_levels = c('A', 'B', 'C', 'D'))\n",
    "\n",
    "ggp_all_neuron = ggp_all_neuron + plot_annotation(tag_levels = c('A', 'B', 'C', 'D'))\n",
    "\n",
    "ggp_all_neuron %>% ggsave('_targets_nhBulkDESeq/deg_count_plot_neuron_AB_nhBulkDESeq.pdf', plot = ., width = 7, height=4)\n",
    "ggp_all_neuron"
   ]
  },
  {
   "cell_type": "code",
   "execution_count": 188,
   "id": "5727e24a",
   "metadata": {},
   "outputs": [
    {
     "name": "stdout",
     "output_type": "stream",
     "text": [
      "\u001b[90m# A tibble: 0 × 4\u001b[39m\n",
      "\u001b[90m# ℹ 4 variables: cluster <chr>, cells_a <chr>, n <int>, n_label <chr>\u001b[39m\n"
     ]
    },
    {
     "data": {
      "image/png": "[encoded data removed]",
      "text/plain": [
       "plot without title"
      ]
     },
     "metadata": {
      "image/png": {
       "height": 120,
       "width": 420
      }
     },
     "output_type": "display_data"
    }
   ],
   "source": [
    "options(repr.plot.width=7, repr.plot.height=2)\n",
    "markers_d14_neuron = combined_deg_seurat %>%\n",
    "    filter(fgf1_day == 'Day14'  &\n",
    "           grouping == 'fgf1_grouping') %>%\n",
    "    filter(class == 'neuron')\n",
    "ggp_d14_neuron = make_marker_bars(markers_d14_neuron, cluster_categories, 750)  +\n",
    "                theme(axis.text.x = element_blank(),\n",
    "                        axis.ticks.x = element_blank())\n",
    "ggp_d14_neuron"
   ]
  },
  {
   "cell_type": "code",
   "execution_count": 189,
   "id": "15bb6c90",
   "metadata": {},
   "outputs": [
    {
     "name": "stdout",
     "output_type": "stream",
     "text": [
      "\u001b[90m# A tibble: 0 × 4\u001b[39m\n",
      "\u001b[90m# ℹ 4 variables: cluster <chr>, cells_a <fct>, n <int>, n_label <chr>\u001b[39m\n"
     ]
    },
    {
     "data": {
      "image/png": "[encoded data removed]",
      "text/plain": [
       "plot without title"
      ]
     },
     "metadata": {
      "image/png": {
       "height": 120,
       "width": 420
      }
     },
     "output_type": "display_data"
    }
   ],
   "source": [
    "options(repr.plot.width=7, repr.plot.height=2)\n",
    "markers_d14_neuron = combined_deg_seurat %>%\n",
    "    filter(fgf1_day == 'Day14'  &\n",
    "           grouping == 'restored_grouping') %>%\n",
    "    mutate(cells_a = factor(cells_a, levels=c('neg_restored', 'pos_restored'))) %>%\n",
    "    filter(class == 'neuron')\n",
    "ggp_d14_neuron_restored = make_marker_bars(markers_d14_neuron, cluster_categories, 750)\n",
    "ggp_d14_neuron_restored"
   ]
  },
  {
   "cell_type": "code",
   "execution_count": 190,
   "id": "5710d590",
   "metadata": {},
   "outputs": [
    {
     "data": {
      "image/png": "[encoded data removed]",
      "text/plain": [
       "plot without title"
      ]
     },
     "metadata": {
      "image/png": {
       "height": 246,
       "width": 420
      }
     },
     "output_type": "display_data"
    }
   ],
   "source": [
    "options(repr.plot.width=7, repr.plot.height=4.1)\n",
    "layout <- '\n",
    "A\n",
    "B\n",
    "C\n",
    "D\n",
    "'\n",
    "\n",
    "ggp_d5_neuron_restored = ggp_d5_neuron_restored  +\n",
    "                theme(axis.text.x = element_blank(),\n",
    "                        axis.ticks.x = element_blank())\n",
    "\n",
    "ggp_all_neuron = wrap_plots(A = ggp_d5_neuron,\n",
    "               B = ggp_d5_neuron_restored,\n",
    "               C = ggp_d14_neuron,\n",
    "               D = ggp_d14_neuron_restored,\n",
    "        design = layout) +\n",
    "    plot_layout(guides = 'collect') & \n",
    "      theme(plot.margin = margin(2, 0, 0, 2))  \n",
    "\n",
    "# + plot_annotation(tag_levels = c('A', 'B', 'C', 'D'))\n",
    "\n",
    "ggp_all_neuron = ggp_all_neuron + plot_annotation(tag_levels = c('A', 'B', 'C', 'D'))\n",
    "\n",
    "ggp_all_neuron %>% ggsave('_targets_nhBulkDESeq/deg_count_plot_neuron_nhBulkDESeq.pdf', plot = ., width = 7, height=4)\n",
    "ggp_all_neuron"
   ]
  },
  {
   "cell_type": "code",
   "execution_count": 191,
   "id": "86d8a9ce",
   "metadata": {
    "scrolled": true
   },
   "outputs": [
    {
     "data": {
      "text/html": [
       "<table class=\"dataframe\">\n",
       "<caption>A tibble: 54 × 25</caption>\n",
       "<thead>\n",
       "\t<tr><th scope=col>tag</th><th scope=col>data_day</th><th scope=col>cluster</th><th scope=col>class</th><th scope=col>fgf1_day</th><th scope=col>fgf1_comparison</th><th scope=col>bl6_day</th><th scope=col>bl6_comparison</th><th scope=col>grouping</th><th scope=col>cells_a</th><th scope=col>⋯</th><th scope=col>pct.2</th><th scope=col>p_val_adj</th><th scope=col>ensmusg</th><th scope=col>gsea_sort_score</th><th scope=col>count</th><th scope=col>total_cells</th><th scope=col>frac</th><th scope=col>frac_cutoff</th><th scope=col>n_cells_cutoff</th><th scope=col>n_cells_valid</th></tr>\n",
       "\t<tr><th scope=col>&lt;chr&gt;</th><th scope=col>&lt;chr&gt;</th><th scope=col>&lt;chr&gt;</th><th scope=col>&lt;chr&gt;</th><th scope=col>&lt;chr&gt;</th><th scope=col>&lt;chr&gt;</th><th scope=col>&lt;chr&gt;</th><th scope=col>&lt;chr&gt;</th><th scope=col>&lt;chr&gt;</th><th scope=col>&lt;chr&gt;</th><th scope=col>⋯</th><th scope=col>&lt;dbl&gt;</th><th scope=col>&lt;dbl&gt;</th><th scope=col>&lt;chr&gt;</th><th scope=col>&lt;dbl&gt;</th><th scope=col>&lt;int&gt;</th><th scope=col>&lt;int&gt;</th><th scope=col>&lt;dbl&gt;</th><th scope=col>&lt;dbl&gt;</th><th scope=col>&lt;dbl&gt;</th><th scope=col>&lt;lgl&gt;</th></tr>\n",
       "</thead>\n",
       "<tbody>\n",
       "\t<tr><td>Irx5__Lmx1a___Day5.obob5v5__v__Day5.obobBL6d5___bl6_grouping.neg_vs_none              </td><td>all</td><td>Irx5__Lmx1a</td><td>neuron</td><td>Day5</td><td>obob5v5</td><td>Day5</td><td>obobBL6d5</td><td>bl6_grouping     </td><td>neg         </td><td>⋯</td><td>1</td><td>6.920300e-06</td><td>ENSMUSG00000022112</td><td>18.552625</td><td>70</td><td>2686</td><td>0.02606106</td><td>0.1</td><td>150</td><td>FALSE</td></tr>\n",
       "\t<tr><td>Irx5__Lmx1a___Day5.obob5v5__v__Day5.obobBL6d5___bl6_grouping.neg_vs_none              </td><td>all</td><td>Irx5__Lmx1a</td><td>neuron</td><td>Day5</td><td>obob5v5</td><td>Day5</td><td>obobBL6d5</td><td>bl6_grouping     </td><td>neg         </td><td>⋯</td><td>1</td><td>2.445483e-10</td><td>ENSMUSG00000032036</td><td>18.267434</td><td>70</td><td>2686</td><td>0.02606106</td><td>0.1</td><td>150</td><td>FALSE</td></tr>\n",
       "\t<tr><td>Irx5__Lmx1a___Day5.obob5v5__v__Day5.obobBL6d5___bl6_grouping.neg_vs_none              </td><td>all</td><td>Irx5__Lmx1a</td><td>neuron</td><td>Day5</td><td>obob5v5</td><td>Day5</td><td>obobBL6d5</td><td>bl6_grouping     </td><td>neg         </td><td>⋯</td><td>1</td><td>2.730932e-04</td><td>ENSMUSG00000093497</td><td>13.938534</td><td>70</td><td>2686</td><td>0.02606106</td><td>0.1</td><td>150</td><td>FALSE</td></tr>\n",
       "\t<tr><td>Irx5__Lmx1a___Day5.obob5v5__v__Day5.obobBL6d5___bl6_grouping.neg_vs_none              </td><td>all</td><td>Irx5__Lmx1a</td><td>neuron</td><td>Day5</td><td>obob5v5</td><td>Day5</td><td>obobBL6d5</td><td>bl6_grouping     </td><td>neg         </td><td>⋯</td><td>1</td><td>1.828769e-04</td><td>ENSMUSG00000025324</td><td> 7.962547</td><td>70</td><td>2686</td><td>0.02606106</td><td>0.1</td><td>150</td><td>FALSE</td></tr>\n",
       "\t<tr><td>Irx5__Lmx1a___Day5.obob5v5__v__Day5.obobBL6d5___bl6_grouping.neg_vs_none              </td><td>all</td><td>Irx5__Lmx1a</td><td>neuron</td><td>Day5</td><td>obob5v5</td><td>Day5</td><td>obobBL6d5</td><td>bl6_grouping     </td><td>neg         </td><td>⋯</td><td>1</td><td>2.178404e-04</td><td>ENSMUSG00000060429</td><td> 6.237538</td><td>70</td><td>2686</td><td>0.02606106</td><td>0.1</td><td>150</td><td>FALSE</td></tr>\n",
       "\t<tr><td>Irx5__Lmx1a___Day5.obob5v5__v__Day5.obobBL6d5___bl6_grouping.neg_vs_none              </td><td>all</td><td>Irx5__Lmx1a</td><td>neuron</td><td>Day5</td><td>obob5v5</td><td>Day5</td><td>obobBL6d5</td><td>bl6_grouping     </td><td>neg         </td><td>⋯</td><td>1</td><td>6.005335e-06</td><td>ENSMUSG00000030970</td><td> 5.643641</td><td>70</td><td>2686</td><td>0.02606106</td><td>0.1</td><td>150</td><td>FALSE</td></tr>\n",
       "\t<tr><td>Irx5__Lmx1a___Day5.obob5v5__v__Day5.obobBL6d5___bl6_grouping.neg_vs_none              </td><td>all</td><td>Irx5__Lmx1a</td><td>neuron</td><td>Day5</td><td>obob5v5</td><td>Day5</td><td>obobBL6d5</td><td>bl6_grouping     </td><td>neg         </td><td>⋯</td><td>1</td><td>2.287999e-03</td><td>ENSMUSG00000052560</td><td> 5.164488</td><td>70</td><td>2686</td><td>0.02606106</td><td>0.1</td><td>150</td><td>FALSE</td></tr>\n",
       "\t<tr><td>Irx5__Lmx1a___Day5.obob5v5__v__Day5.obobBL6d5___bl6_grouping.neg_vs_none              </td><td>all</td><td>Irx5__Lmx1a</td><td>neuron</td><td>Day5</td><td>obob5v5</td><td>Day5</td><td>obobBL6d5</td><td>bl6_grouping     </td><td>neg         </td><td>⋯</td><td>1</td><td>2.026728e-03</td><td>ENSMUSG00000003418</td><td> 4.356982</td><td>70</td><td>2686</td><td>0.02606106</td><td>0.1</td><td>150</td><td>FALSE</td></tr>\n",
       "\t<tr><td>Irx5__Lmx1a___Day5.obob5v5__v__Day5.obobBL6d5___bl6_grouping.neg_vs_none              </td><td>all</td><td>Irx5__Lmx1a</td><td>neuron</td><td>Day5</td><td>obob5v5</td><td>Day5</td><td>obobBL6d5</td><td>bl6_grouping     </td><td>neg         </td><td>⋯</td><td>1</td><td>2.482384e-07</td><td>ENSMUSG00000037926</td><td> 4.021370</td><td>70</td><td>2686</td><td>0.02606106</td><td>0.1</td><td>150</td><td>FALSE</td></tr>\n",
       "\t<tr><td>Irx5__Lmx1a___Day5.obob5v5__v__Day5.obobBL6d5___bl6_grouping.neg_vs_none              </td><td>all</td><td>Irx5__Lmx1a</td><td>neuron</td><td>Day5</td><td>obob5v5</td><td>Day5</td><td>obobBL6d5</td><td>bl6_grouping     </td><td>neg         </td><td>⋯</td><td>1</td><td>4.360171e-03</td><td>ENSMUSG00000112323</td><td> 3.703726</td><td>70</td><td>2686</td><td>0.02606106</td><td>0.1</td><td>150</td><td>FALSE</td></tr>\n",
       "\t<tr><td>Irx5__Lmx1a___Day5.obob5v5__v__Day5.obobBL6d5___bl6_grouping.neg_vs_none              </td><td>all</td><td>Irx5__Lmx1a</td><td>neuron</td><td>Day5</td><td>obob5v5</td><td>Day5</td><td>obobBL6d5</td><td>bl6_grouping     </td><td>neg         </td><td>⋯</td><td>1</td><td>1.679220e-03</td><td>ENSMUSG00000067430</td><td> 3.121401</td><td>70</td><td>2686</td><td>0.02606106</td><td>0.1</td><td>150</td><td>FALSE</td></tr>\n",
       "\t<tr><td>Irx5__Lmx1a___Day5.obob5v5__v__Day5.obobBL6d5___bl6_grouping.neg_vs_none              </td><td>all</td><td>Irx5__Lmx1a</td><td>neuron</td><td>Day5</td><td>obob5v5</td><td>Day5</td><td>obobBL6d5</td><td>bl6_grouping     </td><td>neg         </td><td>⋯</td><td>1</td><td>6.827612e-04</td><td>ENSMUSG00000025475</td><td> 2.913768</td><td>70</td><td>2686</td><td>0.02606106</td><td>0.1</td><td>150</td><td>FALSE</td></tr>\n",
       "\t<tr><td>Irx5__Lmx1a___Day5.obob5v5__v__Day5.obobBL6d5___bl6_grouping.neg_vs_none              </td><td>all</td><td>Irx5__Lmx1a</td><td>neuron</td><td>Day5</td><td>obob5v5</td><td>Day5</td><td>obobBL6d5</td><td>bl6_grouping     </td><td>neg         </td><td>⋯</td><td>1</td><td>2.320034e-03</td><td>ENSMUSG00000038677</td><td> 2.704195</td><td>70</td><td>2686</td><td>0.02606106</td><td>0.1</td><td>150</td><td>FALSE</td></tr>\n",
       "\t<tr><td>Irx5__Lmx1a___Day5.obob5v5__v__Day5.obobBL6d5___bl6_grouping.neg_vs_none              </td><td>all</td><td>Irx5__Lmx1a</td><td>neuron</td><td>Day5</td><td>obob5v5</td><td>Day5</td><td>obobBL6d5</td><td>bl6_grouping     </td><td>neg         </td><td>⋯</td><td>1</td><td>2.364300e-02</td><td>ENSMUSG00000025037</td><td> 2.660081</td><td>70</td><td>2686</td><td>0.02606106</td><td>0.1</td><td>150</td><td>FALSE</td></tr>\n",
       "\t<tr><td>Irx5__Lmx1a___Day5.obob5v5__v__Day5.obobBL6d5___bl6_grouping.neg_vs_none              </td><td>all</td><td>Irx5__Lmx1a</td><td>neuron</td><td>Day5</td><td>obob5v5</td><td>Day5</td><td>obobBL6d5</td><td>bl6_grouping     </td><td>neg         </td><td>⋯</td><td>1</td><td>9.212605e-03</td><td>ENSMUSG00000039018</td><td> 2.410210</td><td>70</td><td>2686</td><td>0.02606106</td><td>0.1</td><td>150</td><td>FALSE</td></tr>\n",
       "\t<tr><td>Irx5__Lmx1a___Day5.obob5v5__v__Day5.obobBL6d5___bl6_grouping.neg_vs_none              </td><td>all</td><td>Irx5__Lmx1a</td><td>neuron</td><td>Day5</td><td>obob5v5</td><td>Day5</td><td>obobBL6d5</td><td>bl6_grouping     </td><td>neg         </td><td>⋯</td><td>1</td><td>5.001513e-03</td><td>ENSMUSG00000061589</td><td> 1.910559</td><td>70</td><td>2686</td><td>0.02606106</td><td>0.1</td><td>150</td><td>FALSE</td></tr>\n",
       "\t<tr><td>Irx5__Lmx1a___Day5.obob5v5__v__Day5.obobBL6d5___bl6_grouping.neg_vs_none              </td><td>all</td><td>Irx5__Lmx1a</td><td>neuron</td><td>Day5</td><td>obob5v5</td><td>Day5</td><td>obobBL6d5</td><td>bl6_grouping     </td><td>neg         </td><td>⋯</td><td>1</td><td>3.396654e-03</td><td>ENSMUSG00000033510</td><td> 1.857873</td><td>70</td><td>2686</td><td>0.02606106</td><td>0.1</td><td>150</td><td>FALSE</td></tr>\n",
       "\t<tr><td>Irx5__Lmx1a___Day5.obob5v5__v__Day5.obobBL6d5___bl6_grouping.neg_vs_none              </td><td>all</td><td>Irx5__Lmx1a</td><td>neuron</td><td>Day5</td><td>obob5v5</td><td>Day5</td><td>obobBL6d5</td><td>bl6_grouping     </td><td>neg         </td><td>⋯</td><td>1</td><td>6.874464e-03</td><td>ENSMUSG00000033676</td><td> 1.688068</td><td>70</td><td>2686</td><td>0.02606106</td><td>0.1</td><td>150</td><td>FALSE</td></tr>\n",
       "\t<tr><td>Irx5__Lmx1a___Day5.obob5v5__v__Day5.obobBL6d5___fgf1_grouping.pos_vs_none             </td><td>all</td><td>Irx5__Lmx1a</td><td>neuron</td><td>Day5</td><td>obob5v5</td><td>Day5</td><td>obobBL6d5</td><td>fgf1_grouping    </td><td>pos         </td><td>⋯</td><td>1</td><td>6.920300e-06</td><td>ENSMUSG00000022112</td><td>18.552625</td><td>70</td><td>2686</td><td>0.02606106</td><td>0.1</td><td>150</td><td>FALSE</td></tr>\n",
       "\t<tr><td>Irx5__Lmx1a___Day5.obob5v5__v__Day5.obobBL6d5___fgf1_grouping.pos_vs_none             </td><td>all</td><td>Irx5__Lmx1a</td><td>neuron</td><td>Day5</td><td>obob5v5</td><td>Day5</td><td>obobBL6d5</td><td>fgf1_grouping    </td><td>pos         </td><td>⋯</td><td>1</td><td>2.445483e-10</td><td>ENSMUSG00000032036</td><td>18.267434</td><td>70</td><td>2686</td><td>0.02606106</td><td>0.1</td><td>150</td><td>FALSE</td></tr>\n",
       "\t<tr><td>Irx5__Lmx1a___Day5.obob5v5__v__Day5.obobBL6d5___fgf1_grouping.pos_vs_none             </td><td>all</td><td>Irx5__Lmx1a</td><td>neuron</td><td>Day5</td><td>obob5v5</td><td>Day5</td><td>obobBL6d5</td><td>fgf1_grouping    </td><td>pos         </td><td>⋯</td><td>1</td><td>2.730932e-04</td><td>ENSMUSG00000093497</td><td>13.938534</td><td>70</td><td>2686</td><td>0.02606106</td><td>0.1</td><td>150</td><td>FALSE</td></tr>\n",
       "\t<tr><td>Irx5__Lmx1a___Day5.obob5v5__v__Day5.obobBL6d5___fgf1_grouping.pos_vs_none             </td><td>all</td><td>Irx5__Lmx1a</td><td>neuron</td><td>Day5</td><td>obob5v5</td><td>Day5</td><td>obobBL6d5</td><td>fgf1_grouping    </td><td>pos         </td><td>⋯</td><td>1</td><td>1.828769e-04</td><td>ENSMUSG00000025324</td><td> 7.962547</td><td>70</td><td>2686</td><td>0.02606106</td><td>0.1</td><td>150</td><td>FALSE</td></tr>\n",
       "\t<tr><td>Irx5__Lmx1a___Day5.obob5v5__v__Day5.obobBL6d5___fgf1_grouping.pos_vs_none             </td><td>all</td><td>Irx5__Lmx1a</td><td>neuron</td><td>Day5</td><td>obob5v5</td><td>Day5</td><td>obobBL6d5</td><td>fgf1_grouping    </td><td>pos         </td><td>⋯</td><td>1</td><td>2.178404e-04</td><td>ENSMUSG00000060429</td><td> 6.237538</td><td>70</td><td>2686</td><td>0.02606106</td><td>0.1</td><td>150</td><td>FALSE</td></tr>\n",
       "\t<tr><td>Irx5__Lmx1a___Day5.obob5v5__v__Day5.obobBL6d5___fgf1_grouping.pos_vs_none             </td><td>all</td><td>Irx5__Lmx1a</td><td>neuron</td><td>Day5</td><td>obob5v5</td><td>Day5</td><td>obobBL6d5</td><td>fgf1_grouping    </td><td>pos         </td><td>⋯</td><td>1</td><td>6.005335e-06</td><td>ENSMUSG00000030970</td><td> 5.643641</td><td>70</td><td>2686</td><td>0.02606106</td><td>0.1</td><td>150</td><td>FALSE</td></tr>\n",
       "\t<tr><td>Irx5__Lmx1a___Day5.obob5v5__v__Day5.obobBL6d5___fgf1_grouping.pos_vs_none             </td><td>all</td><td>Irx5__Lmx1a</td><td>neuron</td><td>Day5</td><td>obob5v5</td><td>Day5</td><td>obobBL6d5</td><td>fgf1_grouping    </td><td>pos         </td><td>⋯</td><td>1</td><td>2.287999e-03</td><td>ENSMUSG00000052560</td><td> 5.164488</td><td>70</td><td>2686</td><td>0.02606106</td><td>0.1</td><td>150</td><td>FALSE</td></tr>\n",
       "\t<tr><td>Irx5__Lmx1a___Day5.obob5v5__v__Day5.obobBL6d5___fgf1_grouping.pos_vs_none             </td><td>all</td><td>Irx5__Lmx1a</td><td>neuron</td><td>Day5</td><td>obob5v5</td><td>Day5</td><td>obobBL6d5</td><td>fgf1_grouping    </td><td>pos         </td><td>⋯</td><td>1</td><td>2.026728e-03</td><td>ENSMUSG00000003418</td><td> 4.356982</td><td>70</td><td>2686</td><td>0.02606106</td><td>0.1</td><td>150</td><td>FALSE</td></tr>\n",
       "\t<tr><td>Irx5__Lmx1a___Day5.obob5v5__v__Day5.obobBL6d5___fgf1_grouping.pos_vs_none             </td><td>all</td><td>Irx5__Lmx1a</td><td>neuron</td><td>Day5</td><td>obob5v5</td><td>Day5</td><td>obobBL6d5</td><td>fgf1_grouping    </td><td>pos         </td><td>⋯</td><td>1</td><td>2.482384e-07</td><td>ENSMUSG00000037926</td><td> 4.021370</td><td>70</td><td>2686</td><td>0.02606106</td><td>0.1</td><td>150</td><td>FALSE</td></tr>\n",
       "\t<tr><td>Irx5__Lmx1a___Day5.obob5v5__v__Day5.obobBL6d5___fgf1_grouping.pos_vs_none             </td><td>all</td><td>Irx5__Lmx1a</td><td>neuron</td><td>Day5</td><td>obob5v5</td><td>Day5</td><td>obobBL6d5</td><td>fgf1_grouping    </td><td>pos         </td><td>⋯</td><td>1</td><td>4.360171e-03</td><td>ENSMUSG00000112323</td><td> 3.703726</td><td>70</td><td>2686</td><td>0.02606106</td><td>0.1</td><td>150</td><td>FALSE</td></tr>\n",
       "\t<tr><td>Irx5__Lmx1a___Day5.obob5v5__v__Day5.obobBL6d5___fgf1_grouping.pos_vs_none             </td><td>all</td><td>Irx5__Lmx1a</td><td>neuron</td><td>Day5</td><td>obob5v5</td><td>Day5</td><td>obobBL6d5</td><td>fgf1_grouping    </td><td>pos         </td><td>⋯</td><td>1</td><td>1.679220e-03</td><td>ENSMUSG00000067430</td><td> 3.121401</td><td>70</td><td>2686</td><td>0.02606106</td><td>0.1</td><td>150</td><td>FALSE</td></tr>\n",
       "\t<tr><td>Irx5__Lmx1a___Day5.obob5v5__v__Day5.obobBL6d5___fgf1_grouping.pos_vs_none             </td><td>all</td><td>Irx5__Lmx1a</td><td>neuron</td><td>Day5</td><td>obob5v5</td><td>Day5</td><td>obobBL6d5</td><td>fgf1_grouping    </td><td>pos         </td><td>⋯</td><td>1</td><td>6.827612e-04</td><td>ENSMUSG00000025475</td><td> 2.913768</td><td>70</td><td>2686</td><td>0.02606106</td><td>0.1</td><td>150</td><td>FALSE</td></tr>\n",
       "\t<tr><td>Irx5__Lmx1a___Day5.obob5v5__v__Day5.obobBL6d5___fgf1_grouping.pos_vs_none             </td><td>all</td><td>Irx5__Lmx1a</td><td>neuron</td><td>Day5</td><td>obob5v5</td><td>Day5</td><td>obobBL6d5</td><td>fgf1_grouping    </td><td>pos         </td><td>⋯</td><td>1</td><td>2.320034e-03</td><td>ENSMUSG00000038677</td><td> 2.704195</td><td>70</td><td>2686</td><td>0.02606106</td><td>0.1</td><td>150</td><td>FALSE</td></tr>\n",
       "\t<tr><td>Irx5__Lmx1a___Day5.obob5v5__v__Day5.obobBL6d5___fgf1_grouping.pos_vs_none             </td><td>all</td><td>Irx5__Lmx1a</td><td>neuron</td><td>Day5</td><td>obob5v5</td><td>Day5</td><td>obobBL6d5</td><td>fgf1_grouping    </td><td>pos         </td><td>⋯</td><td>1</td><td>2.364300e-02</td><td>ENSMUSG00000025037</td><td> 2.660081</td><td>70</td><td>2686</td><td>0.02606106</td><td>0.1</td><td>150</td><td>FALSE</td></tr>\n",
       "\t<tr><td>Irx5__Lmx1a___Day5.obob5v5__v__Day5.obobBL6d5___fgf1_grouping.pos_vs_none             </td><td>all</td><td>Irx5__Lmx1a</td><td>neuron</td><td>Day5</td><td>obob5v5</td><td>Day5</td><td>obobBL6d5</td><td>fgf1_grouping    </td><td>pos         </td><td>⋯</td><td>1</td><td>9.212605e-03</td><td>ENSMUSG00000039018</td><td> 2.410210</td><td>70</td><td>2686</td><td>0.02606106</td><td>0.1</td><td>150</td><td>FALSE</td></tr>\n",
       "\t<tr><td>Irx5__Lmx1a___Day5.obob5v5__v__Day5.obobBL6d5___fgf1_grouping.pos_vs_none             </td><td>all</td><td>Irx5__Lmx1a</td><td>neuron</td><td>Day5</td><td>obob5v5</td><td>Day5</td><td>obobBL6d5</td><td>fgf1_grouping    </td><td>pos         </td><td>⋯</td><td>1</td><td>5.001513e-03</td><td>ENSMUSG00000061589</td><td> 1.910559</td><td>70</td><td>2686</td><td>0.02606106</td><td>0.1</td><td>150</td><td>FALSE</td></tr>\n",
       "\t<tr><td>Irx5__Lmx1a___Day5.obob5v5__v__Day5.obobBL6d5___fgf1_grouping.pos_vs_none             </td><td>all</td><td>Irx5__Lmx1a</td><td>neuron</td><td>Day5</td><td>obob5v5</td><td>Day5</td><td>obobBL6d5</td><td>fgf1_grouping    </td><td>pos         </td><td>⋯</td><td>1</td><td>3.396654e-03</td><td>ENSMUSG00000033510</td><td> 1.857873</td><td>70</td><td>2686</td><td>0.02606106</td><td>0.1</td><td>150</td><td>FALSE</td></tr>\n",
       "\t<tr><td>Irx5__Lmx1a___Day5.obob5v5__v__Day5.obobBL6d5___fgf1_grouping.pos_vs_none             </td><td>all</td><td>Irx5__Lmx1a</td><td>neuron</td><td>Day5</td><td>obob5v5</td><td>Day5</td><td>obobBL6d5</td><td>fgf1_grouping    </td><td>pos         </td><td>⋯</td><td>1</td><td>6.874464e-03</td><td>ENSMUSG00000033676</td><td> 1.688068</td><td>70</td><td>2686</td><td>0.02606106</td><td>0.1</td><td>150</td><td>FALSE</td></tr>\n",
       "\t<tr><td>Irx5__Lmx1a___Day5.obob5v5__v__Day5.obobBL6d5___restored_grouping.pos_restored_vs_none</td><td>all</td><td>Irx5__Lmx1a</td><td>neuron</td><td>Day5</td><td>obob5v5</td><td>Day5</td><td>obobBL6d5</td><td>restored_grouping</td><td>pos_restored</td><td>⋯</td><td>1</td><td>6.920300e-06</td><td>ENSMUSG00000022112</td><td>18.552625</td><td>70</td><td>2686</td><td>0.02606106</td><td>0.1</td><td>150</td><td>FALSE</td></tr>\n",
       "\t<tr><td>Irx5__Lmx1a___Day5.obob5v5__v__Day5.obobBL6d5___restored_grouping.pos_restored_vs_none</td><td>all</td><td>Irx5__Lmx1a</td><td>neuron</td><td>Day5</td><td>obob5v5</td><td>Day5</td><td>obobBL6d5</td><td>restored_grouping</td><td>pos_restored</td><td>⋯</td><td>1</td><td>2.445483e-10</td><td>ENSMUSG00000032036</td><td>18.267434</td><td>70</td><td>2686</td><td>0.02606106</td><td>0.1</td><td>150</td><td>FALSE</td></tr>\n",
       "\t<tr><td>Irx5__Lmx1a___Day5.obob5v5__v__Day5.obobBL6d5___restored_grouping.pos_restored_vs_none</td><td>all</td><td>Irx5__Lmx1a</td><td>neuron</td><td>Day5</td><td>obob5v5</td><td>Day5</td><td>obobBL6d5</td><td>restored_grouping</td><td>pos_restored</td><td>⋯</td><td>1</td><td>2.730932e-04</td><td>ENSMUSG00000093497</td><td>13.938534</td><td>70</td><td>2686</td><td>0.02606106</td><td>0.1</td><td>150</td><td>FALSE</td></tr>\n",
       "\t<tr><td>Irx5__Lmx1a___Day5.obob5v5__v__Day5.obobBL6d5___restored_grouping.pos_restored_vs_none</td><td>all</td><td>Irx5__Lmx1a</td><td>neuron</td><td>Day5</td><td>obob5v5</td><td>Day5</td><td>obobBL6d5</td><td>restored_grouping</td><td>pos_restored</td><td>⋯</td><td>1</td><td>1.828769e-04</td><td>ENSMUSG00000025324</td><td> 7.962547</td><td>70</td><td>2686</td><td>0.02606106</td><td>0.1</td><td>150</td><td>FALSE</td></tr>\n",
       "\t<tr><td>Irx5__Lmx1a___Day5.obob5v5__v__Day5.obobBL6d5___restored_grouping.pos_restored_vs_none</td><td>all</td><td>Irx5__Lmx1a</td><td>neuron</td><td>Day5</td><td>obob5v5</td><td>Day5</td><td>obobBL6d5</td><td>restored_grouping</td><td>pos_restored</td><td>⋯</td><td>1</td><td>2.178404e-04</td><td>ENSMUSG00000060429</td><td> 6.237538</td><td>70</td><td>2686</td><td>0.02606106</td><td>0.1</td><td>150</td><td>FALSE</td></tr>\n",
       "\t<tr><td>Irx5__Lmx1a___Day5.obob5v5__v__Day5.obobBL6d5___restored_grouping.pos_restored_vs_none</td><td>all</td><td>Irx5__Lmx1a</td><td>neuron</td><td>Day5</td><td>obob5v5</td><td>Day5</td><td>obobBL6d5</td><td>restored_grouping</td><td>pos_restored</td><td>⋯</td><td>1</td><td>6.005335e-06</td><td>ENSMUSG00000030970</td><td> 5.643641</td><td>70</td><td>2686</td><td>0.02606106</td><td>0.1</td><td>150</td><td>FALSE</td></tr>\n",
       "\t<tr><td>Irx5__Lmx1a___Day5.obob5v5__v__Day5.obobBL6d5___restored_grouping.pos_restored_vs_none</td><td>all</td><td>Irx5__Lmx1a</td><td>neuron</td><td>Day5</td><td>obob5v5</td><td>Day5</td><td>obobBL6d5</td><td>restored_grouping</td><td>pos_restored</td><td>⋯</td><td>1</td><td>2.287999e-03</td><td>ENSMUSG00000052560</td><td> 5.164488</td><td>70</td><td>2686</td><td>0.02606106</td><td>0.1</td><td>150</td><td>FALSE</td></tr>\n",
       "\t<tr><td>Irx5__Lmx1a___Day5.obob5v5__v__Day5.obobBL6d5___restored_grouping.pos_restored_vs_none</td><td>all</td><td>Irx5__Lmx1a</td><td>neuron</td><td>Day5</td><td>obob5v5</td><td>Day5</td><td>obobBL6d5</td><td>restored_grouping</td><td>pos_restored</td><td>⋯</td><td>1</td><td>2.026728e-03</td><td>ENSMUSG00000003418</td><td> 4.356982</td><td>70</td><td>2686</td><td>0.02606106</td><td>0.1</td><td>150</td><td>FALSE</td></tr>\n",
       "\t<tr><td>Irx5__Lmx1a___Day5.obob5v5__v__Day5.obobBL6d5___restored_grouping.pos_restored_vs_none</td><td>all</td><td>Irx5__Lmx1a</td><td>neuron</td><td>Day5</td><td>obob5v5</td><td>Day5</td><td>obobBL6d5</td><td>restored_grouping</td><td>pos_restored</td><td>⋯</td><td>1</td><td>2.482384e-07</td><td>ENSMUSG00000037926</td><td> 4.021370</td><td>70</td><td>2686</td><td>0.02606106</td><td>0.1</td><td>150</td><td>FALSE</td></tr>\n",
       "\t<tr><td>Irx5__Lmx1a___Day5.obob5v5__v__Day5.obobBL6d5___restored_grouping.pos_restored_vs_none</td><td>all</td><td>Irx5__Lmx1a</td><td>neuron</td><td>Day5</td><td>obob5v5</td><td>Day5</td><td>obobBL6d5</td><td>restored_grouping</td><td>pos_restored</td><td>⋯</td><td>1</td><td>4.360171e-03</td><td>ENSMUSG00000112323</td><td> 3.703726</td><td>70</td><td>2686</td><td>0.02606106</td><td>0.1</td><td>150</td><td>FALSE</td></tr>\n",
       "\t<tr><td>Irx5__Lmx1a___Day5.obob5v5__v__Day5.obobBL6d5___restored_grouping.pos_restored_vs_none</td><td>all</td><td>Irx5__Lmx1a</td><td>neuron</td><td>Day5</td><td>obob5v5</td><td>Day5</td><td>obobBL6d5</td><td>restored_grouping</td><td>pos_restored</td><td>⋯</td><td>1</td><td>1.679220e-03</td><td>ENSMUSG00000067430</td><td> 3.121401</td><td>70</td><td>2686</td><td>0.02606106</td><td>0.1</td><td>150</td><td>FALSE</td></tr>\n",
       "\t<tr><td>Irx5__Lmx1a___Day5.obob5v5__v__Day5.obobBL6d5___restored_grouping.pos_restored_vs_none</td><td>all</td><td>Irx5__Lmx1a</td><td>neuron</td><td>Day5</td><td>obob5v5</td><td>Day5</td><td>obobBL6d5</td><td>restored_grouping</td><td>pos_restored</td><td>⋯</td><td>1</td><td>6.827612e-04</td><td>ENSMUSG00000025475</td><td> 2.913768</td><td>70</td><td>2686</td><td>0.02606106</td><td>0.1</td><td>150</td><td>FALSE</td></tr>\n",
       "\t<tr><td>Irx5__Lmx1a___Day5.obob5v5__v__Day5.obobBL6d5___restored_grouping.pos_restored_vs_none</td><td>all</td><td>Irx5__Lmx1a</td><td>neuron</td><td>Day5</td><td>obob5v5</td><td>Day5</td><td>obobBL6d5</td><td>restored_grouping</td><td>pos_restored</td><td>⋯</td><td>1</td><td>2.320034e-03</td><td>ENSMUSG00000038677</td><td> 2.704195</td><td>70</td><td>2686</td><td>0.02606106</td><td>0.1</td><td>150</td><td>FALSE</td></tr>\n",
       "\t<tr><td>Irx5__Lmx1a___Day5.obob5v5__v__Day5.obobBL6d5___restored_grouping.pos_restored_vs_none</td><td>all</td><td>Irx5__Lmx1a</td><td>neuron</td><td>Day5</td><td>obob5v5</td><td>Day5</td><td>obobBL6d5</td><td>restored_grouping</td><td>pos_restored</td><td>⋯</td><td>1</td><td>2.364300e-02</td><td>ENSMUSG00000025037</td><td> 2.660081</td><td>70</td><td>2686</td><td>0.02606106</td><td>0.1</td><td>150</td><td>FALSE</td></tr>\n",
       "\t<tr><td>Irx5__Lmx1a___Day5.obob5v5__v__Day5.obobBL6d5___restored_grouping.pos_restored_vs_none</td><td>all</td><td>Irx5__Lmx1a</td><td>neuron</td><td>Day5</td><td>obob5v5</td><td>Day5</td><td>obobBL6d5</td><td>restored_grouping</td><td>pos_restored</td><td>⋯</td><td>1</td><td>9.212605e-03</td><td>ENSMUSG00000039018</td><td> 2.410210</td><td>70</td><td>2686</td><td>0.02606106</td><td>0.1</td><td>150</td><td>FALSE</td></tr>\n",
       "\t<tr><td>Irx5__Lmx1a___Day5.obob5v5__v__Day5.obobBL6d5___restored_grouping.pos_restored_vs_none</td><td>all</td><td>Irx5__Lmx1a</td><td>neuron</td><td>Day5</td><td>obob5v5</td><td>Day5</td><td>obobBL6d5</td><td>restored_grouping</td><td>pos_restored</td><td>⋯</td><td>1</td><td>5.001513e-03</td><td>ENSMUSG00000061589</td><td> 1.910559</td><td>70</td><td>2686</td><td>0.02606106</td><td>0.1</td><td>150</td><td>FALSE</td></tr>\n",
       "\t<tr><td>Irx5__Lmx1a___Day5.obob5v5__v__Day5.obobBL6d5___restored_grouping.pos_restored_vs_none</td><td>all</td><td>Irx5__Lmx1a</td><td>neuron</td><td>Day5</td><td>obob5v5</td><td>Day5</td><td>obobBL6d5</td><td>restored_grouping</td><td>pos_restored</td><td>⋯</td><td>1</td><td>3.396654e-03</td><td>ENSMUSG00000033510</td><td> 1.857873</td><td>70</td><td>2686</td><td>0.02606106</td><td>0.1</td><td>150</td><td>FALSE</td></tr>\n",
       "\t<tr><td>Irx5__Lmx1a___Day5.obob5v5__v__Day5.obobBL6d5___restored_grouping.pos_restored_vs_none</td><td>all</td><td>Irx5__Lmx1a</td><td>neuron</td><td>Day5</td><td>obob5v5</td><td>Day5</td><td>obobBL6d5</td><td>restored_grouping</td><td>pos_restored</td><td>⋯</td><td>1</td><td>6.874464e-03</td><td>ENSMUSG00000033676</td><td> 1.688068</td><td>70</td><td>2686</td><td>0.02606106</td><td>0.1</td><td>150</td><td>FALSE</td></tr>\n",
       "</tbody>\n",
       "</table>\n"
      ],
      "text/latex": [
       "A tibble: 54 × 25\n",
       "\\begin{tabular}{lllllllllllllllllllll}\n",
       " tag & data\\_day & cluster & class & fgf1\\_day & fgf1\\_comparison & bl6\\_day & bl6\\_comparison & grouping & cells\\_a & ⋯ & pct.2 & p\\_val\\_adj & ensmusg & gsea\\_sort\\_score & count & total\\_cells & frac & frac\\_cutoff & n\\_cells\\_cutoff & n\\_cells\\_valid\\\\\n",
       " <chr> & <chr> & <chr> & <chr> & <chr> & <chr> & <chr> & <chr> & <chr> & <chr> & ⋯ & <dbl> & <dbl> & <chr> & <dbl> & <int> & <int> & <dbl> & <dbl> & <dbl> & <lgl>\\\\\n",
       "\\hline\n",
       "\t Irx5\\_\\_Lmx1a\\_\\_\\_Day5.obob5v5\\_\\_v\\_\\_Day5.obobBL6d5\\_\\_\\_bl6\\_grouping.neg\\_vs\\_none               & all & Irx5\\_\\_Lmx1a & neuron & Day5 & obob5v5 & Day5 & obobBL6d5 & bl6\\_grouping      & neg          & ⋯ & 1 & 6.920300e-06 & ENSMUSG00000022112 & 18.552625 & 70 & 2686 & 0.02606106 & 0.1 & 150 & FALSE\\\\\n",
       "\t Irx5\\_\\_Lmx1a\\_\\_\\_Day5.obob5v5\\_\\_v\\_\\_Day5.obobBL6d5\\_\\_\\_bl6\\_grouping.neg\\_vs\\_none               & all & Irx5\\_\\_Lmx1a & neuron & Day5 & obob5v5 & Day5 & obobBL6d5 & bl6\\_grouping      & neg          & ⋯ & 1 & 2.445483e-10 & ENSMUSG00000032036 & 18.267434 & 70 & 2686 & 0.02606106 & 0.1 & 150 & FALSE\\\\\n",
       "\t Irx5\\_\\_Lmx1a\\_\\_\\_Day5.obob5v5\\_\\_v\\_\\_Day5.obobBL6d5\\_\\_\\_bl6\\_grouping.neg\\_vs\\_none               & all & Irx5\\_\\_Lmx1a & neuron & Day5 & obob5v5 & Day5 & obobBL6d5 & bl6\\_grouping      & neg          & ⋯ & 1 & 2.730932e-04 & ENSMUSG00000093497 & 13.938534 & 70 & 2686 & 0.02606106 & 0.1 & 150 & FALSE\\\\\n",
       "\t Irx5\\_\\_Lmx1a\\_\\_\\_Day5.obob5v5\\_\\_v\\_\\_Day5.obobBL6d5\\_\\_\\_bl6\\_grouping.neg\\_vs\\_none               & all & Irx5\\_\\_Lmx1a & neuron & Day5 & obob5v5 & Day5 & obobBL6d5 & bl6\\_grouping      & neg          & ⋯ & 1 & 1.828769e-04 & ENSMUSG00000025324 &  7.962547 & 70 & 2686 & 0.02606106 & 0.1 & 150 & FALSE\\\\\n",
       "\t Irx5\\_\\_Lmx1a\\_\\_\\_Day5.obob5v5\\_\\_v\\_\\_Day5.obobBL6d5\\_\\_\\_bl6\\_grouping.neg\\_vs\\_none               & all & Irx5\\_\\_Lmx1a & neuron & Day5 & obob5v5 & Day5 & obobBL6d5 & bl6\\_grouping      & neg          & ⋯ & 1 & 2.178404e-04 & ENSMUSG00000060429 &  6.237538 & 70 & 2686 & 0.02606106 & 0.1 & 150 & FALSE\\\\\n",
       "\t Irx5\\_\\_Lmx1a\\_\\_\\_Day5.obob5v5\\_\\_v\\_\\_Day5.obobBL6d5\\_\\_\\_bl6\\_grouping.neg\\_vs\\_none               & all & Irx5\\_\\_Lmx1a & neuron & Day5 & obob5v5 & Day5 & obobBL6d5 & bl6\\_grouping      & neg          & ⋯ & 1 & 6.005335e-06 & ENSMUSG00000030970 &  5.643641 & 70 & 2686 & 0.02606106 & 0.1 & 150 & FALSE\\\\\n",
       "\t Irx5\\_\\_Lmx1a\\_\\_\\_Day5.obob5v5\\_\\_v\\_\\_Day5.obobBL6d5\\_\\_\\_bl6\\_grouping.neg\\_vs\\_none               & all & Irx5\\_\\_Lmx1a & neuron & Day5 & obob5v5 & Day5 & obobBL6d5 & bl6\\_grouping      & neg          & ⋯ & 1 & 2.287999e-03 & ENSMUSG00000052560 &  5.164488 & 70 & 2686 & 0.02606106 & 0.1 & 150 & FALSE\\\\\n",
       "\t Irx5\\_\\_Lmx1a\\_\\_\\_Day5.obob5v5\\_\\_v\\_\\_Day5.obobBL6d5\\_\\_\\_bl6\\_grouping.neg\\_vs\\_none               & all & Irx5\\_\\_Lmx1a & neuron & Day5 & obob5v5 & Day5 & obobBL6d5 & bl6\\_grouping      & neg          & ⋯ & 1 & 2.026728e-03 & ENSMUSG00000003418 &  4.356982 & 70 & 2686 & 0.02606106 & 0.1 & 150 & FALSE\\\\\n",
       "\t Irx5\\_\\_Lmx1a\\_\\_\\_Day5.obob5v5\\_\\_v\\_\\_Day5.obobBL6d5\\_\\_\\_bl6\\_grouping.neg\\_vs\\_none               & all & Irx5\\_\\_Lmx1a & neuron & Day5 & obob5v5 & Day5 & obobBL6d5 & bl6\\_grouping      & neg          & ⋯ & 1 & 2.482384e-07 & ENSMUSG00000037926 &  4.021370 & 70 & 2686 & 0.02606106 & 0.1 & 150 & FALSE\\\\\n",
       "\t Irx5\\_\\_Lmx1a\\_\\_\\_Day5.obob5v5\\_\\_v\\_\\_Day5.obobBL6d5\\_\\_\\_bl6\\_grouping.neg\\_vs\\_none               & all & Irx5\\_\\_Lmx1a & neuron & Day5 & obob5v5 & Day5 & obobBL6d5 & bl6\\_grouping      & neg          & ⋯ & 1 & 4.360171e-03 & ENSMUSG00000112323 &  3.703726 & 70 & 2686 & 0.02606106 & 0.1 & 150 & FALSE\\\\\n",
       "\t Irx5\\_\\_Lmx1a\\_\\_\\_Day5.obob5v5\\_\\_v\\_\\_Day5.obobBL6d5\\_\\_\\_bl6\\_grouping.neg\\_vs\\_none               & all & Irx5\\_\\_Lmx1a & neuron & Day5 & obob5v5 & Day5 & obobBL6d5 & bl6\\_grouping      & neg          & ⋯ & 1 & 1.679220e-03 & ENSMUSG00000067430 &  3.121401 & 70 & 2686 & 0.02606106 & 0.1 & 150 & FALSE\\\\\n",
       "\t Irx5\\_\\_Lmx1a\\_\\_\\_Day5.obob5v5\\_\\_v\\_\\_Day5.obobBL6d5\\_\\_\\_bl6\\_grouping.neg\\_vs\\_none               & all & Irx5\\_\\_Lmx1a & neuron & Day5 & obob5v5 & Day5 & obobBL6d5 & bl6\\_grouping      & neg          & ⋯ & 1 & 6.827612e-04 & ENSMUSG00000025475 &  2.913768 & 70 & 2686 & 0.02606106 & 0.1 & 150 & FALSE\\\\\n",
       "\t Irx5\\_\\_Lmx1a\\_\\_\\_Day5.obob5v5\\_\\_v\\_\\_Day5.obobBL6d5\\_\\_\\_bl6\\_grouping.neg\\_vs\\_none               & all & Irx5\\_\\_Lmx1a & neuron & Day5 & obob5v5 & Day5 & obobBL6d5 & bl6\\_grouping      & neg          & ⋯ & 1 & 2.320034e-03 & ENSMUSG00000038677 &  2.704195 & 70 & 2686 & 0.02606106 & 0.1 & 150 & FALSE\\\\\n",
       "\t Irx5\\_\\_Lmx1a\\_\\_\\_Day5.obob5v5\\_\\_v\\_\\_Day5.obobBL6d5\\_\\_\\_bl6\\_grouping.neg\\_vs\\_none               & all & Irx5\\_\\_Lmx1a & neuron & Day5 & obob5v5 & Day5 & obobBL6d5 & bl6\\_grouping      & neg          & ⋯ & 1 & 2.364300e-02 & ENSMUSG00000025037 &  2.660081 & 70 & 2686 & 0.02606106 & 0.1 & 150 & FALSE\\\\\n",
       "\t Irx5\\_\\_Lmx1a\\_\\_\\_Day5.obob5v5\\_\\_v\\_\\_Day5.obobBL6d5\\_\\_\\_bl6\\_grouping.neg\\_vs\\_none               & all & Irx5\\_\\_Lmx1a & neuron & Day5 & obob5v5 & Day5 & obobBL6d5 & bl6\\_grouping      & neg          & ⋯ & 1 & 9.212605e-03 & ENSMUSG00000039018 &  2.410210 & 70 & 2686 & 0.02606106 & 0.1 & 150 & FALSE\\\\\n",
       "\t Irx5\\_\\_Lmx1a\\_\\_\\_Day5.obob5v5\\_\\_v\\_\\_Day5.obobBL6d5\\_\\_\\_bl6\\_grouping.neg\\_vs\\_none               & all & Irx5\\_\\_Lmx1a & neuron & Day5 & obob5v5 & Day5 & obobBL6d5 & bl6\\_grouping      & neg          & ⋯ & 1 & 5.001513e-03 & ENSMUSG00000061589 &  1.910559 & 70 & 2686 & 0.02606106 & 0.1 & 150 & FALSE\\\\\n",
       "\t Irx5\\_\\_Lmx1a\\_\\_\\_Day5.obob5v5\\_\\_v\\_\\_Day5.obobBL6d5\\_\\_\\_bl6\\_grouping.neg\\_vs\\_none               & all & Irx5\\_\\_Lmx1a & neuron & Day5 & obob5v5 & Day5 & obobBL6d5 & bl6\\_grouping      & neg          & ⋯ & 1 & 3.396654e-03 & ENSMUSG00000033510 &  1.857873 & 70 & 2686 & 0.02606106 & 0.1 & 150 & FALSE\\\\\n",
       "\t Irx5\\_\\_Lmx1a\\_\\_\\_Day5.obob5v5\\_\\_v\\_\\_Day5.obobBL6d5\\_\\_\\_bl6\\_grouping.neg\\_vs\\_none               & all & Irx5\\_\\_Lmx1a & neuron & Day5 & obob5v5 & Day5 & obobBL6d5 & bl6\\_grouping      & neg          & ⋯ & 1 & 6.874464e-03 & ENSMUSG00000033676 &  1.688068 & 70 & 2686 & 0.02606106 & 0.1 & 150 & FALSE\\\\\n",
       "\t Irx5\\_\\_Lmx1a\\_\\_\\_Day5.obob5v5\\_\\_v\\_\\_Day5.obobBL6d5\\_\\_\\_fgf1\\_grouping.pos\\_vs\\_none              & all & Irx5\\_\\_Lmx1a & neuron & Day5 & obob5v5 & Day5 & obobBL6d5 & fgf1\\_grouping     & pos          & ⋯ & 1 & 6.920300e-06 & ENSMUSG00000022112 & 18.552625 & 70 & 2686 & 0.02606106 & 0.1 & 150 & FALSE\\\\\n",
       "\t Irx5\\_\\_Lmx1a\\_\\_\\_Day5.obob5v5\\_\\_v\\_\\_Day5.obobBL6d5\\_\\_\\_fgf1\\_grouping.pos\\_vs\\_none              & all & Irx5\\_\\_Lmx1a & neuron & Day5 & obob5v5 & Day5 & obobBL6d5 & fgf1\\_grouping     & pos          & ⋯ & 1 & 2.445483e-10 & ENSMUSG00000032036 & 18.267434 & 70 & 2686 & 0.02606106 & 0.1 & 150 & FALSE\\\\\n",
       "\t Irx5\\_\\_Lmx1a\\_\\_\\_Day5.obob5v5\\_\\_v\\_\\_Day5.obobBL6d5\\_\\_\\_fgf1\\_grouping.pos\\_vs\\_none              & all & Irx5\\_\\_Lmx1a & neuron & Day5 & obob5v5 & Day5 & obobBL6d5 & fgf1\\_grouping     & pos          & ⋯ & 1 & 2.730932e-04 & ENSMUSG00000093497 & 13.938534 & 70 & 2686 & 0.02606106 & 0.1 & 150 & FALSE\\\\\n",
       "\t Irx5\\_\\_Lmx1a\\_\\_\\_Day5.obob5v5\\_\\_v\\_\\_Day5.obobBL6d5\\_\\_\\_fgf1\\_grouping.pos\\_vs\\_none              & all & Irx5\\_\\_Lmx1a & neuron & Day5 & obob5v5 & Day5 & obobBL6d5 & fgf1\\_grouping     & pos          & ⋯ & 1 & 1.828769e-04 & ENSMUSG00000025324 &  7.962547 & 70 & 2686 & 0.02606106 & 0.1 & 150 & FALSE\\\\\n",
       "\t Irx5\\_\\_Lmx1a\\_\\_\\_Day5.obob5v5\\_\\_v\\_\\_Day5.obobBL6d5\\_\\_\\_fgf1\\_grouping.pos\\_vs\\_none              & all & Irx5\\_\\_Lmx1a & neuron & Day5 & obob5v5 & Day5 & obobBL6d5 & fgf1\\_grouping     & pos          & ⋯ & 1 & 2.178404e-04 & ENSMUSG00000060429 &  6.237538 & 70 & 2686 & 0.02606106 & 0.1 & 150 & FALSE\\\\\n",
       "\t Irx5\\_\\_Lmx1a\\_\\_\\_Day5.obob5v5\\_\\_v\\_\\_Day5.obobBL6d5\\_\\_\\_fgf1\\_grouping.pos\\_vs\\_none              & all & Irx5\\_\\_Lmx1a & neuron & Day5 & obob5v5 & Day5 & obobBL6d5 & fgf1\\_grouping     & pos          & ⋯ & 1 & 6.005335e-06 & ENSMUSG00000030970 &  5.643641 & 70 & 2686 & 0.02606106 & 0.1 & 150 & FALSE\\\\\n",
       "\t Irx5\\_\\_Lmx1a\\_\\_\\_Day5.obob5v5\\_\\_v\\_\\_Day5.obobBL6d5\\_\\_\\_fgf1\\_grouping.pos\\_vs\\_none              & all & Irx5\\_\\_Lmx1a & neuron & Day5 & obob5v5 & Day5 & obobBL6d5 & fgf1\\_grouping     & pos          & ⋯ & 1 & 2.287999e-03 & ENSMUSG00000052560 &  5.164488 & 70 & 2686 & 0.02606106 & 0.1 & 150 & FALSE\\\\\n",
       "\t Irx5\\_\\_Lmx1a\\_\\_\\_Day5.obob5v5\\_\\_v\\_\\_Day5.obobBL6d5\\_\\_\\_fgf1\\_grouping.pos\\_vs\\_none              & all & Irx5\\_\\_Lmx1a & neuron & Day5 & obob5v5 & Day5 & obobBL6d5 & fgf1\\_grouping     & pos          & ⋯ & 1 & 2.026728e-03 & ENSMUSG00000003418 &  4.356982 & 70 & 2686 & 0.02606106 & 0.1 & 150 & FALSE\\\\\n",
       "\t Irx5\\_\\_Lmx1a\\_\\_\\_Day5.obob5v5\\_\\_v\\_\\_Day5.obobBL6d5\\_\\_\\_fgf1\\_grouping.pos\\_vs\\_none              & all & Irx5\\_\\_Lmx1a & neuron & Day5 & obob5v5 & Day5 & obobBL6d5 & fgf1\\_grouping     & pos          & ⋯ & 1 & 2.482384e-07 & ENSMUSG00000037926 &  4.021370 & 70 & 2686 & 0.02606106 & 0.1 & 150 & FALSE\\\\\n",
       "\t Irx5\\_\\_Lmx1a\\_\\_\\_Day5.obob5v5\\_\\_v\\_\\_Day5.obobBL6d5\\_\\_\\_fgf1\\_grouping.pos\\_vs\\_none              & all & Irx5\\_\\_Lmx1a & neuron & Day5 & obob5v5 & Day5 & obobBL6d5 & fgf1\\_grouping     & pos          & ⋯ & 1 & 4.360171e-03 & ENSMUSG00000112323 &  3.703726 & 70 & 2686 & 0.02606106 & 0.1 & 150 & FALSE\\\\\n",
       "\t Irx5\\_\\_Lmx1a\\_\\_\\_Day5.obob5v5\\_\\_v\\_\\_Day5.obobBL6d5\\_\\_\\_fgf1\\_grouping.pos\\_vs\\_none              & all & Irx5\\_\\_Lmx1a & neuron & Day5 & obob5v5 & Day5 & obobBL6d5 & fgf1\\_grouping     & pos          & ⋯ & 1 & 1.679220e-03 & ENSMUSG00000067430 &  3.121401 & 70 & 2686 & 0.02606106 & 0.1 & 150 & FALSE\\\\\n",
       "\t Irx5\\_\\_Lmx1a\\_\\_\\_Day5.obob5v5\\_\\_v\\_\\_Day5.obobBL6d5\\_\\_\\_fgf1\\_grouping.pos\\_vs\\_none              & all & Irx5\\_\\_Lmx1a & neuron & Day5 & obob5v5 & Day5 & obobBL6d5 & fgf1\\_grouping     & pos          & ⋯ & 1 & 6.827612e-04 & ENSMUSG00000025475 &  2.913768 & 70 & 2686 & 0.02606106 & 0.1 & 150 & FALSE\\\\\n",
       "\t Irx5\\_\\_Lmx1a\\_\\_\\_Day5.obob5v5\\_\\_v\\_\\_Day5.obobBL6d5\\_\\_\\_fgf1\\_grouping.pos\\_vs\\_none              & all & Irx5\\_\\_Lmx1a & neuron & Day5 & obob5v5 & Day5 & obobBL6d5 & fgf1\\_grouping     & pos          & ⋯ & 1 & 2.320034e-03 & ENSMUSG00000038677 &  2.704195 & 70 & 2686 & 0.02606106 & 0.1 & 150 & FALSE\\\\\n",
       "\t Irx5\\_\\_Lmx1a\\_\\_\\_Day5.obob5v5\\_\\_v\\_\\_Day5.obobBL6d5\\_\\_\\_fgf1\\_grouping.pos\\_vs\\_none              & all & Irx5\\_\\_Lmx1a & neuron & Day5 & obob5v5 & Day5 & obobBL6d5 & fgf1\\_grouping     & pos          & ⋯ & 1 & 2.364300e-02 & ENSMUSG00000025037 &  2.660081 & 70 & 2686 & 0.02606106 & 0.1 & 150 & FALSE\\\\\n",
       "\t Irx5\\_\\_Lmx1a\\_\\_\\_Day5.obob5v5\\_\\_v\\_\\_Day5.obobBL6d5\\_\\_\\_fgf1\\_grouping.pos\\_vs\\_none              & all & Irx5\\_\\_Lmx1a & neuron & Day5 & obob5v5 & Day5 & obobBL6d5 & fgf1\\_grouping     & pos          & ⋯ & 1 & 9.212605e-03 & ENSMUSG00000039018 &  2.410210 & 70 & 2686 & 0.02606106 & 0.1 & 150 & FALSE\\\\\n",
       "\t Irx5\\_\\_Lmx1a\\_\\_\\_Day5.obob5v5\\_\\_v\\_\\_Day5.obobBL6d5\\_\\_\\_fgf1\\_grouping.pos\\_vs\\_none              & all & Irx5\\_\\_Lmx1a & neuron & Day5 & obob5v5 & Day5 & obobBL6d5 & fgf1\\_grouping     & pos          & ⋯ & 1 & 5.001513e-03 & ENSMUSG00000061589 &  1.910559 & 70 & 2686 & 0.02606106 & 0.1 & 150 & FALSE\\\\\n",
       "\t Irx5\\_\\_Lmx1a\\_\\_\\_Day5.obob5v5\\_\\_v\\_\\_Day5.obobBL6d5\\_\\_\\_fgf1\\_grouping.pos\\_vs\\_none              & all & Irx5\\_\\_Lmx1a & neuron & Day5 & obob5v5 & Day5 & obobBL6d5 & fgf1\\_grouping     & pos          & ⋯ & 1 & 3.396654e-03 & ENSMUSG00000033510 &  1.857873 & 70 & 2686 & 0.02606106 & 0.1 & 150 & FALSE\\\\\n",
       "\t Irx5\\_\\_Lmx1a\\_\\_\\_Day5.obob5v5\\_\\_v\\_\\_Day5.obobBL6d5\\_\\_\\_fgf1\\_grouping.pos\\_vs\\_none              & all & Irx5\\_\\_Lmx1a & neuron & Day5 & obob5v5 & Day5 & obobBL6d5 & fgf1\\_grouping     & pos          & ⋯ & 1 & 6.874464e-03 & ENSMUSG00000033676 &  1.688068 & 70 & 2686 & 0.02606106 & 0.1 & 150 & FALSE\\\\\n",
       "\t Irx5\\_\\_Lmx1a\\_\\_\\_Day5.obob5v5\\_\\_v\\_\\_Day5.obobBL6d5\\_\\_\\_restored\\_grouping.pos\\_restored\\_vs\\_none & all & Irx5\\_\\_Lmx1a & neuron & Day5 & obob5v5 & Day5 & obobBL6d5 & restored\\_grouping & pos\\_restored & ⋯ & 1 & 6.920300e-06 & ENSMUSG00000022112 & 18.552625 & 70 & 2686 & 0.02606106 & 0.1 & 150 & FALSE\\\\\n",
       "\t Irx5\\_\\_Lmx1a\\_\\_\\_Day5.obob5v5\\_\\_v\\_\\_Day5.obobBL6d5\\_\\_\\_restored\\_grouping.pos\\_restored\\_vs\\_none & all & Irx5\\_\\_Lmx1a & neuron & Day5 & obob5v5 & Day5 & obobBL6d5 & restored\\_grouping & pos\\_restored & ⋯ & 1 & 2.445483e-10 & ENSMUSG00000032036 & 18.267434 & 70 & 2686 & 0.02606106 & 0.1 & 150 & FALSE\\\\\n",
       "\t Irx5\\_\\_Lmx1a\\_\\_\\_Day5.obob5v5\\_\\_v\\_\\_Day5.obobBL6d5\\_\\_\\_restored\\_grouping.pos\\_restored\\_vs\\_none & all & Irx5\\_\\_Lmx1a & neuron & Day5 & obob5v5 & Day5 & obobBL6d5 & restored\\_grouping & pos\\_restored & ⋯ & 1 & 2.730932e-04 & ENSMUSG00000093497 & 13.938534 & 70 & 2686 & 0.02606106 & 0.1 & 150 & FALSE\\\\\n",
       "\t Irx5\\_\\_Lmx1a\\_\\_\\_Day5.obob5v5\\_\\_v\\_\\_Day5.obobBL6d5\\_\\_\\_restored\\_grouping.pos\\_restored\\_vs\\_none & all & Irx5\\_\\_Lmx1a & neuron & Day5 & obob5v5 & Day5 & obobBL6d5 & restored\\_grouping & pos\\_restored & ⋯ & 1 & 1.828769e-04 & ENSMUSG00000025324 &  7.962547 & 70 & 2686 & 0.02606106 & 0.1 & 150 & FALSE\\\\\n",
       "\t Irx5\\_\\_Lmx1a\\_\\_\\_Day5.obob5v5\\_\\_v\\_\\_Day5.obobBL6d5\\_\\_\\_restored\\_grouping.pos\\_restored\\_vs\\_none & all & Irx5\\_\\_Lmx1a & neuron & Day5 & obob5v5 & Day5 & obobBL6d5 & restored\\_grouping & pos\\_restored & ⋯ & 1 & 2.178404e-04 & ENSMUSG00000060429 &  6.237538 & 70 & 2686 & 0.02606106 & 0.1 & 150 & FALSE\\\\\n",
       "\t Irx5\\_\\_Lmx1a\\_\\_\\_Day5.obob5v5\\_\\_v\\_\\_Day5.obobBL6d5\\_\\_\\_restored\\_grouping.pos\\_restored\\_vs\\_none & all & Irx5\\_\\_Lmx1a & neuron & Day5 & obob5v5 & Day5 & obobBL6d5 & restored\\_grouping & pos\\_restored & ⋯ & 1 & 6.005335e-06 & ENSMUSG00000030970 &  5.643641 & 70 & 2686 & 0.02606106 & 0.1 & 150 & FALSE\\\\\n",
       "\t Irx5\\_\\_Lmx1a\\_\\_\\_Day5.obob5v5\\_\\_v\\_\\_Day5.obobBL6d5\\_\\_\\_restored\\_grouping.pos\\_restored\\_vs\\_none & all & Irx5\\_\\_Lmx1a & neuron & Day5 & obob5v5 & Day5 & obobBL6d5 & restored\\_grouping & pos\\_restored & ⋯ & 1 & 2.287999e-03 & ENSMUSG00000052560 &  5.164488 & 70 & 2686 & 0.02606106 & 0.1 & 150 & FALSE\\\\\n",
       "\t Irx5\\_\\_Lmx1a\\_\\_\\_Day5.obob5v5\\_\\_v\\_\\_Day5.obobBL6d5\\_\\_\\_restored\\_grouping.pos\\_restored\\_vs\\_none & all & Irx5\\_\\_Lmx1a & neuron & Day5 & obob5v5 & Day5 & obobBL6d5 & restored\\_grouping & pos\\_restored & ⋯ & 1 & 2.026728e-03 & ENSMUSG00000003418 &  4.356982 & 70 & 2686 & 0.02606106 & 0.1 & 150 & FALSE\\\\\n",
       "\t Irx5\\_\\_Lmx1a\\_\\_\\_Day5.obob5v5\\_\\_v\\_\\_Day5.obobBL6d5\\_\\_\\_restored\\_grouping.pos\\_restored\\_vs\\_none & all & Irx5\\_\\_Lmx1a & neuron & Day5 & obob5v5 & Day5 & obobBL6d5 & restored\\_grouping & pos\\_restored & ⋯ & 1 & 2.482384e-07 & ENSMUSG00000037926 &  4.021370 & 70 & 2686 & 0.02606106 & 0.1 & 150 & FALSE\\\\\n",
       "\t Irx5\\_\\_Lmx1a\\_\\_\\_Day5.obob5v5\\_\\_v\\_\\_Day5.obobBL6d5\\_\\_\\_restored\\_grouping.pos\\_restored\\_vs\\_none & all & Irx5\\_\\_Lmx1a & neuron & Day5 & obob5v5 & Day5 & obobBL6d5 & restored\\_grouping & pos\\_restored & ⋯ & 1 & 4.360171e-03 & ENSMUSG00000112323 &  3.703726 & 70 & 2686 & 0.02606106 & 0.1 & 150 & FALSE\\\\\n",
       "\t Irx5\\_\\_Lmx1a\\_\\_\\_Day5.obob5v5\\_\\_v\\_\\_Day5.obobBL6d5\\_\\_\\_restored\\_grouping.pos\\_restored\\_vs\\_none & all & Irx5\\_\\_Lmx1a & neuron & Day5 & obob5v5 & Day5 & obobBL6d5 & restored\\_grouping & pos\\_restored & ⋯ & 1 & 1.679220e-03 & ENSMUSG00000067430 &  3.121401 & 70 & 2686 & 0.02606106 & 0.1 & 150 & FALSE\\\\\n",
       "\t Irx5\\_\\_Lmx1a\\_\\_\\_Day5.obob5v5\\_\\_v\\_\\_Day5.obobBL6d5\\_\\_\\_restored\\_grouping.pos\\_restored\\_vs\\_none & all & Irx5\\_\\_Lmx1a & neuron & Day5 & obob5v5 & Day5 & obobBL6d5 & restored\\_grouping & pos\\_restored & ⋯ & 1 & 6.827612e-04 & ENSMUSG00000025475 &  2.913768 & 70 & 2686 & 0.02606106 & 0.1 & 150 & FALSE\\\\\n",
       "\t Irx5\\_\\_Lmx1a\\_\\_\\_Day5.obob5v5\\_\\_v\\_\\_Day5.obobBL6d5\\_\\_\\_restored\\_grouping.pos\\_restored\\_vs\\_none & all & Irx5\\_\\_Lmx1a & neuron & Day5 & obob5v5 & Day5 & obobBL6d5 & restored\\_grouping & pos\\_restored & ⋯ & 1 & 2.320034e-03 & ENSMUSG00000038677 &  2.704195 & 70 & 2686 & 0.02606106 & 0.1 & 150 & FALSE\\\\\n",
       "\t Irx5\\_\\_Lmx1a\\_\\_\\_Day5.obob5v5\\_\\_v\\_\\_Day5.obobBL6d5\\_\\_\\_restored\\_grouping.pos\\_restored\\_vs\\_none & all & Irx5\\_\\_Lmx1a & neuron & Day5 & obob5v5 & Day5 & obobBL6d5 & restored\\_grouping & pos\\_restored & ⋯ & 1 & 2.364300e-02 & ENSMUSG00000025037 &  2.660081 & 70 & 2686 & 0.02606106 & 0.1 & 150 & FALSE\\\\\n",
       "\t Irx5\\_\\_Lmx1a\\_\\_\\_Day5.obob5v5\\_\\_v\\_\\_Day5.obobBL6d5\\_\\_\\_restored\\_grouping.pos\\_restored\\_vs\\_none & all & Irx5\\_\\_Lmx1a & neuron & Day5 & obob5v5 & Day5 & obobBL6d5 & restored\\_grouping & pos\\_restored & ⋯ & 1 & 9.212605e-03 & ENSMUSG00000039018 &  2.410210 & 70 & 2686 & 0.02606106 & 0.1 & 150 & FALSE\\\\\n",
       "\t Irx5\\_\\_Lmx1a\\_\\_\\_Day5.obob5v5\\_\\_v\\_\\_Day5.obobBL6d5\\_\\_\\_restored\\_grouping.pos\\_restored\\_vs\\_none & all & Irx5\\_\\_Lmx1a & neuron & Day5 & obob5v5 & Day5 & obobBL6d5 & restored\\_grouping & pos\\_restored & ⋯ & 1 & 5.001513e-03 & ENSMUSG00000061589 &  1.910559 & 70 & 2686 & 0.02606106 & 0.1 & 150 & FALSE\\\\\n",
       "\t Irx5\\_\\_Lmx1a\\_\\_\\_Day5.obob5v5\\_\\_v\\_\\_Day5.obobBL6d5\\_\\_\\_restored\\_grouping.pos\\_restored\\_vs\\_none & all & Irx5\\_\\_Lmx1a & neuron & Day5 & obob5v5 & Day5 & obobBL6d5 & restored\\_grouping & pos\\_restored & ⋯ & 1 & 3.396654e-03 & ENSMUSG00000033510 &  1.857873 & 70 & 2686 & 0.02606106 & 0.1 & 150 & FALSE\\\\\n",
       "\t Irx5\\_\\_Lmx1a\\_\\_\\_Day5.obob5v5\\_\\_v\\_\\_Day5.obobBL6d5\\_\\_\\_restored\\_grouping.pos\\_restored\\_vs\\_none & all & Irx5\\_\\_Lmx1a & neuron & Day5 & obob5v5 & Day5 & obobBL6d5 & restored\\_grouping & pos\\_restored & ⋯ & 1 & 6.874464e-03 & ENSMUSG00000033676 &  1.688068 & 70 & 2686 & 0.02606106 & 0.1 & 150 & FALSE\\\\\n",
       "\\end{tabular}\n"
      ],
      "text/markdown": [
       "\n",
       "A tibble: 54 × 25\n",
       "\n",
       "| tag &lt;chr&gt; | data_day &lt;chr&gt; | cluster &lt;chr&gt; | class &lt;chr&gt; | fgf1_day &lt;chr&gt; | fgf1_comparison &lt;chr&gt; | bl6_day &lt;chr&gt; | bl6_comparison &lt;chr&gt; | grouping &lt;chr&gt; | cells_a &lt;chr&gt; | ⋯ ⋯ | pct.2 &lt;dbl&gt; | p_val_adj &lt;dbl&gt; | ensmusg &lt;chr&gt; | gsea_sort_score &lt;dbl&gt; | count &lt;int&gt; | total_cells &lt;int&gt; | frac &lt;dbl&gt; | frac_cutoff &lt;dbl&gt; | n_cells_cutoff &lt;dbl&gt; | n_cells_valid &lt;lgl&gt; |\n",
       "|---|---|---|---|---|---|---|---|---|---|---|---|---|---|---|---|---|---|---|---|---|\n",
       "| Irx5__Lmx1a___Day5.obob5v5__v__Day5.obobBL6d5___bl6_grouping.neg_vs_none               | all | Irx5__Lmx1a | neuron | Day5 | obob5v5 | Day5 | obobBL6d5 | bl6_grouping      | neg          | ⋯ | 1 | 6.920300e-06 | ENSMUSG00000022112 | 18.552625 | 70 | 2686 | 0.02606106 | 0.1 | 150 | FALSE |\n",
       "| Irx5__Lmx1a___Day5.obob5v5__v__Day5.obobBL6d5___bl6_grouping.neg_vs_none               | all | Irx5__Lmx1a | neuron | Day5 | obob5v5 | Day5 | obobBL6d5 | bl6_grouping      | neg          | ⋯ | 1 | 2.445483e-10 | ENSMUSG00000032036 | 18.267434 | 70 | 2686 | 0.02606106 | 0.1 | 150 | FALSE |\n",
       "| Irx5__Lmx1a___Day5.obob5v5__v__Day5.obobBL6d5___bl6_grouping.neg_vs_none               | all | Irx5__Lmx1a | neuron | Day5 | obob5v5 | Day5 | obobBL6d5 | bl6_grouping      | neg          | ⋯ | 1 | 2.730932e-04 | ENSMUSG00000093497 | 13.938534 | 70 | 2686 | 0.02606106 | 0.1 | 150 | FALSE |\n",
       "| Irx5__Lmx1a___Day5.obob5v5__v__Day5.obobBL6d5___bl6_grouping.neg_vs_none               | all | Irx5__Lmx1a | neuron | Day5 | obob5v5 | Day5 | obobBL6d5 | bl6_grouping      | neg          | ⋯ | 1 | 1.828769e-04 | ENSMUSG00000025324 |  7.962547 | 70 | 2686 | 0.02606106 | 0.1 | 150 | FALSE |\n",
       "| Irx5__Lmx1a___Day5.obob5v5__v__Day5.obobBL6d5___bl6_grouping.neg_vs_none               | all | Irx5__Lmx1a | neuron | Day5 | obob5v5 | Day5 | obobBL6d5 | bl6_grouping      | neg          | ⋯ | 1 | 2.178404e-04 | ENSMUSG00000060429 |  6.237538 | 70 | 2686 | 0.02606106 | 0.1 | 150 | FALSE |\n",
       "| Irx5__Lmx1a___Day5.obob5v5__v__Day5.obobBL6d5___bl6_grouping.neg_vs_none               | all | Irx5__Lmx1a | neuron | Day5 | obob5v5 | Day5 | obobBL6d5 | bl6_grouping      | neg          | ⋯ | 1 | 6.005335e-06 | ENSMUSG00000030970 |  5.643641 | 70 | 2686 | 0.02606106 | 0.1 | 150 | FALSE |\n",
       "| Irx5__Lmx1a___Day5.obob5v5__v__Day5.obobBL6d5___bl6_grouping.neg_vs_none               | all | Irx5__Lmx1a | neuron | Day5 | obob5v5 | Day5 | obobBL6d5 | bl6_grouping      | neg          | ⋯ | 1 | 2.287999e-03 | ENSMUSG00000052560 |  5.164488 | 70 | 2686 | 0.02606106 | 0.1 | 150 | FALSE |\n",
       "| Irx5__Lmx1a___Day5.obob5v5__v__Day5.obobBL6d5___bl6_grouping.neg_vs_none               | all | Irx5__Lmx1a | neuron | Day5 | obob5v5 | Day5 | obobBL6d5 | bl6_grouping      | neg          | ⋯ | 1 | 2.026728e-03 | ENSMUSG00000003418 |  4.356982 | 70 | 2686 | 0.02606106 | 0.1 | 150 | FALSE |\n",
       "| Irx5__Lmx1a___Day5.obob5v5__v__Day5.obobBL6d5___bl6_grouping.neg_vs_none               | all | Irx5__Lmx1a | neuron | Day5 | obob5v5 | Day5 | obobBL6d5 | bl6_grouping      | neg          | ⋯ | 1 | 2.482384e-07 | ENSMUSG00000037926 |  4.021370 | 70 | 2686 | 0.02606106 | 0.1 | 150 | FALSE |\n",
       "| Irx5__Lmx1a___Day5.obob5v5__v__Day5.obobBL6d5___bl6_grouping.neg_vs_none               | all | Irx5__Lmx1a | neuron | Day5 | obob5v5 | Day5 | obobBL6d5 | bl6_grouping      | neg          | ⋯ | 1 | 4.360171e-03 | ENSMUSG00000112323 |  3.703726 | 70 | 2686 | 0.02606106 | 0.1 | 150 | FALSE |\n",
       "| Irx5__Lmx1a___Day5.obob5v5__v__Day5.obobBL6d5___bl6_grouping.neg_vs_none               | all | Irx5__Lmx1a | neuron | Day5 | obob5v5 | Day5 | obobBL6d5 | bl6_grouping      | neg          | ⋯ | 1 | 1.679220e-03 | ENSMUSG00000067430 |  3.121401 | 70 | 2686 | 0.02606106 | 0.1 | 150 | FALSE |\n",
       "| Irx5__Lmx1a___Day5.obob5v5__v__Day5.obobBL6d5___bl6_grouping.neg_vs_none               | all | Irx5__Lmx1a | neuron | Day5 | obob5v5 | Day5 | obobBL6d5 | bl6_grouping      | neg          | ⋯ | 1 | 6.827612e-04 | ENSMUSG00000025475 |  2.913768 | 70 | 2686 | 0.02606106 | 0.1 | 150 | FALSE |\n",
       "| Irx5__Lmx1a___Day5.obob5v5__v__Day5.obobBL6d5___bl6_grouping.neg_vs_none               | all | Irx5__Lmx1a | neuron | Day5 | obob5v5 | Day5 | obobBL6d5 | bl6_grouping      | neg          | ⋯ | 1 | 2.320034e-03 | ENSMUSG00000038677 |  2.704195 | 70 | 2686 | 0.02606106 | 0.1 | 150 | FALSE |\n",
       "| Irx5__Lmx1a___Day5.obob5v5__v__Day5.obobBL6d5___bl6_grouping.neg_vs_none               | all | Irx5__Lmx1a | neuron | Day5 | obob5v5 | Day5 | obobBL6d5 | bl6_grouping      | neg          | ⋯ | 1 | 2.364300e-02 | ENSMUSG00000025037 |  2.660081 | 70 | 2686 | 0.02606106 | 0.1 | 150 | FALSE |\n",
       "| Irx5__Lmx1a___Day5.obob5v5__v__Day5.obobBL6d5___bl6_grouping.neg_vs_none               | all | Irx5__Lmx1a | neuron | Day5 | obob5v5 | Day5 | obobBL6d5 | bl6_grouping      | neg          | ⋯ | 1 | 9.212605e-03 | ENSMUSG00000039018 |  2.410210 | 70 | 2686 | 0.02606106 | 0.1 | 150 | FALSE |\n",
       "| Irx5__Lmx1a___Day5.obob5v5__v__Day5.obobBL6d5___bl6_grouping.neg_vs_none               | all | Irx5__Lmx1a | neuron | Day5 | obob5v5 | Day5 | obobBL6d5 | bl6_grouping      | neg          | ⋯ | 1 | 5.001513e-03 | ENSMUSG00000061589 |  1.910559 | 70 | 2686 | 0.02606106 | 0.1 | 150 | FALSE |\n",
       "| Irx5__Lmx1a___Day5.obob5v5__v__Day5.obobBL6d5___bl6_grouping.neg_vs_none               | all | Irx5__Lmx1a | neuron | Day5 | obob5v5 | Day5 | obobBL6d5 | bl6_grouping      | neg          | ⋯ | 1 | 3.396654e-03 | ENSMUSG00000033510 |  1.857873 | 70 | 2686 | 0.02606106 | 0.1 | 150 | FALSE |\n",
       "| Irx5__Lmx1a___Day5.obob5v5__v__Day5.obobBL6d5___bl6_grouping.neg_vs_none               | all | Irx5__Lmx1a | neuron | Day5 | obob5v5 | Day5 | obobBL6d5 | bl6_grouping      | neg          | ⋯ | 1 | 6.874464e-03 | ENSMUSG00000033676 |  1.688068 | 70 | 2686 | 0.02606106 | 0.1 | 150 | FALSE |\n",
       "| Irx5__Lmx1a___Day5.obob5v5__v__Day5.obobBL6d5___fgf1_grouping.pos_vs_none              | all | Irx5__Lmx1a | neuron | Day5 | obob5v5 | Day5 | obobBL6d5 | fgf1_grouping     | pos          | ⋯ | 1 | 6.920300e-06 | ENSMUSG00000022112 | 18.552625 | 70 | 2686 | 0.02606106 | 0.1 | 150 | FALSE |\n",
       "| Irx5__Lmx1a___Day5.obob5v5__v__Day5.obobBL6d5___fgf1_grouping.pos_vs_none              | all | Irx5__Lmx1a | neuron | Day5 | obob5v5 | Day5 | obobBL6d5 | fgf1_grouping     | pos          | ⋯ | 1 | 2.445483e-10 | ENSMUSG00000032036 | 18.267434 | 70 | 2686 | 0.02606106 | 0.1 | 150 | FALSE |\n",
       "| Irx5__Lmx1a___Day5.obob5v5__v__Day5.obobBL6d5___fgf1_grouping.pos_vs_none              | all | Irx5__Lmx1a | neuron | Day5 | obob5v5 | Day5 | obobBL6d5 | fgf1_grouping     | pos          | ⋯ | 1 | 2.730932e-04 | ENSMUSG00000093497 | 13.938534 | 70 | 2686 | 0.02606106 | 0.1 | 150 | FALSE |\n",
       "| Irx5__Lmx1a___Day5.obob5v5__v__Day5.obobBL6d5___fgf1_grouping.pos_vs_none              | all | Irx5__Lmx1a | neuron | Day5 | obob5v5 | Day5 | obobBL6d5 | fgf1_grouping     | pos          | ⋯ | 1 | 1.828769e-04 | ENSMUSG00000025324 |  7.962547 | 70 | 2686 | 0.02606106 | 0.1 | 150 | FALSE |\n",
       "| Irx5__Lmx1a___Day5.obob5v5__v__Day5.obobBL6d5___fgf1_grouping.pos_vs_none              | all | Irx5__Lmx1a | neuron | Day5 | obob5v5 | Day5 | obobBL6d5 | fgf1_grouping     | pos          | ⋯ | 1 | 2.178404e-04 | ENSMUSG00000060429 |  6.237538 | 70 | 2686 | 0.02606106 | 0.1 | 150 | FALSE |\n",
       "| Irx5__Lmx1a___Day5.obob5v5__v__Day5.obobBL6d5___fgf1_grouping.pos_vs_none              | all | Irx5__Lmx1a | neuron | Day5 | obob5v5 | Day5 | obobBL6d5 | fgf1_grouping     | pos          | ⋯ | 1 | 6.005335e-06 | ENSMUSG00000030970 |  5.643641 | 70 | 2686 | 0.02606106 | 0.1 | 150 | FALSE |\n",
       "| Irx5__Lmx1a___Day5.obob5v5__v__Day5.obobBL6d5___fgf1_grouping.pos_vs_none              | all | Irx5__Lmx1a | neuron | Day5 | obob5v5 | Day5 | obobBL6d5 | fgf1_grouping     | pos          | ⋯ | 1 | 2.287999e-03 | ENSMUSG00000052560 |  5.164488 | 70 | 2686 | 0.02606106 | 0.1 | 150 | FALSE |\n",
       "| Irx5__Lmx1a___Day5.obob5v5__v__Day5.obobBL6d5___fgf1_grouping.pos_vs_none              | all | Irx5__Lmx1a | neuron | Day5 | obob5v5 | Day5 | obobBL6d5 | fgf1_grouping     | pos          | ⋯ | 1 | 2.026728e-03 | ENSMUSG00000003418 |  4.356982 | 70 | 2686 | 0.02606106 | 0.1 | 150 | FALSE |\n",
       "| Irx5__Lmx1a___Day5.obob5v5__v__Day5.obobBL6d5___fgf1_grouping.pos_vs_none              | all | Irx5__Lmx1a | neuron | Day5 | obob5v5 | Day5 | obobBL6d5 | fgf1_grouping     | pos          | ⋯ | 1 | 2.482384e-07 | ENSMUSG00000037926 |  4.021370 | 70 | 2686 | 0.02606106 | 0.1 | 150 | FALSE |\n",
       "| Irx5__Lmx1a___Day5.obob5v5__v__Day5.obobBL6d5___fgf1_grouping.pos_vs_none              | all | Irx5__Lmx1a | neuron | Day5 | obob5v5 | Day5 | obobBL6d5 | fgf1_grouping     | pos          | ⋯ | 1 | 4.360171e-03 | ENSMUSG00000112323 |  3.703726 | 70 | 2686 | 0.02606106 | 0.1 | 150 | FALSE |\n",
       "| Irx5__Lmx1a___Day5.obob5v5__v__Day5.obobBL6d5___fgf1_grouping.pos_vs_none              | all | Irx5__Lmx1a | neuron | Day5 | obob5v5 | Day5 | obobBL6d5 | fgf1_grouping     | pos          | ⋯ | 1 | 1.679220e-03 | ENSMUSG00000067430 |  3.121401 | 70 | 2686 | 0.02606106 | 0.1 | 150 | FALSE |\n",
       "| Irx5__Lmx1a___Day5.obob5v5__v__Day5.obobBL6d5___fgf1_grouping.pos_vs_none              | all | Irx5__Lmx1a | neuron | Day5 | obob5v5 | Day5 | obobBL6d5 | fgf1_grouping     | pos          | ⋯ | 1 | 6.827612e-04 | ENSMUSG00000025475 |  2.913768 | 70 | 2686 | 0.02606106 | 0.1 | 150 | FALSE |\n",
       "| Irx5__Lmx1a___Day5.obob5v5__v__Day5.obobBL6d5___fgf1_grouping.pos_vs_none              | all | Irx5__Lmx1a | neuron | Day5 | obob5v5 | Day5 | obobBL6d5 | fgf1_grouping     | pos          | ⋯ | 1 | 2.320034e-03 | ENSMUSG00000038677 |  2.704195 | 70 | 2686 | 0.02606106 | 0.1 | 150 | FALSE |\n",
       "| Irx5__Lmx1a___Day5.obob5v5__v__Day5.obobBL6d5___fgf1_grouping.pos_vs_none              | all | Irx5__Lmx1a | neuron | Day5 | obob5v5 | Day5 | obobBL6d5 | fgf1_grouping     | pos          | ⋯ | 1 | 2.364300e-02 | ENSMUSG00000025037 |  2.660081 | 70 | 2686 | 0.02606106 | 0.1 | 150 | FALSE |\n",
       "| Irx5__Lmx1a___Day5.obob5v5__v__Day5.obobBL6d5___fgf1_grouping.pos_vs_none              | all | Irx5__Lmx1a | neuron | Day5 | obob5v5 | Day5 | obobBL6d5 | fgf1_grouping     | pos          | ⋯ | 1 | 9.212605e-03 | ENSMUSG00000039018 |  2.410210 | 70 | 2686 | 0.02606106 | 0.1 | 150 | FALSE |\n",
       "| Irx5__Lmx1a___Day5.obob5v5__v__Day5.obobBL6d5___fgf1_grouping.pos_vs_none              | all | Irx5__Lmx1a | neuron | Day5 | obob5v5 | Day5 | obobBL6d5 | fgf1_grouping     | pos          | ⋯ | 1 | 5.001513e-03 | ENSMUSG00000061589 |  1.910559 | 70 | 2686 | 0.02606106 | 0.1 | 150 | FALSE |\n",
       "| Irx5__Lmx1a___Day5.obob5v5__v__Day5.obobBL6d5___fgf1_grouping.pos_vs_none              | all | Irx5__Lmx1a | neuron | Day5 | obob5v5 | Day5 | obobBL6d5 | fgf1_grouping     | pos          | ⋯ | 1 | 3.396654e-03 | ENSMUSG00000033510 |  1.857873 | 70 | 2686 | 0.02606106 | 0.1 | 150 | FALSE |\n",
       "| Irx5__Lmx1a___Day5.obob5v5__v__Day5.obobBL6d5___fgf1_grouping.pos_vs_none              | all | Irx5__Lmx1a | neuron | Day5 | obob5v5 | Day5 | obobBL6d5 | fgf1_grouping     | pos          | ⋯ | 1 | 6.874464e-03 | ENSMUSG00000033676 |  1.688068 | 70 | 2686 | 0.02606106 | 0.1 | 150 | FALSE |\n",
       "| Irx5__Lmx1a___Day5.obob5v5__v__Day5.obobBL6d5___restored_grouping.pos_restored_vs_none | all | Irx5__Lmx1a | neuron | Day5 | obob5v5 | Day5 | obobBL6d5 | restored_grouping | pos_restored | ⋯ | 1 | 6.920300e-06 | ENSMUSG00000022112 | 18.552625 | 70 | 2686 | 0.02606106 | 0.1 | 150 | FALSE |\n",
       "| Irx5__Lmx1a___Day5.obob5v5__v__Day5.obobBL6d5___restored_grouping.pos_restored_vs_none | all | Irx5__Lmx1a | neuron | Day5 | obob5v5 | Day5 | obobBL6d5 | restored_grouping | pos_restored | ⋯ | 1 | 2.445483e-10 | ENSMUSG00000032036 | 18.267434 | 70 | 2686 | 0.02606106 | 0.1 | 150 | FALSE |\n",
       "| Irx5__Lmx1a___Day5.obob5v5__v__Day5.obobBL6d5___restored_grouping.pos_restored_vs_none | all | Irx5__Lmx1a | neuron | Day5 | obob5v5 | Day5 | obobBL6d5 | restored_grouping | pos_restored | ⋯ | 1 | 2.730932e-04 | ENSMUSG00000093497 | 13.938534 | 70 | 2686 | 0.02606106 | 0.1 | 150 | FALSE |\n",
       "| Irx5__Lmx1a___Day5.obob5v5__v__Day5.obobBL6d5___restored_grouping.pos_restored_vs_none | all | Irx5__Lmx1a | neuron | Day5 | obob5v5 | Day5 | obobBL6d5 | restored_grouping | pos_restored | ⋯ | 1 | 1.828769e-04 | ENSMUSG00000025324 |  7.962547 | 70 | 2686 | 0.02606106 | 0.1 | 150 | FALSE |\n",
       "| Irx5__Lmx1a___Day5.obob5v5__v__Day5.obobBL6d5___restored_grouping.pos_restored_vs_none | all | Irx5__Lmx1a | neuron | Day5 | obob5v5 | Day5 | obobBL6d5 | restored_grouping | pos_restored | ⋯ | 1 | 2.178404e-04 | ENSMUSG00000060429 |  6.237538 | 70 | 2686 | 0.02606106 | 0.1 | 150 | FALSE |\n",
       "| Irx5__Lmx1a___Day5.obob5v5__v__Day5.obobBL6d5___restored_grouping.pos_restored_vs_none | all | Irx5__Lmx1a | neuron | Day5 | obob5v5 | Day5 | obobBL6d5 | restored_grouping | pos_restored | ⋯ | 1 | 6.005335e-06 | ENSMUSG00000030970 |  5.643641 | 70 | 2686 | 0.02606106 | 0.1 | 150 | FALSE |\n",
       "| Irx5__Lmx1a___Day5.obob5v5__v__Day5.obobBL6d5___restored_grouping.pos_restored_vs_none | all | Irx5__Lmx1a | neuron | Day5 | obob5v5 | Day5 | obobBL6d5 | restored_grouping | pos_restored | ⋯ | 1 | 2.287999e-03 | ENSMUSG00000052560 |  5.164488 | 70 | 2686 | 0.02606106 | 0.1 | 150 | FALSE |\n",
       "| Irx5__Lmx1a___Day5.obob5v5__v__Day5.obobBL6d5___restored_grouping.pos_restored_vs_none | all | Irx5__Lmx1a | neuron | Day5 | obob5v5 | Day5 | obobBL6d5 | restored_grouping | pos_restored | ⋯ | 1 | 2.026728e-03 | ENSMUSG00000003418 |  4.356982 | 70 | 2686 | 0.02606106 | 0.1 | 150 | FALSE |\n",
       "| Irx5__Lmx1a___Day5.obob5v5__v__Day5.obobBL6d5___restored_grouping.pos_restored_vs_none | all | Irx5__Lmx1a | neuron | Day5 | obob5v5 | Day5 | obobBL6d5 | restored_grouping | pos_restored | ⋯ | 1 | 2.482384e-07 | ENSMUSG00000037926 |  4.021370 | 70 | 2686 | 0.02606106 | 0.1 | 150 | FALSE |\n",
       "| Irx5__Lmx1a___Day5.obob5v5__v__Day5.obobBL6d5___restored_grouping.pos_restored_vs_none | all | Irx5__Lmx1a | neuron | Day5 | obob5v5 | Day5 | obobBL6d5 | restored_grouping | pos_restored | ⋯ | 1 | 4.360171e-03 | ENSMUSG00000112323 |  3.703726 | 70 | 2686 | 0.02606106 | 0.1 | 150 | FALSE |\n",
       "| Irx5__Lmx1a___Day5.obob5v5__v__Day5.obobBL6d5___restored_grouping.pos_restored_vs_none | all | Irx5__Lmx1a | neuron | Day5 | obob5v5 | Day5 | obobBL6d5 | restored_grouping | pos_restored | ⋯ | 1 | 1.679220e-03 | ENSMUSG00000067430 |  3.121401 | 70 | 2686 | 0.02606106 | 0.1 | 150 | FALSE |\n",
       "| Irx5__Lmx1a___Day5.obob5v5__v__Day5.obobBL6d5___restored_grouping.pos_restored_vs_none | all | Irx5__Lmx1a | neuron | Day5 | obob5v5 | Day5 | obobBL6d5 | restored_grouping | pos_restored | ⋯ | 1 | 6.827612e-04 | ENSMUSG00000025475 |  2.913768 | 70 | 2686 | 0.02606106 | 0.1 | 150 | FALSE |\n",
       "| Irx5__Lmx1a___Day5.obob5v5__v__Day5.obobBL6d5___restored_grouping.pos_restored_vs_none | all | Irx5__Lmx1a | neuron | Day5 | obob5v5 | Day5 | obobBL6d5 | restored_grouping | pos_restored | ⋯ | 1 | 2.320034e-03 | ENSMUSG00000038677 |  2.704195 | 70 | 2686 | 0.02606106 | 0.1 | 150 | FALSE |\n",
       "| Irx5__Lmx1a___Day5.obob5v5__v__Day5.obobBL6d5___restored_grouping.pos_restored_vs_none | all | Irx5__Lmx1a | neuron | Day5 | obob5v5 | Day5 | obobBL6d5 | restored_grouping | pos_restored | ⋯ | 1 | 2.364300e-02 | ENSMUSG00000025037 |  2.660081 | 70 | 2686 | 0.02606106 | 0.1 | 150 | FALSE |\n",
       "| Irx5__Lmx1a___Day5.obob5v5__v__Day5.obobBL6d5___restored_grouping.pos_restored_vs_none | all | Irx5__Lmx1a | neuron | Day5 | obob5v5 | Day5 | obobBL6d5 | restored_grouping | pos_restored | ⋯ | 1 | 9.212605e-03 | ENSMUSG00000039018 |  2.410210 | 70 | 2686 | 0.02606106 | 0.1 | 150 | FALSE |\n",
       "| Irx5__Lmx1a___Day5.obob5v5__v__Day5.obobBL6d5___restored_grouping.pos_restored_vs_none | all | Irx5__Lmx1a | neuron | Day5 | obob5v5 | Day5 | obobBL6d5 | restored_grouping | pos_restored | ⋯ | 1 | 5.001513e-03 | ENSMUSG00000061589 |  1.910559 | 70 | 2686 | 0.02606106 | 0.1 | 150 | FALSE |\n",
       "| Irx5__Lmx1a___Day5.obob5v5__v__Day5.obobBL6d5___restored_grouping.pos_restored_vs_none | all | Irx5__Lmx1a | neuron | Day5 | obob5v5 | Day5 | obobBL6d5 | restored_grouping | pos_restored | ⋯ | 1 | 3.396654e-03 | ENSMUSG00000033510 |  1.857873 | 70 | 2686 | 0.02606106 | 0.1 | 150 | FALSE |\n",
       "| Irx5__Lmx1a___Day5.obob5v5__v__Day5.obobBL6d5___restored_grouping.pos_restored_vs_none | all | Irx5__Lmx1a | neuron | Day5 | obob5v5 | Day5 | obobBL6d5 | restored_grouping | pos_restored | ⋯ | 1 | 6.874464e-03 | ENSMUSG00000033676 |  1.688068 | 70 | 2686 | 0.02606106 | 0.1 | 150 | FALSE |\n",
       "\n"
      ],
      "text/plain": [
       "   tag                                                                                   \n",
       "1  Irx5__Lmx1a___Day5.obob5v5__v__Day5.obobBL6d5___bl6_grouping.neg_vs_none              \n",
       "2  Irx5__Lmx1a___Day5.obob5v5__v__Day5.obobBL6d5___bl6_grouping.neg_vs_none              \n",
       "3  Irx5__Lmx1a___Day5.obob5v5__v__Day5.obobBL6d5___bl6_grouping.neg_vs_none              \n",
       "4  Irx5__Lmx1a___Day5.obob5v5__v__Day5.obobBL6d5___bl6_grouping.neg_vs_none              \n",
       "5  Irx5__Lmx1a___Day5.obob5v5__v__Day5.obobBL6d5___bl6_grouping.neg_vs_none              \n",
       "6  Irx5__Lmx1a___Day5.obob5v5__v__Day5.obobBL6d5___bl6_grouping.neg_vs_none              \n",
       "7  Irx5__Lmx1a___Day5.obob5v5__v__Day5.obobBL6d5___bl6_grouping.neg_vs_none              \n",
       "8  Irx5__Lmx1a___Day5.obob5v5__v__Day5.obobBL6d5___bl6_grouping.neg_vs_none              \n",
       "9  Irx5__Lmx1a___Day5.obob5v5__v__Day5.obobBL6d5___bl6_grouping.neg_vs_none              \n",
       "10 Irx5__Lmx1a___Day5.obob5v5__v__Day5.obobBL6d5___bl6_grouping.neg_vs_none              \n",
       "11 Irx5__Lmx1a___Day5.obob5v5__v__Day5.obobBL6d5___bl6_grouping.neg_vs_none              \n",
       "12 Irx5__Lmx1a___Day5.obob5v5__v__Day5.obobBL6d5___bl6_grouping.neg_vs_none              \n",
       "13 Irx5__Lmx1a___Day5.obob5v5__v__Day5.obobBL6d5___bl6_grouping.neg_vs_none              \n",
       "14 Irx5__Lmx1a___Day5.obob5v5__v__Day5.obobBL6d5___bl6_grouping.neg_vs_none              \n",
       "15 Irx5__Lmx1a___Day5.obob5v5__v__Day5.obobBL6d5___bl6_grouping.neg_vs_none              \n",
       "16 Irx5__Lmx1a___Day5.obob5v5__v__Day5.obobBL6d5___bl6_grouping.neg_vs_none              \n",
       "17 Irx5__Lmx1a___Day5.obob5v5__v__Day5.obobBL6d5___bl6_grouping.neg_vs_none              \n",
       "18 Irx5__Lmx1a___Day5.obob5v5__v__Day5.obobBL6d5___bl6_grouping.neg_vs_none              \n",
       "19 Irx5__Lmx1a___Day5.obob5v5__v__Day5.obobBL6d5___fgf1_grouping.pos_vs_none             \n",
       "20 Irx5__Lmx1a___Day5.obob5v5__v__Day5.obobBL6d5___fgf1_grouping.pos_vs_none             \n",
       "21 Irx5__Lmx1a___Day5.obob5v5__v__Day5.obobBL6d5___fgf1_grouping.pos_vs_none             \n",
       "22 Irx5__Lmx1a___Day5.obob5v5__v__Day5.obobBL6d5___fgf1_grouping.pos_vs_none             \n",
       "23 Irx5__Lmx1a___Day5.obob5v5__v__Day5.obobBL6d5___fgf1_grouping.pos_vs_none             \n",
       "24 Irx5__Lmx1a___Day5.obob5v5__v__Day5.obobBL6d5___fgf1_grouping.pos_vs_none             \n",
       "25 Irx5__Lmx1a___Day5.obob5v5__v__Day5.obobBL6d5___fgf1_grouping.pos_vs_none             \n",
       "26 Irx5__Lmx1a___Day5.obob5v5__v__Day5.obobBL6d5___fgf1_grouping.pos_vs_none             \n",
       "27 Irx5__Lmx1a___Day5.obob5v5__v__Day5.obobBL6d5___fgf1_grouping.pos_vs_none             \n",
       "28 Irx5__Lmx1a___Day5.obob5v5__v__Day5.obobBL6d5___fgf1_grouping.pos_vs_none             \n",
       "29 Irx5__Lmx1a___Day5.obob5v5__v__Day5.obobBL6d5___fgf1_grouping.pos_vs_none             \n",
       "30 Irx5__Lmx1a___Day5.obob5v5__v__Day5.obobBL6d5___fgf1_grouping.pos_vs_none             \n",
       "31 Irx5__Lmx1a___Day5.obob5v5__v__Day5.obobBL6d5___fgf1_grouping.pos_vs_none             \n",
       "32 Irx5__Lmx1a___Day5.obob5v5__v__Day5.obobBL6d5___fgf1_grouping.pos_vs_none             \n",
       "33 Irx5__Lmx1a___Day5.obob5v5__v__Day5.obobBL6d5___fgf1_grouping.pos_vs_none             \n",
       "34 Irx5__Lmx1a___Day5.obob5v5__v__Day5.obobBL6d5___fgf1_grouping.pos_vs_none             \n",
       "35 Irx5__Lmx1a___Day5.obob5v5__v__Day5.obobBL6d5___fgf1_grouping.pos_vs_none             \n",
       "36 Irx5__Lmx1a___Day5.obob5v5__v__Day5.obobBL6d5___fgf1_grouping.pos_vs_none             \n",
       "37 Irx5__Lmx1a___Day5.obob5v5__v__Day5.obobBL6d5___restored_grouping.pos_restored_vs_none\n",
       "38 Irx5__Lmx1a___Day5.obob5v5__v__Day5.obobBL6d5___restored_grouping.pos_restored_vs_none\n",
       "39 Irx5__Lmx1a___Day5.obob5v5__v__Day5.obobBL6d5___restored_grouping.pos_restored_vs_none\n",
       "40 Irx5__Lmx1a___Day5.obob5v5__v__Day5.obobBL6d5___restored_grouping.pos_restored_vs_none\n",
       "41 Irx5__Lmx1a___Day5.obob5v5__v__Day5.obobBL6d5___restored_grouping.pos_restored_vs_none\n",
       "42 Irx5__Lmx1a___Day5.obob5v5__v__Day5.obobBL6d5___restored_grouping.pos_restored_vs_none\n",
       "43 Irx5__Lmx1a___Day5.obob5v5__v__Day5.obobBL6d5___restored_grouping.pos_restored_vs_none\n",
       "44 Irx5__Lmx1a___Day5.obob5v5__v__Day5.obobBL6d5___restored_grouping.pos_restored_vs_none\n",
       "45 Irx5__Lmx1a___Day5.obob5v5__v__Day5.obobBL6d5___restored_grouping.pos_restored_vs_none\n",
       "46 Irx5__Lmx1a___Day5.obob5v5__v__Day5.obobBL6d5___restored_grouping.pos_restored_vs_none\n",
       "47 Irx5__Lmx1a___Day5.obob5v5__v__Day5.obobBL6d5___restored_grouping.pos_restored_vs_none\n",
       "48 Irx5__Lmx1a___Day5.obob5v5__v__Day5.obobBL6d5___restored_grouping.pos_restored_vs_none\n",
       "49 Irx5__Lmx1a___Day5.obob5v5__v__Day5.obobBL6d5___restored_grouping.pos_restored_vs_none\n",
       "50 Irx5__Lmx1a___Day5.obob5v5__v__Day5.obobBL6d5___restored_grouping.pos_restored_vs_none\n",
       "51 Irx5__Lmx1a___Day5.obob5v5__v__Day5.obobBL6d5___restored_grouping.pos_restored_vs_none\n",
       "52 Irx5__Lmx1a___Day5.obob5v5__v__Day5.obobBL6d5___restored_grouping.pos_restored_vs_none\n",
       "53 Irx5__Lmx1a___Day5.obob5v5__v__Day5.obobBL6d5___restored_grouping.pos_restored_vs_none\n",
       "54 Irx5__Lmx1a___Day5.obob5v5__v__Day5.obobBL6d5___restored_grouping.pos_restored_vs_none\n",
       "   data_day cluster     class  fgf1_day fgf1_comparison bl6_day bl6_comparison\n",
       "1  all      Irx5__Lmx1a neuron Day5     obob5v5         Day5    obobBL6d5     \n",
       "2  all      Irx5__Lmx1a neuron Day5     obob5v5         Day5    obobBL6d5     \n",
       "3  all      Irx5__Lmx1a neuron Day5     obob5v5         Day5    obobBL6d5     \n",
       "4  all      Irx5__Lmx1a neuron Day5     obob5v5         Day5    obobBL6d5     \n",
       "5  all      Irx5__Lmx1a neuron Day5     obob5v5         Day5    obobBL6d5     \n",
       "6  all      Irx5__Lmx1a neuron Day5     obob5v5         Day5    obobBL6d5     \n",
       "7  all      Irx5__Lmx1a neuron Day5     obob5v5         Day5    obobBL6d5     \n",
       "8  all      Irx5__Lmx1a neuron Day5     obob5v5         Day5    obobBL6d5     \n",
       "9  all      Irx5__Lmx1a neuron Day5     obob5v5         Day5    obobBL6d5     \n",
       "10 all      Irx5__Lmx1a neuron Day5     obob5v5         Day5    obobBL6d5     \n",
       "11 all      Irx5__Lmx1a neuron Day5     obob5v5         Day5    obobBL6d5     \n",
       "12 all      Irx5__Lmx1a neuron Day5     obob5v5         Day5    obobBL6d5     \n",
       "13 all      Irx5__Lmx1a neuron Day5     obob5v5         Day5    obobBL6d5     \n",
       "14 all      Irx5__Lmx1a neuron Day5     obob5v5         Day5    obobBL6d5     \n",
       "15 all      Irx5__Lmx1a neuron Day5     obob5v5         Day5    obobBL6d5     \n",
       "16 all      Irx5__Lmx1a neuron Day5     obob5v5         Day5    obobBL6d5     \n",
       "17 all      Irx5__Lmx1a neuron Day5     obob5v5         Day5    obobBL6d5     \n",
       "18 all      Irx5__Lmx1a neuron Day5     obob5v5         Day5    obobBL6d5     \n",
       "19 all      Irx5__Lmx1a neuron Day5     obob5v5         Day5    obobBL6d5     \n",
       "20 all      Irx5__Lmx1a neuron Day5     obob5v5         Day5    obobBL6d5     \n",
       "21 all      Irx5__Lmx1a neuron Day5     obob5v5         Day5    obobBL6d5     \n",
       "22 all      Irx5__Lmx1a neuron Day5     obob5v5         Day5    obobBL6d5     \n",
       "23 all      Irx5__Lmx1a neuron Day5     obob5v5         Day5    obobBL6d5     \n",
       "24 all      Irx5__Lmx1a neuron Day5     obob5v5         Day5    obobBL6d5     \n",
       "25 all      Irx5__Lmx1a neuron Day5     obob5v5         Day5    obobBL6d5     \n",
       "26 all      Irx5__Lmx1a neuron Day5     obob5v5         Day5    obobBL6d5     \n",
       "27 all      Irx5__Lmx1a neuron Day5     obob5v5         Day5    obobBL6d5     \n",
       "28 all      Irx5__Lmx1a neuron Day5     obob5v5         Day5    obobBL6d5     \n",
       "29 all      Irx5__Lmx1a neuron Day5     obob5v5         Day5    obobBL6d5     \n",
       "30 all      Irx5__Lmx1a neuron Day5     obob5v5         Day5    obobBL6d5     \n",
       "31 all      Irx5__Lmx1a neuron Day5     obob5v5         Day5    obobBL6d5     \n",
       "32 all      Irx5__Lmx1a neuron Day5     obob5v5         Day5    obobBL6d5     \n",
       "33 all      Irx5__Lmx1a neuron Day5     obob5v5         Day5    obobBL6d5     \n",
       "34 all      Irx5__Lmx1a neuron Day5     obob5v5         Day5    obobBL6d5     \n",
       "35 all      Irx5__Lmx1a neuron Day5     obob5v5         Day5    obobBL6d5     \n",
       "36 all      Irx5__Lmx1a neuron Day5     obob5v5         Day5    obobBL6d5     \n",
       "37 all      Irx5__Lmx1a neuron Day5     obob5v5         Day5    obobBL6d5     \n",
       "38 all      Irx5__Lmx1a neuron Day5     obob5v5         Day5    obobBL6d5     \n",
       "39 all      Irx5__Lmx1a neuron Day5     obob5v5         Day5    obobBL6d5     \n",
       "40 all      Irx5__Lmx1a neuron Day5     obob5v5         Day5    obobBL6d5     \n",
       "41 all      Irx5__Lmx1a neuron Day5     obob5v5         Day5    obobBL6d5     \n",
       "42 all      Irx5__Lmx1a neuron Day5     obob5v5         Day5    obobBL6d5     \n",
       "43 all      Irx5__Lmx1a neuron Day5     obob5v5         Day5    obobBL6d5     \n",
       "44 all      Irx5__Lmx1a neuron Day5     obob5v5         Day5    obobBL6d5     \n",
       "45 all      Irx5__Lmx1a neuron Day5     obob5v5         Day5    obobBL6d5     \n",
       "46 all      Irx5__Lmx1a neuron Day5     obob5v5         Day5    obobBL6d5     \n",
       "47 all      Irx5__Lmx1a neuron Day5     obob5v5         Day5    obobBL6d5     \n",
       "48 all      Irx5__Lmx1a neuron Day5     obob5v5         Day5    obobBL6d5     \n",
       "49 all      Irx5__Lmx1a neuron Day5     obob5v5         Day5    obobBL6d5     \n",
       "50 all      Irx5__Lmx1a neuron Day5     obob5v5         Day5    obobBL6d5     \n",
       "51 all      Irx5__Lmx1a neuron Day5     obob5v5         Day5    obobBL6d5     \n",
       "52 all      Irx5__Lmx1a neuron Day5     obob5v5         Day5    obobBL6d5     \n",
       "53 all      Irx5__Lmx1a neuron Day5     obob5v5         Day5    obobBL6d5     \n",
       "54 all      Irx5__Lmx1a neuron Day5     obob5v5         Day5    obobBL6d5     \n",
       "   grouping          cells_a      ⋯ pct.2 p_val_adj    ensmusg           \n",
       "1  bl6_grouping      neg          ⋯ 1     6.920300e-06 ENSMUSG00000022112\n",
       "2  bl6_grouping      neg          ⋯ 1     2.445483e-10 ENSMUSG00000032036\n",
       "3  bl6_grouping      neg          ⋯ 1     2.730932e-04 ENSMUSG00000093497\n",
       "4  bl6_grouping      neg          ⋯ 1     1.828769e-04 ENSMUSG00000025324\n",
       "5  bl6_grouping      neg          ⋯ 1     2.178404e-04 ENSMUSG00000060429\n",
       "6  bl6_grouping      neg          ⋯ 1     6.005335e-06 ENSMUSG00000030970\n",
       "7  bl6_grouping      neg          ⋯ 1     2.287999e-03 ENSMUSG00000052560\n",
       "8  bl6_grouping      neg          ⋯ 1     2.026728e-03 ENSMUSG00000003418\n",
       "9  bl6_grouping      neg          ⋯ 1     2.482384e-07 ENSMUSG00000037926\n",
       "10 bl6_grouping      neg          ⋯ 1     4.360171e-03 ENSMUSG00000112323\n",
       "11 bl6_grouping      neg          ⋯ 1     1.679220e-03 ENSMUSG00000067430\n",
       "12 bl6_grouping      neg          ⋯ 1     6.827612e-04 ENSMUSG00000025475\n",
       "13 bl6_grouping      neg          ⋯ 1     2.320034e-03 ENSMUSG00000038677\n",
       "14 bl6_grouping      neg          ⋯ 1     2.364300e-02 ENSMUSG00000025037\n",
       "15 bl6_grouping      neg          ⋯ 1     9.212605e-03 ENSMUSG00000039018\n",
       "16 bl6_grouping      neg          ⋯ 1     5.001513e-03 ENSMUSG00000061589\n",
       "17 bl6_grouping      neg          ⋯ 1     3.396654e-03 ENSMUSG00000033510\n",
       "18 bl6_grouping      neg          ⋯ 1     6.874464e-03 ENSMUSG00000033676\n",
       "19 fgf1_grouping     pos          ⋯ 1     6.920300e-06 ENSMUSG00000022112\n",
       "20 fgf1_grouping     pos          ⋯ 1     2.445483e-10 ENSMUSG00000032036\n",
       "21 fgf1_grouping     pos          ⋯ 1     2.730932e-04 ENSMUSG00000093497\n",
       "22 fgf1_grouping     pos          ⋯ 1     1.828769e-04 ENSMUSG00000025324\n",
       "23 fgf1_grouping     pos          ⋯ 1     2.178404e-04 ENSMUSG00000060429\n",
       "24 fgf1_grouping     pos          ⋯ 1     6.005335e-06 ENSMUSG00000030970\n",
       "25 fgf1_grouping     pos          ⋯ 1     2.287999e-03 ENSMUSG00000052560\n",
       "26 fgf1_grouping     pos          ⋯ 1     2.026728e-03 ENSMUSG00000003418\n",
       "27 fgf1_grouping     pos          ⋯ 1     2.482384e-07 ENSMUSG00000037926\n",
       "28 fgf1_grouping     pos          ⋯ 1     4.360171e-03 ENSMUSG00000112323\n",
       "29 fgf1_grouping     pos          ⋯ 1     1.679220e-03 ENSMUSG00000067430\n",
       "30 fgf1_grouping     pos          ⋯ 1     6.827612e-04 ENSMUSG00000025475\n",
       "31 fgf1_grouping     pos          ⋯ 1     2.320034e-03 ENSMUSG00000038677\n",
       "32 fgf1_grouping     pos          ⋯ 1     2.364300e-02 ENSMUSG00000025037\n",
       "33 fgf1_grouping     pos          ⋯ 1     9.212605e-03 ENSMUSG00000039018\n",
       "34 fgf1_grouping     pos          ⋯ 1     5.001513e-03 ENSMUSG00000061589\n",
       "35 fgf1_grouping     pos          ⋯ 1     3.396654e-03 ENSMUSG00000033510\n",
       "36 fgf1_grouping     pos          ⋯ 1     6.874464e-03 ENSMUSG00000033676\n",
       "37 restored_grouping pos_restored ⋯ 1     6.920300e-06 ENSMUSG00000022112\n",
       "38 restored_grouping pos_restored ⋯ 1     2.445483e-10 ENSMUSG00000032036\n",
       "39 restored_grouping pos_restored ⋯ 1     2.730932e-04 ENSMUSG00000093497\n",
       "40 restored_grouping pos_restored ⋯ 1     1.828769e-04 ENSMUSG00000025324\n",
       "41 restored_grouping pos_restored ⋯ 1     2.178404e-04 ENSMUSG00000060429\n",
       "42 restored_grouping pos_restored ⋯ 1     6.005335e-06 ENSMUSG00000030970\n",
       "43 restored_grouping pos_restored ⋯ 1     2.287999e-03 ENSMUSG00000052560\n",
       "44 restored_grouping pos_restored ⋯ 1     2.026728e-03 ENSMUSG00000003418\n",
       "45 restored_grouping pos_restored ⋯ 1     2.482384e-07 ENSMUSG00000037926\n",
       "46 restored_grouping pos_restored ⋯ 1     4.360171e-03 ENSMUSG00000112323\n",
       "47 restored_grouping pos_restored ⋯ 1     1.679220e-03 ENSMUSG00000067430\n",
       "48 restored_grouping pos_restored ⋯ 1     6.827612e-04 ENSMUSG00000025475\n",
       "49 restored_grouping pos_restored ⋯ 1     2.320034e-03 ENSMUSG00000038677\n",
       "50 restored_grouping pos_restored ⋯ 1     2.364300e-02 ENSMUSG00000025037\n",
       "51 restored_grouping pos_restored ⋯ 1     9.212605e-03 ENSMUSG00000039018\n",
       "52 restored_grouping pos_restored ⋯ 1     5.001513e-03 ENSMUSG00000061589\n",
       "53 restored_grouping pos_restored ⋯ 1     3.396654e-03 ENSMUSG00000033510\n",
       "54 restored_grouping pos_restored ⋯ 1     6.874464e-03 ENSMUSG00000033676\n",
       "   gsea_sort_score count total_cells frac       frac_cutoff n_cells_cutoff\n",
       "1  18.552625       70    2686        0.02606106 0.1         150           \n",
       "2  18.267434       70    2686        0.02606106 0.1         150           \n",
       "3  13.938534       70    2686        0.02606106 0.1         150           \n",
       "4   7.962547       70    2686        0.02606106 0.1         150           \n",
       "5   6.237538       70    2686        0.02606106 0.1         150           \n",
       "6   5.643641       70    2686        0.02606106 0.1         150           \n",
       "7   5.164488       70    2686        0.02606106 0.1         150           \n",
       "8   4.356982       70    2686        0.02606106 0.1         150           \n",
       "9   4.021370       70    2686        0.02606106 0.1         150           \n",
       "10  3.703726       70    2686        0.02606106 0.1         150           \n",
       "11  3.121401       70    2686        0.02606106 0.1         150           \n",
       "12  2.913768       70    2686        0.02606106 0.1         150           \n",
       "13  2.704195       70    2686        0.02606106 0.1         150           \n",
       "14  2.660081       70    2686        0.02606106 0.1         150           \n",
       "15  2.410210       70    2686        0.02606106 0.1         150           \n",
       "16  1.910559       70    2686        0.02606106 0.1         150           \n",
       "17  1.857873       70    2686        0.02606106 0.1         150           \n",
       "18  1.688068       70    2686        0.02606106 0.1         150           \n",
       "19 18.552625       70    2686        0.02606106 0.1         150           \n",
       "20 18.267434       70    2686        0.02606106 0.1         150           \n",
       "21 13.938534       70    2686        0.02606106 0.1         150           \n",
       "22  7.962547       70    2686        0.02606106 0.1         150           \n",
       "23  6.237538       70    2686        0.02606106 0.1         150           \n",
       "24  5.643641       70    2686        0.02606106 0.1         150           \n",
       "25  5.164488       70    2686        0.02606106 0.1         150           \n",
       "26  4.356982       70    2686        0.02606106 0.1         150           \n",
       "27  4.021370       70    2686        0.02606106 0.1         150           \n",
       "28  3.703726       70    2686        0.02606106 0.1         150           \n",
       "29  3.121401       70    2686        0.02606106 0.1         150           \n",
       "30  2.913768       70    2686        0.02606106 0.1         150           \n",
       "31  2.704195       70    2686        0.02606106 0.1         150           \n",
       "32  2.660081       70    2686        0.02606106 0.1         150           \n",
       "33  2.410210       70    2686        0.02606106 0.1         150           \n",
       "34  1.910559       70    2686        0.02606106 0.1         150           \n",
       "35  1.857873       70    2686        0.02606106 0.1         150           \n",
       "36  1.688068       70    2686        0.02606106 0.1         150           \n",
       "37 18.552625       70    2686        0.02606106 0.1         150           \n",
       "38 18.267434       70    2686        0.02606106 0.1         150           \n",
       "39 13.938534       70    2686        0.02606106 0.1         150           \n",
       "40  7.962547       70    2686        0.02606106 0.1         150           \n",
       "41  6.237538       70    2686        0.02606106 0.1         150           \n",
       "42  5.643641       70    2686        0.02606106 0.1         150           \n",
       "43  5.164488       70    2686        0.02606106 0.1         150           \n",
       "44  4.356982       70    2686        0.02606106 0.1         150           \n",
       "45  4.021370       70    2686        0.02606106 0.1         150           \n",
       "46  3.703726       70    2686        0.02606106 0.1         150           \n",
       "47  3.121401       70    2686        0.02606106 0.1         150           \n",
       "48  2.913768       70    2686        0.02606106 0.1         150           \n",
       "49  2.704195       70    2686        0.02606106 0.1         150           \n",
       "50  2.660081       70    2686        0.02606106 0.1         150           \n",
       "51  2.410210       70    2686        0.02606106 0.1         150           \n",
       "52  1.910559       70    2686        0.02606106 0.1         150           \n",
       "53  1.857873       70    2686        0.02606106 0.1         150           \n",
       "54  1.688068       70    2686        0.02606106 0.1         150           \n",
       "   n_cells_valid\n",
       "1  FALSE        \n",
       "2  FALSE        \n",
       "3  FALSE        \n",
       "4  FALSE        \n",
       "5  FALSE        \n",
       "6  FALSE        \n",
       "7  FALSE        \n",
       "8  FALSE        \n",
       "9  FALSE        \n",
       "10 FALSE        \n",
       "11 FALSE        \n",
       "12 FALSE        \n",
       "13 FALSE        \n",
       "14 FALSE        \n",
       "15 FALSE        \n",
       "16 FALSE        \n",
       "17 FALSE        \n",
       "18 FALSE        \n",
       "19 FALSE        \n",
       "20 FALSE        \n",
       "21 FALSE        \n",
       "22 FALSE        \n",
       "23 FALSE        \n",
       "24 FALSE        \n",
       "25 FALSE        \n",
       "26 FALSE        \n",
       "27 FALSE        \n",
       "28 FALSE        \n",
       "29 FALSE        \n",
       "30 FALSE        \n",
       "31 FALSE        \n",
       "32 FALSE        \n",
       "33 FALSE        \n",
       "34 FALSE        \n",
       "35 FALSE        \n",
       "36 FALSE        \n",
       "37 FALSE        \n",
       "38 FALSE        \n",
       "39 FALSE        \n",
       "40 FALSE        \n",
       "41 FALSE        \n",
       "42 FALSE        \n",
       "43 FALSE        \n",
       "44 FALSE        \n",
       "45 FALSE        \n",
       "46 FALSE        \n",
       "47 FALSE        \n",
       "48 FALSE        \n",
       "49 FALSE        \n",
       "50 FALSE        \n",
       "51 FALSE        \n",
       "52 FALSE        \n",
       "53 FALSE        \n",
       "54 FALSE        "
      ]
     },
     "metadata": {},
     "output_type": "display_data"
    }
   ],
   "source": [
    "combined_deg_seurat %>% \n",
    "filter(cluster == 'Irx5__Lmx1a')"
   ]
  },
  {
   "cell_type": "code",
   "execution_count": 192,
   "id": "4f357b39",
   "metadata": {},
   "outputs": [
    {
     "data": {
      "text/html": [
       "<table class=\"dataframe\">\n",
       "<caption>A tibble: 10 × 2</caption>\n",
       "<thead>\n",
       "\t<tr><th scope=col>cluster</th><th scope=col>class</th></tr>\n",
       "\t<tr><th scope=col>&lt;chr&gt;</th><th scope=col>&lt;chr&gt;</th></tr>\n",
       "</thead>\n",
       "<tbody>\n",
       "\t<tr><td>g1    </td><td>NA</td></tr>\n",
       "\t<tr><td>g2    </td><td>NA</td></tr>\n",
       "\t<tr><td>g3    </td><td>NA</td></tr>\n",
       "\t<tr><td>n0    </td><td>NA</td></tr>\n",
       "\t<tr><td>n1    </td><td>NA</td></tr>\n",
       "\t<tr><td>n2    </td><td>NA</td></tr>\n",
       "\t<tr><td>n3    </td><td>NA</td></tr>\n",
       "\t<tr><td>n5    </td><td>NA</td></tr>\n",
       "\t<tr><td>neuron</td><td>NA</td></tr>\n",
       "\t<tr><td>other </td><td>NA</td></tr>\n",
       "</tbody>\n",
       "</table>\n"
      ],
      "text/latex": [
       "A tibble: 10 × 2\n",
       "\\begin{tabular}{ll}\n",
       " cluster & class\\\\\n",
       " <chr> & <chr>\\\\\n",
       "\\hline\n",
       "\t g1     & NA\\\\\n",
       "\t g2     & NA\\\\\n",
       "\t g3     & NA\\\\\n",
       "\t n0     & NA\\\\\n",
       "\t n1     & NA\\\\\n",
       "\t n2     & NA\\\\\n",
       "\t n3     & NA\\\\\n",
       "\t n5     & NA\\\\\n",
       "\t neuron & NA\\\\\n",
       "\t other  & NA\\\\\n",
       "\\end{tabular}\n"
      ],
      "text/markdown": [
       "\n",
       "A tibble: 10 × 2\n",
       "\n",
       "| cluster &lt;chr&gt; | class &lt;chr&gt; |\n",
       "|---|---|\n",
       "| g1     | NA |\n",
       "| g2     | NA |\n",
       "| g3     | NA |\n",
       "| n0     | NA |\n",
       "| n1     | NA |\n",
       "| n2     | NA |\n",
       "| n3     | NA |\n",
       "| n5     | NA |\n",
       "| neuron | NA |\n",
       "| other  | NA |\n",
       "\n"
      ],
      "text/plain": [
       "   cluster class\n",
       "1  g1      NA   \n",
       "2  g2      NA   \n",
       "3  g3      NA   \n",
       "4  n0      NA   \n",
       "5  n1      NA   \n",
       "6  n2      NA   \n",
       "7  n3      NA   \n",
       "8  n5      NA   \n",
       "9  neuron  NA   \n",
       "10 other   NA   "
      ]
     },
     "metadata": {},
     "output_type": "display_data"
    }
   ],
   "source": [
    "combined_deg_seurat %>%\n",
    "distinct(cluster, class) %>%\n",
    "filter(is.na(class))"
   ]
  },
  {
   "cell_type": "code",
   "execution_count": null,
   "id": "ab3e0594",
   "metadata": {},
   "outputs": [],
   "source": []
  },
  {
   "cell_type": "code",
   "execution_count": 193,
   "id": "23bc2017",
   "metadata": {},
   "outputs": [],
   "source": [
    "combined_deg_seurat %>% write_xlsx('_targets_nhBulkDESeq/combined_deg_seurat_d5_d14_nhBulkDESeq.xlsx')"
   ]
  },
  {
   "cell_type": "code",
   "execution_count": null,
   "id": "f72185c9",
   "metadata": {},
   "outputs": [],
   "source": []
  },
  {
   "cell_type": "code",
   "execution_count": null,
   "id": "434344dc",
   "metadata": {},
   "outputs": [],
   "source": []
  },
  {
   "cell_type": "code",
   "execution_count": null,
   "id": "723faafe",
   "metadata": {},
   "outputs": [],
   "source": []
  },
  {
   "cell_type": "code",
   "execution_count": null,
   "id": "b2ed5441",
   "metadata": {},
   "outputs": [],
   "source": []
  },
  {
   "cell_type": "code",
   "execution_count": null,
   "id": "b5b93ab4",
   "metadata": {},
   "outputs": [],
   "source": []
  },
  {
   "cell_type": "code",
   "execution_count": null,
   "id": "245b158d",
   "metadata": {},
   "outputs": [],
   "source": []
  },
  {
   "cell_type": "code",
   "execution_count": null,
   "id": "a3e376cf",
   "metadata": {},
   "outputs": [],
   "source": []
  },
  {
   "cell_type": "code",
   "execution_count": null,
   "id": "1b864a90",
   "metadata": {},
   "outputs": [],
   "source": []
  },
  {
   "cell_type": "code",
   "execution_count": null,
   "id": "bd4c8119",
   "metadata": {},
   "outputs": [],
   "source": []
  },
  {
   "cell_type": "code",
   "execution_count": null,
   "id": "6c9a6cff",
   "metadata": {},
   "outputs": [],
   "source": []
  }
 ],
 "metadata": {
  "kernelspec": {
   "display_name": "R [conda env:fgf1]",
   "language": "R",
   "name": "conda-env-fgf1-r"
  },
  "language_info": {
   "codemirror_mode": "r",
   "file_extension": ".r",
   "mimetype": "text/x-r-source",
   "name": "R",
   "pygments_lexer": "r",
   "version": "4.1.3"
  }
 },
 "nbformat": 4,
 "nbformat_minor": 5
}
