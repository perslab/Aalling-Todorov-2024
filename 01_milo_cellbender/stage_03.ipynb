{
 "cells": [
  {
   "cell_type": "code",
   "execution_count": 15,
   "id": "bc0ad20b",
   "metadata": {},
   "outputs": [],
   "source": [
    "library(tidyverse)\n",
    "library(targets)\n",
    "library(tarchetypes)"
   ]
  },
  {
   "cell_type": "code",
   "execution_count": 16,
   "id": "0bbabf9b",
   "metadata": {},
   "outputs": [],
   "source": [
    "combination_recipe = qs::qread(\"combination_recipe.qs\")"
   ]
  },
  {
   "cell_type": "code",
   "execution_count": 17,
   "id": "396fbd89",
   "metadata": {},
   "outputs": [
    {
     "data": {
      "text/html": [
       "<table class=\"dataframe\">\n",
       "<caption>A tibble: 4 × 4</caption>\n",
       "<thead>\n",
       "\t<tr><th scope=col>output_name</th><th scope=col>output_suffix</th><th scope=col>day</th><th scope=col>contrast_name</th></tr>\n",
       "\t<tr><th scope=col>&lt;chr&gt;</th><th scope=col>&lt;chr&gt;</th><th scope=col>&lt;chr&gt;</th><th scope=col>&lt;chr&gt;</th></tr>\n",
       "</thead>\n",
       "<tbody>\n",
       "\t<tr><td>combined_da_results_Day14.obob14v14 </td><td>Day14.obob14v14 </td><td>Day14</td><td>obob14v14 </td></tr>\n",
       "\t<tr><td>combined_da_results_Day14.obobBL6d14</td><td>Day14.obobBL6d14</td><td>Day14</td><td>obobBL6d14</td></tr>\n",
       "\t<tr><td>combined_da_results_Day5.obob5v5    </td><td>Day5.obob5v5    </td><td>Day5 </td><td>obob5v5   </td></tr>\n",
       "\t<tr><td>combined_da_results_Day5.obobBL6d5  </td><td>Day5.obobBL6d5  </td><td>Day5 </td><td>obobBL6d5 </td></tr>\n",
       "</tbody>\n",
       "</table>\n"
      ],
      "text/latex": [
       "A tibble: 4 × 4\n",
       "\\begin{tabular}{llll}\n",
       " output\\_name & output\\_suffix & day & contrast\\_name\\\\\n",
       " <chr> & <chr> & <chr> & <chr>\\\\\n",
       "\\hline\n",
       "\t combined\\_da\\_results\\_Day14.obob14v14  & Day14.obob14v14  & Day14 & obob14v14 \\\\\n",
       "\t combined\\_da\\_results\\_Day14.obobBL6d14 & Day14.obobBL6d14 & Day14 & obobBL6d14\\\\\n",
       "\t combined\\_da\\_results\\_Day5.obob5v5     & Day5.obob5v5     & Day5  & obob5v5   \\\\\n",
       "\t combined\\_da\\_results\\_Day5.obobBL6d5   & Day5.obobBL6d5   & Day5  & obobBL6d5 \\\\\n",
       "\\end{tabular}\n"
      ],
      "text/markdown": [
       "\n",
       "A tibble: 4 × 4\n",
       "\n",
       "| output_name &lt;chr&gt; | output_suffix &lt;chr&gt; | day &lt;chr&gt; | contrast_name &lt;chr&gt; |\n",
       "|---|---|---|---|\n",
       "| combined_da_results_Day14.obob14v14  | Day14.obob14v14  | Day14 | obob14v14  |\n",
       "| combined_da_results_Day14.obobBL6d14 | Day14.obobBL6d14 | Day14 | obobBL6d14 |\n",
       "| combined_da_results_Day5.obob5v5     | Day5.obob5v5     | Day5  | obob5v5    |\n",
       "| combined_da_results_Day5.obobBL6d5   | Day5.obobBL6d5   | Day5  | obobBL6d5  |\n",
       "\n"
      ],
      "text/plain": [
       "  output_name                          output_suffix    day   contrast_name\n",
       "1 combined_da_results_Day14.obob14v14  Day14.obob14v14  Day14 obob14v14    \n",
       "2 combined_da_results_Day14.obobBL6d14 Day14.obobBL6d14 Day14 obobBL6d14   \n",
       "3 combined_da_results_Day5.obob5v5     Day5.obob5v5     Day5  obob5v5      \n",
       "4 combined_da_results_Day5.obobBL6d5   Day5.obobBL6d5   Day5  obobBL6d5    "
      ]
     },
     "metadata": {},
     "output_type": "display_data"
    }
   ],
   "source": [
    "combination_recipe = combination_recipe %>% select(output_name, output_suffix, day, contrast_name) %>% filter(str_detect(output_name, 'da_results'))\n",
    "combination_recipe"
   ]
  },
  {
   "cell_type": "code",
   "execution_count": 18,
   "id": "07ef5afd",
   "metadata": {},
   "outputs": [],
   "source": [
    "fgf1_contrasts = combination_recipe %>%\n",
    "    filter(contrast_name %in% c(\"obob5v5\", \"obob14v14\"))\n",
    "colnames(fgf1_contrasts) = paste0(colnames(fgf1_contrasts), '.fgf1')\n",
    "\n",
    "bl6_contrasts = combination_recipe %>%\n",
    "    filter(contrast_name %in% c(\"obobBL6\", \"obobBL6d5\", \"obobBL6d14\", \"obob5vBL6\", \"obob14vBL6\"))\n",
    "colnames(bl6_contrasts) = paste0(colnames(bl6_contrasts), '.BL6')"
   ]
  },
  {
   "cell_type": "code",
   "execution_count": null,
   "id": "b7ed39fe",
   "metadata": {},
   "outputs": [],
   "source": []
  },
  {
   "cell_type": "code",
   "execution_count": 19,
   "id": "49a315a7",
   "metadata": {},
   "outputs": [
    {
     "data": {
      "text/html": [
       "<table class=\"dataframe\">\n",
       "<caption>A tibble: 2 × 11</caption>\n",
       "<thead>\n",
       "\t<tr><th scope=col>restored_suffix</th><th scope=col>output_obj.fgf1</th><th scope=col>output_obj.BL6</th><th scope=col>output_name.fgf1</th><th scope=col>output_suffix.fgf1</th><th scope=col>day.fgf1</th><th scope=col>contrast_name.fgf1</th><th scope=col>output_name.BL6</th><th scope=col>output_suffix.BL6</th><th scope=col>day.BL6</th><th scope=col>contrast_name.BL6</th></tr>\n",
       "\t<tr><th scope=col>&lt;chr&gt;</th><th scope=col>&lt;list&gt;</th><th scope=col>&lt;list&gt;</th><th scope=col>&lt;chr&gt;</th><th scope=col>&lt;chr&gt;</th><th scope=col>&lt;chr&gt;</th><th scope=col>&lt;chr&gt;</th><th scope=col>&lt;chr&gt;</th><th scope=col>&lt;chr&gt;</th><th scope=col>&lt;chr&gt;</th><th scope=col>&lt;chr&gt;</th></tr>\n",
       "</thead>\n",
       "<tbody>\n",
       "\t<tr><td>Day14.obob14v14__v__Day14.obobBL6d14</td><td>combined_da_results_Day14.obob14v14</td><td>combined_da_results_Day14.obobBL6d14</td><td>combined_da_results_Day14.obob14v14</td><td>Day14.obob14v14</td><td>Day14</td><td>obob14v14</td><td>combined_da_results_Day14.obobBL6d14</td><td>Day14.obobBL6d14</td><td>Day14</td><td>obobBL6d14</td></tr>\n",
       "\t<tr><td>Day5.obob5v5__v__Day5.obobBL6d5     </td><td>combined_da_results_Day5.obob5v5</td><td>combined_da_results_Day5.obobBL6d5</td><td>combined_da_results_Day5.obob5v5   </td><td>Day5.obob5v5   </td><td>Day5 </td><td>obob5v5  </td><td>combined_da_results_Day5.obobBL6d5  </td><td>Day5.obobBL6d5  </td><td>Day5 </td><td>obobBL6d5 </td></tr>\n",
       "</tbody>\n",
       "</table>\n"
      ],
      "text/latex": [
       "A tibble: 2 × 11\n",
       "\\begin{tabular}{lllllllllll}\n",
       " restored\\_suffix & output\\_obj.fgf1 & output\\_obj.BL6 & output\\_name.fgf1 & output\\_suffix.fgf1 & day.fgf1 & contrast\\_name.fgf1 & output\\_name.BL6 & output\\_suffix.BL6 & day.BL6 & contrast\\_name.BL6\\\\\n",
       " <chr> & <list> & <list> & <chr> & <chr> & <chr> & <chr> & <chr> & <chr> & <chr> & <chr>\\\\\n",
       "\\hline\n",
       "\t Day14.obob14v14\\_\\_v\\_\\_Day14.obobBL6d14 & combined\\_da\\_results\\_Day14.obob14v14 & combined\\_da\\_results\\_Day14.obobBL6d14 & combined\\_da\\_results\\_Day14.obob14v14 & Day14.obob14v14 & Day14 & obob14v14 & combined\\_da\\_results\\_Day14.obobBL6d14 & Day14.obobBL6d14 & Day14 & obobBL6d14\\\\\n",
       "\t Day5.obob5v5\\_\\_v\\_\\_Day5.obobBL6d5      & combined\\_da\\_results\\_Day5.obob5v5 & combined\\_da\\_results\\_Day5.obobBL6d5 & combined\\_da\\_results\\_Day5.obob5v5    & Day5.obob5v5    & Day5  & obob5v5   & combined\\_da\\_results\\_Day5.obobBL6d5   & Day5.obobBL6d5   & Day5  & obobBL6d5 \\\\\n",
       "\\end{tabular}\n"
      ],
      "text/markdown": [
       "\n",
       "A tibble: 2 × 11\n",
       "\n",
       "| restored_suffix &lt;chr&gt; | output_obj.fgf1 &lt;list&gt; | output_obj.BL6 &lt;list&gt; | output_name.fgf1 &lt;chr&gt; | output_suffix.fgf1 &lt;chr&gt; | day.fgf1 &lt;chr&gt; | contrast_name.fgf1 &lt;chr&gt; | output_name.BL6 &lt;chr&gt; | output_suffix.BL6 &lt;chr&gt; | day.BL6 &lt;chr&gt; | contrast_name.BL6 &lt;chr&gt; |\n",
       "|---|---|---|---|---|---|---|---|---|---|---|\n",
       "| Day14.obob14v14__v__Day14.obobBL6d14 | combined_da_results_Day14.obob14v14 | combined_da_results_Day14.obobBL6d14 | combined_da_results_Day14.obob14v14 | Day14.obob14v14 | Day14 | obob14v14 | combined_da_results_Day14.obobBL6d14 | Day14.obobBL6d14 | Day14 | obobBL6d14 |\n",
       "| Day5.obob5v5__v__Day5.obobBL6d5      | combined_da_results_Day5.obob5v5 | combined_da_results_Day5.obobBL6d5 | combined_da_results_Day5.obob5v5    | Day5.obob5v5    | Day5  | obob5v5   | combined_da_results_Day5.obobBL6d5   | Day5.obobBL6d5   | Day5  | obobBL6d5  |\n",
       "\n"
      ],
      "text/plain": [
       "  restored_suffix                      output_obj.fgf1                    \n",
       "1 Day14.obob14v14__v__Day14.obobBL6d14 combined_da_results_Day14.obob14v14\n",
       "2 Day5.obob5v5__v__Day5.obobBL6d5      combined_da_results_Day5.obob5v5   \n",
       "  output_obj.BL6                       output_name.fgf1                   \n",
       "1 combined_da_results_Day14.obobBL6d14 combined_da_results_Day14.obob14v14\n",
       "2 combined_da_results_Day5.obobBL6d5   combined_da_results_Day5.obob5v5   \n",
       "  output_suffix.fgf1 day.fgf1 contrast_name.fgf1\n",
       "1 Day14.obob14v14    Day14    obob14v14         \n",
       "2 Day5.obob5v5       Day5     obob5v5           \n",
       "  output_name.BL6                      output_suffix.BL6 day.BL6\n",
       "1 combined_da_results_Day14.obobBL6d14 Day14.obobBL6d14  Day14  \n",
       "2 combined_da_results_Day5.obobBL6d5   Day5.obobBL6d5    Day5   \n",
       "  contrast_name.BL6\n",
       "1 obobBL6d14       \n",
       "2 obobBL6d5        "
      ]
     },
     "metadata": {},
     "output_type": "display_data"
    }
   ],
   "source": [
    "restored_recipe = tidyr::crossing(fgf1_contrasts, bl6_contrasts) %>%\n",
    "filter(day.fgf1 == day.BL6) %>%\n",
    "mutate(restored_suffix= paste0(output_suffix.fgf1, '__v__', output_suffix.BL6)) %>%\n",
    "mutate(output_obj.BL6 = rlang::syms(output_name.BL6)) %>%\n",
    "mutate(output_obj.fgf1 = rlang::syms(output_name.fgf1)) %>%\n",
    "relocate(restored_suffix, output_obj.fgf1, output_obj.BL6)\n",
    "\n",
    "\n",
    "qs::qsave(restored_recipe, \"restored_recipe.qs\")\n",
    "restored_recipe"
   ]
  },
  {
   "cell_type": "code",
   "execution_count": null,
   "id": "d6f0b7ab",
   "metadata": {},
   "outputs": [],
   "source": []
  }
 ],
 "metadata": {
  "kernelspec": {
   "display_name": "R [conda env:fgf1]",
   "language": "R",
   "name": "conda-env-fgf1-r"
  },
  "language_info": {
   "codemirror_mode": "r",
   "file_extension": ".r",
   "mimetype": "text/x-r-source",
   "name": "R",
   "pygments_lexer": "r",
   "version": "4.1.3"
  }
 },
 "nbformat": 4,
 "nbformat_minor": 5
}
