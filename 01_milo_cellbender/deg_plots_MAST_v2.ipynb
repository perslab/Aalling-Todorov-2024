{
 "cells": [
  {
   "cell_type": "code",
   "execution_count": 12,
   "id": "ccc32275",
   "metadata": {},
   "outputs": [],
   "source": [
    "## library(igraph)\n",
    "library(Seurat)\n",
    "library(tidyverse)\n",
    "library(ggplot2)\n",
    "library(ggrepel)\n",
    "library(ggbeeswarm)\n",
    "library(patchwork)\n",
    "library(writexl)\n",
    "options(ggrepel.max.overlaps = Inf)"
   ]
  },
  {
   "cell_type": "code",
   "execution_count": null,
   "id": "50562482",
   "metadata": {},
   "outputs": [],
   "source": []
  },
  {
   "cell_type": "code",
   "execution_count": 13,
   "id": "379ef653",
   "metadata": {
    "scrolled": true
   },
   "outputs": [
    {
     "data": {
      "text/html": [
       "<table class=\"dataframe\">\n",
       "<caption>A tibble: 1 × 27</caption>\n",
       "<thead>\n",
       "\t<tr><th scope=col>tag</th><th scope=col>data_day</th><th scope=col>cluster</th><th scope=col>fgf1_day</th><th scope=col>fgf1_comparison</th><th scope=col>bl6_day</th><th scope=col>bl6_comparison</th><th scope=col>grouping</th><th scope=col>cells_a</th><th scope=col>cells_b</th><th scope=col>⋯</th><th scope=col>recall</th><th scope=col>term_id</th><th scope=col>source</th><th scope=col>term_name</th><th scope=col>effective_domain_size</th><th scope=col>source_order</th><th scope=col>parents</th><th scope=col>evidence_codes</th><th scope=col>intersection</th><th scope=col>gene_ids</th></tr>\n",
       "\t<tr><th scope=col>&lt;chr&gt;</th><th scope=col>&lt;chr&gt;</th><th scope=col>&lt;chr&gt;</th><th scope=col>&lt;chr&gt;</th><th scope=col>&lt;chr&gt;</th><th scope=col>&lt;chr&gt;</th><th scope=col>&lt;chr&gt;</th><th scope=col>&lt;chr&gt;</th><th scope=col>&lt;chr&gt;</th><th scope=col>&lt;chr&gt;</th><th scope=col>⋯</th><th scope=col>&lt;dbl&gt;</th><th scope=col>&lt;chr&gt;</th><th scope=col>&lt;chr&gt;</th><th scope=col>&lt;chr&gt;</th><th scope=col>&lt;int&gt;</th><th scope=col>&lt;int&gt;</th><th scope=col>&lt;list&gt;</th><th scope=col>&lt;chr&gt;</th><th scope=col>&lt;chr&gt;</th><th scope=col>&lt;chr&gt;</th></tr>\n",
       "</thead>\n",
       "<tbody>\n",
       "\t<tr><td>Agrp___Day14.obob14v14__v__Day14.obobBL6d14___bl6_grouping.neg_vs_none</td><td>all</td><td>Agrp</td><td>Day14</td><td>obob14v14</td><td>Day14</td><td>obobBL6d14</td><td>bl6_grouping</td><td>neg</td><td>none</td><td>⋯</td><td>0.1</td><td>GO:0034110</td><td>GO:BP</td><td>regulation of homotypic cell-cell adhesion</td><td>26856</td><td>8802</td><td>GO:0022407, GO:0034109</td><td>IEA,IMP,ISO,ISO</td><td>ENSMUSG00000028530,ENSMUSG00000032020,ENSMUSG00000068220,ENSMUSG00000027947</td><td>Jak1,Ubash3b,Lgals1,Il6ra</td></tr>\n",
       "</tbody>\n",
       "</table>\n"
      ],
      "text/latex": [
       "A tibble: 1 × 27\n",
       "\\begin{tabular}{lllllllllllllllllllll}\n",
       " tag & data\\_day & cluster & fgf1\\_day & fgf1\\_comparison & bl6\\_day & bl6\\_comparison & grouping & cells\\_a & cells\\_b & ⋯ & recall & term\\_id & source & term\\_name & effective\\_domain\\_size & source\\_order & parents & evidence\\_codes & intersection & gene\\_ids\\\\\n",
       " <chr> & <chr> & <chr> & <chr> & <chr> & <chr> & <chr> & <chr> & <chr> & <chr> & ⋯ & <dbl> & <chr> & <chr> & <chr> & <int> & <int> & <list> & <chr> & <chr> & <chr>\\\\\n",
       "\\hline\n",
       "\t Agrp\\_\\_\\_Day14.obob14v14\\_\\_v\\_\\_Day14.obobBL6d14\\_\\_\\_bl6\\_grouping.neg\\_vs\\_none & all & Agrp & Day14 & obob14v14 & Day14 & obobBL6d14 & bl6\\_grouping & neg & none & ⋯ & 0.1 & GO:0034110 & GO:BP & regulation of homotypic cell-cell adhesion & 26856 & 8802 & GO:0022407, GO:0034109 & IEA,IMP,ISO,ISO & ENSMUSG00000028530,ENSMUSG00000032020,ENSMUSG00000068220,ENSMUSG00000027947 & Jak1,Ubash3b,Lgals1,Il6ra\\\\\n",
       "\\end{tabular}\n"
      ],
      "text/markdown": [
       "\n",
       "A tibble: 1 × 27\n",
       "\n",
       "| tag &lt;chr&gt; | data_day &lt;chr&gt; | cluster &lt;chr&gt; | fgf1_day &lt;chr&gt; | fgf1_comparison &lt;chr&gt; | bl6_day &lt;chr&gt; | bl6_comparison &lt;chr&gt; | grouping &lt;chr&gt; | cells_a &lt;chr&gt; | cells_b &lt;chr&gt; | ⋯ ⋯ | recall &lt;dbl&gt; | term_id &lt;chr&gt; | source &lt;chr&gt; | term_name &lt;chr&gt; | effective_domain_size &lt;int&gt; | source_order &lt;int&gt; | parents &lt;list&gt; | evidence_codes &lt;chr&gt; | intersection &lt;chr&gt; | gene_ids &lt;chr&gt; |\n",
       "|---|---|---|---|---|---|---|---|---|---|---|---|---|---|---|---|---|---|---|---|---|\n",
       "| Agrp___Day14.obob14v14__v__Day14.obobBL6d14___bl6_grouping.neg_vs_none | all | Agrp | Day14 | obob14v14 | Day14 | obobBL6d14 | bl6_grouping | neg | none | ⋯ | 0.1 | GO:0034110 | GO:BP | regulation of homotypic cell-cell adhesion | 26856 | 8802 | GO:0022407, GO:0034109 | IEA,IMP,ISO,ISO | ENSMUSG00000028530,ENSMUSG00000032020,ENSMUSG00000068220,ENSMUSG00000027947 | Jak1,Ubash3b,Lgals1,Il6ra |\n",
       "\n"
      ],
      "text/plain": [
       "  tag                                                                   \n",
       "1 Agrp___Day14.obob14v14__v__Day14.obobBL6d14___bl6_grouping.neg_vs_none\n",
       "  data_day cluster fgf1_day fgf1_comparison bl6_day bl6_comparison grouping    \n",
       "1 all      Agrp    Day14    obob14v14       Day14   obobBL6d14     bl6_grouping\n",
       "  cells_a cells_b ⋯ recall term_id    source\n",
       "1 neg     none    ⋯ 0.1    GO:0034110 GO:BP \n",
       "  term_name                                  effective_domain_size source_order\n",
       "1 regulation of homotypic cell-cell adhesion 26856                 8802        \n",
       "  parents                evidence_codes \n",
       "1 GO:0022407, GO:0034109 IEA,IMP,ISO,ISO\n",
       "  intersection                                                               \n",
       "1 ENSMUSG00000028530,ENSMUSG00000032020,ENSMUSG00000068220,ENSMUSG00000027947\n",
       "  gene_ids                 \n",
       "1 Jak1,Ubash3b,Lgals1,Il6ra"
      ]
     },
     "metadata": {},
     "output_type": "display_data"
    }
   ],
   "source": [
    "cgsf_all = qs::qread('_targets_MAST_v2/objects/combined_gost_seurat_formatted')\n",
    "cgsf_all %>% head(1)"
   ]
  },
  {
   "cell_type": "code",
   "execution_count": 14,
   "id": "8fd5cd97",
   "metadata": {},
   "outputs": [
    {
     "data": {
      "text/html": [
       "<table class=\"dataframe\">\n",
       "<caption>A tibble: 6 × 18</caption>\n",
       "<thead>\n",
       "\t<tr><th scope=col>tag</th><th scope=col>data_day</th><th scope=col>cluster</th><th scope=col>fgf1_day</th><th scope=col>fgf1_comparison</th><th scope=col>bl6_day</th><th scope=col>bl6_comparison</th><th scope=col>grouping</th><th scope=col>cells_a</th><th scope=col>cells_b</th><th scope=col>GeneID</th><th scope=col>p_val</th><th scope=col>avg_log2FC</th><th scope=col>pct.1</th><th scope=col>pct.2</th><th scope=col>p_val_adj</th><th scope=col>ensmusg</th><th scope=col>gsea_sort_score</th></tr>\n",
       "\t<tr><th scope=col>&lt;chr&gt;</th><th scope=col>&lt;chr&gt;</th><th scope=col>&lt;chr&gt;</th><th scope=col>&lt;chr&gt;</th><th scope=col>&lt;chr&gt;</th><th scope=col>&lt;chr&gt;</th><th scope=col>&lt;chr&gt;</th><th scope=col>&lt;chr&gt;</th><th scope=col>&lt;chr&gt;</th><th scope=col>&lt;chr&gt;</th><th scope=col>&lt;chr&gt;</th><th scope=col>&lt;dbl&gt;</th><th scope=col>&lt;dbl&gt;</th><th scope=col>&lt;dbl&gt;</th><th scope=col>&lt;dbl&gt;</th><th scope=col>&lt;dbl&gt;</th><th scope=col>&lt;chr&gt;</th><th scope=col>&lt;dbl&gt;</th></tr>\n",
       "</thead>\n",
       "<tbody>\n",
       "\t<tr><td>Agrp___Day14.obob14v14__v__Day14.obobBL6d14___bl6_grouping.neg_vs_none</td><td>all</td><td>Agrp</td><td>Day14</td><td>obob14v14</td><td>Day14</td><td>obobBL6d14</td><td>bl6_grouping</td><td>neg</td><td>none</td><td>Gm42951</td><td>1.877929e-10</td><td>7.237739</td><td>0.804</td><td>0.086</td><td>1.877929e-06</td><td>ENSMUSG00000105254</td><td>41.445614</td></tr>\n",
       "\t<tr><td>Agrp___Day14.obob14v14__v__Day14.obobBL6d14___bl6_grouping.neg_vs_none</td><td>all</td><td>Agrp</td><td>Day14</td><td>obob14v14</td><td>Day14</td><td>obobBL6d14</td><td>bl6_grouping</td><td>neg</td><td>none</td><td>Atp5o  </td><td>8.617446e-08</td><td>6.573415</td><td>0.854</td><td>0.189</td><td>8.617446e-04</td><td>ENSMUSG00000022956</td><td>20.145027</td></tr>\n",
       "\t<tr><td>Agrp___Day14.obob14v14__v__Day14.obobBL6d14___bl6_grouping.neg_vs_none</td><td>all</td><td>Agrp</td><td>Day14</td><td>obob14v14</td><td>Day14</td><td>obobBL6d14</td><td>bl6_grouping</td><td>neg</td><td>none</td><td>Ttc9b  </td><td>8.071365e-08</td><td>3.617048</td><td>0.856</td><td>0.286</td><td>8.071365e-04</td><td>ENSMUSG00000007944</td><td>11.187721</td></tr>\n",
       "\t<tr><td>Agrp___Day14.obob14v14__v__Day14.obobBL6d14___bl6_grouping.neg_vs_none</td><td>all</td><td>Agrp</td><td>Day14</td><td>obob14v14</td><td>Day14</td><td>obobBL6d14</td><td>bl6_grouping</td><td>neg</td><td>none</td><td>Popdc2 </td><td>2.160502e-06</td><td>6.623428</td><td>0.856</td><td>0.246</td><td>2.160502e-02</td><td>ENSMUSG00000022803</td><td>11.030956</td></tr>\n",
       "\t<tr><td>Agrp___Day14.obob14v14__v__Day14.obobBL6d14___bl6_grouping.neg_vs_none</td><td>all</td><td>Agrp</td><td>Day14</td><td>obob14v14</td><td>Day14</td><td>obobBL6d14</td><td>bl6_grouping</td><td>neg</td><td>none</td><td>Cav2   </td><td>1.291518e-09</td><td>2.182259</td><td>0.631</td><td>0.011</td><td>1.291518e-05</td><td>ENSMUSG00000000058</td><td>10.668847</td></tr>\n",
       "\t<tr><td>Agrp___Day14.obob14v14__v__Day14.obobBL6d14___bl6_grouping.neg_vs_none</td><td>all</td><td>Agrp</td><td>Day14</td><td>obob14v14</td><td>Day14</td><td>obobBL6d14</td><td>bl6_grouping</td><td>neg</td><td>none</td><td>Inpp4b </td><td>4.017654e-10</td><td>1.692633</td><td>0.986</td><td>0.960</td><td>4.017654e-06</td><td>ENSMUSG00000037940</td><td> 9.133495</td></tr>\n",
       "</tbody>\n",
       "</table>\n"
      ],
      "text/latex": [
       "A tibble: 6 × 18\n",
       "\\begin{tabular}{llllllllllllllllll}\n",
       " tag & data\\_day & cluster & fgf1\\_day & fgf1\\_comparison & bl6\\_day & bl6\\_comparison & grouping & cells\\_a & cells\\_b & GeneID & p\\_val & avg\\_log2FC & pct.1 & pct.2 & p\\_val\\_adj & ensmusg & gsea\\_sort\\_score\\\\\n",
       " <chr> & <chr> & <chr> & <chr> & <chr> & <chr> & <chr> & <chr> & <chr> & <chr> & <chr> & <dbl> & <dbl> & <dbl> & <dbl> & <dbl> & <chr> & <dbl>\\\\\n",
       "\\hline\n",
       "\t Agrp\\_\\_\\_Day14.obob14v14\\_\\_v\\_\\_Day14.obobBL6d14\\_\\_\\_bl6\\_grouping.neg\\_vs\\_none & all & Agrp & Day14 & obob14v14 & Day14 & obobBL6d14 & bl6\\_grouping & neg & none & Gm42951 & 1.877929e-10 & 7.237739 & 0.804 & 0.086 & 1.877929e-06 & ENSMUSG00000105254 & 41.445614\\\\\n",
       "\t Agrp\\_\\_\\_Day14.obob14v14\\_\\_v\\_\\_Day14.obobBL6d14\\_\\_\\_bl6\\_grouping.neg\\_vs\\_none & all & Agrp & Day14 & obob14v14 & Day14 & obobBL6d14 & bl6\\_grouping & neg & none & Atp5o   & 8.617446e-08 & 6.573415 & 0.854 & 0.189 & 8.617446e-04 & ENSMUSG00000022956 & 20.145027\\\\\n",
       "\t Agrp\\_\\_\\_Day14.obob14v14\\_\\_v\\_\\_Day14.obobBL6d14\\_\\_\\_bl6\\_grouping.neg\\_vs\\_none & all & Agrp & Day14 & obob14v14 & Day14 & obobBL6d14 & bl6\\_grouping & neg & none & Ttc9b   & 8.071365e-08 & 3.617048 & 0.856 & 0.286 & 8.071365e-04 & ENSMUSG00000007944 & 11.187721\\\\\n",
       "\t Agrp\\_\\_\\_Day14.obob14v14\\_\\_v\\_\\_Day14.obobBL6d14\\_\\_\\_bl6\\_grouping.neg\\_vs\\_none & all & Agrp & Day14 & obob14v14 & Day14 & obobBL6d14 & bl6\\_grouping & neg & none & Popdc2  & 2.160502e-06 & 6.623428 & 0.856 & 0.246 & 2.160502e-02 & ENSMUSG00000022803 & 11.030956\\\\\n",
       "\t Agrp\\_\\_\\_Day14.obob14v14\\_\\_v\\_\\_Day14.obobBL6d14\\_\\_\\_bl6\\_grouping.neg\\_vs\\_none & all & Agrp & Day14 & obob14v14 & Day14 & obobBL6d14 & bl6\\_grouping & neg & none & Cav2    & 1.291518e-09 & 2.182259 & 0.631 & 0.011 & 1.291518e-05 & ENSMUSG00000000058 & 10.668847\\\\\n",
       "\t Agrp\\_\\_\\_Day14.obob14v14\\_\\_v\\_\\_Day14.obobBL6d14\\_\\_\\_bl6\\_grouping.neg\\_vs\\_none & all & Agrp & Day14 & obob14v14 & Day14 & obobBL6d14 & bl6\\_grouping & neg & none & Inpp4b  & 4.017654e-10 & 1.692633 & 0.986 & 0.960 & 4.017654e-06 & ENSMUSG00000037940 &  9.133495\\\\\n",
       "\\end{tabular}\n"
      ],
      "text/markdown": [
       "\n",
       "A tibble: 6 × 18\n",
       "\n",
       "| tag &lt;chr&gt; | data_day &lt;chr&gt; | cluster &lt;chr&gt; | fgf1_day &lt;chr&gt; | fgf1_comparison &lt;chr&gt; | bl6_day &lt;chr&gt; | bl6_comparison &lt;chr&gt; | grouping &lt;chr&gt; | cells_a &lt;chr&gt; | cells_b &lt;chr&gt; | GeneID &lt;chr&gt; | p_val &lt;dbl&gt; | avg_log2FC &lt;dbl&gt; | pct.1 &lt;dbl&gt; | pct.2 &lt;dbl&gt; | p_val_adj &lt;dbl&gt; | ensmusg &lt;chr&gt; | gsea_sort_score &lt;dbl&gt; |\n",
       "|---|---|---|---|---|---|---|---|---|---|---|---|---|---|---|---|---|---|\n",
       "| Agrp___Day14.obob14v14__v__Day14.obobBL6d14___bl6_grouping.neg_vs_none | all | Agrp | Day14 | obob14v14 | Day14 | obobBL6d14 | bl6_grouping | neg | none | Gm42951 | 1.877929e-10 | 7.237739 | 0.804 | 0.086 | 1.877929e-06 | ENSMUSG00000105254 | 41.445614 |\n",
       "| Agrp___Day14.obob14v14__v__Day14.obobBL6d14___bl6_grouping.neg_vs_none | all | Agrp | Day14 | obob14v14 | Day14 | obobBL6d14 | bl6_grouping | neg | none | Atp5o   | 8.617446e-08 | 6.573415 | 0.854 | 0.189 | 8.617446e-04 | ENSMUSG00000022956 | 20.145027 |\n",
       "| Agrp___Day14.obob14v14__v__Day14.obobBL6d14___bl6_grouping.neg_vs_none | all | Agrp | Day14 | obob14v14 | Day14 | obobBL6d14 | bl6_grouping | neg | none | Ttc9b   | 8.071365e-08 | 3.617048 | 0.856 | 0.286 | 8.071365e-04 | ENSMUSG00000007944 | 11.187721 |\n",
       "| Agrp___Day14.obob14v14__v__Day14.obobBL6d14___bl6_grouping.neg_vs_none | all | Agrp | Day14 | obob14v14 | Day14 | obobBL6d14 | bl6_grouping | neg | none | Popdc2  | 2.160502e-06 | 6.623428 | 0.856 | 0.246 | 2.160502e-02 | ENSMUSG00000022803 | 11.030956 |\n",
       "| Agrp___Day14.obob14v14__v__Day14.obobBL6d14___bl6_grouping.neg_vs_none | all | Agrp | Day14 | obob14v14 | Day14 | obobBL6d14 | bl6_grouping | neg | none | Cav2    | 1.291518e-09 | 2.182259 | 0.631 | 0.011 | 1.291518e-05 | ENSMUSG00000000058 | 10.668847 |\n",
       "| Agrp___Day14.obob14v14__v__Day14.obobBL6d14___bl6_grouping.neg_vs_none | all | Agrp | Day14 | obob14v14 | Day14 | obobBL6d14 | bl6_grouping | neg | none | Inpp4b  | 4.017654e-10 | 1.692633 | 0.986 | 0.960 | 4.017654e-06 | ENSMUSG00000037940 |  9.133495 |\n",
       "\n"
      ],
      "text/plain": [
       "  tag                                                                   \n",
       "1 Agrp___Day14.obob14v14__v__Day14.obobBL6d14___bl6_grouping.neg_vs_none\n",
       "2 Agrp___Day14.obob14v14__v__Day14.obobBL6d14___bl6_grouping.neg_vs_none\n",
       "3 Agrp___Day14.obob14v14__v__Day14.obobBL6d14___bl6_grouping.neg_vs_none\n",
       "4 Agrp___Day14.obob14v14__v__Day14.obobBL6d14___bl6_grouping.neg_vs_none\n",
       "5 Agrp___Day14.obob14v14__v__Day14.obobBL6d14___bl6_grouping.neg_vs_none\n",
       "6 Agrp___Day14.obob14v14__v__Day14.obobBL6d14___bl6_grouping.neg_vs_none\n",
       "  data_day cluster fgf1_day fgf1_comparison bl6_day bl6_comparison grouping    \n",
       "1 all      Agrp    Day14    obob14v14       Day14   obobBL6d14     bl6_grouping\n",
       "2 all      Agrp    Day14    obob14v14       Day14   obobBL6d14     bl6_grouping\n",
       "3 all      Agrp    Day14    obob14v14       Day14   obobBL6d14     bl6_grouping\n",
       "4 all      Agrp    Day14    obob14v14       Day14   obobBL6d14     bl6_grouping\n",
       "5 all      Agrp    Day14    obob14v14       Day14   obobBL6d14     bl6_grouping\n",
       "6 all      Agrp    Day14    obob14v14       Day14   obobBL6d14     bl6_grouping\n",
       "  cells_a cells_b GeneID  p_val        avg_log2FC pct.1 pct.2 p_val_adj   \n",
       "1 neg     none    Gm42951 1.877929e-10 7.237739   0.804 0.086 1.877929e-06\n",
       "2 neg     none    Atp5o   8.617446e-08 6.573415   0.854 0.189 8.617446e-04\n",
       "3 neg     none    Ttc9b   8.071365e-08 3.617048   0.856 0.286 8.071365e-04\n",
       "4 neg     none    Popdc2  2.160502e-06 6.623428   0.856 0.246 2.160502e-02\n",
       "5 neg     none    Cav2    1.291518e-09 2.182259   0.631 0.011 1.291518e-05\n",
       "6 neg     none    Inpp4b  4.017654e-10 1.692633   0.986 0.960 4.017654e-06\n",
       "  ensmusg            gsea_sort_score\n",
       "1 ENSMUSG00000105254 41.445614      \n",
       "2 ENSMUSG00000022956 20.145027      \n",
       "3 ENSMUSG00000007944 11.187721      \n",
       "4 ENSMUSG00000022803 11.030956      \n",
       "5 ENSMUSG00000000058 10.668847      \n",
       "6 ENSMUSG00000037940  9.133495      "
      ]
     },
     "metadata": {},
     "output_type": "display_data"
    }
   ],
   "source": [
    "combined_deg_seurat_all = qs::qread('_targets_MAST_v2/objects/combined_deg_seurat_formatted')\n",
    "combined_deg_seurat_all %>% head"
   ]
  },
  {
   "cell_type": "code",
   "execution_count": 15,
   "id": "0b0958e6",
   "metadata": {},
   "outputs": [
    {
     "data": {
      "text/html": [
       "<table class=\"dataframe\">\n",
       "<caption>A tibble: 1 × 2</caption>\n",
       "<thead>\n",
       "\t<tr><th scope=col>fgf1_grouping</th><th scope=col>n</th></tr>\n",
       "\t<tr><th scope=col>&lt;chr&gt;</th><th scope=col>&lt;int&gt;</th></tr>\n",
       "</thead>\n",
       "<tbody>\n",
       "\t<tr><td>none</td><td>2123</td></tr>\n",
       "</tbody>\n",
       "</table>\n"
      ],
      "text/latex": [
       "A tibble: 1 × 2\n",
       "\\begin{tabular}{ll}\n",
       " fgf1\\_grouping & n\\\\\n",
       " <chr> & <int>\\\\\n",
       "\\hline\n",
       "\t none & 2123\\\\\n",
       "\\end{tabular}\n"
      ],
      "text/markdown": [
       "\n",
       "A tibble: 1 × 2\n",
       "\n",
       "| fgf1_grouping &lt;chr&gt; | n &lt;int&gt; |\n",
       "|---|---|\n",
       "| none | 2123 |\n",
       "\n"
      ],
      "text/plain": [
       "  fgf1_grouping n   \n",
       "1 none          2123"
      ]
     },
     "metadata": {},
     "output_type": "display_data"
    },
    {
     "data": {
      "text/html": [
       "<table class=\"dataframe\">\n",
       "<caption>A tibble: 1 × 2</caption>\n",
       "<thead>\n",
       "\t<tr><th scope=col>restored_grouping</th><th scope=col>n</th></tr>\n",
       "\t<tr><th scope=col>&lt;fct&gt;</th><th scope=col>&lt;int&gt;</th></tr>\n",
       "</thead>\n",
       "<tbody>\n",
       "\t<tr><td>none</td><td>2123</td></tr>\n",
       "</tbody>\n",
       "</table>\n"
      ],
      "text/latex": [
       "A tibble: 1 × 2\n",
       "\\begin{tabular}{ll}\n",
       " restored\\_grouping & n\\\\\n",
       " <fct> & <int>\\\\\n",
       "\\hline\n",
       "\t none & 2123\\\\\n",
       "\\end{tabular}\n"
      ],
      "text/markdown": [
       "\n",
       "A tibble: 1 × 2\n",
       "\n",
       "| restored_grouping &lt;fct&gt; | n &lt;int&gt; |\n",
       "|---|---|\n",
       "| none | 2123 |\n",
       "\n"
      ],
      "text/plain": [
       "  restored_grouping n   \n",
       "1 none              2123"
      ]
     },
     "metadata": {},
     "output_type": "display_data"
    }
   ],
   "source": [
    "nhgc = qs::qread('_targets_MAST_v2/objects/nhgc_Agrp___Day14.obob14v14__v__Day14.obobBL6d14') # Astrocytes___Day14.obob14v14__v__Day14.obobBL6d14___fgf1_grouping.pos_vs_none\n",
    "nhgc %>% group_by(fgf1_grouping) %>% summarise(n=n())\n",
    "nhgc %>% group_by(restored_grouping) %>% summarise(n=n())\n",
    "# don't worry about this now, just state all markers for all clusters you want"
   ]
  },
  {
   "cell_type": "code",
   "execution_count": 16,
   "id": "d1fa80c2",
   "metadata": {},
   "outputs": [
    {
     "name": "stderr",
     "output_type": "stream",
     "text": [
      "Warning message:\n",
      "“\u001b[1m\u001b[22mThere were 61 warnings in `mutate()`.\n",
      "The first warning was:\n",
      "\u001b[1m\u001b[22m\u001b[36mℹ\u001b[39m In argument: `obj = map2(obj, tag2, ~if (!is.na(.x)) mutate(.x, tag2 = .y)\n",
      "  else tibble())`.\n",
      "Caused by warning in `if (!is.na(.x)) ...`:\n",
      "\u001b[33m!\u001b[39m the condition has length > 1 and only the first element will be used\n",
      "\u001b[1m\u001b[22m\u001b[36mℹ\u001b[39m Run `dplyr::last_dplyr_warnings()` to see the 60 remaining warnings.”\n"
     ]
    }
   ],
   "source": [
    "tag2 = combined_deg_seurat_all %>% \n",
    "    pull(tag) %>% unique %>%\n",
    "    str_split(pattern = \"___\") %>%\n",
    "    map_chr(~if (length(.x) >= 3) paste(.x[1:2], collapse = \"___\") else .x[1]) %>%\n",
    "    unique\n",
    "        \n",
    "tag2_tibble = tag2 %>% tibble(tag2=.) %>%\n",
    "mutate(path_to_target = paste0('_targets_MAST_v2/objects/nhgc_', tag2)) %>%\n",
    "mutate(obj = purrr::map(path_to_target, ~if (file.exists(.x)) qs::qread(.x) else NA))\n",
    "    \n",
    "combined_tibble <- tag2_tibble %>%\n",
    "  mutate(obj = map2(obj, tag2, ~if (!is.na(.x)) mutate(.x, tag2 = .y) else tibble())) %>%\n",
    "  pull(obj) %>%\n",
    "  map_dfr(identity)"
   ]
  },
  {
   "cell_type": "code",
   "execution_count": 17,
   "id": "3a429a58",
   "metadata": {},
   "outputs": [],
   "source": [
    "library(dplyr)\n",
    "library(tidyr)\n",
    "\n",
    "# Tibble for fgf1_grouping\n",
    "fgf1_tibble <- combined_tibble %>% \n",
    "  filter(fgf1_grouping %in% c('neg', 'none', 'pos')) %>%\n",
    "  group_by(tag2, fgf1_grouping) %>%\n",
    "  summarise(count = n(), .groups = \"drop\") %>%\n",
    "  pivot_wider(names_from = fgf1_grouping, values_from = count, names_prefix = \"fgf1_\", values_fill = 0) %>%\n",
    "  rowwise() %>%\n",
    "  mutate(total_cells = sum(c_across(-tag2), na.rm = TRUE)) %>% \n",
    "  ungroup\n",
    "\n",
    "# Tibble for fgf1_grouping with _restored\n",
    "restored_tibble <- combined_tibble %>% \n",
    "  mutate(fgf1_grouping_restored = str_replace_all(fgf1_grouping, c(\"neg\" = \"neg_restored\", \"pos\" = \"pos_restored\"))) %>%\n",
    "  filter(fgf1_grouping_restored %in% c('neg_restored', 'none', 'pos_restored')) %>%\n",
    "  group_by(tag2, fgf1_grouping_restored) %>%\n",
    "  summarise(count = n(), .groups = \"drop\") %>%\n",
    "  pivot_wider(names_from = fgf1_grouping_restored, values_from = count, names_prefix = \"restored_\", values_fill = 0) %>%\n",
    "  rowwise() %>%\n",
    "  mutate(total_cells = sum(c_across(-tag2), na.rm = TRUE)) %>% \n",
    "  ungroup\n",
    "\n",
    "# Tibble for fgf1_grouping with _restored\n",
    "bl6_tibble <- combined_tibble %>% \n",
    "  mutate(bl6_grouping = str_replace_all(bl6_grouping, c(\"neg\" = \"neg\", \"pos\" = \"pos\"))) %>%\n",
    "  filter(bl6_grouping %in% c('neg', 'none', 'pos')) %>%\n",
    "  group_by(tag2, bl6_grouping) %>%\n",
    "  summarise(count = n(), .groups = \"drop\") %>%\n",
    "  pivot_wider(names_from = bl6_grouping, values_from = count, names_prefix = \"bl6_\", values_fill = 0) %>%\n",
    "  rowwise() %>%\n",
    "  mutate(total_cells = sum(c_across(-tag2), na.rm = TRUE)) %>% \n",
    "  ungroup\n",
    "\n"
   ]
  },
  {
   "cell_type": "code",
   "execution_count": null,
   "id": "ac3d677d",
   "metadata": {},
   "outputs": [],
   "source": []
  },
  {
   "cell_type": "code",
   "execution_count": 18,
   "id": "b8c3cfc2",
   "metadata": {},
   "outputs": [
    {
     "data": {
      "text/html": [
       "<table class=\"dataframe\">\n",
       "<caption>A tibble: 6 × 7</caption>\n",
       "<thead>\n",
       "\t<tr><th scope=col>tag</th><th scope=col>count</th><th scope=col>total_cells</th><th scope=col>frac</th><th scope=col>frac_cutoff</th><th scope=col>n_cells_cutoff</th><th scope=col>n_cells_valid</th></tr>\n",
       "\t<tr><th scope=col>&lt;chr&gt;</th><th scope=col>&lt;int&gt;</th><th scope=col>&lt;int&gt;</th><th scope=col>&lt;dbl&gt;</th><th scope=col>&lt;dbl&gt;</th><th scope=col>&lt;dbl&gt;</th><th scope=col>&lt;lgl&gt;</th></tr>\n",
       "</thead>\n",
       "<tbody>\n",
       "\t<tr><td>Agrp___Day5.obob5v5__v__Day5.obobBL6d5___fgf1_grouping.neg_vs_none             </td><td> 343</td><td>2284</td><td>0.1501751</td><td>0.1</td><td>150</td><td>TRUE</td></tr>\n",
       "\t<tr><td>Agrp___Day5.obob5v5__v__Day5.obobBL6d5___fgf1_grouping.pos_vs_none             </td><td> 514</td><td>2284</td><td>0.2250438</td><td>0.1</td><td>150</td><td>TRUE</td></tr>\n",
       "\t<tr><td>Agrp___Day5.obob5v5__v__Day5.obobBL6d5___restored_grouping.neg_restored_vs_none</td><td> 343</td><td>2284</td><td>0.1501751</td><td>0.1</td><td>150</td><td>TRUE</td></tr>\n",
       "\t<tr><td>Agrp___Day5.obob5v5__v__Day5.obobBL6d5___restored_grouping.pos_restored_vs_none</td><td> 514</td><td>2284</td><td>0.2250438</td><td>0.1</td><td>150</td><td>TRUE</td></tr>\n",
       "\t<tr><td>Agrp___Day5.obob5v5__v__Day5.obobBL6d5___bl6_grouping.neg_vs_none              </td><td> 688</td><td>2284</td><td>0.3012259</td><td>0.1</td><td>150</td><td>TRUE</td></tr>\n",
       "\t<tr><td>Agrp___Day5.obob5v5__v__Day5.obobBL6d5___bl6_grouping.pos_vs_none              </td><td>1406</td><td>2284</td><td>0.6155867</td><td>0.1</td><td>150</td><td>TRUE</td></tr>\n",
       "</tbody>\n",
       "</table>\n"
      ],
      "text/latex": [
       "A tibble: 6 × 7\n",
       "\\begin{tabular}{lllllll}\n",
       " tag & count & total\\_cells & frac & frac\\_cutoff & n\\_cells\\_cutoff & n\\_cells\\_valid\\\\\n",
       " <chr> & <int> & <int> & <dbl> & <dbl> & <dbl> & <lgl>\\\\\n",
       "\\hline\n",
       "\t Agrp\\_\\_\\_Day5.obob5v5\\_\\_v\\_\\_Day5.obobBL6d5\\_\\_\\_fgf1\\_grouping.neg\\_vs\\_none              &  343 & 2284 & 0.1501751 & 0.1 & 150 & TRUE\\\\\n",
       "\t Agrp\\_\\_\\_Day5.obob5v5\\_\\_v\\_\\_Day5.obobBL6d5\\_\\_\\_fgf1\\_grouping.pos\\_vs\\_none              &  514 & 2284 & 0.2250438 & 0.1 & 150 & TRUE\\\\\n",
       "\t Agrp\\_\\_\\_Day5.obob5v5\\_\\_v\\_\\_Day5.obobBL6d5\\_\\_\\_restored\\_grouping.neg\\_restored\\_vs\\_none &  343 & 2284 & 0.1501751 & 0.1 & 150 & TRUE\\\\\n",
       "\t Agrp\\_\\_\\_Day5.obob5v5\\_\\_v\\_\\_Day5.obobBL6d5\\_\\_\\_restored\\_grouping.pos\\_restored\\_vs\\_none &  514 & 2284 & 0.2250438 & 0.1 & 150 & TRUE\\\\\n",
       "\t Agrp\\_\\_\\_Day5.obob5v5\\_\\_v\\_\\_Day5.obobBL6d5\\_\\_\\_bl6\\_grouping.neg\\_vs\\_none               &  688 & 2284 & 0.3012259 & 0.1 & 150 & TRUE\\\\\n",
       "\t Agrp\\_\\_\\_Day5.obob5v5\\_\\_v\\_\\_Day5.obobBL6d5\\_\\_\\_bl6\\_grouping.pos\\_vs\\_none               & 1406 & 2284 & 0.6155867 & 0.1 & 150 & TRUE\\\\\n",
       "\\end{tabular}\n"
      ],
      "text/markdown": [
       "\n",
       "A tibble: 6 × 7\n",
       "\n",
       "| tag &lt;chr&gt; | count &lt;int&gt; | total_cells &lt;int&gt; | frac &lt;dbl&gt; | frac_cutoff &lt;dbl&gt; | n_cells_cutoff &lt;dbl&gt; | n_cells_valid &lt;lgl&gt; |\n",
       "|---|---|---|---|---|---|---|\n",
       "| Agrp___Day5.obob5v5__v__Day5.obobBL6d5___fgf1_grouping.neg_vs_none              |  343 | 2284 | 0.1501751 | 0.1 | 150 | TRUE |\n",
       "| Agrp___Day5.obob5v5__v__Day5.obobBL6d5___fgf1_grouping.pos_vs_none              |  514 | 2284 | 0.2250438 | 0.1 | 150 | TRUE |\n",
       "| Agrp___Day5.obob5v5__v__Day5.obobBL6d5___restored_grouping.neg_restored_vs_none |  343 | 2284 | 0.1501751 | 0.1 | 150 | TRUE |\n",
       "| Agrp___Day5.obob5v5__v__Day5.obobBL6d5___restored_grouping.pos_restored_vs_none |  514 | 2284 | 0.2250438 | 0.1 | 150 | TRUE |\n",
       "| Agrp___Day5.obob5v5__v__Day5.obobBL6d5___bl6_grouping.neg_vs_none               |  688 | 2284 | 0.3012259 | 0.1 | 150 | TRUE |\n",
       "| Agrp___Day5.obob5v5__v__Day5.obobBL6d5___bl6_grouping.pos_vs_none               | 1406 | 2284 | 0.6155867 | 0.1 | 150 | TRUE |\n",
       "\n"
      ],
      "text/plain": [
       "  tag                                                                            \n",
       "1 Agrp___Day5.obob5v5__v__Day5.obobBL6d5___fgf1_grouping.neg_vs_none             \n",
       "2 Agrp___Day5.obob5v5__v__Day5.obobBL6d5___fgf1_grouping.pos_vs_none             \n",
       "3 Agrp___Day5.obob5v5__v__Day5.obobBL6d5___restored_grouping.neg_restored_vs_none\n",
       "4 Agrp___Day5.obob5v5__v__Day5.obobBL6d5___restored_grouping.pos_restored_vs_none\n",
       "5 Agrp___Day5.obob5v5__v__Day5.obobBL6d5___bl6_grouping.neg_vs_none              \n",
       "6 Agrp___Day5.obob5v5__v__Day5.obobBL6d5___bl6_grouping.pos_vs_none              \n",
       "  count total_cells frac      frac_cutoff n_cells_cutoff n_cells_valid\n",
       "1  343  2284        0.1501751 0.1         150            TRUE         \n",
       "2  514  2284        0.2250438 0.1         150            TRUE         \n",
       "3  343  2284        0.1501751 0.1         150            TRUE         \n",
       "4  514  2284        0.2250438 0.1         150            TRUE         \n",
       "5  688  2284        0.3012259 0.1         150            TRUE         \n",
       "6 1406  2284        0.6155867 0.1         150            TRUE         "
      ]
     },
     "metadata": {},
     "output_type": "display_data"
    }
   ],
   "source": [
    "frac_cutoff = 0.10\n",
    "n_cells_cutoff = 150\n",
    "\n",
    "# Create the first tibble\n",
    "fgf1_tibble_new <- fgf1_tibble %>%\n",
    "  pivot_longer(cols = starts_with(\"fgf1_\"), names_to = \"grouping\", values_to = \"count\") %>%\n",
    "  mutate(grouping = str_replace(grouping, \"fgf1_\", \"\")) %>%\n",
    "  mutate(polarity1 = ifelse(grouping == \"none\", NA, grouping),\n",
    "         polarity2 = ifelse(grouping == \"none\", grouping, \"none\")) %>%\n",
    "  mutate(tag = paste0(tag2, \"___fgf1_grouping.\", polarity1, \"_vs_\", polarity2)) %>%\n",
    "  mutate(frac = count/total_cells) %>%\n",
    "  mutate(frac_cutoff = frac_cutoff) %>%\n",
    "  mutate(n_cells_cutoff = n_cells_cutoff) %>%\n",
    "  mutate(n_cells_valid = ifelse(((frac >= frac_cutoff) & (count >= n_cells_cutoff)), TRUE, FALSE)) %>%\n",
    "  select(tag, count, total_cells, frac, frac_cutoff, n_cells_cutoff, n_cells_valid)\n",
    "\n",
    "# Create the second tibble\n",
    "restored_tibble_new <- restored_tibble %>%\n",
    "  pivot_longer(cols = starts_with(\"restored_\"), names_to = \"grouping\", values_to = \"count\") %>%\n",
    "  mutate(grouping = str_replace(grouping, \"restored_\", \"\")) %>%\n",
    "  mutate(polarity1 = ifelse(grouping == \"none\", NA, grouping),\n",
    "         polarity2 = ifelse(grouping == \"none\", grouping, \"none\")) %>%\n",
    "  mutate(tag = paste0(tag2, \"___restored_grouping.\", polarity1, \"_vs_\", polarity2)) %>%\n",
    "  mutate(frac = count/total_cells) %>%\n",
    "  mutate(frac_cutoff = frac_cutoff) %>%\n",
    "  mutate(n_cells_cutoff = n_cells_cutoff) %>%\n",
    "  mutate(n_cells_valid = ifelse(((frac >= frac_cutoff) & (count >= n_cells_cutoff)), TRUE, FALSE)) %>%\n",
    "  select(tag, count, total_cells, frac, frac_cutoff, n_cells_cutoff, n_cells_valid)\n",
    "\n",
    "# Create the second tibble\n",
    "bl6_tibble_new <- bl6_tibble %>%\n",
    "  pivot_longer(cols = starts_with(\"bl6_\"), names_to = \"grouping\", values_to = \"count\") %>%\n",
    "  mutate(grouping = str_replace(grouping, \"bl6_\", \"\")) %>%\n",
    "  mutate(polarity1 = ifelse(grouping == \"none\", NA, grouping),\n",
    "         polarity2 = ifelse(grouping == \"none\", grouping, \"none\")) %>%\n",
    "  mutate(tag = paste0(tag2, \"___bl6_grouping.\", polarity1, \"_vs_\", polarity2)) %>%\n",
    "  mutate(frac = count/total_cells) %>%\n",
    "  mutate(frac_cutoff = frac_cutoff) %>%\n",
    "  mutate(n_cells_cutoff = n_cells_cutoff) %>%\n",
    "  mutate(n_cells_valid = ifelse(((frac >= frac_cutoff) & (count >= n_cells_cutoff)), TRUE, FALSE)) %>%\n",
    "  select(tag, count, total_cells, frac, frac_cutoff, n_cells_cutoff, n_cells_valid)\n",
    "\n",
    "# Bind the rows of the two tibbles\n",
    "new_tibble <- bind_rows(fgf1_tibble_new, restored_tibble_new, bl6_tibble_new) %>%\n",
    "    filter(!str_detect(tag, 'NA'))\n",
    "\n",
    "new_tibble %>% filter(str_detect(tag, 'Agrp___Day5.obob5v5__v__Day5.obobBL6d5'))"
   ]
  },
  {
   "cell_type": "code",
   "execution_count": 19,
   "id": "b2b9a068",
   "metadata": {},
   "outputs": [
    {
     "data": {
      "text/html": [
       "<table class=\"dataframe\">\n",
       "<caption>A tibble: 60 × 7</caption>\n",
       "<thead>\n",
       "\t<tr><th scope=col>tag</th><th scope=col>count</th><th scope=col>total_cells</th><th scope=col>frac</th><th scope=col>frac_cutoff</th><th scope=col>n_cells_cutoff</th><th scope=col>n_cells_valid</th></tr>\n",
       "\t<tr><th scope=col>&lt;chr&gt;</th><th scope=col>&lt;int&gt;</th><th scope=col>&lt;int&gt;</th><th scope=col>&lt;dbl&gt;</th><th scope=col>&lt;dbl&gt;</th><th scope=col>&lt;dbl&gt;</th><th scope=col>&lt;lgl&gt;</th></tr>\n",
       "</thead>\n",
       "<tbody>\n",
       "\t<tr><td>Tbx19__Pirt___Day5.obob5v5__v__Day5.obobBL6d5___fgf1_grouping.neg_vs_none                     </td><td> 122</td><td> 1183</td><td>0.1031276</td><td>0.1</td><td>150</td><td>FALSE</td></tr>\n",
       "\t<tr><td>Tbx19__Pirt___Day5.obob5v5__v__Day5.obobBL6d5___restored_grouping.neg_restored_vs_none        </td><td> 122</td><td> 1183</td><td>0.1031276</td><td>0.1</td><td>150</td><td>FALSE</td></tr>\n",
       "\t<tr><td>Tanycytes___Day5.obob5v5__v__Day5.obobBL6d5___fgf1_grouping.pos_vs_none                       </td><td> 528</td><td> 5005</td><td>0.1054945</td><td>0.1</td><td>150</td><td> TRUE</td></tr>\n",
       "\t<tr><td>Tanycytes___Day5.obob5v5__v__Day5.obobBL6d5___restored_grouping.pos_restored_vs_none          </td><td> 528</td><td> 5005</td><td>0.1054945</td><td>0.1</td><td>150</td><td> TRUE</td></tr>\n",
       "\t<tr><td>Sst__Unc13c___Day5.obob5v5__v__Day5.obobBL6d5___fgf1_grouping.pos_vs_none                     </td><td> 163</td><td> 1535</td><td>0.1061889</td><td>0.1</td><td>150</td><td> TRUE</td></tr>\n",
       "\t<tr><td>Sst__Unc13c___Day5.obob5v5__v__Day5.obobBL6d5___restored_grouping.pos_restored_vs_none        </td><td> 163</td><td> 1535</td><td>0.1061889</td><td>0.1</td><td>150</td><td> TRUE</td></tr>\n",
       "\t<tr><td>Nfix__Nfib___Day14.obob14v14__v__Day14.obobBL6d14___fgf1_grouping.neg_vs_none                 </td><td> 102</td><td>  946</td><td>0.1078224</td><td>0.1</td><td>150</td><td>FALSE</td></tr>\n",
       "\t<tr><td>Nfix__Nfib___Day14.obob14v14__v__Day14.obobBL6d14___restored_grouping.neg_restored_vs_none    </td><td> 102</td><td>  946</td><td>0.1078224</td><td>0.1</td><td>150</td><td>FALSE</td></tr>\n",
       "\t<tr><td>Tbx19__Pirt___Day5.obob5v5__v__Day5.obobBL6d5___fgf1_grouping.pos_vs_none                     </td><td> 147</td><td> 1183</td><td>0.1242604</td><td>0.1</td><td>150</td><td>FALSE</td></tr>\n",
       "\t<tr><td>Tbx19__Pirt___Day5.obob5v5__v__Day5.obobBL6d5___restored_grouping.pos_restored_vs_none        </td><td> 147</td><td> 1183</td><td>0.1242604</td><td>0.1</td><td>150</td><td>FALSE</td></tr>\n",
       "\t<tr><td>Pou6f2__Prkcq__Whrn___Day5.obob5v5__v__Day5.obobBL6d5___fgf1_grouping.pos_vs_none             </td><td> 136</td><td> 1085</td><td>0.1253456</td><td>0.1</td><td>150</td><td>FALSE</td></tr>\n",
       "\t<tr><td>Pou6f2__Prkcq__Whrn___Day5.obob5v5__v__Day5.obobBL6d5___restored_grouping.pos_restored_vs_none</td><td> 136</td><td> 1085</td><td>0.1253456</td><td>0.1</td><td>150</td><td>FALSE</td></tr>\n",
       "\t<tr><td>Kiss1__Tac2___Day5.obob5v5__v__Day5.obobBL6d5___fgf1_grouping.neg_vs_none                     </td><td> 215</td><td> 1519</td><td>0.1415405</td><td>0.1</td><td>150</td><td> TRUE</td></tr>\n",
       "\t<tr><td>Kiss1__Tac2___Day5.obob5v5__v__Day5.obobBL6d5___restored_grouping.neg_restored_vs_none        </td><td> 215</td><td> 1519</td><td>0.1415405</td><td>0.1</td><td>150</td><td> TRUE</td></tr>\n",
       "\t<tr><td>Ghrh___Day5.obob5v5__v__Day5.obobBL6d5___fgf1_grouping.pos_vs_none                            </td><td> 157</td><td> 1063</td><td>0.1476952</td><td>0.1</td><td>150</td><td> TRUE</td></tr>\n",
       "\t<tr><td>Ghrh___Day5.obob5v5__v__Day5.obobBL6d5___restored_grouping.pos_restored_vs_none               </td><td> 157</td><td> 1063</td><td>0.1476952</td><td>0.1</td><td>150</td><td> TRUE</td></tr>\n",
       "\t<tr><td>Agrp___Day5.obob5v5__v__Day5.obobBL6d5___fgf1_grouping.neg_vs_none                            </td><td> 343</td><td> 2284</td><td>0.1501751</td><td>0.1</td><td>150</td><td> TRUE</td></tr>\n",
       "\t<tr><td>Agrp___Day5.obob5v5__v__Day5.obobBL6d5___restored_grouping.neg_restored_vs_none               </td><td> 343</td><td> 2284</td><td>0.1501751</td><td>0.1</td><td>150</td><td> TRUE</td></tr>\n",
       "\t<tr><td>Oligodendrocytes___Day5.obob5v5__v__Day5.obobBL6d5___fgf1_grouping.pos_vs_none                </td><td> 163</td><td> 1079</td><td>0.1510658</td><td>0.1</td><td>150</td><td> TRUE</td></tr>\n",
       "\t<tr><td>Oligodendrocytes___Day5.obob5v5__v__Day5.obobBL6d5___restored_grouping.pos_restored_vs_none   </td><td> 163</td><td> 1079</td><td>0.1510658</td><td>0.1</td><td>150</td><td> TRUE</td></tr>\n",
       "\t<tr><td>Oligodendrocytes___Day5.obob5v5__v__Day5.obobBL6d5___fgf1_grouping.neg_vs_none                </td><td> 168</td><td> 1079</td><td>0.1556997</td><td>0.1</td><td>150</td><td> TRUE</td></tr>\n",
       "\t<tr><td>Oligodendrocytes___Day5.obob5v5__v__Day5.obobBL6d5___restored_grouping.neg_restored_vs_none   </td><td> 168</td><td> 1079</td><td>0.1556997</td><td>0.1</td><td>150</td><td> TRUE</td></tr>\n",
       "\t<tr><td>Sst__Pthlh___Day5.obob5v5__v__Day5.obobBL6d5___fgf1_grouping.pos_vs_none                      </td><td> 121</td><td>  742</td><td>0.1630728</td><td>0.1</td><td>150</td><td>FALSE</td></tr>\n",
       "\t<tr><td>Sst__Pthlh___Day5.obob5v5__v__Day5.obobBL6d5___restored_grouping.pos_restored_vs_none         </td><td> 121</td><td>  742</td><td>0.1630728</td><td>0.1</td><td>150</td><td>FALSE</td></tr>\n",
       "\t<tr><td>Astrocytes___Day5.obob5v5__v__Day5.obobBL6d5___fgf1_grouping.pos_vs_none                      </td><td>1203</td><td> 6369</td><td>0.1888837</td><td>0.1</td><td>150</td><td> TRUE</td></tr>\n",
       "\t<tr><td>Astrocytes___Day5.obob5v5__v__Day5.obobBL6d5___restored_grouping.pos_restored_vs_none         </td><td>1203</td><td> 6369</td><td>0.1888837</td><td>0.1</td><td>150</td><td> TRUE</td></tr>\n",
       "\t<tr><td>other___Day5.obob5v5__v__Day5.obobBL6d5___fgf1_grouping.pos_vs_none                           </td><td>2912</td><td>15029</td><td>0.1937587</td><td>0.1</td><td>150</td><td> TRUE</td></tr>\n",
       "\t<tr><td>other___Day5.obob5v5__v__Day5.obobBL6d5___restored_grouping.pos_restored_vs_none              </td><td>2912</td><td>15029</td><td>0.1937587</td><td>0.1</td><td>150</td><td> TRUE</td></tr>\n",
       "\t<tr><td>g2___Day5.obob5v5__v__Day5.obobBL6d5___fgf1_grouping.pos_vs_none                              </td><td>1264</td><td> 6261</td><td>0.2018847</td><td>0.1</td><td>150</td><td> TRUE</td></tr>\n",
       "\t<tr><td>g2___Day5.obob5v5__v__Day5.obobBL6d5___restored_grouping.pos_restored_vs_none                 </td><td>1264</td><td> 6261</td><td>0.2018847</td><td>0.1</td><td>150</td><td> TRUE</td></tr>\n",
       "\t<tr><td>Th__Slc6a3___Day5.obob5v5__v__Day5.obobBL6d5___fgf1_grouping.pos_vs_none                      </td><td> 114</td><td>  562</td><td>0.2028470</td><td>0.1</td><td>150</td><td>FALSE</td></tr>\n",
       "\t<tr><td>Th__Slc6a3___Day5.obob5v5__v__Day5.obobBL6d5___restored_grouping.pos_restored_vs_none         </td><td> 114</td><td>  562</td><td>0.2028470</td><td>0.1</td><td>150</td><td>FALSE</td></tr>\n",
       "\t<tr><td>Pomc__Glipr1___Day5.obob5v5__v__Day5.obobBL6d5___fgf1_grouping.neg_vs_none                    </td><td> 246</td><td> 1204</td><td>0.2043189</td><td>0.1</td><td>150</td><td> TRUE</td></tr>\n",
       "\t<tr><td>Pomc__Glipr1___Day5.obob5v5__v__Day5.obobBL6d5___restored_grouping.neg_restored_vs_none       </td><td> 246</td><td> 1204</td><td>0.2043189</td><td>0.1</td><td>150</td><td> TRUE</td></tr>\n",
       "\t<tr><td>Trh__Lef1___Day5.obob5v5__v__Day5.obobBL6d5___fgf1_grouping.neg_vs_none                       </td><td> 324</td><td> 1571</td><td>0.2062381</td><td>0.1</td><td>150</td><td> TRUE</td></tr>\n",
       "\t<tr><td>Trh__Lef1___Day5.obob5v5__v__Day5.obobBL6d5___restored_grouping.neg_restored_vs_none          </td><td> 324</td><td> 1571</td><td>0.2062381</td><td>0.1</td><td>150</td><td> TRUE</td></tr>\n",
       "\t<tr><td>Trh__Lef1___Day5.obob5v5__v__Day5.obobBL6d5___fgf1_grouping.pos_vs_none                       </td><td> 330</td><td> 1571</td><td>0.2100573</td><td>0.1</td><td>150</td><td> TRUE</td></tr>\n",
       "\t<tr><td>Trh__Lef1___Day5.obob5v5__v__Day5.obobBL6d5___restored_grouping.pos_restored_vs_none          </td><td> 330</td><td> 1571</td><td>0.2100573</td><td>0.1</td><td>150</td><td> TRUE</td></tr>\n",
       "\t<tr><td>g3___Day5.obob5v5__v__Day5.obobBL6d5___fgf1_grouping.pos_vs_none                              </td><td> 550</td><td> 2458</td><td>0.2237592</td><td>0.1</td><td>150</td><td> TRUE</td></tr>\n",
       "\t<tr><td>g3___Day5.obob5v5__v__Day5.obobBL6d5___restored_grouping.pos_restored_vs_none                 </td><td> 550</td><td> 2458</td><td>0.2237592</td><td>0.1</td><td>150</td><td> TRUE</td></tr>\n",
       "\t<tr><td>Agrp___Day5.obob5v5__v__Day5.obobBL6d5___fgf1_grouping.pos_vs_none                            </td><td> 514</td><td> 2284</td><td>0.2250438</td><td>0.1</td><td>150</td><td> TRUE</td></tr>\n",
       "\t<tr><td>Agrp___Day5.obob5v5__v__Day5.obobBL6d5___restored_grouping.pos_restored_vs_none               </td><td> 514</td><td> 2284</td><td>0.2250438</td><td>0.1</td><td>150</td><td> TRUE</td></tr>\n",
       "\t<tr><td>Ghrh___Day5.obob5v5__v__Day5.obobBL6d5___fgf1_grouping.neg_vs_none                            </td><td> 261</td><td> 1063</td><td>0.2455315</td><td>0.1</td><td>150</td><td> TRUE</td></tr>\n",
       "\t<tr><td>Ghrh___Day5.obob5v5__v__Day5.obobBL6d5___restored_grouping.neg_restored_vs_none               </td><td> 261</td><td> 1063</td><td>0.2455315</td><td>0.1</td><td>150</td><td> TRUE</td></tr>\n",
       "\t<tr><td>n1___Day5.obob5v5__v__Day5.obobBL6d5___fgf1_grouping.neg_vs_none                              </td><td>1313</td><td> 5292</td><td>0.2481104</td><td>0.1</td><td>150</td><td> TRUE</td></tr>\n",
       "\t<tr><td>n1___Day5.obob5v5__v__Day5.obobBL6d5___restored_grouping.neg_restored_vs_none                 </td><td>1313</td><td> 5292</td><td>0.2481104</td><td>0.1</td><td>150</td><td> TRUE</td></tr>\n",
       "\t<tr><td>OPC___Day5.obob5v5__v__Day5.obobBL6d5___fgf1_grouping.pos_vs_none                             </td><td> 379</td><td> 1499</td><td>0.2528352</td><td>0.1</td><td>150</td><td> TRUE</td></tr>\n",
       "\t<tr><td>OPC___Day5.obob5v5__v__Day5.obobBL6d5___restored_grouping.pos_restored_vs_none                </td><td> 379</td><td> 1499</td><td>0.2528352</td><td>0.1</td><td>150</td><td> TRUE</td></tr>\n",
       "\t<tr><td>Htr3b___Day5.obob5v5__v__Day5.obobBL6d5___fgf1_grouping.neg_vs_none                           </td><td> 527</td><td> 1906</td><td>0.2764953</td><td>0.1</td><td>150</td><td> TRUE</td></tr>\n",
       "\t<tr><td>Htr3b___Day5.obob5v5__v__Day5.obobBL6d5___restored_grouping.neg_restored_vs_none              </td><td> 527</td><td> 1906</td><td>0.2764953</td><td>0.1</td><td>150</td><td> TRUE</td></tr>\n",
       "\t<tr><td>g2___Day5.obob5v5__v__Day5.obobBL6d5___fgf1_grouping.neg_vs_none                              </td><td>1831</td><td> 6261</td><td>0.2924453</td><td>0.1</td><td>150</td><td> TRUE</td></tr>\n",
       "\t<tr><td>g2___Day5.obob5v5__v__Day5.obobBL6d5___restored_grouping.neg_restored_vs_none                 </td><td>1831</td><td> 6261</td><td>0.2924453</td><td>0.1</td><td>150</td><td> TRUE</td></tr>\n",
       "\t<tr><td>Astrocytes___Day5.obob5v5__v__Day5.obobBL6d5___fgf1_grouping.neg_vs_none                      </td><td>1933</td><td> 6369</td><td>0.3035013</td><td>0.1</td><td>150</td><td> TRUE</td></tr>\n",
       "\t<tr><td>Astrocytes___Day5.obob5v5__v__Day5.obobBL6d5___restored_grouping.neg_restored_vs_none         </td><td>1933</td><td> 6369</td><td>0.3035013</td><td>0.1</td><td>150</td><td> TRUE</td></tr>\n",
       "\t<tr><td>OPC___Day5.obob5v5__v__Day5.obobBL6d5___fgf1_grouping.neg_vs_none                             </td><td> 457</td><td> 1499</td><td>0.3048699</td><td>0.1</td><td>150</td><td> TRUE</td></tr>\n",
       "\t<tr><td>OPC___Day5.obob5v5__v__Day5.obobBL6d5___restored_grouping.neg_restored_vs_none                </td><td> 457</td><td> 1499</td><td>0.3048699</td><td>0.1</td><td>150</td><td> TRUE</td></tr>\n",
       "\t<tr><td>other___Day5.obob5v5__v__Day5.obobBL6d5___fgf1_grouping.neg_vs_none                           </td><td>4701</td><td>15029</td><td>0.3127953</td><td>0.1</td><td>150</td><td> TRUE</td></tr>\n",
       "\t<tr><td>other___Day5.obob5v5__v__Day5.obobBL6d5___restored_grouping.neg_restored_vs_none              </td><td>4701</td><td>15029</td><td>0.3127953</td><td>0.1</td><td>150</td><td> TRUE</td></tr>\n",
       "\t<tr><td>Htr3b___Day5.obob5v5__v__Day5.obobBL6d5___fgf1_grouping.pos_vs_none                           </td><td> 628</td><td> 1906</td><td>0.3294858</td><td>0.1</td><td>150</td><td> TRUE</td></tr>\n",
       "\t<tr><td>Htr3b___Day5.obob5v5__v__Day5.obobBL6d5___restored_grouping.pos_restored_vs_none              </td><td> 628</td><td> 1906</td><td>0.3294858</td><td>0.1</td><td>150</td><td> TRUE</td></tr>\n",
       "</tbody>\n",
       "</table>\n"
      ],
      "text/latex": [
       "A tibble: 60 × 7\n",
       "\\begin{tabular}{lllllll}\n",
       " tag & count & total\\_cells & frac & frac\\_cutoff & n\\_cells\\_cutoff & n\\_cells\\_valid\\\\\n",
       " <chr> & <int> & <int> & <dbl> & <dbl> & <dbl> & <lgl>\\\\\n",
       "\\hline\n",
       "\t Tbx19\\_\\_Pirt\\_\\_\\_Day5.obob5v5\\_\\_v\\_\\_Day5.obobBL6d5\\_\\_\\_fgf1\\_grouping.neg\\_vs\\_none                      &  122 &  1183 & 0.1031276 & 0.1 & 150 & FALSE\\\\\n",
       "\t Tbx19\\_\\_Pirt\\_\\_\\_Day5.obob5v5\\_\\_v\\_\\_Day5.obobBL6d5\\_\\_\\_restored\\_grouping.neg\\_restored\\_vs\\_none         &  122 &  1183 & 0.1031276 & 0.1 & 150 & FALSE\\\\\n",
       "\t Tanycytes\\_\\_\\_Day5.obob5v5\\_\\_v\\_\\_Day5.obobBL6d5\\_\\_\\_fgf1\\_grouping.pos\\_vs\\_none                        &  528 &  5005 & 0.1054945 & 0.1 & 150 &  TRUE\\\\\n",
       "\t Tanycytes\\_\\_\\_Day5.obob5v5\\_\\_v\\_\\_Day5.obobBL6d5\\_\\_\\_restored\\_grouping.pos\\_restored\\_vs\\_none           &  528 &  5005 & 0.1054945 & 0.1 & 150 &  TRUE\\\\\n",
       "\t Sst\\_\\_Unc13c\\_\\_\\_Day5.obob5v5\\_\\_v\\_\\_Day5.obobBL6d5\\_\\_\\_fgf1\\_grouping.pos\\_vs\\_none                      &  163 &  1535 & 0.1061889 & 0.1 & 150 &  TRUE\\\\\n",
       "\t Sst\\_\\_Unc13c\\_\\_\\_Day5.obob5v5\\_\\_v\\_\\_Day5.obobBL6d5\\_\\_\\_restored\\_grouping.pos\\_restored\\_vs\\_none         &  163 &  1535 & 0.1061889 & 0.1 & 150 &  TRUE\\\\\n",
       "\t Nfix\\_\\_Nfib\\_\\_\\_Day14.obob14v14\\_\\_v\\_\\_Day14.obobBL6d14\\_\\_\\_fgf1\\_grouping.neg\\_vs\\_none                  &  102 &   946 & 0.1078224 & 0.1 & 150 & FALSE\\\\\n",
       "\t Nfix\\_\\_Nfib\\_\\_\\_Day14.obob14v14\\_\\_v\\_\\_Day14.obobBL6d14\\_\\_\\_restored\\_grouping.neg\\_restored\\_vs\\_none     &  102 &   946 & 0.1078224 & 0.1 & 150 & FALSE\\\\\n",
       "\t Tbx19\\_\\_Pirt\\_\\_\\_Day5.obob5v5\\_\\_v\\_\\_Day5.obobBL6d5\\_\\_\\_fgf1\\_grouping.pos\\_vs\\_none                      &  147 &  1183 & 0.1242604 & 0.1 & 150 & FALSE\\\\\n",
       "\t Tbx19\\_\\_Pirt\\_\\_\\_Day5.obob5v5\\_\\_v\\_\\_Day5.obobBL6d5\\_\\_\\_restored\\_grouping.pos\\_restored\\_vs\\_none         &  147 &  1183 & 0.1242604 & 0.1 & 150 & FALSE\\\\\n",
       "\t Pou6f2\\_\\_Prkcq\\_\\_Whrn\\_\\_\\_Day5.obob5v5\\_\\_v\\_\\_Day5.obobBL6d5\\_\\_\\_fgf1\\_grouping.pos\\_vs\\_none              &  136 &  1085 & 0.1253456 & 0.1 & 150 & FALSE\\\\\n",
       "\t Pou6f2\\_\\_Prkcq\\_\\_Whrn\\_\\_\\_Day5.obob5v5\\_\\_v\\_\\_Day5.obobBL6d5\\_\\_\\_restored\\_grouping.pos\\_restored\\_vs\\_none &  136 &  1085 & 0.1253456 & 0.1 & 150 & FALSE\\\\\n",
       "\t Kiss1\\_\\_Tac2\\_\\_\\_Day5.obob5v5\\_\\_v\\_\\_Day5.obobBL6d5\\_\\_\\_fgf1\\_grouping.neg\\_vs\\_none                      &  215 &  1519 & 0.1415405 & 0.1 & 150 &  TRUE\\\\\n",
       "\t Kiss1\\_\\_Tac2\\_\\_\\_Day5.obob5v5\\_\\_v\\_\\_Day5.obobBL6d5\\_\\_\\_restored\\_grouping.neg\\_restored\\_vs\\_none         &  215 &  1519 & 0.1415405 & 0.1 & 150 &  TRUE\\\\\n",
       "\t Ghrh\\_\\_\\_Day5.obob5v5\\_\\_v\\_\\_Day5.obobBL6d5\\_\\_\\_fgf1\\_grouping.pos\\_vs\\_none                             &  157 &  1063 & 0.1476952 & 0.1 & 150 &  TRUE\\\\\n",
       "\t Ghrh\\_\\_\\_Day5.obob5v5\\_\\_v\\_\\_Day5.obobBL6d5\\_\\_\\_restored\\_grouping.pos\\_restored\\_vs\\_none                &  157 &  1063 & 0.1476952 & 0.1 & 150 &  TRUE\\\\\n",
       "\t Agrp\\_\\_\\_Day5.obob5v5\\_\\_v\\_\\_Day5.obobBL6d5\\_\\_\\_fgf1\\_grouping.neg\\_vs\\_none                             &  343 &  2284 & 0.1501751 & 0.1 & 150 &  TRUE\\\\\n",
       "\t Agrp\\_\\_\\_Day5.obob5v5\\_\\_v\\_\\_Day5.obobBL6d5\\_\\_\\_restored\\_grouping.neg\\_restored\\_vs\\_none                &  343 &  2284 & 0.1501751 & 0.1 & 150 &  TRUE\\\\\n",
       "\t Oligodendrocytes\\_\\_\\_Day5.obob5v5\\_\\_v\\_\\_Day5.obobBL6d5\\_\\_\\_fgf1\\_grouping.pos\\_vs\\_none                 &  163 &  1079 & 0.1510658 & 0.1 & 150 &  TRUE\\\\\n",
       "\t Oligodendrocytes\\_\\_\\_Day5.obob5v5\\_\\_v\\_\\_Day5.obobBL6d5\\_\\_\\_restored\\_grouping.pos\\_restored\\_vs\\_none    &  163 &  1079 & 0.1510658 & 0.1 & 150 &  TRUE\\\\\n",
       "\t Oligodendrocytes\\_\\_\\_Day5.obob5v5\\_\\_v\\_\\_Day5.obobBL6d5\\_\\_\\_fgf1\\_grouping.neg\\_vs\\_none                 &  168 &  1079 & 0.1556997 & 0.1 & 150 &  TRUE\\\\\n",
       "\t Oligodendrocytes\\_\\_\\_Day5.obob5v5\\_\\_v\\_\\_Day5.obobBL6d5\\_\\_\\_restored\\_grouping.neg\\_restored\\_vs\\_none    &  168 &  1079 & 0.1556997 & 0.1 & 150 &  TRUE\\\\\n",
       "\t Sst\\_\\_Pthlh\\_\\_\\_Day5.obob5v5\\_\\_v\\_\\_Day5.obobBL6d5\\_\\_\\_fgf1\\_grouping.pos\\_vs\\_none                       &  121 &   742 & 0.1630728 & 0.1 & 150 & FALSE\\\\\n",
       "\t Sst\\_\\_Pthlh\\_\\_\\_Day5.obob5v5\\_\\_v\\_\\_Day5.obobBL6d5\\_\\_\\_restored\\_grouping.pos\\_restored\\_vs\\_none          &  121 &   742 & 0.1630728 & 0.1 & 150 & FALSE\\\\\n",
       "\t Astrocytes\\_\\_\\_Day5.obob5v5\\_\\_v\\_\\_Day5.obobBL6d5\\_\\_\\_fgf1\\_grouping.pos\\_vs\\_none                       & 1203 &  6369 & 0.1888837 & 0.1 & 150 &  TRUE\\\\\n",
       "\t Astrocytes\\_\\_\\_Day5.obob5v5\\_\\_v\\_\\_Day5.obobBL6d5\\_\\_\\_restored\\_grouping.pos\\_restored\\_vs\\_none          & 1203 &  6369 & 0.1888837 & 0.1 & 150 &  TRUE\\\\\n",
       "\t other\\_\\_\\_Day5.obob5v5\\_\\_v\\_\\_Day5.obobBL6d5\\_\\_\\_fgf1\\_grouping.pos\\_vs\\_none                            & 2912 & 15029 & 0.1937587 & 0.1 & 150 &  TRUE\\\\\n",
       "\t other\\_\\_\\_Day5.obob5v5\\_\\_v\\_\\_Day5.obobBL6d5\\_\\_\\_restored\\_grouping.pos\\_restored\\_vs\\_none               & 2912 & 15029 & 0.1937587 & 0.1 & 150 &  TRUE\\\\\n",
       "\t g2\\_\\_\\_Day5.obob5v5\\_\\_v\\_\\_Day5.obobBL6d5\\_\\_\\_fgf1\\_grouping.pos\\_vs\\_none                               & 1264 &  6261 & 0.2018847 & 0.1 & 150 &  TRUE\\\\\n",
       "\t g2\\_\\_\\_Day5.obob5v5\\_\\_v\\_\\_Day5.obobBL6d5\\_\\_\\_restored\\_grouping.pos\\_restored\\_vs\\_none                  & 1264 &  6261 & 0.2018847 & 0.1 & 150 &  TRUE\\\\\n",
       "\t Th\\_\\_Slc6a3\\_\\_\\_Day5.obob5v5\\_\\_v\\_\\_Day5.obobBL6d5\\_\\_\\_fgf1\\_grouping.pos\\_vs\\_none                       &  114 &   562 & 0.2028470 & 0.1 & 150 & FALSE\\\\\n",
       "\t Th\\_\\_Slc6a3\\_\\_\\_Day5.obob5v5\\_\\_v\\_\\_Day5.obobBL6d5\\_\\_\\_restored\\_grouping.pos\\_restored\\_vs\\_none          &  114 &   562 & 0.2028470 & 0.1 & 150 & FALSE\\\\\n",
       "\t Pomc\\_\\_Glipr1\\_\\_\\_Day5.obob5v5\\_\\_v\\_\\_Day5.obobBL6d5\\_\\_\\_fgf1\\_grouping.neg\\_vs\\_none                     &  246 &  1204 & 0.2043189 & 0.1 & 150 &  TRUE\\\\\n",
       "\t Pomc\\_\\_Glipr1\\_\\_\\_Day5.obob5v5\\_\\_v\\_\\_Day5.obobBL6d5\\_\\_\\_restored\\_grouping.neg\\_restored\\_vs\\_none        &  246 &  1204 & 0.2043189 & 0.1 & 150 &  TRUE\\\\\n",
       "\t Trh\\_\\_Lef1\\_\\_\\_Day5.obob5v5\\_\\_v\\_\\_Day5.obobBL6d5\\_\\_\\_fgf1\\_grouping.neg\\_vs\\_none                        &  324 &  1571 & 0.2062381 & 0.1 & 150 &  TRUE\\\\\n",
       "\t Trh\\_\\_Lef1\\_\\_\\_Day5.obob5v5\\_\\_v\\_\\_Day5.obobBL6d5\\_\\_\\_restored\\_grouping.neg\\_restored\\_vs\\_none           &  324 &  1571 & 0.2062381 & 0.1 & 150 &  TRUE\\\\\n",
       "\t Trh\\_\\_Lef1\\_\\_\\_Day5.obob5v5\\_\\_v\\_\\_Day5.obobBL6d5\\_\\_\\_fgf1\\_grouping.pos\\_vs\\_none                        &  330 &  1571 & 0.2100573 & 0.1 & 150 &  TRUE\\\\\n",
       "\t Trh\\_\\_Lef1\\_\\_\\_Day5.obob5v5\\_\\_v\\_\\_Day5.obobBL6d5\\_\\_\\_restored\\_grouping.pos\\_restored\\_vs\\_none           &  330 &  1571 & 0.2100573 & 0.1 & 150 &  TRUE\\\\\n",
       "\t g3\\_\\_\\_Day5.obob5v5\\_\\_v\\_\\_Day5.obobBL6d5\\_\\_\\_fgf1\\_grouping.pos\\_vs\\_none                               &  550 &  2458 & 0.2237592 & 0.1 & 150 &  TRUE\\\\\n",
       "\t g3\\_\\_\\_Day5.obob5v5\\_\\_v\\_\\_Day5.obobBL6d5\\_\\_\\_restored\\_grouping.pos\\_restored\\_vs\\_none                  &  550 &  2458 & 0.2237592 & 0.1 & 150 &  TRUE\\\\\n",
       "\t Agrp\\_\\_\\_Day5.obob5v5\\_\\_v\\_\\_Day5.obobBL6d5\\_\\_\\_fgf1\\_grouping.pos\\_vs\\_none                             &  514 &  2284 & 0.2250438 & 0.1 & 150 &  TRUE\\\\\n",
       "\t Agrp\\_\\_\\_Day5.obob5v5\\_\\_v\\_\\_Day5.obobBL6d5\\_\\_\\_restored\\_grouping.pos\\_restored\\_vs\\_none                &  514 &  2284 & 0.2250438 & 0.1 & 150 &  TRUE\\\\\n",
       "\t Ghrh\\_\\_\\_Day5.obob5v5\\_\\_v\\_\\_Day5.obobBL6d5\\_\\_\\_fgf1\\_grouping.neg\\_vs\\_none                             &  261 &  1063 & 0.2455315 & 0.1 & 150 &  TRUE\\\\\n",
       "\t Ghrh\\_\\_\\_Day5.obob5v5\\_\\_v\\_\\_Day5.obobBL6d5\\_\\_\\_restored\\_grouping.neg\\_restored\\_vs\\_none                &  261 &  1063 & 0.2455315 & 0.1 & 150 &  TRUE\\\\\n",
       "\t n1\\_\\_\\_Day5.obob5v5\\_\\_v\\_\\_Day5.obobBL6d5\\_\\_\\_fgf1\\_grouping.neg\\_vs\\_none                               & 1313 &  5292 & 0.2481104 & 0.1 & 150 &  TRUE\\\\\n",
       "\t n1\\_\\_\\_Day5.obob5v5\\_\\_v\\_\\_Day5.obobBL6d5\\_\\_\\_restored\\_grouping.neg\\_restored\\_vs\\_none                  & 1313 &  5292 & 0.2481104 & 0.1 & 150 &  TRUE\\\\\n",
       "\t OPC\\_\\_\\_Day5.obob5v5\\_\\_v\\_\\_Day5.obobBL6d5\\_\\_\\_fgf1\\_grouping.pos\\_vs\\_none                              &  379 &  1499 & 0.2528352 & 0.1 & 150 &  TRUE\\\\\n",
       "\t OPC\\_\\_\\_Day5.obob5v5\\_\\_v\\_\\_Day5.obobBL6d5\\_\\_\\_restored\\_grouping.pos\\_restored\\_vs\\_none                 &  379 &  1499 & 0.2528352 & 0.1 & 150 &  TRUE\\\\\n",
       "\t Htr3b\\_\\_\\_Day5.obob5v5\\_\\_v\\_\\_Day5.obobBL6d5\\_\\_\\_fgf1\\_grouping.neg\\_vs\\_none                            &  527 &  1906 & 0.2764953 & 0.1 & 150 &  TRUE\\\\\n",
       "\t Htr3b\\_\\_\\_Day5.obob5v5\\_\\_v\\_\\_Day5.obobBL6d5\\_\\_\\_restored\\_grouping.neg\\_restored\\_vs\\_none               &  527 &  1906 & 0.2764953 & 0.1 & 150 &  TRUE\\\\\n",
       "\t g2\\_\\_\\_Day5.obob5v5\\_\\_v\\_\\_Day5.obobBL6d5\\_\\_\\_fgf1\\_grouping.neg\\_vs\\_none                               & 1831 &  6261 & 0.2924453 & 0.1 & 150 &  TRUE\\\\\n",
       "\t g2\\_\\_\\_Day5.obob5v5\\_\\_v\\_\\_Day5.obobBL6d5\\_\\_\\_restored\\_grouping.neg\\_restored\\_vs\\_none                  & 1831 &  6261 & 0.2924453 & 0.1 & 150 &  TRUE\\\\\n",
       "\t Astrocytes\\_\\_\\_Day5.obob5v5\\_\\_v\\_\\_Day5.obobBL6d5\\_\\_\\_fgf1\\_grouping.neg\\_vs\\_none                       & 1933 &  6369 & 0.3035013 & 0.1 & 150 &  TRUE\\\\\n",
       "\t Astrocytes\\_\\_\\_Day5.obob5v5\\_\\_v\\_\\_Day5.obobBL6d5\\_\\_\\_restored\\_grouping.neg\\_restored\\_vs\\_none          & 1933 &  6369 & 0.3035013 & 0.1 & 150 &  TRUE\\\\\n",
       "\t OPC\\_\\_\\_Day5.obob5v5\\_\\_v\\_\\_Day5.obobBL6d5\\_\\_\\_fgf1\\_grouping.neg\\_vs\\_none                              &  457 &  1499 & 0.3048699 & 0.1 & 150 &  TRUE\\\\\n",
       "\t OPC\\_\\_\\_Day5.obob5v5\\_\\_v\\_\\_Day5.obobBL6d5\\_\\_\\_restored\\_grouping.neg\\_restored\\_vs\\_none                 &  457 &  1499 & 0.3048699 & 0.1 & 150 &  TRUE\\\\\n",
       "\t other\\_\\_\\_Day5.obob5v5\\_\\_v\\_\\_Day5.obobBL6d5\\_\\_\\_fgf1\\_grouping.neg\\_vs\\_none                            & 4701 & 15029 & 0.3127953 & 0.1 & 150 &  TRUE\\\\\n",
       "\t other\\_\\_\\_Day5.obob5v5\\_\\_v\\_\\_Day5.obobBL6d5\\_\\_\\_restored\\_grouping.neg\\_restored\\_vs\\_none               & 4701 & 15029 & 0.3127953 & 0.1 & 150 &  TRUE\\\\\n",
       "\t Htr3b\\_\\_\\_Day5.obob5v5\\_\\_v\\_\\_Day5.obobBL6d5\\_\\_\\_fgf1\\_grouping.pos\\_vs\\_none                            &  628 &  1906 & 0.3294858 & 0.1 & 150 &  TRUE\\\\\n",
       "\t Htr3b\\_\\_\\_Day5.obob5v5\\_\\_v\\_\\_Day5.obobBL6d5\\_\\_\\_restored\\_grouping.pos\\_restored\\_vs\\_none               &  628 &  1906 & 0.3294858 & 0.1 & 150 &  TRUE\\\\\n",
       "\\end{tabular}\n"
      ],
      "text/markdown": [
       "\n",
       "A tibble: 60 × 7\n",
       "\n",
       "| tag &lt;chr&gt; | count &lt;int&gt; | total_cells &lt;int&gt; | frac &lt;dbl&gt; | frac_cutoff &lt;dbl&gt; | n_cells_cutoff &lt;dbl&gt; | n_cells_valid &lt;lgl&gt; |\n",
       "|---|---|---|---|---|---|---|\n",
       "| Tbx19__Pirt___Day5.obob5v5__v__Day5.obobBL6d5___fgf1_grouping.neg_vs_none                      |  122 |  1183 | 0.1031276 | 0.1 | 150 | FALSE |\n",
       "| Tbx19__Pirt___Day5.obob5v5__v__Day5.obobBL6d5___restored_grouping.neg_restored_vs_none         |  122 |  1183 | 0.1031276 | 0.1 | 150 | FALSE |\n",
       "| Tanycytes___Day5.obob5v5__v__Day5.obobBL6d5___fgf1_grouping.pos_vs_none                        |  528 |  5005 | 0.1054945 | 0.1 | 150 |  TRUE |\n",
       "| Tanycytes___Day5.obob5v5__v__Day5.obobBL6d5___restored_grouping.pos_restored_vs_none           |  528 |  5005 | 0.1054945 | 0.1 | 150 |  TRUE |\n",
       "| Sst__Unc13c___Day5.obob5v5__v__Day5.obobBL6d5___fgf1_grouping.pos_vs_none                      |  163 |  1535 | 0.1061889 | 0.1 | 150 |  TRUE |\n",
       "| Sst__Unc13c___Day5.obob5v5__v__Day5.obobBL6d5___restored_grouping.pos_restored_vs_none         |  163 |  1535 | 0.1061889 | 0.1 | 150 |  TRUE |\n",
       "| Nfix__Nfib___Day14.obob14v14__v__Day14.obobBL6d14___fgf1_grouping.neg_vs_none                  |  102 |   946 | 0.1078224 | 0.1 | 150 | FALSE |\n",
       "| Nfix__Nfib___Day14.obob14v14__v__Day14.obobBL6d14___restored_grouping.neg_restored_vs_none     |  102 |   946 | 0.1078224 | 0.1 | 150 | FALSE |\n",
       "| Tbx19__Pirt___Day5.obob5v5__v__Day5.obobBL6d5___fgf1_grouping.pos_vs_none                      |  147 |  1183 | 0.1242604 | 0.1 | 150 | FALSE |\n",
       "| Tbx19__Pirt___Day5.obob5v5__v__Day5.obobBL6d5___restored_grouping.pos_restored_vs_none         |  147 |  1183 | 0.1242604 | 0.1 | 150 | FALSE |\n",
       "| Pou6f2__Prkcq__Whrn___Day5.obob5v5__v__Day5.obobBL6d5___fgf1_grouping.pos_vs_none              |  136 |  1085 | 0.1253456 | 0.1 | 150 | FALSE |\n",
       "| Pou6f2__Prkcq__Whrn___Day5.obob5v5__v__Day5.obobBL6d5___restored_grouping.pos_restored_vs_none |  136 |  1085 | 0.1253456 | 0.1 | 150 | FALSE |\n",
       "| Kiss1__Tac2___Day5.obob5v5__v__Day5.obobBL6d5___fgf1_grouping.neg_vs_none                      |  215 |  1519 | 0.1415405 | 0.1 | 150 |  TRUE |\n",
       "| Kiss1__Tac2___Day5.obob5v5__v__Day5.obobBL6d5___restored_grouping.neg_restored_vs_none         |  215 |  1519 | 0.1415405 | 0.1 | 150 |  TRUE |\n",
       "| Ghrh___Day5.obob5v5__v__Day5.obobBL6d5___fgf1_grouping.pos_vs_none                             |  157 |  1063 | 0.1476952 | 0.1 | 150 |  TRUE |\n",
       "| Ghrh___Day5.obob5v5__v__Day5.obobBL6d5___restored_grouping.pos_restored_vs_none                |  157 |  1063 | 0.1476952 | 0.1 | 150 |  TRUE |\n",
       "| Agrp___Day5.obob5v5__v__Day5.obobBL6d5___fgf1_grouping.neg_vs_none                             |  343 |  2284 | 0.1501751 | 0.1 | 150 |  TRUE |\n",
       "| Agrp___Day5.obob5v5__v__Day5.obobBL6d5___restored_grouping.neg_restored_vs_none                |  343 |  2284 | 0.1501751 | 0.1 | 150 |  TRUE |\n",
       "| Oligodendrocytes___Day5.obob5v5__v__Day5.obobBL6d5___fgf1_grouping.pos_vs_none                 |  163 |  1079 | 0.1510658 | 0.1 | 150 |  TRUE |\n",
       "| Oligodendrocytes___Day5.obob5v5__v__Day5.obobBL6d5___restored_grouping.pos_restored_vs_none    |  163 |  1079 | 0.1510658 | 0.1 | 150 |  TRUE |\n",
       "| Oligodendrocytes___Day5.obob5v5__v__Day5.obobBL6d5___fgf1_grouping.neg_vs_none                 |  168 |  1079 | 0.1556997 | 0.1 | 150 |  TRUE |\n",
       "| Oligodendrocytes___Day5.obob5v5__v__Day5.obobBL6d5___restored_grouping.neg_restored_vs_none    |  168 |  1079 | 0.1556997 | 0.1 | 150 |  TRUE |\n",
       "| Sst__Pthlh___Day5.obob5v5__v__Day5.obobBL6d5___fgf1_grouping.pos_vs_none                       |  121 |   742 | 0.1630728 | 0.1 | 150 | FALSE |\n",
       "| Sst__Pthlh___Day5.obob5v5__v__Day5.obobBL6d5___restored_grouping.pos_restored_vs_none          |  121 |   742 | 0.1630728 | 0.1 | 150 | FALSE |\n",
       "| Astrocytes___Day5.obob5v5__v__Day5.obobBL6d5___fgf1_grouping.pos_vs_none                       | 1203 |  6369 | 0.1888837 | 0.1 | 150 |  TRUE |\n",
       "| Astrocytes___Day5.obob5v5__v__Day5.obobBL6d5___restored_grouping.pos_restored_vs_none          | 1203 |  6369 | 0.1888837 | 0.1 | 150 |  TRUE |\n",
       "| other___Day5.obob5v5__v__Day5.obobBL6d5___fgf1_grouping.pos_vs_none                            | 2912 | 15029 | 0.1937587 | 0.1 | 150 |  TRUE |\n",
       "| other___Day5.obob5v5__v__Day5.obobBL6d5___restored_grouping.pos_restored_vs_none               | 2912 | 15029 | 0.1937587 | 0.1 | 150 |  TRUE |\n",
       "| g2___Day5.obob5v5__v__Day5.obobBL6d5___fgf1_grouping.pos_vs_none                               | 1264 |  6261 | 0.2018847 | 0.1 | 150 |  TRUE |\n",
       "| g2___Day5.obob5v5__v__Day5.obobBL6d5___restored_grouping.pos_restored_vs_none                  | 1264 |  6261 | 0.2018847 | 0.1 | 150 |  TRUE |\n",
       "| Th__Slc6a3___Day5.obob5v5__v__Day5.obobBL6d5___fgf1_grouping.pos_vs_none                       |  114 |   562 | 0.2028470 | 0.1 | 150 | FALSE |\n",
       "| Th__Slc6a3___Day5.obob5v5__v__Day5.obobBL6d5___restored_grouping.pos_restored_vs_none          |  114 |   562 | 0.2028470 | 0.1 | 150 | FALSE |\n",
       "| Pomc__Glipr1___Day5.obob5v5__v__Day5.obobBL6d5___fgf1_grouping.neg_vs_none                     |  246 |  1204 | 0.2043189 | 0.1 | 150 |  TRUE |\n",
       "| Pomc__Glipr1___Day5.obob5v5__v__Day5.obobBL6d5___restored_grouping.neg_restored_vs_none        |  246 |  1204 | 0.2043189 | 0.1 | 150 |  TRUE |\n",
       "| Trh__Lef1___Day5.obob5v5__v__Day5.obobBL6d5___fgf1_grouping.neg_vs_none                        |  324 |  1571 | 0.2062381 | 0.1 | 150 |  TRUE |\n",
       "| Trh__Lef1___Day5.obob5v5__v__Day5.obobBL6d5___restored_grouping.neg_restored_vs_none           |  324 |  1571 | 0.2062381 | 0.1 | 150 |  TRUE |\n",
       "| Trh__Lef1___Day5.obob5v5__v__Day5.obobBL6d5___fgf1_grouping.pos_vs_none                        |  330 |  1571 | 0.2100573 | 0.1 | 150 |  TRUE |\n",
       "| Trh__Lef1___Day5.obob5v5__v__Day5.obobBL6d5___restored_grouping.pos_restored_vs_none           |  330 |  1571 | 0.2100573 | 0.1 | 150 |  TRUE |\n",
       "| g3___Day5.obob5v5__v__Day5.obobBL6d5___fgf1_grouping.pos_vs_none                               |  550 |  2458 | 0.2237592 | 0.1 | 150 |  TRUE |\n",
       "| g3___Day5.obob5v5__v__Day5.obobBL6d5___restored_grouping.pos_restored_vs_none                  |  550 |  2458 | 0.2237592 | 0.1 | 150 |  TRUE |\n",
       "| Agrp___Day5.obob5v5__v__Day5.obobBL6d5___fgf1_grouping.pos_vs_none                             |  514 |  2284 | 0.2250438 | 0.1 | 150 |  TRUE |\n",
       "| Agrp___Day5.obob5v5__v__Day5.obobBL6d5___restored_grouping.pos_restored_vs_none                |  514 |  2284 | 0.2250438 | 0.1 | 150 |  TRUE |\n",
       "| Ghrh___Day5.obob5v5__v__Day5.obobBL6d5___fgf1_grouping.neg_vs_none                             |  261 |  1063 | 0.2455315 | 0.1 | 150 |  TRUE |\n",
       "| Ghrh___Day5.obob5v5__v__Day5.obobBL6d5___restored_grouping.neg_restored_vs_none                |  261 |  1063 | 0.2455315 | 0.1 | 150 |  TRUE |\n",
       "| n1___Day5.obob5v5__v__Day5.obobBL6d5___fgf1_grouping.neg_vs_none                               | 1313 |  5292 | 0.2481104 | 0.1 | 150 |  TRUE |\n",
       "| n1___Day5.obob5v5__v__Day5.obobBL6d5___restored_grouping.neg_restored_vs_none                  | 1313 |  5292 | 0.2481104 | 0.1 | 150 |  TRUE |\n",
       "| OPC___Day5.obob5v5__v__Day5.obobBL6d5___fgf1_grouping.pos_vs_none                              |  379 |  1499 | 0.2528352 | 0.1 | 150 |  TRUE |\n",
       "| OPC___Day5.obob5v5__v__Day5.obobBL6d5___restored_grouping.pos_restored_vs_none                 |  379 |  1499 | 0.2528352 | 0.1 | 150 |  TRUE |\n",
       "| Htr3b___Day5.obob5v5__v__Day5.obobBL6d5___fgf1_grouping.neg_vs_none                            |  527 |  1906 | 0.2764953 | 0.1 | 150 |  TRUE |\n",
       "| Htr3b___Day5.obob5v5__v__Day5.obobBL6d5___restored_grouping.neg_restored_vs_none               |  527 |  1906 | 0.2764953 | 0.1 | 150 |  TRUE |\n",
       "| g2___Day5.obob5v5__v__Day5.obobBL6d5___fgf1_grouping.neg_vs_none                               | 1831 |  6261 | 0.2924453 | 0.1 | 150 |  TRUE |\n",
       "| g2___Day5.obob5v5__v__Day5.obobBL6d5___restored_grouping.neg_restored_vs_none                  | 1831 |  6261 | 0.2924453 | 0.1 | 150 |  TRUE |\n",
       "| Astrocytes___Day5.obob5v5__v__Day5.obobBL6d5___fgf1_grouping.neg_vs_none                       | 1933 |  6369 | 0.3035013 | 0.1 | 150 |  TRUE |\n",
       "| Astrocytes___Day5.obob5v5__v__Day5.obobBL6d5___restored_grouping.neg_restored_vs_none          | 1933 |  6369 | 0.3035013 | 0.1 | 150 |  TRUE |\n",
       "| OPC___Day5.obob5v5__v__Day5.obobBL6d5___fgf1_grouping.neg_vs_none                              |  457 |  1499 | 0.3048699 | 0.1 | 150 |  TRUE |\n",
       "| OPC___Day5.obob5v5__v__Day5.obobBL6d5___restored_grouping.neg_restored_vs_none                 |  457 |  1499 | 0.3048699 | 0.1 | 150 |  TRUE |\n",
       "| other___Day5.obob5v5__v__Day5.obobBL6d5___fgf1_grouping.neg_vs_none                            | 4701 | 15029 | 0.3127953 | 0.1 | 150 |  TRUE |\n",
       "| other___Day5.obob5v5__v__Day5.obobBL6d5___restored_grouping.neg_restored_vs_none               | 4701 | 15029 | 0.3127953 | 0.1 | 150 |  TRUE |\n",
       "| Htr3b___Day5.obob5v5__v__Day5.obobBL6d5___fgf1_grouping.pos_vs_none                            |  628 |  1906 | 0.3294858 | 0.1 | 150 |  TRUE |\n",
       "| Htr3b___Day5.obob5v5__v__Day5.obobBL6d5___restored_grouping.pos_restored_vs_none               |  628 |  1906 | 0.3294858 | 0.1 | 150 |  TRUE |\n",
       "\n"
      ],
      "text/plain": [
       "   tag                                                                                           \n",
       "1  Tbx19__Pirt___Day5.obob5v5__v__Day5.obobBL6d5___fgf1_grouping.neg_vs_none                     \n",
       "2  Tbx19__Pirt___Day5.obob5v5__v__Day5.obobBL6d5___restored_grouping.neg_restored_vs_none        \n",
       "3  Tanycytes___Day5.obob5v5__v__Day5.obobBL6d5___fgf1_grouping.pos_vs_none                       \n",
       "4  Tanycytes___Day5.obob5v5__v__Day5.obobBL6d5___restored_grouping.pos_restored_vs_none          \n",
       "5  Sst__Unc13c___Day5.obob5v5__v__Day5.obobBL6d5___fgf1_grouping.pos_vs_none                     \n",
       "6  Sst__Unc13c___Day5.obob5v5__v__Day5.obobBL6d5___restored_grouping.pos_restored_vs_none        \n",
       "7  Nfix__Nfib___Day14.obob14v14__v__Day14.obobBL6d14___fgf1_grouping.neg_vs_none                 \n",
       "8  Nfix__Nfib___Day14.obob14v14__v__Day14.obobBL6d14___restored_grouping.neg_restored_vs_none    \n",
       "9  Tbx19__Pirt___Day5.obob5v5__v__Day5.obobBL6d5___fgf1_grouping.pos_vs_none                     \n",
       "10 Tbx19__Pirt___Day5.obob5v5__v__Day5.obobBL6d5___restored_grouping.pos_restored_vs_none        \n",
       "11 Pou6f2__Prkcq__Whrn___Day5.obob5v5__v__Day5.obobBL6d5___fgf1_grouping.pos_vs_none             \n",
       "12 Pou6f2__Prkcq__Whrn___Day5.obob5v5__v__Day5.obobBL6d5___restored_grouping.pos_restored_vs_none\n",
       "13 Kiss1__Tac2___Day5.obob5v5__v__Day5.obobBL6d5___fgf1_grouping.neg_vs_none                     \n",
       "14 Kiss1__Tac2___Day5.obob5v5__v__Day5.obobBL6d5___restored_grouping.neg_restored_vs_none        \n",
       "15 Ghrh___Day5.obob5v5__v__Day5.obobBL6d5___fgf1_grouping.pos_vs_none                            \n",
       "16 Ghrh___Day5.obob5v5__v__Day5.obobBL6d5___restored_grouping.pos_restored_vs_none               \n",
       "17 Agrp___Day5.obob5v5__v__Day5.obobBL6d5___fgf1_grouping.neg_vs_none                            \n",
       "18 Agrp___Day5.obob5v5__v__Day5.obobBL6d5___restored_grouping.neg_restored_vs_none               \n",
       "19 Oligodendrocytes___Day5.obob5v5__v__Day5.obobBL6d5___fgf1_grouping.pos_vs_none                \n",
       "20 Oligodendrocytes___Day5.obob5v5__v__Day5.obobBL6d5___restored_grouping.pos_restored_vs_none   \n",
       "21 Oligodendrocytes___Day5.obob5v5__v__Day5.obobBL6d5___fgf1_grouping.neg_vs_none                \n",
       "22 Oligodendrocytes___Day5.obob5v5__v__Day5.obobBL6d5___restored_grouping.neg_restored_vs_none   \n",
       "23 Sst__Pthlh___Day5.obob5v5__v__Day5.obobBL6d5___fgf1_grouping.pos_vs_none                      \n",
       "24 Sst__Pthlh___Day5.obob5v5__v__Day5.obobBL6d5___restored_grouping.pos_restored_vs_none         \n",
       "25 Astrocytes___Day5.obob5v5__v__Day5.obobBL6d5___fgf1_grouping.pos_vs_none                      \n",
       "26 Astrocytes___Day5.obob5v5__v__Day5.obobBL6d5___restored_grouping.pos_restored_vs_none         \n",
       "27 other___Day5.obob5v5__v__Day5.obobBL6d5___fgf1_grouping.pos_vs_none                           \n",
       "28 other___Day5.obob5v5__v__Day5.obobBL6d5___restored_grouping.pos_restored_vs_none              \n",
       "29 g2___Day5.obob5v5__v__Day5.obobBL6d5___fgf1_grouping.pos_vs_none                              \n",
       "30 g2___Day5.obob5v5__v__Day5.obobBL6d5___restored_grouping.pos_restored_vs_none                 \n",
       "31 Th__Slc6a3___Day5.obob5v5__v__Day5.obobBL6d5___fgf1_grouping.pos_vs_none                      \n",
       "32 Th__Slc6a3___Day5.obob5v5__v__Day5.obobBL6d5___restored_grouping.pos_restored_vs_none         \n",
       "33 Pomc__Glipr1___Day5.obob5v5__v__Day5.obobBL6d5___fgf1_grouping.neg_vs_none                    \n",
       "34 Pomc__Glipr1___Day5.obob5v5__v__Day5.obobBL6d5___restored_grouping.neg_restored_vs_none       \n",
       "35 Trh__Lef1___Day5.obob5v5__v__Day5.obobBL6d5___fgf1_grouping.neg_vs_none                       \n",
       "36 Trh__Lef1___Day5.obob5v5__v__Day5.obobBL6d5___restored_grouping.neg_restored_vs_none          \n",
       "37 Trh__Lef1___Day5.obob5v5__v__Day5.obobBL6d5___fgf1_grouping.pos_vs_none                       \n",
       "38 Trh__Lef1___Day5.obob5v5__v__Day5.obobBL6d5___restored_grouping.pos_restored_vs_none          \n",
       "39 g3___Day5.obob5v5__v__Day5.obobBL6d5___fgf1_grouping.pos_vs_none                              \n",
       "40 g3___Day5.obob5v5__v__Day5.obobBL6d5___restored_grouping.pos_restored_vs_none                 \n",
       "41 Agrp___Day5.obob5v5__v__Day5.obobBL6d5___fgf1_grouping.pos_vs_none                            \n",
       "42 Agrp___Day5.obob5v5__v__Day5.obobBL6d5___restored_grouping.pos_restored_vs_none               \n",
       "43 Ghrh___Day5.obob5v5__v__Day5.obobBL6d5___fgf1_grouping.neg_vs_none                            \n",
       "44 Ghrh___Day5.obob5v5__v__Day5.obobBL6d5___restored_grouping.neg_restored_vs_none               \n",
       "45 n1___Day5.obob5v5__v__Day5.obobBL6d5___fgf1_grouping.neg_vs_none                              \n",
       "46 n1___Day5.obob5v5__v__Day5.obobBL6d5___restored_grouping.neg_restored_vs_none                 \n",
       "47 OPC___Day5.obob5v5__v__Day5.obobBL6d5___fgf1_grouping.pos_vs_none                             \n",
       "48 OPC___Day5.obob5v5__v__Day5.obobBL6d5___restored_grouping.pos_restored_vs_none                \n",
       "49 Htr3b___Day5.obob5v5__v__Day5.obobBL6d5___fgf1_grouping.neg_vs_none                           \n",
       "50 Htr3b___Day5.obob5v5__v__Day5.obobBL6d5___restored_grouping.neg_restored_vs_none              \n",
       "51 g2___Day5.obob5v5__v__Day5.obobBL6d5___fgf1_grouping.neg_vs_none                              \n",
       "52 g2___Day5.obob5v5__v__Day5.obobBL6d5___restored_grouping.neg_restored_vs_none                 \n",
       "53 Astrocytes___Day5.obob5v5__v__Day5.obobBL6d5___fgf1_grouping.neg_vs_none                      \n",
       "54 Astrocytes___Day5.obob5v5__v__Day5.obobBL6d5___restored_grouping.neg_restored_vs_none         \n",
       "55 OPC___Day5.obob5v5__v__Day5.obobBL6d5___fgf1_grouping.neg_vs_none                             \n",
       "56 OPC___Day5.obob5v5__v__Day5.obobBL6d5___restored_grouping.neg_restored_vs_none                \n",
       "57 other___Day5.obob5v5__v__Day5.obobBL6d5___fgf1_grouping.neg_vs_none                           \n",
       "58 other___Day5.obob5v5__v__Day5.obobBL6d5___restored_grouping.neg_restored_vs_none              \n",
       "59 Htr3b___Day5.obob5v5__v__Day5.obobBL6d5___fgf1_grouping.pos_vs_none                           \n",
       "60 Htr3b___Day5.obob5v5__v__Day5.obobBL6d5___restored_grouping.pos_restored_vs_none              \n",
       "   count total_cells frac      frac_cutoff n_cells_cutoff n_cells_valid\n",
       "1   122   1183       0.1031276 0.1         150            FALSE        \n",
       "2   122   1183       0.1031276 0.1         150            FALSE        \n",
       "3   528   5005       0.1054945 0.1         150             TRUE        \n",
       "4   528   5005       0.1054945 0.1         150             TRUE        \n",
       "5   163   1535       0.1061889 0.1         150             TRUE        \n",
       "6   163   1535       0.1061889 0.1         150             TRUE        \n",
       "7   102    946       0.1078224 0.1         150            FALSE        \n",
       "8   102    946       0.1078224 0.1         150            FALSE        \n",
       "9   147   1183       0.1242604 0.1         150            FALSE        \n",
       "10  147   1183       0.1242604 0.1         150            FALSE        \n",
       "11  136   1085       0.1253456 0.1         150            FALSE        \n",
       "12  136   1085       0.1253456 0.1         150            FALSE        \n",
       "13  215   1519       0.1415405 0.1         150             TRUE        \n",
       "14  215   1519       0.1415405 0.1         150             TRUE        \n",
       "15  157   1063       0.1476952 0.1         150             TRUE        \n",
       "16  157   1063       0.1476952 0.1         150             TRUE        \n",
       "17  343   2284       0.1501751 0.1         150             TRUE        \n",
       "18  343   2284       0.1501751 0.1         150             TRUE        \n",
       "19  163   1079       0.1510658 0.1         150             TRUE        \n",
       "20  163   1079       0.1510658 0.1         150             TRUE        \n",
       "21  168   1079       0.1556997 0.1         150             TRUE        \n",
       "22  168   1079       0.1556997 0.1         150             TRUE        \n",
       "23  121    742       0.1630728 0.1         150            FALSE        \n",
       "24  121    742       0.1630728 0.1         150            FALSE        \n",
       "25 1203   6369       0.1888837 0.1         150             TRUE        \n",
       "26 1203   6369       0.1888837 0.1         150             TRUE        \n",
       "27 2912  15029       0.1937587 0.1         150             TRUE        \n",
       "28 2912  15029       0.1937587 0.1         150             TRUE        \n",
       "29 1264   6261       0.2018847 0.1         150             TRUE        \n",
       "30 1264   6261       0.2018847 0.1         150             TRUE        \n",
       "31  114    562       0.2028470 0.1         150            FALSE        \n",
       "32  114    562       0.2028470 0.1         150            FALSE        \n",
       "33  246   1204       0.2043189 0.1         150             TRUE        \n",
       "34  246   1204       0.2043189 0.1         150             TRUE        \n",
       "35  324   1571       0.2062381 0.1         150             TRUE        \n",
       "36  324   1571       0.2062381 0.1         150             TRUE        \n",
       "37  330   1571       0.2100573 0.1         150             TRUE        \n",
       "38  330   1571       0.2100573 0.1         150             TRUE        \n",
       "39  550   2458       0.2237592 0.1         150             TRUE        \n",
       "40  550   2458       0.2237592 0.1         150             TRUE        \n",
       "41  514   2284       0.2250438 0.1         150             TRUE        \n",
       "42  514   2284       0.2250438 0.1         150             TRUE        \n",
       "43  261   1063       0.2455315 0.1         150             TRUE        \n",
       "44  261   1063       0.2455315 0.1         150             TRUE        \n",
       "45 1313   5292       0.2481104 0.1         150             TRUE        \n",
       "46 1313   5292       0.2481104 0.1         150             TRUE        \n",
       "47  379   1499       0.2528352 0.1         150             TRUE        \n",
       "48  379   1499       0.2528352 0.1         150             TRUE        \n",
       "49  527   1906       0.2764953 0.1         150             TRUE        \n",
       "50  527   1906       0.2764953 0.1         150             TRUE        \n",
       "51 1831   6261       0.2924453 0.1         150             TRUE        \n",
       "52 1831   6261       0.2924453 0.1         150             TRUE        \n",
       "53 1933   6369       0.3035013 0.1         150             TRUE        \n",
       "54 1933   6369       0.3035013 0.1         150             TRUE        \n",
       "55  457   1499       0.3048699 0.1         150             TRUE        \n",
       "56  457   1499       0.3048699 0.1         150             TRUE        \n",
       "57 4701  15029       0.3127953 0.1         150             TRUE        \n",
       "58 4701  15029       0.3127953 0.1         150             TRUE        \n",
       "59  628   1906       0.3294858 0.1         150             TRUE        \n",
       "60  628   1906       0.3294858 0.1         150             TRUE        "
      ]
     },
     "metadata": {},
     "output_type": "display_data"
    }
   ],
   "source": [
    "new_tibble %>% filter(frac >= 0.10) %>% arrange(frac) %>% filter(!str_detect(tag, 'bl6_grouping'))"
   ]
  },
  {
   "cell_type": "code",
   "execution_count": 20,
   "id": "d2b5ff96",
   "metadata": {},
   "outputs": [
    {
     "data": {
      "text/html": [
       "<table class=\"dataframe\">\n",
       "<caption>A tibble: 6 × 2</caption>\n",
       "<thead>\n",
       "\t<tr><th scope=col>class</th><th scope=col>cluster</th></tr>\n",
       "\t<tr><th scope=col>&lt;chr&gt;</th><th scope=col>&lt;chr&gt;</th></tr>\n",
       "</thead>\n",
       "<tbody>\n",
       "\t<tr><td>other</td><td>Tanycytes       </td></tr>\n",
       "\t<tr><td>other</td><td>OPC             </td></tr>\n",
       "\t<tr><td>other</td><td>Astrocytes      </td></tr>\n",
       "\t<tr><td>other</td><td>Ependymal_cells </td></tr>\n",
       "\t<tr><td>other</td><td>Oligodendrocytes</td></tr>\n",
       "\t<tr><td>other</td><td>Microglia       </td></tr>\n",
       "</tbody>\n",
       "</table>\n"
      ],
      "text/latex": [
       "A tibble: 6 × 2\n",
       "\\begin{tabular}{ll}\n",
       " class & cluster\\\\\n",
       " <chr> & <chr>\\\\\n",
       "\\hline\n",
       "\t other & Tanycytes       \\\\\n",
       "\t other & OPC             \\\\\n",
       "\t other & Astrocytes      \\\\\n",
       "\t other & Ependymal\\_cells \\\\\n",
       "\t other & Oligodendrocytes\\\\\n",
       "\t other & Microglia       \\\\\n",
       "\\end{tabular}\n"
      ],
      "text/markdown": [
       "\n",
       "A tibble: 6 × 2\n",
       "\n",
       "| class &lt;chr&gt; | cluster &lt;chr&gt; |\n",
       "|---|---|\n",
       "| other | Tanycytes        |\n",
       "| other | OPC              |\n",
       "| other | Astrocytes       |\n",
       "| other | Ependymal_cells  |\n",
       "| other | Oligodendrocytes |\n",
       "| other | Microglia        |\n",
       "\n"
      ],
      "text/plain": [
       "  class cluster         \n",
       "1 other Tanycytes       \n",
       "2 other OPC             \n",
       "3 other Astrocytes      \n",
       "4 other Ependymal_cells \n",
       "5 other Oligodendrocytes\n",
       "6 other Microglia       "
      ]
     },
     "metadata": {},
     "output_type": "display_data"
    }
   ],
   "source": [
    "labels_classes_tib = bind_rows(qs::qread('_targets_MAST_v2/objects/exp_labelled_other') %>% \n",
    "          `[[` %>% \n",
    "          distinct(class, labels_lvl1) %>% \n",
    "          rename(labels = labels_lvl1),\n",
    "          qs::qread('_targets_MAST_v2/objects/exp_labelled_neuron') %>% \n",
    "          `[[` %>% \n",
    "          distinct(class, labels_lvl1) %>% \n",
    "          rename(labels = labels_lvl1),\n",
    "         ) %>%\n",
    "tibble %>%\n",
    "rename(cluster = labels) %>%\n",
    "rowwise %>%\n",
    "mutate(cluster = str_replace_all(cluster, '/', '__')) %>%\n",
    "ungroup\n",
    "\n",
    "labels_classes_tib %>% head"
   ]
  },
  {
   "cell_type": "code",
   "execution_count": 21,
   "id": "eb80172c",
   "metadata": {},
   "outputs": [
    {
     "data": {
      "text/html": [
       "<table class=\"dataframe\">\n",
       "<caption>A tibble: 1 × 2</caption>\n",
       "<thead>\n",
       "\t<tr><th scope=col>class</th><th scope=col>cluster</th></tr>\n",
       "\t<tr><th scope=col>&lt;chr&gt;</th><th scope=col>&lt;chr&gt;</th></tr>\n",
       "</thead>\n",
       "<tbody>\n",
       "\t<tr><td>neuron</td><td>Irx5__Lmx1a</td></tr>\n",
       "</tbody>\n",
       "</table>\n"
      ],
      "text/latex": [
       "A tibble: 1 × 2\n",
       "\\begin{tabular}{ll}\n",
       " class & cluster\\\\\n",
       " <chr> & <chr>\\\\\n",
       "\\hline\n",
       "\t neuron & Irx5\\_\\_Lmx1a\\\\\n",
       "\\end{tabular}\n"
      ],
      "text/markdown": [
       "\n",
       "A tibble: 1 × 2\n",
       "\n",
       "| class &lt;chr&gt; | cluster &lt;chr&gt; |\n",
       "|---|---|\n",
       "| neuron | Irx5__Lmx1a |\n",
       "\n"
      ],
      "text/plain": [
       "  class  cluster    \n",
       "1 neuron Irx5__Lmx1a"
      ]
     },
     "metadata": {},
     "output_type": "display_data"
    }
   ],
   "source": [
    "labels_classes_tib %>% filter(str_detect(cluster, \"Lmx\"))"
   ]
  },
  {
   "cell_type": "code",
   "execution_count": 22,
   "id": "14c0b940",
   "metadata": {},
   "outputs": [
    {
     "data": {
      "text/html": [
       "<table class=\"dataframe\">\n",
       "<caption>A tibble: 6 × 7</caption>\n",
       "<thead>\n",
       "\t<tr><th scope=col>tag</th><th scope=col>count</th><th scope=col>total_cells</th><th scope=col>frac</th><th scope=col>frac_cutoff</th><th scope=col>n_cells_cutoff</th><th scope=col>n_cells_valid</th></tr>\n",
       "\t<tr><th scope=col>&lt;chr&gt;</th><th scope=col>&lt;int&gt;</th><th scope=col>&lt;int&gt;</th><th scope=col>&lt;dbl&gt;</th><th scope=col>&lt;dbl&gt;</th><th scope=col>&lt;dbl&gt;</th><th scope=col>&lt;lgl&gt;</th></tr>\n",
       "</thead>\n",
       "<tbody>\n",
       "\t<tr><td>Agrp___Day14.obob14v14__v__Day14.obobBL6d14___fgf1_grouping.neg_vs_none      </td><td>  0</td><td>2123</td><td>0.0000000</td><td>0.1</td><td>150</td><td>FALSE</td></tr>\n",
       "\t<tr><td>Agrp___Day14.obob14v14__v__Day14.obobBL6d14___fgf1_grouping.pos_vs_none      </td><td>  0</td><td>2123</td><td>0.0000000</td><td>0.1</td><td>150</td><td>FALSE</td></tr>\n",
       "\t<tr><td>Agrp___Day5.obob5v5__v__Day5.obobBL6d5___fgf1_grouping.neg_vs_none           </td><td>343</td><td>2284</td><td>0.1501751</td><td>0.1</td><td>150</td><td> TRUE</td></tr>\n",
       "\t<tr><td>Agrp___Day5.obob5v5__v__Day5.obobBL6d5___fgf1_grouping.pos_vs_none           </td><td>514</td><td>2284</td><td>0.2250438</td><td>0.1</td><td>150</td><td> TRUE</td></tr>\n",
       "\t<tr><td>Astrocytes___Day14.obob14v14__v__Day14.obobBL6d14___fgf1_grouping.neg_vs_none</td><td>  0</td><td>6842</td><td>0.0000000</td><td>0.1</td><td>150</td><td>FALSE</td></tr>\n",
       "\t<tr><td>Astrocytes___Day14.obob14v14__v__Day14.obobBL6d14___fgf1_grouping.pos_vs_none</td><td>  0</td><td>6842</td><td>0.0000000</td><td>0.1</td><td>150</td><td>FALSE</td></tr>\n",
       "</tbody>\n",
       "</table>\n"
      ],
      "text/latex": [
       "A tibble: 6 × 7\n",
       "\\begin{tabular}{lllllll}\n",
       " tag & count & total\\_cells & frac & frac\\_cutoff & n\\_cells\\_cutoff & n\\_cells\\_valid\\\\\n",
       " <chr> & <int> & <int> & <dbl> & <dbl> & <dbl> & <lgl>\\\\\n",
       "\\hline\n",
       "\t Agrp\\_\\_\\_Day14.obob14v14\\_\\_v\\_\\_Day14.obobBL6d14\\_\\_\\_fgf1\\_grouping.neg\\_vs\\_none       &   0 & 2123 & 0.0000000 & 0.1 & 150 & FALSE\\\\\n",
       "\t Agrp\\_\\_\\_Day14.obob14v14\\_\\_v\\_\\_Day14.obobBL6d14\\_\\_\\_fgf1\\_grouping.pos\\_vs\\_none       &   0 & 2123 & 0.0000000 & 0.1 & 150 & FALSE\\\\\n",
       "\t Agrp\\_\\_\\_Day5.obob5v5\\_\\_v\\_\\_Day5.obobBL6d5\\_\\_\\_fgf1\\_grouping.neg\\_vs\\_none            & 343 & 2284 & 0.1501751 & 0.1 & 150 &  TRUE\\\\\n",
       "\t Agrp\\_\\_\\_Day5.obob5v5\\_\\_v\\_\\_Day5.obobBL6d5\\_\\_\\_fgf1\\_grouping.pos\\_vs\\_none            & 514 & 2284 & 0.2250438 & 0.1 & 150 &  TRUE\\\\\n",
       "\t Astrocytes\\_\\_\\_Day14.obob14v14\\_\\_v\\_\\_Day14.obobBL6d14\\_\\_\\_fgf1\\_grouping.neg\\_vs\\_none &   0 & 6842 & 0.0000000 & 0.1 & 150 & FALSE\\\\\n",
       "\t Astrocytes\\_\\_\\_Day14.obob14v14\\_\\_v\\_\\_Day14.obobBL6d14\\_\\_\\_fgf1\\_grouping.pos\\_vs\\_none &   0 & 6842 & 0.0000000 & 0.1 & 150 & FALSE\\\\\n",
       "\\end{tabular}\n"
      ],
      "text/markdown": [
       "\n",
       "A tibble: 6 × 7\n",
       "\n",
       "| tag &lt;chr&gt; | count &lt;int&gt; | total_cells &lt;int&gt; | frac &lt;dbl&gt; | frac_cutoff &lt;dbl&gt; | n_cells_cutoff &lt;dbl&gt; | n_cells_valid &lt;lgl&gt; |\n",
       "|---|---|---|---|---|---|---|\n",
       "| Agrp___Day14.obob14v14__v__Day14.obobBL6d14___fgf1_grouping.neg_vs_none       |   0 | 2123 | 0.0000000 | 0.1 | 150 | FALSE |\n",
       "| Agrp___Day14.obob14v14__v__Day14.obobBL6d14___fgf1_grouping.pos_vs_none       |   0 | 2123 | 0.0000000 | 0.1 | 150 | FALSE |\n",
       "| Agrp___Day5.obob5v5__v__Day5.obobBL6d5___fgf1_grouping.neg_vs_none            | 343 | 2284 | 0.1501751 | 0.1 | 150 |  TRUE |\n",
       "| Agrp___Day5.obob5v5__v__Day5.obobBL6d5___fgf1_grouping.pos_vs_none            | 514 | 2284 | 0.2250438 | 0.1 | 150 |  TRUE |\n",
       "| Astrocytes___Day14.obob14v14__v__Day14.obobBL6d14___fgf1_grouping.neg_vs_none |   0 | 6842 | 0.0000000 | 0.1 | 150 | FALSE |\n",
       "| Astrocytes___Day14.obob14v14__v__Day14.obobBL6d14___fgf1_grouping.pos_vs_none |   0 | 6842 | 0.0000000 | 0.1 | 150 | FALSE |\n",
       "\n"
      ],
      "text/plain": [
       "  tag                                                                          \n",
       "1 Agrp___Day14.obob14v14__v__Day14.obobBL6d14___fgf1_grouping.neg_vs_none      \n",
       "2 Agrp___Day14.obob14v14__v__Day14.obobBL6d14___fgf1_grouping.pos_vs_none      \n",
       "3 Agrp___Day5.obob5v5__v__Day5.obobBL6d5___fgf1_grouping.neg_vs_none           \n",
       "4 Agrp___Day5.obob5v5__v__Day5.obobBL6d5___fgf1_grouping.pos_vs_none           \n",
       "5 Astrocytes___Day14.obob14v14__v__Day14.obobBL6d14___fgf1_grouping.neg_vs_none\n",
       "6 Astrocytes___Day14.obob14v14__v__Day14.obobBL6d14___fgf1_grouping.pos_vs_none\n",
       "  count total_cells frac      frac_cutoff n_cells_cutoff n_cells_valid\n",
       "1   0   2123        0.0000000 0.1         150            FALSE        \n",
       "2   0   2123        0.0000000 0.1         150            FALSE        \n",
       "3 343   2284        0.1501751 0.1         150             TRUE        \n",
       "4 514   2284        0.2250438 0.1         150             TRUE        \n",
       "5   0   6842        0.0000000 0.1         150            FALSE        \n",
       "6   0   6842        0.0000000 0.1         150            FALSE        "
      ]
     },
     "metadata": {},
     "output_type": "display_data"
    }
   ],
   "source": [
    "new_tibble %>% head"
   ]
  },
  {
   "cell_type": "code",
   "execution_count": 23,
   "id": "74c460cc",
   "metadata": {
    "scrolled": true
   },
   "outputs": [
    {
     "data": {
      "text/html": [
       "<table class=\"dataframe\">\n",
       "<caption>A tibble: 38 × 2</caption>\n",
       "<thead>\n",
       "\t<tr><th scope=col>cluster</th><th scope=col>class</th></tr>\n",
       "\t<tr><th scope=col>&lt;chr&gt;</th><th scope=col>&lt;chr&gt;</th></tr>\n",
       "</thead>\n",
       "<tbody>\n",
       "\t<tr><td>Agrp               </td><td>neuron</td></tr>\n",
       "\t<tr><td>Astrocytes         </td><td>other </td></tr>\n",
       "\t<tr><td>g1                 </td><td>NA    </td></tr>\n",
       "\t<tr><td>g2                 </td><td>NA    </td></tr>\n",
       "\t<tr><td>g3                 </td><td>NA    </td></tr>\n",
       "\t<tr><td>Ghrh               </td><td>neuron</td></tr>\n",
       "\t<tr><td>Htr3b              </td><td>neuron</td></tr>\n",
       "\t<tr><td>Irx5__Lmx1a        </td><td>neuron</td></tr>\n",
       "\t<tr><td>Kiss1__Tac2        </td><td>neuron</td></tr>\n",
       "\t<tr><td>Lpar1_oligo        </td><td>neuron</td></tr>\n",
       "\t<tr><td>n0                 </td><td>NA    </td></tr>\n",
       "\t<tr><td>n1                 </td><td>NA    </td></tr>\n",
       "\t<tr><td>n2                 </td><td>NA    </td></tr>\n",
       "\t<tr><td>n3                 </td><td>NA    </td></tr>\n",
       "\t<tr><td>n5                 </td><td>NA    </td></tr>\n",
       "\t<tr><td>n8                 </td><td>NA    </td></tr>\n",
       "\t<tr><td>neuron             </td><td>NA    </td></tr>\n",
       "\t<tr><td>Nfix__Nfib         </td><td>neuron</td></tr>\n",
       "\t<tr><td>Nfix__Nfib__Hgf    </td><td>neuron</td></tr>\n",
       "\t<tr><td>Nfix__Nfib__Lhx6   </td><td>neuron</td></tr>\n",
       "\t<tr><td>Oligodendrocytes   </td><td>other </td></tr>\n",
       "\t<tr><td>OPC                </td><td>other </td></tr>\n",
       "\t<tr><td>other              </td><td>NA    </td></tr>\n",
       "\t<tr><td>Pomc__Anxa2        </td><td>neuron</td></tr>\n",
       "\t<tr><td>Pomc__Glipr1       </td><td>neuron</td></tr>\n",
       "\t<tr><td>Pomc__Ttr          </td><td>neuron</td></tr>\n",
       "\t<tr><td>Pou6f2__Prkcq__Whrn</td><td>neuron</td></tr>\n",
       "\t<tr><td>Ppp1r17__Tafa4     </td><td>neuron</td></tr>\n",
       "\t<tr><td>Slc17a6__Trhr      </td><td>neuron</td></tr>\n",
       "\t<tr><td>Sst__Pthlh         </td><td>neuron</td></tr>\n",
       "\t<tr><td>Sst__Unc13c        </td><td>neuron</td></tr>\n",
       "\t<tr><td>Tanycytes          </td><td>other </td></tr>\n",
       "\t<tr><td>Tbx19__Pirt        </td><td>neuron</td></tr>\n",
       "\t<tr><td>Th__Nfib           </td><td>neuron</td></tr>\n",
       "\t<tr><td>Th__Slc6a3         </td><td>neuron</td></tr>\n",
       "\t<tr><td>Tmem215__Greb1     </td><td>neuron</td></tr>\n",
       "\t<tr><td>Trh__Cxcl12        </td><td>neuron</td></tr>\n",
       "\t<tr><td>Trh__Lef1          </td><td>neuron</td></tr>\n",
       "</tbody>\n",
       "</table>\n"
      ],
      "text/latex": [
       "A tibble: 38 × 2\n",
       "\\begin{tabular}{ll}\n",
       " cluster & class\\\\\n",
       " <chr> & <chr>\\\\\n",
       "\\hline\n",
       "\t Agrp                & neuron\\\\\n",
       "\t Astrocytes          & other \\\\\n",
       "\t g1                  & NA    \\\\\n",
       "\t g2                  & NA    \\\\\n",
       "\t g3                  & NA    \\\\\n",
       "\t Ghrh                & neuron\\\\\n",
       "\t Htr3b               & neuron\\\\\n",
       "\t Irx5\\_\\_Lmx1a         & neuron\\\\\n",
       "\t Kiss1\\_\\_Tac2         & neuron\\\\\n",
       "\t Lpar1\\_oligo         & neuron\\\\\n",
       "\t n0                  & NA    \\\\\n",
       "\t n1                  & NA    \\\\\n",
       "\t n2                  & NA    \\\\\n",
       "\t n3                  & NA    \\\\\n",
       "\t n5                  & NA    \\\\\n",
       "\t n8                  & NA    \\\\\n",
       "\t neuron              & NA    \\\\\n",
       "\t Nfix\\_\\_Nfib          & neuron\\\\\n",
       "\t Nfix\\_\\_Nfib\\_\\_Hgf     & neuron\\\\\n",
       "\t Nfix\\_\\_Nfib\\_\\_Lhx6    & neuron\\\\\n",
       "\t Oligodendrocytes    & other \\\\\n",
       "\t OPC                 & other \\\\\n",
       "\t other               & NA    \\\\\n",
       "\t Pomc\\_\\_Anxa2         & neuron\\\\\n",
       "\t Pomc\\_\\_Glipr1        & neuron\\\\\n",
       "\t Pomc\\_\\_Ttr           & neuron\\\\\n",
       "\t Pou6f2\\_\\_Prkcq\\_\\_Whrn & neuron\\\\\n",
       "\t Ppp1r17\\_\\_Tafa4      & neuron\\\\\n",
       "\t Slc17a6\\_\\_Trhr       & neuron\\\\\n",
       "\t Sst\\_\\_Pthlh          & neuron\\\\\n",
       "\t Sst\\_\\_Unc13c         & neuron\\\\\n",
       "\t Tanycytes           & other \\\\\n",
       "\t Tbx19\\_\\_Pirt         & neuron\\\\\n",
       "\t Th\\_\\_Nfib            & neuron\\\\\n",
       "\t Th\\_\\_Slc6a3          & neuron\\\\\n",
       "\t Tmem215\\_\\_Greb1      & neuron\\\\\n",
       "\t Trh\\_\\_Cxcl12         & neuron\\\\\n",
       "\t Trh\\_\\_Lef1           & neuron\\\\\n",
       "\\end{tabular}\n"
      ],
      "text/markdown": [
       "\n",
       "A tibble: 38 × 2\n",
       "\n",
       "| cluster &lt;chr&gt; | class &lt;chr&gt; |\n",
       "|---|---|\n",
       "| Agrp                | neuron |\n",
       "| Astrocytes          | other  |\n",
       "| g1                  | NA     |\n",
       "| g2                  | NA     |\n",
       "| g3                  | NA     |\n",
       "| Ghrh                | neuron |\n",
       "| Htr3b               | neuron |\n",
       "| Irx5__Lmx1a         | neuron |\n",
       "| Kiss1__Tac2         | neuron |\n",
       "| Lpar1_oligo         | neuron |\n",
       "| n0                  | NA     |\n",
       "| n1                  | NA     |\n",
       "| n2                  | NA     |\n",
       "| n3                  | NA     |\n",
       "| n5                  | NA     |\n",
       "| n8                  | NA     |\n",
       "| neuron              | NA     |\n",
       "| Nfix__Nfib          | neuron |\n",
       "| Nfix__Nfib__Hgf     | neuron |\n",
       "| Nfix__Nfib__Lhx6    | neuron |\n",
       "| Oligodendrocytes    | other  |\n",
       "| OPC                 | other  |\n",
       "| other               | NA     |\n",
       "| Pomc__Anxa2         | neuron |\n",
       "| Pomc__Glipr1        | neuron |\n",
       "| Pomc__Ttr           | neuron |\n",
       "| Pou6f2__Prkcq__Whrn | neuron |\n",
       "| Ppp1r17__Tafa4      | neuron |\n",
       "| Slc17a6__Trhr       | neuron |\n",
       "| Sst__Pthlh          | neuron |\n",
       "| Sst__Unc13c         | neuron |\n",
       "| Tanycytes           | other  |\n",
       "| Tbx19__Pirt         | neuron |\n",
       "| Th__Nfib            | neuron |\n",
       "| Th__Slc6a3          | neuron |\n",
       "| Tmem215__Greb1      | neuron |\n",
       "| Trh__Cxcl12         | neuron |\n",
       "| Trh__Lef1           | neuron |\n",
       "\n"
      ],
      "text/plain": [
       "   cluster             class \n",
       "1  Agrp                neuron\n",
       "2  Astrocytes          other \n",
       "3  g1                  NA    \n",
       "4  g2                  NA    \n",
       "5  g3                  NA    \n",
       "6  Ghrh                neuron\n",
       "7  Htr3b               neuron\n",
       "8  Irx5__Lmx1a         neuron\n",
       "9  Kiss1__Tac2         neuron\n",
       "10 Lpar1_oligo         neuron\n",
       "11 n0                  NA    \n",
       "12 n1                  NA    \n",
       "13 n2                  NA    \n",
       "14 n3                  NA    \n",
       "15 n5                  NA    \n",
       "16 n8                  NA    \n",
       "17 neuron              NA    \n",
       "18 Nfix__Nfib          neuron\n",
       "19 Nfix__Nfib__Hgf     neuron\n",
       "20 Nfix__Nfib__Lhx6    neuron\n",
       "21 Oligodendrocytes    other \n",
       "22 OPC                 other \n",
       "23 other               NA    \n",
       "24 Pomc__Anxa2         neuron\n",
       "25 Pomc__Glipr1        neuron\n",
       "26 Pomc__Ttr           neuron\n",
       "27 Pou6f2__Prkcq__Whrn neuron\n",
       "28 Ppp1r17__Tafa4      neuron\n",
       "29 Slc17a6__Trhr       neuron\n",
       "30 Sst__Pthlh          neuron\n",
       "31 Sst__Unc13c         neuron\n",
       "32 Tanycytes           other \n",
       "33 Tbx19__Pirt         neuron\n",
       "34 Th__Nfib            neuron\n",
       "35 Th__Slc6a3          neuron\n",
       "36 Tmem215__Greb1      neuron\n",
       "37 Trh__Cxcl12         neuron\n",
       "38 Trh__Lef1           neuron"
      ]
     },
     "metadata": {},
     "output_type": "display_data"
    }
   ],
   "source": [
    "combined_deg_seurat = combined_deg_seurat_all %>%\n",
    "filter(p_val_adj < 0.05 &\n",
    "       avg_log2FC > 0 &\n",
    "       !(str_detect(cells_b, '(rest|neg|pos)')) &\n",
    "       fgf1_day != 'all' &\n",
    "       bl6_day != 'all'\n",
    "#        cluster == 'Agrp' \n",
    "#        cells_a == 'neg'\n",
    "       ) %>%\n",
    "left_join(labels_classes_tib, by='cluster')\n",
    "\n",
    "combined_deg_seurat %>% distinct(cluster, class)"
   ]
  },
  {
   "cell_type": "code",
   "execution_count": 24,
   "id": "08c81d85",
   "metadata": {},
   "outputs": [
    {
     "data": {
      "text/html": [
       "<table class=\"dataframe\">\n",
       "<caption>A tibble: 1 × 2</caption>\n",
       "<thead>\n",
       "\t<tr><th scope=col>class</th><th scope=col>cluster</th></tr>\n",
       "\t<tr><th scope=col>&lt;chr&gt;</th><th scope=col>&lt;chr&gt;</th></tr>\n",
       "</thead>\n",
       "<tbody>\n",
       "\t<tr><td>neuron</td><td>Irx5__Lmx1a</td></tr>\n",
       "</tbody>\n",
       "</table>\n"
      ],
      "text/latex": [
       "A tibble: 1 × 2\n",
       "\\begin{tabular}{ll}\n",
       " class & cluster\\\\\n",
       " <chr> & <chr>\\\\\n",
       "\\hline\n",
       "\t neuron & Irx5\\_\\_Lmx1a\\\\\n",
       "\\end{tabular}\n"
      ],
      "text/markdown": [
       "\n",
       "A tibble: 1 × 2\n",
       "\n",
       "| class &lt;chr&gt; | cluster &lt;chr&gt; |\n",
       "|---|---|\n",
       "| neuron | Irx5__Lmx1a |\n",
       "\n"
      ],
      "text/plain": [
       "  class  cluster    \n",
       "1 neuron Irx5__Lmx1a"
      ]
     },
     "metadata": {},
     "output_type": "display_data"
    }
   ],
   "source": [
    "labels_classes_tib %>% filter(str_detect(cluster, 'Lmx'))"
   ]
  },
  {
   "cell_type": "code",
   "execution_count": 25,
   "id": "728cbc52",
   "metadata": {},
   "outputs": [],
   "source": [
    "combined_deg_seurat = combined_deg_seurat_all %>%\n",
    "filter(p_val_adj < 0.05 &\n",
    "       avg_log2FC > 0 &\n",
    "       !(str_detect(cells_b, '(rest|neg|pos)')) &\n",
    "       fgf1_day != 'all' &\n",
    "       bl6_day != 'all'\n",
    "#        cluster == 'Agrp' \n",
    "#        cells_a == 'neg'\n",
    "       ) %>%\n",
    "left_join(labels_classes_tib, by='cluster') %>% \n",
    "left_join(new_tibble, by=c('tag')) %>%\n",
    "relocate(class, .after='cluster')"
   ]
  },
  {
   "cell_type": "code",
   "execution_count": null,
   "id": "456e64c4",
   "metadata": {},
   "outputs": [],
   "source": []
  },
  {
   "cell_type": "code",
   "execution_count": 26,
   "id": "f36f71ab",
   "metadata": {},
   "outputs": [
    {
     "data": {
      "text/html": [
       "<style>\n",
       ".list-inline {list-style: none; margin:0; padding: 0}\n",
       ".list-inline>li {display: inline-block}\n",
       ".list-inline>li:not(:last-child)::after {content: \"\\00b7\"; padding: 0 .5ex}\n",
       "</style>\n",
       "<ol class=list-inline><li>'obob14v14'</li><li>'obob5v5'</li></ol>\n"
      ],
      "text/latex": [
       "\\begin{enumerate*}\n",
       "\\item 'obob14v14'\n",
       "\\item 'obob5v5'\n",
       "\\end{enumerate*}\n"
      ],
      "text/markdown": [
       "1. 'obob14v14'\n",
       "2. 'obob5v5'\n",
       "\n",
       "\n"
      ],
      "text/plain": [
       "[1] \"obob14v14\" \"obob5v5\"  "
      ]
     },
     "metadata": {},
     "output_type": "display_data"
    },
    {
     "data": {
      "text/html": [
       "<style>\n",
       ".list-inline {list-style: none; margin:0; padding: 0}\n",
       ".list-inline>li {display: inline-block}\n",
       ".list-inline>li:not(:last-child)::after {content: \"\\00b7\"; padding: 0 .5ex}\n",
       "</style>\n",
       "<ol class=list-inline><li>'obobBL6d14'</li><li>'obobBL6d5'</li></ol>\n"
      ],
      "text/latex": [
       "\\begin{enumerate*}\n",
       "\\item 'obobBL6d14'\n",
       "\\item 'obobBL6d5'\n",
       "\\end{enumerate*}\n"
      ],
      "text/markdown": [
       "1. 'obobBL6d14'\n",
       "2. 'obobBL6d5'\n",
       "\n",
       "\n"
      ],
      "text/plain": [
       "[1] \"obobBL6d14\" \"obobBL6d5\" "
      ]
     },
     "metadata": {},
     "output_type": "display_data"
    },
    {
     "data": {
      "text/html": [
       "<style>\n",
       ".list-inline {list-style: none; margin:0; padding: 0}\n",
       ".list-inline>li {display: inline-block}\n",
       ".list-inline>li:not(:last-child)::after {content: \"\\00b7\"; padding: 0 .5ex}\n",
       "</style>\n",
       "<ol class=list-inline><li>'bl6_grouping'</li><li>'fgf1_grouping'</li><li>'restored_grouping'</li></ol>\n"
      ],
      "text/latex": [
       "\\begin{enumerate*}\n",
       "\\item 'bl6\\_grouping'\n",
       "\\item 'fgf1\\_grouping'\n",
       "\\item 'restored\\_grouping'\n",
       "\\end{enumerate*}\n"
      ],
      "text/markdown": [
       "1. 'bl6_grouping'\n",
       "2. 'fgf1_grouping'\n",
       "3. 'restored_grouping'\n",
       "\n",
       "\n"
      ],
      "text/plain": [
       "[1] \"bl6_grouping\"      \"fgf1_grouping\"     \"restored_grouping\""
      ]
     },
     "metadata": {},
     "output_type": "display_data"
    },
    {
     "data": {
      "text/html": [
       "<style>\n",
       ".list-inline {list-style: none; margin:0; padding: 0}\n",
       ".list-inline>li {display: inline-block}\n",
       ".list-inline>li:not(:last-child)::after {content: \"\\00b7\"; padding: 0 .5ex}\n",
       "</style>\n",
       "<ol class=list-inline><li>'neg'</li><li>'pos'</li><li>'neg_restored'</li><li>'pos_restored'</li></ol>\n"
      ],
      "text/latex": [
       "\\begin{enumerate*}\n",
       "\\item 'neg'\n",
       "\\item 'pos'\n",
       "\\item 'neg\\_restored'\n",
       "\\item 'pos\\_restored'\n",
       "\\end{enumerate*}\n"
      ],
      "text/markdown": [
       "1. 'neg'\n",
       "2. 'pos'\n",
       "3. 'neg_restored'\n",
       "4. 'pos_restored'\n",
       "\n",
       "\n"
      ],
      "text/plain": [
       "[1] \"neg\"          \"pos\"          \"neg_restored\" \"pos_restored\""
      ]
     },
     "metadata": {},
     "output_type": "display_data"
    },
    {
     "data": {
      "text/html": [
       "'none'"
      ],
      "text/latex": [
       "'none'"
      ],
      "text/markdown": [
       "'none'"
      ],
      "text/plain": [
       "[1] \"none\""
      ]
     },
     "metadata": {},
     "output_type": "display_data"
    }
   ],
   "source": [
    "combined_deg_seurat %>% pull(fgf1_comparison) %>% unique\n",
    "combined_deg_seurat %>% pull(bl6_comparison) %>% unique\n",
    "combined_deg_seurat %>% pull(grouping) %>% unique\n",
    "combined_deg_seurat %>% pull(cells_a) %>% unique\n",
    "combined_deg_seurat %>% pull(cells_b) %>% unique"
   ]
  },
  {
   "cell_type": "code",
   "execution_count": 27,
   "id": "4064437b",
   "metadata": {},
   "outputs": [],
   "source": [
    "cluster_order = combined_deg_seurat %>%\n",
    "filter(fgf1_day == 'Day5'  &\n",
    "       grouping == 'fgf1_grouping') %>%\n",
    "group_by(cluster) %>%\n",
    "summarise(n=n()) %>% \n",
    "arrange(desc(n)) %>%\n",
    "pull(cluster)"
   ]
  },
  {
   "cell_type": "code",
   "execution_count": null,
   "id": "2aaa0ce2",
   "metadata": {},
   "outputs": [],
   "source": []
  },
  {
   "cell_type": "code",
   "execution_count": 28,
   "id": "70a123e8",
   "metadata": {},
   "outputs": [],
   "source": [
    "options(repr.plot.width=7, repr.plot.height=2)\n",
    "markers = combined_deg_seurat %>%\n",
    "    filter(fgf1_day == 'Day5'  &\n",
    "           grouping == 'fgf1_grouping') %>%\n",
    "    filter(class == 'other')\n",
    "\n",
    "# Set dimensions\n",
    "options(repr.plot.width=7, repr.plot.height=2)\n",
    "\n",
    "# Load necessary library\n",
    "make_marker_bars = function(markers){\n",
    "    # Grouping and counting\n",
    "    markers_summary <- markers %>%\n",
    "      group_by(cluster, cells_a, n_cells_valid) %>%\n",
    "      summarise(n = if_else(all(n_cells_valid), n(), NA), .groups = \"drop\") %>%\n",
    "      # Adding missing combinations with count 0\n",
    "      tidyr::complete(cluster, cells_a, fill = list(n = 0))\n",
    "\n",
    "    # Calculate upper limit for y-axis, considering some space for the labels\n",
    "    upper_limit <- max(markers_summary$n) * 1.25  # You can adjust the multiplier to get a suitable space for the labels\n",
    "\n",
    "    # Plotting\n",
    "    ggplot(markers_summary, aes(x = cluster, y = n, fill = cells_a)) +\n",
    "      geom_bar(stat = \"identity\", position = position_dodge()) +\n",
    "      geom_text(aes(label=n), vjust=-0.3, position = position_dodge(0.9), size=2.5, check_overlap = TRUE) +\n",
    "      xlab(\"Cluster\") +\n",
    "      theme_classic() +\n",
    "      theme(axis.title.y = element_blank(), \n",
    "            axis.title.x = element_blank(), \n",
    "            plot.title = element_blank(), \n",
    "            axis.text.x = element_text(angle = 45, hjust = 1, size = 6), \n",
    "            legend.text = element_text(size = 6),\n",
    "            legend.title = element_text(size = 7)) +\n",
    "      scale_fill_brewer(palette = \"Set1\") +  # You can choose any other palette\n",
    "      ylim(0, upper_limit)  # Setting the limits for y-axis\n",
    "}\n"
   ]
  },
  {
   "cell_type": "code",
   "execution_count": 29,
   "id": "ec341017",
   "metadata": {},
   "outputs": [],
   "source": [
    "markers_d5_neuron = combined_deg_seurat %>%\n",
    "    filter(fgf1_day == 'Day5'  &\n",
    "           grouping == 'fgf1_grouping') %>%\n",
    "    filter(class == 'neuron')"
   ]
  },
  {
   "cell_type": "code",
   "execution_count": 30,
   "id": "7ee14142",
   "metadata": {},
   "outputs": [],
   "source": [
    "make_marker_bars = function(markers, cluster_categories, y_upper_limit=150){\n",
    "    # Grouping and counting\n",
    "    markers_summary <- markers %>%\n",
    "          mutate(cluster = factor(cluster)) %>%  # Make sure that 'cluster' is a factor\n",
    "          group_by(cluster, cells_a) %>%\n",
    "          summarise(n = if_else(all(n_cells_valid), n(), 0L), .groups = \"drop\") %>%\n",
    "          ungroup %>%\n",
    "          filter(cluster %in% cluster_categories) %>%\n",
    "          mutate(cluster = droplevels(cluster))  %>%\n",
    "      # Adding missing combinations with count 0\n",
    "      tidyr::complete(cluster, cells_a, fill = list(n = 0))\n",
    "\n",
    "        # Create a factor with all possible levels\n",
    "        all_clusters <- factor(markers_summary$cluster, levels = c(cluster_categories, unique(markers_summary$cluster)))\n",
    "\n",
    "        # Joining with expanded frame to ensure all combinations\n",
    "        markers_summary <- tidyr::expand_grid(cluster = cluster_categories, cells_a = unique(markers_summary$cells_a)) %>%\n",
    "          left_join(markers_summary, by = c(\"cluster\", \"cells_a\")) %>%\n",
    "          replace_na(list(n = 0)) %>%\n",
    "          mutate(n_label = case_when(n == 0 ~ '',\n",
    "                               TRUE ~ paste0(n)))\n",
    "    \n",
    "        markers_summary %>% arrange(desc(n)) %>% head(1000) %>% print\n",
    "\n",
    "        # Plotting\n",
    "        ggplot(markers_summary, aes(x = cluster, y = n, fill = cells_a)) +\n",
    "          geom_bar(stat = \"identity\", position = position_dodge()) +\n",
    "          geom_text(aes(label=n_label), vjust=-0.3, position = position_dodge(0.9), size=2.5, check_overlap = FALSE) +\n",
    "#           geom_text_repel(data = subset(markers_summary, n > 0), aes(label = n), \n",
    "#                           size = 2.5, force = 0, segment.size = 0.2, nudge_y = 0.5) +\n",
    "          scale_x_discrete(drop = FALSE, limits = cluster_categories) +  # Ensures that all levels are shown on x-axis\n",
    "          xlab(\"Cluster\") +\n",
    "          theme_classic() +\n",
    "          theme(axis.title.y = element_blank(), \n",
    "                axis.title.x = element_blank(), \n",
    "#                 plot.title = element_blank(), \n",
    "                axis.text.x = element_text(angle = 45, hjust = 1, size = 6), \n",
    "                legend.text = element_text(size = 6),\n",
    "                legend.title = element_text(size = 7)) +\n",
    "#           scale_fill_brewer(palette = \"Set1\") +  # You can choose any other palette\n",
    "    scale_fill_manual(values = c(\"neg\" = \"#d73027\", \"pos\" = \"#4575b4\", \"neg_restored\" = \"#a50026\", \"pos_restored\" = \"#313695\")) +\n",
    "          ylim(0, y_upper_limit)  # Setting the limits for y-axis\n",
    "}\n"
   ]
  },
  {
   "cell_type": "code",
   "execution_count": null,
   "id": "5c1fb753",
   "metadata": {},
   "outputs": [],
   "source": []
  },
  {
   "cell_type": "code",
   "execution_count": null,
   "id": "0b690017",
   "metadata": {},
   "outputs": [],
   "source": []
  },
  {
   "cell_type": "code",
   "execution_count": 31,
   "id": "d5f06eee",
   "metadata": {},
   "outputs": [
    {
     "data": {
      "text/html": [
       "<style>\n",
       ".list-inline {list-style: none; margin:0; padding: 0}\n",
       ".list-inline>li {display: inline-block}\n",
       ".list-inline>li:not(:last-child)::after {content: \"\\00b7\"; padding: 0 .5ex}\n",
       "</style>\n",
       "<ol class=list-inline><li>'Tanycytes'</li><li>'OPC'</li><li>'Astrocytes'</li><li>'Ependymal_cells'</li><li>'Oligodendrocytes'</li><li>'Microglia'</li><li>'Endothelial_cells'</li></ol>\n"
      ],
      "text/latex": [
       "\\begin{enumerate*}\n",
       "\\item 'Tanycytes'\n",
       "\\item 'OPC'\n",
       "\\item 'Astrocytes'\n",
       "\\item 'Ependymal\\_cells'\n",
       "\\item 'Oligodendrocytes'\n",
       "\\item 'Microglia'\n",
       "\\item 'Endothelial\\_cells'\n",
       "\\end{enumerate*}\n"
      ],
      "text/markdown": [
       "1. 'Tanycytes'\n",
       "2. 'OPC'\n",
       "3. 'Astrocytes'\n",
       "4. 'Ependymal_cells'\n",
       "5. 'Oligodendrocytes'\n",
       "6. 'Microglia'\n",
       "7. 'Endothelial_cells'\n",
       "\n",
       "\n"
      ],
      "text/plain": [
       "[1] \"Tanycytes\"         \"OPC\"               \"Astrocytes\"       \n",
       "[4] \"Ependymal_cells\"   \"Oligodendrocytes\"  \"Microglia\"        \n",
       "[7] \"Endothelial_cells\""
      ]
     },
     "metadata": {},
     "output_type": "display_data"
    }
   ],
   "source": [
    "cluster_categories = labels_classes_tib %>% filter(class == 'other') %>% pull(cluster)\n",
    "cluster_categories"
   ]
  },
  {
   "cell_type": "code",
   "execution_count": null,
   "id": "5598b033",
   "metadata": {},
   "outputs": [],
   "source": []
  },
  {
   "cell_type": "code",
   "execution_count": 32,
   "id": "eeb3b5f8",
   "metadata": {},
   "outputs": [
    {
     "name": "stdout",
     "output_type": "stream",
     "text": [
      "\u001b[90m# A tibble: 14 × 4\u001b[39m\n",
      "   cluster           cells_a     n n_label\n",
      "   \u001b[3m\u001b[90m<chr>\u001b[39m\u001b[23m             \u001b[3m\u001b[90m<chr>\u001b[39m\u001b[23m   \u001b[3m\u001b[90m<int>\u001b[39m\u001b[23m \u001b[3m\u001b[90m<chr>\u001b[39m\u001b[23m  \n",
      "\u001b[90m 1\u001b[39m OPC               pos      \u001b[4m4\u001b[24m836 \u001b[90m\"\u001b[39m4836\u001b[90m\"\u001b[39m \n",
      "\u001b[90m 2\u001b[39m OPC               neg      \u001b[4m4\u001b[24m088 \u001b[90m\"\u001b[39m4088\u001b[90m\"\u001b[39m \n",
      "\u001b[90m 3\u001b[39m Tanycytes         pos      \u001b[4m2\u001b[24m764 \u001b[90m\"\u001b[39m2764\u001b[90m\"\u001b[39m \n",
      "\u001b[90m 4\u001b[39m Astrocytes        pos      \u001b[4m2\u001b[24m052 \u001b[90m\"\u001b[39m2052\u001b[90m\"\u001b[39m \n",
      "\u001b[90m 5\u001b[39m Astrocytes        neg       543 \u001b[90m\"\u001b[39m543\u001b[90m\"\u001b[39m  \n",
      "\u001b[90m 6\u001b[39m Oligodendrocytes  neg       322 \u001b[90m\"\u001b[39m322\u001b[90m\"\u001b[39m  \n",
      "\u001b[90m 7\u001b[39m Oligodendrocytes  pos       198 \u001b[90m\"\u001b[39m198\u001b[90m\"\u001b[39m  \n",
      "\u001b[90m 8\u001b[39m Tanycytes         neg         0 \u001b[90m\"\u001b[39m\u001b[90m\"\u001b[39m     \n",
      "\u001b[90m 9\u001b[39m Ependymal_cells   neg         0 \u001b[90m\"\u001b[39m\u001b[90m\"\u001b[39m     \n",
      "\u001b[90m10\u001b[39m Ependymal_cells   pos         0 \u001b[90m\"\u001b[39m\u001b[90m\"\u001b[39m     \n",
      "\u001b[90m11\u001b[39m Microglia         neg         0 \u001b[90m\"\u001b[39m\u001b[90m\"\u001b[39m     \n",
      "\u001b[90m12\u001b[39m Microglia         pos         0 \u001b[90m\"\u001b[39m\u001b[90m\"\u001b[39m     \n",
      "\u001b[90m13\u001b[39m Endothelial_cells neg         0 \u001b[90m\"\u001b[39m\u001b[90m\"\u001b[39m     \n",
      "\u001b[90m14\u001b[39m Endothelial_cells pos         0 \u001b[90m\"\u001b[39m\u001b[90m\"\u001b[39m     \n"
     ]
    },
    {
     "name": "stderr",
     "output_type": "stream",
     "text": [
      "Warning message:\n",
      "“\u001b[1m\u001b[22mRemoved 2 rows containing missing values (`geom_bar()`).”\n",
      "Warning message:\n",
      "“\u001b[1m\u001b[22mRemoved 2 rows containing missing values (`geom_text()`).”\n"
     ]
    },
    {
     "data": {
      "image/png": "[encoded data removed]",
      "text/plain": [
       "plot without title"
      ]
     },
     "metadata": {
      "image/png": {
       "height": 120,
       "width": 420
      }
     },
     "output_type": "display_data"
    }
   ],
   "source": [
    "options(repr.plot.width=7, repr.plot.height=2)\n",
    "markers_d5_other = combined_deg_seurat %>%\n",
    "    filter(fgf1_day == 'Day5'  &\n",
    "           grouping == 'fgf1_grouping') %>%\n",
    "    filter(class == 'other')\n",
    "ggp_d5_other = make_marker_bars(markers_d5_other, cluster_categories, 3000) +\n",
    "                theme(axis.text.x = element_blank(),\n",
    "                        axis.ticks.x = element_blank())\n",
    "ggp_d5_other"
   ]
  },
  {
   "cell_type": "code",
   "execution_count": 33,
   "id": "dd04a0a3",
   "metadata": {},
   "outputs": [
    {
     "name": "stdout",
     "output_type": "stream",
     "text": [
      "\u001b[90m# A tibble: 14 × 4\u001b[39m\n",
      "   cluster           cells_a          n n_label\n",
      "   \u001b[3m\u001b[90m<chr>\u001b[39m\u001b[23m             \u001b[3m\u001b[90m<chr>\u001b[39m\u001b[23m        \u001b[3m\u001b[90m<int>\u001b[39m\u001b[23m \u001b[3m\u001b[90m<chr>\u001b[39m\u001b[23m  \n",
      "\u001b[90m 1\u001b[39m Oligodendrocytes  neg_restored   320 \u001b[90m\"\u001b[39m320\u001b[90m\"\u001b[39m  \n",
      "\u001b[90m 2\u001b[39m Astrocytes        neg_restored   157 \u001b[90m\"\u001b[39m157\u001b[90m\"\u001b[39m  \n",
      "\u001b[90m 3\u001b[39m Tanycytes         neg_restored     0 \u001b[90m\"\u001b[39m\u001b[90m\"\u001b[39m     \n",
      "\u001b[90m 4\u001b[39m Tanycytes         pos_restored     0 \u001b[90m\"\u001b[39m\u001b[90m\"\u001b[39m     \n",
      "\u001b[90m 5\u001b[39m OPC               neg_restored     0 \u001b[90m\"\u001b[39m\u001b[90m\"\u001b[39m     \n",
      "\u001b[90m 6\u001b[39m OPC               pos_restored     0 \u001b[90m\"\u001b[39m\u001b[90m\"\u001b[39m     \n",
      "\u001b[90m 7\u001b[39m Astrocytes        pos_restored     0 \u001b[90m\"\u001b[39m\u001b[90m\"\u001b[39m     \n",
      "\u001b[90m 8\u001b[39m Ependymal_cells   neg_restored     0 \u001b[90m\"\u001b[39m\u001b[90m\"\u001b[39m     \n",
      "\u001b[90m 9\u001b[39m Ependymal_cells   pos_restored     0 \u001b[90m\"\u001b[39m\u001b[90m\"\u001b[39m     \n",
      "\u001b[90m10\u001b[39m Oligodendrocytes  pos_restored     0 \u001b[90m\"\u001b[39m\u001b[90m\"\u001b[39m     \n",
      "\u001b[90m11\u001b[39m Microglia         neg_restored     0 \u001b[90m\"\u001b[39m\u001b[90m\"\u001b[39m     \n",
      "\u001b[90m12\u001b[39m Microglia         pos_restored     0 \u001b[90m\"\u001b[39m\u001b[90m\"\u001b[39m     \n",
      "\u001b[90m13\u001b[39m Endothelial_cells neg_restored     0 \u001b[90m\"\u001b[39m\u001b[90m\"\u001b[39m     \n",
      "\u001b[90m14\u001b[39m Endothelial_cells pos_restored     0 \u001b[90m\"\u001b[39m\u001b[90m\"\u001b[39m     \n"
     ]
    },
    {
     "data": {
      "image/png": "[encoded data removed]",
      "text/plain": [
       "plot without title"
      ]
     },
     "metadata": {
      "image/png": {
       "height": 120,
       "width": 420
      }
     },
     "output_type": "display_data"
    }
   ],
   "source": [
    "options(repr.plot.width=7, repr.plot.height=2)\n",
    "markers_d5_other = combined_deg_seurat %>%\n",
    "    filter(fgf1_day == 'Day5'  &\n",
    "           grouping == 'restored_grouping') %>%\n",
    "    filter(class == 'other')  %>%\n",
    "bind_rows(tibble(cluster = .$cluster, cells_a = 'pos_restored'))\n",
    "ggp_d5_other_restored = make_marker_bars(markers_d5_other, cluster_categories, 3000)\n",
    "ggp_d5_other_restored"
   ]
  },
  {
   "cell_type": "code",
   "execution_count": 34,
   "id": "21b2b214",
   "metadata": {},
   "outputs": [
    {
     "name": "stderr",
     "output_type": "stream",
     "text": [
      "Warning message:\n",
      "“\u001b[1m\u001b[22mRemoved 2 rows containing missing values (`geom_bar()`).”\n",
      "Warning message:\n",
      "“\u001b[1m\u001b[22mRemoved 2 rows containing missing values (`geom_text()`).”\n",
      "Warning message:\n",
      "“\u001b[1m\u001b[22mRemoved 2 rows containing missing values (`geom_bar()`).”\n",
      "Warning message:\n",
      "“\u001b[1m\u001b[22mRemoved 2 rows containing missing values (`geom_text()`).”\n"
     ]
    },
    {
     "data": {
      "image/png": "[encoded data removed]",
      "text/plain": [
       "plot without title"
      ]
     },
     "metadata": {
      "image/png": {
       "height": 126,
       "width": 420
      }
     },
     "output_type": "display_data"
    }
   ],
   "source": [
    "options(repr.plot.width=7, repr.plot.height=2.1)\n",
    "layout <- '\n",
    "A\n",
    "B\n",
    "'\n",
    "ggp_all_other = wrap_plots(A = ggp_d5_other,\n",
    "               B = ggp_d5_other_restored,\n",
    "        design = layout) +\n",
    "    plot_layout(guides = 'collect') & \n",
    "      theme(plot.margin = margin(2, 0, 0, 2)) \n",
    "\n",
    "ggp_all_other = ggp_all_other + plot_annotation(tag_levels = c('A', 'B', 'C', 'D'))\n",
    "\n",
    "ggp_all_other %>% ggsave('_targets_MAST_v2/deg_count_plot_other_AB_MAST_v2.pdf', plot = ., width = 7, height=4)\n",
    "ggp_all_other"
   ]
  },
  {
   "cell_type": "code",
   "execution_count": 35,
   "id": "35821715",
   "metadata": {},
   "outputs": [
    {
     "name": "stdout",
     "output_type": "stream",
     "text": [
      "\u001b[90m# A tibble: 14 × 4\u001b[39m\n",
      "   cluster           cells_a     n n_label\n",
      "   \u001b[3m\u001b[90m<chr>\u001b[39m\u001b[23m             \u001b[3m\u001b[90m<chr>\u001b[39m\u001b[23m   \u001b[3m\u001b[90m<int>\u001b[39m\u001b[23m \u001b[3m\u001b[90m<chr>\u001b[39m\u001b[23m  \n",
      "\u001b[90m 1\u001b[39m Tanycytes         neg         0 \u001b[90m\"\u001b[39m\u001b[90m\"\u001b[39m     \n",
      "\u001b[90m 2\u001b[39m Tanycytes         pos         0 \u001b[90m\"\u001b[39m\u001b[90m\"\u001b[39m     \n",
      "\u001b[90m 3\u001b[39m OPC               neg         0 \u001b[90m\"\u001b[39m\u001b[90m\"\u001b[39m     \n",
      "\u001b[90m 4\u001b[39m OPC               pos         0 \u001b[90m\"\u001b[39m\u001b[90m\"\u001b[39m     \n",
      "\u001b[90m 5\u001b[39m Astrocytes        neg         0 \u001b[90m\"\u001b[39m\u001b[90m\"\u001b[39m     \n",
      "\u001b[90m 6\u001b[39m Astrocytes        pos         0 \u001b[90m\"\u001b[39m\u001b[90m\"\u001b[39m     \n",
      "\u001b[90m 7\u001b[39m Ependymal_cells   neg         0 \u001b[90m\"\u001b[39m\u001b[90m\"\u001b[39m     \n",
      "\u001b[90m 8\u001b[39m Ependymal_cells   pos         0 \u001b[90m\"\u001b[39m\u001b[90m\"\u001b[39m     \n",
      "\u001b[90m 9\u001b[39m Oligodendrocytes  neg         0 \u001b[90m\"\u001b[39m\u001b[90m\"\u001b[39m     \n",
      "\u001b[90m10\u001b[39m Oligodendrocytes  pos         0 \u001b[90m\"\u001b[39m\u001b[90m\"\u001b[39m     \n",
      "\u001b[90m11\u001b[39m Microglia         neg         0 \u001b[90m\"\u001b[39m\u001b[90m\"\u001b[39m     \n",
      "\u001b[90m12\u001b[39m Microglia         pos         0 \u001b[90m\"\u001b[39m\u001b[90m\"\u001b[39m     \n",
      "\u001b[90m13\u001b[39m Endothelial_cells neg         0 \u001b[90m\"\u001b[39m\u001b[90m\"\u001b[39m     \n",
      "\u001b[90m14\u001b[39m Endothelial_cells pos         0 \u001b[90m\"\u001b[39m\u001b[90m\"\u001b[39m     \n"
     ]
    },
    {
     "data": {
      "image/png": "[encoded data removed]",
      "text/plain": [
       "plot without title"
      ]
     },
     "metadata": {
      "image/png": {
       "height": 120,
       "width": 420
      }
     },
     "output_type": "display_data"
    }
   ],
   "source": [
    "options(repr.plot.width=7, repr.plot.height=2)\n",
    "markers_d14_other = combined_deg_seurat %>%\n",
    "    filter(fgf1_day == 'Day14'  &\n",
    "           grouping == 'fgf1_grouping') %>%\n",
    "    filter(class == 'other') %>%\n",
    "bind_rows(tibble(cluster = .$cluster, cells_a = 'neg'))\n",
    "ggp_d14_other = make_marker_bars(markers_d14_other, cluster_categories, 3000)  +\n",
    "                theme(axis.text.x = element_blank(),\n",
    "                        axis.ticks.x = element_blank())\n",
    "ggp_d14_other"
   ]
  },
  {
   "cell_type": "code",
   "execution_count": null,
   "id": "51047bb9",
   "metadata": {},
   "outputs": [],
   "source": []
  },
  {
   "cell_type": "code",
   "execution_count": 36,
   "id": "507679a1",
   "metadata": {},
   "outputs": [
    {
     "name": "stdout",
     "output_type": "stream",
     "text": [
      "\u001b[90m# A tibble: 0 × 4\u001b[39m\n",
      "\u001b[90m# ℹ 4 variables: cluster <chr>, cells_a <chr>, n <int>, n_label <chr>\u001b[39m\n"
     ]
    },
    {
     "data": {
      "image/png": "[encoded data removed]",
      "text/plain": [
       "plot without title"
      ]
     },
     "metadata": {
      "image/png": {
       "height": 120,
       "width": 420
      }
     },
     "output_type": "display_data"
    }
   ],
   "source": [
    "options(repr.plot.width=7, repr.plot.height=2)\n",
    "markers_d14_other = combined_deg_seurat %>%\n",
    "    filter(fgf1_day == 'Day14'  &\n",
    "           grouping == 'restored_grouping') %>%\n",
    "    filter(class == 'other')\n",
    "\n",
    "ggp_d14_other_restored = make_marker_bars(markers_d14_other, cluster_categories, 3000)\n",
    "ggp_d14_other_restored"
   ]
  },
  {
   "cell_type": "code",
   "execution_count": 37,
   "id": "242fa3de",
   "metadata": {},
   "outputs": [
    {
     "name": "stderr",
     "output_type": "stream",
     "text": [
      "Warning message:\n",
      "“\u001b[1m\u001b[22mRemoved 2 rows containing missing values (`geom_bar()`).”\n",
      "Warning message:\n",
      "“\u001b[1m\u001b[22mRemoved 2 rows containing missing values (`geom_text()`).”\n",
      "Warning message:\n",
      "“\u001b[1m\u001b[22mRemoved 2 rows containing missing values (`geom_bar()`).”\n",
      "Warning message:\n",
      "“\u001b[1m\u001b[22mRemoved 2 rows containing missing values (`geom_text()`).”\n"
     ]
    },
    {
     "data": {
      "image/png": "[encoded data removed]",
      "text/plain": [
       "plot without title"
      ]
     },
     "metadata": {
      "image/png": {
       "height": 240,
       "width": 420
      }
     },
     "output_type": "display_data"
    }
   ],
   "source": [
    "options(repr.plot.width=7, repr.plot.height=4)\n",
    "layout <- '\n",
    "A\n",
    "B\n",
    "C\n",
    "D\n",
    "'\n",
    "\n",
    "ggp_d5_other_restored = ggp_d5_other_restored   +\n",
    "                theme(axis.text.x = element_blank(),\n",
    "                        axis.ticks.x = element_blank())\n",
    "\n",
    "ggp_all_other = wrap_plots(A = ggp_d5_other,\n",
    "               B = ggp_d5_other_restored,\n",
    "               C = ggp_d14_other,\n",
    "               D = ggp_d14_other_restored,\n",
    "        design = layout) +\n",
    "    plot_layout(guides = 'collect') & \n",
    "      theme(plot.margin = margin(2, 0, 0, 2)) \n",
    "\n",
    "ggp_all_other = ggp_all_other + plot_annotation(tag_levels = c('A', 'B', 'C', 'D'))\n",
    "\n",
    "ggp_all_other %>% ggsave('_targets_MAST_v2/deg_count_plot_other_MAST_v2.pdf', plot = ., width = 7, height=4)\n",
    "ggp_all_other"
   ]
  },
  {
   "cell_type": "code",
   "execution_count": null,
   "id": "a7f4643b",
   "metadata": {},
   "outputs": [],
   "source": []
  },
  {
   "cell_type": "code",
   "execution_count": 38,
   "id": "02b1250e",
   "metadata": {},
   "outputs": [
    {
     "data": {
      "text/html": [
       "<style>\n",
       ".list-inline {list-style: none; margin:0; padding: 0}\n",
       ".list-inline>li {display: inline-block}\n",
       ".list-inline>li:not(:last-child)::after {content: \"\\00b7\"; padding: 0 .5ex}\n",
       "</style>\n",
       "<ol class=list-inline><li>'Sst__Pthlh'</li><li>'Nfix__Nfib'</li><li>'Met__Prlh'</li><li>'Agrp'</li><li>'Sim1'</li><li>'Fez1'</li><li>'Pou6f2__Prkcq__Whrn'</li><li>'Dlk1'</li><li>'Slc17a6__Trhr'</li><li>'Esr1'</li><li>'Tmem215__Dach2'</li><li>'Sst__Nts'</li><li>'Sst__Unc13c'</li><li>'Irx5__Lmx1a'</li><li>'Htr3b'</li><li>'Hdc'</li><li>'Lepr89'</li><li>'Nfib_1'</li><li>'Ppp1r17__Tafa4'</li><li>'Lepr67'</li><li>'Arx__Nr5a2'</li><li>'Kiss1__Tac2'</li><li>'Met__Pappa2'</li><li>'Trh__Lef1'</li><li>'Gpr50__Tac2'</li><li>'Tmem215__Greb1'</li><li>'Ghrh'</li><li>'Trh__Cxcl12'</li><li>'Lepr15'</li><li>'Pomc__Ttr'</li><li>'Tbx19__Pirt'</li><li>'Pomc__Glipr1'</li><li>'Pomc__Anxa2'</li><li>'Npsr1__Epha3'</li><li>'Nfix__Nfib__Lhx6'</li><li>'Reln__Lef1'</li><li>'unassigned(2)'</li><li>'Th__Nfib'</li><li>'Ppp1r17'</li><li>'Th__Slc6a3'</li><li>'Nfib_3'</li><li>'Ppp1r17__Ltbp1'</li><li>'Lpar1_oligo'</li><li>'Nfib_2'</li><li>'Nfix__Nfib__Hgf'</li></ol>\n"
      ],
      "text/latex": [
       "\\begin{enumerate*}\n",
       "\\item 'Sst\\_\\_Pthlh'\n",
       "\\item 'Nfix\\_\\_Nfib'\n",
       "\\item 'Met\\_\\_Prlh'\n",
       "\\item 'Agrp'\n",
       "\\item 'Sim1'\n",
       "\\item 'Fez1'\n",
       "\\item 'Pou6f2\\_\\_Prkcq\\_\\_Whrn'\n",
       "\\item 'Dlk1'\n",
       "\\item 'Slc17a6\\_\\_Trhr'\n",
       "\\item 'Esr1'\n",
       "\\item 'Tmem215\\_\\_Dach2'\n",
       "\\item 'Sst\\_\\_Nts'\n",
       "\\item 'Sst\\_\\_Unc13c'\n",
       "\\item 'Irx5\\_\\_Lmx1a'\n",
       "\\item 'Htr3b'\n",
       "\\item 'Hdc'\n",
       "\\item 'Lepr89'\n",
       "\\item 'Nfib\\_1'\n",
       "\\item 'Ppp1r17\\_\\_Tafa4'\n",
       "\\item 'Lepr67'\n",
       "\\item 'Arx\\_\\_Nr5a2'\n",
       "\\item 'Kiss1\\_\\_Tac2'\n",
       "\\item 'Met\\_\\_Pappa2'\n",
       "\\item 'Trh\\_\\_Lef1'\n",
       "\\item 'Gpr50\\_\\_Tac2'\n",
       "\\item 'Tmem215\\_\\_Greb1'\n",
       "\\item 'Ghrh'\n",
       "\\item 'Trh\\_\\_Cxcl12'\n",
       "\\item 'Lepr15'\n",
       "\\item 'Pomc\\_\\_Ttr'\n",
       "\\item 'Tbx19\\_\\_Pirt'\n",
       "\\item 'Pomc\\_\\_Glipr1'\n",
       "\\item 'Pomc\\_\\_Anxa2'\n",
       "\\item 'Npsr1\\_\\_Epha3'\n",
       "\\item 'Nfix\\_\\_Nfib\\_\\_Lhx6'\n",
       "\\item 'Reln\\_\\_Lef1'\n",
       "\\item 'unassigned(2)'\n",
       "\\item 'Th\\_\\_Nfib'\n",
       "\\item 'Ppp1r17'\n",
       "\\item 'Th\\_\\_Slc6a3'\n",
       "\\item 'Nfib\\_3'\n",
       "\\item 'Ppp1r17\\_\\_Ltbp1'\n",
       "\\item 'Lpar1\\_oligo'\n",
       "\\item 'Nfib\\_2'\n",
       "\\item 'Nfix\\_\\_Nfib\\_\\_Hgf'\n",
       "\\end{enumerate*}\n"
      ],
      "text/markdown": [
       "1. 'Sst__Pthlh'\n",
       "2. 'Nfix__Nfib'\n",
       "3. 'Met__Prlh'\n",
       "4. 'Agrp'\n",
       "5. 'Sim1'\n",
       "6. 'Fez1'\n",
       "7. 'Pou6f2__Prkcq__Whrn'\n",
       "8. 'Dlk1'\n",
       "9. 'Slc17a6__Trhr'\n",
       "10. 'Esr1'\n",
       "11. 'Tmem215__Dach2'\n",
       "12. 'Sst__Nts'\n",
       "13. 'Sst__Unc13c'\n",
       "14. 'Irx5__Lmx1a'\n",
       "15. 'Htr3b'\n",
       "16. 'Hdc'\n",
       "17. 'Lepr89'\n",
       "18. 'Nfib_1'\n",
       "19. 'Ppp1r17__Tafa4'\n",
       "20. 'Lepr67'\n",
       "21. 'Arx__Nr5a2'\n",
       "22. 'Kiss1__Tac2'\n",
       "23. 'Met__Pappa2'\n",
       "24. 'Trh__Lef1'\n",
       "25. 'Gpr50__Tac2'\n",
       "26. 'Tmem215__Greb1'\n",
       "27. 'Ghrh'\n",
       "28. 'Trh__Cxcl12'\n",
       "29. 'Lepr15'\n",
       "30. 'Pomc__Ttr'\n",
       "31. 'Tbx19__Pirt'\n",
       "32. 'Pomc__Glipr1'\n",
       "33. 'Pomc__Anxa2'\n",
       "34. 'Npsr1__Epha3'\n",
       "35. 'Nfix__Nfib__Lhx6'\n",
       "36. 'Reln__Lef1'\n",
       "37. 'unassigned(2)'\n",
       "38. 'Th__Nfib'\n",
       "39. 'Ppp1r17'\n",
       "40. 'Th__Slc6a3'\n",
       "41. 'Nfib_3'\n",
       "42. 'Ppp1r17__Ltbp1'\n",
       "43. 'Lpar1_oligo'\n",
       "44. 'Nfib_2'\n",
       "45. 'Nfix__Nfib__Hgf'\n",
       "\n",
       "\n"
      ],
      "text/plain": [
       " [1] \"Sst__Pthlh\"          \"Nfix__Nfib\"          \"Met__Prlh\"          \n",
       " [4] \"Agrp\"                \"Sim1\"                \"Fez1\"               \n",
       " [7] \"Pou6f2__Prkcq__Whrn\" \"Dlk1\"                \"Slc17a6__Trhr\"      \n",
       "[10] \"Esr1\"                \"Tmem215__Dach2\"      \"Sst__Nts\"           \n",
       "[13] \"Sst__Unc13c\"         \"Irx5__Lmx1a\"         \"Htr3b\"              \n",
       "[16] \"Hdc\"                 \"Lepr89\"              \"Nfib_1\"             \n",
       "[19] \"Ppp1r17__Tafa4\"      \"Lepr67\"              \"Arx__Nr5a2\"         \n",
       "[22] \"Kiss1__Tac2\"         \"Met__Pappa2\"         \"Trh__Lef1\"          \n",
       "[25] \"Gpr50__Tac2\"         \"Tmem215__Greb1\"      \"Ghrh\"               \n",
       "[28] \"Trh__Cxcl12\"         \"Lepr15\"              \"Pomc__Ttr\"          \n",
       "[31] \"Tbx19__Pirt\"         \"Pomc__Glipr1\"        \"Pomc__Anxa2\"        \n",
       "[34] \"Npsr1__Epha3\"        \"Nfix__Nfib__Lhx6\"    \"Reln__Lef1\"         \n",
       "[37] \"unassigned(2)\"       \"Th__Nfib\"            \"Ppp1r17\"            \n",
       "[40] \"Th__Slc6a3\"          \"Nfib_3\"              \"Ppp1r17__Ltbp1\"     \n",
       "[43] \"Lpar1_oligo\"         \"Nfib_2\"              \"Nfix__Nfib__Hgf\"    "
      ]
     },
     "metadata": {},
     "output_type": "display_data"
    }
   ],
   "source": [
    "cluster_categories = labels_classes_tib %>% filter(class == 'neuron') %>% pull(cluster)\n",
    "cluster_categories"
   ]
  },
  {
   "cell_type": "code",
   "execution_count": 39,
   "id": "47e65914",
   "metadata": {},
   "outputs": [],
   "source": [
    "cluster_categories = cluster_categories %>% str_replace('/', '__')"
   ]
  },
  {
   "cell_type": "code",
   "execution_count": 40,
   "id": "ee24fcd6",
   "metadata": {},
   "outputs": [
    {
     "name": "stdout",
     "output_type": "stream",
     "text": [
      "\u001b[90m# A tibble: 90 × 4\u001b[39m\n",
      "   cluster      cells_a     n n_label\n",
      "   \u001b[3m\u001b[90m<chr>\u001b[39m\u001b[23m        \u001b[3m\u001b[90m<chr>\u001b[39m\u001b[23m   \u001b[3m\u001b[90m<int>\u001b[39m\u001b[23m \u001b[3m\u001b[90m<chr>\u001b[39m\u001b[23m  \n",
      "\u001b[90m 1\u001b[39m Agrp         pos      \u001b[4m2\u001b[24m819 2819   \n",
      "\u001b[90m 2\u001b[39m Htr3b        neg      \u001b[4m2\u001b[24m026 2026   \n",
      "\u001b[90m 3\u001b[39m Htr3b        pos      \u001b[4m2\u001b[24m017 2017   \n",
      "\u001b[90m 4\u001b[39m Sst__Unc13c  pos      \u001b[4m1\u001b[24m836 1836   \n",
      "\u001b[90m 5\u001b[39m Trh__Lef1    pos       676 676    \n",
      "\u001b[90m 6\u001b[39m Trh__Lef1    neg       554 554    \n",
      "\u001b[90m 7\u001b[39m Agrp         neg       528 528    \n",
      "\u001b[90m 8\u001b[39m Ghrh         neg       309 309    \n",
      "\u001b[90m 9\u001b[39m Kiss1__Tac2  neg       171 171    \n",
      "\u001b[90m10\u001b[39m Pomc__Glipr1 neg       106 106    \n",
      "\u001b[90m# ℹ 80 more rows\u001b[39m\n"
     ]
    },
    {
     "name": "stderr",
     "output_type": "stream",
     "text": [
      "Warning message:\n",
      "“\u001b[1m\u001b[22mRemoved 4 rows containing missing values (`geom_bar()`).”\n",
      "Warning message:\n",
      "“\u001b[1m\u001b[22mRemoved 4 rows containing missing values (`geom_text()`).”\n"
     ]
    },
    {
     "data": {
      "image/png": "[encoded data removed]",
      "text/plain": [
       "plot without title"
      ]
     },
     "metadata": {
      "image/png": {
       "height": 120,
       "width": 420
      }
     },
     "output_type": "display_data"
    }
   ],
   "source": [
    "options(repr.plot.width=7, repr.plot.height=2)\n",
    "markers_d5_neuron = combined_deg_seurat %>%\n",
    "    filter(fgf1_day == 'Day5'  &\n",
    "           grouping == 'fgf1_grouping') %>%\n",
    "    filter(class == 'neuron')\n",
    "ggp_d5_neuron = make_marker_bars(markers_d5_neuron, cluster_categories, 750) +\n",
    "                theme(axis.text.x = element_blank(),\n",
    "                        axis.ticks.x = element_blank())\n",
    "ggp_d5_neuron"
   ]
  },
  {
   "cell_type": "code",
   "execution_count": 41,
   "id": "46105f5c",
   "metadata": {},
   "outputs": [
    {
     "name": "stdout",
     "output_type": "stream",
     "text": [
      "\u001b[90m# A tibble: 90 × 4\u001b[39m\n",
      "   cluster      cells_a          n n_label\n",
      "   \u001b[3m\u001b[90m<chr>\u001b[39m\u001b[23m        \u001b[3m\u001b[90m<chr>\u001b[39m\u001b[23m        \u001b[3m\u001b[90m<int>\u001b[39m\u001b[23m \u001b[3m\u001b[90m<chr>\u001b[39m\u001b[23m  \n",
      "\u001b[90m 1\u001b[39m Agrp         pos_restored  \u001b[4m3\u001b[24m019 \u001b[90m\"\u001b[39m3019\u001b[90m\"\u001b[39m \n",
      "\u001b[90m 2\u001b[39m Sst__Unc13c  pos_restored  \u001b[4m1\u001b[24m836 \u001b[90m\"\u001b[39m1836\u001b[90m\"\u001b[39m \n",
      "\u001b[90m 3\u001b[39m Htr3b        pos_restored  \u001b[4m1\u001b[24m312 \u001b[90m\"\u001b[39m1312\u001b[90m\"\u001b[39m \n",
      "\u001b[90m 4\u001b[39m Agrp         neg_restored   528 \u001b[90m\"\u001b[39m528\u001b[90m\"\u001b[39m  \n",
      "\u001b[90m 5\u001b[39m Ghrh         neg_restored   309 \u001b[90m\"\u001b[39m309\u001b[90m\"\u001b[39m  \n",
      "\u001b[90m 6\u001b[39m Kiss1__Tac2  neg_restored   171 \u001b[90m\"\u001b[39m171\u001b[90m\"\u001b[39m  \n",
      "\u001b[90m 7\u001b[39m Pomc__Glipr1 neg_restored   106 \u001b[90m\"\u001b[39m106\u001b[90m\"\u001b[39m  \n",
      "\u001b[90m 8\u001b[39m Ghrh         pos_restored    63 \u001b[90m\"\u001b[39m63\u001b[90m\"\u001b[39m   \n",
      "\u001b[90m 9\u001b[39m Sst__Pthlh   neg_restored     0 \u001b[90m\"\u001b[39m\u001b[90m\"\u001b[39m     \n",
      "\u001b[90m10\u001b[39m Sst__Pthlh   pos_restored     0 \u001b[90m\"\u001b[39m\u001b[90m\"\u001b[39m     \n",
      "\u001b[90m# ℹ 80 more rows\u001b[39m\n"
     ]
    },
    {
     "name": "stderr",
     "output_type": "stream",
     "text": [
      "Warning message:\n",
      "“\u001b[1m\u001b[22mRemoved 3 rows containing missing values (`geom_bar()`).”\n",
      "Warning message:\n",
      "“\u001b[1m\u001b[22mRemoved 3 rows containing missing values (`geom_text()`).”\n"
     ]
    },
    {
     "data": {
      "image/png": "[encoded data removed]",
      "text/plain": [
       "plot without title"
      ]
     },
     "metadata": {
      "image/png": {
       "height": 120,
       "width": 420
      }
     },
     "output_type": "display_data"
    }
   ],
   "source": [
    "options(repr.plot.width=7, repr.plot.height=2)\n",
    "markers_d5_neuron = combined_deg_seurat %>%\n",
    "    filter(fgf1_day == 'Day5'  &\n",
    "           grouping == 'restored_grouping') %>%\n",
    "    filter(class == 'neuron')\n",
    "ggp_d5_neuron_restored = make_marker_bars(markers_d5_neuron, cluster_categories, 750) \n",
    "ggp_d5_neuron_restored"
   ]
  },
  {
   "cell_type": "code",
   "execution_count": 42,
   "id": "cd6fd4b1",
   "metadata": {},
   "outputs": [
    {
     "name": "stdout",
     "output_type": "stream",
     "text": [
      "\u001b[90m# A tibble: 90 × 4\u001b[39m\n",
      "   cluster      cells_a          n n_label\n",
      "   \u001b[3m\u001b[90m<chr>\u001b[39m\u001b[23m        \u001b[3m\u001b[90m<chr>\u001b[39m\u001b[23m        \u001b[3m\u001b[90m<int>\u001b[39m\u001b[23m \u001b[3m\u001b[90m<chr>\u001b[39m\u001b[23m  \n",
      "\u001b[90m 1\u001b[39m Agrp         pos_restored  \u001b[4m3\u001b[24m019 \u001b[90m\"\u001b[39m3019\u001b[90m\"\u001b[39m \n",
      "\u001b[90m 2\u001b[39m Sst__Unc13c  pos_restored  \u001b[4m1\u001b[24m836 \u001b[90m\"\u001b[39m1836\u001b[90m\"\u001b[39m \n",
      "\u001b[90m 3\u001b[39m Htr3b        pos_restored  \u001b[4m1\u001b[24m312 \u001b[90m\"\u001b[39m1312\u001b[90m\"\u001b[39m \n",
      "\u001b[90m 4\u001b[39m Agrp         neg_restored   528 \u001b[90m\"\u001b[39m528\u001b[90m\"\u001b[39m  \n",
      "\u001b[90m 5\u001b[39m Ghrh         neg_restored   309 \u001b[90m\"\u001b[39m309\u001b[90m\"\u001b[39m  \n",
      "\u001b[90m 6\u001b[39m Kiss1__Tac2  neg_restored   171 \u001b[90m\"\u001b[39m171\u001b[90m\"\u001b[39m  \n",
      "\u001b[90m 7\u001b[39m Pomc__Glipr1 neg_restored   106 \u001b[90m\"\u001b[39m106\u001b[90m\"\u001b[39m  \n",
      "\u001b[90m 8\u001b[39m Ghrh         pos_restored    63 \u001b[90m\"\u001b[39m63\u001b[90m\"\u001b[39m   \n",
      "\u001b[90m 9\u001b[39m Sst__Pthlh   neg_restored     0 \u001b[90m\"\u001b[39m\u001b[90m\"\u001b[39m     \n",
      "\u001b[90m10\u001b[39m Sst__Pthlh   pos_restored     0 \u001b[90m\"\u001b[39m\u001b[90m\"\u001b[39m     \n",
      "\u001b[90m# ℹ 80 more rows\u001b[39m\n"
     ]
    },
    {
     "name": "stderr",
     "output_type": "stream",
     "text": [
      "Warning message:\n",
      "“\u001b[1m\u001b[22mRemoved 4 rows containing missing values (`geom_bar()`).”\n",
      "Warning message:\n",
      "“\u001b[1m\u001b[22mRemoved 4 rows containing missing values (`geom_text()`).”\n",
      "Warning message:\n",
      "“\u001b[1m\u001b[22mRemoved 3 rows containing missing values (`geom_bar()`).”\n",
      "Warning message:\n",
      "“\u001b[1m\u001b[22mRemoved 3 rows containing missing values (`geom_text()`).”\n",
      "Warning message:\n",
      "“\u001b[1m\u001b[22mRemoved 4 rows containing missing values (`geom_bar()`).”\n",
      "Warning message:\n",
      "“\u001b[1m\u001b[22mRemoved 4 rows containing missing values (`geom_text()`).”\n",
      "Warning message:\n",
      "“\u001b[1m\u001b[22mRemoved 3 rows containing missing values (`geom_bar()`).”\n",
      "Warning message:\n",
      "“\u001b[1m\u001b[22mRemoved 3 rows containing missing values (`geom_text()`).”\n"
     ]
    },
    {
     "data": {
      "image/png": "[encoded data removed]",
      "text/plain": [
       "plot without title"
      ]
     },
     "metadata": {
      "image/png": {
       "height": 126,
       "width": 420
      }
     },
     "output_type": "display_data"
    }
   ],
   "source": [
    "markers_d5_neuron = combined_deg_seurat %>%\n",
    "    filter(fgf1_day == 'Day5'  &\n",
    "           grouping == 'restored_grouping') %>%\n",
    "    filter(class == 'neuron')\n",
    "ggp_d5_neuron_restored = make_marker_bars(markers_d5_neuron, cluster_categories, 750)\n",
    "ggp_all_neuron = wrap_plots(A = ggp_d5_neuron,\n",
    "               B = ggp_d5_neuron_restored,\n",
    "        design = layout) +\n",
    "    plot_layout(guides = 'collect') & \n",
    "      theme(plot.margin = margin(2, 0, 0, 2))  \n",
    "\n",
    "\n",
    "options(repr.plot.width=7, repr.plot.height=2.1)\n",
    "layout <- '\n",
    "A\n",
    "B\n",
    "'\n",
    "\n",
    "# + plot_annotation(tag_levels = c('A', 'B', 'C', 'D'))\n",
    "\n",
    "ggp_all_neuron = ggp_all_neuron + plot_annotation(tag_levels = c('A', 'B', 'C', 'D'))\n",
    "\n",
    "ggp_all_neuron %>% ggsave('_targets_MAST_v2/deg_count_plot_neuron_AB_MAST_v2.pdf', plot = ., width = 7, height=4)\n",
    "ggp_all_neuron"
   ]
  },
  {
   "cell_type": "code",
   "execution_count": 43,
   "id": "0e143d34",
   "metadata": {},
   "outputs": [
    {
     "name": "stdout",
     "output_type": "stream",
     "text": [
      "\u001b[90m# A tibble: 45 × 4\u001b[39m\n",
      "   cluster             cells_a     n n_label\n",
      "   \u001b[3m\u001b[90m<chr>\u001b[39m\u001b[23m               \u001b[3m\u001b[90m<chr>\u001b[39m\u001b[23m   \u001b[3m\u001b[90m<int>\u001b[39m\u001b[23m \u001b[3m\u001b[90m<chr>\u001b[39m\u001b[23m  \n",
      "\u001b[90m 1\u001b[39m Sst__Pthlh          neg         0 \u001b[90m\"\u001b[39m\u001b[90m\"\u001b[39m     \n",
      "\u001b[90m 2\u001b[39m Nfix__Nfib          neg         0 \u001b[90m\"\u001b[39m\u001b[90m\"\u001b[39m     \n",
      "\u001b[90m 3\u001b[39m Met__Prlh           neg         0 \u001b[90m\"\u001b[39m\u001b[90m\"\u001b[39m     \n",
      "\u001b[90m 4\u001b[39m Agrp                neg         0 \u001b[90m\"\u001b[39m\u001b[90m\"\u001b[39m     \n",
      "\u001b[90m 5\u001b[39m Sim1                neg         0 \u001b[90m\"\u001b[39m\u001b[90m\"\u001b[39m     \n",
      "\u001b[90m 6\u001b[39m Fez1                neg         0 \u001b[90m\"\u001b[39m\u001b[90m\"\u001b[39m     \n",
      "\u001b[90m 7\u001b[39m Pou6f2__Prkcq__Whrn neg         0 \u001b[90m\"\u001b[39m\u001b[90m\"\u001b[39m     \n",
      "\u001b[90m 8\u001b[39m Dlk1                neg         0 \u001b[90m\"\u001b[39m\u001b[90m\"\u001b[39m     \n",
      "\u001b[90m 9\u001b[39m Slc17a6__Trhr       neg         0 \u001b[90m\"\u001b[39m\u001b[90m\"\u001b[39m     \n",
      "\u001b[90m10\u001b[39m Esr1                neg         0 \u001b[90m\"\u001b[39m\u001b[90m\"\u001b[39m     \n",
      "\u001b[90m# ℹ 35 more rows\u001b[39m\n"
     ]
    },
    {
     "data": {
      "image/png": "[encoded data removed]",
      "text/plain": [
       "plot without title"
      ]
     },
     "metadata": {
      "image/png": {
       "height": 120,
       "width": 420
      }
     },
     "output_type": "display_data"
    }
   ],
   "source": [
    "options(repr.plot.width=7, repr.plot.height=2)\n",
    "markers_d14_neuron = combined_deg_seurat %>%\n",
    "    filter(fgf1_day == 'Day14'  &\n",
    "           grouping == 'fgf1_grouping') %>%\n",
    "    filter(class == 'neuron')\n",
    "ggp_d14_neuron = make_marker_bars(markers_d14_neuron, cluster_categories, 750)  +\n",
    "                theme(axis.text.x = element_blank(),\n",
    "                        axis.ticks.x = element_blank())\n",
    "ggp_d14_neuron"
   ]
  },
  {
   "cell_type": "code",
   "execution_count": 44,
   "id": "c453be11",
   "metadata": {},
   "outputs": [
    {
     "name": "stdout",
     "output_type": "stream",
     "text": [
      "\u001b[90m# A tibble: 0 × 4\u001b[39m\n",
      "\u001b[90m# ℹ 4 variables: cluster <chr>, cells_a <fct>, n <int>, n_label <chr>\u001b[39m\n"
     ]
    },
    {
     "data": {
      "image/png": "[encoded data removed]",
      "text/plain": [
       "plot without title"
      ]
     },
     "metadata": {
      "image/png": {
       "height": 120,
       "width": 420
      }
     },
     "output_type": "display_data"
    }
   ],
   "source": [
    "options(repr.plot.width=7, repr.plot.height=2)\n",
    "markers_d14_neuron = combined_deg_seurat %>%\n",
    "    filter(fgf1_day == 'Day14'  &\n",
    "           grouping == 'restored_grouping') %>%\n",
    "    mutate(cells_a = factor(cells_a, levels=c('neg_restored', 'pos_restored'))) %>%\n",
    "    filter(class == 'neuron')\n",
    "ggp_d14_neuron_restored = make_marker_bars(markers_d14_neuron, cluster_categories, 750)\n",
    "ggp_d14_neuron_restored"
   ]
  },
  {
   "cell_type": "code",
   "execution_count": 45,
   "id": "fc69f106",
   "metadata": {},
   "outputs": [
    {
     "name": "stderr",
     "output_type": "stream",
     "text": [
      "Warning message:\n",
      "“\u001b[1m\u001b[22mRemoved 4 rows containing missing values (`geom_bar()`).”\n",
      "Warning message:\n",
      "“\u001b[1m\u001b[22mRemoved 4 rows containing missing values (`geom_text()`).”\n",
      "Warning message:\n",
      "“\u001b[1m\u001b[22mRemoved 3 rows containing missing values (`geom_bar()`).”\n",
      "Warning message:\n",
      "“\u001b[1m\u001b[22mRemoved 3 rows containing missing values (`geom_text()`).”\n",
      "Warning message:\n",
      "“\u001b[1m\u001b[22mRemoved 4 rows containing missing values (`geom_bar()`).”\n",
      "Warning message:\n",
      "“\u001b[1m\u001b[22mRemoved 4 rows containing missing values (`geom_text()`).”\n",
      "Warning message:\n",
      "“\u001b[1m\u001b[22mRemoved 3 rows containing missing values (`geom_bar()`).”\n",
      "Warning message:\n",
      "“\u001b[1m\u001b[22mRemoved 3 rows containing missing values (`geom_text()`).”\n"
     ]
    },
    {
     "data": {
      "image/png": "[encoded data removed]",
      "text/plain": [
       "plot without title"
      ]
     },
     "metadata": {
      "image/png": {
       "height": 246,
       "width": 420
      }
     },
     "output_type": "display_data"
    }
   ],
   "source": [
    "options(repr.plot.width=7, repr.plot.height=4.1)\n",
    "layout <- '\n",
    "A\n",
    "B\n",
    "C\n",
    "D\n",
    "'\n",
    "\n",
    "ggp_d5_neuron_restored = ggp_d5_neuron_restored  +\n",
    "                theme(axis.text.x = element_blank(),\n",
    "                        axis.ticks.x = element_blank())\n",
    "\n",
    "ggp_all_neuron = wrap_plots(A = ggp_d5_neuron,\n",
    "               B = ggp_d5_neuron_restored,\n",
    "               C = ggp_d14_neuron,\n",
    "               D = ggp_d14_neuron_restored,\n",
    "        design = layout) +\n",
    "    plot_layout(guides = 'collect') & \n",
    "      theme(plot.margin = margin(2, 0, 0, 2))  \n",
    "\n",
    "# + plot_annotation(tag_levels = c('A', 'B', 'C', 'D'))\n",
    "\n",
    "ggp_all_neuron = ggp_all_neuron + plot_annotation(tag_levels = c('A', 'B', 'C', 'D'))\n",
    "\n",
    "ggp_all_neuron %>% ggsave('_targets_MAST_v2/deg_count_plot_neuron_MAST_v2.pdf', plot = ., width = 7, height=4)\n",
    "ggp_all_neuron"
   ]
  },
  {
   "cell_type": "code",
   "execution_count": 46,
   "id": "e7bde2ed",
   "metadata": {
    "scrolled": true
   },
   "outputs": [
    {
     "data": {
      "text/html": [
       "<table class=\"dataframe\">\n",
       "<caption>A tibble: 3714 × 25</caption>\n",
       "<thead>\n",
       "\t<tr><th scope=col>tag</th><th scope=col>data_day</th><th scope=col>cluster</th><th scope=col>class</th><th scope=col>fgf1_day</th><th scope=col>fgf1_comparison</th><th scope=col>bl6_day</th><th scope=col>bl6_comparison</th><th scope=col>grouping</th><th scope=col>cells_a</th><th scope=col>⋯</th><th scope=col>pct.2</th><th scope=col>p_val_adj</th><th scope=col>ensmusg</th><th scope=col>gsea_sort_score</th><th scope=col>count</th><th scope=col>total_cells</th><th scope=col>frac</th><th scope=col>frac_cutoff</th><th scope=col>n_cells_cutoff</th><th scope=col>n_cells_valid</th></tr>\n",
       "\t<tr><th scope=col>&lt;chr&gt;</th><th scope=col>&lt;chr&gt;</th><th scope=col>&lt;chr&gt;</th><th scope=col>&lt;chr&gt;</th><th scope=col>&lt;chr&gt;</th><th scope=col>&lt;chr&gt;</th><th scope=col>&lt;chr&gt;</th><th scope=col>&lt;chr&gt;</th><th scope=col>&lt;chr&gt;</th><th scope=col>&lt;chr&gt;</th><th scope=col>⋯</th><th scope=col>&lt;dbl&gt;</th><th scope=col>&lt;dbl&gt;</th><th scope=col>&lt;chr&gt;</th><th scope=col>&lt;dbl&gt;</th><th scope=col>&lt;int&gt;</th><th scope=col>&lt;int&gt;</th><th scope=col>&lt;dbl&gt;</th><th scope=col>&lt;dbl&gt;</th><th scope=col>&lt;dbl&gt;</th><th scope=col>&lt;lgl&gt;</th></tr>\n",
       "</thead>\n",
       "<tbody>\n",
       "\t<tr><td>Irx5__Lmx1a___Day5.obob5v5__v__Day5.obobBL6d5___bl6_grouping.neg_vs_none</td><td>all</td><td>Irx5__Lmx1a</td><td>neuron</td><td>Day5</td><td>obob5v5</td><td>Day5</td><td>obobBL6d5</td><td>bl6_grouping</td><td>neg</td><td>⋯</td><td>0.805</td><td>1.884031e-169</td><td>ENSMUSG00000058925</td><td>713.1835</td><td>70</td><td>2686</td><td>0.02606106</td><td>0.1</td><td>150</td><td>FALSE</td></tr>\n",
       "\t<tr><td>Irx5__Lmx1a___Day5.obob5v5__v__Day5.obobBL6d5___bl6_grouping.neg_vs_none</td><td>all</td><td>Irx5__Lmx1a</td><td>neuron</td><td>Day5</td><td>obob5v5</td><td>Day5</td><td>obobBL6d5</td><td>bl6_grouping</td><td>neg</td><td>⋯</td><td>0.869</td><td>1.744857e-159</td><td>ENSMUSG00000093497</td><td>525.1943</td><td>70</td><td>2686</td><td>0.02606106</td><td>0.1</td><td>150</td><td>FALSE</td></tr>\n",
       "\t<tr><td>Irx5__Lmx1a___Day5.obob5v5__v__Day5.obobBL6d5___bl6_grouping.neg_vs_none</td><td>all</td><td>Irx5__Lmx1a</td><td>neuron</td><td>Day5</td><td>obob5v5</td><td>Day5</td><td>obobBL6d5</td><td>bl6_grouping</td><td>neg</td><td>⋯</td><td>0.808</td><td>1.301808e-143</td><td>ENSMUSG00000061171</td><td>500.1280</td><td>70</td><td>2686</td><td>0.02606106</td><td>0.1</td><td>150</td><td>FALSE</td></tr>\n",
       "\t<tr><td>Irx5__Lmx1a___Day5.obob5v5__v__Day5.obobBL6d5___bl6_grouping.neg_vs_none</td><td>all</td><td>Irx5__Lmx1a</td><td>neuron</td><td>Day5</td><td>obob5v5</td><td>Day5</td><td>obobBL6d5</td><td>bl6_grouping</td><td>neg</td><td>⋯</td><td>0.753</td><td>1.445177e-127</td><td>ENSMUSG00000087388</td><td>488.5600</td><td>70</td><td>2686</td><td>0.02606106</td><td>0.1</td><td>150</td><td>FALSE</td></tr>\n",
       "\t<tr><td>Irx5__Lmx1a___Day5.obob5v5__v__Day5.obobBL6d5___bl6_grouping.neg_vs_none</td><td>all</td><td>Irx5__Lmx1a</td><td>neuron</td><td>Day5</td><td>obob5v5</td><td>Day5</td><td>obobBL6d5</td><td>bl6_grouping</td><td>neg</td><td>⋯</td><td>0.662</td><td> 2.210621e-71</td><td>ENSMUSG00000114810</td><td>430.0567</td><td>70</td><td>2686</td><td>0.02606106</td><td>0.1</td><td>150</td><td>FALSE</td></tr>\n",
       "\t<tr><td>Irx5__Lmx1a___Day5.obob5v5__v__Day5.obobBL6d5___bl6_grouping.neg_vs_none</td><td>all</td><td>Irx5__Lmx1a</td><td>neuron</td><td>Day5</td><td>obob5v5</td><td>Day5</td><td>obobBL6d5</td><td>bl6_grouping</td><td>neg</td><td>⋯</td><td>0.528</td><td> 6.009810e-70</td><td>ENSMUSG00000055933</td><td>372.0814</td><td>70</td><td>2686</td><td>0.02606106</td><td>0.1</td><td>150</td><td>FALSE</td></tr>\n",
       "\t<tr><td>Irx5__Lmx1a___Day5.obob5v5__v__Day5.obobBL6d5___bl6_grouping.neg_vs_none</td><td>all</td><td>Irx5__Lmx1a</td><td>neuron</td><td>Day5</td><td>obob5v5</td><td>Day5</td><td>obobBL6d5</td><td>bl6_grouping</td><td>neg</td><td>⋯</td><td>0.758</td><td> 2.621778e-81</td><td>ENSMUSG00000057981</td><td>354.4501</td><td>70</td><td>2686</td><td>0.02606106</td><td>0.1</td><td>150</td><td>FALSE</td></tr>\n",
       "\t<tr><td>Irx5__Lmx1a___Day5.obob5v5__v__Day5.obobBL6d5___bl6_grouping.neg_vs_none</td><td>all</td><td>Irx5__Lmx1a</td><td>neuron</td><td>Day5</td><td>obob5v5</td><td>Day5</td><td>obobBL6d5</td><td>bl6_grouping</td><td>neg</td><td>⋯</td><td>0.563</td><td> 9.288247e-63</td><td>ENSMUSG00000109107</td><td>341.4653</td><td>70</td><td>2686</td><td>0.02606106</td><td>0.1</td><td>150</td><td>FALSE</td></tr>\n",
       "\t<tr><td>Irx5__Lmx1a___Day5.obob5v5__v__Day5.obobBL6d5___bl6_grouping.neg_vs_none</td><td>all</td><td>Irx5__Lmx1a</td><td>neuron</td><td>Day5</td><td>obob5v5</td><td>Day5</td><td>obobBL6d5</td><td>bl6_grouping</td><td>neg</td><td>⋯</td><td>0.511</td><td> 5.027642e-74</td><td>ENSMUSG00000000120</td><td>329.0092</td><td>70</td><td>2686</td><td>0.02606106</td><td>0.1</td><td>150</td><td>FALSE</td></tr>\n",
       "\t<tr><td>Irx5__Lmx1a___Day5.obob5v5__v__Day5.obobBL6d5___bl6_grouping.neg_vs_none</td><td>all</td><td>Irx5__Lmx1a</td><td>neuron</td><td>Day5</td><td>obob5v5</td><td>Day5</td><td>obobBL6d5</td><td>bl6_grouping</td><td>neg</td><td>⋯</td><td>0.758</td><td> 1.427135e-75</td><td>ENSMUSG00000110592</td><td>295.7611</td><td>70</td><td>2686</td><td>0.02606106</td><td>0.1</td><td>150</td><td>FALSE</td></tr>\n",
       "\t<tr><td>Irx5__Lmx1a___Day5.obob5v5__v__Day5.obobBL6d5___bl6_grouping.neg_vs_none</td><td>all</td><td>Irx5__Lmx1a</td><td>neuron</td><td>Day5</td><td>obob5v5</td><td>Day5</td><td>obobBL6d5</td><td>bl6_grouping</td><td>neg</td><td>⋯</td><td>0.818</td><td> 1.239903e-79</td><td>ENSMUSG00000087296</td><td>291.2892</td><td>70</td><td>2686</td><td>0.02606106</td><td>0.1</td><td>150</td><td>FALSE</td></tr>\n",
       "\t<tr><td>Irx5__Lmx1a___Day5.obob5v5__v__Day5.obobBL6d5___bl6_grouping.neg_vs_none</td><td>all</td><td>Irx5__Lmx1a</td><td>neuron</td><td>Day5</td><td>obob5v5</td><td>Day5</td><td>obobBL6d5</td><td>bl6_grouping</td><td>neg</td><td>⋯</td><td>0.729</td><td> 1.644855e-78</td><td>ENSMUSG00000111990</td><td>272.3795</td><td>70</td><td>2686</td><td>0.02606106</td><td>0.1</td><td>150</td><td>FALSE</td></tr>\n",
       "\t<tr><td>Irx5__Lmx1a___Day5.obob5v5__v__Day5.obobBL6d5___bl6_grouping.neg_vs_none</td><td>all</td><td>Irx5__Lmx1a</td><td>neuron</td><td>Day5</td><td>obob5v5</td><td>Day5</td><td>obobBL6d5</td><td>bl6_grouping</td><td>neg</td><td>⋯</td><td>0.929</td><td>2.862427e-104</td><td>ENSMUSG00000022112</td><td>271.0954</td><td>70</td><td>2686</td><td>0.02606106</td><td>0.1</td><td>150</td><td>FALSE</td></tr>\n",
       "\t<tr><td>Irx5__Lmx1a___Day5.obob5v5__v__Day5.obobBL6d5___bl6_grouping.neg_vs_none</td><td>all</td><td>Irx5__Lmx1a</td><td>neuron</td><td>Day5</td><td>obob5v5</td><td>Day5</td><td>obobBL6d5</td><td>bl6_grouping</td><td>neg</td><td>⋯</td><td>0.781</td><td> 2.176989e-58</td><td>ENSMUSG00000102101</td><td>243.6955</td><td>70</td><td>2686</td><td>0.02606106</td><td>0.1</td><td>150</td><td>FALSE</td></tr>\n",
       "\t<tr><td>Irx5__Lmx1a___Day5.obob5v5__v__Day5.obobBL6d5___bl6_grouping.neg_vs_none</td><td>all</td><td>Irx5__Lmx1a</td><td>neuron</td><td>Day5</td><td>obob5v5</td><td>Day5</td><td>obobBL6d5</td><td>bl6_grouping</td><td>neg</td><td>⋯</td><td>0.509</td><td> 1.508670e-41</td><td>ENSMUSG00000116800</td><td>212.3363</td><td>70</td><td>2686</td><td>0.02606106</td><td>0.1</td><td>150</td><td>FALSE</td></tr>\n",
       "\t<tr><td>Irx5__Lmx1a___Day5.obob5v5__v__Day5.obobBL6d5___bl6_grouping.neg_vs_none</td><td>all</td><td>Irx5__Lmx1a</td><td>neuron</td><td>Day5</td><td>obob5v5</td><td>Day5</td><td>obobBL6d5</td><td>bl6_grouping</td><td>neg</td><td>⋯</td><td>0.834</td><td> 3.705072e-67</td><td>ENSMUSG00000086607</td><td>209.4790</td><td>70</td><td>2686</td><td>0.02606106</td><td>0.1</td><td>150</td><td>FALSE</td></tr>\n",
       "\t<tr><td>Irx5__Lmx1a___Day5.obob5v5__v__Day5.obobBL6d5___bl6_grouping.neg_vs_none</td><td>all</td><td>Irx5__Lmx1a</td><td>neuron</td><td>Day5</td><td>obob5v5</td><td>Day5</td><td>obobBL6d5</td><td>bl6_grouping</td><td>neg</td><td>⋯</td><td>0.879</td><td> 3.795932e-87</td><td>ENSMUSG00000003746</td><td>202.3244</td><td>70</td><td>2686</td><td>0.02606106</td><td>0.1</td><td>150</td><td>FALSE</td></tr>\n",
       "\t<tr><td>Irx5__Lmx1a___Day5.obob5v5__v__Day5.obobBL6d5___bl6_grouping.neg_vs_none</td><td>all</td><td>Irx5__Lmx1a</td><td>neuron</td><td>Day5</td><td>obob5v5</td><td>Day5</td><td>obobBL6d5</td><td>bl6_grouping</td><td>neg</td><td>⋯</td><td>0.411</td><td> 2.913054e-35</td><td>ENSMUSG00000108276</td><td>199.5322</td><td>70</td><td>2686</td><td>0.02606106</td><td>0.1</td><td>150</td><td>FALSE</td></tr>\n",
       "\t<tr><td>Irx5__Lmx1a___Day5.obob5v5__v__Day5.obobBL6d5___bl6_grouping.neg_vs_none</td><td>all</td><td>Irx5__Lmx1a</td><td>neuron</td><td>Day5</td><td>obob5v5</td><td>Day5</td><td>obobBL6d5</td><td>bl6_grouping</td><td>neg</td><td>⋯</td><td>0.877</td><td> 8.761393e-64</td><td>ENSMUSG00000111924</td><td>198.4936</td><td>70</td><td>2686</td><td>0.02606106</td><td>0.1</td><td>150</td><td>FALSE</td></tr>\n",
       "\t<tr><td>Irx5__Lmx1a___Day5.obob5v5__v__Day5.obobBL6d5___bl6_grouping.neg_vs_none</td><td>all</td><td>Irx5__Lmx1a</td><td>neuron</td><td>Day5</td><td>obob5v5</td><td>Day5</td><td>obobBL6d5</td><td>bl6_grouping</td><td>neg</td><td>⋯</td><td>0.401</td><td> 5.056769e-25</td><td>ENSMUSG00000003849</td><td>197.5366</td><td>70</td><td>2686</td><td>0.02606106</td><td>0.1</td><td>150</td><td>FALSE</td></tr>\n",
       "\t<tr><td>Irx5__Lmx1a___Day5.obob5v5__v__Day5.obobBL6d5___bl6_grouping.neg_vs_none</td><td>all</td><td>Irx5__Lmx1a</td><td>neuron</td><td>Day5</td><td>obob5v5</td><td>Day5</td><td>obobBL6d5</td><td>bl6_grouping</td><td>neg</td><td>⋯</td><td>0.667</td><td> 2.662828e-51</td><td>ENSMUSG00000110747</td><td>196.4626</td><td>70</td><td>2686</td><td>0.02606106</td><td>0.1</td><td>150</td><td>FALSE</td></tr>\n",
       "\t<tr><td>Irx5__Lmx1a___Day5.obob5v5__v__Day5.obobBL6d5___bl6_grouping.neg_vs_none</td><td>all</td><td>Irx5__Lmx1a</td><td>neuron</td><td>Day5</td><td>obob5v5</td><td>Day5</td><td>obobBL6d5</td><td>bl6_grouping</td><td>neg</td><td>⋯</td><td>0.636</td><td> 1.516937e-59</td><td>ENSMUSG00000110667</td><td>195.9476</td><td>70</td><td>2686</td><td>0.02606106</td><td>0.1</td><td>150</td><td>FALSE</td></tr>\n",
       "\t<tr><td>Irx5__Lmx1a___Day5.obob5v5__v__Day5.obobBL6d5___bl6_grouping.neg_vs_none</td><td>all</td><td>Irx5__Lmx1a</td><td>neuron</td><td>Day5</td><td>obob5v5</td><td>Day5</td><td>obobBL6d5</td><td>bl6_grouping</td><td>neg</td><td>⋯</td><td>0.698</td><td> 4.604998e-50</td><td>ENSMUSG00000118396</td><td>193.8736</td><td>70</td><td>2686</td><td>0.02606106</td><td>0.1</td><td>150</td><td>FALSE</td></tr>\n",
       "\t<tr><td>Irx5__Lmx1a___Day5.obob5v5__v__Day5.obobBL6d5___bl6_grouping.neg_vs_none</td><td>all</td><td>Irx5__Lmx1a</td><td>neuron</td><td>Day5</td><td>obob5v5</td><td>Day5</td><td>obobBL6d5</td><td>bl6_grouping</td><td>neg</td><td>⋯</td><td>0.692</td><td> 6.464149e-36</td><td>ENSMUSG00000110002</td><td>193.6990</td><td>70</td><td>2686</td><td>0.02606106</td><td>0.1</td><td>150</td><td>FALSE</td></tr>\n",
       "\t<tr><td>Irx5__Lmx1a___Day5.obob5v5__v__Day5.obobBL6d5___bl6_grouping.neg_vs_none</td><td>all</td><td>Irx5__Lmx1a</td><td>neuron</td><td>Day5</td><td>obob5v5</td><td>Day5</td><td>obobBL6d5</td><td>bl6_grouping</td><td>neg</td><td>⋯</td><td>0.921</td><td> 7.902312e-80</td><td>ENSMUSG00000042581</td><td>190.3392</td><td>70</td><td>2686</td><td>0.02606106</td><td>0.1</td><td>150</td><td>FALSE</td></tr>\n",
       "\t<tr><td>Irx5__Lmx1a___Day5.obob5v5__v__Day5.obobBL6d5___bl6_grouping.neg_vs_none</td><td>all</td><td>Irx5__Lmx1a</td><td>neuron</td><td>Day5</td><td>obob5v5</td><td>Day5</td><td>obobBL6d5</td><td>bl6_grouping</td><td>neg</td><td>⋯</td><td>0.310</td><td> 2.559115e-20</td><td>ENSMUSG00000098176</td><td>186.0519</td><td>70</td><td>2686</td><td>0.02606106</td><td>0.1</td><td>150</td><td>FALSE</td></tr>\n",
       "\t<tr><td>Irx5__Lmx1a___Day5.obob5v5__v__Day5.obobBL6d5___bl6_grouping.neg_vs_none</td><td>all</td><td>Irx5__Lmx1a</td><td>neuron</td><td>Day5</td><td>obob5v5</td><td>Day5</td><td>obobBL6d5</td><td>bl6_grouping</td><td>neg</td><td>⋯</td><td>0.654</td><td> 8.119767e-48</td><td>ENSMUSG00000074207</td><td>185.8243</td><td>70</td><td>2686</td><td>0.02606106</td><td>0.1</td><td>150</td><td>FALSE</td></tr>\n",
       "\t<tr><td>Irx5__Lmx1a___Day5.obob5v5__v__Day5.obobBL6d5___bl6_grouping.neg_vs_none</td><td>all</td><td>Irx5__Lmx1a</td><td>neuron</td><td>Day5</td><td>obob5v5</td><td>Day5</td><td>obobBL6d5</td><td>bl6_grouping</td><td>neg</td><td>⋯</td><td>0.388</td><td> 2.365544e-28</td><td>ENSMUSG00000023979</td><td>184.2856</td><td>70</td><td>2686</td><td>0.02606106</td><td>0.1</td><td>150</td><td>FALSE</td></tr>\n",
       "\t<tr><td>Irx5__Lmx1a___Day5.obob5v5__v__Day5.obobBL6d5___bl6_grouping.neg_vs_none</td><td>all</td><td>Irx5__Lmx1a</td><td>neuron</td><td>Day5</td><td>obob5v5</td><td>Day5</td><td>obobBL6d5</td><td>bl6_grouping</td><td>neg</td><td>⋯</td><td>0.807</td><td> 2.902738e-51</td><td>ENSMUSG00000085562</td><td>172.4072</td><td>70</td><td>2686</td><td>0.02606106</td><td>0.1</td><td>150</td><td>FALSE</td></tr>\n",
       "\t<tr><td>Irx5__Lmx1a___Day5.obob5v5__v__Day5.obobBL6d5___bl6_grouping.neg_vs_none</td><td>all</td><td>Irx5__Lmx1a</td><td>neuron</td><td>Day5</td><td>obob5v5</td><td>Day5</td><td>obobBL6d5</td><td>bl6_grouping</td><td>neg</td><td>⋯</td><td>0.544</td><td> 2.017905e-37</td><td>ENSMUSG00000029700</td><td>171.9260</td><td>70</td><td>2686</td><td>0.02606106</td><td>0.1</td><td>150</td><td>FALSE</td></tr>\n",
       "\t<tr><td>⋮</td><td>⋮</td><td>⋮</td><td>⋮</td><td>⋮</td><td>⋮</td><td>⋮</td><td>⋮</td><td>⋮</td><td>⋮</td><td>⋱</td><td>⋮</td><td>⋮</td><td>⋮</td><td>⋮</td><td>⋮</td><td>⋮</td><td>⋮</td><td>⋮</td><td>⋮</td><td>⋮</td></tr>\n",
       "\t<tr><td>Irx5__Lmx1a___Day5.obob5v5__v__Day5.obobBL6d5___restored_grouping.pos_restored_vs_none</td><td>all</td><td>Irx5__Lmx1a</td><td>neuron</td><td>Day5</td><td>obob5v5</td><td>Day5</td><td>obobBL6d5</td><td>restored_grouping</td><td>pos_restored</td><td>⋯</td><td>0.573</td><td>1.958361e-03</td><td>ENSMUSG00000032530</td><td>0.679345220</td><td>70</td><td>2686</td><td>0.02606106</td><td>0.1</td><td>150</td><td>FALSE</td></tr>\n",
       "\t<tr><td>Irx5__Lmx1a___Day5.obob5v5__v__Day5.obobBL6d5___restored_grouping.pos_restored_vs_none</td><td>all</td><td>Irx5__Lmx1a</td><td>neuron</td><td>Day5</td><td>obob5v5</td><td>Day5</td><td>obobBL6d5</td><td>restored_grouping</td><td>pos_restored</td><td>⋯</td><td>0.569</td><td>9.917500e-04</td><td>ENSMUSG00000020682</td><td>0.678325463</td><td>70</td><td>2686</td><td>0.02606106</td><td>0.1</td><td>150</td><td>FALSE</td></tr>\n",
       "\t<tr><td>Irx5__Lmx1a___Day5.obob5v5__v__Day5.obobBL6d5___restored_grouping.pos_restored_vs_none</td><td>all</td><td>Irx5__Lmx1a</td><td>neuron</td><td>Day5</td><td>obob5v5</td><td>Day5</td><td>obobBL6d5</td><td>restored_grouping</td><td>pos_restored</td><td>⋯</td><td>0.840</td><td>1.022874e-02</td><td>ENSMUSG00000043441</td><td>0.659066295</td><td>70</td><td>2686</td><td>0.02606106</td><td>0.1</td><td>150</td><td>FALSE</td></tr>\n",
       "\t<tr><td>Irx5__Lmx1a___Day5.obob5v5__v__Day5.obobBL6d5___restored_grouping.pos_restored_vs_none</td><td>all</td><td>Irx5__Lmx1a</td><td>neuron</td><td>Day5</td><td>obob5v5</td><td>Day5</td><td>obobBL6d5</td><td>restored_grouping</td><td>pos_restored</td><td>⋯</td><td>0.846</td><td>3.677767e-02</td><td>ENSMUSG00000086027</td><td>0.653831639</td><td>70</td><td>2686</td><td>0.02606106</td><td>0.1</td><td>150</td><td>FALSE</td></tr>\n",
       "\t<tr><td>Irx5__Lmx1a___Day5.obob5v5__v__Day5.obobBL6d5___restored_grouping.pos_restored_vs_none</td><td>all</td><td>Irx5__Lmx1a</td><td>neuron</td><td>Day5</td><td>obob5v5</td><td>Day5</td><td>obobBL6d5</td><td>restored_grouping</td><td>pos_restored</td><td>⋯</td><td>1.000</td><td>2.902456e-02</td><td>ENSMUSG00000049252</td><td>0.634304633</td><td>70</td><td>2686</td><td>0.02606106</td><td>0.1</td><td>150</td><td>FALSE</td></tr>\n",
       "\t<tr><td>Irx5__Lmx1a___Day5.obob5v5__v__Day5.obobBL6d5___restored_grouping.pos_restored_vs_none</td><td>all</td><td>Irx5__Lmx1a</td><td>neuron</td><td>Day5</td><td>obob5v5</td><td>Day5</td><td>obobBL6d5</td><td>restored_grouping</td><td>pos_restored</td><td>⋯</td><td>0.712</td><td>5.281000e-03</td><td>ENSMUSG00000020722</td><td>0.633918187</td><td>70</td><td>2686</td><td>0.02606106</td><td>0.1</td><td>150</td><td>FALSE</td></tr>\n",
       "\t<tr><td>Irx5__Lmx1a___Day5.obob5v5__v__Day5.obobBL6d5___restored_grouping.pos_restored_vs_none</td><td>all</td><td>Irx5__Lmx1a</td><td>neuron</td><td>Day5</td><td>obob5v5</td><td>Day5</td><td>obobBL6d5</td><td>restored_grouping</td><td>pos_restored</td><td>⋯</td><td>0.695</td><td>2.785703e-02</td><td>ENSMUSG00000104693</td><td>0.619715941</td><td>70</td><td>2686</td><td>0.02606106</td><td>0.1</td><td>150</td><td>FALSE</td></tr>\n",
       "\t<tr><td>Irx5__Lmx1a___Day5.obob5v5__v__Day5.obobBL6d5___restored_grouping.pos_restored_vs_none</td><td>all</td><td>Irx5__Lmx1a</td><td>neuron</td><td>Day5</td><td>obob5v5</td><td>Day5</td><td>obobBL6d5</td><td>restored_grouping</td><td>pos_restored</td><td>⋯</td><td>0.835</td><td>1.130242e-02</td><td>ENSMUSG00000100301</td><td>0.605669439</td><td>70</td><td>2686</td><td>0.02606106</td><td>0.1</td><td>150</td><td>FALSE</td></tr>\n",
       "\t<tr><td>Irx5__Lmx1a___Day5.obob5v5__v__Day5.obobBL6d5___restored_grouping.pos_restored_vs_none</td><td>all</td><td>Irx5__Lmx1a</td><td>neuron</td><td>Day5</td><td>obob5v5</td><td>Day5</td><td>obobBL6d5</td><td>restored_grouping</td><td>pos_restored</td><td>⋯</td><td>0.633</td><td>1.916779e-02</td><td>ENSMUSG00000078870</td><td>0.605615178</td><td>70</td><td>2686</td><td>0.02606106</td><td>0.1</td><td>150</td><td>FALSE</td></tr>\n",
       "\t<tr><td>Irx5__Lmx1a___Day5.obob5v5__v__Day5.obobBL6d5___restored_grouping.pos_restored_vs_none</td><td>all</td><td>Irx5__Lmx1a</td><td>neuron</td><td>Day5</td><td>obob5v5</td><td>Day5</td><td>obobBL6d5</td><td>restored_grouping</td><td>pos_restored</td><td>⋯</td><td>0.606</td><td>5.356172e-11</td><td>ENSMUSG00000026805</td><td>0.588933794</td><td>70</td><td>2686</td><td>0.02606106</td><td>0.1</td><td>150</td><td>FALSE</td></tr>\n",
       "\t<tr><td>Irx5__Lmx1a___Day5.obob5v5__v__Day5.obobBL6d5___restored_grouping.pos_restored_vs_none</td><td>all</td><td>Irx5__Lmx1a</td><td>neuron</td><td>Day5</td><td>obob5v5</td><td>Day5</td><td>obobBL6d5</td><td>restored_grouping</td><td>pos_restored</td><td>⋯</td><td>0.418</td><td>1.295202e-02</td><td>ENSMUSG00000026154</td><td>0.504385324</td><td>70</td><td>2686</td><td>0.02606106</td><td>0.1</td><td>150</td><td>FALSE</td></tr>\n",
       "\t<tr><td>Irx5__Lmx1a___Day5.obob5v5__v__Day5.obobBL6d5___restored_grouping.pos_restored_vs_none</td><td>all</td><td>Irx5__Lmx1a</td><td>neuron</td><td>Day5</td><td>obob5v5</td><td>Day5</td><td>obobBL6d5</td><td>restored_grouping</td><td>pos_restored</td><td>⋯</td><td>0.580</td><td>8.442143e-10</td><td>ENSMUSG00000032207</td><td>0.486674895</td><td>70</td><td>2686</td><td>0.02606106</td><td>0.1</td><td>150</td><td>FALSE</td></tr>\n",
       "\t<tr><td>Irx5__Lmx1a___Day5.obob5v5__v__Day5.obobBL6d5___restored_grouping.pos_restored_vs_none</td><td>all</td><td>Irx5__Lmx1a</td><td>neuron</td><td>Day5</td><td>obob5v5</td><td>Day5</td><td>obobBL6d5</td><td>restored_grouping</td><td>pos_restored</td><td>⋯</td><td>0.724</td><td>1.617077e-02</td><td>ENSMUSG00000084945</td><td>0.470282594</td><td>70</td><td>2686</td><td>0.02606106</td><td>0.1</td><td>150</td><td>FALSE</td></tr>\n",
       "\t<tr><td>Irx5__Lmx1a___Day5.obob5v5__v__Day5.obobBL6d5___restored_grouping.pos_restored_vs_none</td><td>all</td><td>Irx5__Lmx1a</td><td>neuron</td><td>Day5</td><td>obob5v5</td><td>Day5</td><td>obobBL6d5</td><td>restored_grouping</td><td>pos_restored</td><td>⋯</td><td>0.680</td><td>4.282118e-02</td><td>ENSMUSG00000044134</td><td>0.464277106</td><td>70</td><td>2686</td><td>0.02606106</td><td>0.1</td><td>150</td><td>FALSE</td></tr>\n",
       "\t<tr><td>Irx5__Lmx1a___Day5.obob5v5__v__Day5.obobBL6d5___restored_grouping.pos_restored_vs_none</td><td>all</td><td>Irx5__Lmx1a</td><td>neuron</td><td>Day5</td><td>obob5v5</td><td>Day5</td><td>obobBL6d5</td><td>restored_grouping</td><td>pos_restored</td><td>⋯</td><td>0.752</td><td>7.749639e-05</td><td>ENSMUSG00000029725</td><td>0.460752498</td><td>70</td><td>2686</td><td>0.02606106</td><td>0.1</td><td>150</td><td>FALSE</td></tr>\n",
       "\t<tr><td>Irx5__Lmx1a___Day5.obob5v5__v__Day5.obobBL6d5___restored_grouping.pos_restored_vs_none</td><td>all</td><td>Irx5__Lmx1a</td><td>neuron</td><td>Day5</td><td>obob5v5</td><td>Day5</td><td>obobBL6d5</td><td>restored_grouping</td><td>pos_restored</td><td>⋯</td><td>0.760</td><td>2.224231e-02</td><td>ENSMUSG00000060969</td><td>0.434161498</td><td>70</td><td>2686</td><td>0.02606106</td><td>0.1</td><td>150</td><td>FALSE</td></tr>\n",
       "\t<tr><td>Irx5__Lmx1a___Day5.obob5v5__v__Day5.obobBL6d5___restored_grouping.pos_restored_vs_none</td><td>all</td><td>Irx5__Lmx1a</td><td>neuron</td><td>Day5</td><td>obob5v5</td><td>Day5</td><td>obobBL6d5</td><td>restored_grouping</td><td>pos_restored</td><td>⋯</td><td>0.680</td><td>1.402196e-02</td><td>ENSMUSG00000055069</td><td>0.355627551</td><td>70</td><td>2686</td><td>0.02606106</td><td>0.1</td><td>150</td><td>FALSE</td></tr>\n",
       "\t<tr><td>Irx5__Lmx1a___Day5.obob5v5__v__Day5.obobBL6d5___restored_grouping.pos_restored_vs_none</td><td>all</td><td>Irx5__Lmx1a</td><td>neuron</td><td>Day5</td><td>obob5v5</td><td>Day5</td><td>obobBL6d5</td><td>restored_grouping</td><td>pos_restored</td><td>⋯</td><td>0.503</td><td>4.093280e-11</td><td>ENSMUSG00000093386</td><td>0.299318853</td><td>70</td><td>2686</td><td>0.02606106</td><td>0.1</td><td>150</td><td>FALSE</td></tr>\n",
       "\t<tr><td>Irx5__Lmx1a___Day5.obob5v5__v__Day5.obobBL6d5___restored_grouping.pos_restored_vs_none</td><td>all</td><td>Irx5__Lmx1a</td><td>neuron</td><td>Day5</td><td>obob5v5</td><td>Day5</td><td>obobBL6d5</td><td>restored_grouping</td><td>pos_restored</td><td>⋯</td><td>0.661</td><td>4.983325e-03</td><td>ENSMUSG00000015001</td><td>0.282805859</td><td>70</td><td>2686</td><td>0.02606106</td><td>0.1</td><td>150</td><td>FALSE</td></tr>\n",
       "\t<tr><td>Irx5__Lmx1a___Day5.obob5v5__v__Day5.obobBL6d5___restored_grouping.pos_restored_vs_none</td><td>all</td><td>Irx5__Lmx1a</td><td>neuron</td><td>Day5</td><td>obob5v5</td><td>Day5</td><td>obobBL6d5</td><td>restored_grouping</td><td>pos_restored</td><td>⋯</td><td>0.704</td><td>3.249716e-02</td><td>ENSMUSG00000044617</td><td>0.281861363</td><td>70</td><td>2686</td><td>0.02606106</td><td>0.1</td><td>150</td><td>FALSE</td></tr>\n",
       "\t<tr><td>Irx5__Lmx1a___Day5.obob5v5__v__Day5.obobBL6d5___restored_grouping.pos_restored_vs_none</td><td>all</td><td>Irx5__Lmx1a</td><td>neuron</td><td>Day5</td><td>obob5v5</td><td>Day5</td><td>obobBL6d5</td><td>restored_grouping</td><td>pos_restored</td><td>⋯</td><td>0.470</td><td>2.062762e-03</td><td>ENSMUSG00000020857</td><td>0.274567042</td><td>70</td><td>2686</td><td>0.02606106</td><td>0.1</td><td>150</td><td>FALSE</td></tr>\n",
       "\t<tr><td>Irx5__Lmx1a___Day5.obob5v5__v__Day5.obobBL6d5___restored_grouping.pos_restored_vs_none</td><td>all</td><td>Irx5__Lmx1a</td><td>neuron</td><td>Day5</td><td>obob5v5</td><td>Day5</td><td>obobBL6d5</td><td>restored_grouping</td><td>pos_restored</td><td>⋯</td><td>0.632</td><td>3.358942e-09</td><td>ENSMUSG00000047528</td><td>0.236583933</td><td>70</td><td>2686</td><td>0.02606106</td><td>0.1</td><td>150</td><td>FALSE</td></tr>\n",
       "\t<tr><td>Irx5__Lmx1a___Day5.obob5v5__v__Day5.obobBL6d5___restored_grouping.pos_restored_vs_none</td><td>all</td><td>Irx5__Lmx1a</td><td>neuron</td><td>Day5</td><td>obob5v5</td><td>Day5</td><td>obobBL6d5</td><td>restored_grouping</td><td>pos_restored</td><td>⋯</td><td>0.496</td><td>3.246177e-04</td><td>ENSMUSG00000047371</td><td>0.231953235</td><td>70</td><td>2686</td><td>0.02606106</td><td>0.1</td><td>150</td><td>FALSE</td></tr>\n",
       "\t<tr><td>Irx5__Lmx1a___Day5.obob5v5__v__Day5.obobBL6d5___restored_grouping.pos_restored_vs_none</td><td>all</td><td>Irx5__Lmx1a</td><td>neuron</td><td>Day5</td><td>obob5v5</td><td>Day5</td><td>obobBL6d5</td><td>restored_grouping</td><td>pos_restored</td><td>⋯</td><td>0.583</td><td>4.744170e-05</td><td>ENSMUSG00000098087</td><td>0.183829885</td><td>70</td><td>2686</td><td>0.02606106</td><td>0.1</td><td>150</td><td>FALSE</td></tr>\n",
       "\t<tr><td>Irx5__Lmx1a___Day5.obob5v5__v__Day5.obobBL6d5___restored_grouping.pos_restored_vs_none</td><td>all</td><td>Irx5__Lmx1a</td><td>neuron</td><td>Day5</td><td>obob5v5</td><td>Day5</td><td>obobBL6d5</td><td>restored_grouping</td><td>pos_restored</td><td>⋯</td><td>0.618</td><td>3.390944e-03</td><td>ENSMUSG00000087362</td><td>0.166824790</td><td>70</td><td>2686</td><td>0.02606106</td><td>0.1</td><td>150</td><td>FALSE</td></tr>\n",
       "\t<tr><td>Irx5__Lmx1a___Day5.obob5v5__v__Day5.obobBL6d5___restored_grouping.pos_restored_vs_none</td><td>all</td><td>Irx5__Lmx1a</td><td>neuron</td><td>Day5</td><td>obob5v5</td><td>Day5</td><td>obobBL6d5</td><td>restored_grouping</td><td>pos_restored</td><td>⋯</td><td>0.719</td><td>8.341728e-05</td><td>ENSMUSG00000086523</td><td>0.073561880</td><td>70</td><td>2686</td><td>0.02606106</td><td>0.1</td><td>150</td><td>FALSE</td></tr>\n",
       "\t<tr><td>Irx5__Lmx1a___Day5.obob5v5__v__Day5.obobBL6d5___restored_grouping.pos_restored_vs_none</td><td>all</td><td>Irx5__Lmx1a</td><td>neuron</td><td>Day5</td><td>obob5v5</td><td>Day5</td><td>obobBL6d5</td><td>restored_grouping</td><td>pos_restored</td><td>⋯</td><td>0.570</td><td>2.071186e-04</td><td>ENSMUSG00000097927</td><td>0.043212065</td><td>70</td><td>2686</td><td>0.02606106</td><td>0.1</td><td>150</td><td>FALSE</td></tr>\n",
       "\t<tr><td>Irx5__Lmx1a___Day5.obob5v5__v__Day5.obobBL6d5___restored_grouping.pos_restored_vs_none</td><td>all</td><td>Irx5__Lmx1a</td><td>neuron</td><td>Day5</td><td>obob5v5</td><td>Day5</td><td>obobBL6d5</td><td>restored_grouping</td><td>pos_restored</td><td>⋯</td><td>0.841</td><td>1.942475e-02</td><td>ENSMUSG00000115667</td><td>0.039353259</td><td>70</td><td>2686</td><td>0.02606106</td><td>0.1</td><td>150</td><td>FALSE</td></tr>\n",
       "\t<tr><td>Irx5__Lmx1a___Day5.obob5v5__v__Day5.obobBL6d5___restored_grouping.pos_restored_vs_none</td><td>all</td><td>Irx5__Lmx1a</td><td>neuron</td><td>Day5</td><td>obob5v5</td><td>Day5</td><td>obobBL6d5</td><td>restored_grouping</td><td>pos_restored</td><td>⋯</td><td>0.750</td><td>1.792996e-04</td><td>ENSMUSG00000028128</td><td>0.014658198</td><td>70</td><td>2686</td><td>0.02606106</td><td>0.1</td><td>150</td><td>FALSE</td></tr>\n",
       "\t<tr><td>Irx5__Lmx1a___Day5.obob5v5__v__Day5.obobBL6d5___restored_grouping.pos_restored_vs_none</td><td>all</td><td>Irx5__Lmx1a</td><td>neuron</td><td>Day5</td><td>obob5v5</td><td>Day5</td><td>obobBL6d5</td><td>restored_grouping</td><td>pos_restored</td><td>⋯</td><td>0.628</td><td>6.710234e-08</td><td>ENSMUSG00000072584</td><td>0.005386653</td><td>70</td><td>2686</td><td>0.02606106</td><td>0.1</td><td>150</td><td>FALSE</td></tr>\n",
       "</tbody>\n",
       "</table>\n"
      ],
      "text/latex": [
       "A tibble: 3714 × 25\n",
       "\\begin{tabular}{lllllllllllllllllllll}\n",
       " tag & data\\_day & cluster & class & fgf1\\_day & fgf1\\_comparison & bl6\\_day & bl6\\_comparison & grouping & cells\\_a & ⋯ & pct.2 & p\\_val\\_adj & ensmusg & gsea\\_sort\\_score & count & total\\_cells & frac & frac\\_cutoff & n\\_cells\\_cutoff & n\\_cells\\_valid\\\\\n",
       " <chr> & <chr> & <chr> & <chr> & <chr> & <chr> & <chr> & <chr> & <chr> & <chr> & ⋯ & <dbl> & <dbl> & <chr> & <dbl> & <int> & <int> & <dbl> & <dbl> & <dbl> & <lgl>\\\\\n",
       "\\hline\n",
       "\t Irx5\\_\\_Lmx1a\\_\\_\\_Day5.obob5v5\\_\\_v\\_\\_Day5.obobBL6d5\\_\\_\\_bl6\\_grouping.neg\\_vs\\_none & all & Irx5\\_\\_Lmx1a & neuron & Day5 & obob5v5 & Day5 & obobBL6d5 & bl6\\_grouping & neg & ⋯ & 0.805 & 1.884031e-169 & ENSMUSG00000058925 & 713.1835 & 70 & 2686 & 0.02606106 & 0.1 & 150 & FALSE\\\\\n",
       "\t Irx5\\_\\_Lmx1a\\_\\_\\_Day5.obob5v5\\_\\_v\\_\\_Day5.obobBL6d5\\_\\_\\_bl6\\_grouping.neg\\_vs\\_none & all & Irx5\\_\\_Lmx1a & neuron & Day5 & obob5v5 & Day5 & obobBL6d5 & bl6\\_grouping & neg & ⋯ & 0.869 & 1.744857e-159 & ENSMUSG00000093497 & 525.1943 & 70 & 2686 & 0.02606106 & 0.1 & 150 & FALSE\\\\\n",
       "\t Irx5\\_\\_Lmx1a\\_\\_\\_Day5.obob5v5\\_\\_v\\_\\_Day5.obobBL6d5\\_\\_\\_bl6\\_grouping.neg\\_vs\\_none & all & Irx5\\_\\_Lmx1a & neuron & Day5 & obob5v5 & Day5 & obobBL6d5 & bl6\\_grouping & neg & ⋯ & 0.808 & 1.301808e-143 & ENSMUSG00000061171 & 500.1280 & 70 & 2686 & 0.02606106 & 0.1 & 150 & FALSE\\\\\n",
       "\t Irx5\\_\\_Lmx1a\\_\\_\\_Day5.obob5v5\\_\\_v\\_\\_Day5.obobBL6d5\\_\\_\\_bl6\\_grouping.neg\\_vs\\_none & all & Irx5\\_\\_Lmx1a & neuron & Day5 & obob5v5 & Day5 & obobBL6d5 & bl6\\_grouping & neg & ⋯ & 0.753 & 1.445177e-127 & ENSMUSG00000087388 & 488.5600 & 70 & 2686 & 0.02606106 & 0.1 & 150 & FALSE\\\\\n",
       "\t Irx5\\_\\_Lmx1a\\_\\_\\_Day5.obob5v5\\_\\_v\\_\\_Day5.obobBL6d5\\_\\_\\_bl6\\_grouping.neg\\_vs\\_none & all & Irx5\\_\\_Lmx1a & neuron & Day5 & obob5v5 & Day5 & obobBL6d5 & bl6\\_grouping & neg & ⋯ & 0.662 &  2.210621e-71 & ENSMUSG00000114810 & 430.0567 & 70 & 2686 & 0.02606106 & 0.1 & 150 & FALSE\\\\\n",
       "\t Irx5\\_\\_Lmx1a\\_\\_\\_Day5.obob5v5\\_\\_v\\_\\_Day5.obobBL6d5\\_\\_\\_bl6\\_grouping.neg\\_vs\\_none & all & Irx5\\_\\_Lmx1a & neuron & Day5 & obob5v5 & Day5 & obobBL6d5 & bl6\\_grouping & neg & ⋯ & 0.528 &  6.009810e-70 & ENSMUSG00000055933 & 372.0814 & 70 & 2686 & 0.02606106 & 0.1 & 150 & FALSE\\\\\n",
       "\t Irx5\\_\\_Lmx1a\\_\\_\\_Day5.obob5v5\\_\\_v\\_\\_Day5.obobBL6d5\\_\\_\\_bl6\\_grouping.neg\\_vs\\_none & all & Irx5\\_\\_Lmx1a & neuron & Day5 & obob5v5 & Day5 & obobBL6d5 & bl6\\_grouping & neg & ⋯ & 0.758 &  2.621778e-81 & ENSMUSG00000057981 & 354.4501 & 70 & 2686 & 0.02606106 & 0.1 & 150 & FALSE\\\\\n",
       "\t Irx5\\_\\_Lmx1a\\_\\_\\_Day5.obob5v5\\_\\_v\\_\\_Day5.obobBL6d5\\_\\_\\_bl6\\_grouping.neg\\_vs\\_none & all & Irx5\\_\\_Lmx1a & neuron & Day5 & obob5v5 & Day5 & obobBL6d5 & bl6\\_grouping & neg & ⋯ & 0.563 &  9.288247e-63 & ENSMUSG00000109107 & 341.4653 & 70 & 2686 & 0.02606106 & 0.1 & 150 & FALSE\\\\\n",
       "\t Irx5\\_\\_Lmx1a\\_\\_\\_Day5.obob5v5\\_\\_v\\_\\_Day5.obobBL6d5\\_\\_\\_bl6\\_grouping.neg\\_vs\\_none & all & Irx5\\_\\_Lmx1a & neuron & Day5 & obob5v5 & Day5 & obobBL6d5 & bl6\\_grouping & neg & ⋯ & 0.511 &  5.027642e-74 & ENSMUSG00000000120 & 329.0092 & 70 & 2686 & 0.02606106 & 0.1 & 150 & FALSE\\\\\n",
       "\t Irx5\\_\\_Lmx1a\\_\\_\\_Day5.obob5v5\\_\\_v\\_\\_Day5.obobBL6d5\\_\\_\\_bl6\\_grouping.neg\\_vs\\_none & all & Irx5\\_\\_Lmx1a & neuron & Day5 & obob5v5 & Day5 & obobBL6d5 & bl6\\_grouping & neg & ⋯ & 0.758 &  1.427135e-75 & ENSMUSG00000110592 & 295.7611 & 70 & 2686 & 0.02606106 & 0.1 & 150 & FALSE\\\\\n",
       "\t Irx5\\_\\_Lmx1a\\_\\_\\_Day5.obob5v5\\_\\_v\\_\\_Day5.obobBL6d5\\_\\_\\_bl6\\_grouping.neg\\_vs\\_none & all & Irx5\\_\\_Lmx1a & neuron & Day5 & obob5v5 & Day5 & obobBL6d5 & bl6\\_grouping & neg & ⋯ & 0.818 &  1.239903e-79 & ENSMUSG00000087296 & 291.2892 & 70 & 2686 & 0.02606106 & 0.1 & 150 & FALSE\\\\\n",
       "\t Irx5\\_\\_Lmx1a\\_\\_\\_Day5.obob5v5\\_\\_v\\_\\_Day5.obobBL6d5\\_\\_\\_bl6\\_grouping.neg\\_vs\\_none & all & Irx5\\_\\_Lmx1a & neuron & Day5 & obob5v5 & Day5 & obobBL6d5 & bl6\\_grouping & neg & ⋯ & 0.729 &  1.644855e-78 & ENSMUSG00000111990 & 272.3795 & 70 & 2686 & 0.02606106 & 0.1 & 150 & FALSE\\\\\n",
       "\t Irx5\\_\\_Lmx1a\\_\\_\\_Day5.obob5v5\\_\\_v\\_\\_Day5.obobBL6d5\\_\\_\\_bl6\\_grouping.neg\\_vs\\_none & all & Irx5\\_\\_Lmx1a & neuron & Day5 & obob5v5 & Day5 & obobBL6d5 & bl6\\_grouping & neg & ⋯ & 0.929 & 2.862427e-104 & ENSMUSG00000022112 & 271.0954 & 70 & 2686 & 0.02606106 & 0.1 & 150 & FALSE\\\\\n",
       "\t Irx5\\_\\_Lmx1a\\_\\_\\_Day5.obob5v5\\_\\_v\\_\\_Day5.obobBL6d5\\_\\_\\_bl6\\_grouping.neg\\_vs\\_none & all & Irx5\\_\\_Lmx1a & neuron & Day5 & obob5v5 & Day5 & obobBL6d5 & bl6\\_grouping & neg & ⋯ & 0.781 &  2.176989e-58 & ENSMUSG00000102101 & 243.6955 & 70 & 2686 & 0.02606106 & 0.1 & 150 & FALSE\\\\\n",
       "\t Irx5\\_\\_Lmx1a\\_\\_\\_Day5.obob5v5\\_\\_v\\_\\_Day5.obobBL6d5\\_\\_\\_bl6\\_grouping.neg\\_vs\\_none & all & Irx5\\_\\_Lmx1a & neuron & Day5 & obob5v5 & Day5 & obobBL6d5 & bl6\\_grouping & neg & ⋯ & 0.509 &  1.508670e-41 & ENSMUSG00000116800 & 212.3363 & 70 & 2686 & 0.02606106 & 0.1 & 150 & FALSE\\\\\n",
       "\t Irx5\\_\\_Lmx1a\\_\\_\\_Day5.obob5v5\\_\\_v\\_\\_Day5.obobBL6d5\\_\\_\\_bl6\\_grouping.neg\\_vs\\_none & all & Irx5\\_\\_Lmx1a & neuron & Day5 & obob5v5 & Day5 & obobBL6d5 & bl6\\_grouping & neg & ⋯ & 0.834 &  3.705072e-67 & ENSMUSG00000086607 & 209.4790 & 70 & 2686 & 0.02606106 & 0.1 & 150 & FALSE\\\\\n",
       "\t Irx5\\_\\_Lmx1a\\_\\_\\_Day5.obob5v5\\_\\_v\\_\\_Day5.obobBL6d5\\_\\_\\_bl6\\_grouping.neg\\_vs\\_none & all & Irx5\\_\\_Lmx1a & neuron & Day5 & obob5v5 & Day5 & obobBL6d5 & bl6\\_grouping & neg & ⋯ & 0.879 &  3.795932e-87 & ENSMUSG00000003746 & 202.3244 & 70 & 2686 & 0.02606106 & 0.1 & 150 & FALSE\\\\\n",
       "\t Irx5\\_\\_Lmx1a\\_\\_\\_Day5.obob5v5\\_\\_v\\_\\_Day5.obobBL6d5\\_\\_\\_bl6\\_grouping.neg\\_vs\\_none & all & Irx5\\_\\_Lmx1a & neuron & Day5 & obob5v5 & Day5 & obobBL6d5 & bl6\\_grouping & neg & ⋯ & 0.411 &  2.913054e-35 & ENSMUSG00000108276 & 199.5322 & 70 & 2686 & 0.02606106 & 0.1 & 150 & FALSE\\\\\n",
       "\t Irx5\\_\\_Lmx1a\\_\\_\\_Day5.obob5v5\\_\\_v\\_\\_Day5.obobBL6d5\\_\\_\\_bl6\\_grouping.neg\\_vs\\_none & all & Irx5\\_\\_Lmx1a & neuron & Day5 & obob5v5 & Day5 & obobBL6d5 & bl6\\_grouping & neg & ⋯ & 0.877 &  8.761393e-64 & ENSMUSG00000111924 & 198.4936 & 70 & 2686 & 0.02606106 & 0.1 & 150 & FALSE\\\\\n",
       "\t Irx5\\_\\_Lmx1a\\_\\_\\_Day5.obob5v5\\_\\_v\\_\\_Day5.obobBL6d5\\_\\_\\_bl6\\_grouping.neg\\_vs\\_none & all & Irx5\\_\\_Lmx1a & neuron & Day5 & obob5v5 & Day5 & obobBL6d5 & bl6\\_grouping & neg & ⋯ & 0.401 &  5.056769e-25 & ENSMUSG00000003849 & 197.5366 & 70 & 2686 & 0.02606106 & 0.1 & 150 & FALSE\\\\\n",
       "\t Irx5\\_\\_Lmx1a\\_\\_\\_Day5.obob5v5\\_\\_v\\_\\_Day5.obobBL6d5\\_\\_\\_bl6\\_grouping.neg\\_vs\\_none & all & Irx5\\_\\_Lmx1a & neuron & Day5 & obob5v5 & Day5 & obobBL6d5 & bl6\\_grouping & neg & ⋯ & 0.667 &  2.662828e-51 & ENSMUSG00000110747 & 196.4626 & 70 & 2686 & 0.02606106 & 0.1 & 150 & FALSE\\\\\n",
       "\t Irx5\\_\\_Lmx1a\\_\\_\\_Day5.obob5v5\\_\\_v\\_\\_Day5.obobBL6d5\\_\\_\\_bl6\\_grouping.neg\\_vs\\_none & all & Irx5\\_\\_Lmx1a & neuron & Day5 & obob5v5 & Day5 & obobBL6d5 & bl6\\_grouping & neg & ⋯ & 0.636 &  1.516937e-59 & ENSMUSG00000110667 & 195.9476 & 70 & 2686 & 0.02606106 & 0.1 & 150 & FALSE\\\\\n",
       "\t Irx5\\_\\_Lmx1a\\_\\_\\_Day5.obob5v5\\_\\_v\\_\\_Day5.obobBL6d5\\_\\_\\_bl6\\_grouping.neg\\_vs\\_none & all & Irx5\\_\\_Lmx1a & neuron & Day5 & obob5v5 & Day5 & obobBL6d5 & bl6\\_grouping & neg & ⋯ & 0.698 &  4.604998e-50 & ENSMUSG00000118396 & 193.8736 & 70 & 2686 & 0.02606106 & 0.1 & 150 & FALSE\\\\\n",
       "\t Irx5\\_\\_Lmx1a\\_\\_\\_Day5.obob5v5\\_\\_v\\_\\_Day5.obobBL6d5\\_\\_\\_bl6\\_grouping.neg\\_vs\\_none & all & Irx5\\_\\_Lmx1a & neuron & Day5 & obob5v5 & Day5 & obobBL6d5 & bl6\\_grouping & neg & ⋯ & 0.692 &  6.464149e-36 & ENSMUSG00000110002 & 193.6990 & 70 & 2686 & 0.02606106 & 0.1 & 150 & FALSE\\\\\n",
       "\t Irx5\\_\\_Lmx1a\\_\\_\\_Day5.obob5v5\\_\\_v\\_\\_Day5.obobBL6d5\\_\\_\\_bl6\\_grouping.neg\\_vs\\_none & all & Irx5\\_\\_Lmx1a & neuron & Day5 & obob5v5 & Day5 & obobBL6d5 & bl6\\_grouping & neg & ⋯ & 0.921 &  7.902312e-80 & ENSMUSG00000042581 & 190.3392 & 70 & 2686 & 0.02606106 & 0.1 & 150 & FALSE\\\\\n",
       "\t Irx5\\_\\_Lmx1a\\_\\_\\_Day5.obob5v5\\_\\_v\\_\\_Day5.obobBL6d5\\_\\_\\_bl6\\_grouping.neg\\_vs\\_none & all & Irx5\\_\\_Lmx1a & neuron & Day5 & obob5v5 & Day5 & obobBL6d5 & bl6\\_grouping & neg & ⋯ & 0.310 &  2.559115e-20 & ENSMUSG00000098176 & 186.0519 & 70 & 2686 & 0.02606106 & 0.1 & 150 & FALSE\\\\\n",
       "\t Irx5\\_\\_Lmx1a\\_\\_\\_Day5.obob5v5\\_\\_v\\_\\_Day5.obobBL6d5\\_\\_\\_bl6\\_grouping.neg\\_vs\\_none & all & Irx5\\_\\_Lmx1a & neuron & Day5 & obob5v5 & Day5 & obobBL6d5 & bl6\\_grouping & neg & ⋯ & 0.654 &  8.119767e-48 & ENSMUSG00000074207 & 185.8243 & 70 & 2686 & 0.02606106 & 0.1 & 150 & FALSE\\\\\n",
       "\t Irx5\\_\\_Lmx1a\\_\\_\\_Day5.obob5v5\\_\\_v\\_\\_Day5.obobBL6d5\\_\\_\\_bl6\\_grouping.neg\\_vs\\_none & all & Irx5\\_\\_Lmx1a & neuron & Day5 & obob5v5 & Day5 & obobBL6d5 & bl6\\_grouping & neg & ⋯ & 0.388 &  2.365544e-28 & ENSMUSG00000023979 & 184.2856 & 70 & 2686 & 0.02606106 & 0.1 & 150 & FALSE\\\\\n",
       "\t Irx5\\_\\_Lmx1a\\_\\_\\_Day5.obob5v5\\_\\_v\\_\\_Day5.obobBL6d5\\_\\_\\_bl6\\_grouping.neg\\_vs\\_none & all & Irx5\\_\\_Lmx1a & neuron & Day5 & obob5v5 & Day5 & obobBL6d5 & bl6\\_grouping & neg & ⋯ & 0.807 &  2.902738e-51 & ENSMUSG00000085562 & 172.4072 & 70 & 2686 & 0.02606106 & 0.1 & 150 & FALSE\\\\\n",
       "\t Irx5\\_\\_Lmx1a\\_\\_\\_Day5.obob5v5\\_\\_v\\_\\_Day5.obobBL6d5\\_\\_\\_bl6\\_grouping.neg\\_vs\\_none & all & Irx5\\_\\_Lmx1a & neuron & Day5 & obob5v5 & Day5 & obobBL6d5 & bl6\\_grouping & neg & ⋯ & 0.544 &  2.017905e-37 & ENSMUSG00000029700 & 171.9260 & 70 & 2686 & 0.02606106 & 0.1 & 150 & FALSE\\\\\n",
       "\t ⋮ & ⋮ & ⋮ & ⋮ & ⋮ & ⋮ & ⋮ & ⋮ & ⋮ & ⋮ & ⋱ & ⋮ & ⋮ & ⋮ & ⋮ & ⋮ & ⋮ & ⋮ & ⋮ & ⋮ & ⋮\\\\\n",
       "\t Irx5\\_\\_Lmx1a\\_\\_\\_Day5.obob5v5\\_\\_v\\_\\_Day5.obobBL6d5\\_\\_\\_restored\\_grouping.pos\\_restored\\_vs\\_none & all & Irx5\\_\\_Lmx1a & neuron & Day5 & obob5v5 & Day5 & obobBL6d5 & restored\\_grouping & pos\\_restored & ⋯ & 0.573 & 1.958361e-03 & ENSMUSG00000032530 & 0.679345220 & 70 & 2686 & 0.02606106 & 0.1 & 150 & FALSE\\\\\n",
       "\t Irx5\\_\\_Lmx1a\\_\\_\\_Day5.obob5v5\\_\\_v\\_\\_Day5.obobBL6d5\\_\\_\\_restored\\_grouping.pos\\_restored\\_vs\\_none & all & Irx5\\_\\_Lmx1a & neuron & Day5 & obob5v5 & Day5 & obobBL6d5 & restored\\_grouping & pos\\_restored & ⋯ & 0.569 & 9.917500e-04 & ENSMUSG00000020682 & 0.678325463 & 70 & 2686 & 0.02606106 & 0.1 & 150 & FALSE\\\\\n",
       "\t Irx5\\_\\_Lmx1a\\_\\_\\_Day5.obob5v5\\_\\_v\\_\\_Day5.obobBL6d5\\_\\_\\_restored\\_grouping.pos\\_restored\\_vs\\_none & all & Irx5\\_\\_Lmx1a & neuron & Day5 & obob5v5 & Day5 & obobBL6d5 & restored\\_grouping & pos\\_restored & ⋯ & 0.840 & 1.022874e-02 & ENSMUSG00000043441 & 0.659066295 & 70 & 2686 & 0.02606106 & 0.1 & 150 & FALSE\\\\\n",
       "\t Irx5\\_\\_Lmx1a\\_\\_\\_Day5.obob5v5\\_\\_v\\_\\_Day5.obobBL6d5\\_\\_\\_restored\\_grouping.pos\\_restored\\_vs\\_none & all & Irx5\\_\\_Lmx1a & neuron & Day5 & obob5v5 & Day5 & obobBL6d5 & restored\\_grouping & pos\\_restored & ⋯ & 0.846 & 3.677767e-02 & ENSMUSG00000086027 & 0.653831639 & 70 & 2686 & 0.02606106 & 0.1 & 150 & FALSE\\\\\n",
       "\t Irx5\\_\\_Lmx1a\\_\\_\\_Day5.obob5v5\\_\\_v\\_\\_Day5.obobBL6d5\\_\\_\\_restored\\_grouping.pos\\_restored\\_vs\\_none & all & Irx5\\_\\_Lmx1a & neuron & Day5 & obob5v5 & Day5 & obobBL6d5 & restored\\_grouping & pos\\_restored & ⋯ & 1.000 & 2.902456e-02 & ENSMUSG00000049252 & 0.634304633 & 70 & 2686 & 0.02606106 & 0.1 & 150 & FALSE\\\\\n",
       "\t Irx5\\_\\_Lmx1a\\_\\_\\_Day5.obob5v5\\_\\_v\\_\\_Day5.obobBL6d5\\_\\_\\_restored\\_grouping.pos\\_restored\\_vs\\_none & all & Irx5\\_\\_Lmx1a & neuron & Day5 & obob5v5 & Day5 & obobBL6d5 & restored\\_grouping & pos\\_restored & ⋯ & 0.712 & 5.281000e-03 & ENSMUSG00000020722 & 0.633918187 & 70 & 2686 & 0.02606106 & 0.1 & 150 & FALSE\\\\\n",
       "\t Irx5\\_\\_Lmx1a\\_\\_\\_Day5.obob5v5\\_\\_v\\_\\_Day5.obobBL6d5\\_\\_\\_restored\\_grouping.pos\\_restored\\_vs\\_none & all & Irx5\\_\\_Lmx1a & neuron & Day5 & obob5v5 & Day5 & obobBL6d5 & restored\\_grouping & pos\\_restored & ⋯ & 0.695 & 2.785703e-02 & ENSMUSG00000104693 & 0.619715941 & 70 & 2686 & 0.02606106 & 0.1 & 150 & FALSE\\\\\n",
       "\t Irx5\\_\\_Lmx1a\\_\\_\\_Day5.obob5v5\\_\\_v\\_\\_Day5.obobBL6d5\\_\\_\\_restored\\_grouping.pos\\_restored\\_vs\\_none & all & Irx5\\_\\_Lmx1a & neuron & Day5 & obob5v5 & Day5 & obobBL6d5 & restored\\_grouping & pos\\_restored & ⋯ & 0.835 & 1.130242e-02 & ENSMUSG00000100301 & 0.605669439 & 70 & 2686 & 0.02606106 & 0.1 & 150 & FALSE\\\\\n",
       "\t Irx5\\_\\_Lmx1a\\_\\_\\_Day5.obob5v5\\_\\_v\\_\\_Day5.obobBL6d5\\_\\_\\_restored\\_grouping.pos\\_restored\\_vs\\_none & all & Irx5\\_\\_Lmx1a & neuron & Day5 & obob5v5 & Day5 & obobBL6d5 & restored\\_grouping & pos\\_restored & ⋯ & 0.633 & 1.916779e-02 & ENSMUSG00000078870 & 0.605615178 & 70 & 2686 & 0.02606106 & 0.1 & 150 & FALSE\\\\\n",
       "\t Irx5\\_\\_Lmx1a\\_\\_\\_Day5.obob5v5\\_\\_v\\_\\_Day5.obobBL6d5\\_\\_\\_restored\\_grouping.pos\\_restored\\_vs\\_none & all & Irx5\\_\\_Lmx1a & neuron & Day5 & obob5v5 & Day5 & obobBL6d5 & restored\\_grouping & pos\\_restored & ⋯ & 0.606 & 5.356172e-11 & ENSMUSG00000026805 & 0.588933794 & 70 & 2686 & 0.02606106 & 0.1 & 150 & FALSE\\\\\n",
       "\t Irx5\\_\\_Lmx1a\\_\\_\\_Day5.obob5v5\\_\\_v\\_\\_Day5.obobBL6d5\\_\\_\\_restored\\_grouping.pos\\_restored\\_vs\\_none & all & Irx5\\_\\_Lmx1a & neuron & Day5 & obob5v5 & Day5 & obobBL6d5 & restored\\_grouping & pos\\_restored & ⋯ & 0.418 & 1.295202e-02 & ENSMUSG00000026154 & 0.504385324 & 70 & 2686 & 0.02606106 & 0.1 & 150 & FALSE\\\\\n",
       "\t Irx5\\_\\_Lmx1a\\_\\_\\_Day5.obob5v5\\_\\_v\\_\\_Day5.obobBL6d5\\_\\_\\_restored\\_grouping.pos\\_restored\\_vs\\_none & all & Irx5\\_\\_Lmx1a & neuron & Day5 & obob5v5 & Day5 & obobBL6d5 & restored\\_grouping & pos\\_restored & ⋯ & 0.580 & 8.442143e-10 & ENSMUSG00000032207 & 0.486674895 & 70 & 2686 & 0.02606106 & 0.1 & 150 & FALSE\\\\\n",
       "\t Irx5\\_\\_Lmx1a\\_\\_\\_Day5.obob5v5\\_\\_v\\_\\_Day5.obobBL6d5\\_\\_\\_restored\\_grouping.pos\\_restored\\_vs\\_none & all & Irx5\\_\\_Lmx1a & neuron & Day5 & obob5v5 & Day5 & obobBL6d5 & restored\\_grouping & pos\\_restored & ⋯ & 0.724 & 1.617077e-02 & ENSMUSG00000084945 & 0.470282594 & 70 & 2686 & 0.02606106 & 0.1 & 150 & FALSE\\\\\n",
       "\t Irx5\\_\\_Lmx1a\\_\\_\\_Day5.obob5v5\\_\\_v\\_\\_Day5.obobBL6d5\\_\\_\\_restored\\_grouping.pos\\_restored\\_vs\\_none & all & Irx5\\_\\_Lmx1a & neuron & Day5 & obob5v5 & Day5 & obobBL6d5 & restored\\_grouping & pos\\_restored & ⋯ & 0.680 & 4.282118e-02 & ENSMUSG00000044134 & 0.464277106 & 70 & 2686 & 0.02606106 & 0.1 & 150 & FALSE\\\\\n",
       "\t Irx5\\_\\_Lmx1a\\_\\_\\_Day5.obob5v5\\_\\_v\\_\\_Day5.obobBL6d5\\_\\_\\_restored\\_grouping.pos\\_restored\\_vs\\_none & all & Irx5\\_\\_Lmx1a & neuron & Day5 & obob5v5 & Day5 & obobBL6d5 & restored\\_grouping & pos\\_restored & ⋯ & 0.752 & 7.749639e-05 & ENSMUSG00000029725 & 0.460752498 & 70 & 2686 & 0.02606106 & 0.1 & 150 & FALSE\\\\\n",
       "\t Irx5\\_\\_Lmx1a\\_\\_\\_Day5.obob5v5\\_\\_v\\_\\_Day5.obobBL6d5\\_\\_\\_restored\\_grouping.pos\\_restored\\_vs\\_none & all & Irx5\\_\\_Lmx1a & neuron & Day5 & obob5v5 & Day5 & obobBL6d5 & restored\\_grouping & pos\\_restored & ⋯ & 0.760 & 2.224231e-02 & ENSMUSG00000060969 & 0.434161498 & 70 & 2686 & 0.02606106 & 0.1 & 150 & FALSE\\\\\n",
       "\t Irx5\\_\\_Lmx1a\\_\\_\\_Day5.obob5v5\\_\\_v\\_\\_Day5.obobBL6d5\\_\\_\\_restored\\_grouping.pos\\_restored\\_vs\\_none & all & Irx5\\_\\_Lmx1a & neuron & Day5 & obob5v5 & Day5 & obobBL6d5 & restored\\_grouping & pos\\_restored & ⋯ & 0.680 & 1.402196e-02 & ENSMUSG00000055069 & 0.355627551 & 70 & 2686 & 0.02606106 & 0.1 & 150 & FALSE\\\\\n",
       "\t Irx5\\_\\_Lmx1a\\_\\_\\_Day5.obob5v5\\_\\_v\\_\\_Day5.obobBL6d5\\_\\_\\_restored\\_grouping.pos\\_restored\\_vs\\_none & all & Irx5\\_\\_Lmx1a & neuron & Day5 & obob5v5 & Day5 & obobBL6d5 & restored\\_grouping & pos\\_restored & ⋯ & 0.503 & 4.093280e-11 & ENSMUSG00000093386 & 0.299318853 & 70 & 2686 & 0.02606106 & 0.1 & 150 & FALSE\\\\\n",
       "\t Irx5\\_\\_Lmx1a\\_\\_\\_Day5.obob5v5\\_\\_v\\_\\_Day5.obobBL6d5\\_\\_\\_restored\\_grouping.pos\\_restored\\_vs\\_none & all & Irx5\\_\\_Lmx1a & neuron & Day5 & obob5v5 & Day5 & obobBL6d5 & restored\\_grouping & pos\\_restored & ⋯ & 0.661 & 4.983325e-03 & ENSMUSG00000015001 & 0.282805859 & 70 & 2686 & 0.02606106 & 0.1 & 150 & FALSE\\\\\n",
       "\t Irx5\\_\\_Lmx1a\\_\\_\\_Day5.obob5v5\\_\\_v\\_\\_Day5.obobBL6d5\\_\\_\\_restored\\_grouping.pos\\_restored\\_vs\\_none & all & Irx5\\_\\_Lmx1a & neuron & Day5 & obob5v5 & Day5 & obobBL6d5 & restored\\_grouping & pos\\_restored & ⋯ & 0.704 & 3.249716e-02 & ENSMUSG00000044617 & 0.281861363 & 70 & 2686 & 0.02606106 & 0.1 & 150 & FALSE\\\\\n",
       "\t Irx5\\_\\_Lmx1a\\_\\_\\_Day5.obob5v5\\_\\_v\\_\\_Day5.obobBL6d5\\_\\_\\_restored\\_grouping.pos\\_restored\\_vs\\_none & all & Irx5\\_\\_Lmx1a & neuron & Day5 & obob5v5 & Day5 & obobBL6d5 & restored\\_grouping & pos\\_restored & ⋯ & 0.470 & 2.062762e-03 & ENSMUSG00000020857 & 0.274567042 & 70 & 2686 & 0.02606106 & 0.1 & 150 & FALSE\\\\\n",
       "\t Irx5\\_\\_Lmx1a\\_\\_\\_Day5.obob5v5\\_\\_v\\_\\_Day5.obobBL6d5\\_\\_\\_restored\\_grouping.pos\\_restored\\_vs\\_none & all & Irx5\\_\\_Lmx1a & neuron & Day5 & obob5v5 & Day5 & obobBL6d5 & restored\\_grouping & pos\\_restored & ⋯ & 0.632 & 3.358942e-09 & ENSMUSG00000047528 & 0.236583933 & 70 & 2686 & 0.02606106 & 0.1 & 150 & FALSE\\\\\n",
       "\t Irx5\\_\\_Lmx1a\\_\\_\\_Day5.obob5v5\\_\\_v\\_\\_Day5.obobBL6d5\\_\\_\\_restored\\_grouping.pos\\_restored\\_vs\\_none & all & Irx5\\_\\_Lmx1a & neuron & Day5 & obob5v5 & Day5 & obobBL6d5 & restored\\_grouping & pos\\_restored & ⋯ & 0.496 & 3.246177e-04 & ENSMUSG00000047371 & 0.231953235 & 70 & 2686 & 0.02606106 & 0.1 & 150 & FALSE\\\\\n",
       "\t Irx5\\_\\_Lmx1a\\_\\_\\_Day5.obob5v5\\_\\_v\\_\\_Day5.obobBL6d5\\_\\_\\_restored\\_grouping.pos\\_restored\\_vs\\_none & all & Irx5\\_\\_Lmx1a & neuron & Day5 & obob5v5 & Day5 & obobBL6d5 & restored\\_grouping & pos\\_restored & ⋯ & 0.583 & 4.744170e-05 & ENSMUSG00000098087 & 0.183829885 & 70 & 2686 & 0.02606106 & 0.1 & 150 & FALSE\\\\\n",
       "\t Irx5\\_\\_Lmx1a\\_\\_\\_Day5.obob5v5\\_\\_v\\_\\_Day5.obobBL6d5\\_\\_\\_restored\\_grouping.pos\\_restored\\_vs\\_none & all & Irx5\\_\\_Lmx1a & neuron & Day5 & obob5v5 & Day5 & obobBL6d5 & restored\\_grouping & pos\\_restored & ⋯ & 0.618 & 3.390944e-03 & ENSMUSG00000087362 & 0.166824790 & 70 & 2686 & 0.02606106 & 0.1 & 150 & FALSE\\\\\n",
       "\t Irx5\\_\\_Lmx1a\\_\\_\\_Day5.obob5v5\\_\\_v\\_\\_Day5.obobBL6d5\\_\\_\\_restored\\_grouping.pos\\_restored\\_vs\\_none & all & Irx5\\_\\_Lmx1a & neuron & Day5 & obob5v5 & Day5 & obobBL6d5 & restored\\_grouping & pos\\_restored & ⋯ & 0.719 & 8.341728e-05 & ENSMUSG00000086523 & 0.073561880 & 70 & 2686 & 0.02606106 & 0.1 & 150 & FALSE\\\\\n",
       "\t Irx5\\_\\_Lmx1a\\_\\_\\_Day5.obob5v5\\_\\_v\\_\\_Day5.obobBL6d5\\_\\_\\_restored\\_grouping.pos\\_restored\\_vs\\_none & all & Irx5\\_\\_Lmx1a & neuron & Day5 & obob5v5 & Day5 & obobBL6d5 & restored\\_grouping & pos\\_restored & ⋯ & 0.570 & 2.071186e-04 & ENSMUSG00000097927 & 0.043212065 & 70 & 2686 & 0.02606106 & 0.1 & 150 & FALSE\\\\\n",
       "\t Irx5\\_\\_Lmx1a\\_\\_\\_Day5.obob5v5\\_\\_v\\_\\_Day5.obobBL6d5\\_\\_\\_restored\\_grouping.pos\\_restored\\_vs\\_none & all & Irx5\\_\\_Lmx1a & neuron & Day5 & obob5v5 & Day5 & obobBL6d5 & restored\\_grouping & pos\\_restored & ⋯ & 0.841 & 1.942475e-02 & ENSMUSG00000115667 & 0.039353259 & 70 & 2686 & 0.02606106 & 0.1 & 150 & FALSE\\\\\n",
       "\t Irx5\\_\\_Lmx1a\\_\\_\\_Day5.obob5v5\\_\\_v\\_\\_Day5.obobBL6d5\\_\\_\\_restored\\_grouping.pos\\_restored\\_vs\\_none & all & Irx5\\_\\_Lmx1a & neuron & Day5 & obob5v5 & Day5 & obobBL6d5 & restored\\_grouping & pos\\_restored & ⋯ & 0.750 & 1.792996e-04 & ENSMUSG00000028128 & 0.014658198 & 70 & 2686 & 0.02606106 & 0.1 & 150 & FALSE\\\\\n",
       "\t Irx5\\_\\_Lmx1a\\_\\_\\_Day5.obob5v5\\_\\_v\\_\\_Day5.obobBL6d5\\_\\_\\_restored\\_grouping.pos\\_restored\\_vs\\_none & all & Irx5\\_\\_Lmx1a & neuron & Day5 & obob5v5 & Day5 & obobBL6d5 & restored\\_grouping & pos\\_restored & ⋯ & 0.628 & 6.710234e-08 & ENSMUSG00000072584 & 0.005386653 & 70 & 2686 & 0.02606106 & 0.1 & 150 & FALSE\\\\\n",
       "\\end{tabular}\n"
      ],
      "text/markdown": [
       "\n",
       "A tibble: 3714 × 25\n",
       "\n",
       "| tag &lt;chr&gt; | data_day &lt;chr&gt; | cluster &lt;chr&gt; | class &lt;chr&gt; | fgf1_day &lt;chr&gt; | fgf1_comparison &lt;chr&gt; | bl6_day &lt;chr&gt; | bl6_comparison &lt;chr&gt; | grouping &lt;chr&gt; | cells_a &lt;chr&gt; | ⋯ ⋯ | pct.2 &lt;dbl&gt; | p_val_adj &lt;dbl&gt; | ensmusg &lt;chr&gt; | gsea_sort_score &lt;dbl&gt; | count &lt;int&gt; | total_cells &lt;int&gt; | frac &lt;dbl&gt; | frac_cutoff &lt;dbl&gt; | n_cells_cutoff &lt;dbl&gt; | n_cells_valid &lt;lgl&gt; |\n",
       "|---|---|---|---|---|---|---|---|---|---|---|---|---|---|---|---|---|---|---|---|---|\n",
       "| Irx5__Lmx1a___Day5.obob5v5__v__Day5.obobBL6d5___bl6_grouping.neg_vs_none | all | Irx5__Lmx1a | neuron | Day5 | obob5v5 | Day5 | obobBL6d5 | bl6_grouping | neg | ⋯ | 0.805 | 1.884031e-169 | ENSMUSG00000058925 | 713.1835 | 70 | 2686 | 0.02606106 | 0.1 | 150 | FALSE |\n",
       "| Irx5__Lmx1a___Day5.obob5v5__v__Day5.obobBL6d5___bl6_grouping.neg_vs_none | all | Irx5__Lmx1a | neuron | Day5 | obob5v5 | Day5 | obobBL6d5 | bl6_grouping | neg | ⋯ | 0.869 | 1.744857e-159 | ENSMUSG00000093497 | 525.1943 | 70 | 2686 | 0.02606106 | 0.1 | 150 | FALSE |\n",
       "| Irx5__Lmx1a___Day5.obob5v5__v__Day5.obobBL6d5___bl6_grouping.neg_vs_none | all | Irx5__Lmx1a | neuron | Day5 | obob5v5 | Day5 | obobBL6d5 | bl6_grouping | neg | ⋯ | 0.808 | 1.301808e-143 | ENSMUSG00000061171 | 500.1280 | 70 | 2686 | 0.02606106 | 0.1 | 150 | FALSE |\n",
       "| Irx5__Lmx1a___Day5.obob5v5__v__Day5.obobBL6d5___bl6_grouping.neg_vs_none | all | Irx5__Lmx1a | neuron | Day5 | obob5v5 | Day5 | obobBL6d5 | bl6_grouping | neg | ⋯ | 0.753 | 1.445177e-127 | ENSMUSG00000087388 | 488.5600 | 70 | 2686 | 0.02606106 | 0.1 | 150 | FALSE |\n",
       "| Irx5__Lmx1a___Day5.obob5v5__v__Day5.obobBL6d5___bl6_grouping.neg_vs_none | all | Irx5__Lmx1a | neuron | Day5 | obob5v5 | Day5 | obobBL6d5 | bl6_grouping | neg | ⋯ | 0.662 |  2.210621e-71 | ENSMUSG00000114810 | 430.0567 | 70 | 2686 | 0.02606106 | 0.1 | 150 | FALSE |\n",
       "| Irx5__Lmx1a___Day5.obob5v5__v__Day5.obobBL6d5___bl6_grouping.neg_vs_none | all | Irx5__Lmx1a | neuron | Day5 | obob5v5 | Day5 | obobBL6d5 | bl6_grouping | neg | ⋯ | 0.528 |  6.009810e-70 | ENSMUSG00000055933 | 372.0814 | 70 | 2686 | 0.02606106 | 0.1 | 150 | FALSE |\n",
       "| Irx5__Lmx1a___Day5.obob5v5__v__Day5.obobBL6d5___bl6_grouping.neg_vs_none | all | Irx5__Lmx1a | neuron | Day5 | obob5v5 | Day5 | obobBL6d5 | bl6_grouping | neg | ⋯ | 0.758 |  2.621778e-81 | ENSMUSG00000057981 | 354.4501 | 70 | 2686 | 0.02606106 | 0.1 | 150 | FALSE |\n",
       "| Irx5__Lmx1a___Day5.obob5v5__v__Day5.obobBL6d5___bl6_grouping.neg_vs_none | all | Irx5__Lmx1a | neuron | Day5 | obob5v5 | Day5 | obobBL6d5 | bl6_grouping | neg | ⋯ | 0.563 |  9.288247e-63 | ENSMUSG00000109107 | 341.4653 | 70 | 2686 | 0.02606106 | 0.1 | 150 | FALSE |\n",
       "| Irx5__Lmx1a___Day5.obob5v5__v__Day5.obobBL6d5___bl6_grouping.neg_vs_none | all | Irx5__Lmx1a | neuron | Day5 | obob5v5 | Day5 | obobBL6d5 | bl6_grouping | neg | ⋯ | 0.511 |  5.027642e-74 | ENSMUSG00000000120 | 329.0092 | 70 | 2686 | 0.02606106 | 0.1 | 150 | FALSE |\n",
       "| Irx5__Lmx1a___Day5.obob5v5__v__Day5.obobBL6d5___bl6_grouping.neg_vs_none | all | Irx5__Lmx1a | neuron | Day5 | obob5v5 | Day5 | obobBL6d5 | bl6_grouping | neg | ⋯ | 0.758 |  1.427135e-75 | ENSMUSG00000110592 | 295.7611 | 70 | 2686 | 0.02606106 | 0.1 | 150 | FALSE |\n",
       "| Irx5__Lmx1a___Day5.obob5v5__v__Day5.obobBL6d5___bl6_grouping.neg_vs_none | all | Irx5__Lmx1a | neuron | Day5 | obob5v5 | Day5 | obobBL6d5 | bl6_grouping | neg | ⋯ | 0.818 |  1.239903e-79 | ENSMUSG00000087296 | 291.2892 | 70 | 2686 | 0.02606106 | 0.1 | 150 | FALSE |\n",
       "| Irx5__Lmx1a___Day5.obob5v5__v__Day5.obobBL6d5___bl6_grouping.neg_vs_none | all | Irx5__Lmx1a | neuron | Day5 | obob5v5 | Day5 | obobBL6d5 | bl6_grouping | neg | ⋯ | 0.729 |  1.644855e-78 | ENSMUSG00000111990 | 272.3795 | 70 | 2686 | 0.02606106 | 0.1 | 150 | FALSE |\n",
       "| Irx5__Lmx1a___Day5.obob5v5__v__Day5.obobBL6d5___bl6_grouping.neg_vs_none | all | Irx5__Lmx1a | neuron | Day5 | obob5v5 | Day5 | obobBL6d5 | bl6_grouping | neg | ⋯ | 0.929 | 2.862427e-104 | ENSMUSG00000022112 | 271.0954 | 70 | 2686 | 0.02606106 | 0.1 | 150 | FALSE |\n",
       "| Irx5__Lmx1a___Day5.obob5v5__v__Day5.obobBL6d5___bl6_grouping.neg_vs_none | all | Irx5__Lmx1a | neuron | Day5 | obob5v5 | Day5 | obobBL6d5 | bl6_grouping | neg | ⋯ | 0.781 |  2.176989e-58 | ENSMUSG00000102101 | 243.6955 | 70 | 2686 | 0.02606106 | 0.1 | 150 | FALSE |\n",
       "| Irx5__Lmx1a___Day5.obob5v5__v__Day5.obobBL6d5___bl6_grouping.neg_vs_none | all | Irx5__Lmx1a | neuron | Day5 | obob5v5 | Day5 | obobBL6d5 | bl6_grouping | neg | ⋯ | 0.509 |  1.508670e-41 | ENSMUSG00000116800 | 212.3363 | 70 | 2686 | 0.02606106 | 0.1 | 150 | FALSE |\n",
       "| Irx5__Lmx1a___Day5.obob5v5__v__Day5.obobBL6d5___bl6_grouping.neg_vs_none | all | Irx5__Lmx1a | neuron | Day5 | obob5v5 | Day5 | obobBL6d5 | bl6_grouping | neg | ⋯ | 0.834 |  3.705072e-67 | ENSMUSG00000086607 | 209.4790 | 70 | 2686 | 0.02606106 | 0.1 | 150 | FALSE |\n",
       "| Irx5__Lmx1a___Day5.obob5v5__v__Day5.obobBL6d5___bl6_grouping.neg_vs_none | all | Irx5__Lmx1a | neuron | Day5 | obob5v5 | Day5 | obobBL6d5 | bl6_grouping | neg | ⋯ | 0.879 |  3.795932e-87 | ENSMUSG00000003746 | 202.3244 | 70 | 2686 | 0.02606106 | 0.1 | 150 | FALSE |\n",
       "| Irx5__Lmx1a___Day5.obob5v5__v__Day5.obobBL6d5___bl6_grouping.neg_vs_none | all | Irx5__Lmx1a | neuron | Day5 | obob5v5 | Day5 | obobBL6d5 | bl6_grouping | neg | ⋯ | 0.411 |  2.913054e-35 | ENSMUSG00000108276 | 199.5322 | 70 | 2686 | 0.02606106 | 0.1 | 150 | FALSE |\n",
       "| Irx5__Lmx1a___Day5.obob5v5__v__Day5.obobBL6d5___bl6_grouping.neg_vs_none | all | Irx5__Lmx1a | neuron | Day5 | obob5v5 | Day5 | obobBL6d5 | bl6_grouping | neg | ⋯ | 0.877 |  8.761393e-64 | ENSMUSG00000111924 | 198.4936 | 70 | 2686 | 0.02606106 | 0.1 | 150 | FALSE |\n",
       "| Irx5__Lmx1a___Day5.obob5v5__v__Day5.obobBL6d5___bl6_grouping.neg_vs_none | all | Irx5__Lmx1a | neuron | Day5 | obob5v5 | Day5 | obobBL6d5 | bl6_grouping | neg | ⋯ | 0.401 |  5.056769e-25 | ENSMUSG00000003849 | 197.5366 | 70 | 2686 | 0.02606106 | 0.1 | 150 | FALSE |\n",
       "| Irx5__Lmx1a___Day5.obob5v5__v__Day5.obobBL6d5___bl6_grouping.neg_vs_none | all | Irx5__Lmx1a | neuron | Day5 | obob5v5 | Day5 | obobBL6d5 | bl6_grouping | neg | ⋯ | 0.667 |  2.662828e-51 | ENSMUSG00000110747 | 196.4626 | 70 | 2686 | 0.02606106 | 0.1 | 150 | FALSE |\n",
       "| Irx5__Lmx1a___Day5.obob5v5__v__Day5.obobBL6d5___bl6_grouping.neg_vs_none | all | Irx5__Lmx1a | neuron | Day5 | obob5v5 | Day5 | obobBL6d5 | bl6_grouping | neg | ⋯ | 0.636 |  1.516937e-59 | ENSMUSG00000110667 | 195.9476 | 70 | 2686 | 0.02606106 | 0.1 | 150 | FALSE |\n",
       "| Irx5__Lmx1a___Day5.obob5v5__v__Day5.obobBL6d5___bl6_grouping.neg_vs_none | all | Irx5__Lmx1a | neuron | Day5 | obob5v5 | Day5 | obobBL6d5 | bl6_grouping | neg | ⋯ | 0.698 |  4.604998e-50 | ENSMUSG00000118396 | 193.8736 | 70 | 2686 | 0.02606106 | 0.1 | 150 | FALSE |\n",
       "| Irx5__Lmx1a___Day5.obob5v5__v__Day5.obobBL6d5___bl6_grouping.neg_vs_none | all | Irx5__Lmx1a | neuron | Day5 | obob5v5 | Day5 | obobBL6d5 | bl6_grouping | neg | ⋯ | 0.692 |  6.464149e-36 | ENSMUSG00000110002 | 193.6990 | 70 | 2686 | 0.02606106 | 0.1 | 150 | FALSE |\n",
       "| Irx5__Lmx1a___Day5.obob5v5__v__Day5.obobBL6d5___bl6_grouping.neg_vs_none | all | Irx5__Lmx1a | neuron | Day5 | obob5v5 | Day5 | obobBL6d5 | bl6_grouping | neg | ⋯ | 0.921 |  7.902312e-80 | ENSMUSG00000042581 | 190.3392 | 70 | 2686 | 0.02606106 | 0.1 | 150 | FALSE |\n",
       "| Irx5__Lmx1a___Day5.obob5v5__v__Day5.obobBL6d5___bl6_grouping.neg_vs_none | all | Irx5__Lmx1a | neuron | Day5 | obob5v5 | Day5 | obobBL6d5 | bl6_grouping | neg | ⋯ | 0.310 |  2.559115e-20 | ENSMUSG00000098176 | 186.0519 | 70 | 2686 | 0.02606106 | 0.1 | 150 | FALSE |\n",
       "| Irx5__Lmx1a___Day5.obob5v5__v__Day5.obobBL6d5___bl6_grouping.neg_vs_none | all | Irx5__Lmx1a | neuron | Day5 | obob5v5 | Day5 | obobBL6d5 | bl6_grouping | neg | ⋯ | 0.654 |  8.119767e-48 | ENSMUSG00000074207 | 185.8243 | 70 | 2686 | 0.02606106 | 0.1 | 150 | FALSE |\n",
       "| Irx5__Lmx1a___Day5.obob5v5__v__Day5.obobBL6d5___bl6_grouping.neg_vs_none | all | Irx5__Lmx1a | neuron | Day5 | obob5v5 | Day5 | obobBL6d5 | bl6_grouping | neg | ⋯ | 0.388 |  2.365544e-28 | ENSMUSG00000023979 | 184.2856 | 70 | 2686 | 0.02606106 | 0.1 | 150 | FALSE |\n",
       "| Irx5__Lmx1a___Day5.obob5v5__v__Day5.obobBL6d5___bl6_grouping.neg_vs_none | all | Irx5__Lmx1a | neuron | Day5 | obob5v5 | Day5 | obobBL6d5 | bl6_grouping | neg | ⋯ | 0.807 |  2.902738e-51 | ENSMUSG00000085562 | 172.4072 | 70 | 2686 | 0.02606106 | 0.1 | 150 | FALSE |\n",
       "| Irx5__Lmx1a___Day5.obob5v5__v__Day5.obobBL6d5___bl6_grouping.neg_vs_none | all | Irx5__Lmx1a | neuron | Day5 | obob5v5 | Day5 | obobBL6d5 | bl6_grouping | neg | ⋯ | 0.544 |  2.017905e-37 | ENSMUSG00000029700 | 171.9260 | 70 | 2686 | 0.02606106 | 0.1 | 150 | FALSE |\n",
       "| ⋮ | ⋮ | ⋮ | ⋮ | ⋮ | ⋮ | ⋮ | ⋮ | ⋮ | ⋮ | ⋱ | ⋮ | ⋮ | ⋮ | ⋮ | ⋮ | ⋮ | ⋮ | ⋮ | ⋮ | ⋮ |\n",
       "| Irx5__Lmx1a___Day5.obob5v5__v__Day5.obobBL6d5___restored_grouping.pos_restored_vs_none | all | Irx5__Lmx1a | neuron | Day5 | obob5v5 | Day5 | obobBL6d5 | restored_grouping | pos_restored | ⋯ | 0.573 | 1.958361e-03 | ENSMUSG00000032530 | 0.679345220 | 70 | 2686 | 0.02606106 | 0.1 | 150 | FALSE |\n",
       "| Irx5__Lmx1a___Day5.obob5v5__v__Day5.obobBL6d5___restored_grouping.pos_restored_vs_none | all | Irx5__Lmx1a | neuron | Day5 | obob5v5 | Day5 | obobBL6d5 | restored_grouping | pos_restored | ⋯ | 0.569 | 9.917500e-04 | ENSMUSG00000020682 | 0.678325463 | 70 | 2686 | 0.02606106 | 0.1 | 150 | FALSE |\n",
       "| Irx5__Lmx1a___Day5.obob5v5__v__Day5.obobBL6d5___restored_grouping.pos_restored_vs_none | all | Irx5__Lmx1a | neuron | Day5 | obob5v5 | Day5 | obobBL6d5 | restored_grouping | pos_restored | ⋯ | 0.840 | 1.022874e-02 | ENSMUSG00000043441 | 0.659066295 | 70 | 2686 | 0.02606106 | 0.1 | 150 | FALSE |\n",
       "| Irx5__Lmx1a___Day5.obob5v5__v__Day5.obobBL6d5___restored_grouping.pos_restored_vs_none | all | Irx5__Lmx1a | neuron | Day5 | obob5v5 | Day5 | obobBL6d5 | restored_grouping | pos_restored | ⋯ | 0.846 | 3.677767e-02 | ENSMUSG00000086027 | 0.653831639 | 70 | 2686 | 0.02606106 | 0.1 | 150 | FALSE |\n",
       "| Irx5__Lmx1a___Day5.obob5v5__v__Day5.obobBL6d5___restored_grouping.pos_restored_vs_none | all | Irx5__Lmx1a | neuron | Day5 | obob5v5 | Day5 | obobBL6d5 | restored_grouping | pos_restored | ⋯ | 1.000 | 2.902456e-02 | ENSMUSG00000049252 | 0.634304633 | 70 | 2686 | 0.02606106 | 0.1 | 150 | FALSE |\n",
       "| Irx5__Lmx1a___Day5.obob5v5__v__Day5.obobBL6d5___restored_grouping.pos_restored_vs_none | all | Irx5__Lmx1a | neuron | Day5 | obob5v5 | Day5 | obobBL6d5 | restored_grouping | pos_restored | ⋯ | 0.712 | 5.281000e-03 | ENSMUSG00000020722 | 0.633918187 | 70 | 2686 | 0.02606106 | 0.1 | 150 | FALSE |\n",
       "| Irx5__Lmx1a___Day5.obob5v5__v__Day5.obobBL6d5___restored_grouping.pos_restored_vs_none | all | Irx5__Lmx1a | neuron | Day5 | obob5v5 | Day5 | obobBL6d5 | restored_grouping | pos_restored | ⋯ | 0.695 | 2.785703e-02 | ENSMUSG00000104693 | 0.619715941 | 70 | 2686 | 0.02606106 | 0.1 | 150 | FALSE |\n",
       "| Irx5__Lmx1a___Day5.obob5v5__v__Day5.obobBL6d5___restored_grouping.pos_restored_vs_none | all | Irx5__Lmx1a | neuron | Day5 | obob5v5 | Day5 | obobBL6d5 | restored_grouping | pos_restored | ⋯ | 0.835 | 1.130242e-02 | ENSMUSG00000100301 | 0.605669439 | 70 | 2686 | 0.02606106 | 0.1 | 150 | FALSE |\n",
       "| Irx5__Lmx1a___Day5.obob5v5__v__Day5.obobBL6d5___restored_grouping.pos_restored_vs_none | all | Irx5__Lmx1a | neuron | Day5 | obob5v5 | Day5 | obobBL6d5 | restored_grouping | pos_restored | ⋯ | 0.633 | 1.916779e-02 | ENSMUSG00000078870 | 0.605615178 | 70 | 2686 | 0.02606106 | 0.1 | 150 | FALSE |\n",
       "| Irx5__Lmx1a___Day5.obob5v5__v__Day5.obobBL6d5___restored_grouping.pos_restored_vs_none | all | Irx5__Lmx1a | neuron | Day5 | obob5v5 | Day5 | obobBL6d5 | restored_grouping | pos_restored | ⋯ | 0.606 | 5.356172e-11 | ENSMUSG00000026805 | 0.588933794 | 70 | 2686 | 0.02606106 | 0.1 | 150 | FALSE |\n",
       "| Irx5__Lmx1a___Day5.obob5v5__v__Day5.obobBL6d5___restored_grouping.pos_restored_vs_none | all | Irx5__Lmx1a | neuron | Day5 | obob5v5 | Day5 | obobBL6d5 | restored_grouping | pos_restored | ⋯ | 0.418 | 1.295202e-02 | ENSMUSG00000026154 | 0.504385324 | 70 | 2686 | 0.02606106 | 0.1 | 150 | FALSE |\n",
       "| Irx5__Lmx1a___Day5.obob5v5__v__Day5.obobBL6d5___restored_grouping.pos_restored_vs_none | all | Irx5__Lmx1a | neuron | Day5 | obob5v5 | Day5 | obobBL6d5 | restored_grouping | pos_restored | ⋯ | 0.580 | 8.442143e-10 | ENSMUSG00000032207 | 0.486674895 | 70 | 2686 | 0.02606106 | 0.1 | 150 | FALSE |\n",
       "| Irx5__Lmx1a___Day5.obob5v5__v__Day5.obobBL6d5___restored_grouping.pos_restored_vs_none | all | Irx5__Lmx1a | neuron | Day5 | obob5v5 | Day5 | obobBL6d5 | restored_grouping | pos_restored | ⋯ | 0.724 | 1.617077e-02 | ENSMUSG00000084945 | 0.470282594 | 70 | 2686 | 0.02606106 | 0.1 | 150 | FALSE |\n",
       "| Irx5__Lmx1a___Day5.obob5v5__v__Day5.obobBL6d5___restored_grouping.pos_restored_vs_none | all | Irx5__Lmx1a | neuron | Day5 | obob5v5 | Day5 | obobBL6d5 | restored_grouping | pos_restored | ⋯ | 0.680 | 4.282118e-02 | ENSMUSG00000044134 | 0.464277106 | 70 | 2686 | 0.02606106 | 0.1 | 150 | FALSE |\n",
       "| Irx5__Lmx1a___Day5.obob5v5__v__Day5.obobBL6d5___restored_grouping.pos_restored_vs_none | all | Irx5__Lmx1a | neuron | Day5 | obob5v5 | Day5 | obobBL6d5 | restored_grouping | pos_restored | ⋯ | 0.752 | 7.749639e-05 | ENSMUSG00000029725 | 0.460752498 | 70 | 2686 | 0.02606106 | 0.1 | 150 | FALSE |\n",
       "| Irx5__Lmx1a___Day5.obob5v5__v__Day5.obobBL6d5___restored_grouping.pos_restored_vs_none | all | Irx5__Lmx1a | neuron | Day5 | obob5v5 | Day5 | obobBL6d5 | restored_grouping | pos_restored | ⋯ | 0.760 | 2.224231e-02 | ENSMUSG00000060969 | 0.434161498 | 70 | 2686 | 0.02606106 | 0.1 | 150 | FALSE |\n",
       "| Irx5__Lmx1a___Day5.obob5v5__v__Day5.obobBL6d5___restored_grouping.pos_restored_vs_none | all | Irx5__Lmx1a | neuron | Day5 | obob5v5 | Day5 | obobBL6d5 | restored_grouping | pos_restored | ⋯ | 0.680 | 1.402196e-02 | ENSMUSG00000055069 | 0.355627551 | 70 | 2686 | 0.02606106 | 0.1 | 150 | FALSE |\n",
       "| Irx5__Lmx1a___Day5.obob5v5__v__Day5.obobBL6d5___restored_grouping.pos_restored_vs_none | all | Irx5__Lmx1a | neuron | Day5 | obob5v5 | Day5 | obobBL6d5 | restored_grouping | pos_restored | ⋯ | 0.503 | 4.093280e-11 | ENSMUSG00000093386 | 0.299318853 | 70 | 2686 | 0.02606106 | 0.1 | 150 | FALSE |\n",
       "| Irx5__Lmx1a___Day5.obob5v5__v__Day5.obobBL6d5___restored_grouping.pos_restored_vs_none | all | Irx5__Lmx1a | neuron | Day5 | obob5v5 | Day5 | obobBL6d5 | restored_grouping | pos_restored | ⋯ | 0.661 | 4.983325e-03 | ENSMUSG00000015001 | 0.282805859 | 70 | 2686 | 0.02606106 | 0.1 | 150 | FALSE |\n",
       "| Irx5__Lmx1a___Day5.obob5v5__v__Day5.obobBL6d5___restored_grouping.pos_restored_vs_none | all | Irx5__Lmx1a | neuron | Day5 | obob5v5 | Day5 | obobBL6d5 | restored_grouping | pos_restored | ⋯ | 0.704 | 3.249716e-02 | ENSMUSG00000044617 | 0.281861363 | 70 | 2686 | 0.02606106 | 0.1 | 150 | FALSE |\n",
       "| Irx5__Lmx1a___Day5.obob5v5__v__Day5.obobBL6d5___restored_grouping.pos_restored_vs_none | all | Irx5__Lmx1a | neuron | Day5 | obob5v5 | Day5 | obobBL6d5 | restored_grouping | pos_restored | ⋯ | 0.470 | 2.062762e-03 | ENSMUSG00000020857 | 0.274567042 | 70 | 2686 | 0.02606106 | 0.1 | 150 | FALSE |\n",
       "| Irx5__Lmx1a___Day5.obob5v5__v__Day5.obobBL6d5___restored_grouping.pos_restored_vs_none | all | Irx5__Lmx1a | neuron | Day5 | obob5v5 | Day5 | obobBL6d5 | restored_grouping | pos_restored | ⋯ | 0.632 | 3.358942e-09 | ENSMUSG00000047528 | 0.236583933 | 70 | 2686 | 0.02606106 | 0.1 | 150 | FALSE |\n",
       "| Irx5__Lmx1a___Day5.obob5v5__v__Day5.obobBL6d5___restored_grouping.pos_restored_vs_none | all | Irx5__Lmx1a | neuron | Day5 | obob5v5 | Day5 | obobBL6d5 | restored_grouping | pos_restored | ⋯ | 0.496 | 3.246177e-04 | ENSMUSG00000047371 | 0.231953235 | 70 | 2686 | 0.02606106 | 0.1 | 150 | FALSE |\n",
       "| Irx5__Lmx1a___Day5.obob5v5__v__Day5.obobBL6d5___restored_grouping.pos_restored_vs_none | all | Irx5__Lmx1a | neuron | Day5 | obob5v5 | Day5 | obobBL6d5 | restored_grouping | pos_restored | ⋯ | 0.583 | 4.744170e-05 | ENSMUSG00000098087 | 0.183829885 | 70 | 2686 | 0.02606106 | 0.1 | 150 | FALSE |\n",
       "| Irx5__Lmx1a___Day5.obob5v5__v__Day5.obobBL6d5___restored_grouping.pos_restored_vs_none | all | Irx5__Lmx1a | neuron | Day5 | obob5v5 | Day5 | obobBL6d5 | restored_grouping | pos_restored | ⋯ | 0.618 | 3.390944e-03 | ENSMUSG00000087362 | 0.166824790 | 70 | 2686 | 0.02606106 | 0.1 | 150 | FALSE |\n",
       "| Irx5__Lmx1a___Day5.obob5v5__v__Day5.obobBL6d5___restored_grouping.pos_restored_vs_none | all | Irx5__Lmx1a | neuron | Day5 | obob5v5 | Day5 | obobBL6d5 | restored_grouping | pos_restored | ⋯ | 0.719 | 8.341728e-05 | ENSMUSG00000086523 | 0.073561880 | 70 | 2686 | 0.02606106 | 0.1 | 150 | FALSE |\n",
       "| Irx5__Lmx1a___Day5.obob5v5__v__Day5.obobBL6d5___restored_grouping.pos_restored_vs_none | all | Irx5__Lmx1a | neuron | Day5 | obob5v5 | Day5 | obobBL6d5 | restored_grouping | pos_restored | ⋯ | 0.570 | 2.071186e-04 | ENSMUSG00000097927 | 0.043212065 | 70 | 2686 | 0.02606106 | 0.1 | 150 | FALSE |\n",
       "| Irx5__Lmx1a___Day5.obob5v5__v__Day5.obobBL6d5___restored_grouping.pos_restored_vs_none | all | Irx5__Lmx1a | neuron | Day5 | obob5v5 | Day5 | obobBL6d5 | restored_grouping | pos_restored | ⋯ | 0.841 | 1.942475e-02 | ENSMUSG00000115667 | 0.039353259 | 70 | 2686 | 0.02606106 | 0.1 | 150 | FALSE |\n",
       "| Irx5__Lmx1a___Day5.obob5v5__v__Day5.obobBL6d5___restored_grouping.pos_restored_vs_none | all | Irx5__Lmx1a | neuron | Day5 | obob5v5 | Day5 | obobBL6d5 | restored_grouping | pos_restored | ⋯ | 0.750 | 1.792996e-04 | ENSMUSG00000028128 | 0.014658198 | 70 | 2686 | 0.02606106 | 0.1 | 150 | FALSE |\n",
       "| Irx5__Lmx1a___Day5.obob5v5__v__Day5.obobBL6d5___restored_grouping.pos_restored_vs_none | all | Irx5__Lmx1a | neuron | Day5 | obob5v5 | Day5 | obobBL6d5 | restored_grouping | pos_restored | ⋯ | 0.628 | 6.710234e-08 | ENSMUSG00000072584 | 0.005386653 | 70 | 2686 | 0.02606106 | 0.1 | 150 | FALSE |\n",
       "\n"
      ],
      "text/plain": [
       "     tag                                                                                   \n",
       "1    Irx5__Lmx1a___Day5.obob5v5__v__Day5.obobBL6d5___bl6_grouping.neg_vs_none              \n",
       "2    Irx5__Lmx1a___Day5.obob5v5__v__Day5.obobBL6d5___bl6_grouping.neg_vs_none              \n",
       "3    Irx5__Lmx1a___Day5.obob5v5__v__Day5.obobBL6d5___bl6_grouping.neg_vs_none              \n",
       "4    Irx5__Lmx1a___Day5.obob5v5__v__Day5.obobBL6d5___bl6_grouping.neg_vs_none              \n",
       "5    Irx5__Lmx1a___Day5.obob5v5__v__Day5.obobBL6d5___bl6_grouping.neg_vs_none              \n",
       "6    Irx5__Lmx1a___Day5.obob5v5__v__Day5.obobBL6d5___bl6_grouping.neg_vs_none              \n",
       "7    Irx5__Lmx1a___Day5.obob5v5__v__Day5.obobBL6d5___bl6_grouping.neg_vs_none              \n",
       "8    Irx5__Lmx1a___Day5.obob5v5__v__Day5.obobBL6d5___bl6_grouping.neg_vs_none              \n",
       "9    Irx5__Lmx1a___Day5.obob5v5__v__Day5.obobBL6d5___bl6_grouping.neg_vs_none              \n",
       "10   Irx5__Lmx1a___Day5.obob5v5__v__Day5.obobBL6d5___bl6_grouping.neg_vs_none              \n",
       "11   Irx5__Lmx1a___Day5.obob5v5__v__Day5.obobBL6d5___bl6_grouping.neg_vs_none              \n",
       "12   Irx5__Lmx1a___Day5.obob5v5__v__Day5.obobBL6d5___bl6_grouping.neg_vs_none              \n",
       "13   Irx5__Lmx1a___Day5.obob5v5__v__Day5.obobBL6d5___bl6_grouping.neg_vs_none              \n",
       "14   Irx5__Lmx1a___Day5.obob5v5__v__Day5.obobBL6d5___bl6_grouping.neg_vs_none              \n",
       "15   Irx5__Lmx1a___Day5.obob5v5__v__Day5.obobBL6d5___bl6_grouping.neg_vs_none              \n",
       "16   Irx5__Lmx1a___Day5.obob5v5__v__Day5.obobBL6d5___bl6_grouping.neg_vs_none              \n",
       "17   Irx5__Lmx1a___Day5.obob5v5__v__Day5.obobBL6d5___bl6_grouping.neg_vs_none              \n",
       "18   Irx5__Lmx1a___Day5.obob5v5__v__Day5.obobBL6d5___bl6_grouping.neg_vs_none              \n",
       "19   Irx5__Lmx1a___Day5.obob5v5__v__Day5.obobBL6d5___bl6_grouping.neg_vs_none              \n",
       "20   Irx5__Lmx1a___Day5.obob5v5__v__Day5.obobBL6d5___bl6_grouping.neg_vs_none              \n",
       "21   Irx5__Lmx1a___Day5.obob5v5__v__Day5.obobBL6d5___bl6_grouping.neg_vs_none              \n",
       "22   Irx5__Lmx1a___Day5.obob5v5__v__Day5.obobBL6d5___bl6_grouping.neg_vs_none              \n",
       "23   Irx5__Lmx1a___Day5.obob5v5__v__Day5.obobBL6d5___bl6_grouping.neg_vs_none              \n",
       "24   Irx5__Lmx1a___Day5.obob5v5__v__Day5.obobBL6d5___bl6_grouping.neg_vs_none              \n",
       "25   Irx5__Lmx1a___Day5.obob5v5__v__Day5.obobBL6d5___bl6_grouping.neg_vs_none              \n",
       "26   Irx5__Lmx1a___Day5.obob5v5__v__Day5.obobBL6d5___bl6_grouping.neg_vs_none              \n",
       "27   Irx5__Lmx1a___Day5.obob5v5__v__Day5.obobBL6d5___bl6_grouping.neg_vs_none              \n",
       "28   Irx5__Lmx1a___Day5.obob5v5__v__Day5.obobBL6d5___bl6_grouping.neg_vs_none              \n",
       "29   Irx5__Lmx1a___Day5.obob5v5__v__Day5.obobBL6d5___bl6_grouping.neg_vs_none              \n",
       "30   Irx5__Lmx1a___Day5.obob5v5__v__Day5.obobBL6d5___bl6_grouping.neg_vs_none              \n",
       "⋮    ⋮                                                                                     \n",
       "3685 Irx5__Lmx1a___Day5.obob5v5__v__Day5.obobBL6d5___restored_grouping.pos_restored_vs_none\n",
       "3686 Irx5__Lmx1a___Day5.obob5v5__v__Day5.obobBL6d5___restored_grouping.pos_restored_vs_none\n",
       "3687 Irx5__Lmx1a___Day5.obob5v5__v__Day5.obobBL6d5___restored_grouping.pos_restored_vs_none\n",
       "3688 Irx5__Lmx1a___Day5.obob5v5__v__Day5.obobBL6d5___restored_grouping.pos_restored_vs_none\n",
       "3689 Irx5__Lmx1a___Day5.obob5v5__v__Day5.obobBL6d5___restored_grouping.pos_restored_vs_none\n",
       "3690 Irx5__Lmx1a___Day5.obob5v5__v__Day5.obobBL6d5___restored_grouping.pos_restored_vs_none\n",
       "3691 Irx5__Lmx1a___Day5.obob5v5__v__Day5.obobBL6d5___restored_grouping.pos_restored_vs_none\n",
       "3692 Irx5__Lmx1a___Day5.obob5v5__v__Day5.obobBL6d5___restored_grouping.pos_restored_vs_none\n",
       "3693 Irx5__Lmx1a___Day5.obob5v5__v__Day5.obobBL6d5___restored_grouping.pos_restored_vs_none\n",
       "3694 Irx5__Lmx1a___Day5.obob5v5__v__Day5.obobBL6d5___restored_grouping.pos_restored_vs_none\n",
       "3695 Irx5__Lmx1a___Day5.obob5v5__v__Day5.obobBL6d5___restored_grouping.pos_restored_vs_none\n",
       "3696 Irx5__Lmx1a___Day5.obob5v5__v__Day5.obobBL6d5___restored_grouping.pos_restored_vs_none\n",
       "3697 Irx5__Lmx1a___Day5.obob5v5__v__Day5.obobBL6d5___restored_grouping.pos_restored_vs_none\n",
       "3698 Irx5__Lmx1a___Day5.obob5v5__v__Day5.obobBL6d5___restored_grouping.pos_restored_vs_none\n",
       "3699 Irx5__Lmx1a___Day5.obob5v5__v__Day5.obobBL6d5___restored_grouping.pos_restored_vs_none\n",
       "3700 Irx5__Lmx1a___Day5.obob5v5__v__Day5.obobBL6d5___restored_grouping.pos_restored_vs_none\n",
       "3701 Irx5__Lmx1a___Day5.obob5v5__v__Day5.obobBL6d5___restored_grouping.pos_restored_vs_none\n",
       "3702 Irx5__Lmx1a___Day5.obob5v5__v__Day5.obobBL6d5___restored_grouping.pos_restored_vs_none\n",
       "3703 Irx5__Lmx1a___Day5.obob5v5__v__Day5.obobBL6d5___restored_grouping.pos_restored_vs_none\n",
       "3704 Irx5__Lmx1a___Day5.obob5v5__v__Day5.obobBL6d5___restored_grouping.pos_restored_vs_none\n",
       "3705 Irx5__Lmx1a___Day5.obob5v5__v__Day5.obobBL6d5___restored_grouping.pos_restored_vs_none\n",
       "3706 Irx5__Lmx1a___Day5.obob5v5__v__Day5.obobBL6d5___restored_grouping.pos_restored_vs_none\n",
       "3707 Irx5__Lmx1a___Day5.obob5v5__v__Day5.obobBL6d5___restored_grouping.pos_restored_vs_none\n",
       "3708 Irx5__Lmx1a___Day5.obob5v5__v__Day5.obobBL6d5___restored_grouping.pos_restored_vs_none\n",
       "3709 Irx5__Lmx1a___Day5.obob5v5__v__Day5.obobBL6d5___restored_grouping.pos_restored_vs_none\n",
       "3710 Irx5__Lmx1a___Day5.obob5v5__v__Day5.obobBL6d5___restored_grouping.pos_restored_vs_none\n",
       "3711 Irx5__Lmx1a___Day5.obob5v5__v__Day5.obobBL6d5___restored_grouping.pos_restored_vs_none\n",
       "3712 Irx5__Lmx1a___Day5.obob5v5__v__Day5.obobBL6d5___restored_grouping.pos_restored_vs_none\n",
       "3713 Irx5__Lmx1a___Day5.obob5v5__v__Day5.obobBL6d5___restored_grouping.pos_restored_vs_none\n",
       "3714 Irx5__Lmx1a___Day5.obob5v5__v__Day5.obobBL6d5___restored_grouping.pos_restored_vs_none\n",
       "     data_day cluster     class  fgf1_day fgf1_comparison bl6_day\n",
       "1    all      Irx5__Lmx1a neuron Day5     obob5v5         Day5   \n",
       "2    all      Irx5__Lmx1a neuron Day5     obob5v5         Day5   \n",
       "3    all      Irx5__Lmx1a neuron Day5     obob5v5         Day5   \n",
       "4    all      Irx5__Lmx1a neuron Day5     obob5v5         Day5   \n",
       "5    all      Irx5__Lmx1a neuron Day5     obob5v5         Day5   \n",
       "6    all      Irx5__Lmx1a neuron Day5     obob5v5         Day5   \n",
       "7    all      Irx5__Lmx1a neuron Day5     obob5v5         Day5   \n",
       "8    all      Irx5__Lmx1a neuron Day5     obob5v5         Day5   \n",
       "9    all      Irx5__Lmx1a neuron Day5     obob5v5         Day5   \n",
       "10   all      Irx5__Lmx1a neuron Day5     obob5v5         Day5   \n",
       "11   all      Irx5__Lmx1a neuron Day5     obob5v5         Day5   \n",
       "12   all      Irx5__Lmx1a neuron Day5     obob5v5         Day5   \n",
       "13   all      Irx5__Lmx1a neuron Day5     obob5v5         Day5   \n",
       "14   all      Irx5__Lmx1a neuron Day5     obob5v5         Day5   \n",
       "15   all      Irx5__Lmx1a neuron Day5     obob5v5         Day5   \n",
       "16   all      Irx5__Lmx1a neuron Day5     obob5v5         Day5   \n",
       "17   all      Irx5__Lmx1a neuron Day5     obob5v5         Day5   \n",
       "18   all      Irx5__Lmx1a neuron Day5     obob5v5         Day5   \n",
       "19   all      Irx5__Lmx1a neuron Day5     obob5v5         Day5   \n",
       "20   all      Irx5__Lmx1a neuron Day5     obob5v5         Day5   \n",
       "21   all      Irx5__Lmx1a neuron Day5     obob5v5         Day5   \n",
       "22   all      Irx5__Lmx1a neuron Day5     obob5v5         Day5   \n",
       "23   all      Irx5__Lmx1a neuron Day5     obob5v5         Day5   \n",
       "24   all      Irx5__Lmx1a neuron Day5     obob5v5         Day5   \n",
       "25   all      Irx5__Lmx1a neuron Day5     obob5v5         Day5   \n",
       "26   all      Irx5__Lmx1a neuron Day5     obob5v5         Day5   \n",
       "27   all      Irx5__Lmx1a neuron Day5     obob5v5         Day5   \n",
       "28   all      Irx5__Lmx1a neuron Day5     obob5v5         Day5   \n",
       "29   all      Irx5__Lmx1a neuron Day5     obob5v5         Day5   \n",
       "30   all      Irx5__Lmx1a neuron Day5     obob5v5         Day5   \n",
       "⋮    ⋮        ⋮           ⋮      ⋮        ⋮               ⋮      \n",
       "3685 all      Irx5__Lmx1a neuron Day5     obob5v5         Day5   \n",
       "3686 all      Irx5__Lmx1a neuron Day5     obob5v5         Day5   \n",
       "3687 all      Irx5__Lmx1a neuron Day5     obob5v5         Day5   \n",
       "3688 all      Irx5__Lmx1a neuron Day5     obob5v5         Day5   \n",
       "3689 all      Irx5__Lmx1a neuron Day5     obob5v5         Day5   \n",
       "3690 all      Irx5__Lmx1a neuron Day5     obob5v5         Day5   \n",
       "3691 all      Irx5__Lmx1a neuron Day5     obob5v5         Day5   \n",
       "3692 all      Irx5__Lmx1a neuron Day5     obob5v5         Day5   \n",
       "3693 all      Irx5__Lmx1a neuron Day5     obob5v5         Day5   \n",
       "3694 all      Irx5__Lmx1a neuron Day5     obob5v5         Day5   \n",
       "3695 all      Irx5__Lmx1a neuron Day5     obob5v5         Day5   \n",
       "3696 all      Irx5__Lmx1a neuron Day5     obob5v5         Day5   \n",
       "3697 all      Irx5__Lmx1a neuron Day5     obob5v5         Day5   \n",
       "3698 all      Irx5__Lmx1a neuron Day5     obob5v5         Day5   \n",
       "3699 all      Irx5__Lmx1a neuron Day5     obob5v5         Day5   \n",
       "3700 all      Irx5__Lmx1a neuron Day5     obob5v5         Day5   \n",
       "3701 all      Irx5__Lmx1a neuron Day5     obob5v5         Day5   \n",
       "3702 all      Irx5__Lmx1a neuron Day5     obob5v5         Day5   \n",
       "3703 all      Irx5__Lmx1a neuron Day5     obob5v5         Day5   \n",
       "3704 all      Irx5__Lmx1a neuron Day5     obob5v5         Day5   \n",
       "3705 all      Irx5__Lmx1a neuron Day5     obob5v5         Day5   \n",
       "3706 all      Irx5__Lmx1a neuron Day5     obob5v5         Day5   \n",
       "3707 all      Irx5__Lmx1a neuron Day5     obob5v5         Day5   \n",
       "3708 all      Irx5__Lmx1a neuron Day5     obob5v5         Day5   \n",
       "3709 all      Irx5__Lmx1a neuron Day5     obob5v5         Day5   \n",
       "3710 all      Irx5__Lmx1a neuron Day5     obob5v5         Day5   \n",
       "3711 all      Irx5__Lmx1a neuron Day5     obob5v5         Day5   \n",
       "3712 all      Irx5__Lmx1a neuron Day5     obob5v5         Day5   \n",
       "3713 all      Irx5__Lmx1a neuron Day5     obob5v5         Day5   \n",
       "3714 all      Irx5__Lmx1a neuron Day5     obob5v5         Day5   \n",
       "     bl6_comparison grouping          cells_a      ⋯ pct.2 p_val_adj    \n",
       "1    obobBL6d5      bl6_grouping      neg          ⋯ 0.805 1.884031e-169\n",
       "2    obobBL6d5      bl6_grouping      neg          ⋯ 0.869 1.744857e-159\n",
       "3    obobBL6d5      bl6_grouping      neg          ⋯ 0.808 1.301808e-143\n",
       "4    obobBL6d5      bl6_grouping      neg          ⋯ 0.753 1.445177e-127\n",
       "5    obobBL6d5      bl6_grouping      neg          ⋯ 0.662  2.210621e-71\n",
       "6    obobBL6d5      bl6_grouping      neg          ⋯ 0.528  6.009810e-70\n",
       "7    obobBL6d5      bl6_grouping      neg          ⋯ 0.758  2.621778e-81\n",
       "8    obobBL6d5      bl6_grouping      neg          ⋯ 0.563  9.288247e-63\n",
       "9    obobBL6d5      bl6_grouping      neg          ⋯ 0.511  5.027642e-74\n",
       "10   obobBL6d5      bl6_grouping      neg          ⋯ 0.758  1.427135e-75\n",
       "11   obobBL6d5      bl6_grouping      neg          ⋯ 0.818  1.239903e-79\n",
       "12   obobBL6d5      bl6_grouping      neg          ⋯ 0.729  1.644855e-78\n",
       "13   obobBL6d5      bl6_grouping      neg          ⋯ 0.929 2.862427e-104\n",
       "14   obobBL6d5      bl6_grouping      neg          ⋯ 0.781  2.176989e-58\n",
       "15   obobBL6d5      bl6_grouping      neg          ⋯ 0.509  1.508670e-41\n",
       "16   obobBL6d5      bl6_grouping      neg          ⋯ 0.834  3.705072e-67\n",
       "17   obobBL6d5      bl6_grouping      neg          ⋯ 0.879  3.795932e-87\n",
       "18   obobBL6d5      bl6_grouping      neg          ⋯ 0.411  2.913054e-35\n",
       "19   obobBL6d5      bl6_grouping      neg          ⋯ 0.877  8.761393e-64\n",
       "20   obobBL6d5      bl6_grouping      neg          ⋯ 0.401  5.056769e-25\n",
       "21   obobBL6d5      bl6_grouping      neg          ⋯ 0.667  2.662828e-51\n",
       "22   obobBL6d5      bl6_grouping      neg          ⋯ 0.636  1.516937e-59\n",
       "23   obobBL6d5      bl6_grouping      neg          ⋯ 0.698  4.604998e-50\n",
       "24   obobBL6d5      bl6_grouping      neg          ⋯ 0.692  6.464149e-36\n",
       "25   obobBL6d5      bl6_grouping      neg          ⋯ 0.921  7.902312e-80\n",
       "26   obobBL6d5      bl6_grouping      neg          ⋯ 0.310  2.559115e-20\n",
       "27   obobBL6d5      bl6_grouping      neg          ⋯ 0.654  8.119767e-48\n",
       "28   obobBL6d5      bl6_grouping      neg          ⋯ 0.388  2.365544e-28\n",
       "29   obobBL6d5      bl6_grouping      neg          ⋯ 0.807  2.902738e-51\n",
       "30   obobBL6d5      bl6_grouping      neg          ⋯ 0.544  2.017905e-37\n",
       "⋮    ⋮              ⋮                 ⋮            ⋱ ⋮     ⋮            \n",
       "3685 obobBL6d5      restored_grouping pos_restored ⋯ 0.573 1.958361e-03 \n",
       "3686 obobBL6d5      restored_grouping pos_restored ⋯ 0.569 9.917500e-04 \n",
       "3687 obobBL6d5      restored_grouping pos_restored ⋯ 0.840 1.022874e-02 \n",
       "3688 obobBL6d5      restored_grouping pos_restored ⋯ 0.846 3.677767e-02 \n",
       "3689 obobBL6d5      restored_grouping pos_restored ⋯ 1.000 2.902456e-02 \n",
       "3690 obobBL6d5      restored_grouping pos_restored ⋯ 0.712 5.281000e-03 \n",
       "3691 obobBL6d5      restored_grouping pos_restored ⋯ 0.695 2.785703e-02 \n",
       "3692 obobBL6d5      restored_grouping pos_restored ⋯ 0.835 1.130242e-02 \n",
       "3693 obobBL6d5      restored_grouping pos_restored ⋯ 0.633 1.916779e-02 \n",
       "3694 obobBL6d5      restored_grouping pos_restored ⋯ 0.606 5.356172e-11 \n",
       "3695 obobBL6d5      restored_grouping pos_restored ⋯ 0.418 1.295202e-02 \n",
       "3696 obobBL6d5      restored_grouping pos_restored ⋯ 0.580 8.442143e-10 \n",
       "3697 obobBL6d5      restored_grouping pos_restored ⋯ 0.724 1.617077e-02 \n",
       "3698 obobBL6d5      restored_grouping pos_restored ⋯ 0.680 4.282118e-02 \n",
       "3699 obobBL6d5      restored_grouping pos_restored ⋯ 0.752 7.749639e-05 \n",
       "3700 obobBL6d5      restored_grouping pos_restored ⋯ 0.760 2.224231e-02 \n",
       "3701 obobBL6d5      restored_grouping pos_restored ⋯ 0.680 1.402196e-02 \n",
       "3702 obobBL6d5      restored_grouping pos_restored ⋯ 0.503 4.093280e-11 \n",
       "3703 obobBL6d5      restored_grouping pos_restored ⋯ 0.661 4.983325e-03 \n",
       "3704 obobBL6d5      restored_grouping pos_restored ⋯ 0.704 3.249716e-02 \n",
       "3705 obobBL6d5      restored_grouping pos_restored ⋯ 0.470 2.062762e-03 \n",
       "3706 obobBL6d5      restored_grouping pos_restored ⋯ 0.632 3.358942e-09 \n",
       "3707 obobBL6d5      restored_grouping pos_restored ⋯ 0.496 3.246177e-04 \n",
       "3708 obobBL6d5      restored_grouping pos_restored ⋯ 0.583 4.744170e-05 \n",
       "3709 obobBL6d5      restored_grouping pos_restored ⋯ 0.618 3.390944e-03 \n",
       "3710 obobBL6d5      restored_grouping pos_restored ⋯ 0.719 8.341728e-05 \n",
       "3711 obobBL6d5      restored_grouping pos_restored ⋯ 0.570 2.071186e-04 \n",
       "3712 obobBL6d5      restored_grouping pos_restored ⋯ 0.841 1.942475e-02 \n",
       "3713 obobBL6d5      restored_grouping pos_restored ⋯ 0.750 1.792996e-04 \n",
       "3714 obobBL6d5      restored_grouping pos_restored ⋯ 0.628 6.710234e-08 \n",
       "     ensmusg            gsea_sort_score count total_cells frac      \n",
       "1    ENSMUSG00000058925 713.1835        70    2686        0.02606106\n",
       "2    ENSMUSG00000093497 525.1943        70    2686        0.02606106\n",
       "3    ENSMUSG00000061171 500.1280        70    2686        0.02606106\n",
       "4    ENSMUSG00000087388 488.5600        70    2686        0.02606106\n",
       "5    ENSMUSG00000114810 430.0567        70    2686        0.02606106\n",
       "6    ENSMUSG00000055933 372.0814        70    2686        0.02606106\n",
       "7    ENSMUSG00000057981 354.4501        70    2686        0.02606106\n",
       "8    ENSMUSG00000109107 341.4653        70    2686        0.02606106\n",
       "9    ENSMUSG00000000120 329.0092        70    2686        0.02606106\n",
       "10   ENSMUSG00000110592 295.7611        70    2686        0.02606106\n",
       "11   ENSMUSG00000087296 291.2892        70    2686        0.02606106\n",
       "12   ENSMUSG00000111990 272.3795        70    2686        0.02606106\n",
       "13   ENSMUSG00000022112 271.0954        70    2686        0.02606106\n",
       "14   ENSMUSG00000102101 243.6955        70    2686        0.02606106\n",
       "15   ENSMUSG00000116800 212.3363        70    2686        0.02606106\n",
       "16   ENSMUSG00000086607 209.4790        70    2686        0.02606106\n",
       "17   ENSMUSG00000003746 202.3244        70    2686        0.02606106\n",
       "18   ENSMUSG00000108276 199.5322        70    2686        0.02606106\n",
       "19   ENSMUSG00000111924 198.4936        70    2686        0.02606106\n",
       "20   ENSMUSG00000003849 197.5366        70    2686        0.02606106\n",
       "21   ENSMUSG00000110747 196.4626        70    2686        0.02606106\n",
       "22   ENSMUSG00000110667 195.9476        70    2686        0.02606106\n",
       "23   ENSMUSG00000118396 193.8736        70    2686        0.02606106\n",
       "24   ENSMUSG00000110002 193.6990        70    2686        0.02606106\n",
       "25   ENSMUSG00000042581 190.3392        70    2686        0.02606106\n",
       "26   ENSMUSG00000098176 186.0519        70    2686        0.02606106\n",
       "27   ENSMUSG00000074207 185.8243        70    2686        0.02606106\n",
       "28   ENSMUSG00000023979 184.2856        70    2686        0.02606106\n",
       "29   ENSMUSG00000085562 172.4072        70    2686        0.02606106\n",
       "30   ENSMUSG00000029700 171.9260        70    2686        0.02606106\n",
       "⋮    ⋮                  ⋮               ⋮     ⋮           ⋮         \n",
       "3685 ENSMUSG00000032530 0.679345220     70    2686        0.02606106\n",
       "3686 ENSMUSG00000020682 0.678325463     70    2686        0.02606106\n",
       "3687 ENSMUSG00000043441 0.659066295     70    2686        0.02606106\n",
       "3688 ENSMUSG00000086027 0.653831639     70    2686        0.02606106\n",
       "3689 ENSMUSG00000049252 0.634304633     70    2686        0.02606106\n",
       "3690 ENSMUSG00000020722 0.633918187     70    2686        0.02606106\n",
       "3691 ENSMUSG00000104693 0.619715941     70    2686        0.02606106\n",
       "3692 ENSMUSG00000100301 0.605669439     70    2686        0.02606106\n",
       "3693 ENSMUSG00000078870 0.605615178     70    2686        0.02606106\n",
       "3694 ENSMUSG00000026805 0.588933794     70    2686        0.02606106\n",
       "3695 ENSMUSG00000026154 0.504385324     70    2686        0.02606106\n",
       "3696 ENSMUSG00000032207 0.486674895     70    2686        0.02606106\n",
       "3697 ENSMUSG00000084945 0.470282594     70    2686        0.02606106\n",
       "3698 ENSMUSG00000044134 0.464277106     70    2686        0.02606106\n",
       "3699 ENSMUSG00000029725 0.460752498     70    2686        0.02606106\n",
       "3700 ENSMUSG00000060969 0.434161498     70    2686        0.02606106\n",
       "3701 ENSMUSG00000055069 0.355627551     70    2686        0.02606106\n",
       "3702 ENSMUSG00000093386 0.299318853     70    2686        0.02606106\n",
       "3703 ENSMUSG00000015001 0.282805859     70    2686        0.02606106\n",
       "3704 ENSMUSG00000044617 0.281861363     70    2686        0.02606106\n",
       "3705 ENSMUSG00000020857 0.274567042     70    2686        0.02606106\n",
       "3706 ENSMUSG00000047528 0.236583933     70    2686        0.02606106\n",
       "3707 ENSMUSG00000047371 0.231953235     70    2686        0.02606106\n",
       "3708 ENSMUSG00000098087 0.183829885     70    2686        0.02606106\n",
       "3709 ENSMUSG00000087362 0.166824790     70    2686        0.02606106\n",
       "3710 ENSMUSG00000086523 0.073561880     70    2686        0.02606106\n",
       "3711 ENSMUSG00000097927 0.043212065     70    2686        0.02606106\n",
       "3712 ENSMUSG00000115667 0.039353259     70    2686        0.02606106\n",
       "3713 ENSMUSG00000028128 0.014658198     70    2686        0.02606106\n",
       "3714 ENSMUSG00000072584 0.005386653     70    2686        0.02606106\n",
       "     frac_cutoff n_cells_cutoff n_cells_valid\n",
       "1    0.1         150            FALSE        \n",
       "2    0.1         150            FALSE        \n",
       "3    0.1         150            FALSE        \n",
       "4    0.1         150            FALSE        \n",
       "5    0.1         150            FALSE        \n",
       "6    0.1         150            FALSE        \n",
       "7    0.1         150            FALSE        \n",
       "8    0.1         150            FALSE        \n",
       "9    0.1         150            FALSE        \n",
       "10   0.1         150            FALSE        \n",
       "11   0.1         150            FALSE        \n",
       "12   0.1         150            FALSE        \n",
       "13   0.1         150            FALSE        \n",
       "14   0.1         150            FALSE        \n",
       "15   0.1         150            FALSE        \n",
       "16   0.1         150            FALSE        \n",
       "17   0.1         150            FALSE        \n",
       "18   0.1         150            FALSE        \n",
       "19   0.1         150            FALSE        \n",
       "20   0.1         150            FALSE        \n",
       "21   0.1         150            FALSE        \n",
       "22   0.1         150            FALSE        \n",
       "23   0.1         150            FALSE        \n",
       "24   0.1         150            FALSE        \n",
       "25   0.1         150            FALSE        \n",
       "26   0.1         150            FALSE        \n",
       "27   0.1         150            FALSE        \n",
       "28   0.1         150            FALSE        \n",
       "29   0.1         150            FALSE        \n",
       "30   0.1         150            FALSE        \n",
       "⋮    ⋮           ⋮              ⋮            \n",
       "3685 0.1         150            FALSE        \n",
       "3686 0.1         150            FALSE        \n",
       "3687 0.1         150            FALSE        \n",
       "3688 0.1         150            FALSE        \n",
       "3689 0.1         150            FALSE        \n",
       "3690 0.1         150            FALSE        \n",
       "3691 0.1         150            FALSE        \n",
       "3692 0.1         150            FALSE        \n",
       "3693 0.1         150            FALSE        \n",
       "3694 0.1         150            FALSE        \n",
       "3695 0.1         150            FALSE        \n",
       "3696 0.1         150            FALSE        \n",
       "3697 0.1         150            FALSE        \n",
       "3698 0.1         150            FALSE        \n",
       "3699 0.1         150            FALSE        \n",
       "3700 0.1         150            FALSE        \n",
       "3701 0.1         150            FALSE        \n",
       "3702 0.1         150            FALSE        \n",
       "3703 0.1         150            FALSE        \n",
       "3704 0.1         150            FALSE        \n",
       "3705 0.1         150            FALSE        \n",
       "3706 0.1         150            FALSE        \n",
       "3707 0.1         150            FALSE        \n",
       "3708 0.1         150            FALSE        \n",
       "3709 0.1         150            FALSE        \n",
       "3710 0.1         150            FALSE        \n",
       "3711 0.1         150            FALSE        \n",
       "3712 0.1         150            FALSE        \n",
       "3713 0.1         150            FALSE        \n",
       "3714 0.1         150            FALSE        "
      ]
     },
     "metadata": {},
     "output_type": "display_data"
    }
   ],
   "source": [
    "combined_deg_seurat %>% \n",
    "filter(cluster == 'Irx5__Lmx1a')"
   ]
  },
  {
   "cell_type": "code",
   "execution_count": 47,
   "id": "6722cf2c",
   "metadata": {},
   "outputs": [
    {
     "data": {
      "text/html": [
       "<table class=\"dataframe\">\n",
       "<caption>A tibble: 11 × 2</caption>\n",
       "<thead>\n",
       "\t<tr><th scope=col>cluster</th><th scope=col>class</th></tr>\n",
       "\t<tr><th scope=col>&lt;chr&gt;</th><th scope=col>&lt;chr&gt;</th></tr>\n",
       "</thead>\n",
       "<tbody>\n",
       "\t<tr><td>g1    </td><td>NA</td></tr>\n",
       "\t<tr><td>g2    </td><td>NA</td></tr>\n",
       "\t<tr><td>g3    </td><td>NA</td></tr>\n",
       "\t<tr><td>n0    </td><td>NA</td></tr>\n",
       "\t<tr><td>n1    </td><td>NA</td></tr>\n",
       "\t<tr><td>n2    </td><td>NA</td></tr>\n",
       "\t<tr><td>n3    </td><td>NA</td></tr>\n",
       "\t<tr><td>n5    </td><td>NA</td></tr>\n",
       "\t<tr><td>n8    </td><td>NA</td></tr>\n",
       "\t<tr><td>neuron</td><td>NA</td></tr>\n",
       "\t<tr><td>other </td><td>NA</td></tr>\n",
       "</tbody>\n",
       "</table>\n"
      ],
      "text/latex": [
       "A tibble: 11 × 2\n",
       "\\begin{tabular}{ll}\n",
       " cluster & class\\\\\n",
       " <chr> & <chr>\\\\\n",
       "\\hline\n",
       "\t g1     & NA\\\\\n",
       "\t g2     & NA\\\\\n",
       "\t g3     & NA\\\\\n",
       "\t n0     & NA\\\\\n",
       "\t n1     & NA\\\\\n",
       "\t n2     & NA\\\\\n",
       "\t n3     & NA\\\\\n",
       "\t n5     & NA\\\\\n",
       "\t n8     & NA\\\\\n",
       "\t neuron & NA\\\\\n",
       "\t other  & NA\\\\\n",
       "\\end{tabular}\n"
      ],
      "text/markdown": [
       "\n",
       "A tibble: 11 × 2\n",
       "\n",
       "| cluster &lt;chr&gt; | class &lt;chr&gt; |\n",
       "|---|---|\n",
       "| g1     | NA |\n",
       "| g2     | NA |\n",
       "| g3     | NA |\n",
       "| n0     | NA |\n",
       "| n1     | NA |\n",
       "| n2     | NA |\n",
       "| n3     | NA |\n",
       "| n5     | NA |\n",
       "| n8     | NA |\n",
       "| neuron | NA |\n",
       "| other  | NA |\n",
       "\n"
      ],
      "text/plain": [
       "   cluster class\n",
       "1  g1      NA   \n",
       "2  g2      NA   \n",
       "3  g3      NA   \n",
       "4  n0      NA   \n",
       "5  n1      NA   \n",
       "6  n2      NA   \n",
       "7  n3      NA   \n",
       "8  n5      NA   \n",
       "9  n8      NA   \n",
       "10 neuron  NA   \n",
       "11 other   NA   "
      ]
     },
     "metadata": {},
     "output_type": "display_data"
    }
   ],
   "source": [
    "combined_deg_seurat %>%\n",
    "distinct(cluster, class) %>%\n",
    "filter(is.na(class))"
   ]
  },
  {
   "cell_type": "code",
   "execution_count": null,
   "id": "095b7583",
   "metadata": {},
   "outputs": [],
   "source": []
  },
  {
   "cell_type": "code",
   "execution_count": 48,
   "id": "4ce51574",
   "metadata": {},
   "outputs": [],
   "source": [
    "combined_deg_seurat %>% write_xlsx('_targets_MAST_v2/combined_deg_seurat_d5_d14_MAST_v2.xlsx')"
   ]
  },
  {
   "cell_type": "code",
   "execution_count": null,
   "id": "240c31d7",
   "metadata": {},
   "outputs": [],
   "source": []
  },
  {
   "cell_type": "code",
   "execution_count": null,
   "id": "b6e7697c",
   "metadata": {},
   "outputs": [],
   "source": []
  },
  {
   "cell_type": "code",
   "execution_count": null,
   "id": "77bb3269",
   "metadata": {},
   "outputs": [],
   "source": []
  },
  {
   "cell_type": "code",
   "execution_count": null,
   "id": "fedd9e45",
   "metadata": {},
   "outputs": [],
   "source": []
  },
  {
   "cell_type": "code",
   "execution_count": null,
   "id": "c4004e48",
   "metadata": {},
   "outputs": [],
   "source": []
  },
  {
   "cell_type": "code",
   "execution_count": null,
   "id": "91414a22",
   "metadata": {},
   "outputs": [],
   "source": []
  },
  {
   "cell_type": "code",
   "execution_count": null,
   "id": "40585c88",
   "metadata": {},
   "outputs": [],
   "source": []
  },
  {
   "cell_type": "code",
   "execution_count": null,
   "id": "4e16b010",
   "metadata": {},
   "outputs": [],
   "source": []
  },
  {
   "cell_type": "code",
   "execution_count": null,
   "id": "2927fec2",
   "metadata": {},
   "outputs": [],
   "source": []
  },
  {
   "cell_type": "code",
   "execution_count": null,
   "id": "7834dd10",
   "metadata": {},
   "outputs": [],
   "source": []
  }
 ],
 "metadata": {
  "kernelspec": {
   "display_name": "R [conda env:fgf1]",
   "language": "R",
   "name": "conda-env-fgf1-r"
  },
  "language_info": {
   "codemirror_mode": "r",
   "file_extension": ".r",
   "mimetype": "text/x-r-source",
   "name": "R",
   "pygments_lexer": "r",
   "version": "4.1.3"
  }
 },
 "nbformat": 4,
 "nbformat_minor": 5
}
