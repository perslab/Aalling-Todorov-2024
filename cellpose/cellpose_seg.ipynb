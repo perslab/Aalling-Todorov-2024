{
 "cells": [
  {
   "cell_type": "code",
   "execution_count": 1,
   "id": "f3932ccf",
   "metadata": {},
   "outputs": [],
   "source": [
    "import time, os, sys\n",
    "os.environ['OMP_NUM_THREADS']=\"1\"\n",
    "os.environ['OPENBLAS_NUM_THREADS']='1'\n",
    "os.environ['OMP_NUM_THREADS']='1'\n",
    "os.environ['MKL_NUM_THREADS']='1'"
   ]
  },
  {
   "cell_type": "code",
   "execution_count": 2,
   "id": "0ade894d",
   "metadata": {},
   "outputs": [],
   "source": [
    "import numpy as np\n",
    "from urllib.parse import urlparse\n",
    "import matplotlib.pyplot as plt\n",
    "import matplotlib as mpl\n",
    "%matplotlib inline\n",
    "mpl.rcParams['figure.dpi'] = 300\n",
    "from cellpose import utils, io\n",
    "import glob"
   ]
  },
  {
   "cell_type": "code",
   "execution_count": 3,
   "id": "a5a3f2ac",
   "metadata": {},
   "outputs": [],
   "source": [
    "from cellpose import models, io"
   ]
  },
  {
   "cell_type": "code",
   "execution_count": 4,
   "id": "3affd522",
   "metadata": {},
   "outputs": [],
   "source": [
    "dapi_dir = '/projects/ldr139/spatial_data/output0/*.tif'"
   ]
  },
  {
   "cell_type": "code",
   "execution_count": null,
   "id": "4a35dbcb",
   "metadata": {},
   "outputs": [],
   "source": [
    "images = glob.glob(dapi_dir)\n",
    "# Looping through list to find \"Brain\" index and retrieving 6th to 11th string from there which should be brain A-H underscore 1-6 + A/B/AB\n",
    "# Looping through list to find \"Brain\" index and retrieving 12th to the 4th last string which should be the channel name\n",
    "section = []\n",
    "for b in range(len(images)):\n",
    "    section.append((images[b][(images[b].find(\"Brain\") + 6):(images[b].find(\"Brain\") + 11)]).rstrip(\"_\"))\n",
    "mice = list(dict.fromkeys(section))"
   ]
  },
  {
   "cell_type": "code",
   "execution_count": null,
   "id": "c3ba9e7e",
   "metadata": {},
   "outputs": [],
   "source": [
    "plt.figure(figsize=(2,2))\n",
    "plt.imshow(io.imread(images[0]))\n",
    "plt.axis('off')\n",
    "plt.show()"
   ]
  },
  {
   "cell_type": "code",
   "execution_count": null,
   "id": "6e5da620",
   "metadata": {},
   "outputs": [],
   "source": [
    "img_dict = {}\n",
    "for image in images:\n",
    "    for sect in mice:\n",
    "        if sect in image:\n",
    "            img_dict[sect] = image"
   ]
  },
  {
   "cell_type": "code",
   "execution_count": null,
   "id": "bfc56af4",
   "metadata": {},
   "outputs": [],
   "source": [
    "from cellpose import models, io\n",
    "model = models.Cellpose(gpu=True, model_type='cyto2')\n",
    "channels = [[0,0]]\n",
    "\n",
    "import time\n",
    "start_time = time.time()\n",
    "\n",
    "for section in img_dict.keys():\n",
    "    print(section)\n",
    "    img = io.imread(img_dict[section])\n",
    "    masks, flows, styles, diams = model.eval(img, diameter=70, channels=channels)\n",
    "    io.masks_flows_to_seg(img, masks, flows, diams, 'dapi_segs/'+section+'_DAPI', channels)\n",
    "    io.save_to_png(img, masks, flows, 'dapi_segs/'+section+'_DAPI')\n",
    "    print(\"--- %s seconds ---\" % (time.time() - start_time))"
   ]
  },
  {
   "cell_type": "code",
   "execution_count": null,
   "id": "bc62a9cb",
   "metadata": {},
   "outputs": [],
   "source": [
    "!pwd"
   ]
  },
  {
   "cell_type": "code",
   "execution_count": null,
   "id": "da73a709",
   "metadata": {},
   "outputs": [],
   "source": [
    "mask_dir = {}\n",
    "mask_arrays = glob.glob(\"dapi_segs/*.npy\")\n",
    "for sect in mice:\n",
    "    if \"dapi_segs/\"+sect+\"_DAPI_seg.npy\" in mask_arrays:\n",
    "        mask_dir[sect]=np.load(\"dapi_segs/\"+sect+\"_DAPI_seg.npy\", allow_pickle=True).item()[\"masks\"]"
   ]
  },
  {
   "cell_type": "code",
   "execution_count": null,
   "id": "d5c0fff9",
   "metadata": {},
   "outputs": [],
   "source": [
    "for key in mask_dir.keys():\n",
    "    print(key, mask_dir[key].shape, mask_dir[key].max())"
   ]
  },
  {
   "cell_type": "code",
   "execution_count": null,
   "id": "d11c489d",
   "metadata": {},
   "outputs": [],
   "source": [
    "plt.imshow(np.load(\"dapi_segs/G_1A_DAPI_seg.npy\", allow_pickle=True).item()['masks'])"
   ]
  },
  {
   "cell_type": "code",
   "execution_count": null,
   "id": "545b9cfa",
   "metadata": {},
   "outputs": [],
   "source": [
    "!pwd"
   ]
  },
  {
   "cell_type": "code",
   "execution_count": null,
   "id": "d56316c3",
   "metadata": {},
   "outputs": [],
   "source": [
    "import matplotlib.pyplot as plt\n",
    "import numpy as np\n",
    "fig, ax = plt.subplots(1,1, figsize=(10,10))\n",
    "ax.imshow(np.load(\"dapi_segs/A_1AB_DAPI_seg.npy\", allow_pickle=True).item()['masks'])\n",
    "ax.axis('off')\n",
    "\n",
    "plt.show()"
   ]
  },
  {
   "cell_type": "code",
   "execution_count": null,
   "id": "5058dc33",
   "metadata": {},
   "outputs": [],
   "source": [
    "!pwd"
   ]
  },
  {
   "cell_type": "code",
   "execution_count": null,
   "id": "e472a2dc",
   "metadata": {},
   "outputs": [],
   "source": []
  }
 ],
 "metadata": {
  "kernelspec": {
   "display_name": "Python [conda env:cellpose_ygg]",
   "language": "python",
   "name": "conda-env-cellpose_ygg-py"
  },
  "language_info": {
   "codemirror_mode": {
    "name": "ipython",
    "version": 3
   },
   "file_extension": ".py",
   "mimetype": "text/x-python",
   "name": "python",
   "nbconvert_exporter": "python",
   "pygments_lexer": "ipython3",
   "version": "3.10.9"
  }
 },
 "nbformat": 4,
 "nbformat_minor": 5
}
