{
 "cells": [
  {
   "cell_type": "code",
   "execution_count": 4,
   "id": "7800bf3d",
   "metadata": {},
   "outputs": [
    {
     "name": "stderr",
     "output_type": "stream",
     "text": [
      "── \u001b[1mAttaching packages\u001b[22m ─────────────────────────────────────── tidyverse 1.3.2 ──\n",
      "\u001b[32m✔\u001b[39m \u001b[34mggplot2\u001b[39m 3.3.6      \u001b[32m✔\u001b[39m \u001b[34mpurrr  \u001b[39m 0.3.4 \n",
      "\u001b[32m✔\u001b[39m \u001b[34mtibble \u001b[39m 3.1.8      \u001b[32m✔\u001b[39m \u001b[34mdplyr  \u001b[39m 1.0.10\n",
      "\u001b[32m✔\u001b[39m \u001b[34mtidyr  \u001b[39m 1.2.1      \u001b[32m✔\u001b[39m \u001b[34mstringr\u001b[39m 1.4.1 \n",
      "\u001b[32m✔\u001b[39m \u001b[34mreadr  \u001b[39m 2.1.2      \u001b[32m✔\u001b[39m \u001b[34mforcats\u001b[39m 0.5.2 \n",
      "── \u001b[1mConflicts\u001b[22m ────────────────────────────────────────── tidyverse_conflicts() ──\n",
      "\u001b[31m✖\u001b[39m \u001b[34mdplyr\u001b[39m::\u001b[32mfilter()\u001b[39m masks \u001b[34mstats\u001b[39m::filter()\n",
      "\u001b[31m✖\u001b[39m \u001b[34mdplyr\u001b[39m::\u001b[32mlag()\u001b[39m    masks \u001b[34mstats\u001b[39m::lag()\n"
     ]
    }
   ],
   "source": [
    "library(tidyverse)\n",
    "library(targets)"
   ]
  },
  {
   "cell_type": "code",
   "execution_count": 125,
   "id": "1b9949ba",
   "metadata": {},
   "outputs": [
    {
     "data": {
      "text/html": [
       "<table class=\"dataframe\">\n",
       "<caption>A data.frame: 6 × 1</caption>\n",
       "<thead>\n",
       "\t<tr><th></th><th scope=col>polar_label</th></tr>\n",
       "\t<tr><th></th><th scope=col>&lt;chr&gt;</th></tr>\n",
       "</thead>\n",
       "<tbody>\n",
       "\t<tr><th scope=row>TCAGGTAAGCACCTGC_1_1</th><td>a1_Tany__Astrocytes.neg </td></tr>\n",
       "\t<tr><th scope=row>CTACAGACAACTTGCA_1_1</th><td>a1_Tany__Astrocytes.none</td></tr>\n",
       "\t<tr><th scope=row>GCAGCTGAGTCACTAC_1_1</th><td>a1_Tany__Astrocytes.none</td></tr>\n",
       "\t<tr><th scope=row>AGAGCAGGTCTGATAC_1_1</th><td>a1_Tany__Astrocytes.none</td></tr>\n",
       "\t<tr><th scope=row>TTTGGTTTCCCTCTCC_1_1</th><td>a1_Tany__Astrocytes.none</td></tr>\n",
       "\t<tr><th scope=row>TGTCCCAAGCATTGTC_1_1</th><td>a1_Tany__Astrocytes.none</td></tr>\n",
       "</tbody>\n",
       "</table>\n"
      ],
      "text/latex": [
       "A data.frame: 6 × 1\n",
       "\\begin{tabular}{r|l}\n",
       "  & polar\\_label\\\\\n",
       "  & <chr>\\\\\n",
       "\\hline\n",
       "\tTCAGGTAAGCACCTGC\\_1\\_1 & a1\\_Tany\\_\\_Astrocytes.neg \\\\\n",
       "\tCTACAGACAACTTGCA\\_1\\_1 & a1\\_Tany\\_\\_Astrocytes.none\\\\\n",
       "\tGCAGCTGAGTCACTAC\\_1\\_1 & a1\\_Tany\\_\\_Astrocytes.none\\\\\n",
       "\tAGAGCAGGTCTGATAC\\_1\\_1 & a1\\_Tany\\_\\_Astrocytes.none\\\\\n",
       "\tTTTGGTTTCCCTCTCC\\_1\\_1 & a1\\_Tany\\_\\_Astrocytes.none\\\\\n",
       "\tTGTCCCAAGCATTGTC\\_1\\_1 & a1\\_Tany\\_\\_Astrocytes.none\\\\\n",
       "\\end{tabular}\n"
      ],
      "text/markdown": [
       "\n",
       "A data.frame: 6 × 1\n",
       "\n",
       "| <!--/--> | polar_label &lt;chr&gt; |\n",
       "|---|---|\n",
       "| TCAGGTAAGCACCTGC_1_1 | a1_Tany__Astrocytes.neg  |\n",
       "| CTACAGACAACTTGCA_1_1 | a1_Tany__Astrocytes.none |\n",
       "| GCAGCTGAGTCACTAC_1_1 | a1_Tany__Astrocytes.none |\n",
       "| AGAGCAGGTCTGATAC_1_1 | a1_Tany__Astrocytes.none |\n",
       "| TTTGGTTTCCCTCTCC_1_1 | a1_Tany__Astrocytes.none |\n",
       "| TGTCCCAAGCATTGTC_1_1 | a1_Tany__Astrocytes.none |\n",
       "\n"
      ],
      "text/plain": [
       "                     polar_label             \n",
       "TCAGGTAAGCACCTGC_1_1 a1_Tany__Astrocytes.neg \n",
       "CTACAGACAACTTGCA_1_1 a1_Tany__Astrocytes.none\n",
       "GCAGCTGAGTCACTAC_1_1 a1_Tany__Astrocytes.none\n",
       "AGAGCAGGTCTGATAC_1_1 a1_Tany__Astrocytes.none\n",
       "TTTGGTTTCCCTCTCC_1_1 a1_Tany__Astrocytes.none\n",
       "TGTCCCAAGCATTGTC_1_1 a1_Tany__Astrocytes.none"
      ]
     },
     "metadata": {},
     "output_type": "display_data"
    }
   ],
   "source": [
    "combined_pldf = qs::qread('_targets/objects/combined_pldf_obob5v5')\n",
    "combined_pldf %>% head"
   ]
  },
  {
   "cell_type": "code",
   "execution_count": null,
   "id": "9c1cadc6",
   "metadata": {},
   "outputs": [],
   "source": []
  },
  {
   "cell_type": "code",
   "execution_count": null,
   "id": "daf21e62",
   "metadata": {},
   "outputs": [],
   "source": []
  },
  {
   "cell_type": "code",
   "execution_count": 126,
   "id": "01289004",
   "metadata": {},
   "outputs": [
    {
     "data": {
      "text/html": [
       "<table class=\"dataframe\">\n",
       "<caption>A tibble: 12 × 2</caption>\n",
       "<thead>\n",
       "\t<tr><th scope=col>label</th><th scope=col>n</th></tr>\n",
       "\t<tr><th scope=col>&lt;chr&gt;</th><th scope=col>&lt;int&gt;</th></tr>\n",
       "</thead>\n",
       "<tbody>\n",
       "\t<tr><td>a1_Tany__Astrocytes  </td><td>3</td></tr>\n",
       "\t<tr><td>Agrp                 </td><td>3</td></tr>\n",
       "\t<tr><td>Astrocytes           </td><td>3</td></tr>\n",
       "\t<tr><td>b1_Tanycytes         </td><td>3</td></tr>\n",
       "\t<tr><td>Htr3b                </td><td>3</td></tr>\n",
       "\t<tr><td>MOL                  </td><td>3</td></tr>\n",
       "\t<tr><td>NG2_OPC2             </td><td>3</td></tr>\n",
       "\t<tr><td>Sst_Unc13c__Agrp     </td><td>3</td></tr>\n",
       "\t<tr><td>Trh_Lef1             </td><td>3</td></tr>\n",
       "\t<tr><td>a2_Tanycytes         </td><td>2</td></tr>\n",
       "\t<tr><td>Sst_Pthlh.sc23       </td><td>2</td></tr>\n",
       "\t<tr><td>Unassigned1.sc17.sc28</td><td>2</td></tr>\n",
       "</tbody>\n",
       "</table>\n"
      ],
      "text/latex": [
       "A tibble: 12 × 2\n",
       "\\begin{tabular}{ll}\n",
       " label & n\\\\\n",
       " <chr> & <int>\\\\\n",
       "\\hline\n",
       "\t a1\\_Tany\\_\\_Astrocytes   & 3\\\\\n",
       "\t Agrp                  & 3\\\\\n",
       "\t Astrocytes            & 3\\\\\n",
       "\t b1\\_Tanycytes          & 3\\\\\n",
       "\t Htr3b                 & 3\\\\\n",
       "\t MOL                   & 3\\\\\n",
       "\t NG2\\_OPC2              & 3\\\\\n",
       "\t Sst\\_Unc13c\\_\\_Agrp      & 3\\\\\n",
       "\t Trh\\_Lef1              & 3\\\\\n",
       "\t a2\\_Tanycytes          & 2\\\\\n",
       "\t Sst\\_Pthlh.sc23        & 2\\\\\n",
       "\t Unassigned1.sc17.sc28 & 2\\\\\n",
       "\\end{tabular}\n"
      ],
      "text/markdown": [
       "\n",
       "A tibble: 12 × 2\n",
       "\n",
       "| label &lt;chr&gt; | n &lt;int&gt; |\n",
       "|---|---|\n",
       "| a1_Tany__Astrocytes   | 3 |\n",
       "| Agrp                  | 3 |\n",
       "| Astrocytes            | 3 |\n",
       "| b1_Tanycytes          | 3 |\n",
       "| Htr3b                 | 3 |\n",
       "| MOL                   | 3 |\n",
       "| NG2_OPC2              | 3 |\n",
       "| Sst_Unc13c__Agrp      | 3 |\n",
       "| Trh_Lef1              | 3 |\n",
       "| a2_Tanycytes          | 2 |\n",
       "| Sst_Pthlh.sc23        | 2 |\n",
       "| Unassigned1.sc17.sc28 | 2 |\n",
       "\n"
      ],
      "text/plain": [
       "   label                 n\n",
       "1  a1_Tany__Astrocytes   3\n",
       "2  Agrp                  3\n",
       "3  Astrocytes            3\n",
       "4  b1_Tanycytes          3\n",
       "5  Htr3b                 3\n",
       "6  MOL                   3\n",
       "7  NG2_OPC2              3\n",
       "8  Sst_Unc13c__Agrp      3\n",
       "9  Trh_Lef1              3\n",
       "10 a2_Tanycytes          2\n",
       "11 Sst_Pthlh.sc23        2\n",
       "12 Unassigned1.sc17.sc28 2"
      ]
     },
     "metadata": {},
     "output_type": "display_data"
    }
   ],
   "source": [
    "split_clust_only = combined_pldf %>% \n",
    "tibble %>%\n",
    "mutate(label = str_replace(polar_label, \".none\", \"\")) %>%\n",
    "mutate(label = str_replace(label, \".neg\", \"\")) %>%\n",
    "mutate(label = str_replace(label, \".pos\", \"\")) %>%       \n",
    "mutate(polarity = case_when(str_ends(polar_label, '.none') ~ \"none\",\n",
    "                         str_ends(polar_label, '.pos') ~ \"pos\",\n",
    "                         str_ends(polar_label, '.neg') ~ \"neg\")) %>%\n",
    "distinct\n",
    "\n",
    "split_clust_summary = split_clust_only %>%\n",
    "select(-polar_label) %>% distinct %>%\n",
    "group_by(label) %>%\n",
    "summarise(n = n()) %>%\n",
    "filter(n > 1) %>%\n",
    "arrange(desc(n))\n",
    "\n",
    "split_clust_summary"
   ]
  },
  {
   "cell_type": "code",
   "execution_count": 127,
   "id": "743bf09a",
   "metadata": {},
   "outputs": [
    {
     "data": {
      "text/html": [
       "<table class=\"dataframe\">\n",
       "<caption>A tibble: 12 × 3</caption>\n",
       "<thead>\n",
       "\t<tr><th scope=col>label</th><th scope=col>milo_obj</th><th scope=col>da_results_obj</th></tr>\n",
       "\t<tr><th scope=col>&lt;chr&gt;</th><th scope=col>&lt;list&gt;</th><th scope=col>&lt;list&gt;</th></tr>\n",
       "</thead>\n",
       "<tbody>\n",
       "\t<tr><td>a1_Tany__Astrocytes  </td><td>milo_a1_Tany__Astrocytes</td><td>da_results_02_a1_Tany__Astrocytes___obob5v5</td></tr>\n",
       "\t<tr><td>Agrp                 </td><td>milo_Agrp</td><td>da_results_02_Agrp___obob5v5</td></tr>\n",
       "\t<tr><td>Astrocytes           </td><td>milo_Astrocytes</td><td>da_results_02_Astrocytes___obob5v5</td></tr>\n",
       "\t<tr><td>b1_Tanycytes         </td><td>milo_b1_Tanycytes</td><td>da_results_02_b1_Tanycytes___obob5v5</td></tr>\n",
       "\t<tr><td>Htr3b                </td><td>milo_Htr3b</td><td>da_results_02_Htr3b___obob5v5</td></tr>\n",
       "\t<tr><td>MOL                  </td><td>milo_MOL</td><td>da_results_02_MOL___obob5v5</td></tr>\n",
       "\t<tr><td>NG2_OPC2             </td><td>milo_NG2_OPC2</td><td>da_results_02_NG2_OPC2___obob5v5</td></tr>\n",
       "\t<tr><td>Sst_Unc13c__Agrp     </td><td>milo_Sst_Unc13c__Agrp</td><td>da_results_02_Sst_Unc13c__Agrp___obob5v5</td></tr>\n",
       "\t<tr><td>Trh_Lef1             </td><td>milo_Trh_Lef1</td><td>da_results_02_Trh_Lef1___obob5v5</td></tr>\n",
       "\t<tr><td>a2_Tanycytes         </td><td>milo_a2_Tanycytes</td><td>da_results_02_a2_Tanycytes___obob5v5</td></tr>\n",
       "\t<tr><td>Sst_Pthlh.sc23       </td><td>milo_Sst_Pthlh.sc23</td><td>da_results_02_Sst_Pthlh.sc23___obob5v5</td></tr>\n",
       "\t<tr><td>Unassigned1.sc17.sc28</td><td>milo_Unassigned1.sc17.sc28</td><td>da_results_02_Unassigned1.sc17.sc28___obob5v5</td></tr>\n",
       "</tbody>\n",
       "</table>\n"
      ],
      "text/latex": [
       "A tibble: 12 × 3\n",
       "\\begin{tabular}{lll}\n",
       " label & milo\\_obj & da\\_results\\_obj\\\\\n",
       " <chr> & <list> & <list>\\\\\n",
       "\\hline\n",
       "\t a1\\_Tany\\_\\_Astrocytes   & milo\\_a1\\_Tany\\_\\_Astrocytes & da\\_results\\_02\\_a1\\_Tany\\_\\_Astrocytes\\_\\_\\_obob5v5\\\\\n",
       "\t Agrp                  & milo\\_Agrp & da\\_results\\_02\\_Agrp\\_\\_\\_obob5v5\\\\\n",
       "\t Astrocytes            & milo\\_Astrocytes & da\\_results\\_02\\_Astrocytes\\_\\_\\_obob5v5\\\\\n",
       "\t b1\\_Tanycytes          & milo\\_b1\\_Tanycytes & da\\_results\\_02\\_b1\\_Tanycytes\\_\\_\\_obob5v5\\\\\n",
       "\t Htr3b                 & milo\\_Htr3b & da\\_results\\_02\\_Htr3b\\_\\_\\_obob5v5\\\\\n",
       "\t MOL                   & milo\\_MOL & da\\_results\\_02\\_MOL\\_\\_\\_obob5v5\\\\\n",
       "\t NG2\\_OPC2              & milo\\_NG2\\_OPC2 & da\\_results\\_02\\_NG2\\_OPC2\\_\\_\\_obob5v5\\\\\n",
       "\t Sst\\_Unc13c\\_\\_Agrp      & milo\\_Sst\\_Unc13c\\_\\_Agrp & da\\_results\\_02\\_Sst\\_Unc13c\\_\\_Agrp\\_\\_\\_obob5v5\\\\\n",
       "\t Trh\\_Lef1              & milo\\_Trh\\_Lef1 & da\\_results\\_02\\_Trh\\_Lef1\\_\\_\\_obob5v5\\\\\n",
       "\t a2\\_Tanycytes          & milo\\_a2\\_Tanycytes & da\\_results\\_02\\_a2\\_Tanycytes\\_\\_\\_obob5v5\\\\\n",
       "\t Sst\\_Pthlh.sc23        & milo\\_Sst\\_Pthlh.sc23 & da\\_results\\_02\\_Sst\\_Pthlh.sc23\\_\\_\\_obob5v5\\\\\n",
       "\t Unassigned1.sc17.sc28 & milo\\_Unassigned1.sc17.sc28 & da\\_results\\_02\\_Unassigned1.sc17.sc28\\_\\_\\_obob5v5\\\\\n",
       "\\end{tabular}\n"
      ],
      "text/markdown": [
       "\n",
       "A tibble: 12 × 3\n",
       "\n",
       "| label &lt;chr&gt; | milo_obj &lt;list&gt; | da_results_obj &lt;list&gt; |\n",
       "|---|---|---|\n",
       "| a1_Tany__Astrocytes   | milo_a1_Tany__Astrocytes | da_results_02_a1_Tany__Astrocytes___obob5v5 |\n",
       "| Agrp                  | milo_Agrp | da_results_02_Agrp___obob5v5 |\n",
       "| Astrocytes            | milo_Astrocytes | da_results_02_Astrocytes___obob5v5 |\n",
       "| b1_Tanycytes          | milo_b1_Tanycytes | da_results_02_b1_Tanycytes___obob5v5 |\n",
       "| Htr3b                 | milo_Htr3b | da_results_02_Htr3b___obob5v5 |\n",
       "| MOL                   | milo_MOL | da_results_02_MOL___obob5v5 |\n",
       "| NG2_OPC2              | milo_NG2_OPC2 | da_results_02_NG2_OPC2___obob5v5 |\n",
       "| Sst_Unc13c__Agrp      | milo_Sst_Unc13c__Agrp | da_results_02_Sst_Unc13c__Agrp___obob5v5 |\n",
       "| Trh_Lef1              | milo_Trh_Lef1 | da_results_02_Trh_Lef1___obob5v5 |\n",
       "| a2_Tanycytes          | milo_a2_Tanycytes | da_results_02_a2_Tanycytes___obob5v5 |\n",
       "| Sst_Pthlh.sc23        | milo_Sst_Pthlh.sc23 | da_results_02_Sst_Pthlh.sc23___obob5v5 |\n",
       "| Unassigned1.sc17.sc28 | milo_Unassigned1.sc17.sc28 | da_results_02_Unassigned1.sc17.sc28___obob5v5 |\n",
       "\n"
      ],
      "text/plain": [
       "   label                 milo_obj                  \n",
       "1  a1_Tany__Astrocytes   milo_a1_Tany__Astrocytes  \n",
       "2  Agrp                  milo_Agrp                 \n",
       "3  Astrocytes            milo_Astrocytes           \n",
       "4  b1_Tanycytes          milo_b1_Tanycytes         \n",
       "5  Htr3b                 milo_Htr3b                \n",
       "6  MOL                   milo_MOL                  \n",
       "7  NG2_OPC2              milo_NG2_OPC2             \n",
       "8  Sst_Unc13c__Agrp      milo_Sst_Unc13c__Agrp     \n",
       "9  Trh_Lef1              milo_Trh_Lef1             \n",
       "10 a2_Tanycytes          milo_a2_Tanycytes         \n",
       "11 Sst_Pthlh.sc23        milo_Sst_Pthlh.sc23       \n",
       "12 Unassigned1.sc17.sc28 milo_Unassigned1.sc17.sc28\n",
       "   da_results_obj                               \n",
       "1  da_results_02_a1_Tany__Astrocytes___obob5v5  \n",
       "2  da_results_02_Agrp___obob5v5                 \n",
       "3  da_results_02_Astrocytes___obob5v5           \n",
       "4  da_results_02_b1_Tanycytes___obob5v5         \n",
       "5  da_results_02_Htr3b___obob5v5                \n",
       "6  da_results_02_MOL___obob5v5                  \n",
       "7  da_results_02_NG2_OPC2___obob5v5             \n",
       "8  da_results_02_Sst_Unc13c__Agrp___obob5v5     \n",
       "9  da_results_02_Trh_Lef1___obob5v5             \n",
       "10 da_results_02_a2_Tanycytes___obob5v5         \n",
       "11 da_results_02_Sst_Pthlh.sc23___obob5v5       \n",
       "12 da_results_02_Unassigned1.sc17.sc28___obob5v5"
      ]
     },
     "metadata": {},
     "output_type": "display_data"
    }
   ],
   "source": [
    "milo_ngo_tibble = tibble(label = split_clust_summary$label)\n",
    "milo_ngo_tibble$milo_obj = milo_ngo_tibble %>%\n",
    "    pull(label) %>%\n",
    "    paste0(\"milo_\", .) %>%\n",
    "    rlang::syms()\n",
    "milo_ngo_tibble$da_results_obj = milo_ngo_tibble %>%\n",
    "    pull(label) %>%\n",
    "    paste0(\"da_results_02_\", ., \"___obob5v5\") %>%\n",
    "    rlang::syms()\n",
    "milo_ngo_tibble"
   ]
  },
  {
   "cell_type": "code",
   "execution_count": 128,
   "id": "63745ff8",
   "metadata": {},
   "outputs": [],
   "source": [
    "qs::qsave(milo_ngo_tibble, 'milo_ngo_tibble.qs')"
   ]
  },
  {
   "cell_type": "code",
   "execution_count": 129,
   "id": "f9a9f406",
   "metadata": {},
   "outputs": [
    {
     "data": {
      "text/html": [
       "<style>\n",
       ".list-inline {list-style: none; margin:0; padding: 0}\n",
       ".list-inline>li {display: inline-block}\n",
       ".list-inline>li:not(:last-child)::after {content: \"\\00b7\"; padding: 0 .5ex}\n",
       "</style>\n",
       "<ol class=list-inline><li>neg</li><li>none</li><li>pos</li></ol>\n",
       "\n",
       "<details>\n",
       "\t<summary style=display:list-item;cursor:pointer>\n",
       "\t\t<strong>Levels</strong>:\n",
       "\t</summary>\n",
       "\t<style>\n",
       "\t.list-inline {list-style: none; margin:0; padding: 0}\n",
       "\t.list-inline>li {display: inline-block}\n",
       "\t.list-inline>li:not(:last-child)::after {content: \"\\00b7\"; padding: 0 .5ex}\n",
       "\t</style>\n",
       "\t<ol class=list-inline><li>'pos'</li><li>'neg'</li><li>'none'</li></ol>\n",
       "</details>"
      ],
      "text/latex": [
       "\\begin{enumerate*}\n",
       "\\item neg\n",
       "\\item none\n",
       "\\item pos\n",
       "\\end{enumerate*}\n",
       "\n",
       "\\emph{Levels}: \\begin{enumerate*}\n",
       "\\item 'pos'\n",
       "\\item 'neg'\n",
       "\\item 'none'\n",
       "\\end{enumerate*}\n"
      ],
      "text/markdown": [
       "1. neg\n",
       "2. none\n",
       "3. pos\n",
       "\n",
       "\n",
       "\n",
       "**Levels**: 1. 'pos'\n",
       "2. 'neg'\n",
       "3. 'none'\n",
       "\n",
       "\n"
      ],
      "text/plain": [
       "[1] neg  none pos \n",
       "Levels: pos neg none"
      ]
     },
     "metadata": {},
     "output_type": "display_data"
    }
   ],
   "source": [
    "a = factor(c('neg', 'none', 'pos'), levels=c('pos', 'neg', 'none'))\n",
    "a"
   ]
  },
  {
   "cell_type": "code",
   "execution_count": 130,
   "id": "67ca77db",
   "metadata": {},
   "outputs": [
    {
     "data": {
      "text/html": [
       "<style>\n",
       ".list-inline {list-style: none; margin:0; padding: 0}\n",
       ".list-inline>li {display: inline-block}\n",
       ".list-inline>li:not(:last-child)::after {content: \"\\00b7\"; padding: 0 .5ex}\n",
       "</style>\n",
       "<ol class=list-inline><li>pos</li><li>neg</li><li>none</li></ol>\n",
       "\n",
       "<details>\n",
       "\t<summary style=display:list-item;cursor:pointer>\n",
       "\t\t<strong>Levels</strong>:\n",
       "\t</summary>\n",
       "\t<style>\n",
       "\t.list-inline {list-style: none; margin:0; padding: 0}\n",
       "\t.list-inline>li {display: inline-block}\n",
       "\t.list-inline>li:not(:last-child)::after {content: \"\\00b7\"; padding: 0 .5ex}\n",
       "\t</style>\n",
       "\t<ol class=list-inline><li>'pos'</li><li>'neg'</li><li>'none'</li></ol>\n",
       "</details>"
      ],
      "text/latex": [
       "\\begin{enumerate*}\n",
       "\\item pos\n",
       "\\item neg\n",
       "\\item none\n",
       "\\end{enumerate*}\n",
       "\n",
       "\\emph{Levels}: \\begin{enumerate*}\n",
       "\\item 'pos'\n",
       "\\item 'neg'\n",
       "\\item 'none'\n",
       "\\end{enumerate*}\n"
      ],
      "text/markdown": [
       "1. pos\n",
       "2. neg\n",
       "3. none\n",
       "\n",
       "\n",
       "\n",
       "**Levels**: 1. 'pos'\n",
       "2. 'neg'\n",
       "3. 'none'\n",
       "\n",
       "\n"
      ],
      "text/plain": [
       "[1] pos  neg  none\n",
       "Levels: pos neg none"
      ]
     },
     "metadata": {},
     "output_type": "display_data"
    }
   ],
   "source": [
    "sort(a)"
   ]
  },
  {
   "cell_type": "code",
   "execution_count": 131,
   "id": "c2d6cff8",
   "metadata": {},
   "outputs": [
    {
     "data": {
      "text/html": [
       "<table class=\"dataframe\">\n",
       "<caption>A tibble: 12 × 2</caption>\n",
       "<thead>\n",
       "\t<tr><th scope=col>label</th><th scope=col>polarity_comparison</th></tr>\n",
       "\t<tr><th scope=col>&lt;chr&gt;</th><th scope=col>&lt;chr&gt;</th></tr>\n",
       "</thead>\n",
       "<tbody>\n",
       "\t<tr><td>a1_Tany__Astrocytes  </td><td>pos.neg </td></tr>\n",
       "\t<tr><td>a2_Tanycytes         </td><td>pos.none</td></tr>\n",
       "\t<tr><td>Agrp                 </td><td>pos.neg </td></tr>\n",
       "\t<tr><td>Astrocytes           </td><td>pos.neg </td></tr>\n",
       "\t<tr><td>b1_Tanycytes         </td><td>pos.neg </td></tr>\n",
       "\t<tr><td>Htr3b                </td><td>pos.neg </td></tr>\n",
       "\t<tr><td>MOL                  </td><td>pos.neg </td></tr>\n",
       "\t<tr><td>NG2_OPC2             </td><td>pos.neg </td></tr>\n",
       "\t<tr><td>Sst_Pthlh.sc23       </td><td>pos.none</td></tr>\n",
       "\t<tr><td>Sst_Unc13c__Agrp     </td><td>pos.neg </td></tr>\n",
       "\t<tr><td>Trh_Lef1             </td><td>pos.neg </td></tr>\n",
       "\t<tr><td>Unassigned1.sc17.sc28</td><td>pos.none</td></tr>\n",
       "</tbody>\n",
       "</table>\n"
      ],
      "text/latex": [
       "A tibble: 12 × 2\n",
       "\\begin{tabular}{ll}\n",
       " label & polarity\\_comparison\\\\\n",
       " <chr> & <chr>\\\\\n",
       "\\hline\n",
       "\t a1\\_Tany\\_\\_Astrocytes   & pos.neg \\\\\n",
       "\t a2\\_Tanycytes          & pos.none\\\\\n",
       "\t Agrp                  & pos.neg \\\\\n",
       "\t Astrocytes            & pos.neg \\\\\n",
       "\t b1\\_Tanycytes          & pos.neg \\\\\n",
       "\t Htr3b                 & pos.neg \\\\\n",
       "\t MOL                   & pos.neg \\\\\n",
       "\t NG2\\_OPC2              & pos.neg \\\\\n",
       "\t Sst\\_Pthlh.sc23        & pos.none\\\\\n",
       "\t Sst\\_Unc13c\\_\\_Agrp      & pos.neg \\\\\n",
       "\t Trh\\_Lef1              & pos.neg \\\\\n",
       "\t Unassigned1.sc17.sc28 & pos.none\\\\\n",
       "\\end{tabular}\n"
      ],
      "text/markdown": [
       "\n",
       "A tibble: 12 × 2\n",
       "\n",
       "| label &lt;chr&gt; | polarity_comparison &lt;chr&gt; |\n",
       "|---|---|\n",
       "| a1_Tany__Astrocytes   | pos.neg  |\n",
       "| a2_Tanycytes          | pos.none |\n",
       "| Agrp                  | pos.neg  |\n",
       "| Astrocytes            | pos.neg  |\n",
       "| b1_Tanycytes          | pos.neg  |\n",
       "| Htr3b                 | pos.neg  |\n",
       "| MOL                   | pos.neg  |\n",
       "| NG2_OPC2              | pos.neg  |\n",
       "| Sst_Pthlh.sc23        | pos.none |\n",
       "| Sst_Unc13c__Agrp      | pos.neg  |\n",
       "| Trh_Lef1              | pos.neg  |\n",
       "| Unassigned1.sc17.sc28 | pos.none |\n",
       "\n"
      ],
      "text/plain": [
       "   label                 polarity_comparison\n",
       "1  a1_Tany__Astrocytes   pos.neg            \n",
       "2  a2_Tanycytes          pos.none           \n",
       "3  Agrp                  pos.neg            \n",
       "4  Astrocytes            pos.neg            \n",
       "5  b1_Tanycytes          pos.neg            \n",
       "6  Htr3b                 pos.neg            \n",
       "7  MOL                   pos.neg            \n",
       "8  NG2_OPC2              pos.neg            \n",
       "9  Sst_Pthlh.sc23        pos.none           \n",
       "10 Sst_Unc13c__Agrp      pos.neg            \n",
       "11 Trh_Lef1              pos.neg            \n",
       "12 Unassigned1.sc17.sc28 pos.none           "
      ]
     },
     "metadata": {},
     "output_type": "display_data"
    }
   ],
   "source": [
    "# select only one pair of polarities to test for\n",
    "# if all three present, select pos.neg\n",
    "# otherwise selection is made already\n",
    "\n",
    "polarity_comparison_tibble = split_clust_only %>%\n",
    "filter(label %in% split_clust_summary$label) %>%\n",
    "select(-polar_label) %>%\n",
    "group_by(label) %>%\n",
    "mutate(polarity = factor(polarity, levels=c('pos', 'neg', 'none'))) %>%\n",
    "group_by(label) %>%\n",
    "mutate(polarity_comparison = paste0(sort(polarity)[1:2], collapse='.')) %>%\n",
    "select(-polarity) %>%\n",
    "distinct %>% tibble\n",
    "polarity_comparison_tibble"
   ]
  },
  {
   "cell_type": "code",
   "execution_count": 132,
   "id": "4476db43",
   "metadata": {},
   "outputs": [
    {
     "data": {
      "text/html": [
       "<table class=\"dataframe\">\n",
       "<caption>A tibble: 12 × 4</caption>\n",
       "<thead>\n",
       "\t<tr><th scope=col>label</th><th scope=col>milo_obj</th><th scope=col>da_results_obj</th><th scope=col>polarity_comparison</th></tr>\n",
       "\t<tr><th scope=col>&lt;chr&gt;</th><th scope=col>&lt;list&gt;</th><th scope=col>&lt;list&gt;</th><th scope=col>&lt;chr&gt;</th></tr>\n",
       "</thead>\n",
       "<tbody>\n",
       "\t<tr><td>a1_Tany__Astrocytes  </td><td>milo_a1_Tany__Astrocytes</td><td>da_results_02_a1_Tany__Astrocytes___obob5v5</td><td>pos.neg </td></tr>\n",
       "\t<tr><td>Agrp                 </td><td>milo_Agrp</td><td>da_results_02_Agrp___obob5v5</td><td>pos.neg </td></tr>\n",
       "\t<tr><td>Astrocytes           </td><td>milo_Astrocytes</td><td>da_results_02_Astrocytes___obob5v5</td><td>pos.neg </td></tr>\n",
       "\t<tr><td>b1_Tanycytes         </td><td>milo_b1_Tanycytes</td><td>da_results_02_b1_Tanycytes___obob5v5</td><td>pos.neg </td></tr>\n",
       "\t<tr><td>Htr3b                </td><td>milo_Htr3b</td><td>da_results_02_Htr3b___obob5v5</td><td>pos.neg </td></tr>\n",
       "\t<tr><td>MOL                  </td><td>milo_MOL</td><td>da_results_02_MOL___obob5v5</td><td>pos.neg </td></tr>\n",
       "\t<tr><td>NG2_OPC2             </td><td>milo_NG2_OPC2</td><td>da_results_02_NG2_OPC2___obob5v5</td><td>pos.neg </td></tr>\n",
       "\t<tr><td>Sst_Unc13c__Agrp     </td><td>milo_Sst_Unc13c__Agrp</td><td>da_results_02_Sst_Unc13c__Agrp___obob5v5</td><td>pos.neg </td></tr>\n",
       "\t<tr><td>Trh_Lef1             </td><td>milo_Trh_Lef1</td><td>da_results_02_Trh_Lef1___obob5v5</td><td>pos.neg </td></tr>\n",
       "\t<tr><td>a2_Tanycytes         </td><td>milo_a2_Tanycytes</td><td>da_results_02_a2_Tanycytes___obob5v5</td><td>pos.none</td></tr>\n",
       "\t<tr><td>Sst_Pthlh.sc23       </td><td>milo_Sst_Pthlh.sc23</td><td>da_results_02_Sst_Pthlh.sc23___obob5v5</td><td>pos.none</td></tr>\n",
       "\t<tr><td>Unassigned1.sc17.sc28</td><td>milo_Unassigned1.sc17.sc28</td><td>da_results_02_Unassigned1.sc17.sc28___obob5v5</td><td>pos.none</td></tr>\n",
       "</tbody>\n",
       "</table>\n"
      ],
      "text/latex": [
       "A tibble: 12 × 4\n",
       "\\begin{tabular}{llll}\n",
       " label & milo\\_obj & da\\_results\\_obj & polarity\\_comparison\\\\\n",
       " <chr> & <list> & <list> & <chr>\\\\\n",
       "\\hline\n",
       "\t a1\\_Tany\\_\\_Astrocytes   & milo\\_a1\\_Tany\\_\\_Astrocytes & da\\_results\\_02\\_a1\\_Tany\\_\\_Astrocytes\\_\\_\\_obob5v5 & pos.neg \\\\\n",
       "\t Agrp                  & milo\\_Agrp & da\\_results\\_02\\_Agrp\\_\\_\\_obob5v5 & pos.neg \\\\\n",
       "\t Astrocytes            & milo\\_Astrocytes & da\\_results\\_02\\_Astrocytes\\_\\_\\_obob5v5 & pos.neg \\\\\n",
       "\t b1\\_Tanycytes          & milo\\_b1\\_Tanycytes & da\\_results\\_02\\_b1\\_Tanycytes\\_\\_\\_obob5v5 & pos.neg \\\\\n",
       "\t Htr3b                 & milo\\_Htr3b & da\\_results\\_02\\_Htr3b\\_\\_\\_obob5v5 & pos.neg \\\\\n",
       "\t MOL                   & milo\\_MOL & da\\_results\\_02\\_MOL\\_\\_\\_obob5v5 & pos.neg \\\\\n",
       "\t NG2\\_OPC2              & milo\\_NG2\\_OPC2 & da\\_results\\_02\\_NG2\\_OPC2\\_\\_\\_obob5v5 & pos.neg \\\\\n",
       "\t Sst\\_Unc13c\\_\\_Agrp      & milo\\_Sst\\_Unc13c\\_\\_Agrp & da\\_results\\_02\\_Sst\\_Unc13c\\_\\_Agrp\\_\\_\\_obob5v5 & pos.neg \\\\\n",
       "\t Trh\\_Lef1              & milo\\_Trh\\_Lef1 & da\\_results\\_02\\_Trh\\_Lef1\\_\\_\\_obob5v5 & pos.neg \\\\\n",
       "\t a2\\_Tanycytes          & milo\\_a2\\_Tanycytes & da\\_results\\_02\\_a2\\_Tanycytes\\_\\_\\_obob5v5 & pos.none\\\\\n",
       "\t Sst\\_Pthlh.sc23        & milo\\_Sst\\_Pthlh.sc23 & da\\_results\\_02\\_Sst\\_Pthlh.sc23\\_\\_\\_obob5v5 & pos.none\\\\\n",
       "\t Unassigned1.sc17.sc28 & milo\\_Unassigned1.sc17.sc28 & da\\_results\\_02\\_Unassigned1.sc17.sc28\\_\\_\\_obob5v5 & pos.none\\\\\n",
       "\\end{tabular}\n"
      ],
      "text/markdown": [
       "\n",
       "A tibble: 12 × 4\n",
       "\n",
       "| label &lt;chr&gt; | milo_obj &lt;list&gt; | da_results_obj &lt;list&gt; | polarity_comparison &lt;chr&gt; |\n",
       "|---|---|---|---|\n",
       "| a1_Tany__Astrocytes   | milo_a1_Tany__Astrocytes | da_results_02_a1_Tany__Astrocytes___obob5v5 | pos.neg  |\n",
       "| Agrp                  | milo_Agrp | da_results_02_Agrp___obob5v5 | pos.neg  |\n",
       "| Astrocytes            | milo_Astrocytes | da_results_02_Astrocytes___obob5v5 | pos.neg  |\n",
       "| b1_Tanycytes          | milo_b1_Tanycytes | da_results_02_b1_Tanycytes___obob5v5 | pos.neg  |\n",
       "| Htr3b                 | milo_Htr3b | da_results_02_Htr3b___obob5v5 | pos.neg  |\n",
       "| MOL                   | milo_MOL | da_results_02_MOL___obob5v5 | pos.neg  |\n",
       "| NG2_OPC2              | milo_NG2_OPC2 | da_results_02_NG2_OPC2___obob5v5 | pos.neg  |\n",
       "| Sst_Unc13c__Agrp      | milo_Sst_Unc13c__Agrp | da_results_02_Sst_Unc13c__Agrp___obob5v5 | pos.neg  |\n",
       "| Trh_Lef1              | milo_Trh_Lef1 | da_results_02_Trh_Lef1___obob5v5 | pos.neg  |\n",
       "| a2_Tanycytes          | milo_a2_Tanycytes | da_results_02_a2_Tanycytes___obob5v5 | pos.none |\n",
       "| Sst_Pthlh.sc23        | milo_Sst_Pthlh.sc23 | da_results_02_Sst_Pthlh.sc23___obob5v5 | pos.none |\n",
       "| Unassigned1.sc17.sc28 | milo_Unassigned1.sc17.sc28 | da_results_02_Unassigned1.sc17.sc28___obob5v5 | pos.none |\n",
       "\n"
      ],
      "text/plain": [
       "   label                 milo_obj                  \n",
       "1  a1_Tany__Astrocytes   milo_a1_Tany__Astrocytes  \n",
       "2  Agrp                  milo_Agrp                 \n",
       "3  Astrocytes            milo_Astrocytes           \n",
       "4  b1_Tanycytes          milo_b1_Tanycytes         \n",
       "5  Htr3b                 milo_Htr3b                \n",
       "6  MOL                   milo_MOL                  \n",
       "7  NG2_OPC2              milo_NG2_OPC2             \n",
       "8  Sst_Unc13c__Agrp      milo_Sst_Unc13c__Agrp     \n",
       "9  Trh_Lef1              milo_Trh_Lef1             \n",
       "10 a2_Tanycytes          milo_a2_Tanycytes         \n",
       "11 Sst_Pthlh.sc23        milo_Sst_Pthlh.sc23       \n",
       "12 Unassigned1.sc17.sc28 milo_Unassigned1.sc17.sc28\n",
       "   da_results_obj                                polarity_comparison\n",
       "1  da_results_02_a1_Tany__Astrocytes___obob5v5   pos.neg            \n",
       "2  da_results_02_Agrp___obob5v5                  pos.neg            \n",
       "3  da_results_02_Astrocytes___obob5v5            pos.neg            \n",
       "4  da_results_02_b1_Tanycytes___obob5v5          pos.neg            \n",
       "5  da_results_02_Htr3b___obob5v5                 pos.neg            \n",
       "6  da_results_02_MOL___obob5v5                   pos.neg            \n",
       "7  da_results_02_NG2_OPC2___obob5v5              pos.neg            \n",
       "8  da_results_02_Sst_Unc13c__Agrp___obob5v5      pos.neg            \n",
       "9  da_results_02_Trh_Lef1___obob5v5              pos.neg            \n",
       "10 da_results_02_a2_Tanycytes___obob5v5          pos.none           \n",
       "11 da_results_02_Sst_Pthlh.sc23___obob5v5        pos.none           \n",
       "12 da_results_02_Unassigned1.sc17.sc28___obob5v5 pos.none           "
      ]
     },
     "metadata": {},
     "output_type": "display_data"
    }
   ],
   "source": [
    "milo_ngo_tibble = left_join(milo_ngo_tibble, polarity_comparison_tibble, by = 'label')\n",
    "milo_ngo_tibble"
   ]
  },
  {
   "cell_type": "code",
   "execution_count": 133,
   "id": "bd03e2ae",
   "metadata": {},
   "outputs": [],
   "source": [
    "qs::qsave(milo_ngo_tibble, 'milo_ngo_tibble.qs')"
   ]
  },
  {
   "cell_type": "code",
   "execution_count": 140,
   "id": "18dda534",
   "metadata": {},
   "outputs": [
    {
     "data": {
      "text/html": [
       "<style>\n",
       ".list-inline {list-style: none; margin:0; padding: 0}\n",
       ".list-inline>li {display: inline-block}\n",
       ".list-inline>li:not(:last-child)::after {content: \"\\00b7\"; padding: 0 .5ex}\n",
       "</style>\n",
       "<ol class=list-inline><li>'pos'</li><li>'neg'</li><li>'pos'</li><li>'neg'</li><li>'pos'</li><li>'neg'</li><li>'pos'</li><li>'neg'</li><li>'pos'</li><li>'neg'</li><li>'pos'</li><li>'neg'</li><li>'pos'</li><li>'neg'</li><li>'pos'</li><li>'neg'</li><li>'pos'</li><li>'neg'</li><li>'pos'</li><li>'none'</li><li>'pos'</li><li>'none'</li><li>'pos'</li><li>'none'</li></ol>\n"
      ],
      "text/latex": [
       "\\begin{enumerate*}\n",
       "\\item 'pos'\n",
       "\\item 'neg'\n",
       "\\item 'pos'\n",
       "\\item 'neg'\n",
       "\\item 'pos'\n",
       "\\item 'neg'\n",
       "\\item 'pos'\n",
       "\\item 'neg'\n",
       "\\item 'pos'\n",
       "\\item 'neg'\n",
       "\\item 'pos'\n",
       "\\item 'neg'\n",
       "\\item 'pos'\n",
       "\\item 'neg'\n",
       "\\item 'pos'\n",
       "\\item 'neg'\n",
       "\\item 'pos'\n",
       "\\item 'neg'\n",
       "\\item 'pos'\n",
       "\\item 'none'\n",
       "\\item 'pos'\n",
       "\\item 'none'\n",
       "\\item 'pos'\n",
       "\\item 'none'\n",
       "\\end{enumerate*}\n"
      ],
      "text/markdown": [
       "1. 'pos'\n",
       "2. 'neg'\n",
       "3. 'pos'\n",
       "4. 'neg'\n",
       "5. 'pos'\n",
       "6. 'neg'\n",
       "7. 'pos'\n",
       "8. 'neg'\n",
       "9. 'pos'\n",
       "10. 'neg'\n",
       "11. 'pos'\n",
       "12. 'neg'\n",
       "13. 'pos'\n",
       "14. 'neg'\n",
       "15. 'pos'\n",
       "16. 'neg'\n",
       "17. 'pos'\n",
       "18. 'neg'\n",
       "19. 'pos'\n",
       "20. 'none'\n",
       "21. 'pos'\n",
       "22. 'none'\n",
       "23. 'pos'\n",
       "24. 'none'\n",
       "\n",
       "\n"
      ],
      "text/plain": [
       " [1] \"pos\"  \"neg\"  \"pos\"  \"neg\"  \"pos\"  \"neg\"  \"pos\"  \"neg\"  \"pos\"  \"neg\" \n",
       "[11] \"pos\"  \"neg\"  \"pos\"  \"neg\"  \"pos\"  \"neg\"  \"pos\"  \"neg\"  \"pos\"  \"none\"\n",
       "[21] \"pos\"  \"none\" \"pos\"  \"none\""
      ]
     },
     "metadata": {},
     "output_type": "display_data"
    }
   ],
   "source": [
    "milo_ngo_tibble %>% pull(polarity_comparison) %>% str_split(pattern=fixed('.')) %>% unlist()"
   ]
  },
  {
   "cell_type": "code",
   "execution_count": 139,
   "id": "e3a8b235",
   "metadata": {},
   "outputs": [
    {
     "data": {
      "text/html": [
       "<style>\n",
       ".list-inline {list-style: none; margin:0; padding: 0}\n",
       ".list-inline>li {display: inline-block}\n",
       ".list-inline>li:not(:last-child)::after {content: \"\\00b7\"; padding: 0 .5ex}\n",
       "</style>\n",
       "<ol class=list-inline><li>'pos'</li><li>'neg'</li></ol>\n"
      ],
      "text/latex": [
       "\\begin{enumerate*}\n",
       "\\item 'pos'\n",
       "\\item 'neg'\n",
       "\\end{enumerate*}\n"
      ],
      "text/markdown": [
       "1. 'pos'\n",
       "2. 'neg'\n",
       "\n",
       "\n"
      ],
      "text/plain": [
       "[1] \"pos\" \"neg\""
      ]
     },
     "metadata": {},
     "output_type": "display_data"
    }
   ],
   "source": [
    "str_split('pos.neg', pattern=fixed('.')) %>% unlist"
   ]
  },
  {
   "cell_type": "code",
   "execution_count": null,
   "id": "985dbceb",
   "metadata": {},
   "outputs": [],
   "source": []
  }
 ],
 "metadata": {
  "kernelspec": {
   "display_name": "R [conda env:fgf1_ygg]",
   "language": "R",
   "name": "conda-env-fgf1_ygg-r"
  },
  "language_info": {
   "codemirror_mode": "r",
   "file_extension": ".r",
   "mimetype": "text/x-r-source",
   "name": "R",
   "pygments_lexer": "r",
   "version": "4.1.3"
  }
 },
 "nbformat": 4,
 "nbformat_minor": 5
}
