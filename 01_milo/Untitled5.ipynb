{
 "cells": [
  {
   "cell_type": "code",
   "execution_count": 62,
   "id": "2a5c2eb9",
   "metadata": {},
   "outputs": [],
   "source": [
    "library(tidyverse)\n",
    "library(glue)\n",
    "library(writexl)"
   ]
  },
  {
   "cell_type": "code",
   "execution_count": 70,
   "id": "b92ad50c",
   "metadata": {},
   "outputs": [
    {
     "data": {
      "text/html": [
       "<style>\n",
       ".list-inline {list-style: none; margin:0; padding: 0}\n",
       ".list-inline>li {display: inline-block}\n",
       ".list-inline>li:not(:last-child)::after {content: \"\\00b7\"; padding: 0 .5ex}\n",
       "</style>\n",
       "<ol class=list-inline><li>8829</li><li>39</li></ol>\n"
      ],
      "text/latex": [
       "\\begin{enumerate*}\n",
       "\\item 8829\n",
       "\\item 39\n",
       "\\end{enumerate*}\n"
      ],
      "text/markdown": [
       "1. 8829\n",
       "2. 39\n",
       "\n",
       "\n"
      ],
      "text/plain": [
       "[1] 8829   39"
      ]
     },
     "metadata": {},
     "output_type": "display_data"
    },
    {
     "data": {
      "text/html": [
       "<table class=\"dataframe\">\n",
       "<caption>A data.frame: 6 × 39</caption>\n",
       "<thead>\n",
       "\t<tr><th></th><th scope=col>logFC</th><th scope=col>logCPM</th><th scope=col>F</th><th scope=col>PValue</th><th scope=col>FDR</th><th scope=col>Nhood</th><th scope=col>SpatialFDR</th><th scope=col>polarity</th><th scope=col>labels</th><th scope=col>time</th><th scope=col>⋯</th><th scope=col>F_bl6</th><th scope=col>PValue_bl6</th><th scope=col>FDR_bl6</th><th scope=col>SpatialFDR_bl6</th><th scope=col>polarity_bl6</th><th scope=col>labels_fraction_bl6</th><th scope=col>n_cells_bl6</th><th scope=col>class</th><th scope=col>UMAP_1</th><th scope=col>UMAP_2</th></tr>\n",
       "\t<tr><th></th><th scope=col>&lt;dbl&gt;</th><th scope=col>&lt;dbl&gt;</th><th scope=col>&lt;dbl&gt;</th><th scope=col>&lt;dbl&gt;</th><th scope=col>&lt;dbl&gt;</th><th scope=col>&lt;dbl&gt;</th><th scope=col>&lt;dbl&gt;</th><th scope=col>&lt;chr&gt;</th><th scope=col>&lt;chr&gt;</th><th scope=col>&lt;chr&gt;</th><th scope=col>⋯</th><th scope=col>&lt;dbl&gt;</th><th scope=col>&lt;dbl&gt;</th><th scope=col>&lt;dbl&gt;</th><th scope=col>&lt;dbl&gt;</th><th scope=col>&lt;chr&gt;</th><th scope=col>&lt;dbl&gt;</th><th scope=col>&lt;dbl&gt;</th><th scope=col>&lt;chr&gt;</th><th scope=col>&lt;dbl&gt;</th><th scope=col>&lt;dbl&gt;</th></tr>\n",
       "</thead>\n",
       "<tbody>\n",
       "\t<tr><th scope=row>1</th><td> 4.012020</td><td>13.75433</td><td>42.58423</td><td>2.578259e-07</td><td>2.732955e-05</td><td>45</td><td>2.702642e-05</td><td>pos</td><td>a1_Tany__Astrocytes</td><td>Day5</td><td>⋯</td><td> 0.2194957</td><td>0.642651494</td><td>0.80142422</td><td>0.79802141</td><td>none</td><td>1</td><td>145</td><td>other</td><td>-3.776624</td><td> 1.7098639</td></tr>\n",
       "\t<tr><th scope=row>2</th><td> 4.496957</td><td>12.88463</td><td>34.39239</td><td>1.704485e-06</td><td>9.033771e-05</td><td>27</td><td>9.639028e-05</td><td>pos</td><td>a1_Tany__Astrocytes</td><td>Day5</td><td>⋯</td><td> 0.4136810</td><td>0.589556305</td><td>0.77880033</td><td>0.77225981</td><td>none</td><td>1</td><td> 65</td><td>other</td><td>-3.324144</td><td> 0.5136201</td></tr>\n",
       "\t<tr><th scope=row>3</th><td>-2.653233</td><td>13.69086</td><td>21.05188</td><td>6.756198e-05</td><td>2.387190e-03</td><td>39</td><td>2.336014e-03</td><td>neg</td><td>a1_Tany__Astrocytes</td><td>Day5</td><td>⋯</td><td> 7.5613790</td><td>0.009793458</td><td>0.09337777</td><td>0.08601752</td><td>neg </td><td>1</td><td>189</td><td>other</td><td>-4.463944</td><td> 1.0696673</td></tr>\n",
       "\t<tr><th scope=row>4</th><td> 2.620222</td><td>13.54501</td><td>19.18199</td><td>1.225320e-04</td><td>2.909334e-03</td><td>19</td><td>2.895304e-03</td><td>pos</td><td>a1_Tany__Astrocytes</td><td>Day5</td><td>⋯</td><td> 0.2511149</td><td>0.619776319</td><td>0.79152156</td><td>0.78786039</td><td>none</td><td>1</td><td>129</td><td>other</td><td>-2.870708</td><td>-0.2249309</td></tr>\n",
       "\t<tr><th scope=row>5</th><td> 2.453920</td><td>14.08700</td><td>18.83448</td><td>1.372327e-04</td><td>2.909334e-03</td><td>44</td><td>2.895304e-03</td><td>pos</td><td>a1_Tany__Astrocytes</td><td>Day5</td><td>⋯</td><td> 0.3916998</td><td>0.535917609</td><td>0.73775671</td><td>0.72828245</td><td>none</td><td>1</td><td>199</td><td>other</td><td>-5.377928</td><td> 0.7945066</td></tr>\n",
       "\t<tr><th scope=row>6</th><td>-2.632430</td><td>13.76906</td><td>16.64476</td><td>2.860984e-04</td><td>5.054405e-03</td><td>70</td><td>4.891354e-03</td><td>neg</td><td>a1_Tany__Astrocytes</td><td>Day5</td><td>⋯</td><td>10.3307140</td><td>0.003017245</td><td>0.06761332</td><td>0.06271712</td><td>neg </td><td>1</td><td>194</td><td>other</td><td>-4.416568</td><td> 0.9841724</td></tr>\n",
       "</tbody>\n",
       "</table>\n"
      ],
      "text/latex": [
       "A data.frame: 6 × 39\n",
       "\\begin{tabular}{r|lllllllllllllllllllll}\n",
       "  & logFC & logCPM & F & PValue & FDR & Nhood & SpatialFDR & polarity & labels & time & ⋯ & F\\_bl6 & PValue\\_bl6 & FDR\\_bl6 & SpatialFDR\\_bl6 & polarity\\_bl6 & labels\\_fraction\\_bl6 & n\\_cells\\_bl6 & class & UMAP\\_1 & UMAP\\_2\\\\\n",
       "  & <dbl> & <dbl> & <dbl> & <dbl> & <dbl> & <dbl> & <dbl> & <chr> & <chr> & <chr> & ⋯ & <dbl> & <dbl> & <dbl> & <dbl> & <chr> & <dbl> & <dbl> & <chr> & <dbl> & <dbl>\\\\\n",
       "\\hline\n",
       "\t1 &  4.012020 & 13.75433 & 42.58423 & 2.578259e-07 & 2.732955e-05 & 45 & 2.702642e-05 & pos & a1\\_Tany\\_\\_Astrocytes & Day5 & ⋯ &  0.2194957 & 0.642651494 & 0.80142422 & 0.79802141 & none & 1 & 145 & other & -3.776624 &  1.7098639\\\\\n",
       "\t2 &  4.496957 & 12.88463 & 34.39239 & 1.704485e-06 & 9.033771e-05 & 27 & 9.639028e-05 & pos & a1\\_Tany\\_\\_Astrocytes & Day5 & ⋯ &  0.4136810 & 0.589556305 & 0.77880033 & 0.77225981 & none & 1 &  65 & other & -3.324144 &  0.5136201\\\\\n",
       "\t3 & -2.653233 & 13.69086 & 21.05188 & 6.756198e-05 & 2.387190e-03 & 39 & 2.336014e-03 & neg & a1\\_Tany\\_\\_Astrocytes & Day5 & ⋯ &  7.5613790 & 0.009793458 & 0.09337777 & 0.08601752 & neg  & 1 & 189 & other & -4.463944 &  1.0696673\\\\\n",
       "\t4 &  2.620222 & 13.54501 & 19.18199 & 1.225320e-04 & 2.909334e-03 & 19 & 2.895304e-03 & pos & a1\\_Tany\\_\\_Astrocytes & Day5 & ⋯ &  0.2511149 & 0.619776319 & 0.79152156 & 0.78786039 & none & 1 & 129 & other & -2.870708 & -0.2249309\\\\\n",
       "\t5 &  2.453920 & 14.08700 & 18.83448 & 1.372327e-04 & 2.909334e-03 & 44 & 2.895304e-03 & pos & a1\\_Tany\\_\\_Astrocytes & Day5 & ⋯ &  0.3916998 & 0.535917609 & 0.73775671 & 0.72828245 & none & 1 & 199 & other & -5.377928 &  0.7945066\\\\\n",
       "\t6 & -2.632430 & 13.76906 & 16.64476 & 2.860984e-04 & 5.054405e-03 & 70 & 4.891354e-03 & neg & a1\\_Tany\\_\\_Astrocytes & Day5 & ⋯ & 10.3307140 & 0.003017245 & 0.06761332 & 0.06271712 & neg  & 1 & 194 & other & -4.416568 &  0.9841724\\\\\n",
       "\\end{tabular}\n"
      ],
      "text/markdown": [
       "\n",
       "A data.frame: 6 × 39\n",
       "\n",
       "| <!--/--> | logFC &lt;dbl&gt; | logCPM &lt;dbl&gt; | F &lt;dbl&gt; | PValue &lt;dbl&gt; | FDR &lt;dbl&gt; | Nhood &lt;dbl&gt; | SpatialFDR &lt;dbl&gt; | polarity &lt;chr&gt; | labels &lt;chr&gt; | time &lt;chr&gt; | ⋯ ⋯ | F_bl6 &lt;dbl&gt; | PValue_bl6 &lt;dbl&gt; | FDR_bl6 &lt;dbl&gt; | SpatialFDR_bl6 &lt;dbl&gt; | polarity_bl6 &lt;chr&gt; | labels_fraction_bl6 &lt;dbl&gt; | n_cells_bl6 &lt;dbl&gt; | class &lt;chr&gt; | UMAP_1 &lt;dbl&gt; | UMAP_2 &lt;dbl&gt; |\n",
       "|---|---|---|---|---|---|---|---|---|---|---|---|---|---|---|---|---|---|---|---|---|---|\n",
       "| 1 |  4.012020 | 13.75433 | 42.58423 | 2.578259e-07 | 2.732955e-05 | 45 | 2.702642e-05 | pos | a1_Tany__Astrocytes | Day5 | ⋯ |  0.2194957 | 0.642651494 | 0.80142422 | 0.79802141 | none | 1 | 145 | other | -3.776624 |  1.7098639 |\n",
       "| 2 |  4.496957 | 12.88463 | 34.39239 | 1.704485e-06 | 9.033771e-05 | 27 | 9.639028e-05 | pos | a1_Tany__Astrocytes | Day5 | ⋯ |  0.4136810 | 0.589556305 | 0.77880033 | 0.77225981 | none | 1 |  65 | other | -3.324144 |  0.5136201 |\n",
       "| 3 | -2.653233 | 13.69086 | 21.05188 | 6.756198e-05 | 2.387190e-03 | 39 | 2.336014e-03 | neg | a1_Tany__Astrocytes | Day5 | ⋯ |  7.5613790 | 0.009793458 | 0.09337777 | 0.08601752 | neg  | 1 | 189 | other | -4.463944 |  1.0696673 |\n",
       "| 4 |  2.620222 | 13.54501 | 19.18199 | 1.225320e-04 | 2.909334e-03 | 19 | 2.895304e-03 | pos | a1_Tany__Astrocytes | Day5 | ⋯ |  0.2511149 | 0.619776319 | 0.79152156 | 0.78786039 | none | 1 | 129 | other | -2.870708 | -0.2249309 |\n",
       "| 5 |  2.453920 | 14.08700 | 18.83448 | 1.372327e-04 | 2.909334e-03 | 44 | 2.895304e-03 | pos | a1_Tany__Astrocytes | Day5 | ⋯ |  0.3916998 | 0.535917609 | 0.73775671 | 0.72828245 | none | 1 | 199 | other | -5.377928 |  0.7945066 |\n",
       "| 6 | -2.632430 | 13.76906 | 16.64476 | 2.860984e-04 | 5.054405e-03 | 70 | 4.891354e-03 | neg | a1_Tany__Astrocytes | Day5 | ⋯ | 10.3307140 | 0.003017245 | 0.06761332 | 0.06271712 | neg  | 1 | 194 | other | -4.416568 |  0.9841724 |\n",
       "\n"
      ],
      "text/plain": [
       "  logFC     logCPM   F        PValue       FDR          Nhood SpatialFDR  \n",
       "1  4.012020 13.75433 42.58423 2.578259e-07 2.732955e-05 45    2.702642e-05\n",
       "2  4.496957 12.88463 34.39239 1.704485e-06 9.033771e-05 27    9.639028e-05\n",
       "3 -2.653233 13.69086 21.05188 6.756198e-05 2.387190e-03 39    2.336014e-03\n",
       "4  2.620222 13.54501 19.18199 1.225320e-04 2.909334e-03 19    2.895304e-03\n",
       "5  2.453920 14.08700 18.83448 1.372327e-04 2.909334e-03 44    2.895304e-03\n",
       "6 -2.632430 13.76906 16.64476 2.860984e-04 5.054405e-03 70    4.891354e-03\n",
       "  polarity labels              time ⋯ F_bl6      PValue_bl6  FDR_bl6   \n",
       "1 pos      a1_Tany__Astrocytes Day5 ⋯  0.2194957 0.642651494 0.80142422\n",
       "2 pos      a1_Tany__Astrocytes Day5 ⋯  0.4136810 0.589556305 0.77880033\n",
       "3 neg      a1_Tany__Astrocytes Day5 ⋯  7.5613790 0.009793458 0.09337777\n",
       "4 pos      a1_Tany__Astrocytes Day5 ⋯  0.2511149 0.619776319 0.79152156\n",
       "5 pos      a1_Tany__Astrocytes Day5 ⋯  0.3916998 0.535917609 0.73775671\n",
       "6 neg      a1_Tany__Astrocytes Day5 ⋯ 10.3307140 0.003017245 0.06761332\n",
       "  SpatialFDR_bl6 polarity_bl6 labels_fraction_bl6 n_cells_bl6 class UMAP_1   \n",
       "1 0.79802141     none         1                   145         other -3.776624\n",
       "2 0.77225981     none         1                    65         other -3.324144\n",
       "3 0.08601752     neg          1                   189         other -4.463944\n",
       "4 0.78786039     none         1                   129         other -2.870708\n",
       "5 0.72828245     none         1                   199         other -5.377928\n",
       "6 0.06271712     neg          1                   194         other -4.416568\n",
       "  UMAP_2    \n",
       "1  1.7098639\n",
       "2  0.5136201\n",
       "3  1.0696673\n",
       "4 -0.2249309\n",
       "5  0.7945066\n",
       "6  0.9841724"
      ]
     },
     "metadata": {},
     "output_type": "display_data"
    }
   ],
   "source": [
    "beeswarm_tibble_d5 = qs::qread('beeswarm_da_results_d5.qs') %>%\n",
    "mutate(time = 'Day5')\n",
    "\n",
    "beeswarm_tibble_d14 = qs::qread('beeswarm_da_results_d14.qs') %>%\n",
    "mutate(time = 'Day14')\n",
    "\n",
    "beeswarm_tibble_all = bind_rows(beeswarm_tibble_d5, beeswarm_tibble_d14) %>%\n",
    "relocate(time, .after='labels')\n",
    "\n",
    "beeswarm_tibble_all %>% dim\n",
    "beeswarm_tibble_all %>% head"
   ]
  },
  {
   "cell_type": "code",
   "execution_count": 71,
   "id": "2b2ae7f0",
   "metadata": {},
   "outputs": [
    {
     "name": "stderr",
     "output_type": "stream",
     "text": [
      "\u001b[1m\u001b[22m`summarise()` has grouped output by 'labels', 'time'. You can override using\n",
      "the `.groups` argument.\n"
     ]
    }
   ],
   "source": [
    "beeswarm_tibble = beeswarm_tibble_all %>%\n",
    "group_by(labels, time, class) %>%\n",
    "summarise(min_cells = min(n_cells),\n",
    "          max_cells = max(n_cells),\n",
    "          mean_cells = mean(n_cells),\n",
    "          median_cells = median(n_cells),\n",
    "          n_nhoods = n(),\n",
    "          n_fgf1 = sum(polarity_fgf1 != 'none'),\n",
    "          pos_fgf1 = sum(polarity_fgf1 == 'pos'),\n",
    "          neg_fgf1 = sum(polarity_fgf1 == 'neg'),\n",
    "          frac_fgf1 = n_fgf1/n_nhoods,\n",
    "          frac_pos_fgf1 = pos_fgf1/n_fgf1,\n",
    "          neg_pos_fgf1 = neg_fgf1/n_fgf1,\n",
    "          n_bl6 = sum(polarity_bl6 != 'none'),\n",
    "          pos_bl6 = sum(polarity_bl6 == 'pos'),\n",
    "          neg_bl6 = sum(polarity_bl6 == 'neg'),\n",
    "          frac_bl6 = n_bl6/n_nhoods,\n",
    "          frac_pos_bl6 = pos_bl6/n_bl6,\n",
    "          neg_pos_bl6 = neg_bl6/n_bl6,\n",
    "          n_restored = sum(restored),\n",
    "          pos_restored = sum(restored & polarity_fgf1 == 'pos'),\n",
    "          neg_restored = sum(restored & polarity_fgf1 == 'neg'),\n",
    "          frac_restored = n_restored/n_nhoods,\n",
    "          frac_pos_restored_fgf1 = pos_restored/n_fgf1,\n",
    "          frac_neg_restored_fgf1 = neg_restored/n_fgf1,\n",
    "          frac_pos_restored_bl6 = pos_restored/n_bl6,\n",
    "          frac_neg_restored_bl6 = neg_restored/n_bl6\n",
    "          ) %>% \n",
    "ungroup %>%\n",
    "mutate(class = case_when(class == 'neuron' ~ 'neuronal',\n",
    "                         class == 'other' ~ 'non-neuronal'))\n",
    "\n",
    "\n",
    "# Find the columns that contain \"frac\"\n",
    "frac_cols <- grep(\"frac\", names(beeswarm_tibble), value = TRUE)\n",
    "\n",
    "# Multiply by 100 and round\n",
    "beeswarm_tibble <- beeswarm_tibble %>%\n",
    "  mutate(across(all_of(frac_cols), ~round(. * 100)))"
   ]
  },
  {
   "cell_type": "code",
   "execution_count": 74,
   "id": "26edf0a5",
   "metadata": {},
   "outputs": [
    {
     "data": {
      "text/html": [
       "<table class=\"dataframe\">\n",
       "<caption>A rowwise_df: 1 × 29</caption>\n",
       "<thead>\n",
       "\t<tr><th scope=col>labels</th><th scope=col>time</th><th scope=col>class</th><th scope=col>min_cells</th><th scope=col>max_cells</th><th scope=col>mean_cells</th><th scope=col>median_cells</th><th scope=col>n_nhoods</th><th scope=col>n_fgf1</th><th scope=col>pos_fgf1</th><th scope=col>⋯</th><th scope=col>neg_pos_bl6</th><th scope=col>n_restored</th><th scope=col>pos_restored</th><th scope=col>neg_restored</th><th scope=col>frac_restored</th><th scope=col>frac_pos_restored_fgf1</th><th scope=col>frac_neg_restored_fgf1</th><th scope=col>frac_pos_restored_bl6</th><th scope=col>frac_neg_restored_bl6</th><th scope=col>summary</th></tr>\n",
       "\t<tr><th scope=col>&lt;chr&gt;</th><th scope=col>&lt;chr&gt;</th><th scope=col>&lt;chr&gt;</th><th scope=col>&lt;dbl&gt;</th><th scope=col>&lt;dbl&gt;</th><th scope=col>&lt;dbl&gt;</th><th scope=col>&lt;dbl&gt;</th><th scope=col>&lt;int&gt;</th><th scope=col>&lt;int&gt;</th><th scope=col>&lt;int&gt;</th><th scope=col>⋯</th><th scope=col>&lt;dbl&gt;</th><th scope=col>&lt;int&gt;</th><th scope=col>&lt;int&gt;</th><th scope=col>&lt;int&gt;</th><th scope=col>&lt;dbl&gt;</th><th scope=col>&lt;dbl&gt;</th><th scope=col>&lt;dbl&gt;</th><th scope=col>&lt;dbl&gt;</th><th scope=col>&lt;dbl&gt;</th><th scope=col>&lt;glue&gt;</th></tr>\n",
       "</thead>\n",
       "<tbody>\n",
       "\t<tr><td>Agrp</td><td>Day14</td><td>neuronal</td><td>47</td><td>237</td><td>93.07692</td><td>88</td><td>143</td><td>12</td><td>5</td><td>⋯</td><td>0.8153846</td><td>7</td><td>0</td><td>7</td><td>5</td><td>0</td><td>58</td><td>0</td><td>5</td><td>At day Day14, neuronal cluster Agrp formed 143 total neighborhoods, each with a median of 88 cells. \n",
       "Of these, 12 (8%) experienced a shift in differential abundance (DA) due to FGF1 treatment in obob animals. \n",
       "The obob response to FGF1 treatment was characterized by 5/12 neighborhoods experiencing an increase in the abundance of cells from FGF1 treated animals compared to 7/12 neighborhoods which saw a greater abundance of cells from obob animals which were treated with vehicle and pair fed. \n",
       "Of the same Agrp neighborhoods, 130 saw DA shift due to transcriptional differences in genotype. \n",
       "BL6 animals contributed more cells to 24/130 affected neighborhoods, and 106/130 neighborhoods were enriched for cells originating from vehicle treated pair-fed obob animals.\n",
       "FGF1 treatement in obob animals and the BL6 genotype were found to act in the same direction on 7 neighborhoods. \n",
       "FGF1 treatment and BL6 increased the abundance of cells from obob animals in 0 neighborhoods and decreased their abundance in 7 neighborhoods.</td></tr>\n",
       "</tbody>\n",
       "</table>\n"
      ],
      "text/latex": [
       "A rowwise\\_df: 1 × 29\n",
       "\\begin{tabular}{lllllllllllllllllllll}\n",
       " labels & time & class & min\\_cells & max\\_cells & mean\\_cells & median\\_cells & n\\_nhoods & n\\_fgf1 & pos\\_fgf1 & ⋯ & neg\\_pos\\_bl6 & n\\_restored & pos\\_restored & neg\\_restored & frac\\_restored & frac\\_pos\\_restored\\_fgf1 & frac\\_neg\\_restored\\_fgf1 & frac\\_pos\\_restored\\_bl6 & frac\\_neg\\_restored\\_bl6 & summary\\\\\n",
       " <chr> & <chr> & <chr> & <dbl> & <dbl> & <dbl> & <dbl> & <int> & <int> & <int> & ⋯ & <dbl> & <int> & <int> & <int> & <dbl> & <dbl> & <dbl> & <dbl> & <dbl> & <glue>\\\\\n",
       "\\hline\n",
       "\t Agrp & Day14 & neuronal & 47 & 237 & 93.07692 & 88 & 143 & 12 & 5 & ⋯ & 0.8153846 & 7 & 0 & 7 & 5 & 0 & 58 & 0 & 5 & At day Day14, neuronal cluster Agrp formed 143 total neighborhoods, each with a median of 88 cells. \n",
       "Of these, 12 (8\\%) experienced a shift in differential abundance (DA) due to FGF1 treatment in obob animals. \n",
       "The obob response to FGF1 treatment was characterized by 5/12 neighborhoods experiencing an increase in the abundance of cells from FGF1 treated animals compared to 7/12 neighborhoods which saw a greater abundance of cells from obob animals which were treated with vehicle and pair fed. \n",
       "Of the same Agrp neighborhoods, 130 saw DA shift due to transcriptional differences in genotype. \n",
       "BL6 animals contributed more cells to 24/130 affected neighborhoods, and 106/130 neighborhoods were enriched for cells originating from vehicle treated pair-fed obob animals.\n",
       "FGF1 treatement in obob animals and the BL6 genotype were found to act in the same direction on 7 neighborhoods. \n",
       "FGF1 treatment and BL6 increased the abundance of cells from obob animals in 0 neighborhoods and decreased their abundance in 7 neighborhoods.\\\\\n",
       "\\end{tabular}\n"
      ],
      "text/markdown": [
       "\n",
       "A rowwise_df: 1 × 29\n",
       "\n",
       "| labels &lt;chr&gt; | time &lt;chr&gt; | class &lt;chr&gt; | min_cells &lt;dbl&gt; | max_cells &lt;dbl&gt; | mean_cells &lt;dbl&gt; | median_cells &lt;dbl&gt; | n_nhoods &lt;int&gt; | n_fgf1 &lt;int&gt; | pos_fgf1 &lt;int&gt; | ⋯ ⋯ | neg_pos_bl6 &lt;dbl&gt; | n_restored &lt;int&gt; | pos_restored &lt;int&gt; | neg_restored &lt;int&gt; | frac_restored &lt;dbl&gt; | frac_pos_restored_fgf1 &lt;dbl&gt; | frac_neg_restored_fgf1 &lt;dbl&gt; | frac_pos_restored_bl6 &lt;dbl&gt; | frac_neg_restored_bl6 &lt;dbl&gt; | summary &lt;glue&gt; |\n",
       "|---|---|---|---|---|---|---|---|---|---|---|---|---|---|---|---|---|---|---|---|---|\n",
       "| Agrp | Day14 | neuronal | 47 | 237 | 93.07692 | 88 | 143 | 12 | 5 | ⋯ | 0.8153846 | 7 | 0 | 7 | 5 | 0 | 58 | 0 | 5 | At day Day14, neuronal cluster Agrp formed 143 total neighborhoods, each with a median of 88 cells. \n",
       "Of these, 12 (8%) experienced a shift in differential abundance (DA) due to FGF1 treatment in obob animals. \n",
       "The obob response to FGF1 treatment was characterized by 5/12 neighborhoods experiencing an increase in the abundance of cells from FGF1 treated animals compared to 7/12 neighborhoods which saw a greater abundance of cells from obob animals which were treated with vehicle and pair fed. \n",
       "Of the same Agrp neighborhoods, 130 saw DA shift due to transcriptional differences in genotype. \n",
       "BL6 animals contributed more cells to 24/130 affected neighborhoods, and 106/130 neighborhoods were enriched for cells originating from vehicle treated pair-fed obob animals.\n",
       "FGF1 treatement in obob animals and the BL6 genotype were found to act in the same direction on 7 neighborhoods. \n",
       "FGF1 treatment and BL6 increased the abundance of cells from obob animals in 0 neighborhoods and decreased their abundance in 7 neighborhoods. |\n",
       "\n"
      ],
      "text/plain": [
       "  labels time  class    min_cells max_cells mean_cells median_cells n_nhoods\n",
       "1 Agrp   Day14 neuronal 47        237       93.07692   88           143     \n",
       "  n_fgf1 pos_fgf1 ⋯ neg_pos_bl6 n_restored pos_restored neg_restored\n",
       "1 12     5        ⋯ 0.8153846   7          0            7           \n",
       "  frac_restored frac_pos_restored_fgf1 frac_neg_restored_fgf1\n",
       "1 5             0                      58                    \n",
       "  frac_pos_restored_bl6 frac_neg_restored_bl6\n",
       "1 0                     5                    \n",
       "  summary                                                                                                                                                                                                                                                                                                                                                                                                                                                                                                                                                                                                                                                                                                                                                                                                                                                                                                                                                                                                                                                                  \n",
       "1 At day Day14, neuronal cluster Agrp formed 143 total neighborhoods, each with a median of 88 cells. \\nOf these, 12 (8%) experienced a shift in differential abundance (DA) due to FGF1 treatment in obob animals. \\nThe obob response to FGF1 treatment was characterized by 5/12 neighborhoods experiencing an increase in the abundance of cells from FGF1 treated animals compared to 7/12 neighborhoods which saw a greater abundance of cells from obob animals which were treated with vehicle and pair fed. \\nOf the same Agrp neighborhoods, 130 saw DA shift due to transcriptional differences in genotype. \\nBL6 animals contributed more cells to 24/130 affected neighborhoods, and 106/130 neighborhoods were enriched for cells originating from vehicle treated pair-fed obob animals.\\nFGF1 treatement in obob animals and the BL6 genotype were found to act in the same direction on 7 neighborhoods. \\nFGF1 treatment and BL6 increased the abundance of cells from obob animals in 0 neighborhoods and decreased their abundance in 7 neighborhoods."
      ]
     },
     "metadata": {},
     "output_type": "display_data"
    }
   ],
   "source": [
    "library(dplyr)\n",
    "library(glue)\n",
    "\n",
    "write_summary <- function(df) {\n",
    "  glue(\"\n",
    "  At day {df$time}, {df$class} cluster {df$labels} formed {df$n_nhoods} total neighborhoods, each with a median of {df$median_cells} cells. \n",
    "  Of these, {df$n_fgf1} ({df$frac_fgf1}%) experienced a shift in differential abundance (DA) due to FGF1 treatment in obob animals. \n",
    "  The obob response to FGF1 treatment was characterized by {df$pos_fgf1}/{df$n_fgf1} neighborhoods experiencing an increase in the abundance of cells from FGF1 treated animals compared to {df$neg_fgf1}/{df$n_fgf1} neighborhoods which saw a greater abundance of cells from obob animals which were treated with vehicle and pair fed. \n",
    "  Of the same {df$labels} neighborhoods, {df$n_bl6} saw DA shift due to transcriptional differences in genotype. \n",
    "  BL6 animals contributed more cells to {df$pos_bl6}/{df$n_bl6} affected neighborhoods, and {df$neg_bl6}/{df$n_bl6} neighborhoods were enriched for cells originating from vehicle treated pair-fed obob animals.\n",
    "  FGF1 treatement in obob animals and the BL6 genotype were found to act in the same direction on {df$n_restored} neighborhoods. \n",
    "  FGF1 treatment and BL6 increased the abundance of cells from obob animals in {df$pos_restored} neighborhoods and decreased their abundance in {df$neg_restored} neighborhoods.\")\n",
    "}\n",
    "\n",
    "# Now, apply the function to each row of the tibble\n",
    "beeswarm_tibble = beeswarm_tibble %>%\n",
    "  rowwise() %>%\n",
    "  mutate(summary = write_summary(cur_data()))\n",
    "\n",
    "beeswarm_tibble %>% head(1)\n",
    "beeswarm_tibble %>% write_xlsx('beeswarm_tibble_summary.xlsx')"
   ]
  },
  {
   "cell_type": "code",
   "execution_count": 80,
   "id": "93f38e08",
   "metadata": {},
   "outputs": [
    {
     "name": "stdout",
     "output_type": "stream",
     "text": [
      "\u001b[90m# A tibble: 49 × 2\u001b[39m\n",
      "\u001b[90m# Rowwise: \u001b[39m\n",
      "   labels                     class       \n",
      "   \u001b[3m\u001b[90m<chr>\u001b[39m\u001b[23m                      \u001b[3m\u001b[90m<chr>\u001b[39m\u001b[23m       \n",
      "\u001b[90m 1\u001b[39m Agrp                       neuronal    \n",
      "\u001b[90m 2\u001b[39m Astrocytes                 non-neuronal\n",
      "\u001b[90m 3\u001b[39m Epend                      non-neuronal\n",
      "\u001b[90m 4\u001b[39m Fibroblasts2__Fibroblasts3 non-neuronal\n",
      "\u001b[90m 5\u001b[39m Ghrh                       neuronal    \n",
      "\u001b[90m 6\u001b[39m Gm8773_Tac1__Hdc           neuronal    \n",
      "\u001b[90m 7\u001b[39m Gpr50                      neuronal    \n",
      "\u001b[90m 8\u001b[39m Htr3b                      neuronal    \n",
      "\u001b[90m 9\u001b[39m Kisspeptin                 neuronal    \n",
      "\u001b[90m10\u001b[39m MOL                        non-neuronal\n",
      "\u001b[90m11\u001b[39m Microglia                  non-neuronal\n",
      "\u001b[90m12\u001b[39m NFOL                       non-neuronal\n",
      "\u001b[90m13\u001b[39m NG2_OPC2                   non-neuronal\n",
      "\u001b[90m14\u001b[39m NG2_OPC2__Microglia        non-neuronal\n",
      "\u001b[90m15\u001b[39m Nfix_Htr2c                 neuronal    \n",
      "\u001b[90m16\u001b[39m Nr5a1_Bdnf                 neuronal    \n",
      "\u001b[90m17\u001b[39m Nr5a1_Bdnf__Nr5a1_Nfib     neuronal    \n",
      "\u001b[90m18\u001b[39m Nr5a1_Bdnf__Unassigned1    neuronal    \n",
      "\u001b[90m19\u001b[39m Nr5a1_Nfib                 neuronal    \n",
      "\u001b[90m20\u001b[39m Oxt__Unassigned1           neuronal    \n",
      "\u001b[90m21\u001b[39m Pomc_Glipr1__Slc17a6_Trhr  neuronal    \n",
      "\u001b[90m22\u001b[39m Pomc_Lepr                  neuronal    \n",
      "\u001b[90m23\u001b[39m Qrfp                       neuronal    \n",
      "\u001b[90m24\u001b[39m Rgs16_Dlx1                 neuronal    \n",
      "\u001b[90m25\u001b[39m Rgs16_Dlx1__Unassigned2    neuronal    \n",
      "\u001b[90m26\u001b[39m Rgs16_Nmu                  neuronal    \n",
      "\u001b[90m27\u001b[39m Slc17a6_Fam19a2            neuronal    \n",
      "\u001b[90m28\u001b[39m Slc17a6_Trhr               neuronal    \n",
      "\u001b[90m29\u001b[39m Sst_Nts                    neuronal    \n",
      "\u001b[90m30\u001b[39m Sst_Pthlh.sc21             neuronal    \n",
      "\u001b[90m31\u001b[39m Sst_Pthlh.sc23             neuronal    \n",
      "\u001b[90m32\u001b[39m Sst_Pthlh__Ghrh            neuronal    \n",
      "\u001b[90m33\u001b[39m Sst_Unc13c__Agrp           neuronal    \n",
      "\u001b[90m34\u001b[39m Tbx19                      neuronal    \n",
      "\u001b[90m35\u001b[39m Th_Nfib__Arx_Nr5a2         neuronal    \n",
      "\u001b[90m36\u001b[39m Th_Slc6a3                  neuronal    \n",
      "\u001b[90m37\u001b[39m Tmem215                    neuronal    \n",
      "\u001b[90m38\u001b[39m Trh_Cxcl12                 neuronal    \n",
      "\u001b[90m39\u001b[39m Trh_Lef1                   neuronal    \n",
      "\u001b[90m40\u001b[39m Unassigned1.sc17.sc28      neuronal    \n",
      "\u001b[90m41\u001b[39m Unassigned1.sc37           neuronal    \n",
      "\u001b[90m42\u001b[39m Unassigned1.sc39           neuronal    \n",
      "\u001b[90m43\u001b[39m Unassigned2                neuronal    \n",
      "\u001b[90m44\u001b[39m Unassigned2__Unassigned1   neuronal    \n",
      "\u001b[90m45\u001b[39m a1_Tany__Astrocytes        non-neuronal\n",
      "\u001b[90m46\u001b[39m a2_Tanycytes               non-neuronal\n",
      "\u001b[90m47\u001b[39m a2_Tanycytes__b1_Tanycytes non-neuronal\n",
      "\u001b[90m48\u001b[39m b1_Tanycytes               non-neuronal\n",
      "\u001b[90m49\u001b[39m b2_Tany                    non-neuronal\n"
     ]
    }
   ],
   "source": [
    "beeswarm_tibble %>% distinct(labels, class) %>% print(n=80)"
   ]
  },
  {
   "cell_type": "code",
   "execution_count": null,
   "id": "0d2a4392",
   "metadata": {},
   "outputs": [],
   "source": []
  }
 ],
 "metadata": {
  "kernelspec": {
   "display_name": "R [conda env:fgf1]",
   "language": "R",
   "name": "conda-env-fgf1-r"
  },
  "language_info": {
   "codemirror_mode": "r",
   "file_extension": ".r",
   "mimetype": "text/x-r-source",
   "name": "R",
   "pygments_lexer": "r",
   "version": "4.1.3"
  }
 },
 "nbformat": 4,
 "nbformat_minor": 5
}
