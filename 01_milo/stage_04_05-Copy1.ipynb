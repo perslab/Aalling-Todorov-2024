{
 "cells": [
  {
   "cell_type": "code",
   "execution_count": 13,
   "id": "2a389fbb",
   "metadata": {},
   "outputs": [],
   "source": [
    "library(tidyverse)\n",
    "library(targets)\n",
    "library(tarchetypes)"
   ]
  },
  {
   "cell_type": "code",
   "execution_count": 63,
   "id": "ae29e965",
   "metadata": {
    "scrolled": true
   },
   "outputs": [
    {
     "data": {
      "text/html": [
       "<table class=\"dataframe\">\n",
       "<caption>A tibble: 48 × 13</caption>\n",
       "<thead>\n",
       "\t<tr><th scope=col>labels</th><th scope=col>n_total</th><th scope=col>n_fgf1</th><th scope=col>n_fgf1.pos</th><th scope=col>n_fgf1.neg</th><th scope=col>prop_fgf1.pos</th><th scope=col>n_BL6</th><th scope=col>n_restored</th><th scope=col>n_restored.pos</th><th scope=col>n_restored.neg</th><th scope=col>prop_restored_BL6</th><th scope=col>prop_restored_FGF1</th><th scope=col>comparison</th></tr>\n",
       "\t<tr><th scope=col>&lt;chr&gt;</th><th scope=col>&lt;int&gt;</th><th scope=col>&lt;int&gt;</th><th scope=col>&lt;int&gt;</th><th scope=col>&lt;int&gt;</th><th scope=col>&lt;dbl&gt;</th><th scope=col>&lt;int&gt;</th><th scope=col>&lt;int&gt;</th><th scope=col>&lt;int&gt;</th><th scope=col>&lt;int&gt;</th><th scope=col>&lt;dbl&gt;</th><th scope=col>&lt;dbl&gt;</th><th scope=col>&lt;chr&gt;</th></tr>\n",
       "</thead>\n",
       "<tbody>\n",
       "\t<tr><td>b1_Tanycytes              </td><td> 83</td><td>14</td><td> 8</td><td> 6</td><td>0.5714286</td><td> 16</td><td>2</td><td>2</td><td>0</td><td>0.12500000</td><td>0.1428571</td><td>Day14.obob14v14__v__Day14.obobBL6d14</td></tr>\n",
       "\t<tr><td>b2_Tany                   </td><td> 23</td><td> 5</td><td> 4</td><td> 1</td><td>0.8000000</td><td>  2</td><td>0</td><td>0</td><td>0</td><td>0.00000000</td><td>0.0000000</td><td>Day14.obob14v14__v__Day14.obobBL6d14</td></tr>\n",
       "\t<tr><td>a1_Tany__Astrocytes       </td><td>109</td><td> 3</td><td> 2</td><td> 1</td><td>0.6666667</td><td> 20</td><td>0</td><td>0</td><td>0</td><td>0.00000000</td><td>0.0000000</td><td>Day14.obob14v14__v__Day14.obobBL6d14</td></tr>\n",
       "\t<tr><td>Kisspeptin                </td><td> 76</td><td> 3</td><td> 3</td><td>NA</td><td>1.0000000</td><td> 43</td><td>3</td><td>3</td><td>0</td><td>0.06976744</td><td>1.0000000</td><td>Day14.obob14v14__v__Day14.obobBL6d14</td></tr>\n",
       "\t<tr><td>MOL                       </td><td> 99</td><td> 3</td><td> 3</td><td>NA</td><td>1.0000000</td><td> 47</td><td>0</td><td>0</td><td>0</td><td>0.00000000</td><td>0.0000000</td><td>Day14.obob14v14__v__Day14.obobBL6d14</td></tr>\n",
       "\t<tr><td>Astrocytes                </td><td>273</td><td> 2</td><td>NA</td><td> 2</td><td>       NA</td><td>141</td><td>0</td><td>0</td><td>0</td><td>0.00000000</td><td>0.0000000</td><td>Day14.obob14v14__v__Day14.obobBL6d14</td></tr>\n",
       "\t<tr><td>Microglia                 </td><td> 14</td><td> 2</td><td> 1</td><td> 1</td><td>0.5000000</td><td>  5</td><td>0</td><td>0</td><td>0</td><td>0.00000000</td><td>0.0000000</td><td>Day14.obob14v14__v__Day14.obobBL6d14</td></tr>\n",
       "\t<tr><td>NG2_OPC2                  </td><td> 22</td><td> 1</td><td> 1</td><td>NA</td><td>1.0000000</td><td> 13</td><td>0</td><td>0</td><td>0</td><td>0.00000000</td><td>0.0000000</td><td>Day14.obob14v14__v__Day14.obobBL6d14</td></tr>\n",
       "\t<tr><td>Sst_Pthlh.sc23            </td><td> 86</td><td> 1</td><td> 1</td><td>NA</td><td>1.0000000</td><td>  0</td><td>0</td><td>0</td><td>0</td><td>       NaN</td><td>0.0000000</td><td>Day14.obob14v14__v__Day14.obobBL6d14</td></tr>\n",
       "\t<tr><td>a2_Tanycytes              </td><td> 62</td><td> 0</td><td>NA</td><td>NA</td><td>       NA</td><td>  1</td><td>0</td><td>0</td><td>0</td><td>0.00000000</td><td>      NaN</td><td>Day14.obob14v14__v__Day14.obobBL6d14</td></tr>\n",
       "\t<tr><td>a2_Tanycytes__b1_Tanycytes</td><td> 50</td><td> 0</td><td>NA</td><td>NA</td><td>       NA</td><td>  2</td><td>0</td><td>0</td><td>0</td><td>0.00000000</td><td>      NaN</td><td>Day14.obob14v14__v__Day14.obobBL6d14</td></tr>\n",
       "\t<tr><td>Agrp                      </td><td>144</td><td> 0</td><td>NA</td><td>NA</td><td>       NA</td><td>131</td><td>0</td><td>0</td><td>0</td><td>0.00000000</td><td>      NaN</td><td>Day14.obob14v14__v__Day14.obobBL6d14</td></tr>\n",
       "\t<tr><td>Epend                     </td><td> 13</td><td> 0</td><td>NA</td><td>NA</td><td>       NA</td><td>  0</td><td>0</td><td>0</td><td>0</td><td>       NaN</td><td>      NaN</td><td>Day14.obob14v14__v__Day14.obobBL6d14</td></tr>\n",
       "\t<tr><td>Ghrh                      </td><td> 62</td><td> 0</td><td>NA</td><td>NA</td><td>       NA</td><td> 32</td><td>0</td><td>0</td><td>0</td><td>0.00000000</td><td>      NaN</td><td>Day14.obob14v14__v__Day14.obobBL6d14</td></tr>\n",
       "\t<tr><td>Gm8773_Tac1__Hdc          </td><td> 57</td><td> 0</td><td>NA</td><td>NA</td><td>       NA</td><td>  0</td><td>0</td><td>0</td><td>0</td><td>       NaN</td><td>      NaN</td><td>Day14.obob14v14__v__Day14.obobBL6d14</td></tr>\n",
       "\t<tr><td>Gpr50                     </td><td> 23</td><td> 0</td><td>NA</td><td>NA</td><td>       NA</td><td>  1</td><td>0</td><td>0</td><td>0</td><td>0.00000000</td><td>      NaN</td><td>Day14.obob14v14__v__Day14.obobBL6d14</td></tr>\n",
       "\t<tr><td>Htr3b                     </td><td>100</td><td> 0</td><td>NA</td><td>NA</td><td>       NA</td><td> 38</td><td>0</td><td>0</td><td>0</td><td>0.00000000</td><td>      NaN</td><td>Day14.obob14v14__v__Day14.obobBL6d14</td></tr>\n",
       "\t<tr><td>Nfix_Htr2c                </td><td> 65</td><td> 0</td><td>NA</td><td>NA</td><td>       NA</td><td>  0</td><td>0</td><td>0</td><td>0</td><td>       NaN</td><td>      NaN</td><td>Day14.obob14v14__v__Day14.obobBL6d14</td></tr>\n",
       "\t<tr><td>NFOL                      </td><td>  4</td><td> 0</td><td>NA</td><td>NA</td><td>       NA</td><td>  0</td><td>0</td><td>0</td><td>0</td><td>       NaN</td><td>      NaN</td><td>Day14.obob14v14__v__Day14.obobBL6d14</td></tr>\n",
       "\t<tr><td>NG2_OPC2__Microglia       </td><td>  4</td><td> 0</td><td>NA</td><td>NA</td><td>       NA</td><td>  0</td><td>0</td><td>0</td><td>0</td><td>       NaN</td><td>      NaN</td><td>Day14.obob14v14__v__Day14.obobBL6d14</td></tr>\n",
       "\t<tr><td>Nr5a1_Bdnf                </td><td>738</td><td> 0</td><td>NA</td><td>NA</td><td>       NA</td><td>  0</td><td>0</td><td>0</td><td>0</td><td>       NaN</td><td>      NaN</td><td>Day14.obob14v14__v__Day14.obobBL6d14</td></tr>\n",
       "\t<tr><td>Nr5a1_Bdnf__Nr5a1_Nfib    </td><td> 48</td><td> 0</td><td>NA</td><td>NA</td><td>       NA</td><td>  0</td><td>0</td><td>0</td><td>0</td><td>       NaN</td><td>      NaN</td><td>Day14.obob14v14__v__Day14.obobBL6d14</td></tr>\n",
       "\t<tr><td>Nr5a1_Bdnf__Unassigned1   </td><td> 87</td><td> 0</td><td>NA</td><td>NA</td><td>       NA</td><td>  1</td><td>0</td><td>0</td><td>0</td><td>0.00000000</td><td>      NaN</td><td>Day14.obob14v14__v__Day14.obobBL6d14</td></tr>\n",
       "\t<tr><td>Nr5a1_Nfib                </td><td>109</td><td> 0</td><td>NA</td><td>NA</td><td>       NA</td><td>  1</td><td>0</td><td>0</td><td>0</td><td>0.00000000</td><td>      NaN</td><td>Day14.obob14v14__v__Day14.obobBL6d14</td></tr>\n",
       "\t<tr><td>Oxt__Unassigned1          </td><td>  4</td><td> 0</td><td>NA</td><td>NA</td><td>       NA</td><td>  0</td><td>0</td><td>0</td><td>0</td><td>       NaN</td><td>      NaN</td><td>Day14.obob14v14__v__Day14.obobBL6d14</td></tr>\n",
       "\t<tr><td>Pomc_Glipr1__Slc17a6_Trhr </td><td>101</td><td> 0</td><td>NA</td><td>NA</td><td>       NA</td><td> 43</td><td>0</td><td>0</td><td>0</td><td>0.00000000</td><td>      NaN</td><td>Day14.obob14v14__v__Day14.obobBL6d14</td></tr>\n",
       "\t<tr><td>Pomc_Lepr                 </td><td> 75</td><td> 0</td><td>NA</td><td>NA</td><td>       NA</td><td> 32</td><td>0</td><td>0</td><td>0</td><td>0.00000000</td><td>      NaN</td><td>Day14.obob14v14__v__Day14.obobBL6d14</td></tr>\n",
       "\t<tr><td>Qrfp                      </td><td> 12</td><td> 0</td><td>NA</td><td>NA</td><td>       NA</td><td>  0</td><td>0</td><td>0</td><td>0</td><td>       NaN</td><td>      NaN</td><td>Day14.obob14v14__v__Day14.obobBL6d14</td></tr>\n",
       "\t<tr><td>Rgs16_Dlx1                </td><td> 28</td><td> 0</td><td>NA</td><td>NA</td><td>       NA</td><td>  3</td><td>0</td><td>0</td><td>0</td><td>0.00000000</td><td>      NaN</td><td>Day14.obob14v14__v__Day14.obobBL6d14</td></tr>\n",
       "\t<tr><td>Rgs16_Dlx1__Unassigned2   </td><td> 46</td><td> 0</td><td>NA</td><td>NA</td><td>       NA</td><td>  1</td><td>0</td><td>0</td><td>0</td><td>0.00000000</td><td>      NaN</td><td>Day14.obob14v14__v__Day14.obobBL6d14</td></tr>\n",
       "\t<tr><td>Rgs16_Nmu                 </td><td>129</td><td> 0</td><td>NA</td><td>NA</td><td>       NA</td><td>  0</td><td>0</td><td>0</td><td>0</td><td>       NaN</td><td>      NaN</td><td>Day14.obob14v14__v__Day14.obobBL6d14</td></tr>\n",
       "\t<tr><td>Slc17a6_Fam19a2           </td><td>143</td><td> 0</td><td>NA</td><td>NA</td><td>       NA</td><td>  7</td><td>0</td><td>0</td><td>0</td><td>0.00000000</td><td>      NaN</td><td>Day14.obob14v14__v__Day14.obobBL6d14</td></tr>\n",
       "\t<tr><td>Slc17a6_Trhr              </td><td> 66</td><td> 0</td><td>NA</td><td>NA</td><td>       NA</td><td>  2</td><td>0</td><td>0</td><td>0</td><td>0.00000000</td><td>      NaN</td><td>Day14.obob14v14__v__Day14.obobBL6d14</td></tr>\n",
       "\t<tr><td>Sst_Nts                   </td><td> 20</td><td> 0</td><td>NA</td><td>NA</td><td>       NA</td><td>  0</td><td>0</td><td>0</td><td>0</td><td>       NaN</td><td>      NaN</td><td>Day14.obob14v14__v__Day14.obobBL6d14</td></tr>\n",
       "\t<tr><td>Sst_Pthlh__Ghrh           </td><td> 13</td><td> 0</td><td>NA</td><td>NA</td><td>       NA</td><td>  0</td><td>0</td><td>0</td><td>0</td><td>       NaN</td><td>      NaN</td><td>Day14.obob14v14__v__Day14.obobBL6d14</td></tr>\n",
       "\t<tr><td>Sst_Pthlh.sc21            </td><td> 76</td><td> 0</td><td>NA</td><td>NA</td><td>       NA</td><td>  0</td><td>0</td><td>0</td><td>0</td><td>       NaN</td><td>      NaN</td><td>Day14.obob14v14__v__Day14.obobBL6d14</td></tr>\n",
       "\t<tr><td>Sst_Unc13c__Agrp          </td><td> 93</td><td> 0</td><td>NA</td><td>NA</td><td>       NA</td><td> 52</td><td>0</td><td>0</td><td>0</td><td>0.00000000</td><td>      NaN</td><td>Day14.obob14v14__v__Day14.obobBL6d14</td></tr>\n",
       "\t<tr><td>Tbx19                     </td><td> 83</td><td> 0</td><td>NA</td><td>NA</td><td>       NA</td><td> 10</td><td>0</td><td>0</td><td>0</td><td>0.00000000</td><td>      NaN</td><td>Day14.obob14v14__v__Day14.obobBL6d14</td></tr>\n",
       "\t<tr><td>Th_Nfib__Arx_Nr5a2        </td><td> 44</td><td> 0</td><td>NA</td><td>NA</td><td>       NA</td><td> 20</td><td>0</td><td>0</td><td>0</td><td>0.00000000</td><td>      NaN</td><td>Day14.obob14v14__v__Day14.obobBL6d14</td></tr>\n",
       "\t<tr><td>Th_Slc6a3                 </td><td> 20</td><td> 0</td><td>NA</td><td>NA</td><td>       NA</td><td>  2</td><td>0</td><td>0</td><td>0</td><td>0.00000000</td><td>      NaN</td><td>Day14.obob14v14__v__Day14.obobBL6d14</td></tr>\n",
       "\t<tr><td>Tmem215                   </td><td>111</td><td> 0</td><td>NA</td><td>NA</td><td>       NA</td><td> 51</td><td>0</td><td>0</td><td>0</td><td>0.00000000</td><td>      NaN</td><td>Day14.obob14v14__v__Day14.obobBL6d14</td></tr>\n",
       "\t<tr><td>Trh_Cxcl12                </td><td>118</td><td> 0</td><td>NA</td><td>NA</td><td>       NA</td><td> 66</td><td>0</td><td>0</td><td>0</td><td>0.00000000</td><td>      NaN</td><td>Day14.obob14v14__v__Day14.obobBL6d14</td></tr>\n",
       "\t<tr><td>Trh_Lef1                  </td><td> 83</td><td> 0</td><td>NA</td><td>NA</td><td>       NA</td><td>  1</td><td>0</td><td>0</td><td>0</td><td>0.00000000</td><td>      NaN</td><td>Day14.obob14v14__v__Day14.obobBL6d14</td></tr>\n",
       "\t<tr><td>Unassigned1.sc17.sc28     </td><td>117</td><td> 0</td><td>NA</td><td>NA</td><td>       NA</td><td>  1</td><td>0</td><td>0</td><td>0</td><td>0.00000000</td><td>      NaN</td><td>Day14.obob14v14__v__Day14.obobBL6d14</td></tr>\n",
       "\t<tr><td>Unassigned1.sc37          </td><td> 33</td><td> 0</td><td>NA</td><td>NA</td><td>       NA</td><td>  7</td><td>0</td><td>0</td><td>0</td><td>0.00000000</td><td>      NaN</td><td>Day14.obob14v14__v__Day14.obobBL6d14</td></tr>\n",
       "\t<tr><td>Unassigned1.sc39          </td><td>  4</td><td> 0</td><td>NA</td><td>NA</td><td>       NA</td><td>  0</td><td>0</td><td>0</td><td>0</td><td>       NaN</td><td>      NaN</td><td>Day14.obob14v14__v__Day14.obobBL6d14</td></tr>\n",
       "\t<tr><td>Unassigned2               </td><td>428</td><td> 0</td><td>NA</td><td>NA</td><td>       NA</td><td>  0</td><td>0</td><td>0</td><td>0</td><td>       NaN</td><td>      NaN</td><td>Day14.obob14v14__v__Day14.obobBL6d14</td></tr>\n",
       "\t<tr><td>Unassigned2__Unassigned1  </td><td>  9</td><td> 0</td><td>NA</td><td>NA</td><td>       NA</td><td>  0</td><td>0</td><td>0</td><td>0</td><td>       NaN</td><td>      NaN</td><td>Day14.obob14v14__v__Day14.obobBL6d14</td></tr>\n",
       "</tbody>\n",
       "</table>\n"
      ],
      "text/latex": [
       "A tibble: 48 × 13\n",
       "\\begin{tabular}{lllllllllllll}\n",
       " labels & n\\_total & n\\_fgf1 & n\\_fgf1.pos & n\\_fgf1.neg & prop\\_fgf1.pos & n\\_BL6 & n\\_restored & n\\_restored.pos & n\\_restored.neg & prop\\_restored\\_BL6 & prop\\_restored\\_FGF1 & comparison\\\\\n",
       " <chr> & <int> & <int> & <int> & <int> & <dbl> & <int> & <int> & <int> & <int> & <dbl> & <dbl> & <chr>\\\\\n",
       "\\hline\n",
       "\t b1\\_Tanycytes               &  83 & 14 &  8 &  6 & 0.5714286 &  16 & 2 & 2 & 0 & 0.12500000 & 0.1428571 & Day14.obob14v14\\_\\_v\\_\\_Day14.obobBL6d14\\\\\n",
       "\t b2\\_Tany                    &  23 &  5 &  4 &  1 & 0.8000000 &   2 & 0 & 0 & 0 & 0.00000000 & 0.0000000 & Day14.obob14v14\\_\\_v\\_\\_Day14.obobBL6d14\\\\\n",
       "\t a1\\_Tany\\_\\_Astrocytes        & 109 &  3 &  2 &  1 & 0.6666667 &  20 & 0 & 0 & 0 & 0.00000000 & 0.0000000 & Day14.obob14v14\\_\\_v\\_\\_Day14.obobBL6d14\\\\\n",
       "\t Kisspeptin                 &  76 &  3 &  3 & NA & 1.0000000 &  43 & 3 & 3 & 0 & 0.06976744 & 1.0000000 & Day14.obob14v14\\_\\_v\\_\\_Day14.obobBL6d14\\\\\n",
       "\t MOL                        &  99 &  3 &  3 & NA & 1.0000000 &  47 & 0 & 0 & 0 & 0.00000000 & 0.0000000 & Day14.obob14v14\\_\\_v\\_\\_Day14.obobBL6d14\\\\\n",
       "\t Astrocytes                 & 273 &  2 & NA &  2 &        NA & 141 & 0 & 0 & 0 & 0.00000000 & 0.0000000 & Day14.obob14v14\\_\\_v\\_\\_Day14.obobBL6d14\\\\\n",
       "\t Microglia                  &  14 &  2 &  1 &  1 & 0.5000000 &   5 & 0 & 0 & 0 & 0.00000000 & 0.0000000 & Day14.obob14v14\\_\\_v\\_\\_Day14.obobBL6d14\\\\\n",
       "\t NG2\\_OPC2                   &  22 &  1 &  1 & NA & 1.0000000 &  13 & 0 & 0 & 0 & 0.00000000 & 0.0000000 & Day14.obob14v14\\_\\_v\\_\\_Day14.obobBL6d14\\\\\n",
       "\t Sst\\_Pthlh.sc23             &  86 &  1 &  1 & NA & 1.0000000 &   0 & 0 & 0 & 0 &        NaN & 0.0000000 & Day14.obob14v14\\_\\_v\\_\\_Day14.obobBL6d14\\\\\n",
       "\t a2\\_Tanycytes               &  62 &  0 & NA & NA &        NA &   1 & 0 & 0 & 0 & 0.00000000 &       NaN & Day14.obob14v14\\_\\_v\\_\\_Day14.obobBL6d14\\\\\n",
       "\t a2\\_Tanycytes\\_\\_b1\\_Tanycytes &  50 &  0 & NA & NA &        NA &   2 & 0 & 0 & 0 & 0.00000000 &       NaN & Day14.obob14v14\\_\\_v\\_\\_Day14.obobBL6d14\\\\\n",
       "\t Agrp                       & 144 &  0 & NA & NA &        NA & 131 & 0 & 0 & 0 & 0.00000000 &       NaN & Day14.obob14v14\\_\\_v\\_\\_Day14.obobBL6d14\\\\\n",
       "\t Epend                      &  13 &  0 & NA & NA &        NA &   0 & 0 & 0 & 0 &        NaN &       NaN & Day14.obob14v14\\_\\_v\\_\\_Day14.obobBL6d14\\\\\n",
       "\t Ghrh                       &  62 &  0 & NA & NA &        NA &  32 & 0 & 0 & 0 & 0.00000000 &       NaN & Day14.obob14v14\\_\\_v\\_\\_Day14.obobBL6d14\\\\\n",
       "\t Gm8773\\_Tac1\\_\\_Hdc           &  57 &  0 & NA & NA &        NA &   0 & 0 & 0 & 0 &        NaN &       NaN & Day14.obob14v14\\_\\_v\\_\\_Day14.obobBL6d14\\\\\n",
       "\t Gpr50                      &  23 &  0 & NA & NA &        NA &   1 & 0 & 0 & 0 & 0.00000000 &       NaN & Day14.obob14v14\\_\\_v\\_\\_Day14.obobBL6d14\\\\\n",
       "\t Htr3b                      & 100 &  0 & NA & NA &        NA &  38 & 0 & 0 & 0 & 0.00000000 &       NaN & Day14.obob14v14\\_\\_v\\_\\_Day14.obobBL6d14\\\\\n",
       "\t Nfix\\_Htr2c                 &  65 &  0 & NA & NA &        NA &   0 & 0 & 0 & 0 &        NaN &       NaN & Day14.obob14v14\\_\\_v\\_\\_Day14.obobBL6d14\\\\\n",
       "\t NFOL                       &   4 &  0 & NA & NA &        NA &   0 & 0 & 0 & 0 &        NaN &       NaN & Day14.obob14v14\\_\\_v\\_\\_Day14.obobBL6d14\\\\\n",
       "\t NG2\\_OPC2\\_\\_Microglia        &   4 &  0 & NA & NA &        NA &   0 & 0 & 0 & 0 &        NaN &       NaN & Day14.obob14v14\\_\\_v\\_\\_Day14.obobBL6d14\\\\\n",
       "\t Nr5a1\\_Bdnf                 & 738 &  0 & NA & NA &        NA &   0 & 0 & 0 & 0 &        NaN &       NaN & Day14.obob14v14\\_\\_v\\_\\_Day14.obobBL6d14\\\\\n",
       "\t Nr5a1\\_Bdnf\\_\\_Nr5a1\\_Nfib     &  48 &  0 & NA & NA &        NA &   0 & 0 & 0 & 0 &        NaN &       NaN & Day14.obob14v14\\_\\_v\\_\\_Day14.obobBL6d14\\\\\n",
       "\t Nr5a1\\_Bdnf\\_\\_Unassigned1    &  87 &  0 & NA & NA &        NA &   1 & 0 & 0 & 0 & 0.00000000 &       NaN & Day14.obob14v14\\_\\_v\\_\\_Day14.obobBL6d14\\\\\n",
       "\t Nr5a1\\_Nfib                 & 109 &  0 & NA & NA &        NA &   1 & 0 & 0 & 0 & 0.00000000 &       NaN & Day14.obob14v14\\_\\_v\\_\\_Day14.obobBL6d14\\\\\n",
       "\t Oxt\\_\\_Unassigned1           &   4 &  0 & NA & NA &        NA &   0 & 0 & 0 & 0 &        NaN &       NaN & Day14.obob14v14\\_\\_v\\_\\_Day14.obobBL6d14\\\\\n",
       "\t Pomc\\_Glipr1\\_\\_Slc17a6\\_Trhr  & 101 &  0 & NA & NA &        NA &  43 & 0 & 0 & 0 & 0.00000000 &       NaN & Day14.obob14v14\\_\\_v\\_\\_Day14.obobBL6d14\\\\\n",
       "\t Pomc\\_Lepr                  &  75 &  0 & NA & NA &        NA &  32 & 0 & 0 & 0 & 0.00000000 &       NaN & Day14.obob14v14\\_\\_v\\_\\_Day14.obobBL6d14\\\\\n",
       "\t Qrfp                       &  12 &  0 & NA & NA &        NA &   0 & 0 & 0 & 0 &        NaN &       NaN & Day14.obob14v14\\_\\_v\\_\\_Day14.obobBL6d14\\\\\n",
       "\t Rgs16\\_Dlx1                 &  28 &  0 & NA & NA &        NA &   3 & 0 & 0 & 0 & 0.00000000 &       NaN & Day14.obob14v14\\_\\_v\\_\\_Day14.obobBL6d14\\\\\n",
       "\t Rgs16\\_Dlx1\\_\\_Unassigned2    &  46 &  0 & NA & NA &        NA &   1 & 0 & 0 & 0 & 0.00000000 &       NaN & Day14.obob14v14\\_\\_v\\_\\_Day14.obobBL6d14\\\\\n",
       "\t Rgs16\\_Nmu                  & 129 &  0 & NA & NA &        NA &   0 & 0 & 0 & 0 &        NaN &       NaN & Day14.obob14v14\\_\\_v\\_\\_Day14.obobBL6d14\\\\\n",
       "\t Slc17a6\\_Fam19a2            & 143 &  0 & NA & NA &        NA &   7 & 0 & 0 & 0 & 0.00000000 &       NaN & Day14.obob14v14\\_\\_v\\_\\_Day14.obobBL6d14\\\\\n",
       "\t Slc17a6\\_Trhr               &  66 &  0 & NA & NA &        NA &   2 & 0 & 0 & 0 & 0.00000000 &       NaN & Day14.obob14v14\\_\\_v\\_\\_Day14.obobBL6d14\\\\\n",
       "\t Sst\\_Nts                    &  20 &  0 & NA & NA &        NA &   0 & 0 & 0 & 0 &        NaN &       NaN & Day14.obob14v14\\_\\_v\\_\\_Day14.obobBL6d14\\\\\n",
       "\t Sst\\_Pthlh\\_\\_Ghrh            &  13 &  0 & NA & NA &        NA &   0 & 0 & 0 & 0 &        NaN &       NaN & Day14.obob14v14\\_\\_v\\_\\_Day14.obobBL6d14\\\\\n",
       "\t Sst\\_Pthlh.sc21             &  76 &  0 & NA & NA &        NA &   0 & 0 & 0 & 0 &        NaN &       NaN & Day14.obob14v14\\_\\_v\\_\\_Day14.obobBL6d14\\\\\n",
       "\t Sst\\_Unc13c\\_\\_Agrp           &  93 &  0 & NA & NA &        NA &  52 & 0 & 0 & 0 & 0.00000000 &       NaN & Day14.obob14v14\\_\\_v\\_\\_Day14.obobBL6d14\\\\\n",
       "\t Tbx19                      &  83 &  0 & NA & NA &        NA &  10 & 0 & 0 & 0 & 0.00000000 &       NaN & Day14.obob14v14\\_\\_v\\_\\_Day14.obobBL6d14\\\\\n",
       "\t Th\\_Nfib\\_\\_Arx\\_Nr5a2         &  44 &  0 & NA & NA &        NA &  20 & 0 & 0 & 0 & 0.00000000 &       NaN & Day14.obob14v14\\_\\_v\\_\\_Day14.obobBL6d14\\\\\n",
       "\t Th\\_Slc6a3                  &  20 &  0 & NA & NA &        NA &   2 & 0 & 0 & 0 & 0.00000000 &       NaN & Day14.obob14v14\\_\\_v\\_\\_Day14.obobBL6d14\\\\\n",
       "\t Tmem215                    & 111 &  0 & NA & NA &        NA &  51 & 0 & 0 & 0 & 0.00000000 &       NaN & Day14.obob14v14\\_\\_v\\_\\_Day14.obobBL6d14\\\\\n",
       "\t Trh\\_Cxcl12                 & 118 &  0 & NA & NA &        NA &  66 & 0 & 0 & 0 & 0.00000000 &       NaN & Day14.obob14v14\\_\\_v\\_\\_Day14.obobBL6d14\\\\\n",
       "\t Trh\\_Lef1                   &  83 &  0 & NA & NA &        NA &   1 & 0 & 0 & 0 & 0.00000000 &       NaN & Day14.obob14v14\\_\\_v\\_\\_Day14.obobBL6d14\\\\\n",
       "\t Unassigned1.sc17.sc28      & 117 &  0 & NA & NA &        NA &   1 & 0 & 0 & 0 & 0.00000000 &       NaN & Day14.obob14v14\\_\\_v\\_\\_Day14.obobBL6d14\\\\\n",
       "\t Unassigned1.sc37           &  33 &  0 & NA & NA &        NA &   7 & 0 & 0 & 0 & 0.00000000 &       NaN & Day14.obob14v14\\_\\_v\\_\\_Day14.obobBL6d14\\\\\n",
       "\t Unassigned1.sc39           &   4 &  0 & NA & NA &        NA &   0 & 0 & 0 & 0 &        NaN &       NaN & Day14.obob14v14\\_\\_v\\_\\_Day14.obobBL6d14\\\\\n",
       "\t Unassigned2                & 428 &  0 & NA & NA &        NA &   0 & 0 & 0 & 0 &        NaN &       NaN & Day14.obob14v14\\_\\_v\\_\\_Day14.obobBL6d14\\\\\n",
       "\t Unassigned2\\_\\_Unassigned1   &   9 &  0 & NA & NA &        NA &   0 & 0 & 0 & 0 &        NaN &       NaN & Day14.obob14v14\\_\\_v\\_\\_Day14.obobBL6d14\\\\\n",
       "\\end{tabular}\n"
      ],
      "text/markdown": [
       "\n",
       "A tibble: 48 × 13\n",
       "\n",
       "| labels &lt;chr&gt; | n_total &lt;int&gt; | n_fgf1 &lt;int&gt; | n_fgf1.pos &lt;int&gt; | n_fgf1.neg &lt;int&gt; | prop_fgf1.pos &lt;dbl&gt; | n_BL6 &lt;int&gt; | n_restored &lt;int&gt; | n_restored.pos &lt;int&gt; | n_restored.neg &lt;int&gt; | prop_restored_BL6 &lt;dbl&gt; | prop_restored_FGF1 &lt;dbl&gt; | comparison &lt;chr&gt; |\n",
       "|---|---|---|---|---|---|---|---|---|---|---|---|---|\n",
       "| b1_Tanycytes               |  83 | 14 |  8 |  6 | 0.5714286 |  16 | 2 | 2 | 0 | 0.12500000 | 0.1428571 | Day14.obob14v14__v__Day14.obobBL6d14 |\n",
       "| b2_Tany                    |  23 |  5 |  4 |  1 | 0.8000000 |   2 | 0 | 0 | 0 | 0.00000000 | 0.0000000 | Day14.obob14v14__v__Day14.obobBL6d14 |\n",
       "| a1_Tany__Astrocytes        | 109 |  3 |  2 |  1 | 0.6666667 |  20 | 0 | 0 | 0 | 0.00000000 | 0.0000000 | Day14.obob14v14__v__Day14.obobBL6d14 |\n",
       "| Kisspeptin                 |  76 |  3 |  3 | NA | 1.0000000 |  43 | 3 | 3 | 0 | 0.06976744 | 1.0000000 | Day14.obob14v14__v__Day14.obobBL6d14 |\n",
       "| MOL                        |  99 |  3 |  3 | NA | 1.0000000 |  47 | 0 | 0 | 0 | 0.00000000 | 0.0000000 | Day14.obob14v14__v__Day14.obobBL6d14 |\n",
       "| Astrocytes                 | 273 |  2 | NA |  2 |        NA | 141 | 0 | 0 | 0 | 0.00000000 | 0.0000000 | Day14.obob14v14__v__Day14.obobBL6d14 |\n",
       "| Microglia                  |  14 |  2 |  1 |  1 | 0.5000000 |   5 | 0 | 0 | 0 | 0.00000000 | 0.0000000 | Day14.obob14v14__v__Day14.obobBL6d14 |\n",
       "| NG2_OPC2                   |  22 |  1 |  1 | NA | 1.0000000 |  13 | 0 | 0 | 0 | 0.00000000 | 0.0000000 | Day14.obob14v14__v__Day14.obobBL6d14 |\n",
       "| Sst_Pthlh.sc23             |  86 |  1 |  1 | NA | 1.0000000 |   0 | 0 | 0 | 0 |        NaN | 0.0000000 | Day14.obob14v14__v__Day14.obobBL6d14 |\n",
       "| a2_Tanycytes               |  62 |  0 | NA | NA |        NA |   1 | 0 | 0 | 0 | 0.00000000 |       NaN | Day14.obob14v14__v__Day14.obobBL6d14 |\n",
       "| a2_Tanycytes__b1_Tanycytes |  50 |  0 | NA | NA |        NA |   2 | 0 | 0 | 0 | 0.00000000 |       NaN | Day14.obob14v14__v__Day14.obobBL6d14 |\n",
       "| Agrp                       | 144 |  0 | NA | NA |        NA | 131 | 0 | 0 | 0 | 0.00000000 |       NaN | Day14.obob14v14__v__Day14.obobBL6d14 |\n",
       "| Epend                      |  13 |  0 | NA | NA |        NA |   0 | 0 | 0 | 0 |        NaN |       NaN | Day14.obob14v14__v__Day14.obobBL6d14 |\n",
       "| Ghrh                       |  62 |  0 | NA | NA |        NA |  32 | 0 | 0 | 0 | 0.00000000 |       NaN | Day14.obob14v14__v__Day14.obobBL6d14 |\n",
       "| Gm8773_Tac1__Hdc           |  57 |  0 | NA | NA |        NA |   0 | 0 | 0 | 0 |        NaN |       NaN | Day14.obob14v14__v__Day14.obobBL6d14 |\n",
       "| Gpr50                      |  23 |  0 | NA | NA |        NA |   1 | 0 | 0 | 0 | 0.00000000 |       NaN | Day14.obob14v14__v__Day14.obobBL6d14 |\n",
       "| Htr3b                      | 100 |  0 | NA | NA |        NA |  38 | 0 | 0 | 0 | 0.00000000 |       NaN | Day14.obob14v14__v__Day14.obobBL6d14 |\n",
       "| Nfix_Htr2c                 |  65 |  0 | NA | NA |        NA |   0 | 0 | 0 | 0 |        NaN |       NaN | Day14.obob14v14__v__Day14.obobBL6d14 |\n",
       "| NFOL                       |   4 |  0 | NA | NA |        NA |   0 | 0 | 0 | 0 |        NaN |       NaN | Day14.obob14v14__v__Day14.obobBL6d14 |\n",
       "| NG2_OPC2__Microglia        |   4 |  0 | NA | NA |        NA |   0 | 0 | 0 | 0 |        NaN |       NaN | Day14.obob14v14__v__Day14.obobBL6d14 |\n",
       "| Nr5a1_Bdnf                 | 738 |  0 | NA | NA |        NA |   0 | 0 | 0 | 0 |        NaN |       NaN | Day14.obob14v14__v__Day14.obobBL6d14 |\n",
       "| Nr5a1_Bdnf__Nr5a1_Nfib     |  48 |  0 | NA | NA |        NA |   0 | 0 | 0 | 0 |        NaN |       NaN | Day14.obob14v14__v__Day14.obobBL6d14 |\n",
       "| Nr5a1_Bdnf__Unassigned1    |  87 |  0 | NA | NA |        NA |   1 | 0 | 0 | 0 | 0.00000000 |       NaN | Day14.obob14v14__v__Day14.obobBL6d14 |\n",
       "| Nr5a1_Nfib                 | 109 |  0 | NA | NA |        NA |   1 | 0 | 0 | 0 | 0.00000000 |       NaN | Day14.obob14v14__v__Day14.obobBL6d14 |\n",
       "| Oxt__Unassigned1           |   4 |  0 | NA | NA |        NA |   0 | 0 | 0 | 0 |        NaN |       NaN | Day14.obob14v14__v__Day14.obobBL6d14 |\n",
       "| Pomc_Glipr1__Slc17a6_Trhr  | 101 |  0 | NA | NA |        NA |  43 | 0 | 0 | 0 | 0.00000000 |       NaN | Day14.obob14v14__v__Day14.obobBL6d14 |\n",
       "| Pomc_Lepr                  |  75 |  0 | NA | NA |        NA |  32 | 0 | 0 | 0 | 0.00000000 |       NaN | Day14.obob14v14__v__Day14.obobBL6d14 |\n",
       "| Qrfp                       |  12 |  0 | NA | NA |        NA |   0 | 0 | 0 | 0 |        NaN |       NaN | Day14.obob14v14__v__Day14.obobBL6d14 |\n",
       "| Rgs16_Dlx1                 |  28 |  0 | NA | NA |        NA |   3 | 0 | 0 | 0 | 0.00000000 |       NaN | Day14.obob14v14__v__Day14.obobBL6d14 |\n",
       "| Rgs16_Dlx1__Unassigned2    |  46 |  0 | NA | NA |        NA |   1 | 0 | 0 | 0 | 0.00000000 |       NaN | Day14.obob14v14__v__Day14.obobBL6d14 |\n",
       "| Rgs16_Nmu                  | 129 |  0 | NA | NA |        NA |   0 | 0 | 0 | 0 |        NaN |       NaN | Day14.obob14v14__v__Day14.obobBL6d14 |\n",
       "| Slc17a6_Fam19a2            | 143 |  0 | NA | NA |        NA |   7 | 0 | 0 | 0 | 0.00000000 |       NaN | Day14.obob14v14__v__Day14.obobBL6d14 |\n",
       "| Slc17a6_Trhr               |  66 |  0 | NA | NA |        NA |   2 | 0 | 0 | 0 | 0.00000000 |       NaN | Day14.obob14v14__v__Day14.obobBL6d14 |\n",
       "| Sst_Nts                    |  20 |  0 | NA | NA |        NA |   0 | 0 | 0 | 0 |        NaN |       NaN | Day14.obob14v14__v__Day14.obobBL6d14 |\n",
       "| Sst_Pthlh__Ghrh            |  13 |  0 | NA | NA |        NA |   0 | 0 | 0 | 0 |        NaN |       NaN | Day14.obob14v14__v__Day14.obobBL6d14 |\n",
       "| Sst_Pthlh.sc21             |  76 |  0 | NA | NA |        NA |   0 | 0 | 0 | 0 |        NaN |       NaN | Day14.obob14v14__v__Day14.obobBL6d14 |\n",
       "| Sst_Unc13c__Agrp           |  93 |  0 | NA | NA |        NA |  52 | 0 | 0 | 0 | 0.00000000 |       NaN | Day14.obob14v14__v__Day14.obobBL6d14 |\n",
       "| Tbx19                      |  83 |  0 | NA | NA |        NA |  10 | 0 | 0 | 0 | 0.00000000 |       NaN | Day14.obob14v14__v__Day14.obobBL6d14 |\n",
       "| Th_Nfib__Arx_Nr5a2         |  44 |  0 | NA | NA |        NA |  20 | 0 | 0 | 0 | 0.00000000 |       NaN | Day14.obob14v14__v__Day14.obobBL6d14 |\n",
       "| Th_Slc6a3                  |  20 |  0 | NA | NA |        NA |   2 | 0 | 0 | 0 | 0.00000000 |       NaN | Day14.obob14v14__v__Day14.obobBL6d14 |\n",
       "| Tmem215                    | 111 |  0 | NA | NA |        NA |  51 | 0 | 0 | 0 | 0.00000000 |       NaN | Day14.obob14v14__v__Day14.obobBL6d14 |\n",
       "| Trh_Cxcl12                 | 118 |  0 | NA | NA |        NA |  66 | 0 | 0 | 0 | 0.00000000 |       NaN | Day14.obob14v14__v__Day14.obobBL6d14 |\n",
       "| Trh_Lef1                   |  83 |  0 | NA | NA |        NA |   1 | 0 | 0 | 0 | 0.00000000 |       NaN | Day14.obob14v14__v__Day14.obobBL6d14 |\n",
       "| Unassigned1.sc17.sc28      | 117 |  0 | NA | NA |        NA |   1 | 0 | 0 | 0 | 0.00000000 |       NaN | Day14.obob14v14__v__Day14.obobBL6d14 |\n",
       "| Unassigned1.sc37           |  33 |  0 | NA | NA |        NA |   7 | 0 | 0 | 0 | 0.00000000 |       NaN | Day14.obob14v14__v__Day14.obobBL6d14 |\n",
       "| Unassigned1.sc39           |   4 |  0 | NA | NA |        NA |   0 | 0 | 0 | 0 |        NaN |       NaN | Day14.obob14v14__v__Day14.obobBL6d14 |\n",
       "| Unassigned2                | 428 |  0 | NA | NA |        NA |   0 | 0 | 0 | 0 |        NaN |       NaN | Day14.obob14v14__v__Day14.obobBL6d14 |\n",
       "| Unassigned2__Unassigned1   |   9 |  0 | NA | NA |        NA |   0 | 0 | 0 | 0 |        NaN |       NaN | Day14.obob14v14__v__Day14.obobBL6d14 |\n",
       "\n"
      ],
      "text/plain": [
       "   labels                     n_total n_fgf1 n_fgf1.pos n_fgf1.neg\n",
       "1  b1_Tanycytes                83     14      8          6        \n",
       "2  b2_Tany                     23      5      4          1        \n",
       "3  a1_Tany__Astrocytes        109      3      2          1        \n",
       "4  Kisspeptin                  76      3      3         NA        \n",
       "5  MOL                         99      3      3         NA        \n",
       "6  Astrocytes                 273      2     NA          2        \n",
       "7  Microglia                   14      2      1          1        \n",
       "8  NG2_OPC2                    22      1      1         NA        \n",
       "9  Sst_Pthlh.sc23              86      1      1         NA        \n",
       "10 a2_Tanycytes                62      0     NA         NA        \n",
       "11 a2_Tanycytes__b1_Tanycytes  50      0     NA         NA        \n",
       "12 Agrp                       144      0     NA         NA        \n",
       "13 Epend                       13      0     NA         NA        \n",
       "14 Ghrh                        62      0     NA         NA        \n",
       "15 Gm8773_Tac1__Hdc            57      0     NA         NA        \n",
       "16 Gpr50                       23      0     NA         NA        \n",
       "17 Htr3b                      100      0     NA         NA        \n",
       "18 Nfix_Htr2c                  65      0     NA         NA        \n",
       "19 NFOL                         4      0     NA         NA        \n",
       "20 NG2_OPC2__Microglia          4      0     NA         NA        \n",
       "21 Nr5a1_Bdnf                 738      0     NA         NA        \n",
       "22 Nr5a1_Bdnf__Nr5a1_Nfib      48      0     NA         NA        \n",
       "23 Nr5a1_Bdnf__Unassigned1     87      0     NA         NA        \n",
       "24 Nr5a1_Nfib                 109      0     NA         NA        \n",
       "25 Oxt__Unassigned1             4      0     NA         NA        \n",
       "26 Pomc_Glipr1__Slc17a6_Trhr  101      0     NA         NA        \n",
       "27 Pomc_Lepr                   75      0     NA         NA        \n",
       "28 Qrfp                        12      0     NA         NA        \n",
       "29 Rgs16_Dlx1                  28      0     NA         NA        \n",
       "30 Rgs16_Dlx1__Unassigned2     46      0     NA         NA        \n",
       "31 Rgs16_Nmu                  129      0     NA         NA        \n",
       "32 Slc17a6_Fam19a2            143      0     NA         NA        \n",
       "33 Slc17a6_Trhr                66      0     NA         NA        \n",
       "34 Sst_Nts                     20      0     NA         NA        \n",
       "35 Sst_Pthlh__Ghrh             13      0     NA         NA        \n",
       "36 Sst_Pthlh.sc21              76      0     NA         NA        \n",
       "37 Sst_Unc13c__Agrp            93      0     NA         NA        \n",
       "38 Tbx19                       83      0     NA         NA        \n",
       "39 Th_Nfib__Arx_Nr5a2          44      0     NA         NA        \n",
       "40 Th_Slc6a3                   20      0     NA         NA        \n",
       "41 Tmem215                    111      0     NA         NA        \n",
       "42 Trh_Cxcl12                 118      0     NA         NA        \n",
       "43 Trh_Lef1                    83      0     NA         NA        \n",
       "44 Unassigned1.sc17.sc28      117      0     NA         NA        \n",
       "45 Unassigned1.sc37            33      0     NA         NA        \n",
       "46 Unassigned1.sc39             4      0     NA         NA        \n",
       "47 Unassigned2                428      0     NA         NA        \n",
       "48 Unassigned2__Unassigned1     9      0     NA         NA        \n",
       "   prop_fgf1.pos n_BL6 n_restored n_restored.pos n_restored.neg\n",
       "1  0.5714286      16   2          2              0             \n",
       "2  0.8000000       2   0          0              0             \n",
       "3  0.6666667      20   0          0              0             \n",
       "4  1.0000000      43   3          3              0             \n",
       "5  1.0000000      47   0          0              0             \n",
       "6         NA     141   0          0              0             \n",
       "7  0.5000000       5   0          0              0             \n",
       "8  1.0000000      13   0          0              0             \n",
       "9  1.0000000       0   0          0              0             \n",
       "10        NA       1   0          0              0             \n",
       "11        NA       2   0          0              0             \n",
       "12        NA     131   0          0              0             \n",
       "13        NA       0   0          0              0             \n",
       "14        NA      32   0          0              0             \n",
       "15        NA       0   0          0              0             \n",
       "16        NA       1   0          0              0             \n",
       "17        NA      38   0          0              0             \n",
       "18        NA       0   0          0              0             \n",
       "19        NA       0   0          0              0             \n",
       "20        NA       0   0          0              0             \n",
       "21        NA       0   0          0              0             \n",
       "22        NA       0   0          0              0             \n",
       "23        NA       1   0          0              0             \n",
       "24        NA       1   0          0              0             \n",
       "25        NA       0   0          0              0             \n",
       "26        NA      43   0          0              0             \n",
       "27        NA      32   0          0              0             \n",
       "28        NA       0   0          0              0             \n",
       "29        NA       3   0          0              0             \n",
       "30        NA       1   0          0              0             \n",
       "31        NA       0   0          0              0             \n",
       "32        NA       7   0          0              0             \n",
       "33        NA       2   0          0              0             \n",
       "34        NA       0   0          0              0             \n",
       "35        NA       0   0          0              0             \n",
       "36        NA       0   0          0              0             \n",
       "37        NA      52   0          0              0             \n",
       "38        NA      10   0          0              0             \n",
       "39        NA      20   0          0              0             \n",
       "40        NA       2   0          0              0             \n",
       "41        NA      51   0          0              0             \n",
       "42        NA      66   0          0              0             \n",
       "43        NA       1   0          0              0             \n",
       "44        NA       1   0          0              0             \n",
       "45        NA       7   0          0              0             \n",
       "46        NA       0   0          0              0             \n",
       "47        NA       0   0          0              0             \n",
       "48        NA       0   0          0              0             \n",
       "   prop_restored_BL6 prop_restored_FGF1 comparison                          \n",
       "1  0.12500000        0.1428571          Day14.obob14v14__v__Day14.obobBL6d14\n",
       "2  0.00000000        0.0000000          Day14.obob14v14__v__Day14.obobBL6d14\n",
       "3  0.00000000        0.0000000          Day14.obob14v14__v__Day14.obobBL6d14\n",
       "4  0.06976744        1.0000000          Day14.obob14v14__v__Day14.obobBL6d14\n",
       "5  0.00000000        0.0000000          Day14.obob14v14__v__Day14.obobBL6d14\n",
       "6  0.00000000        0.0000000          Day14.obob14v14__v__Day14.obobBL6d14\n",
       "7  0.00000000        0.0000000          Day14.obob14v14__v__Day14.obobBL6d14\n",
       "8  0.00000000        0.0000000          Day14.obob14v14__v__Day14.obobBL6d14\n",
       "9         NaN        0.0000000          Day14.obob14v14__v__Day14.obobBL6d14\n",
       "10 0.00000000              NaN          Day14.obob14v14__v__Day14.obobBL6d14\n",
       "11 0.00000000              NaN          Day14.obob14v14__v__Day14.obobBL6d14\n",
       "12 0.00000000              NaN          Day14.obob14v14__v__Day14.obobBL6d14\n",
       "13        NaN              NaN          Day14.obob14v14__v__Day14.obobBL6d14\n",
       "14 0.00000000              NaN          Day14.obob14v14__v__Day14.obobBL6d14\n",
       "15        NaN              NaN          Day14.obob14v14__v__Day14.obobBL6d14\n",
       "16 0.00000000              NaN          Day14.obob14v14__v__Day14.obobBL6d14\n",
       "17 0.00000000              NaN          Day14.obob14v14__v__Day14.obobBL6d14\n",
       "18        NaN              NaN          Day14.obob14v14__v__Day14.obobBL6d14\n",
       "19        NaN              NaN          Day14.obob14v14__v__Day14.obobBL6d14\n",
       "20        NaN              NaN          Day14.obob14v14__v__Day14.obobBL6d14\n",
       "21        NaN              NaN          Day14.obob14v14__v__Day14.obobBL6d14\n",
       "22        NaN              NaN          Day14.obob14v14__v__Day14.obobBL6d14\n",
       "23 0.00000000              NaN          Day14.obob14v14__v__Day14.obobBL6d14\n",
       "24 0.00000000              NaN          Day14.obob14v14__v__Day14.obobBL6d14\n",
       "25        NaN              NaN          Day14.obob14v14__v__Day14.obobBL6d14\n",
       "26 0.00000000              NaN          Day14.obob14v14__v__Day14.obobBL6d14\n",
       "27 0.00000000              NaN          Day14.obob14v14__v__Day14.obobBL6d14\n",
       "28        NaN              NaN          Day14.obob14v14__v__Day14.obobBL6d14\n",
       "29 0.00000000              NaN          Day14.obob14v14__v__Day14.obobBL6d14\n",
       "30 0.00000000              NaN          Day14.obob14v14__v__Day14.obobBL6d14\n",
       "31        NaN              NaN          Day14.obob14v14__v__Day14.obobBL6d14\n",
       "32 0.00000000              NaN          Day14.obob14v14__v__Day14.obobBL6d14\n",
       "33 0.00000000              NaN          Day14.obob14v14__v__Day14.obobBL6d14\n",
       "34        NaN              NaN          Day14.obob14v14__v__Day14.obobBL6d14\n",
       "35        NaN              NaN          Day14.obob14v14__v__Day14.obobBL6d14\n",
       "36        NaN              NaN          Day14.obob14v14__v__Day14.obobBL6d14\n",
       "37 0.00000000              NaN          Day14.obob14v14__v__Day14.obobBL6d14\n",
       "38 0.00000000              NaN          Day14.obob14v14__v__Day14.obobBL6d14\n",
       "39 0.00000000              NaN          Day14.obob14v14__v__Day14.obobBL6d14\n",
       "40 0.00000000              NaN          Day14.obob14v14__v__Day14.obobBL6d14\n",
       "41 0.00000000              NaN          Day14.obob14v14__v__Day14.obobBL6d14\n",
       "42 0.00000000              NaN          Day14.obob14v14__v__Day14.obobBL6d14\n",
       "43 0.00000000              NaN          Day14.obob14v14__v__Day14.obobBL6d14\n",
       "44 0.00000000              NaN          Day14.obob14v14__v__Day14.obobBL6d14\n",
       "45 0.00000000              NaN          Day14.obob14v14__v__Day14.obobBL6d14\n",
       "46        NaN              NaN          Day14.obob14v14__v__Day14.obobBL6d14\n",
       "47        NaN              NaN          Day14.obob14v14__v__Day14.obobBL6d14\n",
       "48        NaN              NaN          Day14.obob14v14__v__Day14.obobBL6d14"
      ]
     },
     "metadata": {},
     "output_type": "display_data"
    }
   ],
   "source": [
    "all_restored_summary = qs::qread('_targets/objects/all_restored_summary')\n",
    "all_restored_summary %>% filter(comparison == 'Day14.obob14v14__v__Day14.obobBL6d14') %>% arrange(desc(n_fgf1)) "
   ]
  },
  {
   "cell_type": "code",
   "execution_count": 64,
   "id": "1cba1367",
   "metadata": {},
   "outputs": [],
   "source": [
    "make_tags = function(all_restored_summary){\n",
    "   all_restored_summary %>%\n",
    "    rowwise %>%\n",
    "    mutate(fgf1_tag = str_split(comparison, '__v__', n=2)[[1]][1]) %>% \n",
    "    mutate(bl6_tag = str_split(comparison, '__v__', n=2)[[1]][2]) %>%\n",
    "    mutate(fgf1_day = str_split(fgf1_tag, fixed('.'), n=2)[[1]][1]) %>% \n",
    "    mutate(bl6_day = str_split(bl6_tag, fixed('.'), n=2)[[1]][1]) %>%\n",
    "    mutate(fgf1_tag = str_split(fgf1_tag , fixed('.'), n=2)[[1]][2]) %>% \n",
    "    mutate(bl6_tag = str_split(bl6_tag , fixed('.'), n=2)[[1]][2]) %>%\n",
    "    ungroup\n",
    "} "
   ]
  },
  {
   "cell_type": "code",
   "execution_count": 65,
   "id": "d2e0e3cd",
   "metadata": {},
   "outputs": [
    {
     "data": {
      "text/html": [
       "<table class=\"dataframe\">\n",
       "<caption>A tibble: 3 × 8</caption>\n",
       "<thead>\n",
       "\t<tr><th scope=col>labels</th><th scope=col>comparison</th><th scope=col>fgf1_tag</th><th scope=col>bl6_tag</th><th scope=col>fgf1_day</th><th scope=col>bl6_day</th><th scope=col>nhood_grouping</th><th scope=col>grouping_polarity</th></tr>\n",
       "\t<tr><th scope=col>&lt;chr&gt;</th><th scope=col>&lt;chr&gt;</th><th scope=col>&lt;chr&gt;</th><th scope=col>&lt;chr&gt;</th><th scope=col>&lt;chr&gt;</th><th scope=col>&lt;chr&gt;</th><th scope=col>&lt;chr&gt;</th><th scope=col>&lt;chr&gt;</th></tr>\n",
       "</thead>\n",
       "<tbody>\n",
       "\t<tr><td>Astrocytes         </td><td>all.obob5v5__v__all.obob14vBL6</td><td>obob5v5</td><td>obob14vBL6</td><td>all</td><td>all</td><td>restored_grouping</td><td>neg_restored</td></tr>\n",
       "\t<tr><td>Htr3b              </td><td>all.obob5v5__v__all.obob14vBL6</td><td>obob5v5</td><td>obob14vBL6</td><td>all</td><td>all</td><td>restored_grouping</td><td>neg_restored</td></tr>\n",
       "\t<tr><td>a1_Tany__Astrocytes</td><td>all.obob5v5__v__all.obob14vBL6</td><td>obob5v5</td><td>obob14vBL6</td><td>all</td><td>all</td><td>restored_grouping</td><td>neg_restored</td></tr>\n",
       "</tbody>\n",
       "</table>\n"
      ],
      "text/latex": [
       "A tibble: 3 × 8\n",
       "\\begin{tabular}{llllllll}\n",
       " labels & comparison & fgf1\\_tag & bl6\\_tag & fgf1\\_day & bl6\\_day & nhood\\_grouping & grouping\\_polarity\\\\\n",
       " <chr> & <chr> & <chr> & <chr> & <chr> & <chr> & <chr> & <chr>\\\\\n",
       "\\hline\n",
       "\t Astrocytes          & all.obob5v5\\_\\_v\\_\\_all.obob14vBL6 & obob5v5 & obob14vBL6 & all & all & restored\\_grouping & neg\\_restored\\\\\n",
       "\t Htr3b               & all.obob5v5\\_\\_v\\_\\_all.obob14vBL6 & obob5v5 & obob14vBL6 & all & all & restored\\_grouping & neg\\_restored\\\\\n",
       "\t a1\\_Tany\\_\\_Astrocytes & all.obob5v5\\_\\_v\\_\\_all.obob14vBL6 & obob5v5 & obob14vBL6 & all & all & restored\\_grouping & neg\\_restored\\\\\n",
       "\\end{tabular}\n"
      ],
      "text/markdown": [
       "\n",
       "A tibble: 3 × 8\n",
       "\n",
       "| labels &lt;chr&gt; | comparison &lt;chr&gt; | fgf1_tag &lt;chr&gt; | bl6_tag &lt;chr&gt; | fgf1_day &lt;chr&gt; | bl6_day &lt;chr&gt; | nhood_grouping &lt;chr&gt; | grouping_polarity &lt;chr&gt; |\n",
       "|---|---|---|---|---|---|---|---|\n",
       "| Astrocytes          | all.obob5v5__v__all.obob14vBL6 | obob5v5 | obob14vBL6 | all | all | restored_grouping | neg_restored |\n",
       "| Htr3b               | all.obob5v5__v__all.obob14vBL6 | obob5v5 | obob14vBL6 | all | all | restored_grouping | neg_restored |\n",
       "| a1_Tany__Astrocytes | all.obob5v5__v__all.obob14vBL6 | obob5v5 | obob14vBL6 | all | all | restored_grouping | neg_restored |\n",
       "\n"
      ],
      "text/plain": [
       "  labels              comparison                     fgf1_tag bl6_tag   \n",
       "1 Astrocytes          all.obob5v5__v__all.obob14vBL6 obob5v5  obob14vBL6\n",
       "2 Htr3b               all.obob5v5__v__all.obob14vBL6 obob5v5  obob14vBL6\n",
       "3 a1_Tany__Astrocytes all.obob5v5__v__all.obob14vBL6 obob5v5  obob14vBL6\n",
       "  fgf1_day bl6_day nhood_grouping    grouping_polarity\n",
       "1 all      all     restored_grouping neg_restored     \n",
       "2 all      all     restored_grouping neg_restored     \n",
       "3 all      all     restored_grouping neg_restored     "
      ]
     },
     "metadata": {},
     "output_type": "display_data"
    },
    {
     "data": {
      "text/html": [
       "<style>\n",
       ".list-inline {list-style: none; margin:0; padding: 0}\n",
       ".list-inline>li {display: inline-block}\n",
       ".list-inline>li:not(:last-child)::after {content: \"\\00b7\"; padding: 0 .5ex}\n",
       "</style>\n",
       "<ol class=list-inline><li>99</li><li>8</li></ol>\n"
      ],
      "text/latex": [
       "\\begin{enumerate*}\n",
       "\\item 99\n",
       "\\item 8\n",
       "\\end{enumerate*}\n"
      ],
      "text/markdown": [
       "1. 99\n",
       "2. 8\n",
       "\n",
       "\n"
      ],
      "text/plain": [
       "[1] 99  8"
      ]
     },
     "metadata": {},
     "output_type": "display_data"
    }
   ],
   "source": [
    "neg_restored = all_restored_summary %>% \n",
    "filter(n_restored.neg > 0) %>%\n",
    "make_tags %>%\n",
    "select(labels, comparison, fgf1_tag, bl6_tag, fgf1_day, bl6_day) %>%\n",
    "mutate(nhood_grouping = \"restored_grouping\") %>%\n",
    "mutate(grouping_polarity = \"neg_restored\") \n",
    "\n",
    "neg_restored %>% head(3)\n",
    "neg_restored %>% dim"
   ]
  },
  {
   "cell_type": "code",
   "execution_count": 66,
   "id": "53ffe6f5",
   "metadata": {},
   "outputs": [
    {
     "data": {
      "text/html": [
       "<table class=\"dataframe\">\n",
       "<caption>A tibble: 3 × 8</caption>\n",
       "<thead>\n",
       "\t<tr><th scope=col>labels</th><th scope=col>comparison</th><th scope=col>fgf1_tag</th><th scope=col>bl6_tag</th><th scope=col>fgf1_day</th><th scope=col>bl6_day</th><th scope=col>nhood_grouping</th><th scope=col>grouping_polarity</th></tr>\n",
       "\t<tr><th scope=col>&lt;chr&gt;</th><th scope=col>&lt;chr&gt;</th><th scope=col>&lt;chr&gt;</th><th scope=col>&lt;chr&gt;</th><th scope=col>&lt;chr&gt;</th><th scope=col>&lt;chr&gt;</th><th scope=col>&lt;chr&gt;</th><th scope=col>&lt;chr&gt;</th></tr>\n",
       "</thead>\n",
       "<tbody>\n",
       "\t<tr><td>b1_Tanycytes</td><td>all.obob14v14__v__all.obob14vBL6</td><td>obob14v14</td><td>obob14vBL6</td><td>all</td><td>all</td><td>restored_grouping</td><td>pos_restored</td></tr>\n",
       "\t<tr><td>b1_Tanycytes</td><td>all.obob14v14__v__all.obob5vBL6 </td><td>obob14v14</td><td>obob5vBL6 </td><td>all</td><td>all</td><td>restored_grouping</td><td>pos_restored</td></tr>\n",
       "\t<tr><td>b1_Tanycytes</td><td>all.obob14v14__v__all.obobBL6   </td><td>obob14v14</td><td>obobBL6   </td><td>all</td><td>all</td><td>restored_grouping</td><td>pos_restored</td></tr>\n",
       "</tbody>\n",
       "</table>\n"
      ],
      "text/latex": [
       "A tibble: 3 × 8\n",
       "\\begin{tabular}{llllllll}\n",
       " labels & comparison & fgf1\\_tag & bl6\\_tag & fgf1\\_day & bl6\\_day & nhood\\_grouping & grouping\\_polarity\\\\\n",
       " <chr> & <chr> & <chr> & <chr> & <chr> & <chr> & <chr> & <chr>\\\\\n",
       "\\hline\n",
       "\t b1\\_Tanycytes & all.obob14v14\\_\\_v\\_\\_all.obob14vBL6 & obob14v14 & obob14vBL6 & all & all & restored\\_grouping & pos\\_restored\\\\\n",
       "\t b1\\_Tanycytes & all.obob14v14\\_\\_v\\_\\_all.obob5vBL6  & obob14v14 & obob5vBL6  & all & all & restored\\_grouping & pos\\_restored\\\\\n",
       "\t b1\\_Tanycytes & all.obob14v14\\_\\_v\\_\\_all.obobBL6    & obob14v14 & obobBL6    & all & all & restored\\_grouping & pos\\_restored\\\\\n",
       "\\end{tabular}\n"
      ],
      "text/markdown": [
       "\n",
       "A tibble: 3 × 8\n",
       "\n",
       "| labels &lt;chr&gt; | comparison &lt;chr&gt; | fgf1_tag &lt;chr&gt; | bl6_tag &lt;chr&gt; | fgf1_day &lt;chr&gt; | bl6_day &lt;chr&gt; | nhood_grouping &lt;chr&gt; | grouping_polarity &lt;chr&gt; |\n",
       "|---|---|---|---|---|---|---|---|\n",
       "| b1_Tanycytes | all.obob14v14__v__all.obob14vBL6 | obob14v14 | obob14vBL6 | all | all | restored_grouping | pos_restored |\n",
       "| b1_Tanycytes | all.obob14v14__v__all.obob5vBL6  | obob14v14 | obob5vBL6  | all | all | restored_grouping | pos_restored |\n",
       "| b1_Tanycytes | all.obob14v14__v__all.obobBL6    | obob14v14 | obobBL6    | all | all | restored_grouping | pos_restored |\n",
       "\n"
      ],
      "text/plain": [
       "  labels       comparison                       fgf1_tag  bl6_tag    fgf1_day\n",
       "1 b1_Tanycytes all.obob14v14__v__all.obob14vBL6 obob14v14 obob14vBL6 all     \n",
       "2 b1_Tanycytes all.obob14v14__v__all.obob5vBL6  obob14v14 obob5vBL6  all     \n",
       "3 b1_Tanycytes all.obob14v14__v__all.obobBL6    obob14v14 obobBL6    all     \n",
       "  bl6_day nhood_grouping    grouping_polarity\n",
       "1 all     restored_grouping pos_restored     \n",
       "2 all     restored_grouping pos_restored     \n",
       "3 all     restored_grouping pos_restored     "
      ]
     },
     "metadata": {},
     "output_type": "display_data"
    },
    {
     "data": {
      "text/html": [
       "<style>\n",
       ".list-inline {list-style: none; margin:0; padding: 0}\n",
       ".list-inline>li {display: inline-block}\n",
       ".list-inline>li:not(:last-child)::after {content: \"\\00b7\"; padding: 0 .5ex}\n",
       "</style>\n",
       "<ol class=list-inline><li>101</li><li>8</li></ol>\n"
      ],
      "text/latex": [
       "\\begin{enumerate*}\n",
       "\\item 101\n",
       "\\item 8\n",
       "\\end{enumerate*}\n"
      ],
      "text/markdown": [
       "1. 101\n",
       "2. 8\n",
       "\n",
       "\n"
      ],
      "text/plain": [
       "[1] 101   8"
      ]
     },
     "metadata": {},
     "output_type": "display_data"
    }
   ],
   "source": [
    "pos_restored = all_restored_summary %>% \n",
    "filter(n_restored.pos > 0) %>%\n",
    "make_tags %>%\n",
    "select(labels, comparison, fgf1_tag, bl6_tag, fgf1_day, bl6_day) %>%\n",
    "mutate(nhood_grouping = \"restored_grouping\") %>%\n",
    "mutate(grouping_polarity = \"pos_restored\") \n",
    "\n",
    "pos_restored %>% head(3)\n",
    "pos_restored %>% dim"
   ]
  },
  {
   "cell_type": "code",
   "execution_count": 67,
   "id": "c38de187",
   "metadata": {},
   "outputs": [
    {
     "data": {
      "text/html": [
       "<table class=\"dataframe\">\n",
       "<caption>A tibble: 3 × 8</caption>\n",
       "<thead>\n",
       "\t<tr><th scope=col>labels</th><th scope=col>comparison</th><th scope=col>fgf1_tag</th><th scope=col>bl6_tag</th><th scope=col>fgf1_day</th><th scope=col>bl6_day</th><th scope=col>nhood_grouping</th><th scope=col>grouping_polarity</th></tr>\n",
       "\t<tr><th scope=col>&lt;chr&gt;</th><th scope=col>&lt;chr&gt;</th><th scope=col>&lt;chr&gt;</th><th scope=col>&lt;chr&gt;</th><th scope=col>&lt;chr&gt;</th><th scope=col>&lt;chr&gt;</th><th scope=col>&lt;chr&gt;</th><th scope=col>&lt;chr&gt;</th></tr>\n",
       "</thead>\n",
       "<tbody>\n",
       "\t<tr><td>Astrocytes         </td><td>all.obob5v5__v__all.obob14vBL6</td><td>obob5v5</td><td>obob14vBL6</td><td>all</td><td>all</td><td>restored_grouping</td><td>neg_restored</td></tr>\n",
       "\t<tr><td>Htr3b              </td><td>all.obob5v5__v__all.obob14vBL6</td><td>obob5v5</td><td>obob14vBL6</td><td>all</td><td>all</td><td>restored_grouping</td><td>neg_restored</td></tr>\n",
       "\t<tr><td>a1_Tany__Astrocytes</td><td>all.obob5v5__v__all.obob14vBL6</td><td>obob5v5</td><td>obob14vBL6</td><td>all</td><td>all</td><td>restored_grouping</td><td>neg_restored</td></tr>\n",
       "</tbody>\n",
       "</table>\n"
      ],
      "text/latex": [
       "A tibble: 3 × 8\n",
       "\\begin{tabular}{llllllll}\n",
       " labels & comparison & fgf1\\_tag & bl6\\_tag & fgf1\\_day & bl6\\_day & nhood\\_grouping & grouping\\_polarity\\\\\n",
       " <chr> & <chr> & <chr> & <chr> & <chr> & <chr> & <chr> & <chr>\\\\\n",
       "\\hline\n",
       "\t Astrocytes          & all.obob5v5\\_\\_v\\_\\_all.obob14vBL6 & obob5v5 & obob14vBL6 & all & all & restored\\_grouping & neg\\_restored\\\\\n",
       "\t Htr3b               & all.obob5v5\\_\\_v\\_\\_all.obob14vBL6 & obob5v5 & obob14vBL6 & all & all & restored\\_grouping & neg\\_restored\\\\\n",
       "\t a1\\_Tany\\_\\_Astrocytes & all.obob5v5\\_\\_v\\_\\_all.obob14vBL6 & obob5v5 & obob14vBL6 & all & all & restored\\_grouping & neg\\_restored\\\\\n",
       "\\end{tabular}\n"
      ],
      "text/markdown": [
       "\n",
       "A tibble: 3 × 8\n",
       "\n",
       "| labels &lt;chr&gt; | comparison &lt;chr&gt; | fgf1_tag &lt;chr&gt; | bl6_tag &lt;chr&gt; | fgf1_day &lt;chr&gt; | bl6_day &lt;chr&gt; | nhood_grouping &lt;chr&gt; | grouping_polarity &lt;chr&gt; |\n",
       "|---|---|---|---|---|---|---|---|\n",
       "| Astrocytes          | all.obob5v5__v__all.obob14vBL6 | obob5v5 | obob14vBL6 | all | all | restored_grouping | neg_restored |\n",
       "| Htr3b               | all.obob5v5__v__all.obob14vBL6 | obob5v5 | obob14vBL6 | all | all | restored_grouping | neg_restored |\n",
       "| a1_Tany__Astrocytes | all.obob5v5__v__all.obob14vBL6 | obob5v5 | obob14vBL6 | all | all | restored_grouping | neg_restored |\n",
       "\n"
      ],
      "text/plain": [
       "  labels              comparison                     fgf1_tag bl6_tag   \n",
       "1 Astrocytes          all.obob5v5__v__all.obob14vBL6 obob5v5  obob14vBL6\n",
       "2 Htr3b               all.obob5v5__v__all.obob14vBL6 obob5v5  obob14vBL6\n",
       "3 a1_Tany__Astrocytes all.obob5v5__v__all.obob14vBL6 obob5v5  obob14vBL6\n",
       "  fgf1_day bl6_day nhood_grouping    grouping_polarity\n",
       "1 all      all     restored_grouping neg_restored     \n",
       "2 all      all     restored_grouping neg_restored     \n",
       "3 all      all     restored_grouping neg_restored     "
      ]
     },
     "metadata": {},
     "output_type": "display_data"
    },
    {
     "data": {
      "text/html": [
       "<style>\n",
       ".list-inline {list-style: none; margin:0; padding: 0}\n",
       ".list-inline>li {display: inline-block}\n",
       ".list-inline>li:not(:last-child)::after {content: \"\\00b7\"; padding: 0 .5ex}\n",
       "</style>\n",
       "<ol class=list-inline><li>99</li><li>8</li></ol>\n"
      ],
      "text/latex": [
       "\\begin{enumerate*}\n",
       "\\item 99\n",
       "\\item 8\n",
       "\\end{enumerate*}\n"
      ],
      "text/markdown": [
       "1. 99\n",
       "2. 8\n",
       "\n",
       "\n"
      ],
      "text/plain": [
       "[1] 99  8"
      ]
     },
     "metadata": {},
     "output_type": "display_data"
    }
   ],
   "source": [
    "neg_fgf1 = all_restored_summary %>% \n",
    "filter(n_fgf1.neg > 0) %>%\n",
    "make_tags %>%\n",
    "select(labels, comparison, fgf1_tag, bl6_tag, fgf1_day, bl6_day) %>%\n",
    "mutate(nhood_grouping = \"fgf1_grouping\") %>%\n",
    "mutate(grouping_polarity = \"neg\") \n",
    "\n",
    "neg_restored %>% head(3)\n",
    "neg_restored %>% dim"
   ]
  },
  {
   "cell_type": "code",
   "execution_count": 68,
   "id": "bc9e793e",
   "metadata": {},
   "outputs": [
    {
     "data": {
      "text/html": [
       "<table class=\"dataframe\">\n",
       "<caption>A tibble: 3 × 8</caption>\n",
       "<thead>\n",
       "\t<tr><th scope=col>labels</th><th scope=col>comparison</th><th scope=col>fgf1_tag</th><th scope=col>bl6_tag</th><th scope=col>fgf1_day</th><th scope=col>bl6_day</th><th scope=col>nhood_grouping</th><th scope=col>grouping_polarity</th></tr>\n",
       "\t<tr><th scope=col>&lt;chr&gt;</th><th scope=col>&lt;chr&gt;</th><th scope=col>&lt;chr&gt;</th><th scope=col>&lt;chr&gt;</th><th scope=col>&lt;chr&gt;</th><th scope=col>&lt;chr&gt;</th><th scope=col>&lt;chr&gt;</th><th scope=col>&lt;chr&gt;</th></tr>\n",
       "</thead>\n",
       "<tbody>\n",
       "\t<tr><td>Astrocytes         </td><td>all.obob5v5__v__all.obob14vBL6</td><td>obob5v5</td><td>obob14vBL6</td><td>all</td><td>all</td><td>restored_grouping</td><td>neg_restored</td></tr>\n",
       "\t<tr><td>Htr3b              </td><td>all.obob5v5__v__all.obob14vBL6</td><td>obob5v5</td><td>obob14vBL6</td><td>all</td><td>all</td><td>restored_grouping</td><td>neg_restored</td></tr>\n",
       "\t<tr><td>a1_Tany__Astrocytes</td><td>all.obob5v5__v__all.obob14vBL6</td><td>obob5v5</td><td>obob14vBL6</td><td>all</td><td>all</td><td>restored_grouping</td><td>neg_restored</td></tr>\n",
       "</tbody>\n",
       "</table>\n"
      ],
      "text/latex": [
       "A tibble: 3 × 8\n",
       "\\begin{tabular}{llllllll}\n",
       " labels & comparison & fgf1\\_tag & bl6\\_tag & fgf1\\_day & bl6\\_day & nhood\\_grouping & grouping\\_polarity\\\\\n",
       " <chr> & <chr> & <chr> & <chr> & <chr> & <chr> & <chr> & <chr>\\\\\n",
       "\\hline\n",
       "\t Astrocytes          & all.obob5v5\\_\\_v\\_\\_all.obob14vBL6 & obob5v5 & obob14vBL6 & all & all & restored\\_grouping & neg\\_restored\\\\\n",
       "\t Htr3b               & all.obob5v5\\_\\_v\\_\\_all.obob14vBL6 & obob5v5 & obob14vBL6 & all & all & restored\\_grouping & neg\\_restored\\\\\n",
       "\t a1\\_Tany\\_\\_Astrocytes & all.obob5v5\\_\\_v\\_\\_all.obob14vBL6 & obob5v5 & obob14vBL6 & all & all & restored\\_grouping & neg\\_restored\\\\\n",
       "\\end{tabular}\n"
      ],
      "text/markdown": [
       "\n",
       "A tibble: 3 × 8\n",
       "\n",
       "| labels &lt;chr&gt; | comparison &lt;chr&gt; | fgf1_tag &lt;chr&gt; | bl6_tag &lt;chr&gt; | fgf1_day &lt;chr&gt; | bl6_day &lt;chr&gt; | nhood_grouping &lt;chr&gt; | grouping_polarity &lt;chr&gt; |\n",
       "|---|---|---|---|---|---|---|---|\n",
       "| Astrocytes          | all.obob5v5__v__all.obob14vBL6 | obob5v5 | obob14vBL6 | all | all | restored_grouping | neg_restored |\n",
       "| Htr3b               | all.obob5v5__v__all.obob14vBL6 | obob5v5 | obob14vBL6 | all | all | restored_grouping | neg_restored |\n",
       "| a1_Tany__Astrocytes | all.obob5v5__v__all.obob14vBL6 | obob5v5 | obob14vBL6 | all | all | restored_grouping | neg_restored |\n",
       "\n"
      ],
      "text/plain": [
       "  labels              comparison                     fgf1_tag bl6_tag   \n",
       "1 Astrocytes          all.obob5v5__v__all.obob14vBL6 obob5v5  obob14vBL6\n",
       "2 Htr3b               all.obob5v5__v__all.obob14vBL6 obob5v5  obob14vBL6\n",
       "3 a1_Tany__Astrocytes all.obob5v5__v__all.obob14vBL6 obob5v5  obob14vBL6\n",
       "  fgf1_day bl6_day nhood_grouping    grouping_polarity\n",
       "1 all      all     restored_grouping neg_restored     \n",
       "2 all      all     restored_grouping neg_restored     \n",
       "3 all      all     restored_grouping neg_restored     "
      ]
     },
     "metadata": {},
     "output_type": "display_data"
    },
    {
     "data": {
      "text/html": [
       "<style>\n",
       ".list-inline {list-style: none; margin:0; padding: 0}\n",
       ".list-inline>li {display: inline-block}\n",
       ".list-inline>li:not(:last-child)::after {content: \"\\00b7\"; padding: 0 .5ex}\n",
       "</style>\n",
       "<ol class=list-inline><li>99</li><li>8</li></ol>\n"
      ],
      "text/latex": [
       "\\begin{enumerate*}\n",
       "\\item 99\n",
       "\\item 8\n",
       "\\end{enumerate*}\n"
      ],
      "text/markdown": [
       "1. 99\n",
       "2. 8\n",
       "\n",
       "\n"
      ],
      "text/plain": [
       "[1] 99  8"
      ]
     },
     "metadata": {},
     "output_type": "display_data"
    }
   ],
   "source": [
    "pos_fgf1 = all_restored_summary %>% \n",
    "filter(n_fgf1.pos > 0) %>%\n",
    "make_tags %>%\n",
    "select(labels, comparison, fgf1_tag, bl6_tag, fgf1_day, bl6_day) %>%\n",
    "mutate(nhood_grouping = \"fgf1_grouping\") %>%\n",
    "mutate(grouping_polarity = \"pos\") \n",
    "\n",
    "neg_restored %>% head(3)\n",
    "neg_restored %>% dim"
   ]
  },
  {
   "cell_type": "code",
   "execution_count": 69,
   "id": "bd86be81",
   "metadata": {},
   "outputs": [
    {
     "data": {
      "text/html": [
       "<table class=\"dataframe\">\n",
       "<caption>A tibble: 3 × 14</caption>\n",
       "<thead>\n",
       "\t<tr><th scope=col>da_results_nhg_output_suffix</th><th scope=col>milo_obj</th><th scope=col>seurat_obj</th><th scope=col>nhm_obj</th><th scope=col>da_results_obj</th><th scope=col>restored_df_obj</th><th scope=col>nhood_grouping</th><th scope=col>grouping_polarity</th><th scope=col>labels</th><th scope=col>comparison</th><th scope=col>fgf1_tag</th><th scope=col>bl6_tag</th><th scope=col>fgf1_day</th><th scope=col>bl6_day</th></tr>\n",
       "\t<tr><th scope=col>&lt;chr&gt;</th><th scope=col>&lt;list&gt;</th><th scope=col>&lt;list&gt;</th><th scope=col>&lt;list&gt;</th><th scope=col>&lt;list&gt;</th><th scope=col>&lt;list&gt;</th><th scope=col>&lt;chr&gt;</th><th scope=col>&lt;chr&gt;</th><th scope=col>&lt;chr&gt;</th><th scope=col>&lt;chr&gt;</th><th scope=col>&lt;chr&gt;</th><th scope=col>&lt;chr&gt;</th><th scope=col>&lt;chr&gt;</th><th scope=col>&lt;chr&gt;</th></tr>\n",
       "</thead>\n",
       "<tbody>\n",
       "\t<tr><td>b1_Tanycytes___all.obob14v14__v__all.obob14vBL6</td><td>milo_b1_Tanycytes</td><td>obj_b1_Tanycytes</td><td>nhm_b1_Tanycytes___obob14v14</td><td>da_results_01_b1_Tanycytes___obob14v14</td><td>restored_df_all.obob14v14__v__all.obob14vBL6</td><td>restored_grouping</td><td>pos_restored</td><td>b1_Tanycytes</td><td>all.obob14v14__v__all.obob14vBL6</td><td>obob14v14</td><td>obob14vBL6</td><td>all</td><td>all</td></tr>\n",
       "\t<tr><td>b1_Tanycytes___all.obob14v14__v__all.obob5vBL6 </td><td>milo_b1_Tanycytes</td><td>obj_b1_Tanycytes</td><td>nhm_b1_Tanycytes___obob14v14</td><td>da_results_01_b1_Tanycytes___obob14v14</td><td>restored_df_all.obob14v14__v__all.obob5vBL6</td><td>restored_grouping</td><td>pos_restored</td><td>b1_Tanycytes</td><td>all.obob14v14__v__all.obob5vBL6 </td><td>obob14v14</td><td>obob5vBL6 </td><td>all</td><td>all</td></tr>\n",
       "\t<tr><td>b1_Tanycytes___all.obob14v14__v__all.obobBL6   </td><td>milo_b1_Tanycytes</td><td>obj_b1_Tanycytes</td><td>nhm_b1_Tanycytes___obob14v14</td><td>da_results_01_b1_Tanycytes___obob14v14</td><td>restored_df_all.obob14v14__v__all.obobBL6</td><td>restored_grouping</td><td>pos_restored</td><td>b1_Tanycytes</td><td>all.obob14v14__v__all.obobBL6   </td><td>obob14v14</td><td>obobBL6   </td><td>all</td><td>all</td></tr>\n",
       "</tbody>\n",
       "</table>\n"
      ],
      "text/latex": [
       "A tibble: 3 × 14\n",
       "\\begin{tabular}{llllllllllllll}\n",
       " da\\_results\\_nhg\\_output\\_suffix & milo\\_obj & seurat\\_obj & nhm\\_obj & da\\_results\\_obj & restored\\_df\\_obj & nhood\\_grouping & grouping\\_polarity & labels & comparison & fgf1\\_tag & bl6\\_tag & fgf1\\_day & bl6\\_day\\\\\n",
       " <chr> & <list> & <list> & <list> & <list> & <list> & <chr> & <chr> & <chr> & <chr> & <chr> & <chr> & <chr> & <chr>\\\\\n",
       "\\hline\n",
       "\t b1\\_Tanycytes\\_\\_\\_all.obob14v14\\_\\_v\\_\\_all.obob14vBL6 & milo\\_b1\\_Tanycytes & obj\\_b1\\_Tanycytes & nhm\\_b1\\_Tanycytes\\_\\_\\_obob14v14 & da\\_results\\_01\\_b1\\_Tanycytes\\_\\_\\_obob14v14 & restored\\_df\\_all.obob14v14\\_\\_v\\_\\_all.obob14vBL6 & restored\\_grouping & pos\\_restored & b1\\_Tanycytes & all.obob14v14\\_\\_v\\_\\_all.obob14vBL6 & obob14v14 & obob14vBL6 & all & all\\\\\n",
       "\t b1\\_Tanycytes\\_\\_\\_all.obob14v14\\_\\_v\\_\\_all.obob5vBL6  & milo\\_b1\\_Tanycytes & obj\\_b1\\_Tanycytes & nhm\\_b1\\_Tanycytes\\_\\_\\_obob14v14 & da\\_results\\_01\\_b1\\_Tanycytes\\_\\_\\_obob14v14 & restored\\_df\\_all.obob14v14\\_\\_v\\_\\_all.obob5vBL6 & restored\\_grouping & pos\\_restored & b1\\_Tanycytes & all.obob14v14\\_\\_v\\_\\_all.obob5vBL6  & obob14v14 & obob5vBL6  & all & all\\\\\n",
       "\t b1\\_Tanycytes\\_\\_\\_all.obob14v14\\_\\_v\\_\\_all.obobBL6    & milo\\_b1\\_Tanycytes & obj\\_b1\\_Tanycytes & nhm\\_b1\\_Tanycytes\\_\\_\\_obob14v14 & da\\_results\\_01\\_b1\\_Tanycytes\\_\\_\\_obob14v14 & restored\\_df\\_all.obob14v14\\_\\_v\\_\\_all.obobBL6 & restored\\_grouping & pos\\_restored & b1\\_Tanycytes & all.obob14v14\\_\\_v\\_\\_all.obobBL6    & obob14v14 & obobBL6    & all & all\\\\\n",
       "\\end{tabular}\n"
      ],
      "text/markdown": [
       "\n",
       "A tibble: 3 × 14\n",
       "\n",
       "| da_results_nhg_output_suffix &lt;chr&gt; | milo_obj &lt;list&gt; | seurat_obj &lt;list&gt; | nhm_obj &lt;list&gt; | da_results_obj &lt;list&gt; | restored_df_obj &lt;list&gt; | nhood_grouping &lt;chr&gt; | grouping_polarity &lt;chr&gt; | labels &lt;chr&gt; | comparison &lt;chr&gt; | fgf1_tag &lt;chr&gt; | bl6_tag &lt;chr&gt; | fgf1_day &lt;chr&gt; | bl6_day &lt;chr&gt; |\n",
       "|---|---|---|---|---|---|---|---|---|---|---|---|---|---|\n",
       "| b1_Tanycytes___all.obob14v14__v__all.obob14vBL6 | milo_b1_Tanycytes | obj_b1_Tanycytes | nhm_b1_Tanycytes___obob14v14 | da_results_01_b1_Tanycytes___obob14v14 | restored_df_all.obob14v14__v__all.obob14vBL6 | restored_grouping | pos_restored | b1_Tanycytes | all.obob14v14__v__all.obob14vBL6 | obob14v14 | obob14vBL6 | all | all |\n",
       "| b1_Tanycytes___all.obob14v14__v__all.obob5vBL6  | milo_b1_Tanycytes | obj_b1_Tanycytes | nhm_b1_Tanycytes___obob14v14 | da_results_01_b1_Tanycytes___obob14v14 | restored_df_all.obob14v14__v__all.obob5vBL6 | restored_grouping | pos_restored | b1_Tanycytes | all.obob14v14__v__all.obob5vBL6  | obob14v14 | obob5vBL6  | all | all |\n",
       "| b1_Tanycytes___all.obob14v14__v__all.obobBL6    | milo_b1_Tanycytes | obj_b1_Tanycytes | nhm_b1_Tanycytes___obob14v14 | da_results_01_b1_Tanycytes___obob14v14 | restored_df_all.obob14v14__v__all.obobBL6 | restored_grouping | pos_restored | b1_Tanycytes | all.obob14v14__v__all.obobBL6    | obob14v14 | obobBL6    | all | all |\n",
       "\n"
      ],
      "text/plain": [
       "  da_results_nhg_output_suffix                    milo_obj         \n",
       "1 b1_Tanycytes___all.obob14v14__v__all.obob14vBL6 milo_b1_Tanycytes\n",
       "2 b1_Tanycytes___all.obob14v14__v__all.obob5vBL6  milo_b1_Tanycytes\n",
       "3 b1_Tanycytes___all.obob14v14__v__all.obobBL6    milo_b1_Tanycytes\n",
       "  seurat_obj       nhm_obj                     \n",
       "1 obj_b1_Tanycytes nhm_b1_Tanycytes___obob14v14\n",
       "2 obj_b1_Tanycytes nhm_b1_Tanycytes___obob14v14\n",
       "3 obj_b1_Tanycytes nhm_b1_Tanycytes___obob14v14\n",
       "  da_results_obj                        \n",
       "1 da_results_01_b1_Tanycytes___obob14v14\n",
       "2 da_results_01_b1_Tanycytes___obob14v14\n",
       "3 da_results_01_b1_Tanycytes___obob14v14\n",
       "  restored_df_obj                              nhood_grouping   \n",
       "1 restored_df_all.obob14v14__v__all.obob14vBL6 restored_grouping\n",
       "2 restored_df_all.obob14v14__v__all.obob5vBL6  restored_grouping\n",
       "3 restored_df_all.obob14v14__v__all.obobBL6    restored_grouping\n",
       "  grouping_polarity labels       comparison                       fgf1_tag \n",
       "1 pos_restored      b1_Tanycytes all.obob14v14__v__all.obob14vBL6 obob14v14\n",
       "2 pos_restored      b1_Tanycytes all.obob14v14__v__all.obob5vBL6  obob14v14\n",
       "3 pos_restored      b1_Tanycytes all.obob14v14__v__all.obobBL6    obob14v14\n",
       "  bl6_tag    fgf1_day bl6_day\n",
       "1 obob14vBL6 all      all    \n",
       "2 obob5vBL6  all      all    \n",
       "3 obobBL6    all      all    "
      ]
     },
     "metadata": {},
     "output_type": "display_data"
    },
    {
     "data": {
      "text/html": [
       "<style>\n",
       ".list-inline {list-style: none; margin:0; padding: 0}\n",
       ".list-inline>li {display: inline-block}\n",
       ".list-inline>li:not(:last-child)::after {content: \"\\00b7\"; padding: 0 .5ex}\n",
       "</style>\n",
       "<ol class=list-inline><li>549</li><li>14</li></ol>\n"
      ],
      "text/latex": [
       "\\begin{enumerate*}\n",
       "\\item 549\n",
       "\\item 14\n",
       "\\end{enumerate*}\n"
      ],
      "text/markdown": [
       "1. 549\n",
       "2. 14\n",
       "\n",
       "\n"
      ],
      "text/plain": [
       "[1] 549  14"
      ]
     },
     "metadata": {},
     "output_type": "display_data"
    },
    {
     "data": {
      "text/html": [
       "<style>\n",
       ".list-inline {list-style: none; margin:0; padding: 0}\n",
       ".list-inline>li {display: inline-block}\n",
       ".list-inline>li:not(:last-child)::after {content: \"\\00b7\"; padding: 0 .5ex}\n",
       "</style>\n",
       "<ol class=list-inline><li>201</li><li>14</li></ol>\n"
      ],
      "text/latex": [
       "\\begin{enumerate*}\n",
       "\\item 201\n",
       "\\item 14\n",
       "\\end{enumerate*}\n"
      ],
      "text/markdown": [
       "1. 201\n",
       "2. 14\n",
       "\n",
       "\n"
      ],
      "text/plain": [
       "[1] 201  14"
      ]
     },
     "metadata": {},
     "output_type": "display_data"
    }
   ],
   "source": [
    "annotate_nh_grouping_recipe = rbind(pos_restored, neg_restored, pos_fgf1, neg_fgf1) %>%\n",
    "mutate(milo_obj = paste0(\"milo_\", fgf1_day, '.', labels)) %>%\n",
    "mutate(milo_obj = str_replace(milo_obj, fixed(\"_all.\"), '_')) %>%\n",
    "mutate(milo_obj = rlang::syms(milo_obj)) %>%\n",
    "mutate(seurat_obj = paste0(\"obj_\", fgf1_day, '.', labels)) %>%\n",
    "mutate(seurat_obj = str_replace(seurat_obj, fixed(\"_all.\"), '_')) %>%\n",
    "mutate(seurat_obj = rlang::syms(seurat_obj)) %>%\n",
    "mutate(da_results_obj = paste0(\"da_results_01_\", fgf1_day, '.', labels, '___', fgf1_tag)) %>%\n",
    "mutate(da_results_obj = str_replace(da_results_obj, fixed(\"_all.\"), '_')) %>%\n",
    "mutate(da_results_obj = rlang::syms(da_results_obj)) %>%\n",
    "mutate(nhm_obj = paste0(\"nhm_\", fgf1_day, '.', labels, '___', fgf1_tag)) %>%\n",
    "mutate(nhm_obj = str_replace(nhm_obj, fixed(\"_all.\"), '_')) %>%\n",
    "mutate(nhm_obj = rlang::syms(nhm_obj)) %>%\n",
    "mutate(restored_df_obj = paste0(\"restored_df_\", comparison)) %>%\n",
    "mutate(restored_df_obj = rlang::syms(restored_df_obj)) %>%\n",
    "mutate(da_results_nhg_output_suffix = paste0(labels, '___', comparison)) %>%\n",
    "relocate(\"da_results_nhg_output_suffix\", \"milo_obj\", \"seurat_obj\", \"nhm_obj\", \"da_results_obj\", \"restored_df_obj\", \"nhood_grouping\", \"grouping_polarity\")\n",
    "\n",
    "\n",
    "\n",
    "annotate_nh_grouping_recipe %>% head(3)\n",
    "annotate_nh_grouping_recipe %>% dim\n",
    "\n",
    "annotate_nh_grouping_recipe_unique_nhg = annotate_nh_grouping_recipe %>% \n",
    "    distinct(da_results_nhg_output_suffix, .keep_all = TRUE)\n",
    "qs::qsave(annotate_nh_grouping_recipe_unique_nhg, 'annotate_nh_grouping_recipe.qs')\n",
    "annotate_nh_grouping_recipe_unique_nhg %>% dim\n",
    "\n"
   ]
  },
  {
   "cell_type": "code",
   "execution_count": 70,
   "id": "daba04ed",
   "metadata": {},
   "outputs": [
    {
     "data": {
      "text/html": [
       "<table class=\"dataframe\">\n",
       "<caption>A tibble: 3 × 18</caption>\n",
       "<thead>\n",
       "\t<tr><th scope=col>deg_output_suffix</th><th scope=col>da_results_nhg_obj</th><th scope=col>group_a</th><th scope=col>group_b</th><th scope=col>nhgc_obj</th><th scope=col>da_results_nhg_output_suffix</th><th scope=col>milo_obj</th><th scope=col>seurat_obj</th><th scope=col>nhm_obj</th><th scope=col>da_results_obj</th><th scope=col>restored_df_obj</th><th scope=col>nhood_grouping</th><th scope=col>labels</th><th scope=col>comparison</th><th scope=col>fgf1_tag</th><th scope=col>bl6_tag</th><th scope=col>fgf1_day</th><th scope=col>bl6_day</th></tr>\n",
       "\t<tr><th scope=col>&lt;chr&gt;</th><th scope=col>&lt;list&gt;</th><th scope=col>&lt;chr&gt;</th><th scope=col>&lt;chr&gt;</th><th scope=col>&lt;list&gt;</th><th scope=col>&lt;chr&gt;</th><th scope=col>&lt;list&gt;</th><th scope=col>&lt;list&gt;</th><th scope=col>&lt;list&gt;</th><th scope=col>&lt;list&gt;</th><th scope=col>&lt;list&gt;</th><th scope=col>&lt;chr&gt;</th><th scope=col>&lt;chr&gt;</th><th scope=col>&lt;chr&gt;</th><th scope=col>&lt;chr&gt;</th><th scope=col>&lt;chr&gt;</th><th scope=col>&lt;chr&gt;</th><th scope=col>&lt;chr&gt;</th></tr>\n",
       "</thead>\n",
       "<tbody>\n",
       "\t<tr><td>a1_Tany__Astrocytes___all.obob5v5__v__all.obob14vBL6___fgf1_grouping.neg_vs_rest</td><td>da_results_nhg_a1_Tany__Astrocytes___all.obob5v5__v__all.obob14vBL6</td><td>neg</td><td>    </td><td>nhgc_a1_Tany__Astrocytes___all.obob5v5__v__all.obob14vBL6</td><td>a1_Tany__Astrocytes___all.obob5v5__v__all.obob14vBL6</td><td>milo_a1_Tany__Astrocytes</td><td>obj_a1_Tany__Astrocytes</td><td>nhm_a1_Tany__Astrocytes___obob5v5</td><td>da_results_01_a1_Tany__Astrocytes___obob5v5</td><td>restored_df_all.obob5v5__v__all.obob14vBL6</td><td>fgf1_grouping</td><td>a1_Tany__Astrocytes</td><td>all.obob5v5__v__all.obob14vBL6</td><td>obob5v5</td><td>obob14vBL6</td><td>all</td><td>all</td></tr>\n",
       "\t<tr><td>a1_Tany__Astrocytes___all.obob5v5__v__all.obob14vBL6___fgf1_grouping.neg_vs_none</td><td>da_results_nhg_a1_Tany__Astrocytes___all.obob5v5__v__all.obob14vBL6</td><td>neg</td><td>none</td><td>nhgc_a1_Tany__Astrocytes___all.obob5v5__v__all.obob14vBL6</td><td>a1_Tany__Astrocytes___all.obob5v5__v__all.obob14vBL6</td><td>milo_a1_Tany__Astrocytes</td><td>obj_a1_Tany__Astrocytes</td><td>nhm_a1_Tany__Astrocytes___obob5v5</td><td>da_results_01_a1_Tany__Astrocytes___obob5v5</td><td>restored_df_all.obob5v5__v__all.obob14vBL6</td><td>fgf1_grouping</td><td>a1_Tany__Astrocytes</td><td>all.obob5v5__v__all.obob14vBL6</td><td>obob5v5</td><td>obob14vBL6</td><td>all</td><td>all</td></tr>\n",
       "\t<tr><td>a1_Tany__Astrocytes___all.obob5v5__v__all.obob14vBL6___fgf1_grouping.pos_vs_rest</td><td>da_results_nhg_a1_Tany__Astrocytes___all.obob5v5__v__all.obob14vBL6</td><td>pos</td><td>    </td><td>nhgc_a1_Tany__Astrocytes___all.obob5v5__v__all.obob14vBL6</td><td>a1_Tany__Astrocytes___all.obob5v5__v__all.obob14vBL6</td><td>milo_a1_Tany__Astrocytes</td><td>obj_a1_Tany__Astrocytes</td><td>nhm_a1_Tany__Astrocytes___obob5v5</td><td>da_results_01_a1_Tany__Astrocytes___obob5v5</td><td>restored_df_all.obob5v5__v__all.obob14vBL6</td><td>fgf1_grouping</td><td>a1_Tany__Astrocytes</td><td>all.obob5v5__v__all.obob14vBL6</td><td>obob5v5</td><td>obob14vBL6</td><td>all</td><td>all</td></tr>\n",
       "</tbody>\n",
       "</table>\n"
      ],
      "text/latex": [
       "A tibble: 3 × 18\n",
       "\\begin{tabular}{llllllllllllllllll}\n",
       " deg\\_output\\_suffix & da\\_results\\_nhg\\_obj & group\\_a & group\\_b & nhgc\\_obj & da\\_results\\_nhg\\_output\\_suffix & milo\\_obj & seurat\\_obj & nhm\\_obj & da\\_results\\_obj & restored\\_df\\_obj & nhood\\_grouping & labels & comparison & fgf1\\_tag & bl6\\_tag & fgf1\\_day & bl6\\_day\\\\\n",
       " <chr> & <list> & <chr> & <chr> & <list> & <chr> & <list> & <list> & <list> & <list> & <list> & <chr> & <chr> & <chr> & <chr> & <chr> & <chr> & <chr>\\\\\n",
       "\\hline\n",
       "\t a1\\_Tany\\_\\_Astrocytes\\_\\_\\_all.obob5v5\\_\\_v\\_\\_all.obob14vBL6\\_\\_\\_fgf1\\_grouping.neg\\_vs\\_rest & da\\_results\\_nhg\\_a1\\_Tany\\_\\_Astrocytes\\_\\_\\_all.obob5v5\\_\\_v\\_\\_all.obob14vBL6 & neg &      & nhgc\\_a1\\_Tany\\_\\_Astrocytes\\_\\_\\_all.obob5v5\\_\\_v\\_\\_all.obob14vBL6 & a1\\_Tany\\_\\_Astrocytes\\_\\_\\_all.obob5v5\\_\\_v\\_\\_all.obob14vBL6 & milo\\_a1\\_Tany\\_\\_Astrocytes & obj\\_a1\\_Tany\\_\\_Astrocytes & nhm\\_a1\\_Tany\\_\\_Astrocytes\\_\\_\\_obob5v5 & da\\_results\\_01\\_a1\\_Tany\\_\\_Astrocytes\\_\\_\\_obob5v5 & restored\\_df\\_all.obob5v5\\_\\_v\\_\\_all.obob14vBL6 & fgf1\\_grouping & a1\\_Tany\\_\\_Astrocytes & all.obob5v5\\_\\_v\\_\\_all.obob14vBL6 & obob5v5 & obob14vBL6 & all & all\\\\\n",
       "\t a1\\_Tany\\_\\_Astrocytes\\_\\_\\_all.obob5v5\\_\\_v\\_\\_all.obob14vBL6\\_\\_\\_fgf1\\_grouping.neg\\_vs\\_none & da\\_results\\_nhg\\_a1\\_Tany\\_\\_Astrocytes\\_\\_\\_all.obob5v5\\_\\_v\\_\\_all.obob14vBL6 & neg & none & nhgc\\_a1\\_Tany\\_\\_Astrocytes\\_\\_\\_all.obob5v5\\_\\_v\\_\\_all.obob14vBL6 & a1\\_Tany\\_\\_Astrocytes\\_\\_\\_all.obob5v5\\_\\_v\\_\\_all.obob14vBL6 & milo\\_a1\\_Tany\\_\\_Astrocytes & obj\\_a1\\_Tany\\_\\_Astrocytes & nhm\\_a1\\_Tany\\_\\_Astrocytes\\_\\_\\_obob5v5 & da\\_results\\_01\\_a1\\_Tany\\_\\_Astrocytes\\_\\_\\_obob5v5 & restored\\_df\\_all.obob5v5\\_\\_v\\_\\_all.obob14vBL6 & fgf1\\_grouping & a1\\_Tany\\_\\_Astrocytes & all.obob5v5\\_\\_v\\_\\_all.obob14vBL6 & obob5v5 & obob14vBL6 & all & all\\\\\n",
       "\t a1\\_Tany\\_\\_Astrocytes\\_\\_\\_all.obob5v5\\_\\_v\\_\\_all.obob14vBL6\\_\\_\\_fgf1\\_grouping.pos\\_vs\\_rest & da\\_results\\_nhg\\_a1\\_Tany\\_\\_Astrocytes\\_\\_\\_all.obob5v5\\_\\_v\\_\\_all.obob14vBL6 & pos &      & nhgc\\_a1\\_Tany\\_\\_Astrocytes\\_\\_\\_all.obob5v5\\_\\_v\\_\\_all.obob14vBL6 & a1\\_Tany\\_\\_Astrocytes\\_\\_\\_all.obob5v5\\_\\_v\\_\\_all.obob14vBL6 & milo\\_a1\\_Tany\\_\\_Astrocytes & obj\\_a1\\_Tany\\_\\_Astrocytes & nhm\\_a1\\_Tany\\_\\_Astrocytes\\_\\_\\_obob5v5 & da\\_results\\_01\\_a1\\_Tany\\_\\_Astrocytes\\_\\_\\_obob5v5 & restored\\_df\\_all.obob5v5\\_\\_v\\_\\_all.obob14vBL6 & fgf1\\_grouping & a1\\_Tany\\_\\_Astrocytes & all.obob5v5\\_\\_v\\_\\_all.obob14vBL6 & obob5v5 & obob14vBL6 & all & all\\\\\n",
       "\\end{tabular}\n"
      ],
      "text/markdown": [
       "\n",
       "A tibble: 3 × 18\n",
       "\n",
       "| deg_output_suffix &lt;chr&gt; | da_results_nhg_obj &lt;list&gt; | group_a &lt;chr&gt; | group_b &lt;chr&gt; | nhgc_obj &lt;list&gt; | da_results_nhg_output_suffix &lt;chr&gt; | milo_obj &lt;list&gt; | seurat_obj &lt;list&gt; | nhm_obj &lt;list&gt; | da_results_obj &lt;list&gt; | restored_df_obj &lt;list&gt; | nhood_grouping &lt;chr&gt; | labels &lt;chr&gt; | comparison &lt;chr&gt; | fgf1_tag &lt;chr&gt; | bl6_tag &lt;chr&gt; | fgf1_day &lt;chr&gt; | bl6_day &lt;chr&gt; |\n",
       "|---|---|---|---|---|---|---|---|---|---|---|---|---|---|---|---|---|---|\n",
       "| a1_Tany__Astrocytes___all.obob5v5__v__all.obob14vBL6___fgf1_grouping.neg_vs_rest | da_results_nhg_a1_Tany__Astrocytes___all.obob5v5__v__all.obob14vBL6 | neg | <!----> | nhgc_a1_Tany__Astrocytes___all.obob5v5__v__all.obob14vBL6 | a1_Tany__Astrocytes___all.obob5v5__v__all.obob14vBL6 | milo_a1_Tany__Astrocytes | obj_a1_Tany__Astrocytes | nhm_a1_Tany__Astrocytes___obob5v5 | da_results_01_a1_Tany__Astrocytes___obob5v5 | restored_df_all.obob5v5__v__all.obob14vBL6 | fgf1_grouping | a1_Tany__Astrocytes | all.obob5v5__v__all.obob14vBL6 | obob5v5 | obob14vBL6 | all | all |\n",
       "| a1_Tany__Astrocytes___all.obob5v5__v__all.obob14vBL6___fgf1_grouping.neg_vs_none | da_results_nhg_a1_Tany__Astrocytes___all.obob5v5__v__all.obob14vBL6 | neg | none | nhgc_a1_Tany__Astrocytes___all.obob5v5__v__all.obob14vBL6 | a1_Tany__Astrocytes___all.obob5v5__v__all.obob14vBL6 | milo_a1_Tany__Astrocytes | obj_a1_Tany__Astrocytes | nhm_a1_Tany__Astrocytes___obob5v5 | da_results_01_a1_Tany__Astrocytes___obob5v5 | restored_df_all.obob5v5__v__all.obob14vBL6 | fgf1_grouping | a1_Tany__Astrocytes | all.obob5v5__v__all.obob14vBL6 | obob5v5 | obob14vBL6 | all | all |\n",
       "| a1_Tany__Astrocytes___all.obob5v5__v__all.obob14vBL6___fgf1_grouping.pos_vs_rest | da_results_nhg_a1_Tany__Astrocytes___all.obob5v5__v__all.obob14vBL6 | pos | <!----> | nhgc_a1_Tany__Astrocytes___all.obob5v5__v__all.obob14vBL6 | a1_Tany__Astrocytes___all.obob5v5__v__all.obob14vBL6 | milo_a1_Tany__Astrocytes | obj_a1_Tany__Astrocytes | nhm_a1_Tany__Astrocytes___obob5v5 | da_results_01_a1_Tany__Astrocytes___obob5v5 | restored_df_all.obob5v5__v__all.obob14vBL6 | fgf1_grouping | a1_Tany__Astrocytes | all.obob5v5__v__all.obob14vBL6 | obob5v5 | obob14vBL6 | all | all |\n",
       "\n"
      ],
      "text/plain": [
       "  deg_output_suffix                                                               \n",
       "1 a1_Tany__Astrocytes___all.obob5v5__v__all.obob14vBL6___fgf1_grouping.neg_vs_rest\n",
       "2 a1_Tany__Astrocytes___all.obob5v5__v__all.obob14vBL6___fgf1_grouping.neg_vs_none\n",
       "3 a1_Tany__Astrocytes___all.obob5v5__v__all.obob14vBL6___fgf1_grouping.pos_vs_rest\n",
       "  da_results_nhg_obj                                                  group_a\n",
       "1 da_results_nhg_a1_Tany__Astrocytes___all.obob5v5__v__all.obob14vBL6 neg    \n",
       "2 da_results_nhg_a1_Tany__Astrocytes___all.obob5v5__v__all.obob14vBL6 neg    \n",
       "3 da_results_nhg_a1_Tany__Astrocytes___all.obob5v5__v__all.obob14vBL6 pos    \n",
       "  group_b nhgc_obj                                                 \n",
       "1         nhgc_a1_Tany__Astrocytes___all.obob5v5__v__all.obob14vBL6\n",
       "2 none    nhgc_a1_Tany__Astrocytes___all.obob5v5__v__all.obob14vBL6\n",
       "3         nhgc_a1_Tany__Astrocytes___all.obob5v5__v__all.obob14vBL6\n",
       "  da_results_nhg_output_suffix                         milo_obj                \n",
       "1 a1_Tany__Astrocytes___all.obob5v5__v__all.obob14vBL6 milo_a1_Tany__Astrocytes\n",
       "2 a1_Tany__Astrocytes___all.obob5v5__v__all.obob14vBL6 milo_a1_Tany__Astrocytes\n",
       "3 a1_Tany__Astrocytes___all.obob5v5__v__all.obob14vBL6 milo_a1_Tany__Astrocytes\n",
       "  seurat_obj              nhm_obj                          \n",
       "1 obj_a1_Tany__Astrocytes nhm_a1_Tany__Astrocytes___obob5v5\n",
       "2 obj_a1_Tany__Astrocytes nhm_a1_Tany__Astrocytes___obob5v5\n",
       "3 obj_a1_Tany__Astrocytes nhm_a1_Tany__Astrocytes___obob5v5\n",
       "  da_results_obj                             \n",
       "1 da_results_01_a1_Tany__Astrocytes___obob5v5\n",
       "2 da_results_01_a1_Tany__Astrocytes___obob5v5\n",
       "3 da_results_01_a1_Tany__Astrocytes___obob5v5\n",
       "  restored_df_obj                            nhood_grouping labels             \n",
       "1 restored_df_all.obob5v5__v__all.obob14vBL6 fgf1_grouping  a1_Tany__Astrocytes\n",
       "2 restored_df_all.obob5v5__v__all.obob14vBL6 fgf1_grouping  a1_Tany__Astrocytes\n",
       "3 restored_df_all.obob5v5__v__all.obob14vBL6 fgf1_grouping  a1_Tany__Astrocytes\n",
       "  comparison                     fgf1_tag bl6_tag    fgf1_day bl6_day\n",
       "1 all.obob5v5__v__all.obob14vBL6 obob5v5  obob14vBL6 all      all    \n",
       "2 all.obob5v5__v__all.obob14vBL6 obob5v5  obob14vBL6 all      all    \n",
       "3 all.obob5v5__v__all.obob14vBL6 obob5v5  obob14vBL6 all      all    "
      ]
     },
     "metadata": {},
     "output_type": "display_data"
    },
    {
     "data": {
      "text/html": [
       "<style>\n",
       ".list-inline {list-style: none; margin:0; padding: 0}\n",
       ".list-inline>li {display: inline-block}\n",
       ".list-inline>li:not(:last-child)::after {content: \"\\00b7\"; padding: 0 .5ex}\n",
       "</style>\n",
       "<ol class=list-inline><li>1380</li><li>18</li></ol>\n"
      ],
      "text/latex": [
       "\\begin{enumerate*}\n",
       "\\item 1380\n",
       "\\item 18\n",
       "\\end{enumerate*}\n"
      ],
      "text/markdown": [
       "1. 1380\n",
       "2. 18\n",
       "\n",
       "\n"
      ],
      "text/plain": [
       "[1] 1380   18"
      ]
     },
     "metadata": {},
     "output_type": "display_data"
    }
   ],
   "source": [
    "deg_restored_recipe = annotate_nh_grouping_recipe %>%\n",
    "mutate(da_results_nhg_obj = rlang::syms(paste0('da_results_nhg_', da_results_nhg_output_suffix))) %>%\n",
    "mutate(nhgc_obj = rlang::syms(paste0('nhgc_', da_results_nhg_output_suffix))) %>%\n",
    "rename(group_a = grouping_polarity) %>%\n",
    "tidyr::crossing(tibble(group_b = c(\"\", \"none\", \"pos\", \"neg\", \"pos_restored\", \"neg_restored\"))) %>%\n",
    "filter(!(group_a == group_b)) %>%\n",
    "filter(!( (nhood_grouping == 'restored_grouping') & (group_b %in% c(\"pos\", \"neg\")) )) %>%\n",
    "filter(!( (nhood_grouping == 'fgf1_grouping') & (group_b %in% c(\"pos_restored\", \"neg_restored\")) )) %>%\n",
    "filter(!( (group_a == 'neg_restored') & (group_b  == \"pos_restored\") )) %>%\n",
    "filter(!( (group_a == 'neg') & (group_b  == \"pos\") )) %>%\n",
    "mutate(group_b_suffix = case_when(group_b == \"\" ~ \"rest\",\n",
    "                                  TRUE ~ group_b)) %>%\n",
    "mutate(deg_output_suffix = paste0(da_results_nhg_output_suffix, '___', nhood_grouping, '.', group_a, '_vs_', group_b_suffix)) %>%\n",
    "select(-group_b_suffix) %>%\n",
    "relocate(\"deg_output_suffix\", \"da_results_nhg_obj\", \"group_a\", \"group_b\", 'nhgc_obj')\n",
    "\n",
    "deg_restored_recipe %>% head(3)\n",
    "deg_restored_recipe %>% dim\n",
    "qs::qsave(deg_restored_recipe, 'deg_restored_recipe.qs')"
   ]
  },
  {
   "cell_type": "code",
   "execution_count": 71,
   "id": "faafcb37",
   "metadata": {},
   "outputs": [
    {
     "data": {
      "text/html": [
       "<table class=\"dataframe\">\n",
       "<caption>A tibble: 3 × 18</caption>\n",
       "<thead>\n",
       "\t<tr><th scope=col>deg_output_suffix</th><th scope=col>da_results_nhg_obj</th><th scope=col>group_a</th><th scope=col>group_b</th><th scope=col>nhgc_obj</th><th scope=col>da_results_nhg_output_suffix</th><th scope=col>milo_obj</th><th scope=col>seurat_obj</th><th scope=col>nhm_obj</th><th scope=col>da_results_obj</th><th scope=col>restored_df_obj</th><th scope=col>nhood_grouping</th><th scope=col>labels</th><th scope=col>comparison</th><th scope=col>fgf1_tag</th><th scope=col>bl6_tag</th><th scope=col>fgf1_day</th><th scope=col>bl6_day</th></tr>\n",
       "\t<tr><th scope=col>&lt;chr&gt;</th><th scope=col>&lt;list&gt;</th><th scope=col>&lt;chr&gt;</th><th scope=col>&lt;chr&gt;</th><th scope=col>&lt;list&gt;</th><th scope=col>&lt;chr&gt;</th><th scope=col>&lt;list&gt;</th><th scope=col>&lt;list&gt;</th><th scope=col>&lt;list&gt;</th><th scope=col>&lt;list&gt;</th><th scope=col>&lt;list&gt;</th><th scope=col>&lt;chr&gt;</th><th scope=col>&lt;chr&gt;</th><th scope=col>&lt;chr&gt;</th><th scope=col>&lt;chr&gt;</th><th scope=col>&lt;chr&gt;</th><th scope=col>&lt;chr&gt;</th><th scope=col>&lt;chr&gt;</th></tr>\n",
       "</thead>\n",
       "<tbody>\n",
       "\t<tr><td>MOL___Day14.obob14v14__v__Day14.obobBL6d14___fgf1_grouping.pos_vs_rest</td><td>da_results_nhg_MOL___Day14.obob14v14__v__Day14.obobBL6d14</td><td>pos</td><td>    </td><td>nhgc_MOL___Day14.obob14v14__v__Day14.obobBL6d14</td><td>MOL___Day14.obob14v14__v__Day14.obobBL6d14</td><td>milo_Day14.MOL</td><td>obj_Day14.MOL</td><td>nhm_Day14.MOL___obob14v14</td><td>da_results_01_Day14.MOL___obob14v14</td><td>restored_df_Day14.obob14v14__v__Day14.obobBL6d14</td><td>fgf1_grouping</td><td>MOL</td><td>Day14.obob14v14__v__Day14.obobBL6d14</td><td>obob14v14</td><td>obobBL6d14</td><td>Day14</td><td>Day14</td></tr>\n",
       "\t<tr><td>MOL___Day14.obob14v14__v__Day14.obobBL6d14___fgf1_grouping.pos_vs_neg </td><td>da_results_nhg_MOL___Day14.obob14v14__v__Day14.obobBL6d14</td><td>pos</td><td>neg </td><td>nhgc_MOL___Day14.obob14v14__v__Day14.obobBL6d14</td><td>MOL___Day14.obob14v14__v__Day14.obobBL6d14</td><td>milo_Day14.MOL</td><td>obj_Day14.MOL</td><td>nhm_Day14.MOL___obob14v14</td><td>da_results_01_Day14.MOL___obob14v14</td><td>restored_df_Day14.obob14v14__v__Day14.obobBL6d14</td><td>fgf1_grouping</td><td>MOL</td><td>Day14.obob14v14__v__Day14.obobBL6d14</td><td>obob14v14</td><td>obobBL6d14</td><td>Day14</td><td>Day14</td></tr>\n",
       "\t<tr><td>MOL___Day14.obob14v14__v__Day14.obobBL6d14___fgf1_grouping.pos_vs_none</td><td>da_results_nhg_MOL___Day14.obob14v14__v__Day14.obobBL6d14</td><td>pos</td><td>none</td><td>nhgc_MOL___Day14.obob14v14__v__Day14.obobBL6d14</td><td>MOL___Day14.obob14v14__v__Day14.obobBL6d14</td><td>milo_Day14.MOL</td><td>obj_Day14.MOL</td><td>nhm_Day14.MOL___obob14v14</td><td>da_results_01_Day14.MOL___obob14v14</td><td>restored_df_Day14.obob14v14__v__Day14.obobBL6d14</td><td>fgf1_grouping</td><td>MOL</td><td>Day14.obob14v14__v__Day14.obobBL6d14</td><td>obob14v14</td><td>obobBL6d14</td><td>Day14</td><td>Day14</td></tr>\n",
       "</tbody>\n",
       "</table>\n"
      ],
      "text/latex": [
       "A tibble: 3 × 18\n",
       "\\begin{tabular}{llllllllllllllllll}\n",
       " deg\\_output\\_suffix & da\\_results\\_nhg\\_obj & group\\_a & group\\_b & nhgc\\_obj & da\\_results\\_nhg\\_output\\_suffix & milo\\_obj & seurat\\_obj & nhm\\_obj & da\\_results\\_obj & restored\\_df\\_obj & nhood\\_grouping & labels & comparison & fgf1\\_tag & bl6\\_tag & fgf1\\_day & bl6\\_day\\\\\n",
       " <chr> & <list> & <chr> & <chr> & <list> & <chr> & <list> & <list> & <list> & <list> & <list> & <chr> & <chr> & <chr> & <chr> & <chr> & <chr> & <chr>\\\\\n",
       "\\hline\n",
       "\t MOL\\_\\_\\_Day14.obob14v14\\_\\_v\\_\\_Day14.obobBL6d14\\_\\_\\_fgf1\\_grouping.pos\\_vs\\_rest & da\\_results\\_nhg\\_MOL\\_\\_\\_Day14.obob14v14\\_\\_v\\_\\_Day14.obobBL6d14 & pos &      & nhgc\\_MOL\\_\\_\\_Day14.obob14v14\\_\\_v\\_\\_Day14.obobBL6d14 & MOL\\_\\_\\_Day14.obob14v14\\_\\_v\\_\\_Day14.obobBL6d14 & milo\\_Day14.MOL & obj\\_Day14.MOL & nhm\\_Day14.MOL\\_\\_\\_obob14v14 & da\\_results\\_01\\_Day14.MOL\\_\\_\\_obob14v14 & restored\\_df\\_Day14.obob14v14\\_\\_v\\_\\_Day14.obobBL6d14 & fgf1\\_grouping & MOL & Day14.obob14v14\\_\\_v\\_\\_Day14.obobBL6d14 & obob14v14 & obobBL6d14 & Day14 & Day14\\\\\n",
       "\t MOL\\_\\_\\_Day14.obob14v14\\_\\_v\\_\\_Day14.obobBL6d14\\_\\_\\_fgf1\\_grouping.pos\\_vs\\_neg  & da\\_results\\_nhg\\_MOL\\_\\_\\_Day14.obob14v14\\_\\_v\\_\\_Day14.obobBL6d14 & pos & neg  & nhgc\\_MOL\\_\\_\\_Day14.obob14v14\\_\\_v\\_\\_Day14.obobBL6d14 & MOL\\_\\_\\_Day14.obob14v14\\_\\_v\\_\\_Day14.obobBL6d14 & milo\\_Day14.MOL & obj\\_Day14.MOL & nhm\\_Day14.MOL\\_\\_\\_obob14v14 & da\\_results\\_01\\_Day14.MOL\\_\\_\\_obob14v14 & restored\\_df\\_Day14.obob14v14\\_\\_v\\_\\_Day14.obobBL6d14 & fgf1\\_grouping & MOL & Day14.obob14v14\\_\\_v\\_\\_Day14.obobBL6d14 & obob14v14 & obobBL6d14 & Day14 & Day14\\\\\n",
       "\t MOL\\_\\_\\_Day14.obob14v14\\_\\_v\\_\\_Day14.obobBL6d14\\_\\_\\_fgf1\\_grouping.pos\\_vs\\_none & da\\_results\\_nhg\\_MOL\\_\\_\\_Day14.obob14v14\\_\\_v\\_\\_Day14.obobBL6d14 & pos & none & nhgc\\_MOL\\_\\_\\_Day14.obob14v14\\_\\_v\\_\\_Day14.obobBL6d14 & MOL\\_\\_\\_Day14.obob14v14\\_\\_v\\_\\_Day14.obobBL6d14 & milo\\_Day14.MOL & obj\\_Day14.MOL & nhm\\_Day14.MOL\\_\\_\\_obob14v14 & da\\_results\\_01\\_Day14.MOL\\_\\_\\_obob14v14 & restored\\_df\\_Day14.obob14v14\\_\\_v\\_\\_Day14.obobBL6d14 & fgf1\\_grouping & MOL & Day14.obob14v14\\_\\_v\\_\\_Day14.obobBL6d14 & obob14v14 & obobBL6d14 & Day14 & Day14\\\\\n",
       "\\end{tabular}\n"
      ],
      "text/markdown": [
       "\n",
       "A tibble: 3 × 18\n",
       "\n",
       "| deg_output_suffix &lt;chr&gt; | da_results_nhg_obj &lt;list&gt; | group_a &lt;chr&gt; | group_b &lt;chr&gt; | nhgc_obj &lt;list&gt; | da_results_nhg_output_suffix &lt;chr&gt; | milo_obj &lt;list&gt; | seurat_obj &lt;list&gt; | nhm_obj &lt;list&gt; | da_results_obj &lt;list&gt; | restored_df_obj &lt;list&gt; | nhood_grouping &lt;chr&gt; | labels &lt;chr&gt; | comparison &lt;chr&gt; | fgf1_tag &lt;chr&gt; | bl6_tag &lt;chr&gt; | fgf1_day &lt;chr&gt; | bl6_day &lt;chr&gt; |\n",
       "|---|---|---|---|---|---|---|---|---|---|---|---|---|---|---|---|---|---|\n",
       "| MOL___Day14.obob14v14__v__Day14.obobBL6d14___fgf1_grouping.pos_vs_rest | da_results_nhg_MOL___Day14.obob14v14__v__Day14.obobBL6d14 | pos | <!----> | nhgc_MOL___Day14.obob14v14__v__Day14.obobBL6d14 | MOL___Day14.obob14v14__v__Day14.obobBL6d14 | milo_Day14.MOL | obj_Day14.MOL | nhm_Day14.MOL___obob14v14 | da_results_01_Day14.MOL___obob14v14 | restored_df_Day14.obob14v14__v__Day14.obobBL6d14 | fgf1_grouping | MOL | Day14.obob14v14__v__Day14.obobBL6d14 | obob14v14 | obobBL6d14 | Day14 | Day14 |\n",
       "| MOL___Day14.obob14v14__v__Day14.obobBL6d14___fgf1_grouping.pos_vs_neg  | da_results_nhg_MOL___Day14.obob14v14__v__Day14.obobBL6d14 | pos | neg  | nhgc_MOL___Day14.obob14v14__v__Day14.obobBL6d14 | MOL___Day14.obob14v14__v__Day14.obobBL6d14 | milo_Day14.MOL | obj_Day14.MOL | nhm_Day14.MOL___obob14v14 | da_results_01_Day14.MOL___obob14v14 | restored_df_Day14.obob14v14__v__Day14.obobBL6d14 | fgf1_grouping | MOL | Day14.obob14v14__v__Day14.obobBL6d14 | obob14v14 | obobBL6d14 | Day14 | Day14 |\n",
       "| MOL___Day14.obob14v14__v__Day14.obobBL6d14___fgf1_grouping.pos_vs_none | da_results_nhg_MOL___Day14.obob14v14__v__Day14.obobBL6d14 | pos | none | nhgc_MOL___Day14.obob14v14__v__Day14.obobBL6d14 | MOL___Day14.obob14v14__v__Day14.obobBL6d14 | milo_Day14.MOL | obj_Day14.MOL | nhm_Day14.MOL___obob14v14 | da_results_01_Day14.MOL___obob14v14 | restored_df_Day14.obob14v14__v__Day14.obobBL6d14 | fgf1_grouping | MOL | Day14.obob14v14__v__Day14.obobBL6d14 | obob14v14 | obobBL6d14 | Day14 | Day14 |\n",
       "\n"
      ],
      "text/plain": [
       "  deg_output_suffix                                                     \n",
       "1 MOL___Day14.obob14v14__v__Day14.obobBL6d14___fgf1_grouping.pos_vs_rest\n",
       "2 MOL___Day14.obob14v14__v__Day14.obobBL6d14___fgf1_grouping.pos_vs_neg \n",
       "3 MOL___Day14.obob14v14__v__Day14.obobBL6d14___fgf1_grouping.pos_vs_none\n",
       "  da_results_nhg_obj                                        group_a group_b\n",
       "1 da_results_nhg_MOL___Day14.obob14v14__v__Day14.obobBL6d14 pos            \n",
       "2 da_results_nhg_MOL___Day14.obob14v14__v__Day14.obobBL6d14 pos     neg    \n",
       "3 da_results_nhg_MOL___Day14.obob14v14__v__Day14.obobBL6d14 pos     none   \n",
       "  nhgc_obj                                       \n",
       "1 nhgc_MOL___Day14.obob14v14__v__Day14.obobBL6d14\n",
       "2 nhgc_MOL___Day14.obob14v14__v__Day14.obobBL6d14\n",
       "3 nhgc_MOL___Day14.obob14v14__v__Day14.obobBL6d14\n",
       "  da_results_nhg_output_suffix               milo_obj       seurat_obj   \n",
       "1 MOL___Day14.obob14v14__v__Day14.obobBL6d14 milo_Day14.MOL obj_Day14.MOL\n",
       "2 MOL___Day14.obob14v14__v__Day14.obobBL6d14 milo_Day14.MOL obj_Day14.MOL\n",
       "3 MOL___Day14.obob14v14__v__Day14.obobBL6d14 milo_Day14.MOL obj_Day14.MOL\n",
       "  nhm_obj                   da_results_obj                     \n",
       "1 nhm_Day14.MOL___obob14v14 da_results_01_Day14.MOL___obob14v14\n",
       "2 nhm_Day14.MOL___obob14v14 da_results_01_Day14.MOL___obob14v14\n",
       "3 nhm_Day14.MOL___obob14v14 da_results_01_Day14.MOL___obob14v14\n",
       "  restored_df_obj                                  nhood_grouping labels\n",
       "1 restored_df_Day14.obob14v14__v__Day14.obobBL6d14 fgf1_grouping  MOL   \n",
       "2 restored_df_Day14.obob14v14__v__Day14.obobBL6d14 fgf1_grouping  MOL   \n",
       "3 restored_df_Day14.obob14v14__v__Day14.obobBL6d14 fgf1_grouping  MOL   \n",
       "  comparison                           fgf1_tag  bl6_tag    fgf1_day bl6_day\n",
       "1 Day14.obob14v14__v__Day14.obobBL6d14 obob14v14 obobBL6d14 Day14    Day14  \n",
       "2 Day14.obob14v14__v__Day14.obobBL6d14 obob14v14 obobBL6d14 Day14    Day14  \n",
       "3 Day14.obob14v14__v__Day14.obobBL6d14 obob14v14 obobBL6d14 Day14    Day14  "
      ]
     },
     "metadata": {},
     "output_type": "display_data"
    }
   ],
   "source": [
    "deg_restored_recipe %>%\n",
    "filter(labels == 'MOL') %>%\n",
    "filter(comparison == 'Day14.obob14v14__v__Day14.obobBL6d14')"
   ]
  },
  {
   "cell_type": "code",
   "execution_count": 83,
   "id": "0627f90f",
   "metadata": {},
   "outputs": [],
   "source": [
    "clusters_tibble = qs::qread('clusters_tibble.qs') %>%\n",
    "    dplyr::rename(labels=label, global_seurat_obj=object)"
   ]
  },
  {
   "cell_type": "code",
   "execution_count": 130,
   "id": "0b8de824",
   "metadata": {},
   "outputs": [
    {
     "data": {
      "text/html": [
       "<style>\n",
       ".list-inline {list-style: none; margin:0; padding: 0}\n",
       ".list-inline>li {display: inline-block}\n",
       ".list-inline>li:not(:last-child)::after {content: \"\\00b7\"; padding: 0 .5ex}\n",
       "</style>\n",
       "<ol class=list-inline><li>1380</li><li>9</li></ol>\n"
      ],
      "text/latex": [
       "\\begin{enumerate*}\n",
       "\\item 1380\n",
       "\\item 9\n",
       "\\end{enumerate*}\n"
      ],
      "text/markdown": [
       "1. 1380\n",
       "2. 9\n",
       "\n",
       "\n"
      ],
      "text/plain": [
       "[1] 1380    9"
      ]
     },
     "metadata": {},
     "output_type": "display_data"
    },
    {
     "data": {
      "text/html": [
       "<table class=\"dataframe\">\n",
       "<caption>A tibble: 6 × 9</caption>\n",
       "<thead>\n",
       "\t<tr><th scope=col>deg_output_suffix</th><th scope=col>global_seurat_obj</th><th scope=col>seurat_obj</th><th scope=col>nhgc_obj</th><th scope=col>deg_ensmus_obj</th><th scope=col>nhood_grouping</th><th scope=col>name</th><th scope=col>group_a</th><th scope=col>group_b</th></tr>\n",
       "\t<tr><th scope=col>&lt;chr&gt;</th><th scope=col>&lt;list&gt;</th><th scope=col>&lt;list&gt;</th><th scope=col>&lt;list&gt;</th><th scope=col>&lt;list&gt;</th><th scope=col>&lt;chr&gt;</th><th scope=col>&lt;chr&gt;</th><th scope=col>&lt;chr&gt;</th><th scope=col>&lt;chr&gt;</th></tr>\n",
       "</thead>\n",
       "<tbody>\n",
       "\t<tr><td>a1_Tany__Astrocytes___all.obob5v5__v__all.obob14vBL6___fgf1_grouping.neg_vs_rest             </td><td>exp_labelled_other</td><td>obj_a1_Tany__Astrocytes</td><td>nhgc_a1_Tany__Astrocytes___all.obob5v5__v__all.obob14vBL6</td><td>deg_ensmus_a1_Tany__Astrocytes___all.obob5v5__v__all.obob14vBL6___fgf1_grouping.neg_vs_rest</td><td>fgf1_grouping    </td><td>a1_Tany__Astrocytes\n",
       "all.obob5v5__v__all.obob14vBL6\n",
       "fgf1_grouping.neg_vs_rest             </td><td>neg         </td><td>    </td></tr>\n",
       "\t<tr><td>a1_Tany__Astrocytes___all.obob5v5__v__all.obob14vBL6___fgf1_grouping.neg_vs_none             </td><td>exp_labelled_other</td><td>obj_a1_Tany__Astrocytes</td><td>nhgc_a1_Tany__Astrocytes___all.obob5v5__v__all.obob14vBL6</td><td>deg_ensmus_a1_Tany__Astrocytes___all.obob5v5__v__all.obob14vBL6___fgf1_grouping.neg_vs_none</td><td>fgf1_grouping    </td><td>a1_Tany__Astrocytes\n",
       "all.obob5v5__v__all.obob14vBL6\n",
       "fgf1_grouping.neg_vs_none             </td><td>neg         </td><td>none</td></tr>\n",
       "\t<tr><td>a1_Tany__Astrocytes___all.obob5v5__v__all.obob14vBL6___fgf1_grouping.pos_vs_rest             </td><td>exp_labelled_other</td><td>obj_a1_Tany__Astrocytes</td><td>nhgc_a1_Tany__Astrocytes___all.obob5v5__v__all.obob14vBL6</td><td>deg_ensmus_a1_Tany__Astrocytes___all.obob5v5__v__all.obob14vBL6___fgf1_grouping.pos_vs_rest</td><td>fgf1_grouping    </td><td>a1_Tany__Astrocytes\n",
       "all.obob5v5__v__all.obob14vBL6\n",
       "fgf1_grouping.pos_vs_rest             </td><td>pos         </td><td>    </td></tr>\n",
       "\t<tr><td>a1_Tany__Astrocytes___all.obob5v5__v__all.obob14vBL6___fgf1_grouping.pos_vs_neg              </td><td>exp_labelled_other</td><td>obj_a1_Tany__Astrocytes</td><td>nhgc_a1_Tany__Astrocytes___all.obob5v5__v__all.obob14vBL6</td><td>deg_ensmus_a1_Tany__Astrocytes___all.obob5v5__v__all.obob14vBL6___fgf1_grouping.pos_vs_neg</td><td>fgf1_grouping    </td><td>a1_Tany__Astrocytes\n",
       "all.obob5v5__v__all.obob14vBL6\n",
       "fgf1_grouping.pos_vs_neg              </td><td>pos         </td><td>neg </td></tr>\n",
       "\t<tr><td>a1_Tany__Astrocytes___all.obob5v5__v__all.obob14vBL6___fgf1_grouping.pos_vs_none             </td><td>exp_labelled_other</td><td>obj_a1_Tany__Astrocytes</td><td>nhgc_a1_Tany__Astrocytes___all.obob5v5__v__all.obob14vBL6</td><td>deg_ensmus_a1_Tany__Astrocytes___all.obob5v5__v__all.obob14vBL6___fgf1_grouping.pos_vs_none</td><td>fgf1_grouping    </td><td>a1_Tany__Astrocytes\n",
       "all.obob5v5__v__all.obob14vBL6\n",
       "fgf1_grouping.pos_vs_none             </td><td>pos         </td><td>none</td></tr>\n",
       "\t<tr><td>a1_Tany__Astrocytes___all.obob5v5__v__all.obob14vBL6___restored_grouping.neg_restored_vs_rest</td><td>exp_labelled_other</td><td>obj_a1_Tany__Astrocytes</td><td>nhgc_a1_Tany__Astrocytes___all.obob5v5__v__all.obob14vBL6</td><td>deg_ensmus_a1_Tany__Astrocytes___all.obob5v5__v__all.obob14vBL6___restored_grouping.neg_restored_vs_rest</td><td>restored_grouping</td><td>a1_Tany__Astrocytes\n",
       "all.obob5v5__v__all.obob14vBL6\n",
       "restored_grouping.neg_restored_vs_rest</td><td>neg_restored</td><td>    </td></tr>\n",
       "</tbody>\n",
       "</table>\n"
      ],
      "text/latex": [
       "A tibble: 6 × 9\n",
       "\\begin{tabular}{lllllllll}\n",
       " deg\\_output\\_suffix & global\\_seurat\\_obj & seurat\\_obj & nhgc\\_obj & deg\\_ensmus\\_obj & nhood\\_grouping & name & group\\_a & group\\_b\\\\\n",
       " <chr> & <list> & <list> & <list> & <list> & <chr> & <chr> & <chr> & <chr>\\\\\n",
       "\\hline\n",
       "\t a1\\_Tany\\_\\_Astrocytes\\_\\_\\_all.obob5v5\\_\\_v\\_\\_all.obob14vBL6\\_\\_\\_fgf1\\_grouping.neg\\_vs\\_rest              & exp\\_labelled\\_other & obj\\_a1\\_Tany\\_\\_Astrocytes & nhgc\\_a1\\_Tany\\_\\_Astrocytes\\_\\_\\_all.obob5v5\\_\\_v\\_\\_all.obob14vBL6 & deg\\_ensmus\\_a1\\_Tany\\_\\_Astrocytes\\_\\_\\_all.obob5v5\\_\\_v\\_\\_all.obob14vBL6\\_\\_\\_fgf1\\_grouping.neg\\_vs\\_rest & fgf1\\_grouping     & a1\\_Tany\\_\\_Astrocytes\n",
       "all.obob5v5\\_\\_v\\_\\_all.obob14vBL6\n",
       "fgf1\\_grouping.neg\\_vs\\_rest              & neg          &     \\\\\n",
       "\t a1\\_Tany\\_\\_Astrocytes\\_\\_\\_all.obob5v5\\_\\_v\\_\\_all.obob14vBL6\\_\\_\\_fgf1\\_grouping.neg\\_vs\\_none              & exp\\_labelled\\_other & obj\\_a1\\_Tany\\_\\_Astrocytes & nhgc\\_a1\\_Tany\\_\\_Astrocytes\\_\\_\\_all.obob5v5\\_\\_v\\_\\_all.obob14vBL6 & deg\\_ensmus\\_a1\\_Tany\\_\\_Astrocytes\\_\\_\\_all.obob5v5\\_\\_v\\_\\_all.obob14vBL6\\_\\_\\_fgf1\\_grouping.neg\\_vs\\_none & fgf1\\_grouping     & a1\\_Tany\\_\\_Astrocytes\n",
       "all.obob5v5\\_\\_v\\_\\_all.obob14vBL6\n",
       "fgf1\\_grouping.neg\\_vs\\_none              & neg          & none\\\\\n",
       "\t a1\\_Tany\\_\\_Astrocytes\\_\\_\\_all.obob5v5\\_\\_v\\_\\_all.obob14vBL6\\_\\_\\_fgf1\\_grouping.pos\\_vs\\_rest              & exp\\_labelled\\_other & obj\\_a1\\_Tany\\_\\_Astrocytes & nhgc\\_a1\\_Tany\\_\\_Astrocytes\\_\\_\\_all.obob5v5\\_\\_v\\_\\_all.obob14vBL6 & deg\\_ensmus\\_a1\\_Tany\\_\\_Astrocytes\\_\\_\\_all.obob5v5\\_\\_v\\_\\_all.obob14vBL6\\_\\_\\_fgf1\\_grouping.pos\\_vs\\_rest & fgf1\\_grouping     & a1\\_Tany\\_\\_Astrocytes\n",
       "all.obob5v5\\_\\_v\\_\\_all.obob14vBL6\n",
       "fgf1\\_grouping.pos\\_vs\\_rest              & pos          &     \\\\\n",
       "\t a1\\_Tany\\_\\_Astrocytes\\_\\_\\_all.obob5v5\\_\\_v\\_\\_all.obob14vBL6\\_\\_\\_fgf1\\_grouping.pos\\_vs\\_neg               & exp\\_labelled\\_other & obj\\_a1\\_Tany\\_\\_Astrocytes & nhgc\\_a1\\_Tany\\_\\_Astrocytes\\_\\_\\_all.obob5v5\\_\\_v\\_\\_all.obob14vBL6 & deg\\_ensmus\\_a1\\_Tany\\_\\_Astrocytes\\_\\_\\_all.obob5v5\\_\\_v\\_\\_all.obob14vBL6\\_\\_\\_fgf1\\_grouping.pos\\_vs\\_neg & fgf1\\_grouping     & a1\\_Tany\\_\\_Astrocytes\n",
       "all.obob5v5\\_\\_v\\_\\_all.obob14vBL6\n",
       "fgf1\\_grouping.pos\\_vs\\_neg               & pos          & neg \\\\\n",
       "\t a1\\_Tany\\_\\_Astrocytes\\_\\_\\_all.obob5v5\\_\\_v\\_\\_all.obob14vBL6\\_\\_\\_fgf1\\_grouping.pos\\_vs\\_none              & exp\\_labelled\\_other & obj\\_a1\\_Tany\\_\\_Astrocytes & nhgc\\_a1\\_Tany\\_\\_Astrocytes\\_\\_\\_all.obob5v5\\_\\_v\\_\\_all.obob14vBL6 & deg\\_ensmus\\_a1\\_Tany\\_\\_Astrocytes\\_\\_\\_all.obob5v5\\_\\_v\\_\\_all.obob14vBL6\\_\\_\\_fgf1\\_grouping.pos\\_vs\\_none & fgf1\\_grouping     & a1\\_Tany\\_\\_Astrocytes\n",
       "all.obob5v5\\_\\_v\\_\\_all.obob14vBL6\n",
       "fgf1\\_grouping.pos\\_vs\\_none              & pos          & none\\\\\n",
       "\t a1\\_Tany\\_\\_Astrocytes\\_\\_\\_all.obob5v5\\_\\_v\\_\\_all.obob14vBL6\\_\\_\\_restored\\_grouping.neg\\_restored\\_vs\\_rest & exp\\_labelled\\_other & obj\\_a1\\_Tany\\_\\_Astrocytes & nhgc\\_a1\\_Tany\\_\\_Astrocytes\\_\\_\\_all.obob5v5\\_\\_v\\_\\_all.obob14vBL6 & deg\\_ensmus\\_a1\\_Tany\\_\\_Astrocytes\\_\\_\\_all.obob5v5\\_\\_v\\_\\_all.obob14vBL6\\_\\_\\_restored\\_grouping.neg\\_restored\\_vs\\_rest & restored\\_grouping & a1\\_Tany\\_\\_Astrocytes\n",
       "all.obob5v5\\_\\_v\\_\\_all.obob14vBL6\n",
       "restored\\_grouping.neg\\_restored\\_vs\\_rest & neg\\_restored &     \\\\\n",
       "\\end{tabular}\n"
      ],
      "text/markdown": [
       "\n",
       "A tibble: 6 × 9\n",
       "\n",
       "| deg_output_suffix &lt;chr&gt; | global_seurat_obj &lt;list&gt; | seurat_obj &lt;list&gt; | nhgc_obj &lt;list&gt; | deg_ensmus_obj &lt;list&gt; | nhood_grouping &lt;chr&gt; | name &lt;chr&gt; | group_a &lt;chr&gt; | group_b &lt;chr&gt; |\n",
       "|---|---|---|---|---|---|---|---|---|\n",
       "| a1_Tany__Astrocytes___all.obob5v5__v__all.obob14vBL6___fgf1_grouping.neg_vs_rest              | exp_labelled_other | obj_a1_Tany__Astrocytes | nhgc_a1_Tany__Astrocytes___all.obob5v5__v__all.obob14vBL6 | deg_ensmus_a1_Tany__Astrocytes___all.obob5v5__v__all.obob14vBL6___fgf1_grouping.neg_vs_rest | fgf1_grouping     | a1_Tany__Astrocytes\n",
       "all.obob5v5__v__all.obob14vBL6\n",
       "fgf1_grouping.neg_vs_rest              | neg          | <!----> |\n",
       "| a1_Tany__Astrocytes___all.obob5v5__v__all.obob14vBL6___fgf1_grouping.neg_vs_none              | exp_labelled_other | obj_a1_Tany__Astrocytes | nhgc_a1_Tany__Astrocytes___all.obob5v5__v__all.obob14vBL6 | deg_ensmus_a1_Tany__Astrocytes___all.obob5v5__v__all.obob14vBL6___fgf1_grouping.neg_vs_none | fgf1_grouping     | a1_Tany__Astrocytes\n",
       "all.obob5v5__v__all.obob14vBL6\n",
       "fgf1_grouping.neg_vs_none              | neg          | none |\n",
       "| a1_Tany__Astrocytes___all.obob5v5__v__all.obob14vBL6___fgf1_grouping.pos_vs_rest              | exp_labelled_other | obj_a1_Tany__Astrocytes | nhgc_a1_Tany__Astrocytes___all.obob5v5__v__all.obob14vBL6 | deg_ensmus_a1_Tany__Astrocytes___all.obob5v5__v__all.obob14vBL6___fgf1_grouping.pos_vs_rest | fgf1_grouping     | a1_Tany__Astrocytes\n",
       "all.obob5v5__v__all.obob14vBL6\n",
       "fgf1_grouping.pos_vs_rest              | pos          | <!----> |\n",
       "| a1_Tany__Astrocytes___all.obob5v5__v__all.obob14vBL6___fgf1_grouping.pos_vs_neg               | exp_labelled_other | obj_a1_Tany__Astrocytes | nhgc_a1_Tany__Astrocytes___all.obob5v5__v__all.obob14vBL6 | deg_ensmus_a1_Tany__Astrocytes___all.obob5v5__v__all.obob14vBL6___fgf1_grouping.pos_vs_neg | fgf1_grouping     | a1_Tany__Astrocytes\n",
       "all.obob5v5__v__all.obob14vBL6\n",
       "fgf1_grouping.pos_vs_neg               | pos          | neg  |\n",
       "| a1_Tany__Astrocytes___all.obob5v5__v__all.obob14vBL6___fgf1_grouping.pos_vs_none              | exp_labelled_other | obj_a1_Tany__Astrocytes | nhgc_a1_Tany__Astrocytes___all.obob5v5__v__all.obob14vBL6 | deg_ensmus_a1_Tany__Astrocytes___all.obob5v5__v__all.obob14vBL6___fgf1_grouping.pos_vs_none | fgf1_grouping     | a1_Tany__Astrocytes\n",
       "all.obob5v5__v__all.obob14vBL6\n",
       "fgf1_grouping.pos_vs_none              | pos          | none |\n",
       "| a1_Tany__Astrocytes___all.obob5v5__v__all.obob14vBL6___restored_grouping.neg_restored_vs_rest | exp_labelled_other | obj_a1_Tany__Astrocytes | nhgc_a1_Tany__Astrocytes___all.obob5v5__v__all.obob14vBL6 | deg_ensmus_a1_Tany__Astrocytes___all.obob5v5__v__all.obob14vBL6___restored_grouping.neg_restored_vs_rest | restored_grouping | a1_Tany__Astrocytes\n",
       "all.obob5v5__v__all.obob14vBL6\n",
       "restored_grouping.neg_restored_vs_rest | neg_restored | <!----> |\n",
       "\n"
      ],
      "text/plain": [
       "  deg_output_suffix                                                                            \n",
       "1 a1_Tany__Astrocytes___all.obob5v5__v__all.obob14vBL6___fgf1_grouping.neg_vs_rest             \n",
       "2 a1_Tany__Astrocytes___all.obob5v5__v__all.obob14vBL6___fgf1_grouping.neg_vs_none             \n",
       "3 a1_Tany__Astrocytes___all.obob5v5__v__all.obob14vBL6___fgf1_grouping.pos_vs_rest             \n",
       "4 a1_Tany__Astrocytes___all.obob5v5__v__all.obob14vBL6___fgf1_grouping.pos_vs_neg              \n",
       "5 a1_Tany__Astrocytes___all.obob5v5__v__all.obob14vBL6___fgf1_grouping.pos_vs_none             \n",
       "6 a1_Tany__Astrocytes___all.obob5v5__v__all.obob14vBL6___restored_grouping.neg_restored_vs_rest\n",
       "  global_seurat_obj  seurat_obj             \n",
       "1 exp_labelled_other obj_a1_Tany__Astrocytes\n",
       "2 exp_labelled_other obj_a1_Tany__Astrocytes\n",
       "3 exp_labelled_other obj_a1_Tany__Astrocytes\n",
       "4 exp_labelled_other obj_a1_Tany__Astrocytes\n",
       "5 exp_labelled_other obj_a1_Tany__Astrocytes\n",
       "6 exp_labelled_other obj_a1_Tany__Astrocytes\n",
       "  nhgc_obj                                                 \n",
       "1 nhgc_a1_Tany__Astrocytes___all.obob5v5__v__all.obob14vBL6\n",
       "2 nhgc_a1_Tany__Astrocytes___all.obob5v5__v__all.obob14vBL6\n",
       "3 nhgc_a1_Tany__Astrocytes___all.obob5v5__v__all.obob14vBL6\n",
       "4 nhgc_a1_Tany__Astrocytes___all.obob5v5__v__all.obob14vBL6\n",
       "5 nhgc_a1_Tany__Astrocytes___all.obob5v5__v__all.obob14vBL6\n",
       "6 nhgc_a1_Tany__Astrocytes___all.obob5v5__v__all.obob14vBL6\n",
       "  deg_ensmus_obj                                                                                          \n",
       "1 deg_ensmus_a1_Tany__Astrocytes___all.obob5v5__v__all.obob14vBL6___fgf1_grouping.neg_vs_rest             \n",
       "2 deg_ensmus_a1_Tany__Astrocytes___all.obob5v5__v__all.obob14vBL6___fgf1_grouping.neg_vs_none             \n",
       "3 deg_ensmus_a1_Tany__Astrocytes___all.obob5v5__v__all.obob14vBL6___fgf1_grouping.pos_vs_rest             \n",
       "4 deg_ensmus_a1_Tany__Astrocytes___all.obob5v5__v__all.obob14vBL6___fgf1_grouping.pos_vs_neg              \n",
       "5 deg_ensmus_a1_Tany__Astrocytes___all.obob5v5__v__all.obob14vBL6___fgf1_grouping.pos_vs_none             \n",
       "6 deg_ensmus_a1_Tany__Astrocytes___all.obob5v5__v__all.obob14vBL6___restored_grouping.neg_restored_vs_rest\n",
       "  nhood_grouping   \n",
       "1 fgf1_grouping    \n",
       "2 fgf1_grouping    \n",
       "3 fgf1_grouping    \n",
       "4 fgf1_grouping    \n",
       "5 fgf1_grouping    \n",
       "6 restored_grouping\n",
       "  name                                                                                       \n",
       "1 a1_Tany__Astrocytes\\nall.obob5v5__v__all.obob14vBL6\\nfgf1_grouping.neg_vs_rest             \n",
       "2 a1_Tany__Astrocytes\\nall.obob5v5__v__all.obob14vBL6\\nfgf1_grouping.neg_vs_none             \n",
       "3 a1_Tany__Astrocytes\\nall.obob5v5__v__all.obob14vBL6\\nfgf1_grouping.pos_vs_rest             \n",
       "4 a1_Tany__Astrocytes\\nall.obob5v5__v__all.obob14vBL6\\nfgf1_grouping.pos_vs_neg              \n",
       "5 a1_Tany__Astrocytes\\nall.obob5v5__v__all.obob14vBL6\\nfgf1_grouping.pos_vs_none             \n",
       "6 a1_Tany__Astrocytes\\nall.obob5v5__v__all.obob14vBL6\\nrestored_grouping.neg_restored_vs_rest\n",
       "  group_a      group_b\n",
       "1 neg                 \n",
       "2 neg          none   \n",
       "3 pos                 \n",
       "4 pos          neg    \n",
       "5 pos          none   \n",
       "6 neg_restored        "
      ]
     },
     "metadata": {},
     "output_type": "display_data"
    }
   ],
   "source": [
    "summary_plot_recipe = deg_restored_recipe %>%\n",
    "left_join(clusters_tibble, by = 'labels') %>%\n",
    "mutate(name = str_replace_all(deg_output_suffix, '___', '\\n')) %>%\n",
    "mutate(deg_ensmus_obj = rlang::syms(paste0('deg_ensmus_', deg_output_suffix))) %>%\n",
    "select(deg_output_suffix, global_seurat_obj, seurat_obj, nhgc_obj, deg_ensmus_obj, nhood_grouping, name, group_a, group_b) %>%\n",
    "# filter(group_a == 'pos') %>%\n",
    "# filter(!str_detect(deg_output_suffix, 'd5')) %>%\n",
    "# filter(!str_detect(deg_output_suffix, 'd14')) %>%\n",
    "distinct\n",
    "\n",
    "summary_plot_recipe %>% dim\n",
    "summary_plot_recipe %>% head\n",
    "qs::qsave(summary_plot_recipe, \"summary_plot_recipe.qs\")"
   ]
  },
  {
   "cell_type": "code",
   "execution_count": 139,
   "id": "029432c7",
   "metadata": {},
   "outputs": [],
   "source": [
    "tibble(prefix = c('deg_summary_plot_gSCT_', 'deg_summary_plot_reSCT_')) %>%\n",
    "tidyr::crossing(summary_plot_recipe) %>%\n",
    "rowwise %>%\n",
    "mutate(target_name = paste0(prefix, deg_output_suffix, collapse='')) %>% \n",
    "ungroup %>%\n",
    "pull(target_name) %>%\n",
    "qs::qsave(\"plot_targets.qs\")"
   ]
  },
  {
   "cell_type": "code",
   "execution_count": 140,
   "id": "7b932ab3",
   "metadata": {},
   "outputs": [
    {
     "data": {
      "text/html": [
       "2760"
      ],
      "text/latex": [
       "2760"
      ],
      "text/markdown": [
       "2760"
      ],
      "text/plain": [
       "[1] 2760"
      ]
     },
     "metadata": {},
     "output_type": "display_data"
    }
   ],
   "source": [
    "length(qs::qread('plot_targets.qs'))"
   ]
  },
  {
   "cell_type": "code",
   "execution_count": 143,
   "id": "0d09fd94",
   "metadata": {},
   "outputs": [
    {
     "data": {
      "text/html": [
       "<table class=\"dataframe\">\n",
       "<caption>A tibble: 1 × 2</caption>\n",
       "<thead>\n",
       "\t<tr><th scope=col>name</th><th scope=col>value</th></tr>\n",
       "\t<tr><th scope=col>&lt;int&gt;</th><th scope=col>&lt;chr&gt;</th></tr>\n",
       "</thead>\n",
       "<tbody>\n",
       "\t<tr><td>3</td><td>deg_summary_plot_gSCT_a1_Tany__Astrocytes___all.obob5v5__v__all.obob14vBL6___fgf1_grouping.pos_vs_neg</td></tr>\n",
       "</tbody>\n",
       "</table>\n"
      ],
      "text/latex": [
       "A tibble: 1 × 2\n",
       "\\begin{tabular}{ll}\n",
       " name & value\\\\\n",
       " <int> & <chr>\\\\\n",
       "\\hline\n",
       "\t 3 & deg\\_summary\\_plot\\_gSCT\\_a1\\_Tany\\_\\_Astrocytes\\_\\_\\_all.obob5v5\\_\\_v\\_\\_all.obob14vBL6\\_\\_\\_fgf1\\_grouping.pos\\_vs\\_neg\\\\\n",
       "\\end{tabular}\n"
      ],
      "text/markdown": [
       "\n",
       "A tibble: 1 × 2\n",
       "\n",
       "| name &lt;int&gt; | value &lt;chr&gt; |\n",
       "|---|---|\n",
       "| 3 | deg_summary_plot_gSCT_a1_Tany__Astrocytes___all.obob5v5__v__all.obob14vBL6___fgf1_grouping.pos_vs_neg |\n",
       "\n"
      ],
      "text/plain": [
       "  name\n",
       "1 3   \n",
       "  value                                                                                                \n",
       "1 deg_summary_plot_gSCT_a1_Tany__Astrocytes___all.obob5v5__v__all.obob14vBL6___fgf1_grouping.pos_vs_neg"
      ]
     },
     "metadata": {},
     "output_type": "display_data"
    }
   ],
   "source": [
    "qs::qread('plot_targets.qs') %>% enframe %>% filter(value == 'deg_summary_plot_gSCT_a1_Tany__Astrocytes___all.obob5v5__v__all.obob14vBL6___fgf1_grouping.pos_vs_neg')"
   ]
  },
  {
   "cell_type": "code",
   "execution_count": 120,
   "id": "6861e2db",
   "metadata": {},
   "outputs": [
    {
     "data": {
      "text/html": [
       "<style>\n",
       ".list-inline {list-style: none; margin:0; padding: 0}\n",
       ".list-inline>li {display: inline-block}\n",
       ".list-inline>li:not(:last-child)::after {content: \"\\00b7\"; padding: 0 .5ex}\n",
       "</style>\n",
       "<ol class=list-inline><li>'all.obob14vBL6'</li><li>'all.obob5vBL6'</li><li>'all.obobBL6'</li></ol>\n"
      ],
      "text/latex": [
       "\\begin{enumerate*}\n",
       "\\item 'all.obob14vBL6'\n",
       "\\item 'all.obob5vBL6'\n",
       "\\item 'all.obobBL6'\n",
       "\\end{enumerate*}\n"
      ],
      "text/markdown": [
       "1. 'all.obob14vBL6'\n",
       "2. 'all.obob5vBL6'\n",
       "3. 'all.obobBL6'\n",
       "\n",
       "\n"
      ],
      "text/plain": [
       "[1] \"all.obob14vBL6\" \"all.obob5vBL6\"  \"all.obobBL6\"   "
      ]
     },
     "metadata": {},
     "output_type": "display_data"
    }
   ],
   "source": [
    "summary_plot_recipe %>%\n",
    "rowwise %>%\n",
    "mutate(blah = str_split(deg_output_suffix, '___')) %>%\n",
    "relocate(blah) %>%\n",
    "mutate(blah = blah[2]) %>%\n",
    "mutate(blah = str_split(blah, '__')) %>%\n",
    "mutate(blah = blah[3]) %>%\n",
    "pull(blah) %>%\n",
    "unique"
   ]
  },
  {
   "cell_type": "code",
   "execution_count": 123,
   "id": "2c5cdd8f",
   "metadata": {},
   "outputs": [
    {
     "data": {
      "text/html": [
       "<table class=\"dataframe\">\n",
       "<caption>A tibble: 9 × 9</caption>\n",
       "<thead>\n",
       "\t<tr><th scope=col>deg_output_suffix</th><th scope=col>global_seurat_obj</th><th scope=col>seurat_obj</th><th scope=col>nhgc_obj</th><th scope=col>deg_ensmus_obj</th><th scope=col>nhood_grouping</th><th scope=col>name</th><th scope=col>group_a</th><th scope=col>group_b</th></tr>\n",
       "\t<tr><th scope=col>&lt;chr&gt;</th><th scope=col>&lt;list&gt;</th><th scope=col>&lt;list&gt;</th><th scope=col>&lt;list&gt;</th><th scope=col>&lt;list&gt;</th><th scope=col>&lt;chr&gt;</th><th scope=col>&lt;chr&gt;</th><th scope=col>&lt;chr&gt;</th><th scope=col>&lt;chr&gt;</th></tr>\n",
       "</thead>\n",
       "<tbody>\n",
       "\t<tr><td>Agrp___all.obob5v5__v__all.obob14vBL6___fgf1_grouping.pos_vs_rest</td><td>exp_labelled_neuron</td><td>obj_Agrp</td><td>nhgc_Agrp___all.obob5v5__v__all.obob14vBL6</td><td>deg_ensmus_Agrp___all.obob5v5__v__all.obob14vBL6___fgf1_grouping.pos_vs_rest</td><td>fgf1_grouping</td><td>Agrp\n",
       "all.obob5v5__v__all.obob14vBL6\n",
       "fgf1_grouping.pos_vs_rest</td><td>pos</td><td>    </td></tr>\n",
       "\t<tr><td>Agrp___all.obob5v5__v__all.obob14vBL6___fgf1_grouping.pos_vs_neg </td><td>exp_labelled_neuron</td><td>obj_Agrp</td><td>nhgc_Agrp___all.obob5v5__v__all.obob14vBL6</td><td>deg_ensmus_Agrp___all.obob5v5__v__all.obob14vBL6___fgf1_grouping.pos_vs_neg</td><td>fgf1_grouping</td><td>Agrp\n",
       "all.obob5v5__v__all.obob14vBL6\n",
       "fgf1_grouping.pos_vs_neg </td><td>pos</td><td>neg </td></tr>\n",
       "\t<tr><td>Agrp___all.obob5v5__v__all.obob14vBL6___fgf1_grouping.pos_vs_none</td><td>exp_labelled_neuron</td><td>obj_Agrp</td><td>nhgc_Agrp___all.obob5v5__v__all.obob14vBL6</td><td>deg_ensmus_Agrp___all.obob5v5__v__all.obob14vBL6___fgf1_grouping.pos_vs_none</td><td>fgf1_grouping</td><td>Agrp\n",
       "all.obob5v5__v__all.obob14vBL6\n",
       "fgf1_grouping.pos_vs_none</td><td>pos</td><td>none</td></tr>\n",
       "\t<tr><td>Agrp___all.obob5v5__v__all.obob5vBL6___fgf1_grouping.pos_vs_rest </td><td>exp_labelled_neuron</td><td>obj_Agrp</td><td>nhgc_Agrp___all.obob5v5__v__all.obob5vBL6</td><td>deg_ensmus_Agrp___all.obob5v5__v__all.obob5vBL6___fgf1_grouping.pos_vs_rest</td><td>fgf1_grouping</td><td>Agrp\n",
       "all.obob5v5__v__all.obob5vBL6\n",
       "fgf1_grouping.pos_vs_rest </td><td>pos</td><td>    </td></tr>\n",
       "\t<tr><td>Agrp___all.obob5v5__v__all.obob5vBL6___fgf1_grouping.pos_vs_neg  </td><td>exp_labelled_neuron</td><td>obj_Agrp</td><td>nhgc_Agrp___all.obob5v5__v__all.obob5vBL6</td><td>deg_ensmus_Agrp___all.obob5v5__v__all.obob5vBL6___fgf1_grouping.pos_vs_neg</td><td>fgf1_grouping</td><td>Agrp\n",
       "all.obob5v5__v__all.obob5vBL6\n",
       "fgf1_grouping.pos_vs_neg  </td><td>pos</td><td>neg </td></tr>\n",
       "\t<tr><td>Agrp___all.obob5v5__v__all.obob5vBL6___fgf1_grouping.pos_vs_none </td><td>exp_labelled_neuron</td><td>obj_Agrp</td><td>nhgc_Agrp___all.obob5v5__v__all.obob5vBL6</td><td>deg_ensmus_Agrp___all.obob5v5__v__all.obob5vBL6___fgf1_grouping.pos_vs_none</td><td>fgf1_grouping</td><td>Agrp\n",
       "all.obob5v5__v__all.obob5vBL6\n",
       "fgf1_grouping.pos_vs_none </td><td>pos</td><td>none</td></tr>\n",
       "\t<tr><td>Agrp___all.obob5v5__v__all.obobBL6___fgf1_grouping.pos_vs_rest   </td><td>exp_labelled_neuron</td><td>obj_Agrp</td><td>nhgc_Agrp___all.obob5v5__v__all.obobBL6</td><td>deg_ensmus_Agrp___all.obob5v5__v__all.obobBL6___fgf1_grouping.pos_vs_rest</td><td>fgf1_grouping</td><td>Agrp\n",
       "all.obob5v5__v__all.obobBL6\n",
       "fgf1_grouping.pos_vs_rest   </td><td>pos</td><td>    </td></tr>\n",
       "\t<tr><td>Agrp___all.obob5v5__v__all.obobBL6___fgf1_grouping.pos_vs_neg    </td><td>exp_labelled_neuron</td><td>obj_Agrp</td><td>nhgc_Agrp___all.obob5v5__v__all.obobBL6</td><td>deg_ensmus_Agrp___all.obob5v5__v__all.obobBL6___fgf1_grouping.pos_vs_neg</td><td>fgf1_grouping</td><td>Agrp\n",
       "all.obob5v5__v__all.obobBL6\n",
       "fgf1_grouping.pos_vs_neg    </td><td>pos</td><td>neg </td></tr>\n",
       "\t<tr><td>Agrp___all.obob5v5__v__all.obobBL6___fgf1_grouping.pos_vs_none   </td><td>exp_labelled_neuron</td><td>obj_Agrp</td><td>nhgc_Agrp___all.obob5v5__v__all.obobBL6</td><td>deg_ensmus_Agrp___all.obob5v5__v__all.obobBL6___fgf1_grouping.pos_vs_none</td><td>fgf1_grouping</td><td>Agrp\n",
       "all.obob5v5__v__all.obobBL6\n",
       "fgf1_grouping.pos_vs_none   </td><td>pos</td><td>none</td></tr>\n",
       "</tbody>\n",
       "</table>\n"
      ],
      "text/latex": [
       "A tibble: 9 × 9\n",
       "\\begin{tabular}{lllllllll}\n",
       " deg\\_output\\_suffix & global\\_seurat\\_obj & seurat\\_obj & nhgc\\_obj & deg\\_ensmus\\_obj & nhood\\_grouping & name & group\\_a & group\\_b\\\\\n",
       " <chr> & <list> & <list> & <list> & <list> & <chr> & <chr> & <chr> & <chr>\\\\\n",
       "\\hline\n",
       "\t Agrp\\_\\_\\_all.obob5v5\\_\\_v\\_\\_all.obob14vBL6\\_\\_\\_fgf1\\_grouping.pos\\_vs\\_rest & exp\\_labelled\\_neuron & obj\\_Agrp & nhgc\\_Agrp\\_\\_\\_all.obob5v5\\_\\_v\\_\\_all.obob14vBL6 & deg\\_ensmus\\_Agrp\\_\\_\\_all.obob5v5\\_\\_v\\_\\_all.obob14vBL6\\_\\_\\_fgf1\\_grouping.pos\\_vs\\_rest & fgf1\\_grouping & Agrp\n",
       "all.obob5v5\\_\\_v\\_\\_all.obob14vBL6\n",
       "fgf1\\_grouping.pos\\_vs\\_rest & pos &     \\\\\n",
       "\t Agrp\\_\\_\\_all.obob5v5\\_\\_v\\_\\_all.obob14vBL6\\_\\_\\_fgf1\\_grouping.pos\\_vs\\_neg  & exp\\_labelled\\_neuron & obj\\_Agrp & nhgc\\_Agrp\\_\\_\\_all.obob5v5\\_\\_v\\_\\_all.obob14vBL6 & deg\\_ensmus\\_Agrp\\_\\_\\_all.obob5v5\\_\\_v\\_\\_all.obob14vBL6\\_\\_\\_fgf1\\_grouping.pos\\_vs\\_neg & fgf1\\_grouping & Agrp\n",
       "all.obob5v5\\_\\_v\\_\\_all.obob14vBL6\n",
       "fgf1\\_grouping.pos\\_vs\\_neg  & pos & neg \\\\\n",
       "\t Agrp\\_\\_\\_all.obob5v5\\_\\_v\\_\\_all.obob14vBL6\\_\\_\\_fgf1\\_grouping.pos\\_vs\\_none & exp\\_labelled\\_neuron & obj\\_Agrp & nhgc\\_Agrp\\_\\_\\_all.obob5v5\\_\\_v\\_\\_all.obob14vBL6 & deg\\_ensmus\\_Agrp\\_\\_\\_all.obob5v5\\_\\_v\\_\\_all.obob14vBL6\\_\\_\\_fgf1\\_grouping.pos\\_vs\\_none & fgf1\\_grouping & Agrp\n",
       "all.obob5v5\\_\\_v\\_\\_all.obob14vBL6\n",
       "fgf1\\_grouping.pos\\_vs\\_none & pos & none\\\\\n",
       "\t Agrp\\_\\_\\_all.obob5v5\\_\\_v\\_\\_all.obob5vBL6\\_\\_\\_fgf1\\_grouping.pos\\_vs\\_rest  & exp\\_labelled\\_neuron & obj\\_Agrp & nhgc\\_Agrp\\_\\_\\_all.obob5v5\\_\\_v\\_\\_all.obob5vBL6 & deg\\_ensmus\\_Agrp\\_\\_\\_all.obob5v5\\_\\_v\\_\\_all.obob5vBL6\\_\\_\\_fgf1\\_grouping.pos\\_vs\\_rest & fgf1\\_grouping & Agrp\n",
       "all.obob5v5\\_\\_v\\_\\_all.obob5vBL6\n",
       "fgf1\\_grouping.pos\\_vs\\_rest  & pos &     \\\\\n",
       "\t Agrp\\_\\_\\_all.obob5v5\\_\\_v\\_\\_all.obob5vBL6\\_\\_\\_fgf1\\_grouping.pos\\_vs\\_neg   & exp\\_labelled\\_neuron & obj\\_Agrp & nhgc\\_Agrp\\_\\_\\_all.obob5v5\\_\\_v\\_\\_all.obob5vBL6 & deg\\_ensmus\\_Agrp\\_\\_\\_all.obob5v5\\_\\_v\\_\\_all.obob5vBL6\\_\\_\\_fgf1\\_grouping.pos\\_vs\\_neg & fgf1\\_grouping & Agrp\n",
       "all.obob5v5\\_\\_v\\_\\_all.obob5vBL6\n",
       "fgf1\\_grouping.pos\\_vs\\_neg   & pos & neg \\\\\n",
       "\t Agrp\\_\\_\\_all.obob5v5\\_\\_v\\_\\_all.obob5vBL6\\_\\_\\_fgf1\\_grouping.pos\\_vs\\_none  & exp\\_labelled\\_neuron & obj\\_Agrp & nhgc\\_Agrp\\_\\_\\_all.obob5v5\\_\\_v\\_\\_all.obob5vBL6 & deg\\_ensmus\\_Agrp\\_\\_\\_all.obob5v5\\_\\_v\\_\\_all.obob5vBL6\\_\\_\\_fgf1\\_grouping.pos\\_vs\\_none & fgf1\\_grouping & Agrp\n",
       "all.obob5v5\\_\\_v\\_\\_all.obob5vBL6\n",
       "fgf1\\_grouping.pos\\_vs\\_none  & pos & none\\\\\n",
       "\t Agrp\\_\\_\\_all.obob5v5\\_\\_v\\_\\_all.obobBL6\\_\\_\\_fgf1\\_grouping.pos\\_vs\\_rest    & exp\\_labelled\\_neuron & obj\\_Agrp & nhgc\\_Agrp\\_\\_\\_all.obob5v5\\_\\_v\\_\\_all.obobBL6 & deg\\_ensmus\\_Agrp\\_\\_\\_all.obob5v5\\_\\_v\\_\\_all.obobBL6\\_\\_\\_fgf1\\_grouping.pos\\_vs\\_rest & fgf1\\_grouping & Agrp\n",
       "all.obob5v5\\_\\_v\\_\\_all.obobBL6\n",
       "fgf1\\_grouping.pos\\_vs\\_rest    & pos &     \\\\\n",
       "\t Agrp\\_\\_\\_all.obob5v5\\_\\_v\\_\\_all.obobBL6\\_\\_\\_fgf1\\_grouping.pos\\_vs\\_neg     & exp\\_labelled\\_neuron & obj\\_Agrp & nhgc\\_Agrp\\_\\_\\_all.obob5v5\\_\\_v\\_\\_all.obobBL6 & deg\\_ensmus\\_Agrp\\_\\_\\_all.obob5v5\\_\\_v\\_\\_all.obobBL6\\_\\_\\_fgf1\\_grouping.pos\\_vs\\_neg & fgf1\\_grouping & Agrp\n",
       "all.obob5v5\\_\\_v\\_\\_all.obobBL6\n",
       "fgf1\\_grouping.pos\\_vs\\_neg     & pos & neg \\\\\n",
       "\t Agrp\\_\\_\\_all.obob5v5\\_\\_v\\_\\_all.obobBL6\\_\\_\\_fgf1\\_grouping.pos\\_vs\\_none    & exp\\_labelled\\_neuron & obj\\_Agrp & nhgc\\_Agrp\\_\\_\\_all.obob5v5\\_\\_v\\_\\_all.obobBL6 & deg\\_ensmus\\_Agrp\\_\\_\\_all.obob5v5\\_\\_v\\_\\_all.obobBL6\\_\\_\\_fgf1\\_grouping.pos\\_vs\\_none & fgf1\\_grouping & Agrp\n",
       "all.obob5v5\\_\\_v\\_\\_all.obobBL6\n",
       "fgf1\\_grouping.pos\\_vs\\_none    & pos & none\\\\\n",
       "\\end{tabular}\n"
      ],
      "text/markdown": [
       "\n",
       "A tibble: 9 × 9\n",
       "\n",
       "| deg_output_suffix &lt;chr&gt; | global_seurat_obj &lt;list&gt; | seurat_obj &lt;list&gt; | nhgc_obj &lt;list&gt; | deg_ensmus_obj &lt;list&gt; | nhood_grouping &lt;chr&gt; | name &lt;chr&gt; | group_a &lt;chr&gt; | group_b &lt;chr&gt; |\n",
       "|---|---|---|---|---|---|---|---|---|\n",
       "| Agrp___all.obob5v5__v__all.obob14vBL6___fgf1_grouping.pos_vs_rest | exp_labelled_neuron | obj_Agrp | nhgc_Agrp___all.obob5v5__v__all.obob14vBL6 | deg_ensmus_Agrp___all.obob5v5__v__all.obob14vBL6___fgf1_grouping.pos_vs_rest | fgf1_grouping | Agrp\n",
       "all.obob5v5__v__all.obob14vBL6\n",
       "fgf1_grouping.pos_vs_rest | pos | <!----> |\n",
       "| Agrp___all.obob5v5__v__all.obob14vBL6___fgf1_grouping.pos_vs_neg  | exp_labelled_neuron | obj_Agrp | nhgc_Agrp___all.obob5v5__v__all.obob14vBL6 | deg_ensmus_Agrp___all.obob5v5__v__all.obob14vBL6___fgf1_grouping.pos_vs_neg | fgf1_grouping | Agrp\n",
       "all.obob5v5__v__all.obob14vBL6\n",
       "fgf1_grouping.pos_vs_neg  | pos | neg  |\n",
       "| Agrp___all.obob5v5__v__all.obob14vBL6___fgf1_grouping.pos_vs_none | exp_labelled_neuron | obj_Agrp | nhgc_Agrp___all.obob5v5__v__all.obob14vBL6 | deg_ensmus_Agrp___all.obob5v5__v__all.obob14vBL6___fgf1_grouping.pos_vs_none | fgf1_grouping | Agrp\n",
       "all.obob5v5__v__all.obob14vBL6\n",
       "fgf1_grouping.pos_vs_none | pos | none |\n",
       "| Agrp___all.obob5v5__v__all.obob5vBL6___fgf1_grouping.pos_vs_rest  | exp_labelled_neuron | obj_Agrp | nhgc_Agrp___all.obob5v5__v__all.obob5vBL6 | deg_ensmus_Agrp___all.obob5v5__v__all.obob5vBL6___fgf1_grouping.pos_vs_rest | fgf1_grouping | Agrp\n",
       "all.obob5v5__v__all.obob5vBL6\n",
       "fgf1_grouping.pos_vs_rest  | pos | <!----> |\n",
       "| Agrp___all.obob5v5__v__all.obob5vBL6___fgf1_grouping.pos_vs_neg   | exp_labelled_neuron | obj_Agrp | nhgc_Agrp___all.obob5v5__v__all.obob5vBL6 | deg_ensmus_Agrp___all.obob5v5__v__all.obob5vBL6___fgf1_grouping.pos_vs_neg | fgf1_grouping | Agrp\n",
       "all.obob5v5__v__all.obob5vBL6\n",
       "fgf1_grouping.pos_vs_neg   | pos | neg  |\n",
       "| Agrp___all.obob5v5__v__all.obob5vBL6___fgf1_grouping.pos_vs_none  | exp_labelled_neuron | obj_Agrp | nhgc_Agrp___all.obob5v5__v__all.obob5vBL6 | deg_ensmus_Agrp___all.obob5v5__v__all.obob5vBL6___fgf1_grouping.pos_vs_none | fgf1_grouping | Agrp\n",
       "all.obob5v5__v__all.obob5vBL6\n",
       "fgf1_grouping.pos_vs_none  | pos | none |\n",
       "| Agrp___all.obob5v5__v__all.obobBL6___fgf1_grouping.pos_vs_rest    | exp_labelled_neuron | obj_Agrp | nhgc_Agrp___all.obob5v5__v__all.obobBL6 | deg_ensmus_Agrp___all.obob5v5__v__all.obobBL6___fgf1_grouping.pos_vs_rest | fgf1_grouping | Agrp\n",
       "all.obob5v5__v__all.obobBL6\n",
       "fgf1_grouping.pos_vs_rest    | pos | <!----> |\n",
       "| Agrp___all.obob5v5__v__all.obobBL6___fgf1_grouping.pos_vs_neg     | exp_labelled_neuron | obj_Agrp | nhgc_Agrp___all.obob5v5__v__all.obobBL6 | deg_ensmus_Agrp___all.obob5v5__v__all.obobBL6___fgf1_grouping.pos_vs_neg | fgf1_grouping | Agrp\n",
       "all.obob5v5__v__all.obobBL6\n",
       "fgf1_grouping.pos_vs_neg     | pos | neg  |\n",
       "| Agrp___all.obob5v5__v__all.obobBL6___fgf1_grouping.pos_vs_none    | exp_labelled_neuron | obj_Agrp | nhgc_Agrp___all.obob5v5__v__all.obobBL6 | deg_ensmus_Agrp___all.obob5v5__v__all.obobBL6___fgf1_grouping.pos_vs_none | fgf1_grouping | Agrp\n",
       "all.obob5v5__v__all.obobBL6\n",
       "fgf1_grouping.pos_vs_none    | pos | none |\n",
       "\n"
      ],
      "text/plain": [
       "  deg_output_suffix                                                \n",
       "1 Agrp___all.obob5v5__v__all.obob14vBL6___fgf1_grouping.pos_vs_rest\n",
       "2 Agrp___all.obob5v5__v__all.obob14vBL6___fgf1_grouping.pos_vs_neg \n",
       "3 Agrp___all.obob5v5__v__all.obob14vBL6___fgf1_grouping.pos_vs_none\n",
       "4 Agrp___all.obob5v5__v__all.obob5vBL6___fgf1_grouping.pos_vs_rest \n",
       "5 Agrp___all.obob5v5__v__all.obob5vBL6___fgf1_grouping.pos_vs_neg  \n",
       "6 Agrp___all.obob5v5__v__all.obob5vBL6___fgf1_grouping.pos_vs_none \n",
       "7 Agrp___all.obob5v5__v__all.obobBL6___fgf1_grouping.pos_vs_rest   \n",
       "8 Agrp___all.obob5v5__v__all.obobBL6___fgf1_grouping.pos_vs_neg    \n",
       "9 Agrp___all.obob5v5__v__all.obobBL6___fgf1_grouping.pos_vs_none   \n",
       "  global_seurat_obj   seurat_obj nhgc_obj                                  \n",
       "1 exp_labelled_neuron obj_Agrp   nhgc_Agrp___all.obob5v5__v__all.obob14vBL6\n",
       "2 exp_labelled_neuron obj_Agrp   nhgc_Agrp___all.obob5v5__v__all.obob14vBL6\n",
       "3 exp_labelled_neuron obj_Agrp   nhgc_Agrp___all.obob5v5__v__all.obob14vBL6\n",
       "4 exp_labelled_neuron obj_Agrp   nhgc_Agrp___all.obob5v5__v__all.obob5vBL6 \n",
       "5 exp_labelled_neuron obj_Agrp   nhgc_Agrp___all.obob5v5__v__all.obob5vBL6 \n",
       "6 exp_labelled_neuron obj_Agrp   nhgc_Agrp___all.obob5v5__v__all.obob5vBL6 \n",
       "7 exp_labelled_neuron obj_Agrp   nhgc_Agrp___all.obob5v5__v__all.obobBL6   \n",
       "8 exp_labelled_neuron obj_Agrp   nhgc_Agrp___all.obob5v5__v__all.obobBL6   \n",
       "9 exp_labelled_neuron obj_Agrp   nhgc_Agrp___all.obob5v5__v__all.obobBL6   \n",
       "  deg_ensmus_obj                                                              \n",
       "1 deg_ensmus_Agrp___all.obob5v5__v__all.obob14vBL6___fgf1_grouping.pos_vs_rest\n",
       "2 deg_ensmus_Agrp___all.obob5v5__v__all.obob14vBL6___fgf1_grouping.pos_vs_neg \n",
       "3 deg_ensmus_Agrp___all.obob5v5__v__all.obob14vBL6___fgf1_grouping.pos_vs_none\n",
       "4 deg_ensmus_Agrp___all.obob5v5__v__all.obob5vBL6___fgf1_grouping.pos_vs_rest \n",
       "5 deg_ensmus_Agrp___all.obob5v5__v__all.obob5vBL6___fgf1_grouping.pos_vs_neg  \n",
       "6 deg_ensmus_Agrp___all.obob5v5__v__all.obob5vBL6___fgf1_grouping.pos_vs_none \n",
       "7 deg_ensmus_Agrp___all.obob5v5__v__all.obobBL6___fgf1_grouping.pos_vs_rest   \n",
       "8 deg_ensmus_Agrp___all.obob5v5__v__all.obobBL6___fgf1_grouping.pos_vs_neg    \n",
       "9 deg_ensmus_Agrp___all.obob5v5__v__all.obobBL6___fgf1_grouping.pos_vs_none   \n",
       "  nhood_grouping\n",
       "1 fgf1_grouping \n",
       "2 fgf1_grouping \n",
       "3 fgf1_grouping \n",
       "4 fgf1_grouping \n",
       "5 fgf1_grouping \n",
       "6 fgf1_grouping \n",
       "7 fgf1_grouping \n",
       "8 fgf1_grouping \n",
       "9 fgf1_grouping \n",
       "  name                                                            group_a\n",
       "1 Agrp\\nall.obob5v5__v__all.obob14vBL6\\nfgf1_grouping.pos_vs_rest pos    \n",
       "2 Agrp\\nall.obob5v5__v__all.obob14vBL6\\nfgf1_grouping.pos_vs_neg  pos    \n",
       "3 Agrp\\nall.obob5v5__v__all.obob14vBL6\\nfgf1_grouping.pos_vs_none pos    \n",
       "4 Agrp\\nall.obob5v5__v__all.obob5vBL6\\nfgf1_grouping.pos_vs_rest  pos    \n",
       "5 Agrp\\nall.obob5v5__v__all.obob5vBL6\\nfgf1_grouping.pos_vs_neg   pos    \n",
       "6 Agrp\\nall.obob5v5__v__all.obob5vBL6\\nfgf1_grouping.pos_vs_none  pos    \n",
       "7 Agrp\\nall.obob5v5__v__all.obobBL6\\nfgf1_grouping.pos_vs_rest    pos    \n",
       "8 Agrp\\nall.obob5v5__v__all.obobBL6\\nfgf1_grouping.pos_vs_neg     pos    \n",
       "9 Agrp\\nall.obob5v5__v__all.obobBL6\\nfgf1_grouping.pos_vs_none    pos    \n",
       "  group_b\n",
       "1        \n",
       "2 neg    \n",
       "3 none   \n",
       "4        \n",
       "5 neg    \n",
       "6 none   \n",
       "7        \n",
       "8 neg    \n",
       "9 none   "
      ]
     },
     "metadata": {},
     "output_type": "display_data"
    }
   ],
   "source": [
    "summary_plot_recipe %>%\n",
    "filter(str_detect(name, \"^Agrp\"))"
   ]
  },
  {
   "cell_type": "code",
   "execution_count": 151,
   "id": "8dd7a062",
   "metadata": {},
   "outputs": [
    {
     "data": {
      "text/html": [
       "<table class=\"dataframe\">\n",
       "<caption>A tibble: 1 × 18</caption>\n",
       "<thead>\n",
       "\t<tr><th scope=col>name</th><th scope=col>type</th><th scope=col>data</th><th scope=col>command</th><th scope=col>depend</th><th scope=col>seed</th><th scope=col>path</th><th scope=col>time</th><th scope=col>size</th><th scope=col>bytes</th><th scope=col>format</th><th scope=col>repository</th><th scope=col>iteration</th><th scope=col>parent</th><th scope=col>children</th><th scope=col>seconds</th><th scope=col>warnings</th><th scope=col>error</th></tr>\n",
       "\t<tr><th scope=col>&lt;chr&gt;</th><th scope=col>&lt;chr&gt;</th><th scope=col>&lt;chr&gt;</th><th scope=col>&lt;chr&gt;</th><th scope=col>&lt;chr&gt;</th><th scope=col>&lt;int&gt;</th><th scope=col>&lt;list&gt;</th><th scope=col>&lt;dttm&gt;</th><th scope=col>&lt;chr&gt;</th><th scope=col>&lt;int64&gt;</th><th scope=col>&lt;chr&gt;</th><th scope=col>&lt;chr&gt;</th><th scope=col>&lt;chr&gt;</th><th scope=col>&lt;lgl&gt;</th><th scope=col>&lt;list&gt;</th><th scope=col>&lt;dbl&gt;</th><th scope=col>&lt;chr&gt;</th><th scope=col>&lt;chr&gt;</th></tr>\n",
       "</thead>\n",
       "<tbody>\n",
       "\t<tr><td>deg_summary_plot_gSCT_MOL___all.obob5v5__v__all.obob14vBL6___restored_grouping.pos_restored_vs_neg_restored</td><td>stem</td><td>71347b85ff2bcf55</td><td>78c78e3f4da27a11</td><td>4eed89fe7c1645e2</td><td>-2106995575</td><td>outputs/plots/deg_summary/gSCT_MOL___all.obob5v5__v__all.obob14vBL6___restored_grouping.pos_restored_vs_neg_restored.pdf</td><td>2022-12-09 17:58:40</td><td>5872bf1bf9cd2ab3</td><td>4072397</td><td>file</td><td>local</td><td>vector</td><td>NA</td><td>NA</td><td>261.609</td><td>NA</td><td>NA</td></tr>\n",
       "</tbody>\n",
       "</table>\n"
      ],
      "text/latex": [
       "A tibble: 1 × 18\n",
       "\\begin{tabular}{llllllllllllllllll}\n",
       " name & type & data & command & depend & seed & path & time & size & bytes & format & repository & iteration & parent & children & seconds & warnings & error\\\\\n",
       " <chr> & <chr> & <chr> & <chr> & <chr> & <int> & <list> & <dttm> & <chr> & <int64> & <chr> & <chr> & <chr> & <lgl> & <list> & <dbl> & <chr> & <chr>\\\\\n",
       "\\hline\n",
       "\t deg\\_summary\\_plot\\_gSCT\\_MOL\\_\\_\\_all.obob5v5\\_\\_v\\_\\_all.obob14vBL6\\_\\_\\_restored\\_grouping.pos\\_restored\\_vs\\_neg\\_restored & stem & 71347b85ff2bcf55 & 78c78e3f4da27a11 & 4eed89fe7c1645e2 & -2106995575 & outputs/plots/deg\\_summary/gSCT\\_MOL\\_\\_\\_all.obob5v5\\_\\_v\\_\\_all.obob14vBL6\\_\\_\\_restored\\_grouping.pos\\_restored\\_vs\\_neg\\_restored.pdf & 2022-12-09 17:58:40 & 5872bf1bf9cd2ab3 & 4072397 & file & local & vector & NA & NA & 261.609 & NA & NA\\\\\n",
       "\\end{tabular}\n"
      ],
      "text/markdown": [
       "\n",
       "A tibble: 1 × 18\n",
       "\n",
       "| name &lt;chr&gt; | type &lt;chr&gt; | data &lt;chr&gt; | command &lt;chr&gt; | depend &lt;chr&gt; | seed &lt;int&gt; | path &lt;list&gt; | time &lt;dttm&gt; | size &lt;chr&gt; | bytes &lt;int64&gt; | format &lt;chr&gt; | repository &lt;chr&gt; | iteration &lt;chr&gt; | parent &lt;lgl&gt; | children &lt;list&gt; | seconds &lt;dbl&gt; | warnings &lt;chr&gt; | error &lt;chr&gt; |\n",
       "|---|---|---|---|---|---|---|---|---|---|---|---|---|---|---|---|---|---|\n",
       "| deg_summary_plot_gSCT_MOL___all.obob5v5__v__all.obob14vBL6___restored_grouping.pos_restored_vs_neg_restored | stem | 71347b85ff2bcf55 | 78c78e3f4da27a11 | 4eed89fe7c1645e2 | -2106995575 | outputs/plots/deg_summary/gSCT_MOL___all.obob5v5__v__all.obob14vBL6___restored_grouping.pos_restored_vs_neg_restored.pdf | 2022-12-09 17:58:40 | 5872bf1bf9cd2ab3 | 4072397 | file | local | vector | NA | NA | 261.609 | NA | NA |\n",
       "\n"
      ],
      "text/plain": [
       "  name                                                                                                       \n",
       "1 deg_summary_plot_gSCT_MOL___all.obob5v5__v__all.obob14vBL6___restored_grouping.pos_restored_vs_neg_restored\n",
       "  type data             command          depend           seed       \n",
       "1 stem 71347b85ff2bcf55 78c78e3f4da27a11 4eed89fe7c1645e2 -2106995575\n",
       "  path                                                                                                                    \n",
       "1 outputs/plots/deg_summary/gSCT_MOL___all.obob5v5__v__all.obob14vBL6___restored_grouping.pos_restored_vs_neg_restored.pdf\n",
       "  time                size             bytes   format repository iteration\n",
       "1 2022-12-09 17:58:40 5872bf1bf9cd2ab3 4072397 file   local      vector   \n",
       "  parent children seconds warnings error\n",
       "1 NA     NA       261.609 NA       NA   "
      ]
     },
     "metadata": {},
     "output_type": "display_data"
    }
   ],
   "source": [
    "targets::tar_meta() %>% \n",
    "filter(str_detect(name, 'deg_summary_plot_gSCT_MOL___all.obob5v5')) %>%\n",
    "filter(str_detect(name, 'pos_restored')) "
   ]
  },
  {
   "cell_type": "code",
   "execution_count": null,
   "id": "c2da6a05",
   "metadata": {},
   "outputs": [],
   "source": []
  }
 ],
 "metadata": {
  "kernelspec": {
   "display_name": "R [conda env:fgf1_ygg]",
   "language": "R",
   "name": "conda-env-fgf1_ygg-r"
  },
  "language_info": {
   "codemirror_mode": "r",
   "file_extension": ".r",
   "mimetype": "text/x-r-source",
   "name": "R",
   "pygments_lexer": "r",
   "version": "4.1.3"
  }
 },
 "nbformat": 4,
 "nbformat_minor": 5
}
