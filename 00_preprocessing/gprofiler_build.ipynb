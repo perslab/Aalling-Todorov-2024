{
 "cells": [
  {
   "cell_type": "code",
   "execution_count": 1,
   "id": "ff610b6c",
   "metadata": {},
   "outputs": [],
   "source": [
    "import requests\n",
    "import pandas as pd\n",
    "\n",
    "def request_gost_link(members):\n",
    "    r = requests.post(\n",
    "        url='https://biit.cs.ut.ee/gplink/l',\n",
    "        json={\n",
    "        'url': 'https://biit.cs.ut.ee/gprofiler/gost',\n",
    "        'payload': {\n",
    "            'organism':'mmusculus',\n",
    "            'query': members,\n",
    "            'sources' :[\"GO:MF\",\"GO:CC\",\"GO:BP\",\"KEGG\",\"REAC\",\"WP\",\"TF\",\"MIRNA\",\"HPA\",\"CORUM\",\"HP\"], \n",
    "            'no_evidences':False, #skip lookup for evidence codes. Speeds up queries, if there is no interest in evidence codes.\n",
    "            'no_iea':False, #Ignore electonically annotated GO annotations,\n",
    "            'ordered': False, #not an ordered query\n",
    "        },\n",
    "#         'data_version': \"e106_eg53_p16_65fcd97\"\n",
    "        \n",
    "        },\n",
    "        headers={\n",
    "        'User-Agent':'FullPythonRequest'\n",
    "        }\n",
    "    )\n",
    "    return r\n",
    "\n",
    "\n",
    "def request_gost(members):\n",
    "    r = requests.post(\n",
    "        url='https://biit.cs.ut.ee/gprofiler/api/gost/profile/',\n",
    "        json={\n",
    "        'organism':'mmusculus',\n",
    "        'query': members,\n",
    "        'sources' :[\"GO:MF\",\"GO:CC\",\"GO:BP\",\"KEGG\",\"REAC\",\"WP\",\"TF\",\"MIRNA\",\"HPA\",\"CORUM\",\"HP\"], \n",
    "        'no_evidences':False, #skip lookup for evidence codes. Speeds up queries, if there is no interest in evidence codes.\n",
    "        'no_iea':False, #Ignore electonically annotated GO annotations,\n",
    "        'ordered': True #not an ordered query\n",
    "        },\n",
    "        headers={\n",
    "        'User-Agent':'FullPythonRequest'\n",
    "        }\n",
    "    )\n",
    "    return r\n",
    "\n",
    "\n",
    "def make_gost_df(module_members):\n",
    "    module_name, members = [x for x in module_members.items()][0]\n",
    "    cols = ['module',\n",
    "            'link',\n",
    "             'native',\n",
    "             'source',\n",
    "             'name',\n",
    "             'description',\n",
    "             'p_value',\n",
    "             'significant',\n",
    "             'term_size',\n",
    "             'all_module_genes',\n",
    "             'intersections',\n",
    "             'intersection_size',\n",
    "             'query_size',       \n",
    "             'effective_domain_size',\n",
    "             'source_order',\n",
    "             'goshv',\n",
    "             'parents',\n",
    "             'precision',\n",
    "             'recall',\n",
    "             'query',\n",
    "             'group_id',]\n",
    "\n",
    "    gost_df_cols = ['description',\n",
    "                    'effective_domain_size',\n",
    "                    'goshv',\n",
    "                    'intersection_size',\n",
    "                    'intersections',\n",
    "                    'name',\n",
    "                    'native',\n",
    "                    'p_value',\n",
    "                    'parents',\n",
    "                    'precision',\n",
    "                    'query',\n",
    "                    'query_size',\n",
    "                    'recall',\n",
    "                    'significant',\n",
    "                    'source',\n",
    "                    'term_size',\n",
    "                    'source_order',\n",
    "                    'group_id']\n",
    "\n",
    "    r = request_gost(members)\n",
    "\n",
    "    #for module_name, r in gost_requests.items():\n",
    "    #     if 'miss' in module_name:\n",
    "    #         continue\n",
    "    gost_df = pd.DataFrame(r.json()['result'])\n",
    "    if len(gost_df) < 1:\n",
    "        gost_df = pd.DataFrame({x:['NA'] for x in gost_df_cols})\n",
    "    gost_df['module'] = module_name\n",
    "    if 'intersections' in gost_df.columns.tolist():\n",
    "        intersections = gost_df['intersections'].tolist()\n",
    "        intersections_remapped = []\n",
    "        all_genes = []\n",
    "        for ix in intersections:\n",
    "            ix = [x if x is not None else [] for x in ix]\n",
    "            ix_idx = [i for i, e in enumerate(ix) if len(e) > 0]\n",
    "            ix_members = [module_members[module_name][x] for x in ix_idx]\n",
    "            intersections_remapped.append(ix_members)\n",
    "            all_genes.append(module_members[module_name])\n",
    "        gost_df['intersections'] = intersections_remapped\n",
    "        gost_df['all_module_genes'] = all_genes\n",
    "    gost_df['link'] = 'https://biit.cs.ut.ee/gplink/l/'+ request_gost_link(members).json()['result']\n",
    "    gost_df = gost_df[cols]\n",
    "    return gost_df"
   ]
  },
  {
   "cell_type": "code",
   "execution_count": 7,
   "id": "f6debf99",
   "metadata": {},
   "outputs": [],
   "source": [
    "df = make_gost_df({'test1': ['aa', 'bb', 'cc']})"
   ]
  },
  {
   "cell_type": "code",
   "execution_count": 8,
   "id": "09e3fd83",
   "metadata": {},
   "outputs": [
    {
     "data": {
      "text/html": [
       "<div>\n",
       "<style scoped>\n",
       "    .dataframe tbody tr th:only-of-type {\n",
       "        vertical-align: middle;\n",
       "    }\n",
       "\n",
       "    .dataframe tbody tr th {\n",
       "        vertical-align: top;\n",
       "    }\n",
       "\n",
       "    .dataframe thead th {\n",
       "        text-align: right;\n",
       "    }\n",
       "</style>\n",
       "<table border=\"1\" class=\"dataframe\">\n",
       "  <thead>\n",
       "    <tr style=\"text-align: right;\">\n",
       "      <th></th>\n",
       "      <th>module</th>\n",
       "      <th>link</th>\n",
       "      <th>native</th>\n",
       "      <th>source</th>\n",
       "      <th>name</th>\n",
       "      <th>description</th>\n",
       "      <th>p_value</th>\n",
       "      <th>significant</th>\n",
       "      <th>term_size</th>\n",
       "      <th>all_module_genes</th>\n",
       "      <th>...</th>\n",
       "      <th>intersection_size</th>\n",
       "      <th>query_size</th>\n",
       "      <th>effective_domain_size</th>\n",
       "      <th>source_order</th>\n",
       "      <th>goshv</th>\n",
       "      <th>parents</th>\n",
       "      <th>precision</th>\n",
       "      <th>recall</th>\n",
       "      <th>query</th>\n",
       "      <th>group_id</th>\n",
       "    </tr>\n",
       "  </thead>\n",
       "  <tbody>\n",
       "    <tr>\n",
       "      <th>0</th>\n",
       "      <td>test1</td>\n",
       "      <td>https://biit.cs.ut.ee/gplink/l/-VjtGNVlSs</td>\n",
       "      <td>NA</td>\n",
       "      <td>NA</td>\n",
       "      <td>NA</td>\n",
       "      <td>NA</td>\n",
       "      <td>NA</td>\n",
       "      <td>NA</td>\n",
       "      <td>NA</td>\n",
       "      <td>[aa, bb, cc]</td>\n",
       "      <td>...</td>\n",
       "      <td>NA</td>\n",
       "      <td>NA</td>\n",
       "      <td>NA</td>\n",
       "      <td>NA</td>\n",
       "      <td>NA</td>\n",
       "      <td>NA</td>\n",
       "      <td>NA</td>\n",
       "      <td>NA</td>\n",
       "      <td>NA</td>\n",
       "      <td>NA</td>\n",
       "    </tr>\n",
       "  </tbody>\n",
       "</table>\n",
       "<p>1 rows × 21 columns</p>\n",
       "</div>"
      ],
      "text/plain": [
       "  module                                       link native source name  \\\n",
       "0  test1  https://biit.cs.ut.ee/gplink/l/-VjtGNVlSs     NA     NA   NA   \n",
       "\n",
       "  description p_value significant term_size all_module_genes  ...  \\\n",
       "0          NA      NA          NA        NA     [aa, bb, cc]  ...   \n",
       "\n",
       "  intersection_size query_size effective_domain_size source_order goshv  \\\n",
       "0                NA         NA                    NA           NA    NA   \n",
       "\n",
       "  parents precision recall query group_id  \n",
       "0      NA        NA     NA    NA       NA  \n",
       "\n",
       "[1 rows x 21 columns]"
      ]
     },
     "execution_count": 8,
     "metadata": {},
     "output_type": "execute_result"
    }
   ],
   "source": [
    "df"
   ]
  },
  {
   "cell_type": "code",
   "execution_count": 31,
   "id": "2c3dca40",
   "metadata": {},
   "outputs": [],
   "source": [
    "def list_to_str(some_list):\n",
    "    if some_list:\n",
    "        some_str = ' '.join(some_list)\n",
    "    else:\n",
    "        some_str = str(some_list)\n",
    "    return some_str"
   ]
  },
  {
   "cell_type": "code",
   "execution_count": 10,
   "id": "fdd0781d",
   "metadata": {},
   "outputs": [],
   "source": [
    "df['intersections'] = [list_to_str(x) for x in df['intersections'].tolist()]"
   ]
  },
  {
   "cell_type": "code",
   "execution_count": 11,
   "id": "eb7ed8c3",
   "metadata": {},
   "outputs": [
    {
     "data": {
      "text/plain": [
       "0    aa bb\n",
       "Name: intersections, dtype: object"
      ]
     },
     "execution_count": 11,
     "metadata": {},
     "output_type": "execute_result"
    }
   ],
   "source": [
    "df['intersections']"
   ]
  },
  {
   "cell_type": "code",
   "execution_count": 34,
   "id": "9b2bc822",
   "metadata": {},
   "outputs": [
    {
     "data": {
      "text/html": [
       "<div>\n",
       "<style scoped>\n",
       "    .dataframe tbody tr th:only-of-type {\n",
       "        vertical-align: middle;\n",
       "    }\n",
       "\n",
       "    .dataframe tbody tr th {\n",
       "        vertical-align: top;\n",
       "    }\n",
       "\n",
       "    .dataframe thead th {\n",
       "        text-align: right;\n",
       "    }\n",
       "</style>\n",
       "<table border=\"1\" class=\"dataframe\">\n",
       "  <thead>\n",
       "    <tr style=\"text-align: right;\">\n",
       "      <th></th>\n",
       "      <th>description</th>\n",
       "      <th>effective_domain_size</th>\n",
       "      <th>goshv</th>\n",
       "      <th>intersection_size</th>\n",
       "      <th>intersections</th>\n",
       "      <th>name</th>\n",
       "      <th>native</th>\n",
       "      <th>p_value</th>\n",
       "      <th>parents</th>\n",
       "      <th>precision</th>\n",
       "      <th>query</th>\n",
       "      <th>query_size</th>\n",
       "      <th>recall</th>\n",
       "      <th>significant</th>\n",
       "      <th>source</th>\n",
       "      <th>term_size</th>\n",
       "      <th>source_order</th>\n",
       "      <th>group_id</th>\n",
       "      <th>module</th>\n",
       "      <th>all_module_genes</th>\n",
       "    </tr>\n",
       "  </thead>\n",
       "  <tbody>\n",
       "    <tr>\n",
       "      <th>0</th>\n",
       "      <td>NA</td>\n",
       "      <td>NA</td>\n",
       "      <td>NA</td>\n",
       "      <td>NA</td>\n",
       "      <td>N A</td>\n",
       "      <td>NA</td>\n",
       "      <td>NA</td>\n",
       "      <td>NA</td>\n",
       "      <td>NA</td>\n",
       "      <td>NA</td>\n",
       "      <td>NA</td>\n",
       "      <td>NA</td>\n",
       "      <td>NA</td>\n",
       "      <td>NA</td>\n",
       "      <td>NA</td>\n",
       "      <td>NA</td>\n",
       "      <td>NA</td>\n",
       "      <td>NA</td>\n",
       "      <td>test1</td>\n",
       "      <td>aa bb cc</td>\n",
       "    </tr>\n",
       "  </tbody>\n",
       "</table>\n",
       "</div>"
      ],
      "text/plain": [
       "  description effective_domain_size goshv intersection_size intersections  \\\n",
       "0          NA                    NA    NA                NA           N A   \n",
       "\n",
       "  name native p_value parents precision query query_size recall significant  \\\n",
       "0   NA     NA      NA      NA        NA    NA         NA     NA          NA   \n",
       "\n",
       "  source term_size source_order group_id module all_module_genes  \n",
       "0     NA        NA           NA       NA  test1         aa bb cc  "
      ]
     },
     "execution_count": 34,
     "metadata": {},
     "output_type": "execute_result"
    }
   ],
   "source": [
    "module_members = {'test1': ['aa', 'bb', 'cc']}\n",
    "module_name, members = [x for x in module_members.items()][0]\n",
    "cols = ['module',\n",
    "        'link',\n",
    "         'native',\n",
    "         'source',\n",
    "         'name',\n",
    "         'description',\n",
    "         'p_value',\n",
    "         'significant',\n",
    "         'term_size',\n",
    "         'all_module_genes',\n",
    "         'intersections',\n",
    "         'intersection_size',\n",
    "         'query_size',       \n",
    "         'effective_domain_size',\n",
    "         'source_order',\n",
    "         'goshv',\n",
    "         'parents',\n",
    "         'precision',\n",
    "         'recall',\n",
    "         'query',\n",
    "         'group_id',]\n",
    "\n",
    "gost_df_cols = ['description',\n",
    "                'effective_domain_size',\n",
    "                'goshv',\n",
    "                'intersection_size',\n",
    "                'intersections',\n",
    "                'name',\n",
    "                'native',\n",
    "                'p_value',\n",
    "                'parents',\n",
    "                'precision',\n",
    "                'query',\n",
    "                'query_size',\n",
    "                'recall',\n",
    "                'significant',\n",
    "                'source',\n",
    "                'term_size',\n",
    "                'source_order',\n",
    "                'group_id']\n",
    "\n",
    "r = request_gost(members)\n",
    "\n",
    "#for module_name, r in gost_requests.items():\n",
    "#     if 'miss' in module_name:\n",
    "#         continue\n",
    "gost_df = pd.DataFrame(r.json()['result'])\n",
    "if len(gost_df) < 1:\n",
    "    gost_df = pd.DataFrame({x:['NA'] for x in gost_df_cols})\n",
    "gost_df['module'] = module_name\n",
    "if 'intersections' in gost_df.columns.tolist():\n",
    "    intersections = gost_df['intersections'].tolist()\n",
    "    intersections_remapped = []\n",
    "    all_genes = []\n",
    "    if intersections != ['NA']:\n",
    "        for ix in intersections:\n",
    "            ix = [x if x is not None else [] for x in ix]\n",
    "            ix_idx = [i for i, e in enumerate(ix) if len(e) > 0]\n",
    "            ix_members = [module_members[module_name][x] for x in ix_idx]\n",
    "            intersections_remapped.append(ix_members)\n",
    "            all_genes.append(module_members[module_name])\n",
    "    else:\n",
    "        intersections_remapped = ['NA']\n",
    "        all_genes = [module_members[module_name]]\n",
    "    gost_df['intersections'] = intersections_remapped\n",
    "    gost_df['all_module_genes'] = all_genes\n",
    "# gost_df['link'] = 'https://biit.cs.ut.ee/gplink/l/'+ request_gost_link(members).json()['result']\n",
    "# gost_df = gost_df[cols]\n",
    "gost_df['all_module_genes'] = [list_to_str(x) for x in gost_df['all_module_genes']]\n",
    "gost_df['intersections'] = [list_to_str(x) for x in gost_df['intersections']]\n",
    "gost_df"
   ]
  },
  {
   "cell_type": "code",
   "execution_count": 33,
   "id": "6e7dcec3",
   "metadata": {},
   "outputs": [
    {
     "data": {
      "text/plain": [
       "0    NA\n",
       "Name: intersections, dtype: object"
      ]
     },
     "execution_count": 33,
     "metadata": {},
     "output_type": "execute_result"
    }
   ],
   "source": [
    "gost_df['intersections']"
   ]
  },
  {
   "cell_type": "code",
   "execution_count": null,
   "id": "836b3547",
   "metadata": {},
   "outputs": [],
   "source": []
  },
  {
   "cell_type": "code",
   "execution_count": null,
   "id": "00e84242",
   "metadata": {},
   "outputs": [],
   "source": []
  },
  {
   "cell_type": "code",
   "execution_count": 14,
   "id": "e40fb20a",
   "metadata": {},
   "outputs": [],
   "source": [
    "gost_df = pd.DataFrame(r.json()['result'])"
   ]
  },
  {
   "cell_type": "code",
   "execution_count": 16,
   "id": "aed6f442",
   "metadata": {},
   "outputs": [],
   "source": [
    "gost_df = pd.DataFrame(r.json()['result'])\n",
    "if len(gost_df) < 1:\n",
    "    gost_df = pd.DataFrame({x:['NA'] for x in gost_df_cols})"
   ]
  },
  {
   "cell_type": "code",
   "execution_count": 21,
   "id": "eab4a61e",
   "metadata": {},
   "outputs": [],
   "source": [
    "intersections = gost_df['intersections'].tolist()\n",
    "intersections_remapped = []\n",
    "all_genes = []\n",
    "for ix in intersections:\n",
    "    ix = [x if x is not None else [] for x in ix]\n",
    "    ix_idx = [i for i, e in enumerate(ix) if len(e) > 0]\n",
    "    ix_members = [module_members[module_name][x] for x in ix_idx]\n",
    "    intersections_remapped.append(ix_members)\n",
    "    all_genes.append(module_members[module_name])"
   ]
  },
  {
   "cell_type": "code",
   "execution_count": 23,
   "id": "4f57d0ee",
   "metadata": {},
   "outputs": [
    {
     "data": {
      "text/plain": [
       "['NA']"
      ]
     },
     "execution_count": 23,
     "metadata": {},
     "output_type": "execute_result"
    }
   ],
   "source": [
    "intersections"
   ]
  },
  {
   "cell_type": "code",
   "execution_count": 24,
   "id": "34935753",
   "metadata": {},
   "outputs": [
    {
     "data": {
      "text/plain": [
       "['NA']"
      ]
     },
     "execution_count": 24,
     "metadata": {},
     "output_type": "execute_result"
    }
   ],
   "source": [
    "gost_df['intersections'].tolist()"
   ]
  },
  {
   "cell_type": "code",
   "execution_count": null,
   "id": "dcb474cc",
   "metadata": {},
   "outputs": [],
   "source": []
  }
 ],
 "metadata": {
  "kernelspec": {
   "display_name": "Python [conda env:fgf1]",
   "language": "python",
   "name": "conda-env-fgf1-py"
  },
  "language_info": {
   "codemirror_mode": {
    "name": "ipython",
    "version": 3
   },
   "file_extension": ".py",
   "mimetype": "text/x-python",
   "name": "python",
   "nbconvert_exporter": "python",
   "pygments_lexer": "ipython3",
   "version": "3.8.13"
  }
 },
 "nbformat": 4,
 "nbformat_minor": 5
}
