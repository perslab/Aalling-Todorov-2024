{
 "cells": [
  {
   "cell_type": "code",
   "execution_count": 2,
   "id": "1cec69d3",
   "metadata": {},
   "outputs": [
    {
     "name": "stderr",
     "output_type": "stream",
     "text": [
      "── \u001b[1mAttaching packages\u001b[22m ─────────────────────────────────────── tidyverse 1.3.2 ──\n",
      "\u001b[32m✔\u001b[39m \u001b[34mggplot2\u001b[39m 3.3.6      \u001b[32m✔\u001b[39m \u001b[34mpurrr  \u001b[39m 0.3.4 \n",
      "\u001b[32m✔\u001b[39m \u001b[34mtibble \u001b[39m 3.1.8      \u001b[32m✔\u001b[39m \u001b[34mdplyr  \u001b[39m 1.0.10\n",
      "\u001b[32m✔\u001b[39m \u001b[34mtidyr  \u001b[39m 1.2.1      \u001b[32m✔\u001b[39m \u001b[34mstringr\u001b[39m 1.4.1 \n",
      "\u001b[32m✔\u001b[39m \u001b[34mreadr  \u001b[39m 2.1.2      \u001b[32m✔\u001b[39m \u001b[34mforcats\u001b[39m 0.5.2 \n",
      "── \u001b[1mConflicts\u001b[22m ────────────────────────────────────────── tidyverse_conflicts() ──\n",
      "\u001b[31m✖\u001b[39m \u001b[34mdplyr\u001b[39m::\u001b[32mfilter()\u001b[39m masks \u001b[34mstats\u001b[39m::filter()\n",
      "\u001b[31m✖\u001b[39m \u001b[34mdplyr\u001b[39m::\u001b[32mlag()\u001b[39m    masks \u001b[34mstats\u001b[39m::lag()\n",
      "Attaching SeuratObject\n",
      "\n",
      "Attaching sp\n",
      "\n"
     ]
    }
   ],
   "source": [
    "library(tidyverse)\n",
    "library(ggplot2)\n",
    "library(Seurat)\n",
    "library(targets)"
   ]
  },
  {
   "cell_type": "code",
   "execution_count": null,
   "id": "f2bc852d",
   "metadata": {},
   "outputs": [],
   "source": [
    "obj_fgf1 = qs::qread('../')"
   ]
  },
  {
   "cell_type": "code",
   "execution_count": 1,
   "id": "7e4f5b7e",
   "metadata": {},
   "outputs": [
    {
     "ename": "ERROR",
     "evalue": "Error in eval(expr, envir, enclos): object 'obj_fgf1' not found\n",
     "output_type": "error",
     "traceback": [
      "Error in eval(expr, envir, enclos): object 'obj_fgf1' not found\nTraceback:\n"
     ]
    }
   ],
   "source": [
    "obj_fgf1"
   ]
  },
  {
   "cell_type": "code",
   "execution_count": null,
   "id": "8abb5dc7",
   "metadata": {},
   "outputs": [],
   "source": []
  },
  {
   "cell_type": "code",
   "execution_count": 7,
   "id": "d21fcdfa",
   "metadata": {},
   "outputs": [
    {
     "data": {
      "text/plain": [
       "An object of class Seurat \n",
       "52248 features across 8443 samples within 2 assays \n",
       "Active assay: SCT (24279 features, 3000 variable features)\n",
       " 1 other assay present: RNA\n",
       " 3 dimensional reductions calculated: hto.tsne, pca, umap"
      ]
     },
     "metadata": {},
     "output_type": "display_data"
    }
   ],
   "source": [
    "obj = readRDS('/data/petar/fgf1/received/SCOP_2022_0214/Output/data//aggregated-filtered//221115_brain/221115_brain_rna-seurat.rds')\n",
    "obj"
   ]
  },
  {
   "cell_type": "code",
   "execution_count": 12,
   "id": "b3265f98",
   "metadata": {},
   "outputs": [],
   "source": [
    "bmp_meta = readxl::read_xlsx('../data/meta/0214_scnRNA_metadata_NA041122.xlsx')"
   ]
  },
  {
   "cell_type": "code",
   "execution_count": 13,
   "id": "67c8a936",
   "metadata": {},
   "outputs": [],
   "source": [
    ".munge_bmp_meta = function(bmp_meta){\n",
    "    colnames(bmp_meta) = bmp_meta %>% colnames %>% str_replace(' ', '_') %>% str_replace('/', '_') %>% str_to_lower\n",
    "    bmp_meta = bmp_meta %>% select(sample_name, condition_1,  collection_date)  %>%\n",
    "        mutate(sample_name = factor(sample_name)) %>%\n",
    "        mutate(sample_name = paste0(\"B\", sample_name)) %>%\n",
    "        mutate(condition_1 = factor(condition_1)) %>%\n",
    "        mutate(collection_date = factor(collection_date)) %>%\n",
    "        rename(hash.mcl.ID = sample_name) %>%\n",
    "        rename(treatment = condition_1) %>%\n",
    "        mutate(batch = 'Batch 4')\n",
    "    bmp_meta\n",
    "}"
   ]
  },
  {
   "cell_type": "code",
   "execution_count": 14,
   "id": "5bb0fb82",
   "metadata": {},
   "outputs": [
    {
     "data": {
      "text/html": [
       "<table class=\"dataframe\">\n",
       "<caption>A tibble: 6 × 4</caption>\n",
       "<thead>\n",
       "\t<tr><th scope=col>hash.mcl.ID</th><th scope=col>treatment</th><th scope=col>collection_date</th><th scope=col>batch</th></tr>\n",
       "\t<tr><th scope=col>&lt;chr&gt;</th><th scope=col>&lt;fct&gt;</th><th scope=col>&lt;fct&gt;</th><th scope=col>&lt;chr&gt;</th></tr>\n",
       "</thead>\n",
       "<tbody>\n",
       "\t<tr><td>B2</td><td>LDN    </td><td>221012</td><td>Batch 4</td></tr>\n",
       "\t<tr><td>B3</td><td>Vehicle</td><td>221012</td><td>Batch 4</td></tr>\n",
       "\t<tr><td>B4</td><td>LDN    </td><td>221012</td><td>Batch 4</td></tr>\n",
       "\t<tr><td>B6</td><td>LDN    </td><td>221012</td><td>Batch 4</td></tr>\n",
       "\t<tr><td>B7</td><td>LDN    </td><td>221012</td><td>Batch 4</td></tr>\n",
       "\t<tr><td>B8</td><td>Vehicle</td><td>221012</td><td>Batch 4</td></tr>\n",
       "</tbody>\n",
       "</table>\n"
      ],
      "text/latex": [
       "A tibble: 6 × 4\n",
       "\\begin{tabular}{llll}\n",
       " hash.mcl.ID & treatment & collection\\_date & batch\\\\\n",
       " <chr> & <fct> & <fct> & <chr>\\\\\n",
       "\\hline\n",
       "\t B2 & LDN     & 221012 & Batch 4\\\\\n",
       "\t B3 & Vehicle & 221012 & Batch 4\\\\\n",
       "\t B4 & LDN     & 221012 & Batch 4\\\\\n",
       "\t B6 & LDN     & 221012 & Batch 4\\\\\n",
       "\t B7 & LDN     & 221012 & Batch 4\\\\\n",
       "\t B8 & Vehicle & 221012 & Batch 4\\\\\n",
       "\\end{tabular}\n"
      ],
      "text/markdown": [
       "\n",
       "A tibble: 6 × 4\n",
       "\n",
       "| hash.mcl.ID &lt;chr&gt; | treatment &lt;fct&gt; | collection_date &lt;fct&gt; | batch &lt;chr&gt; |\n",
       "|---|---|---|---|\n",
       "| B2 | LDN     | 221012 | Batch 4 |\n",
       "| B3 | Vehicle | 221012 | Batch 4 |\n",
       "| B4 | LDN     | 221012 | Batch 4 |\n",
       "| B6 | LDN     | 221012 | Batch 4 |\n",
       "| B7 | LDN     | 221012 | Batch 4 |\n",
       "| B8 | Vehicle | 221012 | Batch 4 |\n",
       "\n"
      ],
      "text/plain": [
       "  hash.mcl.ID treatment collection_date batch  \n",
       "1 B2          LDN       221012          Batch 4\n",
       "2 B3          Vehicle   221012          Batch 4\n",
       "3 B4          LDN       221012          Batch 4\n",
       "4 B6          LDN       221012          Batch 4\n",
       "5 B7          LDN       221012          Batch 4\n",
       "6 B8          Vehicle   221012          Batch 4"
      ]
     },
     "metadata": {},
     "output_type": "display_data"
    }
   ],
   "source": [
    ".munge_bmp_meta(bmp_meta) %>% head"
   ]
  },
  {
   "cell_type": "code",
   "execution_count": null,
   "id": "2b0843b6",
   "metadata": {},
   "outputs": [],
   "source": []
  },
  {
   "cell_type": "code",
   "execution_count": null,
   "id": "3b754209",
   "metadata": {},
   "outputs": [],
   "source": []
  },
  {
   "cell_type": "code",
   "execution_count": null,
   "id": "66892b02",
   "metadata": {},
   "outputs": [],
   "source": []
  },
  {
   "cell_type": "code",
   "execution_count": null,
   "id": "6a6faaa3",
   "metadata": {},
   "outputs": [],
   "source": [
    "obj %>% `[[` %>% head"
   ]
  },
  {
   "cell_type": "code",
   "execution_count": null,
   "id": "1e52d122",
   "metadata": {},
   "outputs": [],
   "source": [
    "obj_greedy = readRDS('/data/petar/fgf1/received/SCOP_2022_0214/Output/data//aggregated-filtered//221115_brain_greedy/221115_brain_rna-seurat.rds')\n",
    "obj_greedy "
   ]
  },
  {
   "cell_type": "code",
   "execution_count": null,
   "id": "1f6c333f",
   "metadata": {},
   "outputs": [],
   "source": [
    "options(repr.plot.width=20, repr.plot.height=10)\n",
    "DimPlot(obj, reduction = \"umap\", group.by = \"seurat_clusters\", label = TRUE)"
   ]
  },
  {
   "cell_type": "code",
   "execution_count": null,
   "id": "f8b4bb76",
   "metadata": {},
   "outputs": [],
   "source": [
    "options(repr.plot.width=20, repr.plot.height=10)\n",
    "DimPlot(obj, reduction = \"umap\", group.by = \"hash.mcl.ID\", label = TRUE)"
   ]
  },
  {
   "cell_type": "code",
   "execution_count": null,
   "id": "b0c4e3a7",
   "metadata": {},
   "outputs": [],
   "source": [
    "options(repr.plot.width=20, repr.plot.height=10)\n",
    "DimPlot(obj_greedy, reduction = \"umap\", group.by = \"seurat_clusters\", label = TRUE)"
   ]
  },
  {
   "cell_type": "code",
   "execution_count": null,
   "id": "d8d571ad",
   "metadata": {},
   "outputs": [],
   "source": [
    "options(repr.plot.width=20, repr.plot.height=10)\n",
    "DimPlot(obj_greedy, reduction = \"umap\", group.by = \"hash.mcl.ID\", label = TRUE)"
   ]
  },
  {
   "cell_type": "code",
   "execution_count": null,
   "id": "0c402c4a",
   "metadata": {},
   "outputs": [],
   "source": [
    "add_meta_to_bmp_obj = function(bmp_obj, bmp_meta){\n",
    "    colnames(bmp_meta) = bmp_meta %>% colnames %>% str_replace(' ', '_') %>% str_replace('/', '_') %>% str_to_lower\n",
    "    bmp_meta = bmp_meta %>% select(sample_name, condition_1,  collection_date)  %>%\n",
    "        mutate(sample_name = factor(sample_name)) %>%\n",
    "        mutate(condition_1 = factor(condition_1)) %>%\n",
    "        mutate(collection_date = factor(collection_date)) %>%\n",
    "        rename(hash.mcl.ID = sample_name) %>%\n",
    "        rename(treatment = condition_1) %>%\n",
    "        mutate(batch = 'Batch 4')\n",
    "    \n",
    "    bmp_obj@meta.data = bmp_obj %>% `[[` %>% rownames_to_column %>% left_join(bmp_meta, by = hash.mcl.ID) %>% column_to_rownames\n",
    "\n",
    "    bmp_obj\n",
    "}\n",
    "\n"
   ]
  },
  {
   "cell_type": "code",
   "execution_count": 4,
   "id": "3ee30840",
   "metadata": {},
   "outputs": [],
   "source": [
    "munge_meta = function(bmp_meta){\n",
    "    colnames(bmp_meta) = bmp_meta %>% colnames %>% str_replace(' ', '_') %>% str_replace('/', '_') %>% str_to_lower\n",
    "    bmp_meta = bmp_meta %>% select(sample_name, condition_1,  collection_date)  %>%\n",
    "        mutate(sample_name = factor(sample_name)) %>%\n",
    "        mutate(condition_1 = factor(condition_1)) %>%\n",
    "        mutate(collection_date = factor(collection_date)) %>%\n",
    "        rename(hash.mcl.ID = sample_name) %>%\n",
    "        rename(treatment = condition_1) %>%\n",
    "        mutate(batch = 'Batch 4')\n",
    "    bmp_meta\n",
    "}\n"
   ]
  },
  {
   "cell_type": "code",
   "execution_count": null,
   "id": "c899a5a1",
   "metadata": {},
   "outputs": [],
   "source": [
    "source('bmp_preprocessing.R')"
   ]
  },
  {
   "cell_type": "code",
   "execution_count": null,
   "id": "7a121607",
   "metadata": {},
   "outputs": [],
   "source": [
    "source('bmp_preprocessing.R')\n",
    "obj = readRDS('/data/petar/fgf1/received/SCOP_2022_0214/Output/data//aggregated-filtered//221115_brain/221115_brain_rna-seurat.rds')\n",
    "meta = readxl::read_xlsx('../data/meta/0214_scnRNA_metadata_NA041122.xlsx')\n",
    "obj = add_meta_to_bmp_obj(obj, meta)\n",
    "obj@meta.data"
   ]
  },
  {
   "cell_type": "code",
   "execution_count": 2,
   "id": "47c2eb13",
   "metadata": {},
   "outputs": [],
   "source": [
    "source('bmp_preprocessing.R')\n",
    "exp_bmp = qs::qread('_targets/objects/exp_bmp')\n",
    "bmp_meta = qs::qread('_targets/objects/bmp_meta')\n",
    "exp_bmp = add_meta_to_bmp_obj(exp_bmp, bmp_meta)"
   ]
  },
  {
   "cell_type": "code",
   "execution_count": 5,
   "id": "0c095b2f",
   "metadata": {},
   "outputs": [
    {
     "data": {
      "text/html": [
       "<table class=\"dataframe\">\n",
       "<caption>A tibble: 15 × 4</caption>\n",
       "<thead>\n",
       "\t<tr><th scope=col>hash.mcl.ID</th><th scope=col>treatment</th><th scope=col>collection_date</th><th scope=col>batch</th></tr>\n",
       "\t<tr><th scope=col>&lt;fct&gt;</th><th scope=col>&lt;fct&gt;</th><th scope=col>&lt;fct&gt;</th><th scope=col>&lt;chr&gt;</th></tr>\n",
       "</thead>\n",
       "<tbody>\n",
       "\t<tr><td>2 </td><td>LDN    </td><td>221012</td><td>Batch 4</td></tr>\n",
       "\t<tr><td>3 </td><td>Vehicle</td><td>221012</td><td>Batch 4</td></tr>\n",
       "\t<tr><td>4 </td><td>LDN    </td><td>221012</td><td>Batch 4</td></tr>\n",
       "\t<tr><td>6 </td><td>LDN    </td><td>221012</td><td>Batch 4</td></tr>\n",
       "\t<tr><td>7 </td><td>LDN    </td><td>221012</td><td>Batch 4</td></tr>\n",
       "\t<tr><td>8 </td><td>Vehicle</td><td>221012</td><td>Batch 4</td></tr>\n",
       "\t<tr><td>12</td><td>Vehicle</td><td>221012</td><td>Batch 4</td></tr>\n",
       "\t<tr><td>13</td><td>LDN    </td><td>221013</td><td>Batch 4</td></tr>\n",
       "\t<tr><td>14</td><td>LDN    </td><td>221013</td><td>Batch 4</td></tr>\n",
       "\t<tr><td>15</td><td>Vehicle</td><td>221013</td><td>Batch 4</td></tr>\n",
       "\t<tr><td>18</td><td>LDN    </td><td>221013</td><td>Batch 4</td></tr>\n",
       "\t<tr><td>19</td><td>Vehicle</td><td>221013</td><td>Batch 4</td></tr>\n",
       "\t<tr><td>21</td><td>LDN    </td><td>221013</td><td>Batch 4</td></tr>\n",
       "\t<tr><td>22</td><td>LDN    </td><td>221013</td><td>Batch 4</td></tr>\n",
       "\t<tr><td>23</td><td>Vehicle</td><td>221013</td><td>Batch 4</td></tr>\n",
       "</tbody>\n",
       "</table>\n"
      ],
      "text/latex": [
       "A tibble: 15 × 4\n",
       "\\begin{tabular}{llll}\n",
       " hash.mcl.ID & treatment & collection\\_date & batch\\\\\n",
       " <fct> & <fct> & <fct> & <chr>\\\\\n",
       "\\hline\n",
       "\t 2  & LDN     & 221012 & Batch 4\\\\\n",
       "\t 3  & Vehicle & 221012 & Batch 4\\\\\n",
       "\t 4  & LDN     & 221012 & Batch 4\\\\\n",
       "\t 6  & LDN     & 221012 & Batch 4\\\\\n",
       "\t 7  & LDN     & 221012 & Batch 4\\\\\n",
       "\t 8  & Vehicle & 221012 & Batch 4\\\\\n",
       "\t 12 & Vehicle & 221012 & Batch 4\\\\\n",
       "\t 13 & LDN     & 221013 & Batch 4\\\\\n",
       "\t 14 & LDN     & 221013 & Batch 4\\\\\n",
       "\t 15 & Vehicle & 221013 & Batch 4\\\\\n",
       "\t 18 & LDN     & 221013 & Batch 4\\\\\n",
       "\t 19 & Vehicle & 221013 & Batch 4\\\\\n",
       "\t 21 & LDN     & 221013 & Batch 4\\\\\n",
       "\t 22 & LDN     & 221013 & Batch 4\\\\\n",
       "\t 23 & Vehicle & 221013 & Batch 4\\\\\n",
       "\\end{tabular}\n"
      ],
      "text/markdown": [
       "\n",
       "A tibble: 15 × 4\n",
       "\n",
       "| hash.mcl.ID &lt;fct&gt; | treatment &lt;fct&gt; | collection_date &lt;fct&gt; | batch &lt;chr&gt; |\n",
       "|---|---|---|---|\n",
       "| 2  | LDN     | 221012 | Batch 4 |\n",
       "| 3  | Vehicle | 221012 | Batch 4 |\n",
       "| 4  | LDN     | 221012 | Batch 4 |\n",
       "| 6  | LDN     | 221012 | Batch 4 |\n",
       "| 7  | LDN     | 221012 | Batch 4 |\n",
       "| 8  | Vehicle | 221012 | Batch 4 |\n",
       "| 12 | Vehicle | 221012 | Batch 4 |\n",
       "| 13 | LDN     | 221013 | Batch 4 |\n",
       "| 14 | LDN     | 221013 | Batch 4 |\n",
       "| 15 | Vehicle | 221013 | Batch 4 |\n",
       "| 18 | LDN     | 221013 | Batch 4 |\n",
       "| 19 | Vehicle | 221013 | Batch 4 |\n",
       "| 21 | LDN     | 221013 | Batch 4 |\n",
       "| 22 | LDN     | 221013 | Batch 4 |\n",
       "| 23 | Vehicle | 221013 | Batch 4 |\n",
       "\n"
      ],
      "text/plain": [
       "   hash.mcl.ID treatment collection_date batch  \n",
       "1  2           LDN       221012          Batch 4\n",
       "2  3           Vehicle   221012          Batch 4\n",
       "3  4           LDN       221012          Batch 4\n",
       "4  6           LDN       221012          Batch 4\n",
       "5  7           LDN       221012          Batch 4\n",
       "6  8           Vehicle   221012          Batch 4\n",
       "7  12          Vehicle   221012          Batch 4\n",
       "8  13          LDN       221013          Batch 4\n",
       "9  14          LDN       221013          Batch 4\n",
       "10 15          Vehicle   221013          Batch 4\n",
       "11 18          LDN       221013          Batch 4\n",
       "12 19          Vehicle   221013          Batch 4\n",
       "13 21          LDN       221013          Batch 4\n",
       "14 22          LDN       221013          Batch 4\n",
       "15 23          Vehicle   221013          Batch 4"
      ]
     },
     "metadata": {},
     "output_type": "display_data"
    }
   ],
   "source": [
    "munge_meta(bmp_meta)"
   ]
  },
  {
   "cell_type": "code",
   "execution_count": null,
   "id": "46e0d935",
   "metadata": {},
   "outputs": [],
   "source": []
  },
  {
   "cell_type": "code",
   "execution_count": null,
   "id": "6f85c4c0",
   "metadata": {},
   "outputs": [],
   "source": []
  },
  {
   "cell_type": "code",
   "execution_count": null,
   "id": "cbc1bebb",
   "metadata": {},
   "outputs": [],
   "source": [
    "obj_list = list(obj, obj, obj)"
   ]
  },
  {
   "cell_type": "code",
   "execution_count": null,
   "id": "468d0090",
   "metadata": {},
   "outputs": [],
   "source": [
    "obj_merged = merge(obj_list[[1]], unlist(obj_list)[2:3])"
   ]
  },
  {
   "cell_type": "code",
   "execution_count": null,
   "id": "ae05ff11",
   "metadata": {},
   "outputs": [],
   "source": [
    "obj_merged"
   ]
  },
  {
   "cell_type": "code",
   "execution_count": null,
   "id": "44d7613e",
   "metadata": {},
   "outputs": [],
   "source": [
    "obj_merged %>% `[[` %>% rownames_to_column %>% left_join(meta) %>% column_to_rownames"
   ]
  },
  {
   "cell_type": "code",
   "execution_count": null,
   "id": "b1f2040a",
   "metadata": {},
   "outputs": [],
   "source": []
  },
  {
   "cell_type": "code",
   "execution_count": null,
   "id": "41f447e7",
   "metadata": {},
   "outputs": [],
   "source": [
    "obj2 = qs::qread('../00_preprocessing/_targets/objects/exp_RElabelled_neuron')\n",
    "obj2@meta.data"
   ]
  },
  {
   "cell_type": "code",
   "execution_count": 3,
   "id": "ce550b2b",
   "metadata": {},
   "outputs": [
    {
     "ename": "ERROR",
     "evalue": "Error in eval(expr, envir, enclos): object 'obj_merged' not found\n",
     "output_type": "error",
     "traceback": [
      "Error in eval(expr, envir, enclos): object 'obj_merged' not found\nTraceback:\n"
     ]
    }
   ],
   "source": [
    "obj_merged@meta.data"
   ]
  },
  {
   "cell_type": "code",
   "execution_count": null,
   "id": "3f7f2d17",
   "metadata": {},
   "outputs": [],
   "source": []
  }
 ],
 "metadata": {
  "kernelspec": {
   "display_name": "R [conda env:fgf1_ygg]",
   "language": "R",
   "name": "conda-env-fgf1_ygg-r"
  },
  "language_info": {
   "codemirror_mode": "r",
   "file_extension": ".r",
   "mimetype": "text/x-r-source",
   "name": "R",
   "pygments_lexer": "r",
   "version": "4.1.3"
  }
 },
 "nbformat": 4,
 "nbformat_minor": 5
}
