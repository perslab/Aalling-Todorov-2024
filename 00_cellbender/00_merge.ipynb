{
 "cells": [
  {
   "cell_type": "code",
   "execution_count": 1,
   "id": "c5b9fc55",
   "metadata": {
    "scrolled": true
   },
   "outputs": [
    {
     "name": "stderr",
     "output_type": "stream",
     "text": [
      "qs v0.25.4.\n",
      "\n",
      "Loading required package: SeuratObject\n",
      "\n",
      "Loading required package: sp\n",
      "\n",
      "\n",
      "Attaching package: ‘SeuratObject’\n",
      "\n",
      "\n",
      "The following object is masked from ‘package:base’:\n",
      "\n",
      "    intersect\n",
      "\n",
      "\n",
      "\u001b[1m\u001b[22mscCustomize v2.0.1.9013\n",
      "If you find the scCustomize useful please cite.\n",
      "See 'samuel-marsh.github.io/scCustomize/articles/FAQ.html' for citation info.\n",
      "\n",
      "Loading required package: Matrix\n",
      "\n",
      "Loading required package: igraph\n",
      "\n",
      "\n",
      "Attaching package: ‘igraph’\n",
      "\n",
      "\n",
      "The following object is masked from ‘package:Seurat’:\n",
      "\n",
      "    components\n",
      "\n",
      "\n",
      "The following objects are masked from ‘package:stats’:\n",
      "\n",
      "    decompose, spectrum\n",
      "\n",
      "\n",
      "The following object is masked from ‘package:base’:\n",
      "\n",
      "    union\n",
      "\n",
      "\n",
      "── \u001b[1mAttaching packages\u001b[22m ─────────────────────────────────────── tidyverse 1.3.2 ──\n",
      "\u001b[32m✔\u001b[39m \u001b[34mggplot2\u001b[39m 3.4.2     \u001b[32m✔\u001b[39m \u001b[34mpurrr  \u001b[39m 0.3.4\n",
      "\u001b[32m✔\u001b[39m \u001b[34mtibble \u001b[39m 3.2.1     \u001b[32m✔\u001b[39m \u001b[34mdplyr  \u001b[39m 1.1.2\n",
      "\u001b[32m✔\u001b[39m \u001b[34mtidyr  \u001b[39m 1.2.1     \u001b[32m✔\u001b[39m \u001b[34mstringr\u001b[39m 1.4.1\n",
      "\u001b[32m✔\u001b[39m \u001b[34mreadr  \u001b[39m 2.1.2     \u001b[32m✔\u001b[39m \u001b[34mforcats\u001b[39m 0.5.2\n",
      "── \u001b[1mConflicts\u001b[22m ────────────────────────────────────────── tidyverse_conflicts() ──\n",
      "\u001b[31m✖\u001b[39m \u001b[34mdplyr\u001b[39m::\u001b[32mas_data_frame()\u001b[39m masks \u001b[34mtibble\u001b[39m::as_data_frame(), \u001b[34migraph\u001b[39m::as_data_frame()\n",
      "\u001b[31m✖\u001b[39m \u001b[34mpurrr\u001b[39m::\u001b[32mcompose()\u001b[39m       masks \u001b[34migraph\u001b[39m::compose()\n",
      "\u001b[31m✖\u001b[39m \u001b[34mtidyr\u001b[39m::\u001b[32mcrossing()\u001b[39m      masks \u001b[34migraph\u001b[39m::crossing()\n",
      "\u001b[31m✖\u001b[39m \u001b[34mtidyr\u001b[39m::\u001b[32mexpand()\u001b[39m        masks \u001b[34mMatrix\u001b[39m::expand()\n",
      "\u001b[31m✖\u001b[39m \u001b[34mdplyr\u001b[39m::\u001b[32mfilter()\u001b[39m        masks \u001b[34mstats\u001b[39m::filter()\n",
      "\u001b[31m✖\u001b[39m \u001b[34mdplyr\u001b[39m::\u001b[32mgroups()\u001b[39m        masks \u001b[34migraph\u001b[39m::groups()\n",
      "\u001b[31m✖\u001b[39m \u001b[34mdplyr\u001b[39m::\u001b[32mlag()\u001b[39m           masks \u001b[34mstats\u001b[39m::lag()\n",
      "\u001b[31m✖\u001b[39m \u001b[34mtidyr\u001b[39m::\u001b[32mpack()\u001b[39m          masks \u001b[34mMatrix\u001b[39m::pack()\n",
      "\u001b[31m✖\u001b[39m \u001b[34mpurrr\u001b[39m::\u001b[32msimplify()\u001b[39m      masks \u001b[34migraph\u001b[39m::simplify()\n",
      "\u001b[31m✖\u001b[39m \u001b[34mtidyr\u001b[39m::\u001b[32munpack()\u001b[39m        masks \u001b[34mMatrix\u001b[39m::unpack()\n"
     ]
    }
   ],
   "source": [
    "library(qs)\n",
    "library(Seurat)\n",
    "library(CellAnnotatoR)\n",
    "library(scCustomize)\n",
    "library(conos)\n",
    "library(tidyverse)\n",
    "RhpcBLASctl::blas_set_num_threads(1)"
   ]
  },
  {
   "cell_type": "code",
   "execution_count": 2,
   "id": "f18957fe",
   "metadata": {},
   "outputs": [
    {
     "name": "stderr",
     "output_type": "stream",
     "text": [
      "\u001b[1m\u001b[22m\u001b[32mReading Cell Bender H5 files from directory\u001b[39m\n",
      "\u001b[1m\u001b[22mNOTE: Progress bars not currently supported for parallel processing.\n",
      "NOTE: Parallel processing will not report informative error messages.\n",
      "If function fails set `parallel = FALSE` and re-run for informative error\n",
      "reporting.\n",
      "\u001b[1m\u001b[22m\u001b[32mPreparing & merging matrices.\u001b[39m\n",
      "\u001b[1m\u001b[22m\u001b[32mCreating final sparse matrix.\u001b[39m\n"
     ]
    },
    {
     "data": {
      "text/html": [
       "<style>\n",
       ".list-inline {list-style: none; margin:0; padding: 0}\n",
       ".list-inline>li {display: inline-block}\n",
       ".list-inline>li:not(:last-child)::after {content: \"\\00b7\"; padding: 0 .5ex}\n",
       "</style>\n",
       "<ol class=list-inline><li>32181</li><li>47030724</li></ol>\n"
      ],
      "text/latex": [
       "\\begin{enumerate*}\n",
       "\\item 32181\n",
       "\\item 47030724\n",
       "\\end{enumerate*}\n"
      ],
      "text/markdown": [
       "1. 32181\n",
       "2. 47030724\n",
       "\n",
       "\n"
      ],
      "text/plain": [
       "[1]    32181 47030724"
      ]
     },
     "metadata": {},
     "output_type": "display_data"
    }
   ],
   "source": [
    "mat = Read_CellBender_h5_Multi_File(data_dir = '/data/petar/fgf1/cellbender/raw', custom_name = '.h5', merge = TRUE, parallel = TRUE, num_cores = 20)\n",
    "mat %>% dim"
   ]
  },
  {
   "cell_type": "code",
   "execution_count": 3,
   "id": "2f0134ce",
   "metadata": {},
   "outputs": [
    {
     "data": {
      "text/html": [
       "<style>\n",
       ".list-inline {list-style: none; margin:0; padding: 0}\n",
       ".list-inline>li {display: inline-block}\n",
       ".list-inline>li:not(:last-child)::after {content: \"\\00b7\"; padding: 0 .5ex}\n",
       "</style>\n",
       "<ol class=list-inline><li>'SI-TT-A11_out_AAACCCAAGAAACACT-1'</li><li>'SI-TT-A11_out_AAACCCAAGAAACCAT-1'</li><li>'SI-TT-A11_out_AAACCCAAGAAACCCG-1'</li><li>'SI-TT-A11_out_AAACCCAAGAAACCTG-1'</li><li>'SI-TT-A11_out_AAACCCAAGAAACGAA-1'</li><li>'SI-TT-A11_out_AAACCCAAGAAACTCA-1'</li></ol>\n"
      ],
      "text/latex": [
       "\\begin{enumerate*}\n",
       "\\item 'SI-TT-A11\\_out\\_AAACCCAAGAAACACT-1'\n",
       "\\item 'SI-TT-A11\\_out\\_AAACCCAAGAAACCAT-1'\n",
       "\\item 'SI-TT-A11\\_out\\_AAACCCAAGAAACCCG-1'\n",
       "\\item 'SI-TT-A11\\_out\\_AAACCCAAGAAACCTG-1'\n",
       "\\item 'SI-TT-A11\\_out\\_AAACCCAAGAAACGAA-1'\n",
       "\\item 'SI-TT-A11\\_out\\_AAACCCAAGAAACTCA-1'\n",
       "\\end{enumerate*}\n"
      ],
      "text/markdown": [
       "1. 'SI-TT-A11_out_AAACCCAAGAAACACT-1'\n",
       "2. 'SI-TT-A11_out_AAACCCAAGAAACCAT-1'\n",
       "3. 'SI-TT-A11_out_AAACCCAAGAAACCCG-1'\n",
       "4. 'SI-TT-A11_out_AAACCCAAGAAACCTG-1'\n",
       "5. 'SI-TT-A11_out_AAACCCAAGAAACGAA-1'\n",
       "6. 'SI-TT-A11_out_AAACCCAAGAAACTCA-1'\n",
       "\n",
       "\n"
      ],
      "text/plain": [
       "[1] \"SI-TT-A11_out_AAACCCAAGAAACACT-1\" \"SI-TT-A11_out_AAACCCAAGAAACCAT-1\"\n",
       "[3] \"SI-TT-A11_out_AAACCCAAGAAACCCG-1\" \"SI-TT-A11_out_AAACCCAAGAAACCTG-1\"\n",
       "[5] \"SI-TT-A11_out_AAACCCAAGAAACGAA-1\" \"SI-TT-A11_out_AAACCCAAGAAACTCA-1\""
      ]
     },
     "metadata": {},
     "output_type": "display_data"
    }
   ],
   "source": [
    "mat %>% colnames %>% head"
   ]
  },
  {
   "cell_type": "code",
   "execution_count": 4,
   "id": "196644d6",
   "metadata": {},
   "outputs": [],
   "source": [
    "new_colnames = mat %>%\n",
    "colnames %>%\n",
    "str_replace('_out_', '_') %>% \n",
    "str_replace('-1', '')"
   ]
  },
  {
   "cell_type": "code",
   "execution_count": 5,
   "id": "b26a1e24",
   "metadata": {},
   "outputs": [],
   "source": [
    "colnames(mat) = new_colnames"
   ]
  },
  {
   "cell_type": "code",
   "execution_count": 6,
   "id": "1845512c",
   "metadata": {},
   "outputs": [],
   "source": [
    "obj = CreateSeuratObject(counts = mat, names.field = 1, names.delim = \"_\",\n",
    "                         min.features = 1000, min.cells = 10)\n"
   ]
  },
  {
   "cell_type": "code",
   "execution_count": 7,
   "id": "2bb759de",
   "metadata": {},
   "outputs": [
    {
     "data": {
      "text/plain": [
       "An object of class Seurat \n",
       "27757 features across 156884 samples within 1 assay \n",
       "Active assay: RNA (27757 features, 0 variable features)\n",
       " 1 layer present: counts"
      ]
     },
     "metadata": {},
     "output_type": "display_data"
    }
   ],
   "source": [
    "obj"
   ]
  },
  {
   "cell_type": "code",
   "execution_count": 8,
   "id": "f0e60060",
   "metadata": {},
   "outputs": [
    {
     "data": {
      "text/html": [
       "<table class=\"dataframe\">\n",
       "<caption>A data.frame: 6 × 5</caption>\n",
       "<thead>\n",
       "\t<tr><th></th><th scope=col>nCount_RNA</th><th scope=col>nFeature_RNA</th><th scope=col>rowname</th><th scope=col>Index.10x</th><th scope=col>barcode</th></tr>\n",
       "\t<tr><th></th><th scope=col>&lt;dbl&gt;</th><th scope=col>&lt;int&gt;</th><th scope=col>&lt;chr&gt;</th><th scope=col>&lt;chr&gt;</th><th scope=col>&lt;chr&gt;</th></tr>\n",
       "</thead>\n",
       "<tbody>\n",
       "\t<tr><th scope=row>SI-TT-A11_AAACCCAAGAATTGCA</th><td> 7964</td><td>3821</td><td>SI-TT-A11_AAACCCAAGAATTGCA</td><td>SI-TT-A11</td><td>AAACCCAAGAATTGCA</td></tr>\n",
       "\t<tr><th scope=row>SI-TT-A11_AAACCCAAGGTGGTTG</th><td> 5427</td><td>2686</td><td>SI-TT-A11_AAACCCAAGGTGGTTG</td><td>SI-TT-A11</td><td>AAACCCAAGGTGGTTG</td></tr>\n",
       "\t<tr><th scope=row>SI-TT-A11_AAACCCACAAAGGGTC</th><td> 4655</td><td>2843</td><td>SI-TT-A11_AAACCCACAAAGGGTC</td><td>SI-TT-A11</td><td>AAACCCACAAAGGGTC</td></tr>\n",
       "\t<tr><th scope=row>SI-TT-A11_AAACCCACATACAGCT</th><td> 6794</td><td>3191</td><td>SI-TT-A11_AAACCCACATACAGCT</td><td>SI-TT-A11</td><td>AAACCCACATACAGCT</td></tr>\n",
       "\t<tr><th scope=row>SI-TT-A11_AAACCCACATGAGGGT</th><td>13576</td><td>5516</td><td>SI-TT-A11_AAACCCACATGAGGGT</td><td>SI-TT-A11</td><td>AAACCCACATGAGGGT</td></tr>\n",
       "\t<tr><th scope=row>SI-TT-A11_AAACCCAGTACGTTCA</th><td> 3849</td><td>2247</td><td>SI-TT-A11_AAACCCAGTACGTTCA</td><td>SI-TT-A11</td><td>AAACCCAGTACGTTCA</td></tr>\n",
       "</tbody>\n",
       "</table>\n"
      ],
      "text/latex": [
       "A data.frame: 6 × 5\n",
       "\\begin{tabular}{r|lllll}\n",
       "  & nCount\\_RNA & nFeature\\_RNA & rowname & Index.10x & barcode\\\\\n",
       "  & <dbl> & <int> & <chr> & <chr> & <chr>\\\\\n",
       "\\hline\n",
       "\tSI-TT-A11\\_AAACCCAAGAATTGCA &  7964 & 3821 & SI-TT-A11\\_AAACCCAAGAATTGCA & SI-TT-A11 & AAACCCAAGAATTGCA\\\\\n",
       "\tSI-TT-A11\\_AAACCCAAGGTGGTTG &  5427 & 2686 & SI-TT-A11\\_AAACCCAAGGTGGTTG & SI-TT-A11 & AAACCCAAGGTGGTTG\\\\\n",
       "\tSI-TT-A11\\_AAACCCACAAAGGGTC &  4655 & 2843 & SI-TT-A11\\_AAACCCACAAAGGGTC & SI-TT-A11 & AAACCCACAAAGGGTC\\\\\n",
       "\tSI-TT-A11\\_AAACCCACATACAGCT &  6794 & 3191 & SI-TT-A11\\_AAACCCACATACAGCT & SI-TT-A11 & AAACCCACATACAGCT\\\\\n",
       "\tSI-TT-A11\\_AAACCCACATGAGGGT & 13576 & 5516 & SI-TT-A11\\_AAACCCACATGAGGGT & SI-TT-A11 & AAACCCACATGAGGGT\\\\\n",
       "\tSI-TT-A11\\_AAACCCAGTACGTTCA &  3849 & 2247 & SI-TT-A11\\_AAACCCAGTACGTTCA & SI-TT-A11 & AAACCCAGTACGTTCA\\\\\n",
       "\\end{tabular}\n"
      ],
      "text/markdown": [
       "\n",
       "A data.frame: 6 × 5\n",
       "\n",
       "| <!--/--> | nCount_RNA &lt;dbl&gt; | nFeature_RNA &lt;int&gt; | rowname &lt;chr&gt; | Index.10x &lt;chr&gt; | barcode &lt;chr&gt; |\n",
       "|---|---|---|---|---|---|\n",
       "| SI-TT-A11_AAACCCAAGAATTGCA |  7964 | 3821 | SI-TT-A11_AAACCCAAGAATTGCA | SI-TT-A11 | AAACCCAAGAATTGCA |\n",
       "| SI-TT-A11_AAACCCAAGGTGGTTG |  5427 | 2686 | SI-TT-A11_AAACCCAAGGTGGTTG | SI-TT-A11 | AAACCCAAGGTGGTTG |\n",
       "| SI-TT-A11_AAACCCACAAAGGGTC |  4655 | 2843 | SI-TT-A11_AAACCCACAAAGGGTC | SI-TT-A11 | AAACCCACAAAGGGTC |\n",
       "| SI-TT-A11_AAACCCACATACAGCT |  6794 | 3191 | SI-TT-A11_AAACCCACATACAGCT | SI-TT-A11 | AAACCCACATACAGCT |\n",
       "| SI-TT-A11_AAACCCACATGAGGGT | 13576 | 5516 | SI-TT-A11_AAACCCACATGAGGGT | SI-TT-A11 | AAACCCACATGAGGGT |\n",
       "| SI-TT-A11_AAACCCAGTACGTTCA |  3849 | 2247 | SI-TT-A11_AAACCCAGTACGTTCA | SI-TT-A11 | AAACCCAGTACGTTCA |\n",
       "\n"
      ],
      "text/plain": [
       "                           nCount_RNA nFeature_RNA rowname                   \n",
       "SI-TT-A11_AAACCCAAGAATTGCA  7964      3821         SI-TT-A11_AAACCCAAGAATTGCA\n",
       "SI-TT-A11_AAACCCAAGGTGGTTG  5427      2686         SI-TT-A11_AAACCCAAGGTGGTTG\n",
       "SI-TT-A11_AAACCCACAAAGGGTC  4655      2843         SI-TT-A11_AAACCCACAAAGGGTC\n",
       "SI-TT-A11_AAACCCACATACAGCT  6794      3191         SI-TT-A11_AAACCCACATACAGCT\n",
       "SI-TT-A11_AAACCCACATGAGGGT 13576      5516         SI-TT-A11_AAACCCACATGAGGGT\n",
       "SI-TT-A11_AAACCCAGTACGTTCA  3849      2247         SI-TT-A11_AAACCCAGTACGTTCA\n",
       "                           Index.10x barcode         \n",
       "SI-TT-A11_AAACCCAAGAATTGCA SI-TT-A11 AAACCCAAGAATTGCA\n",
       "SI-TT-A11_AAACCCAAGGTGGTTG SI-TT-A11 AAACCCAAGGTGGTTG\n",
       "SI-TT-A11_AAACCCACAAAGGGTC SI-TT-A11 AAACCCACAAAGGGTC\n",
       "SI-TT-A11_AAACCCACATACAGCT SI-TT-A11 AAACCCACATACAGCT\n",
       "SI-TT-A11_AAACCCACATGAGGGT SI-TT-A11 AAACCCACATGAGGGT\n",
       "SI-TT-A11_AAACCCAGTACGTTCA SI-TT-A11 AAACCCAGTACGTTCA"
      ]
     },
     "metadata": {},
     "output_type": "display_data"
    }
   ],
   "source": [
    "obj_metadata = obj %>% \n",
    "`[[` %>% \n",
    "mutate(rowname = rownames(.)) %>%\n",
    "separate(rowname, into = c(\"Index.10x\", \"barcode\"), sep = \"_\", remove=FALSE) %>%\n",
    "select(-orig.ident)\n",
    "\n",
    "obj_metadata %>% head"
   ]
  },
  {
   "cell_type": "code",
   "execution_count": 9,
   "id": "47a448a8",
   "metadata": {},
   "outputs": [],
   "source": [
    "# Set the path of the folder containing the RDS files\n",
    "folder_path <- \"/data/petar/fgf1/cellbender/raw\"\n",
    "\n",
    "# List all .rds files in the folder\n",
    "file_names <- list.files(path = folder_path, pattern = \"\\\\.rds$\", full.names = TRUE)\n",
    "\n",
    "# Function to extract the name from the file name\n",
    "extract_name <- function(file_name) {\n",
    "  # Extract the part of the file name right before \"_seurat\"\n",
    "  sub(\".*_([[:alnum:]]+)_seurat\\\\.rds\", \"\\\\1\", basename(file_name))\n",
    "}\n",
    "\n",
    "read_meta = function(file_name){\n",
    "    seurat_obj = readRDS(file_name)\n",
    "    meta = seurat_obj@meta.data\n",
    "    meta\n",
    "}\n",
    "\n",
    "# Read all RDS files and store them in a list with extracted names\n",
    "rds_list <- setNames(lapply(file_names, read_meta), sapply(file_names, extract_name))\n"
   ]
  },
  {
   "cell_type": "code",
   "execution_count": 15,
   "id": "00f05463",
   "metadata": {},
   "outputs": [],
   "source": [
    "test"
   ]
  },
  {
   "cell_type": "code",
   "execution_count": 22,
   "id": "647daf48",
   "metadata": {},
   "outputs": [
    {
     "data": {
      "text/html": [
       "<style>\n",
       ".list-inline {list-style: none; margin:0; padding: 0}\n",
       ".list-inline>li {display: inline-block}\n",
       ".list-inline>li:not(:last-child)::after {content: \"\\00b7\"; padding: 0 .5ex}\n",
       "</style>\n",
       "<ol class=list-inline><li>178706</li><li>20</li></ol>\n"
      ],
      "text/latex": [
       "\\begin{enumerate*}\n",
       "\\item 178706\n",
       "\\item 20\n",
       "\\end{enumerate*}\n"
      ],
      "text/markdown": [
       "1. 178706\n",
       "2. 20\n",
       "\n",
       "\n"
      ],
      "text/plain": [
       "[1] 178706     20"
      ]
     },
     "metadata": {},
     "output_type": "display_data"
    },
    {
     "data": {
      "text/html": [
       "<table class=\"dataframe\">\n",
       "<caption>A data.frame: 6 × 20</caption>\n",
       "<thead>\n",
       "\t<tr><th></th><th scope=col>nCount_RNA_SCOP</th><th scope=col>nFeature_RNA_SCOP</th><th scope=col>Index.10x_SCOP</th><th scope=col>nCount_HTO_SCOP</th><th scope=col>nFeature_HTO_SCOP</th><th scope=col>Index.HTO_SCOP</th><th scope=col>nCount_spliced_SCOP</th><th scope=col>nFeature_spliced_SCOP</th><th scope=col>nCount_unspliced_SCOP</th><th scope=col>nFeature_unspliced_SCOP</th><th scope=col>HTO_mcl_maxID_SCOP</th><th scope=col>HTO_mcl_secondID_SCOP</th><th scope=col>HTO_mcl_margin_SCOP</th><th scope=col>HTO_mcl_classification_SCOP</th><th scope=col>HTO_mcl_classification.global_SCOP</th><th scope=col>hash.mcl.ID_SCOP</th><th scope=col>doublet_SCOP</th><th scope=col>predicted_dub_std_SCOP</th><th scope=col>predicted_dub_cut_SCOP</th><th scope=col>barcode_SCOP</th></tr>\n",
       "\t<tr><th></th><th scope=col>&lt;dbl&gt;</th><th scope=col>&lt;int&gt;</th><th scope=col>&lt;chr&gt;</th><th scope=col>&lt;dbl&gt;</th><th scope=col>&lt;int&gt;</th><th scope=col>&lt;chr&gt;</th><th scope=col>&lt;dbl&gt;</th><th scope=col>&lt;int&gt;</th><th scope=col>&lt;dbl&gt;</th><th scope=col>&lt;int&gt;</th><th scope=col>&lt;chr&gt;</th><th scope=col>&lt;chr&gt;</th><th scope=col>&lt;dbl&gt;</th><th scope=col>&lt;chr&gt;</th><th scope=col>&lt;chr&gt;</th><th scope=col>&lt;fct&gt;</th><th scope=col>&lt;lgl&gt;</th><th scope=col>&lt;lgl&gt;</th><th scope=col>&lt;lgl&gt;</th><th scope=col>&lt;chr&gt;</th></tr>\n",
       "</thead>\n",
       "<tbody>\n",
       "\t<tr><th scope=row>SI-TT-A11_CGCATGGAGTCGCCAC</th><td>71764</td><td>7931</td><td>SI-TT-A11</td><td>2372</td><td>12</td><td>D706</td><td>10520</td><td>3874</td><td>61244</td><td>6802</td><td>N7 </td><td>M8 </td><td>2.278358e-06</td><td>M8_N7 </td><td>Doublet</td><td>Doublet</td><td>TRUE</td><td>FALSE</td><td>TRUE</td><td>CGCATGGAGTCGCCAC</td></tr>\n",
       "\t<tr><th scope=row>SI-TT-A11_CCAAGCGCATCGATCA</th><td>70598</td><td>7880</td><td>SI-TT-A11</td><td>1675</td><td>12</td><td>D706</td><td> 9825</td><td>3866</td><td>60773</td><td>6762</td><td>M18</td><td>M4 </td><td>8.744916e-11</td><td>M18_M4</td><td>Doublet</td><td>Doublet</td><td>TRUE</td><td>FALSE</td><td>TRUE</td><td>CCAAGCGCATCGATCA</td></tr>\n",
       "\t<tr><th scope=row>SI-TT-A11_CACATGACAGCCCACA</th><td>71679</td><td>7966</td><td>SI-TT-A11</td><td>1658</td><td>12</td><td>D706</td><td>10558</td><td>3976</td><td>61121</td><td>6808</td><td>M4 </td><td>M18</td><td>3.070838e-07</td><td>M18_M4</td><td>Doublet</td><td>Doublet</td><td>TRUE</td><td>FALSE</td><td>TRUE</td><td>CACATGACAGCCCACA</td></tr>\n",
       "\t<tr><th scope=row>SI-TT-A11_CTGCAGGAGATTCGAA</th><td>73832</td><td>8011</td><td>SI-TT-A11</td><td>2233</td><td>12</td><td>D706</td><td> 9664</td><td>3883</td><td>64168</td><td>6899</td><td>J11</td><td>M8 </td><td>1.780507e-01</td><td>J11_M8</td><td>Doublet</td><td>Doublet</td><td>TRUE</td><td>FALSE</td><td>TRUE</td><td>CTGCAGGAGATTCGAA</td></tr>\n",
       "\t<tr><th scope=row>SI-TT-A11_GTTCCGTGTGAGAACC</th><td>73320</td><td>7446</td><td>SI-TT-A11</td><td>1876</td><td>12</td><td>D706</td><td> 8124</td><td>3357</td><td>65196</td><td>6472</td><td>J2 </td><td>M13</td><td>1.267837e-04</td><td>J2_M13</td><td>Doublet</td><td>Doublet</td><td>TRUE</td><td>FALSE</td><td>TRUE</td><td>GTTCCGTGTGAGAACC</td></tr>\n",
       "\t<tr><th scope=row>SI-TT-A11_CGTAGTAGTTTCAGAC</th><td>74781</td><td>8014</td><td>SI-TT-A11</td><td>2023</td><td>12</td><td>D706</td><td> 9984</td><td>3865</td><td>64797</td><td>6952</td><td>M2 </td><td>M18</td><td>0.000000e+00</td><td>M18_M2</td><td>Doublet</td><td>Doublet</td><td>TRUE</td><td>FALSE</td><td>TRUE</td><td>CGTAGTAGTTTCAGAC</td></tr>\n",
       "</tbody>\n",
       "</table>\n"
      ],
      "text/latex": [
       "A data.frame: 6 × 20\n",
       "\\begin{tabular}{r|llllllllllllllllllll}\n",
       "  & nCount\\_RNA\\_SCOP & nFeature\\_RNA\\_SCOP & Index.10x\\_SCOP & nCount\\_HTO\\_SCOP & nFeature\\_HTO\\_SCOP & Index.HTO\\_SCOP & nCount\\_spliced\\_SCOP & nFeature\\_spliced\\_SCOP & nCount\\_unspliced\\_SCOP & nFeature\\_unspliced\\_SCOP & HTO\\_mcl\\_maxID\\_SCOP & HTO\\_mcl\\_secondID\\_SCOP & HTO\\_mcl\\_margin\\_SCOP & HTO\\_mcl\\_classification\\_SCOP & HTO\\_mcl\\_classification.global\\_SCOP & hash.mcl.ID\\_SCOP & doublet\\_SCOP & predicted\\_dub\\_std\\_SCOP & predicted\\_dub\\_cut\\_SCOP & barcode\\_SCOP\\\\\n",
       "  & <dbl> & <int> & <chr> & <dbl> & <int> & <chr> & <dbl> & <int> & <dbl> & <int> & <chr> & <chr> & <dbl> & <chr> & <chr> & <fct> & <lgl> & <lgl> & <lgl> & <chr>\\\\\n",
       "\\hline\n",
       "\tSI-TT-A11\\_CGCATGGAGTCGCCAC & 71764 & 7931 & SI-TT-A11 & 2372 & 12 & D706 & 10520 & 3874 & 61244 & 6802 & N7  & M8  & 2.278358e-06 & M8\\_N7  & Doublet & Doublet & TRUE & FALSE & TRUE & CGCATGGAGTCGCCAC\\\\\n",
       "\tSI-TT-A11\\_CCAAGCGCATCGATCA & 70598 & 7880 & SI-TT-A11 & 1675 & 12 & D706 &  9825 & 3866 & 60773 & 6762 & M18 & M4  & 8.744916e-11 & M18\\_M4 & Doublet & Doublet & TRUE & FALSE & TRUE & CCAAGCGCATCGATCA\\\\\n",
       "\tSI-TT-A11\\_CACATGACAGCCCACA & 71679 & 7966 & SI-TT-A11 & 1658 & 12 & D706 & 10558 & 3976 & 61121 & 6808 & M4  & M18 & 3.070838e-07 & M18\\_M4 & Doublet & Doublet & TRUE & FALSE & TRUE & CACATGACAGCCCACA\\\\\n",
       "\tSI-TT-A11\\_CTGCAGGAGATTCGAA & 73832 & 8011 & SI-TT-A11 & 2233 & 12 & D706 &  9664 & 3883 & 64168 & 6899 & J11 & M8  & 1.780507e-01 & J11\\_M8 & Doublet & Doublet & TRUE & FALSE & TRUE & CTGCAGGAGATTCGAA\\\\\n",
       "\tSI-TT-A11\\_GTTCCGTGTGAGAACC & 73320 & 7446 & SI-TT-A11 & 1876 & 12 & D706 &  8124 & 3357 & 65196 & 6472 & J2  & M13 & 1.267837e-04 & J2\\_M13 & Doublet & Doublet & TRUE & FALSE & TRUE & GTTCCGTGTGAGAACC\\\\\n",
       "\tSI-TT-A11\\_CGTAGTAGTTTCAGAC & 74781 & 8014 & SI-TT-A11 & 2023 & 12 & D706 &  9984 & 3865 & 64797 & 6952 & M2  & M18 & 0.000000e+00 & M18\\_M2 & Doublet & Doublet & TRUE & FALSE & TRUE & CGTAGTAGTTTCAGAC\\\\\n",
       "\\end{tabular}\n"
      ],
      "text/markdown": [
       "\n",
       "A data.frame: 6 × 20\n",
       "\n",
       "| <!--/--> | nCount_RNA_SCOP &lt;dbl&gt; | nFeature_RNA_SCOP &lt;int&gt; | Index.10x_SCOP &lt;chr&gt; | nCount_HTO_SCOP &lt;dbl&gt; | nFeature_HTO_SCOP &lt;int&gt; | Index.HTO_SCOP &lt;chr&gt; | nCount_spliced_SCOP &lt;dbl&gt; | nFeature_spliced_SCOP &lt;int&gt; | nCount_unspliced_SCOP &lt;dbl&gt; | nFeature_unspliced_SCOP &lt;int&gt; | HTO_mcl_maxID_SCOP &lt;chr&gt; | HTO_mcl_secondID_SCOP &lt;chr&gt; | HTO_mcl_margin_SCOP &lt;dbl&gt; | HTO_mcl_classification_SCOP &lt;chr&gt; | HTO_mcl_classification.global_SCOP &lt;chr&gt; | hash.mcl.ID_SCOP &lt;fct&gt; | doublet_SCOP &lt;lgl&gt; | predicted_dub_std_SCOP &lt;lgl&gt; | predicted_dub_cut_SCOP &lt;lgl&gt; | barcode_SCOP &lt;chr&gt; |\n",
       "|---|---|---|---|---|---|---|---|---|---|---|---|---|---|---|---|---|---|---|---|---|\n",
       "| SI-TT-A11_CGCATGGAGTCGCCAC | 71764 | 7931 | SI-TT-A11 | 2372 | 12 | D706 | 10520 | 3874 | 61244 | 6802 | N7  | M8  | 2.278358e-06 | M8_N7  | Doublet | Doublet | TRUE | FALSE | TRUE | CGCATGGAGTCGCCAC |\n",
       "| SI-TT-A11_CCAAGCGCATCGATCA | 70598 | 7880 | SI-TT-A11 | 1675 | 12 | D706 |  9825 | 3866 | 60773 | 6762 | M18 | M4  | 8.744916e-11 | M18_M4 | Doublet | Doublet | TRUE | FALSE | TRUE | CCAAGCGCATCGATCA |\n",
       "| SI-TT-A11_CACATGACAGCCCACA | 71679 | 7966 | SI-TT-A11 | 1658 | 12 | D706 | 10558 | 3976 | 61121 | 6808 | M4  | M18 | 3.070838e-07 | M18_M4 | Doublet | Doublet | TRUE | FALSE | TRUE | CACATGACAGCCCACA |\n",
       "| SI-TT-A11_CTGCAGGAGATTCGAA | 73832 | 8011 | SI-TT-A11 | 2233 | 12 | D706 |  9664 | 3883 | 64168 | 6899 | J11 | M8  | 1.780507e-01 | J11_M8 | Doublet | Doublet | TRUE | FALSE | TRUE | CTGCAGGAGATTCGAA |\n",
       "| SI-TT-A11_GTTCCGTGTGAGAACC | 73320 | 7446 | SI-TT-A11 | 1876 | 12 | D706 |  8124 | 3357 | 65196 | 6472 | J2  | M13 | 1.267837e-04 | J2_M13 | Doublet | Doublet | TRUE | FALSE | TRUE | GTTCCGTGTGAGAACC |\n",
       "| SI-TT-A11_CGTAGTAGTTTCAGAC | 74781 | 8014 | SI-TT-A11 | 2023 | 12 | D706 |  9984 | 3865 | 64797 | 6952 | M2  | M18 | 0.000000e+00 | M18_M2 | Doublet | Doublet | TRUE | FALSE | TRUE | CGTAGTAGTTTCAGAC |\n",
       "\n"
      ],
      "text/plain": [
       "                           nCount_RNA_SCOP nFeature_RNA_SCOP Index.10x_SCOP\n",
       "SI-TT-A11_CGCATGGAGTCGCCAC 71764           7931              SI-TT-A11     \n",
       "SI-TT-A11_CCAAGCGCATCGATCA 70598           7880              SI-TT-A11     \n",
       "SI-TT-A11_CACATGACAGCCCACA 71679           7966              SI-TT-A11     \n",
       "SI-TT-A11_CTGCAGGAGATTCGAA 73832           8011              SI-TT-A11     \n",
       "SI-TT-A11_GTTCCGTGTGAGAACC 73320           7446              SI-TT-A11     \n",
       "SI-TT-A11_CGTAGTAGTTTCAGAC 74781           8014              SI-TT-A11     \n",
       "                           nCount_HTO_SCOP nFeature_HTO_SCOP Index.HTO_SCOP\n",
       "SI-TT-A11_CGCATGGAGTCGCCAC 2372            12                D706          \n",
       "SI-TT-A11_CCAAGCGCATCGATCA 1675            12                D706          \n",
       "SI-TT-A11_CACATGACAGCCCACA 1658            12                D706          \n",
       "SI-TT-A11_CTGCAGGAGATTCGAA 2233            12                D706          \n",
       "SI-TT-A11_GTTCCGTGTGAGAACC 1876            12                D706          \n",
       "SI-TT-A11_CGTAGTAGTTTCAGAC 2023            12                D706          \n",
       "                           nCount_spliced_SCOP nFeature_spliced_SCOP\n",
       "SI-TT-A11_CGCATGGAGTCGCCAC 10520               3874                 \n",
       "SI-TT-A11_CCAAGCGCATCGATCA  9825               3866                 \n",
       "SI-TT-A11_CACATGACAGCCCACA 10558               3976                 \n",
       "SI-TT-A11_CTGCAGGAGATTCGAA  9664               3883                 \n",
       "SI-TT-A11_GTTCCGTGTGAGAACC  8124               3357                 \n",
       "SI-TT-A11_CGTAGTAGTTTCAGAC  9984               3865                 \n",
       "                           nCount_unspliced_SCOP nFeature_unspliced_SCOP\n",
       "SI-TT-A11_CGCATGGAGTCGCCAC 61244                 6802                   \n",
       "SI-TT-A11_CCAAGCGCATCGATCA 60773                 6762                   \n",
       "SI-TT-A11_CACATGACAGCCCACA 61121                 6808                   \n",
       "SI-TT-A11_CTGCAGGAGATTCGAA 64168                 6899                   \n",
       "SI-TT-A11_GTTCCGTGTGAGAACC 65196                 6472                   \n",
       "SI-TT-A11_CGTAGTAGTTTCAGAC 64797                 6952                   \n",
       "                           HTO_mcl_maxID_SCOP HTO_mcl_secondID_SCOP\n",
       "SI-TT-A11_CGCATGGAGTCGCCAC N7                 M8                   \n",
       "SI-TT-A11_CCAAGCGCATCGATCA M18                M4                   \n",
       "SI-TT-A11_CACATGACAGCCCACA M4                 M18                  \n",
       "SI-TT-A11_CTGCAGGAGATTCGAA J11                M8                   \n",
       "SI-TT-A11_GTTCCGTGTGAGAACC J2                 M13                  \n",
       "SI-TT-A11_CGTAGTAGTTTCAGAC M2                 M18                  \n",
       "                           HTO_mcl_margin_SCOP HTO_mcl_classification_SCOP\n",
       "SI-TT-A11_CGCATGGAGTCGCCAC 2.278358e-06        M8_N7                      \n",
       "SI-TT-A11_CCAAGCGCATCGATCA 8.744916e-11        M18_M4                     \n",
       "SI-TT-A11_CACATGACAGCCCACA 3.070838e-07        M18_M4                     \n",
       "SI-TT-A11_CTGCAGGAGATTCGAA 1.780507e-01        J11_M8                     \n",
       "SI-TT-A11_GTTCCGTGTGAGAACC 1.267837e-04        J2_M13                     \n",
       "SI-TT-A11_CGTAGTAGTTTCAGAC 0.000000e+00        M18_M2                     \n",
       "                           HTO_mcl_classification.global_SCOP hash.mcl.ID_SCOP\n",
       "SI-TT-A11_CGCATGGAGTCGCCAC Doublet                            Doublet         \n",
       "SI-TT-A11_CCAAGCGCATCGATCA Doublet                            Doublet         \n",
       "SI-TT-A11_CACATGACAGCCCACA Doublet                            Doublet         \n",
       "SI-TT-A11_CTGCAGGAGATTCGAA Doublet                            Doublet         \n",
       "SI-TT-A11_GTTCCGTGTGAGAACC Doublet                            Doublet         \n",
       "SI-TT-A11_CGTAGTAGTTTCAGAC Doublet                            Doublet         \n",
       "                           doublet_SCOP predicted_dub_std_SCOP\n",
       "SI-TT-A11_CGCATGGAGTCGCCAC TRUE         FALSE                 \n",
       "SI-TT-A11_CCAAGCGCATCGATCA TRUE         FALSE                 \n",
       "SI-TT-A11_CACATGACAGCCCACA TRUE         FALSE                 \n",
       "SI-TT-A11_CTGCAGGAGATTCGAA TRUE         FALSE                 \n",
       "SI-TT-A11_GTTCCGTGTGAGAACC TRUE         FALSE                 \n",
       "SI-TT-A11_CGTAGTAGTTTCAGAC TRUE         FALSE                 \n",
       "                           predicted_dub_cut_SCOP barcode_SCOP    \n",
       "SI-TT-A11_CGCATGGAGTCGCCAC TRUE                   CGCATGGAGTCGCCAC\n",
       "SI-TT-A11_CCAAGCGCATCGATCA TRUE                   CCAAGCGCATCGATCA\n",
       "SI-TT-A11_CACATGACAGCCCACA TRUE                   CACATGACAGCCCACA\n",
       "SI-TT-A11_CTGCAGGAGATTCGAA TRUE                   CTGCAGGAGATTCGAA\n",
       "SI-TT-A11_GTTCCGTGTGAGAACC TRUE                   GTTCCGTGTGAGAACC\n",
       "SI-TT-A11_CGTAGTAGTTTCAGAC TRUE                   CGTAGTAGTTTCAGAC"
      ]
     },
     "metadata": {},
     "output_type": "display_data"
    }
   ],
   "source": [
    "combined_metadata <- rds_list %>%\n",
    "  bind_rows %>%\n",
    "# filter(HTO_mcl_classification.global != 'Doublet') %>%\n",
    "# filter(HTO_mcl_margin > 0.5) %>%\n",
    "mutate(barcode = rownames(.)) %>%\n",
    "select(-orig.ident) %>%\n",
    "mutate(rowname = paste0(Index.10x, '_', barcode)) %>%\n",
    "tibble %>% data.frame %>%\n",
    "column_to_rownames %>%\n",
    "  rename_with(~ paste0(., \"_SCOP\"))\n",
    "\n",
    "\n",
    "\n",
    "combined_metadata %>% dim\n",
    "combined_metadata %>% head"
   ]
  },
  {
   "cell_type": "code",
   "execution_count": 23,
   "id": "97cf206e",
   "metadata": {},
   "outputs": [
    {
     "data": {
      "text/html": [
       "<style>\n",
       ".list-inline {list-style: none; margin:0; padding: 0}\n",
       ".list-inline>li {display: inline-block}\n",
       ".list-inline>li:not(:last-child)::after {content: \"\\00b7\"; padding: 0 .5ex}\n",
       "</style>\n",
       "<ol class=list-inline><li>'nCount_RNA_SCOP'</li><li>'nFeature_RNA_SCOP'</li><li>'Index.10x_SCOP'</li><li>'nCount_HTO_SCOP'</li><li>'nFeature_HTO_SCOP'</li><li>'Index.HTO_SCOP'</li><li>'nCount_spliced_SCOP'</li><li>'nFeature_spliced_SCOP'</li><li>'nCount_unspliced_SCOP'</li><li>'nFeature_unspliced_SCOP'</li><li>'HTO_mcl_maxID_SCOP'</li><li>'HTO_mcl_secondID_SCOP'</li><li>'HTO_mcl_margin_SCOP'</li><li>'HTO_mcl_classification_SCOP'</li><li>'HTO_mcl_classification.global_SCOP'</li><li>'hash.mcl.ID_SCOP'</li><li>'doublet_SCOP'</li><li>'predicted_dub_std_SCOP'</li><li>'predicted_dub_cut_SCOP'</li><li>'barcode_SCOP'</li></ol>\n"
      ],
      "text/latex": [
       "\\begin{enumerate*}\n",
       "\\item 'nCount\\_RNA\\_SCOP'\n",
       "\\item 'nFeature\\_RNA\\_SCOP'\n",
       "\\item 'Index.10x\\_SCOP'\n",
       "\\item 'nCount\\_HTO\\_SCOP'\n",
       "\\item 'nFeature\\_HTO\\_SCOP'\n",
       "\\item 'Index.HTO\\_SCOP'\n",
       "\\item 'nCount\\_spliced\\_SCOP'\n",
       "\\item 'nFeature\\_spliced\\_SCOP'\n",
       "\\item 'nCount\\_unspliced\\_SCOP'\n",
       "\\item 'nFeature\\_unspliced\\_SCOP'\n",
       "\\item 'HTO\\_mcl\\_maxID\\_SCOP'\n",
       "\\item 'HTO\\_mcl\\_secondID\\_SCOP'\n",
       "\\item 'HTO\\_mcl\\_margin\\_SCOP'\n",
       "\\item 'HTO\\_mcl\\_classification\\_SCOP'\n",
       "\\item 'HTO\\_mcl\\_classification.global\\_SCOP'\n",
       "\\item 'hash.mcl.ID\\_SCOP'\n",
       "\\item 'doublet\\_SCOP'\n",
       "\\item 'predicted\\_dub\\_std\\_SCOP'\n",
       "\\item 'predicted\\_dub\\_cut\\_SCOP'\n",
       "\\item 'barcode\\_SCOP'\n",
       "\\end{enumerate*}\n"
      ],
      "text/markdown": [
       "1. 'nCount_RNA_SCOP'\n",
       "2. 'nFeature_RNA_SCOP'\n",
       "3. 'Index.10x_SCOP'\n",
       "4. 'nCount_HTO_SCOP'\n",
       "5. 'nFeature_HTO_SCOP'\n",
       "6. 'Index.HTO_SCOP'\n",
       "7. 'nCount_spliced_SCOP'\n",
       "8. 'nFeature_spliced_SCOP'\n",
       "9. 'nCount_unspliced_SCOP'\n",
       "10. 'nFeature_unspliced_SCOP'\n",
       "11. 'HTO_mcl_maxID_SCOP'\n",
       "12. 'HTO_mcl_secondID_SCOP'\n",
       "13. 'HTO_mcl_margin_SCOP'\n",
       "14. 'HTO_mcl_classification_SCOP'\n",
       "15. 'HTO_mcl_classification.global_SCOP'\n",
       "16. 'hash.mcl.ID_SCOP'\n",
       "17. 'doublet_SCOP'\n",
       "18. 'predicted_dub_std_SCOP'\n",
       "19. 'predicted_dub_cut_SCOP'\n",
       "20. 'barcode_SCOP'\n",
       "\n",
       "\n"
      ],
      "text/plain": [
       " [1] \"nCount_RNA_SCOP\"                    \"nFeature_RNA_SCOP\"                 \n",
       " [3] \"Index.10x_SCOP\"                     \"nCount_HTO_SCOP\"                   \n",
       " [5] \"nFeature_HTO_SCOP\"                  \"Index.HTO_SCOP\"                    \n",
       " [7] \"nCount_spliced_SCOP\"                \"nFeature_spliced_SCOP\"             \n",
       " [9] \"nCount_unspliced_SCOP\"              \"nFeature_unspliced_SCOP\"           \n",
       "[11] \"HTO_mcl_maxID_SCOP\"                 \"HTO_mcl_secondID_SCOP\"             \n",
       "[13] \"HTO_mcl_margin_SCOP\"                \"HTO_mcl_classification_SCOP\"       \n",
       "[15] \"HTO_mcl_classification.global_SCOP\" \"hash.mcl.ID_SCOP\"                  \n",
       "[17] \"doublet_SCOP\"                       \"predicted_dub_std_SCOP\"            \n",
       "[19] \"predicted_dub_cut_SCOP\"             \"barcode_SCOP\"                      "
      ]
     },
     "metadata": {},
     "output_type": "display_data"
    }
   ],
   "source": [
    "combined_metadata %>% colnames"
   ]
  },
  {
   "cell_type": "code",
   "execution_count": 25,
   "id": "f3edcbf7",
   "metadata": {},
   "outputs": [],
   "source": [
    "obj = obj %>% AddMetaData(combined_metadata)"
   ]
  },
  {
   "cell_type": "code",
   "execution_count": 26,
   "id": "c6c09a6a",
   "metadata": {},
   "outputs": [
    {
     "data": {
      "text/html": [
       "<table class=\"dataframe\">\n",
       "<caption>A data.frame: 6 × 23</caption>\n",
       "<thead>\n",
       "\t<tr><th></th><th scope=col>orig.ident</th><th scope=col>nCount_RNA</th><th scope=col>nFeature_RNA</th><th scope=col>nCount_RNA_SCOP</th><th scope=col>nFeature_RNA_SCOP</th><th scope=col>Index.10x_SCOP</th><th scope=col>nCount_HTO_SCOP</th><th scope=col>nFeature_HTO_SCOP</th><th scope=col>Index.HTO_SCOP</th><th scope=col>nCount_spliced_SCOP</th><th scope=col>⋯</th><th scope=col>HTO_mcl_maxID_SCOP</th><th scope=col>HTO_mcl_secondID_SCOP</th><th scope=col>HTO_mcl_margin_SCOP</th><th scope=col>HTO_mcl_classification_SCOP</th><th scope=col>HTO_mcl_classification.global_SCOP</th><th scope=col>hash.mcl.ID_SCOP</th><th scope=col>doublet_SCOP</th><th scope=col>predicted_dub_std_SCOP</th><th scope=col>predicted_dub_cut_SCOP</th><th scope=col>barcode_SCOP</th></tr>\n",
       "\t<tr><th></th><th scope=col>&lt;fct&gt;</th><th scope=col>&lt;dbl&gt;</th><th scope=col>&lt;int&gt;</th><th scope=col>&lt;dbl&gt;</th><th scope=col>&lt;int&gt;</th><th scope=col>&lt;chr&gt;</th><th scope=col>&lt;dbl&gt;</th><th scope=col>&lt;int&gt;</th><th scope=col>&lt;chr&gt;</th><th scope=col>&lt;dbl&gt;</th><th scope=col>⋯</th><th scope=col>&lt;chr&gt;</th><th scope=col>&lt;chr&gt;</th><th scope=col>&lt;dbl&gt;</th><th scope=col>&lt;chr&gt;</th><th scope=col>&lt;chr&gt;</th><th scope=col>&lt;fct&gt;</th><th scope=col>&lt;lgl&gt;</th><th scope=col>&lt;lgl&gt;</th><th scope=col>&lt;lgl&gt;</th><th scope=col>&lt;chr&gt;</th></tr>\n",
       "</thead>\n",
       "<tbody>\n",
       "\t<tr><th scope=row>SI-TT-A11_AAACCCAAGAATTGCA</th><td>SI-TT-A11</td><td> 7964</td><td>3821</td><td>23852</td><td>5466</td><td>SI-TT-A11</td><td> 1929</td><td>12</td><td>D706</td><td>4342</td><td>⋯</td><td>N7 </td><td>M8 </td><td>0.06946145</td><td>M8_N7   </td><td>Doublet </td><td>Doublet </td><td> TRUE</td><td>FALSE</td><td> TRUE</td><td>AAACCCAAGAATTGCA</td></tr>\n",
       "\t<tr><th scope=row>SI-TT-A11_AAACCCAAGGTGGTTG</th><td>SI-TT-A11</td><td> 5427</td><td>2686</td><td>18589</td><td>4492</td><td>SI-TT-A11</td><td> 1233</td><td>12</td><td>D706</td><td>2936</td><td>⋯</td><td>J2 </td><td>M18</td><td>0.98234971</td><td>J2      </td><td>Singlet </td><td>J2      </td><td>FALSE</td><td>FALSE</td><td>FALSE</td><td>AAACCCAAGGTGGTTG</td></tr>\n",
       "\t<tr><th scope=row>SI-TT-A11_AAACCCACAAAGGGTC</th><td>SI-TT-A11</td><td> 4655</td><td>2843</td><td>12818</td><td>4508</td><td>SI-TT-A11</td><td> 3705</td><td>12</td><td>D706</td><td>2767</td><td>⋯</td><td>M24</td><td>M2 </td><td>0.02885499</td><td>Negative</td><td>Negative</td><td>Negative</td><td>FALSE</td><td>FALSE</td><td>FALSE</td><td>AAACCCACAAAGGGTC</td></tr>\n",
       "\t<tr><th scope=row>SI-TT-A11_AAACCCACATACAGCT</th><td>SI-TT-A11</td><td> 6794</td><td>3191</td><td>22352</td><td>4816</td><td>SI-TT-A11</td><td> 1000</td><td>12</td><td>D706</td><td>2976</td><td>⋯</td><td>M8 </td><td>N7 </td><td>0.87298667</td><td>M8      </td><td>Singlet </td><td>M8      </td><td>FALSE</td><td>FALSE</td><td>FALSE</td><td>AAACCCACATACAGCT</td></tr>\n",
       "\t<tr><th scope=row>SI-TT-A11_AAACCCACATGAGGGT</th><td>SI-TT-A11</td><td>13576</td><td>5516</td><td>44099</td><td>7365</td><td>SI-TT-A11</td><td>12215</td><td>12</td><td>D706</td><td>7888</td><td>⋯</td><td>M24</td><td>M2 </td><td>0.71565953</td><td>M24     </td><td>Singlet </td><td>M24     </td><td>FALSE</td><td>FALSE</td><td> TRUE</td><td>AAACCCACATGAGGGT</td></tr>\n",
       "\t<tr><th scope=row>SI-TT-A11_AAACCCAGTACGTTCA</th><td>SI-TT-A11</td><td> 3849</td><td>2247</td><td>17749</td><td>4347</td><td>SI-TT-A11</td><td> 1699</td><td>12</td><td>D706</td><td>2474</td><td>⋯</td><td>M17</td><td>M4 </td><td>0.96456947</td><td>M17     </td><td>Singlet </td><td>M17     </td><td>FALSE</td><td>FALSE</td><td>FALSE</td><td>AAACCCAGTACGTTCA</td></tr>\n",
       "</tbody>\n",
       "</table>\n"
      ],
      "text/latex": [
       "A data.frame: 6 × 23\n",
       "\\begin{tabular}{r|lllllllllllllllllllll}\n",
       "  & orig.ident & nCount\\_RNA & nFeature\\_RNA & nCount\\_RNA\\_SCOP & nFeature\\_RNA\\_SCOP & Index.10x\\_SCOP & nCount\\_HTO\\_SCOP & nFeature\\_HTO\\_SCOP & Index.HTO\\_SCOP & nCount\\_spliced\\_SCOP & ⋯ & HTO\\_mcl\\_maxID\\_SCOP & HTO\\_mcl\\_secondID\\_SCOP & HTO\\_mcl\\_margin\\_SCOP & HTO\\_mcl\\_classification\\_SCOP & HTO\\_mcl\\_classification.global\\_SCOP & hash.mcl.ID\\_SCOP & doublet\\_SCOP & predicted\\_dub\\_std\\_SCOP & predicted\\_dub\\_cut\\_SCOP & barcode\\_SCOP\\\\\n",
       "  & <fct> & <dbl> & <int> & <dbl> & <int> & <chr> & <dbl> & <int> & <chr> & <dbl> & ⋯ & <chr> & <chr> & <dbl> & <chr> & <chr> & <fct> & <lgl> & <lgl> & <lgl> & <chr>\\\\\n",
       "\\hline\n",
       "\tSI-TT-A11\\_AAACCCAAGAATTGCA & SI-TT-A11 &  7964 & 3821 & 23852 & 5466 & SI-TT-A11 &  1929 & 12 & D706 & 4342 & ⋯ & N7  & M8  & 0.06946145 & M8\\_N7    & Doublet  & Doublet  &  TRUE & FALSE &  TRUE & AAACCCAAGAATTGCA\\\\\n",
       "\tSI-TT-A11\\_AAACCCAAGGTGGTTG & SI-TT-A11 &  5427 & 2686 & 18589 & 4492 & SI-TT-A11 &  1233 & 12 & D706 & 2936 & ⋯ & J2  & M18 & 0.98234971 & J2       & Singlet  & J2       & FALSE & FALSE & FALSE & AAACCCAAGGTGGTTG\\\\\n",
       "\tSI-TT-A11\\_AAACCCACAAAGGGTC & SI-TT-A11 &  4655 & 2843 & 12818 & 4508 & SI-TT-A11 &  3705 & 12 & D706 & 2767 & ⋯ & M24 & M2  & 0.02885499 & Negative & Negative & Negative & FALSE & FALSE & FALSE & AAACCCACAAAGGGTC\\\\\n",
       "\tSI-TT-A11\\_AAACCCACATACAGCT & SI-TT-A11 &  6794 & 3191 & 22352 & 4816 & SI-TT-A11 &  1000 & 12 & D706 & 2976 & ⋯ & M8  & N7  & 0.87298667 & M8       & Singlet  & M8       & FALSE & FALSE & FALSE & AAACCCACATACAGCT\\\\\n",
       "\tSI-TT-A11\\_AAACCCACATGAGGGT & SI-TT-A11 & 13576 & 5516 & 44099 & 7365 & SI-TT-A11 & 12215 & 12 & D706 & 7888 & ⋯ & M24 & M2  & 0.71565953 & M24      & Singlet  & M24      & FALSE & FALSE &  TRUE & AAACCCACATGAGGGT\\\\\n",
       "\tSI-TT-A11\\_AAACCCAGTACGTTCA & SI-TT-A11 &  3849 & 2247 & 17749 & 4347 & SI-TT-A11 &  1699 & 12 & D706 & 2474 & ⋯ & M17 & M4  & 0.96456947 & M17      & Singlet  & M17      & FALSE & FALSE & FALSE & AAACCCAGTACGTTCA\\\\\n",
       "\\end{tabular}\n"
      ],
      "text/markdown": [
       "\n",
       "A data.frame: 6 × 23\n",
       "\n",
       "| <!--/--> | orig.ident &lt;fct&gt; | nCount_RNA &lt;dbl&gt; | nFeature_RNA &lt;int&gt; | nCount_RNA_SCOP &lt;dbl&gt; | nFeature_RNA_SCOP &lt;int&gt; | Index.10x_SCOP &lt;chr&gt; | nCount_HTO_SCOP &lt;dbl&gt; | nFeature_HTO_SCOP &lt;int&gt; | Index.HTO_SCOP &lt;chr&gt; | nCount_spliced_SCOP &lt;dbl&gt; | ⋯ ⋯ | HTO_mcl_maxID_SCOP &lt;chr&gt; | HTO_mcl_secondID_SCOP &lt;chr&gt; | HTO_mcl_margin_SCOP &lt;dbl&gt; | HTO_mcl_classification_SCOP &lt;chr&gt; | HTO_mcl_classification.global_SCOP &lt;chr&gt; | hash.mcl.ID_SCOP &lt;fct&gt; | doublet_SCOP &lt;lgl&gt; | predicted_dub_std_SCOP &lt;lgl&gt; | predicted_dub_cut_SCOP &lt;lgl&gt; | barcode_SCOP &lt;chr&gt; |\n",
       "|---|---|---|---|---|---|---|---|---|---|---|---|---|---|---|---|---|---|---|---|---|---|\n",
       "| SI-TT-A11_AAACCCAAGAATTGCA | SI-TT-A11 |  7964 | 3821 | 23852 | 5466 | SI-TT-A11 |  1929 | 12 | D706 | 4342 | ⋯ | N7  | M8  | 0.06946145 | M8_N7    | Doublet  | Doublet  |  TRUE | FALSE |  TRUE | AAACCCAAGAATTGCA |\n",
       "| SI-TT-A11_AAACCCAAGGTGGTTG | SI-TT-A11 |  5427 | 2686 | 18589 | 4492 | SI-TT-A11 |  1233 | 12 | D706 | 2936 | ⋯ | J2  | M18 | 0.98234971 | J2       | Singlet  | J2       | FALSE | FALSE | FALSE | AAACCCAAGGTGGTTG |\n",
       "| SI-TT-A11_AAACCCACAAAGGGTC | SI-TT-A11 |  4655 | 2843 | 12818 | 4508 | SI-TT-A11 |  3705 | 12 | D706 | 2767 | ⋯ | M24 | M2  | 0.02885499 | Negative | Negative | Negative | FALSE | FALSE | FALSE | AAACCCACAAAGGGTC |\n",
       "| SI-TT-A11_AAACCCACATACAGCT | SI-TT-A11 |  6794 | 3191 | 22352 | 4816 | SI-TT-A11 |  1000 | 12 | D706 | 2976 | ⋯ | M8  | N7  | 0.87298667 | M8       | Singlet  | M8       | FALSE | FALSE | FALSE | AAACCCACATACAGCT |\n",
       "| SI-TT-A11_AAACCCACATGAGGGT | SI-TT-A11 | 13576 | 5516 | 44099 | 7365 | SI-TT-A11 | 12215 | 12 | D706 | 7888 | ⋯ | M24 | M2  | 0.71565953 | M24      | Singlet  | M24      | FALSE | FALSE |  TRUE | AAACCCACATGAGGGT |\n",
       "| SI-TT-A11_AAACCCAGTACGTTCA | SI-TT-A11 |  3849 | 2247 | 17749 | 4347 | SI-TT-A11 |  1699 | 12 | D706 | 2474 | ⋯ | M17 | M4  | 0.96456947 | M17      | Singlet  | M17      | FALSE | FALSE | FALSE | AAACCCAGTACGTTCA |\n",
       "\n"
      ],
      "text/plain": [
       "                           orig.ident nCount_RNA nFeature_RNA nCount_RNA_SCOP\n",
       "SI-TT-A11_AAACCCAAGAATTGCA SI-TT-A11   7964      3821         23852          \n",
       "SI-TT-A11_AAACCCAAGGTGGTTG SI-TT-A11   5427      2686         18589          \n",
       "SI-TT-A11_AAACCCACAAAGGGTC SI-TT-A11   4655      2843         12818          \n",
       "SI-TT-A11_AAACCCACATACAGCT SI-TT-A11   6794      3191         22352          \n",
       "SI-TT-A11_AAACCCACATGAGGGT SI-TT-A11  13576      5516         44099          \n",
       "SI-TT-A11_AAACCCAGTACGTTCA SI-TT-A11   3849      2247         17749          \n",
       "                           nFeature_RNA_SCOP Index.10x_SCOP nCount_HTO_SCOP\n",
       "SI-TT-A11_AAACCCAAGAATTGCA 5466              SI-TT-A11       1929          \n",
       "SI-TT-A11_AAACCCAAGGTGGTTG 4492              SI-TT-A11       1233          \n",
       "SI-TT-A11_AAACCCACAAAGGGTC 4508              SI-TT-A11       3705          \n",
       "SI-TT-A11_AAACCCACATACAGCT 4816              SI-TT-A11       1000          \n",
       "SI-TT-A11_AAACCCACATGAGGGT 7365              SI-TT-A11      12215          \n",
       "SI-TT-A11_AAACCCAGTACGTTCA 4347              SI-TT-A11       1699          \n",
       "                           nFeature_HTO_SCOP Index.HTO_SCOP nCount_spliced_SCOP\n",
       "SI-TT-A11_AAACCCAAGAATTGCA 12                D706           4342               \n",
       "SI-TT-A11_AAACCCAAGGTGGTTG 12                D706           2936               \n",
       "SI-TT-A11_AAACCCACAAAGGGTC 12                D706           2767               \n",
       "SI-TT-A11_AAACCCACATACAGCT 12                D706           2976               \n",
       "SI-TT-A11_AAACCCACATGAGGGT 12                D706           7888               \n",
       "SI-TT-A11_AAACCCAGTACGTTCA 12                D706           2474               \n",
       "                           ⋯ HTO_mcl_maxID_SCOP HTO_mcl_secondID_SCOP\n",
       "SI-TT-A11_AAACCCAAGAATTGCA ⋯ N7                 M8                   \n",
       "SI-TT-A11_AAACCCAAGGTGGTTG ⋯ J2                 M18                  \n",
       "SI-TT-A11_AAACCCACAAAGGGTC ⋯ M24                M2                   \n",
       "SI-TT-A11_AAACCCACATACAGCT ⋯ M8                 N7                   \n",
       "SI-TT-A11_AAACCCACATGAGGGT ⋯ M24                M2                   \n",
       "SI-TT-A11_AAACCCAGTACGTTCA ⋯ M17                M4                   \n",
       "                           HTO_mcl_margin_SCOP HTO_mcl_classification_SCOP\n",
       "SI-TT-A11_AAACCCAAGAATTGCA 0.06946145          M8_N7                      \n",
       "SI-TT-A11_AAACCCAAGGTGGTTG 0.98234971          J2                         \n",
       "SI-TT-A11_AAACCCACAAAGGGTC 0.02885499          Negative                   \n",
       "SI-TT-A11_AAACCCACATACAGCT 0.87298667          M8                         \n",
       "SI-TT-A11_AAACCCACATGAGGGT 0.71565953          M24                        \n",
       "SI-TT-A11_AAACCCAGTACGTTCA 0.96456947          M17                        \n",
       "                           HTO_mcl_classification.global_SCOP hash.mcl.ID_SCOP\n",
       "SI-TT-A11_AAACCCAAGAATTGCA Doublet                            Doublet         \n",
       "SI-TT-A11_AAACCCAAGGTGGTTG Singlet                            J2              \n",
       "SI-TT-A11_AAACCCACAAAGGGTC Negative                           Negative        \n",
       "SI-TT-A11_AAACCCACATACAGCT Singlet                            M8              \n",
       "SI-TT-A11_AAACCCACATGAGGGT Singlet                            M24             \n",
       "SI-TT-A11_AAACCCAGTACGTTCA Singlet                            M17             \n",
       "                           doublet_SCOP predicted_dub_std_SCOP\n",
       "SI-TT-A11_AAACCCAAGAATTGCA  TRUE        FALSE                 \n",
       "SI-TT-A11_AAACCCAAGGTGGTTG FALSE        FALSE                 \n",
       "SI-TT-A11_AAACCCACAAAGGGTC FALSE        FALSE                 \n",
       "SI-TT-A11_AAACCCACATACAGCT FALSE        FALSE                 \n",
       "SI-TT-A11_AAACCCACATGAGGGT FALSE        FALSE                 \n",
       "SI-TT-A11_AAACCCAGTACGTTCA FALSE        FALSE                 \n",
       "                           predicted_dub_cut_SCOP barcode_SCOP    \n",
       "SI-TT-A11_AAACCCAAGAATTGCA  TRUE                  AAACCCAAGAATTGCA\n",
       "SI-TT-A11_AAACCCAAGGTGGTTG FALSE                  AAACCCAAGGTGGTTG\n",
       "SI-TT-A11_AAACCCACAAAGGGTC FALSE                  AAACCCACAAAGGGTC\n",
       "SI-TT-A11_AAACCCACATACAGCT FALSE                  AAACCCACATACAGCT\n",
       "SI-TT-A11_AAACCCACATGAGGGT  TRUE                  AAACCCACATGAGGGT\n",
       "SI-TT-A11_AAACCCAGTACGTTCA FALSE                  AAACCCAGTACGTTCA"
      ]
     },
     "metadata": {},
     "output_type": "display_data"
    }
   ],
   "source": [
    "obj %>% `[[` %>% head"
   ]
  },
  {
   "cell_type": "code",
   "execution_count": 42,
   "id": "38eab7f1",
   "metadata": {},
   "outputs": [],
   "source": [
    "selected_cells = obj %>%\n",
    "`[[` %>%\n",
    "filter(HTO_mcl_classification.global_SCOP == 'Singlet') %>%\n",
    "filter(HTO_mcl_margin_SCOP > 0.1) %>%\n",
    "rownames"
   ]
  },
  {
   "cell_type": "code",
   "execution_count": 44,
   "id": "3556ac73",
   "metadata": {},
   "outputs": [
    {
     "data": {
      "text/plain": [
       "An object of class Seurat \n",
       "27757 features across 126957 samples within 1 assay \n",
       "Active assay: RNA (27757 features, 0 variable features)\n",
       " 1 layer present: counts"
      ]
     },
     "metadata": {},
     "output_type": "display_data"
    }
   ],
   "source": [
    "obj = obj %>% subset(cells = selected_cells)\n",
    "obj"
   ]
  },
  {
   "cell_type": "code",
   "execution_count": 49,
   "id": "158fd8d3",
   "metadata": {},
   "outputs": [
    {
     "name": "stderr",
     "output_type": "stream",
     "text": [
      "\u001b[1mRows: \u001b[22m\u001b[34m36\u001b[39m \u001b[1mColumns: \u001b[22m\u001b[34m7\u001b[39m\n",
      "\u001b[36m──\u001b[39m \u001b[1mColumn specification\u001b[22m \u001b[36m────────────────────────────────────────────────────────\u001b[39m\n",
      "\u001b[1mDelimiter:\u001b[22m \",\"\n",
      "\u001b[31mchr\u001b[39m (6): sample_name, strain, treatment, time, isolation_date, batch\n",
      "\u001b[32mdbl\u001b[39m (1): collection_date\n",
      "\n",
      "\u001b[36mℹ\u001b[39m Use `spec()` to retrieve the full column specification for this data.\n",
      "\u001b[36mℹ\u001b[39m Specify the column types or set `show_col_types = FALSE` to quiet this message.\n"
     ]
    },
    {
     "data": {
      "text/html": [
       "<table class=\"dataframe\">\n",
       "<caption>A tibble: 6 × 7</caption>\n",
       "<thead>\n",
       "\t<tr><th scope=col>hash.mcl.ID_SCOP</th><th scope=col>strain</th><th scope=col>treatment</th><th scope=col>time</th><th scope=col>collection_date</th><th scope=col>isolation_date</th><th scope=col>batch</th></tr>\n",
       "\t<tr><th scope=col>&lt;chr&gt;</th><th scope=col>&lt;chr&gt;</th><th scope=col>&lt;chr&gt;</th><th scope=col>&lt;chr&gt;</th><th scope=col>&lt;dbl&gt;</th><th scope=col>&lt;chr&gt;</th><th scope=col>&lt;chr&gt;</th></tr>\n",
       "</thead>\n",
       "<tbody>\n",
       "\t<tr><td>M9 </td><td>obob</td><td>FGF1</td><td>Day5</td><td>220329</td><td>22/6/2022</td><td>Batch 1</td></tr>\n",
       "\t<tr><td>M10</td><td>obob</td><td>FGF1</td><td>Day5</td><td>220328</td><td>23/6/2022</td><td>Batch 2</td></tr>\n",
       "\t<tr><td>M15</td><td>obob</td><td>FGF1</td><td>Day5</td><td>220328</td><td>24/6/2022</td><td>Batch 3</td></tr>\n",
       "\t<tr><td>N7 </td><td>obob</td><td>FGF1</td><td>Day5</td><td>211213</td><td>22/6/2022</td><td>Batch 1</td></tr>\n",
       "\t<tr><td>N17</td><td>obob</td><td>FGF1</td><td>Day5</td><td>211213</td><td>23/6/2022</td><td>Batch 2</td></tr>\n",
       "\t<tr><td>N21</td><td>obob</td><td>FGF1</td><td>Day5</td><td>211213</td><td>24/6/2022</td><td>Batch 3</td></tr>\n",
       "</tbody>\n",
       "</table>\n"
      ],
      "text/latex": [
       "A tibble: 6 × 7\n",
       "\\begin{tabular}{lllllll}\n",
       " hash.mcl.ID\\_SCOP & strain & treatment & time & collection\\_date & isolation\\_date & batch\\\\\n",
       " <chr> & <chr> & <chr> & <chr> & <dbl> & <chr> & <chr>\\\\\n",
       "\\hline\n",
       "\t M9  & obob & FGF1 & Day5 & 220329 & 22/6/2022 & Batch 1\\\\\n",
       "\t M10 & obob & FGF1 & Day5 & 220328 & 23/6/2022 & Batch 2\\\\\n",
       "\t M15 & obob & FGF1 & Day5 & 220328 & 24/6/2022 & Batch 3\\\\\n",
       "\t N7  & obob & FGF1 & Day5 & 211213 & 22/6/2022 & Batch 1\\\\\n",
       "\t N17 & obob & FGF1 & Day5 & 211213 & 23/6/2022 & Batch 2\\\\\n",
       "\t N21 & obob & FGF1 & Day5 & 211213 & 24/6/2022 & Batch 3\\\\\n",
       "\\end{tabular}\n"
      ],
      "text/markdown": [
       "\n",
       "A tibble: 6 × 7\n",
       "\n",
       "| hash.mcl.ID_SCOP &lt;chr&gt; | strain &lt;chr&gt; | treatment &lt;chr&gt; | time &lt;chr&gt; | collection_date &lt;dbl&gt; | isolation_date &lt;chr&gt; | batch &lt;chr&gt; |\n",
       "|---|---|---|---|---|---|---|\n",
       "| M9  | obob | FGF1 | Day5 | 220329 | 22/6/2022 | Batch 1 |\n",
       "| M10 | obob | FGF1 | Day5 | 220328 | 23/6/2022 | Batch 2 |\n",
       "| M15 | obob | FGF1 | Day5 | 220328 | 24/6/2022 | Batch 3 |\n",
       "| N7  | obob | FGF1 | Day5 | 211213 | 22/6/2022 | Batch 1 |\n",
       "| N17 | obob | FGF1 | Day5 | 211213 | 23/6/2022 | Batch 2 |\n",
       "| N21 | obob | FGF1 | Day5 | 211213 | 24/6/2022 | Batch 3 |\n",
       "\n"
      ],
      "text/plain": [
       "  hash.mcl.ID_SCOP strain treatment time collection_date isolation_date batch  \n",
       "1 M9               obob   FGF1      Day5 220329          22/6/2022      Batch 1\n",
       "2 M10              obob   FGF1      Day5 220328          23/6/2022      Batch 2\n",
       "3 M15              obob   FGF1      Day5 220328          24/6/2022      Batch 3\n",
       "4 N7               obob   FGF1      Day5 211213          22/6/2022      Batch 1\n",
       "5 N17              obob   FGF1      Day5 211213          23/6/2022      Batch 2\n",
       "6 N21              obob   FGF1      Day5 211213          24/6/2022      Batch 3"
      ]
     },
     "metadata": {},
     "output_type": "display_data"
    }
   ],
   "source": [
    "more_meta = read_csv('../data/meta/metadata.csv') %>%\n",
    "rename(hash.mcl.ID_SCOP = sample_name)\n",
    "more_meta %>% head"
   ]
  },
  {
   "cell_type": "code",
   "execution_count": 53,
   "id": "107e57e7",
   "metadata": {},
   "outputs": [
    {
     "data": {
      "text/html": [
       "<table class=\"dataframe\">\n",
       "<caption>A data.frame: 6 × 29</caption>\n",
       "<thead>\n",
       "\t<tr><th></th><th scope=col>orig.ident</th><th scope=col>nCount_RNA</th><th scope=col>nFeature_RNA</th><th scope=col>nCount_RNA_SCOP</th><th scope=col>nFeature_RNA_SCOP</th><th scope=col>Index.10x_SCOP</th><th scope=col>nCount_HTO_SCOP</th><th scope=col>nFeature_HTO_SCOP</th><th scope=col>Index.HTO_SCOP</th><th scope=col>nCount_spliced_SCOP</th><th scope=col>⋯</th><th scope=col>doublet_SCOP</th><th scope=col>predicted_dub_std_SCOP</th><th scope=col>predicted_dub_cut_SCOP</th><th scope=col>barcode_SCOP</th><th scope=col>strain</th><th scope=col>treatment</th><th scope=col>time</th><th scope=col>collection_date</th><th scope=col>isolation_date</th><th scope=col>batch</th></tr>\n",
       "\t<tr><th></th><th scope=col>&lt;fct&gt;</th><th scope=col>&lt;dbl&gt;</th><th scope=col>&lt;int&gt;</th><th scope=col>&lt;dbl&gt;</th><th scope=col>&lt;int&gt;</th><th scope=col>&lt;chr&gt;</th><th scope=col>&lt;dbl&gt;</th><th scope=col>&lt;int&gt;</th><th scope=col>&lt;chr&gt;</th><th scope=col>&lt;dbl&gt;</th><th scope=col>⋯</th><th scope=col>&lt;lgl&gt;</th><th scope=col>&lt;lgl&gt;</th><th scope=col>&lt;lgl&gt;</th><th scope=col>&lt;chr&gt;</th><th scope=col>&lt;chr&gt;</th><th scope=col>&lt;chr&gt;</th><th scope=col>&lt;chr&gt;</th><th scope=col>&lt;dbl&gt;</th><th scope=col>&lt;chr&gt;</th><th scope=col>&lt;chr&gt;</th></tr>\n",
       "</thead>\n",
       "<tbody>\n",
       "\t<tr><th scope=row>SI-TT-A11_AAACCCAAGGTGGTTG</th><td>SI-TT-A11</td><td> 5427</td><td>2686</td><td>18589</td><td>4492</td><td>SI-TT-A11</td><td> 1233</td><td>12</td><td>D706</td><td>2936</td><td>⋯</td><td>FALSE</td><td>FALSE</td><td>FALSE</td><td>AAACCCAAGGTGGTTG</td><td>obob</td><td>Veh_PF</td><td>Day14</td><td>220201</td><td>22/6/2022</td><td>Batch 1</td></tr>\n",
       "\t<tr><th scope=row>SI-TT-A11_AAACCCACATACAGCT</th><td>SI-TT-A11</td><td> 6794</td><td>3191</td><td>22352</td><td>4816</td><td>SI-TT-A11</td><td> 1000</td><td>12</td><td>D706</td><td>2976</td><td>⋯</td><td>FALSE</td><td>FALSE</td><td>FALSE</td><td>AAACCCACATACAGCT</td><td>obob</td><td>Veh_PF</td><td>Day5 </td><td>220329</td><td>22/6/2022</td><td>Batch 1</td></tr>\n",
       "\t<tr><th scope=row>SI-TT-A11_AAACCCACATGAGGGT</th><td>SI-TT-A11</td><td>13576</td><td>5516</td><td>44099</td><td>7365</td><td>SI-TT-A11</td><td>12215</td><td>12</td><td>D706</td><td>7888</td><td>⋯</td><td>FALSE</td><td>FALSE</td><td> TRUE</td><td>AAACCCACATGAGGGT</td><td>obob</td><td>Veh_PF</td><td>Day14</td><td>220407</td><td>22/6/2022</td><td>Batch 1</td></tr>\n",
       "\t<tr><th scope=row>SI-TT-A11_AAACCCAGTACGTTCA</th><td>SI-TT-A11</td><td> 3849</td><td>2247</td><td>17749</td><td>4347</td><td>SI-TT-A11</td><td> 1699</td><td>12</td><td>D706</td><td>2474</td><td>⋯</td><td>FALSE</td><td>FALSE</td><td>FALSE</td><td>AAACCCAGTACGTTCA</td><td>BL6 </td><td>Veh_PF</td><td>Day14</td><td>220407</td><td>22/6/2022</td><td>Batch 1</td></tr>\n",
       "\t<tr><th scope=row>SI-TT-A11_AAACCCAGTATCGGTT</th><td>SI-TT-A11</td><td> 1530</td><td>1173</td><td> 4761</td><td>2296</td><td>SI-TT-A11</td><td> 1150</td><td>12</td><td>D706</td><td> 944</td><td>⋯</td><td>FALSE</td><td>FALSE</td><td>FALSE</td><td>AAACCCAGTATCGGTT</td><td>BL6 </td><td>Veh_PF</td><td>Day14</td><td>220407</td><td>22/6/2022</td><td>Batch 1</td></tr>\n",
       "\t<tr><th scope=row>SI-TT-A11_AAACCCATCCAAGCAT</th><td>SI-TT-A11</td><td> 6044</td><td>3023</td><td>21805</td><td>4803</td><td>SI-TT-A11</td><td> 2167</td><td>12</td><td>D706</td><td>3573</td><td>⋯</td><td>FALSE</td><td>FALSE</td><td>FALSE</td><td>AAACCCATCCAAGCAT</td><td>obob</td><td>FGF1  </td><td>Day5 </td><td>211213</td><td>22/6/2022</td><td>Batch 1</td></tr>\n",
       "</tbody>\n",
       "</table>\n"
      ],
      "text/latex": [
       "A data.frame: 6 × 29\n",
       "\\begin{tabular}{r|lllllllllllllllllllll}\n",
       "  & orig.ident & nCount\\_RNA & nFeature\\_RNA & nCount\\_RNA\\_SCOP & nFeature\\_RNA\\_SCOP & Index.10x\\_SCOP & nCount\\_HTO\\_SCOP & nFeature\\_HTO\\_SCOP & Index.HTO\\_SCOP & nCount\\_spliced\\_SCOP & ⋯ & doublet\\_SCOP & predicted\\_dub\\_std\\_SCOP & predicted\\_dub\\_cut\\_SCOP & barcode\\_SCOP & strain & treatment & time & collection\\_date & isolation\\_date & batch\\\\\n",
       "  & <fct> & <dbl> & <int> & <dbl> & <int> & <chr> & <dbl> & <int> & <chr> & <dbl> & ⋯ & <lgl> & <lgl> & <lgl> & <chr> & <chr> & <chr> & <chr> & <dbl> & <chr> & <chr>\\\\\n",
       "\\hline\n",
       "\tSI-TT-A11\\_AAACCCAAGGTGGTTG & SI-TT-A11 &  5427 & 2686 & 18589 & 4492 & SI-TT-A11 &  1233 & 12 & D706 & 2936 & ⋯ & FALSE & FALSE & FALSE & AAACCCAAGGTGGTTG & obob & Veh\\_PF & Day14 & 220201 & 22/6/2022 & Batch 1\\\\\n",
       "\tSI-TT-A11\\_AAACCCACATACAGCT & SI-TT-A11 &  6794 & 3191 & 22352 & 4816 & SI-TT-A11 &  1000 & 12 & D706 & 2976 & ⋯ & FALSE & FALSE & FALSE & AAACCCACATACAGCT & obob & Veh\\_PF & Day5  & 220329 & 22/6/2022 & Batch 1\\\\\n",
       "\tSI-TT-A11\\_AAACCCACATGAGGGT & SI-TT-A11 & 13576 & 5516 & 44099 & 7365 & SI-TT-A11 & 12215 & 12 & D706 & 7888 & ⋯ & FALSE & FALSE &  TRUE & AAACCCACATGAGGGT & obob & Veh\\_PF & Day14 & 220407 & 22/6/2022 & Batch 1\\\\\n",
       "\tSI-TT-A11\\_AAACCCAGTACGTTCA & SI-TT-A11 &  3849 & 2247 & 17749 & 4347 & SI-TT-A11 &  1699 & 12 & D706 & 2474 & ⋯ & FALSE & FALSE & FALSE & AAACCCAGTACGTTCA & BL6  & Veh\\_PF & Day14 & 220407 & 22/6/2022 & Batch 1\\\\\n",
       "\tSI-TT-A11\\_AAACCCAGTATCGGTT & SI-TT-A11 &  1530 & 1173 &  4761 & 2296 & SI-TT-A11 &  1150 & 12 & D706 &  944 & ⋯ & FALSE & FALSE & FALSE & AAACCCAGTATCGGTT & BL6  & Veh\\_PF & Day14 & 220407 & 22/6/2022 & Batch 1\\\\\n",
       "\tSI-TT-A11\\_AAACCCATCCAAGCAT & SI-TT-A11 &  6044 & 3023 & 21805 & 4803 & SI-TT-A11 &  2167 & 12 & D706 & 3573 & ⋯ & FALSE & FALSE & FALSE & AAACCCATCCAAGCAT & obob & FGF1   & Day5  & 211213 & 22/6/2022 & Batch 1\\\\\n",
       "\\end{tabular}\n"
      ],
      "text/markdown": [
       "\n",
       "A data.frame: 6 × 29\n",
       "\n",
       "| <!--/--> | orig.ident &lt;fct&gt; | nCount_RNA &lt;dbl&gt; | nFeature_RNA &lt;int&gt; | nCount_RNA_SCOP &lt;dbl&gt; | nFeature_RNA_SCOP &lt;int&gt; | Index.10x_SCOP &lt;chr&gt; | nCount_HTO_SCOP &lt;dbl&gt; | nFeature_HTO_SCOP &lt;int&gt; | Index.HTO_SCOP &lt;chr&gt; | nCount_spliced_SCOP &lt;dbl&gt; | ⋯ ⋯ | doublet_SCOP &lt;lgl&gt; | predicted_dub_std_SCOP &lt;lgl&gt; | predicted_dub_cut_SCOP &lt;lgl&gt; | barcode_SCOP &lt;chr&gt; | strain &lt;chr&gt; | treatment &lt;chr&gt; | time &lt;chr&gt; | collection_date &lt;dbl&gt; | isolation_date &lt;chr&gt; | batch &lt;chr&gt; |\n",
       "|---|---|---|---|---|---|---|---|---|---|---|---|---|---|---|---|---|---|---|---|---|---|\n",
       "| SI-TT-A11_AAACCCAAGGTGGTTG | SI-TT-A11 |  5427 | 2686 | 18589 | 4492 | SI-TT-A11 |  1233 | 12 | D706 | 2936 | ⋯ | FALSE | FALSE | FALSE | AAACCCAAGGTGGTTG | obob | Veh_PF | Day14 | 220201 | 22/6/2022 | Batch 1 |\n",
       "| SI-TT-A11_AAACCCACATACAGCT | SI-TT-A11 |  6794 | 3191 | 22352 | 4816 | SI-TT-A11 |  1000 | 12 | D706 | 2976 | ⋯ | FALSE | FALSE | FALSE | AAACCCACATACAGCT | obob | Veh_PF | Day5  | 220329 | 22/6/2022 | Batch 1 |\n",
       "| SI-TT-A11_AAACCCACATGAGGGT | SI-TT-A11 | 13576 | 5516 | 44099 | 7365 | SI-TT-A11 | 12215 | 12 | D706 | 7888 | ⋯ | FALSE | FALSE |  TRUE | AAACCCACATGAGGGT | obob | Veh_PF | Day14 | 220407 | 22/6/2022 | Batch 1 |\n",
       "| SI-TT-A11_AAACCCAGTACGTTCA | SI-TT-A11 |  3849 | 2247 | 17749 | 4347 | SI-TT-A11 |  1699 | 12 | D706 | 2474 | ⋯ | FALSE | FALSE | FALSE | AAACCCAGTACGTTCA | BL6  | Veh_PF | Day14 | 220407 | 22/6/2022 | Batch 1 |\n",
       "| SI-TT-A11_AAACCCAGTATCGGTT | SI-TT-A11 |  1530 | 1173 |  4761 | 2296 | SI-TT-A11 |  1150 | 12 | D706 |  944 | ⋯ | FALSE | FALSE | FALSE | AAACCCAGTATCGGTT | BL6  | Veh_PF | Day14 | 220407 | 22/6/2022 | Batch 1 |\n",
       "| SI-TT-A11_AAACCCATCCAAGCAT | SI-TT-A11 |  6044 | 3023 | 21805 | 4803 | SI-TT-A11 |  2167 | 12 | D706 | 3573 | ⋯ | FALSE | FALSE | FALSE | AAACCCATCCAAGCAT | obob | FGF1   | Day5  | 211213 | 22/6/2022 | Batch 1 |\n",
       "\n"
      ],
      "text/plain": [
       "                           orig.ident nCount_RNA nFeature_RNA nCount_RNA_SCOP\n",
       "SI-TT-A11_AAACCCAAGGTGGTTG SI-TT-A11   5427      2686         18589          \n",
       "SI-TT-A11_AAACCCACATACAGCT SI-TT-A11   6794      3191         22352          \n",
       "SI-TT-A11_AAACCCACATGAGGGT SI-TT-A11  13576      5516         44099          \n",
       "SI-TT-A11_AAACCCAGTACGTTCA SI-TT-A11   3849      2247         17749          \n",
       "SI-TT-A11_AAACCCAGTATCGGTT SI-TT-A11   1530      1173          4761          \n",
       "SI-TT-A11_AAACCCATCCAAGCAT SI-TT-A11   6044      3023         21805          \n",
       "                           nFeature_RNA_SCOP Index.10x_SCOP nCount_HTO_SCOP\n",
       "SI-TT-A11_AAACCCAAGGTGGTTG 4492              SI-TT-A11       1233          \n",
       "SI-TT-A11_AAACCCACATACAGCT 4816              SI-TT-A11       1000          \n",
       "SI-TT-A11_AAACCCACATGAGGGT 7365              SI-TT-A11      12215          \n",
       "SI-TT-A11_AAACCCAGTACGTTCA 4347              SI-TT-A11       1699          \n",
       "SI-TT-A11_AAACCCAGTATCGGTT 2296              SI-TT-A11       1150          \n",
       "SI-TT-A11_AAACCCATCCAAGCAT 4803              SI-TT-A11       2167          \n",
       "                           nFeature_HTO_SCOP Index.HTO_SCOP nCount_spliced_SCOP\n",
       "SI-TT-A11_AAACCCAAGGTGGTTG 12                D706           2936               \n",
       "SI-TT-A11_AAACCCACATACAGCT 12                D706           2976               \n",
       "SI-TT-A11_AAACCCACATGAGGGT 12                D706           7888               \n",
       "SI-TT-A11_AAACCCAGTACGTTCA 12                D706           2474               \n",
       "SI-TT-A11_AAACCCAGTATCGGTT 12                D706            944               \n",
       "SI-TT-A11_AAACCCATCCAAGCAT 12                D706           3573               \n",
       "                           ⋯ doublet_SCOP predicted_dub_std_SCOP\n",
       "SI-TT-A11_AAACCCAAGGTGGTTG ⋯ FALSE        FALSE                 \n",
       "SI-TT-A11_AAACCCACATACAGCT ⋯ FALSE        FALSE                 \n",
       "SI-TT-A11_AAACCCACATGAGGGT ⋯ FALSE        FALSE                 \n",
       "SI-TT-A11_AAACCCAGTACGTTCA ⋯ FALSE        FALSE                 \n",
       "SI-TT-A11_AAACCCAGTATCGGTT ⋯ FALSE        FALSE                 \n",
       "SI-TT-A11_AAACCCATCCAAGCAT ⋯ FALSE        FALSE                 \n",
       "                           predicted_dub_cut_SCOP barcode_SCOP     strain\n",
       "SI-TT-A11_AAACCCAAGGTGGTTG FALSE                  AAACCCAAGGTGGTTG obob  \n",
       "SI-TT-A11_AAACCCACATACAGCT FALSE                  AAACCCACATACAGCT obob  \n",
       "SI-TT-A11_AAACCCACATGAGGGT  TRUE                  AAACCCACATGAGGGT obob  \n",
       "SI-TT-A11_AAACCCAGTACGTTCA FALSE                  AAACCCAGTACGTTCA BL6   \n",
       "SI-TT-A11_AAACCCAGTATCGGTT FALSE                  AAACCCAGTATCGGTT BL6   \n",
       "SI-TT-A11_AAACCCATCCAAGCAT FALSE                  AAACCCATCCAAGCAT obob  \n",
       "                           treatment time  collection_date isolation_date\n",
       "SI-TT-A11_AAACCCAAGGTGGTTG Veh_PF    Day14 220201          22/6/2022     \n",
       "SI-TT-A11_AAACCCACATACAGCT Veh_PF    Day5  220329          22/6/2022     \n",
       "SI-TT-A11_AAACCCACATGAGGGT Veh_PF    Day14 220407          22/6/2022     \n",
       "SI-TT-A11_AAACCCAGTACGTTCA Veh_PF    Day14 220407          22/6/2022     \n",
       "SI-TT-A11_AAACCCAGTATCGGTT Veh_PF    Day14 220407          22/6/2022     \n",
       "SI-TT-A11_AAACCCATCCAAGCAT FGF1      Day5  211213          22/6/2022     \n",
       "                           batch  \n",
       "SI-TT-A11_AAACCCAAGGTGGTTG Batch 1\n",
       "SI-TT-A11_AAACCCACATACAGCT Batch 1\n",
       "SI-TT-A11_AAACCCACATGAGGGT Batch 1\n",
       "SI-TT-A11_AAACCCAGTACGTTCA Batch 1\n",
       "SI-TT-A11_AAACCCAGTATCGGTT Batch 1\n",
       "SI-TT-A11_AAACCCATCCAAGCAT Batch 1"
      ]
     },
     "metadata": {},
     "output_type": "display_data"
    }
   ],
   "source": [
    "meta = obj %>% `[[` %>% rownames_to_column %>% left_join(more_meta, by = 'hash.mcl.ID_SCOP') %>% column_to_rownames\n",
    "\n",
    "meta %>% head"
   ]
  },
  {
   "cell_type": "code",
   "execution_count": 54,
   "id": "89cee3c0",
   "metadata": {},
   "outputs": [
    {
     "data": {
      "text/plain": [
       "An object of class Seurat \n",
       "27757 features across 126957 samples within 1 assay \n",
       "Active assay: RNA (27757 features, 0 variable features)\n",
       " 1 layer present: counts"
      ]
     },
     "metadata": {},
     "output_type": "display_data"
    }
   ],
   "source": [
    "obj = obj %>% AddMetaData(meta)\n",
    "obj"
   ]
  },
  {
   "cell_type": "code",
   "execution_count": 56,
   "id": "59c557f9",
   "metadata": {},
   "outputs": [
    {
     "data": {
      "text/html": [
       "<table class=\"dataframe\">\n",
       "<caption>A data.frame: 6 × 29</caption>\n",
       "<thead>\n",
       "\t<tr><th></th><th scope=col>orig.ident</th><th scope=col>nCount_RNA</th><th scope=col>nFeature_RNA</th><th scope=col>nCount_RNA_SCOP</th><th scope=col>nFeature_RNA_SCOP</th><th scope=col>Index.10x_SCOP</th><th scope=col>nCount_HTO_SCOP</th><th scope=col>nFeature_HTO_SCOP</th><th scope=col>Index.HTO_SCOP</th><th scope=col>nCount_spliced_SCOP</th><th scope=col>⋯</th><th scope=col>doublet_SCOP</th><th scope=col>predicted_dub_std_SCOP</th><th scope=col>predicted_dub_cut_SCOP</th><th scope=col>barcode_SCOP</th><th scope=col>strain</th><th scope=col>treatment</th><th scope=col>time</th><th scope=col>collection_date</th><th scope=col>isolation_date</th><th scope=col>batch</th></tr>\n",
       "\t<tr><th></th><th scope=col>&lt;fct&gt;</th><th scope=col>&lt;dbl&gt;</th><th scope=col>&lt;int&gt;</th><th scope=col>&lt;dbl&gt;</th><th scope=col>&lt;int&gt;</th><th scope=col>&lt;chr&gt;</th><th scope=col>&lt;dbl&gt;</th><th scope=col>&lt;int&gt;</th><th scope=col>&lt;chr&gt;</th><th scope=col>&lt;dbl&gt;</th><th scope=col>⋯</th><th scope=col>&lt;lgl&gt;</th><th scope=col>&lt;lgl&gt;</th><th scope=col>&lt;lgl&gt;</th><th scope=col>&lt;chr&gt;</th><th scope=col>&lt;chr&gt;</th><th scope=col>&lt;chr&gt;</th><th scope=col>&lt;chr&gt;</th><th scope=col>&lt;dbl&gt;</th><th scope=col>&lt;chr&gt;</th><th scope=col>&lt;chr&gt;</th></tr>\n",
       "</thead>\n",
       "<tbody>\n",
       "\t<tr><th scope=row>SI-TT-A11_AAACCCAAGGTGGTTG</th><td>SI-TT-A11</td><td> 5427</td><td>2686</td><td>18589</td><td>4492</td><td>SI-TT-A11</td><td> 1233</td><td>12</td><td>D706</td><td>2936</td><td>⋯</td><td>FALSE</td><td>FALSE</td><td>FALSE</td><td>AAACCCAAGGTGGTTG</td><td>obob</td><td>Veh_PF</td><td>Day14</td><td>220201</td><td>22/6/2022</td><td>Batch 1</td></tr>\n",
       "\t<tr><th scope=row>SI-TT-A11_AAACCCACATACAGCT</th><td>SI-TT-A11</td><td> 6794</td><td>3191</td><td>22352</td><td>4816</td><td>SI-TT-A11</td><td> 1000</td><td>12</td><td>D706</td><td>2976</td><td>⋯</td><td>FALSE</td><td>FALSE</td><td>FALSE</td><td>AAACCCACATACAGCT</td><td>obob</td><td>Veh_PF</td><td>Day5 </td><td>220329</td><td>22/6/2022</td><td>Batch 1</td></tr>\n",
       "\t<tr><th scope=row>SI-TT-A11_AAACCCACATGAGGGT</th><td>SI-TT-A11</td><td>13576</td><td>5516</td><td>44099</td><td>7365</td><td>SI-TT-A11</td><td>12215</td><td>12</td><td>D706</td><td>7888</td><td>⋯</td><td>FALSE</td><td>FALSE</td><td> TRUE</td><td>AAACCCACATGAGGGT</td><td>obob</td><td>Veh_PF</td><td>Day14</td><td>220407</td><td>22/6/2022</td><td>Batch 1</td></tr>\n",
       "\t<tr><th scope=row>SI-TT-A11_AAACCCAGTACGTTCA</th><td>SI-TT-A11</td><td> 3849</td><td>2247</td><td>17749</td><td>4347</td><td>SI-TT-A11</td><td> 1699</td><td>12</td><td>D706</td><td>2474</td><td>⋯</td><td>FALSE</td><td>FALSE</td><td>FALSE</td><td>AAACCCAGTACGTTCA</td><td>BL6 </td><td>Veh_PF</td><td>Day14</td><td>220407</td><td>22/6/2022</td><td>Batch 1</td></tr>\n",
       "\t<tr><th scope=row>SI-TT-A11_AAACCCAGTATCGGTT</th><td>SI-TT-A11</td><td> 1530</td><td>1173</td><td> 4761</td><td>2296</td><td>SI-TT-A11</td><td> 1150</td><td>12</td><td>D706</td><td> 944</td><td>⋯</td><td>FALSE</td><td>FALSE</td><td>FALSE</td><td>AAACCCAGTATCGGTT</td><td>BL6 </td><td>Veh_PF</td><td>Day14</td><td>220407</td><td>22/6/2022</td><td>Batch 1</td></tr>\n",
       "\t<tr><th scope=row>SI-TT-A11_AAACCCATCCAAGCAT</th><td>SI-TT-A11</td><td> 6044</td><td>3023</td><td>21805</td><td>4803</td><td>SI-TT-A11</td><td> 2167</td><td>12</td><td>D706</td><td>3573</td><td>⋯</td><td>FALSE</td><td>FALSE</td><td>FALSE</td><td>AAACCCATCCAAGCAT</td><td>obob</td><td>FGF1  </td><td>Day5 </td><td>211213</td><td>22/6/2022</td><td>Batch 1</td></tr>\n",
       "</tbody>\n",
       "</table>\n"
      ],
      "text/latex": [
       "A data.frame: 6 × 29\n",
       "\\begin{tabular}{r|lllllllllllllllllllll}\n",
       "  & orig.ident & nCount\\_RNA & nFeature\\_RNA & nCount\\_RNA\\_SCOP & nFeature\\_RNA\\_SCOP & Index.10x\\_SCOP & nCount\\_HTO\\_SCOP & nFeature\\_HTO\\_SCOP & Index.HTO\\_SCOP & nCount\\_spliced\\_SCOP & ⋯ & doublet\\_SCOP & predicted\\_dub\\_std\\_SCOP & predicted\\_dub\\_cut\\_SCOP & barcode\\_SCOP & strain & treatment & time & collection\\_date & isolation\\_date & batch\\\\\n",
       "  & <fct> & <dbl> & <int> & <dbl> & <int> & <chr> & <dbl> & <int> & <chr> & <dbl> & ⋯ & <lgl> & <lgl> & <lgl> & <chr> & <chr> & <chr> & <chr> & <dbl> & <chr> & <chr>\\\\\n",
       "\\hline\n",
       "\tSI-TT-A11\\_AAACCCAAGGTGGTTG & SI-TT-A11 &  5427 & 2686 & 18589 & 4492 & SI-TT-A11 &  1233 & 12 & D706 & 2936 & ⋯ & FALSE & FALSE & FALSE & AAACCCAAGGTGGTTG & obob & Veh\\_PF & Day14 & 220201 & 22/6/2022 & Batch 1\\\\\n",
       "\tSI-TT-A11\\_AAACCCACATACAGCT & SI-TT-A11 &  6794 & 3191 & 22352 & 4816 & SI-TT-A11 &  1000 & 12 & D706 & 2976 & ⋯ & FALSE & FALSE & FALSE & AAACCCACATACAGCT & obob & Veh\\_PF & Day5  & 220329 & 22/6/2022 & Batch 1\\\\\n",
       "\tSI-TT-A11\\_AAACCCACATGAGGGT & SI-TT-A11 & 13576 & 5516 & 44099 & 7365 & SI-TT-A11 & 12215 & 12 & D706 & 7888 & ⋯ & FALSE & FALSE &  TRUE & AAACCCACATGAGGGT & obob & Veh\\_PF & Day14 & 220407 & 22/6/2022 & Batch 1\\\\\n",
       "\tSI-TT-A11\\_AAACCCAGTACGTTCA & SI-TT-A11 &  3849 & 2247 & 17749 & 4347 & SI-TT-A11 &  1699 & 12 & D706 & 2474 & ⋯ & FALSE & FALSE & FALSE & AAACCCAGTACGTTCA & BL6  & Veh\\_PF & Day14 & 220407 & 22/6/2022 & Batch 1\\\\\n",
       "\tSI-TT-A11\\_AAACCCAGTATCGGTT & SI-TT-A11 &  1530 & 1173 &  4761 & 2296 & SI-TT-A11 &  1150 & 12 & D706 &  944 & ⋯ & FALSE & FALSE & FALSE & AAACCCAGTATCGGTT & BL6  & Veh\\_PF & Day14 & 220407 & 22/6/2022 & Batch 1\\\\\n",
       "\tSI-TT-A11\\_AAACCCATCCAAGCAT & SI-TT-A11 &  6044 & 3023 & 21805 & 4803 & SI-TT-A11 &  2167 & 12 & D706 & 3573 & ⋯ & FALSE & FALSE & FALSE & AAACCCATCCAAGCAT & obob & FGF1   & Day5  & 211213 & 22/6/2022 & Batch 1\\\\\n",
       "\\end{tabular}\n"
      ],
      "text/markdown": [
       "\n",
       "A data.frame: 6 × 29\n",
       "\n",
       "| <!--/--> | orig.ident &lt;fct&gt; | nCount_RNA &lt;dbl&gt; | nFeature_RNA &lt;int&gt; | nCount_RNA_SCOP &lt;dbl&gt; | nFeature_RNA_SCOP &lt;int&gt; | Index.10x_SCOP &lt;chr&gt; | nCount_HTO_SCOP &lt;dbl&gt; | nFeature_HTO_SCOP &lt;int&gt; | Index.HTO_SCOP &lt;chr&gt; | nCount_spliced_SCOP &lt;dbl&gt; | ⋯ ⋯ | doublet_SCOP &lt;lgl&gt; | predicted_dub_std_SCOP &lt;lgl&gt; | predicted_dub_cut_SCOP &lt;lgl&gt; | barcode_SCOP &lt;chr&gt; | strain &lt;chr&gt; | treatment &lt;chr&gt; | time &lt;chr&gt; | collection_date &lt;dbl&gt; | isolation_date &lt;chr&gt; | batch &lt;chr&gt; |\n",
       "|---|---|---|---|---|---|---|---|---|---|---|---|---|---|---|---|---|---|---|---|---|---|\n",
       "| SI-TT-A11_AAACCCAAGGTGGTTG | SI-TT-A11 |  5427 | 2686 | 18589 | 4492 | SI-TT-A11 |  1233 | 12 | D706 | 2936 | ⋯ | FALSE | FALSE | FALSE | AAACCCAAGGTGGTTG | obob | Veh_PF | Day14 | 220201 | 22/6/2022 | Batch 1 |\n",
       "| SI-TT-A11_AAACCCACATACAGCT | SI-TT-A11 |  6794 | 3191 | 22352 | 4816 | SI-TT-A11 |  1000 | 12 | D706 | 2976 | ⋯ | FALSE | FALSE | FALSE | AAACCCACATACAGCT | obob | Veh_PF | Day5  | 220329 | 22/6/2022 | Batch 1 |\n",
       "| SI-TT-A11_AAACCCACATGAGGGT | SI-TT-A11 | 13576 | 5516 | 44099 | 7365 | SI-TT-A11 | 12215 | 12 | D706 | 7888 | ⋯ | FALSE | FALSE |  TRUE | AAACCCACATGAGGGT | obob | Veh_PF | Day14 | 220407 | 22/6/2022 | Batch 1 |\n",
       "| SI-TT-A11_AAACCCAGTACGTTCA | SI-TT-A11 |  3849 | 2247 | 17749 | 4347 | SI-TT-A11 |  1699 | 12 | D706 | 2474 | ⋯ | FALSE | FALSE | FALSE | AAACCCAGTACGTTCA | BL6  | Veh_PF | Day14 | 220407 | 22/6/2022 | Batch 1 |\n",
       "| SI-TT-A11_AAACCCAGTATCGGTT | SI-TT-A11 |  1530 | 1173 |  4761 | 2296 | SI-TT-A11 |  1150 | 12 | D706 |  944 | ⋯ | FALSE | FALSE | FALSE | AAACCCAGTATCGGTT | BL6  | Veh_PF | Day14 | 220407 | 22/6/2022 | Batch 1 |\n",
       "| SI-TT-A11_AAACCCATCCAAGCAT | SI-TT-A11 |  6044 | 3023 | 21805 | 4803 | SI-TT-A11 |  2167 | 12 | D706 | 3573 | ⋯ | FALSE | FALSE | FALSE | AAACCCATCCAAGCAT | obob | FGF1   | Day5  | 211213 | 22/6/2022 | Batch 1 |\n",
       "\n"
      ],
      "text/plain": [
       "                           orig.ident nCount_RNA nFeature_RNA nCount_RNA_SCOP\n",
       "SI-TT-A11_AAACCCAAGGTGGTTG SI-TT-A11   5427      2686         18589          \n",
       "SI-TT-A11_AAACCCACATACAGCT SI-TT-A11   6794      3191         22352          \n",
       "SI-TT-A11_AAACCCACATGAGGGT SI-TT-A11  13576      5516         44099          \n",
       "SI-TT-A11_AAACCCAGTACGTTCA SI-TT-A11   3849      2247         17749          \n",
       "SI-TT-A11_AAACCCAGTATCGGTT SI-TT-A11   1530      1173          4761          \n",
       "SI-TT-A11_AAACCCATCCAAGCAT SI-TT-A11   6044      3023         21805          \n",
       "                           nFeature_RNA_SCOP Index.10x_SCOP nCount_HTO_SCOP\n",
       "SI-TT-A11_AAACCCAAGGTGGTTG 4492              SI-TT-A11       1233          \n",
       "SI-TT-A11_AAACCCACATACAGCT 4816              SI-TT-A11       1000          \n",
       "SI-TT-A11_AAACCCACATGAGGGT 7365              SI-TT-A11      12215          \n",
       "SI-TT-A11_AAACCCAGTACGTTCA 4347              SI-TT-A11       1699          \n",
       "SI-TT-A11_AAACCCAGTATCGGTT 2296              SI-TT-A11       1150          \n",
       "SI-TT-A11_AAACCCATCCAAGCAT 4803              SI-TT-A11       2167          \n",
       "                           nFeature_HTO_SCOP Index.HTO_SCOP nCount_spliced_SCOP\n",
       "SI-TT-A11_AAACCCAAGGTGGTTG 12                D706           2936               \n",
       "SI-TT-A11_AAACCCACATACAGCT 12                D706           2976               \n",
       "SI-TT-A11_AAACCCACATGAGGGT 12                D706           7888               \n",
       "SI-TT-A11_AAACCCAGTACGTTCA 12                D706           2474               \n",
       "SI-TT-A11_AAACCCAGTATCGGTT 12                D706            944               \n",
       "SI-TT-A11_AAACCCATCCAAGCAT 12                D706           3573               \n",
       "                           ⋯ doublet_SCOP predicted_dub_std_SCOP\n",
       "SI-TT-A11_AAACCCAAGGTGGTTG ⋯ FALSE        FALSE                 \n",
       "SI-TT-A11_AAACCCACATACAGCT ⋯ FALSE        FALSE                 \n",
       "SI-TT-A11_AAACCCACATGAGGGT ⋯ FALSE        FALSE                 \n",
       "SI-TT-A11_AAACCCAGTACGTTCA ⋯ FALSE        FALSE                 \n",
       "SI-TT-A11_AAACCCAGTATCGGTT ⋯ FALSE        FALSE                 \n",
       "SI-TT-A11_AAACCCATCCAAGCAT ⋯ FALSE        FALSE                 \n",
       "                           predicted_dub_cut_SCOP barcode_SCOP     strain\n",
       "SI-TT-A11_AAACCCAAGGTGGTTG FALSE                  AAACCCAAGGTGGTTG obob  \n",
       "SI-TT-A11_AAACCCACATACAGCT FALSE                  AAACCCACATACAGCT obob  \n",
       "SI-TT-A11_AAACCCACATGAGGGT  TRUE                  AAACCCACATGAGGGT obob  \n",
       "SI-TT-A11_AAACCCAGTACGTTCA FALSE                  AAACCCAGTACGTTCA BL6   \n",
       "SI-TT-A11_AAACCCAGTATCGGTT FALSE                  AAACCCAGTATCGGTT BL6   \n",
       "SI-TT-A11_AAACCCATCCAAGCAT FALSE                  AAACCCATCCAAGCAT obob  \n",
       "                           treatment time  collection_date isolation_date\n",
       "SI-TT-A11_AAACCCAAGGTGGTTG Veh_PF    Day14 220201          22/6/2022     \n",
       "SI-TT-A11_AAACCCACATACAGCT Veh_PF    Day5  220329          22/6/2022     \n",
       "SI-TT-A11_AAACCCACATGAGGGT Veh_PF    Day14 220407          22/6/2022     \n",
       "SI-TT-A11_AAACCCAGTACGTTCA Veh_PF    Day14 220407          22/6/2022     \n",
       "SI-TT-A11_AAACCCAGTATCGGTT Veh_PF    Day14 220407          22/6/2022     \n",
       "SI-TT-A11_AAACCCATCCAAGCAT FGF1      Day5  211213          22/6/2022     \n",
       "                           batch  \n",
       "SI-TT-A11_AAACCCAAGGTGGTTG Batch 1\n",
       "SI-TT-A11_AAACCCACATACAGCT Batch 1\n",
       "SI-TT-A11_AAACCCACATGAGGGT Batch 1\n",
       "SI-TT-A11_AAACCCAGTACGTTCA Batch 1\n",
       "SI-TT-A11_AAACCCAGTATCGGTT Batch 1\n",
       "SI-TT-A11_AAACCCATCCAAGCAT Batch 1"
      ]
     },
     "metadata": {},
     "output_type": "display_data"
    }
   ],
   "source": [
    "obj %>% `[[` %>% head"
   ]
  },
  {
   "cell_type": "code",
   "execution_count": 57,
   "id": "e9f9de05",
   "metadata": {},
   "outputs": [],
   "source": [
    "obj %>% qs::qsave('obj_cellbender.qs')"
   ]
  },
  {
   "cell_type": "code",
   "execution_count": null,
   "id": "b07bb747",
   "metadata": {},
   "outputs": [],
   "source": [
    "rown"
   ]
  }
 ],
 "metadata": {
  "kernelspec": {
   "display_name": "R [conda env:fgf1]",
   "language": "R",
   "name": "conda-env-fgf1-r"
  },
  "language_info": {
   "codemirror_mode": "r",
   "file_extension": ".r",
   "mimetype": "text/x-r-source",
   "name": "R",
   "pygments_lexer": "r",
   "version": "4.1.3"
  }
 },
 "nbformat": 4,
 "nbformat_minor": 5
}
