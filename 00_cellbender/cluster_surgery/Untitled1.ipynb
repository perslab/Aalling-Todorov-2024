{
 "cells": [
  {
   "cell_type": "code",
   "execution_count": null,
   "id": "3e328840",
   "metadata": {},
   "outputs": [],
   "source": [
    "library(Seurat)\n",
    "library(tidyverse)"
   ]
  },
  {
   "cell_type": "code",
   "execution_count": null,
   "id": "579b11b6",
   "metadata": {},
   "outputs": [],
   "source": [
    "source('../../00_preprocessing/preprocessing.R')\n",
    "source('../process_seurat.R')"
   ]
  },
  {
   "cell_type": "code",
   "execution_count": null,
   "id": "325a1c25",
   "metadata": {},
   "outputs": [],
   "source": [
    "obj = qs::qread('obj_Oligodendrocytes.qs')\n",
    "obj"
   ]
  },
  {
   "cell_type": "code",
   "execution_count": null,
   "id": "c720edd1",
   "metadata": {},
   "outputs": [],
   "source": [
    "process_seurat <- function(obj, method, ref_datasets = NULL, k.anchor=5,k.weight=100,\n",
    "                           res=NULL, features=NULL, dims=NULL, \n",
    "                           batch=NULL, return_model = F, cluster=T, \n",
    "                           type = \"seur\", nfeats = 3000, neighbor=F) {\n",
    "  \n",
    "  if(type == \"sce\") {\n",
    "    obj <- CreateSeuratObject(counts = counts(obj))\n",
    "  } else {\n",
    "    obj <- obj\n",
    "  }\n",
    "\n",
    "  \n",
    "  if(!is.null(features)) {\n",
    "    features <- rownames(obj)[!grepl(features, rownames(obj))]\n",
    "    obj <- subset(obj, features = features)\n",
    "  } \n",
    "  \n",
    "  if(method == \"integrate\") {\n",
    "    obj <- .integrate_seurat(obj, split = batch, nfeats = nfeats, ref_datasets=ref_datasets, k.anchor = k.anchor, k.weight = k.weight)\n",
    "    DefaultAssay(obj) <- \"integrated\"\n",
    "    obj <- ScaleData(obj) %>% RunPCA(.)\n",
    "  } else if (method == \"log\") {\n",
    "    \n",
    "    if (inherits(obj, \"list\")) {\n",
    "      obj <- obj[[1]]\n",
    "    }\n",
    "    \n",
    "    DefaultAssay(obj) <- \"RNA\"\n",
    "    obj <-\n",
    "      NormalizeData(obj) %>%\n",
    "      FindVariableFeatures(., selection.method = \"vst\", nfeatures = nfeats) %>%\n",
    "      ScaleData(., vars.to.regress=batch) %>%\n",
    "      RunPCA(.)\n",
    "  } else if (method == \"glm\") {\n",
    "    obj <-\n",
    "      SCTransform(obj, method = \"glmGamPoi\", batch_var=batch, variable.features.n = nfeats) %>%\n",
    "      RunPCA(.)\n",
    "  } else if (method == \"qpoisson\") {\n",
    "    obj <-\n",
    "      SCTransform(obj, method = \"qpoisson\", variable.features.n = nfeats, vars.to.regress = batch) %>%\n",
    "      RunPCA(.)\n",
    "  }\n",
    "  \n",
    "  if(cluster==T & method == \"integrate\"){\n",
    "    obj <-\n",
    "      obj %>%\n",
    "      RunUMAP(., dims = seq(dims), return.model=return_model) %>%\n",
    "      FindNeighbors(., dims = seq(dims), return.neighbor=neighbor) %>%\n",
    "      FindClusters(., resolution = res)\n",
    "  } else if(cluster==T & method != \"integrate\") {\n",
    "    obj <-\n",
    "      obj %>%\n",
    "      RunUMAP(., dims = seq(dims), return.model=return_model) %>%\n",
    "      FindNeighbors(., dims = seq(dims), return.neighbor=neighbor) %>%\n",
    "      FindClusters(., resolution = res)\n",
    "  }\n",
    "  \n",
    "  return(obj)\n",
    "}\n",
    "\n",
    ".integrate_seurat <- function(obj, split, nfeats, ref_datasets, k.anchor, k.weight) {\n",
    "  \n",
    "  if(is.list(obj)) {\n",
    "    list <- obj\n",
    "  } else {\n",
    "    DefaultAssay(obj) <- \"RNA\"\n",
    "    list <- SplitObject(obj, split.by = split)\n",
    "  }\n",
    "  \n",
    "  list <- lapply(X = list, FUN = function(x) {\n",
    "    if(sum(\"SCT\" %in% names(x@assays))>0) {\n",
    "      x[[\"SCT\"]] <- NULL\n",
    "    }\n",
    "    x <- NormalizeData(x)\n",
    "    x <- FindVariableFeatures(x, selection.method = \"vst\", nfeatures = nfeats)\n",
    "  })\n",
    "  \n",
    "  features <- SelectIntegrationFeatures(object.list = list)\n",
    "  \n",
    "  list <- lapply(X = list, FUN = function(x) {\n",
    "    x <- ScaleData(x, features = features, verbose = FALSE)\n",
    "    x <- RunPCA(x, features = features, verbose = FALSE)\n",
    "  })\n",
    "  \n",
    "  anchors <- FindIntegrationAnchors(object.list = list, reference = ref_datasets, k.anchor = k.anchor, anchor.features = features, reduction = \"rpca\")\n",
    "  \n",
    "  integrated <- IntegrateData(anchorset = anchors, k.weight=k.weight)\n",
    "  \n",
    "  DefaultAssay(integrated) <- \"integrated\"\n",
    "#   integrated[[\"RNA\"]] = JoinLayers(JoinLayers(integrated@assays$RNA))\n",
    "  return(integrated)\n",
    "  \n",
    "}"
   ]
  },
  {
   "cell_type": "code",
   "execution_count": null,
   "id": "8975374d",
   "metadata": {},
   "outputs": [],
   "source": []
  },
  {
   "cell_type": "code",
   "execution_count": null,
   "id": "36d7e6d3",
   "metadata": {},
   "outputs": [],
   "source": []
  },
  {
   "cell_type": "code",
   "execution_count": null,
   "id": "083fbc41",
   "metadata": {},
   "outputs": [],
   "source": []
  },
  {
   "cell_type": "code",
   "execution_count": null,
   "id": "ead1794e",
   "metadata": {
    "scrolled": true
   },
   "outputs": [],
   "source": [
    "obj_s = obj %>% subset(subset = labels_lvl1 %in% c(\"Oligodendrocytes\", 'OPC'))\n",
    "obj_s$old_seurat_clusters = obj_s$seurat_clusters\n",
    "obj_s = obj_s %>%\n",
    "    process_seurat(method = \"integrate\", nfeats = 10000,\n",
    "                            batch =\"Index.10x_SCOP\", \n",
    "                            dims = 30, res = 0.8, k.weight=40)"
   ]
  },
  {
   "cell_type": "code",
   "execution_count": null,
   "id": "c68f6fb1",
   "metadata": {},
   "outputs": [],
   "source": []
  },
  {
   "cell_type": "code",
   "execution_count": null,
   "id": "64733022",
   "metadata": {},
   "outputs": [],
   "source": [
    "options(repr.plot.width=6, repr.plot.height=6)\n",
    "DimPlot(obj_s, reduction = \"umap\", group.by='isolation_date', label=F, repel = T)"
   ]
  },
  {
   "cell_type": "code",
   "execution_count": null,
   "id": "701b1155",
   "metadata": {},
   "outputs": [],
   "source": []
  }
 ],
 "metadata": {
  "kernelspec": {
   "display_name": "R [conda env:r01gp]",
   "language": "R",
   "name": "conda-env-r01gp-r"
  },
  "language_info": {
   "codemirror_mode": "r",
   "file_extension": ".r",
   "mimetype": "text/x-r-source",
   "name": "R",
   "pygments_lexer": "r",
   "version": "4.1.3"
  }
 },
 "nbformat": 4,
 "nbformat_minor": 5
}
