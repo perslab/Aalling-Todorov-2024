{
 "cells": [
  {
   "cell_type": "code",
   "execution_count": 21,
   "id": "a7e578a3",
   "metadata": {},
   "outputs": [],
   "source": [
    "library(tidyverse)"
   ]
  },
  {
   "cell_type": "code",
   "execution_count": 40,
   "id": "9ad48a54",
   "metadata": {},
   "outputs": [
    {
     "data": {
      "text/html": [
       "<table class=\"dataframe\">\n",
       "<caption>A tibble: 6 × 6</caption>\n",
       "<thead>\n",
       "\t<tr><th scope=col>label</th><th scope=col>day</th><th scope=col>cluster</th><th scope=col>object</th><th scope=col>suffix</th><th scope=col>seurat_obj</th></tr>\n",
       "\t<tr><th scope=col>&lt;chr&gt;</th><th scope=col>&lt;chr&gt;</th><th scope=col>&lt;chr&gt;</th><th scope=col>&lt;list&gt;</th><th scope=col>&lt;chr&gt;</th><th scope=col>&lt;list&gt;</th></tr>\n",
       "</thead>\n",
       "<tbody>\n",
       "\t<tr><td>a1_Tany__Astrocytes_sct              </td><td>all</td><td>a1_Tany__Astrocytes</td><td>bmp1_fgf1_mapped</td><td>_sct              </td><td>obj_a1_Tany__Astrocytes_sct</td></tr>\n",
       "\t<tr><td>a1_Tany__Astrocytes_sct_batchvar_all </td><td>all</td><td>a1_Tany__Astrocytes</td><td>bmp1_fgf1_mapped</td><td>_sct_batchvar_all </td><td>obj_a1_Tany__Astrocytes_sct_batchvar_all</td></tr>\n",
       "\t<tr><td>a1_Tany__Astrocytes_sct_batchvar_forb</td><td>all</td><td>a1_Tany__Astrocytes</td><td>bmp1_fgf1_mapped</td><td>_sct_batchvar_forb</td><td>obj_a1_Tany__Astrocytes_sct_batchvar_forb</td></tr>\n",
       "\t<tr><td>a1_Tany__Astrocytes_sct_forb         </td><td>all</td><td>a1_Tany__Astrocytes</td><td>bmp1_fgf1_mapped</td><td>_sct_forb         </td><td>obj_a1_Tany__Astrocytes_sct_forb</td></tr>\n",
       "\t<tr><td>a1_Tany__Astrocytes_unimod           </td><td>all</td><td>a1_Tany__Astrocytes</td><td>bmp1_fgf1_mapped</td><td>_unimod           </td><td>obj_a1_Tany__Astrocytes_unimod</td></tr>\n",
       "\t<tr><td>a1_Tany__Astrocytes_bmp_only         </td><td>all</td><td>a1_Tany__Astrocytes</td><td>bmp1_only_mapped</td><td>_bmp_only         </td><td>obj_a1_Tany__Astrocytes_bmp_only</td></tr>\n",
       "</tbody>\n",
       "</table>\n"
      ],
      "text/latex": [
       "A tibble: 6 × 6\n",
       "\\begin{tabular}{llllll}\n",
       " label & day & cluster & object & suffix & seurat\\_obj\\\\\n",
       " <chr> & <chr> & <chr> & <list> & <chr> & <list>\\\\\n",
       "\\hline\n",
       "\t a1\\_Tany\\_\\_Astrocytes\\_sct               & all & a1\\_Tany\\_\\_Astrocytes & bmp1\\_fgf1\\_mapped & \\_sct               & obj\\_a1\\_Tany\\_\\_Astrocytes\\_sct\\\\\n",
       "\t a1\\_Tany\\_\\_Astrocytes\\_sct\\_batchvar\\_all  & all & a1\\_Tany\\_\\_Astrocytes & bmp1\\_fgf1\\_mapped & \\_sct\\_batchvar\\_all  & obj\\_a1\\_Tany\\_\\_Astrocytes\\_sct\\_batchvar\\_all\\\\\n",
       "\t a1\\_Tany\\_\\_Astrocytes\\_sct\\_batchvar\\_forb & all & a1\\_Tany\\_\\_Astrocytes & bmp1\\_fgf1\\_mapped & \\_sct\\_batchvar\\_forb & obj\\_a1\\_Tany\\_\\_Astrocytes\\_sct\\_batchvar\\_forb\\\\\n",
       "\t a1\\_Tany\\_\\_Astrocytes\\_sct\\_forb          & all & a1\\_Tany\\_\\_Astrocytes & bmp1\\_fgf1\\_mapped & \\_sct\\_forb          & obj\\_a1\\_Tany\\_\\_Astrocytes\\_sct\\_forb\\\\\n",
       "\t a1\\_Tany\\_\\_Astrocytes\\_unimod            & all & a1\\_Tany\\_\\_Astrocytes & bmp1\\_fgf1\\_mapped & \\_unimod            & obj\\_a1\\_Tany\\_\\_Astrocytes\\_unimod\\\\\n",
       "\t a1\\_Tany\\_\\_Astrocytes\\_bmp\\_only          & all & a1\\_Tany\\_\\_Astrocytes & bmp1\\_only\\_mapped & \\_bmp\\_only          & obj\\_a1\\_Tany\\_\\_Astrocytes\\_bmp\\_only\\\\\n",
       "\\end{tabular}\n"
      ],
      "text/markdown": [
       "\n",
       "A tibble: 6 × 6\n",
       "\n",
       "| label &lt;chr&gt; | day &lt;chr&gt; | cluster &lt;chr&gt; | object &lt;list&gt; | suffix &lt;chr&gt; | seurat_obj &lt;list&gt; |\n",
       "|---|---|---|---|---|---|\n",
       "| a1_Tany__Astrocytes_sct               | all | a1_Tany__Astrocytes | bmp1_fgf1_mapped | _sct               | obj_a1_Tany__Astrocytes_sct |\n",
       "| a1_Tany__Astrocytes_sct_batchvar_all  | all | a1_Tany__Astrocytes | bmp1_fgf1_mapped | _sct_batchvar_all  | obj_a1_Tany__Astrocytes_sct_batchvar_all |\n",
       "| a1_Tany__Astrocytes_sct_batchvar_forb | all | a1_Tany__Astrocytes | bmp1_fgf1_mapped | _sct_batchvar_forb | obj_a1_Tany__Astrocytes_sct_batchvar_forb |\n",
       "| a1_Tany__Astrocytes_sct_forb          | all | a1_Tany__Astrocytes | bmp1_fgf1_mapped | _sct_forb          | obj_a1_Tany__Astrocytes_sct_forb |\n",
       "| a1_Tany__Astrocytes_unimod            | all | a1_Tany__Astrocytes | bmp1_fgf1_mapped | _unimod            | obj_a1_Tany__Astrocytes_unimod |\n",
       "| a1_Tany__Astrocytes_bmp_only          | all | a1_Tany__Astrocytes | bmp1_only_mapped | _bmp_only          | obj_a1_Tany__Astrocytes_bmp_only |\n",
       "\n"
      ],
      "text/plain": [
       "  label                                 day cluster            \n",
       "1 a1_Tany__Astrocytes_sct               all a1_Tany__Astrocytes\n",
       "2 a1_Tany__Astrocytes_sct_batchvar_all  all a1_Tany__Astrocytes\n",
       "3 a1_Tany__Astrocytes_sct_batchvar_forb all a1_Tany__Astrocytes\n",
       "4 a1_Tany__Astrocytes_sct_forb          all a1_Tany__Astrocytes\n",
       "5 a1_Tany__Astrocytes_unimod            all a1_Tany__Astrocytes\n",
       "6 a1_Tany__Astrocytes_bmp_only          all a1_Tany__Astrocytes\n",
       "  object           suffix             seurat_obj                               \n",
       "1 bmp1_fgf1_mapped _sct               obj_a1_Tany__Astrocytes_sct              \n",
       "2 bmp1_fgf1_mapped _sct_batchvar_all  obj_a1_Tany__Astrocytes_sct_batchvar_all \n",
       "3 bmp1_fgf1_mapped _sct_batchvar_forb obj_a1_Tany__Astrocytes_sct_batchvar_forb\n",
       "4 bmp1_fgf1_mapped _sct_forb          obj_a1_Tany__Astrocytes_sct_forb         \n",
       "5 bmp1_fgf1_mapped _unimod            obj_a1_Tany__Astrocytes_unimod           \n",
       "6 bmp1_only_mapped _bmp_only          obj_a1_Tany__Astrocytes_bmp_only         "
      ]
     },
     "metadata": {},
     "output_type": "display_data"
    }
   ],
   "source": [
    "clusters_tibble = qs::qread('../bmp1_milo/clusters_tibble_bmp1.qs')\n",
    "clusters_tibble %>% head"
   ]
  },
  {
   "cell_type": "code",
   "execution_count": 41,
   "id": "5eb4bce0",
   "metadata": {},
   "outputs": [
    {
     "data": {
      "text/html": [
       "<table class=\"dataframe\">\n",
       "<caption>A tibble: 6 × 9</caption>\n",
       "<thead>\n",
       "\t<tr><th scope=col>label</th><th scope=col>day</th><th scope=col>cluster</th><th scope=col>object</th><th scope=col>suffix</th><th scope=col>seurat_obj</th><th scope=col>milo_obj_path</th><th scope=col>formula_str</th><th scope=col>data_subset</th></tr>\n",
       "\t<tr><th scope=col>&lt;chr&gt;</th><th scope=col>&lt;chr&gt;</th><th scope=col>&lt;chr&gt;</th><th scope=col>&lt;list&gt;</th><th scope=col>&lt;chr&gt;</th><th scope=col>&lt;list&gt;</th><th scope=col>&lt;chr&gt;</th><th scope=col>&lt;chr&gt;</th><th scope=col>&lt;chr&gt;</th></tr>\n",
       "</thead>\n",
       "<tbody>\n",
       "\t<tr><td>a1_Tany__Astrocytes_sct              </td><td>all</td><td>a1_Tany__Astrocytes</td><td>bmp1_fgf1_mapped</td><td>_sct              </td><td>obj_a1_Tany__Astrocytes_sct</td><td>/bmp1_milo/_targets/objects/obj_a1_Tany__Astrocytes_sct              </td><td>~0 + group</td><td>both    </td></tr>\n",
       "\t<tr><td>a1_Tany__Astrocytes_sct_batchvar_all </td><td>all</td><td>a1_Tany__Astrocytes</td><td>bmp1_fgf1_mapped</td><td>_sct_batchvar_all </td><td>obj_a1_Tany__Astrocytes_sct_batchvar_all</td><td>/bmp1_milo/_targets/objects/obj_a1_Tany__Astrocytes_sct_batchvar_all </td><td>~0 + group</td><td>both    </td></tr>\n",
       "\t<tr><td>a1_Tany__Astrocytes_sct_batchvar_forb</td><td>all</td><td>a1_Tany__Astrocytes</td><td>bmp1_fgf1_mapped</td><td>_sct_batchvar_forb</td><td>obj_a1_Tany__Astrocytes_sct_batchvar_forb</td><td>/bmp1_milo/_targets/objects/obj_a1_Tany__Astrocytes_sct_batchvar_forb</td><td>~0 + group</td><td>both    </td></tr>\n",
       "\t<tr><td>a1_Tany__Astrocytes_sct_forb         </td><td>all</td><td>a1_Tany__Astrocytes</td><td>bmp1_fgf1_mapped</td><td>_sct_forb         </td><td>obj_a1_Tany__Astrocytes_sct_forb</td><td>/bmp1_milo/_targets/objects/obj_a1_Tany__Astrocytes_sct_forb         </td><td>~0 + group</td><td>both    </td></tr>\n",
       "\t<tr><td>a1_Tany__Astrocytes_unimod           </td><td>all</td><td>a1_Tany__Astrocytes</td><td>bmp1_fgf1_mapped</td><td>_unimod           </td><td>obj_a1_Tany__Astrocytes_unimod</td><td>/bmp1_milo/_targets/objects/obj_a1_Tany__Astrocytes_unimod           </td><td>~0 + group</td><td>both    </td></tr>\n",
       "\t<tr><td>a1_Tany__Astrocytes_bmp_only         </td><td>all</td><td>a1_Tany__Astrocytes</td><td>bmp1_only_mapped</td><td>_bmp_only         </td><td>obj_a1_Tany__Astrocytes_bmp_only</td><td>/bmp1_milo/_targets/objects/obj_a1_Tany__Astrocytes_bmp_only         </td><td>~0 + group</td><td>bmp_only</td></tr>\n",
       "</tbody>\n",
       "</table>\n"
      ],
      "text/latex": [
       "A tibble: 6 × 9\n",
       "\\begin{tabular}{lllllllll}\n",
       " label & day & cluster & object & suffix & seurat\\_obj & milo\\_obj\\_path & formula\\_str & data\\_subset\\\\\n",
       " <chr> & <chr> & <chr> & <list> & <chr> & <list> & <chr> & <chr> & <chr>\\\\\n",
       "\\hline\n",
       "\t a1\\_Tany\\_\\_Astrocytes\\_sct               & all & a1\\_Tany\\_\\_Astrocytes & bmp1\\_fgf1\\_mapped & \\_sct               & obj\\_a1\\_Tany\\_\\_Astrocytes\\_sct & /bmp1\\_milo/\\_targets/objects/obj\\_a1\\_Tany\\_\\_Astrocytes\\_sct               & \\textasciitilde{}0 + group & both    \\\\\n",
       "\t a1\\_Tany\\_\\_Astrocytes\\_sct\\_batchvar\\_all  & all & a1\\_Tany\\_\\_Astrocytes & bmp1\\_fgf1\\_mapped & \\_sct\\_batchvar\\_all  & obj\\_a1\\_Tany\\_\\_Astrocytes\\_sct\\_batchvar\\_all & /bmp1\\_milo/\\_targets/objects/obj\\_a1\\_Tany\\_\\_Astrocytes\\_sct\\_batchvar\\_all  & \\textasciitilde{}0 + group & both    \\\\\n",
       "\t a1\\_Tany\\_\\_Astrocytes\\_sct\\_batchvar\\_forb & all & a1\\_Tany\\_\\_Astrocytes & bmp1\\_fgf1\\_mapped & \\_sct\\_batchvar\\_forb & obj\\_a1\\_Tany\\_\\_Astrocytes\\_sct\\_batchvar\\_forb & /bmp1\\_milo/\\_targets/objects/obj\\_a1\\_Tany\\_\\_Astrocytes\\_sct\\_batchvar\\_forb & \\textasciitilde{}0 + group & both    \\\\\n",
       "\t a1\\_Tany\\_\\_Astrocytes\\_sct\\_forb          & all & a1\\_Tany\\_\\_Astrocytes & bmp1\\_fgf1\\_mapped & \\_sct\\_forb          & obj\\_a1\\_Tany\\_\\_Astrocytes\\_sct\\_forb & /bmp1\\_milo/\\_targets/objects/obj\\_a1\\_Tany\\_\\_Astrocytes\\_sct\\_forb          & \\textasciitilde{}0 + group & both    \\\\\n",
       "\t a1\\_Tany\\_\\_Astrocytes\\_unimod            & all & a1\\_Tany\\_\\_Astrocytes & bmp1\\_fgf1\\_mapped & \\_unimod            & obj\\_a1\\_Tany\\_\\_Astrocytes\\_unimod & /bmp1\\_milo/\\_targets/objects/obj\\_a1\\_Tany\\_\\_Astrocytes\\_unimod            & \\textasciitilde{}0 + group & both    \\\\\n",
       "\t a1\\_Tany\\_\\_Astrocytes\\_bmp\\_only          & all & a1\\_Tany\\_\\_Astrocytes & bmp1\\_only\\_mapped & \\_bmp\\_only          & obj\\_a1\\_Tany\\_\\_Astrocytes\\_bmp\\_only & /bmp1\\_milo/\\_targets/objects/obj\\_a1\\_Tany\\_\\_Astrocytes\\_bmp\\_only          & \\textasciitilde{}0 + group & bmp\\_only\\\\\n",
       "\\end{tabular}\n"
      ],
      "text/markdown": [
       "\n",
       "A tibble: 6 × 9\n",
       "\n",
       "| label &lt;chr&gt; | day &lt;chr&gt; | cluster &lt;chr&gt; | object &lt;list&gt; | suffix &lt;chr&gt; | seurat_obj &lt;list&gt; | milo_obj_path &lt;chr&gt; | formula_str &lt;chr&gt; | data_subset &lt;chr&gt; |\n",
       "|---|---|---|---|---|---|---|---|---|\n",
       "| a1_Tany__Astrocytes_sct               | all | a1_Tany__Astrocytes | bmp1_fgf1_mapped | _sct               | obj_a1_Tany__Astrocytes_sct | /bmp1_milo/_targets/objects/obj_a1_Tany__Astrocytes_sct               | ~0 + group | both     |\n",
       "| a1_Tany__Astrocytes_sct_batchvar_all  | all | a1_Tany__Astrocytes | bmp1_fgf1_mapped | _sct_batchvar_all  | obj_a1_Tany__Astrocytes_sct_batchvar_all | /bmp1_milo/_targets/objects/obj_a1_Tany__Astrocytes_sct_batchvar_all  | ~0 + group | both     |\n",
       "| a1_Tany__Astrocytes_sct_batchvar_forb | all | a1_Tany__Astrocytes | bmp1_fgf1_mapped | _sct_batchvar_forb | obj_a1_Tany__Astrocytes_sct_batchvar_forb | /bmp1_milo/_targets/objects/obj_a1_Tany__Astrocytes_sct_batchvar_forb | ~0 + group | both     |\n",
       "| a1_Tany__Astrocytes_sct_forb          | all | a1_Tany__Astrocytes | bmp1_fgf1_mapped | _sct_forb          | obj_a1_Tany__Astrocytes_sct_forb | /bmp1_milo/_targets/objects/obj_a1_Tany__Astrocytes_sct_forb          | ~0 + group | both     |\n",
       "| a1_Tany__Astrocytes_unimod            | all | a1_Tany__Astrocytes | bmp1_fgf1_mapped | _unimod            | obj_a1_Tany__Astrocytes_unimod | /bmp1_milo/_targets/objects/obj_a1_Tany__Astrocytes_unimod            | ~0 + group | both     |\n",
       "| a1_Tany__Astrocytes_bmp_only          | all | a1_Tany__Astrocytes | bmp1_only_mapped | _bmp_only          | obj_a1_Tany__Astrocytes_bmp_only | /bmp1_milo/_targets/objects/obj_a1_Tany__Astrocytes_bmp_only          | ~0 + group | bmp_only |\n",
       "\n"
      ],
      "text/plain": [
       "  label                                 day cluster            \n",
       "1 a1_Tany__Astrocytes_sct               all a1_Tany__Astrocytes\n",
       "2 a1_Tany__Astrocytes_sct_batchvar_all  all a1_Tany__Astrocytes\n",
       "3 a1_Tany__Astrocytes_sct_batchvar_forb all a1_Tany__Astrocytes\n",
       "4 a1_Tany__Astrocytes_sct_forb          all a1_Tany__Astrocytes\n",
       "5 a1_Tany__Astrocytes_unimod            all a1_Tany__Astrocytes\n",
       "6 a1_Tany__Astrocytes_bmp_only          all a1_Tany__Astrocytes\n",
       "  object           suffix             seurat_obj                               \n",
       "1 bmp1_fgf1_mapped _sct               obj_a1_Tany__Astrocytes_sct              \n",
       "2 bmp1_fgf1_mapped _sct_batchvar_all  obj_a1_Tany__Astrocytes_sct_batchvar_all \n",
       "3 bmp1_fgf1_mapped _sct_batchvar_forb obj_a1_Tany__Astrocytes_sct_batchvar_forb\n",
       "4 bmp1_fgf1_mapped _sct_forb          obj_a1_Tany__Astrocytes_sct_forb         \n",
       "5 bmp1_fgf1_mapped _unimod            obj_a1_Tany__Astrocytes_unimod           \n",
       "6 bmp1_only_mapped _bmp_only          obj_a1_Tany__Astrocytes_bmp_only         \n",
       "  milo_obj_path                                                        \n",
       "1 /bmp1_milo/_targets/objects/obj_a1_Tany__Astrocytes_sct              \n",
       "2 /bmp1_milo/_targets/objects/obj_a1_Tany__Astrocytes_sct_batchvar_all \n",
       "3 /bmp1_milo/_targets/objects/obj_a1_Tany__Astrocytes_sct_batchvar_forb\n",
       "4 /bmp1_milo/_targets/objects/obj_a1_Tany__Astrocytes_sct_forb         \n",
       "5 /bmp1_milo/_targets/objects/obj_a1_Tany__Astrocytes_unimod           \n",
       "6 /bmp1_milo/_targets/objects/obj_a1_Tany__Astrocytes_bmp_only         \n",
       "  formula_str data_subset\n",
       "1 ~0 + group  both       \n",
       "2 ~0 + group  both       \n",
       "3 ~0 + group  both       \n",
       "4 ~0 + group  both       \n",
       "5 ~0 + group  both       \n",
       "6 ~0 + group  bmp_only   "
      ]
     },
     "metadata": {},
     "output_type": "display_data"
    }
   ],
   "source": [
    "clusters_tibble = clusters_tibble %>%\n",
    "    mutate(milo_obj_path = paste0('/bmp1_milo/_targets/objects/obj_', label)) %>%\n",
    "    mutate(formula_str = \"~0 + group\") %>%\n",
    "    mutate(data_subset = case_when(suffix == '_bmp_only' ~ \"bmp_only\",\n",
    "                                   TRUE ~ 'both'))\n",
    "\n",
    "clusters_tibble %>% head"
   ]
  },
  {
   "cell_type": "code",
   "execution_count": 42,
   "id": "bd7c8886",
   "metadata": {},
   "outputs": [],
   "source": [
    "qs::qsave(clusters_tibble, 'milo_clusters_tibble_bmp1.qs')"
   ]
  },
  {
   "cell_type": "code",
   "execution_count": null,
   "id": "38b7c16e",
   "metadata": {},
   "outputs": [],
   "source": []
  }
 ],
 "metadata": {
  "kernelspec": {
   "display_name": "R [conda env:fgf1_ygg]",
   "language": "R",
   "name": "conda-env-fgf1_ygg-r"
  },
  "language_info": {
   "codemirror_mode": "r",
   "file_extension": ".r",
   "mimetype": "text/x-r-source",
   "name": "R",
   "pygments_lexer": "r",
   "version": "4.1.3"
  }
 },
 "nbformat": 4,
 "nbformat_minor": 5
}
